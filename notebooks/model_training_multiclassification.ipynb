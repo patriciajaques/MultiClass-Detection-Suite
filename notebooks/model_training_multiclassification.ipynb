{
 "cells": [
  {
   "cell_type": "code",
   "execution_count": 1,
   "metadata": {},
   "outputs": [
    {
     "name": "stdout",
     "output_type": "stream",
     "text": [
      "Intel MKL WARNING: Support of Intel(R) Streaming SIMD Extensions 4.2 (Intel(R) SSE4.2) enabled only processors has been deprecated. Intel oneAPI Math Kernel Library 2025.0 will require Intel(R) Advanced Vector Extensions (Intel(R) AVX) instructions.\n",
      "Intel MKL WARNING: Support of Intel(R) Streaming SIMD Extensions 4.2 (Intel(R) SSE4.2) enabled only processors has been deprecated. Intel oneAPI Math Kernel Library 2025.0 will require Intel(R) Advanced Vector Extensions (Intel(R) AVX) instructions.\n"
     ]
    }
   ],
   "source": [
    "import importlib\n",
    "\n",
    "import training\n",
    "import utils\n",
    "import training_constants as tc\n",
    "import preprocessing as pre\n",
    "# Avaliar e selecionar o melhor seletor de variáveis\n",
    "from sklearn.pipeline import Pipeline\n",
    "import feature_selection as fs\n",
    "import evaluation"
   ]
  },
  {
   "cell_type": "code",
   "execution_count": 2,
   "metadata": {},
   "outputs": [
    {
     "data": {
      "text/plain": [
       "<module 'evaluation' from '/Users/patricia/Documents/code/python/behavior-detection/src/evaluation.py'>"
      ]
     },
     "execution_count": 2,
     "metadata": {},
     "output_type": "execute_result"
    }
   ],
   "source": [
    "importlib.reload(training)\n",
    "importlib.reload(utils)\n",
    "importlib.reload(tc)\n",
    "importlib.reload(pre)\n",
    "importlib.reload(fs)\n",
    "importlib.reload(training)\n",
    "importlib.reload(evaluation)\n"
   ]
  },
  {
   "cell_type": "code",
   "execution_count": 3,
   "metadata": {},
   "outputs": [
    {
     "name": "stdout",
     "output_type": "stream",
     "text": [
      "Build Dependencies:\n",
      "  blas:\n",
      "    detection method: pkgconfig\n",
      "    found: true\n",
      "    include directory: /Users/patricia/anaconda3/envs/projetos_ML/include\n",
      "    lib directory: /Users/patricia/anaconda3/envs/projetos_ML/lib\n",
      "    name: mkl-sdl\n",
      "    openblas configuration: unknown\n",
      "    pc file directory: /Users/patricia/anaconda3/envs/projetos_ML/lib/pkgconfig\n",
      "    version: '2023.1'\n",
      "  lapack:\n",
      "    detection method: internal\n",
      "    found: true\n",
      "    include directory: unknown\n",
      "    lib directory: unknown\n",
      "    name: dep140221571962176\n",
      "    openblas configuration: unknown\n",
      "    pc file directory: unknown\n",
      "    version: 1.26.4\n",
      "Compilers:\n",
      "  c:\n",
      "    args: -march=core2, -mtune=haswell, -mssse3, -ftree-vectorize, -fPIC, -fPIE, -fstack-protector-strong,\n",
      "      -O2, -pipe, -isystem, /Users/patricia/anaconda3/envs/projetos_ML/include, -fdebug-prefix-map=/var/folders/c_/qfmhj66j0tn016nkx_th4hxm0000gp/T/abs_b7iptlxgej/croot/numpy_and_numpy_base_1708638622773/work=/usr/local/src/conda/numpy-base-1.26.4,\n",
      "      -fdebug-prefix-map=/Users/patricia/anaconda3/envs/projetos_ML=/usr/local/src/conda-prefix,\n",
      "      -D_FORTIFY_SOURCE=2, -isystem, /Users/patricia/anaconda3/envs/projetos_ML/include,\n",
      "      -mmacosx-version-min=10.9\n",
      "    commands: x86_64-apple-darwin13.4.0-clang\n",
      "    linker: ld64\n",
      "    linker args: -Wl,-pie, -Wl,-headerpad_max_install_names, -Wl,-dead_strip_dylibs,\n",
      "      -Wl,-rpath,/Users/patricia/anaconda3/envs/projetos_ML/lib, -L/Users/patricia/anaconda3/envs/projetos_ML/lib,\n",
      "      -march=core2, -mtune=haswell, -mssse3, -ftree-vectorize, -fPIC, -fPIE, -fstack-protector-strong,\n",
      "      -O2, -pipe, -isystem, /Users/patricia/anaconda3/envs/projetos_ML/include, -fdebug-prefix-map=/var/folders/c_/qfmhj66j0tn016nkx_th4hxm0000gp/T/abs_b7iptlxgej/croot/numpy_and_numpy_base_1708638622773/work=/usr/local/src/conda/numpy-base-1.26.4,\n",
      "      -fdebug-prefix-map=/Users/patricia/anaconda3/envs/projetos_ML=/usr/local/src/conda-prefix,\n",
      "      -D_FORTIFY_SOURCE=2, -isystem, /Users/patricia/anaconda3/envs/projetos_ML/include,\n",
      "      -mmacosx-version-min=10.9\n",
      "    name: clang\n",
      "    version: 14.0.6\n",
      "  c++:\n",
      "    args: -march=core2, -mtune=haswell, -mssse3, -ftree-vectorize, -fPIC, -fPIE, -fstack-protector-strong,\n",
      "      -O2, -pipe, -stdlib=libc++, -fvisibility-inlines-hidden, -fmessage-length=0,\n",
      "      -isystem, /Users/patricia/anaconda3/envs/projetos_ML/include, -fdebug-prefix-map=/var/folders/c_/qfmhj66j0tn016nkx_th4hxm0000gp/T/abs_b7iptlxgej/croot/numpy_and_numpy_base_1708638622773/work=/usr/local/src/conda/numpy-base-1.26.4,\n",
      "      -fdebug-prefix-map=/Users/patricia/anaconda3/envs/projetos_ML=/usr/local/src/conda-prefix,\n",
      "      -D_FORTIFY_SOURCE=2, -isystem, /Users/patricia/anaconda3/envs/projetos_ML/include,\n",
      "      -mmacosx-version-min=10.9\n",
      "    commands: x86_64-apple-darwin13.4.0-clang++\n",
      "    linker: ld64\n",
      "    linker args: -Wl,-pie, -Wl,-headerpad_max_install_names, -Wl,-dead_strip_dylibs,\n",
      "      -Wl,-rpath,/Users/patricia/anaconda3/envs/projetos_ML/lib, -L/Users/patricia/anaconda3/envs/projetos_ML/lib,\n",
      "      -march=core2, -mtune=haswell, -mssse3, -ftree-vectorize, -fPIC, -fPIE, -fstack-protector-strong,\n",
      "      -O2, -pipe, -stdlib=libc++, -fvisibility-inlines-hidden, -fmessage-length=0,\n",
      "      -isystem, /Users/patricia/anaconda3/envs/projetos_ML/include, -fdebug-prefix-map=/var/folders/c_/qfmhj66j0tn016nkx_th4hxm0000gp/T/abs_b7iptlxgej/croot/numpy_and_numpy_base_1708638622773/work=/usr/local/src/conda/numpy-base-1.26.4,\n",
      "      -fdebug-prefix-map=/Users/patricia/anaconda3/envs/projetos_ML=/usr/local/src/conda-prefix,\n",
      "      -D_FORTIFY_SOURCE=2, -isystem, /Users/patricia/anaconda3/envs/projetos_ML/include,\n",
      "      -mmacosx-version-min=10.9\n",
      "    name: clang\n",
      "    version: 14.0.6\n",
      "  cython:\n",
      "    commands: cython\n",
      "    linker: cython\n",
      "    name: cython\n",
      "    version: 3.0.8\n",
      "Machine Information:\n",
      "  build:\n",
      "    cpu: x86_64\n",
      "    endian: little\n",
      "    family: x86_64\n",
      "    system: darwin\n",
      "  host:\n",
      "    cpu: x86_64\n",
      "    endian: little\n",
      "    family: x86_64\n",
      "    system: darwin\n",
      "Python Information:\n",
      "  path: /Users/patricia/anaconda3/envs/projetos_ML/bin/python\n",
      "  version: '3.10'\n",
      "SIMD Extensions:\n",
      "  baseline:\n",
      "  - SSE\n",
      "  - SSE2\n",
      "  - SSE3\n",
      "  - SSSE3\n",
      "  found:\n",
      "  - SSE41\n",
      "  - POPCNT\n",
      "  - SSE42\n",
      "  not found:\n",
      "  - AVX\n",
      "  - F16C\n",
      "  - FMA3\n",
      "  - AVX2\n",
      "  - AVX512F\n",
      "  - AVX512CD\n",
      "  - AVX512_KNL\n",
      "  - AVX512_SKX\n",
      "  - AVX512_CLX\n",
      "  - AVX512_CNL\n",
      "  - AVX512_ICL\n",
      "\n"
     ]
    }
   ],
   "source": [
    "import os\n",
    "import warnings\n",
    "import numpy as np\n",
    "\n",
    "# Configurar variáveis de ambiente para não mostrar warning da Intel MKL\n",
    "os.environ[\"MKL_CBWR\"] = \"AUTO\"\n",
    "os.environ[\"MKL_VERBOSE\"] = \"0\"\n",
    "os.environ[\"NUMPY_MKL_ERROR\"] = \"IGNORE\"\n",
    "os.environ[\"MKL_SERVICE_FORCE_INTEL\"] = \"1\"\n",
    "os.environ[\"MKL_NUM_THREADS\"] = \"1\"\n",
    "os.environ[\"MKL_DYNAMIC\"] = \"FALSE\"\n",
    "os.environ[\"OMP_NUM_THREADS\"] = \"1\"\n",
    "os.environ[\"KMP_WARNINGS\"] = \"FALSE\"\n",
    "\n",
    "# Suprimir avisos de depreciação\n",
    "warnings.filterwarnings(\"ignore\", category=DeprecationWarning)"
   ]
  },
  {
   "cell_type": "code",
   "execution_count": 4,
   "metadata": {},
   "outputs": [
    {
     "name": "stdout",
     "output_type": "stream",
     "text": [
      "<class 'pandas.core.frame.DataFrame'>\n",
      "RangeIndex: 5525 entries, 0 to 5524\n",
      "Columns: 336 entries, id_log to misc_EqSec_OpFrac_MMC_MtNumerador_total\n",
      "dtypes: float64(82), int64(253), object(1)\n",
      "memory usage: 14.2+ MB\n",
      "<class 'pandas.core.series.Series'>\n",
      "RangeIndex: 5525 entries, 0 to 5524\n",
      "Series name: comportamento\n",
      "Non-Null Count  Dtype \n",
      "--------------  ----- \n",
      "5525 non-null   object\n",
      "dtypes: object(1)\n",
      "memory usage: 43.3+ KB\n"
     ]
    },
    {
     "data": {
      "text/plain": [
       "0    ON TASK\n",
       "1    ON TASK\n",
       "2    ON TASK\n",
       "3    ON TASK\n",
       "4    ON TASK\n",
       "Name: comportamento, dtype: object"
      ]
     },
     "execution_count": 4,
     "metadata": {},
     "output_type": "execute_result"
    }
   ],
   "source": [
    "X, y = pre.load_data(\"/Users/patricia/Documents/code/python/behavior-detection/data/new_logs_labels.csv\")\n",
    "y.head()"
   ]
  },
  {
   "cell_type": "code",
   "execution_count": 5,
   "metadata": {},
   "outputs": [
    {
     "name": "stdout",
     "output_type": "stream",
     "text": [
      "Tamanho do conjunto de treino: 4420\n",
      "Tamanho do conjunto de teste: 1105\n"
     ]
    }
   ],
   "source": [
    "test_size = 0.2  # 80% for training, 20% for testing\n",
    "X_train, X_test, y_train, y_test = pre.split_train_test_data(X, y, test_size, random_state=42)\n"
   ]
  },
  {
   "cell_type": "code",
   "execution_count": 6,
   "metadata": {},
   "outputs": [
    {
     "name": "stdout",
     "output_type": "stream",
     "text": [
      "Nro de instancias de cada classe em y_train e y_test:\n",
      "\n",
      "ON TASK                 2528\n",
      "ON SYSTEM                724\n",
      "OFF TASK                 497\n",
      "ON TASK CONVERSATION     335\n",
      "ON TASK OUT              304\n",
      "?                         32\n",
      "Name: count, dtype: int64\n",
      "ON TASK                 631\n",
      "ON SYSTEM               183\n",
      "OFF TASK                132\n",
      "ON TASK CONVERSATION     79\n",
      "ON TASK OUT              76\n",
      "?                         4\n",
      "Name: count, dtype: int64\n"
     ]
    }
   ],
   "source": [
    "import pandas as pd\n",
    "\n",
    "print(\"Nro de instancias de cada classe em y_train e y_test:\\n\")\n",
    "\n",
    "print(pd.Series(y_train).value_counts())\n",
    "print(pd.Series(y_test).value_counts())"
   ]
  },
  {
   "cell_type": "code",
   "execution_count": 7,
   "metadata": {},
   "outputs": [],
   "source": [
    "y_train, label_encoder = pre.encode_labels(y_train)\n",
    "y_test = label_encoder.transform(y_test)"
   ]
  },
  {
   "cell_type": "code",
   "execution_count": 8,
   "metadata": {},
   "outputs": [],
   "source": [
    "# Pré-processar os dados uma vez\n",
    "preprocessor = pre.create_preprocessor(X_train)\n",
    "X_train = preprocessor.fit_transform(X_train)"
   ]
  },
  {
   "cell_type": "code",
   "execution_count": 9,
   "metadata": {},
   "outputs": [],
   "source": [
    "best_selector, best_selector_name, selected_features = fs.evaluate_feature_selectors(X_train, y_train, n_features_to_select=10, n_components=10)\n",
    "\n",
    "# Exibir o melhor seletor e as características selecionadas\n",
    "print(f'O melhor seletor de variáveis é: {best_selector_name}')\n",
    "if selected_features is not None:\n",
    "    print('As características selecionadas são:')\n",
    "    print(selected_features)\n",
    "\n"
   ]
  },
  {
   "cell_type": "code",
   "execution_count": null,
   "metadata": {},
   "outputs": [],
   "source": [
    "# Adicionar o melhor seletor de variáveis no pipeline de treinamento\n",
    "base_pipeline = Pipeline([\n",
    "    ('feature_selection', best_selector)\n",
    "])"
   ]
  },
  {
   "cell_type": "code",
   "execution_count": null,
   "metadata": {},
   "outputs": [],
   "source": [
    "\n",
    "trained_models = training.train_model(X_train, y_train, tc.GRID_SEARCH, base_pipeline)"
   ]
  },
  {
   "cell_type": "code",
   "execution_count": null,
   "metadata": {},
   "outputs": [],
   "source": [
    "dirpath = \"/Users/patricia/Documents/code/python/behavior-detection/output/\"\n",
    "\n",
    "reports = evaluation.generate_reports(trained_models, X_train, y_train, X_test, y_test)\n",
    "print(evaluation.print_reports(reports, dirpath))\n",
    "evaluation.save_reports_to_csv(reports, dirpath)"
   ]
  }
 ],
 "metadata": {
  "kernelspec": {
   "display_name": "projetos_ML",
   "language": "python",
   "name": "python3"
  },
  "language_info": {
   "codemirror_mode": {
    "name": "ipython",
    "version": 3
   },
   "file_extension": ".py",
   "mimetype": "text/x-python",
   "name": "python",
   "nbconvert_exporter": "python",
   "pygments_lexer": "ipython3",
   "version": "3.10.14"
  }
 },
 "nbformat": 4,
 "nbformat_minor": 2
}
