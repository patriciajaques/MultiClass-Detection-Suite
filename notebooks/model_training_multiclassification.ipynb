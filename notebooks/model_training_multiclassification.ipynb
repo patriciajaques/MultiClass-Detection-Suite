{
 "cells": [
  {
   "cell_type": "code",
   "execution_count": 9,
   "metadata": {},
   "outputs": [],
   "source": [
    "import importlib\n",
    "\n",
    "import training\n",
    "import utils\n",
    "import training_constants as tc\n",
    "from preprocessing import encode_labels, load_data, split_train_test_data"
   ]
  },
  {
   "cell_type": "code",
   "execution_count": 10,
   "metadata": {},
   "outputs": [
    {
     "data": {
      "text/plain": [
       "<module 'utils' from '/Users/patricia/Documents/code/python/behavior-detection/scripts/utils.py'>"
      ]
     },
     "execution_count": 10,
     "metadata": {},
     "output_type": "execute_result"
    }
   ],
   "source": [
    "importlib.reload(training)\n",
    "importlib.reload(utils)"
   ]
  },
  {
   "cell_type": "code",
   "execution_count": 11,
   "metadata": {},
   "outputs": [
    {
     "name": "stdout",
     "output_type": "stream",
     "text": [
      "<class 'pandas.core.frame.DataFrame'>\n",
      "RangeIndex: 5525 entries, 0 to 5524\n",
      "Columns: 336 entries, id_log to misc_EqSec_OpFrac_MMC_MtNumerador_total\n",
      "dtypes: float64(82), int64(253), object(1)\n",
      "memory usage: 14.2+ MB\n",
      "<class 'pandas.core.series.Series'>\n",
      "RangeIndex: 5525 entries, 0 to 5524\n",
      "Series name: comportamento\n",
      "Non-Null Count  Dtype \n",
      "--------------  ----- \n",
      "5525 non-null   object\n",
      "dtypes: object(1)\n",
      "memory usage: 43.3+ KB\n"
     ]
    },
    {
     "data": {
      "text/plain": [
       "0    ON TASK\n",
       "1    ON TASK\n",
       "2    ON TASK\n",
       "3    ON TASK\n",
       "4    ON TASK\n",
       "Name: comportamento, dtype: object"
      ]
     },
     "execution_count": 11,
     "metadata": {},
     "output_type": "execute_result"
    }
   ],
   "source": [
    "X, y = load_data()\n",
    "y.head()"
   ]
  },
  {
   "cell_type": "code",
   "execution_count": 12,
   "metadata": {},
   "outputs": [
    {
     "name": "stdout",
     "output_type": "stream",
     "text": [
      "Tamanho do conjunto de treino: 3867\n",
      "Tamanho do conjunto de teste: 1658\n"
     ]
    }
   ],
   "source": [
    "X_train, X_test, y_train, y_test = split_train_test_data(X, y)\n"
   ]
  },
  {
   "cell_type": "code",
   "execution_count": 13,
   "metadata": {},
   "outputs": [],
   "source": [
    "y_train, label_encoder = encode_labels(y_train)\n",
    "y_test = label_encoder.transform(y_test)\n"
   ]
  },
  {
   "cell_type": "code",
   "execution_count": 14,
   "metadata": {},
   "outputs": [
    {
     "name": "stdout",
     "output_type": "stream",
     "text": [
      "\n",
      "Training and evaluating Decision Tree with Cross-Validation:\n",
      "Cross-Validation Best Result for Decision Tree: 0.712425452177685\n",
      "\n",
      "Training and evaluating Random Forest with Cross-Validation:\n",
      "Cross-Validation Best Result for Random Forest: 0.7516288886805983\n",
      "\n",
      "Training and evaluating Gradient Boosting with Cross-Validation:\n",
      "Cross-Validation Best Result for Gradient Boosting: 0.6754304409234583\n",
      "\n",
      "Training and evaluating XGBoost with Cross-Validation:\n",
      "Cross-Validation Best Result for XGBoost: 0.7009606054331514\n"
     ]
    }
   ],
   "source": [
    "trained_models = training.train_model(X_train, y_train, tc.CROSS_VALIDATION)"
   ]
  },
  {
   "cell_type": "code",
   "execution_count": 19,
   "metadata": {},
   "outputs": [],
   "source": [
    "trained_models = results"
   ]
  },
  {
   "cell_type": "code",
   "execution_count": 21,
   "metadata": {},
   "outputs": [
    {
     "name": "stdout",
     "output_type": "stream",
     "text": [
      "\n",
      "Evaluating Decision Tree:\n",
      "\n",
      "Training set report:\n",
      "Class 0 - Precision: 1.0, Recall: 1.0, F1-Score: 1.0, Support: 17.0\n",
      "Class 1 - Precision: 1.0, Recall: 1.0, F1-Score: 1.0, Support: 434.0\n",
      "Class 2 - Precision: 1.0, Recall: 1.0, F1-Score: 1.0, Support: 637.0\n",
      "Class 3 - Precision: 1.0, Recall: 1.0, F1-Score: 1.0, Support: 2231.0\n",
      "Class 4 - Precision: 1.0, Recall: 1.0, F1-Score: 1.0, Support: 285.0\n",
      "Class 5 - Precision: 1.0, Recall: 1.0, F1-Score: 1.0, Support: 263.0\n",
      "Accuracy - F1-Score: 1.0\n",
      "Class macro avg - Precision: 1.0, Recall: 1.0, F1-Score: 1.0, Support: 3867.0\n",
      "Class weighted avg - Precision: 1.0, Recall: 1.0, F1-Score: 1.0, Support: 3867.0\n",
      "Balanced Accuracy: 1.0\n",
      "\n",
      "Test set report:\n",
      "Class 0 - Precision: 0.92, Recall: 0.58, F1-Score: 0.71, Support: 19.0\n",
      "Class 1 - Precision: 0.7, Recall: 0.68, F1-Score: 0.69, Support: 195.0\n",
      "Class 2 - Precision: 0.76, Recall: 0.77, F1-Score: 0.77, Support: 270.0\n",
      "Class 3 - Precision: 0.87, Recall: 0.87, F1-Score: 0.87, Support: 928.0\n",
      "Class 4 - Precision: 0.86, Recall: 0.77, F1-Score: 0.81, Support: 129.0\n",
      "Class 5 - Precision: 0.7, Recall: 0.83, F1-Score: 0.76, Support: 117.0\n",
      "Accuracy - F1-Score: 0.82\n",
      "Class macro avg - Precision: 0.8, Recall: 0.75, F1-Score: 0.77, Support: 1658.0\n",
      "Class weighted avg - Precision: 0.82, Recall: 0.82, F1-Score: 0.82, Support: 1658.0\n",
      "Balanced Accuracy: 0.75\n",
      "\n",
      "Evaluating Random Forest:\n",
      "\n",
      "Training set report:\n",
      "Class 0 - Precision: 1.0, Recall: 1.0, F1-Score: 1.0, Support: 17.0\n",
      "Class 1 - Precision: 1.0, Recall: 1.0, F1-Score: 1.0, Support: 434.0\n",
      "Class 2 - Precision: 1.0, Recall: 1.0, F1-Score: 1.0, Support: 637.0\n",
      "Class 3 - Precision: 1.0, Recall: 1.0, F1-Score: 1.0, Support: 2231.0\n",
      "Class 4 - Precision: 1.0, Recall: 1.0, F1-Score: 1.0, Support: 285.0\n",
      "Class 5 - Precision: 1.0, Recall: 1.0, F1-Score: 1.0, Support: 263.0\n",
      "Accuracy - F1-Score: 1.0\n",
      "Class macro avg - Precision: 1.0, Recall: 1.0, F1-Score: 1.0, Support: 3867.0\n",
      "Class weighted avg - Precision: 1.0, Recall: 1.0, F1-Score: 1.0, Support: 3867.0\n",
      "Balanced Accuracy: 1.0\n",
      "\n",
      "Test set report:\n",
      "Class 0 - Precision: 1.0, Recall: 0.53, F1-Score: 0.69, Support: 19.0\n",
      "Class 1 - Precision: 0.84, Recall: 0.73, F1-Score: 0.78, Support: 195.0\n",
      "Class 2 - Precision: 0.87, Recall: 0.84, F1-Score: 0.85, Support: 270.0\n",
      "Class 3 - Precision: 0.9, Recall: 0.93, F1-Score: 0.92, Support: 928.0\n",
      "Class 4 - Precision: 0.88, Recall: 0.89, F1-Score: 0.89, Support: 129.0\n",
      "Class 5 - Precision: 0.85, Recall: 0.92, F1-Score: 0.89, Support: 117.0\n",
      "Accuracy - F1-Score: 0.89\n",
      "Class macro avg - Precision: 0.89, Recall: 0.81, F1-Score: 0.84, Support: 1658.0\n",
      "Class weighted avg - Precision: 0.89, Recall: 0.89, F1-Score: 0.88, Support: 1658.0\n",
      "Balanced Accuracy: 0.81\n",
      "\n",
      "Evaluating Gradient Boosting:\n",
      "\n",
      "Training set report:\n",
      "Class 0 - Precision: 1.0, Recall: 1.0, F1-Score: 1.0, Support: 17.0\n",
      "Class 1 - Precision: 0.95, Recall: 0.7, F1-Score: 0.8, Support: 434.0\n",
      "Class 2 - Precision: 0.92, Recall: 0.87, F1-Score: 0.89, Support: 637.0\n",
      "Class 3 - Precision: 0.9, Recall: 0.98, F1-Score: 0.94, Support: 2231.0\n",
      "Class 4 - Precision: 0.97, Recall: 0.93, F1-Score: 0.95, Support: 285.0\n",
      "Class 5 - Precision: 0.94, Recall: 0.84, F1-Score: 0.89, Support: 263.0\n",
      "Accuracy - F1-Score: 0.91\n",
      "Class macro avg - Precision: 0.95, Recall: 0.88, F1-Score: 0.91, Support: 3867.0\n",
      "Class weighted avg - Precision: 0.92, Recall: 0.91, F1-Score: 0.91, Support: 3867.0\n",
      "Balanced Accuracy: 0.88\n",
      "\n",
      "Test set report:\n",
      "Class 0 - Precision: 0.75, Recall: 0.47, F1-Score: 0.58, Support: 19.0\n",
      "Class 1 - Precision: 0.84, Recall: 0.55, F1-Score: 0.67, Support: 195.0\n",
      "Class 2 - Precision: 0.82, Recall: 0.78, F1-Score: 0.8, Support: 270.0\n",
      "Class 3 - Precision: 0.83, Recall: 0.95, F1-Score: 0.88, Support: 928.0\n",
      "Class 4 - Precision: 0.88, Recall: 0.78, F1-Score: 0.82, Support: 129.0\n",
      "Class 5 - Precision: 0.77, Recall: 0.58, F1-Score: 0.66, Support: 117.0\n",
      "Accuracy - F1-Score: 0.83\n",
      "Class macro avg - Precision: 0.81, Recall: 0.68, F1-Score: 0.74, Support: 1658.0\n",
      "Class weighted avg - Precision: 0.83, Recall: 0.83, F1-Score: 0.82, Support: 1658.0\n",
      "Balanced Accuracy: 0.68\n",
      "\n",
      "Evaluating XGBoost:\n",
      "\n",
      "Training set report:\n",
      "Class 0 - Precision: 1.0, Recall: 1.0, F1-Score: 1.0, Support: 17.0\n",
      "Class 1 - Precision: 1.0, Recall: 1.0, F1-Score: 1.0, Support: 434.0\n",
      "Class 2 - Precision: 1.0, Recall: 1.0, F1-Score: 1.0, Support: 637.0\n",
      "Class 3 - Precision: 1.0, Recall: 1.0, F1-Score: 1.0, Support: 2231.0\n",
      "Class 4 - Precision: 1.0, Recall: 1.0, F1-Score: 1.0, Support: 285.0\n",
      "Class 5 - Precision: 1.0, Recall: 1.0, F1-Score: 1.0, Support: 263.0\n",
      "Accuracy - F1-Score: 1.0\n",
      "Class macro avg - Precision: 1.0, Recall: 1.0, F1-Score: 1.0, Support: 3867.0\n",
      "Class weighted avg - Precision: 1.0, Recall: 1.0, F1-Score: 1.0, Support: 3867.0\n",
      "Balanced Accuracy: 1.0\n",
      "\n",
      "Test set report:\n",
      "Class 0 - Precision: 0.8, Recall: 0.21, F1-Score: 0.33, Support: 19.0\n",
      "Class 1 - Precision: 0.84, Recall: 0.71, F1-Score: 0.77, Support: 195.0\n",
      "Class 2 - Precision: 0.87, Recall: 0.91, F1-Score: 0.89, Support: 270.0\n",
      "Class 3 - Precision: 0.91, Recall: 0.94, F1-Score: 0.92, Support: 928.0\n",
      "Class 4 - Precision: 0.88, Recall: 0.88, F1-Score: 0.88, Support: 129.0\n",
      "Class 5 - Precision: 0.81, Recall: 0.85, F1-Score: 0.83, Support: 117.0\n",
      "Accuracy - F1-Score: 0.89\n",
      "Class macro avg - Precision: 0.85, Recall: 0.75, F1-Score: 0.77, Support: 1658.0\n",
      "Class weighted avg - Precision: 0.88, Recall: 0.89, F1-Score: 0.88, Support: 1658.0\n",
      "Balanced Accuracy: 0.75\n",
      "\n"
     ]
    }
   ],
   "source": [
    "import evaluation\n",
    "import importlib\n",
    "\n",
    "importlib.reload(evaluation)\n",
    "dirpath = \"/Users/patricia/Documents/code/python/behavior-detection/output/\"\n",
    "\n",
    "reports = evaluation.generate_reports(trained_models, X_train, y_train, X_test, y_test)\n",
    "print(evaluation.print_reports(reports, dirpath))\n",
    "evaluation.save_reports_to_csv(reports, dirpath)"
   ]
  }
 ],
 "metadata": {
  "kernelspec": {
   "display_name": "projetos_ML",
   "language": "python",
   "name": "python3"
  },
  "language_info": {
   "codemirror_mode": {
    "name": "ipython",
    "version": 3
   },
   "file_extension": ".py",
   "mimetype": "text/x-python",
   "name": "python",
   "nbconvert_exporter": "python",
   "pygments_lexer": "ipython3",
   "version": "3.10.14"
  }
 },
 "nbformat": 4,
 "nbformat_minor": 2
}
