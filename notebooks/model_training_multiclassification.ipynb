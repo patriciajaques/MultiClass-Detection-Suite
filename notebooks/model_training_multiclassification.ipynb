{
 "cells": [
  {
   "cell_type": "code",
   "execution_count": 1,
   "metadata": {},
   "outputs": [],
   "source": [
    "import sys\n",
    "import os\n",
    "\n",
    "# Adicione o caminho ao sys.path\n",
    "module_path = os.path.abspath(os.path.join('..', 'src'))\n",
    "if module_path not in sys.path:\n",
    "    sys.path.append(module_path)"
   ]
  },
  {
   "cell_type": "code",
   "execution_count": 2,
   "metadata": {},
   "outputs": [],
   "source": [
    "import training\n",
    "import training_constants as tc\n",
    "import preprocessing as pre\n",
    "from sklearn.pipeline import Pipeline\n",
    "import feature_selection as fs\n",
    "import evaluation"
   ]
  },
  {
   "cell_type": "code",
   "execution_count": 4,
   "metadata": {},
   "outputs": [
    {
     "name": "stdout",
     "output_type": "stream",
     "text": [
      "<class 'pandas.core.frame.DataFrame'>\n",
      "Index: 5489 entries, 0 to 5524\n",
      "Columns: 336 entries, id_log to misc_EqSec_OpFrac_MMC_MtNumerador_total\n",
      "dtypes: float64(82), int64(253), object(1)\n",
      "memory usage: 14.1+ MB\n",
      "<class 'pandas.core.series.Series'>\n",
      "Index: 5489 entries, 0 to 5524\n",
      "Series name: comportamento\n",
      "Non-Null Count  Dtype \n",
      "--------------  ----- \n",
      "5489 non-null   object\n",
      "dtypes: object(1)\n",
      "memory usage: 85.8+ KB\n"
     ]
    },
    {
     "data": {
      "text/plain": [
       "0    ON TASK\n",
       "1    ON TASK\n",
       "2    ON TASK\n",
       "3    ON TASK\n",
       "4    ON TASK\n",
       "Name: comportamento, dtype: object"
      ]
     },
     "execution_count": 4,
     "metadata": {},
     "output_type": "execute_result"
    }
   ],
   "source": [
    "# No notebook\n",
    "data_path = '../data/new_logs_labels.csv'\n",
    "X, y = pre.load_data(data_path)\n",
    "y.head()"
   ]
  },
  {
   "cell_type": "code",
   "execution_count": 5,
   "metadata": {},
   "outputs": [
    {
     "name": "stdout",
     "output_type": "stream",
     "text": [
      "Tamanho do conjunto de treino: 4391\n",
      "Tamanho do conjunto de teste: 1098\n"
     ]
    }
   ],
   "source": [
    "test_size = 0.2  # 80% for training, 20% for testing\n",
    "X_train, X_test, y_train, y_test = pre.split_train_test_data(X, y, test_size, random_state=42)\n"
   ]
  },
  {
   "cell_type": "code",
   "execution_count": 6,
   "metadata": {},
   "outputs": [
    {
     "name": "stdout",
     "output_type": "stream",
     "text": [
      "Nro de instancias de cada classe em y_train:\n",
      "\n",
      "ON TASK                 2553\n",
      "ON SYSTEM                721\n",
      "OFF TASK                 495\n",
      "ON TASK CONVERSATION     321\n",
      "ON TASK OUT              301\n",
      "Name: count, dtype: int64\n",
      "\n",
      "\n",
      "Nro de instancias de cada classe em y_test:\n",
      "\n",
      "ON TASK                 606\n",
      "ON SYSTEM               186\n",
      "OFF TASK                134\n",
      "ON TASK CONVERSATION     93\n",
      "ON TASK OUT              79\n",
      "Name: count, dtype: int64\n"
     ]
    }
   ],
   "source": [
    "import pandas as pd\n",
    "\n",
    "print(\"Nro de instancias de cada classe em y_train:\\n\")\n",
    "print(pd.Series(y_train).value_counts())\n",
    "print(\"\\n\\nNro de instancias de cada classe em y_test:\\n\")\n",
    "print(pd.Series(y_test).value_counts())"
   ]
  },
  {
   "cell_type": "code",
   "execution_count": 7,
   "metadata": {},
   "outputs": [],
   "source": [
    "y_train, label_encoder = pre.encode_labels(y_train)\n",
    "y_test = label_encoder.transform(y_test)"
   ]
  },
  {
   "cell_type": "code",
   "execution_count": 8,
   "metadata": {},
   "outputs": [],
   "source": [
    "# Pré-processar os dados uma vez\n",
    "preprocessor = pre.create_preprocessor(X_train)\n",
    "X_train_preprocessed = preprocessor.fit_transform(X_train)\n",
    "X_test_preprocessed = preprocessor.transform(X_test)"
   ]
  },
  {
   "cell_type": "code",
   "execution_count": 9,
   "metadata": {},
   "outputs": [
    {
     "name": "stdout",
     "output_type": "stream",
     "text": [
      "[[0.65819387 0.75862069 0.77777778 ... 0.         0.         0.        ]\n",
      " [0.99729108 0.68965517 0.55555556 ... 1.         0.         0.        ]\n",
      " [0.99854326 0.89655172 0.         ... 1.         0.         0.        ]\n",
      " [0.99462421 0.20689655 0.88888889 ... 1.         0.         0.        ]\n",
      " [0.99504288 0.27586207 1.         ... 1.         0.         0.        ]]\n"
     ]
    }
   ],
   "source": [
    "print(X_train_preprocessed[:5])"
   ]
  },
  {
   "cell_type": "code",
   "execution_count": 10,
   "metadata": {},
   "outputs": [
    {
     "name": "stdout",
     "output_type": "stream",
     "text": [
      "(4391, 346)\n",
      "               0            1            2            3            4    \\\n",
      "count  4391.000000  4391.000000  4391.000000  4391.000000  4391.000000   \n",
      "mean      0.781210     0.495080     0.498823     0.494901     0.329507   \n",
      "std       0.311243     0.296815     0.322054     0.316759     0.199229   \n",
      "min       0.000000     0.000000     0.000000     0.000000     0.000000   \n",
      "25%       0.576877     0.241379     0.222222     0.222222     0.160142   \n",
      "50%       0.994437     0.482759     0.444444     0.444444     0.323843   \n",
      "75%       0.997089     0.758621     0.777778     0.777778     0.485765   \n",
      "max       1.000000     1.000000     1.000000     1.000000     1.000000   \n",
      "\n",
      "               5            6            7            8            9    ...  \\\n",
      "count  4391.000000  4391.000000  4391.000000  4391.000000  4391.000000  ...   \n",
      "mean      0.053974     0.003872     0.066044     0.044669     0.028543  ...   \n",
      "std       0.225992     0.062108     0.248388     0.099459     0.088200  ...   \n",
      "min       0.000000     0.000000     0.000000     0.000000     0.000000  ...   \n",
      "25%       0.000000     0.000000     0.000000     0.000000     0.000000  ...   \n",
      "50%       0.000000     0.000000     0.000000     0.009091     0.000000  ...   \n",
      "75%       0.000000     0.000000     0.000000     0.045455     0.000000  ...   \n",
      "max       1.000000     1.000000     1.000000     1.000000     1.000000  ...   \n",
      "\n",
      "               336          337          338          339          340  \\\n",
      "count  4391.000000  4391.000000  4391.000000  4391.000000  4391.000000   \n",
      "mean      0.002733     0.000228     0.002050     0.009565     0.135732   \n",
      "std       0.052211     0.015091     0.045232     0.097343     0.342543   \n",
      "min       0.000000     0.000000     0.000000     0.000000     0.000000   \n",
      "25%       0.000000     0.000000     0.000000     0.000000     0.000000   \n",
      "50%       0.000000     0.000000     0.000000     0.000000     0.000000   \n",
      "75%       0.000000     0.000000     0.000000     0.000000     0.000000   \n",
      "max       1.000000     1.000000     1.000000     1.000000     1.000000   \n",
      "\n",
      "               341          342          343          344          345  \n",
      "count  4391.000000  4391.000000  4391.000000  4391.000000  4391.000000  \n",
      "mean      0.069688     0.030972     0.610567     0.000683     0.000683  \n",
      "std       0.254649     0.173263     0.487677     0.026132     0.026132  \n",
      "min       0.000000     0.000000     0.000000     0.000000     0.000000  \n",
      "25%       0.000000     0.000000     0.000000     0.000000     0.000000  \n",
      "50%       0.000000     0.000000     1.000000     0.000000     0.000000  \n",
      "75%       0.000000     0.000000     1.000000     0.000000     0.000000  \n",
      "max       1.000000     1.000000     1.000000     1.000000     1.000000  \n",
      "\n",
      "[8 rows x 346 columns]\n"
     ]
    }
   ],
   "source": [
    "print(X_train_preprocessed.shape)\n",
    "import pandas as pd\n",
    "\n",
    "# Supondo que 'X_train_preprocessed' seja seu numpy.ndarray\n",
    "df = pd.DataFrame(X_train_preprocessed)\n",
    "\n",
    "# Agora você pode chamar .describe() no DataFrame\n",
    "print(df.describe())"
   ]
  },
  {
   "cell_type": "code",
   "execution_count": 11,
   "metadata": {},
   "outputs": [
    {
     "name": "stdout",
     "output_type": "stream",
     "text": [
      "y_train:  [1 2 2 0 2]\n"
     ]
    }
   ],
   "source": [
    "print(\"y_train: \", y_train[:5])"
   ]
  },
  {
   "cell_type": "code",
   "execution_count": 12,
   "metadata": {},
   "outputs": [
    {
     "name": "stdout",
     "output_type": "stream",
     "text": [
      "Best selector: rfe with params: {'feature_selection__n_features_to_select': 40} and score: 0.8375007660255381\n",
      "Best selector: RFE(estimator=RandomForestClassifier(random_state=42), n_features_to_select=40)\n",
      "Best params: {'feature_selection__n_features_to_select': 40}\n",
      "Best score: 0.8375007660255381\n",
      "Best number of features: None\n"
     ]
    }
   ],
   "source": [
    "# Creating selectors dynamically\n",
    "selectors = fs.create_selectors_from_map(X_train_preprocessed, y_train, fs.SELECTOR_MAP)\n",
    "    \n",
    "best_selector, best_name, best_params, best_score = fs.evaluate_multiple_feature_selectors_with_search(X_train_preprocessed, y_train, selectors, cv=10)\n",
    "print(f\"Best selector: {best_name} with params: {best_params} and score: {best_score}\")\n",
    "\n",
    "print(f\"Best selector: {best_selector}\")\n",
    "print(f\"Best params: {best_params}\")\n",
    "print(f\"Best score: {best_score}\")\n",
    "\n",
    "# Extrair o melhor número de features\n",
    "if 'feature_selection__n_features' in best_params:\n",
    "    n_features_to_select = best_params['feature_selection__n_features']\n",
    "elif 'feature_selection__n_components' in best_params:\n",
    "    n_features_to_select = best_params['feature_selection__n_components']\n",
    "else:\n",
    "    n_features_to_select = None  # Outros métodos podem não ter n_features\n",
    "\n",
    "print(f\"Best number of features: {n_features_to_select}\")\n"
   ]
  },
  {
   "cell_type": "code",
   "execution_count": 13,
   "metadata": {},
   "outputs": [],
   "source": [
    "# Adicionar o melhor seletor de variáveis no pipeline de treinamento\n",
    "base_pipeline = Pipeline([\n",
    "    ('feature_selection', best_selector)\n",
    "])"
   ]
  },
  {
   "cell_type": "code",
   "execution_count": 14,
   "metadata": {},
   "outputs": [
    {
     "name": "stdout",
     "output_type": "stream",
     "text": [
      "\n",
      "Training and evaluating Decision Tree with Bayesian Optimization:\n"
     ]
    },
    {
     "name": "stderr",
     "output_type": "stream",
     "text": [
      "/opt/anaconda3/envs/projetos_ML/lib/python3.11/site-packages/skopt/optimizer/optimizer.py:517: UserWarning: The objective has been evaluated at point [30, 1, 2] before, using random point [5, 8, 3]\n",
      "  warnings.warn(\n",
      "/opt/anaconda3/envs/projetos_ML/lib/python3.11/site-packages/skopt/optimizer/optimizer.py:517: UserWarning: The objective has been evaluated at point [30, 1, 2] before, using random point [20, 7, 19]\n",
      "  warnings.warn(\n",
      "/opt/anaconda3/envs/projetos_ML/lib/python3.11/site-packages/skopt/optimizer/optimizer.py:517: UserWarning: The objective has been evaluated at point [30, 1, 2] before, using random point [3, 7, 20]\n",
      "  warnings.warn(\n",
      "/opt/anaconda3/envs/projetos_ML/lib/python3.11/site-packages/skopt/optimizer/optimizer.py:517: UserWarning: The objective has been evaluated at point [30, 1, 2] before, using random point [30, 8, 7]\n",
      "  warnings.warn(\n",
      "/opt/anaconda3/envs/projetos_ML/lib/python3.11/site-packages/skopt/optimizer/optimizer.py:517: UserWarning: The objective has been evaluated at point [30, 1, 2] before, using random point [30, 5, 11]\n",
      "  warnings.warn(\n",
      "/opt/anaconda3/envs/projetos_ML/lib/python3.11/site-packages/skopt/optimizer/optimizer.py:517: UserWarning: The objective has been evaluated at point [30, 1, 2] before, using random point [5, 3, 6]\n",
      "  warnings.warn(\n",
      "/opt/anaconda3/envs/projetos_ML/lib/python3.11/site-packages/skopt/optimizer/optimizer.py:517: UserWarning: The objective has been evaluated at point [30, 1, 2] before, using random point [5, 1, 12]\n",
      "  warnings.warn(\n",
      "/opt/anaconda3/envs/projetos_ML/lib/python3.11/site-packages/skopt/optimizer/optimizer.py:517: UserWarning: The objective has been evaluated at point [30, 1, 2] before, using random point [30, 7, 13]\n",
      "  warnings.warn(\n",
      "/opt/anaconda3/envs/projetos_ML/lib/python3.11/site-packages/skopt/optimizer/optimizer.py:517: UserWarning: The objective has been evaluated at point [30, 1, 2] before, using random point [10, 3, 14]\n",
      "  warnings.warn(\n",
      "/opt/anaconda3/envs/projetos_ML/lib/python3.11/site-packages/skopt/optimizer/optimizer.py:517: UserWarning: The objective has been evaluated at point [30, 1, 2] before, using random point [30, 3, 14]\n",
      "  warnings.warn(\n",
      "/opt/anaconda3/envs/projetos_ML/lib/python3.11/site-packages/skopt/optimizer/optimizer.py:517: UserWarning: The objective has been evaluated at point [30, 1, 2] before, using random point [10, 4, 12]\n",
      "  warnings.warn(\n",
      "/opt/anaconda3/envs/projetos_ML/lib/python3.11/site-packages/skopt/optimizer/optimizer.py:517: UserWarning: The objective has been evaluated at point [30, 1, 2] before, using random point [20, 1, 9]\n",
      "  warnings.warn(\n",
      "/opt/anaconda3/envs/projetos_ML/lib/python3.11/site-packages/skopt/optimizer/optimizer.py:517: UserWarning: The objective has been evaluated at point [30, 1, 2] before, using random point [None, 4, 13]\n",
      "  warnings.warn(\n",
      "/opt/anaconda3/envs/projetos_ML/lib/python3.11/site-packages/skopt/optimizer/optimizer.py:517: UserWarning: The objective has been evaluated at point [30, 1, 2] before, using random point [None, 7, 9]\n",
      "  warnings.warn(\n",
      "/opt/anaconda3/envs/projetos_ML/lib/python3.11/site-packages/skopt/optimizer/optimizer.py:517: UserWarning: The objective has been evaluated at point [30, 1, 2] before, using random point [3, 5, 4]\n",
      "  warnings.warn(\n",
      "/opt/anaconda3/envs/projetos_ML/lib/python3.11/site-packages/skopt/optimizer/optimizer.py:517: UserWarning: The objective has been evaluated at point [30, 1, 2] before, using random point [None, 1, 5]\n",
      "  warnings.warn(\n",
      "/opt/anaconda3/envs/projetos_ML/lib/python3.11/site-packages/skopt/optimizer/optimizer.py:517: UserWarning: The objective has been evaluated at point [30, 1, 2] before, using random point [5, 4, 13]\n",
      "  warnings.warn(\n",
      "/opt/anaconda3/envs/projetos_ML/lib/python3.11/site-packages/skopt/optimizer/optimizer.py:517: UserWarning: The objective has been evaluated at point [30, 1, 2] before, using random point [3, 4, 3]\n",
      "  warnings.warn(\n",
      "/opt/anaconda3/envs/projetos_ML/lib/python3.11/site-packages/skopt/optimizer/optimizer.py:517: UserWarning: The objective has been evaluated at point [30, 1, 2] before, using random point [None, 9, 6]\n",
      "  warnings.warn(\n",
      "/opt/anaconda3/envs/projetos_ML/lib/python3.11/site-packages/skopt/optimizer/optimizer.py:517: UserWarning: The objective has been evaluated at point [30, 1, 2] before, using random point [10, 3, 7]\n",
      "  warnings.warn(\n",
      "/opt/anaconda3/envs/projetos_ML/lib/python3.11/site-packages/skopt/optimizer/optimizer.py:517: UserWarning: The objective has been evaluated at point [30, 1, 2] before, using random point [10, 3, 15]\n",
      "  warnings.warn(\n",
      "/opt/anaconda3/envs/projetos_ML/lib/python3.11/site-packages/skopt/optimizer/optimizer.py:517: UserWarning: The objective has been evaluated at point [30, 1, 2] before, using random point [3, 8, 17]\n",
      "  warnings.warn(\n",
      "/opt/anaconda3/envs/projetos_ML/lib/python3.11/site-packages/skopt/optimizer/optimizer.py:517: UserWarning: The objective has been evaluated at point [30, 1, 2] before, using random point [20, 3, 15]\n",
      "  warnings.warn(\n",
      "/opt/anaconda3/envs/projetos_ML/lib/python3.11/site-packages/skopt/optimizer/optimizer.py:517: UserWarning: The objective has been evaluated at point [30, 1, 2] before, using random point [None, 7, 15]\n",
      "  warnings.warn(\n",
      "/opt/anaconda3/envs/projetos_ML/lib/python3.11/site-packages/skopt/optimizer/optimizer.py:517: UserWarning: The objective has been evaluated at point [30, 1, 2] before, using random point [5, 6, 7]\n",
      "  warnings.warn(\n",
      "/opt/anaconda3/envs/projetos_ML/lib/python3.11/site-packages/skopt/optimizer/optimizer.py:517: UserWarning: The objective has been evaluated at point [30, 1, 2] before, using random point [10, 6, 15]\n",
      "  warnings.warn(\n",
      "/opt/anaconda3/envs/projetos_ML/lib/python3.11/site-packages/skopt/optimizer/optimizer.py:517: UserWarning: The objective has been evaluated at point [30, 1, 2] before, using random point [5, 5, 7]\n",
      "  warnings.warn(\n",
      "/opt/anaconda3/envs/projetos_ML/lib/python3.11/site-packages/skopt/optimizer/optimizer.py:517: UserWarning: The objective has been evaluated at point [30, 1, 2] before, using random point [30, 9, 2]\n",
      "  warnings.warn(\n",
      "/opt/anaconda3/envs/projetos_ML/lib/python3.11/site-packages/skopt/optimizer/optimizer.py:517: UserWarning: The objective has been evaluated at point [30, 1, 2] before, using random point [30, 7, 15]\n",
      "  warnings.warn(\n",
      "/opt/anaconda3/envs/projetos_ML/lib/python3.11/site-packages/skopt/optimizer/optimizer.py:517: UserWarning: The objective has been evaluated at point [30, 1, 2] before, using random point [3, 6, 12]\n",
      "  warnings.warn(\n",
      "/opt/anaconda3/envs/projetos_ML/lib/python3.11/site-packages/skopt/optimizer/optimizer.py:517: UserWarning: The objective has been evaluated at point [30, 1, 2] before, using random point [None, 8, 4]\n",
      "  warnings.warn(\n",
      "/opt/anaconda3/envs/projetos_ML/lib/python3.11/site-packages/skopt/optimizer/optimizer.py:517: UserWarning: The objective has been evaluated at point [30, 1, 2] before, using random point [3, 10, 18]\n",
      "  warnings.warn(\n",
      "/opt/anaconda3/envs/projetos_ML/lib/python3.11/site-packages/skopt/optimizer/optimizer.py:517: UserWarning: The objective has been evaluated at point [30, 1, 2] before, using random point [20, 6, 19]\n",
      "  warnings.warn(\n",
      "/opt/anaconda3/envs/projetos_ML/lib/python3.11/site-packages/skopt/optimizer/optimizer.py:517: UserWarning: The objective has been evaluated at point [30, 1, 2] before, using random point [3, 8, 11]\n",
      "  warnings.warn(\n",
      "/opt/anaconda3/envs/projetos_ML/lib/python3.11/site-packages/skopt/optimizer/optimizer.py:517: UserWarning: The objective has been evaluated at point [30, 1, 2] before, using random point [30, 6, 17]\n",
      "  warnings.warn(\n",
      "/opt/anaconda3/envs/projetos_ML/lib/python3.11/site-packages/skopt/optimizer/optimizer.py:517: UserWarning: The objective has been evaluated at point [30, 1, 2] before, using random point [30, 4, 2]\n",
      "  warnings.warn(\n",
      "/opt/anaconda3/envs/projetos_ML/lib/python3.11/site-packages/skopt/optimizer/optimizer.py:517: UserWarning: The objective has been evaluated at point [None, 1, 2] before, using random point [20, 2, 5]\n",
      "  warnings.warn(\n",
      "/opt/anaconda3/envs/projetos_ML/lib/python3.11/site-packages/skopt/optimizer/optimizer.py:517: UserWarning: The objective has been evaluated at point [None, 1, 2] before, using random point [30, 4, 13]\n",
      "  warnings.warn(\n",
      "/opt/anaconda3/envs/projetos_ML/lib/python3.11/site-packages/skopt/optimizer/optimizer.py:517: UserWarning: The objective has been evaluated at point [None, 1, 2] before, using random point [10, 5, 6]\n",
      "  warnings.warn(\n",
      "/opt/anaconda3/envs/projetos_ML/lib/python3.11/site-packages/skopt/optimizer/optimizer.py:517: UserWarning: The objective has been evaluated at point [None, 1, 2] before, using random point [10, 1, 16]\n",
      "  warnings.warn(\n",
      "/opt/anaconda3/envs/projetos_ML/lib/python3.11/site-packages/skopt/optimizer/optimizer.py:517: UserWarning: The objective has been evaluated at point [30, 1, 2] before, using random point [20, 4, 8]\n",
      "  warnings.warn(\n",
      "/opt/anaconda3/envs/projetos_ML/lib/python3.11/site-packages/skopt/optimizer/optimizer.py:517: UserWarning: The objective has been evaluated at point [None, 1, 2] before, using random point [5, 8, 11]\n",
      "  warnings.warn(\n",
      "/opt/anaconda3/envs/projetos_ML/lib/python3.11/site-packages/skopt/optimizer/optimizer.py:517: UserWarning: The objective has been evaluated at point [None, 1, 2] before, using random point [10, 5, 4]\n",
      "  warnings.warn(\n",
      "/opt/anaconda3/envs/projetos_ML/lib/python3.11/site-packages/skopt/optimizer/optimizer.py:517: UserWarning: The objective has been evaluated at point [30, 1, 2] before, using random point [5, 5, 4]\n",
      "  warnings.warn(\n",
      "/opt/anaconda3/envs/projetos_ML/lib/python3.11/site-packages/skopt/optimizer/optimizer.py:517: UserWarning: The objective has been evaluated at point [None, 1, 2] before, using random point [3, 1, 17]\n",
      "  warnings.warn(\n",
      "/opt/anaconda3/envs/projetos_ML/lib/python3.11/site-packages/skopt/optimizer/optimizer.py:517: UserWarning: The objective has been evaluated at point [30, 1, 2] before, using random point [30, 1, 19]\n",
      "  warnings.warn(\n",
      "/opt/anaconda3/envs/projetos_ML/lib/python3.11/site-packages/skopt/optimizer/optimizer.py:517: UserWarning: The objective has been evaluated at point [30, 1, 2] before, using random point [3, 7, 12]\n",
      "  warnings.warn(\n",
      "/opt/anaconda3/envs/projetos_ML/lib/python3.11/site-packages/skopt/optimizer/optimizer.py:517: UserWarning: The objective has been evaluated at point [30, 1, 2] before, using random point [3, 4, 17]\n",
      "  warnings.warn(\n",
      "/opt/anaconda3/envs/projetos_ML/lib/python3.11/site-packages/skopt/optimizer/optimizer.py:517: UserWarning: The objective has been evaluated at point [30, 1, 2] before, using random point [20, 4, 11]\n",
      "  warnings.warn(\n",
      "/opt/anaconda3/envs/projetos_ML/lib/python3.11/site-packages/skopt/optimizer/optimizer.py:517: UserWarning: The objective has been evaluated at point [30, 1, 2] before, using random point [20, 8, 4]\n",
      "  warnings.warn(\n",
      "/opt/anaconda3/envs/projetos_ML/lib/python3.11/site-packages/skopt/optimizer/optimizer.py:517: UserWarning: The objective has been evaluated at point [30, 1, 2] before, using random point [3, 7, 17]\n",
      "  warnings.warn(\n",
      "/opt/anaconda3/envs/projetos_ML/lib/python3.11/site-packages/skopt/optimizer/optimizer.py:517: UserWarning: The objective has been evaluated at point [30, 1, 2] before, using random point [30, 8, 17]\n",
      "  warnings.warn(\n",
      "/opt/anaconda3/envs/projetos_ML/lib/python3.11/site-packages/skopt/optimizer/optimizer.py:517: UserWarning: The objective has been evaluated at point [30, 1, 2] before, using random point [5, 9, 6]\n",
      "  warnings.warn(\n",
      "/opt/anaconda3/envs/projetos_ML/lib/python3.11/site-packages/skopt/optimizer/optimizer.py:517: UserWarning: The objective has been evaluated at point [30, 1, 2] before, using random point [20, 2, 8]\n",
      "  warnings.warn(\n",
      "/opt/anaconda3/envs/projetos_ML/lib/python3.11/site-packages/skopt/optimizer/optimizer.py:517: UserWarning: The objective has been evaluated at point [30, 1, 2] before, using random point [20, 3, 6]\n",
      "  warnings.warn(\n",
      "/opt/anaconda3/envs/projetos_ML/lib/python3.11/site-packages/skopt/optimizer/optimizer.py:517: UserWarning: The objective has been evaluated at point [30, 1, 2] before, using random point [3, 9, 11]\n",
      "  warnings.warn(\n",
      "/opt/anaconda3/envs/projetos_ML/lib/python3.11/site-packages/skopt/optimizer/optimizer.py:517: UserWarning: The objective has been evaluated at point [30, 1, 2] before, using random point [20, 5, 9]\n",
      "  warnings.warn(\n",
      "/opt/anaconda3/envs/projetos_ML/lib/python3.11/site-packages/skopt/optimizer/optimizer.py:517: UserWarning: The objective has been evaluated at point [30, 1, 2] before, using random point [3, 4, 19]\n",
      "  warnings.warn(\n",
      "/opt/anaconda3/envs/projetos_ML/lib/python3.11/site-packages/skopt/optimizer/optimizer.py:517: UserWarning: The objective has been evaluated at point [30, 1, 2] before, using random point [30, 5, 16]\n",
      "  warnings.warn(\n",
      "/opt/anaconda3/envs/projetos_ML/lib/python3.11/site-packages/skopt/optimizer/optimizer.py:517: UserWarning: The objective has been evaluated at point [30, 1, 2] before, using random point [20, 9, 8]\n",
      "  warnings.warn(\n",
      "/opt/anaconda3/envs/projetos_ML/lib/python3.11/site-packages/skopt/optimizer/optimizer.py:517: UserWarning: The objective has been evaluated at point [30, 1, 2] before, using random point [3, 9, 7]\n",
      "  warnings.warn(\n",
      "/opt/anaconda3/envs/projetos_ML/lib/python3.11/site-packages/skopt/optimizer/optimizer.py:517: UserWarning: The objective has been evaluated at point [30, 1, 2] before, using random point [10, 3, 18]\n",
      "  warnings.warn(\n",
      "/opt/anaconda3/envs/projetos_ML/lib/python3.11/site-packages/skopt/optimizer/optimizer.py:517: UserWarning: The objective has been evaluated at point [30, 1, 2] before, using random point [5, 6, 7]\n",
      "  warnings.warn(\n",
      "/opt/anaconda3/envs/projetos_ML/lib/python3.11/site-packages/skopt/optimizer/optimizer.py:517: UserWarning: The objective has been evaluated at point [30, 1, 2] before, using random point [5, 7, 6]\n",
      "  warnings.warn(\n",
      "/opt/anaconda3/envs/projetos_ML/lib/python3.11/site-packages/skopt/optimizer/optimizer.py:517: UserWarning: The objective has been evaluated at point [30, 1, 2] before, using random point [None, 4, 10]\n",
      "  warnings.warn(\n",
      "/opt/anaconda3/envs/projetos_ML/lib/python3.11/site-packages/skopt/optimizer/optimizer.py:517: UserWarning: The objective has been evaluated at point [30, 1, 2] before, using random point [5, 2, 18]\n",
      "  warnings.warn(\n",
      "/opt/anaconda3/envs/projetos_ML/lib/python3.11/site-packages/skopt/optimizer/optimizer.py:517: UserWarning: The objective has been evaluated at point [30, 1, 2] before, using random point [30, 9, 15]\n",
      "  warnings.warn(\n",
      "/opt/anaconda3/envs/projetos_ML/lib/python3.11/site-packages/skopt/optimizer/optimizer.py:517: UserWarning: The objective has been evaluated at point [30, 1, 2] before, using random point [20, 4, 13]\n",
      "  warnings.warn(\n",
      "/opt/anaconda3/envs/projetos_ML/lib/python3.11/site-packages/skopt/optimizer/optimizer.py:517: UserWarning: The objective has been evaluated at point [30, 1, 2] before, using random point [None, 9, 18]\n",
      "  warnings.warn(\n",
      "/opt/anaconda3/envs/projetos_ML/lib/python3.11/site-packages/skopt/optimizer/optimizer.py:517: UserWarning: The objective has been evaluated at point [30, 1, 2] before, using random point [10, 8, 19]\n",
      "  warnings.warn(\n",
      "/opt/anaconda3/envs/projetos_ML/lib/python3.11/site-packages/skopt/optimizer/optimizer.py:517: UserWarning: The objective has been evaluated at point [30, 1, 2] before, using random point [3, 6, 20]\n",
      "  warnings.warn(\n",
      "/opt/anaconda3/envs/projetos_ML/lib/python3.11/site-packages/skopt/optimizer/optimizer.py:517: UserWarning: The objective has been evaluated at point [30, 1, 2] before, using random point [None, 4, 7]\n",
      "  warnings.warn(\n",
      "/opt/anaconda3/envs/projetos_ML/lib/python3.11/site-packages/skopt/optimizer/optimizer.py:517: UserWarning: The objective has been evaluated at point [30, 1, 2] before, using random point [20, 7, 20]\n",
      "  warnings.warn(\n",
      "/opt/anaconda3/envs/projetos_ML/lib/python3.11/site-packages/skopt/optimizer/optimizer.py:517: UserWarning: The objective has been evaluated at point [30, 1, 2] before, using random point [30, 4, 17]\n",
      "  warnings.warn(\n",
      "/opt/anaconda3/envs/projetos_ML/lib/python3.11/site-packages/skopt/optimizer/optimizer.py:517: UserWarning: The objective has been evaluated at point [None, 1, 2] before, using random point [20, 3, 16]\n",
      "  warnings.warn(\n",
      "/opt/anaconda3/envs/projetos_ML/lib/python3.11/site-packages/skopt/optimizer/optimizer.py:517: UserWarning: The objective has been evaluated at point [30, 1, 2] before, using random point [5, 7, 4]\n",
      "  warnings.warn(\n",
      "/opt/anaconda3/envs/projetos_ML/lib/python3.11/site-packages/skopt/optimizer/optimizer.py:517: UserWarning: The objective has been evaluated at point [30, 1, 3] before, using random point [30, 6, 8]\n",
      "  warnings.warn(\n",
      "/opt/anaconda3/envs/projetos_ML/lib/python3.11/site-packages/skopt/optimizer/optimizer.py:517: UserWarning: The objective has been evaluated at point [30, 1, 2] before, using random point [20, 8, 16]\n",
      "  warnings.warn(\n",
      "/opt/anaconda3/envs/projetos_ML/lib/python3.11/site-packages/skopt/optimizer/optimizer.py:517: UserWarning: The objective has been evaluated at point [30, 1, 2] before, using random point [None, 7, 7]\n",
      "  warnings.warn(\n",
      "/opt/anaconda3/envs/projetos_ML/lib/python3.11/site-packages/skopt/optimizer/optimizer.py:517: UserWarning: The objective has been evaluated at point [30, 1, 2] before, using random point [20, 4, 17]\n",
      "  warnings.warn(\n"
     ]
    },
    {
     "name": "stdout",
     "output_type": "stream",
     "text": [
      "Bayesian Optimization Best Result for Decision Tree: 0.7955414902103197\n"
     ]
    }
   ],
   "source": [
    "# Bayesian optimization não está funcionando corretamente. Usar Random Search ou Grid Search\n",
    "cv=10\n",
    "trained_models = training.train_model(X_train_preprocessed, y_train, tc.BAYESIAN_OPTIMIZATION, base_pipeline, n_iter=100, cv=cv)\n"
   ]
  },
  {
   "cell_type": "code",
   "execution_count": 15,
   "metadata": {},
   "outputs": [
    {
     "name": "stdout",
     "output_type": "stream",
     "text": [
      "\n",
      "Evaluating Decision Tree with Bayesian Optimization:\n",
      "Hyperparameters: {'memory': None, 'steps': [('classifier', DecisionTreeClassifier())], 'verbose': False, 'classifier': DecisionTreeClassifier(), 'classifier__ccp_alpha': 0.0, 'classifier__class_weight': None, 'classifier__criterion': 'gini', 'classifier__max_depth': None, 'classifier__max_features': None, 'classifier__max_leaf_nodes': None, 'classifier__min_impurity_decrease': 0.0, 'classifier__min_samples_leaf': 1, 'classifier__min_samples_split': 2, 'classifier__min_weight_fraction_leaf': 0.0, 'classifier__random_state': None, 'classifier__splitter': 'best'}\n",
      "\n",
      "Training set report:\n",
      "Class 0 - Precision: 1.0, Recall: 1.0, F1-Score: 1.0, Support: 495.0\n",
      "Class 1 - Precision: 1.0, Recall: 1.0, F1-Score: 1.0, Support: 721.0\n",
      "Class 2 - Precision: 1.0, Recall: 1.0, F1-Score: 1.0, Support: 2553.0\n",
      "Class 3 - Precision: 1.0, Recall: 1.0, F1-Score: 1.0, Support: 321.0\n",
      "Class 4 - Precision: 1.0, Recall: 1.0, F1-Score: 1.0, Support: 301.0\n",
      "Accuracy - F1-Score: 1.0\n",
      "Class macro avg - Precision: 1.0, Recall: 1.0, F1-Score: 1.0, Support: 4391.0\n",
      "Class weighted avg - Precision: 1.0, Recall: 1.0, F1-Score: 1.0, Support: 4391.0\n",
      "Balanced Accuracy: 1.0\n",
      "\n",
      "Training set confusion matrix:\n",
      "          Predicted 0  Predicted 1  Predicted 2  Predicted 3  Predicted 4\n",
      "Actual 0          495            0            0            0            0\n",
      "Actual 1            0          721            0            0            0\n",
      "Actual 2            0            0         2553            0            0\n",
      "Actual 3            0            0            0          321            0\n",
      "Actual 4            0            0            0            0          301\n",
      "\n",
      "Test set report:\n",
      "Class 0 - Precision: 0.77, Recall: 0.73, F1-Score: 0.75, Support: 134.0\n",
      "Class 1 - Precision: 0.82, Recall: 0.83, F1-Score: 0.83, Support: 186.0\n",
      "Class 2 - Precision: 0.91, Recall: 0.89, F1-Score: 0.9, Support: 606.0\n",
      "Class 3 - Precision: 0.87, Recall: 0.91, F1-Score: 0.89, Support: 93.0\n",
      "Class 4 - Precision: 0.73, Recall: 0.8, F1-Score: 0.76, Support: 79.0\n",
      "Accuracy - F1-Score: 0.86\n",
      "Class macro avg - Precision: 0.82, Recall: 0.83, F1-Score: 0.83, Support: 1098.0\n",
      "Class weighted avg - Precision: 0.86, Recall: 0.86, F1-Score: 0.86, Support: 1098.0\n",
      "Balanced Accuracy: 0.83\n",
      "\n",
      "Test set confusion matrix:\n",
      "          Predicted 0  Predicted 1  Predicted 2  Predicted 3  Predicted 4\n",
      "Actual 0           98            8           19            5            4\n",
      "Actual 1            4          155           22            3            2\n",
      "Actual 2           19           23          542            5           17\n",
      "Actual 3            3            0            5           85            0\n",
      "Actual 4            3            3           10            0           63\n",
      "\n",
      "Modelo 'Decision Tree' salvo em: ../models/model_Decision Tree_20240620_2007.pkl\n",
      "Modelos salvos: ['../models/model_Decision Tree_20240620_2007.pkl']\n"
     ]
    }
   ],
   "source": [
    "# Caminhos\n",
    "dirpath = \"../output/\"\n",
    "model_dir = \"../models/\"\n",
    "\n",
    "# Gerar e imprimir relatórios\n",
    "reports = evaluation.generate_reports(trained_models, X_train_preprocessed, y_train, X_test_preprocessed, y_test)\n",
    "print(evaluation.print_reports(reports, dirpath))\n",
    "evaluation.save_reports_to_csv(reports, dirpath)\n",
    "\n",
    "# Salvar todos os modelos\n",
    "saved_models = evaluation.dump_all_models(trained_models, model_dir)\n",
    "print(\"Modelos salvos:\", saved_models)"
   ]
  }
 ],
 "metadata": {
  "kernelspec": {
   "display_name": "projetos_ML",
   "language": "python",
   "name": "python3"
  },
  "language_info": {
   "codemirror_mode": {
    "name": "ipython",
    "version": 3
   },
   "file_extension": ".py",
   "mimetype": "text/x-python",
   "name": "python",
   "nbconvert_exporter": "python",
   "pygments_lexer": "ipython3",
   "version": "3.11.9"
  }
 },
 "nbformat": 4,
 "nbformat_minor": 2
}
