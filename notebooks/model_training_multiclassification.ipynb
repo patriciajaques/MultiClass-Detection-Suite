{
 "cells": [
  {
   "cell_type": "code",
   "execution_count": 1,
   "metadata": {},
   "outputs": [
    {
     "name": "stdout",
     "output_type": "stream",
     "text": [
      "Intel MKL WARNING: Support of Intel(R) Streaming SIMD Extensions 4.2 (Intel(R) SSE4.2) enabled only processors has been deprecated. Intel oneAPI Math Kernel Library 2025.0 will require Intel(R) Advanced Vector Extensions (Intel(R) AVX) instructions.\n",
      "Intel MKL WARNING: Support of Intel(R) Streaming SIMD Extensions 4.2 (Intel(R) SSE4.2) enabled only processors has been deprecated. Intel oneAPI Math Kernel Library 2025.0 will require Intel(R) Advanced Vector Extensions (Intel(R) AVX) instructions.\n"
     ]
    }
   ],
   "source": [
    "import importlib\n",
    "\n",
    "import training\n",
    "import utils\n",
    "import training_constants as tc\n",
    "import preprocessing as pre\n",
    "# Avaliar e selecionar o melhor seletor de variáveis\n",
    "from sklearn.pipeline import Pipeline\n",
    "import feature_selection as fs\n",
    "import evaluation"
   ]
  },
  {
   "cell_type": "code",
   "execution_count": 2,
   "metadata": {},
   "outputs": [
    {
     "data": {
      "text/plain": [
       "<module 'evaluation' from '/Users/patricia/Documents/code/python/behavior-detection/src/evaluation.py'>"
      ]
     },
     "execution_count": 2,
     "metadata": {},
     "output_type": "execute_result"
    }
   ],
   "source": [
    "importlib.reload(training)\n",
    "importlib.reload(utils)\n",
    "importlib.reload(tc)\n",
    "importlib.reload(pre)\n",
    "importlib.reload(fs)\n",
    "importlib.reload(training)\n",
    "importlib.reload(evaluation)\n"
   ]
  },
  {
   "cell_type": "code",
   "execution_count": 3,
   "metadata": {},
   "outputs": [],
   "source": [
    "import os\n",
    "import warnings\n",
    "import numpy as np\n",
    "\n",
    "# Configurar variáveis de ambiente para não mostrar warning da Intel MKL\n",
    "os.environ[\"MKL_CBWR\"] = \"AUTO\"\n",
    "os.environ[\"MKL_VERBOSE\"] = \"0\"\n",
    "os.environ[\"NUMPY_MKL_ERROR\"] = \"IGNORE\"\n",
    "os.environ[\"MKL_SERVICE_FORCE_INTEL\"] = \"1\"\n",
    "os.environ[\"MKL_NUM_THREADS\"] = \"1\"\n",
    "os.environ[\"MKL_DYNAMIC\"] = \"FALSE\"\n",
    "os.environ[\"OMP_NUM_THREADS\"] = \"1\"\n",
    "os.environ[\"KMP_WARNINGS\"] = \"FALSE\"\n",
    "\n",
    "# Suprimir avisos de depreciação\n",
    "warnings.filterwarnings(\"ignore\", category=DeprecationWarning)"
   ]
  },
  {
   "cell_type": "code",
   "execution_count": 4,
   "metadata": {},
   "outputs": [
    {
     "name": "stdout",
     "output_type": "stream",
     "text": [
      "<class 'pandas.core.frame.DataFrame'>\n",
      "Index: 5489 entries, 0 to 5524\n",
      "Columns: 336 entries, id_log to misc_EqSec_OpFrac_MMC_MtNumerador_total\n",
      "dtypes: float64(82), int64(253), object(1)\n",
      "memory usage: 14.1+ MB\n",
      "<class 'pandas.core.series.Series'>\n",
      "Index: 5489 entries, 0 to 5524\n",
      "Series name: comportamento\n",
      "Non-Null Count  Dtype \n",
      "--------------  ----- \n",
      "5489 non-null   object\n",
      "dtypes: object(1)\n",
      "memory usage: 85.8+ KB\n"
     ]
    },
    {
     "data": {
      "text/plain": [
       "0    ON TASK\n",
       "1    ON TASK\n",
       "2    ON TASK\n",
       "3    ON TASK\n",
       "4    ON TASK\n",
       "Name: comportamento, dtype: object"
      ]
     },
     "execution_count": 4,
     "metadata": {},
     "output_type": "execute_result"
    }
   ],
   "source": [
    "X, y = pre.load_data(\"/Users/patricia/Documents/code/python/behavior-detection/data/new_logs_labels.csv\")\n",
    "y.head()"
   ]
  },
  {
   "cell_type": "code",
   "execution_count": 5,
   "metadata": {},
   "outputs": [
    {
     "name": "stdout",
     "output_type": "stream",
     "text": [
      "Tamanho do conjunto de treino: 4391\n",
      "Tamanho do conjunto de teste: 1098\n"
     ]
    }
   ],
   "source": [
    "test_size = 0.2  # 80% for training, 20% for testing\n",
    "X_train, X_test, y_train, y_test = pre.split_train_test_data(X, y, test_size, random_state=42)\n"
   ]
  },
  {
   "cell_type": "code",
   "execution_count": 6,
   "metadata": {},
   "outputs": [
    {
     "name": "stdout",
     "output_type": "stream",
     "text": [
      "Nro de instancias de cada classe em y_train e y_test:\n",
      "\n",
      "ON TASK                 2553\n",
      "ON SYSTEM                721\n",
      "OFF TASK                 495\n",
      "ON TASK CONVERSATION     321\n",
      "ON TASK OUT              301\n",
      "Name: count, dtype: int64\n",
      "ON TASK                 606\n",
      "ON SYSTEM               186\n",
      "OFF TASK                134\n",
      "ON TASK CONVERSATION     93\n",
      "ON TASK OUT              79\n",
      "Name: count, dtype: int64\n"
     ]
    }
   ],
   "source": [
    "import pandas as pd\n",
    "\n",
    "print(\"Nro de instancias de cada classe em y_train e y_test:\\n\")\n",
    "\n",
    "print(pd.Series(y_train).value_counts())\n",
    "print(pd.Series(y_test).value_counts())"
   ]
  },
  {
   "cell_type": "code",
   "execution_count": 7,
   "metadata": {},
   "outputs": [],
   "source": [
    "y_train, label_encoder = pre.encode_labels(y_train)\n",
    "y_test = label_encoder.transform(y_test)"
   ]
  },
  {
   "cell_type": "code",
   "execution_count": 8,
   "metadata": {},
   "outputs": [],
   "source": [
    "# Pré-processar os dados uma vez\n",
    "preprocessor = pre.create_preprocessor(X_train)\n",
    "X_train_preprocessed = preprocessor.fit_transform(X_train)\n",
    "X_test_preprocessed = preprocessor.transform(X_test)"
   ]
  },
  {
   "cell_type": "code",
   "execution_count": 9,
   "metadata": {},
   "outputs": [
    {
     "name": "stdout",
     "output_type": "stream",
     "text": [
      "O melhor seletor de variáveis é: RFE\n"
     ]
    }
   ],
   "source": [
    "best_selector, best_selector_name = fs.evaluate_feature_selectors(X_train_preprocessed, y_train, n_features_to_select=10, n_components=10)\n",
    "\n",
    "# Exibir o melhor seletor e as características selecionadas\n",
    "print(f'O melhor seletor de variáveis é: {best_selector_name}')\n",
    "\n"
   ]
  },
  {
   "cell_type": "code",
   "execution_count": 10,
   "metadata": {},
   "outputs": [],
   "source": [
    "# Adicionar o melhor seletor de variáveis no pipeline de treinamento\n",
    "base_pipeline = Pipeline([\n",
    "    ('feature_selection', best_selector)\n",
    "])"
   ]
  },
  {
   "cell_type": "code",
   "execution_count": 11,
   "metadata": {},
   "outputs": [
    {
     "name": "stdout",
     "output_type": "stream",
     "text": [
      "\n",
      "Training and evaluating Random Forest with GridSearch:\n",
      "Grid search for RandomForestClassifier()\n",
      "Param grid: {'classifier__n_estimators': [10, 50, 100, 200], 'classifier__max_depth': [None, 10, 20, 30], 'classifier__min_samples_split': [2, 5, 10], 'classifier__min_samples_leaf': [1, 2, 4]}\n",
      "Fitting 5 folds for each of 144 candidates, totalling 720 fits\n",
      "Intel MKL WARNING: Support of Intel(R) Streaming SIMD Extensions 4.2 (Intel(R) SSE4.2) enabled only processors has been deprecated. Intel oneAPI Math Kernel Library 2025.0 will require Intel(R) Advanced Vector Extensions (Intel(R) AVX) instructions.\n",
      "Intel MKL WARNING: Support of Intel(R) Streaming SIMD Extensions 4.2 (Intel(R) SSE4.2) enabled only processors has been deprecated. Intel oneAPI Math Kernel Library 2025.0 will require Intel(R) Advanced Vector Extensions (Intel(R) AVX) instructions.\n",
      "Intel MKL WARNING: Support of Intel(R) Streaming SIMD Extensions 4.2 (Intel(R) SSE4.2) enabled only processors has been deprecated. Intel oneAPI Math Kernel Library 2025.0 will require Intel(R) Advanced Vector Extensions (Intel(R) AVX) instructions.\n",
      "Intel MKL WARNING: Support of Intel(R) Streaming SIMD Extensions 4.2 (Intel(R) SSE4.2) enabled only processors has been deprecated. Intel oneAPI Math Kernel Library 2025.0 will require Intel(R) Advanced Vector Extensions (Intel(R) AVX) instructions.\n",
      "Intel MKL WARNING: Support of Intel(R) Streaming SIMD Extensions 4.2 (Intel(R) SSE4.2) enabled only processors has been deprecated. Intel oneAPI Math Kernel Library 2025.0 will require Intel(R) Advanced Vector Extensions (Intel(R) AVX) instructions.\n",
      "Intel MKL WARNING: Support of Intel(R) Streaming SIMD Extensions 4.2 (Intel(R) SSE4.2) enabled only processors has been deprecated. Intel oneAPI Math Kernel Library 2025.0 will require Intel(R) Advanced Vector Extensions (Intel(R) AVX) instructions.\n",
      "Intel MKL WARNING: Support of Intel(R) Streaming SIMD Extensions 4.2 (Intel(R) SSE4.2) enabled only processors has been deprecated. Intel oneAPI Math Kernel Library 2025.0 will require Intel(R) Advanced Vector Extensions (Intel(R) AVX) instructions.\n",
      "Intel MKL WARNING: Support of Intel(R) Streaming SIMD Extensions 4.2 (Intel(R) SSE4.2) enabled only processors has been deprecated. Intel oneAPI Math Kernel Library 2025.0 will require Intel(R) Advanced Vector Extensions (Intel(R) AVX) instructions.\n",
      "Intel MKL WARNING: Support of Intel(R) Streaming SIMD Extensions 4.2 (Intel(R) SSE4.2) enabled only processors has been deprecated. Intel oneAPI Math Kernel Library 2025.0 will require Intel(R) Advanced Vector Extensions (Intel(R) AVX) instructions.\n",
      "Intel MKL WARNING: Support of Intel(R) Streaming SIMD Extensions 4.2 (Intel(R) SSE4.2) enabled only processors has been deprecated. Intel oneAPI Math Kernel Library 2025.0 will require Intel(R) Advanced Vector Extensions (Intel(R) AVX) instructions.\n",
      "Intel MKL WARNING: Support of Intel(R) Streaming SIMD Extensions 4.2 (Intel(R) SSE4.2) enabled only processors has been deprecated. Intel oneAPI Math Kernel Library 2025.0 will require Intel(R) Advanced Vector Extensions (Intel(R) AVX) instructions.\n",
      "Intel MKL WARNING: Support of Intel(R) Streaming SIMD Extensions 4.2 (Intel(R) SSE4.2) enabled only processors has been deprecated. Intel oneAPI Math Kernel Library 2025.0 will require Intel(R) Advanced Vector Extensions (Intel(R) AVX) instructions.\n",
      "Intel MKL WARNING: Support of Intel(R) Streaming SIMD Extensions 4.2 (Intel(R) SSE4.2) enabled only processors has been deprecated. Intel oneAPI Math Kernel Library 2025.0 will require Intel(R) Advanced Vector Extensions (Intel(R) AVX) instructions.\n",
      "Intel MKL WARNING: Support of Intel(R) Streaming SIMD Extensions 4.2 (Intel(R) SSE4.2) enabled only processors has been deprecated. Intel oneAPI Math Kernel Library 2025.0 will require Intel(R) Advanced Vector Extensions (Intel(R) AVX) instructions.\n",
      "Intel MKL WARNING: Support of Intel(R) Streaming SIMD Extensions 4.2 (Intel(R) SSE4.2) enabled only processors has been deprecated. Intel oneAPI Math Kernel Library 2025.0 will require Intel(R) Advanced Vector Extensions (Intel(R) AVX) instructions.\n",
      "Intel MKL WARNING: Support of Intel(R) Streaming SIMD Extensions 4.2 (Intel(R) SSE4.2) enabled only processors has been deprecated. Intel oneAPI Math Kernel Library 2025.0 will require Intel(R) Advanced Vector Extensions (Intel(R) AVX) instructions.\n",
      "Intel MKL WARNING: Support of Intel(R) Streaming SIMD Extensions 4.2 (Intel(R) SSE4.2) enabled only processors has been deprecated. Intel oneAPI Math Kernel Library 2025.0 will require Intel(R) Advanced Vector Extensions (Intel(R) AVX) instructions.\n",
      "Intel MKL WARNING: Support of Intel(R) Streaming SIMD Extensions 4.2 (Intel(R) SSE4.2) enabled only processors has been deprecated. Intel oneAPI Math Kernel Library 2025.0 will require Intel(R) Advanced Vector Extensions (Intel(R) AVX) instructions.\n",
      "Intel MKL WARNING: Support of Intel(R) Streaming SIMD Extensions 4.2 (Intel(R) SSE4.2) enabled only processors has been deprecated. Intel oneAPI Math Kernel Library 2025.0 will require Intel(R) Advanced Vector Extensions (Intel(R) AVX) instructions.\n",
      "Intel MKL WARNING: Support of Intel(R) Streaming SIMD Extensions 4.2 (Intel(R) SSE4.2) enabled only processors has been deprecated. Intel oneAPI Math Kernel Library 2025.0 will require Intel(R) Advanced Vector Extensions (Intel(R) AVX) instructions.\n",
      "Intel MKL WARNING: Support of Intel(R) Streaming SIMD Extensions 4.2 (Intel(R) SSE4.2) enabled only processors has been deprecated. Intel oneAPI Math Kernel Library 2025.0 will require Intel(R) Advanced Vector Extensions (Intel(R) AVX) instructions.\n",
      "Intel MKL WARNING: Support of Intel(R) Streaming SIMD Extensions 4.2 (Intel(R) SSE4.2) enabled only processors has been deprecated. Intel oneAPI Math Kernel Library 2025.0 will require Intel(R) Advanced Vector Extensions (Intel(R) AVX) instructions.\n",
      "Intel MKL WARNING: Support of Intel(R) Streaming SIMD Extensions 4.2 (Intel(R) SSE4.2) enabled only processors has been deprecated. Intel oneAPI Math Kernel Library 2025.0 will require Intel(R) Advanced Vector Extensions (Intel(R) AVX) instructions.\n",
      "Intel MKL WARNING: Support of Intel(R) Streaming SIMD Extensions 4.2 (Intel(R) SSE4.2) enabled only processors has been deprecated. Intel oneAPI Math Kernel Library 2025.0 will require Intel(R) Advanced Vector Extensions (Intel(R) AVX) instructions.\n",
      "Intel MKL WARNING: Support of Intel(R) Streaming SIMD Extensions 4.2 (Intel(R) SSE4.2) enabled only processors has been deprecated. Intel oneAPI Math Kernel Library 2025.0 will require Intel(R) Advanced Vector Extensions (Intel(R) AVX) instructions.\n",
      "Intel MKL WARNING: Support of Intel(R) Streaming SIMD Extensions 4.2 (Intel(R) SSE4.2) enabled only processors has been deprecated. Intel oneAPI Math Kernel Library 2025.0 will require Intel(R) Advanced Vector Extensions (Intel(R) AVX) instructions.\n",
      "Intel MKL WARNING: Support of Intel(R) Streaming SIMD Extensions 4.2 (Intel(R) SSE4.2) enabled only processors has been deprecated. Intel oneAPI Math Kernel Library 2025.0 will require Intel(R) Advanced Vector Extensions (Intel(R) AVX) instructions.\n",
      "GridSearch Best Result for Random Forest: 0.8289150521373984\n",
      "\n",
      "Training and evaluating Gradient Boosting with GridSearch:\n",
      "Grid search for GradientBoostingClassifier()\n",
      "Param grid: {'classifier__n_estimators': [10, 50, 100, 200], 'classifier__learning_rate': [0.01, 0.1, 0.2], 'classifier__max_depth': [3, 5, 10], 'classifier__subsample': [0.5, 0.7, 1.0]}\n",
      "Fitting 5 folds for each of 108 candidates, totalling 540 fits\n",
      "GridSearch Best Result for Gradient Boosting: 0.830665076880134\n",
      "\n",
      "Training and evaluating XGBoost with GridSearch:\n",
      "Grid search for XGBClassifier(base_score=None, booster=None, callbacks=None,\n",
      "              colsample_bylevel=None, colsample_bynode=None,\n",
      "              colsample_bytree=None, device=None, early_stopping_rounds=None,\n",
      "              enable_categorical=False, eval_metric='mlogloss',\n",
      "              feature_types=None, gamma=None, grow_policy=None,\n",
      "              importance_type=None, interaction_constraints=None,\n",
      "              learning_rate=None, max_bin=None, max_cat_threshold=None,\n",
      "              max_cat_to_onehot=None, max_delta_step=None, max_depth=None,\n",
      "              max_leaves=None, min_child_weight=None, missing=nan,\n",
      "              monotone_constraints=None, multi_strategy=None, n_estimators=None,\n",
      "              n_jobs=None, num_parallel_tree=None, random_state=None, ...)\n",
      "Param grid: {'classifier__n_estimators': [100, 200, 300], 'classifier__learning_rate': [0.01, 0.1, 0.2], 'classifier__max_depth': [3, 5, 7], 'classifier__subsample': [0.7, 0.8, 1.0], 'classifier__colsample_bytree': [0.7, 0.8, 1.0]}\n",
      "Fitting 5 folds for each of 243 candidates, totalling 1215 fits\n"
     ]
    },
    {
     "name": "stderr",
     "output_type": "stream",
     "text": [
      "/Users/patricia/anaconda3/envs/projetos_ML/lib/python3.10/site-packages/joblib/externals/loky/process_executor.py:752: UserWarning: A worker stopped while some jobs were given to the executor. This can be caused by a too short worker timeout or by a memory leak.\n",
      "  warnings.warn(\n"
     ]
    },
    {
     "name": "stdout",
     "output_type": "stream",
     "text": [
      "Intel MKL WARNING: Support of Intel(R) Streaming SIMD Extensions 4.2 (Intel(R) SSE4.2) enabled only processors has been deprecated. Intel oneAPI Math Kernel Library 2025.0 will require Intel(R) Advanced Vector Extensions (Intel(R) AVX) instructions.\n",
      "Intel MKL WARNING: Support of Intel(R) Streaming SIMD Extensions 4.2 (Intel(R) SSE4.2) enabled only processors has been deprecated. Intel oneAPI Math Kernel Library 2025.0 will require Intel(R) Advanced Vector Extensions (Intel(R) AVX) instructions.\n",
      "Intel MKL WARNING: Support of Intel(R) Streaming SIMD Extensions 4.2 (Intel(R) SSE4.2) enabled only processors has been deprecated. Intel oneAPI Math Kernel Library 2025.0 will require Intel(R) Advanced Vector Extensions (Intel(R) AVX) instructions.\n",
      "Intel MKL WARNING: Support of Intel(R) Streaming SIMD Extensions 4.2 (Intel(R) SSE4.2) enabled only processors has been deprecated. Intel oneAPI Math Kernel Library 2025.0 will require Intel(R) Advanced Vector Extensions (Intel(R) AVX) instructions.\n",
      "Intel MKL WARNING: Support of Intel(R) Streaming SIMD Extensions 4.2 (Intel(R) SSE4.2) enabled only processors has been deprecated. Intel oneAPI Math Kernel Library 2025.0 will require Intel(R) Advanced Vector Extensions (Intel(R) AVX) instructions.\n",
      "Intel MKL WARNING: Support of Intel(R) Streaming SIMD Extensions 4.2 (Intel(R) SSE4.2) enabled only processors has been deprecated. Intel oneAPI Math Kernel Library 2025.0 will require Intel(R) Advanced Vector Extensions (Intel(R) AVX) instructions.\n",
      "GridSearch Best Result for XGBoost: 0.8334278232017839\n"
     ]
    }
   ],
   "source": [
    "\n",
    "trained_models = training.train_model(X_train_preprocessed, y_train, tc.GRID_SEARCH, base_pipeline)"
   ]
  },
  {
   "cell_type": "code",
   "execution_count": 12,
   "metadata": {},
   "outputs": [
    {
     "name": "stdout",
     "output_type": "stream",
     "text": [
      "\n",
      "Evaluating Random Forest with GridSearch:\n",
      "Hiperparâmetros: {'memory': None, 'steps': [('classifier', XGBClassifier(base_score=None, booster=None, callbacks=None,\n",
      "              colsample_bylevel=None, colsample_bynode=None,\n",
      "              colsample_bytree=None, device=None, early_stopping_rounds=None,\n",
      "              enable_categorical=False, eval_metric='mlogloss',\n",
      "              feature_types=None, gamma=None, grow_policy=None,\n",
      "              importance_type=None, interaction_constraints=None,\n",
      "              learning_rate=None, max_bin=None, max_cat_threshold=None,\n",
      "              max_cat_to_onehot=None, max_delta_step=None, max_depth=None,\n",
      "              max_leaves=None, min_child_weight=None, missing=nan,\n",
      "              monotone_constraints=None, multi_strategy=None, n_estimators=None,\n",
      "              n_jobs=None, num_parallel_tree=None, random_state=None, ...))], 'verbose': False, 'classifier': RandomForestClassifier(), 'classifier__bootstrap': True, 'classifier__ccp_alpha': 0.0, 'classifier__class_weight': None, 'classifier__criterion': 'gini', 'classifier__max_depth': None, 'classifier__max_features': 'sqrt', 'classifier__max_leaf_nodes': None, 'classifier__max_samples': None, 'classifier__min_impurity_decrease': 0.0, 'classifier__min_samples_leaf': 1, 'classifier__min_samples_split': 2, 'classifier__min_weight_fraction_leaf': 0.0, 'classifier__n_estimators': 100, 'classifier__n_jobs': None, 'classifier__oob_score': False, 'classifier__random_state': None, 'classifier__verbose': 0, 'classifier__warm_start': False}\n",
      "\n",
      "Training set report:\n",
      "Class 0 - Precision: 1.0, Recall: 1.0, F1-Score: 1.0, Support: 495.0\n",
      "Class 1 - Precision: 1.0, Recall: 1.0, F1-Score: 1.0, Support: 721.0\n",
      "Class 2 - Precision: 1.0, Recall: 1.0, F1-Score: 1.0, Support: 2553.0\n",
      "Class 3 - Precision: 1.0, Recall: 1.0, F1-Score: 1.0, Support: 321.0\n",
      "Class 4 - Precision: 1.0, Recall: 1.0, F1-Score: 1.0, Support: 301.0\n",
      "Accuracy - F1-Score: 1.0\n",
      "Class macro avg - Precision: 1.0, Recall: 1.0, F1-Score: 1.0, Support: 4391.0\n",
      "Class weighted avg - Precision: 1.0, Recall: 1.0, F1-Score: 1.0, Support: 4391.0\n",
      "Balanced Accuracy: 1.0\n",
      "\n",
      "Test set report:\n",
      "Class 0 - Precision: 0.87, Recall: 0.77, F1-Score: 0.81, Support: 134.0\n",
      "Class 1 - Precision: 0.93, Recall: 0.87, F1-Score: 0.89, Support: 186.0\n",
      "Class 2 - Precision: 0.92, Recall: 0.95, F1-Score: 0.93, Support: 606.0\n",
      "Class 3 - Precision: 0.95, Recall: 0.92, F1-Score: 0.93, Support: 93.0\n",
      "Class 4 - Precision: 0.82, Recall: 0.95, F1-Score: 0.88, Support: 79.0\n",
      "Accuracy - F1-Score: 0.91\n",
      "Class macro avg - Precision: 0.89, Recall: 0.89, F1-Score: 0.89, Support: 1098.0\n",
      "Class weighted avg - Precision: 0.91, Recall: 0.91, F1-Score: 0.91, Support: 1098.0\n",
      "Balanced Accuracy: 0.89\n",
      "\n",
      "Evaluating Gradient Boosting with GridSearch:\n",
      "Hiperparâmetros: {'memory': None, 'steps': [('classifier', XGBClassifier(base_score=None, booster=None, callbacks=None,\n",
      "              colsample_bylevel=None, colsample_bynode=None,\n",
      "              colsample_bytree=None, device=None, early_stopping_rounds=None,\n",
      "              enable_categorical=False, eval_metric='mlogloss',\n",
      "              feature_types=None, gamma=None, grow_policy=None,\n",
      "              importance_type=None, interaction_constraints=None,\n",
      "              learning_rate=None, max_bin=None, max_cat_threshold=None,\n",
      "              max_cat_to_onehot=None, max_delta_step=None, max_depth=None,\n",
      "              max_leaves=None, min_child_weight=None, missing=nan,\n",
      "              monotone_constraints=None, multi_strategy=None, n_estimators=None,\n",
      "              n_jobs=None, num_parallel_tree=None, random_state=None, ...))], 'verbose': False, 'classifier': GradientBoostingClassifier(), 'classifier__ccp_alpha': 0.0, 'classifier__criterion': 'friedman_mse', 'classifier__init': None, 'classifier__learning_rate': 0.1, 'classifier__loss': 'log_loss', 'classifier__max_depth': 3, 'classifier__max_features': None, 'classifier__max_leaf_nodes': None, 'classifier__min_impurity_decrease': 0.0, 'classifier__min_samples_leaf': 1, 'classifier__min_samples_split': 2, 'classifier__min_weight_fraction_leaf': 0.0, 'classifier__n_estimators': 100, 'classifier__n_iter_no_change': None, 'classifier__random_state': None, 'classifier__subsample': 1.0, 'classifier__tol': 0.0001, 'classifier__validation_fraction': 0.1, 'classifier__verbose': 0, 'classifier__warm_start': False}\n",
      "\n",
      "Training set report:\n",
      "Class 0 - Precision: 1.0, Recall: 1.0, F1-Score: 1.0, Support: 495.0\n",
      "Class 1 - Precision: 1.0, Recall: 1.0, F1-Score: 1.0, Support: 721.0\n",
      "Class 2 - Precision: 1.0, Recall: 1.0, F1-Score: 1.0, Support: 2553.0\n",
      "Class 3 - Precision: 1.0, Recall: 1.0, F1-Score: 1.0, Support: 321.0\n",
      "Class 4 - Precision: 1.0, Recall: 1.0, F1-Score: 1.0, Support: 301.0\n",
      "Accuracy - F1-Score: 1.0\n",
      "Class macro avg - Precision: 1.0, Recall: 1.0, F1-Score: 1.0, Support: 4391.0\n",
      "Class weighted avg - Precision: 1.0, Recall: 1.0, F1-Score: 1.0, Support: 4391.0\n",
      "Balanced Accuracy: 1.0\n",
      "\n",
      "Test set report:\n",
      "Class 0 - Precision: 0.88, Recall: 0.78, F1-Score: 0.83, Support: 134.0\n",
      "Class 1 - Precision: 0.93, Recall: 0.88, F1-Score: 0.9, Support: 186.0\n",
      "Class 2 - Precision: 0.92, Recall: 0.95, F1-Score: 0.93, Support: 606.0\n",
      "Class 3 - Precision: 0.9, Recall: 0.91, F1-Score: 0.91, Support: 93.0\n",
      "Class 4 - Precision: 0.81, Recall: 0.86, F1-Score: 0.83, Support: 79.0\n",
      "Accuracy - F1-Score: 0.91\n",
      "Class macro avg - Precision: 0.89, Recall: 0.87, F1-Score: 0.88, Support: 1098.0\n",
      "Class weighted avg - Precision: 0.91, Recall: 0.91, F1-Score: 0.9, Support: 1098.0\n",
      "Balanced Accuracy: 0.87\n",
      "\n",
      "Evaluating XGBoost with GridSearch:\n",
      "Hiperparâmetros: {'memory': None, 'steps': [('classifier', XGBClassifier(base_score=None, booster=None, callbacks=None,\n",
      "              colsample_bylevel=None, colsample_bynode=None,\n",
      "              colsample_bytree=None, device=None, early_stopping_rounds=None,\n",
      "              enable_categorical=False, eval_metric='mlogloss',\n",
      "              feature_types=None, gamma=None, grow_policy=None,\n",
      "              importance_type=None, interaction_constraints=None,\n",
      "              learning_rate=None, max_bin=None, max_cat_threshold=None,\n",
      "              max_cat_to_onehot=None, max_delta_step=None, max_depth=None,\n",
      "              max_leaves=None, min_child_weight=None, missing=nan,\n",
      "              monotone_constraints=None, multi_strategy=None, n_estimators=None,\n",
      "              n_jobs=None, num_parallel_tree=None, random_state=None, ...))], 'verbose': False, 'classifier': XGBClassifier(base_score=None, booster=None, callbacks=None,\n",
      "              colsample_bylevel=None, colsample_bynode=None,\n",
      "              colsample_bytree=None, device=None, early_stopping_rounds=None,\n",
      "              enable_categorical=False, eval_metric='mlogloss',\n",
      "              feature_types=None, gamma=None, grow_policy=None,\n",
      "              importance_type=None, interaction_constraints=None,\n",
      "              learning_rate=None, max_bin=None, max_cat_threshold=None,\n",
      "              max_cat_to_onehot=None, max_delta_step=None, max_depth=None,\n",
      "              max_leaves=None, min_child_weight=None, missing=nan,\n",
      "              monotone_constraints=None, multi_strategy=None, n_estimators=None,\n",
      "              n_jobs=None, num_parallel_tree=None, random_state=None, ...), 'classifier__objective': 'binary:logistic', 'classifier__base_score': None, 'classifier__booster': None, 'classifier__callbacks': None, 'classifier__colsample_bylevel': None, 'classifier__colsample_bynode': None, 'classifier__colsample_bytree': None, 'classifier__device': None, 'classifier__early_stopping_rounds': None, 'classifier__enable_categorical': False, 'classifier__eval_metric': 'mlogloss', 'classifier__feature_types': None, 'classifier__gamma': None, 'classifier__grow_policy': None, 'classifier__importance_type': None, 'classifier__interaction_constraints': None, 'classifier__learning_rate': None, 'classifier__max_bin': None, 'classifier__max_cat_threshold': None, 'classifier__max_cat_to_onehot': None, 'classifier__max_delta_step': None, 'classifier__max_depth': None, 'classifier__max_leaves': None, 'classifier__min_child_weight': None, 'classifier__missing': nan, 'classifier__monotone_constraints': None, 'classifier__multi_strategy': None, 'classifier__n_estimators': None, 'classifier__n_jobs': None, 'classifier__num_parallel_tree': None, 'classifier__random_state': None, 'classifier__reg_alpha': None, 'classifier__reg_lambda': None, 'classifier__sampling_method': None, 'classifier__scale_pos_weight': None, 'classifier__subsample': None, 'classifier__tree_method': None, 'classifier__validate_parameters': None, 'classifier__verbosity': None, 'classifier__use_label_encoder': False}\n",
      "\n",
      "Training set report:\n",
      "Class 0 - Precision: 1.0, Recall: 1.0, F1-Score: 1.0, Support: 495.0\n",
      "Class 1 - Precision: 1.0, Recall: 1.0, F1-Score: 1.0, Support: 721.0\n",
      "Class 2 - Precision: 1.0, Recall: 1.0, F1-Score: 1.0, Support: 2553.0\n",
      "Class 3 - Precision: 1.0, Recall: 1.0, F1-Score: 1.0, Support: 321.0\n",
      "Class 4 - Precision: 1.0, Recall: 1.0, F1-Score: 1.0, Support: 301.0\n",
      "Accuracy - F1-Score: 1.0\n",
      "Class macro avg - Precision: 1.0, Recall: 1.0, F1-Score: 1.0, Support: 4391.0\n",
      "Class weighted avg - Precision: 1.0, Recall: 1.0, F1-Score: 1.0, Support: 4391.0\n",
      "Balanced Accuracy: 1.0\n",
      "\n",
      "Test set report:\n",
      "Class 0 - Precision: 0.86, Recall: 0.77, F1-Score: 0.81, Support: 134.0\n",
      "Class 1 - Precision: 0.93, Recall: 0.88, F1-Score: 0.9, Support: 186.0\n",
      "Class 2 - Precision: 0.91, Recall: 0.94, F1-Score: 0.93, Support: 606.0\n",
      "Class 3 - Precision: 0.96, Recall: 0.91, F1-Score: 0.93, Support: 93.0\n",
      "Class 4 - Precision: 0.79, Recall: 0.86, F1-Score: 0.82, Support: 79.0\n",
      "Accuracy - F1-Score: 0.9\n",
      "Class macro avg - Precision: 0.89, Recall: 0.87, F1-Score: 0.88, Support: 1098.0\n",
      "Class weighted avg - Precision: 0.9, Recall: 0.9, F1-Score: 0.9, Support: 1098.0\n",
      "Balanced Accuracy: 0.87\n",
      "\n"
     ]
    }
   ],
   "source": [
    "dirpath = \"/Users/patricia/Documents/code/python/behavior-detection/output/\"\n",
    "\n",
    "reports = evaluation.generate_reports(trained_models, X_train_preprocessed, y_train, X_test_preprocessed, y_test)\n",
    "print(evaluation.print_reports(reports, dirpath))\n",
    "evaluation.save_reports_to_csv(reports, dirpath)"
   ]
  }
 ],
 "metadata": {
  "kernelspec": {
   "display_name": "projetos_ML",
   "language": "python",
   "name": "python3"
  },
  "language_info": {
   "codemirror_mode": {
    "name": "ipython",
    "version": 3
   },
   "file_extension": ".py",
   "mimetype": "text/x-python",
   "name": "python",
   "nbconvert_exporter": "python",
   "pygments_lexer": "ipython3",
   "version": "3.10.14"
  }
 },
 "nbformat": 4,
 "nbformat_minor": 2
}
