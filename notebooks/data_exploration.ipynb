{
 "cells": [
  {
   "cell_type": "code",
   "execution_count": 38,
   "metadata": {},
   "outputs": [],
   "source": [
    "import sys\n",
    "sys.path.append('../src')\n",
    "\n",
    "import data_exploration\n",
    "\n",
    "# Caminho para o arquivo CSV\n",
    "file_path = '../data/new_logs_labels.csv'\n",
    "\n",
    "# Chamar a função para carregar e inspecionar os dados\n",
    "df = data_exploration.load_data(file_path)\n",
    "# data_exploration.inspect_data(df)\n",
    "\n"
   ]
  },
  {
   "cell_type": "code",
   "execution_count": 39,
   "metadata": {},
   "outputs": [
    {
     "name": "stdout",
     "output_type": "stream",
     "text": [
      "Metadados salvos em data/metadata.csv\n"
     ]
    }
   ],
   "source": [
    "data_exploration.create_metadata_file(df, '../data/metadata.csv')"
   ]
  },
  {
   "cell_type": "code",
   "execution_count": 40,
   "metadata": {},
   "outputs": [
    {
     "data": {
      "text/plain": [
       "<module 'data_exploration' from '/Users/patricia/Documents/code/python/personality-detection/notebooks/../src/data_exploration.py'>"
      ]
     },
     "execution_count": 40,
     "metadata": {},
     "output_type": "execute_result"
    }
   ],
   "source": [
    "import importlib\n",
    "importlib.reload(data_exploration)"
   ]
  },
  {
   "cell_type": "code",
   "execution_count": 41,
   "metadata": {},
   "outputs": [],
   "source": [
    "X, y = data_exploration.split_features_and_target(df)"
   ]
  },
  {
   "cell_type": "code",
   "execution_count": 42,
   "metadata": {},
   "outputs": [
    {
     "name": "stdout",
     "output_type": "stream",
     "text": [
      "Index(['id_log', 'aluno', 'grupo', 'num_dia', 'num_log', 'log_type',\n",
      "       'ultimo_passo_correto', 'verificado_com_mouse',\n",
      "       'verificado_com_teclado', 'idle_time_acumulado',\n",
      "       ...\n",
      "       'misc_OI_Mt_Plus_Sb_total', 'misc_OI_Dv_Plus_Sb_total',\n",
      "       'misc_EqSec_Distrib_MtTerm_total', 'misc_OI_Mt_Minus_Mt_Plus_total',\n",
      "       'misc_OI_Mt_Minus_Mt_Minus_total', 'misc_OI_Dv_Plus_Ad_total',\n",
      "       'misc_EqPrim_Mt_Inc_total', 'misc_EqPrim_Dv_Inc_total',\n",
      "       'misc_OI_Dv_Minus_Dv_Minus_total',\n",
      "       'misc_EqSec_OpFrac_MMC_MtNumerador_total'],\n",
      "      dtype='object', length=336)\n",
      "Index(['traco_amabilidade_fator', 'traco_extrovercao_fator',\n",
      "       'traco_conscienciosidade_fator', 'traco_abertura_fator',\n",
      "       'traco_neuroticismo_fator'],\n",
      "      dtype='object')\n"
     ]
    }
   ],
   "source": [
    "# Exibe os labels das colunas de X e y\n",
    "print(X.columns)\n",
    "print(y.columns)"
   ]
  },
  {
   "cell_type": "code",
   "execution_count": 43,
   "metadata": {},
   "outputs": [
    {
     "name": "stdout",
     "output_type": "stream",
     "text": [
      "Primeiras linhas do DataFrame:\n",
      "   id_log  aluno  grupo  num_dia  num_log           log_type  \\\n",
      "0    8224      1      2        1        1  step_verification   \n",
      "1  527786      1      2        1        2          user_idle   \n",
      "2  527787      1      2        1        3          user_idle   \n",
      "3  527788      1      2        1        4          user_idle   \n",
      "4  527789      1      2        1        5          user_idle   \n",
      "\n",
      "   ultimo_passo_correto  verificado_com_mouse  verificado_com_teclado  \\\n",
      "0                     0                     0                       1   \n",
      "1                     1                     0                       0   \n",
      "2                     0                     0                       0   \n",
      "3                     0                     0                       0   \n",
      "4                     0                     0                       0   \n",
      "\n",
      "   idle_time_acumulado  ...  misc_OI_Mt_Plus_Sb_total  \\\n",
      "0                    0  ...                         0   \n",
      "1                    2  ...                         0   \n",
      "2                    4  ...                         0   \n",
      "3                    6  ...                         0   \n",
      "4                    8  ...                         0   \n",
      "\n",
      "   misc_OI_Dv_Plus_Sb_total  misc_EqSec_Distrib_MtTerm_total  \\\n",
      "0                         0                                0   \n",
      "1                         0                                0   \n",
      "2                         0                                0   \n",
      "3                         0                                0   \n",
      "4                         0                                0   \n",
      "\n",
      "   misc_OI_Mt_Minus_Mt_Plus_total  misc_OI_Mt_Minus_Mt_Minus_total  \\\n",
      "0                               0                                0   \n",
      "1                               0                                0   \n",
      "2                               0                                0   \n",
      "3                               0                                0   \n",
      "4                               0                                0   \n",
      "\n",
      "   misc_OI_Dv_Plus_Ad_total  misc_EqPrim_Mt_Inc_total  \\\n",
      "0                         0                         0   \n",
      "1                         0                         0   \n",
      "2                         0                         0   \n",
      "3                         0                         0   \n",
      "4                         0                         0   \n",
      "\n",
      "   misc_EqPrim_Dv_Inc_total  misc_OI_Dv_Minus_Dv_Minus_total  \\\n",
      "0                         0                                0   \n",
      "1                         0                                0   \n",
      "2                         0                                0   \n",
      "3                         0                                0   \n",
      "4                         0                                0   \n",
      "\n",
      "   misc_EqSec_OpFrac_MMC_MtNumerador_total  \n",
      "0                                        0  \n",
      "1                                        0  \n",
      "2                                        0  \n",
      "3                                        0  \n",
      "4                                        0  \n",
      "\n",
      "[5 rows x 336 columns]\n",
      "\n",
      "\n",
      "Informações sobre o DataFrame:\n",
      "<class 'pandas.core.frame.DataFrame'>\n",
      "RangeIndex: 5525 entries, 0 to 5524\n",
      "Columns: 336 entries, id_log to misc_EqSec_OpFrac_MMC_MtNumerador_total\n",
      "dtypes: float64(82), int64(253), object(1)\n",
      "memory usage: 14.2+ MB\n",
      "None\n",
      "\n",
      "\n",
      "Estatísticas descritivas do DataFrame:\n",
      "              id_log        aluno        grupo      num_dia      num_log  \\\n",
      "count    5525.000000  5525.000000  5525.000000  5525.000000  5525.000000   \n",
      "mean   418437.779729    15.338100     5.490317     5.446154    94.192398   \n",
      "std    162082.059108     8.603382     2.894561     2.849318    56.315597   \n",
      "min      8224.000000     1.000000     1.000000     1.000000     1.000000   \n",
      "25%    310258.000000     8.000000     3.000000     3.000000    47.000000   \n",
      "50%    528420.000000    15.000000     5.000000     5.000000    93.000000   \n",
      "75%    529801.000000    23.000000     8.000000     8.000000   139.000000   \n",
      "max    531310.000000    30.000000    10.000000    10.000000   283.000000   \n",
      "\n",
      "       ultimo_passo_correto  verificado_com_mouse  verificado_com_teclado  \\\n",
      "count           5525.000000           5525.000000             5525.000000   \n",
      "mean               0.051946              0.003982                0.065701   \n",
      "std                0.221938              0.062982                0.247782   \n",
      "min                0.000000              0.000000                0.000000   \n",
      "25%                0.000000              0.000000                0.000000   \n",
      "50%                0.000000              0.000000                0.000000   \n",
      "75%                0.000000              0.000000                0.000000   \n",
      "max                1.000000              1.000000                1.000000   \n",
      "\n",
      "       idle_time_acumulado  num_click_acumulado  ...  \\\n",
      "count          5525.000000          5525.000000  ...   \n",
      "mean             10.239819             0.257195  ...   \n",
      "std              22.889897             0.799566  ...   \n",
      "min               0.000000             0.000000  ...   \n",
      "25%               0.000000             0.000000  ...   \n",
      "50%               2.000000             0.000000  ...   \n",
      "75%              10.000000             0.000000  ...   \n",
      "max             222.000000             9.000000  ...   \n",
      "\n",
      "       misc_OI_Mt_Plus_Sb_total  misc_OI_Dv_Plus_Sb_total  \\\n",
      "count               5525.000000               5525.000000   \n",
      "mean                   0.182081                  0.322172   \n",
      "std                    0.464688                  1.102999   \n",
      "min                    0.000000                  0.000000   \n",
      "25%                    0.000000                  0.000000   \n",
      "50%                    0.000000                  0.000000   \n",
      "75%                    0.000000                  0.000000   \n",
      "max                    2.000000                  5.000000   \n",
      "\n",
      "       misc_EqSec_Distrib_MtTerm_total  misc_OI_Mt_Minus_Mt_Plus_total  \\\n",
      "count                      5525.000000                          5525.0   \n",
      "mean                          0.471674                             0.0   \n",
      "std                           1.553349                             0.0   \n",
      "min                           0.000000                             0.0   \n",
      "25%                           0.000000                             0.0   \n",
      "50%                           0.000000                             0.0   \n",
      "75%                           0.000000                             0.0   \n",
      "max                           9.000000                             0.0   \n",
      "\n",
      "       misc_OI_Mt_Minus_Mt_Minus_total  misc_OI_Dv_Plus_Ad_total  \\\n",
      "count                           5525.0               5525.000000   \n",
      "mean                               0.0                  0.130317   \n",
      "std                                0.0                  0.493655   \n",
      "min                                0.0                  0.000000   \n",
      "25%                                0.0                  0.000000   \n",
      "50%                                0.0                  0.000000   \n",
      "75%                                0.0                  0.000000   \n",
      "max                                0.0                  2.000000   \n",
      "\n",
      "       misc_EqPrim_Mt_Inc_total  misc_EqPrim_Dv_Inc_total  \\\n",
      "count               5525.000000               5525.000000   \n",
      "mean                   0.030045                  0.173575   \n",
      "std                    0.170727                  0.444318   \n",
      "min                    0.000000                  0.000000   \n",
      "25%                    0.000000                  0.000000   \n",
      "50%                    0.000000                  0.000000   \n",
      "75%                    0.000000                  0.000000   \n",
      "max                    1.000000                  2.000000   \n",
      "\n",
      "       misc_OI_Dv_Minus_Dv_Minus_total  \\\n",
      "count                           5525.0   \n",
      "mean                               0.0   \n",
      "std                                0.0   \n",
      "min                                0.0   \n",
      "25%                                0.0   \n",
      "50%                                0.0   \n",
      "75%                                0.0   \n",
      "max                                0.0   \n",
      "\n",
      "       misc_EqSec_OpFrac_MMC_MtNumerador_total  \n",
      "count                              5525.000000  \n",
      "mean                                  0.145701  \n",
      "std                                   0.841074  \n",
      "min                                   0.000000  \n",
      "25%                                   0.000000  \n",
      "50%                                   0.000000  \n",
      "75%                                   0.000000  \n",
      "max                                   5.000000  \n",
      "\n",
      "[8 rows x 335 columns]\n",
      "\n",
      "\n",
      "Contagem de valores únicos por coluna:\n",
      "id_log                                     5525\n",
      "aluno                                        30\n",
      "grupo                                        10\n",
      "num_dia                                      10\n",
      "num_log                                     283\n",
      "                                           ... \n",
      "misc_OI_Dv_Plus_Ad_total                      2\n",
      "misc_EqPrim_Mt_Inc_total                      2\n",
      "misc_EqPrim_Dv_Inc_total                      3\n",
      "misc_OI_Dv_Minus_Dv_Minus_total               1\n",
      "misc_EqSec_OpFrac_MMC_MtNumerador_total       2\n",
      "Length: 336, dtype: int64\n"
     ]
    }
   ],
   "source": [
    "data_exploration.inspect_data(X)"
   ]
  },
  {
   "cell_type": "code",
   "execution_count": 44,
   "metadata": {},
   "outputs": [
    {
     "name": "stdout",
     "output_type": "stream",
     "text": [
      "Primeiras linhas do DataFrame:\n",
      "   traco_amabilidade_fator  traco_extrovercao_fator  \\\n",
      "0                 0.149254                 0.179104   \n",
      "1                 0.149254                 0.179104   \n",
      "2                 0.149254                 0.179104   \n",
      "3                 0.149254                 0.179104   \n",
      "4                 0.149254                 0.179104   \n",
      "\n",
      "   traco_conscienciosidade_fator  traco_abertura_fator  \\\n",
      "0                       0.223881              0.208955   \n",
      "1                       0.223881              0.208955   \n",
      "2                       0.223881              0.208955   \n",
      "3                       0.223881              0.208955   \n",
      "4                       0.223881              0.208955   \n",
      "\n",
      "   traco_neuroticismo_fator  \n",
      "0                  0.238806  \n",
      "1                  0.238806  \n",
      "2                  0.238806  \n",
      "3                  0.238806  \n",
      "4                  0.238806  \n",
      "\n",
      "\n",
      "Informações sobre o DataFrame:\n",
      "<class 'pandas.core.frame.DataFrame'>\n",
      "RangeIndex: 5525 entries, 0 to 5524\n",
      "Data columns (total 5 columns):\n",
      " #   Column                         Non-Null Count  Dtype  \n",
      "---  ------                         --------------  -----  \n",
      " 0   traco_amabilidade_fator        5525 non-null   float64\n",
      " 1   traco_extrovercao_fator        5525 non-null   float64\n",
      " 2   traco_conscienciosidade_fator  5525 non-null   float64\n",
      " 3   traco_abertura_fator           5525 non-null   float64\n",
      " 4   traco_neuroticismo_fator       5525 non-null   float64\n",
      "dtypes: float64(5)\n",
      "memory usage: 215.9 KB\n",
      "None\n",
      "\n",
      "\n",
      "Estatísticas descritivas do DataFrame:\n",
      "       traco_amabilidade_fator  traco_extrovercao_fator  \\\n",
      "count              5525.000000              5525.000000   \n",
      "mean                  0.210812                 0.201666   \n",
      "std                   0.023261                 0.032555   \n",
      "min                   0.149254                 0.112676   \n",
      "25%                   0.197368                 0.194030   \n",
      "50%                   0.216867                 0.204819   \n",
      "75%                   0.225352                 0.225352   \n",
      "max                   0.256757                 0.260274   \n",
      "\n",
      "       traco_conscienciosidade_fator  traco_abertura_fator  \\\n",
      "count                    5525.000000           5525.000000   \n",
      "mean                        0.199277              0.198572   \n",
      "std                         0.031062              0.032776   \n",
      "min                         0.097222              0.136986   \n",
      "25%                         0.188406              0.175676   \n",
      "50%                         0.202532              0.197674   \n",
      "75%                         0.217391              0.223684   \n",
      "max                         0.243590              0.290323   \n",
      "\n",
      "       traco_neuroticismo_fator  \n",
      "count               5525.000000  \n",
      "mean                   0.189673  \n",
      "std                    0.038064  \n",
      "min                    0.112903  \n",
      "25%                    0.164557  \n",
      "50%                    0.184211  \n",
      "75%                    0.222222  \n",
      "max                    0.281690  \n",
      "\n",
      "\n",
      "Contagem de valores únicos por coluna:\n",
      "traco_amabilidade_fator          28\n",
      "traco_extrovercao_fator          25\n",
      "traco_conscienciosidade_fator    27\n",
      "traco_abertura_fator             27\n",
      "traco_neuroticismo_fator         29\n",
      "dtype: int64\n"
     ]
    }
   ],
   "source": [
    "data_exploration.inspect_data(y)"
   ]
  },
  {
   "cell_type": "code",
   "execution_count": 45,
   "metadata": {},
   "outputs": [],
   "source": [
    "# Cria um novo dataframe que contém y concatenado com X\n",
    "new_df = data_exploration.concat_features_and_target(X, y)\n",
    "\n"
   ]
  },
  {
   "cell_type": "code",
   "execution_count": 46,
   "metadata": {},
   "outputs": [],
   "source": [
    "# Pegar a primeira instância de cada aluno\n",
    "first_instances = new_df.groupby('aluno').first().reset_index()\n",
    "\n",
    "# Selecionar apenas as colunas desejadas\n",
    "first_instances = first_instances[y.columns]"
   ]
  },
  {
   "cell_type": "code",
   "execution_count": 47,
   "metadata": {},
   "outputs": [
    {
     "data": {
      "image/png": "[encoded data removed]",
      "text/plain": [
       "<Figure size 2000x1500 with 6 Axes>"
      ]
     },
     "metadata": {},
     "output_type": "display_data"
    }
   ],
   "source": [
    "data_exploration.vis_histogram(first_instances, 10)"
   ]
  },
  {
   "cell_type": "code",
   "execution_count": null,
   "metadata": {},
   "outputs": [],
   "source": []
  }
 ],
 "metadata": {
  "kernelspec": {
   "display_name": "base",
   "language": "python",
   "name": "python3"
  },
  "language_info": {
   "codemirror_mode": {
    "name": "ipython",
    "version": 3
   },
   "file_extension": ".py",
   "mimetype": "text/x-python",
   "name": "python",
   "nbconvert_exporter": "python",
   "pygments_lexer": "ipython3",
   "version": "3.10.9"
  }
 },
 "nbformat": 4,
 "nbformat_minor": 2
}
