{
 "cells": [
  {
   "cell_type": "markdown",
   "id": "4f46e03b",
   "metadata": {},
   "source": [
    "## Imports"
   ]
  },
  {
   "cell_type": "code",
   "execution_count": 1,
   "id": "19eeac05",
   "metadata": {
    "scrolled": true
   },
   "outputs": [],
   "source": [
    "import optuna\n",
    "import optuna.logging\n",
    "\n",
    "from sklearn import datasets\n",
    "from sklearn.model_selection import GridSearchCV, RandomizedSearchCV\n",
    "from sklearn.model_selection import train_test_split, cross_val_score\n",
    "from sklearn.ensemble import RandomForestClassifier\n",
    "from optuna.samplers import TPESampler\n",
    "from time import time\n",
    "\n",
    "optuna.logging.disable_default_handler()"
   ]
  },
  {
   "cell_type": "markdown",
   "id": "7a415bc4",
   "metadata": {},
   "source": [
    "## Data"
   ]
  },
  {
   "cell_type": "code",
   "execution_count": 2,
   "id": "a4d784b5",
   "metadata": {},
   "outputs": [],
   "source": [
    "digits = datasets.load_digits()\n",
    "\n",
    "n_samples = len(digits.images)\n",
    "X = digits.images.reshape((n_samples, -1))\n",
    "y = digits.target"
   ]
  },
  {
   "cell_type": "markdown",
   "id": "ba9f97fd",
   "metadata": {},
   "source": [
    "## Classifier"
   ]
  },
  {
   "cell_type": "code",
   "execution_count": 3,
   "id": "44b53e40",
   "metadata": {},
   "outputs": [],
   "source": [
    "# random forest classifier object\n",
    "rfc = RandomForestClassifier(random_state=42)"
   ]
  },
  {
   "cell_type": "markdown",
   "id": "a953d3c5",
   "metadata": {},
   "source": [
    "## Hyperparameter search space"
   ]
  },
  {
   "cell_type": "code",
   "execution_count": 4,
   "id": "4fe351db",
   "metadata": {},
   "outputs": [],
   "source": [
    "hyperparam_grid = {\n",
    "    'n_estimators': [50,100,150,200],\n",
    "    'criterion': ['gini', 'entropy'],\n",
    "    'min_samples_split': [2, 3, 4],\n",
    "    'min_samples_leaf': [1, 2, 3, 4, 5],\n",
    "    'max_features': ['sqrt', 'log2'],\n",
    "    'max_depth': [5, 6, 7]\n",
    "    }"
   ]
  },
  {
   "cell_type": "markdown",
   "id": "4bb54eae",
   "metadata": {},
   "source": [
    "## Results summary function"
   ]
  },
  {
   "cell_type": "code",
   "execution_count": 5,
   "id": "7d923cea",
   "metadata": {},
   "outputs": [],
   "source": [
    "def get_best_results(param_object, total_time):\n",
    "\n",
    "    iterations = len(param_object.cv_results_['params'])\n",
    "    best_score = param_object.best_score_\n",
    "    best_index = param_object.best_index_+1\n",
    "    best_params = param_object.best_params_\n",
    "\n",
    "    print(f\"---{param_object.__class__.__name__}---\")\n",
    "    print(f\"Total time: {total_time:.2f} seconds\")\n",
    "    print(f\"Number of iterations: {iterations}\")\n",
    "    print(f\"Best trial index: {best_index}\")\n",
    "    print(f\"Best score: {best_score}\")\n",
    "    print(f\"Best hyperparameters: {best_params}\")"
   ]
  },
  {
   "cell_type": "markdown",
   "id": "9ac71388",
   "metadata": {},
   "source": [
    "## Grid Search"
   ]
  },
  {
   "cell_type": "code",
   "execution_count": 6,
   "id": "277bd6f5",
   "metadata": {
    "scrolled": true
   },
   "outputs": [
    {
     "name": "stdout",
     "output_type": "stream",
     "text": [
      "---GridSearchCV---\n",
      "Total time: 103.56 seconds\n",
      "Number of iterations: 720\n",
      "Best trial index: 667\n",
      "Best score: 0.9360213556174559\n",
      "Best hyperparameters: {'criterion': 'entropy', 'max_depth': 7, 'max_features': 'log2', 'min_samples_leaf': 1, 'min_samples_split': 3, 'n_estimators': 150}\n"
     ]
    }
   ],
   "source": [
    "grid_search = GridSearchCV(estimator=rfc,\n",
    "                  param_grid=hyperparam_grid,\n",
    "                  scoring='f1_micro',\n",
    "                  n_jobs=-1,\n",
    "                  verbose=0)\n",
    "\n",
    "start = time()\n",
    "grid_search.fit(X, y)\n",
    "total_time = time() - start\n",
    "\n",
    "get_best_results(grid_search, total_time)"
   ]
  },
  {
   "cell_type": "markdown",
   "id": "ccac86c9",
   "metadata": {},
   "source": [
    "## Random Search"
   ]
  },
  {
   "cell_type": "code",
   "execution_count": 7,
   "id": "a474adde",
   "metadata": {
    "scrolled": true
   },
   "outputs": [
    {
     "name": "stdout",
     "output_type": "stream",
     "text": [
      "---RandomizedSearchCV---\n",
      "Total time: 50.89 seconds\n",
      "Number of iterations: 360\n",
      "Best trial index: 137\n",
      "Best score: 0.9360213556174559\n",
      "Best hyperparameters: {'n_estimators': 150, 'min_samples_split': 3, 'min_samples_leaf': 1, 'max_features': 'log2', 'max_depth': 7, 'criterion': 'entropy'}\n"
     ]
    }
   ],
   "source": [
    "random_search = RandomizedSearchCV(estimator=rfc,\n",
    "                  param_distributions=hyperparam_grid,\n",
    "                  scoring='f1_micro',\n",
    "                  n_jobs=-1,\n",
    "                  verbose=0,\n",
    "                  n_iter=360)\n",
    "\n",
    "# perform hyperparamter tuning\n",
    "start = time()\n",
    "random_search.fit(X, y)\n",
    "total_time = time() - start\n",
    "\n",
    "# store result in a data frame \n",
    "get_best_results(random_search, total_time)"
   ]
  },
  {
   "cell_type": "markdown",
   "id": "0b16c381",
   "metadata": {},
   "source": [
    "## Optuna"
   ]
  },
  {
   "cell_type": "code",
   "execution_count": 8,
   "id": "92b4e1b2",
   "metadata": {},
   "outputs": [
    {
     "name": "stdout",
     "output_type": "stream",
     "text": [
      "---Bayesian Optimization---\n",
      "Total time: 30.93 seconds\n",
      "Number of iterations: 100\n",
      "Best trial index: 71\n",
      "Best score: 0.9349071494893222\n",
      "Best hyperparameters: {'n_estimators': 150, 'criterion': 'entropy', 'min_samples_split': 3, 'min_samples_leaf': 1, 'max_depth': 7, 'max_features': 'sqrt'}\n"
     ]
    }
   ],
   "source": [
    "def objective(trial):\n",
    "\n",
    "    # search space\n",
    "    n_estimators = trial.suggest_int('n_estimators', low=50, high=200, step=50)\n",
    "    criterion = trial.suggest_categorical('criterion', ['gini', 'entropy'])\n",
    "    min_samples_split = trial.suggest_int('min_samples_split', low=2, high=4, step=1)\n",
    "    min_samples_leaf = trial.suggest_int('min_samples_leaf', low=1, high=5, step=1)\n",
    "    max_depth = trial.suggest_int('max_depth', low=5, high=7, step=1)\n",
    "    max_features = trial.suggest_categorical('max_features', [ 'sqrt','log2'])\n",
    "\n",
    "    # random forest classifier\n",
    "    rfc = RandomForestClassifier(n_estimators=n_estimators, \n",
    "                                 criterion=criterion,\n",
    "                                 min_samples_split=min_samples_split,\n",
    "                                 min_samples_leaf=min_samples_leaf,\n",
    "                                 max_depth=max_depth,\n",
    "                                 max_features=max_features)\n",
    "    \n",
    "    # return score\n",
    "    return cross_val_score(estimator=rfc, \n",
    "                             X=X, \n",
    "                             y=y, \n",
    "                             scoring='f1_micro',\n",
    "                             n_jobs=-1).mean()\n",
    "\n",
    "\n",
    "# create a study (aim to maximize score)\n",
    "study = optuna.create_study(sampler=TPESampler(), direction='maximize')\n",
    "\n",
    "# perform hyperparamter tuning (while timing the process)\n",
    "start = time()\n",
    "study.optimize(objective, n_trials=100)\n",
    "total_time = time() - start\n",
    "\n",
    "print(f\"---Bayesian Optimization---\")\n",
    "print(f\"Total time: {total_time:.2f} seconds\")\n",
    "print(f\"Number of iterations: {100}\")\n",
    "print(f\"Best trial index: {study.best_trial.number}\")\n",
    "print(f\"Best score: {study.best_trial.value}\")\n",
    "print(f\"Best hyperparameters: {study.best_params}\")"
   ]
  },
  {
   "cell_type": "code",
   "execution_count": 9,
   "id": "fe2d737a",
   "metadata": {},
   "outputs": [
    {
     "name": "stderr",
     "output_type": "stream",
     "text": [
      "/opt/anaconda3/envs/projetos_ML/lib/python3.11/site-packages/skopt/optimizer/optimizer.py:517: UserWarning: The objective has been evaluated at point ['entropy', 7, 'log2', 1, 2, 150] before, using random point ['entropy', 5, 'sqrt', 3, 3, 200]\n",
      "  warnings.warn(\n",
      "/opt/anaconda3/envs/projetos_ML/lib/python3.11/site-packages/skopt/optimizer/optimizer.py:517: UserWarning: The objective has been evaluated at point ['entropy', 7, 'log2', 1, 2, 200] before, using random point ['entropy', 6, 'sqrt', 5, 4, 50]\n",
      "  warnings.warn(\n",
      "/opt/anaconda3/envs/projetos_ML/lib/python3.11/site-packages/skopt/optimizer/optimizer.py:517: UserWarning: The objective has been evaluated at point ['entropy', 7, 'log2', 1, 2, 200] before, using random point ['entropy', 7, 'log2', 3, 4, 100]\n",
      "  warnings.warn(\n",
      "/opt/anaconda3/envs/projetos_ML/lib/python3.11/site-packages/skopt/optimizer/optimizer.py:517: UserWarning: The objective has been evaluated at point ['entropy', 7, 'log2', 1, 2, 200] before, using random point ['gini', 6, 'log2', 3, 4, 200]\n",
      "  warnings.warn(\n",
      "/opt/anaconda3/envs/projetos_ML/lib/python3.11/site-packages/skopt/optimizer/optimizer.py:517: UserWarning: The objective has been evaluated at point ['entropy', 7, 'log2', 1, 2, 200] before, using random point ['entropy', 6, 'sqrt', 4, 2, 150]\n",
      "  warnings.warn(\n",
      "/opt/anaconda3/envs/projetos_ML/lib/python3.11/site-packages/skopt/optimizer/optimizer.py:517: UserWarning: The objective has been evaluated at point ['entropy', 7, 'log2', 1, 2, 200] before, using random point ['entropy', 6, 'log2', 3, 4, 50]\n",
      "  warnings.warn(\n",
      "/opt/anaconda3/envs/projetos_ML/lib/python3.11/site-packages/skopt/optimizer/optimizer.py:517: UserWarning: The objective has been evaluated at point ['entropy', 7, 'log2', 1, 4, 200] before, using random point ['entropy', 6, 'sqrt', 2, 3, 50]\n",
      "  warnings.warn(\n",
      "/opt/anaconda3/envs/projetos_ML/lib/python3.11/site-packages/skopt/optimizer/optimizer.py:517: UserWarning: The objective has been evaluated at point ['entropy', 7, 'log2', 1, 4, 200] before, using random point ['gini', 6, 'sqrt', 4, 3, 200]\n",
      "  warnings.warn(\n",
      "/opt/anaconda3/envs/projetos_ML/lib/python3.11/site-packages/skopt/optimizer/optimizer.py:517: UserWarning: The objective has been evaluated at point ['entropy', 7, 'log2', 1, 4, 200] before, using random point ['gini', 5, 'sqrt', 3, 4, 200]\n",
      "  warnings.warn(\n",
      "/opt/anaconda3/envs/projetos_ML/lib/python3.11/site-packages/skopt/optimizer/optimizer.py:517: UserWarning: The objective has been evaluated at point ['entropy', 7, 'log2', 1, 4, 200] before, using random point ['entropy', 5, 'log2', 3, 4, 100]\n",
      "  warnings.warn(\n",
      "/opt/anaconda3/envs/projetos_ML/lib/python3.11/site-packages/skopt/optimizer/optimizer.py:517: UserWarning: The objective has been evaluated at point ['entropy', 7, 'log2', 1, 2, 200] before, using random point ['entropy', 6, 'log2', 5, 4, 200]\n",
      "  warnings.warn(\n",
      "/opt/anaconda3/envs/projetos_ML/lib/python3.11/site-packages/skopt/optimizer/optimizer.py:517: UserWarning: The objective has been evaluated at point ['entropy', 7, 'log2', 1, 4, 200] before, using random point ['entropy', 6, 'sqrt', 3, 2, 150]\n",
      "  warnings.warn(\n",
      "/opt/anaconda3/envs/projetos_ML/lib/python3.11/site-packages/skopt/optimizer/optimizer.py:517: UserWarning: The objective has been evaluated at point ['entropy', 7, 'log2', 1, 2, 150] before, using random point ['entropy', 5, 'log2', 3, 4, 100]\n",
      "  warnings.warn(\n",
      "/opt/anaconda3/envs/projetos_ML/lib/python3.11/site-packages/skopt/optimizer/optimizer.py:517: UserWarning: The objective has been evaluated at point ['entropy', 7, 'log2', 1, 2, 150] before, using random point ['entropy', 6, 'sqrt', 4, 2, 200]\n",
      "  warnings.warn(\n",
      "/opt/anaconda3/envs/projetos_ML/lib/python3.11/site-packages/skopt/optimizer/optimizer.py:517: UserWarning: The objective has been evaluated at point ['entropy', 7, 'log2', 1, 2, 150] before, using random point ['entropy', 6, 'log2', 3, 3, 150]\n",
      "  warnings.warn(\n",
      "/opt/anaconda3/envs/projetos_ML/lib/python3.11/site-packages/skopt/optimizer/optimizer.py:517: UserWarning: The objective has been evaluated at point ['entropy', 7, 'log2', 1, 2, 150] before, using random point ['gini', 6, 'log2', 3, 3, 150]\n",
      "  warnings.warn(\n",
      "/opt/anaconda3/envs/projetos_ML/lib/python3.11/site-packages/skopt/optimizer/optimizer.py:517: UserWarning: The objective has been evaluated at point ['entropy', 7, 'log2', 1, 4, 200] before, using random point ['entropy', 5, 'sqrt', 3, 2, 200]\n",
      "  warnings.warn(\n",
      "/opt/anaconda3/envs/projetos_ML/lib/python3.11/site-packages/skopt/optimizer/optimizer.py:517: UserWarning: The objective has been evaluated at point ['entropy', 7, 'log2', 1, 2, 150] before, using random point ['gini', 6, 'log2', 4, 3, 100]\n",
      "  warnings.warn(\n",
      "/opt/anaconda3/envs/projetos_ML/lib/python3.11/site-packages/skopt/optimizer/optimizer.py:517: UserWarning: The objective has been evaluated at point ['entropy', 7, 'log2', 1, 2, 150] before, using random point ['gini', 5, 'sqrt', 4, 2, 100]\n",
      "  warnings.warn(\n",
      "/opt/anaconda3/envs/projetos_ML/lib/python3.11/site-packages/skopt/optimizer/optimizer.py:517: UserWarning: The objective has been evaluated at point ['entropy', 7, 'sqrt', 1, 4, 200] before, using random point ['entropy', 6, 'sqrt', 5, 3, 150]\n",
      "  warnings.warn(\n",
      "/opt/anaconda3/envs/projetos_ML/lib/python3.11/site-packages/skopt/optimizer/optimizer.py:517: UserWarning: The objective has been evaluated at point ['entropy', 7, 'sqrt', 1, 4, 200] before, using random point ['entropy', 6, 'log2', 5, 2, 200]\n",
      "  warnings.warn(\n",
      "/opt/anaconda3/envs/projetos_ML/lib/python3.11/site-packages/skopt/optimizer/optimizer.py:517: UserWarning: The objective has been evaluated at point ['entropy', 7, 'log2', 1, 2, 150] before, using random point ['gini', 6, 'log2', 2, 3, 200]\n",
      "  warnings.warn(\n"
     ]
    },
    {
     "name": "stdout",
     "output_type": "stream",
     "text": [
      "--- Otimização Bayesiana com skopt.BayesSearchCV ---\n",
      "Tempo total: 268.16 segundos\n",
      "Índice da melhor tentativa: 38\n",
      "Melhor pontuação (f1_micro): 0.9355\n",
      "Melhores hiperparâmetros: OrderedDict([('criterion', 'entropy'), ('max_depth', 7), ('max_features', 'sqrt'), ('min_samples_leaf', 1), ('min_samples_split', 2), ('n_estimators', 200)])\n"
     ]
    }
   ],
   "source": [
    "import time\n",
    "from skopt import BayesSearchCV\n",
    "from skopt.space import Integer, Categorical\n",
    "from sklearn.ensemble import RandomForestClassifier\n",
    "\n",
    "\n",
    "# Definição do espaço de busca\n",
    "search_space = {\n",
    "    'n_estimators': Categorical([50, 100, 150, 200]),\n",
    "    'criterion': Categorical(['gini', 'entropy']),\n",
    "    'min_samples_split': Integer(2, 4),\n",
    "    'min_samples_leaf': Integer(1, 5),\n",
    "    'max_depth': Integer(5, 7),\n",
    "    'max_features': Categorical(['sqrt', 'log2'])\n",
    "}\n",
    "\n",
    "# Inicialização do classificador\n",
    "rfc = RandomForestClassifier(random_state=42)\n",
    "\n",
    "# Inicialização do BayesSearchCV\n",
    "bayes_search = BayesSearchCV(\n",
    "    estimator=rfc,\n",
    "    search_spaces=search_space,\n",
    "    n_iter=100,\n",
    "    scoring='f1_micro',\n",
    "    cv=5,  # Pode ajustar conforme necessário\n",
    "    n_jobs=-1,  # Utiliza todos os núcleos disponíveis\n",
    "    random_state=42,\n",
    "    verbose=0  # Ajuste para 1 ou 2 para mais detalhes durante a execução\n",
    ")\n",
    "\n",
    "# Medição do tempo e execução da otimização\n",
    "start_time = time.time()\n",
    "bayes_search.fit(X, y)\n",
    "total_time = time.time() - start_time\n",
    "\n",
    "# Extração dos resultados\n",
    "best_index = bayes_search.best_index_\n",
    "best_score = bayes_search.best_score_\n",
    "best_params = bayes_search.best_params_\n",
    "#n_iterations = bayes_search.n_iter_\n",
    "\n",
    "# Impressão dos resultados\n",
    "print(f\"--- Otimização Bayesiana com skopt.BayesSearchCV ---\")\n",
    "print(f\"Tempo total: {total_time:.2f} segundos\")\n",
    "#print(f\"Número de iterações: {n_iterations}\")\n",
    "print(f\"Índice da melhor tentativa: {best_index}\")\n",
    "print(f\"Melhor pontuação (f1_micro): {best_score:.4f}\")\n",
    "print(f\"Melhores hiperparâmetros: {best_params}\")\n"
   ]
  }
 ],
 "metadata": {
  "kernelspec": {
   "display_name": "projetos_ML",
   "language": "python",
   "name": "python3"
  },
  "language_info": {
   "codemirror_mode": {
    "name": "ipython",
    "version": 3
   },
   "file_extension": ".py",
   "mimetype": "text/x-python",
   "name": "python",
   "nbconvert_exporter": "python",
   "pygments_lexer": "ipython3",
   "version": "3.11.9"
  },
  "toc": {
   "base_numbering": 1,
   "nav_menu": {},
   "number_sections": true,
   "sideBar": true,
   "skip_h1_title": false,
   "title_cell": "Table of Contents",
   "title_sidebar": "Contents",
   "toc_cell": false,
   "toc_position": {},
   "toc_section_display": true,
   "toc_window_display": false
  }
 },
 "nbformat": 4,
 "nbformat_minor": 5
}
