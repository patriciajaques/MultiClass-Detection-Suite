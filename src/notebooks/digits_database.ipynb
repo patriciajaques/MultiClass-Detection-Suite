{
 "cells": [
  {
   "cell_type": "markdown",
   "id": "4f46e03b",
   "metadata": {},
   "source": [
    "## Imports"
   ]
  },
  {
   "cell_type": "code",
   "execution_count": 1,
   "id": "920d4b3f",
   "metadata": {},
   "outputs": [
    {
     "name": "stdout",
     "output_type": "stream",
     "text": [
      "/Users/patricia/Documents/code/python-code/behavior-detection/src\n"
     ]
    }
   ],
   "source": [
    "import os\n",
    "path = \"/Users/patricia/Documents/code/python-code/behavior-detection/src\"\n",
    "os.chdir(path)  # Muda o diretório para o nível anterior (a raiz do projeto)\n",
    "print(os.getcwd())  # Verifique se agora está na raiz"
   ]
  },
  {
   "cell_type": "code",
   "execution_count": 2,
   "id": "19eeac05",
   "metadata": {
    "scrolled": true
   },
   "outputs": [],
   "source": [
    "from sklearn import datasets\n",
    "from time import time\n",
    "import pandas as pd"
   ]
  },
  {
   "cell_type": "markdown",
   "id": "7a415bc4",
   "metadata": {},
   "source": [
    "## Data"
   ]
  },
  {
   "cell_type": "code",
   "execution_count": 3,
   "id": "a4d784b5",
   "metadata": {},
   "outputs": [],
   "source": [
    "digits = datasets.load_digits()\n",
    "\n",
    "n_samples = len(digits.images)\n",
    "X = digits.images\n",
    "y = digits.target\n",
    "\n",
    "# Flatten the images\n",
    "X = X.reshape((n_samples, -1))\n",
    "X = pd.DataFrame(X)"
   ]
  },
  {
   "cell_type": "code",
   "execution_count": 4,
   "id": "1ee2220c",
   "metadata": {},
   "outputs": [
    {
     "name": "stdout",
     "output_type": "stream",
     "text": [
      "1797\n",
      "<class 'pandas.core.frame.DataFrame'>\n",
      "    0    1    2     3     4     5    6    7    8    9   ...   54   55   56  \\\n",
      "0  0.0  0.0  5.0  13.0   9.0   1.0  0.0  0.0  0.0  0.0  ...  0.0  0.0  0.0   \n",
      "1  0.0  0.0  0.0  12.0  13.0   5.0  0.0  0.0  0.0  0.0  ...  0.0  0.0  0.0   \n",
      "2  0.0  0.0  0.0   4.0  15.0  12.0  0.0  0.0  0.0  0.0  ...  5.0  0.0  0.0   \n",
      "3  0.0  0.0  7.0  15.0  13.0   1.0  0.0  0.0  0.0  8.0  ...  9.0  0.0  0.0   \n",
      "4  0.0  0.0  0.0   1.0  11.0   0.0  0.0  0.0  0.0  0.0  ...  0.0  0.0  0.0   \n",
      "\n",
      "    57   58    59    60    61   62   63  \n",
      "0  0.0  6.0  13.0  10.0   0.0  0.0  0.0  \n",
      "1  0.0  0.0  11.0  16.0  10.0  0.0  0.0  \n",
      "2  0.0  0.0   3.0  11.0  16.0  9.0  0.0  \n",
      "3  0.0  7.0  13.0  13.0   9.0  0.0  0.0  \n",
      "4  0.0  0.0   2.0  16.0   4.0  0.0  0.0  \n",
      "\n",
      "[5 rows x 64 columns]\n",
      "[0 1 2 3 4]\n"
     ]
    }
   ],
   "source": [
    "print(n_samples)\n",
    "print(type(X))\n",
    "print(X.head(5))\n",
    "print(y[:5])"
   ]
  },
  {
   "cell_type": "code",
   "execution_count": 5,
   "id": "4d44db6a",
   "metadata": {},
   "outputs": [],
   "source": [
    "from sklearn.model_selection import train_test_split\n",
    "\n",
    "# Dividir X e y em conjuntos de treinamento e teste\n",
    "X_train, X_test, y_train, y_test = train_test_split(X, y, test_size=0.2, random_state=42)"
   ]
  },
  {
   "cell_type": "markdown",
   "id": "34b350ec",
   "metadata": {},
   "source": [
    "## Preprocessing"
   ]
  },
  {
   "cell_type": "code",
   "execution_count": 6,
   "id": "0240ae19",
   "metadata": {},
   "outputs": [],
   "source": [
    "import pandas as pd\n",
    "from core.preprocessors.data_encoder import DataEncoder\n",
    "\n",
    "# Codificar y_train\n",
    "y_train = DataEncoder.encode_y(y_train)\n",
    "# Codificar y_test\n",
    "y_test = DataEncoder.encode_y(y_test)\n",
    "\n",
    "# Pré-processar X_train\n",
    "X_encoder = DataEncoder(num_classes=0, select_numerical=True)\n",
    "X_encoder.fit(X_train)\n",
    "\n",
    "X_train = X_encoder.transform(X_train)\n",
    "\n",
    "# Pré-processar X_test usando o mesmo preprocessor\n",
    "X_test = X_encoder.transform(X_test)"
   ]
  },
  {
   "cell_type": "code",
   "execution_count": 7,
   "id": "f6c8f39f",
   "metadata": {},
   "outputs": [
    {
     "name": "stdout",
     "output_type": "stream",
     "text": [
      "      num_standard__x0  num_standard__x1  num_standard__x2  num_standard__x3  \\\n",
      "1734               0.0         -0.341698         -0.463360          0.508365   \n",
      "855                0.0         -0.341698          0.784716         -0.658600   \n",
      "1642               0.0         -0.341698         -1.087399         -0.425207   \n",
      "175                0.0          0.759243          0.992729          0.975151   \n",
      "925                0.0         -0.341698          0.160678          0.508365   \n",
      "548                0.0         -0.341698          1.616768          0.975151   \n",
      "1615               0.0         -0.341698         -1.087399         -0.658600   \n",
      "334                0.0         -0.341698         -0.463360         -0.191814   \n",
      "756                0.0         -0.341698         -1.087399         -0.658600   \n",
      "433                0.0         -0.341698         -1.087399         -1.592172   \n",
      "889                0.0          5.163004          2.240806          0.041579   \n",
      "1675               0.0          0.759243          1.200742         -0.425207   \n",
      "198                0.0         -0.341698         -1.087399         -2.292351   \n",
      "15                 0.0          5.163004          1.408755          0.274972   \n",
      "265                0.0         -0.341698          0.160678          0.041579   \n",
      "\n",
      "      num_standard__x4  num_standard__x5  num_standard__x6  num_standard__x7  \\\n",
      "1734         -2.545906         -1.037226         -0.406234         -0.131019   \n",
      "855          -1.844602         -1.037226         -0.406234         -0.131019   \n",
      "1642          0.259308         -0.504526         -0.406234         -0.131019   \n",
      "175           0.960612          0.916006         -0.406234         -0.131019   \n",
      "925           0.259308         -0.504526         -0.406234         -0.131019   \n",
      "548           0.960612          1.803839          3.426524         -0.131019   \n",
      "1615         -0.909531         -0.859659         -0.406234         -0.131019   \n",
      "334           0.960612          0.738440         -0.406234         -0.131019   \n",
      "756           0.259308         -1.037226         -0.406234         -0.131019   \n",
      "433           0.960612          0.383306         -0.406234         -0.131019   \n",
      "889          -2.545906         -1.037226         -0.406234         -0.131019   \n",
      "1675         -0.909531         -0.859659         -0.111407         -0.131019   \n",
      "198           0.726844         -0.326960         -0.406234         -0.131019   \n",
      "15            0.960612          1.803839          0.183421         -0.131019   \n",
      "265           0.259308         -0.149393         -0.406234         -0.131019   \n",
      "\n",
      "      num_standard__x8  num_standard__x9  ...  num_standard__x54  \\\n",
      "1734         -0.061035         -0.617254  ...           1.479901   \n",
      "855          -0.061035         -0.617254  ...          -0.763797   \n",
      "1642         -0.061035         -0.617254  ...          -0.559825   \n",
      "175          -0.061035          0.938876  ...           0.052093   \n",
      "925          -0.061035         -0.617254  ...          -0.355852   \n",
      "548          -0.061035          0.627650  ...          -0.763797   \n",
      "1615         -0.061035         -0.617254  ...          -0.763797   \n",
      "334          -0.061035         -0.617254  ...           0.052093   \n",
      "756          -0.061035         -0.617254  ...          -0.763797   \n",
      "433          -0.061035         -0.617254  ...          -0.559825   \n",
      "889          -0.061035          0.938876  ...          -0.151879   \n",
      "1675         -0.061035          0.316424  ...          -0.763797   \n",
      "198          -0.061035         -0.617254  ...          -0.763797   \n",
      "15           -0.061035          2.806232  ...          -0.763797   \n",
      "265          -0.061035          0.005198  ...          -0.763797   \n",
      "\n",
      "      num_standard__x55  num_standard__x56  num_standard__x57  \\\n",
      "1734          -0.216084          -0.026389          -0.306776   \n",
      "855           -0.216084          -0.026389          -0.306776   \n",
      "1642          -0.216084          -0.026389          -0.306776   \n",
      "175           -0.216084          -0.026389           0.781712   \n",
      "925           -0.216084          -0.026389          -0.306776   \n",
      "548           -0.216084          -0.026389           0.781712   \n",
      "1615          -0.216084          -0.026389          -0.306776   \n",
      "334           -0.216084          -0.026389          -0.306776   \n",
      "756           -0.216084          -0.026389           2.958688   \n",
      "433           -0.216084          -0.026389          -0.306776   \n",
      "889           -0.216084          -0.026389           8.401130   \n",
      "1675          -0.216084          -0.026389           0.781712   \n",
      "198           -0.216084          -0.026389          -0.306776   \n",
      "15            -0.216084          -0.026389           4.047177   \n",
      "265           -0.216084          -0.026389          -0.306776   \n",
      "\n",
      "      num_standard__x58  num_standard__x59  num_standard__x60  \\\n",
      "1734          -0.499622          -0.246272           0.848044   \n",
      "855            0.085033           0.891647           0.439036   \n",
      "1642          -0.694508          -0.246272           0.234532   \n",
      "175            1.839001           0.436480          -0.174476   \n",
      "925           -0.304737           0.664063           0.848044   \n",
      "548            1.839001           0.891647          -0.378980   \n",
      "1615          -1.084278          -1.156607           0.439036   \n",
      "334           -0.109852          -0.018688           0.439036   \n",
      "756           -0.499622           0.208896          -1.606004   \n",
      "433           -1.084278          -1.839359           0.643540   \n",
      "889            2.033886           0.891647           0.848044   \n",
      "1675           1.644116           0.436480          -0.787988   \n",
      "198           -1.084278          -2.066943           0.643540   \n",
      "15             1.839001           0.891647          -2.015011   \n",
      "265           -0.499622           0.891647           0.439036   \n",
      "\n",
      "      num_standard__x61  num_standard__x62  num_standard__x63  \n",
      "1734           1.052703           0.459523            -0.1971  \n",
      "855           -0.644519          -0.506231            -0.1971  \n",
      "1642          -0.135353          -0.506231            -0.1971  \n",
      "175           -0.474797          -0.506231            -0.1971  \n",
      "925            0.373814          -0.506231            -0.1971  \n",
      "548           -1.153686          -0.506231            -0.1971  \n",
      "1615           0.373814          -0.506231            -0.1971  \n",
      "334            0.373814          -0.506231            -0.1971  \n",
      "756           -1.153686          -0.506231            -0.1971  \n",
      "433            0.713259          -0.023354            -0.1971  \n",
      "889            1.561870           0.459523            -0.1971  \n",
      "1675          -0.983964          -0.506231            -0.1971  \n",
      "198           -1.153686          -0.506231            -0.1971  \n",
      "15            -1.153686          -0.506231            -0.1971  \n",
      "265           -1.153686          -0.506231            -0.1971  \n",
      "\n",
      "[15 rows x 64 columns]\n"
     ]
    }
   ],
   "source": [
    "print(X_train.head(15))"
   ]
  },
  {
   "cell_type": "markdown",
   "id": "ba9f97fd",
   "metadata": {},
   "source": [
    "## Classifier"
   ]
  },
  {
   "cell_type": "code",
   "execution_count": 8,
   "id": "bbf356a2",
   "metadata": {},
   "outputs": [],
   "source": [
    "# Definir quais modelos e seletores utilizar\n",
    "# selected_models = [ \n",
    "#     # 'Logistic Regression',\n",
    "#     'Decision Tree',\n",
    "#     # 'Random Forest',\n",
    "#     # 'Gradient Boosting',\n",
    "#     # 'SVM',\n",
    "#     # 'KNN',\n",
    "#     # 'XGBoost',\n",
    "#     'Naive Bayes' \n",
    "#     # 'MLP'  \n",
    "# ]\n",
    "\n",
    "# # Definir quais seletores de features utilizar\n",
    "# selected_selectors = [\n",
    "#     # 'rfe',      # Recursive Feature Elimination\n",
    "#     'pca',      # Principal Component Analysis\n",
    "#     # 'rf',       # Random Forest Feature Selector\n",
    "#     # 'mi',       # Mutual Information Feature Selector\n",
    "#     'none'      # Sem seleção de features\n",
    "# ]\n",
    "\n",
    "from core.models.multiclass.digits_model_params import DigitsModelParams\n",
    "\n",
    "# Criar instância dos parâmetros específicos para dígitos\n",
    "model_params = DigitsModelParams()\n",
    "\n",
    "# Usar todos os modelos disponíveis\n",
    "selected_models = model_params.get_available_models()  # ou lista específica\n",
    "\n",
    "# Usar todos os seletores disponíveis\n",
    "selected_selectors = None  # None to use all selectors\n",
    "\n",
    "from sklearn.model_selection import StratifiedKFold\n",
    "# Criar validação cruzada estratificada\n",
    "cv = StratifiedKFold(n_splits=5, shuffle=True, random_state=42)\n",
    "\n",
    "cv = 5  # Number of folds in the cross-validation\n",
    "n_iter = 100\n",
    "n_jobs = 6  # Number of processors to be used in the execution: -1 to use all processors\n",
    "\n",
    "# Choose a scoring metric\n",
    "scoring_metric = 'balanced_accuracy'  # Possible values: 'f1_macro', 'balanced_accuracy', 'roc_auc_ovr', etc."
   ]
  },
  {
   "cell_type": "markdown",
   "id": "634b4507",
   "metadata": {},
   "source": [
    "## Usando Optuna (Otimização Bayesiana)"
   ]
  },
  {
   "cell_type": "code",
   "execution_count": null,
   "id": "46f30d1f",
   "metadata": {},
   "outputs": [
    {
     "name": "stderr",
     "output_type": "stream",
     "text": [
      "2024-11-26 16:13:30,317 | optuna_training | INFO | Training and evaluating Logistic Regression with Optuna Optimization and rfe\n",
      "INFO:optuna_training:Training and evaluating Logistic Regression with Optuna Optimization and rfe\n"
     ]
    },
    {
     "name": "stdout",
     "output_type": "stream",
     "text": [
      "Inside OptunaBayesianOptimizationTraining.optimize_model\n"
     ]
    }
   ],
   "source": [
    "# Importação da nova classe OptunaBayesianOptimizationTraining\n",
    "from core.training.optuna_bayesian_optimization_training import OptunaBayesianOptimizationTraining\n",
    "\n",
    "# Instanciação da classe de treinamento com Otimização Bayesiana via Optuna\n",
    "training = OptunaBayesianOptimizationTraining()\n",
    "\n",
    "# Executar o treinamento\n",
    "trained_models = training.train_model(\n",
    "    X_train=X_train,\n",
    "    y_train=y_train,\n",
    "    model_params=model_params,\n",
    "    selected_models=selected_models,\n",
    "    selected_selectors=selected_selectors,\n",
    "    n_iter=n_iter,  # Será mapeado para n_trials na classe OptunaBayesianOptimizationTraining\n",
    "    cv=cv,\n",
    "    scoring=scoring_metric,\n",
    "    n_jobs=n_jobs\n",
    ")\n",
    "\n",
    "# Exemplo de acesso aos modelos treinados\n",
    "for model_key, model_info in trained_models.items():\n",
    "    print(f\"Modelo: {model_key}\")\n",
    "    print(f\"Melhores Hiperparâmetros: {model_info['hyperparameters']}\")\n",
    "    print(f\"Resultado CV: {model_info['cv_result']}\\n\")\n"
   ]
  },
  {
   "cell_type": "markdown",
   "id": "74d79fa3",
   "metadata": {},
   "source": [
    "### Avaliação e logging"
   ]
  },
  {
   "cell_type": "code",
   "execution_count": null,
   "id": "67444317",
   "metadata": {},
   "outputs": [],
   "source": [
    "from utils import notebook_utils as nb_utils\n",
    "\n",
    "# Avaliação dos Modelos\n",
    "class_metrics_results, avg_metrics_results = nb_utils.evaluate_models(trained_models, X_train, y_train, X_test, y_test)\n",
    "\n",
    "# Geração dos Relatórios\n",
    "nb_utils.generate_reports(class_metrics_results, avg_metrics_results, filename_prefix=\"_Optuna_\")\n",
    "\n",
    "# Salvando os modelos em arquivos para recuperação\n",
    "nb_utils.save_models(trained_models, filename_prefix=\"_Optuna_\")"
   ]
  },
  {
   "cell_type": "code",
   "execution_count": null,
   "id": "1c29604b",
   "metadata": {},
   "outputs": [],
   "source": [
    "print (\"Fim do treinamento com OptunaBayesianOptimizationTraining\")"
   ]
  },
  {
   "cell_type": "markdown",
   "id": "c2dba338",
   "metadata": {},
   "source": [
    "## Treinando com RandomSearchCV"
   ]
  },
  {
   "cell_type": "code",
   "execution_count": null,
   "id": "4c19d83b",
   "metadata": {},
   "outputs": [],
   "source": [
    "# src/notebooks/model_training_behavior_multiclassification_by_student_level.ipynb\n",
    "\n",
    "from core.training.random_search_training import RandomSearchTraining\n",
    "\n",
    "# Instantiate the RandomizedSearchCV training class\n",
    "training = RandomSearchTraining()\n",
    "\n",
    "# Execute the training\n",
    "trained_models = training.train_model(\n",
    "    X_train=X_train,\n",
    "    y_train=y_train,\n",
    "    model_params=model_params,\n",
    "    selected_models=selected_models,\n",
    "    selected_selectors=selected_selectors,\n",
    "    n_iter=n_iter,\n",
    "    cv=cv,\n",
    "    scoring=scoring_metric,\n",
    "    n_jobs=n_jobs\n",
    ")\n",
    "\n",
    "# Example of accessing the trained models\n",
    "for model_key, model_info in trained_models.items():\n",
    "    print(f\"Model: {model_key}\")\n",
    "    print(f\"Best Hyperparameters: {model_info['hyperparameters']}\")\n",
    "    print(f\"CV Result: {model_info['cv_result']}\\n\")"
   ]
  },
  {
   "cell_type": "markdown",
   "id": "0aef5759",
   "metadata": {},
   "source": [
    "### Avaliação e logging"
   ]
  },
  {
   "cell_type": "code",
   "execution_count": null,
   "id": "eecf1cfc",
   "metadata": {},
   "outputs": [],
   "source": [
    "from utils import notebook_utils as nb_utils\n",
    "\n",
    "# Avaliação dos Modelos\n",
    "class_metrics_results, avg_metrics_results = nb_utils.evaluate_models(trained_models, X_train, y_train, X_test, y_test)\n",
    "\n",
    "# Geração dos Relatórios\n",
    "nb_utils.generate_reports(class_metrics_results, avg_metrics_results, filename_prefix=\"_RandomSearch_\")\n",
    "\n",
    "# Salvando os modelos em arquivos para recuperação\n",
    "nb_utils.save_models(trained_models, filename_prefix=\"_RandomSearch_\")"
   ]
  },
  {
   "cell_type": "markdown",
   "id": "676ba502",
   "metadata": {},
   "source": [
    "## Using GridSearchCV"
   ]
  },
  {
   "cell_type": "code",
   "execution_count": null,
   "id": "1db47093",
   "metadata": {},
   "outputs": [],
   "source": [
    "from core.training.grid_search_training import GridSearchTraining\n",
    "\n",
    "# Instantiate the GridSearchCV training class\n",
    "training = GridSearchTraining()\n",
    "\n",
    "# Execute the training\n",
    "trained_models = training.train_model(\n",
    "    X_train=X_train,\n",
    "    y_train=y_train,\n",
    "    model_params=model_params,\n",
    "    selected_models=selected_models,\n",
    "    selected_selectors=selected_selectors,\n",
    "    n_iter=n_iter,  # This parameter is not used in GridSearchCV but kept for consistency\n",
    "    cv=cv,\n",
    "    scoring=scoring_metric,\n",
    "    n_jobs=n_jobs\n",
    ")\n",
    "\n",
    "# Example of accessing the trained models\n",
    "for model_key, model_info in trained_models.items():\n",
    "    print(f\"Model: {model_key}\")\n",
    "    print(f\"Best Hyperparameters: {model_info['hyperparameters']}\")\n",
    "    print(f\"CV Result: {model_info['cv_result']}\\n\")"
   ]
  },
  {
   "cell_type": "markdown",
   "id": "1779d27a",
   "metadata": {},
   "source": [
    "### Avaliação e logging"
   ]
  },
  {
   "cell_type": "code",
   "execution_count": null,
   "id": "df143362",
   "metadata": {},
   "outputs": [],
   "source": [
    "from utils import notebook_utils as nb_utils\n",
    "\n",
    "# Avaliação dos Modelos\n",
    "class_metrics_results, avg_metrics_results = nb_utils.evaluate_models(trained_models, X_train, y_train, X_test, y_test)\n",
    "\n",
    "# Geração dos Relatórios\n",
    "nb_utils.generate_reports(class_metrics_results, avg_metrics_results, filename_prefix=\"_GridSearch_\")\n",
    "\n",
    "# Salvando os modelos em arquivos para recuperação\n",
    "nb_utils.save_models(trained_models, filename_prefix=\"_GridSearch_\")"
   ]
  }
 ],
 "metadata": {
  "kernelspec": {
   "display_name": "projetos_ML",
   "language": "python",
   "name": "python3"
  },
  "language_info": {
   "codemirror_mode": {
    "name": "ipython",
    "version": 3
   },
   "file_extension": ".py",
   "mimetype": "text/x-python",
   "name": "python",
   "nbconvert_exporter": "python",
   "pygments_lexer": "ipython3",
   "version": "3.11.10"
  },
  "toc": {
   "base_numbering": 1,
   "nav_menu": {},
   "number_sections": true,
   "sideBar": true,
   "skip_h1_title": false,
   "title_cell": "Table of Contents",
   "title_sidebar": "Contents",
   "toc_cell": false,
   "toc_position": {},
   "toc_section_display": true,
   "toc_window_display": false
  }
 },
 "nbformat": 4,
 "nbformat_minor": 5
}
