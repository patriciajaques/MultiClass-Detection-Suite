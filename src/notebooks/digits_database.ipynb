{
 "cells": [
  {
   "cell_type": "markdown",
   "id": "4f46e03b",
   "metadata": {},
   "source": [
    "## Imports"
   ]
  },
  {
   "cell_type": "code",
   "execution_count": 1,
   "id": "920d4b3f",
   "metadata": {},
   "outputs": [
    {
     "name": "stdout",
     "output_type": "stream",
     "text": [
      "/Users/patricia/Documents/code/python-code/behavior-detection/src\n"
     ]
    }
   ],
   "source": [
    "import os\n",
    "path = \"/Users/patricia/Documents/code/python-code/behavior-detection/src\"\n",
    "os.chdir(path)  # Muda o diretório para o nível anterior (a raiz do projeto)\n",
    "print(os.getcwd())  # Verifique se agora está na raiz"
   ]
  },
  {
   "cell_type": "code",
   "execution_count": 2,
   "id": "19eeac05",
   "metadata": {
    "scrolled": true
   },
   "outputs": [],
   "source": [
    "from sklearn import datasets\n",
    "from time import time\n",
    "import pandas as pd"
   ]
  },
  {
   "cell_type": "markdown",
   "id": "7a415bc4",
   "metadata": {},
   "source": [
    "## Data"
   ]
  },
  {
   "cell_type": "code",
   "execution_count": 3,
   "id": "a4d784b5",
   "metadata": {},
   "outputs": [],
   "source": [
    "digits = datasets.load_digits()\n",
    "\n",
    "n_samples = len(digits.images)\n",
    "X = digits.images\n",
    "y = digits.target\n",
    "\n",
    "# Flatten the images\n",
    "X = X.reshape((n_samples, -1))\n",
    "X = pd.DataFrame(X)"
   ]
  },
  {
   "cell_type": "code",
   "execution_count": 4,
   "id": "1ee2220c",
   "metadata": {},
   "outputs": [
    {
     "name": "stdout",
     "output_type": "stream",
     "text": [
      "1797\n",
      "<class 'pandas.core.frame.DataFrame'>\n",
      "    0    1    2     3     4     5    6    7    8    9   ...   54   55   56  \\\n",
      "0  0.0  0.0  5.0  13.0   9.0   1.0  0.0  0.0  0.0  0.0  ...  0.0  0.0  0.0   \n",
      "1  0.0  0.0  0.0  12.0  13.0   5.0  0.0  0.0  0.0  0.0  ...  0.0  0.0  0.0   \n",
      "2  0.0  0.0  0.0   4.0  15.0  12.0  0.0  0.0  0.0  0.0  ...  5.0  0.0  0.0   \n",
      "3  0.0  0.0  7.0  15.0  13.0   1.0  0.0  0.0  0.0  8.0  ...  9.0  0.0  0.0   \n",
      "4  0.0  0.0  0.0   1.0  11.0   0.0  0.0  0.0  0.0  0.0  ...  0.0  0.0  0.0   \n",
      "\n",
      "    57   58    59    60    61   62   63  \n",
      "0  0.0  6.0  13.0  10.0   0.0  0.0  0.0  \n",
      "1  0.0  0.0  11.0  16.0  10.0  0.0  0.0  \n",
      "2  0.0  0.0   3.0  11.0  16.0  9.0  0.0  \n",
      "3  0.0  7.0  13.0  13.0   9.0  0.0  0.0  \n",
      "4  0.0  0.0   2.0  16.0   4.0  0.0  0.0  \n",
      "\n",
      "[5 rows x 64 columns]\n",
      "[0 1 2 3 4]\n"
     ]
    }
   ],
   "source": [
    "print(n_samples)\n",
    "print(type(X))\n",
    "print(X.head(5))\n",
    "print(y[:5])"
   ]
  },
  {
   "cell_type": "code",
   "execution_count": 5,
   "id": "4d44db6a",
   "metadata": {},
   "outputs": [],
   "source": [
    "from sklearn.model_selection import train_test_split\n",
    "\n",
    "# Dividir X e y em conjuntos de treinamento e teste\n",
    "X_train, X_test, y_train, y_test = train_test_split(X, y, test_size=0.2, random_state=42)"
   ]
  },
  {
   "cell_type": "markdown",
   "id": "34b350ec",
   "metadata": {},
   "source": [
    "## Preprocessing"
   ]
  },
  {
   "cell_type": "code",
   "execution_count": 6,
   "id": "0240ae19",
   "metadata": {},
   "outputs": [],
   "source": [
    "import pandas as pd\n",
    "from core.preprocessors.data_encoder import DataEncoder\n",
    "\n",
    "# Codificar y_train\n",
    "y_train = DataEncoder.encode_y(y_train)\n",
    "# Codificar y_test\n",
    "y_test = DataEncoder.encode_y(y_test)\n",
    "\n",
    "# Pré-processar X_train\n",
    "X_encoder = DataEncoder(num_classes=0, select_numerical=True)\n",
    "X_encoder.fit(X_train)\n",
    "\n",
    "X_train = X_encoder.transform(X_train)\n",
    "\n",
    "# Pré-processar X_test usando o mesmo preprocessor\n",
    "X_test = X_encoder.transform(X_test)"
   ]
  },
  {
   "cell_type": "code",
   "execution_count": 7,
   "id": "f6c8f39f",
   "metadata": {},
   "outputs": [
    {
     "name": "stdout",
     "output_type": "stream",
     "text": [
      "      num_standard__x0  num_standard__x1  num_standard__x2  num_standard__x3  \\\n",
      "1734               0.0         -0.341698         -0.463360          0.508365   \n",
      "855                0.0         -0.341698          0.784716         -0.658600   \n",
      "1642               0.0         -0.341698         -1.087399         -0.425207   \n",
      "175                0.0          0.759243          0.992729          0.975151   \n",
      "925                0.0         -0.341698          0.160678          0.508365   \n",
      "548                0.0         -0.341698          1.616768          0.975151   \n",
      "1615               0.0         -0.341698         -1.087399         -0.658600   \n",
      "334                0.0         -0.341698         -0.463360         -0.191814   \n",
      "756                0.0         -0.341698         -1.087399         -0.658600   \n",
      "433                0.0         -0.341698         -1.087399         -1.592172   \n",
      "889                0.0          5.163004          2.240806          0.041579   \n",
      "1675               0.0          0.759243          1.200742         -0.425207   \n",
      "198                0.0         -0.341698         -1.087399         -2.292351   \n",
      "15                 0.0          5.163004          1.408755          0.274972   \n",
      "265                0.0         -0.341698          0.160678          0.041579   \n",
      "\n",
      "      num_standard__x4  num_standard__x5  num_standard__x6  num_standard__x7  \\\n",
      "1734         -2.545906         -1.037226         -0.406234         -0.131019   \n",
      "855          -1.844602         -1.037226         -0.406234         -0.131019   \n",
      "1642          0.259308         -0.504526         -0.406234         -0.131019   \n",
      "175           0.960612          0.916006         -0.406234         -0.131019   \n",
      "925           0.259308         -0.504526         -0.406234         -0.131019   \n",
      "548           0.960612          1.803839          3.426524         -0.131019   \n",
      "1615         -0.909531         -0.859659         -0.406234         -0.131019   \n",
      "334           0.960612          0.738440         -0.406234         -0.131019   \n",
      "756           0.259308         -1.037226         -0.406234         -0.131019   \n",
      "433           0.960612          0.383306         -0.406234         -0.131019   \n",
      "889          -2.545906         -1.037226         -0.406234         -0.131019   \n",
      "1675         -0.909531         -0.859659         -0.111407         -0.131019   \n",
      "198           0.726844         -0.326960         -0.406234         -0.131019   \n",
      "15            0.960612          1.803839          0.183421         -0.131019   \n",
      "265           0.259308         -0.149393         -0.406234         -0.131019   \n",
      "\n",
      "      num_standard__x8  num_standard__x9  ...  num_standard__x54  \\\n",
      "1734         -0.061035         -0.617254  ...           1.479901   \n",
      "855          -0.061035         -0.617254  ...          -0.763797   \n",
      "1642         -0.061035         -0.617254  ...          -0.559825   \n",
      "175          -0.061035          0.938876  ...           0.052093   \n",
      "925          -0.061035         -0.617254  ...          -0.355852   \n",
      "548          -0.061035          0.627650  ...          -0.763797   \n",
      "1615         -0.061035         -0.617254  ...          -0.763797   \n",
      "334          -0.061035         -0.617254  ...           0.052093   \n",
      "756          -0.061035         -0.617254  ...          -0.763797   \n",
      "433          -0.061035         -0.617254  ...          -0.559825   \n",
      "889          -0.061035          0.938876  ...          -0.151879   \n",
      "1675         -0.061035          0.316424  ...          -0.763797   \n",
      "198          -0.061035         -0.617254  ...          -0.763797   \n",
      "15           -0.061035          2.806232  ...          -0.763797   \n",
      "265          -0.061035          0.005198  ...          -0.763797   \n",
      "\n",
      "      num_standard__x55  num_standard__x56  num_standard__x57  \\\n",
      "1734          -0.216084          -0.026389          -0.306776   \n",
      "855           -0.216084          -0.026389          -0.306776   \n",
      "1642          -0.216084          -0.026389          -0.306776   \n",
      "175           -0.216084          -0.026389           0.781712   \n",
      "925           -0.216084          -0.026389          -0.306776   \n",
      "548           -0.216084          -0.026389           0.781712   \n",
      "1615          -0.216084          -0.026389          -0.306776   \n",
      "334           -0.216084          -0.026389          -0.306776   \n",
      "756           -0.216084          -0.026389           2.958688   \n",
      "433           -0.216084          -0.026389          -0.306776   \n",
      "889           -0.216084          -0.026389           8.401130   \n",
      "1675          -0.216084          -0.026389           0.781712   \n",
      "198           -0.216084          -0.026389          -0.306776   \n",
      "15            -0.216084          -0.026389           4.047177   \n",
      "265           -0.216084          -0.026389          -0.306776   \n",
      "\n",
      "      num_standard__x58  num_standard__x59  num_standard__x60  \\\n",
      "1734          -0.499622          -0.246272           0.848044   \n",
      "855            0.085033           0.891647           0.439036   \n",
      "1642          -0.694508          -0.246272           0.234532   \n",
      "175            1.839001           0.436480          -0.174476   \n",
      "925           -0.304737           0.664063           0.848044   \n",
      "548            1.839001           0.891647          -0.378980   \n",
      "1615          -1.084278          -1.156607           0.439036   \n",
      "334           -0.109852          -0.018688           0.439036   \n",
      "756           -0.499622           0.208896          -1.606004   \n",
      "433           -1.084278          -1.839359           0.643540   \n",
      "889            2.033886           0.891647           0.848044   \n",
      "1675           1.644116           0.436480          -0.787988   \n",
      "198           -1.084278          -2.066943           0.643540   \n",
      "15             1.839001           0.891647          -2.015011   \n",
      "265           -0.499622           0.891647           0.439036   \n",
      "\n",
      "      num_standard__x61  num_standard__x62  num_standard__x63  \n",
      "1734           1.052703           0.459523            -0.1971  \n",
      "855           -0.644519          -0.506231            -0.1971  \n",
      "1642          -0.135353          -0.506231            -0.1971  \n",
      "175           -0.474797          -0.506231            -0.1971  \n",
      "925            0.373814          -0.506231            -0.1971  \n",
      "548           -1.153686          -0.506231            -0.1971  \n",
      "1615           0.373814          -0.506231            -0.1971  \n",
      "334            0.373814          -0.506231            -0.1971  \n",
      "756           -1.153686          -0.506231            -0.1971  \n",
      "433            0.713259          -0.023354            -0.1971  \n",
      "889            1.561870           0.459523            -0.1971  \n",
      "1675          -0.983964          -0.506231            -0.1971  \n",
      "198           -1.153686          -0.506231            -0.1971  \n",
      "15            -1.153686          -0.506231            -0.1971  \n",
      "265           -1.153686          -0.506231            -0.1971  \n",
      "\n",
      "[15 rows x 64 columns]\n"
     ]
    }
   ],
   "source": [
    "print(X_train.head(15))"
   ]
  },
  {
   "cell_type": "markdown",
   "id": "ba9f97fd",
   "metadata": {},
   "source": [
    "## Classifier"
   ]
  },
  {
   "cell_type": "code",
   "execution_count": 8,
   "id": "bbf356a2",
   "metadata": {},
   "outputs": [],
   "source": [
    "# Definir quais modelos e seletores utilizar\n",
    "selected_models = [ \n",
    "    # 'Logistic Regression',\n",
    "    # 'Decision Tree',\n",
    "    'Random Forest',\n",
    "    # 'Gradient Boosting',\n",
    "    # 'SVM',\n",
    "    # 'KNN',\n",
    "    'XGBoost'\n",
    "]\n",
    "selected_selectors = ['none']\n",
    "\n",
    "cv = 5  # Number of folds in the cross-validation\n",
    "n_iter = 100\n",
    "n_jobs = 4  # Number of processors to be used in the execution: -1 to use all processors\n",
    "\n",
    "# Choose a scoring metric\n",
    "scoring_metric = 'balanced_accuracy'  # Possible values: 'f1_macro', 'balanced_accuracy', 'roc_auc_ovr', etc."
   ]
  },
  {
   "cell_type": "markdown",
   "id": "bbfc0cb4",
   "metadata": {},
   "source": [
    "## Usando BayesSearchCV (Otimização Bayesiana)"
   ]
  },
  {
   "cell_type": "code",
   "execution_count": 9,
   "id": "217779b6",
   "metadata": {},
   "outputs": [
    {
     "name": "stderr",
     "output_type": "stream",
     "text": [
      "INFO:root:Training and evaluating Random Forest with Bayesian Optimization and none\n",
      "INFO:root:Search space for Random Forest with selector none: {'classifier__n_estimators': [50, 100, 200], 'classifier__max_depth': [None, 3, 5, 10, 20, 30], 'classifier__min_samples_split': [2, 5, 10], 'classifier__min_samples_leaf': [1, 2, 4, 6, 8, 10]}\n"
     ]
    },
    {
     "name": "stdout",
     "output_type": "stream",
     "text": [
      "Training and evaluating Random Forest with Bayesian Optimization and none\n",
      "Fitting 5 folds for each of 1 candidates, totalling 5 fits\n",
      "[CV 1/5] END classifier__max_depth=5, classifier__min_samples_leaf=8, classifier__min_samples_split=10, classifier__n_estimators=50;, score=0.928 total time=   0.1s\n",
      "[CV 2/5] END classifier__max_depth=5, classifier__min_samples_leaf=8, classifier__min_samples_split=10, classifier__n_estimators=50;, score=0.915 total time=   0.1s\n",
      "[CV 3/5] END classifier__max_depth=5, classifier__min_samples_leaf=8, classifier__min_samples_split=10, classifier__n_estimators=50;, score=0.922 total time=   0.2s\n"
     ]
    },
    {
     "name": "stderr",
     "output_type": "stream",
     "text": [
      "INFO:root:Iteration 1: tested parameters: [5, 8, 10, 50], score: 0.9264236629764995\n"
     ]
    },
    {
     "name": "stdout",
     "output_type": "stream",
     "text": [
      "[CV 4/5] END classifier__max_depth=5, classifier__min_samples_leaf=8, classifier__min_samples_split=10, classifier__n_estimators=50;, score=0.950 total time=   0.2s\n",
      "[CV 5/5] END classifier__max_depth=5, classifier__min_samples_leaf=8, classifier__min_samples_split=10, classifier__n_estimators=50;, score=0.917 total time=   0.1s\n",
      "Fitting 5 folds for each of 1 candidates, totalling 5 fits\n",
      "[CV 2/5] END classifier__max_depth=30, classifier__min_samples_leaf=10, classifier__min_samples_split=2, classifier__n_estimators=200;, score=0.947 total time=   0.6s\n",
      "[CV 1/5] END classifier__max_depth=30, classifier__min_samples_leaf=10, classifier__min_samples_split=2, classifier__n_estimators=200;, score=0.947 total time=   0.6s\n",
      "[CV 3/5] END classifier__max_depth=30, classifier__min_samples_leaf=10, classifier__min_samples_split=2, classifier__n_estimators=200;, score=0.936 total time=   0.6s\n",
      "[CV 4/5] END classifier__max_depth=30, classifier__min_samples_leaf=10, classifier__min_samples_split=2, classifier__n_estimators=200;, score=0.979 total time=   0.6s\n"
     ]
    },
    {
     "name": "stderr",
     "output_type": "stream",
     "text": [
      "INFO:root:Iteration 2: tested parameters: [30, 10, 2, 200], score: 0.950972950544697\n"
     ]
    },
    {
     "name": "stdout",
     "output_type": "stream",
     "text": [
      "[CV 5/5] END classifier__max_depth=30, classifier__min_samples_leaf=10, classifier__min_samples_split=2, classifier__n_estimators=200;, score=0.945 total time=   0.5s\n",
      "Fitting 5 folds for each of 1 candidates, totalling 5 fits\n",
      "[CV 1/5] END classifier__max_depth=5, classifier__min_samples_leaf=10, classifier__min_samples_split=2, classifier__n_estimators=100;, score=0.938 total time=   0.2s\n",
      "[CV 2/5] END classifier__max_depth=5, classifier__min_samples_leaf=10, classifier__min_samples_split=2, classifier__n_estimators=100;, score=0.909 total time=   0.2s\n",
      "[CV 3/5] END classifier__max_depth=5, classifier__min_samples_leaf=10, classifier__min_samples_split=2, classifier__n_estimators=100;, score=0.925 total time=   0.2s\n",
      "[CV 4/5] END classifier__max_depth=5, classifier__min_samples_leaf=10, classifier__min_samples_split=2, classifier__n_estimators=100;, score=0.933 total time=   0.2s\n"
     ]
    },
    {
     "name": "stderr",
     "output_type": "stream",
     "text": [
      "INFO:root:Iteration 3: tested parameters: [5, 10, 2, 100], score: 0.9249140844324382\n"
     ]
    },
    {
     "name": "stdout",
     "output_type": "stream",
     "text": [
      "[CV 5/5] END classifier__max_depth=5, classifier__min_samples_leaf=10, classifier__min_samples_split=2, classifier__n_estimators=100;, score=0.920 total time=   0.2s\n",
      "Fitting 5 folds for each of 1 candidates, totalling 5 fits\n",
      "[CV 1/5] END classifier__max_depth=20, classifier__min_samples_leaf=2, classifier__min_samples_split=5, classifier__n_estimators=200;, score=0.979 total time=   0.6s\n",
      "[CV 3/5] END classifier__max_depth=20, classifier__min_samples_leaf=2, classifier__min_samples_split=5, classifier__n_estimators=200;, score=0.957 total time=   0.6s\n",
      "[CV 2/5] END classifier__max_depth=20, classifier__min_samples_leaf=2, classifier__min_samples_split=5, classifier__n_estimators=200;, score=0.968 total time=   0.6s\n",
      "[CV 4/5] END classifier__max_depth=20, classifier__min_samples_leaf=2, classifier__min_samples_split=5, classifier__n_estimators=200;, score=0.982 total time=   0.6s\n"
     ]
    },
    {
     "name": "stderr",
     "output_type": "stream",
     "text": [
      "INFO:root:Iteration 4: tested parameters: [20, 2, 5, 200], score: 0.9697485860244479\n"
     ]
    },
    {
     "name": "stdout",
     "output_type": "stream",
     "text": [
      "[CV 5/5] END classifier__max_depth=20, classifier__min_samples_leaf=2, classifier__min_samples_split=5, classifier__n_estimators=200;, score=0.962 total time=   0.5s\n",
      "Fitting 5 folds for each of 1 candidates, totalling 5 fits\n",
      "[CV 2/5] END classifier__max_depth=20, classifier__min_samples_leaf=4, classifier__min_samples_split=5, classifier__n_estimators=200;, score=0.958 total time=   0.7s\n",
      "[CV 1/5] END classifier__max_depth=20, classifier__min_samples_leaf=4, classifier__min_samples_split=5, classifier__n_estimators=200;, score=0.972 total time=   0.7s\n",
      "[CV 4/5] END classifier__max_depth=20, classifier__min_samples_leaf=4, classifier__min_samples_split=5, classifier__n_estimators=200;, score=0.979 total time=   0.7s\n",
      "[CV 3/5] END classifier__max_depth=20, classifier__min_samples_leaf=4, classifier__min_samples_split=5, classifier__n_estimators=200;, score=0.954 total time=   0.7s\n"
     ]
    },
    {
     "name": "stderr",
     "output_type": "stream",
     "text": [
      "INFO:root:Iteration 5: tested parameters: [20, 4, 5, 200], score: 0.9636307007786428\n"
     ]
    },
    {
     "name": "stdout",
     "output_type": "stream",
     "text": [
      "[CV 5/5] END classifier__max_depth=20, classifier__min_samples_leaf=4, classifier__min_samples_split=5, classifier__n_estimators=200;, score=0.955 total time=   0.5s\n",
      "Fitting 5 folds for each of 1 candidates, totalling 5 fits\n",
      "[CV 2/5] END classifier__max_depth=20, classifier__min_samples_leaf=10, classifier__min_samples_split=2, classifier__n_estimators=50;, score=0.934 total time=   0.1s\n",
      "[CV 1/5] END classifier__max_depth=20, classifier__min_samples_leaf=10, classifier__min_samples_split=2, classifier__n_estimators=50;, score=0.951 total time=   0.1s\n",
      "[CV 3/5] END classifier__max_depth=20, classifier__min_samples_leaf=10, classifier__min_samples_split=2, classifier__n_estimators=50;, score=0.936 total time=   0.1s\n",
      "[CV 4/5] END classifier__max_depth=20, classifier__min_samples_leaf=10, classifier__min_samples_split=2, classifier__n_estimators=50;, score=0.961 total time=   0.1s\n"
     ]
    },
    {
     "name": "stderr",
     "output_type": "stream",
     "text": [
      "INFO:root:Iteration 6: tested parameters: [20, 10, 2, 50], score: 0.9427480151373366\n"
     ]
    },
    {
     "name": "stdout",
     "output_type": "stream",
     "text": [
      "[CV 5/5] END classifier__max_depth=20, classifier__min_samples_leaf=10, classifier__min_samples_split=2, classifier__n_estimators=50;, score=0.931 total time=   0.1s\n",
      "Fitting 5 folds for each of 1 candidates, totalling 5 fits\n",
      "[CV 1/5] END classifier__max_depth=10, classifier__min_samples_leaf=8, classifier__min_samples_split=5, classifier__n_estimators=200;, score=0.951 total time=   0.7s\n",
      "[CV 2/5] END classifier__max_depth=10, classifier__min_samples_leaf=8, classifier__min_samples_split=5, classifier__n_estimators=200;, score=0.947 total time=   0.7s\n",
      "[CV 3/5] END classifier__max_depth=10, classifier__min_samples_leaf=8, classifier__min_samples_split=5, classifier__n_estimators=200;, score=0.943 total time=   0.7s\n",
      "[CV 4/5] END classifier__max_depth=10, classifier__min_samples_leaf=8, classifier__min_samples_split=5, classifier__n_estimators=200;, score=0.976 total time=   0.7s\n"
     ]
    },
    {
     "name": "stderr",
     "output_type": "stream",
     "text": [
      "INFO:root:Iteration 7: tested parameters: [10, 8, 5, 200], score: 0.9543258058630695\n"
     ]
    },
    {
     "name": "stdout",
     "output_type": "stream",
     "text": [
      "[CV 5/5] END classifier__max_depth=10, classifier__min_samples_leaf=8, classifier__min_samples_split=5, classifier__n_estimators=200;, score=0.955 total time=   0.4s\n",
      "Fitting 5 folds for each of 1 candidates, totalling 5 fits\n",
      "[CV 1/5] END classifier__max_depth=10, classifier__min_samples_leaf=10, classifier__min_samples_split=5, classifier__n_estimators=200;, score=0.958 total time=   0.6s\n",
      "[CV 3/5] END classifier__max_depth=10, classifier__min_samples_leaf=10, classifier__min_samples_split=5, classifier__n_estimators=200;, score=0.936 total time=   0.5s\n",
      "[CV 2/5] END classifier__max_depth=10, classifier__min_samples_leaf=10, classifier__min_samples_split=5, classifier__n_estimators=200;, score=0.937 total time=   0.6s\n",
      "[CV 4/5] END classifier__max_depth=10, classifier__min_samples_leaf=10, classifier__min_samples_split=5, classifier__n_estimators=200;, score=0.976 total time=   0.5s\n"
     ]
    },
    {
     "name": "stderr",
     "output_type": "stream",
     "text": [
      "INFO:root:Iteration 8: tested parameters: [10, 10, 5, 200], score: 0.9518815203253468\n"
     ]
    },
    {
     "name": "stdout",
     "output_type": "stream",
     "text": [
      "[CV 5/5] END classifier__max_depth=10, classifier__min_samples_leaf=10, classifier__min_samples_split=5, classifier__n_estimators=200;, score=0.952 total time=   0.4s\n",
      "Fitting 5 folds for each of 1 candidates, totalling 5 fits\n"
     ]
    },
    {
     "name": "stderr",
     "output_type": "stream",
     "text": [
      "INFO:root:Iteration 9: tested parameters: [30, 8, 10, 100], score: 0.9495905150343417\n"
     ]
    },
    {
     "name": "stdout",
     "output_type": "stream",
     "text": [
      "[CV 1/5] END classifier__max_depth=30, classifier__min_samples_leaf=8, classifier__min_samples_split=10, classifier__n_estimators=100;, score=0.958 total time=   0.2s\n",
      "[CV 2/5] END classifier__max_depth=30, classifier__min_samples_leaf=8, classifier__min_samples_split=10, classifier__n_estimators=100;, score=0.934 total time=   0.2s\n",
      "[CV 4/5] END classifier__max_depth=30, classifier__min_samples_leaf=8, classifier__min_samples_split=10, classifier__n_estimators=100;, score=0.976 total time=   0.2s\n",
      "[CV 3/5] END classifier__max_depth=30, classifier__min_samples_leaf=8, classifier__min_samples_split=10, classifier__n_estimators=100;, score=0.932 total time=   0.2s\n",
      "[CV 5/5] END classifier__max_depth=30, classifier__min_samples_leaf=8, classifier__min_samples_split=10, classifier__n_estimators=100;, score=0.948 total time=   0.2s\n",
      "Fitting 5 folds for each of 1 candidates, totalling 5 fits\n",
      "[CV 1/5] END classifier__max_depth=None, classifier__min_samples_leaf=8, classifier__min_samples_split=10, classifier__n_estimators=50;, score=0.941 total time=   0.1s\n",
      "[CV 4/5] END classifier__max_depth=None, classifier__min_samples_leaf=8, classifier__min_samples_split=10, classifier__n_estimators=50;, score=0.965 total time=   0.1s\n",
      "[CV 3/5] END classifier__max_depth=None, classifier__min_samples_leaf=8, classifier__min_samples_split=10, classifier__n_estimators=50;, score=0.933 total time=   0.1s\n",
      "[CV 2/5] END classifier__max_depth=None, classifier__min_samples_leaf=8, classifier__min_samples_split=10, classifier__n_estimators=50;, score=0.937 total time=   0.1s\n"
     ]
    },
    {
     "name": "stderr",
     "output_type": "stream",
     "text": [
      "INFO:root:Iteration 10: tested parameters: [None, 8, 10, 50], score: 0.9418185285237566\n"
     ]
    },
    {
     "name": "stdout",
     "output_type": "stream",
     "text": [
      "[CV 5/5] END classifier__max_depth=None, classifier__min_samples_leaf=8, classifier__min_samples_split=10, classifier__n_estimators=50;, score=0.934 total time=   0.1s\n",
      "Fitting 5 folds for each of 1 candidates, totalling 5 fits\n",
      "[CV 1/5] END classifier__max_depth=3, classifier__min_samples_leaf=2, classifier__min_samples_split=5, classifier__n_estimators=200;, score=0.869 total time=   0.4s\n",
      "[CV 2/5] END classifier__max_depth=3, classifier__min_samples_leaf=2, classifier__min_samples_split=5, classifier__n_estimators=200;, score=0.871 total time=   0.4s\n",
      "[CV 4/5] END classifier__max_depth=3, classifier__min_samples_leaf=2, classifier__min_samples_split=5, classifier__n_estimators=200;, score=0.896 total time=   0.3s\n",
      "[CV 3/5] END classifier__max_depth=3, classifier__min_samples_leaf=2, classifier__min_samples_split=5, classifier__n_estimators=200;, score=0.878 total time=   0.4s\n",
      "[CV 5/5] END classifier__max_depth=3, classifier__min_samples_leaf=2, classifier__min_samples_split=5, classifier__n_estimators=200;, score=0.882 total time=   0.3s\n"
     ]
    },
    {
     "name": "stderr",
     "output_type": "stream",
     "text": [
      "INFO:root:Iteration 11: tested parameters: [3, 2, 5, 200], score: 0.8791197097303882\n"
     ]
    },
    {
     "name": "stdout",
     "output_type": "stream",
     "text": [
      "Fitting 5 folds for each of 1 candidates, totalling 5 fits\n",
      "[CV 1/5] END classifier__max_depth=20, classifier__min_samples_leaf=1, classifier__min_samples_split=5, classifier__n_estimators=200;, score=0.972 total time=   0.6s\n",
      "[CV 2/5] END classifier__max_depth=20, classifier__min_samples_leaf=1, classifier__min_samples_split=5, classifier__n_estimators=200;, score=0.965 total time=   0.6s\n",
      "[CV 4/5] END classifier__max_depth=20, classifier__min_samples_leaf=1, classifier__min_samples_split=5, classifier__n_estimators=200;, score=0.990 total time=   0.6s\n",
      "[CV 3/5] END classifier__max_depth=20, classifier__min_samples_leaf=1, classifier__min_samples_split=5, classifier__n_estimators=200;, score=0.960 total time=   0.6s\n",
      "[CV 5/5] END classifier__max_depth=20, classifier__min_samples_leaf=1, classifier__min_samples_split=5, classifier__n_estimators=200;, score=0.969 total time=   0.4s\n"
     ]
    },
    {
     "name": "stderr",
     "output_type": "stream",
     "text": [
      "INFO:root:Iteration 12: tested parameters: [20, 1, 5, 200], score: 0.97117421473595\n"
     ]
    },
    {
     "name": "stdout",
     "output_type": "stream",
     "text": [
      "Fitting 5 folds for each of 1 candidates, totalling 5 fits\n",
      "[CV 1/5] END classifier__max_depth=20, classifier__min_samples_leaf=6, classifier__min_samples_split=5, classifier__n_estimators=200;, score=0.954 total time=   0.5s\n",
      "[CV 2/5] END classifier__max_depth=20, classifier__min_samples_leaf=6, classifier__min_samples_split=5, classifier__n_estimators=200;, score=0.948 total time=   0.5s\n",
      "[CV 3/5] END classifier__max_depth=20, classifier__min_samples_leaf=6, classifier__min_samples_split=5, classifier__n_estimators=200;, score=0.943 total time=   0.5s\n",
      "[CV 4/5] END classifier__max_depth=20, classifier__min_samples_leaf=6, classifier__min_samples_split=5, classifier__n_estimators=200;, score=0.975 total time=   0.4s\n",
      "[CV 5/5] END classifier__max_depth=20, classifier__min_samples_leaf=6, classifier__min_samples_split=5, classifier__n_estimators=200;, score=0.948 total time=   0.4s\n"
     ]
    },
    {
     "name": "stderr",
     "output_type": "stream",
     "text": [
      "INFO:root:Iteration 13: tested parameters: [20, 6, 5, 200], score: 0.9537133499302575\n"
     ]
    },
    {
     "name": "stdout",
     "output_type": "stream",
     "text": [
      "Fitting 5 folds for each of 1 candidates, totalling 5 fits\n",
      "[CV 1/5] END classifier__max_depth=20, classifier__min_samples_leaf=1, classifier__min_samples_split=2, classifier__n_estimators=200;, score=0.979 total time=   0.6s\n",
      "[CV 3/5] END classifier__max_depth=20, classifier__min_samples_leaf=1, classifier__min_samples_split=2, classifier__n_estimators=200;, score=0.960 total time=   0.6s\n",
      "[CV 2/5] END classifier__max_depth=20, classifier__min_samples_leaf=1, classifier__min_samples_split=2, classifier__n_estimators=200;, score=0.969 total time=   0.6s\n",
      "[CV 4/5] END classifier__max_depth=20, classifier__min_samples_leaf=1, classifier__min_samples_split=2, classifier__n_estimators=200;, score=0.989 total time=   0.6s\n",
      "[CV 5/5] END classifier__max_depth=20, classifier__min_samples_leaf=1, classifier__min_samples_split=2, classifier__n_estimators=200;, score=0.958 total time=   0.4s\n"
     ]
    },
    {
     "name": "stderr",
     "output_type": "stream",
     "text": [
      "INFO:root:Iteration 14: tested parameters: [20, 1, 2, 200], score: 0.9711495841940782\n"
     ]
    },
    {
     "name": "stdout",
     "output_type": "stream",
     "text": [
      "Fitting 5 folds for each of 1 candidates, totalling 5 fits\n",
      "[CV 1/5] END classifier__max_depth=5, classifier__min_samples_leaf=6, classifier__min_samples_split=10, classifier__n_estimators=200;, score=0.933 total time=   0.3s\n",
      "[CV 2/5] END classifier__max_depth=5, classifier__min_samples_leaf=6, classifier__min_samples_split=10, classifier__n_estimators=200;, score=0.926 total time=   0.3s\n",
      "[CV 3/5] END classifier__max_depth=5, classifier__min_samples_leaf=6, classifier__min_samples_split=10, classifier__n_estimators=200;, score=0.935 total time=   0.3s\n",
      "[CV 4/5] END classifier__max_depth=5, classifier__min_samples_leaf=6, classifier__min_samples_split=10, classifier__n_estimators=200;, score=0.961 total time=   0.3s\n"
     ]
    },
    {
     "name": "stderr",
     "output_type": "stream",
     "text": [
      "INFO:root:Iteration 15: tested parameters: [5, 6, 10, 200], score: 0.9374706228554951\n"
     ]
    },
    {
     "name": "stdout",
     "output_type": "stream",
     "text": [
      "[CV 5/5] END classifier__max_depth=5, classifier__min_samples_leaf=6, classifier__min_samples_split=10, classifier__n_estimators=200;, score=0.931 total time=   0.3s\n",
      "Fitting 5 folds for each of 1 candidates, totalling 5 fits\n",
      "[CV 1/5] END classifier__max_depth=3, classifier__min_samples_leaf=6, classifier__min_samples_split=10, classifier__n_estimators=100;, score=0.872 total time=   0.1s\n",
      "[CV 4/5] END classifier__max_depth=3, classifier__min_samples_leaf=6, classifier__min_samples_split=10, classifier__n_estimators=100;, score=0.885 total time=   0.2s\n",
      "[CV 2/5] END classifier__max_depth=3, classifier__min_samples_leaf=6, classifier__min_samples_split=10, classifier__n_estimators=100;, score=0.850 total time=   0.2s\n",
      "[CV 3/5] END classifier__max_depth=3, classifier__min_samples_leaf=6, classifier__min_samples_split=10, classifier__n_estimators=100;, score=0.883 total time=   0.2s\n",
      "[CV 5/5] END classifier__max_depth=3, classifier__min_samples_leaf=6, classifier__min_samples_split=10, classifier__n_estimators=100;, score=0.875 total time=   0.1s\n"
     ]
    },
    {
     "name": "stderr",
     "output_type": "stream",
     "text": [
      "INFO:root:Iteration 16: tested parameters: [3, 6, 10, 100], score: 0.8730966564848657\n"
     ]
    },
    {
     "name": "stdout",
     "output_type": "stream",
     "text": [
      "Fitting 5 folds for each of 1 candidates, totalling 5 fits\n",
      "[CV 2/5] END classifier__max_depth=30, classifier__min_samples_leaf=6, classifier__min_samples_split=2, classifier__n_estimators=50;, score=0.948 total time=   0.1s\n",
      "[CV 1/5] END classifier__max_depth=30, classifier__min_samples_leaf=6, classifier__min_samples_split=2, classifier__n_estimators=50;, score=0.958 total time=   0.1s\n",
      "[CV 3/5] END classifier__max_depth=30, classifier__min_samples_leaf=6, classifier__min_samples_split=2, classifier__n_estimators=50;, score=0.947 total time=   0.1s\n",
      "[CV 4/5] END classifier__max_depth=30, classifier__min_samples_leaf=6, classifier__min_samples_split=2, classifier__n_estimators=50;, score=0.969 total time=   0.1s\n",
      "[CV 5/5] END classifier__max_depth=30, classifier__min_samples_leaf=6, classifier__min_samples_split=2, classifier__n_estimators=50;, score=0.934 total time=   0.1s\n"
     ]
    },
    {
     "name": "stderr",
     "output_type": "stream",
     "text": [
      "INFO:root:Iteration 17: tested parameters: [30, 6, 2, 50], score: 0.9510517918204237\n"
     ]
    },
    {
     "name": "stdout",
     "output_type": "stream",
     "text": [
      "Fitting 5 folds for each of 1 candidates, totalling 5 fits\n",
      "[CV 1/5] END classifier__max_depth=10, classifier__min_samples_leaf=6, classifier__min_samples_split=2, classifier__n_estimators=50;, score=0.962 total time=   0.1s\n",
      "[CV 2/5] END classifier__max_depth=10, classifier__min_samples_leaf=6, classifier__min_samples_split=2, classifier__n_estimators=50;, score=0.940 total time=   0.1s\n",
      "[CV 3/5] END classifier__max_depth=10, classifier__min_samples_leaf=6, classifier__min_samples_split=2, classifier__n_estimators=50;, score=0.936 total time=   0.1s\n",
      "[CV 4/5] END classifier__max_depth=10, classifier__min_samples_leaf=6, classifier__min_samples_split=2, classifier__n_estimators=50;, score=0.983 total time=   0.1s\n",
      "[CV 5/5] END classifier__max_depth=10, classifier__min_samples_leaf=6, classifier__min_samples_split=2, classifier__n_estimators=50;, score=0.962 total time=   0.1s\n"
     ]
    },
    {
     "name": "stderr",
     "output_type": "stream",
     "text": [
      "INFO:root:Iteration 18: tested parameters: [10, 6, 2, 50], score: 0.9566142804173949\n"
     ]
    },
    {
     "name": "stdout",
     "output_type": "stream",
     "text": [
      "Fitting 5 folds for each of 1 candidates, totalling 5 fits\n",
      "[CV 1/5] END classifier__max_depth=20, classifier__min_samples_leaf=10, classifier__min_samples_split=10, classifier__n_estimators=100;, score=0.962 total time=   0.2s\n",
      "[CV 2/5] END classifier__max_depth=20, classifier__min_samples_leaf=10, classifier__min_samples_split=10, classifier__n_estimators=100;, score=0.933 total time=   0.3s\n",
      "[CV 3/5] END classifier__max_depth=20, classifier__min_samples_leaf=10, classifier__min_samples_split=10, classifier__n_estimators=100;, score=0.932 total time=   0.3s\n",
      "[CV 4/5] END classifier__max_depth=20, classifier__min_samples_leaf=10, classifier__min_samples_split=10, classifier__n_estimators=100;, score=0.968 total time=   0.2s\n",
      "[CV 5/5] END classifier__max_depth=20, classifier__min_samples_leaf=10, classifier__min_samples_split=10, classifier__n_estimators=100;, score=0.934 total time=   0.2s\n"
     ]
    },
    {
     "name": "stderr",
     "output_type": "stream",
     "text": [
      "INFO:root:Iteration 19: tested parameters: [20, 10, 10, 100], score: 0.9458507336193653\n"
     ]
    },
    {
     "name": "stdout",
     "output_type": "stream",
     "text": [
      "Fitting 5 folds for each of 1 candidates, totalling 5 fits\n",
      "[CV 1/5] END classifier__max_depth=20, classifier__min_samples_leaf=1, classifier__min_samples_split=10, classifier__n_estimators=50;, score=0.962 total time=   0.1s\n",
      "[CV 3/5] END classifier__max_depth=20, classifier__min_samples_leaf=1, classifier__min_samples_split=10, classifier__n_estimators=50;, score=0.957 total time=   0.1s\n",
      "[CV 2/5] END classifier__max_depth=20, classifier__min_samples_leaf=1, classifier__min_samples_split=10, classifier__n_estimators=50;, score=0.954 total time=   0.1s\n",
      "[CV 4/5] END classifier__max_depth=20, classifier__min_samples_leaf=1, classifier__min_samples_split=10, classifier__n_estimators=50;, score=0.979 total time=   0.1s\n",
      "[CV 5/5] END classifier__max_depth=20, classifier__min_samples_leaf=1, classifier__min_samples_split=10, classifier__n_estimators=50;, score=0.979 total time=   0.2s\n"
     ]
    },
    {
     "name": "stderr",
     "output_type": "stream",
     "text": [
      "INFO:root:Iteration 20: tested parameters: [20, 1, 10, 50], score: 0.9662236347264155\n"
     ]
    },
    {
     "name": "stdout",
     "output_type": "stream",
     "text": [
      "Fitting 5 folds for each of 1 candidates, totalling 5 fits\n",
      "[CV 1/5] END classifier__max_depth=10, classifier__min_samples_leaf=4, classifier__min_samples_split=2, classifier__n_estimators=100;, score=0.958 total time=   0.3s\n",
      "[CV 2/5] END classifier__max_depth=10, classifier__min_samples_leaf=4, classifier__min_samples_split=2, classifier__n_estimators=100;, score=0.958 total time=   0.3s\n",
      "[CV 4/5] END classifier__max_depth=10, classifier__min_samples_leaf=4, classifier__min_samples_split=2, classifier__n_estimators=100;, score=0.982 total time=   0.3s\n",
      "[CV 3/5] END classifier__max_depth=10, classifier__min_samples_leaf=4, classifier__min_samples_split=2, classifier__n_estimators=100;, score=0.950 total time=   0.3s\n",
      "[CV 5/5] END classifier__max_depth=10, classifier__min_samples_leaf=4, classifier__min_samples_split=2, classifier__n_estimators=100;, score=0.952 total time=   0.2s\n"
     ]
    },
    {
     "name": "stderr",
     "output_type": "stream",
     "text": [
      "INFO:root:Iteration 21: tested parameters: [10, 4, 2, 100], score: 0.9601460941316337\n"
     ]
    },
    {
     "name": "stdout",
     "output_type": "stream",
     "text": [
      "Fitting 5 folds for each of 1 candidates, totalling 5 fits\n",
      "[CV 2/5] END classifier__max_depth=3, classifier__min_samples_leaf=10, classifier__min_samples_split=2, classifier__n_estimators=50;, score=0.840 total time=   0.1s\n",
      "[CV 1/5] END classifier__max_depth=3, classifier__min_samples_leaf=10, classifier__min_samples_split=2, classifier__n_estimators=50;, score=0.850 total time=   0.1s\n",
      "[CV 3/5] END classifier__max_depth=3, classifier__min_samples_leaf=10, classifier__min_samples_split=2, classifier__n_estimators=50;, score=0.864 total time=   0.1s\n",
      "[CV 4/5] END classifier__max_depth=3, classifier__min_samples_leaf=10, classifier__min_samples_split=2, classifier__n_estimators=50;, score=0.878 total time=   0.1s\n",
      "[CV 5/5] END classifier__max_depth=3, classifier__min_samples_leaf=10, classifier__min_samples_split=2, classifier__n_estimators=50;, score=0.840 total time=   0.1s\n"
     ]
    },
    {
     "name": "stderr",
     "output_type": "stream",
     "text": [
      "INFO:root:Iteration 22: tested parameters: [3, 10, 2, 50], score: 0.8545193424792981\n"
     ]
    },
    {
     "name": "stdout",
     "output_type": "stream",
     "text": [
      "Fitting 5 folds for each of 1 candidates, totalling 5 fits\n",
      "[CV 1/5] END classifier__max_depth=None, classifier__min_samples_leaf=6, classifier__min_samples_split=2, classifier__n_estimators=100;, score=0.958 total time=   0.3s\n",
      "[CV 2/5] END classifier__max_depth=None, classifier__min_samples_leaf=6, classifier__min_samples_split=2, classifier__n_estimators=100;, score=0.944 total time=   0.3s\n",
      "[CV 3/5] END classifier__max_depth=None, classifier__min_samples_leaf=6, classifier__min_samples_split=2, classifier__n_estimators=100;, score=0.954 total time=   0.3s\n",
      "[CV 4/5] END classifier__max_depth=None, classifier__min_samples_leaf=6, classifier__min_samples_split=2, classifier__n_estimators=100;, score=0.975 total time=   0.3s\n",
      "[CV 5/5] END classifier__max_depth=None, classifier__min_samples_leaf=6, classifier__min_samples_split=2, classifier__n_estimators=100;, score=0.948 total time=   0.3s\n"
     ]
    },
    {
     "name": "stderr",
     "output_type": "stream",
     "text": [
      "INFO:root:Iteration 23: tested parameters: [None, 6, 2, 100], score: 0.955950485842588\n"
     ]
    },
    {
     "name": "stdout",
     "output_type": "stream",
     "text": [
      "Fitting 5 folds for each of 1 candidates, totalling 5 fits\n",
      "[CV 1/5] END classifier__max_depth=20, classifier__min_samples_leaf=8, classifier__min_samples_split=5, classifier__n_estimators=100;, score=0.962 total time=   0.3s\n",
      "[CV 3/5] END classifier__max_depth=20, classifier__min_samples_leaf=8, classifier__min_samples_split=5, classifier__n_estimators=100;, score=0.943 total time=   0.3s\n",
      "[CV 2/5] END classifier__max_depth=20, classifier__min_samples_leaf=8, classifier__min_samples_split=5, classifier__n_estimators=100;, score=0.951 total time=   0.3s\n",
      "[CV 4/5] END classifier__max_depth=20, classifier__min_samples_leaf=8, classifier__min_samples_split=5, classifier__n_estimators=100;, score=0.976 total time=   0.3s\n",
      "[CV 5/5] END classifier__max_depth=20, classifier__min_samples_leaf=8, classifier__min_samples_split=5, classifier__n_estimators=100;, score=0.948 total time=   0.2s\n"
     ]
    },
    {
     "name": "stderr",
     "output_type": "stream",
     "text": [
      "INFO:root:Iteration 24: tested parameters: [20, 8, 5, 100], score: 0.9558901189446238\n"
     ]
    },
    {
     "name": "stdout",
     "output_type": "stream",
     "text": [
      "Fitting 5 folds for each of 1 candidates, totalling 5 fits\n",
      "[CV 1/5] END classifier__max_depth=10, classifier__min_samples_leaf=2, classifier__min_samples_split=2, classifier__n_estimators=100;, score=0.979 total time=   0.3s\n",
      "[CV 3/5] END classifier__max_depth=10, classifier__min_samples_leaf=2, classifier__min_samples_split=2, classifier__n_estimators=100;, score=0.954 total time=   0.3s\n",
      "[CV 2/5] END classifier__max_depth=10, classifier__min_samples_leaf=2, classifier__min_samples_split=2, classifier__n_estimators=100;, score=0.965 total time=   0.3s\n",
      "[CV 4/5] END classifier__max_depth=10, classifier__min_samples_leaf=2, classifier__min_samples_split=2, classifier__n_estimators=100;, score=0.983 total time=   0.3s\n",
      "[CV 5/5] END classifier__max_depth=10, classifier__min_samples_leaf=2, classifier__min_samples_split=2, classifier__n_estimators=100;, score=0.948 total time=   0.2s\n"
     ]
    },
    {
     "name": "stderr",
     "output_type": "stream",
     "text": [
      "INFO:root:Iteration 25: tested parameters: [10, 2, 2, 100], score: 0.9656779784710819\n"
     ]
    },
    {
     "name": "stdout",
     "output_type": "stream",
     "text": [
      "Fitting 5 folds for each of 1 candidates, totalling 5 fits\n",
      "[CV 2/5] END classifier__max_depth=3, classifier__min_samples_leaf=8, classifier__min_samples_split=2, classifier__n_estimators=50;, score=0.836 total time=   0.1s\n",
      "[CV 1/5] END classifier__max_depth=3, classifier__min_samples_leaf=8, classifier__min_samples_split=2, classifier__n_estimators=50;, score=0.868 total time=   0.1s\n",
      "[CV 3/5] END classifier__max_depth=3, classifier__min_samples_leaf=8, classifier__min_samples_split=2, classifier__n_estimators=50;, score=0.882 total time=   0.1s\n",
      "[CV 4/5] END classifier__max_depth=3, classifier__min_samples_leaf=8, classifier__min_samples_split=2, classifier__n_estimators=50;, score=0.850 total time=   0.1s\n",
      "[CV 5/5] END classifier__max_depth=3, classifier__min_samples_leaf=8, classifier__min_samples_split=2, classifier__n_estimators=50;, score=0.861 total time=   0.1s\n"
     ]
    },
    {
     "name": "stderr",
     "output_type": "stream",
     "text": [
      "INFO:root:Iteration 26: tested parameters: [3, 8, 2, 50], score: 0.8593876146923979\n"
     ]
    },
    {
     "name": "stdout",
     "output_type": "stream",
     "text": [
      "Fitting 5 folds for each of 1 candidates, totalling 5 fits\n",
      "[CV 1/5] END classifier__max_depth=10, classifier__min_samples_leaf=1, classifier__min_samples_split=2, classifier__n_estimators=100;, score=0.976 total time=   0.3s\n",
      "[CV 2/5] END classifier__max_depth=10, classifier__min_samples_leaf=1, classifier__min_samples_split=2, classifier__n_estimators=100;, score=0.965 total time=   0.3s\n",
      "[CV 3/5] END classifier__max_depth=10, classifier__min_samples_leaf=1, classifier__min_samples_split=2, classifier__n_estimators=100;, score=0.957 total time=   0.3s\n",
      "[CV 4/5] END classifier__max_depth=10, classifier__min_samples_leaf=1, classifier__min_samples_split=2, classifier__n_estimators=100;, score=0.989 total time=   0.3s\n",
      "[CV 5/5] END classifier__max_depth=10, classifier__min_samples_leaf=1, classifier__min_samples_split=2, classifier__n_estimators=100;, score=0.975 total time=   0.2s\n"
     ]
    },
    {
     "name": "stderr",
     "output_type": "stream",
     "text": [
      "INFO:root:Iteration 27: tested parameters: [10, 1, 2, 100], score: 0.9724121275255868\n"
     ]
    },
    {
     "name": "stdout",
     "output_type": "stream",
     "text": [
      "Fitting 5 folds for each of 1 candidates, totalling 5 fits\n",
      "[CV 1/5] END classifier__max_depth=20, classifier__min_samples_leaf=1, classifier__min_samples_split=10, classifier__n_estimators=200;, score=0.972 total time=   0.5s\n",
      "[CV 4/5] END classifier__max_depth=20, classifier__min_samples_leaf=1, classifier__min_samples_split=10, classifier__n_estimators=200;, score=0.986 total time=   0.5s\n",
      "[CV 2/5] END classifier__max_depth=20, classifier__min_samples_leaf=1, classifier__min_samples_split=10, classifier__n_estimators=200;, score=0.958 total time=   0.5s\n",
      "[CV 3/5] END classifier__max_depth=20, classifier__min_samples_leaf=1, classifier__min_samples_split=10, classifier__n_estimators=200;, score=0.950 total time=   0.5s\n",
      "[CV 5/5] END classifier__max_depth=20, classifier__min_samples_leaf=1, classifier__min_samples_split=10, classifier__n_estimators=200;, score=0.962 total time=   0.4s\n"
     ]
    },
    {
     "name": "stderr",
     "output_type": "stream",
     "text": [
      "INFO:root:Iteration 28: tested parameters: [20, 1, 10, 200], score: 0.9656042457521877\n"
     ]
    },
    {
     "name": "stdout",
     "output_type": "stream",
     "text": [
      "Fitting 5 folds for each of 1 candidates, totalling 5 fits\n",
      "[CV 1/5] END classifier__max_depth=10, classifier__min_samples_leaf=1, classifier__min_samples_split=10, classifier__n_estimators=200;, score=0.972 total time=   0.5s\n",
      "[CV 2/5] END classifier__max_depth=10, classifier__min_samples_leaf=1, classifier__min_samples_split=10, classifier__n_estimators=200;, score=0.965 total time=   0.5s\n",
      "[CV 3/5] END classifier__max_depth=10, classifier__min_samples_leaf=1, classifier__min_samples_split=10, classifier__n_estimators=200;, score=0.954 total time=   0.5s\n",
      "[CV 4/5] END classifier__max_depth=10, classifier__min_samples_leaf=1, classifier__min_samples_split=10, classifier__n_estimators=200;, score=0.986 total time=   0.4s\n",
      "[CV 5/5] END classifier__max_depth=10, classifier__min_samples_leaf=1, classifier__min_samples_split=10, classifier__n_estimators=200;, score=0.962 total time=   0.4s\n"
     ]
    },
    {
     "name": "stderr",
     "output_type": "stream",
     "text": [
      "INFO:root:Iteration 29: tested parameters: [10, 1, 10, 200], score: 0.9676976829045794\n"
     ]
    },
    {
     "name": "stdout",
     "output_type": "stream",
     "text": [
      "Fitting 5 folds for each of 1 candidates, totalling 5 fits\n",
      "[CV 1/5] END classifier__max_depth=10, classifier__min_samples_leaf=1, classifier__min_samples_split=2, classifier__n_estimators=50;, score=0.979 total time=   0.1s\n",
      "[CV 2/5] END classifier__max_depth=10, classifier__min_samples_leaf=1, classifier__min_samples_split=2, classifier__n_estimators=50;, score=0.965 total time=   0.1s\n",
      "[CV 3/5] END classifier__max_depth=10, classifier__min_samples_leaf=1, classifier__min_samples_split=2, classifier__n_estimators=50;, score=0.953 total time=   0.1s\n",
      "[CV 4/5] END classifier__max_depth=10, classifier__min_samples_leaf=1, classifier__min_samples_split=2, classifier__n_estimators=50;, score=0.986 total time=   0.1s\n",
      "[CV 5/5] END classifier__max_depth=10, classifier__min_samples_leaf=1, classifier__min_samples_split=2, classifier__n_estimators=50;, score=0.969 total time=   0.1s\n"
     ]
    },
    {
     "name": "stderr",
     "output_type": "stream",
     "text": [
      "INFO:root:Iteration 30: tested parameters: [10, 1, 2, 50], score: 0.9703940886699506\n"
     ]
    },
    {
     "name": "stdout",
     "output_type": "stream",
     "text": [
      "Fitting 5 folds for each of 1 candidates, totalling 5 fits\n",
      "[CV 1/5] END classifier__max_depth=5, classifier__min_samples_leaf=1, classifier__min_samples_split=5, classifier__n_estimators=50;, score=0.926 total time=   0.1s\n",
      "[CV 2/5] END classifier__max_depth=5, classifier__min_samples_leaf=1, classifier__min_samples_split=5, classifier__n_estimators=50;, score=0.895 total time=   0.1s\n",
      "[CV 3/5] END classifier__max_depth=5, classifier__min_samples_leaf=1, classifier__min_samples_split=5, classifier__n_estimators=50;, score=0.940 total time=   0.1s\n",
      "[CV 4/5] END classifier__max_depth=5, classifier__min_samples_leaf=1, classifier__min_samples_split=5, classifier__n_estimators=50;, score=0.941 total time=   0.1s\n",
      "[CV 5/5] END classifier__max_depth=5, classifier__min_samples_leaf=1, classifier__min_samples_split=5, classifier__n_estimators=50;, score=0.924 total time=   0.1s\n"
     ]
    },
    {
     "name": "stderr",
     "output_type": "stream",
     "text": [
      "INFO:root:Iteration 31: tested parameters: [5, 1, 5, 50], score: 0.9251467062167841\n"
     ]
    },
    {
     "name": "stdout",
     "output_type": "stream",
     "text": [
      "Fitting 5 folds for each of 1 candidates, totalling 5 fits\n",
      "[CV 2/5] END classifier__max_depth=None, classifier__min_samples_leaf=1, classifier__min_samples_split=2, classifier__n_estimators=100;, score=0.962 total time=   0.3s\n",
      "[CV 1/5] END classifier__max_depth=None, classifier__min_samples_leaf=1, classifier__min_samples_split=2, classifier__n_estimators=100;, score=0.986 total time=   0.3s\n",
      "[CV 3/5] END classifier__max_depth=None, classifier__min_samples_leaf=1, classifier__min_samples_split=2, classifier__n_estimators=100;, score=0.950 total time=   0.3s\n",
      "[CV 4/5] END classifier__max_depth=None, classifier__min_samples_leaf=1, classifier__min_samples_split=2, classifier__n_estimators=100;, score=0.986 total time=   0.3s\n",
      "[CV 5/5] END classifier__max_depth=None, classifier__min_samples_leaf=1, classifier__min_samples_split=2, classifier__n_estimators=100;, score=0.972 total time=   0.2s\n"
     ]
    },
    {
     "name": "stderr",
     "output_type": "stream",
     "text": [
      "INFO:root:Iteration 32: tested parameters: [None, 1, 2, 100], score: 0.9711808064221857\n"
     ]
    },
    {
     "name": "stdout",
     "output_type": "stream",
     "text": [
      "Fitting 5 folds for each of 1 candidates, totalling 5 fits\n",
      "[CV 1/5] END classifier__max_depth=5, classifier__min_samples_leaf=2, classifier__min_samples_split=10, classifier__n_estimators=200;, score=0.941 total time=   0.4s\n",
      "[CV 2/5] END classifier__max_depth=5, classifier__min_samples_leaf=2, classifier__min_samples_split=10, classifier__n_estimators=200;, score=0.937 total time=   0.4s\n",
      "[CV 3/5] END classifier__max_depth=5, classifier__min_samples_leaf=2, classifier__min_samples_split=10, classifier__n_estimators=200;, score=0.939 total time=   0.4s\n",
      "[CV 4/5] END classifier__max_depth=5, classifier__min_samples_leaf=2, classifier__min_samples_split=10, classifier__n_estimators=200;, score=0.961 total time=   0.4s\n",
      "[CV 5/5] END classifier__max_depth=5, classifier__min_samples_leaf=2, classifier__min_samples_split=10, classifier__n_estimators=200;, score=0.931 total time=   0.3s\n"
     ]
    },
    {
     "name": "stderr",
     "output_type": "stream",
     "text": [
      "INFO:root:Iteration 33: tested parameters: [5, 2, 10, 200], score: 0.9419152497483976\n"
     ]
    },
    {
     "name": "stdout",
     "output_type": "stream",
     "text": [
      "Fitting 5 folds for each of 1 candidates, totalling 5 fits\n",
      "[CV 1/5] END classifier__max_depth=30, classifier__min_samples_leaf=1, classifier__min_samples_split=2, classifier__n_estimators=200;, score=0.986 total time=   0.5s\n",
      "[CV 2/5] END classifier__max_depth=30, classifier__min_samples_leaf=1, classifier__min_samples_split=2, classifier__n_estimators=200;, score=0.968 total time=   0.5s\n",
      "[CV 3/5] END classifier__max_depth=30, classifier__min_samples_leaf=1, classifier__min_samples_split=2, classifier__n_estimators=200;, score=0.957 total time=   0.5s\n",
      "[CV 4/5] END classifier__max_depth=30, classifier__min_samples_leaf=1, classifier__min_samples_split=2, classifier__n_estimators=200;, score=0.986 total time=   0.5s\n",
      "[CV 5/5] END classifier__max_depth=30, classifier__min_samples_leaf=1, classifier__min_samples_split=2, classifier__n_estimators=200;, score=0.968 total time=   0.5s\n"
     ]
    },
    {
     "name": "stderr",
     "output_type": "stream",
     "text": [
      "INFO:root:Iteration 34: tested parameters: [30, 1, 2, 200], score: 0.9730540047436598\n"
     ]
    },
    {
     "name": "stdout",
     "output_type": "stream",
     "text": [
      "Fitting 5 folds for each of 1 candidates, totalling 5 fits\n",
      "[CV 1/5] END classifier__max_depth=10, classifier__min_samples_leaf=1, classifier__min_samples_split=5, classifier__n_estimators=200;, score=0.979 total time=   0.5s\n",
      "[CV 2/5] END classifier__max_depth=10, classifier__min_samples_leaf=1, classifier__min_samples_split=5, classifier__n_estimators=200;, score=0.972 total time=   0.4s\n",
      "[CV 3/5] END classifier__max_depth=10, classifier__min_samples_leaf=1, classifier__min_samples_split=5, classifier__n_estimators=200;, score=0.957 total time=   0.4s\n",
      "[CV 4/5] END classifier__max_depth=10, classifier__min_samples_leaf=1, classifier__min_samples_split=5, classifier__n_estimators=200;, score=0.986 total time=   0.4s\n",
      "[CV 5/5] END classifier__max_depth=10, classifier__min_samples_leaf=1, classifier__min_samples_split=5, classifier__n_estimators=200;, score=0.955 total time=   0.4s\n"
     ]
    },
    {
     "name": "stderr",
     "output_type": "stream",
     "text": [
      "INFO:root:Iteration 35: tested parameters: [10, 1, 5, 200], score: 0.9697456433073786\n"
     ]
    },
    {
     "name": "stdout",
     "output_type": "stream",
     "text": [
      "Fitting 5 folds for each of 1 candidates, totalling 5 fits\n",
      "[CV 1/5] END classifier__max_depth=3, classifier__min_samples_leaf=1, classifier__min_samples_split=5, classifier__n_estimators=200;, score=0.889 total time=   0.3s\n",
      "[CV 2/5] END classifier__max_depth=3, classifier__min_samples_leaf=1, classifier__min_samples_split=5, classifier__n_estimators=200;, score=0.874 total time=   0.3s\n",
      "[CV 3/5] END classifier__max_depth=3, classifier__min_samples_leaf=1, classifier__min_samples_split=5, classifier__n_estimators=200;, score=0.888 total time=   0.3s\n",
      "[CV 4/5] END classifier__max_depth=3, classifier__min_samples_leaf=1, classifier__min_samples_split=5, classifier__n_estimators=200;, score=0.907 total time=   0.3s\n",
      "[CV 5/5] END classifier__max_depth=3, classifier__min_samples_leaf=1, classifier__min_samples_split=5, classifier__n_estimators=200;, score=0.879 total time=   0.2s\n"
     ]
    },
    {
     "name": "stderr",
     "output_type": "stream",
     "text": [
      "INFO:root:Iteration 36: tested parameters: [3, 1, 5, 200], score: 0.8870744919398978\n"
     ]
    },
    {
     "name": "stdout",
     "output_type": "stream",
     "text": [
      "Fitting 5 folds for each of 1 candidates, totalling 5 fits\n",
      "[CV 1/5] END classifier__max_depth=30, classifier__min_samples_leaf=1, classifier__min_samples_split=5, classifier__n_estimators=100;, score=0.965 total time=   0.3s\n",
      "[CV 2/5] END classifier__max_depth=30, classifier__min_samples_leaf=1, classifier__min_samples_split=5, classifier__n_estimators=100;, score=0.962 total time=   0.3s\n",
      "[CV 4/5] END classifier__max_depth=30, classifier__min_samples_leaf=1, classifier__min_samples_split=5, classifier__n_estimators=100;, score=0.982 total time=   0.3s\n",
      "[CV 3/5] END classifier__max_depth=30, classifier__min_samples_leaf=1, classifier__min_samples_split=5, classifier__n_estimators=100;, score=0.964 total time=   0.3s\n",
      "[CV 5/5] END classifier__max_depth=30, classifier__min_samples_leaf=1, classifier__min_samples_split=5, classifier__n_estimators=100;, score=0.965 total time=   0.2s\n"
     ]
    },
    {
     "name": "stderr",
     "output_type": "stream",
     "text": [
      "INFO:root:Iteration 37: tested parameters: [30, 1, 5, 100], score: 0.9676483982790991\n"
     ]
    },
    {
     "name": "stdout",
     "output_type": "stream",
     "text": [
      "Fitting 5 folds for each of 1 candidates, totalling 5 fits\n",
      "[CV 1/5] END classifier__max_depth=10, classifier__min_samples_leaf=1, classifier__min_samples_split=2, classifier__n_estimators=200;, score=0.979 total time=   0.5s\n",
      "[CV 2/5] END classifier__max_depth=10, classifier__min_samples_leaf=1, classifier__min_samples_split=2, classifier__n_estimators=200;, score=0.972 total time=   0.5s\n",
      "[CV 4/5] END classifier__max_depth=10, classifier__min_samples_leaf=1, classifier__min_samples_split=2, classifier__n_estimators=200;, score=0.986 total time=   0.5s\n",
      "[CV 3/5] END classifier__max_depth=10, classifier__min_samples_leaf=1, classifier__min_samples_split=2, classifier__n_estimators=200;, score=0.950 total time=   0.5s\n",
      "[CV 5/5] END classifier__max_depth=10, classifier__min_samples_leaf=1, classifier__min_samples_split=2, classifier__n_estimators=200;, score=0.972 total time=   0.4s\n"
     ]
    },
    {
     "name": "stderr",
     "output_type": "stream",
     "text": [
      "INFO:root:Iteration 38: tested parameters: [10, 1, 2, 200], score: 0.9718228425469805\n"
     ]
    },
    {
     "name": "stdout",
     "output_type": "stream",
     "text": [
      "Fitting 5 folds for each of 1 candidates, totalling 5 fits\n",
      "[CV 1/5] END classifier__max_depth=10, classifier__min_samples_leaf=2, classifier__min_samples_split=5, classifier__n_estimators=50;, score=0.961 total time=   0.1s\n",
      "[CV 2/5] END classifier__max_depth=10, classifier__min_samples_leaf=2, classifier__min_samples_split=5, classifier__n_estimators=50;, score=0.968 total time=   0.1s\n",
      "[CV 3/5] END classifier__max_depth=10, classifier__min_samples_leaf=2, classifier__min_samples_split=5, classifier__n_estimators=50;, score=0.957 total time=   0.1s\n",
      "[CV 4/5] END classifier__max_depth=10, classifier__min_samples_leaf=2, classifier__min_samples_split=5, classifier__n_estimators=50;, score=0.990 total time=   0.1s\n",
      "[CV 5/5] END classifier__max_depth=10, classifier__min_samples_leaf=2, classifier__min_samples_split=5, classifier__n_estimators=50;, score=0.962 total time=   0.1s\n"
     ]
    },
    {
     "name": "stderr",
     "output_type": "stream",
     "text": [
      "INFO:root:Iteration 39: tested parameters: [10, 2, 5, 50], score: 0.9677274220032841\n"
     ]
    },
    {
     "name": "stdout",
     "output_type": "stream",
     "text": [
      "Fitting 5 folds for each of 1 candidates, totalling 5 fits\n",
      "[CV 1/5] END classifier__max_depth=5, classifier__min_samples_leaf=2, classifier__min_samples_split=5, classifier__n_estimators=50;, score=0.916 total time=   0.1s\n",
      "[CV 2/5] END classifier__max_depth=5, classifier__min_samples_leaf=2, classifier__min_samples_split=5, classifier__n_estimators=50;, score=0.931 total time=   0.1s\n",
      "[CV 3/5] END classifier__max_depth=5, classifier__min_samples_leaf=2, classifier__min_samples_split=5, classifier__n_estimators=50;, score=0.921 total time=   0.1s\n",
      "[CV 4/5] END classifier__max_depth=5, classifier__min_samples_leaf=2, classifier__min_samples_split=5, classifier__n_estimators=50;, score=0.961 total time=   0.1s\n",
      "[CV 5/5] END classifier__max_depth=5, classifier__min_samples_leaf=2, classifier__min_samples_split=5, classifier__n_estimators=50;, score=0.941 total time=   0.1s\n"
     ]
    },
    {
     "name": "stderr",
     "output_type": "stream",
     "text": [
      "INFO:root:Iteration 40: tested parameters: [5, 2, 5, 50], score: 0.9339508036560318\n"
     ]
    },
    {
     "name": "stdout",
     "output_type": "stream",
     "text": [
      "Fitting 5 folds for each of 1 candidates, totalling 5 fits\n",
      "[CV 2/5] END classifier__max_depth=10, classifier__min_samples_leaf=1, classifier__min_samples_split=5, classifier__n_estimators=50;, score=0.958 total time=   0.1s\n",
      "[CV 1/5] END classifier__max_depth=10, classifier__min_samples_leaf=1, classifier__min_samples_split=5, classifier__n_estimators=50;, score=0.972 total time=   0.1s\n",
      "[CV 3/5] END classifier__max_depth=10, classifier__min_samples_leaf=1, classifier__min_samples_split=5, classifier__n_estimators=50;, score=0.960 total time=   0.1s\n",
      "[CV 4/5] END classifier__max_depth=10, classifier__min_samples_leaf=1, classifier__min_samples_split=5, classifier__n_estimators=50;, score=0.982 total time=   0.1s\n",
      "[CV 5/5] END classifier__max_depth=10, classifier__min_samples_leaf=1, classifier__min_samples_split=5, classifier__n_estimators=50;, score=0.962 total time=   0.1s\n"
     ]
    },
    {
     "name": "stderr",
     "output_type": "stream",
     "text": [
      "INFO:root:Iteration 41: tested parameters: [10, 1, 5, 50], score: 0.9669074986316366\n"
     ]
    },
    {
     "name": "stdout",
     "output_type": "stream",
     "text": [
      "Fitting 5 folds for each of 1 candidates, totalling 5 fits\n",
      "[CV 4/5] END classifier__max_depth=None, classifier__min_samples_leaf=1, classifier__min_samples_split=2, classifier__n_estimators=200;, score=0.993 total time=   0.5s\n",
      "[CV 2/5] END classifier__max_depth=None, classifier__min_samples_leaf=1, classifier__min_samples_split=2, classifier__n_estimators=200;, score=0.965 total time=   0.5s\n",
      "[CV 1/5] END classifier__max_depth=None, classifier__min_samples_leaf=1, classifier__min_samples_split=2, classifier__n_estimators=200;, score=0.982 total time=   0.6s\n",
      "[CV 3/5] END classifier__max_depth=None, classifier__min_samples_leaf=1, classifier__min_samples_split=2, classifier__n_estimators=200;, score=0.964 total time=   0.6s\n",
      "[CV 5/5] END classifier__max_depth=None, classifier__min_samples_leaf=1, classifier__min_samples_split=2, classifier__n_estimators=200;, score=0.966 total time=   0.4s\n"
     ]
    },
    {
     "name": "stderr",
     "output_type": "stream",
     "text": [
      "INFO:root:Iteration 42: tested parameters: [None, 1, 2, 200], score: 0.9740151432220397\n"
     ]
    },
    {
     "name": "stdout",
     "output_type": "stream",
     "text": [
      "Fitting 5 folds for each of 1 candidates, totalling 5 fits\n",
      "[CV 1/5] END classifier__max_depth=5, classifier__min_samples_leaf=4, classifier__min_samples_split=5, classifier__n_estimators=200;, score=0.934 total time=   0.3s\n",
      "[CV 4/5] END classifier__max_depth=5, classifier__min_samples_leaf=4, classifier__min_samples_split=5, classifier__n_estimators=200;, score=0.954 total time=   0.3s\n",
      "[CV 3/5] END classifier__max_depth=5, classifier__min_samples_leaf=4, classifier__min_samples_split=5, classifier__n_estimators=200;, score=0.925 total time=   0.3s\n",
      "[CV 2/5] END classifier__max_depth=5, classifier__min_samples_leaf=4, classifier__min_samples_split=5, classifier__n_estimators=200;, score=0.923 total time=   0.3s\n",
      "[CV 5/5] END classifier__max_depth=5, classifier__min_samples_leaf=4, classifier__min_samples_split=5, classifier__n_estimators=200;, score=0.931 total time=   0.3s\n"
     ]
    },
    {
     "name": "stderr",
     "output_type": "stream",
     "text": [
      "INFO:root:Iteration 43: tested parameters: [5, 4, 5, 200], score: 0.933453266710219\n"
     ]
    },
    {
     "name": "stdout",
     "output_type": "stream",
     "text": [
      "Fitting 5 folds for each of 1 candidates, totalling 5 fits\n",
      "[CV 1/5] END classifier__max_depth=3, classifier__min_samples_leaf=6, classifier__min_samples_split=5, classifier__n_estimators=50;, score=0.831 total time=   0.1s\n",
      "[CV 2/5] END classifier__max_depth=3, classifier__min_samples_leaf=6, classifier__min_samples_split=5, classifier__n_estimators=50;, score=0.841 total time=   0.1s\n",
      "[CV 3/5] END classifier__max_depth=3, classifier__min_samples_leaf=6, classifier__min_samples_split=5, classifier__n_estimators=50;, score=0.880 total time=   0.1s\n",
      "[CV 4/5] END classifier__max_depth=3, classifier__min_samples_leaf=6, classifier__min_samples_split=5, classifier__n_estimators=50;, score=0.885 total time=   0.1s\n",
      "[CV 5/5] END classifier__max_depth=3, classifier__min_samples_leaf=6, classifier__min_samples_split=5, classifier__n_estimators=50;, score=0.861 total time=   0.1s\n"
     ]
    },
    {
     "name": "stderr",
     "output_type": "stream",
     "text": [
      "INFO:root:Iteration 44: tested parameters: [3, 6, 5, 50], score: 0.859688519283625\n"
     ]
    },
    {
     "name": "stdout",
     "output_type": "stream",
     "text": [
      "Fitting 5 folds for each of 1 candidates, totalling 5 fits\n",
      "[CV 2/5] END classifier__max_depth=20, classifier__min_samples_leaf=1, classifier__min_samples_split=2, classifier__n_estimators=100;, score=0.969 total time=   0.3s\n",
      "[CV 1/5] END classifier__max_depth=20, classifier__min_samples_leaf=1, classifier__min_samples_split=2, classifier__n_estimators=100;, score=0.982 total time=   0.3s\n",
      "[CV 3/5] END classifier__max_depth=20, classifier__min_samples_leaf=1, classifier__min_samples_split=2, classifier__n_estimators=100;, score=0.953 total time=   0.3s\n",
      "[CV 4/5] END classifier__max_depth=20, classifier__min_samples_leaf=1, classifier__min_samples_split=2, classifier__n_estimators=100;, score=0.993 total time=   0.3s\n",
      "[CV 5/5] END classifier__max_depth=20, classifier__min_samples_leaf=1, classifier__min_samples_split=2, classifier__n_estimators=100;, score=0.965 total time=   0.2s\n"
     ]
    },
    {
     "name": "stderr",
     "output_type": "stream",
     "text": [
      "INFO:root:Iteration 45: tested parameters: [20, 1, 2, 100], score: 0.9725141397555189\n"
     ]
    },
    {
     "name": "stdout",
     "output_type": "stream",
     "text": [
      "Fitting 5 folds for each of 1 candidates, totalling 5 fits\n",
      "[CV 1/5] END classifier__max_depth=20, classifier__min_samples_leaf=2, classifier__min_samples_split=2, classifier__n_estimators=50;, score=0.972 total time=   0.1s\n",
      "[CV 2/5] END classifier__max_depth=20, classifier__min_samples_leaf=2, classifier__min_samples_split=2, classifier__n_estimators=50;, score=0.955 total time=   0.1s\n",
      "[CV 4/5] END classifier__max_depth=20, classifier__min_samples_leaf=2, classifier__min_samples_split=2, classifier__n_estimators=50;, score=0.979 total time=   0.1s\n",
      "[CV 3/5] END classifier__max_depth=20, classifier__min_samples_leaf=2, classifier__min_samples_split=2, classifier__n_estimators=50;, score=0.964 total time=   0.1s\n",
      "[CV 5/5] END classifier__max_depth=20, classifier__min_samples_leaf=2, classifier__min_samples_split=2, classifier__n_estimators=50;, score=0.945 total time=   0.1s\n"
     ]
    },
    {
     "name": "stderr",
     "output_type": "stream",
     "text": [
      "INFO:root:Iteration 46: tested parameters: [20, 2, 2, 50], score: 0.9627648003955012\n"
     ]
    },
    {
     "name": "stdout",
     "output_type": "stream",
     "text": [
      "Fitting 5 folds for each of 1 candidates, totalling 5 fits\n",
      "[CV 1/5] END classifier__max_depth=None, classifier__min_samples_leaf=2, classifier__min_samples_split=5, classifier__n_estimators=200;, score=0.969 total time=   0.5s\n",
      "[CV 3/5] END classifier__max_depth=None, classifier__min_samples_leaf=2, classifier__min_samples_split=5, classifier__n_estimators=200;, score=0.957 total time=   0.5s\n",
      "[CV 4/5] END classifier__max_depth=None, classifier__min_samples_leaf=2, classifier__min_samples_split=5, classifier__n_estimators=200;, score=0.986 total time=   0.5s\n",
      "[CV 2/5] END classifier__max_depth=None, classifier__min_samples_leaf=2, classifier__min_samples_split=5, classifier__n_estimators=200;, score=0.965 total time=   0.5s\n",
      "[CV 5/5] END classifier__max_depth=None, classifier__min_samples_leaf=2, classifier__min_samples_split=5, classifier__n_estimators=200;, score=0.965 total time=   0.4s\n"
     ]
    },
    {
     "name": "stderr",
     "output_type": "stream",
     "text": [
      "INFO:root:Iteration 47: tested parameters: [None, 2, 5, 200], score: 0.9684650375784971\n"
     ]
    },
    {
     "name": "stdout",
     "output_type": "stream",
     "text": [
      "Fitting 5 folds for each of 1 candidates, totalling 5 fits\n",
      "[CV 1/5] END classifier__max_depth=20, classifier__min_samples_leaf=2, classifier__min_samples_split=5, classifier__n_estimators=100;, score=0.979 total time=   0.3s\n",
      "[CV 2/5] END classifier__max_depth=20, classifier__min_samples_leaf=2, classifier__min_samples_split=5, classifier__n_estimators=100;, score=0.962 total time=   0.3s\n",
      "[CV 3/5] END classifier__max_depth=20, classifier__min_samples_leaf=2, classifier__min_samples_split=5, classifier__n_estimators=100;, score=0.950 total time=   0.2s\n",
      "[CV 4/5] END classifier__max_depth=20, classifier__min_samples_leaf=2, classifier__min_samples_split=5, classifier__n_estimators=100;, score=0.986 total time=   0.2s\n",
      "[CV 5/5] END classifier__max_depth=20, classifier__min_samples_leaf=2, classifier__min_samples_split=5, classifier__n_estimators=100;, score=0.958 total time=   0.2s\n"
     ]
    },
    {
     "name": "stderr",
     "output_type": "stream",
     "text": [
      "INFO:root:Iteration 48: tested parameters: [20, 2, 5, 100], score: 0.9669390622149242\n"
     ]
    },
    {
     "name": "stdout",
     "output_type": "stream",
     "text": [
      "Fitting 5 folds for each of 1 candidates, totalling 5 fits\n",
      "[CV 1/5] END classifier__max_depth=5, classifier__min_samples_leaf=1, classifier__min_samples_split=2, classifier__n_estimators=200;, score=0.948 total time=   0.4s\n",
      "[CV 2/5] END classifier__max_depth=5, classifier__min_samples_leaf=1, classifier__min_samples_split=2, classifier__n_estimators=200;, score=0.930 total time=   0.4s\n",
      "[CV 4/5] END classifier__max_depth=5, classifier__min_samples_leaf=1, classifier__min_samples_split=2, classifier__n_estimators=200;, score=0.972 total time=   0.3s\n",
      "[CV 3/5] END classifier__max_depth=5, classifier__min_samples_leaf=1, classifier__min_samples_split=2, classifier__n_estimators=200;, score=0.936 total time=   0.4s\n",
      "[CV 5/5] END classifier__max_depth=5, classifier__min_samples_leaf=1, classifier__min_samples_split=2, classifier__n_estimators=200;, score=0.927 total time=   0.3s\n"
     ]
    },
    {
     "name": "stderr",
     "output_type": "stream",
     "text": [
      "INFO:root:Iteration 49: tested parameters: [5, 1, 2, 200], score: 0.9426625821753742\n"
     ]
    },
    {
     "name": "stdout",
     "output_type": "stream",
     "text": [
      "Fitting 5 folds for each of 1 candidates, totalling 5 fits\n",
      "[CV 1/5] END classifier__max_depth=10, classifier__min_samples_leaf=2, classifier__min_samples_split=10, classifier__n_estimators=200;, score=0.969 total time=   0.5s\n",
      "[CV 3/5] END classifier__max_depth=10, classifier__min_samples_leaf=2, classifier__min_samples_split=10, classifier__n_estimators=200;, score=0.953 total time=   0.5s\n",
      "[CV 2/5] END classifier__max_depth=10, classifier__min_samples_leaf=2, classifier__min_samples_split=10, classifier__n_estimators=200;, score=0.955 total time=   0.5s\n",
      "[CV 4/5] END classifier__max_depth=10, classifier__min_samples_leaf=2, classifier__min_samples_split=10, classifier__n_estimators=200;, score=0.990 total time=   0.5s\n",
      "[CV 5/5] END classifier__max_depth=10, classifier__min_samples_leaf=2, classifier__min_samples_split=10, classifier__n_estimators=200;, score=0.962 total time=   0.4s\n"
     ]
    },
    {
     "name": "stderr",
     "output_type": "stream",
     "text": [
      "INFO:root:Iteration 50: tested parameters: [10, 2, 10, 200], score: 0.9657507518642111\n"
     ]
    },
    {
     "name": "stdout",
     "output_type": "stream",
     "text": [
      "Fitting 5 folds for each of 1 candidates, totalling 5 fits\n",
      "[CV 1/5] END classifier__max_depth=20, classifier__min_samples_leaf=4, classifier__min_samples_split=5, classifier__n_estimators=50;, score=0.962 total time=   0.1s\n",
      "[CV 2/5] END classifier__max_depth=20, classifier__min_samples_leaf=4, classifier__min_samples_split=5, classifier__n_estimators=50;, score=0.951 total time=   0.1s\n",
      "[CV 3/5] END classifier__max_depth=20, classifier__min_samples_leaf=4, classifier__min_samples_split=5, classifier__n_estimators=50;, score=0.943 total time=   0.1s\n",
      "[CV 4/5] END classifier__max_depth=20, classifier__min_samples_leaf=4, classifier__min_samples_split=5, classifier__n_estimators=50;, score=0.983 total time=   0.1s\n",
      "[CV 5/5] END classifier__max_depth=20, classifier__min_samples_leaf=4, classifier__min_samples_split=5, classifier__n_estimators=50;, score=0.959 total time=   0.1s\n"
     ]
    },
    {
     "name": "stderr",
     "output_type": "stream",
     "text": [
      "INFO:root:Iteration 51: tested parameters: [20, 4, 5, 50], score: 0.9595141162137825\n"
     ]
    },
    {
     "name": "stdout",
     "output_type": "stream",
     "text": [
      "Fitting 5 folds for each of 1 candidates, totalling 5 fits\n",
      "[CV 2/5] END classifier__max_depth=5, classifier__min_samples_leaf=4, classifier__min_samples_split=2, classifier__n_estimators=50;, score=0.927 total time=   0.1s\n",
      "[CV 1/5] END classifier__max_depth=5, classifier__min_samples_leaf=4, classifier__min_samples_split=2, classifier__n_estimators=50;, score=0.927 total time=   0.1s\n",
      "[CV 3/5] END classifier__max_depth=5, classifier__min_samples_leaf=4, classifier__min_samples_split=2, classifier__n_estimators=50;, score=0.922 total time=   0.1s\n",
      "[CV 4/5] END classifier__max_depth=5, classifier__min_samples_leaf=4, classifier__min_samples_split=2, classifier__n_estimators=50;, score=0.954 total time=   0.1s\n",
      "[CV 5/5] END classifier__max_depth=5, classifier__min_samples_leaf=4, classifier__min_samples_split=2, classifier__n_estimators=50;, score=0.940 total time=   0.1s\n"
     ]
    },
    {
     "name": "stderr",
     "output_type": "stream",
     "text": [
      "INFO:root:Iteration 52: tested parameters: [5, 4, 2, 50], score: 0.9339967571257894\n"
     ]
    },
    {
     "name": "stdout",
     "output_type": "stream",
     "text": [
      "Fitting 5 folds for each of 1 candidates, totalling 5 fits\n",
      "[CV 1/5] END classifier__max_depth=30, classifier__min_samples_leaf=1, classifier__min_samples_split=2, classifier__n_estimators=50;, score=0.979 total time=   0.1s\n",
      "[CV 2/5] END classifier__max_depth=30, classifier__min_samples_leaf=1, classifier__min_samples_split=2, classifier__n_estimators=50;, score=0.962 total time=   0.1s\n",
      "[CV 3/5] END classifier__max_depth=30, classifier__min_samples_leaf=1, classifier__min_samples_split=2, classifier__n_estimators=50;, score=0.961 total time=   0.1s\n",
      "[CV 4/5] END classifier__max_depth=30, classifier__min_samples_leaf=1, classifier__min_samples_split=2, classifier__n_estimators=50;, score=0.986 total time=   0.1s\n",
      "[CV 5/5] END classifier__max_depth=30, classifier__min_samples_leaf=1, classifier__min_samples_split=2, classifier__n_estimators=50;, score=0.955 total time=   0.1s\n"
     ]
    },
    {
     "name": "stderr",
     "output_type": "stream",
     "text": [
      "INFO:root:Iteration 53: tested parameters: [30, 1, 2, 50], score: 0.9682972085385879\n"
     ]
    },
    {
     "name": "stdout",
     "output_type": "stream",
     "text": [
      "Fitting 5 folds for each of 1 candidates, totalling 5 fits\n",
      "[CV 2/5] END classifier__max_depth=None, classifier__min_samples_leaf=1, classifier__min_samples_split=5, classifier__n_estimators=50;, score=0.965 total time=   0.1s\n",
      "[CV 1/5] END classifier__max_depth=None, classifier__min_samples_leaf=1, classifier__min_samples_split=5, classifier__n_estimators=50;, score=0.976 total time=   0.1s\n",
      "[CV 3/5] END classifier__max_depth=None, classifier__min_samples_leaf=1, classifier__min_samples_split=5, classifier__n_estimators=50;, score=0.960 total time=   0.1s\n",
      "[CV 4/5] END classifier__max_depth=None, classifier__min_samples_leaf=1, classifier__min_samples_split=5, classifier__n_estimators=50;, score=0.986 total time=   0.1s\n",
      "[CV 5/5] END classifier__max_depth=None, classifier__min_samples_leaf=1, classifier__min_samples_split=5, classifier__n_estimators=50;, score=0.941 total time=   0.1s\n"
     ]
    },
    {
     "name": "stderr",
     "output_type": "stream",
     "text": [
      "INFO:root:Iteration 54: tested parameters: [None, 1, 5, 50], score: 0.9655796152103159\n"
     ]
    },
    {
     "name": "stdout",
     "output_type": "stream",
     "text": [
      "Fitting 5 folds for each of 1 candidates, totalling 5 fits\n",
      "[CV 1/5] END classifier__max_depth=5, classifier__min_samples_leaf=8, classifier__min_samples_split=2, classifier__n_estimators=200;, score=0.934 total time=   0.3s\n",
      "[CV 2/5] END classifier__max_depth=5, classifier__min_samples_leaf=8, classifier__min_samples_split=2, classifier__n_estimators=200;, score=0.923 total time=   0.3s\n",
      "[CV 3/5] END classifier__max_depth=5, classifier__min_samples_leaf=8, classifier__min_samples_split=2, classifier__n_estimators=200;, score=0.929 total time=   0.3s\n",
      "[CV 4/5] END classifier__max_depth=5, classifier__min_samples_leaf=8, classifier__min_samples_split=2, classifier__n_estimators=200;, score=0.965 total time=   0.3s\n",
      "[CV 5/5] END classifier__max_depth=5, classifier__min_samples_leaf=8, classifier__min_samples_split=2, classifier__n_estimators=200;, score=0.924 total time=   0.3s\n"
     ]
    },
    {
     "name": "stderr",
     "output_type": "stream",
     "text": [
      "INFO:root:Iteration 55: tested parameters: [5, 8, 2, 200], score: 0.9347831335228444\n"
     ]
    },
    {
     "name": "stdout",
     "output_type": "stream",
     "text": [
      "Fitting 5 folds for each of 1 candidates, totalling 5 fits\n",
      "[CV 1/5] END classifier__max_depth=3, classifier__min_samples_leaf=1, classifier__min_samples_split=10, classifier__n_estimators=50;, score=0.850 total time=   0.1s\n",
      "[CV 3/5] END classifier__max_depth=3, classifier__min_samples_leaf=1, classifier__min_samples_split=10, classifier__n_estimators=50;, score=0.882 total time=   0.1s\n",
      "[CV 2/5] END classifier__max_depth=3, classifier__min_samples_leaf=1, classifier__min_samples_split=10, classifier__n_estimators=50;, score=0.843 total time=   0.1s\n",
      "[CV 4/5] END classifier__max_depth=3, classifier__min_samples_leaf=1, classifier__min_samples_split=10, classifier__n_estimators=50;, score=0.878 total time=   0.1s\n",
      "[CV 5/5] END classifier__max_depth=3, classifier__min_samples_leaf=1, classifier__min_samples_split=10, classifier__n_estimators=50;, score=0.861 total time=   0.1s\n"
     ]
    },
    {
     "name": "stderr",
     "output_type": "stream",
     "text": [
      "INFO:root:Iteration 56: tested parameters: [3, 1, 10, 50], score: 0.8629232127407878\n"
     ]
    },
    {
     "name": "stdout",
     "output_type": "stream",
     "text": [
      "Fitting 5 folds for each of 1 candidates, totalling 5 fits\n",
      "[CV 2/5] END classifier__max_depth=10, classifier__min_samples_leaf=1, classifier__min_samples_split=5, classifier__n_estimators=100;, score=0.972 total time=   0.2s\n",
      "[CV 1/5] END classifier__max_depth=10, classifier__min_samples_leaf=1, classifier__min_samples_split=5, classifier__n_estimators=100;, score=0.969 total time=   0.3s\n",
      "[CV 4/5] END classifier__max_depth=10, classifier__min_samples_leaf=1, classifier__min_samples_split=5, classifier__n_estimators=100;, score=0.986 total time=   0.2s\n",
      "[CV 3/5] END classifier__max_depth=10, classifier__min_samples_leaf=1, classifier__min_samples_split=5, classifier__n_estimators=100;, score=0.964 total time=   0.3s\n",
      "[CV 5/5] END classifier__max_depth=10, classifier__min_samples_leaf=1, classifier__min_samples_split=5, classifier__n_estimators=100;, score=0.962 total time=   0.2s\n"
     ]
    },
    {
     "name": "stderr",
     "output_type": "stream",
     "text": [
      "INFO:root:Iteration 57: tested parameters: [10, 1, 5, 100], score: 0.9704187192118227\n",
      "/opt/anaconda3/envs/projetos_ML/lib/python3.11/site-packages/skopt/optimizer/optimizer.py:517: UserWarning: The objective has been evaluated at point [10, 1, 2, 50] before, using random point [20, 8, 5, 100]\n",
      "  warnings.warn(\n"
     ]
    },
    {
     "name": "stdout",
     "output_type": "stream",
     "text": [
      "Fitting 5 folds for each of 1 candidates, totalling 5 fits\n",
      "[CV 2/5] END classifier__max_depth=20, classifier__min_samples_leaf=8, classifier__min_samples_split=5, classifier__n_estimators=100;, score=0.944 total time=   0.2s\n",
      "[CV 1/5] END classifier__max_depth=20, classifier__min_samples_leaf=8, classifier__min_samples_split=5, classifier__n_estimators=100;, score=0.958 total time=   0.2s\n",
      "[CV 3/5] END classifier__max_depth=20, classifier__min_samples_leaf=8, classifier__min_samples_split=5, classifier__n_estimators=100;, score=0.943 total time=   0.2s\n",
      "[CV 4/5] END classifier__max_depth=20, classifier__min_samples_leaf=8, classifier__min_samples_split=5, classifier__n_estimators=100;, score=0.979 total time=   0.2s\n",
      "[CV 5/5] END classifier__max_depth=20, classifier__min_samples_leaf=8, classifier__min_samples_split=5, classifier__n_estimators=100;, score=0.949 total time=   0.2s\n"
     ]
    },
    {
     "name": "stderr",
     "output_type": "stream",
     "text": [
      "INFO:root:Iteration 58: tested parameters: [20, 8, 5, 100], score: 0.9543818410815073\n",
      "/opt/anaconda3/envs/projetos_ML/lib/python3.11/site-packages/skopt/optimizer/optimizer.py:517: UserWarning: The objective has been evaluated at point [10, 1, 2, 200] before, using random point [30, 4, 2, 50]\n",
      "  warnings.warn(\n"
     ]
    },
    {
     "name": "stdout",
     "output_type": "stream",
     "text": [
      "Fitting 5 folds for each of 1 candidates, totalling 5 fits\n",
      "[CV 1/5] END classifier__max_depth=30, classifier__min_samples_leaf=4, classifier__min_samples_split=2, classifier__n_estimators=50;, score=0.954 total time=   0.1s\n",
      "[CV 2/5] END classifier__max_depth=30, classifier__min_samples_leaf=4, classifier__min_samples_split=2, classifier__n_estimators=50;, score=0.944 total time=   0.1s\n",
      "[CV 3/5] END classifier__max_depth=30, classifier__min_samples_leaf=4, classifier__min_samples_split=2, classifier__n_estimators=50;, score=0.953 total time=   0.1s\n",
      "[CV 4/5] END classifier__max_depth=30, classifier__min_samples_leaf=4, classifier__min_samples_split=2, classifier__n_estimators=50;, score=0.969 total time=   0.1s\n",
      "[CV 5/5] END classifier__max_depth=30, classifier__min_samples_leaf=4, classifier__min_samples_split=2, classifier__n_estimators=50;, score=0.945 total time=   0.1s\n"
     ]
    },
    {
     "name": "stderr",
     "output_type": "stream",
     "text": [
      "INFO:root:Iteration 59: tested parameters: [30, 4, 2, 50], score: 0.9530289857631349\n"
     ]
    },
    {
     "name": "stdout",
     "output_type": "stream",
     "text": [
      "Fitting 5 folds for each of 1 candidates, totalling 5 fits\n",
      "[CV 1/5] END classifier__max_depth=10, classifier__min_samples_leaf=6, classifier__min_samples_split=5, classifier__n_estimators=50;, score=0.955 total time=   0.1s\n",
      "[CV 2/5] END classifier__max_depth=10, classifier__min_samples_leaf=6, classifier__min_samples_split=5, classifier__n_estimators=50;, score=0.947 total time=   0.1s\n",
      "[CV 3/5] END classifier__max_depth=10, classifier__min_samples_leaf=6, classifier__min_samples_split=5, classifier__n_estimators=50;, score=0.946 total time=   0.1s\n",
      "[CV 4/5] END classifier__max_depth=10, classifier__min_samples_leaf=6, classifier__min_samples_split=5, classifier__n_estimators=50;, score=0.982 total time=   0.1s\n",
      "[CV 5/5] END classifier__max_depth=10, classifier__min_samples_leaf=6, classifier__min_samples_split=5, classifier__n_estimators=50;, score=0.938 total time=   0.1s\n"
     ]
    },
    {
     "name": "stderr",
     "output_type": "stream",
     "text": [
      "INFO:root:Iteration 60: tested parameters: [10, 6, 5, 50], score: 0.9537136912854376\n",
      "/opt/anaconda3/envs/projetos_ML/lib/python3.11/site-packages/skopt/optimizer/optimizer.py:517: UserWarning: The objective has been evaluated at point [10, 1, 2, 200] before, using random point [20, 10, 2, 100]\n",
      "  warnings.warn(\n"
     ]
    },
    {
     "name": "stdout",
     "output_type": "stream",
     "text": [
      "Fitting 5 folds for each of 1 candidates, totalling 5 fits\n",
      "[CV 1/5] END classifier__max_depth=20, classifier__min_samples_leaf=10, classifier__min_samples_split=2, classifier__n_estimators=100;, score=0.941 total time=   0.2s\n",
      "[CV 2/5] END classifier__max_depth=20, classifier__min_samples_leaf=10, classifier__min_samples_split=2, classifier__n_estimators=100;, score=0.936 total time=   0.2s\n",
      "[CV 3/5] END classifier__max_depth=20, classifier__min_samples_leaf=10, classifier__min_samples_split=2, classifier__n_estimators=100;, score=0.926 total time=   0.2s\n",
      "[CV 4/5] END classifier__max_depth=20, classifier__min_samples_leaf=10, classifier__min_samples_split=2, classifier__n_estimators=100;, score=0.965 total time=   0.2s\n",
      "[CV 5/5] END classifier__max_depth=20, classifier__min_samples_leaf=10, classifier__min_samples_split=2, classifier__n_estimators=100;, score=0.928 total time=   0.2s\n"
     ]
    },
    {
     "name": "stderr",
     "output_type": "stream",
     "text": [
      "INFO:root:Iteration 61: tested parameters: [20, 10, 2, 100], score: 0.9390081395554143\n"
     ]
    },
    {
     "name": "stdout",
     "output_type": "stream",
     "text": [
      "Fitting 5 folds for each of 1 candidates, totalling 5 fits\n",
      "[CV 1/5] END classifier__max_depth=10, classifier__min_samples_leaf=1, classifier__min_samples_split=10, classifier__n_estimators=100;, score=0.969 total time=   0.3s\n",
      "[CV 2/5] END classifier__max_depth=10, classifier__min_samples_leaf=1, classifier__min_samples_split=10, classifier__n_estimators=100;, score=0.968 total time=   0.3s\n",
      "[CV 4/5] END classifier__max_depth=10, classifier__min_samples_leaf=1, classifier__min_samples_split=10, classifier__n_estimators=100;, score=0.986 total time=   0.2s\n",
      "[CV 3/5] END classifier__max_depth=10, classifier__min_samples_leaf=1, classifier__min_samples_split=10, classifier__n_estimators=100;, score=0.957 total time=   0.3s\n",
      "[CV 5/5] END classifier__max_depth=10, classifier__min_samples_leaf=1, classifier__min_samples_split=10, classifier__n_estimators=100;, score=0.965 total time=   0.2s\n"
     ]
    },
    {
     "name": "stderr",
     "output_type": "stream",
     "text": [
      "INFO:root:Iteration 62: tested parameters: [10, 1, 10, 100], score: 0.9690510384848539\n",
      "/opt/anaconda3/envs/projetos_ML/lib/python3.11/site-packages/skopt/optimizer/optimizer.py:517: UserWarning: The objective has been evaluated at point [10, 1, 2, 50] before, using random point [None, 1, 5, 50]\n",
      "  warnings.warn(\n"
     ]
    },
    {
     "name": "stdout",
     "output_type": "stream",
     "text": [
      "Fitting 5 folds for each of 1 candidates, totalling 5 fits\n",
      "[CV 1/5] END classifier__max_depth=None, classifier__min_samples_leaf=1, classifier__min_samples_split=5, classifier__n_estimators=50;, score=0.979 total time=   0.2s\n",
      "[CV 2/5] END classifier__max_depth=None, classifier__min_samples_leaf=1, classifier__min_samples_split=5, classifier__n_estimators=50;, score=0.948 total time=   0.2s\n",
      "[CV 3/5] END classifier__max_depth=None, classifier__min_samples_leaf=1, classifier__min_samples_split=5, classifier__n_estimators=50;, score=0.964 total time=   0.2s\n",
      "[CV 4/5] END classifier__max_depth=None, classifier__min_samples_leaf=1, classifier__min_samples_split=5, classifier__n_estimators=50;, score=0.986 total time=   0.2s\n",
      "[CV 5/5] END classifier__max_depth=None, classifier__min_samples_leaf=1, classifier__min_samples_split=5, classifier__n_estimators=50;, score=0.962 total time=   0.1s\n"
     ]
    },
    {
     "name": "stderr",
     "output_type": "stream",
     "text": [
      "INFO:root:Iteration 63: tested parameters: [None, 1, 5, 50], score: 0.967798188463372\n",
      "/opt/anaconda3/envs/projetos_ML/lib/python3.11/site-packages/skopt/optimizer/optimizer.py:517: UserWarning: The objective has been evaluated at point [10, 1, 2, 200] before, using random point [5, 4, 10, 100]\n",
      "  warnings.warn(\n"
     ]
    },
    {
     "name": "stdout",
     "output_type": "stream",
     "text": [
      "Fitting 5 folds for each of 1 candidates, totalling 5 fits\n",
      "[CV 1/5] END classifier__max_depth=5, classifier__min_samples_leaf=4, classifier__min_samples_split=10, classifier__n_estimators=100;, score=0.930 total time=   0.2s\n",
      "[CV 2/5] END classifier__max_depth=5, classifier__min_samples_leaf=4, classifier__min_samples_split=10, classifier__n_estimators=100;, score=0.934 total time=   0.2s\n",
      "[CV 4/5] END classifier__max_depth=5, classifier__min_samples_leaf=4, classifier__min_samples_split=10, classifier__n_estimators=100;, score=0.954 total time=   0.2s\n",
      "[CV 3/5] END classifier__max_depth=5, classifier__min_samples_leaf=4, classifier__min_samples_split=10, classifier__n_estimators=100;, score=0.932 total time=   0.2s\n",
      "[CV 5/5] END classifier__max_depth=5, classifier__min_samples_leaf=4, classifier__min_samples_split=10, classifier__n_estimators=100;, score=0.931 total time=   0.2s\n"
     ]
    },
    {
     "name": "stderr",
     "output_type": "stream",
     "text": [
      "INFO:root:Iteration 64: tested parameters: [5, 4, 10, 100], score: 0.936090194278181\n",
      "/opt/anaconda3/envs/projetos_ML/lib/python3.11/site-packages/skopt/optimizer/optimizer.py:517: UserWarning: The objective has been evaluated at point [10, 1, 2, 200] before, using random point [30, 4, 5, 200]\n",
      "  warnings.warn(\n"
     ]
    },
    {
     "name": "stdout",
     "output_type": "stream",
     "text": [
      "Fitting 5 folds for each of 1 candidates, totalling 5 fits\n",
      "[CV 1/5] END classifier__max_depth=30, classifier__min_samples_leaf=4, classifier__min_samples_split=5, classifier__n_estimators=200;, score=0.969 total time=   0.5s\n",
      "[CV 2/5] END classifier__max_depth=30, classifier__min_samples_leaf=4, classifier__min_samples_split=5, classifier__n_estimators=200;, score=0.948 total time=   0.4s\n",
      "[CV 3/5] END classifier__max_depth=30, classifier__min_samples_leaf=4, classifier__min_samples_split=5, classifier__n_estimators=200;, score=0.943 total time=   0.4s\n",
      "[CV 4/5] END classifier__max_depth=30, classifier__min_samples_leaf=4, classifier__min_samples_split=5, classifier__n_estimators=200;, score=0.986 total time=   0.4s\n",
      "[CV 5/5] END classifier__max_depth=30, classifier__min_samples_leaf=4, classifier__min_samples_split=5, classifier__n_estimators=200;, score=0.952 total time=   0.4s\n"
     ]
    },
    {
     "name": "stderr",
     "output_type": "stream",
     "text": [
      "INFO:root:Iteration 65: tested parameters: [30, 4, 5, 200], score: 0.9593643260295096\n",
      "/opt/anaconda3/envs/projetos_ML/lib/python3.11/site-packages/skopt/optimizer/optimizer.py:517: UserWarning: The objective has been evaluated at point [10, 1, 2, 50] before, using random point [20, 8, 10, 200]\n",
      "  warnings.warn(\n"
     ]
    },
    {
     "name": "stdout",
     "output_type": "stream",
     "text": [
      "Fitting 5 folds for each of 1 candidates, totalling 5 fits\n",
      "[CV 2/5] END classifier__max_depth=20, classifier__min_samples_leaf=8, classifier__min_samples_split=10, classifier__n_estimators=200;, score=0.951 total time=   0.4s\n",
      "[CV 1/5] END classifier__max_depth=20, classifier__min_samples_leaf=8, classifier__min_samples_split=10, classifier__n_estimators=200;, score=0.955 total time=   0.4s\n",
      "[CV 3/5] END classifier__max_depth=20, classifier__min_samples_leaf=8, classifier__min_samples_split=10, classifier__n_estimators=200;, score=0.943 total time=   0.4s\n",
      "[CV 4/5] END classifier__max_depth=20, classifier__min_samples_leaf=8, classifier__min_samples_split=10, classifier__n_estimators=200;, score=0.972 total time=   0.4s\n",
      "[CV 5/5] END classifier__max_depth=20, classifier__min_samples_leaf=8, classifier__min_samples_split=10, classifier__n_estimators=200;, score=0.952 total time=   0.3s\n"
     ]
    },
    {
     "name": "stderr",
     "output_type": "stream",
     "text": [
      "INFO:root:Iteration 66: tested parameters: [20, 8, 10, 200], score: 0.9543998799371437\n"
     ]
    },
    {
     "name": "stdout",
     "output_type": "stream",
     "text": [
      "Fitting 5 folds for each of 1 candidates, totalling 5 fits\n",
      "[CV 1/5] END classifier__max_depth=20, classifier__min_samples_leaf=1, classifier__min_samples_split=2, classifier__n_estimators=50;, score=0.979 total time=   0.1s\n",
      "[CV 2/5] END classifier__max_depth=20, classifier__min_samples_leaf=1, classifier__min_samples_split=2, classifier__n_estimators=50;, score=0.962 total time=   0.1s\n",
      "[CV 3/5] END classifier__max_depth=20, classifier__min_samples_leaf=1, classifier__min_samples_split=2, classifier__n_estimators=50;, score=0.961 total time=   0.1s\n",
      "[CV 4/5] END classifier__max_depth=20, classifier__min_samples_leaf=1, classifier__min_samples_split=2, classifier__n_estimators=50;, score=0.989 total time=   0.1s\n",
      "[CV 5/5] END classifier__max_depth=20, classifier__min_samples_leaf=1, classifier__min_samples_split=2, classifier__n_estimators=50;, score=0.966 total time=   0.1s\n"
     ]
    },
    {
     "name": "stderr",
     "output_type": "stream",
     "text": [
      "INFO:root:Iteration 67: tested parameters: [20, 1, 2, 50], score: 0.9711297208538587\n"
     ]
    },
    {
     "name": "stdout",
     "output_type": "stream",
     "text": [
      "Fitting 5 folds for each of 1 candidates, totalling 5 fits\n",
      "[CV 1/5] END classifier__max_depth=20, classifier__min_samples_leaf=1, classifier__min_samples_split=5, classifier__n_estimators=50;, score=0.976 total time=   0.1s\n",
      "[CV 2/5] END classifier__max_depth=20, classifier__min_samples_leaf=1, classifier__min_samples_split=5, classifier__n_estimators=50;, score=0.968 total time=   0.1s\n",
      "[CV 3/5] END classifier__max_depth=20, classifier__min_samples_leaf=1, classifier__min_samples_split=5, classifier__n_estimators=50;, score=0.953 total time=   0.1s\n",
      "[CV 4/5] END classifier__max_depth=20, classifier__min_samples_leaf=1, classifier__min_samples_split=5, classifier__n_estimators=50;, score=0.986 total time=   0.1s\n",
      "[CV 5/5] END classifier__max_depth=20, classifier__min_samples_leaf=1, classifier__min_samples_split=5, classifier__n_estimators=50;, score=0.979 total time=   0.1s\n"
     ]
    },
    {
     "name": "stderr",
     "output_type": "stream",
     "text": [
      "INFO:root:Iteration 68: tested parameters: [20, 1, 5, 50], score: 0.9725060649398805\n"
     ]
    },
    {
     "name": "stdout",
     "output_type": "stream",
     "text": [
      "Fitting 5 folds for each of 1 candidates, totalling 5 fits\n",
      "[CV 1/5] END classifier__max_depth=20, classifier__min_samples_leaf=2, classifier__min_samples_split=5, classifier__n_estimators=50;, score=0.972 total time=   0.1s\n",
      "[CV 4/5] END classifier__max_depth=20, classifier__min_samples_leaf=2, classifier__min_samples_split=5, classifier__n_estimators=50;, score=0.982 total time=   0.1s\n",
      "[CV 2/5] END classifier__max_depth=20, classifier__min_samples_leaf=2, classifier__min_samples_split=5, classifier__n_estimators=50;, score=0.961 total time=   0.1s\n",
      "[CV 3/5] END classifier__max_depth=20, classifier__min_samples_leaf=2, classifier__min_samples_split=5, classifier__n_estimators=50;, score=0.964 total time=   0.1s\n",
      "[CV 5/5] END classifier__max_depth=20, classifier__min_samples_leaf=2, classifier__min_samples_split=5, classifier__n_estimators=50;, score=0.959 total time=   0.1s\n"
     ]
    },
    {
     "name": "stderr",
     "output_type": "stream",
     "text": [
      "INFO:root:Iteration 69: tested parameters: [20, 2, 5, 50], score: 0.9677325305601168\n"
     ]
    },
    {
     "name": "stdout",
     "output_type": "stream",
     "text": [
      "Fitting 5 folds for each of 1 candidates, totalling 5 fits\n",
      "[CV 1/5] END classifier__max_depth=10, classifier__min_samples_leaf=10, classifier__min_samples_split=10, classifier__n_estimators=50;, score=0.934 total time=   0.1s\n",
      "[CV 2/5] END classifier__max_depth=10, classifier__min_samples_leaf=10, classifier__min_samples_split=10, classifier__n_estimators=50;, score=0.933 total time=   0.1s\n",
      "[CV 3/5] END classifier__max_depth=10, classifier__min_samples_leaf=10, classifier__min_samples_split=10, classifier__n_estimators=50;, score=0.932 total time=   0.1s\n",
      "[CV 4/5] END classifier__max_depth=10, classifier__min_samples_leaf=10, classifier__min_samples_split=10, classifier__n_estimators=50;, score=0.975 total time=   0.1s\n",
      "[CV 5/5] END classifier__max_depth=10, classifier__min_samples_leaf=10, classifier__min_samples_split=10, classifier__n_estimators=50;, score=0.927 total time=   0.1s\n"
     ]
    },
    {
     "name": "stderr",
     "output_type": "stream",
     "text": [
      "INFO:root:Iteration 70: tested parameters: [10, 10, 10, 50], score: 0.940532631789584\n",
      "/opt/anaconda3/envs/projetos_ML/lib/python3.11/site-packages/skopt/optimizer/optimizer.py:517: UserWarning: The objective has been evaluated at point [10, 1, 2, 200] before, using random point [None, 10, 2, 100]\n",
      "  warnings.warn(\n"
     ]
    },
    {
     "name": "stdout",
     "output_type": "stream",
     "text": [
      "Fitting 5 folds for each of 1 candidates, totalling 5 fits\n",
      "[CV 1/5] END classifier__max_depth=None, classifier__min_samples_leaf=10, classifier__min_samples_split=2, classifier__n_estimators=100;, score=0.937 total time=   0.2s\n",
      "[CV 2/5] END classifier__max_depth=None, classifier__min_samples_leaf=10, classifier__min_samples_split=2, classifier__n_estimators=100;, score=0.944 total time=   0.2s\n",
      "[CV 3/5] END classifier__max_depth=None, classifier__min_samples_leaf=10, classifier__min_samples_split=2, classifier__n_estimators=100;, score=0.950 total time=   0.2s\n",
      "[CV 4/5] END classifier__max_depth=None, classifier__min_samples_leaf=10, classifier__min_samples_split=2, classifier__n_estimators=100;, score=0.975 total time=   0.2s\n",
      "[CV 5/5] END classifier__max_depth=None, classifier__min_samples_leaf=10, classifier__min_samples_split=2, classifier__n_estimators=100;, score=0.938 total time=   0.2s\n"
     ]
    },
    {
     "name": "stderr",
     "output_type": "stream",
     "text": [
      "INFO:root:Iteration 71: tested parameters: [None, 10, 2, 100], score: 0.9488266033393952\n",
      "/opt/anaconda3/envs/projetos_ML/lib/python3.11/site-packages/skopt/optimizer/optimizer.py:517: UserWarning: The objective has been evaluated at point [20, 1, 5, 50] before, using random point [3, 8, 10, 50]\n",
      "  warnings.warn(\n"
     ]
    },
    {
     "name": "stdout",
     "output_type": "stream",
     "text": [
      "Fitting 5 folds for each of 1 candidates, totalling 5 fits\n",
      "[CV 1/5] END classifier__max_depth=3, classifier__min_samples_leaf=8, classifier__min_samples_split=10, classifier__n_estimators=50;, score=0.847 total time=   0.1s\n",
      "[CV 2/5] END classifier__max_depth=3, classifier__min_samples_leaf=8, classifier__min_samples_split=10, classifier__n_estimators=50;, score=0.839 total time=   0.1s\n",
      "[CV 3/5] END classifier__max_depth=3, classifier__min_samples_leaf=8, classifier__min_samples_split=10, classifier__n_estimators=50;, score=0.869 total time=   0.1s\n",
      "[CV 4/5] END classifier__max_depth=3, classifier__min_samples_leaf=8, classifier__min_samples_split=10, classifier__n_estimators=50;, score=0.882 total time=   0.1s\n",
      "[CV 5/5] END classifier__max_depth=3, classifier__min_samples_leaf=8, classifier__min_samples_split=10, classifier__n_estimators=50;, score=0.882 total time=   0.1s\n"
     ]
    },
    {
     "name": "stderr",
     "output_type": "stream",
     "text": [
      "INFO:root:Iteration 72: tested parameters: [3, 8, 10, 50], score: 0.8637973939297632\n",
      "/opt/anaconda3/envs/projetos_ML/lib/python3.11/site-packages/skopt/optimizer/optimizer.py:517: UserWarning: The objective has been evaluated at point [10, 1, 2, 200] before, using random point [5, 8, 5, 100]\n",
      "  warnings.warn(\n"
     ]
    },
    {
     "name": "stdout",
     "output_type": "stream",
     "text": [
      "Fitting 5 folds for each of 1 candidates, totalling 5 fits\n",
      "[CV 2/5] END classifier__max_depth=5, classifier__min_samples_leaf=8, classifier__min_samples_split=5, classifier__n_estimators=100;, score=0.923 total time=   0.2s\n",
      "[CV 1/5] END classifier__max_depth=5, classifier__min_samples_leaf=8, classifier__min_samples_split=5, classifier__n_estimators=100;, score=0.919 total time=   0.2s\n",
      "[CV 3/5] END classifier__max_depth=5, classifier__min_samples_leaf=8, classifier__min_samples_split=5, classifier__n_estimators=100;, score=0.932 total time=   0.2s\n",
      "[CV 4/5] END classifier__max_depth=5, classifier__min_samples_leaf=8, classifier__min_samples_split=5, classifier__n_estimators=100;, score=0.951 total time=   0.2s\n",
      "[CV 5/5] END classifier__max_depth=5, classifier__min_samples_leaf=8, classifier__min_samples_split=5, classifier__n_estimators=100;, score=0.924 total time=   0.2s\n"
     ]
    },
    {
     "name": "stderr",
     "output_type": "stream",
     "text": [
      "INFO:root:Iteration 73: tested parameters: [5, 8, 5, 100], score: 0.9298223363996445\n",
      "/opt/anaconda3/envs/projetos_ML/lib/python3.11/site-packages/skopt/optimizer/optimizer.py:517: UserWarning: The objective has been evaluated at point [20, 1, 5, 50] before, using random point [None, 6, 2, 50]\n",
      "  warnings.warn(\n"
     ]
    },
    {
     "name": "stdout",
     "output_type": "stream",
     "text": [
      "Fitting 5 folds for each of 1 candidates, totalling 5 fits\n",
      "[CV 2/5] END classifier__max_depth=None, classifier__min_samples_leaf=6, classifier__min_samples_split=2, classifier__n_estimators=50;, score=0.944 total time=   0.1s\n",
      "[CV 3/5] END classifier__max_depth=None, classifier__min_samples_leaf=6, classifier__min_samples_split=2, classifier__n_estimators=50;, score=0.943 total time=   0.1s\n",
      "[CV 1/5] END classifier__max_depth=None, classifier__min_samples_leaf=6, classifier__min_samples_split=2, classifier__n_estimators=50;, score=0.958 total time=   0.1s\n",
      "[CV 4/5] END classifier__max_depth=None, classifier__min_samples_leaf=6, classifier__min_samples_split=2, classifier__n_estimators=50;, score=0.975 total time=   0.1s\n",
      "[CV 5/5] END classifier__max_depth=None, classifier__min_samples_leaf=6, classifier__min_samples_split=2, classifier__n_estimators=50;, score=0.959 total time=   0.1s\n"
     ]
    },
    {
     "name": "stderr",
     "output_type": "stream",
     "text": [
      "INFO:root:Iteration 74: tested parameters: [None, 6, 2, 50], score: 0.9558353844071309\n",
      "/opt/anaconda3/envs/projetos_ML/lib/python3.11/site-packages/skopt/optimizer/optimizer.py:517: UserWarning: The objective has been evaluated at point [10, 1, 2, 200] before, using random point [5, 4, 2, 100]\n",
      "  warnings.warn(\n"
     ]
    },
    {
     "name": "stdout",
     "output_type": "stream",
     "text": [
      "Fitting 5 folds for each of 1 candidates, totalling 5 fits\n",
      "[CV 1/5] END classifier__max_depth=5, classifier__min_samples_leaf=4, classifier__min_samples_split=2, classifier__n_estimators=100;, score=0.930 total time=   0.2s\n",
      "[CV 2/5] END classifier__max_depth=5, classifier__min_samples_leaf=4, classifier__min_samples_split=2, classifier__n_estimators=100;, score=0.933 total time=   0.2s\n",
      "[CV 4/5] END classifier__max_depth=5, classifier__min_samples_leaf=4, classifier__min_samples_split=2, classifier__n_estimators=100;, score=0.958 total time=   0.2s\n",
      "[CV 3/5] END classifier__max_depth=5, classifier__min_samples_leaf=4, classifier__min_samples_split=2, classifier__n_estimators=100;, score=0.922 total time=   0.2s\n",
      "[CV 5/5] END classifier__max_depth=5, classifier__min_samples_leaf=4, classifier__min_samples_split=2, classifier__n_estimators=100;, score=0.920 total time=   0.2s\n"
     ]
    },
    {
     "name": "stderr",
     "output_type": "stream",
     "text": [
      "INFO:root:Iteration 75: tested parameters: [5, 4, 2, 100], score: 0.9326617817563314\n"
     ]
    },
    {
     "name": "stdout",
     "output_type": "stream",
     "text": [
      "Fitting 5 folds for each of 1 candidates, totalling 5 fits\n",
      "[CV 1/5] END classifier__max_depth=30, classifier__min_samples_leaf=2, classifier__min_samples_split=2, classifier__n_estimators=200;, score=0.972 total time=   0.5s\n",
      "[CV 2/5] END classifier__max_depth=30, classifier__min_samples_leaf=2, classifier__min_samples_split=2, classifier__n_estimators=200;, score=0.958 total time=   0.5s\n",
      "[CV 3/5] END classifier__max_depth=30, classifier__min_samples_leaf=2, classifier__min_samples_split=2, classifier__n_estimators=200;, score=0.957 total time=   0.5s\n",
      "[CV 4/5] END classifier__max_depth=30, classifier__min_samples_leaf=2, classifier__min_samples_split=2, classifier__n_estimators=200;, score=0.990 total time=   0.5s\n",
      "[CV 5/5] END classifier__max_depth=30, classifier__min_samples_leaf=2, classifier__min_samples_split=2, classifier__n_estimators=200;, score=0.959 total time=   0.5s\n"
     ]
    },
    {
     "name": "stderr",
     "output_type": "stream",
     "text": [
      "INFO:root:Iteration 76: tested parameters: [30, 2, 2, 200], score: 0.9670559881349646\n"
     ]
    },
    {
     "name": "stdout",
     "output_type": "stream",
     "text": [
      "Fitting 5 folds for each of 1 candidates, totalling 5 fits\n",
      "[CV 1/5] END classifier__max_depth=20, classifier__min_samples_leaf=1, classifier__min_samples_split=5, classifier__n_estimators=100;, score=0.976 total time=   0.2s\n",
      "[CV 3/5] END classifier__max_depth=20, classifier__min_samples_leaf=1, classifier__min_samples_split=5, classifier__n_estimators=100;, score=0.967 total time=   0.2s\n",
      "[CV 2/5] END classifier__max_depth=20, classifier__min_samples_leaf=1, classifier__min_samples_split=5, classifier__n_estimators=100;, score=0.965 total time=   0.2s\n",
      "[CV 4/5] END classifier__max_depth=20, classifier__min_samples_leaf=1, classifier__min_samples_split=5, classifier__n_estimators=100;, score=0.982 total time=   0.2s\n",
      "[CV 5/5] END classifier__max_depth=20, classifier__min_samples_leaf=1, classifier__min_samples_split=5, classifier__n_estimators=100;, score=0.962 total time=   0.2s\n"
     ]
    },
    {
     "name": "stderr",
     "output_type": "stream",
     "text": [
      "INFO:root:Iteration 77: tested parameters: [20, 1, 5, 100], score: 0.9705057235847002\n",
      "/opt/anaconda3/envs/projetos_ML/lib/python3.11/site-packages/skopt/optimizer/optimizer.py:517: UserWarning: The objective has been evaluated at point [10, 1, 2, 200] before, using random point [None, 6, 5, 200]\n",
      "  warnings.warn(\n"
     ]
    },
    {
     "name": "stdout",
     "output_type": "stream",
     "text": [
      "Fitting 5 folds for each of 1 candidates, totalling 5 fits\n",
      "[CV 1/5] END classifier__max_depth=None, classifier__min_samples_leaf=6, classifier__min_samples_split=5, classifier__n_estimators=200;, score=0.965 total time=   0.4s\n",
      "[CV 2/5] END classifier__max_depth=None, classifier__min_samples_leaf=6, classifier__min_samples_split=5, classifier__n_estimators=200;, score=0.951 total time=   0.4s\n",
      "[CV 3/5] END classifier__max_depth=None, classifier__min_samples_leaf=6, classifier__min_samples_split=5, classifier__n_estimators=200;, score=0.943 total time=   0.4s\n",
      "[CV 4/5] END classifier__max_depth=None, classifier__min_samples_leaf=6, classifier__min_samples_split=5, classifier__n_estimators=200;, score=0.979 total time=   0.4s\n",
      "[CV 5/5] END classifier__max_depth=None, classifier__min_samples_leaf=6, classifier__min_samples_split=5, classifier__n_estimators=200;, score=0.945 total time=   0.3s\n"
     ]
    },
    {
     "name": "stderr",
     "output_type": "stream",
     "text": [
      "INFO:root:Iteration 78: tested parameters: [None, 6, 5, 200], score: 0.9565794327618578\n",
      "/opt/anaconda3/envs/projetos_ML/lib/python3.11/site-packages/skopt/optimizer/optimizer.py:517: UserWarning: The objective has been evaluated at point [20, 1, 2, 50] before, using random point [5, 8, 2, 100]\n",
      "  warnings.warn(\n"
     ]
    },
    {
     "name": "stdout",
     "output_type": "stream",
     "text": [
      "Fitting 5 folds for each of 1 candidates, totalling 5 fits\n",
      "[CV 1/5] END classifier__max_depth=5, classifier__min_samples_leaf=8, classifier__min_samples_split=2, classifier__n_estimators=100;, score=0.931 total time=   0.2s\n",
      "[CV 2/5] END classifier__max_depth=5, classifier__min_samples_leaf=8, classifier__min_samples_split=2, classifier__n_estimators=100;, score=0.927 total time=   0.2s\n",
      "[CV 3/5] END classifier__max_depth=5, classifier__min_samples_leaf=8, classifier__min_samples_split=2, classifier__n_estimators=100;, score=0.929 total time=   0.2s\n",
      "[CV 4/5] END classifier__max_depth=5, classifier__min_samples_leaf=8, classifier__min_samples_split=2, classifier__n_estimators=100;, score=0.948 total time=   0.2s\n",
      "[CV 5/5] END classifier__max_depth=5, classifier__min_samples_leaf=8, classifier__min_samples_split=2, classifier__n_estimators=100;, score=0.920 total time=   0.2s\n"
     ]
    },
    {
     "name": "stderr",
     "output_type": "stream",
     "text": [
      "INFO:root:Iteration 79: tested parameters: [5, 8, 2, 100], score: 0.9308726215489285\n"
     ]
    },
    {
     "name": "stdout",
     "output_type": "stream",
     "text": [
      "Fitting 5 folds for each of 1 candidates, totalling 5 fits\n",
      "[CV 1/5] END classifier__max_depth=30, classifier__min_samples_leaf=1, classifier__min_samples_split=2, classifier__n_estimators=100;, score=0.979 total time=   0.3s\n",
      "[CV 3/5] END classifier__max_depth=30, classifier__min_samples_leaf=1, classifier__min_samples_split=2, classifier__n_estimators=100;, score=0.960 total time=   0.3s\n",
      "[CV 2/5] END classifier__max_depth=30, classifier__min_samples_leaf=1, classifier__min_samples_split=2, classifier__n_estimators=100;, score=0.965 total time=   0.3s\n",
      "[CV 4/5] END classifier__max_depth=30, classifier__min_samples_leaf=1, classifier__min_samples_split=2, classifier__n_estimators=100;, score=0.989 total time=   0.3s\n",
      "[CV 5/5] END classifier__max_depth=30, classifier__min_samples_leaf=1, classifier__min_samples_split=2, classifier__n_estimators=100;, score=0.952 total time=   0.2s\n"
     ]
    },
    {
     "name": "stderr",
     "output_type": "stream",
     "text": [
      "INFO:root:Iteration 80: tested parameters: [30, 1, 2, 100], score: 0.969149584194078\n"
     ]
    },
    {
     "name": "stdout",
     "output_type": "stream",
     "text": [
      "Fitting 5 folds for each of 1 candidates, totalling 5 fits\n",
      "[CV 1/5] END classifier__max_depth=20, classifier__min_samples_leaf=2, classifier__min_samples_split=10, classifier__n_estimators=100;, score=0.966 total time=   0.2s\n",
      "[CV 2/5] END classifier__max_depth=20, classifier__min_samples_leaf=2, classifier__min_samples_split=10, classifier__n_estimators=100;, score=0.955 total time=   0.2s\n",
      "[CV 3/5] END classifier__max_depth=20, classifier__min_samples_leaf=2, classifier__min_samples_split=10, classifier__n_estimators=100;, score=0.950 total time=   0.2s\n",
      "[CV 4/5] END classifier__max_depth=20, classifier__min_samples_leaf=2, classifier__min_samples_split=10, classifier__n_estimators=100;, score=0.986 total time=   0.2s\n",
      "[CV 5/5] END classifier__max_depth=20, classifier__min_samples_leaf=2, classifier__min_samples_split=10, classifier__n_estimators=100;, score=0.979 total time=   0.2s\n"
     ]
    },
    {
     "name": "stderr",
     "output_type": "stream",
     "text": [
      "INFO:root:Iteration 81: tested parameters: [20, 2, 10, 100], score: 0.9669838974521955\n"
     ]
    },
    {
     "name": "stdout",
     "output_type": "stream",
     "text": [
      "Fitting 5 folds for each of 1 candidates, totalling 5 fits\n",
      "[CV 1/5] END classifier__max_depth=20, classifier__min_samples_leaf=2, classifier__min_samples_split=2, classifier__n_estimators=200;, score=0.975 total time=   0.4s\n",
      "[CV 2/5] END classifier__max_depth=20, classifier__min_samples_leaf=2, classifier__min_samples_split=2, classifier__n_estimators=200;, score=0.962 total time=   0.4s\n",
      "[CV 3/5] END classifier__max_depth=20, classifier__min_samples_leaf=2, classifier__min_samples_split=2, classifier__n_estimators=200;, score=0.964 total time=   0.4s\n",
      "[CV 4/5] END classifier__max_depth=20, classifier__min_samples_leaf=2, classifier__min_samples_split=2, classifier__n_estimators=200;, score=0.993 total time=   0.4s\n",
      "[CV 5/5] END classifier__max_depth=20, classifier__min_samples_leaf=2, classifier__min_samples_split=2, classifier__n_estimators=200;, score=0.969 total time=   0.4s\n"
     ]
    },
    {
     "name": "stderr",
     "output_type": "stream",
     "text": [
      "INFO:root:Iteration 82: tested parameters: [20, 2, 2, 200], score: 0.9725863893450098\n"
     ]
    },
    {
     "name": "stdout",
     "output_type": "stream",
     "text": [
      "Fitting 5 folds for each of 1 candidates, totalling 5 fits\n",
      "[CV 1/5] END classifier__max_depth=30, classifier__min_samples_leaf=1, classifier__min_samples_split=5, classifier__n_estimators=200;, score=0.983 total time=   0.5s\n",
      "[CV 2/5] END classifier__max_depth=30, classifier__min_samples_leaf=1, classifier__min_samples_split=5, classifier__n_estimators=200;, score=0.965 total time=   0.5s\n",
      "[CV 3/5] END classifier__max_depth=30, classifier__min_samples_leaf=1, classifier__min_samples_split=5, classifier__n_estimators=200;, score=0.960 total time=   0.5s\n",
      "[CV 4/5] END classifier__max_depth=30, classifier__min_samples_leaf=1, classifier__min_samples_split=5, classifier__n_estimators=200;, score=0.986 total time=   0.5s\n",
      "[CV 5/5] END classifier__max_depth=30, classifier__min_samples_leaf=1, classifier__min_samples_split=5, classifier__n_estimators=200;, score=0.962 total time=   0.4s\n"
     ]
    },
    {
     "name": "stderr",
     "output_type": "stream",
     "text": [
      "INFO:root:Iteration 83: tested parameters: [30, 1, 5, 200], score: 0.971123129167623\n"
     ]
    },
    {
     "name": "stdout",
     "output_type": "stream",
     "text": [
      "Fitting 5 folds for each of 1 candidates, totalling 5 fits\n",
      "[CV 1/5] END classifier__max_depth=30, classifier__min_samples_leaf=2, classifier__min_samples_split=5, classifier__n_estimators=100;, score=0.982 total time=   0.3s\n",
      "[CV 2/5] END classifier__max_depth=30, classifier__min_samples_leaf=2, classifier__min_samples_split=5, classifier__n_estimators=100;, score=0.965 total time=   0.2s\n",
      "[CV 3/5] END classifier__max_depth=30, classifier__min_samples_leaf=2, classifier__min_samples_split=5, classifier__n_estimators=100;, score=0.946 total time=   0.3s\n",
      "[CV 4/5] END classifier__max_depth=30, classifier__min_samples_leaf=2, classifier__min_samples_split=5, classifier__n_estimators=100;, score=0.982 total time=   0.2s\n",
      "[CV 5/5] END classifier__max_depth=30, classifier__min_samples_leaf=2, classifier__min_samples_split=5, classifier__n_estimators=100;, score=0.948 total time=   0.2s\n"
     ]
    },
    {
     "name": "stderr",
     "output_type": "stream",
     "text": [
      "INFO:root:Iteration 84: tested parameters: [30, 2, 5, 100], score: 0.9649144316730522\n",
      "/opt/anaconda3/envs/projetos_ML/lib/python3.11/site-packages/skopt/optimizer/optimizer.py:517: UserWarning: The objective has been evaluated at point [30, 1, 5, 200] before, using random point [30, 8, 5, 200]\n",
      "  warnings.warn(\n"
     ]
    },
    {
     "name": "stdout",
     "output_type": "stream",
     "text": [
      "Fitting 5 folds for each of 1 candidates, totalling 5 fits\n",
      "[CV 1/5] END classifier__max_depth=30, classifier__min_samples_leaf=8, classifier__min_samples_split=5, classifier__n_estimators=200;, score=0.954 total time=   0.4s\n",
      "[CV 2/5] END classifier__max_depth=30, classifier__min_samples_leaf=8, classifier__min_samples_split=5, classifier__n_estimators=200;, score=0.941 total time=   0.4s\n",
      "[CV 3/5] END classifier__max_depth=30, classifier__min_samples_leaf=8, classifier__min_samples_split=5, classifier__n_estimators=200;, score=0.943 total time=   0.4s\n",
      "[CV 4/5] END classifier__max_depth=30, classifier__min_samples_leaf=8, classifier__min_samples_split=5, classifier__n_estimators=200;, score=0.976 total time=   0.5s\n",
      "[CV 5/5] END classifier__max_depth=30, classifier__min_samples_leaf=8, classifier__min_samples_split=5, classifier__n_estimators=200;, score=0.945 total time=   0.4s\n"
     ]
    },
    {
     "name": "stderr",
     "output_type": "stream",
     "text": [
      "INFO:root:Iteration 85: tested parameters: [30, 8, 5, 200], score: 0.9516215783557274\n",
      "/opt/anaconda3/envs/projetos_ML/lib/python3.11/site-packages/skopt/optimizer/optimizer.py:517: UserWarning: The objective has been evaluated at point [None, 1, 2, 200] before, using random point [10, 10, 5, 50]\n",
      "  warnings.warn(\n"
     ]
    },
    {
     "name": "stdout",
     "output_type": "stream",
     "text": [
      "Fitting 5 folds for each of 1 candidates, totalling 5 fits\n",
      "[CV 1/5] END classifier__max_depth=10, classifier__min_samples_leaf=10, classifier__min_samples_split=5, classifier__n_estimators=50;, score=0.952 total time=   0.1s\n",
      "[CV 2/5] END classifier__max_depth=10, classifier__min_samples_leaf=10, classifier__min_samples_split=5, classifier__n_estimators=50;, score=0.937 total time=   0.1s\n",
      "[CV 3/5] END classifier__max_depth=10, classifier__min_samples_leaf=10, classifier__min_samples_split=5, classifier__n_estimators=50;, score=0.950 total time=   0.1s\n",
      "[CV 4/5] END classifier__max_depth=10, classifier__min_samples_leaf=10, classifier__min_samples_split=5, classifier__n_estimators=50;, score=0.972 total time=   0.1s\n",
      "[CV 5/5] END classifier__max_depth=10, classifier__min_samples_leaf=10, classifier__min_samples_split=5, classifier__n_estimators=50;, score=0.945 total time=   0.1s\n"
     ]
    },
    {
     "name": "stderr",
     "output_type": "stream",
     "text": [
      "INFO:root:Iteration 86: tested parameters: [10, 10, 5, 50], score: 0.9509484789095468\n",
      "/opt/anaconda3/envs/projetos_ML/lib/python3.11/site-packages/skopt/optimizer/optimizer.py:517: UserWarning: The objective has been evaluated at point [10, 1, 2, 200] before, using random point [3, 4, 2, 200]\n",
      "  warnings.warn(\n"
     ]
    },
    {
     "name": "stdout",
     "output_type": "stream",
     "text": [
      "Fitting 5 folds for each of 1 candidates, totalling 5 fits\n",
      "[CV 1/5] END classifier__max_depth=3, classifier__min_samples_leaf=4, classifier__min_samples_split=2, classifier__n_estimators=200;, score=0.873 total time=   0.3s\n",
      "[CV 2/5] END classifier__max_depth=3, classifier__min_samples_leaf=4, classifier__min_samples_split=2, classifier__n_estimators=200;, score=0.854 total time=   0.3s\n",
      "[CV 3/5] END classifier__max_depth=3, classifier__min_samples_leaf=4, classifier__min_samples_split=2, classifier__n_estimators=200;, score=0.894 total time=   0.3s\n",
      "[CV 4/5] END classifier__max_depth=3, classifier__min_samples_leaf=4, classifier__min_samples_split=2, classifier__n_estimators=200;, score=0.903 total time=   0.3s\n",
      "[CV 5/5] END classifier__max_depth=3, classifier__min_samples_leaf=4, classifier__min_samples_split=2, classifier__n_estimators=200;, score=0.878 total time=   0.3s\n"
     ]
    },
    {
     "name": "stderr",
     "output_type": "stream",
     "text": [
      "INFO:root:Iteration 87: tested parameters: [3, 4, 2, 200], score: 0.8802338812672517\n"
     ]
    },
    {
     "name": "stdout",
     "output_type": "stream",
     "text": [
      "Fitting 5 folds for each of 1 candidates, totalling 5 fits\n",
      "[CV 1/5] END classifier__max_depth=20, classifier__min_samples_leaf=2, classifier__min_samples_split=10, classifier__n_estimators=50;, score=0.972 total time=   0.1s\n",
      "[CV 2/5] END classifier__max_depth=20, classifier__min_samples_leaf=2, classifier__min_samples_split=10, classifier__n_estimators=50;, score=0.937 total time=   0.1s\n",
      "[CV 3/5] END classifier__max_depth=20, classifier__min_samples_leaf=2, classifier__min_samples_split=10, classifier__n_estimators=50;, score=0.957 total time=   0.1s\n",
      "[CV 4/5] END classifier__max_depth=20, classifier__min_samples_leaf=2, classifier__min_samples_split=10, classifier__n_estimators=50;, score=0.979 total time=   0.1s\n",
      "[CV 5/5] END classifier__max_depth=20, classifier__min_samples_leaf=2, classifier__min_samples_split=10, classifier__n_estimators=50;, score=0.958 total time=   0.1s\n"
     ]
    },
    {
     "name": "stderr",
     "output_type": "stream",
     "text": [
      "INFO:root:Iteration 88: tested parameters: [20, 2, 10, 50], score: 0.9606270518094767\n"
     ]
    },
    {
     "name": "stdout",
     "output_type": "stream",
     "text": [
      "Fitting 5 folds for each of 1 candidates, totalling 5 fits\n",
      "[CV 1/5] END classifier__max_depth=20, classifier__min_samples_leaf=1, classifier__min_samples_split=10, classifier__n_estimators=100;, score=0.975 total time=   0.2s\n",
      "[CV 2/5] END classifier__max_depth=20, classifier__min_samples_leaf=1, classifier__min_samples_split=10, classifier__n_estimators=100;, score=0.962 total time=   0.2s\n",
      "[CV 3/5] END classifier__max_depth=20, classifier__min_samples_leaf=1, classifier__min_samples_split=10, classifier__n_estimators=100;, score=0.957 total time=   0.2s\n",
      "[CV 4/5] END classifier__max_depth=20, classifier__min_samples_leaf=1, classifier__min_samples_split=10, classifier__n_estimators=100;, score=0.982 total time=   0.2s\n",
      "[CV 5/5] END classifier__max_depth=20, classifier__min_samples_leaf=1, classifier__min_samples_split=10, classifier__n_estimators=100;, score=0.958 total time=   0.2s\n"
     ]
    },
    {
     "name": "stderr",
     "output_type": "stream",
     "text": [
      "INFO:root:Iteration 89: tested parameters: [20, 1, 10, 100], score: 0.9668387155628535\n"
     ]
    },
    {
     "name": "stdout",
     "output_type": "stream",
     "text": [
      "Fitting 5 folds for each of 1 candidates, totalling 5 fits\n",
      "[CV 1/5] END classifier__max_depth=30, classifier__min_samples_leaf=1, classifier__min_samples_split=10, classifier__n_estimators=50;, score=0.972 total time=   0.1s\n",
      "[CV 2/5] END classifier__max_depth=30, classifier__min_samples_leaf=1, classifier__min_samples_split=10, classifier__n_estimators=50;, score=0.958 total time=   0.1s\n",
      "[CV 3/5] END classifier__max_depth=30, classifier__min_samples_leaf=1, classifier__min_samples_split=10, classifier__n_estimators=50;, score=0.950 total time=   0.1s\n",
      "[CV 4/5] END classifier__max_depth=30, classifier__min_samples_leaf=1, classifier__min_samples_split=10, classifier__n_estimators=50;, score=0.990 total time=   0.1s\n",
      "[CV 5/5] END classifier__max_depth=30, classifier__min_samples_leaf=1, classifier__min_samples_split=10, classifier__n_estimators=50;, score=0.958 total time=   0.1s\n"
     ]
    },
    {
     "name": "stderr",
     "output_type": "stream",
     "text": [
      "INFO:root:Iteration 90: tested parameters: [30, 1, 10, 50], score: 0.9656040633037295\n",
      "/opt/anaconda3/envs/projetos_ML/lib/python3.11/site-packages/skopt/optimizer/optimizer.py:517: UserWarning: The objective has been evaluated at point [20, 1, 2, 200] before, using random point [3, 8, 5, 50]\n",
      "  warnings.warn(\n"
     ]
    },
    {
     "name": "stdout",
     "output_type": "stream",
     "text": [
      "Fitting 5 folds for each of 1 candidates, totalling 5 fits\n",
      "[CV 1/5] END classifier__max_depth=3, classifier__min_samples_leaf=8, classifier__min_samples_split=5, classifier__n_estimators=50;, score=0.862 total time=   0.1s\n",
      "[CV 2/5] END classifier__max_depth=3, classifier__min_samples_leaf=8, classifier__min_samples_split=5, classifier__n_estimators=50;, score=0.848 total time=   0.1s\n",
      "[CV 3/5] END classifier__max_depth=3, classifier__min_samples_leaf=8, classifier__min_samples_split=5, classifier__n_estimators=50;, score=0.869 total time=   0.1s\n",
      "[CV 4/5] END classifier__max_depth=3, classifier__min_samples_leaf=8, classifier__min_samples_split=5, classifier__n_estimators=50;, score=0.868 total time=   0.1s\n",
      "[CV 5/5] END classifier__max_depth=3, classifier__min_samples_leaf=8, classifier__min_samples_split=5, classifier__n_estimators=50;, score=0.858 total time=   0.1s\n"
     ]
    },
    {
     "name": "stderr",
     "output_type": "stream",
     "text": [
      "INFO:root:Iteration 91: tested parameters: [3, 8, 5, 50], score: 0.8610879872403787\n",
      "/opt/anaconda3/envs/projetos_ML/lib/python3.11/site-packages/skopt/optimizer/optimizer.py:517: UserWarning: The objective has been evaluated at point [30, 1, 2, 200] before, using random point [10, 8, 10, 50]\n",
      "  warnings.warn(\n"
     ]
    },
    {
     "name": "stdout",
     "output_type": "stream",
     "text": [
      "Fitting 5 folds for each of 1 candidates, totalling 5 fits\n",
      "[CV 1/5] END classifier__max_depth=10, classifier__min_samples_leaf=8, classifier__min_samples_split=10, classifier__n_estimators=50;, score=0.933 total time=   0.1s\n",
      "[CV 2/5] END classifier__max_depth=10, classifier__min_samples_leaf=8, classifier__min_samples_split=10, classifier__n_estimators=50;, score=0.923 total time=   0.1s\n",
      "[CV 3/5] END classifier__max_depth=10, classifier__min_samples_leaf=8, classifier__min_samples_split=10, classifier__n_estimators=50;, score=0.943 total time=   0.1s\n",
      "[CV 4/5] END classifier__max_depth=10, classifier__min_samples_leaf=8, classifier__min_samples_split=10, classifier__n_estimators=50;, score=0.955 total time=   0.1s\n",
      "[CV 5/5] END classifier__max_depth=10, classifier__min_samples_leaf=8, classifier__min_samples_split=10, classifier__n_estimators=50;, score=0.934 total time=   0.1s\n"
     ]
    },
    {
     "name": "stderr",
     "output_type": "stream",
     "text": [
      "INFO:root:Iteration 92: tested parameters: [10, 8, 10, 50], score: 0.9375569209762759\n",
      "/opt/anaconda3/envs/projetos_ML/lib/python3.11/site-packages/skopt/optimizer/optimizer.py:517: UserWarning: The objective has been evaluated at point [None, 1, 2, 200] before, using random point [30, 6, 2, 100]\n",
      "  warnings.warn(\n"
     ]
    },
    {
     "name": "stdout",
     "output_type": "stream",
     "text": [
      "Fitting 5 folds for each of 1 candidates, totalling 5 fits\n",
      "[CV 1/5] END classifier__max_depth=30, classifier__min_samples_leaf=6, classifier__min_samples_split=2, classifier__n_estimators=100;, score=0.958 total time=   0.2s\n",
      "[CV 2/5] END classifier__max_depth=30, classifier__min_samples_leaf=6, classifier__min_samples_split=2, classifier__n_estimators=100;, score=0.948 total time=   0.2s\n",
      "[CV 3/5] END classifier__max_depth=30, classifier__min_samples_leaf=6, classifier__min_samples_split=2, classifier__n_estimators=100;, score=0.950 total time=   0.2s\n",
      "[CV 4/5] END classifier__max_depth=30, classifier__min_samples_leaf=6, classifier__min_samples_split=2, classifier__n_estimators=100;, score=0.976 total time=   0.2s\n",
      "[CV 5/5] END classifier__max_depth=30, classifier__min_samples_leaf=6, classifier__min_samples_split=2, classifier__n_estimators=100;, score=0.941 total time=   0.2s\n"
     ]
    },
    {
     "name": "stderr",
     "output_type": "stream",
     "text": [
      "INFO:root:Iteration 93: tested parameters: [30, 6, 2, 100], score: 0.9545547786782492\n",
      "/opt/anaconda3/envs/projetos_ML/lib/python3.11/site-packages/skopt/optimizer/optimizer.py:517: UserWarning: The objective has been evaluated at point [None, 1, 2, 200] before, using random point [20, 2, 5, 50]\n",
      "  warnings.warn(\n"
     ]
    },
    {
     "name": "stdout",
     "output_type": "stream",
     "text": [
      "Fitting 5 folds for each of 1 candidates, totalling 5 fits\n",
      "[CV 1/5] END classifier__max_depth=20, classifier__min_samples_leaf=2, classifier__min_samples_split=5, classifier__n_estimators=50;, score=0.968 total time=   0.1s\n",
      "[CV 2/5] END classifier__max_depth=20, classifier__min_samples_leaf=2, classifier__min_samples_split=5, classifier__n_estimators=50;, score=0.965 total time=   0.1s\n",
      "[CV 3/5] END classifier__max_depth=20, classifier__min_samples_leaf=2, classifier__min_samples_split=5, classifier__n_estimators=50;, score=0.953 total time=   0.1s\n",
      "[CV 4/5] END classifier__max_depth=20, classifier__min_samples_leaf=2, classifier__min_samples_split=5, classifier__n_estimators=50;, score=0.979 total time=   0.1s\n",
      "[CV 5/5] END classifier__max_depth=20, classifier__min_samples_leaf=2, classifier__min_samples_split=5, classifier__n_estimators=50;, score=0.959 total time=   0.1s\n"
     ]
    },
    {
     "name": "stderr",
     "output_type": "stream",
     "text": [
      "INFO:root:Iteration 94: tested parameters: [20, 2, 5, 50], score: 0.9647679255610289\n"
     ]
    },
    {
     "name": "stdout",
     "output_type": "stream",
     "text": [
      "Fitting 5 folds for each of 1 candidates, totalling 5 fits\n",
      "[CV 1/5] END classifier__max_depth=5, classifier__min_samples_leaf=10, classifier__min_samples_split=10, classifier__n_estimators=50;, score=0.941 total time=   0.1s\n",
      "[CV 2/5] END classifier__max_depth=5, classifier__min_samples_leaf=10, classifier__min_samples_split=10, classifier__n_estimators=50;, score=0.919 total time=   0.1s\n",
      "[CV 3/5] END classifier__max_depth=5, classifier__min_samples_leaf=10, classifier__min_samples_split=10, classifier__n_estimators=50;, score=0.922 total time=   0.1s\n",
      "[CV 4/5] END classifier__max_depth=5, classifier__min_samples_leaf=10, classifier__min_samples_split=10, classifier__n_estimators=50;, score=0.936 total time=   0.1s\n",
      "[CV 5/5] END classifier__max_depth=5, classifier__min_samples_leaf=10, classifier__min_samples_split=10, classifier__n_estimators=50;, score=0.913 total time=   0.1s\n"
     ]
    },
    {
     "name": "stderr",
     "output_type": "stream",
     "text": [
      "INFO:root:Iteration 95: tested parameters: [5, 10, 10, 50], score: 0.9262525498643408\n",
      "/opt/anaconda3/envs/projetos_ML/lib/python3.11/site-packages/skopt/optimizer/optimizer.py:517: UserWarning: The objective has been evaluated at point [None, 1, 2, 200] before, using random point [None, 1, 10, 100]\n",
      "  warnings.warn(\n"
     ]
    },
    {
     "name": "stdout",
     "output_type": "stream",
     "text": [
      "Fitting 5 folds for each of 1 candidates, totalling 5 fits\n",
      "[CV 1/5] END classifier__max_depth=None, classifier__min_samples_leaf=1, classifier__min_samples_split=10, classifier__n_estimators=100;, score=0.979 total time=   0.2s\n",
      "[CV 2/5] END classifier__max_depth=None, classifier__min_samples_leaf=1, classifier__min_samples_split=10, classifier__n_estimators=100;, score=0.962 total time=   0.2s\n",
      "[CV 3/5] END classifier__max_depth=None, classifier__min_samples_leaf=1, classifier__min_samples_split=10, classifier__n_estimators=100;, score=0.957 total time=   0.2s\n",
      "[CV 4/5] END classifier__max_depth=None, classifier__min_samples_leaf=1, classifier__min_samples_split=10, classifier__n_estimators=100;, score=0.986 total time=   0.2s\n",
      "[CV 5/5] END classifier__max_depth=None, classifier__min_samples_leaf=1, classifier__min_samples_split=10, classifier__n_estimators=100;, score=0.952 total time=   0.2s\n"
     ]
    },
    {
     "name": "stderr",
     "output_type": "stream",
     "text": [
      "INFO:root:Iteration 96: tested parameters: [None, 1, 10, 100], score: 0.9670344827586208\n"
     ]
    },
    {
     "name": "stdout",
     "output_type": "stream",
     "text": [
      "Fitting 5 folds for each of 1 candidates, totalling 5 fits\n",
      "[CV 1/5] END classifier__max_depth=5, classifier__min_samples_leaf=1, classifier__min_samples_split=10, classifier__n_estimators=200;, score=0.944 total time=   0.4s\n",
      "[CV 2/5] END classifier__max_depth=5, classifier__min_samples_leaf=1, classifier__min_samples_split=10, classifier__n_estimators=200;, score=0.937 total time=   0.4s\n",
      "[CV 3/5] END classifier__max_depth=5, classifier__min_samples_leaf=1, classifier__min_samples_split=10, classifier__n_estimators=200;, score=0.932 total time=   0.4s\n",
      "[CV 4/5] END classifier__max_depth=5, classifier__min_samples_leaf=1, classifier__min_samples_split=10, classifier__n_estimators=200;, score=0.951 total time=   0.4s\n",
      "[CV 5/5] END classifier__max_depth=5, classifier__min_samples_leaf=1, classifier__min_samples_split=10, classifier__n_estimators=200;, score=0.927 total time=   0.3s\n"
     ]
    },
    {
     "name": "stderr",
     "output_type": "stream",
     "text": [
      "INFO:root:Iteration 97: tested parameters: [5, 1, 10, 200], score: 0.9382498837626757\n",
      "/opt/anaconda3/envs/projetos_ML/lib/python3.11/site-packages/skopt/optimizer/optimizer.py:517: UserWarning: The objective has been evaluated at point [20, 1, 2, 200] before, using random point [30, 6, 2, 50]\n",
      "  warnings.warn(\n"
     ]
    },
    {
     "name": "stdout",
     "output_type": "stream",
     "text": [
      "Fitting 5 folds for each of 1 candidates, totalling 5 fits\n",
      "[CV 1/5] END classifier__max_depth=30, classifier__min_samples_leaf=6, classifier__min_samples_split=2, classifier__n_estimators=50;, score=0.944 total time=   0.1s\n",
      "[CV 2/5] END classifier__max_depth=30, classifier__min_samples_leaf=6, classifier__min_samples_split=2, classifier__n_estimators=50;, score=0.941 total time=   0.1s\n",
      "[CV 3/5] END classifier__max_depth=30, classifier__min_samples_leaf=6, classifier__min_samples_split=2, classifier__n_estimators=50;, score=0.950 total time=   0.1s\n",
      "[CV 4/5] END classifier__max_depth=30, classifier__min_samples_leaf=6, classifier__min_samples_split=2, classifier__n_estimators=50;, score=0.971 total time=   0.1s\n",
      "[CV 5/5] END classifier__max_depth=30, classifier__min_samples_leaf=6, classifier__min_samples_split=2, classifier__n_estimators=50;, score=0.938 total time=   0.1s\n"
     ]
    },
    {
     "name": "stderr",
     "output_type": "stream",
     "text": [
      "INFO:root:Iteration 98: tested parameters: [30, 6, 2, 50], score: 0.9488100476131622\n",
      "/opt/anaconda3/envs/projetos_ML/lib/python3.11/site-packages/skopt/optimizer/optimizer.py:517: UserWarning: The objective has been evaluated at point [20, 1, 2, 200] before, using random point [30, 6, 10, 50]\n",
      "  warnings.warn(\n"
     ]
    },
    {
     "name": "stdout",
     "output_type": "stream",
     "text": [
      "Fitting 5 folds for each of 1 candidates, totalling 5 fits\n",
      "[CV 1/5] END classifier__max_depth=30, classifier__min_samples_leaf=6, classifier__min_samples_split=10, classifier__n_estimators=50;, score=0.954 total time=   0.1s\n",
      "[CV 2/5] END classifier__max_depth=30, classifier__min_samples_leaf=6, classifier__min_samples_split=10, classifier__n_estimators=50;, score=0.931 total time=   0.1s\n",
      "[CV 3/5] END classifier__max_depth=30, classifier__min_samples_leaf=6, classifier__min_samples_split=10, classifier__n_estimators=50;, score=0.944 total time=   0.1s\n",
      "[CV 4/5] END classifier__max_depth=30, classifier__min_samples_leaf=6, classifier__min_samples_split=10, classifier__n_estimators=50;, score=0.965 total time=   0.1s\n",
      "[CV 5/5] END classifier__max_depth=30, classifier__min_samples_leaf=6, classifier__min_samples_split=10, classifier__n_estimators=50;, score=0.934 total time=   0.1s\n"
     ]
    },
    {
     "name": "stderr",
     "output_type": "stream",
     "text": [
      "INFO:root:Iteration 99: tested parameters: [30, 6, 10, 50], score: 0.9454790390263138\n",
      "/opt/anaconda3/envs/projetos_ML/lib/python3.11/site-packages/skopt/optimizer/optimizer.py:517: UserWarning: The objective has been evaluated at point [20, 1, 2, 50] before, using random point [10, 10, 2, 100]\n",
      "  warnings.warn(\n"
     ]
    },
    {
     "name": "stdout",
     "output_type": "stream",
     "text": [
      "Fitting 5 folds for each of 1 candidates, totalling 5 fits\n",
      "[CV 1/5] END classifier__max_depth=10, classifier__min_samples_leaf=10, classifier__min_samples_split=2, classifier__n_estimators=100;, score=0.948 total time=   0.1s\n",
      "[CV 2/5] END classifier__max_depth=10, classifier__min_samples_leaf=10, classifier__min_samples_split=2, classifier__n_estimators=100;, score=0.930 total time=   0.1s\n",
      "[CV 3/5] END classifier__max_depth=10, classifier__min_samples_leaf=10, classifier__min_samples_split=2, classifier__n_estimators=100;, score=0.940 total time=   0.1s\n",
      "[CV 4/5] END classifier__max_depth=10, classifier__min_samples_leaf=10, classifier__min_samples_split=2, classifier__n_estimators=100;, score=0.972 total time=   0.2s\n",
      "[CV 5/5] END classifier__max_depth=10, classifier__min_samples_leaf=10, classifier__min_samples_split=2, classifier__n_estimators=100;, score=0.938 total time=   0.2s\n"
     ]
    },
    {
     "name": "stderr",
     "output_type": "stream",
     "text": [
      "INFO:root:Iteration 100: tested parameters: [10, 10, 2, 100], score: 0.9456136624468103\n",
      "2024-10-22 17:20:28,683 | skopt_training | INFO | Best parameters: OrderedDict([('classifier__max_depth', None), ('classifier__min_samples_leaf', 1), ('classifier__min_samples_split', 2), ('classifier__n_estimators', 200)])\n",
      "INFO:skopt_training:Best parameters: OrderedDict([('classifier__max_depth', None), ('classifier__min_samples_leaf', 1), ('classifier__min_samples_split', 2), ('classifier__n_estimators', 200)])\n",
      "2024-10-22 17:20:28,684 | skopt_training | INFO | Best cross-validation score: 0.9740151432220397\n",
      "INFO:skopt_training:Best cross-validation score: 0.9740151432220397\n",
      "2024-10-22 17:20:28,684 | skopt_training | INFO | All hyperparameter combinations and their cross-validation results:\n",
      "INFO:skopt_training:All hyperparameter combinations and their cross-validation results:\n",
      "2024-10-22 17:20:28,686 | skopt_training | INFO | Params: OrderedDict([('classifier__max_depth', 5), ('classifier__min_samples_leaf', 8), ('classifier__min_samples_split', 10), ('classifier__n_estimators', 50)]), Mean Test Score: 0.9264236629764995\n",
      "INFO:skopt_training:Params: OrderedDict([('classifier__max_depth', 5), ('classifier__min_samples_leaf', 8), ('classifier__min_samples_split', 10), ('classifier__n_estimators', 50)]), Mean Test Score: 0.9264236629764995\n",
      "2024-10-22 17:20:28,686 | skopt_training | INFO | Params: OrderedDict([('classifier__max_depth', 30), ('classifier__min_samples_leaf', 10), ('classifier__min_samples_split', 2), ('classifier__n_estimators', 200)]), Mean Test Score: 0.950972950544697\n",
      "INFO:skopt_training:Params: OrderedDict([('classifier__max_depth', 30), ('classifier__min_samples_leaf', 10), ('classifier__min_samples_split', 2), ('classifier__n_estimators', 200)]), Mean Test Score: 0.950972950544697\n",
      "2024-10-22 17:20:28,687 | skopt_training | INFO | Params: OrderedDict([('classifier__max_depth', 5), ('classifier__min_samples_leaf', 10), ('classifier__min_samples_split', 2), ('classifier__n_estimators', 100)]), Mean Test Score: 0.9249140844324382\n",
      "INFO:skopt_training:Params: OrderedDict([('classifier__max_depth', 5), ('classifier__min_samples_leaf', 10), ('classifier__min_samples_split', 2), ('classifier__n_estimators', 100)]), Mean Test Score: 0.9249140844324382\n",
      "2024-10-22 17:20:28,688 | skopt_training | INFO | Params: OrderedDict([('classifier__max_depth', 20), ('classifier__min_samples_leaf', 2), ('classifier__min_samples_split', 5), ('classifier__n_estimators', 200)]), Mean Test Score: 0.9697485860244479\n",
      "INFO:skopt_training:Params: OrderedDict([('classifier__max_depth', 20), ('classifier__min_samples_leaf', 2), ('classifier__min_samples_split', 5), ('classifier__n_estimators', 200)]), Mean Test Score: 0.9697485860244479\n",
      "2024-10-22 17:20:28,689 | skopt_training | INFO | Params: OrderedDict([('classifier__max_depth', 20), ('classifier__min_samples_leaf', 4), ('classifier__min_samples_split', 5), ('classifier__n_estimators', 200)]), Mean Test Score: 0.9636307007786428\n",
      "INFO:skopt_training:Params: OrderedDict([('classifier__max_depth', 20), ('classifier__min_samples_leaf', 4), ('classifier__min_samples_split', 5), ('classifier__n_estimators', 200)]), Mean Test Score: 0.9636307007786428\n",
      "2024-10-22 17:20:28,690 | skopt_training | INFO | Params: OrderedDict([('classifier__max_depth', 20), ('classifier__min_samples_leaf', 10), ('classifier__min_samples_split', 2), ('classifier__n_estimators', 50)]), Mean Test Score: 0.9427480151373366\n",
      "INFO:skopt_training:Params: OrderedDict([('classifier__max_depth', 20), ('classifier__min_samples_leaf', 10), ('classifier__min_samples_split', 2), ('classifier__n_estimators', 50)]), Mean Test Score: 0.9427480151373366\n",
      "2024-10-22 17:20:28,690 | skopt_training | INFO | Params: OrderedDict([('classifier__max_depth', 10), ('classifier__min_samples_leaf', 8), ('classifier__min_samples_split', 5), ('classifier__n_estimators', 200)]), Mean Test Score: 0.9543258058630695\n",
      "INFO:skopt_training:Params: OrderedDict([('classifier__max_depth', 10), ('classifier__min_samples_leaf', 8), ('classifier__min_samples_split', 5), ('classifier__n_estimators', 200)]), Mean Test Score: 0.9543258058630695\n",
      "2024-10-22 17:20:28,691 | skopt_training | INFO | Params: OrderedDict([('classifier__max_depth', 10), ('classifier__min_samples_leaf', 10), ('classifier__min_samples_split', 5), ('classifier__n_estimators', 200)]), Mean Test Score: 0.9518815203253468\n",
      "INFO:skopt_training:Params: OrderedDict([('classifier__max_depth', 10), ('classifier__min_samples_leaf', 10), ('classifier__min_samples_split', 5), ('classifier__n_estimators', 200)]), Mean Test Score: 0.9518815203253468\n",
      "2024-10-22 17:20:28,692 | skopt_training | INFO | Params: OrderedDict([('classifier__max_depth', 30), ('classifier__min_samples_leaf', 8), ('classifier__min_samples_split', 10), ('classifier__n_estimators', 100)]), Mean Test Score: 0.9495905150343417\n",
      "INFO:skopt_training:Params: OrderedDict([('classifier__max_depth', 30), ('classifier__min_samples_leaf', 8), ('classifier__min_samples_split', 10), ('classifier__n_estimators', 100)]), Mean Test Score: 0.9495905150343417\n",
      "2024-10-22 17:20:28,693 | skopt_training | INFO | Params: OrderedDict([('classifier__max_depth', None), ('classifier__min_samples_leaf', 8), ('classifier__min_samples_split', 10), ('classifier__n_estimators', 50)]), Mean Test Score: 0.9418185285237566\n",
      "INFO:skopt_training:Params: OrderedDict([('classifier__max_depth', None), ('classifier__min_samples_leaf', 8), ('classifier__min_samples_split', 10), ('classifier__n_estimators', 50)]), Mean Test Score: 0.9418185285237566\n",
      "2024-10-22 17:20:28,693 | skopt_training | INFO | Params: OrderedDict([('classifier__max_depth', 3), ('classifier__min_samples_leaf', 2), ('classifier__min_samples_split', 5), ('classifier__n_estimators', 200)]), Mean Test Score: 0.8791197097303882\n",
      "INFO:skopt_training:Params: OrderedDict([('classifier__max_depth', 3), ('classifier__min_samples_leaf', 2), ('classifier__min_samples_split', 5), ('classifier__n_estimators', 200)]), Mean Test Score: 0.8791197097303882\n",
      "2024-10-22 17:20:28,694 | skopt_training | INFO | Params: OrderedDict([('classifier__max_depth', 20), ('classifier__min_samples_leaf', 1), ('classifier__min_samples_split', 5), ('classifier__n_estimators', 200)]), Mean Test Score: 0.97117421473595\n",
      "INFO:skopt_training:Params: OrderedDict([('classifier__max_depth', 20), ('classifier__min_samples_leaf', 1), ('classifier__min_samples_split', 5), ('classifier__n_estimators', 200)]), Mean Test Score: 0.97117421473595\n",
      "2024-10-22 17:20:28,695 | skopt_training | INFO | Params: OrderedDict([('classifier__max_depth', 20), ('classifier__min_samples_leaf', 6), ('classifier__min_samples_split', 5), ('classifier__n_estimators', 200)]), Mean Test Score: 0.9537133499302575\n",
      "INFO:skopt_training:Params: OrderedDict([('classifier__max_depth', 20), ('classifier__min_samples_leaf', 6), ('classifier__min_samples_split', 5), ('classifier__n_estimators', 200)]), Mean Test Score: 0.9537133499302575\n",
      "2024-10-22 17:20:28,696 | skopt_training | INFO | Params: OrderedDict([('classifier__max_depth', 20), ('classifier__min_samples_leaf', 1), ('classifier__min_samples_split', 2), ('classifier__n_estimators', 200)]), Mean Test Score: 0.9711495841940782\n",
      "INFO:skopt_training:Params: OrderedDict([('classifier__max_depth', 20), ('classifier__min_samples_leaf', 1), ('classifier__min_samples_split', 2), ('classifier__n_estimators', 200)]), Mean Test Score: 0.9711495841940782\n",
      "2024-10-22 17:20:28,697 | skopt_training | INFO | Params: OrderedDict([('classifier__max_depth', 5), ('classifier__min_samples_leaf', 6), ('classifier__min_samples_split', 10), ('classifier__n_estimators', 200)]), Mean Test Score: 0.9374706228554951\n",
      "INFO:skopt_training:Params: OrderedDict([('classifier__max_depth', 5), ('classifier__min_samples_leaf', 6), ('classifier__min_samples_split', 10), ('classifier__n_estimators', 200)]), Mean Test Score: 0.9374706228554951\n",
      "2024-10-22 17:20:28,698 | skopt_training | INFO | Params: OrderedDict([('classifier__max_depth', 3), ('classifier__min_samples_leaf', 6), ('classifier__min_samples_split', 10), ('classifier__n_estimators', 100)]), Mean Test Score: 0.8730966564848657\n",
      "INFO:skopt_training:Params: OrderedDict([('classifier__max_depth', 3), ('classifier__min_samples_leaf', 6), ('classifier__min_samples_split', 10), ('classifier__n_estimators', 100)]), Mean Test Score: 0.8730966564848657\n",
      "2024-10-22 17:20:28,699 | skopt_training | INFO | Params: OrderedDict([('classifier__max_depth', 30), ('classifier__min_samples_leaf', 6), ('classifier__min_samples_split', 2), ('classifier__n_estimators', 50)]), Mean Test Score: 0.9510517918204237\n",
      "INFO:skopt_training:Params: OrderedDict([('classifier__max_depth', 30), ('classifier__min_samples_leaf', 6), ('classifier__min_samples_split', 2), ('classifier__n_estimators', 50)]), Mean Test Score: 0.9510517918204237\n",
      "2024-10-22 17:20:28,700 | skopt_training | INFO | Params: OrderedDict([('classifier__max_depth', 10), ('classifier__min_samples_leaf', 6), ('classifier__min_samples_split', 2), ('classifier__n_estimators', 50)]), Mean Test Score: 0.9566142804173949\n",
      "INFO:skopt_training:Params: OrderedDict([('classifier__max_depth', 10), ('classifier__min_samples_leaf', 6), ('classifier__min_samples_split', 2), ('classifier__n_estimators', 50)]), Mean Test Score: 0.9566142804173949\n",
      "2024-10-22 17:20:28,701 | skopt_training | INFO | Params: OrderedDict([('classifier__max_depth', 20), ('classifier__min_samples_leaf', 10), ('classifier__min_samples_split', 10), ('classifier__n_estimators', 100)]), Mean Test Score: 0.9458507336193653\n",
      "INFO:skopt_training:Params: OrderedDict([('classifier__max_depth', 20), ('classifier__min_samples_leaf', 10), ('classifier__min_samples_split', 10), ('classifier__n_estimators', 100)]), Mean Test Score: 0.9458507336193653\n",
      "2024-10-22 17:20:28,702 | skopt_training | INFO | Params: OrderedDict([('classifier__max_depth', 20), ('classifier__min_samples_leaf', 1), ('classifier__min_samples_split', 10), ('classifier__n_estimators', 50)]), Mean Test Score: 0.9662236347264155\n",
      "INFO:skopt_training:Params: OrderedDict([('classifier__max_depth', 20), ('classifier__min_samples_leaf', 1), ('classifier__min_samples_split', 10), ('classifier__n_estimators', 50)]), Mean Test Score: 0.9662236347264155\n",
      "2024-10-22 17:20:28,702 | skopt_training | INFO | Params: OrderedDict([('classifier__max_depth', 10), ('classifier__min_samples_leaf', 4), ('classifier__min_samples_split', 2), ('classifier__n_estimators', 100)]), Mean Test Score: 0.9601460941316337\n",
      "INFO:skopt_training:Params: OrderedDict([('classifier__max_depth', 10), ('classifier__min_samples_leaf', 4), ('classifier__min_samples_split', 2), ('classifier__n_estimators', 100)]), Mean Test Score: 0.9601460941316337\n",
      "2024-10-22 17:20:28,703 | skopt_training | INFO | Params: OrderedDict([('classifier__max_depth', 3), ('classifier__min_samples_leaf', 10), ('classifier__min_samples_split', 2), ('classifier__n_estimators', 50)]), Mean Test Score: 0.8545193424792981\n",
      "INFO:skopt_training:Params: OrderedDict([('classifier__max_depth', 3), ('classifier__min_samples_leaf', 10), ('classifier__min_samples_split', 2), ('classifier__n_estimators', 50)]), Mean Test Score: 0.8545193424792981\n",
      "2024-10-22 17:20:28,704 | skopt_training | INFO | Params: OrderedDict([('classifier__max_depth', None), ('classifier__min_samples_leaf', 6), ('classifier__min_samples_split', 2), ('classifier__n_estimators', 100)]), Mean Test Score: 0.955950485842588\n",
      "INFO:skopt_training:Params: OrderedDict([('classifier__max_depth', None), ('classifier__min_samples_leaf', 6), ('classifier__min_samples_split', 2), ('classifier__n_estimators', 100)]), Mean Test Score: 0.955950485842588\n",
      "2024-10-22 17:20:28,705 | skopt_training | INFO | Params: OrderedDict([('classifier__max_depth', 20), ('classifier__min_samples_leaf', 8), ('classifier__min_samples_split', 5), ('classifier__n_estimators', 100)]), Mean Test Score: 0.9558901189446238\n",
      "INFO:skopt_training:Params: OrderedDict([('classifier__max_depth', 20), ('classifier__min_samples_leaf', 8), ('classifier__min_samples_split', 5), ('classifier__n_estimators', 100)]), Mean Test Score: 0.9558901189446238\n",
      "2024-10-22 17:20:28,706 | skopt_training | INFO | Params: OrderedDict([('classifier__max_depth', 10), ('classifier__min_samples_leaf', 2), ('classifier__min_samples_split', 2), ('classifier__n_estimators', 100)]), Mean Test Score: 0.9656779784710819\n",
      "INFO:skopt_training:Params: OrderedDict([('classifier__max_depth', 10), ('classifier__min_samples_leaf', 2), ('classifier__min_samples_split', 2), ('classifier__n_estimators', 100)]), Mean Test Score: 0.9656779784710819\n",
      "2024-10-22 17:20:28,707 | skopt_training | INFO | Params: OrderedDict([('classifier__max_depth', 3), ('classifier__min_samples_leaf', 8), ('classifier__min_samples_split', 2), ('classifier__n_estimators', 50)]), Mean Test Score: 0.8593876146923979\n",
      "INFO:skopt_training:Params: OrderedDict([('classifier__max_depth', 3), ('classifier__min_samples_leaf', 8), ('classifier__min_samples_split', 2), ('classifier__n_estimators', 50)]), Mean Test Score: 0.8593876146923979\n",
      "2024-10-22 17:20:28,708 | skopt_training | INFO | Params: OrderedDict([('classifier__max_depth', 10), ('classifier__min_samples_leaf', 1), ('classifier__min_samples_split', 2), ('classifier__n_estimators', 100)]), Mean Test Score: 0.9724121275255868\n",
      "INFO:skopt_training:Params: OrderedDict([('classifier__max_depth', 10), ('classifier__min_samples_leaf', 1), ('classifier__min_samples_split', 2), ('classifier__n_estimators', 100)]), Mean Test Score: 0.9724121275255868\n",
      "2024-10-22 17:20:28,709 | skopt_training | INFO | Params: OrderedDict([('classifier__max_depth', 20), ('classifier__min_samples_leaf', 1), ('classifier__min_samples_split', 10), ('classifier__n_estimators', 200)]), Mean Test Score: 0.9656042457521877\n",
      "INFO:skopt_training:Params: OrderedDict([('classifier__max_depth', 20), ('classifier__min_samples_leaf', 1), ('classifier__min_samples_split', 10), ('classifier__n_estimators', 200)]), Mean Test Score: 0.9656042457521877\n",
      "2024-10-22 17:20:28,709 | skopt_training | INFO | Params: OrderedDict([('classifier__max_depth', 10), ('classifier__min_samples_leaf', 1), ('classifier__min_samples_split', 10), ('classifier__n_estimators', 200)]), Mean Test Score: 0.9676976829045794\n",
      "INFO:skopt_training:Params: OrderedDict([('classifier__max_depth', 10), ('classifier__min_samples_leaf', 1), ('classifier__min_samples_split', 10), ('classifier__n_estimators', 200)]), Mean Test Score: 0.9676976829045794\n",
      "2024-10-22 17:20:28,710 | skopt_training | INFO | Params: OrderedDict([('classifier__max_depth', 10), ('classifier__min_samples_leaf', 1), ('classifier__min_samples_split', 2), ('classifier__n_estimators', 50)]), Mean Test Score: 0.9703940886699506\n",
      "INFO:skopt_training:Params: OrderedDict([('classifier__max_depth', 10), ('classifier__min_samples_leaf', 1), ('classifier__min_samples_split', 2), ('classifier__n_estimators', 50)]), Mean Test Score: 0.9703940886699506\n",
      "2024-10-22 17:20:28,711 | skopt_training | INFO | Params: OrderedDict([('classifier__max_depth', 5), ('classifier__min_samples_leaf', 1), ('classifier__min_samples_split', 5), ('classifier__n_estimators', 50)]), Mean Test Score: 0.9251467062167841\n",
      "INFO:skopt_training:Params: OrderedDict([('classifier__max_depth', 5), ('classifier__min_samples_leaf', 1), ('classifier__min_samples_split', 5), ('classifier__n_estimators', 50)]), Mean Test Score: 0.9251467062167841\n",
      "2024-10-22 17:20:28,712 | skopt_training | INFO | Params: OrderedDict([('classifier__max_depth', None), ('classifier__min_samples_leaf', 1), ('classifier__min_samples_split', 2), ('classifier__n_estimators', 100)]), Mean Test Score: 0.9711808064221857\n",
      "INFO:skopt_training:Params: OrderedDict([('classifier__max_depth', None), ('classifier__min_samples_leaf', 1), ('classifier__min_samples_split', 2), ('classifier__n_estimators', 100)]), Mean Test Score: 0.9711808064221857\n",
      "2024-10-22 17:20:28,713 | skopt_training | INFO | Params: OrderedDict([('classifier__max_depth', 5), ('classifier__min_samples_leaf', 2), ('classifier__min_samples_split', 10), ('classifier__n_estimators', 200)]), Mean Test Score: 0.9419152497483976\n",
      "INFO:skopt_training:Params: OrderedDict([('classifier__max_depth', 5), ('classifier__min_samples_leaf', 2), ('classifier__min_samples_split', 10), ('classifier__n_estimators', 200)]), Mean Test Score: 0.9419152497483976\n",
      "2024-10-22 17:20:28,714 | skopt_training | INFO | Params: OrderedDict([('classifier__max_depth', 30), ('classifier__min_samples_leaf', 1), ('classifier__min_samples_split', 2), ('classifier__n_estimators', 200)]), Mean Test Score: 0.9730540047436598\n",
      "INFO:skopt_training:Params: OrderedDict([('classifier__max_depth', 30), ('classifier__min_samples_leaf', 1), ('classifier__min_samples_split', 2), ('classifier__n_estimators', 200)]), Mean Test Score: 0.9730540047436598\n",
      "2024-10-22 17:20:28,715 | skopt_training | INFO | Params: OrderedDict([('classifier__max_depth', 10), ('classifier__min_samples_leaf', 1), ('classifier__min_samples_split', 5), ('classifier__n_estimators', 200)]), Mean Test Score: 0.9697456433073786\n",
      "INFO:skopt_training:Params: OrderedDict([('classifier__max_depth', 10), ('classifier__min_samples_leaf', 1), ('classifier__min_samples_split', 5), ('classifier__n_estimators', 200)]), Mean Test Score: 0.9697456433073786\n",
      "2024-10-22 17:20:28,716 | skopt_training | INFO | Params: OrderedDict([('classifier__max_depth', 3), ('classifier__min_samples_leaf', 1), ('classifier__min_samples_split', 5), ('classifier__n_estimators', 200)]), Mean Test Score: 0.8870744919398978\n",
      "INFO:skopt_training:Params: OrderedDict([('classifier__max_depth', 3), ('classifier__min_samples_leaf', 1), ('classifier__min_samples_split', 5), ('classifier__n_estimators', 200)]), Mean Test Score: 0.8870744919398978\n",
      "2024-10-22 17:20:28,716 | skopt_training | INFO | Params: OrderedDict([('classifier__max_depth', 30), ('classifier__min_samples_leaf', 1), ('classifier__min_samples_split', 5), ('classifier__n_estimators', 100)]), Mean Test Score: 0.9676483982790991\n",
      "INFO:skopt_training:Params: OrderedDict([('classifier__max_depth', 30), ('classifier__min_samples_leaf', 1), ('classifier__min_samples_split', 5), ('classifier__n_estimators', 100)]), Mean Test Score: 0.9676483982790991\n",
      "2024-10-22 17:20:28,752 | skopt_training | INFO | Params: OrderedDict([('classifier__max_depth', 10), ('classifier__min_samples_leaf', 1), ('classifier__min_samples_split', 2), ('classifier__n_estimators', 200)]), Mean Test Score: 0.9718228425469805\n",
      "INFO:skopt_training:Params: OrderedDict([('classifier__max_depth', 10), ('classifier__min_samples_leaf', 1), ('classifier__min_samples_split', 2), ('classifier__n_estimators', 200)]), Mean Test Score: 0.9718228425469805\n",
      "2024-10-22 17:20:28,753 | skopt_training | INFO | Params: OrderedDict([('classifier__max_depth', 10), ('classifier__min_samples_leaf', 2), ('classifier__min_samples_split', 5), ('classifier__n_estimators', 50)]), Mean Test Score: 0.9677274220032841\n",
      "INFO:skopt_training:Params: OrderedDict([('classifier__max_depth', 10), ('classifier__min_samples_leaf', 2), ('classifier__min_samples_split', 5), ('classifier__n_estimators', 50)]), Mean Test Score: 0.9677274220032841\n",
      "2024-10-22 17:20:28,754 | skopt_training | INFO | Params: OrderedDict([('classifier__max_depth', 5), ('classifier__min_samples_leaf', 2), ('classifier__min_samples_split', 5), ('classifier__n_estimators', 50)]), Mean Test Score: 0.9339508036560318\n",
      "INFO:skopt_training:Params: OrderedDict([('classifier__max_depth', 5), ('classifier__min_samples_leaf', 2), ('classifier__min_samples_split', 5), ('classifier__n_estimators', 50)]), Mean Test Score: 0.9339508036560318\n",
      "2024-10-22 17:20:28,754 | skopt_training | INFO | Params: OrderedDict([('classifier__max_depth', 10), ('classifier__min_samples_leaf', 1), ('classifier__min_samples_split', 5), ('classifier__n_estimators', 50)]), Mean Test Score: 0.9669074986316366\n",
      "INFO:skopt_training:Params: OrderedDict([('classifier__max_depth', 10), ('classifier__min_samples_leaf', 1), ('classifier__min_samples_split', 5), ('classifier__n_estimators', 50)]), Mean Test Score: 0.9669074986316366\n",
      "2024-10-22 17:20:28,755 | skopt_training | INFO | Params: OrderedDict([('classifier__max_depth', None), ('classifier__min_samples_leaf', 1), ('classifier__min_samples_split', 2), ('classifier__n_estimators', 200)]), Mean Test Score: 0.9740151432220397\n",
      "INFO:skopt_training:Params: OrderedDict([('classifier__max_depth', None), ('classifier__min_samples_leaf', 1), ('classifier__min_samples_split', 2), ('classifier__n_estimators', 200)]), Mean Test Score: 0.9740151432220397\n",
      "2024-10-22 17:20:28,756 | skopt_training | INFO | Params: OrderedDict([('classifier__max_depth', 5), ('classifier__min_samples_leaf', 4), ('classifier__min_samples_split', 5), ('classifier__n_estimators', 200)]), Mean Test Score: 0.933453266710219\n",
      "INFO:skopt_training:Params: OrderedDict([('classifier__max_depth', 5), ('classifier__min_samples_leaf', 4), ('classifier__min_samples_split', 5), ('classifier__n_estimators', 200)]), Mean Test Score: 0.933453266710219\n",
      "2024-10-22 17:20:28,756 | skopt_training | INFO | Params: OrderedDict([('classifier__max_depth', 3), ('classifier__min_samples_leaf', 6), ('classifier__min_samples_split', 5), ('classifier__n_estimators', 50)]), Mean Test Score: 0.859688519283625\n",
      "INFO:skopt_training:Params: OrderedDict([('classifier__max_depth', 3), ('classifier__min_samples_leaf', 6), ('classifier__min_samples_split', 5), ('classifier__n_estimators', 50)]), Mean Test Score: 0.859688519283625\n",
      "2024-10-22 17:20:28,761 | skopt_training | INFO | Params: OrderedDict([('classifier__max_depth', 20), ('classifier__min_samples_leaf', 1), ('classifier__min_samples_split', 2), ('classifier__n_estimators', 100)]), Mean Test Score: 0.9725141397555189\n",
      "INFO:skopt_training:Params: OrderedDict([('classifier__max_depth', 20), ('classifier__min_samples_leaf', 1), ('classifier__min_samples_split', 2), ('classifier__n_estimators', 100)]), Mean Test Score: 0.9725141397555189\n",
      "2024-10-22 17:20:28,764 | skopt_training | INFO | Params: OrderedDict([('classifier__max_depth', 20), ('classifier__min_samples_leaf', 2), ('classifier__min_samples_split', 2), ('classifier__n_estimators', 50)]), Mean Test Score: 0.9627648003955012\n",
      "INFO:skopt_training:Params: OrderedDict([('classifier__max_depth', 20), ('classifier__min_samples_leaf', 2), ('classifier__min_samples_split', 2), ('classifier__n_estimators', 50)]), Mean Test Score: 0.9627648003955012\n",
      "2024-10-22 17:20:28,766 | skopt_training | INFO | Params: OrderedDict([('classifier__max_depth', None), ('classifier__min_samples_leaf', 2), ('classifier__min_samples_split', 5), ('classifier__n_estimators', 200)]), Mean Test Score: 0.9684650375784971\n",
      "INFO:skopt_training:Params: OrderedDict([('classifier__max_depth', None), ('classifier__min_samples_leaf', 2), ('classifier__min_samples_split', 5), ('classifier__n_estimators', 200)]), Mean Test Score: 0.9684650375784971\n",
      "2024-10-22 17:20:28,766 | skopt_training | INFO | Params: OrderedDict([('classifier__max_depth', 20), ('classifier__min_samples_leaf', 2), ('classifier__min_samples_split', 5), ('classifier__n_estimators', 100)]), Mean Test Score: 0.9669390622149242\n",
      "INFO:skopt_training:Params: OrderedDict([('classifier__max_depth', 20), ('classifier__min_samples_leaf', 2), ('classifier__min_samples_split', 5), ('classifier__n_estimators', 100)]), Mean Test Score: 0.9669390622149242\n",
      "2024-10-22 17:20:28,767 | skopt_training | INFO | Params: OrderedDict([('classifier__max_depth', 5), ('classifier__min_samples_leaf', 1), ('classifier__min_samples_split', 2), ('classifier__n_estimators', 200)]), Mean Test Score: 0.9426625821753742\n",
      "INFO:skopt_training:Params: OrderedDict([('classifier__max_depth', 5), ('classifier__min_samples_leaf', 1), ('classifier__min_samples_split', 2), ('classifier__n_estimators', 200)]), Mean Test Score: 0.9426625821753742\n",
      "2024-10-22 17:20:28,768 | skopt_training | INFO | Params: OrderedDict([('classifier__max_depth', 10), ('classifier__min_samples_leaf', 2), ('classifier__min_samples_split', 10), ('classifier__n_estimators', 200)]), Mean Test Score: 0.9657507518642111\n",
      "INFO:skopt_training:Params: OrderedDict([('classifier__max_depth', 10), ('classifier__min_samples_leaf', 2), ('classifier__min_samples_split', 10), ('classifier__n_estimators', 200)]), Mean Test Score: 0.9657507518642111\n",
      "2024-10-22 17:20:28,769 | skopt_training | INFO | Params: OrderedDict([('classifier__max_depth', 20), ('classifier__min_samples_leaf', 4), ('classifier__min_samples_split', 5), ('classifier__n_estimators', 50)]), Mean Test Score: 0.9595141162137825\n",
      "INFO:skopt_training:Params: OrderedDict([('classifier__max_depth', 20), ('classifier__min_samples_leaf', 4), ('classifier__min_samples_split', 5), ('classifier__n_estimators', 50)]), Mean Test Score: 0.9595141162137825\n",
      "2024-10-22 17:20:28,769 | skopt_training | INFO | Params: OrderedDict([('classifier__max_depth', 5), ('classifier__min_samples_leaf', 4), ('classifier__min_samples_split', 2), ('classifier__n_estimators', 50)]), Mean Test Score: 0.9339967571257894\n",
      "INFO:skopt_training:Params: OrderedDict([('classifier__max_depth', 5), ('classifier__min_samples_leaf', 4), ('classifier__min_samples_split', 2), ('classifier__n_estimators', 50)]), Mean Test Score: 0.9339967571257894\n",
      "2024-10-22 17:20:28,771 | skopt_training | INFO | Params: OrderedDict([('classifier__max_depth', 30), ('classifier__min_samples_leaf', 1), ('classifier__min_samples_split', 2), ('classifier__n_estimators', 50)]), Mean Test Score: 0.9682972085385879\n",
      "INFO:skopt_training:Params: OrderedDict([('classifier__max_depth', 30), ('classifier__min_samples_leaf', 1), ('classifier__min_samples_split', 2), ('classifier__n_estimators', 50)]), Mean Test Score: 0.9682972085385879\n",
      "2024-10-22 17:20:28,772 | skopt_training | INFO | Params: OrderedDict([('classifier__max_depth', None), ('classifier__min_samples_leaf', 1), ('classifier__min_samples_split', 5), ('classifier__n_estimators', 50)]), Mean Test Score: 0.9655796152103159\n",
      "INFO:skopt_training:Params: OrderedDict([('classifier__max_depth', None), ('classifier__min_samples_leaf', 1), ('classifier__min_samples_split', 5), ('classifier__n_estimators', 50)]), Mean Test Score: 0.9655796152103159\n",
      "2024-10-22 17:20:28,772 | skopt_training | INFO | Params: OrderedDict([('classifier__max_depth', 5), ('classifier__min_samples_leaf', 8), ('classifier__min_samples_split', 2), ('classifier__n_estimators', 200)]), Mean Test Score: 0.9347831335228444\n",
      "INFO:skopt_training:Params: OrderedDict([('classifier__max_depth', 5), ('classifier__min_samples_leaf', 8), ('classifier__min_samples_split', 2), ('classifier__n_estimators', 200)]), Mean Test Score: 0.9347831335228444\n",
      "2024-10-22 17:20:28,773 | skopt_training | INFO | Params: OrderedDict([('classifier__max_depth', 3), ('classifier__min_samples_leaf', 1), ('classifier__min_samples_split', 10), ('classifier__n_estimators', 50)]), Mean Test Score: 0.8629232127407878\n",
      "INFO:skopt_training:Params: OrderedDict([('classifier__max_depth', 3), ('classifier__min_samples_leaf', 1), ('classifier__min_samples_split', 10), ('classifier__n_estimators', 50)]), Mean Test Score: 0.8629232127407878\n",
      "2024-10-22 17:20:28,774 | skopt_training | INFO | Params: OrderedDict([('classifier__max_depth', 10), ('classifier__min_samples_leaf', 1), ('classifier__min_samples_split', 5), ('classifier__n_estimators', 100)]), Mean Test Score: 0.9704187192118227\n",
      "INFO:skopt_training:Params: OrderedDict([('classifier__max_depth', 10), ('classifier__min_samples_leaf', 1), ('classifier__min_samples_split', 5), ('classifier__n_estimators', 100)]), Mean Test Score: 0.9704187192118227\n",
      "2024-10-22 17:20:28,775 | skopt_training | INFO | Params: OrderedDict([('classifier__max_depth', 20), ('classifier__min_samples_leaf', 8), ('classifier__min_samples_split', 5), ('classifier__n_estimators', 100)]), Mean Test Score: 0.9543818410815073\n",
      "INFO:skopt_training:Params: OrderedDict([('classifier__max_depth', 20), ('classifier__min_samples_leaf', 8), ('classifier__min_samples_split', 5), ('classifier__n_estimators', 100)]), Mean Test Score: 0.9543818410815073\n",
      "2024-10-22 17:20:28,775 | skopt_training | INFO | Params: OrderedDict([('classifier__max_depth', 30), ('classifier__min_samples_leaf', 4), ('classifier__min_samples_split', 2), ('classifier__n_estimators', 50)]), Mean Test Score: 0.9530289857631349\n",
      "INFO:skopt_training:Params: OrderedDict([('classifier__max_depth', 30), ('classifier__min_samples_leaf', 4), ('classifier__min_samples_split', 2), ('classifier__n_estimators', 50)]), Mean Test Score: 0.9530289857631349\n",
      "2024-10-22 17:20:28,776 | skopt_training | INFO | Params: OrderedDict([('classifier__max_depth', 10), ('classifier__min_samples_leaf', 6), ('classifier__min_samples_split', 5), ('classifier__n_estimators', 50)]), Mean Test Score: 0.9537136912854376\n",
      "INFO:skopt_training:Params: OrderedDict([('classifier__max_depth', 10), ('classifier__min_samples_leaf', 6), ('classifier__min_samples_split', 5), ('classifier__n_estimators', 50)]), Mean Test Score: 0.9537136912854376\n",
      "2024-10-22 17:20:28,777 | skopt_training | INFO | Params: OrderedDict([('classifier__max_depth', 20), ('classifier__min_samples_leaf', 10), ('classifier__min_samples_split', 2), ('classifier__n_estimators', 100)]), Mean Test Score: 0.9390081395554143\n",
      "INFO:skopt_training:Params: OrderedDict([('classifier__max_depth', 20), ('classifier__min_samples_leaf', 10), ('classifier__min_samples_split', 2), ('classifier__n_estimators', 100)]), Mean Test Score: 0.9390081395554143\n",
      "2024-10-22 17:20:28,777 | skopt_training | INFO | Params: OrderedDict([('classifier__max_depth', 10), ('classifier__min_samples_leaf', 1), ('classifier__min_samples_split', 10), ('classifier__n_estimators', 100)]), Mean Test Score: 0.9690510384848539\n",
      "INFO:skopt_training:Params: OrderedDict([('classifier__max_depth', 10), ('classifier__min_samples_leaf', 1), ('classifier__min_samples_split', 10), ('classifier__n_estimators', 100)]), Mean Test Score: 0.9690510384848539\n",
      "2024-10-22 17:20:28,778 | skopt_training | INFO | Params: OrderedDict([('classifier__max_depth', None), ('classifier__min_samples_leaf', 1), ('classifier__min_samples_split', 5), ('classifier__n_estimators', 50)]), Mean Test Score: 0.967798188463372\n",
      "INFO:skopt_training:Params: OrderedDict([('classifier__max_depth', None), ('classifier__min_samples_leaf', 1), ('classifier__min_samples_split', 5), ('classifier__n_estimators', 50)]), Mean Test Score: 0.967798188463372\n",
      "2024-10-22 17:20:28,778 | skopt_training | INFO | Params: OrderedDict([('classifier__max_depth', 5), ('classifier__min_samples_leaf', 4), ('classifier__min_samples_split', 10), ('classifier__n_estimators', 100)]), Mean Test Score: 0.936090194278181\n",
      "INFO:skopt_training:Params: OrderedDict([('classifier__max_depth', 5), ('classifier__min_samples_leaf', 4), ('classifier__min_samples_split', 10), ('classifier__n_estimators', 100)]), Mean Test Score: 0.936090194278181\n",
      "2024-10-22 17:20:28,779 | skopt_training | INFO | Params: OrderedDict([('classifier__max_depth', 30), ('classifier__min_samples_leaf', 4), ('classifier__min_samples_split', 5), ('classifier__n_estimators', 200)]), Mean Test Score: 0.9593643260295096\n",
      "INFO:skopt_training:Params: OrderedDict([('classifier__max_depth', 30), ('classifier__min_samples_leaf', 4), ('classifier__min_samples_split', 5), ('classifier__n_estimators', 200)]), Mean Test Score: 0.9593643260295096\n",
      "2024-10-22 17:20:28,780 | skopt_training | INFO | Params: OrderedDict([('classifier__max_depth', 20), ('classifier__min_samples_leaf', 8), ('classifier__min_samples_split', 10), ('classifier__n_estimators', 200)]), Mean Test Score: 0.9543998799371437\n",
      "INFO:skopt_training:Params: OrderedDict([('classifier__max_depth', 20), ('classifier__min_samples_leaf', 8), ('classifier__min_samples_split', 10), ('classifier__n_estimators', 200)]), Mean Test Score: 0.9543998799371437\n",
      "2024-10-22 17:20:28,780 | skopt_training | INFO | Params: OrderedDict([('classifier__max_depth', 20), ('classifier__min_samples_leaf', 1), ('classifier__min_samples_split', 2), ('classifier__n_estimators', 50)]), Mean Test Score: 0.9711297208538587\n",
      "INFO:skopt_training:Params: OrderedDict([('classifier__max_depth', 20), ('classifier__min_samples_leaf', 1), ('classifier__min_samples_split', 2), ('classifier__n_estimators', 50)]), Mean Test Score: 0.9711297208538587\n",
      "2024-10-22 17:20:28,781 | skopt_training | INFO | Params: OrderedDict([('classifier__max_depth', 20), ('classifier__min_samples_leaf', 1), ('classifier__min_samples_split', 5), ('classifier__n_estimators', 50)]), Mean Test Score: 0.9725060649398805\n",
      "INFO:skopt_training:Params: OrderedDict([('classifier__max_depth', 20), ('classifier__min_samples_leaf', 1), ('classifier__min_samples_split', 5), ('classifier__n_estimators', 50)]), Mean Test Score: 0.9725060649398805\n",
      "2024-10-22 17:20:28,783 | skopt_training | INFO | Params: OrderedDict([('classifier__max_depth', 20), ('classifier__min_samples_leaf', 2), ('classifier__min_samples_split', 5), ('classifier__n_estimators', 50)]), Mean Test Score: 0.9677325305601168\n",
      "INFO:skopt_training:Params: OrderedDict([('classifier__max_depth', 20), ('classifier__min_samples_leaf', 2), ('classifier__min_samples_split', 5), ('classifier__n_estimators', 50)]), Mean Test Score: 0.9677325305601168\n",
      "2024-10-22 17:20:28,784 | skopt_training | INFO | Params: OrderedDict([('classifier__max_depth', 10), ('classifier__min_samples_leaf', 10), ('classifier__min_samples_split', 10), ('classifier__n_estimators', 50)]), Mean Test Score: 0.940532631789584\n",
      "INFO:skopt_training:Params: OrderedDict([('classifier__max_depth', 10), ('classifier__min_samples_leaf', 10), ('classifier__min_samples_split', 10), ('classifier__n_estimators', 50)]), Mean Test Score: 0.940532631789584\n",
      "2024-10-22 17:20:28,785 | skopt_training | INFO | Params: OrderedDict([('classifier__max_depth', None), ('classifier__min_samples_leaf', 10), ('classifier__min_samples_split', 2), ('classifier__n_estimators', 100)]), Mean Test Score: 0.9488266033393952\n",
      "INFO:skopt_training:Params: OrderedDict([('classifier__max_depth', None), ('classifier__min_samples_leaf', 10), ('classifier__min_samples_split', 2), ('classifier__n_estimators', 100)]), Mean Test Score: 0.9488266033393952\n",
      "2024-10-22 17:20:28,785 | skopt_training | INFO | Params: OrderedDict([('classifier__max_depth', 3), ('classifier__min_samples_leaf', 8), ('classifier__min_samples_split', 10), ('classifier__n_estimators', 50)]), Mean Test Score: 0.8637973939297632\n",
      "INFO:skopt_training:Params: OrderedDict([('classifier__max_depth', 3), ('classifier__min_samples_leaf', 8), ('classifier__min_samples_split', 10), ('classifier__n_estimators', 50)]), Mean Test Score: 0.8637973939297632\n",
      "2024-10-22 17:20:28,786 | skopt_training | INFO | Params: OrderedDict([('classifier__max_depth', 5), ('classifier__min_samples_leaf', 8), ('classifier__min_samples_split', 5), ('classifier__n_estimators', 100)]), Mean Test Score: 0.9298223363996445\n",
      "INFO:skopt_training:Params: OrderedDict([('classifier__max_depth', 5), ('classifier__min_samples_leaf', 8), ('classifier__min_samples_split', 5), ('classifier__n_estimators', 100)]), Mean Test Score: 0.9298223363996445\n",
      "2024-10-22 17:20:28,787 | skopt_training | INFO | Params: OrderedDict([('classifier__max_depth', None), ('classifier__min_samples_leaf', 6), ('classifier__min_samples_split', 2), ('classifier__n_estimators', 50)]), Mean Test Score: 0.9558353844071309\n",
      "INFO:skopt_training:Params: OrderedDict([('classifier__max_depth', None), ('classifier__min_samples_leaf', 6), ('classifier__min_samples_split', 2), ('classifier__n_estimators', 50)]), Mean Test Score: 0.9558353844071309\n",
      "2024-10-22 17:20:28,787 | skopt_training | INFO | Params: OrderedDict([('classifier__max_depth', 5), ('classifier__min_samples_leaf', 4), ('classifier__min_samples_split', 2), ('classifier__n_estimators', 100)]), Mean Test Score: 0.9326617817563314\n",
      "INFO:skopt_training:Params: OrderedDict([('classifier__max_depth', 5), ('classifier__min_samples_leaf', 4), ('classifier__min_samples_split', 2), ('classifier__n_estimators', 100)]), Mean Test Score: 0.9326617817563314\n",
      "2024-10-22 17:20:28,788 | skopt_training | INFO | Params: OrderedDict([('classifier__max_depth', 30), ('classifier__min_samples_leaf', 2), ('classifier__min_samples_split', 2), ('classifier__n_estimators', 200)]), Mean Test Score: 0.9670559881349646\n",
      "INFO:skopt_training:Params: OrderedDict([('classifier__max_depth', 30), ('classifier__min_samples_leaf', 2), ('classifier__min_samples_split', 2), ('classifier__n_estimators', 200)]), Mean Test Score: 0.9670559881349646\n",
      "2024-10-22 17:20:28,789 | skopt_training | INFO | Params: OrderedDict([('classifier__max_depth', 20), ('classifier__min_samples_leaf', 1), ('classifier__min_samples_split', 5), ('classifier__n_estimators', 100)]), Mean Test Score: 0.9705057235847002\n",
      "INFO:skopt_training:Params: OrderedDict([('classifier__max_depth', 20), ('classifier__min_samples_leaf', 1), ('classifier__min_samples_split', 5), ('classifier__n_estimators', 100)]), Mean Test Score: 0.9705057235847002\n",
      "2024-10-22 17:20:28,789 | skopt_training | INFO | Params: OrderedDict([('classifier__max_depth', None), ('classifier__min_samples_leaf', 6), ('classifier__min_samples_split', 5), ('classifier__n_estimators', 200)]), Mean Test Score: 0.9565794327618578\n",
      "INFO:skopt_training:Params: OrderedDict([('classifier__max_depth', None), ('classifier__min_samples_leaf', 6), ('classifier__min_samples_split', 5), ('classifier__n_estimators', 200)]), Mean Test Score: 0.9565794327618578\n",
      "2024-10-22 17:20:28,790 | skopt_training | INFO | Params: OrderedDict([('classifier__max_depth', 5), ('classifier__min_samples_leaf', 8), ('classifier__min_samples_split', 2), ('classifier__n_estimators', 100)]), Mean Test Score: 0.9308726215489285\n",
      "INFO:skopt_training:Params: OrderedDict([('classifier__max_depth', 5), ('classifier__min_samples_leaf', 8), ('classifier__min_samples_split', 2), ('classifier__n_estimators', 100)]), Mean Test Score: 0.9308726215489285\n",
      "2024-10-22 17:20:28,790 | skopt_training | INFO | Params: OrderedDict([('classifier__max_depth', 30), ('classifier__min_samples_leaf', 1), ('classifier__min_samples_split', 2), ('classifier__n_estimators', 100)]), Mean Test Score: 0.969149584194078\n",
      "INFO:skopt_training:Params: OrderedDict([('classifier__max_depth', 30), ('classifier__min_samples_leaf', 1), ('classifier__min_samples_split', 2), ('classifier__n_estimators', 100)]), Mean Test Score: 0.969149584194078\n",
      "2024-10-22 17:20:28,791 | skopt_training | INFO | Params: OrderedDict([('classifier__max_depth', 20), ('classifier__min_samples_leaf', 2), ('classifier__min_samples_split', 10), ('classifier__n_estimators', 100)]), Mean Test Score: 0.9669838974521955\n",
      "INFO:skopt_training:Params: OrderedDict([('classifier__max_depth', 20), ('classifier__min_samples_leaf', 2), ('classifier__min_samples_split', 10), ('classifier__n_estimators', 100)]), Mean Test Score: 0.9669838974521955\n",
      "2024-10-22 17:20:28,792 | skopt_training | INFO | Params: OrderedDict([('classifier__max_depth', 20), ('classifier__min_samples_leaf', 2), ('classifier__min_samples_split', 2), ('classifier__n_estimators', 200)]), Mean Test Score: 0.9725863893450098\n",
      "INFO:skopt_training:Params: OrderedDict([('classifier__max_depth', 20), ('classifier__min_samples_leaf', 2), ('classifier__min_samples_split', 2), ('classifier__n_estimators', 200)]), Mean Test Score: 0.9725863893450098\n",
      "2024-10-22 17:20:28,793 | skopt_training | INFO | Params: OrderedDict([('classifier__max_depth', 30), ('classifier__min_samples_leaf', 1), ('classifier__min_samples_split', 5), ('classifier__n_estimators', 200)]), Mean Test Score: 0.971123129167623\n",
      "INFO:skopt_training:Params: OrderedDict([('classifier__max_depth', 30), ('classifier__min_samples_leaf', 1), ('classifier__min_samples_split', 5), ('classifier__n_estimators', 200)]), Mean Test Score: 0.971123129167623\n",
      "2024-10-22 17:20:28,794 | skopt_training | INFO | Params: OrderedDict([('classifier__max_depth', 30), ('classifier__min_samples_leaf', 2), ('classifier__min_samples_split', 5), ('classifier__n_estimators', 100)]), Mean Test Score: 0.9649144316730522\n",
      "INFO:skopt_training:Params: OrderedDict([('classifier__max_depth', 30), ('classifier__min_samples_leaf', 2), ('classifier__min_samples_split', 5), ('classifier__n_estimators', 100)]), Mean Test Score: 0.9649144316730522\n",
      "2024-10-22 17:20:28,795 | skopt_training | INFO | Params: OrderedDict([('classifier__max_depth', 30), ('classifier__min_samples_leaf', 8), ('classifier__min_samples_split', 5), ('classifier__n_estimators', 200)]), Mean Test Score: 0.9516215783557274\n",
      "INFO:skopt_training:Params: OrderedDict([('classifier__max_depth', 30), ('classifier__min_samples_leaf', 8), ('classifier__min_samples_split', 5), ('classifier__n_estimators', 200)]), Mean Test Score: 0.9516215783557274\n",
      "2024-10-22 17:20:28,797 | skopt_training | INFO | Params: OrderedDict([('classifier__max_depth', 10), ('classifier__min_samples_leaf', 10), ('classifier__min_samples_split', 5), ('classifier__n_estimators', 50)]), Mean Test Score: 0.9509484789095468\n",
      "INFO:skopt_training:Params: OrderedDict([('classifier__max_depth', 10), ('classifier__min_samples_leaf', 10), ('classifier__min_samples_split', 5), ('classifier__n_estimators', 50)]), Mean Test Score: 0.9509484789095468\n",
      "2024-10-22 17:20:28,798 | skopt_training | INFO | Params: OrderedDict([('classifier__max_depth', 3), ('classifier__min_samples_leaf', 4), ('classifier__min_samples_split', 2), ('classifier__n_estimators', 200)]), Mean Test Score: 0.8802338812672517\n",
      "INFO:skopt_training:Params: OrderedDict([('classifier__max_depth', 3), ('classifier__min_samples_leaf', 4), ('classifier__min_samples_split', 2), ('classifier__n_estimators', 200)]), Mean Test Score: 0.8802338812672517\n",
      "2024-10-22 17:20:28,798 | skopt_training | INFO | Params: OrderedDict([('classifier__max_depth', 20), ('classifier__min_samples_leaf', 2), ('classifier__min_samples_split', 10), ('classifier__n_estimators', 50)]), Mean Test Score: 0.9606270518094767\n",
      "INFO:skopt_training:Params: OrderedDict([('classifier__max_depth', 20), ('classifier__min_samples_leaf', 2), ('classifier__min_samples_split', 10), ('classifier__n_estimators', 50)]), Mean Test Score: 0.9606270518094767\n",
      "2024-10-22 17:20:28,799 | skopt_training | INFO | Params: OrderedDict([('classifier__max_depth', 20), ('classifier__min_samples_leaf', 1), ('classifier__min_samples_split', 10), ('classifier__n_estimators', 100)]), Mean Test Score: 0.9668387155628535\n",
      "INFO:skopt_training:Params: OrderedDict([('classifier__max_depth', 20), ('classifier__min_samples_leaf', 1), ('classifier__min_samples_split', 10), ('classifier__n_estimators', 100)]), Mean Test Score: 0.9668387155628535\n",
      "2024-10-22 17:20:28,799 | skopt_training | INFO | Params: OrderedDict([('classifier__max_depth', 30), ('classifier__min_samples_leaf', 1), ('classifier__min_samples_split', 10), ('classifier__n_estimators', 50)]), Mean Test Score: 0.9656040633037295\n",
      "INFO:skopt_training:Params: OrderedDict([('classifier__max_depth', 30), ('classifier__min_samples_leaf', 1), ('classifier__min_samples_split', 10), ('classifier__n_estimators', 50)]), Mean Test Score: 0.9656040633037295\n",
      "2024-10-22 17:20:28,800 | skopt_training | INFO | Params: OrderedDict([('classifier__max_depth', 3), ('classifier__min_samples_leaf', 8), ('classifier__min_samples_split', 5), ('classifier__n_estimators', 50)]), Mean Test Score: 0.8610879872403787\n",
      "INFO:skopt_training:Params: OrderedDict([('classifier__max_depth', 3), ('classifier__min_samples_leaf', 8), ('classifier__min_samples_split', 5), ('classifier__n_estimators', 50)]), Mean Test Score: 0.8610879872403787\n",
      "2024-10-22 17:20:28,801 | skopt_training | INFO | Params: OrderedDict([('classifier__max_depth', 10), ('classifier__min_samples_leaf', 8), ('classifier__min_samples_split', 10), ('classifier__n_estimators', 50)]), Mean Test Score: 0.9375569209762759\n",
      "INFO:skopt_training:Params: OrderedDict([('classifier__max_depth', 10), ('classifier__min_samples_leaf', 8), ('classifier__min_samples_split', 10), ('classifier__n_estimators', 50)]), Mean Test Score: 0.9375569209762759\n",
      "2024-10-22 17:20:28,802 | skopt_training | INFO | Params: OrderedDict([('classifier__max_depth', 30), ('classifier__min_samples_leaf', 6), ('classifier__min_samples_split', 2), ('classifier__n_estimators', 100)]), Mean Test Score: 0.9545547786782492\n",
      "INFO:skopt_training:Params: OrderedDict([('classifier__max_depth', 30), ('classifier__min_samples_leaf', 6), ('classifier__min_samples_split', 2), ('classifier__n_estimators', 100)]), Mean Test Score: 0.9545547786782492\n",
      "2024-10-22 17:20:28,803 | skopt_training | INFO | Params: OrderedDict([('classifier__max_depth', 20), ('classifier__min_samples_leaf', 2), ('classifier__min_samples_split', 5), ('classifier__n_estimators', 50)]), Mean Test Score: 0.9647679255610289\n",
      "INFO:skopt_training:Params: OrderedDict([('classifier__max_depth', 20), ('classifier__min_samples_leaf', 2), ('classifier__min_samples_split', 5), ('classifier__n_estimators', 50)]), Mean Test Score: 0.9647679255610289\n",
      "2024-10-22 17:20:28,804 | skopt_training | INFO | Params: OrderedDict([('classifier__max_depth', 5), ('classifier__min_samples_leaf', 10), ('classifier__min_samples_split', 10), ('classifier__n_estimators', 50)]), Mean Test Score: 0.9262525498643408\n",
      "INFO:skopt_training:Params: OrderedDict([('classifier__max_depth', 5), ('classifier__min_samples_leaf', 10), ('classifier__min_samples_split', 10), ('classifier__n_estimators', 50)]), Mean Test Score: 0.9262525498643408\n",
      "2024-10-22 17:20:28,805 | skopt_training | INFO | Params: OrderedDict([('classifier__max_depth', None), ('classifier__min_samples_leaf', 1), ('classifier__min_samples_split', 10), ('classifier__n_estimators', 100)]), Mean Test Score: 0.9670344827586208\n",
      "INFO:skopt_training:Params: OrderedDict([('classifier__max_depth', None), ('classifier__min_samples_leaf', 1), ('classifier__min_samples_split', 10), ('classifier__n_estimators', 100)]), Mean Test Score: 0.9670344827586208\n",
      "2024-10-22 17:20:28,806 | skopt_training | INFO | Params: OrderedDict([('classifier__max_depth', 5), ('classifier__min_samples_leaf', 1), ('classifier__min_samples_split', 10), ('classifier__n_estimators', 200)]), Mean Test Score: 0.9382498837626757\n",
      "INFO:skopt_training:Params: OrderedDict([('classifier__max_depth', 5), ('classifier__min_samples_leaf', 1), ('classifier__min_samples_split', 10), ('classifier__n_estimators', 200)]), Mean Test Score: 0.9382498837626757\n",
      "2024-10-22 17:20:28,840 | skopt_training | INFO | Params: OrderedDict([('classifier__max_depth', 30), ('classifier__min_samples_leaf', 6), ('classifier__min_samples_split', 2), ('classifier__n_estimators', 50)]), Mean Test Score: 0.9488100476131622\n",
      "INFO:skopt_training:Params: OrderedDict([('classifier__max_depth', 30), ('classifier__min_samples_leaf', 6), ('classifier__min_samples_split', 2), ('classifier__n_estimators', 50)]), Mean Test Score: 0.9488100476131622\n",
      "2024-10-22 17:20:28,841 | skopt_training | INFO | Params: OrderedDict([('classifier__max_depth', 30), ('classifier__min_samples_leaf', 6), ('classifier__min_samples_split', 10), ('classifier__n_estimators', 50)]), Mean Test Score: 0.9454790390263138\n",
      "INFO:skopt_training:Params: OrderedDict([('classifier__max_depth', 30), ('classifier__min_samples_leaf', 6), ('classifier__min_samples_split', 10), ('classifier__n_estimators', 50)]), Mean Test Score: 0.9454790390263138\n",
      "2024-10-22 17:20:28,841 | skopt_training | INFO | Params: OrderedDict([('classifier__max_depth', 10), ('classifier__min_samples_leaf', 10), ('classifier__min_samples_split', 2), ('classifier__n_estimators', 100)]), Mean Test Score: 0.9456136624468103\n",
      "INFO:skopt_training:Params: OrderedDict([('classifier__max_depth', 10), ('classifier__min_samples_leaf', 10), ('classifier__min_samples_split', 2), ('classifier__n_estimators', 100)]), Mean Test Score: 0.9456136624468103\n",
      "2024-10-22 17:20:28,842 | skopt_training | INFO | Number of tests that resulted in NaN for Random Forest: 0\n",
      "INFO:skopt_training:Number of tests that resulted in NaN for Random Forest: 0\n",
      "INFO:root:Bayesian optimization results: Best result: 0.9740151432220397, Average cross-validation result: 0.9740151432220397\n",
      "INFO:root:Bayesian Optimization Best Result for Random Forest with none: 0.9740151432220397\n",
      "INFO:root:Training and evaluating XGBoost with Bayesian Optimization and none\n",
      "INFO:root:Search space for XGBoost with selector none: {'classifier__n_estimators': [50, 100, 150, 200, 250, 300], 'classifier__learning_rate': [0.01, 0.05, 0.1, 0.15, 0.2], 'classifier__max_depth': [3, 4, 5, 6, 7, 8, 9, 10], 'classifier__subsample': [0.7, 0.75, 0.8, 0.85, 0.9, 0.95, 1.0], 'classifier__colsample_bytree': [0.7, 0.75, 0.8, 0.85, 0.9, 0.95, 1.0], 'classifier__reg_alpha': [0.0, 0.2, 0.4, 0.6, 0.8, 1.0], 'classifier__reg_lambda': [0.0, 0.2, 0.4, 0.6, 0.8, 1.0]}\n"
     ]
    },
    {
     "name": "stdout",
     "output_type": "stream",
     "text": [
      "Bayesian Optimization Best Result for Random Forest with none: 0.9740151432220397\n",
      "Training and evaluating XGBoost with Bayesian Optimization and none\n",
      "Fitting 5 folds for each of 1 candidates, totalling 5 fits\n",
      "[CV 4/5] END classifier__colsample_bytree=0.8, classifier__learning_rate=0.15, classifier__max_depth=10, classifier__n_estimators=100, classifier__reg_alpha=0.8, classifier__reg_lambda=0.4, classifier__subsample=0.8;, score=0.972 total time=   0.6s\n",
      "[CV 2/5] END classifier__colsample_bytree=0.8, classifier__learning_rate=0.15, classifier__max_depth=10, classifier__n_estimators=100, classifier__reg_alpha=0.8, classifier__reg_lambda=0.4, classifier__subsample=0.8;, score=0.962 total time=   0.6s\n",
      "[CV 3/5] END classifier__colsample_bytree=0.8, classifier__learning_rate=0.15, classifier__max_depth=10, classifier__n_estimators=100, classifier__reg_alpha=0.8, classifier__reg_lambda=0.4, classifier__subsample=0.8;, score=0.950 total time=   0.6s\n",
      "[CV 1/5] END classifier__colsample_bytree=0.8, classifier__learning_rate=0.15, classifier__max_depth=10, classifier__n_estimators=100, classifier__reg_alpha=0.8, classifier__reg_lambda=0.4, classifier__subsample=0.8;, score=0.965 total time=   0.6s\n"
     ]
    },
    {
     "name": "stderr",
     "output_type": "stream",
     "text": [
      "INFO:root:Iteration 1: tested parameters: [0.8, 0.15, 10, 100, 0.8, 0.4, 0.8], score: 0.9587189822907286\n"
     ]
    },
    {
     "name": "stdout",
     "output_type": "stream",
     "text": [
      "[CV 5/5] END classifier__colsample_bytree=0.8, classifier__learning_rate=0.15, classifier__max_depth=10, classifier__n_estimators=100, classifier__reg_alpha=0.8, classifier__reg_lambda=0.4, classifier__subsample=0.8;, score=0.945 total time=   0.3s\n",
      "Fitting 5 folds for each of 1 candidates, totalling 5 fits\n",
      "[CV 1/5] END classifier__colsample_bytree=0.95, classifier__learning_rate=0.2, classifier__max_depth=5, classifier__n_estimators=300, classifier__reg_alpha=1.0, classifier__reg_lambda=0.0, classifier__subsample=0.7;, score=0.968 total time=   0.8s\n",
      "[CV 2/5] END classifier__colsample_bytree=0.95, classifier__learning_rate=0.2, classifier__max_depth=5, classifier__n_estimators=300, classifier__reg_alpha=1.0, classifier__reg_lambda=0.0, classifier__subsample=0.7;, score=0.965 total time=   0.8s\n",
      "[CV 3/5] END classifier__colsample_bytree=0.95, classifier__learning_rate=0.2, classifier__max_depth=5, classifier__n_estimators=300, classifier__reg_alpha=1.0, classifier__reg_lambda=0.0, classifier__subsample=0.7;, score=0.950 total time=   0.8s\n",
      "[CV 4/5] END classifier__colsample_bytree=0.95, classifier__learning_rate=0.2, classifier__max_depth=5, classifier__n_estimators=300, classifier__reg_alpha=1.0, classifier__reg_lambda=0.0, classifier__subsample=0.7;, score=0.961 total time=   0.8s\n"
     ]
    },
    {
     "name": "stderr",
     "output_type": "stream",
     "text": [
      "INFO:root:Iteration 2: tested parameters: [0.95, 0.2, 5, 300, 1.0, 0.0, 0.7], score: 0.9593183490180153\n"
     ]
    },
    {
     "name": "stdout",
     "output_type": "stream",
     "text": [
      "[CV 5/5] END classifier__colsample_bytree=0.95, classifier__learning_rate=0.2, classifier__max_depth=5, classifier__n_estimators=300, classifier__reg_alpha=1.0, classifier__reg_lambda=0.0, classifier__subsample=0.7;, score=0.952 total time=   0.5s\n",
      "Fitting 5 folds for each of 1 candidates, totalling 5 fits\n",
      "[CV 1/5] END classifier__colsample_bytree=0.85, classifier__learning_rate=0.2, classifier__max_depth=3, classifier__n_estimators=150, classifier__reg_alpha=0.2, classifier__reg_lambda=0.4, classifier__subsample=0.75;, score=0.979 total time=   0.8s\n",
      "[CV 2/5] END classifier__colsample_bytree=0.85, classifier__learning_rate=0.2, classifier__max_depth=3, classifier__n_estimators=150, classifier__reg_alpha=0.2, classifier__reg_lambda=0.4, classifier__subsample=0.75;, score=0.962 total time=   0.8s\n",
      "[CV 3/5] END classifier__colsample_bytree=0.85, classifier__learning_rate=0.2, classifier__max_depth=3, classifier__n_estimators=150, classifier__reg_alpha=0.2, classifier__reg_lambda=0.4, classifier__subsample=0.75;, score=0.947 total time=   0.8s\n",
      "[CV 4/5] END classifier__colsample_bytree=0.85, classifier__learning_rate=0.2, classifier__max_depth=3, classifier__n_estimators=150, classifier__reg_alpha=0.2, classifier__reg_lambda=0.4, classifier__subsample=0.75;, score=0.968 total time=   0.8s\n"
     ]
    },
    {
     "name": "stderr",
     "output_type": "stream",
     "text": [
      "INFO:root:Iteration 3: tested parameters: [0.85, 0.2, 3, 150, 0.2, 0.4, 0.75], score: 0.960011470711137\n"
     ]
    },
    {
     "name": "stdout",
     "output_type": "stream",
     "text": [
      "[CV 5/5] END classifier__colsample_bytree=0.85, classifier__learning_rate=0.2, classifier__max_depth=3, classifier__n_estimators=150, classifier__reg_alpha=0.2, classifier__reg_lambda=0.4, classifier__subsample=0.75;, score=0.945 total time=   0.4s\n",
      "Fitting 5 folds for each of 1 candidates, totalling 5 fits\n",
      "[CV 3/5] END classifier__colsample_bytree=0.95, classifier__learning_rate=0.01, classifier__max_depth=7, classifier__n_estimators=250, classifier__reg_alpha=0.6, classifier__reg_lambda=0.0, classifier__subsample=0.95;, score=0.933 total time=   2.9s\n",
      "[CV 1/5] END classifier__colsample_bytree=0.95, classifier__learning_rate=0.01, classifier__max_depth=7, classifier__n_estimators=250, classifier__reg_alpha=0.6, classifier__reg_lambda=0.0, classifier__subsample=0.95;, score=0.937 total time=   3.0s\n",
      "[CV 2/5] END classifier__colsample_bytree=0.95, classifier__learning_rate=0.01, classifier__max_depth=7, classifier__n_estimators=250, classifier__reg_alpha=0.6, classifier__reg_lambda=0.0, classifier__subsample=0.95;, score=0.962 total time=   3.0s\n",
      "[CV 4/5] END classifier__colsample_bytree=0.95, classifier__learning_rate=0.01, classifier__max_depth=7, classifier__n_estimators=250, classifier__reg_alpha=0.6, classifier__reg_lambda=0.0, classifier__subsample=0.95;, score=0.958 total time=   3.0s\n"
     ]
    },
    {
     "name": "stderr",
     "output_type": "stream",
     "text": [
      "INFO:root:Iteration 4: tested parameters: [0.95, 0.01, 7, 250, 0.6, 0.0, 0.95], score: 0.9448585082778631\n"
     ]
    },
    {
     "name": "stdout",
     "output_type": "stream",
     "text": [
      "[CV 5/5] END classifier__colsample_bytree=0.95, classifier__learning_rate=0.01, classifier__max_depth=7, classifier__n_estimators=250, classifier__reg_alpha=0.6, classifier__reg_lambda=0.0, classifier__subsample=0.95;, score=0.935 total time=   1.2s\n",
      "Fitting 5 folds for each of 1 candidates, totalling 5 fits\n",
      "[CV 2/5] END classifier__colsample_bytree=0.95, classifier__learning_rate=0.1, classifier__max_depth=7, classifier__n_estimators=250, classifier__reg_alpha=1.0, classifier__reg_lambda=0.8, classifier__subsample=0.8;, score=0.965 total time=   1.1s\n",
      "[CV 1/5] END classifier__colsample_bytree=0.95, classifier__learning_rate=0.1, classifier__max_depth=7, classifier__n_estimators=250, classifier__reg_alpha=1.0, classifier__reg_lambda=0.8, classifier__subsample=0.8;, score=0.961 total time=   1.1s\n",
      "[CV 4/5] END classifier__colsample_bytree=0.95, classifier__learning_rate=0.1, classifier__max_depth=7, classifier__n_estimators=250, classifier__reg_alpha=1.0, classifier__reg_lambda=0.8, classifier__subsample=0.8;, score=0.975 total time=   1.1s\n",
      "[CV 3/5] END classifier__colsample_bytree=0.95, classifier__learning_rate=0.1, classifier__max_depth=7, classifier__n_estimators=250, classifier__reg_alpha=1.0, classifier__reg_lambda=0.8, classifier__subsample=0.8;, score=0.954 total time=   1.1s\n"
     ]
    },
    {
     "name": "stderr",
     "output_type": "stream",
     "text": [
      "INFO:root:Iteration 5: tested parameters: [0.95, 0.1, 7, 250, 1.0, 0.8, 0.8], score: 0.9565086427600331\n"
     ]
    },
    {
     "name": "stdout",
     "output_type": "stream",
     "text": [
      "[CV 5/5] END classifier__colsample_bytree=0.95, classifier__learning_rate=0.1, classifier__max_depth=7, classifier__n_estimators=250, classifier__reg_alpha=1.0, classifier__reg_lambda=0.8, classifier__subsample=0.8;, score=0.927 total time=   0.6s\n",
      "Fitting 5 folds for each of 1 candidates, totalling 5 fits\n",
      "[CV 2/5] END classifier__colsample_bytree=0.95, classifier__learning_rate=0.2, classifier__max_depth=4, classifier__n_estimators=100, classifier__reg_alpha=0.8, classifier__reg_lambda=0.4, classifier__subsample=0.85;, score=0.958 total time=   0.4s\n",
      "[CV 1/5] END classifier__colsample_bytree=0.95, classifier__learning_rate=0.2, classifier__max_depth=4, classifier__n_estimators=100, classifier__reg_alpha=0.8, classifier__reg_lambda=0.4, classifier__subsample=0.85;, score=0.972 total time=   0.4s\n",
      "[CV 3/5] END classifier__colsample_bytree=0.95, classifier__learning_rate=0.2, classifier__max_depth=4, classifier__n_estimators=100, classifier__reg_alpha=0.8, classifier__reg_lambda=0.4, classifier__subsample=0.85;, score=0.950 total time=   0.4s\n",
      "[CV 4/5] END classifier__colsample_bytree=0.95, classifier__learning_rate=0.2, classifier__max_depth=4, classifier__n_estimators=100, classifier__reg_alpha=0.8, classifier__reg_lambda=0.4, classifier__subsample=0.85;, score=0.946 total time=   0.4s\n"
     ]
    },
    {
     "name": "stderr",
     "output_type": "stream",
     "text": [
      "INFO:root:Iteration 6: tested parameters: [0.95, 0.2, 4, 100, 0.8, 0.4, 0.85], score: 0.9521880572770451\n"
     ]
    },
    {
     "name": "stdout",
     "output_type": "stream",
     "text": [
      "[CV 5/5] END classifier__colsample_bytree=0.95, classifier__learning_rate=0.2, classifier__max_depth=4, classifier__n_estimators=100, classifier__reg_alpha=0.8, classifier__reg_lambda=0.4, classifier__subsample=0.85;, score=0.934 total time=   0.3s\n",
      "Fitting 5 folds for each of 1 candidates, totalling 5 fits\n",
      "[CV 1/5] END classifier__colsample_bytree=0.9, classifier__learning_rate=0.15, classifier__max_depth=5, classifier__n_estimators=300, classifier__reg_alpha=0.6, classifier__reg_lambda=0.6, classifier__subsample=0.9;, score=0.979 total time=   1.1s\n",
      "[CV 2/5] END classifier__colsample_bytree=0.9, classifier__learning_rate=0.15, classifier__max_depth=5, classifier__n_estimators=300, classifier__reg_alpha=0.6, classifier__reg_lambda=0.6, classifier__subsample=0.9;, score=0.958 total time=   1.1s\n",
      "[CV 3/5] END classifier__colsample_bytree=0.9, classifier__learning_rate=0.15, classifier__max_depth=5, classifier__n_estimators=300, classifier__reg_alpha=0.6, classifier__reg_lambda=0.6, classifier__subsample=0.9;, score=0.954 total time=   1.1s\n",
      "[CV 4/5] END classifier__colsample_bytree=0.9, classifier__learning_rate=0.15, classifier__max_depth=5, classifier__n_estimators=300, classifier__reg_alpha=0.6, classifier__reg_lambda=0.6, classifier__subsample=0.9;, score=0.964 total time=   1.1s\n"
     ]
    },
    {
     "name": "stderr",
     "output_type": "stream",
     "text": [
      "INFO:root:Iteration 7: tested parameters: [0.9, 0.15, 5, 300, 0.6, 0.6, 0.9], score: 0.9600278675306484\n"
     ]
    },
    {
     "name": "stdout",
     "output_type": "stream",
     "text": [
      "[CV 5/5] END classifier__colsample_bytree=0.9, classifier__learning_rate=0.15, classifier__max_depth=5, classifier__n_estimators=300, classifier__reg_alpha=0.6, classifier__reg_lambda=0.6, classifier__subsample=0.9;, score=0.945 total time=   0.7s\n",
      "Fitting 5 folds for each of 1 candidates, totalling 5 fits\n",
      "[CV 2/5] END classifier__colsample_bytree=0.85, classifier__learning_rate=0.2, classifier__max_depth=6, classifier__n_estimators=300, classifier__reg_alpha=0.2, classifier__reg_lambda=0.0, classifier__subsample=0.85;, score=0.965 total time=   0.9s\n",
      "[CV 3/5] END classifier__colsample_bytree=0.85, classifier__learning_rate=0.2, classifier__max_depth=6, classifier__n_estimators=300, classifier__reg_alpha=0.2, classifier__reg_lambda=0.0, classifier__subsample=0.85;, score=0.954 total time=   0.9s\n",
      "[CV 4/5] END classifier__colsample_bytree=0.85, classifier__learning_rate=0.2, classifier__max_depth=6, classifier__n_estimators=300, classifier__reg_alpha=0.2, classifier__reg_lambda=0.0, classifier__subsample=0.85;, score=0.964 total time=   1.0s\n",
      "[CV 1/5] END classifier__colsample_bytree=0.85, classifier__learning_rate=0.2, classifier__max_depth=6, classifier__n_estimators=300, classifier__reg_alpha=0.2, classifier__reg_lambda=0.0, classifier__subsample=0.85;, score=0.979 total time=   1.0s\n"
     ]
    },
    {
     "name": "stderr",
     "output_type": "stream",
     "text": [
      "INFO:root:Iteration 8: tested parameters: [0.85, 0.2, 6, 300, 0.2, 0.0, 0.85], score: 0.9600275261754684\n"
     ]
    },
    {
     "name": "stdout",
     "output_type": "stream",
     "text": [
      "[CV 5/5] END classifier__colsample_bytree=0.85, classifier__learning_rate=0.2, classifier__max_depth=6, classifier__n_estimators=300, classifier__reg_alpha=0.2, classifier__reg_lambda=0.0, classifier__subsample=0.85;, score=0.938 total time=   0.6s\n",
      "Fitting 5 folds for each of 1 candidates, totalling 5 fits\n",
      "[CV 3/5] END classifier__colsample_bytree=1.0, classifier__learning_rate=0.15, classifier__max_depth=9, classifier__n_estimators=150, classifier__reg_alpha=0.4, classifier__reg_lambda=0.2, classifier__subsample=0.7;, score=0.947 total time=   0.8s\n",
      "[CV 2/5] END classifier__colsample_bytree=1.0, classifier__learning_rate=0.15, classifier__max_depth=9, classifier__n_estimators=150, classifier__reg_alpha=0.4, classifier__reg_lambda=0.2, classifier__subsample=0.7;, score=0.958 total time=   0.8s\n",
      "[CV 1/5] END classifier__colsample_bytree=1.0, classifier__learning_rate=0.15, classifier__max_depth=9, classifier__n_estimators=150, classifier__reg_alpha=0.4, classifier__reg_lambda=0.2, classifier__subsample=0.7;, score=0.968 total time=   0.8s\n",
      "[CV 4/5] END classifier__colsample_bytree=1.0, classifier__learning_rate=0.15, classifier__max_depth=9, classifier__n_estimators=150, classifier__reg_alpha=0.4, classifier__reg_lambda=0.2, classifier__subsample=0.7;, score=0.972 total time=   0.8s\n"
     ]
    },
    {
     "name": "stderr",
     "output_type": "stream",
     "text": [
      "INFO:root:Iteration 9: tested parameters: [1.0, 0.15, 9, 150, 0.4, 0.2, 0.7], score: 0.9580818958160447\n"
     ]
    },
    {
     "name": "stdout",
     "output_type": "stream",
     "text": [
      "[CV 5/5] END classifier__colsample_bytree=1.0, classifier__learning_rate=0.15, classifier__max_depth=9, classifier__n_estimators=150, classifier__reg_alpha=0.4, classifier__reg_lambda=0.2, classifier__subsample=0.7;, score=0.945 total time=   0.4s\n",
      "Fitting 5 folds for each of 1 candidates, totalling 5 fits\n",
      "[CV 1/5] END classifier__colsample_bytree=0.7, classifier__learning_rate=0.2, classifier__max_depth=8, classifier__n_estimators=100, classifier__reg_alpha=0.6, classifier__reg_lambda=0.2, classifier__subsample=0.8;, score=0.972 total time=   0.8s\n",
      "[CV 3/5] END classifier__colsample_bytree=0.7, classifier__learning_rate=0.2, classifier__max_depth=8, classifier__n_estimators=100, classifier__reg_alpha=0.6, classifier__reg_lambda=0.2, classifier__subsample=0.8;, score=0.950 total time=   0.8s\n",
      "[CV 2/5] END classifier__colsample_bytree=0.7, classifier__learning_rate=0.2, classifier__max_depth=8, classifier__n_estimators=100, classifier__reg_alpha=0.6, classifier__reg_lambda=0.2, classifier__subsample=0.8;, score=0.965 total time=   0.8s\n",
      "[CV 4/5] END classifier__colsample_bytree=0.7, classifier__learning_rate=0.2, classifier__max_depth=8, classifier__n_estimators=100, classifier__reg_alpha=0.6, classifier__reg_lambda=0.2, classifier__subsample=0.8;, score=0.972 total time=   0.8s\n",
      "[CV 5/5] END classifier__colsample_bytree=0.7, classifier__learning_rate=0.2, classifier__max_depth=8, classifier__n_estimators=100, classifier__reg_alpha=0.6, classifier__reg_lambda=0.2, classifier__subsample=0.8;, score=0.955 total time=   0.3s\n"
     ]
    },
    {
     "name": "stderr",
     "output_type": "stream",
     "text": [
      "INFO:root:Iteration 10: tested parameters: [0.7, 0.2, 8, 100, 0.6, 0.2, 0.8], score: 0.9628228190052439\n"
     ]
    },
    {
     "name": "stdout",
     "output_type": "stream",
     "text": [
      "Fitting 5 folds for each of 1 candidates, totalling 5 fits\n",
      "[CV 4/5] END classifier__colsample_bytree=0.9, classifier__learning_rate=0.15, classifier__max_depth=5, classifier__n_estimators=50, classifier__reg_alpha=0.2, classifier__reg_lambda=0.8, classifier__subsample=0.9;, score=0.968 total time=   0.5s\n",
      "[CV 1/5] END classifier__colsample_bytree=0.9, classifier__learning_rate=0.15, classifier__max_depth=5, classifier__n_estimators=50, classifier__reg_alpha=0.2, classifier__reg_lambda=0.8, classifier__subsample=0.9;, score=0.968 total time=   0.5s\n",
      "[CV 3/5] END classifier__colsample_bytree=0.9, classifier__learning_rate=0.15, classifier__max_depth=5, classifier__n_estimators=50, classifier__reg_alpha=0.2, classifier__reg_lambda=0.8, classifier__subsample=0.9;, score=0.947 total time=   0.5s\n",
      "[CV 2/5] END classifier__colsample_bytree=0.9, classifier__learning_rate=0.15, classifier__max_depth=5, classifier__n_estimators=50, classifier__reg_alpha=0.2, classifier__reg_lambda=0.8, classifier__subsample=0.9;, score=0.965 total time=   0.5s\n",
      "[CV 5/5] END classifier__colsample_bytree=0.9, classifier__learning_rate=0.15, classifier__max_depth=5, classifier__n_estimators=50, classifier__reg_alpha=0.2, classifier__reg_lambda=0.8, classifier__subsample=0.9;, score=0.938 total time=   0.2s\n"
     ]
    },
    {
     "name": "stderr",
     "output_type": "stream",
     "text": [
      "INFO:root:Iteration 11: tested parameters: [0.9, 0.15, 5, 50, 0.2, 0.8, 0.9], score: 0.9572884274708523\n"
     ]
    },
    {
     "name": "stdout",
     "output_type": "stream",
     "text": [
      "Fitting 5 folds for each of 1 candidates, totalling 5 fits\n",
      "[CV 2/5] END classifier__colsample_bytree=0.85, classifier__learning_rate=0.15, classifier__max_depth=6, classifier__n_estimators=200, classifier__reg_alpha=0.6, classifier__reg_lambda=0.6, classifier__subsample=0.7;, score=0.968 total time=   1.1s\n",
      "[CV 3/5] END classifier__colsample_bytree=0.85, classifier__learning_rate=0.15, classifier__max_depth=6, classifier__n_estimators=200, classifier__reg_alpha=0.6, classifier__reg_lambda=0.6, classifier__subsample=0.7;, score=0.954 total time=   1.1s\n",
      "[CV 4/5] END classifier__colsample_bytree=0.85, classifier__learning_rate=0.15, classifier__max_depth=6, classifier__n_estimators=200, classifier__reg_alpha=0.6, classifier__reg_lambda=0.6, classifier__subsample=0.7;, score=0.979 total time=   1.1s\n",
      "[CV 1/5] END classifier__colsample_bytree=0.85, classifier__learning_rate=0.15, classifier__max_depth=6, classifier__n_estimators=200, classifier__reg_alpha=0.6, classifier__reg_lambda=0.6, classifier__subsample=0.7;, score=0.975 total time=   1.1s\n",
      "[CV 5/5] END classifier__colsample_bytree=0.85, classifier__learning_rate=0.15, classifier__max_depth=6, classifier__n_estimators=200, classifier__reg_alpha=0.6, classifier__reg_lambda=0.6, classifier__subsample=0.7;, score=0.945 total time=   0.6s\n"
     ]
    },
    {
     "name": "stderr",
     "output_type": "stream",
     "text": [
      "INFO:root:Iteration 12: tested parameters: [0.85, 0.15, 6, 200, 0.6, 0.6, 0.7], score: 0.9642973674453096\n"
     ]
    },
    {
     "name": "stdout",
     "output_type": "stream",
     "text": [
      "Fitting 5 folds for each of 1 candidates, totalling 5 fits\n",
      "[CV 2/5] END classifier__colsample_bytree=0.75, classifier__learning_rate=0.15, classifier__max_depth=6, classifier__n_estimators=300, classifier__reg_alpha=0.6, classifier__reg_lambda=0.6, classifier__subsample=0.7;, score=0.965 total time=   1.5s\n",
      "[CV 1/5] END classifier__colsample_bytree=0.75, classifier__learning_rate=0.15, classifier__max_depth=6, classifier__n_estimators=300, classifier__reg_alpha=0.6, classifier__reg_lambda=0.6, classifier__subsample=0.7;, score=0.975 total time=   1.6s\n",
      "[CV 4/5] END classifier__colsample_bytree=0.75, classifier__learning_rate=0.15, classifier__max_depth=6, classifier__n_estimators=300, classifier__reg_alpha=0.6, classifier__reg_lambda=0.6, classifier__subsample=0.7;, score=0.975 total time=   1.5s\n",
      "[CV 3/5] END classifier__colsample_bytree=0.75, classifier__learning_rate=0.15, classifier__max_depth=6, classifier__n_estimators=300, classifier__reg_alpha=0.6, classifier__reg_lambda=0.6, classifier__subsample=0.7;, score=0.954 total time=   1.6s\n",
      "[CV 5/5] END classifier__colsample_bytree=0.75, classifier__learning_rate=0.15, classifier__max_depth=6, classifier__n_estimators=300, classifier__reg_alpha=0.6, classifier__reg_lambda=0.6, classifier__subsample=0.7;, score=0.952 total time=   0.8s\n"
     ]
    },
    {
     "name": "stderr",
     "output_type": "stream",
     "text": [
      "INFO:root:Iteration 13: tested parameters: [0.75, 0.15, 6, 300, 0.6, 0.6, 0.7], score: 0.9642497483976905\n"
     ]
    },
    {
     "name": "stdout",
     "output_type": "stream",
     "text": [
      "Fitting 5 folds for each of 1 candidates, totalling 5 fits\n",
      "[CV 3/5] END classifier__colsample_bytree=0.75, classifier__learning_rate=0.15, classifier__max_depth=6, classifier__n_estimators=200, classifier__reg_alpha=0.0, classifier__reg_lambda=0.6, classifier__subsample=0.7;, score=0.950 total time=   1.5s\n",
      "[CV 1/5] END classifier__colsample_bytree=0.75, classifier__learning_rate=0.15, classifier__max_depth=6, classifier__n_estimators=200, classifier__reg_alpha=0.0, classifier__reg_lambda=0.6, classifier__subsample=0.7;, score=0.972 total time=   1.5s\n",
      "[CV 2/5] END classifier__colsample_bytree=0.75, classifier__learning_rate=0.15, classifier__max_depth=6, classifier__n_estimators=200, classifier__reg_alpha=0.0, classifier__reg_lambda=0.6, classifier__subsample=0.7;, score=0.962 total time=   1.5s\n",
      "[CV 4/5] END classifier__colsample_bytree=0.75, classifier__learning_rate=0.15, classifier__max_depth=6, classifier__n_estimators=200, classifier__reg_alpha=0.0, classifier__reg_lambda=0.6, classifier__subsample=0.7;, score=0.979 total time=   1.5s\n",
      "[CV 5/5] END classifier__colsample_bytree=0.75, classifier__learning_rate=0.15, classifier__max_depth=6, classifier__n_estimators=200, classifier__reg_alpha=0.0, classifier__reg_lambda=0.6, classifier__subsample=0.7;, score=0.942 total time=   0.5s\n"
     ]
    },
    {
     "name": "stderr",
     "output_type": "stream",
     "text": [
      "INFO:root:Iteration 14: tested parameters: [0.75, 0.15, 6, 200, 0.0, 0.6, 0.7], score: 0.9607963639787889\n"
     ]
    },
    {
     "name": "stdout",
     "output_type": "stream",
     "text": [
      "Fitting 5 folds for each of 1 candidates, totalling 5 fits\n",
      "[CV 2/5] END classifier__colsample_bytree=0.75, classifier__learning_rate=0.15, classifier__max_depth=6, classifier__n_estimators=200, classifier__reg_alpha=0.6, classifier__reg_lambda=0.4, classifier__subsample=1.0;, score=0.958 total time=   1.1s\n",
      "[CV 4/5] END classifier__colsample_bytree=0.75, classifier__learning_rate=0.15, classifier__max_depth=6, classifier__n_estimators=200, classifier__reg_alpha=0.6, classifier__reg_lambda=0.4, classifier__subsample=1.0;, score=0.964 total time=   1.1s\n",
      "[CV 3/5] END classifier__colsample_bytree=0.75, classifier__learning_rate=0.15, classifier__max_depth=6, classifier__n_estimators=200, classifier__reg_alpha=0.6, classifier__reg_lambda=0.4, classifier__subsample=1.0;, score=0.947 total time=   1.2s\n",
      "[CV 1/5] END classifier__colsample_bytree=0.75, classifier__learning_rate=0.15, classifier__max_depth=6, classifier__n_estimators=200, classifier__reg_alpha=0.6, classifier__reg_lambda=0.4, classifier__subsample=1.0;, score=0.975 total time=   1.2s\n",
      "[CV 5/5] END classifier__colsample_bytree=0.75, classifier__learning_rate=0.15, classifier__max_depth=6, classifier__n_estimators=200, classifier__reg_alpha=0.6, classifier__reg_lambda=0.4, classifier__subsample=1.0;, score=0.938 total time=   0.6s\n"
     ]
    },
    {
     "name": "stderr",
     "output_type": "stream",
     "text": [
      "INFO:root:Iteration 15: tested parameters: [0.75, 0.15, 6, 200, 0.6, 0.4, 1.0], score: 0.9564064716233792\n"
     ]
    },
    {
     "name": "stdout",
     "output_type": "stream",
     "text": [
      "Fitting 5 folds for each of 1 candidates, totalling 5 fits\n",
      "[CV 2/5] END classifier__colsample_bytree=0.85, classifier__learning_rate=0.15, classifier__max_depth=9, classifier__n_estimators=200, classifier__reg_alpha=0.6, classifier__reg_lambda=0.6, classifier__subsample=0.7;, score=0.968 total time=   1.5s\n",
      "[CV 1/5] END classifier__colsample_bytree=0.85, classifier__learning_rate=0.15, classifier__max_depth=9, classifier__n_estimators=200, classifier__reg_alpha=0.6, classifier__reg_lambda=0.6, classifier__subsample=0.7;, score=0.972 total time=   1.6s\n",
      "[CV 4/5] END classifier__colsample_bytree=0.85, classifier__learning_rate=0.15, classifier__max_depth=9, classifier__n_estimators=200, classifier__reg_alpha=0.6, classifier__reg_lambda=0.6, classifier__subsample=0.7;, score=0.982 total time=   1.6s\n",
      "[CV 3/5] END classifier__colsample_bytree=0.85, classifier__learning_rate=0.15, classifier__max_depth=9, classifier__n_estimators=200, classifier__reg_alpha=0.6, classifier__reg_lambda=0.6, classifier__subsample=0.7;, score=0.957 total time=   1.6s\n",
      "[CV 5/5] END classifier__colsample_bytree=0.85, classifier__learning_rate=0.15, classifier__max_depth=9, classifier__n_estimators=200, classifier__reg_alpha=0.6, classifier__reg_lambda=0.6, classifier__subsample=0.7;, score=0.942 total time=   0.6s\n"
     ]
    },
    {
     "name": "stderr",
     "output_type": "stream",
     "text": [
      "INFO:root:Iteration 16: tested parameters: [0.85, 0.15, 9, 200, 0.6, 0.6, 0.7], score: 0.9642939009246015\n"
     ]
    },
    {
     "name": "stdout",
     "output_type": "stream",
     "text": [
      "Fitting 5 folds for each of 1 candidates, totalling 5 fits\n",
      "[CV 3/5] END classifier__colsample_bytree=0.8, classifier__learning_rate=0.15, classifier__max_depth=10, classifier__n_estimators=200, classifier__reg_alpha=0.6, classifier__reg_lambda=0.6, classifier__subsample=0.7;, score=0.954 total time=   1.6s\n",
      "[CV 1/5] END classifier__colsample_bytree=0.8, classifier__learning_rate=0.15, classifier__max_depth=10, classifier__n_estimators=200, classifier__reg_alpha=0.6, classifier__reg_lambda=0.6, classifier__subsample=0.7;, score=0.968 total time=   1.7s\n",
      "[CV 2/5] END classifier__colsample_bytree=0.8, classifier__learning_rate=0.15, classifier__max_depth=10, classifier__n_estimators=200, classifier__reg_alpha=0.6, classifier__reg_lambda=0.6, classifier__subsample=0.7;, score=0.962 total time=   1.7s\n",
      "[CV 4/5] END classifier__colsample_bytree=0.8, classifier__learning_rate=0.15, classifier__max_depth=10, classifier__n_estimators=200, classifier__reg_alpha=0.6, classifier__reg_lambda=0.6, classifier__subsample=0.7;, score=0.971 total time=   1.7s\n",
      "[CV 5/5] END classifier__colsample_bytree=0.8, classifier__learning_rate=0.15, classifier__max_depth=10, classifier__n_estimators=200, classifier__reg_alpha=0.6, classifier__reg_lambda=0.6, classifier__subsample=0.7;, score=0.942 total time=   0.6s\n"
     ]
    },
    {
     "name": "stderr",
     "output_type": "stream",
     "text": [
      "INFO:root:Iteration 17: tested parameters: [0.8, 0.15, 10, 200, 0.6, 0.6, 0.7], score: 0.9593874734419785\n"
     ]
    },
    {
     "name": "stdout",
     "output_type": "stream",
     "text": [
      "Fitting 5 folds for each of 1 candidates, totalling 5 fits\n",
      "[CV 2/5] END classifier__colsample_bytree=1.0, classifier__learning_rate=0.1, classifier__max_depth=9, classifier__n_estimators=200, classifier__reg_alpha=0.6, classifier__reg_lambda=0.6, classifier__subsample=0.7;, score=0.968 total time=   1.7s\n",
      "[CV 3/5] END classifier__colsample_bytree=1.0, classifier__learning_rate=0.1, classifier__max_depth=9, classifier__n_estimators=200, classifier__reg_alpha=0.6, classifier__reg_lambda=0.6, classifier__subsample=0.7;, score=0.954 total time=   1.7s\n",
      "[CV 1/5] END classifier__colsample_bytree=1.0, classifier__learning_rate=0.1, classifier__max_depth=9, classifier__n_estimators=200, classifier__reg_alpha=0.6, classifier__reg_lambda=0.6, classifier__subsample=0.7;, score=0.965 total time=   1.7s\n",
      "[CV 4/5] END classifier__colsample_bytree=1.0, classifier__learning_rate=0.1, classifier__max_depth=9, classifier__n_estimators=200, classifier__reg_alpha=0.6, classifier__reg_lambda=0.6, classifier__subsample=0.7;, score=0.979 total time=   1.7s\n",
      "[CV 5/5] END classifier__colsample_bytree=1.0, classifier__learning_rate=0.1, classifier__max_depth=9, classifier__n_estimators=200, classifier__reg_alpha=0.6, classifier__reg_lambda=0.6, classifier__subsample=0.7;, score=0.938 total time=   0.8s\n"
     ]
    },
    {
     "name": "stderr",
     "output_type": "stream",
     "text": [
      "INFO:root:Iteration 18: tested parameters: [1.0, 0.1, 9, 200, 0.6, 0.6, 0.7], score: 0.9607204654201315\n"
     ]
    },
    {
     "name": "stdout",
     "output_type": "stream",
     "text": [
      "Fitting 5 folds for each of 1 candidates, totalling 5 fits\n",
      "[CV 3/5] END classifier__colsample_bytree=0.75, classifier__learning_rate=0.15, classifier__max_depth=5, classifier__n_estimators=300, classifier__reg_alpha=0.6, classifier__reg_lambda=0.6, classifier__subsample=0.95;, score=0.947 total time=   1.5s\n",
      "[CV 2/5] END classifier__colsample_bytree=0.75, classifier__learning_rate=0.15, classifier__max_depth=5, classifier__n_estimators=300, classifier__reg_alpha=0.6, classifier__reg_lambda=0.6, classifier__subsample=0.95;, score=0.962 total time=   1.5s\n",
      "[CV 4/5] END classifier__colsample_bytree=0.75, classifier__learning_rate=0.15, classifier__max_depth=5, classifier__n_estimators=300, classifier__reg_alpha=0.6, classifier__reg_lambda=0.6, classifier__subsample=0.95;, score=0.957 total time=   1.6s\n",
      "[CV 1/5] END classifier__colsample_bytree=0.75, classifier__learning_rate=0.15, classifier__max_depth=5, classifier__n_estimators=300, classifier__reg_alpha=0.6, classifier__reg_lambda=0.6, classifier__subsample=0.95;, score=0.979 total time=   1.7s\n",
      "[CV 5/5] END classifier__colsample_bytree=0.75, classifier__learning_rate=0.15, classifier__max_depth=5, classifier__n_estimators=300, classifier__reg_alpha=0.6, classifier__reg_lambda=0.6, classifier__subsample=0.95;, score=0.942 total time=   0.7s\n"
     ]
    },
    {
     "name": "stderr",
     "output_type": "stream",
     "text": [
      "INFO:root:Iteration 19: tested parameters: [0.75, 0.15, 5, 300, 0.6, 0.6, 0.95], score: 0.9571209397861233\n"
     ]
    },
    {
     "name": "stdout",
     "output_type": "stream",
     "text": [
      "Fitting 5 folds for each of 1 candidates, totalling 5 fits\n",
      "[CV 3/5] END classifier__colsample_bytree=0.95, classifier__learning_rate=0.15, classifier__max_depth=6, classifier__n_estimators=300, classifier__reg_alpha=0.6, classifier__reg_lambda=0.6, classifier__subsample=0.7;, score=0.954 total time=   1.4s\n",
      "[CV 2/5] END classifier__colsample_bytree=0.95, classifier__learning_rate=0.15, classifier__max_depth=6, classifier__n_estimators=300, classifier__reg_alpha=0.6, classifier__reg_lambda=0.6, classifier__subsample=0.7;, score=0.965 total time=   1.4s\n",
      "[CV 1/5] END classifier__colsample_bytree=0.95, classifier__learning_rate=0.15, classifier__max_depth=6, classifier__n_estimators=300, classifier__reg_alpha=0.6, classifier__reg_lambda=0.6, classifier__subsample=0.7;, score=0.975 total time=   1.4s\n",
      "[CV 4/5] END classifier__colsample_bytree=0.95, classifier__learning_rate=0.15, classifier__max_depth=6, classifier__n_estimators=300, classifier__reg_alpha=0.6, classifier__reg_lambda=0.6, classifier__subsample=0.7;, score=0.979 total time=   1.4s\n",
      "[CV 5/5] END classifier__colsample_bytree=0.95, classifier__learning_rate=0.15, classifier__max_depth=6, classifier__n_estimators=300, classifier__reg_alpha=0.6, classifier__reg_lambda=0.6, classifier__subsample=0.7;, score=0.948 total time=   0.7s\n"
     ]
    },
    {
     "name": "stderr",
     "output_type": "stream",
     "text": [
      "INFO:root:Iteration 20: tested parameters: [0.95, 0.15, 6, 300, 0.6, 0.6, 0.7], score: 0.9642743789395626\n"
     ]
    },
    {
     "name": "stdout",
     "output_type": "stream",
     "text": [
      "Fitting 5 folds for each of 1 candidates, totalling 5 fits\n",
      "[CV 3/5] END classifier__colsample_bytree=0.7, classifier__learning_rate=0.05, classifier__max_depth=8, classifier__n_estimators=200, classifier__reg_alpha=0.0, classifier__reg_lambda=0.2, classifier__subsample=0.85;, score=0.950 total time=   1.4s\n",
      "[CV 2/5] END classifier__colsample_bytree=0.7, classifier__learning_rate=0.05, classifier__max_depth=8, classifier__n_estimators=200, classifier__reg_alpha=0.0, classifier__reg_lambda=0.2, classifier__subsample=0.85;, score=0.972 total time=   1.4s\n",
      "[CV 1/5] END classifier__colsample_bytree=0.7, classifier__learning_rate=0.05, classifier__max_depth=8, classifier__n_estimators=200, classifier__reg_alpha=0.0, classifier__reg_lambda=0.2, classifier__subsample=0.85;, score=0.976 total time=   1.5s\n",
      "[CV 4/5] END classifier__colsample_bytree=0.7, classifier__learning_rate=0.05, classifier__max_depth=8, classifier__n_estimators=200, classifier__reg_alpha=0.0, classifier__reg_lambda=0.2, classifier__subsample=0.85;, score=0.975 total time=   1.5s\n",
      "[CV 5/5] END classifier__colsample_bytree=0.7, classifier__learning_rate=0.05, classifier__max_depth=8, classifier__n_estimators=200, classifier__reg_alpha=0.0, classifier__reg_lambda=0.2, classifier__subsample=0.85;, score=0.942 total time=   0.8s\n"
     ]
    },
    {
     "name": "stderr",
     "output_type": "stream",
     "text": [
      "INFO:root:Iteration 21: tested parameters: [0.7, 0.05, 8, 200, 0.0, 0.2, 0.85], score: 0.9629063568574135\n"
     ]
    },
    {
     "name": "stdout",
     "output_type": "stream",
     "text": [
      "Fitting 5 folds for each of 1 candidates, totalling 5 fits\n",
      "[CV 1/5] END classifier__colsample_bytree=0.85, classifier__learning_rate=0.01, classifier__max_depth=6, classifier__n_estimators=200, classifier__reg_alpha=0.6, classifier__reg_lambda=0.6, classifier__subsample=0.7;, score=0.937 total time=   1.9s\n",
      "[CV 2/5] END classifier__colsample_bytree=0.85, classifier__learning_rate=0.01, classifier__max_depth=6, classifier__n_estimators=200, classifier__reg_alpha=0.6, classifier__reg_lambda=0.6, classifier__subsample=0.7;, score=0.958 total time=   1.9s\n",
      "[CV 3/5] END classifier__colsample_bytree=0.85, classifier__learning_rate=0.01, classifier__max_depth=6, classifier__n_estimators=200, classifier__reg_alpha=0.6, classifier__reg_lambda=0.6, classifier__subsample=0.7;, score=0.936 total time=   1.9s\n",
      "[CV 4/5] END classifier__colsample_bytree=0.85, classifier__learning_rate=0.01, classifier__max_depth=6, classifier__n_estimators=200, classifier__reg_alpha=0.6, classifier__reg_lambda=0.6, classifier__subsample=0.7;, score=0.954 total time=   1.9s\n",
      "[CV 5/5] END classifier__colsample_bytree=0.85, classifier__learning_rate=0.01, classifier__max_depth=6, classifier__n_estimators=200, classifier__reg_alpha=0.6, classifier__reg_lambda=0.6, classifier__subsample=0.7;, score=0.928 total time=   0.9s\n"
     ]
    },
    {
     "name": "stderr",
     "output_type": "stream",
     "text": [
      "INFO:root:Iteration 22: tested parameters: [0.85, 0.01, 6, 200, 0.6, 0.6, 0.7], score: 0.9425702867972054\n"
     ]
    },
    {
     "name": "stdout",
     "output_type": "stream",
     "text": [
      "Fitting 5 folds for each of 1 candidates, totalling 5 fits\n",
      "[CV 3/5] END classifier__colsample_bytree=0.95, classifier__learning_rate=0.15, classifier__max_depth=9, classifier__n_estimators=250, classifier__reg_alpha=0.6, classifier__reg_lambda=1.0, classifier__subsample=0.9;, score=0.950 total time=   1.1s\n",
      "[CV 1/5] END classifier__colsample_bytree=0.95, classifier__learning_rate=0.15, classifier__max_depth=9, classifier__n_estimators=250, classifier__reg_alpha=0.6, classifier__reg_lambda=1.0, classifier__subsample=0.9;, score=0.965 total time=   1.1s\n",
      "[CV 2/5] END classifier__colsample_bytree=0.95, classifier__learning_rate=0.15, classifier__max_depth=9, classifier__n_estimators=250, classifier__reg_alpha=0.6, classifier__reg_lambda=1.0, classifier__subsample=0.9;, score=0.962 total time=   1.1s\n",
      "[CV 4/5] END classifier__colsample_bytree=0.95, classifier__learning_rate=0.15, classifier__max_depth=9, classifier__n_estimators=250, classifier__reg_alpha=0.6, classifier__reg_lambda=1.0, classifier__subsample=0.9;, score=0.965 total time=   1.1s\n",
      "[CV 5/5] END classifier__colsample_bytree=0.95, classifier__learning_rate=0.15, classifier__max_depth=9, classifier__n_estimators=250, classifier__reg_alpha=0.6, classifier__reg_lambda=1.0, classifier__subsample=0.9;, score=0.938 total time=   0.7s\n"
     ]
    },
    {
     "name": "stderr",
     "output_type": "stream",
     "text": [
      "INFO:root:Iteration 23: tested parameters: [0.95, 0.15, 9, 250, 0.6, 1.0, 0.9], score: 0.955842158541825\n"
     ]
    },
    {
     "name": "stdout",
     "output_type": "stream",
     "text": [
      "Fitting 5 folds for each of 1 candidates, totalling 5 fits\n",
      "[CV 1/5] END classifier__colsample_bytree=0.7, classifier__learning_rate=0.15, classifier__max_depth=8, classifier__n_estimators=50, classifier__reg_alpha=0.6, classifier__reg_lambda=0.6, classifier__subsample=0.7;, score=0.972 total time=   0.5s\n",
      "[CV 2/5] END classifier__colsample_bytree=0.7, classifier__learning_rate=0.15, classifier__max_depth=8, classifier__n_estimators=50, classifier__reg_alpha=0.6, classifier__reg_lambda=0.6, classifier__subsample=0.7;, score=0.969 total time=   0.5s\n",
      "[CV 3/5] END classifier__colsample_bytree=0.7, classifier__learning_rate=0.15, classifier__max_depth=8, classifier__n_estimators=50, classifier__reg_alpha=0.6, classifier__reg_lambda=0.6, classifier__subsample=0.7;, score=0.950 total time=   0.5s\n",
      "[CV 4/5] END classifier__colsample_bytree=0.7, classifier__learning_rate=0.15, classifier__max_depth=8, classifier__n_estimators=50, classifier__reg_alpha=0.6, classifier__reg_lambda=0.6, classifier__subsample=0.7;, score=0.968 total time=   0.5s\n",
      "[CV 5/5] END classifier__colsample_bytree=0.7, classifier__learning_rate=0.15, classifier__max_depth=8, classifier__n_estimators=50, classifier__reg_alpha=0.6, classifier__reg_lambda=0.6, classifier__subsample=0.7;, score=0.955 total time=   0.2s\n"
     ]
    },
    {
     "name": "stderr",
     "output_type": "stream",
     "text": [
      "INFO:root:Iteration 24: tested parameters: [0.7, 0.15, 8, 50, 0.6, 0.6, 0.7], score: 0.962768266916209\n"
     ]
    },
    {
     "name": "stdout",
     "output_type": "stream",
     "text": [
      "Fitting 5 folds for each of 1 candidates, totalling 5 fits\n",
      "[CV 3/5] END classifier__colsample_bytree=0.95, classifier__learning_rate=0.15, classifier__max_depth=3, classifier__n_estimators=200, classifier__reg_alpha=0.6, classifier__reg_lambda=0.6, classifier__subsample=0.7;, score=0.950 total time=   0.9s\n",
      "[CV 2/5] END classifier__colsample_bytree=0.95, classifier__learning_rate=0.15, classifier__max_depth=3, classifier__n_estimators=200, classifier__reg_alpha=0.6, classifier__reg_lambda=0.6, classifier__subsample=0.7;, score=0.955 total time=   0.9s\n",
      "[CV 1/5] END classifier__colsample_bytree=0.95, classifier__learning_rate=0.15, classifier__max_depth=3, classifier__n_estimators=200, classifier__reg_alpha=0.6, classifier__reg_lambda=0.6, classifier__subsample=0.7;, score=0.975 total time=   0.9s\n",
      "[CV 4/5] END classifier__colsample_bytree=0.95, classifier__learning_rate=0.15, classifier__max_depth=3, classifier__n_estimators=200, classifier__reg_alpha=0.6, classifier__reg_lambda=0.6, classifier__subsample=0.7;, score=0.964 total time=   0.9s\n",
      "[CV 5/5] END classifier__colsample_bytree=0.95, classifier__learning_rate=0.15, classifier__max_depth=3, classifier__n_estimators=200, classifier__reg_alpha=0.6, classifier__reg_lambda=0.6, classifier__subsample=0.7;, score=0.941 total time=   0.5s\n"
     ]
    },
    {
     "name": "stderr",
     "output_type": "stream",
     "text": [
      "INFO:root:Iteration 25: tested parameters: [0.95, 0.15, 3, 200, 0.6, 0.6, 0.7], score: 0.9571718429059919\n"
     ]
    },
    {
     "name": "stdout",
     "output_type": "stream",
     "text": [
      "Fitting 5 folds for each of 1 candidates, totalling 5 fits\n",
      "[CV 3/5] END classifier__colsample_bytree=0.95, classifier__learning_rate=0.15, classifier__max_depth=9, classifier__n_estimators=200, classifier__reg_alpha=0.4, classifier__reg_lambda=0.6, classifier__subsample=0.75;, score=0.954 total time=   0.9s\n",
      "[CV 2/5] END classifier__colsample_bytree=0.95, classifier__learning_rate=0.15, classifier__max_depth=9, classifier__n_estimators=200, classifier__reg_alpha=0.4, classifier__reg_lambda=0.6, classifier__subsample=0.75;, score=0.965 total time=   0.9s\n",
      "[CV 1/5] END classifier__colsample_bytree=0.95, classifier__learning_rate=0.15, classifier__max_depth=9, classifier__n_estimators=200, classifier__reg_alpha=0.4, classifier__reg_lambda=0.6, classifier__subsample=0.75;, score=0.975 total time=   0.9s\n",
      "[CV 4/5] END classifier__colsample_bytree=0.95, classifier__learning_rate=0.15, classifier__max_depth=9, classifier__n_estimators=200, classifier__reg_alpha=0.4, classifier__reg_lambda=0.6, classifier__subsample=0.75;, score=0.975 total time=   0.9s\n",
      "[CV 5/5] END classifier__colsample_bytree=0.95, classifier__learning_rate=0.15, classifier__max_depth=9, classifier__n_estimators=200, classifier__reg_alpha=0.4, classifier__reg_lambda=0.6, classifier__subsample=0.75;, score=0.945 total time=   0.5s\n"
     ]
    },
    {
     "name": "stderr",
     "output_type": "stream",
     "text": [
      "INFO:root:Iteration 26: tested parameters: [0.95, 0.15, 9, 200, 0.4, 0.6, 0.75], score: 0.9629904891384312\n"
     ]
    },
    {
     "name": "stdout",
     "output_type": "stream",
     "text": [
      "Fitting 5 folds for each of 1 candidates, totalling 5 fits\n",
      "[CV 2/5] END classifier__colsample_bytree=0.9, classifier__learning_rate=0.15, classifier__max_depth=7, classifier__n_estimators=100, classifier__reg_alpha=0.6, classifier__reg_lambda=0.0, classifier__subsample=0.9;, score=0.958 total time=   0.9s\n",
      "[CV 1/5] END classifier__colsample_bytree=0.9, classifier__learning_rate=0.15, classifier__max_depth=7, classifier__n_estimators=100, classifier__reg_alpha=0.6, classifier__reg_lambda=0.0, classifier__subsample=0.9;, score=0.968 total time=   0.9s\n",
      "[CV 3/5] END classifier__colsample_bytree=0.9, classifier__learning_rate=0.15, classifier__max_depth=7, classifier__n_estimators=100, classifier__reg_alpha=0.6, classifier__reg_lambda=0.0, classifier__subsample=0.9;, score=0.950 total time=   0.8s\n",
      "[CV 4/5] END classifier__colsample_bytree=0.9, classifier__learning_rate=0.15, classifier__max_depth=7, classifier__n_estimators=100, classifier__reg_alpha=0.6, classifier__reg_lambda=0.0, classifier__subsample=0.9;, score=0.957 total time=   0.8s\n",
      "[CV 5/5] END classifier__colsample_bytree=0.9, classifier__learning_rate=0.15, classifier__max_depth=7, classifier__n_estimators=100, classifier__reg_alpha=0.6, classifier__reg_lambda=0.0, classifier__subsample=0.9;, score=0.935 total time=   0.4s\n"
     ]
    },
    {
     "name": "stderr",
     "output_type": "stream",
     "text": [
      "INFO:root:Iteration 27: tested parameters: [0.9, 0.15, 7, 100, 0.6, 0.0, 0.9], score: 0.9536991189505095\n"
     ]
    },
    {
     "name": "stdout",
     "output_type": "stream",
     "text": [
      "Fitting 5 folds for each of 1 candidates, totalling 5 fits\n",
      "[CV 3/5] END classifier__colsample_bytree=0.85, classifier__learning_rate=0.15, classifier__max_depth=6, classifier__n_estimators=200, classifier__reg_alpha=0.6, classifier__reg_lambda=0.2, classifier__subsample=0.7;, score=0.957 total time=   1.1s\n",
      "[CV 1/5] END classifier__colsample_bytree=0.85, classifier__learning_rate=0.15, classifier__max_depth=6, classifier__n_estimators=200, classifier__reg_alpha=0.6, classifier__reg_lambda=0.2, classifier__subsample=0.7;, score=0.979 total time=   1.2s\n",
      "[CV 2/5] END classifier__colsample_bytree=0.85, classifier__learning_rate=0.15, classifier__max_depth=6, classifier__n_estimators=200, classifier__reg_alpha=0.6, classifier__reg_lambda=0.2, classifier__subsample=0.7;, score=0.958 total time=   1.2s\n",
      "[CV 4/5] END classifier__colsample_bytree=0.85, classifier__learning_rate=0.15, classifier__max_depth=6, classifier__n_estimators=200, classifier__reg_alpha=0.6, classifier__reg_lambda=0.2, classifier__subsample=0.7;, score=0.975 total time=   1.2s\n",
      "[CV 5/5] END classifier__colsample_bytree=0.85, classifier__learning_rate=0.15, classifier__max_depth=6, classifier__n_estimators=200, classifier__reg_alpha=0.6, classifier__reg_lambda=0.2, classifier__subsample=0.7;, score=0.949 total time=   0.6s\n"
     ]
    },
    {
     "name": "stderr",
     "output_type": "stream",
     "text": [
      "INFO:root:Iteration 28: tested parameters: [0.85, 0.15, 6, 200, 0.6, 0.2, 0.7], score: 0.9636323428147676\n"
     ]
    },
    {
     "name": "stdout",
     "output_type": "stream",
     "text": [
      "Fitting 5 folds for each of 1 candidates, totalling 5 fits\n",
      "[CV 2/5] END classifier__colsample_bytree=0.85, classifier__learning_rate=0.15, classifier__max_depth=4, classifier__n_estimators=200, classifier__reg_alpha=0.6, classifier__reg_lambda=0.0, classifier__subsample=0.7;, score=0.962 total time=   0.9s\n",
      "[CV 4/5] END classifier__colsample_bytree=0.85, classifier__learning_rate=0.15, classifier__max_depth=4, classifier__n_estimators=200, classifier__reg_alpha=0.6, classifier__reg_lambda=0.0, classifier__subsample=0.7;, score=0.968 total time=   0.9s\n",
      "[CV 1/5] END classifier__colsample_bytree=0.85, classifier__learning_rate=0.15, classifier__max_depth=4, classifier__n_estimators=200, classifier__reg_alpha=0.6, classifier__reg_lambda=0.0, classifier__subsample=0.7;, score=0.975 total time=   0.9s\n",
      "[CV 3/5] END classifier__colsample_bytree=0.85, classifier__learning_rate=0.15, classifier__max_depth=4, classifier__n_estimators=200, classifier__reg_alpha=0.6, classifier__reg_lambda=0.0, classifier__subsample=0.7;, score=0.957 total time=   0.9s\n",
      "[CV 5/5] END classifier__colsample_bytree=0.85, classifier__learning_rate=0.15, classifier__max_depth=4, classifier__n_estimators=200, classifier__reg_alpha=0.6, classifier__reg_lambda=0.0, classifier__subsample=0.7;, score=0.945 total time=   0.5s\n"
     ]
    },
    {
     "name": "stderr",
     "output_type": "stream",
     "text": [
      "INFO:root:Iteration 29: tested parameters: [0.85, 0.15, 4, 200, 0.6, 0.0, 0.7], score: 0.9614810695010918\n"
     ]
    },
    {
     "name": "stdout",
     "output_type": "stream",
     "text": [
      "Fitting 5 folds for each of 1 candidates, totalling 5 fits\n",
      "[CV 3/5] END classifier__colsample_bytree=0.8, classifier__learning_rate=0.2, classifier__max_depth=10, classifier__n_estimators=100, classifier__reg_alpha=0.0, classifier__reg_lambda=0.2, classifier__subsample=0.95;, score=0.943 total time=   0.5s\n",
      "[CV 2/5] END classifier__colsample_bytree=0.8, classifier__learning_rate=0.2, classifier__max_depth=10, classifier__n_estimators=100, classifier__reg_alpha=0.0, classifier__reg_lambda=0.2, classifier__subsample=0.95;, score=0.962 total time=   0.5s\n",
      "[CV 4/5] END classifier__colsample_bytree=0.8, classifier__learning_rate=0.2, classifier__max_depth=10, classifier__n_estimators=100, classifier__reg_alpha=0.0, classifier__reg_lambda=0.2, classifier__subsample=0.95;, score=0.972 total time=   0.5s\n",
      "[CV 1/5] END classifier__colsample_bytree=0.8, classifier__learning_rate=0.2, classifier__max_depth=10, classifier__n_estimators=100, classifier__reg_alpha=0.0, classifier__reg_lambda=0.2, classifier__subsample=0.95;, score=0.961 total time=   0.6s\n",
      "[CV 5/5] END classifier__colsample_bytree=0.8, classifier__learning_rate=0.2, classifier__max_depth=10, classifier__n_estimators=100, classifier__reg_alpha=0.0, classifier__reg_lambda=0.2, classifier__subsample=0.95;, score=0.938 total time=   0.3s\n"
     ]
    },
    {
     "name": "stderr",
     "output_type": "stream",
     "text": [
      "INFO:root:Iteration 30: tested parameters: [0.8, 0.2, 10, 100, 0.0, 0.2, 0.95], score: 0.9551882397255034\n"
     ]
    },
    {
     "name": "stdout",
     "output_type": "stream",
     "text": [
      "Fitting 5 folds for each of 1 candidates, totalling 5 fits\n",
      "[CV 1/5] END classifier__colsample_bytree=0.95, classifier__learning_rate=0.2, classifier__max_depth=4, classifier__n_estimators=250, classifier__reg_alpha=0.0, classifier__reg_lambda=0.8, classifier__subsample=0.8;, score=0.979 total time=   1.3s\n",
      "[CV 3/5] END classifier__colsample_bytree=0.95, classifier__learning_rate=0.2, classifier__max_depth=4, classifier__n_estimators=250, classifier__reg_alpha=0.0, classifier__reg_lambda=0.8, classifier__subsample=0.8;, score=0.951 total time=   1.3s\n",
      "[CV 4/5] END classifier__colsample_bytree=0.95, classifier__learning_rate=0.2, classifier__max_depth=4, classifier__n_estimators=250, classifier__reg_alpha=0.0, classifier__reg_lambda=0.8, classifier__subsample=0.8;, score=0.964 total time=   1.3s\n",
      "[CV 2/5] END classifier__colsample_bytree=0.95, classifier__learning_rate=0.2, classifier__max_depth=4, classifier__n_estimators=250, classifier__reg_alpha=0.0, classifier__reg_lambda=0.8, classifier__subsample=0.8;, score=0.968 total time=   1.4s\n",
      "[CV 5/5] END classifier__colsample_bytree=0.95, classifier__learning_rate=0.2, classifier__max_depth=4, classifier__n_estimators=250, classifier__reg_alpha=0.0, classifier__reg_lambda=0.8, classifier__subsample=0.8;, score=0.945 total time=   0.6s\n"
     ]
    },
    {
     "name": "stderr",
     "output_type": "stream",
     "text": [
      "INFO:root:Iteration 31: tested parameters: [0.95, 0.2, 4, 250, 0.0, 0.8, 0.8], score: 0.9614314670621678\n"
     ]
    },
    {
     "name": "stdout",
     "output_type": "stream",
     "text": [
      "Fitting 5 folds for each of 1 candidates, totalling 5 fits\n",
      "[CV 4/5] END classifier__colsample_bytree=0.85, classifier__learning_rate=0.15, classifier__max_depth=9, classifier__n_estimators=100, classifier__reg_alpha=0.8, classifier__reg_lambda=0.6, classifier__subsample=0.75;, score=0.968 total time=   0.7s\n",
      "[CV 3/5] END classifier__colsample_bytree=0.85, classifier__learning_rate=0.15, classifier__max_depth=9, classifier__n_estimators=100, classifier__reg_alpha=0.8, classifier__reg_lambda=0.6, classifier__subsample=0.75;, score=0.957 total time=   0.7s\n",
      "[CV 2/5] END classifier__colsample_bytree=0.85, classifier__learning_rate=0.15, classifier__max_depth=9, classifier__n_estimators=100, classifier__reg_alpha=0.8, classifier__reg_lambda=0.6, classifier__subsample=0.75;, score=0.965 total time=   0.7s\n",
      "[CV 1/5] END classifier__colsample_bytree=0.85, classifier__learning_rate=0.15, classifier__max_depth=9, classifier__n_estimators=100, classifier__reg_alpha=0.8, classifier__reg_lambda=0.6, classifier__subsample=0.75;, score=0.975 total time=   0.8s\n",
      "[CV 5/5] END classifier__colsample_bytree=0.85, classifier__learning_rate=0.15, classifier__max_depth=9, classifier__n_estimators=100, classifier__reg_alpha=0.8, classifier__reg_lambda=0.6, classifier__subsample=0.75;, score=0.938 total time=   0.4s\n"
     ]
    },
    {
     "name": "stderr",
     "output_type": "stream",
     "text": [
      "INFO:root:Iteration 32: tested parameters: [0.85, 0.15, 9, 100, 0.8, 0.6, 0.75], score: 0.9607963639787889\n"
     ]
    },
    {
     "name": "stdout",
     "output_type": "stream",
     "text": [
      "Fitting 5 folds for each of 1 candidates, totalling 5 fits\n",
      "[CV 2/5] END classifier__colsample_bytree=0.9, classifier__learning_rate=0.15, classifier__max_depth=9, classifier__n_estimators=100, classifier__reg_alpha=0.6, classifier__reg_lambda=0.6, classifier__subsample=1.0;, score=0.972 total time=   0.7s\n",
      "[CV 3/5] END classifier__colsample_bytree=0.9, classifier__learning_rate=0.15, classifier__max_depth=9, classifier__n_estimators=100, classifier__reg_alpha=0.6, classifier__reg_lambda=0.6, classifier__subsample=1.0;, score=0.946 total time=   0.7s\n",
      "[CV 1/5] END classifier__colsample_bytree=0.9, classifier__learning_rate=0.15, classifier__max_depth=9, classifier__n_estimators=100, classifier__reg_alpha=0.6, classifier__reg_lambda=0.6, classifier__subsample=1.0;, score=0.961 total time=   0.8s\n",
      "[CV 4/5] END classifier__colsample_bytree=0.9, classifier__learning_rate=0.15, classifier__max_depth=9, classifier__n_estimators=100, classifier__reg_alpha=0.6, classifier__reg_lambda=0.6, classifier__subsample=1.0;, score=0.964 total time=   0.7s\n",
      "[CV 5/5] END classifier__colsample_bytree=0.9, classifier__learning_rate=0.15, classifier__max_depth=9, classifier__n_estimators=100, classifier__reg_alpha=0.6, classifier__reg_lambda=0.6, classifier__subsample=1.0;, score=0.941 total time=   0.4s\n"
     ]
    },
    {
     "name": "stderr",
     "output_type": "stream",
     "text": [
      "INFO:root:Iteration 33: tested parameters: [0.9, 0.15, 9, 100, 0.6, 0.6, 1.0], score: 0.9570683710883934\n"
     ]
    },
    {
     "name": "stdout",
     "output_type": "stream",
     "text": [
      "Fitting 5 folds for each of 1 candidates, totalling 5 fits\n",
      "[CV 2/5] END classifier__colsample_bytree=0.95, classifier__learning_rate=0.01, classifier__max_depth=9, classifier__n_estimators=300, classifier__reg_alpha=0.2, classifier__reg_lambda=1.0, classifier__subsample=0.9;, score=0.968 total time=   2.9s\n",
      "[CV 4/5] END classifier__colsample_bytree=0.95, classifier__learning_rate=0.01, classifier__max_depth=9, classifier__n_estimators=300, classifier__reg_alpha=0.2, classifier__reg_lambda=1.0, classifier__subsample=0.9;, score=0.957 total time=   3.0s[CV 3/5] END classifier__colsample_bytree=0.95, classifier__learning_rate=0.01, classifier__max_depth=9, classifier__n_estimators=300, classifier__reg_alpha=0.2, classifier__reg_lambda=1.0, classifier__subsample=0.9;, score=0.939 total time=   3.0s\n",
      "\n",
      "[CV 1/5] END classifier__colsample_bytree=0.95, classifier__learning_rate=0.01, classifier__max_depth=9, classifier__n_estimators=300, classifier__reg_alpha=0.2, classifier__reg_lambda=1.0, classifier__subsample=0.9;, score=0.937 total time=   3.0s\n",
      "[CV 5/5] END classifier__colsample_bytree=0.95, classifier__learning_rate=0.01, classifier__max_depth=9, classifier__n_estimators=300, classifier__reg_alpha=0.2, classifier__reg_lambda=1.0, classifier__subsample=0.9;, score=0.921 total time=   1.5s\n"
     ]
    },
    {
     "name": "stderr",
     "output_type": "stream",
     "text": [
      "INFO:root:Iteration 34: tested parameters: [0.95, 0.01, 9, 300, 0.2, 1.0, 0.9], score: 0.9445717699266087\n"
     ]
    },
    {
     "name": "stdout",
     "output_type": "stream",
     "text": [
      "Fitting 5 folds for each of 1 candidates, totalling 5 fits\n",
      "[CV 1/5] END classifier__colsample_bytree=0.7, classifier__learning_rate=0.15, classifier__max_depth=10, classifier__n_estimators=250, classifier__reg_alpha=0.0, classifier__reg_lambda=0.2, classifier__subsample=0.95;, score=0.972 total time=   1.1s\n",
      "[CV 4/5] END classifier__colsample_bytree=0.7, classifier__learning_rate=0.15, classifier__max_depth=10, classifier__n_estimators=250, classifier__reg_alpha=0.0, classifier__reg_lambda=0.2, classifier__subsample=0.95;, score=0.972 total time=   1.1s\n",
      "[CV 3/5] END classifier__colsample_bytree=0.7, classifier__learning_rate=0.15, classifier__max_depth=10, classifier__n_estimators=250, classifier__reg_alpha=0.0, classifier__reg_lambda=0.2, classifier__subsample=0.95;, score=0.954 total time=   1.1s\n",
      "[CV 2/5] END classifier__colsample_bytree=0.7, classifier__learning_rate=0.15, classifier__max_depth=10, classifier__n_estimators=250, classifier__reg_alpha=0.0, classifier__reg_lambda=0.2, classifier__subsample=0.95;, score=0.975 total time=   1.1s\n",
      "[CV 5/5] END classifier__colsample_bytree=0.7, classifier__learning_rate=0.15, classifier__max_depth=10, classifier__n_estimators=250, classifier__reg_alpha=0.0, classifier__reg_lambda=0.2, classifier__subsample=0.95;, score=0.948 total time=   0.5s\n"
     ]
    },
    {
     "name": "stderr",
     "output_type": "stream",
     "text": [
      "INFO:root:Iteration 35: tested parameters: [0.7, 0.15, 10, 250, 0.0, 0.2, 0.95], score: 0.9642661452172018\n"
     ]
    },
    {
     "name": "stdout",
     "output_type": "stream",
     "text": [
      "Fitting 5 folds for each of 1 candidates, totalling 5 fits\n",
      "[CV 3/5] END classifier__colsample_bytree=0.9, classifier__learning_rate=0.1, classifier__max_depth=8, classifier__n_estimators=50, classifier__reg_alpha=0.2, classifier__reg_lambda=0.2, classifier__subsample=0.9;, score=0.946 total time=   0.5s\n",
      "[CV 2/5] END classifier__colsample_bytree=0.9, classifier__learning_rate=0.1, classifier__max_depth=8, classifier__n_estimators=50, classifier__reg_alpha=0.2, classifier__reg_lambda=0.2, classifier__subsample=0.9;, score=0.975 total time=   0.5s\n",
      "[CV 1/5] END classifier__colsample_bytree=0.9, classifier__learning_rate=0.1, classifier__max_depth=8, classifier__n_estimators=50, classifier__reg_alpha=0.2, classifier__reg_lambda=0.2, classifier__subsample=0.9;, score=0.965 total time=   0.5s\n",
      "[CV 4/5] END classifier__colsample_bytree=0.9, classifier__learning_rate=0.1, classifier__max_depth=8, classifier__n_estimators=50, classifier__reg_alpha=0.2, classifier__reg_lambda=0.2, classifier__subsample=0.9;, score=0.968 total time=   0.5s\n",
      "[CV 5/5] END classifier__colsample_bytree=0.9, classifier__learning_rate=0.1, classifier__max_depth=8, classifier__n_estimators=50, classifier__reg_alpha=0.2, classifier__reg_lambda=0.2, classifier__subsample=0.9;, score=0.931 total time=   0.2s\n"
     ]
    },
    {
     "name": "stderr",
     "output_type": "stream",
     "text": [
      "INFO:root:Iteration 36: tested parameters: [0.9, 0.1, 8, 50, 0.2, 0.2, 0.9], score: 0.9571371541571765\n"
     ]
    },
    {
     "name": "stdout",
     "output_type": "stream",
     "text": [
      "Fitting 5 folds for each of 1 candidates, totalling 5 fits\n",
      "[CV 3/5] END classifier__colsample_bytree=0.8, classifier__learning_rate=0.15, classifier__max_depth=7, classifier__n_estimators=200, classifier__reg_alpha=0.0, classifier__reg_lambda=0.2, classifier__subsample=0.9;, score=0.947 total time=   1.0s\n",
      "[CV 4/5] END classifier__colsample_bytree=0.8, classifier__learning_rate=0.15, classifier__max_depth=7, classifier__n_estimators=200, classifier__reg_alpha=0.0, classifier__reg_lambda=0.2, classifier__subsample=0.9;, score=0.961 total time=   1.0s\n",
      "[CV 2/5] END classifier__colsample_bytree=0.8, classifier__learning_rate=0.15, classifier__max_depth=7, classifier__n_estimators=200, classifier__reg_alpha=0.0, classifier__reg_lambda=0.2, classifier__subsample=0.9;, score=0.965 total time=   1.0s\n",
      "[CV 1/5] END classifier__colsample_bytree=0.8, classifier__learning_rate=0.15, classifier__max_depth=7, classifier__n_estimators=200, classifier__reg_alpha=0.0, classifier__reg_lambda=0.2, classifier__subsample=0.9;, score=0.975 total time=   1.0s\n",
      "[CV 5/5] END classifier__colsample_bytree=0.8, classifier__learning_rate=0.15, classifier__max_depth=7, classifier__n_estimators=200, classifier__reg_alpha=0.0, classifier__reg_lambda=0.2, classifier__subsample=0.9;, score=0.949 total time=   0.4s\n"
     ]
    },
    {
     "name": "stderr",
     "output_type": "stream",
     "text": [
      "INFO:root:Iteration 37: tested parameters: [0.8, 0.15, 7, 200, 0.0, 0.2, 0.9], score: 0.9592637969289803\n"
     ]
    },
    {
     "name": "stdout",
     "output_type": "stream",
     "text": [
      "Fitting 5 folds for each of 1 candidates, totalling 5 fits\n",
      "[CV 1/5] END classifier__colsample_bytree=0.95, classifier__learning_rate=0.1, classifier__max_depth=8, classifier__n_estimators=200, classifier__reg_alpha=0.0, classifier__reg_lambda=1.0, classifier__subsample=1.0;, score=0.958 total time=   1.0s\n",
      "[CV 3/5] END classifier__colsample_bytree=0.95, classifier__learning_rate=0.1, classifier__max_depth=8, classifier__n_estimators=200, classifier__reg_alpha=0.0, classifier__reg_lambda=1.0, classifier__subsample=1.0;, score=0.939 total time=   1.0s\n",
      "[CV 2/5] END classifier__colsample_bytree=0.95, classifier__learning_rate=0.1, classifier__max_depth=8, classifier__n_estimators=200, classifier__reg_alpha=0.0, classifier__reg_lambda=1.0, classifier__subsample=1.0;, score=0.962 total time=   1.0s\n",
      "[CV 4/5] END classifier__colsample_bytree=0.95, classifier__learning_rate=0.1, classifier__max_depth=8, classifier__n_estimators=200, classifier__reg_alpha=0.0, classifier__reg_lambda=1.0, classifier__subsample=1.0;, score=0.961 total time=   1.0s\n",
      "[CV 5/5] END classifier__colsample_bytree=0.95, classifier__learning_rate=0.1, classifier__max_depth=8, classifier__n_estimators=200, classifier__reg_alpha=0.0, classifier__reg_lambda=1.0, classifier__subsample=1.0;, score=0.931 total time=   0.6s\n"
     ]
    },
    {
     "name": "stderr",
     "output_type": "stream",
     "text": [
      "INFO:root:Iteration 38: tested parameters: [0.95, 0.1, 8, 200, 0.0, 1.0, 1.0], score: 0.9501685352920057\n"
     ]
    },
    {
     "name": "stdout",
     "output_type": "stream",
     "text": [
      "Fitting 5 folds for each of 1 candidates, totalling 5 fits\n",
      "[CV 3/5] END classifier__colsample_bytree=0.7, classifier__learning_rate=0.05, classifier__max_depth=8, classifier__n_estimators=150, classifier__reg_alpha=0.0, classifier__reg_lambda=0.8, classifier__subsample=0.7;, score=0.954 total time=   1.0s\n",
      "[CV 1/5] END classifier__colsample_bytree=0.7, classifier__learning_rate=0.05, classifier__max_depth=8, classifier__n_estimators=150, classifier__reg_alpha=0.0, classifier__reg_lambda=0.8, classifier__subsample=0.7;, score=0.976 total time=   1.1s\n",
      "[CV 4/5] END classifier__colsample_bytree=0.7, classifier__learning_rate=0.05, classifier__max_depth=8, classifier__n_estimators=150, classifier__reg_alpha=0.0, classifier__reg_lambda=0.8, classifier__subsample=0.7;, score=0.979 total time=   1.0s\n",
      "[CV 2/5] END classifier__colsample_bytree=0.7, classifier__learning_rate=0.05, classifier__max_depth=8, classifier__n_estimators=150, classifier__reg_alpha=0.0, classifier__reg_lambda=0.8, classifier__subsample=0.7;, score=0.968 total time=   1.1s\n",
      "[CV 5/5] END classifier__colsample_bytree=0.7, classifier__learning_rate=0.05, classifier__max_depth=8, classifier__n_estimators=150, classifier__reg_alpha=0.0, classifier__reg_lambda=0.8, classifier__subsample=0.7;, score=0.945 total time=   0.5s\n"
     ]
    },
    {
     "name": "stderr",
     "output_type": "stream",
     "text": [
      "INFO:root:Iteration 39: tested parameters: [0.7, 0.05, 8, 150, 0.0, 0.8, 0.7], score: 0.964340219291276\n"
     ]
    },
    {
     "name": "stdout",
     "output_type": "stream",
     "text": [
      "Fitting 5 folds for each of 1 candidates, totalling 5 fits\n",
      "[CV 3/5] END classifier__colsample_bytree=1.0, classifier__learning_rate=0.15, classifier__max_depth=10, classifier__n_estimators=250, classifier__reg_alpha=0.0, classifier__reg_lambda=0.2, classifier__subsample=0.7;, score=0.957 total time=   0.9s\n",
      "[CV 1/5] END classifier__colsample_bytree=1.0, classifier__learning_rate=0.15, classifier__max_depth=10, classifier__n_estimators=250, classifier__reg_alpha=0.0, classifier__reg_lambda=0.2, classifier__subsample=0.7;, score=0.968 total time=   0.9s\n",
      "[CV 4/5] END classifier__colsample_bytree=1.0, classifier__learning_rate=0.15, classifier__max_depth=10, classifier__n_estimators=250, classifier__reg_alpha=0.0, classifier__reg_lambda=0.2, classifier__subsample=0.7;, score=0.975 total time=   0.9s\n",
      "[CV 2/5] END classifier__colsample_bytree=1.0, classifier__learning_rate=0.15, classifier__max_depth=10, classifier__n_estimators=250, classifier__reg_alpha=0.0, classifier__reg_lambda=0.2, classifier__subsample=0.7;, score=0.962 total time=   0.9s\n",
      "[CV 5/5] END classifier__colsample_bytree=1.0, classifier__learning_rate=0.15, classifier__max_depth=10, classifier__n_estimators=250, classifier__reg_alpha=0.0, classifier__reg_lambda=0.2, classifier__subsample=0.7;, score=0.949 total time=   0.5s\n"
     ]
    },
    {
     "name": "stderr",
     "output_type": "stream",
     "text": [
      "INFO:root:Iteration 40: tested parameters: [1.0, 0.15, 10, 250, 0.0, 0.2, 0.7], score: 0.9622990094814343\n"
     ]
    },
    {
     "name": "stdout",
     "output_type": "stream",
     "text": [
      "Fitting 5 folds for each of 1 candidates, totalling 5 fits\n",
      "[CV 4/5] END classifier__colsample_bytree=0.95, classifier__learning_rate=0.2, classifier__max_depth=8, classifier__n_estimators=150, classifier__reg_alpha=0.8, classifier__reg_lambda=1.0, classifier__subsample=0.8;, score=0.960 total time=   0.7s\n",
      "[CV 3/5] END classifier__colsample_bytree=0.95, classifier__learning_rate=0.2, classifier__max_depth=8, classifier__n_estimators=150, classifier__reg_alpha=0.8, classifier__reg_lambda=1.0, classifier__subsample=0.8;, score=0.954 total time=   0.8s\n",
      "[CV 1/5] END classifier__colsample_bytree=0.95, classifier__learning_rate=0.2, classifier__max_depth=8, classifier__n_estimators=150, classifier__reg_alpha=0.8, classifier__reg_lambda=1.0, classifier__subsample=0.8;, score=0.971 total time=   0.8s\n",
      "[CV 2/5] END classifier__colsample_bytree=0.95, classifier__learning_rate=0.2, classifier__max_depth=8, classifier__n_estimators=150, classifier__reg_alpha=0.8, classifier__reg_lambda=1.0, classifier__subsample=0.8;, score=0.965 total time=   0.8s\n",
      "[CV 5/5] END classifier__colsample_bytree=0.95, classifier__learning_rate=0.2, classifier__max_depth=8, classifier__n_estimators=150, classifier__reg_alpha=0.8, classifier__reg_lambda=1.0, classifier__subsample=0.8;, score=0.938 total time=   0.4s\n"
     ]
    },
    {
     "name": "stderr",
     "output_type": "stream",
     "text": [
      "INFO:root:Iteration 41: tested parameters: [0.95, 0.2, 8, 150, 0.8, 1.0, 0.8], score: 0.957732871915297\n"
     ]
    },
    {
     "name": "stdout",
     "output_type": "stream",
     "text": [
      "Fitting 5 folds for each of 1 candidates, totalling 5 fits\n",
      "[CV 2/5] END classifier__colsample_bytree=0.8, classifier__learning_rate=0.2, classifier__max_depth=3, classifier__n_estimators=150, classifier__reg_alpha=0.2, classifier__reg_lambda=0.4, classifier__subsample=0.75;, score=0.965 total time=   0.7s\n",
      "[CV 1/5] END classifier__colsample_bytree=0.8, classifier__learning_rate=0.2, classifier__max_depth=3, classifier__n_estimators=150, classifier__reg_alpha=0.2, classifier__reg_lambda=0.4, classifier__subsample=0.75;, score=0.975 total time=   0.8s\n",
      "[CV 4/5] END classifier__colsample_bytree=0.8, classifier__learning_rate=0.2, classifier__max_depth=3, classifier__n_estimators=150, classifier__reg_alpha=0.2, classifier__reg_lambda=0.4, classifier__subsample=0.75;, score=0.968 total time=   0.7s\n",
      "[CV 3/5] END classifier__colsample_bytree=0.8, classifier__learning_rate=0.2, classifier__max_depth=3, classifier__n_estimators=150, classifier__reg_alpha=0.2, classifier__reg_lambda=0.4, classifier__subsample=0.75;, score=0.950 total time=   0.7s\n",
      "[CV 5/5] END classifier__colsample_bytree=0.8, classifier__learning_rate=0.2, classifier__max_depth=3, classifier__n_estimators=150, classifier__reg_alpha=0.2, classifier__reg_lambda=0.4, classifier__subsample=0.75;, score=0.941 total time=   0.3s\n"
     ]
    },
    {
     "name": "stderr",
     "output_type": "stream",
     "text": [
      "INFO:root:Iteration 42: tested parameters: [0.8, 0.2, 3, 150, 0.2, 0.4, 0.75], score: 0.9599569186221022\n"
     ]
    },
    {
     "name": "stdout",
     "output_type": "stream",
     "text": [
      "Fitting 5 folds for each of 1 candidates, totalling 5 fits\n",
      "[CV 4/5] END classifier__colsample_bytree=1.0, classifier__learning_rate=0.15, classifier__max_depth=9, classifier__n_estimators=300, classifier__reg_alpha=0.6, classifier__reg_lambda=0.6, classifier__subsample=1.0;, score=0.961 total time=   1.0s\n",
      "[CV 1/5] END classifier__colsample_bytree=1.0, classifier__learning_rate=0.15, classifier__max_depth=9, classifier__n_estimators=300, classifier__reg_alpha=0.6, classifier__reg_lambda=0.6, classifier__subsample=1.0;, score=0.957 total time=   1.1s\n",
      "[CV 2/5] END classifier__colsample_bytree=1.0, classifier__learning_rate=0.15, classifier__max_depth=9, classifier__n_estimators=300, classifier__reg_alpha=0.6, classifier__reg_lambda=0.6, classifier__subsample=1.0;, score=0.962 total time=   1.1s\n",
      "[CV 3/5] END classifier__colsample_bytree=1.0, classifier__learning_rate=0.15, classifier__max_depth=9, classifier__n_estimators=300, classifier__reg_alpha=0.6, classifier__reg_lambda=0.6, classifier__subsample=1.0;, score=0.939 total time=   1.1s\n",
      "[CV 5/5] END classifier__colsample_bytree=1.0, classifier__learning_rate=0.15, classifier__max_depth=9, classifier__n_estimators=300, classifier__reg_alpha=0.6, classifier__reg_lambda=0.6, classifier__subsample=1.0;, score=0.934 total time=   0.6s\n"
     ]
    },
    {
     "name": "stderr",
     "output_type": "stream",
     "text": [
      "INFO:root:Iteration 43: tested parameters: [1.0, 0.15, 9, 300, 0.6, 0.6, 1.0], score: 0.9507097009610913\n"
     ]
    },
    {
     "name": "stdout",
     "output_type": "stream",
     "text": [
      "Fitting 5 folds for each of 1 candidates, totalling 5 fits\n",
      "[CV 1/5] END classifier__colsample_bytree=0.85, classifier__learning_rate=0.15, classifier__max_depth=6, classifier__n_estimators=200, classifier__reg_alpha=0.6, classifier__reg_lambda=0.4, classifier__subsample=0.7;, score=0.975 total time=   1.0s\n",
      "[CV 3/5] END classifier__colsample_bytree=0.85, classifier__learning_rate=0.15, classifier__max_depth=6, classifier__n_estimators=200, classifier__reg_alpha=0.6, classifier__reg_lambda=0.4, classifier__subsample=0.7;, score=0.957 total time=   1.0s\n",
      "[CV 2/5] END classifier__colsample_bytree=0.85, classifier__learning_rate=0.15, classifier__max_depth=6, classifier__n_estimators=200, classifier__reg_alpha=0.6, classifier__reg_lambda=0.4, classifier__subsample=0.7;, score=0.958 total time=   1.1s\n",
      "[CV 4/5] END classifier__colsample_bytree=0.85, classifier__learning_rate=0.15, classifier__max_depth=6, classifier__n_estimators=200, classifier__reg_alpha=0.6, classifier__reg_lambda=0.4, classifier__subsample=0.7;, score=0.972 total time=   1.0s\n",
      "[CV 5/5] END classifier__colsample_bytree=0.85, classifier__learning_rate=0.15, classifier__max_depth=6, classifier__n_estimators=200, classifier__reg_alpha=0.6, classifier__reg_lambda=0.4, classifier__subsample=0.7;, score=0.938 total time=   0.5s\n"
     ]
    },
    {
     "name": "stderr",
     "output_type": "stream",
     "text": [
      "INFO:root:Iteration 44: tested parameters: [0.85, 0.15, 6, 200, 0.6, 0.4, 0.7], score: 0.960106708806375\n"
     ]
    },
    {
     "name": "stdout",
     "output_type": "stream",
     "text": [
      "Fitting 5 folds for each of 1 candidates, totalling 5 fits\n",
      "[CV 3/5] END classifier__colsample_bytree=0.7, classifier__learning_rate=0.2, classifier__max_depth=5, classifier__n_estimators=300, classifier__reg_alpha=0.0, classifier__reg_lambda=0.8, classifier__subsample=0.75;, score=0.950 total time=   1.1s\n",
      "[CV 2/5] END classifier__colsample_bytree=0.7, classifier__learning_rate=0.2, classifier__max_depth=5, classifier__n_estimators=300, classifier__reg_alpha=0.0, classifier__reg_lambda=0.8, classifier__subsample=0.75;, score=0.962 total time=   1.1s\n",
      "[CV 4/5] END classifier__colsample_bytree=0.7, classifier__learning_rate=0.2, classifier__max_depth=5, classifier__n_estimators=300, classifier__reg_alpha=0.0, classifier__reg_lambda=0.8, classifier__subsample=0.75;, score=0.979 total time=   1.1s\n",
      "[CV 1/5] END classifier__colsample_bytree=0.7, classifier__learning_rate=0.2, classifier__max_depth=5, classifier__n_estimators=300, classifier__reg_alpha=0.0, classifier__reg_lambda=0.8, classifier__subsample=0.75;, score=0.979 total time=   1.2s\n",
      "[CV 5/5] END classifier__colsample_bytree=0.7, classifier__learning_rate=0.2, classifier__max_depth=5, classifier__n_estimators=300, classifier__reg_alpha=0.0, classifier__reg_lambda=0.8, classifier__subsample=0.75;, score=0.952 total time=   0.5s\n"
     ]
    },
    {
     "name": "stderr",
     "output_type": "stream",
     "text": [
      "INFO:root:Iteration 45: tested parameters: [0.7, 0.2, 5, 300, 0.0, 0.8, 0.75], score: 0.9643944300251309\n"
     ]
    },
    {
     "name": "stdout",
     "output_type": "stream",
     "text": [
      "Fitting 5 folds for each of 1 candidates, totalling 5 fits\n",
      "[CV 3/5] END classifier__colsample_bytree=0.7, classifier__learning_rate=0.1, classifier__max_depth=5, classifier__n_estimators=250, classifier__reg_alpha=0.8, classifier__reg_lambda=1.0, classifier__subsample=0.9;, score=0.947 total time=   1.6s\n",
      "[CV 2/5] END classifier__colsample_bytree=0.7, classifier__learning_rate=0.1, classifier__max_depth=5, classifier__n_estimators=250, classifier__reg_alpha=0.8, classifier__reg_lambda=1.0, classifier__subsample=0.9;, score=0.965 total time=   1.6s\n",
      "[CV 1/5] END classifier__colsample_bytree=0.7, classifier__learning_rate=0.1, classifier__max_depth=5, classifier__n_estimators=250, classifier__reg_alpha=0.8, classifier__reg_lambda=1.0, classifier__subsample=0.9;, score=0.979 total time=   1.7s\n",
      "[CV 4/5] END classifier__colsample_bytree=0.7, classifier__learning_rate=0.1, classifier__max_depth=5, classifier__n_estimators=250, classifier__reg_alpha=0.8, classifier__reg_lambda=1.0, classifier__subsample=0.9;, score=0.972 total time=   1.6s\n",
      "[CV 5/5] END classifier__colsample_bytree=0.7, classifier__learning_rate=0.1, classifier__max_depth=5, classifier__n_estimators=250, classifier__reg_alpha=0.8, classifier__reg_lambda=1.0, classifier__subsample=0.9;, score=0.935 total time=   0.6s\n"
     ]
    },
    {
     "name": "stderr",
     "output_type": "stream",
     "text": [
      "INFO:root:Iteration 46: tested parameters: [0.7, 0.1, 5, 250, 0.8, 1.0, 0.9], score: 0.9594400421397085\n"
     ]
    },
    {
     "name": "stdout",
     "output_type": "stream",
     "text": [
      "Fitting 5 folds for each of 1 candidates, totalling 5 fits\n",
      "[CV 4/5] END classifier__colsample_bytree=0.85, classifier__learning_rate=0.15, classifier__max_depth=5, classifier__n_estimators=300, classifier__reg_alpha=0.6, classifier__reg_lambda=0.4, classifier__subsample=0.95;, score=0.961 total time=   1.1s\n",
      "[CV 3/5] END classifier__colsample_bytree=0.85, classifier__learning_rate=0.15, classifier__max_depth=5, classifier__n_estimators=300, classifier__reg_alpha=0.6, classifier__reg_lambda=0.4, classifier__subsample=0.95;, score=0.957 total time=   1.1s\n",
      "[CV 2/5] END classifier__colsample_bytree=0.85, classifier__learning_rate=0.15, classifier__max_depth=5, classifier__n_estimators=300, classifier__reg_alpha=0.6, classifier__reg_lambda=0.4, classifier__subsample=0.95;, score=0.965 total time=   1.2s\n",
      "[CV 1/5] END classifier__colsample_bytree=0.85, classifier__learning_rate=0.15, classifier__max_depth=5, classifier__n_estimators=300, classifier__reg_alpha=0.6, classifier__reg_lambda=0.4, classifier__subsample=0.95;, score=0.972 total time=   1.3s\n",
      "[CV 5/5] END classifier__colsample_bytree=0.85, classifier__learning_rate=0.15, classifier__max_depth=5, classifier__n_estimators=300, classifier__reg_alpha=0.6, classifier__reg_lambda=0.4, classifier__subsample=0.95;, score=0.942 total time=   0.7s\n"
     ]
    },
    {
     "name": "stderr",
     "output_type": "stream",
     "text": [
      "INFO:root:Iteration 47: tested parameters: [0.85, 0.15, 5, 300, 0.6, 0.4, 0.95], score: 0.9592937184761434\n"
     ]
    },
    {
     "name": "stdout",
     "output_type": "stream",
     "text": [
      "Fitting 5 folds for each of 1 candidates, totalling 5 fits\n",
      "[CV 4/5] END classifier__colsample_bytree=0.7, classifier__learning_rate=0.05, classifier__max_depth=5, classifier__n_estimators=150, classifier__reg_alpha=1.0, classifier__reg_lambda=0.6, classifier__subsample=1.0;, score=0.964 total time=   1.0s\n",
      "[CV 3/5] END classifier__colsample_bytree=0.7, classifier__learning_rate=0.05, classifier__max_depth=5, classifier__n_estimators=150, classifier__reg_alpha=1.0, classifier__reg_lambda=0.6, classifier__subsample=1.0;, score=0.950 total time=   1.0s\n",
      "[CV 2/5] END classifier__colsample_bytree=0.7, classifier__learning_rate=0.05, classifier__max_depth=5, classifier__n_estimators=150, classifier__reg_alpha=1.0, classifier__reg_lambda=0.6, classifier__subsample=1.0;, score=0.962 total time=   1.0s\n",
      "[CV 1/5] END classifier__colsample_bytree=0.7, classifier__learning_rate=0.05, classifier__max_depth=5, classifier__n_estimators=150, classifier__reg_alpha=1.0, classifier__reg_lambda=0.6, classifier__subsample=1.0;, score=0.972 total time=   1.0s\n",
      "[CV 5/5] END classifier__colsample_bytree=0.7, classifier__learning_rate=0.05, classifier__max_depth=5, classifier__n_estimators=150, classifier__reg_alpha=1.0, classifier__reg_lambda=0.6, classifier__subsample=1.0;, score=0.938 total time=   0.5s\n"
     ]
    },
    {
     "name": "stderr",
     "output_type": "stream",
     "text": [
      "INFO:root:Iteration 48: tested parameters: [0.7, 0.05, 5, 150, 1.0, 0.6, 1.0], score: 0.9573099328471963\n"
     ]
    },
    {
     "name": "stdout",
     "output_type": "stream",
     "text": [
      "Fitting 5 folds for each of 1 candidates, totalling 5 fits\n",
      "[CV 1/5] END classifier__colsample_bytree=0.85, classifier__learning_rate=0.1, classifier__max_depth=3, classifier__n_estimators=200, classifier__reg_alpha=0.6, classifier__reg_lambda=0.4, classifier__subsample=1.0;, score=0.965 total time=   1.2s\n",
      "[CV 4/5] END classifier__colsample_bytree=0.85, classifier__learning_rate=0.1, classifier__max_depth=3, classifier__n_estimators=200, classifier__reg_alpha=0.6, classifier__reg_lambda=0.4, classifier__subsample=1.0;, score=0.950 total time=   1.2s\n",
      "[CV 2/5] END classifier__colsample_bytree=0.85, classifier__learning_rate=0.1, classifier__max_depth=3, classifier__n_estimators=200, classifier__reg_alpha=0.6, classifier__reg_lambda=0.4, classifier__subsample=1.0;, score=0.958 total time=   1.3s\n",
      "[CV 3/5] END classifier__colsample_bytree=0.85, classifier__learning_rate=0.1, classifier__max_depth=3, classifier__n_estimators=200, classifier__reg_alpha=0.6, classifier__reg_lambda=0.4, classifier__subsample=1.0;, score=0.943 total time=   1.3s\n",
      "[CV 5/5] END classifier__colsample_bytree=0.85, classifier__learning_rate=0.1, classifier__max_depth=3, classifier__n_estimators=200, classifier__reg_alpha=0.6, classifier__reg_lambda=0.4, classifier__subsample=1.0;, score=0.938 total time=   0.6s\n"
     ]
    },
    {
     "name": "stderr",
     "output_type": "stream",
     "text": [
      "INFO:root:Iteration 49: tested parameters: [0.85, 0.1, 3, 200, 0.6, 0.4, 1.0], score: 0.9509105767136912\n"
     ]
    },
    {
     "name": "stdout",
     "output_type": "stream",
     "text": [
      "Fitting 5 folds for each of 1 candidates, totalling 5 fits\n",
      "[CV 3/5] END classifier__colsample_bytree=0.7, classifier__learning_rate=0.2, classifier__max_depth=5, classifier__n_estimators=300, classifier__reg_alpha=0.0, classifier__reg_lambda=0.4, classifier__subsample=0.7;, score=0.950 total time=   0.8s\n",
      "[CV 4/5] END classifier__colsample_bytree=0.7, classifier__learning_rate=0.2, classifier__max_depth=5, classifier__n_estimators=300, classifier__reg_alpha=0.0, classifier__reg_lambda=0.4, classifier__subsample=0.7;, score=0.979 total time=   0.7s\n",
      "[CV 1/5] END classifier__colsample_bytree=0.7, classifier__learning_rate=0.2, classifier__max_depth=5, classifier__n_estimators=300, classifier__reg_alpha=0.0, classifier__reg_lambda=0.4, classifier__subsample=0.7;, score=0.975 total time=   0.8s\n",
      "[CV 2/5] END classifier__colsample_bytree=0.7, classifier__learning_rate=0.2, classifier__max_depth=5, classifier__n_estimators=300, classifier__reg_alpha=0.0, classifier__reg_lambda=0.4, classifier__subsample=0.7;, score=0.962 total time=   0.8s\n",
      "[CV 5/5] END classifier__colsample_bytree=0.7, classifier__learning_rate=0.2, classifier__max_depth=5, classifier__n_estimators=300, classifier__reg_alpha=0.0, classifier__reg_lambda=0.4, classifier__subsample=0.7;, score=0.948 total time=   0.5s\n"
     ]
    },
    {
     "name": "stderr",
     "output_type": "stream",
     "text": [
      "INFO:root:Iteration 50: tested parameters: [0.7, 0.2, 5, 300, 0.0, 0.4, 0.7], score: 0.9628405165057\n"
     ]
    },
    {
     "name": "stdout",
     "output_type": "stream",
     "text": [
      "Fitting 5 folds for each of 1 candidates, totalling 5 fits\n",
      "[CV 3/5] END classifier__colsample_bytree=1.0, classifier__learning_rate=0.1, classifier__max_depth=5, classifier__n_estimators=150, classifier__reg_alpha=0.0, classifier__reg_lambda=0.0, classifier__subsample=0.8;, score=0.947 total time=   0.7s\n",
      "[CV 4/5] END classifier__colsample_bytree=1.0, classifier__learning_rate=0.1, classifier__max_depth=5, classifier__n_estimators=150, classifier__reg_alpha=0.0, classifier__reg_lambda=0.0, classifier__subsample=0.8;, score=0.968 total time=   0.7s\n",
      "[CV 2/5] END classifier__colsample_bytree=1.0, classifier__learning_rate=0.1, classifier__max_depth=5, classifier__n_estimators=150, classifier__reg_alpha=0.0, classifier__reg_lambda=0.0, classifier__subsample=0.8;, score=0.961 total time=   0.7s\n",
      "[CV 1/5] END classifier__colsample_bytree=1.0, classifier__learning_rate=0.1, classifier__max_depth=5, classifier__n_estimators=150, classifier__reg_alpha=0.0, classifier__reg_lambda=0.0, classifier__subsample=0.8;, score=0.968 total time=   0.7s\n",
      "[CV 5/5] END classifier__colsample_bytree=1.0, classifier__learning_rate=0.1, classifier__max_depth=5, classifier__n_estimators=150, classifier__reg_alpha=0.0, classifier__reg_lambda=0.0, classifier__subsample=0.8;, score=0.945 total time=   0.4s\n"
     ]
    },
    {
     "name": "stderr",
     "output_type": "stream",
     "text": [
      "INFO:root:Iteration 51: tested parameters: [1.0, 0.1, 5, 150, 0.0, 0.0, 0.8], score: 0.9579636692150595\n"
     ]
    },
    {
     "name": "stdout",
     "output_type": "stream",
     "text": [
      "Fitting 5 folds for each of 1 candidates, totalling 5 fits\n",
      "[CV 4/5] END classifier__colsample_bytree=0.7, classifier__learning_rate=0.15, classifier__max_depth=10, classifier__n_estimators=250, classifier__reg_alpha=1.0, classifier__reg_lambda=0.6, classifier__subsample=0.9;, score=0.968 total time=   0.8s\n",
      "[CV 2/5] END classifier__colsample_bytree=0.7, classifier__learning_rate=0.15, classifier__max_depth=10, classifier__n_estimators=250, classifier__reg_alpha=1.0, classifier__reg_lambda=0.6, classifier__subsample=0.9;, score=0.962 total time=   0.8s\n",
      "[CV 1/5] END classifier__colsample_bytree=0.7, classifier__learning_rate=0.15, classifier__max_depth=10, classifier__n_estimators=250, classifier__reg_alpha=1.0, classifier__reg_lambda=0.6, classifier__subsample=0.9;, score=0.972 total time=   0.8s\n",
      "[CV 3/5] END classifier__colsample_bytree=0.7, classifier__learning_rate=0.15, classifier__max_depth=10, classifier__n_estimators=250, classifier__reg_alpha=1.0, classifier__reg_lambda=0.6, classifier__subsample=0.9;, score=0.957 total time=   0.8s\n",
      "[CV 5/5] END classifier__colsample_bytree=0.7, classifier__learning_rate=0.15, classifier__max_depth=10, classifier__n_estimators=250, classifier__reg_alpha=1.0, classifier__reg_lambda=0.6, classifier__subsample=0.9;, score=0.945 total time=   0.5s\n"
     ]
    },
    {
     "name": "stderr",
     "output_type": "stream",
     "text": [
      "INFO:root:Iteration 52: tested parameters: [0.7, 0.15, 10, 250, 1.0, 0.6, 0.9], score: 0.9607945394942057\n"
     ]
    },
    {
     "name": "stdout",
     "output_type": "stream",
     "text": [
      "Fitting 5 folds for each of 1 candidates, totalling 5 fits\n",
      "[CV 1/5] END classifier__colsample_bytree=1.0, classifier__learning_rate=0.05, classifier__max_depth=4, classifier__n_estimators=150, classifier__reg_alpha=0.8, classifier__reg_lambda=0.8, classifier__subsample=0.7;, score=0.965 total time=   0.8s\n",
      "[CV 2/5] END classifier__colsample_bytree=1.0, classifier__learning_rate=0.05, classifier__max_depth=4, classifier__n_estimators=150, classifier__reg_alpha=0.8, classifier__reg_lambda=0.8, classifier__subsample=0.7;, score=0.965 total time=   0.8s\n",
      "[CV 3/5] END classifier__colsample_bytree=1.0, classifier__learning_rate=0.05, classifier__max_depth=4, classifier__n_estimators=150, classifier__reg_alpha=0.8, classifier__reg_lambda=0.8, classifier__subsample=0.7;, score=0.943 total time=   0.8s\n",
      "[CV 4/5] END classifier__colsample_bytree=1.0, classifier__learning_rate=0.05, classifier__max_depth=4, classifier__n_estimators=150, classifier__reg_alpha=0.8, classifier__reg_lambda=0.8, classifier__subsample=0.7;, score=0.961 total time=   0.8s\n",
      "[CV 5/5] END classifier__colsample_bytree=1.0, classifier__learning_rate=0.05, classifier__max_depth=4, classifier__n_estimators=150, classifier__reg_alpha=0.8, classifier__reg_lambda=0.8, classifier__subsample=0.7;, score=0.938 total time=   0.4s\n"
     ]
    },
    {
     "name": "stderr",
     "output_type": "stream",
     "text": [
      "INFO:root:Iteration 53: tested parameters: [1.0, 0.05, 4, 150, 0.8, 0.8, 0.7], score: 0.9542072379069042\n"
     ]
    },
    {
     "name": "stdout",
     "output_type": "stream",
     "text": [
      "Fitting 5 folds for each of 1 candidates, totalling 5 fits\n",
      "[CV 2/5] END classifier__colsample_bytree=0.7, classifier__learning_rate=0.05, classifier__max_depth=5, classifier__n_estimators=50, classifier__reg_alpha=0.0, classifier__reg_lambda=1.0, classifier__subsample=0.8;, score=0.951 total time=   0.4s\n",
      "[CV 4/5] END classifier__colsample_bytree=0.7, classifier__learning_rate=0.05, classifier__max_depth=5, classifier__n_estimators=50, classifier__reg_alpha=0.0, classifier__reg_lambda=1.0, classifier__subsample=0.8;, score=0.964 total time=   0.4s\n",
      "[CV 1/5] END classifier__colsample_bytree=0.7, classifier__learning_rate=0.05, classifier__max_depth=5, classifier__n_estimators=50, classifier__reg_alpha=0.0, classifier__reg_lambda=1.0, classifier__subsample=0.8;, score=0.962 total time=   0.4s\n",
      "[CV 3/5] END classifier__colsample_bytree=0.7, classifier__learning_rate=0.05, classifier__max_depth=5, classifier__n_estimators=50, classifier__reg_alpha=0.0, classifier__reg_lambda=1.0, classifier__subsample=0.8;, score=0.946 total time=   0.4s\n",
      "[CV 5/5] END classifier__colsample_bytree=0.7, classifier__learning_rate=0.05, classifier__max_depth=5, classifier__n_estimators=50, classifier__reg_alpha=0.0, classifier__reg_lambda=1.0, classifier__subsample=0.8;, score=0.942 total time=   0.2s\n"
     ]
    },
    {
     "name": "stderr",
     "output_type": "stream",
     "text": [
      "INFO:root:Iteration 54: tested parameters: [0.7, 0.05, 5, 50, 0.0, 1.0, 0.8], score: 0.9531210986928451\n"
     ]
    },
    {
     "name": "stdout",
     "output_type": "stream",
     "text": [
      "Fitting 5 folds for each of 1 candidates, totalling 5 fits\n",
      "[CV 2/5] END classifier__colsample_bytree=1.0, classifier__learning_rate=0.05, classifier__max_depth=4, classifier__n_estimators=250, classifier__reg_alpha=0.2, classifier__reg_lambda=0.0, classifier__subsample=0.9;, score=0.965 total time=   1.9s\n",
      "[CV 1/5] END classifier__colsample_bytree=1.0, classifier__learning_rate=0.05, classifier__max_depth=4, classifier__n_estimators=250, classifier__reg_alpha=0.2, classifier__reg_lambda=0.0, classifier__subsample=0.9;, score=0.972 total time=   1.9s\n",
      "[CV 3/5] END classifier__colsample_bytree=1.0, classifier__learning_rate=0.05, classifier__max_depth=4, classifier__n_estimators=250, classifier__reg_alpha=0.2, classifier__reg_lambda=0.0, classifier__subsample=0.9;, score=0.946 total time=   1.9s\n",
      "[CV 4/5] END classifier__colsample_bytree=1.0, classifier__learning_rate=0.05, classifier__max_depth=4, classifier__n_estimators=250, classifier__reg_alpha=0.2, classifier__reg_lambda=0.0, classifier__subsample=0.9;, score=0.954 total time=   1.9s\n",
      "[CV 5/5] END classifier__colsample_bytree=1.0, classifier__learning_rate=0.05, classifier__max_depth=4, classifier__n_estimators=250, classifier__reg_alpha=0.2, classifier__reg_lambda=0.0, classifier__subsample=0.9;, score=0.942 total time=   0.8s\n"
     ]
    },
    {
     "name": "stderr",
     "output_type": "stream",
     "text": [
      "INFO:root:Iteration 55: tested parameters: [1.0, 0.05, 4, 250, 0.2, 0.0, 0.9], score: 0.9556622643619306\n"
     ]
    },
    {
     "name": "stdout",
     "output_type": "stream",
     "text": [
      "Fitting 5 folds for each of 1 candidates, totalling 5 fits\n",
      "[CV 4/5] END classifier__colsample_bytree=0.85, classifier__learning_rate=0.01, classifier__max_depth=3, classifier__n_estimators=150, classifier__reg_alpha=1.0, classifier__reg_lambda=0.4, classifier__subsample=0.8;, score=0.915 total time=   0.8s\n",
      "[CV 1/5] END classifier__colsample_bytree=0.85, classifier__learning_rate=0.01, classifier__max_depth=3, classifier__n_estimators=150, classifier__reg_alpha=1.0, classifier__reg_lambda=0.4, classifier__subsample=0.8;, score=0.905 total time=   0.9s\n",
      "[CV 2/5] END classifier__colsample_bytree=0.85, classifier__learning_rate=0.01, classifier__max_depth=3, classifier__n_estimators=150, classifier__reg_alpha=1.0, classifier__reg_lambda=0.4, classifier__subsample=0.8;, score=0.930 total time=   0.8s\n",
      "[CV 3/5] END classifier__colsample_bytree=0.85, classifier__learning_rate=0.01, classifier__max_depth=3, classifier__n_estimators=150, classifier__reg_alpha=1.0, classifier__reg_lambda=0.4, classifier__subsample=0.8;, score=0.904 total time=   0.8s\n",
      "[CV 5/5] END classifier__colsample_bytree=0.85, classifier__learning_rate=0.01, classifier__max_depth=3, classifier__n_estimators=150, classifier__reg_alpha=1.0, classifier__reg_lambda=0.4, classifier__subsample=0.8;, score=0.917 total time=   0.4s\n"
     ]
    },
    {
     "name": "stderr",
     "output_type": "stream",
     "text": [
      "INFO:root:Iteration 56: tested parameters: [0.85, 0.01, 3, 150, 1.0, 0.4, 0.8], score: 0.9142711596070884\n"
     ]
    },
    {
     "name": "stdout",
     "output_type": "stream",
     "text": [
      "Fitting 5 folds for each of 1 candidates, totalling 5 fits\n",
      "[CV 3/5] END classifier__colsample_bytree=0.9, classifier__learning_rate=0.05, classifier__max_depth=10, classifier__n_estimators=250, classifier__reg_alpha=1.0, classifier__reg_lambda=0.8, classifier__subsample=1.0;, score=0.943 total time=   1.5s\n",
      "[CV 1/5] END classifier__colsample_bytree=0.9, classifier__learning_rate=0.05, classifier__max_depth=10, classifier__n_estimators=250, classifier__reg_alpha=1.0, classifier__reg_lambda=0.8, classifier__subsample=1.0;, score=0.968 total time=   1.5s\n",
      "[CV 4/5] END classifier__colsample_bytree=0.9, classifier__learning_rate=0.05, classifier__max_depth=10, classifier__n_estimators=250, classifier__reg_alpha=1.0, classifier__reg_lambda=0.8, classifier__subsample=1.0;, score=0.964 total time=   1.5s\n",
      "[CV 2/5] END classifier__colsample_bytree=0.9, classifier__learning_rate=0.05, classifier__max_depth=10, classifier__n_estimators=250, classifier__reg_alpha=1.0, classifier__reg_lambda=0.8, classifier__subsample=1.0;, score=0.969 total time=   1.6s\n",
      "[CV 5/5] END classifier__colsample_bytree=0.9, classifier__learning_rate=0.05, classifier__max_depth=10, classifier__n_estimators=250, classifier__reg_alpha=1.0, classifier__reg_lambda=0.8, classifier__subsample=1.0;, score=0.935 total time=   0.9s\n"
     ]
    },
    {
     "name": "stderr",
     "output_type": "stream",
     "text": [
      "INFO:root:Iteration 57: tested parameters: [0.9, 0.05, 10, 250, 1.0, 0.8, 1.0], score: 0.9557117078941328\n"
     ]
    },
    {
     "name": "stdout",
     "output_type": "stream",
     "text": [
      "Fitting 5 folds for each of 1 candidates, totalling 5 fits\n",
      "[CV 4/5] END classifier__colsample_bytree=0.7, classifier__learning_rate=0.2, classifier__max_depth=3, classifier__n_estimators=150, classifier__reg_alpha=0.0, classifier__reg_lambda=0.2, classifier__subsample=0.9;, score=0.975 total time=   0.5s\n",
      "[CV 3/5] END classifier__colsample_bytree=0.7, classifier__learning_rate=0.2, classifier__max_depth=3, classifier__n_estimators=150, classifier__reg_alpha=0.0, classifier__reg_lambda=0.2, classifier__subsample=0.9;, score=0.957 total time=   0.5s\n",
      "[CV 2/5] END classifier__colsample_bytree=0.7, classifier__learning_rate=0.2, classifier__max_depth=3, classifier__n_estimators=150, classifier__reg_alpha=0.0, classifier__reg_lambda=0.2, classifier__subsample=0.9;, score=0.962 total time=   0.6s\n",
      "[CV 1/5] END classifier__colsample_bytree=0.7, classifier__learning_rate=0.2, classifier__max_depth=3, classifier__n_estimators=150, classifier__reg_alpha=0.0, classifier__reg_lambda=0.2, classifier__subsample=0.9;, score=0.975 total time=   0.6s\n",
      "[CV 5/5] END classifier__colsample_bytree=0.7, classifier__learning_rate=0.2, classifier__max_depth=3, classifier__n_estimators=150, classifier__reg_alpha=0.0, classifier__reg_lambda=0.2, classifier__subsample=0.9;, score=0.945 total time=   0.4s\n"
     ]
    },
    {
     "name": "stderr",
     "output_type": "stream",
     "text": [
      "INFO:root:Iteration 58: tested parameters: [0.7, 0.2, 3, 150, 0.0, 0.2, 0.9], score: 0.9627699089523339\n"
     ]
    },
    {
     "name": "stdout",
     "output_type": "stream",
     "text": [
      "Fitting 5 folds for each of 1 candidates, totalling 5 fits\n",
      "[CV 3/5] END classifier__colsample_bytree=0.85, classifier__learning_rate=0.05, classifier__max_depth=10, classifier__n_estimators=300, classifier__reg_alpha=0.6, classifier__reg_lambda=0.6, classifier__subsample=0.95;, score=0.946 total time=   1.5s\n",
      "[CV 4/5] END classifier__colsample_bytree=0.85, classifier__learning_rate=0.05, classifier__max_depth=10, classifier__n_estimators=300, classifier__reg_alpha=0.6, classifier__reg_lambda=0.6, classifier__subsample=0.95;, score=0.968 total time=   1.5s\n",
      "[CV 1/5] END classifier__colsample_bytree=0.85, classifier__learning_rate=0.05, classifier__max_depth=10, classifier__n_estimators=300, classifier__reg_alpha=0.6, classifier__reg_lambda=0.6, classifier__subsample=0.95;, score=0.975 total time=   1.6s\n",
      "[CV 2/5] END classifier__colsample_bytree=0.85, classifier__learning_rate=0.05, classifier__max_depth=10, classifier__n_estimators=300, classifier__reg_alpha=0.6, classifier__reg_lambda=0.6, classifier__subsample=0.95;, score=0.968 total time=   1.6s\n",
      "[CV 5/5] END classifier__colsample_bytree=0.85, classifier__learning_rate=0.05, classifier__max_depth=10, classifier__n_estimators=300, classifier__reg_alpha=0.6, classifier__reg_lambda=0.6, classifier__subsample=0.95;, score=0.935 total time=   0.9s\n"
     ]
    },
    {
     "name": "stderr",
     "output_type": "stream",
     "text": [
      "INFO:root:Iteration 59: tested parameters: [0.85, 0.05, 10, 300, 0.6, 0.6, 0.95], score: 0.9584789036613284\n"
     ]
    },
    {
     "name": "stdout",
     "output_type": "stream",
     "text": [
      "Fitting 5 folds for each of 1 candidates, totalling 5 fits\n",
      "[CV 2/5] END classifier__colsample_bytree=0.9, classifier__learning_rate=0.15, classifier__max_depth=10, classifier__n_estimators=100, classifier__reg_alpha=0.6, classifier__reg_lambda=0.4, classifier__subsample=1.0;, score=0.972 total time=   0.6s\n",
      "[CV 3/5] END classifier__colsample_bytree=0.9, classifier__learning_rate=0.15, classifier__max_depth=10, classifier__n_estimators=100, classifier__reg_alpha=0.6, classifier__reg_lambda=0.4, classifier__subsample=1.0;, score=0.950 total time=   0.6s\n",
      "[CV 1/5] END classifier__colsample_bytree=0.9, classifier__learning_rate=0.15, classifier__max_depth=10, classifier__n_estimators=100, classifier__reg_alpha=0.6, classifier__reg_lambda=0.4, classifier__subsample=1.0;, score=0.961 total time=   0.7s\n",
      "[CV 4/5] END classifier__colsample_bytree=0.9, classifier__learning_rate=0.15, classifier__max_depth=10, classifier__n_estimators=100, classifier__reg_alpha=0.6, classifier__reg_lambda=0.4, classifier__subsample=1.0;, score=0.957 total time=   0.6s\n",
      "[CV 5/5] END classifier__colsample_bytree=0.9, classifier__learning_rate=0.15, classifier__max_depth=10, classifier__n_estimators=100, classifier__reg_alpha=0.6, classifier__reg_lambda=0.4, classifier__subsample=1.0;, score=0.945 total time=   0.3s\n"
     ]
    },
    {
     "name": "stderr",
     "output_type": "stream",
     "text": [
      "INFO:root:Iteration 60: tested parameters: [0.9, 0.15, 10, 100, 0.6, 0.4, 1.0], score: 0.9571935307307943\n"
     ]
    },
    {
     "name": "stdout",
     "output_type": "stream",
     "text": [
      "Fitting 5 folds for each of 1 candidates, totalling 5 fits\n",
      "[CV 3/5] END classifier__colsample_bytree=0.75, classifier__learning_rate=0.01, classifier__max_depth=10, classifier__n_estimators=250, classifier__reg_alpha=0.4, classifier__reg_lambda=1.0, classifier__subsample=0.7;, score=0.943 total time=   1.9s\n",
      "[CV 1/5] END classifier__colsample_bytree=0.75, classifier__learning_rate=0.01, classifier__max_depth=10, classifier__n_estimators=250, classifier__reg_alpha=0.4, classifier__reg_lambda=1.0, classifier__subsample=0.7;, score=0.940 total time=   1.9s\n",
      "[CV 2/5] END classifier__colsample_bytree=0.75, classifier__learning_rate=0.01, classifier__max_depth=10, classifier__n_estimators=250, classifier__reg_alpha=0.4, classifier__reg_lambda=1.0, classifier__subsample=0.7;, score=0.968 total time=   1.9s\n",
      "[CV 4/5] END classifier__colsample_bytree=0.75, classifier__learning_rate=0.01, classifier__max_depth=10, classifier__n_estimators=250, classifier__reg_alpha=0.4, classifier__reg_lambda=1.0, classifier__subsample=0.7;, score=0.964 total time=   1.9s\n",
      "[CV 5/5] END classifier__colsample_bytree=0.75, classifier__learning_rate=0.01, classifier__max_depth=10, classifier__n_estimators=250, classifier__reg_alpha=0.4, classifier__reg_lambda=1.0, classifier__subsample=0.7;, score=0.932 total time=   1.0s\n"
     ]
    },
    {
     "name": "stderr",
     "output_type": "stream",
     "text": [
      "INFO:root:Iteration 61: tested parameters: [0.75, 0.01, 10, 250, 0.4, 1.0, 0.7], score: 0.9494719470781761\n"
     ]
    },
    {
     "name": "stdout",
     "output_type": "stream",
     "text": [
      "Fitting 5 folds for each of 1 candidates, totalling 5 fits\n",
      "[CV 1/5] END classifier__colsample_bytree=0.7, classifier__learning_rate=0.01, classifier__max_depth=6, classifier__n_estimators=150, classifier__reg_alpha=1.0, classifier__reg_lambda=0.6, classifier__subsample=1.0;, score=0.944 total time=   1.2s\n",
      "[CV 3/5] END classifier__colsample_bytree=0.7, classifier__learning_rate=0.01, classifier__max_depth=6, classifier__n_estimators=150, classifier__reg_alpha=1.0, classifier__reg_lambda=0.6, classifier__subsample=1.0;, score=0.932 total time=   1.2s\n",
      "[CV 2/5] END classifier__colsample_bytree=0.7, classifier__learning_rate=0.01, classifier__max_depth=6, classifier__n_estimators=150, classifier__reg_alpha=1.0, classifier__reg_lambda=0.6, classifier__subsample=1.0;, score=0.958 total time=   1.2s\n",
      "[CV 4/5] END classifier__colsample_bytree=0.7, classifier__learning_rate=0.01, classifier__max_depth=6, classifier__n_estimators=150, classifier__reg_alpha=1.0, classifier__reg_lambda=0.6, classifier__subsample=1.0;, score=0.965 total time=   1.2s\n",
      "[CV 5/5] END classifier__colsample_bytree=0.7, classifier__learning_rate=0.01, classifier__max_depth=6, classifier__n_estimators=150, classifier__reg_alpha=1.0, classifier__reg_lambda=0.6, classifier__subsample=1.0;, score=0.938 total time=   0.7s\n"
     ]
    },
    {
     "name": "stderr",
     "output_type": "stream",
     "text": [
      "INFO:root:Iteration 62: tested parameters: [0.7, 0.01, 6, 150, 1.0, 0.6, 1.0], score: 0.9473752258535351\n"
     ]
    },
    {
     "name": "stdout",
     "output_type": "stream",
     "text": [
      "Fitting 5 folds for each of 1 candidates, totalling 5 fits\n",
      "[CV 3/5] END classifier__colsample_bytree=0.75, classifier__learning_rate=0.1, classifier__max_depth=10, classifier__n_estimators=150, classifier__reg_alpha=0.2, classifier__reg_lambda=1.0, classifier__subsample=0.7;, score=0.950 total time=   0.7s\n",
      "[CV 1/5] END classifier__colsample_bytree=0.75, classifier__learning_rate=0.1, classifier__max_depth=10, classifier__n_estimators=150, classifier__reg_alpha=0.2, classifier__reg_lambda=1.0, classifier__subsample=0.7;, score=0.979 total time=   0.8s\n",
      "[CV 2/5] END classifier__colsample_bytree=0.75, classifier__learning_rate=0.1, classifier__max_depth=10, classifier__n_estimators=150, classifier__reg_alpha=0.2, classifier__reg_lambda=1.0, classifier__subsample=0.7;, score=0.972 total time=   0.8s\n",
      "[CV 4/5] END classifier__colsample_bytree=0.75, classifier__learning_rate=0.1, classifier__max_depth=10, classifier__n_estimators=150, classifier__reg_alpha=0.2, classifier__reg_lambda=1.0, classifier__subsample=0.7;, score=0.982 total time=   0.7s\n",
      "[CV 5/5] END classifier__colsample_bytree=0.75, classifier__learning_rate=0.1, classifier__max_depth=10, classifier__n_estimators=150, classifier__reg_alpha=0.2, classifier__reg_lambda=1.0, classifier__subsample=0.7;, score=0.942 total time=   0.5s\n"
     ]
    },
    {
     "name": "stderr",
     "output_type": "stream",
     "text": [
      "INFO:root:Iteration 63: tested parameters: [0.75, 0.1, 10, 150, 0.2, 1.0, 0.7], score: 0.9650100111234705\n"
     ]
    },
    {
     "name": "stdout",
     "output_type": "stream",
     "text": [
      "Fitting 5 folds for each of 1 candidates, totalling 5 fits\n",
      "[CV 2/5] END classifier__colsample_bytree=1.0, classifier__learning_rate=0.1, classifier__max_depth=10, classifier__n_estimators=50, classifier__reg_alpha=0.0, classifier__reg_lambda=0.6, classifier__subsample=1.0;, score=0.965 total time=   0.5s\n",
      "[CV 3/5] END classifier__colsample_bytree=1.0, classifier__learning_rate=0.1, classifier__max_depth=10, classifier__n_estimators=50, classifier__reg_alpha=0.0, classifier__reg_lambda=0.6, classifier__subsample=1.0;, score=0.939 total time=   0.5s\n",
      "[CV 4/5] END classifier__colsample_bytree=1.0, classifier__learning_rate=0.1, classifier__max_depth=10, classifier__n_estimators=50, classifier__reg_alpha=0.0, classifier__reg_lambda=0.6, classifier__subsample=1.0;, score=0.947 total time=   0.4s\n",
      "[CV 1/5] END classifier__colsample_bytree=1.0, classifier__learning_rate=0.1, classifier__max_depth=10, classifier__n_estimators=50, classifier__reg_alpha=0.0, classifier__reg_lambda=0.6, classifier__subsample=1.0;, score=0.951 total time=   0.5s\n",
      "[CV 5/5] END classifier__colsample_bytree=1.0, classifier__learning_rate=0.1, classifier__max_depth=10, classifier__n_estimators=50, classifier__reg_alpha=0.0, classifier__reg_lambda=0.6, classifier__subsample=1.0;, score=0.931 total time=   0.3s\n"
     ]
    },
    {
     "name": "stderr",
     "output_type": "stream",
     "text": [
      "INFO:root:Iteration 64: tested parameters: [1.0, 0.1, 10, 50, 0.0, 0.6, 1.0], score: 0.9466310185920864\n"
     ]
    },
    {
     "name": "stdout",
     "output_type": "stream",
     "text": [
      "Fitting 5 folds for each of 1 candidates, totalling 5 fits\n",
      "[CV 3/5] END classifier__colsample_bytree=0.8, classifier__learning_rate=0.01, classifier__max_depth=5, classifier__n_estimators=300, classifier__reg_alpha=0.6, classifier__reg_lambda=0.2, classifier__subsample=1.0;, score=0.940 total time=   2.8s\n",
      "[CV 1/5] END classifier__colsample_bytree=0.8, classifier__learning_rate=0.01, classifier__max_depth=5, classifier__n_estimators=300, classifier__reg_alpha=0.6, classifier__reg_lambda=0.2, classifier__subsample=1.0;, score=0.937 total time=   2.8s\n",
      "[CV 4/5] END classifier__colsample_bytree=0.8, classifier__learning_rate=0.01, classifier__max_depth=5, classifier__n_estimators=300, classifier__reg_alpha=0.6, classifier__reg_lambda=0.2, classifier__subsample=1.0;, score=0.954 total time=   2.8s\n",
      "[CV 2/5] END classifier__colsample_bytree=0.8, classifier__learning_rate=0.01, classifier__max_depth=5, classifier__n_estimators=300, classifier__reg_alpha=0.6, classifier__reg_lambda=0.2, classifier__subsample=1.0;, score=0.965 total time=   2.9s\n",
      "[CV 5/5] END classifier__colsample_bytree=0.8, classifier__learning_rate=0.01, classifier__max_depth=5, classifier__n_estimators=300, classifier__reg_alpha=0.6, classifier__reg_lambda=0.2, classifier__subsample=1.0;, score=0.931 total time=   1.3s\n"
     ]
    },
    {
     "name": "stderr",
     "output_type": "stream",
     "text": [
      "INFO:root:Iteration 65: tested parameters: [0.8, 0.01, 5, 300, 0.6, 0.2, 1.0], score: 0.9454709642106751\n"
     ]
    },
    {
     "name": "stdout",
     "output_type": "stream",
     "text": [
      "Fitting 5 folds for each of 1 candidates, totalling 5 fits\n",
      "[CV 3/5] END classifier__colsample_bytree=1.0, classifier__learning_rate=0.01, classifier__max_depth=10, classifier__n_estimators=250, classifier__reg_alpha=0.6, classifier__reg_lambda=0.4, classifier__subsample=0.9;, score=0.932 total time=   2.4s\n",
      "[CV 2/5] END classifier__colsample_bytree=1.0, classifier__learning_rate=0.01, classifier__max_depth=10, classifier__n_estimators=250, classifier__reg_alpha=0.6, classifier__reg_lambda=0.4, classifier__subsample=0.9;, score=0.965 total time=   2.4s\n",
      "[CV 4/5] END classifier__colsample_bytree=1.0, classifier__learning_rate=0.01, classifier__max_depth=10, classifier__n_estimators=250, classifier__reg_alpha=0.6, classifier__reg_lambda=0.4, classifier__subsample=0.9;, score=0.958 total time=   2.5s\n",
      "[CV 1/5] END classifier__colsample_bytree=1.0, classifier__learning_rate=0.01, classifier__max_depth=10, classifier__n_estimators=250, classifier__reg_alpha=0.6, classifier__reg_lambda=0.4, classifier__subsample=0.9;, score=0.937 total time=   2.5s\n",
      "[CV 5/5] END classifier__colsample_bytree=1.0, classifier__learning_rate=0.01, classifier__max_depth=10, classifier__n_estimators=250, classifier__reg_alpha=0.6, classifier__reg_lambda=0.4, classifier__subsample=0.9;, score=0.928 total time=   1.2s\n"
     ]
    },
    {
     "name": "stderr",
     "output_type": "stream",
     "text": [
      "INFO:root:Iteration 66: tested parameters: [1.0, 0.01, 10, 250, 0.6, 0.4, 0.9], score: 0.9439495971420332\n"
     ]
    },
    {
     "name": "stdout",
     "output_type": "stream",
     "text": [
      "Fitting 5 folds for each of 1 candidates, totalling 5 fits\n",
      "[CV 2/5] END classifier__colsample_bytree=0.75, classifier__learning_rate=0.15, classifier__max_depth=10, classifier__n_estimators=100, classifier__reg_alpha=0.8, classifier__reg_lambda=1.0, classifier__subsample=0.95;, score=0.965 total time=   0.7s\n",
      "[CV 1/5] END classifier__colsample_bytree=0.75, classifier__learning_rate=0.15, classifier__max_depth=10, classifier__n_estimators=100, classifier__reg_alpha=0.8, classifier__reg_lambda=1.0, classifier__subsample=0.95;, score=0.983 total time=   0.8s\n",
      "[CV 4/5] END classifier__colsample_bytree=0.75, classifier__learning_rate=0.15, classifier__max_depth=10, classifier__n_estimators=100, classifier__reg_alpha=0.8, classifier__reg_lambda=1.0, classifier__subsample=0.95;, score=0.961 total time=   0.7s\n",
      "[CV 3/5] END classifier__colsample_bytree=0.75, classifier__learning_rate=0.15, classifier__max_depth=10, classifier__n_estimators=100, classifier__reg_alpha=0.8, classifier__reg_lambda=1.0, classifier__subsample=0.95;, score=0.950 total time=   0.8s\n",
      "[CV 5/5] END classifier__colsample_bytree=0.75, classifier__learning_rate=0.15, classifier__max_depth=10, classifier__n_estimators=100, classifier__reg_alpha=0.8, classifier__reg_lambda=1.0, classifier__subsample=0.95;, score=0.931 total time=   0.4s\n"
     ]
    },
    {
     "name": "stderr",
     "output_type": "stream",
     "text": [
      "INFO:root:Iteration 67: tested parameters: [0.75, 0.15, 10, 100, 0.8, 1.0, 0.95], score: 0.957933930116355\n"
     ]
    },
    {
     "name": "stdout",
     "output_type": "stream",
     "text": [
      "Fitting 5 folds for each of 1 candidates, totalling 5 fits\n",
      "[CV 3/5] END classifier__colsample_bytree=1.0, classifier__learning_rate=0.1, classifier__max_depth=10, classifier__n_estimators=200, classifier__reg_alpha=0.8, classifier__reg_lambda=0.6, classifier__subsample=0.75;, score=0.947 total time=   1.1s\n",
      "[CV 2/5] END classifier__colsample_bytree=1.0, classifier__learning_rate=0.1, classifier__max_depth=10, classifier__n_estimators=200, classifier__reg_alpha=0.8, classifier__reg_lambda=0.6, classifier__subsample=0.75;, score=0.965 total time=   1.1s\n",
      "[CV 1/5] END classifier__colsample_bytree=1.0, classifier__learning_rate=0.1, classifier__max_depth=10, classifier__n_estimators=200, classifier__reg_alpha=0.8, classifier__reg_lambda=0.6, classifier__subsample=0.75;, score=0.968 total time=   1.2s\n",
      "[CV 4/5] END classifier__colsample_bytree=1.0, classifier__learning_rate=0.1, classifier__max_depth=10, classifier__n_estimators=200, classifier__reg_alpha=0.8, classifier__reg_lambda=0.6, classifier__subsample=0.75;, score=0.979 total time=   1.1s\n",
      "[CV 5/5] END classifier__colsample_bytree=1.0, classifier__learning_rate=0.1, classifier__max_depth=10, classifier__n_estimators=200, classifier__reg_alpha=0.8, classifier__reg_lambda=0.6, classifier__subsample=0.75;, score=0.942 total time=   0.7s\n"
     ]
    },
    {
     "name": "stderr",
     "output_type": "stream",
     "text": [
      "INFO:root:Iteration 68: tested parameters: [1.0, 0.1, 10, 200, 0.8, 0.6, 0.75], score: 0.9601313393482471\n"
     ]
    },
    {
     "name": "stdout",
     "output_type": "stream",
     "text": [
      "Fitting 5 folds for each of 1 candidates, totalling 5 fits\n",
      "[CV 3/5] END classifier__colsample_bytree=0.8, classifier__learning_rate=0.01, classifier__max_depth=8, classifier__n_estimators=100, classifier__reg_alpha=0.4, classifier__reg_lambda=1.0, classifier__subsample=0.75;, score=0.929 total time=   0.7s\n",
      "[CV 2/5] END classifier__colsample_bytree=0.8, classifier__learning_rate=0.01, classifier__max_depth=8, classifier__n_estimators=100, classifier__reg_alpha=0.4, classifier__reg_lambda=1.0, classifier__subsample=0.75;, score=0.958 total time=   0.7s\n",
      "[CV 1/5] END classifier__colsample_bytree=0.8, classifier__learning_rate=0.01, classifier__max_depth=8, classifier__n_estimators=100, classifier__reg_alpha=0.4, classifier__reg_lambda=1.0, classifier__subsample=0.75;, score=0.943 total time=   0.7s\n",
      "[CV 4/5] END classifier__colsample_bytree=0.8, classifier__learning_rate=0.01, classifier__max_depth=8, classifier__n_estimators=100, classifier__reg_alpha=0.4, classifier__reg_lambda=1.0, classifier__subsample=0.75;, score=0.954 total time=   0.7s\n",
      "[CV 5/5] END classifier__colsample_bytree=0.8, classifier__learning_rate=0.01, classifier__max_depth=8, classifier__n_estimators=100, classifier__reg_alpha=0.4, classifier__reg_lambda=1.0, classifier__subsample=0.75;, score=0.931 total time=   0.4s\n"
     ]
    },
    {
     "name": "stderr",
     "output_type": "stream",
     "text": [
      "INFO:root:Iteration 69: tested parameters: [0.8, 0.01, 8, 100, 0.4, 1.0, 0.75], score: 0.9430709489085463\n"
     ]
    },
    {
     "name": "stdout",
     "output_type": "stream",
     "text": [
      "Fitting 5 folds for each of 1 candidates, totalling 5 fits\n",
      "[CV 2/5] END classifier__colsample_bytree=0.75, classifier__learning_rate=0.2, classifier__max_depth=3, classifier__n_estimators=250, classifier__reg_alpha=0.0, classifier__reg_lambda=0.4, classifier__subsample=0.7;, score=0.965 total time=   0.6s\n",
      "[CV 3/5] END classifier__colsample_bytree=0.75, classifier__learning_rate=0.2, classifier__max_depth=3, classifier__n_estimators=250, classifier__reg_alpha=0.0, classifier__reg_lambda=0.4, classifier__subsample=0.7;, score=0.961 total time=   0.7s\n",
      "[CV 4/5] END classifier__colsample_bytree=0.75, classifier__learning_rate=0.2, classifier__max_depth=3, classifier__n_estimators=250, classifier__reg_alpha=0.0, classifier__reg_lambda=0.4, classifier__subsample=0.7;, score=0.972 total time=   0.7s\n",
      "[CV 1/5] END classifier__colsample_bytree=0.75, classifier__learning_rate=0.2, classifier__max_depth=3, classifier__n_estimators=250, classifier__reg_alpha=0.0, classifier__reg_lambda=0.4, classifier__subsample=0.7;, score=0.976 total time=   0.7s\n",
      "[CV 5/5] END classifier__colsample_bytree=0.75, classifier__learning_rate=0.2, classifier__max_depth=3, classifier__n_estimators=250, classifier__reg_alpha=0.0, classifier__reg_lambda=0.4, classifier__subsample=0.7;, score=0.941 total time=   0.4s\n"
     ]
    },
    {
     "name": "stderr",
     "output_type": "stream",
     "text": [
      "INFO:root:Iteration 70: tested parameters: [0.75, 0.2, 3, 250, 0.0, 0.4, 0.7], score: 0.9629162326158989\n"
     ]
    },
    {
     "name": "stdout",
     "output_type": "stream",
     "text": [
      "Fitting 5 folds for each of 1 candidates, totalling 5 fits\n",
      "[CV 2/5] END classifier__colsample_bytree=0.85, classifier__learning_rate=0.2, classifier__max_depth=8, classifier__n_estimators=150, classifier__reg_alpha=0.2, classifier__reg_lambda=0.6, classifier__subsample=0.8;, score=0.972 total time=   0.6s\n",
      "[CV 3/5] END classifier__colsample_bytree=0.85, classifier__learning_rate=0.2, classifier__max_depth=8, classifier__n_estimators=150, classifier__reg_alpha=0.2, classifier__reg_lambda=0.6, classifier__subsample=0.8;, score=0.947 total time=   0.6s\n",
      "[CV 1/5] END classifier__colsample_bytree=0.85, classifier__learning_rate=0.2, classifier__max_depth=8, classifier__n_estimators=150, classifier__reg_alpha=0.2, classifier__reg_lambda=0.6, classifier__subsample=0.8;, score=0.983 total time=   0.7s\n",
      "[CV 4/5] END classifier__colsample_bytree=0.85, classifier__learning_rate=0.2, classifier__max_depth=8, classifier__n_estimators=150, classifier__reg_alpha=0.2, classifier__reg_lambda=0.6, classifier__subsample=0.8;, score=0.968 total time=   0.6s\n",
      "[CV 5/5] END classifier__colsample_bytree=0.85, classifier__learning_rate=0.2, classifier__max_depth=8, classifier__n_estimators=150, classifier__reg_alpha=0.2, classifier__reg_lambda=0.6, classifier__subsample=0.8;, score=0.949 total time=   0.4s\n"
     ]
    },
    {
     "name": "stderr",
     "output_type": "stream",
     "text": [
      "INFO:root:Iteration 71: tested parameters: [0.85, 0.2, 8, 150, 0.2, 0.6, 0.8], score: 0.9636571558050979\n"
     ]
    },
    {
     "name": "stdout",
     "output_type": "stream",
     "text": [
      "Fitting 5 folds for each of 1 candidates, totalling 5 fits\n",
      "[CV 2/5] END classifier__colsample_bytree=0.9, classifier__learning_rate=0.01, classifier__max_depth=10, classifier__n_estimators=50, classifier__reg_alpha=0.0, classifier__reg_lambda=0.2, classifier__subsample=1.0;, score=0.947 total time=   0.6s\n",
      "[CV 3/5] END classifier__colsample_bytree=0.9, classifier__learning_rate=0.01, classifier__max_depth=10, classifier__n_estimators=50, classifier__reg_alpha=0.0, classifier__reg_lambda=0.2, classifier__subsample=1.0;, score=0.919 total time=   0.6s\n",
      "[CV 4/5] END classifier__colsample_bytree=0.9, classifier__learning_rate=0.01, classifier__max_depth=10, classifier__n_estimators=50, classifier__reg_alpha=0.0, classifier__reg_lambda=0.2, classifier__subsample=1.0;, score=0.957 total time=   0.6s\n",
      "[CV 1/5] END classifier__colsample_bytree=0.9, classifier__learning_rate=0.01, classifier__max_depth=10, classifier__n_estimators=50, classifier__reg_alpha=0.0, classifier__reg_lambda=0.2, classifier__subsample=1.0;, score=0.933 total time=   0.6s\n",
      "[CV 5/5] END classifier__colsample_bytree=0.9, classifier__learning_rate=0.01, classifier__max_depth=10, classifier__n_estimators=50, classifier__reg_alpha=0.0, classifier__reg_lambda=0.2, classifier__subsample=1.0;, score=0.921 total time=   0.3s\n"
     ]
    },
    {
     "name": "stderr",
     "output_type": "stream",
     "text": [
      "INFO:root:Iteration 72: tested parameters: [0.9, 0.01, 10, 50, 0.0, 0.2, 1.0], score: 0.9354433026702214\n"
     ]
    },
    {
     "name": "stdout",
     "output_type": "stream",
     "text": [
      "Fitting 5 folds for each of 1 candidates, totalling 5 fits\n",
      "[CV 4/5] END classifier__colsample_bytree=0.7, classifier__learning_rate=0.05, classifier__max_depth=3, classifier__n_estimators=200, classifier__reg_alpha=0.0, classifier__reg_lambda=0.4, classifier__subsample=0.95;, score=0.968 total time=   1.8s\n",
      "[CV 1/5] END classifier__colsample_bytree=0.7, classifier__learning_rate=0.05, classifier__max_depth=3, classifier__n_estimators=200, classifier__reg_alpha=0.0, classifier__reg_lambda=0.4, classifier__subsample=0.95;, score=0.979 total time=   1.9s\n",
      "[CV 3/5] END classifier__colsample_bytree=0.7, classifier__learning_rate=0.05, classifier__max_depth=3, classifier__n_estimators=200, classifier__reg_alpha=0.0, classifier__reg_lambda=0.4, classifier__subsample=0.95;, score=0.954 total time=   1.9s\n",
      "[CV 2/5] END classifier__colsample_bytree=0.7, classifier__learning_rate=0.05, classifier__max_depth=3, classifier__n_estimators=200, classifier__reg_alpha=0.0, classifier__reg_lambda=0.4, classifier__subsample=0.95;, score=0.955 total time=   1.9s\n",
      "[CV 5/5] END classifier__colsample_bytree=0.7, classifier__learning_rate=0.05, classifier__max_depth=3, classifier__n_estimators=200, classifier__reg_alpha=0.0, classifier__reg_lambda=0.4, classifier__subsample=0.95;, score=0.948 total time=   0.8s\n"
     ]
    },
    {
     "name": "stderr",
     "output_type": "stream",
     "text": [
      "INFO:root:Iteration 73: tested parameters: [0.7, 0.05, 3, 200, 0.0, 0.4, 0.95], score: 0.9607715509884587\n"
     ]
    },
    {
     "name": "stdout",
     "output_type": "stream",
     "text": [
      "Fitting 5 folds for each of 1 candidates, totalling 5 fits\n",
      "[CV 4/5] END classifier__colsample_bytree=0.9, classifier__learning_rate=0.01, classifier__max_depth=5, classifier__n_estimators=200, classifier__reg_alpha=0.6, classifier__reg_lambda=0.4, classifier__subsample=0.8;, score=0.954 total time=   1.7s\n",
      "[CV 3/5] END classifier__colsample_bytree=0.9, classifier__learning_rate=0.01, classifier__max_depth=5, classifier__n_estimators=200, classifier__reg_alpha=0.6, classifier__reg_lambda=0.4, classifier__subsample=0.8;, score=0.925 total time=   1.8s\n",
      "[CV 2/5] END classifier__colsample_bytree=0.9, classifier__learning_rate=0.01, classifier__max_depth=5, classifier__n_estimators=200, classifier__reg_alpha=0.6, classifier__reg_lambda=0.4, classifier__subsample=0.8;, score=0.962 total time=   1.8s\n",
      "[CV 1/5] END classifier__colsample_bytree=0.9, classifier__learning_rate=0.01, classifier__max_depth=5, classifier__n_estimators=200, classifier__reg_alpha=0.6, classifier__reg_lambda=0.4, classifier__subsample=0.8;, score=0.934 total time=   1.8s\n",
      "[CV 5/5] END classifier__colsample_bytree=0.9, classifier__learning_rate=0.01, classifier__max_depth=5, classifier__n_estimators=200, classifier__reg_alpha=0.6, classifier__reg_lambda=0.4, classifier__subsample=0.8;, score=0.928 total time=   0.9s\n"
     ]
    },
    {
     "name": "stderr",
     "output_type": "stream",
     "text": [
      "INFO:root:Iteration 74: tested parameters: [0.9, 0.01, 5, 200, 0.6, 0.4, 0.8], score: 0.9404981961144363\n"
     ]
    },
    {
     "name": "stdout",
     "output_type": "stream",
     "text": [
      "Fitting 5 folds for each of 1 candidates, totalling 5 fits\n",
      "[CV 2/5] END classifier__colsample_bytree=0.9, classifier__learning_rate=0.05, classifier__max_depth=10, classifier__n_estimators=150, classifier__reg_alpha=0.8, classifier__reg_lambda=1.0, classifier__subsample=0.9;, score=0.972 total time=   1.2s\n",
      "[CV 1/5] END classifier__colsample_bytree=0.9, classifier__learning_rate=0.05, classifier__max_depth=10, classifier__n_estimators=150, classifier__reg_alpha=0.8, classifier__reg_lambda=1.0, classifier__subsample=0.9;, score=0.965 total time=   1.2s\n",
      "[CV 3/5] END classifier__colsample_bytree=0.9, classifier__learning_rate=0.05, classifier__max_depth=10, classifier__n_estimators=150, classifier__reg_alpha=0.8, classifier__reg_lambda=1.0, classifier__subsample=0.9;, score=0.943 total time=   1.2s\n",
      "[CV 4/5] END classifier__colsample_bytree=0.9, classifier__learning_rate=0.05, classifier__max_depth=10, classifier__n_estimators=150, classifier__reg_alpha=0.8, classifier__reg_lambda=1.0, classifier__subsample=0.9;, score=0.964 total time=   1.3s\n",
      "[CV 5/5] END classifier__colsample_bytree=0.9, classifier__learning_rate=0.05, classifier__max_depth=10, classifier__n_estimators=150, classifier__reg_alpha=0.8, classifier__reg_lambda=1.0, classifier__subsample=0.9;, score=0.942 total time=   0.7s\n"
     ]
    },
    {
     "name": "stderr",
     "output_type": "stream",
     "text": [
      "INFO:root:Iteration 75: tested parameters: [0.9, 0.05, 10, 150, 0.8, 1.0, 0.9], score: 0.9571406206778843\n"
     ]
    },
    {
     "name": "stdout",
     "output_type": "stream",
     "text": [
      "Fitting 5 folds for each of 1 candidates, totalling 5 fits\n",
      "[CV 2/5] END classifier__colsample_bytree=0.75, classifier__learning_rate=0.2, classifier__max_depth=8, classifier__n_estimators=150, classifier__reg_alpha=0.6, classifier__reg_lambda=0.0, classifier__subsample=1.0;, score=0.965 total time=   0.8s\n",
      "[CV 1/5] END classifier__colsample_bytree=0.75, classifier__learning_rate=0.2, classifier__max_depth=8, classifier__n_estimators=150, classifier__reg_alpha=0.6, classifier__reg_lambda=0.0, classifier__subsample=1.0;, score=0.965 total time=   0.8s\n",
      "[CV 3/5] END classifier__colsample_bytree=0.75, classifier__learning_rate=0.2, classifier__max_depth=8, classifier__n_estimators=150, classifier__reg_alpha=0.6, classifier__reg_lambda=0.0, classifier__subsample=1.0;, score=0.954 total time=   0.8s\n",
      "[CV 4/5] END classifier__colsample_bytree=0.75, classifier__learning_rate=0.2, classifier__max_depth=8, classifier__n_estimators=150, classifier__reg_alpha=0.6, classifier__reg_lambda=0.0, classifier__subsample=1.0;, score=0.957 total time=   0.8s\n",
      "[CV 5/5] END classifier__colsample_bytree=0.75, classifier__learning_rate=0.2, classifier__max_depth=8, classifier__n_estimators=150, classifier__reg_alpha=0.6, classifier__reg_lambda=0.0, classifier__subsample=1.0;, score=0.938 total time=   0.4s\n"
     ]
    },
    {
     "name": "stderr",
     "output_type": "stream",
     "text": [
      "INFO:root:Iteration 76: tested parameters: [0.75, 0.2, 8, 150, 0.6, 0.0, 1.0], score: 0.9556855942228578\n"
     ]
    },
    {
     "name": "stdout",
     "output_type": "stream",
     "text": [
      "Fitting 5 folds for each of 1 candidates, totalling 5 fits\n",
      "[CV 1/5] END classifier__colsample_bytree=0.7, classifier__learning_rate=0.15, classifier__max_depth=5, classifier__n_estimators=100, classifier__reg_alpha=1.0, classifier__reg_lambda=0.0, classifier__subsample=1.0;, score=0.979 total time=   0.5s\n",
      "[CV 4/5] END classifier__colsample_bytree=0.7, classifier__learning_rate=0.15, classifier__max_depth=5, classifier__n_estimators=100, classifier__reg_alpha=1.0, classifier__reg_lambda=0.0, classifier__subsample=1.0;, score=0.964 total time=   0.4s\n",
      "[CV 3/5] END classifier__colsample_bytree=0.7, classifier__learning_rate=0.15, classifier__max_depth=5, classifier__n_estimators=100, classifier__reg_alpha=1.0, classifier__reg_lambda=0.0, classifier__subsample=1.0;, score=0.954 total time=   0.5s\n",
      "[CV 2/5] END classifier__colsample_bytree=0.7, classifier__learning_rate=0.15, classifier__max_depth=5, classifier__n_estimators=100, classifier__reg_alpha=1.0, classifier__reg_lambda=0.0, classifier__subsample=1.0;, score=0.965 total time=   0.5s\n",
      "[CV 5/5] END classifier__colsample_bytree=0.7, classifier__learning_rate=0.15, classifier__max_depth=5, classifier__n_estimators=100, classifier__reg_alpha=1.0, classifier__reg_lambda=0.0, classifier__subsample=1.0;, score=0.948 total time=   0.3s\n"
     ]
    },
    {
     "name": "stderr",
     "output_type": "stream",
     "text": [
      "INFO:root:Iteration 77: tested parameters: [0.7, 0.15, 5, 100, 1.0, 0.0, 1.0], score: 0.96205215671734\n"
     ]
    },
    {
     "name": "stdout",
     "output_type": "stream",
     "text": [
      "Fitting 5 folds for each of 1 candidates, totalling 5 fits\n",
      "[CV 3/5] END classifier__colsample_bytree=0.7, classifier__learning_rate=0.15, classifier__max_depth=3, classifier__n_estimators=100, classifier__reg_alpha=0.0, classifier__reg_lambda=0.4, classifier__subsample=0.85;, score=0.961 total time=   0.5s\n",
      "[CV 2/5] END classifier__colsample_bytree=0.7, classifier__learning_rate=0.15, classifier__max_depth=3, classifier__n_estimators=100, classifier__reg_alpha=0.0, classifier__reg_lambda=0.4, classifier__subsample=0.85;, score=0.962 total time=   0.5s\n",
      "[CV 4/5] END classifier__colsample_bytree=0.7, classifier__learning_rate=0.15, classifier__max_depth=3, classifier__n_estimators=100, classifier__reg_alpha=0.0, classifier__reg_lambda=0.4, classifier__subsample=0.85;, score=0.964 total time=   0.5s\n",
      "[CV 1/5] END classifier__colsample_bytree=0.7, classifier__learning_rate=0.15, classifier__max_depth=3, classifier__n_estimators=100, classifier__reg_alpha=0.0, classifier__reg_lambda=0.4, classifier__subsample=0.85;, score=0.972 total time=   0.5s\n",
      "[CV 5/5] END classifier__colsample_bytree=0.7, classifier__learning_rate=0.15, classifier__max_depth=3, classifier__n_estimators=100, classifier__reg_alpha=0.0, classifier__reg_lambda=0.4, classifier__subsample=0.85;, score=0.948 total time=   0.2s\n"
     ]
    },
    {
     "name": "stderr",
     "output_type": "stream",
     "text": [
      "INFO:root:Iteration 78: tested parameters: [0.7, 0.15, 3, 100, 0.0, 0.4, 0.85], score: 0.9614117626286702\n"
     ]
    },
    {
     "name": "stdout",
     "output_type": "stream",
     "text": [
      "Fitting 5 folds for each of 1 candidates, totalling 5 fits\n",
      "[CV 4/5] END classifier__colsample_bytree=1.0, classifier__learning_rate=0.2, classifier__max_depth=3, classifier__n_estimators=300, classifier__reg_alpha=0.2, classifier__reg_lambda=0.6, classifier__subsample=0.95;, score=0.961 total time=   0.9s\n",
      "[CV 2/5] END classifier__colsample_bytree=1.0, classifier__learning_rate=0.2, classifier__max_depth=3, classifier__n_estimators=300, classifier__reg_alpha=0.2, classifier__reg_lambda=0.6, classifier__subsample=0.95;, score=0.955 total time=   0.9s\n",
      "[CV 3/5] END classifier__colsample_bytree=1.0, classifier__learning_rate=0.2, classifier__max_depth=3, classifier__n_estimators=300, classifier__reg_alpha=0.2, classifier__reg_lambda=0.6, classifier__subsample=0.95;, score=0.950 total time=   0.9s\n",
      "[CV 1/5] END classifier__colsample_bytree=1.0, classifier__learning_rate=0.2, classifier__max_depth=3, classifier__n_estimators=300, classifier__reg_alpha=0.2, classifier__reg_lambda=0.6, classifier__subsample=0.95;, score=0.972 total time=   0.9s\n",
      "[CV 5/5] END classifier__colsample_bytree=1.0, classifier__learning_rate=0.2, classifier__max_depth=3, classifier__n_estimators=300, classifier__reg_alpha=0.2, classifier__reg_lambda=0.6, classifier__subsample=0.95;, score=0.945 total time=   0.5s\n"
     ]
    },
    {
     "name": "stderr",
     "output_type": "stream",
     "text": [
      "INFO:root:Iteration 79: tested parameters: [1.0, 0.2, 3, 300, 0.2, 0.6, 0.95], score: 0.9565496701214166\n"
     ]
    },
    {
     "name": "stdout",
     "output_type": "stream",
     "text": [
      "Fitting 5 folds for each of 1 candidates, totalling 5 fits\n",
      "[CV 2/5] END classifier__colsample_bytree=0.8, classifier__learning_rate=0.15, classifier__max_depth=3, classifier__n_estimators=50, classifier__reg_alpha=0.2, classifier__reg_lambda=0.0, classifier__subsample=1.0;, score=0.948 total time=   0.3s\n",
      "[CV 3/5] END classifier__colsample_bytree=0.8, classifier__learning_rate=0.15, classifier__max_depth=3, classifier__n_estimators=50, classifier__reg_alpha=0.2, classifier__reg_lambda=0.0, classifier__subsample=1.0;, score=0.950 total time=   0.3s\n",
      "[CV 4/5] END classifier__colsample_bytree=0.8, classifier__learning_rate=0.15, classifier__max_depth=3, classifier__n_estimators=50, classifier__reg_alpha=0.2, classifier__reg_lambda=0.0, classifier__subsample=1.0;, score=0.943 total time=   0.3s\n",
      "[CV 1/5] END classifier__colsample_bytree=0.8, classifier__learning_rate=0.15, classifier__max_depth=3, classifier__n_estimators=50, classifier__reg_alpha=0.2, classifier__reg_lambda=0.0, classifier__subsample=1.0;, score=0.968 total time=   0.3s\n",
      "[CV 5/5] END classifier__colsample_bytree=0.8, classifier__learning_rate=0.15, classifier__max_depth=3, classifier__n_estimators=50, classifier__reg_alpha=0.2, classifier__reg_lambda=0.0, classifier__subsample=1.0;, score=0.938 total time=   0.1s\n"
     ]
    },
    {
     "name": "stderr",
     "output_type": "stream",
     "text": [
      "INFO:root:Iteration 80: tested parameters: [0.8, 0.15, 3, 50, 0.2, 0.0, 1.0], score: 0.9495263167187529\n"
     ]
    },
    {
     "name": "stdout",
     "output_type": "stream",
     "text": [
      "Fitting 5 folds for each of 1 candidates, totalling 5 fits\n",
      "[CV 2/5] END classifier__colsample_bytree=0.75, classifier__learning_rate=0.15, classifier__max_depth=5, classifier__n_estimators=100, classifier__reg_alpha=1.0, classifier__reg_lambda=0.8, classifier__subsample=1.0;, score=0.958 total time=   0.5s\n",
      "[CV 1/5] END classifier__colsample_bytree=0.75, classifier__learning_rate=0.15, classifier__max_depth=5, classifier__n_estimators=100, classifier__reg_alpha=1.0, classifier__reg_lambda=0.8, classifier__subsample=1.0;, score=0.965 total time=   0.5s\n",
      "[CV 4/5] END classifier__colsample_bytree=0.75, classifier__learning_rate=0.15, classifier__max_depth=5, classifier__n_estimators=100, classifier__reg_alpha=1.0, classifier__reg_lambda=0.8, classifier__subsample=1.0;, score=0.957 total time=   0.5s\n",
      "[CV 3/5] END classifier__colsample_bytree=0.75, classifier__learning_rate=0.15, classifier__max_depth=5, classifier__n_estimators=100, classifier__reg_alpha=1.0, classifier__reg_lambda=0.8, classifier__subsample=1.0;, score=0.943 total time=   0.5s\n",
      "[CV 5/5] END classifier__colsample_bytree=0.75, classifier__learning_rate=0.15, classifier__max_depth=5, classifier__n_estimators=100, classifier__reg_alpha=1.0, classifier__reg_lambda=0.8, classifier__subsample=1.0;, score=0.942 total time=   0.3s\n"
     ]
    },
    {
     "name": "stderr",
     "output_type": "stream",
     "text": [
      "INFO:root:Iteration 81: tested parameters: [0.75, 0.15, 5, 100, 1.0, 0.8, 1.0], score: 0.9529054681568587\n"
     ]
    },
    {
     "name": "stdout",
     "output_type": "stream",
     "text": [
      "Fitting 5 folds for each of 1 candidates, totalling 5 fits\n",
      "[CV 4/5] END classifier__colsample_bytree=0.85, classifier__learning_rate=0.15, classifier__max_depth=10, classifier__n_estimators=250, classifier__reg_alpha=0.0, classifier__reg_lambda=0.0, classifier__subsample=1.0;, score=0.957 total time=   0.8s\n",
      "[CV 2/5] END classifier__colsample_bytree=0.85, classifier__learning_rate=0.15, classifier__max_depth=10, classifier__n_estimators=250, classifier__reg_alpha=0.0, classifier__reg_lambda=0.0, classifier__subsample=1.0;, score=0.968 total time=   0.8s\n",
      "[CV 1/5] END classifier__colsample_bytree=0.85, classifier__learning_rate=0.15, classifier__max_depth=10, classifier__n_estimators=250, classifier__reg_alpha=0.0, classifier__reg_lambda=0.0, classifier__subsample=1.0;, score=0.972 total time=   0.9s\n",
      "[CV 3/5] END classifier__colsample_bytree=0.85, classifier__learning_rate=0.15, classifier__max_depth=10, classifier__n_estimators=250, classifier__reg_alpha=0.0, classifier__reg_lambda=0.0, classifier__subsample=1.0;, score=0.946 total time=   0.8s\n",
      "[CV 5/5] END classifier__colsample_bytree=0.85, classifier__learning_rate=0.15, classifier__max_depth=10, classifier__n_estimators=250, classifier__reg_alpha=0.0, classifier__reg_lambda=0.0, classifier__subsample=1.0;, score=0.931 total time=   0.6s\n"
     ]
    },
    {
     "name": "stderr",
     "output_type": "stream",
     "text": [
      "INFO:root:Iteration 82: tested parameters: [0.85, 0.15, 10, 250, 0.0, 0.0, 1.0], score: 0.9550649045676854\n"
     ]
    },
    {
     "name": "stdout",
     "output_type": "stream",
     "text": [
      "Fitting 5 folds for each of 1 candidates, totalling 5 fits\n",
      "[CV 4/5] END classifier__colsample_bytree=0.85, classifier__learning_rate=0.15, classifier__max_depth=7, classifier__n_estimators=100, classifier__reg_alpha=0.8, classifier__reg_lambda=0.6, classifier__subsample=0.7;, score=0.971 total time=   0.7s\n",
      "[CV 3/5] END classifier__colsample_bytree=0.85, classifier__learning_rate=0.15, classifier__max_depth=7, classifier__n_estimators=100, classifier__reg_alpha=0.8, classifier__reg_lambda=0.6, classifier__subsample=0.7;, score=0.950 total time=   0.7s\n",
      "[CV 2/5] END classifier__colsample_bytree=0.85, classifier__learning_rate=0.15, classifier__max_depth=7, classifier__n_estimators=100, classifier__reg_alpha=0.8, classifier__reg_lambda=0.6, classifier__subsample=0.7;, score=0.965 total time=   0.7s\n",
      "[CV 1/5] END classifier__colsample_bytree=0.85, classifier__learning_rate=0.15, classifier__max_depth=7, classifier__n_estimators=100, classifier__reg_alpha=0.8, classifier__reg_lambda=0.6, classifier__subsample=0.7;, score=0.968 total time=   0.8s\n",
      "[CV 5/5] END classifier__colsample_bytree=0.85, classifier__learning_rate=0.15, classifier__max_depth=7, classifier__n_estimators=100, classifier__reg_alpha=0.8, classifier__reg_lambda=0.6, classifier__subsample=0.7;, score=0.945 total time=   0.3s\n"
     ]
    },
    {
     "name": "stderr",
     "output_type": "stream",
     "text": [
      "INFO:root:Iteration 83: tested parameters: [0.85, 0.15, 7, 100, 0.8, 0.6, 0.7], score: 0.9599550941375192\n"
     ]
    },
    {
     "name": "stdout",
     "output_type": "stream",
     "text": [
      "Fitting 5 folds for each of 1 candidates, totalling 5 fits\n",
      "[CV 2/5] END classifier__colsample_bytree=1.0, classifier__learning_rate=0.1, classifier__max_depth=3, classifier__n_estimators=150, classifier__reg_alpha=0.6, classifier__reg_lambda=1.0, classifier__subsample=0.75;, score=0.955 total time=   0.6s\n",
      "[CV 4/5] END classifier__colsample_bytree=1.0, classifier__learning_rate=0.1, classifier__max_depth=3, classifier__n_estimators=150, classifier__reg_alpha=0.6, classifier__reg_lambda=1.0, classifier__subsample=0.75;, score=0.965 total time=   0.6s\n",
      "[CV 1/5] END classifier__colsample_bytree=1.0, classifier__learning_rate=0.1, classifier__max_depth=3, classifier__n_estimators=150, classifier__reg_alpha=0.6, classifier__reg_lambda=1.0, classifier__subsample=0.75;, score=0.972 total time=   0.7s\n",
      "[CV 3/5] END classifier__colsample_bytree=1.0, classifier__learning_rate=0.1, classifier__max_depth=3, classifier__n_estimators=150, classifier__reg_alpha=0.6, classifier__reg_lambda=1.0, classifier__subsample=0.75;, score=0.943 total time=   0.7s\n",
      "[CV 5/5] END classifier__colsample_bytree=1.0, classifier__learning_rate=0.1, classifier__max_depth=3, classifier__n_estimators=150, classifier__reg_alpha=0.6, classifier__reg_lambda=1.0, classifier__subsample=0.75;, score=0.941 total time=   0.4s\n"
     ]
    },
    {
     "name": "stderr",
     "output_type": "stream",
     "text": [
      "INFO:root:Iteration 84: tested parameters: [1.0, 0.1, 3, 150, 0.6, 1.0, 0.75], score: 0.9550798888830034\n"
     ]
    },
    {
     "name": "stdout",
     "output_type": "stream",
     "text": [
      "Fitting 5 folds for each of 1 candidates, totalling 5 fits\n",
      "[CV 3/5] END classifier__colsample_bytree=0.7, classifier__learning_rate=0.15, classifier__max_depth=10, classifier__n_estimators=50, classifier__reg_alpha=0.0, classifier__reg_lambda=0.8, classifier__subsample=0.7;, score=0.950 total time=   0.3s\n",
      "[CV 1/5] END classifier__colsample_bytree=0.7, classifier__learning_rate=0.15, classifier__max_depth=10, classifier__n_estimators=50, classifier__reg_alpha=0.0, classifier__reg_lambda=0.8, classifier__subsample=0.7;, score=0.965 total time=   0.3s\n",
      "[CV 2/5] END classifier__colsample_bytree=0.7, classifier__learning_rate=0.15, classifier__max_depth=10, classifier__n_estimators=50, classifier__reg_alpha=0.0, classifier__reg_lambda=0.8, classifier__subsample=0.7;, score=0.968 total time=   0.3s\n",
      "[CV 4/5] END classifier__colsample_bytree=0.7, classifier__learning_rate=0.15, classifier__max_depth=10, classifier__n_estimators=50, classifier__reg_alpha=0.0, classifier__reg_lambda=0.8, classifier__subsample=0.7;, score=0.979 total time=   0.3s\n",
      "[CV 5/5] END classifier__colsample_bytree=0.7, classifier__learning_rate=0.15, classifier__max_depth=10, classifier__n_estimators=50, classifier__reg_alpha=0.0, classifier__reg_lambda=0.8, classifier__subsample=0.7;, score=0.949 total time=   0.2s\n"
     ]
    },
    {
     "name": "stderr",
     "output_type": "stream",
     "text": [
      "INFO:root:Iteration 85: tested parameters: [0.7, 0.15, 10, 50, 0.0, 0.8, 0.7], score: 0.9621760156787964\n"
     ]
    },
    {
     "name": "stdout",
     "output_type": "stream",
     "text": [
      "Fitting 5 folds for each of 1 candidates, totalling 5 fits\n",
      "[CV 2/5] END classifier__colsample_bytree=0.7, classifier__learning_rate=0.15, classifier__max_depth=7, classifier__n_estimators=300, classifier__reg_alpha=1.0, classifier__reg_lambda=0.2, classifier__subsample=0.7;, score=0.975 total time=   0.8s\n",
      "[CV 3/5] END classifier__colsample_bytree=0.7, classifier__learning_rate=0.15, classifier__max_depth=7, classifier__n_estimators=300, classifier__reg_alpha=1.0, classifier__reg_lambda=0.2, classifier__subsample=0.7;, score=0.954 total time=   0.8s\n",
      "[CV 1/5] END classifier__colsample_bytree=0.7, classifier__learning_rate=0.15, classifier__max_depth=7, classifier__n_estimators=300, classifier__reg_alpha=1.0, classifier__reg_lambda=0.2, classifier__subsample=0.7;, score=0.982 total time=   0.8s\n",
      "[CV 4/5] END classifier__colsample_bytree=0.7, classifier__learning_rate=0.15, classifier__max_depth=7, classifier__n_estimators=300, classifier__reg_alpha=1.0, classifier__reg_lambda=0.2, classifier__subsample=0.7;, score=0.972 total time=   0.8s\n",
      "[CV 5/5] END classifier__colsample_bytree=0.7, classifier__learning_rate=0.15, classifier__max_depth=7, classifier__n_estimators=300, classifier__reg_alpha=1.0, classifier__reg_lambda=0.2, classifier__subsample=0.7;, score=0.949 total time=   0.6s\n"
     ]
    },
    {
     "name": "stderr",
     "output_type": "stream",
     "text": [
      "INFO:root:Iteration 86: tested parameters: [0.7, 0.15, 7, 300, 1.0, 0.2, 0.7], score: 0.9663679749986758\n"
     ]
    },
    {
     "name": "stdout",
     "output_type": "stream",
     "text": [
      "Fitting 5 folds for each of 1 candidates, totalling 5 fits\n",
      "[CV 3/5] END classifier__colsample_bytree=0.7, classifier__learning_rate=0.15, classifier__max_depth=3, classifier__n_estimators=150, classifier__reg_alpha=0.2, classifier__reg_lambda=0.2, classifier__subsample=0.7;, score=0.947 total time=   0.5s\n",
      "[CV 1/5] END classifier__colsample_bytree=0.7, classifier__learning_rate=0.15, classifier__max_depth=3, classifier__n_estimators=150, classifier__reg_alpha=0.2, classifier__reg_lambda=0.2, classifier__subsample=0.7;, score=0.979 total time=   0.5s\n",
      "[CV 2/5] END classifier__colsample_bytree=0.7, classifier__learning_rate=0.15, classifier__max_depth=3, classifier__n_estimators=150, classifier__reg_alpha=0.2, classifier__reg_lambda=0.2, classifier__subsample=0.7;, score=0.968 total time=   0.5s\n",
      "[CV 4/5] END classifier__colsample_bytree=0.7, classifier__learning_rate=0.15, classifier__max_depth=3, classifier__n_estimators=150, classifier__reg_alpha=0.2, classifier__reg_lambda=0.2, classifier__subsample=0.7;, score=0.968 total time=   0.5s\n",
      "[CV 5/5] END classifier__colsample_bytree=0.7, classifier__learning_rate=0.15, classifier__max_depth=3, classifier__n_estimators=150, classifier__reg_alpha=0.2, classifier__reg_lambda=0.2, classifier__subsample=0.7;, score=0.945 total time=   0.3s\n"
     ]
    },
    {
     "name": "stderr",
     "output_type": "stream",
     "text": [
      "INFO:root:Iteration 87: tested parameters: [0.7, 0.15, 3, 150, 0.2, 0.2, 0.7], score: 0.9614384001035836\n"
     ]
    },
    {
     "name": "stdout",
     "output_type": "stream",
     "text": [
      "Fitting 5 folds for each of 1 candidates, totalling 5 fits\n",
      "[CV 2/5] END classifier__colsample_bytree=0.7, classifier__learning_rate=0.1, classifier__max_depth=7, classifier__n_estimators=100, classifier__reg_alpha=0.6, classifier__reg_lambda=1.0, classifier__subsample=0.7;, score=0.968 total time=   0.5s\n",
      "[CV 3/5] END classifier__colsample_bytree=0.7, classifier__learning_rate=0.1, classifier__max_depth=7, classifier__n_estimators=100, classifier__reg_alpha=0.6, classifier__reg_lambda=1.0, classifier__subsample=0.7;, score=0.947 total time=   0.5s\n",
      "[CV 1/5] END classifier__colsample_bytree=0.7, classifier__learning_rate=0.1, classifier__max_depth=7, classifier__n_estimators=100, classifier__reg_alpha=0.6, classifier__reg_lambda=1.0, classifier__subsample=0.7;, score=0.975 total time=   0.5s\n",
      "[CV 4/5] END classifier__colsample_bytree=0.7, classifier__learning_rate=0.1, classifier__max_depth=7, classifier__n_estimators=100, classifier__reg_alpha=0.6, classifier__reg_lambda=1.0, classifier__subsample=0.7;, score=0.975 total time=   0.5s\n",
      "[CV 5/5] END classifier__colsample_bytree=0.7, classifier__learning_rate=0.1, classifier__max_depth=7, classifier__n_estimators=100, classifier__reg_alpha=0.6, classifier__reg_lambda=1.0, classifier__subsample=0.7;, score=0.945 total time=   0.3s\n"
     ]
    },
    {
     "name": "stderr",
     "output_type": "stream",
     "text": [
      "INFO:root:Iteration 88: tested parameters: [0.7, 0.1, 7, 100, 0.6, 1.0, 0.7], score: 0.9621526858178692\n"
     ]
    },
    {
     "name": "stdout",
     "output_type": "stream",
     "text": [
      "Fitting 5 folds for each of 1 candidates, totalling 5 fits\n",
      "[CV 2/5] END classifier__colsample_bytree=0.7, classifier__learning_rate=0.15, classifier__max_depth=3, classifier__n_estimators=250, classifier__reg_alpha=0.0, classifier__reg_lambda=0.2, classifier__subsample=0.75;, score=0.958 total time=   0.7s\n",
      "[CV 1/5] END classifier__colsample_bytree=0.7, classifier__learning_rate=0.15, classifier__max_depth=3, classifier__n_estimators=250, classifier__reg_alpha=0.0, classifier__reg_lambda=0.2, classifier__subsample=0.75;, score=0.972 total time=   0.7s\n",
      "[CV 3/5] END classifier__colsample_bytree=0.7, classifier__learning_rate=0.15, classifier__max_depth=3, classifier__n_estimators=250, classifier__reg_alpha=0.0, classifier__reg_lambda=0.2, classifier__subsample=0.75;, score=0.957 total time=   0.7s\n",
      "[CV 4/5] END classifier__colsample_bytree=0.7, classifier__learning_rate=0.15, classifier__max_depth=3, classifier__n_estimators=250, classifier__reg_alpha=0.0, classifier__reg_lambda=0.2, classifier__subsample=0.75;, score=0.971 total time=   0.7s\n",
      "[CV 5/5] END classifier__colsample_bytree=0.7, classifier__learning_rate=0.15, classifier__max_depth=3, classifier__n_estimators=250, classifier__reg_alpha=0.0, classifier__reg_lambda=0.2, classifier__subsample=0.75;, score=0.948 total time=   0.4s\n"
     ]
    },
    {
     "name": "stderr",
     "output_type": "stream",
     "text": [
      "INFO:root:Iteration 89: tested parameters: [0.7, 0.15, 3, 250, 0.0, 0.2, 0.75], score: 0.9613413375237624\n"
     ]
    },
    {
     "name": "stdout",
     "output_type": "stream",
     "text": [
      "Fitting 5 folds for each of 1 candidates, totalling 5 fits\n",
      "[CV 1/5] END classifier__colsample_bytree=0.7, classifier__learning_rate=0.15, classifier__max_depth=6, classifier__n_estimators=200, classifier__reg_alpha=0.8, classifier__reg_lambda=0.6, classifier__subsample=0.95;, score=0.983 total time=   0.7s\n",
      "[CV 3/5] END classifier__colsample_bytree=0.7, classifier__learning_rate=0.15, classifier__max_depth=6, classifier__n_estimators=200, classifier__reg_alpha=0.8, classifier__reg_lambda=0.6, classifier__subsample=0.95;, score=0.943 total time=   0.7s\n",
      "[CV 4/5] END classifier__colsample_bytree=0.7, classifier__learning_rate=0.15, classifier__max_depth=6, classifier__n_estimators=200, classifier__reg_alpha=0.8, classifier__reg_lambda=0.6, classifier__subsample=0.95;, score=0.964 total time=   0.7s\n",
      "[CV 2/5] END classifier__colsample_bytree=0.7, classifier__learning_rate=0.15, classifier__max_depth=6, classifier__n_estimators=200, classifier__reg_alpha=0.8, classifier__reg_lambda=0.6, classifier__subsample=0.95;, score=0.969 total time=   0.7s\n",
      "[CV 5/5] END classifier__colsample_bytree=0.7, classifier__learning_rate=0.15, classifier__max_depth=6, classifier__n_estimators=200, classifier__reg_alpha=0.8, classifier__reg_lambda=0.6, classifier__subsample=0.95;, score=0.945 total time=   0.4s\n"
     ]
    },
    {
     "name": "stderr",
     "output_type": "stream",
     "text": [
      "INFO:root:Iteration 90: tested parameters: [0.7, 0.15, 6, 200, 0.8, 0.6, 0.95], score: 0.9607947219426641\n"
     ]
    },
    {
     "name": "stdout",
     "output_type": "stream",
     "text": [
      "Fitting 5 folds for each of 1 candidates, totalling 5 fits\n",
      "[CV 2/5] END classifier__colsample_bytree=1.0, classifier__learning_rate=0.1, classifier__max_depth=5, classifier__n_estimators=300, classifier__reg_alpha=0.2, classifier__reg_lambda=0.4, classifier__subsample=0.9;, score=0.965 total time=   1.1s\n",
      "[CV 1/5] END classifier__colsample_bytree=1.0, classifier__learning_rate=0.1, classifier__max_depth=5, classifier__n_estimators=300, classifier__reg_alpha=0.2, classifier__reg_lambda=0.4, classifier__subsample=0.9;, score=0.979 total time=   1.1s\n",
      "[CV 3/5] END classifier__colsample_bytree=1.0, classifier__learning_rate=0.1, classifier__max_depth=5, classifier__n_estimators=300, classifier__reg_alpha=0.2, classifier__reg_lambda=0.4, classifier__subsample=0.9;, score=0.943 total time=   1.1s\n",
      "[CV 4/5] END classifier__colsample_bytree=1.0, classifier__learning_rate=0.1, classifier__max_depth=5, classifier__n_estimators=300, classifier__reg_alpha=0.2, classifier__reg_lambda=0.4, classifier__subsample=0.9;, score=0.964 total time=   1.1s\n",
      "[CV 5/5] END classifier__colsample_bytree=1.0, classifier__learning_rate=0.1, classifier__max_depth=5, classifier__n_estimators=300, classifier__reg_alpha=0.2, classifier__reg_lambda=0.4, classifier__subsample=0.9;, score=0.938 total time=   0.7s\n"
     ]
    },
    {
     "name": "stderr",
     "output_type": "stream",
     "text": [
      "INFO:root:Iteration 91: tested parameters: [1.0, 0.1, 5, 300, 0.2, 0.4, 0.9], score: 0.9577841399320819\n"
     ]
    },
    {
     "name": "stdout",
     "output_type": "stream",
     "text": [
      "Fitting 5 folds for each of 1 candidates, totalling 5 fits\n",
      "[CV 1/5] END classifier__colsample_bytree=0.85, classifier__learning_rate=0.2, classifier__max_depth=8, classifier__n_estimators=150, classifier__reg_alpha=0.4, classifier__reg_lambda=0.6, classifier__subsample=0.7;, score=0.972 total time=   0.6s\n",
      "[CV 2/5] END classifier__colsample_bytree=0.85, classifier__learning_rate=0.2, classifier__max_depth=8, classifier__n_estimators=150, classifier__reg_alpha=0.4, classifier__reg_lambda=0.6, classifier__subsample=0.7;, score=0.958 total time=   0.6s\n",
      "[CV 3/5] END classifier__colsample_bytree=0.85, classifier__learning_rate=0.2, classifier__max_depth=8, classifier__n_estimators=150, classifier__reg_alpha=0.4, classifier__reg_lambda=0.6, classifier__subsample=0.7;, score=0.961 total time=   0.6s\n",
      "[CV 4/5] END classifier__colsample_bytree=0.85, classifier__learning_rate=0.2, classifier__max_depth=8, classifier__n_estimators=150, classifier__reg_alpha=0.4, classifier__reg_lambda=0.6, classifier__subsample=0.7;, score=0.968 total time=   0.6s\n",
      "[CV 5/5] END classifier__colsample_bytree=0.85, classifier__learning_rate=0.2, classifier__max_depth=8, classifier__n_estimators=150, classifier__reg_alpha=0.4, classifier__reg_lambda=0.6, classifier__subsample=0.7;, score=0.942 total time=   0.4s\n"
     ]
    },
    {
     "name": "stderr",
     "output_type": "stream",
     "text": [
      "INFO:root:Iteration 92: tested parameters: [0.85, 0.2, 8, 150, 0.4, 0.6, 0.7], score: 0.9600309926961763\n"
     ]
    },
    {
     "name": "stdout",
     "output_type": "stream",
     "text": [
      "Fitting 5 folds for each of 1 candidates, totalling 5 fits\n",
      "[CV 1/5] END classifier__colsample_bytree=0.75, classifier__learning_rate=0.15, classifier__max_depth=9, classifier__n_estimators=50, classifier__reg_alpha=1.0, classifier__reg_lambda=1.0, classifier__subsample=0.7;, score=0.968 total time=   0.3s\n",
      "[CV 2/5] END classifier__colsample_bytree=0.75, classifier__learning_rate=0.15, classifier__max_depth=9, classifier__n_estimators=50, classifier__reg_alpha=1.0, classifier__reg_lambda=1.0, classifier__subsample=0.7;, score=0.955 total time=   0.3s\n",
      "[CV 3/5] END classifier__colsample_bytree=0.75, classifier__learning_rate=0.15, classifier__max_depth=9, classifier__n_estimators=50, classifier__reg_alpha=1.0, classifier__reg_lambda=1.0, classifier__subsample=0.7;, score=0.946 total time=   0.3s\n",
      "[CV 4/5] END classifier__colsample_bytree=0.75, classifier__learning_rate=0.15, classifier__max_depth=9, classifier__n_estimators=50, classifier__reg_alpha=1.0, classifier__reg_lambda=1.0, classifier__subsample=0.7;, score=0.961 total time=   0.3s\n",
      "[CV 5/5] END classifier__colsample_bytree=0.75, classifier__learning_rate=0.15, classifier__max_depth=9, classifier__n_estimators=50, classifier__reg_alpha=1.0, classifier__reg_lambda=1.0, classifier__subsample=0.7;, score=0.949 total time=   0.2s\n"
     ]
    },
    {
     "name": "stderr",
     "output_type": "stream",
     "text": [
      "INFO:root:Iteration 93: tested parameters: [0.75, 0.15, 9, 50, 1.0, 1.0, 0.7], score: 0.9556639063980554\n"
     ]
    },
    {
     "name": "stdout",
     "output_type": "stream",
     "text": [
      "Fitting 5 folds for each of 1 candidates, totalling 5 fits\n",
      "[CV 1/5] END classifier__colsample_bytree=0.75, classifier__learning_rate=0.01, classifier__max_depth=6, classifier__n_estimators=250, classifier__reg_alpha=1.0, classifier__reg_lambda=1.0, classifier__subsample=1.0;, score=0.937 total time=   1.9s\n",
      "[CV 2/5] END classifier__colsample_bytree=0.75, classifier__learning_rate=0.01, classifier__max_depth=6, classifier__n_estimators=250, classifier__reg_alpha=1.0, classifier__reg_lambda=1.0, classifier__subsample=1.0;, score=0.965 total time=   1.9s\n",
      "[CV 3/5] END classifier__colsample_bytree=0.75, classifier__learning_rate=0.01, classifier__max_depth=6, classifier__n_estimators=250, classifier__reg_alpha=1.0, classifier__reg_lambda=1.0, classifier__subsample=1.0;, score=0.940 total time=   1.9s\n",
      "[CV 4/5] END classifier__colsample_bytree=0.75, classifier__learning_rate=0.01, classifier__max_depth=6, classifier__n_estimators=250, classifier__reg_alpha=1.0, classifier__reg_lambda=1.0, classifier__subsample=1.0;, score=0.961 total time=   2.0s\n",
      "[CV 5/5] END classifier__colsample_bytree=0.75, classifier__learning_rate=0.01, classifier__max_depth=6, classifier__n_estimators=250, classifier__reg_alpha=1.0, classifier__reg_lambda=1.0, classifier__subsample=1.0;, score=0.932 total time=   1.1s\n"
     ]
    },
    {
     "name": "stderr",
     "output_type": "stream",
     "text": [
      "INFO:root:Iteration 94: tested parameters: [0.75, 0.01, 6, 250, 1.0, 1.0, 1.0], score: 0.9469044852893573\n"
     ]
    },
    {
     "name": "stdout",
     "output_type": "stream",
     "text": [
      "Fitting 5 folds for each of 1 candidates, totalling 5 fits\n",
      "[CV 1/5] END classifier__colsample_bytree=0.7, classifier__learning_rate=0.15, classifier__max_depth=4, classifier__n_estimators=300, classifier__reg_alpha=0.4, classifier__reg_lambda=0.8, classifier__subsample=1.0;, score=0.979 total time=   0.8s\n",
      "[CV 2/5] END classifier__colsample_bytree=0.7, classifier__learning_rate=0.15, classifier__max_depth=4, classifier__n_estimators=300, classifier__reg_alpha=0.4, classifier__reg_lambda=0.8, classifier__subsample=1.0;, score=0.965 total time=   0.8s\n",
      "[CV 3/5] END classifier__colsample_bytree=0.7, classifier__learning_rate=0.15, classifier__max_depth=4, classifier__n_estimators=300, classifier__reg_alpha=0.4, classifier__reg_lambda=0.8, classifier__subsample=1.0;, score=0.954 total time=   0.8s\n",
      "[CV 4/5] END classifier__colsample_bytree=0.7, classifier__learning_rate=0.15, classifier__max_depth=4, classifier__n_estimators=300, classifier__reg_alpha=0.4, classifier__reg_lambda=0.8, classifier__subsample=1.0;, score=0.957 total time=   0.8s\n",
      "[CV 5/5] END classifier__colsample_bytree=0.7, classifier__learning_rate=0.15, classifier__max_depth=4, classifier__n_estimators=300, classifier__reg_alpha=0.4, classifier__reg_lambda=0.8, classifier__subsample=1.0;, score=0.942 total time=   0.5s\n"
     ]
    },
    {
     "name": "stderr",
     "output_type": "stream",
     "text": [
      "INFO:root:Iteration 95: tested parameters: [0.7, 0.15, 4, 300, 0.4, 0.8, 1.0], score: 0.9591650923130345\n"
     ]
    },
    {
     "name": "stdout",
     "output_type": "stream",
     "text": [
      "Fitting 5 folds for each of 1 candidates, totalling 5 fits\n",
      "[CV 1/5] END classifier__colsample_bytree=0.7, classifier__learning_rate=0.15, classifier__max_depth=9, classifier__n_estimators=100, classifier__reg_alpha=0.4, classifier__reg_lambda=0.6, classifier__subsample=0.7;, score=0.979 total time=   0.4s\n",
      "[CV 2/5] END classifier__colsample_bytree=0.7, classifier__learning_rate=0.15, classifier__max_depth=9, classifier__n_estimators=100, classifier__reg_alpha=0.4, classifier__reg_lambda=0.6, classifier__subsample=0.7;, score=0.969 total time=   0.5s\n",
      "[CV 3/5] END classifier__colsample_bytree=0.7, classifier__learning_rate=0.15, classifier__max_depth=9, classifier__n_estimators=100, classifier__reg_alpha=0.4, classifier__reg_lambda=0.6, classifier__subsample=0.7;, score=0.954 total time=   0.5s\n",
      "[CV 4/5] END classifier__colsample_bytree=0.7, classifier__learning_rate=0.15, classifier__max_depth=9, classifier__n_estimators=100, classifier__reg_alpha=0.4, classifier__reg_lambda=0.6, classifier__subsample=0.7;, score=0.975 total time=   0.5s\n",
      "[CV 5/5] END classifier__colsample_bytree=0.7, classifier__learning_rate=0.15, classifier__max_depth=9, classifier__n_estimators=100, classifier__reg_alpha=0.4, classifier__reg_lambda=0.6, classifier__subsample=0.7;, score=0.949 total time=   0.3s\n"
     ]
    },
    {
     "name": "stderr",
     "output_type": "stream",
     "text": [
      "INFO:root:Iteration 96: tested parameters: [0.7, 0.15, 9, 100, 0.4, 0.6, 0.7], score: 0.9649904891384313\n"
     ]
    },
    {
     "name": "stdout",
     "output_type": "stream",
     "text": [
      "Fitting 5 folds for each of 1 candidates, totalling 5 fits\n",
      "[CV 1/5] END classifier__colsample_bytree=0.85, classifier__learning_rate=0.1, classifier__max_depth=4, classifier__n_estimators=150, classifier__reg_alpha=0.8, classifier__reg_lambda=0.0, classifier__subsample=0.7;, score=0.965 total time=   0.5s\n",
      "[CV 2/5] END classifier__colsample_bytree=0.85, classifier__learning_rate=0.1, classifier__max_depth=4, classifier__n_estimators=150, classifier__reg_alpha=0.8, classifier__reg_lambda=0.0, classifier__subsample=0.7;, score=0.965 total time=   0.6s\n",
      "[CV 3/5] END classifier__colsample_bytree=0.85, classifier__learning_rate=0.1, classifier__max_depth=4, classifier__n_estimators=150, classifier__reg_alpha=0.8, classifier__reg_lambda=0.0, classifier__subsample=0.7;, score=0.950 total time=   0.6s\n",
      "[CV 4/5] END classifier__colsample_bytree=0.85, classifier__learning_rate=0.1, classifier__max_depth=4, classifier__n_estimators=150, classifier__reg_alpha=0.8, classifier__reg_lambda=0.0, classifier__subsample=0.7;, score=0.979 total time=   0.6s\n",
      "[CV 5/5] END classifier__colsample_bytree=0.85, classifier__learning_rate=0.1, classifier__max_depth=4, classifier__n_estimators=150, classifier__reg_alpha=0.8, classifier__reg_lambda=0.0, classifier__subsample=0.7;, score=0.934 total time=   0.5s\n"
     ]
    },
    {
     "name": "stderr",
     "output_type": "stream",
     "text": [
      "INFO:root:Iteration 97: tested parameters: [0.85, 0.1, 4, 150, 0.8, 0.0, 0.7], score: 0.9586252273248936\n"
     ]
    },
    {
     "name": "stdout",
     "output_type": "stream",
     "text": [
      "Fitting 5 folds for each of 1 candidates, totalling 5 fits\n",
      "[CV 1/5] END classifier__colsample_bytree=0.7, classifier__learning_rate=0.15, classifier__max_depth=9, classifier__n_estimators=150, classifier__reg_alpha=0.8, classifier__reg_lambda=0.2, classifier__subsample=1.0;, score=0.972 total time=   0.5s\n",
      "[CV 2/5] END classifier__colsample_bytree=0.7, classifier__learning_rate=0.15, classifier__max_depth=9, classifier__n_estimators=150, classifier__reg_alpha=0.8, classifier__reg_lambda=0.2, classifier__subsample=1.0;, score=0.972 total time=   0.5s\n",
      "[CV 3/5] END classifier__colsample_bytree=0.7, classifier__learning_rate=0.15, classifier__max_depth=9, classifier__n_estimators=150, classifier__reg_alpha=0.8, classifier__reg_lambda=0.2, classifier__subsample=1.0;, score=0.947 total time=   0.6s\n",
      "[CV 4/5] END classifier__colsample_bytree=0.7, classifier__learning_rate=0.15, classifier__max_depth=9, classifier__n_estimators=150, classifier__reg_alpha=0.8, classifier__reg_lambda=0.2, classifier__subsample=1.0;, score=0.961 total time=   0.6s\n",
      "[CV 5/5] END classifier__colsample_bytree=0.7, classifier__learning_rate=0.15, classifier__max_depth=9, classifier__n_estimators=150, classifier__reg_alpha=0.8, classifier__reg_lambda=0.2, classifier__subsample=1.0;, score=0.945 total time=   0.4s\n"
     ]
    },
    {
     "name": "stderr",
     "output_type": "stream",
     "text": [
      "INFO:root:Iteration 98: tested parameters: [0.7, 0.15, 9, 150, 0.8, 0.2, 1.0], score: 0.9592902519554356\n"
     ]
    },
    {
     "name": "stdout",
     "output_type": "stream",
     "text": [
      "Fitting 5 folds for each of 1 candidates, totalling 5 fits\n",
      "[CV 3/5] END classifier__colsample_bytree=0.7, classifier__learning_rate=0.05, classifier__max_depth=3, classifier__n_estimators=150, classifier__reg_alpha=0.6, classifier__reg_lambda=0.6, classifier__subsample=0.7;, score=0.943 total time=   0.6s\n",
      "[CV 2/5] END classifier__colsample_bytree=0.7, classifier__learning_rate=0.05, classifier__max_depth=3, classifier__n_estimators=150, classifier__reg_alpha=0.6, classifier__reg_lambda=0.6, classifier__subsample=0.7;, score=0.962 total time=   0.6s\n",
      "[CV 1/5] END classifier__colsample_bytree=0.7, classifier__learning_rate=0.05, classifier__max_depth=3, classifier__n_estimators=150, classifier__reg_alpha=0.6, classifier__reg_lambda=0.6, classifier__subsample=0.7;, score=0.972 total time=   0.6s\n",
      "[CV 4/5] END classifier__colsample_bytree=0.7, classifier__learning_rate=0.05, classifier__max_depth=3, classifier__n_estimators=150, classifier__reg_alpha=0.6, classifier__reg_lambda=0.6, classifier__subsample=0.7;, score=0.961 total time=   0.7s\n",
      "[CV 5/5] END classifier__colsample_bytree=0.7, classifier__learning_rate=0.05, classifier__max_depth=3, classifier__n_estimators=150, classifier__reg_alpha=0.6, classifier__reg_lambda=0.6, classifier__subsample=0.7;, score=0.935 total time=   0.5s\n"
     ]
    },
    {
     "name": "stderr",
     "output_type": "stream",
     "text": [
      "INFO:root:Iteration 99: tested parameters: [0.7, 0.05, 3, 150, 0.6, 0.6, 0.7], score: 0.9543289310285973\n"
     ]
    },
    {
     "name": "stdout",
     "output_type": "stream",
     "text": [
      "Fitting 5 folds for each of 1 candidates, totalling 5 fits\n",
      "[CV 1/5] END classifier__colsample_bytree=0.7, classifier__learning_rate=0.15, classifier__max_depth=3, classifier__n_estimators=150, classifier__reg_alpha=1.0, classifier__reg_lambda=0.4, classifier__subsample=0.95;, score=0.972 total time=   0.4s\n",
      "[CV 3/5] END classifier__colsample_bytree=0.7, classifier__learning_rate=0.15, classifier__max_depth=3, classifier__n_estimators=150, classifier__reg_alpha=1.0, classifier__reg_lambda=0.4, classifier__subsample=0.95;, score=0.946 total time=   0.4s\n",
      "[CV 2/5] END classifier__colsample_bytree=0.7, classifier__learning_rate=0.15, classifier__max_depth=3, classifier__n_estimators=150, classifier__reg_alpha=1.0, classifier__reg_lambda=0.4, classifier__subsample=0.95;, score=0.958 total time=   0.4s\n",
      "[CV 4/5] END classifier__colsample_bytree=0.7, classifier__learning_rate=0.15, classifier__max_depth=3, classifier__n_estimators=150, classifier__reg_alpha=1.0, classifier__reg_lambda=0.4, classifier__subsample=0.95;, score=0.954 total time=   0.5s\n",
      "[CV 5/5] END classifier__colsample_bytree=0.7, classifier__learning_rate=0.15, classifier__max_depth=3, classifier__n_estimators=150, classifier__reg_alpha=1.0, classifier__reg_lambda=0.4, classifier__subsample=0.95;, score=0.942 total time=   0.3s\n"
     ]
    },
    {
     "name": "stderr",
     "output_type": "stream",
     "text": [
      "INFO:root:Iteration 100: tested parameters: [0.7, 0.15, 3, 150, 1.0, 0.4, 0.95], score: 0.954335864070013\n",
      "2024-10-22 17:43:11,869 | skopt_training | INFO | Best parameters: OrderedDict([('classifier__colsample_bytree', 0.7), ('classifier__learning_rate', 0.15), ('classifier__max_depth', 7), ('classifier__n_estimators', 300), ('classifier__reg_alpha', 1.0), ('classifier__reg_lambda', 0.2), ('classifier__subsample', 0.7)])\n",
      "INFO:skopt_training:Best parameters: OrderedDict([('classifier__colsample_bytree', 0.7), ('classifier__learning_rate', 0.15), ('classifier__max_depth', 7), ('classifier__n_estimators', 300), ('classifier__reg_alpha', 1.0), ('classifier__reg_lambda', 0.2), ('classifier__subsample', 0.7)])\n",
      "2024-10-22 17:43:11,890 | skopt_training | INFO | Best cross-validation score: 0.9663679749986758\n",
      "INFO:skopt_training:Best cross-validation score: 0.9663679749986758\n",
      "2024-10-22 17:43:11,910 | skopt_training | INFO | All hyperparameter combinations and their cross-validation results:\n",
      "INFO:skopt_training:All hyperparameter combinations and their cross-validation results:\n",
      "2024-10-22 17:43:11,911 | skopt_training | INFO | Params: OrderedDict([('classifier__colsample_bytree', 0.8), ('classifier__learning_rate', 0.15), ('classifier__max_depth', 10), ('classifier__n_estimators', 100), ('classifier__reg_alpha', 0.8), ('classifier__reg_lambda', 0.4), ('classifier__subsample', 0.8)]), Mean Test Score: 0.9587189822907286\n",
      "INFO:skopt_training:Params: OrderedDict([('classifier__colsample_bytree', 0.8), ('classifier__learning_rate', 0.15), ('classifier__max_depth', 10), ('classifier__n_estimators', 100), ('classifier__reg_alpha', 0.8), ('classifier__reg_lambda', 0.4), ('classifier__subsample', 0.8)]), Mean Test Score: 0.9587189822907286\n",
      "2024-10-22 17:43:11,912 | skopt_training | INFO | Params: OrderedDict([('classifier__colsample_bytree', 0.95), ('classifier__learning_rate', 0.2), ('classifier__max_depth', 5), ('classifier__n_estimators', 300), ('classifier__reg_alpha', 1.0), ('classifier__reg_lambda', 0.0), ('classifier__subsample', 0.7)]), Mean Test Score: 0.9593183490180153\n",
      "INFO:skopt_training:Params: OrderedDict([('classifier__colsample_bytree', 0.95), ('classifier__learning_rate', 0.2), ('classifier__max_depth', 5), ('classifier__n_estimators', 300), ('classifier__reg_alpha', 1.0), ('classifier__reg_lambda', 0.0), ('classifier__subsample', 0.7)]), Mean Test Score: 0.9593183490180153\n",
      "2024-10-22 17:43:11,913 | skopt_training | INFO | Params: OrderedDict([('classifier__colsample_bytree', 0.85), ('classifier__learning_rate', 0.2), ('classifier__max_depth', 3), ('classifier__n_estimators', 150), ('classifier__reg_alpha', 0.2), ('classifier__reg_lambda', 0.4), ('classifier__subsample', 0.75)]), Mean Test Score: 0.960011470711137\n",
      "INFO:skopt_training:Params: OrderedDict([('classifier__colsample_bytree', 0.85), ('classifier__learning_rate', 0.2), ('classifier__max_depth', 3), ('classifier__n_estimators', 150), ('classifier__reg_alpha', 0.2), ('classifier__reg_lambda', 0.4), ('classifier__subsample', 0.75)]), Mean Test Score: 0.960011470711137\n",
      "2024-10-22 17:43:11,914 | skopt_training | INFO | Params: OrderedDict([('classifier__colsample_bytree', 0.95), ('classifier__learning_rate', 0.01), ('classifier__max_depth', 7), ('classifier__n_estimators', 250), ('classifier__reg_alpha', 0.6), ('classifier__reg_lambda', 0.0), ('classifier__subsample', 0.95)]), Mean Test Score: 0.9448585082778631\n",
      "INFO:skopt_training:Params: OrderedDict([('classifier__colsample_bytree', 0.95), ('classifier__learning_rate', 0.01), ('classifier__max_depth', 7), ('classifier__n_estimators', 250), ('classifier__reg_alpha', 0.6), ('classifier__reg_lambda', 0.0), ('classifier__subsample', 0.95)]), Mean Test Score: 0.9448585082778631\n",
      "2024-10-22 17:43:11,915 | skopt_training | INFO | Params: OrderedDict([('classifier__colsample_bytree', 0.95), ('classifier__learning_rate', 0.1), ('classifier__max_depth', 7), ('classifier__n_estimators', 250), ('classifier__reg_alpha', 1.0), ('classifier__reg_lambda', 0.8), ('classifier__subsample', 0.8)]), Mean Test Score: 0.9565086427600331\n",
      "INFO:skopt_training:Params: OrderedDict([('classifier__colsample_bytree', 0.95), ('classifier__learning_rate', 0.1), ('classifier__max_depth', 7), ('classifier__n_estimators', 250), ('classifier__reg_alpha', 1.0), ('classifier__reg_lambda', 0.8), ('classifier__subsample', 0.8)]), Mean Test Score: 0.9565086427600331\n",
      "2024-10-22 17:43:11,924 | skopt_training | INFO | Params: OrderedDict([('classifier__colsample_bytree', 0.95), ('classifier__learning_rate', 0.2), ('classifier__max_depth', 4), ('classifier__n_estimators', 100), ('classifier__reg_alpha', 0.8), ('classifier__reg_lambda', 0.4), ('classifier__subsample', 0.85)]), Mean Test Score: 0.9521880572770451\n",
      "INFO:skopt_training:Params: OrderedDict([('classifier__colsample_bytree', 0.95), ('classifier__learning_rate', 0.2), ('classifier__max_depth', 4), ('classifier__n_estimators', 100), ('classifier__reg_alpha', 0.8), ('classifier__reg_lambda', 0.4), ('classifier__subsample', 0.85)]), Mean Test Score: 0.9521880572770451\n",
      "2024-10-22 17:43:11,926 | skopt_training | INFO | Params: OrderedDict([('classifier__colsample_bytree', 0.9), ('classifier__learning_rate', 0.15), ('classifier__max_depth', 5), ('classifier__n_estimators', 300), ('classifier__reg_alpha', 0.6), ('classifier__reg_lambda', 0.6), ('classifier__subsample', 0.9)]), Mean Test Score: 0.9600278675306484\n",
      "INFO:skopt_training:Params: OrderedDict([('classifier__colsample_bytree', 0.9), ('classifier__learning_rate', 0.15), ('classifier__max_depth', 5), ('classifier__n_estimators', 300), ('classifier__reg_alpha', 0.6), ('classifier__reg_lambda', 0.6), ('classifier__subsample', 0.9)]), Mean Test Score: 0.9600278675306484\n",
      "2024-10-22 17:43:11,927 | skopt_training | INFO | Params: OrderedDict([('classifier__colsample_bytree', 0.85), ('classifier__learning_rate', 0.2), ('classifier__max_depth', 6), ('classifier__n_estimators', 300), ('classifier__reg_alpha', 0.2), ('classifier__reg_lambda', 0.0), ('classifier__subsample', 0.85)]), Mean Test Score: 0.9600275261754684\n",
      "INFO:skopt_training:Params: OrderedDict([('classifier__colsample_bytree', 0.85), ('classifier__learning_rate', 0.2), ('classifier__max_depth', 6), ('classifier__n_estimators', 300), ('classifier__reg_alpha', 0.2), ('classifier__reg_lambda', 0.0), ('classifier__subsample', 0.85)]), Mean Test Score: 0.9600275261754684\n",
      "2024-10-22 17:43:11,927 | skopt_training | INFO | Params: OrderedDict([('classifier__colsample_bytree', 1.0), ('classifier__learning_rate', 0.15), ('classifier__max_depth', 9), ('classifier__n_estimators', 150), ('classifier__reg_alpha', 0.4), ('classifier__reg_lambda', 0.2), ('classifier__subsample', 0.7)]), Mean Test Score: 0.9580818958160447\n",
      "INFO:skopt_training:Params: OrderedDict([('classifier__colsample_bytree', 1.0), ('classifier__learning_rate', 0.15), ('classifier__max_depth', 9), ('classifier__n_estimators', 150), ('classifier__reg_alpha', 0.4), ('classifier__reg_lambda', 0.2), ('classifier__subsample', 0.7)]), Mean Test Score: 0.9580818958160447\n",
      "2024-10-22 17:43:11,928 | skopt_training | INFO | Params: OrderedDict([('classifier__colsample_bytree', 0.7), ('classifier__learning_rate', 0.2), ('classifier__max_depth', 8), ('classifier__n_estimators', 100), ('classifier__reg_alpha', 0.6), ('classifier__reg_lambda', 0.2), ('classifier__subsample', 0.8)]), Mean Test Score: 0.9628228190052439\n",
      "INFO:skopt_training:Params: OrderedDict([('classifier__colsample_bytree', 0.7), ('classifier__learning_rate', 0.2), ('classifier__max_depth', 8), ('classifier__n_estimators', 100), ('classifier__reg_alpha', 0.6), ('classifier__reg_lambda', 0.2), ('classifier__subsample', 0.8)]), Mean Test Score: 0.9628228190052439\n",
      "2024-10-22 17:43:11,929 | skopt_training | INFO | Params: OrderedDict([('classifier__colsample_bytree', 0.9), ('classifier__learning_rate', 0.15), ('classifier__max_depth', 5), ('classifier__n_estimators', 50), ('classifier__reg_alpha', 0.2), ('classifier__reg_lambda', 0.8), ('classifier__subsample', 0.9)]), Mean Test Score: 0.9572884274708523\n",
      "INFO:skopt_training:Params: OrderedDict([('classifier__colsample_bytree', 0.9), ('classifier__learning_rate', 0.15), ('classifier__max_depth', 5), ('classifier__n_estimators', 50), ('classifier__reg_alpha', 0.2), ('classifier__reg_lambda', 0.8), ('classifier__subsample', 0.9)]), Mean Test Score: 0.9572884274708523\n",
      "2024-10-22 17:43:11,930 | skopt_training | INFO | Params: OrderedDict([('classifier__colsample_bytree', 0.85), ('classifier__learning_rate', 0.15), ('classifier__max_depth', 6), ('classifier__n_estimators', 200), ('classifier__reg_alpha', 0.6), ('classifier__reg_lambda', 0.6), ('classifier__subsample', 0.7)]), Mean Test Score: 0.9642973674453096\n",
      "INFO:skopt_training:Params: OrderedDict([('classifier__colsample_bytree', 0.85), ('classifier__learning_rate', 0.15), ('classifier__max_depth', 6), ('classifier__n_estimators', 200), ('classifier__reg_alpha', 0.6), ('classifier__reg_lambda', 0.6), ('classifier__subsample', 0.7)]), Mean Test Score: 0.9642973674453096\n",
      "2024-10-22 17:43:11,931 | skopt_training | INFO | Params: OrderedDict([('classifier__colsample_bytree', 0.75), ('classifier__learning_rate', 0.15), ('classifier__max_depth', 6), ('classifier__n_estimators', 300), ('classifier__reg_alpha', 0.6), ('classifier__reg_lambda', 0.6), ('classifier__subsample', 0.7)]), Mean Test Score: 0.9642497483976905\n",
      "INFO:skopt_training:Params: OrderedDict([('classifier__colsample_bytree', 0.75), ('classifier__learning_rate', 0.15), ('classifier__max_depth', 6), ('classifier__n_estimators', 300), ('classifier__reg_alpha', 0.6), ('classifier__reg_lambda', 0.6), ('classifier__subsample', 0.7)]), Mean Test Score: 0.9642497483976905\n",
      "2024-10-22 17:43:11,932 | skopt_training | INFO | Params: OrderedDict([('classifier__colsample_bytree', 0.75), ('classifier__learning_rate', 0.15), ('classifier__max_depth', 6), ('classifier__n_estimators', 200), ('classifier__reg_alpha', 0.0), ('classifier__reg_lambda', 0.6), ('classifier__subsample', 0.7)]), Mean Test Score: 0.9607963639787889\n",
      "INFO:skopt_training:Params: OrderedDict([('classifier__colsample_bytree', 0.75), ('classifier__learning_rate', 0.15), ('classifier__max_depth', 6), ('classifier__n_estimators', 200), ('classifier__reg_alpha', 0.0), ('classifier__reg_lambda', 0.6), ('classifier__subsample', 0.7)]), Mean Test Score: 0.9607963639787889\n",
      "2024-10-22 17:43:11,933 | skopt_training | INFO | Params: OrderedDict([('classifier__colsample_bytree', 0.75), ('classifier__learning_rate', 0.15), ('classifier__max_depth', 6), ('classifier__n_estimators', 200), ('classifier__reg_alpha', 0.6), ('classifier__reg_lambda', 0.4), ('classifier__subsample', 1.0)]), Mean Test Score: 0.9564064716233792\n",
      "INFO:skopt_training:Params: OrderedDict([('classifier__colsample_bytree', 0.75), ('classifier__learning_rate', 0.15), ('classifier__max_depth', 6), ('classifier__n_estimators', 200), ('classifier__reg_alpha', 0.6), ('classifier__reg_lambda', 0.4), ('classifier__subsample', 1.0)]), Mean Test Score: 0.9564064716233792\n",
      "2024-10-22 17:43:11,934 | skopt_training | INFO | Params: OrderedDict([('classifier__colsample_bytree', 0.85), ('classifier__learning_rate', 0.15), ('classifier__max_depth', 9), ('classifier__n_estimators', 200), ('classifier__reg_alpha', 0.6), ('classifier__reg_lambda', 0.6), ('classifier__subsample', 0.7)]), Mean Test Score: 0.9642939009246015\n",
      "INFO:skopt_training:Params: OrderedDict([('classifier__colsample_bytree', 0.85), ('classifier__learning_rate', 0.15), ('classifier__max_depth', 9), ('classifier__n_estimators', 200), ('classifier__reg_alpha', 0.6), ('classifier__reg_lambda', 0.6), ('classifier__subsample', 0.7)]), Mean Test Score: 0.9642939009246015\n",
      "2024-10-22 17:43:11,935 | skopt_training | INFO | Params: OrderedDict([('classifier__colsample_bytree', 0.8), ('classifier__learning_rate', 0.15), ('classifier__max_depth', 10), ('classifier__n_estimators', 200), ('classifier__reg_alpha', 0.6), ('classifier__reg_lambda', 0.6), ('classifier__subsample', 0.7)]), Mean Test Score: 0.9593874734419785\n",
      "INFO:skopt_training:Params: OrderedDict([('classifier__colsample_bytree', 0.8), ('classifier__learning_rate', 0.15), ('classifier__max_depth', 10), ('classifier__n_estimators', 200), ('classifier__reg_alpha', 0.6), ('classifier__reg_lambda', 0.6), ('classifier__subsample', 0.7)]), Mean Test Score: 0.9593874734419785\n",
      "2024-10-22 17:43:11,936 | skopt_training | INFO | Params: OrderedDict([('classifier__colsample_bytree', 1.0), ('classifier__learning_rate', 0.1), ('classifier__max_depth', 9), ('classifier__n_estimators', 200), ('classifier__reg_alpha', 0.6), ('classifier__reg_lambda', 0.6), ('classifier__subsample', 0.7)]), Mean Test Score: 0.9607204654201315\n",
      "INFO:skopt_training:Params: OrderedDict([('classifier__colsample_bytree', 1.0), ('classifier__learning_rate', 0.1), ('classifier__max_depth', 9), ('classifier__n_estimators', 200), ('classifier__reg_alpha', 0.6), ('classifier__reg_lambda', 0.6), ('classifier__subsample', 0.7)]), Mean Test Score: 0.9607204654201315\n",
      "2024-10-22 17:43:11,938 | skopt_training | INFO | Params: OrderedDict([('classifier__colsample_bytree', 0.75), ('classifier__learning_rate', 0.15), ('classifier__max_depth', 5), ('classifier__n_estimators', 300), ('classifier__reg_alpha', 0.6), ('classifier__reg_lambda', 0.6), ('classifier__subsample', 0.95)]), Mean Test Score: 0.9571209397861233\n",
      "INFO:skopt_training:Params: OrderedDict([('classifier__colsample_bytree', 0.75), ('classifier__learning_rate', 0.15), ('classifier__max_depth', 5), ('classifier__n_estimators', 300), ('classifier__reg_alpha', 0.6), ('classifier__reg_lambda', 0.6), ('classifier__subsample', 0.95)]), Mean Test Score: 0.9571209397861233\n",
      "2024-10-22 17:43:11,939 | skopt_training | INFO | Params: OrderedDict([('classifier__colsample_bytree', 0.95), ('classifier__learning_rate', 0.15), ('classifier__max_depth', 6), ('classifier__n_estimators', 300), ('classifier__reg_alpha', 0.6), ('classifier__reg_lambda', 0.6), ('classifier__subsample', 0.7)]), Mean Test Score: 0.9642743789395626\n",
      "INFO:skopt_training:Params: OrderedDict([('classifier__colsample_bytree', 0.95), ('classifier__learning_rate', 0.15), ('classifier__max_depth', 6), ('classifier__n_estimators', 300), ('classifier__reg_alpha', 0.6), ('classifier__reg_lambda', 0.6), ('classifier__subsample', 0.7)]), Mean Test Score: 0.9642743789395626\n",
      "2024-10-22 17:43:11,940 | skopt_training | INFO | Params: OrderedDict([('classifier__colsample_bytree', 0.7), ('classifier__learning_rate', 0.05), ('classifier__max_depth', 8), ('classifier__n_estimators', 200), ('classifier__reg_alpha', 0.0), ('classifier__reg_lambda', 0.2), ('classifier__subsample', 0.85)]), Mean Test Score: 0.9629063568574135\n",
      "INFO:skopt_training:Params: OrderedDict([('classifier__colsample_bytree', 0.7), ('classifier__learning_rate', 0.05), ('classifier__max_depth', 8), ('classifier__n_estimators', 200), ('classifier__reg_alpha', 0.0), ('classifier__reg_lambda', 0.2), ('classifier__subsample', 0.85)]), Mean Test Score: 0.9629063568574135\n",
      "2024-10-22 17:43:11,941 | skopt_training | INFO | Params: OrderedDict([('classifier__colsample_bytree', 0.85), ('classifier__learning_rate', 0.01), ('classifier__max_depth', 6), ('classifier__n_estimators', 200), ('classifier__reg_alpha', 0.6), ('classifier__reg_lambda', 0.6), ('classifier__subsample', 0.7)]), Mean Test Score: 0.9425702867972054\n",
      "INFO:skopt_training:Params: OrderedDict([('classifier__colsample_bytree', 0.85), ('classifier__learning_rate', 0.01), ('classifier__max_depth', 6), ('classifier__n_estimators', 200), ('classifier__reg_alpha', 0.6), ('classifier__reg_lambda', 0.6), ('classifier__subsample', 0.7)]), Mean Test Score: 0.9425702867972054\n",
      "2024-10-22 17:43:11,942 | skopt_training | INFO | Params: OrderedDict([('classifier__colsample_bytree', 0.95), ('classifier__learning_rate', 0.15), ('classifier__max_depth', 9), ('classifier__n_estimators', 250), ('classifier__reg_alpha', 0.6), ('classifier__reg_lambda', 1.0), ('classifier__subsample', 0.9)]), Mean Test Score: 0.955842158541825\n",
      "INFO:skopt_training:Params: OrderedDict([('classifier__colsample_bytree', 0.95), ('classifier__learning_rate', 0.15), ('classifier__max_depth', 9), ('classifier__n_estimators', 250), ('classifier__reg_alpha', 0.6), ('classifier__reg_lambda', 1.0), ('classifier__subsample', 0.9)]), Mean Test Score: 0.955842158541825\n",
      "2024-10-22 17:43:11,942 | skopt_training | INFO | Params: OrderedDict([('classifier__colsample_bytree', 0.7), ('classifier__learning_rate', 0.15), ('classifier__max_depth', 8), ('classifier__n_estimators', 50), ('classifier__reg_alpha', 0.6), ('classifier__reg_lambda', 0.6), ('classifier__subsample', 0.7)]), Mean Test Score: 0.962768266916209\n",
      "INFO:skopt_training:Params: OrderedDict([('classifier__colsample_bytree', 0.7), ('classifier__learning_rate', 0.15), ('classifier__max_depth', 8), ('classifier__n_estimators', 50), ('classifier__reg_alpha', 0.6), ('classifier__reg_lambda', 0.6), ('classifier__subsample', 0.7)]), Mean Test Score: 0.962768266916209\n",
      "2024-10-22 17:43:11,943 | skopt_training | INFO | Params: OrderedDict([('classifier__colsample_bytree', 0.95), ('classifier__learning_rate', 0.15), ('classifier__max_depth', 3), ('classifier__n_estimators', 200), ('classifier__reg_alpha', 0.6), ('classifier__reg_lambda', 0.6), ('classifier__subsample', 0.7)]), Mean Test Score: 0.9571718429059919\n",
      "INFO:skopt_training:Params: OrderedDict([('classifier__colsample_bytree', 0.95), ('classifier__learning_rate', 0.15), ('classifier__max_depth', 3), ('classifier__n_estimators', 200), ('classifier__reg_alpha', 0.6), ('classifier__reg_lambda', 0.6), ('classifier__subsample', 0.7)]), Mean Test Score: 0.9571718429059919\n",
      "2024-10-22 17:43:11,944 | skopt_training | INFO | Params: OrderedDict([('classifier__colsample_bytree', 0.95), ('classifier__learning_rate', 0.15), ('classifier__max_depth', 9), ('classifier__n_estimators', 200), ('classifier__reg_alpha', 0.4), ('classifier__reg_lambda', 0.6), ('classifier__subsample', 0.75)]), Mean Test Score: 0.9629904891384312\n",
      "INFO:skopt_training:Params: OrderedDict([('classifier__colsample_bytree', 0.95), ('classifier__learning_rate', 0.15), ('classifier__max_depth', 9), ('classifier__n_estimators', 200), ('classifier__reg_alpha', 0.4), ('classifier__reg_lambda', 0.6), ('classifier__subsample', 0.75)]), Mean Test Score: 0.9629904891384312\n",
      "2024-10-22 17:43:11,945 | skopt_training | INFO | Params: OrderedDict([('classifier__colsample_bytree', 0.9), ('classifier__learning_rate', 0.15), ('classifier__max_depth', 7), ('classifier__n_estimators', 100), ('classifier__reg_alpha', 0.6), ('classifier__reg_lambda', 0.0), ('classifier__subsample', 0.9)]), Mean Test Score: 0.9536991189505095\n",
      "INFO:skopt_training:Params: OrderedDict([('classifier__colsample_bytree', 0.9), ('classifier__learning_rate', 0.15), ('classifier__max_depth', 7), ('classifier__n_estimators', 100), ('classifier__reg_alpha', 0.6), ('classifier__reg_lambda', 0.0), ('classifier__subsample', 0.9)]), Mean Test Score: 0.9536991189505095\n",
      "2024-10-22 17:43:11,946 | skopt_training | INFO | Params: OrderedDict([('classifier__colsample_bytree', 0.85), ('classifier__learning_rate', 0.15), ('classifier__max_depth', 6), ('classifier__n_estimators', 200), ('classifier__reg_alpha', 0.6), ('classifier__reg_lambda', 0.2), ('classifier__subsample', 0.7)]), Mean Test Score: 0.9636323428147676\n",
      "INFO:skopt_training:Params: OrderedDict([('classifier__colsample_bytree', 0.85), ('classifier__learning_rate', 0.15), ('classifier__max_depth', 6), ('classifier__n_estimators', 200), ('classifier__reg_alpha', 0.6), ('classifier__reg_lambda', 0.2), ('classifier__subsample', 0.7)]), Mean Test Score: 0.9636323428147676\n",
      "2024-10-22 17:43:11,947 | skopt_training | INFO | Params: OrderedDict([('classifier__colsample_bytree', 0.85), ('classifier__learning_rate', 0.15), ('classifier__max_depth', 4), ('classifier__n_estimators', 200), ('classifier__reg_alpha', 0.6), ('classifier__reg_lambda', 0.0), ('classifier__subsample', 0.7)]), Mean Test Score: 0.9614810695010918\n",
      "INFO:skopt_training:Params: OrderedDict([('classifier__colsample_bytree', 0.85), ('classifier__learning_rate', 0.15), ('classifier__max_depth', 4), ('classifier__n_estimators', 200), ('classifier__reg_alpha', 0.6), ('classifier__reg_lambda', 0.0), ('classifier__subsample', 0.7)]), Mean Test Score: 0.9614810695010918\n",
      "2024-10-22 17:43:11,947 | skopt_training | INFO | Params: OrderedDict([('classifier__colsample_bytree', 0.8), ('classifier__learning_rate', 0.2), ('classifier__max_depth', 10), ('classifier__n_estimators', 100), ('classifier__reg_alpha', 0.0), ('classifier__reg_lambda', 0.2), ('classifier__subsample', 0.95)]), Mean Test Score: 0.9551882397255034\n",
      "INFO:skopt_training:Params: OrderedDict([('classifier__colsample_bytree', 0.8), ('classifier__learning_rate', 0.2), ('classifier__max_depth', 10), ('classifier__n_estimators', 100), ('classifier__reg_alpha', 0.0), ('classifier__reg_lambda', 0.2), ('classifier__subsample', 0.95)]), Mean Test Score: 0.9551882397255034\n",
      "2024-10-22 17:43:11,948 | skopt_training | INFO | Params: OrderedDict([('classifier__colsample_bytree', 0.95), ('classifier__learning_rate', 0.2), ('classifier__max_depth', 4), ('classifier__n_estimators', 250), ('classifier__reg_alpha', 0.0), ('classifier__reg_lambda', 0.8), ('classifier__subsample', 0.8)]), Mean Test Score: 0.9614314670621678\n",
      "INFO:skopt_training:Params: OrderedDict([('classifier__colsample_bytree', 0.95), ('classifier__learning_rate', 0.2), ('classifier__max_depth', 4), ('classifier__n_estimators', 250), ('classifier__reg_alpha', 0.0), ('classifier__reg_lambda', 0.8), ('classifier__subsample', 0.8)]), Mean Test Score: 0.9614314670621678\n",
      "2024-10-22 17:43:11,949 | skopt_training | INFO | Params: OrderedDict([('classifier__colsample_bytree', 0.85), ('classifier__learning_rate', 0.15), ('classifier__max_depth', 9), ('classifier__n_estimators', 100), ('classifier__reg_alpha', 0.8), ('classifier__reg_lambda', 0.6), ('classifier__subsample', 0.75)]), Mean Test Score: 0.9607963639787889\n",
      "INFO:skopt_training:Params: OrderedDict([('classifier__colsample_bytree', 0.85), ('classifier__learning_rate', 0.15), ('classifier__max_depth', 9), ('classifier__n_estimators', 100), ('classifier__reg_alpha', 0.8), ('classifier__reg_lambda', 0.6), ('classifier__subsample', 0.75)]), Mean Test Score: 0.9607963639787889\n",
      "2024-10-22 17:43:11,949 | skopt_training | INFO | Params: OrderedDict([('classifier__colsample_bytree', 0.9), ('classifier__learning_rate', 0.15), ('classifier__max_depth', 9), ('classifier__n_estimators', 100), ('classifier__reg_alpha', 0.6), ('classifier__reg_lambda', 0.6), ('classifier__subsample', 1.0)]), Mean Test Score: 0.9570683710883934\n",
      "INFO:skopt_training:Params: OrderedDict([('classifier__colsample_bytree', 0.9), ('classifier__learning_rate', 0.15), ('classifier__max_depth', 9), ('classifier__n_estimators', 100), ('classifier__reg_alpha', 0.6), ('classifier__reg_lambda', 0.6), ('classifier__subsample', 1.0)]), Mean Test Score: 0.9570683710883934\n",
      "2024-10-22 17:43:11,950 | skopt_training | INFO | Params: OrderedDict([('classifier__colsample_bytree', 0.95), ('classifier__learning_rate', 0.01), ('classifier__max_depth', 9), ('classifier__n_estimators', 300), ('classifier__reg_alpha', 0.2), ('classifier__reg_lambda', 1.0), ('classifier__subsample', 0.9)]), Mean Test Score: 0.9445717699266087\n",
      "INFO:skopt_training:Params: OrderedDict([('classifier__colsample_bytree', 0.95), ('classifier__learning_rate', 0.01), ('classifier__max_depth', 9), ('classifier__n_estimators', 300), ('classifier__reg_alpha', 0.2), ('classifier__reg_lambda', 1.0), ('classifier__subsample', 0.9)]), Mean Test Score: 0.9445717699266087\n",
      "2024-10-22 17:43:11,951 | skopt_training | INFO | Params: OrderedDict([('classifier__colsample_bytree', 0.7), ('classifier__learning_rate', 0.15), ('classifier__max_depth', 10), ('classifier__n_estimators', 250), ('classifier__reg_alpha', 0.0), ('classifier__reg_lambda', 0.2), ('classifier__subsample', 0.95)]), Mean Test Score: 0.9642661452172018\n",
      "INFO:skopt_training:Params: OrderedDict([('classifier__colsample_bytree', 0.7), ('classifier__learning_rate', 0.15), ('classifier__max_depth', 10), ('classifier__n_estimators', 250), ('classifier__reg_alpha', 0.0), ('classifier__reg_lambda', 0.2), ('classifier__subsample', 0.95)]), Mean Test Score: 0.9642661452172018\n",
      "2024-10-22 17:43:11,952 | skopt_training | INFO | Params: OrderedDict([('classifier__colsample_bytree', 0.9), ('classifier__learning_rate', 0.1), ('classifier__max_depth', 8), ('classifier__n_estimators', 50), ('classifier__reg_alpha', 0.2), ('classifier__reg_lambda', 0.2), ('classifier__subsample', 0.9)]), Mean Test Score: 0.9571371541571765\n",
      "INFO:skopt_training:Params: OrderedDict([('classifier__colsample_bytree', 0.9), ('classifier__learning_rate', 0.1), ('classifier__max_depth', 8), ('classifier__n_estimators', 50), ('classifier__reg_alpha', 0.2), ('classifier__reg_lambda', 0.2), ('classifier__subsample', 0.9)]), Mean Test Score: 0.9571371541571765\n",
      "2024-10-22 17:43:11,952 | skopt_training | INFO | Params: OrderedDict([('classifier__colsample_bytree', 0.8), ('classifier__learning_rate', 0.15), ('classifier__max_depth', 7), ('classifier__n_estimators', 200), ('classifier__reg_alpha', 0.0), ('classifier__reg_lambda', 0.2), ('classifier__subsample', 0.9)]), Mean Test Score: 0.9592637969289803\n",
      "INFO:skopt_training:Params: OrderedDict([('classifier__colsample_bytree', 0.8), ('classifier__learning_rate', 0.15), ('classifier__max_depth', 7), ('classifier__n_estimators', 200), ('classifier__reg_alpha', 0.0), ('classifier__reg_lambda', 0.2), ('classifier__subsample', 0.9)]), Mean Test Score: 0.9592637969289803\n",
      "2024-10-22 17:43:11,953 | skopt_training | INFO | Params: OrderedDict([('classifier__colsample_bytree', 0.95), ('classifier__learning_rate', 0.1), ('classifier__max_depth', 8), ('classifier__n_estimators', 200), ('classifier__reg_alpha', 0.0), ('classifier__reg_lambda', 1.0), ('classifier__subsample', 1.0)]), Mean Test Score: 0.9501685352920057\n",
      "INFO:skopt_training:Params: OrderedDict([('classifier__colsample_bytree', 0.95), ('classifier__learning_rate', 0.1), ('classifier__max_depth', 8), ('classifier__n_estimators', 200), ('classifier__reg_alpha', 0.0), ('classifier__reg_lambda', 1.0), ('classifier__subsample', 1.0)]), Mean Test Score: 0.9501685352920057\n",
      "2024-10-22 17:43:11,954 | skopt_training | INFO | Params: OrderedDict([('classifier__colsample_bytree', 0.7), ('classifier__learning_rate', 0.05), ('classifier__max_depth', 8), ('classifier__n_estimators', 150), ('classifier__reg_alpha', 0.0), ('classifier__reg_lambda', 0.8), ('classifier__subsample', 0.7)]), Mean Test Score: 0.964340219291276\n",
      "INFO:skopt_training:Params: OrderedDict([('classifier__colsample_bytree', 0.7), ('classifier__learning_rate', 0.05), ('classifier__max_depth', 8), ('classifier__n_estimators', 150), ('classifier__reg_alpha', 0.0), ('classifier__reg_lambda', 0.8), ('classifier__subsample', 0.7)]), Mean Test Score: 0.964340219291276\n",
      "2024-10-22 17:43:11,955 | skopt_training | INFO | Params: OrderedDict([('classifier__colsample_bytree', 1.0), ('classifier__learning_rate', 0.15), ('classifier__max_depth', 10), ('classifier__n_estimators', 250), ('classifier__reg_alpha', 0.0), ('classifier__reg_lambda', 0.2), ('classifier__subsample', 0.7)]), Mean Test Score: 0.9622990094814343\n",
      "INFO:skopt_training:Params: OrderedDict([('classifier__colsample_bytree', 1.0), ('classifier__learning_rate', 0.15), ('classifier__max_depth', 10), ('classifier__n_estimators', 250), ('classifier__reg_alpha', 0.0), ('classifier__reg_lambda', 0.2), ('classifier__subsample', 0.7)]), Mean Test Score: 0.9622990094814343\n",
      "2024-10-22 17:43:11,957 | skopt_training | INFO | Params: OrderedDict([('classifier__colsample_bytree', 0.95), ('classifier__learning_rate', 0.2), ('classifier__max_depth', 8), ('classifier__n_estimators', 150), ('classifier__reg_alpha', 0.8), ('classifier__reg_lambda', 1.0), ('classifier__subsample', 0.8)]), Mean Test Score: 0.957732871915297\n",
      "INFO:skopt_training:Params: OrderedDict([('classifier__colsample_bytree', 0.95), ('classifier__learning_rate', 0.2), ('classifier__max_depth', 8), ('classifier__n_estimators', 150), ('classifier__reg_alpha', 0.8), ('classifier__reg_lambda', 1.0), ('classifier__subsample', 0.8)]), Mean Test Score: 0.957732871915297\n",
      "2024-10-22 17:43:11,958 | skopt_training | INFO | Params: OrderedDict([('classifier__colsample_bytree', 0.8), ('classifier__learning_rate', 0.2), ('classifier__max_depth', 3), ('classifier__n_estimators', 150), ('classifier__reg_alpha', 0.2), ('classifier__reg_lambda', 0.4), ('classifier__subsample', 0.75)]), Mean Test Score: 0.9599569186221022\n",
      "INFO:skopt_training:Params: OrderedDict([('classifier__colsample_bytree', 0.8), ('classifier__learning_rate', 0.2), ('classifier__max_depth', 3), ('classifier__n_estimators', 150), ('classifier__reg_alpha', 0.2), ('classifier__reg_lambda', 0.4), ('classifier__subsample', 0.75)]), Mean Test Score: 0.9599569186221022\n",
      "2024-10-22 17:43:11,959 | skopt_training | INFO | Params: OrderedDict([('classifier__colsample_bytree', 1.0), ('classifier__learning_rate', 0.15), ('classifier__max_depth', 9), ('classifier__n_estimators', 300), ('classifier__reg_alpha', 0.6), ('classifier__reg_lambda', 0.6), ('classifier__subsample', 1.0)]), Mean Test Score: 0.9507097009610913\n",
      "INFO:skopt_training:Params: OrderedDict([('classifier__colsample_bytree', 1.0), ('classifier__learning_rate', 0.15), ('classifier__max_depth', 9), ('classifier__n_estimators', 300), ('classifier__reg_alpha', 0.6), ('classifier__reg_lambda', 0.6), ('classifier__subsample', 1.0)]), Mean Test Score: 0.9507097009610913\n",
      "2024-10-22 17:43:11,960 | skopt_training | INFO | Params: OrderedDict([('classifier__colsample_bytree', 0.85), ('classifier__learning_rate', 0.15), ('classifier__max_depth', 6), ('classifier__n_estimators', 200), ('classifier__reg_alpha', 0.6), ('classifier__reg_lambda', 0.4), ('classifier__subsample', 0.7)]), Mean Test Score: 0.960106708806375\n",
      "INFO:skopt_training:Params: OrderedDict([('classifier__colsample_bytree', 0.85), ('classifier__learning_rate', 0.15), ('classifier__max_depth', 6), ('classifier__n_estimators', 200), ('classifier__reg_alpha', 0.6), ('classifier__reg_lambda', 0.4), ('classifier__subsample', 0.7)]), Mean Test Score: 0.960106708806375\n",
      "2024-10-22 17:43:11,960 | skopt_training | INFO | Params: OrderedDict([('classifier__colsample_bytree', 0.7), ('classifier__learning_rate', 0.2), ('classifier__max_depth', 5), ('classifier__n_estimators', 300), ('classifier__reg_alpha', 0.0), ('classifier__reg_lambda', 0.8), ('classifier__subsample', 0.75)]), Mean Test Score: 0.9643944300251309\n",
      "INFO:skopt_training:Params: OrderedDict([('classifier__colsample_bytree', 0.7), ('classifier__learning_rate', 0.2), ('classifier__max_depth', 5), ('classifier__n_estimators', 300), ('classifier__reg_alpha', 0.0), ('classifier__reg_lambda', 0.8), ('classifier__subsample', 0.75)]), Mean Test Score: 0.9643944300251309\n",
      "2024-10-22 17:43:11,961 | skopt_training | INFO | Params: OrderedDict([('classifier__colsample_bytree', 0.7), ('classifier__learning_rate', 0.1), ('classifier__max_depth', 5), ('classifier__n_estimators', 250), ('classifier__reg_alpha', 0.8), ('classifier__reg_lambda', 1.0), ('classifier__subsample', 0.9)]), Mean Test Score: 0.9594400421397085\n",
      "INFO:skopt_training:Params: OrderedDict([('classifier__colsample_bytree', 0.7), ('classifier__learning_rate', 0.1), ('classifier__max_depth', 5), ('classifier__n_estimators', 250), ('classifier__reg_alpha', 0.8), ('classifier__reg_lambda', 1.0), ('classifier__subsample', 0.9)]), Mean Test Score: 0.9594400421397085\n",
      "2024-10-22 17:43:11,962 | skopt_training | INFO | Params: OrderedDict([('classifier__colsample_bytree', 0.85), ('classifier__learning_rate', 0.15), ('classifier__max_depth', 5), ('classifier__n_estimators', 300), ('classifier__reg_alpha', 0.6), ('classifier__reg_lambda', 0.4), ('classifier__subsample', 0.95)]), Mean Test Score: 0.9592937184761434\n",
      "INFO:skopt_training:Params: OrderedDict([('classifier__colsample_bytree', 0.85), ('classifier__learning_rate', 0.15), ('classifier__max_depth', 5), ('classifier__n_estimators', 300), ('classifier__reg_alpha', 0.6), ('classifier__reg_lambda', 0.4), ('classifier__subsample', 0.95)]), Mean Test Score: 0.9592937184761434\n",
      "2024-10-22 17:43:11,963 | skopt_training | INFO | Params: OrderedDict([('classifier__colsample_bytree', 0.7), ('classifier__learning_rate', 0.05), ('classifier__max_depth', 5), ('classifier__n_estimators', 150), ('classifier__reg_alpha', 1.0), ('classifier__reg_lambda', 0.6), ('classifier__subsample', 1.0)]), Mean Test Score: 0.9573099328471963\n",
      "INFO:skopt_training:Params: OrderedDict([('classifier__colsample_bytree', 0.7), ('classifier__learning_rate', 0.05), ('classifier__max_depth', 5), ('classifier__n_estimators', 150), ('classifier__reg_alpha', 1.0), ('classifier__reg_lambda', 0.6), ('classifier__subsample', 1.0)]), Mean Test Score: 0.9573099328471963\n",
      "2024-10-22 17:43:11,963 | skopt_training | INFO | Params: OrderedDict([('classifier__colsample_bytree', 0.85), ('classifier__learning_rate', 0.1), ('classifier__max_depth', 3), ('classifier__n_estimators', 200), ('classifier__reg_alpha', 0.6), ('classifier__reg_lambda', 0.4), ('classifier__subsample', 1.0)]), Mean Test Score: 0.9509105767136912\n",
      "INFO:skopt_training:Params: OrderedDict([('classifier__colsample_bytree', 0.85), ('classifier__learning_rate', 0.1), ('classifier__max_depth', 3), ('classifier__n_estimators', 200), ('classifier__reg_alpha', 0.6), ('classifier__reg_lambda', 0.4), ('classifier__subsample', 1.0)]), Mean Test Score: 0.9509105767136912\n",
      "2024-10-22 17:43:11,965 | skopt_training | INFO | Params: OrderedDict([('classifier__colsample_bytree', 0.7), ('classifier__learning_rate', 0.2), ('classifier__max_depth', 5), ('classifier__n_estimators', 300), ('classifier__reg_alpha', 0.0), ('classifier__reg_lambda', 0.4), ('classifier__subsample', 0.7)]), Mean Test Score: 0.9628405165057\n",
      "INFO:skopt_training:Params: OrderedDict([('classifier__colsample_bytree', 0.7), ('classifier__learning_rate', 0.2), ('classifier__max_depth', 5), ('classifier__n_estimators', 300), ('classifier__reg_alpha', 0.0), ('classifier__reg_lambda', 0.4), ('classifier__subsample', 0.7)]), Mean Test Score: 0.9628405165057\n",
      "2024-10-22 17:43:11,966 | skopt_training | INFO | Params: OrderedDict([('classifier__colsample_bytree', 1.0), ('classifier__learning_rate', 0.1), ('classifier__max_depth', 5), ('classifier__n_estimators', 150), ('classifier__reg_alpha', 0.0), ('classifier__reg_lambda', 0.0), ('classifier__subsample', 0.8)]), Mean Test Score: 0.9579636692150595\n",
      "INFO:skopt_training:Params: OrderedDict([('classifier__colsample_bytree', 1.0), ('classifier__learning_rate', 0.1), ('classifier__max_depth', 5), ('classifier__n_estimators', 150), ('classifier__reg_alpha', 0.0), ('classifier__reg_lambda', 0.0), ('classifier__subsample', 0.8)]), Mean Test Score: 0.9579636692150595\n",
      "2024-10-22 17:43:11,967 | skopt_training | INFO | Params: OrderedDict([('classifier__colsample_bytree', 0.7), ('classifier__learning_rate', 0.15), ('classifier__max_depth', 10), ('classifier__n_estimators', 250), ('classifier__reg_alpha', 1.0), ('classifier__reg_lambda', 0.6), ('classifier__subsample', 0.9)]), Mean Test Score: 0.9607945394942057\n",
      "INFO:skopt_training:Params: OrderedDict([('classifier__colsample_bytree', 0.7), ('classifier__learning_rate', 0.15), ('classifier__max_depth', 10), ('classifier__n_estimators', 250), ('classifier__reg_alpha', 1.0), ('classifier__reg_lambda', 0.6), ('classifier__subsample', 0.9)]), Mean Test Score: 0.9607945394942057\n",
      "2024-10-22 17:43:11,968 | skopt_training | INFO | Params: OrderedDict([('classifier__colsample_bytree', 1.0), ('classifier__learning_rate', 0.05), ('classifier__max_depth', 4), ('classifier__n_estimators', 150), ('classifier__reg_alpha', 0.8), ('classifier__reg_lambda', 0.8), ('classifier__subsample', 0.7)]), Mean Test Score: 0.9542072379069042\n",
      "INFO:skopt_training:Params: OrderedDict([('classifier__colsample_bytree', 1.0), ('classifier__learning_rate', 0.05), ('classifier__max_depth', 4), ('classifier__n_estimators', 150), ('classifier__reg_alpha', 0.8), ('classifier__reg_lambda', 0.8), ('classifier__subsample', 0.7)]), Mean Test Score: 0.9542072379069042\n",
      "2024-10-22 17:43:11,969 | skopt_training | INFO | Params: OrderedDict([('classifier__colsample_bytree', 0.7), ('classifier__learning_rate', 0.05), ('classifier__max_depth', 5), ('classifier__n_estimators', 50), ('classifier__reg_alpha', 0.0), ('classifier__reg_lambda', 1.0), ('classifier__subsample', 0.8)]), Mean Test Score: 0.9531210986928451\n",
      "INFO:skopt_training:Params: OrderedDict([('classifier__colsample_bytree', 0.7), ('classifier__learning_rate', 0.05), ('classifier__max_depth', 5), ('classifier__n_estimators', 50), ('classifier__reg_alpha', 0.0), ('classifier__reg_lambda', 1.0), ('classifier__subsample', 0.8)]), Mean Test Score: 0.9531210986928451\n",
      "2024-10-22 17:43:11,970 | skopt_training | INFO | Params: OrderedDict([('classifier__colsample_bytree', 1.0), ('classifier__learning_rate', 0.05), ('classifier__max_depth', 4), ('classifier__n_estimators', 250), ('classifier__reg_alpha', 0.2), ('classifier__reg_lambda', 0.0), ('classifier__subsample', 0.9)]), Mean Test Score: 0.9556622643619306\n",
      "INFO:skopt_training:Params: OrderedDict([('classifier__colsample_bytree', 1.0), ('classifier__learning_rate', 0.05), ('classifier__max_depth', 4), ('classifier__n_estimators', 250), ('classifier__reg_alpha', 0.2), ('classifier__reg_lambda', 0.0), ('classifier__subsample', 0.9)]), Mean Test Score: 0.9556622643619306\n",
      "2024-10-22 17:43:11,971 | skopt_training | INFO | Params: OrderedDict([('classifier__colsample_bytree', 0.85), ('classifier__learning_rate', 0.01), ('classifier__max_depth', 3), ('classifier__n_estimators', 150), ('classifier__reg_alpha', 1.0), ('classifier__reg_lambda', 0.4), ('classifier__subsample', 0.8)]), Mean Test Score: 0.9142711596070884\n",
      "INFO:skopt_training:Params: OrderedDict([('classifier__colsample_bytree', 0.85), ('classifier__learning_rate', 0.01), ('classifier__max_depth', 3), ('classifier__n_estimators', 150), ('classifier__reg_alpha', 1.0), ('classifier__reg_lambda', 0.4), ('classifier__subsample', 0.8)]), Mean Test Score: 0.9142711596070884\n",
      "2024-10-22 17:43:11,971 | skopt_training | INFO | Params: OrderedDict([('classifier__colsample_bytree', 0.9), ('classifier__learning_rate', 0.05), ('classifier__max_depth', 10), ('classifier__n_estimators', 250), ('classifier__reg_alpha', 1.0), ('classifier__reg_lambda', 0.8), ('classifier__subsample', 1.0)]), Mean Test Score: 0.9557117078941328\n",
      "INFO:skopt_training:Params: OrderedDict([('classifier__colsample_bytree', 0.9), ('classifier__learning_rate', 0.05), ('classifier__max_depth', 10), ('classifier__n_estimators', 250), ('classifier__reg_alpha', 1.0), ('classifier__reg_lambda', 0.8), ('classifier__subsample', 1.0)]), Mean Test Score: 0.9557117078941328\n",
      "2024-10-22 17:43:11,972 | skopt_training | INFO | Params: OrderedDict([('classifier__colsample_bytree', 0.7), ('classifier__learning_rate', 0.2), ('classifier__max_depth', 3), ('classifier__n_estimators', 150), ('classifier__reg_alpha', 0.0), ('classifier__reg_lambda', 0.2), ('classifier__subsample', 0.9)]), Mean Test Score: 0.9627699089523339\n",
      "INFO:skopt_training:Params: OrderedDict([('classifier__colsample_bytree', 0.7), ('classifier__learning_rate', 0.2), ('classifier__max_depth', 3), ('classifier__n_estimators', 150), ('classifier__reg_alpha', 0.0), ('classifier__reg_lambda', 0.2), ('classifier__subsample', 0.9)]), Mean Test Score: 0.9627699089523339\n",
      "2024-10-22 17:43:11,973 | skopt_training | INFO | Params: OrderedDict([('classifier__colsample_bytree', 0.85), ('classifier__learning_rate', 0.05), ('classifier__max_depth', 10), ('classifier__n_estimators', 300), ('classifier__reg_alpha', 0.6), ('classifier__reg_lambda', 0.6), ('classifier__subsample', 0.95)]), Mean Test Score: 0.9584789036613284\n",
      "INFO:skopt_training:Params: OrderedDict([('classifier__colsample_bytree', 0.85), ('classifier__learning_rate', 0.05), ('classifier__max_depth', 10), ('classifier__n_estimators', 300), ('classifier__reg_alpha', 0.6), ('classifier__reg_lambda', 0.6), ('classifier__subsample', 0.95)]), Mean Test Score: 0.9584789036613284\n",
      "2024-10-22 17:43:11,974 | skopt_training | INFO | Params: OrderedDict([('classifier__colsample_bytree', 0.9), ('classifier__learning_rate', 0.15), ('classifier__max_depth', 10), ('classifier__n_estimators', 100), ('classifier__reg_alpha', 0.6), ('classifier__reg_lambda', 0.4), ('classifier__subsample', 1.0)]), Mean Test Score: 0.9571935307307943\n",
      "INFO:skopt_training:Params: OrderedDict([('classifier__colsample_bytree', 0.9), ('classifier__learning_rate', 0.15), ('classifier__max_depth', 10), ('classifier__n_estimators', 100), ('classifier__reg_alpha', 0.6), ('classifier__reg_lambda', 0.4), ('classifier__subsample', 1.0)]), Mean Test Score: 0.9571935307307943\n",
      "2024-10-22 17:43:11,975 | skopt_training | INFO | Params: OrderedDict([('classifier__colsample_bytree', 0.75), ('classifier__learning_rate', 0.01), ('classifier__max_depth', 10), ('classifier__n_estimators', 250), ('classifier__reg_alpha', 0.4), ('classifier__reg_lambda', 1.0), ('classifier__subsample', 0.7)]), Mean Test Score: 0.9494719470781761\n",
      "INFO:skopt_training:Params: OrderedDict([('classifier__colsample_bytree', 0.75), ('classifier__learning_rate', 0.01), ('classifier__max_depth', 10), ('classifier__n_estimators', 250), ('classifier__reg_alpha', 0.4), ('classifier__reg_lambda', 1.0), ('classifier__subsample', 0.7)]), Mean Test Score: 0.9494719470781761\n",
      "2024-10-22 17:43:11,976 | skopt_training | INFO | Params: OrderedDict([('classifier__colsample_bytree', 0.7), ('classifier__learning_rate', 0.01), ('classifier__max_depth', 6), ('classifier__n_estimators', 150), ('classifier__reg_alpha', 1.0), ('classifier__reg_lambda', 0.6), ('classifier__subsample', 1.0)]), Mean Test Score: 0.9473752258535351\n",
      "INFO:skopt_training:Params: OrderedDict([('classifier__colsample_bytree', 0.7), ('classifier__learning_rate', 0.01), ('classifier__max_depth', 6), ('classifier__n_estimators', 150), ('classifier__reg_alpha', 1.0), ('classifier__reg_lambda', 0.6), ('classifier__subsample', 1.0)]), Mean Test Score: 0.9473752258535351\n",
      "2024-10-22 17:43:11,977 | skopt_training | INFO | Params: OrderedDict([('classifier__colsample_bytree', 0.75), ('classifier__learning_rate', 0.1), ('classifier__max_depth', 10), ('classifier__n_estimators', 150), ('classifier__reg_alpha', 0.2), ('classifier__reg_lambda', 1.0), ('classifier__subsample', 0.7)]), Mean Test Score: 0.9650100111234705\n",
      "INFO:skopt_training:Params: OrderedDict([('classifier__colsample_bytree', 0.75), ('classifier__learning_rate', 0.1), ('classifier__max_depth', 10), ('classifier__n_estimators', 150), ('classifier__reg_alpha', 0.2), ('classifier__reg_lambda', 1.0), ('classifier__subsample', 0.7)]), Mean Test Score: 0.9650100111234705\n",
      "2024-10-22 17:43:11,978 | skopt_training | INFO | Params: OrderedDict([('classifier__colsample_bytree', 1.0), ('classifier__learning_rate', 0.1), ('classifier__max_depth', 10), ('classifier__n_estimators', 50), ('classifier__reg_alpha', 0.0), ('classifier__reg_lambda', 0.6), ('classifier__subsample', 1.0)]), Mean Test Score: 0.9466310185920864\n",
      "INFO:skopt_training:Params: OrderedDict([('classifier__colsample_bytree', 1.0), ('classifier__learning_rate', 0.1), ('classifier__max_depth', 10), ('classifier__n_estimators', 50), ('classifier__reg_alpha', 0.0), ('classifier__reg_lambda', 0.6), ('classifier__subsample', 1.0)]), Mean Test Score: 0.9466310185920864\n",
      "2024-10-22 17:43:11,979 | skopt_training | INFO | Params: OrderedDict([('classifier__colsample_bytree', 0.8), ('classifier__learning_rate', 0.01), ('classifier__max_depth', 5), ('classifier__n_estimators', 300), ('classifier__reg_alpha', 0.6), ('classifier__reg_lambda', 0.2), ('classifier__subsample', 1.0)]), Mean Test Score: 0.9454709642106751\n",
      "INFO:skopt_training:Params: OrderedDict([('classifier__colsample_bytree', 0.8), ('classifier__learning_rate', 0.01), ('classifier__max_depth', 5), ('classifier__n_estimators', 300), ('classifier__reg_alpha', 0.6), ('classifier__reg_lambda', 0.2), ('classifier__subsample', 1.0)]), Mean Test Score: 0.9454709642106751\n",
      "2024-10-22 17:43:11,980 | skopt_training | INFO | Params: OrderedDict([('classifier__colsample_bytree', 1.0), ('classifier__learning_rate', 0.01), ('classifier__max_depth', 10), ('classifier__n_estimators', 250), ('classifier__reg_alpha', 0.6), ('classifier__reg_lambda', 0.4), ('classifier__subsample', 0.9)]), Mean Test Score: 0.9439495971420332\n",
      "INFO:skopt_training:Params: OrderedDict([('classifier__colsample_bytree', 1.0), ('classifier__learning_rate', 0.01), ('classifier__max_depth', 10), ('classifier__n_estimators', 250), ('classifier__reg_alpha', 0.6), ('classifier__reg_lambda', 0.4), ('classifier__subsample', 0.9)]), Mean Test Score: 0.9439495971420332\n",
      "2024-10-22 17:43:11,981 | skopt_training | INFO | Params: OrderedDict([('classifier__colsample_bytree', 0.75), ('classifier__learning_rate', 0.15), ('classifier__max_depth', 10), ('classifier__n_estimators', 100), ('classifier__reg_alpha', 0.8), ('classifier__reg_lambda', 1.0), ('classifier__subsample', 0.95)]), Mean Test Score: 0.957933930116355\n",
      "INFO:skopt_training:Params: OrderedDict([('classifier__colsample_bytree', 0.75), ('classifier__learning_rate', 0.15), ('classifier__max_depth', 10), ('classifier__n_estimators', 100), ('classifier__reg_alpha', 0.8), ('classifier__reg_lambda', 1.0), ('classifier__subsample', 0.95)]), Mean Test Score: 0.957933930116355\n",
      "2024-10-22 17:43:11,981 | skopt_training | INFO | Params: OrderedDict([('classifier__colsample_bytree', 1.0), ('classifier__learning_rate', 0.1), ('classifier__max_depth', 10), ('classifier__n_estimators', 200), ('classifier__reg_alpha', 0.8), ('classifier__reg_lambda', 0.6), ('classifier__subsample', 0.75)]), Mean Test Score: 0.9601313393482471\n",
      "INFO:skopt_training:Params: OrderedDict([('classifier__colsample_bytree', 1.0), ('classifier__learning_rate', 0.1), ('classifier__max_depth', 10), ('classifier__n_estimators', 200), ('classifier__reg_alpha', 0.8), ('classifier__reg_lambda', 0.6), ('classifier__subsample', 0.75)]), Mean Test Score: 0.9601313393482471\n",
      "2024-10-22 17:43:11,982 | skopt_training | INFO | Params: OrderedDict([('classifier__colsample_bytree', 0.8), ('classifier__learning_rate', 0.01), ('classifier__max_depth', 8), ('classifier__n_estimators', 100), ('classifier__reg_alpha', 0.4), ('classifier__reg_lambda', 1.0), ('classifier__subsample', 0.75)]), Mean Test Score: 0.9430709489085463\n",
      "INFO:skopt_training:Params: OrderedDict([('classifier__colsample_bytree', 0.8), ('classifier__learning_rate', 0.01), ('classifier__max_depth', 8), ('classifier__n_estimators', 100), ('classifier__reg_alpha', 0.4), ('classifier__reg_lambda', 1.0), ('classifier__subsample', 0.75)]), Mean Test Score: 0.9430709489085463\n",
      "2024-10-22 17:43:11,983 | skopt_training | INFO | Params: OrderedDict([('classifier__colsample_bytree', 0.75), ('classifier__learning_rate', 0.2), ('classifier__max_depth', 3), ('classifier__n_estimators', 250), ('classifier__reg_alpha', 0.0), ('classifier__reg_lambda', 0.4), ('classifier__subsample', 0.7)]), Mean Test Score: 0.9629162326158989\n",
      "INFO:skopt_training:Params: OrderedDict([('classifier__colsample_bytree', 0.75), ('classifier__learning_rate', 0.2), ('classifier__max_depth', 3), ('classifier__n_estimators', 250), ('classifier__reg_alpha', 0.0), ('classifier__reg_lambda', 0.4), ('classifier__subsample', 0.7)]), Mean Test Score: 0.9629162326158989\n",
      "2024-10-22 17:43:11,984 | skopt_training | INFO | Params: OrderedDict([('classifier__colsample_bytree', 0.85), ('classifier__learning_rate', 0.2), ('classifier__max_depth', 8), ('classifier__n_estimators', 150), ('classifier__reg_alpha', 0.2), ('classifier__reg_lambda', 0.6), ('classifier__subsample', 0.8)]), Mean Test Score: 0.9636571558050979\n",
      "INFO:skopt_training:Params: OrderedDict([('classifier__colsample_bytree', 0.85), ('classifier__learning_rate', 0.2), ('classifier__max_depth', 8), ('classifier__n_estimators', 150), ('classifier__reg_alpha', 0.2), ('classifier__reg_lambda', 0.6), ('classifier__subsample', 0.8)]), Mean Test Score: 0.9636571558050979\n",
      "2024-10-22 17:43:11,985 | skopt_training | INFO | Params: OrderedDict([('classifier__colsample_bytree', 0.9), ('classifier__learning_rate', 0.01), ('classifier__max_depth', 10), ('classifier__n_estimators', 50), ('classifier__reg_alpha', 0.0), ('classifier__reg_lambda', 0.2), ('classifier__subsample', 1.0)]), Mean Test Score: 0.9354433026702214\n",
      "INFO:skopt_training:Params: OrderedDict([('classifier__colsample_bytree', 0.9), ('classifier__learning_rate', 0.01), ('classifier__max_depth', 10), ('classifier__n_estimators', 50), ('classifier__reg_alpha', 0.0), ('classifier__reg_lambda', 0.2), ('classifier__subsample', 1.0)]), Mean Test Score: 0.9354433026702214\n",
      "2024-10-22 17:43:11,986 | skopt_training | INFO | Params: OrderedDict([('classifier__colsample_bytree', 0.7), ('classifier__learning_rate', 0.05), ('classifier__max_depth', 3), ('classifier__n_estimators', 200), ('classifier__reg_alpha', 0.0), ('classifier__reg_lambda', 0.4), ('classifier__subsample', 0.95)]), Mean Test Score: 0.9607715509884587\n",
      "INFO:skopt_training:Params: OrderedDict([('classifier__colsample_bytree', 0.7), ('classifier__learning_rate', 0.05), ('classifier__max_depth', 3), ('classifier__n_estimators', 200), ('classifier__reg_alpha', 0.0), ('classifier__reg_lambda', 0.4), ('classifier__subsample', 0.95)]), Mean Test Score: 0.9607715509884587\n",
      "2024-10-22 17:43:11,987 | skopt_training | INFO | Params: OrderedDict([('classifier__colsample_bytree', 0.9), ('classifier__learning_rate', 0.01), ('classifier__max_depth', 5), ('classifier__n_estimators', 200), ('classifier__reg_alpha', 0.6), ('classifier__reg_lambda', 0.4), ('classifier__subsample', 0.8)]), Mean Test Score: 0.9404981961144363\n",
      "INFO:skopt_training:Params: OrderedDict([('classifier__colsample_bytree', 0.9), ('classifier__learning_rate', 0.01), ('classifier__max_depth', 5), ('classifier__n_estimators', 200), ('classifier__reg_alpha', 0.6), ('classifier__reg_lambda', 0.4), ('classifier__subsample', 0.8)]), Mean Test Score: 0.9404981961144363\n",
      "2024-10-22 17:43:11,988 | skopt_training | INFO | Params: OrderedDict([('classifier__colsample_bytree', 0.9), ('classifier__learning_rate', 0.05), ('classifier__max_depth', 10), ('classifier__n_estimators', 150), ('classifier__reg_alpha', 0.8), ('classifier__reg_lambda', 1.0), ('classifier__subsample', 0.9)]), Mean Test Score: 0.9571406206778843\n",
      "INFO:skopt_training:Params: OrderedDict([('classifier__colsample_bytree', 0.9), ('classifier__learning_rate', 0.05), ('classifier__max_depth', 10), ('classifier__n_estimators', 150), ('classifier__reg_alpha', 0.8), ('classifier__reg_lambda', 1.0), ('classifier__subsample', 0.9)]), Mean Test Score: 0.9571406206778843\n",
      "2024-10-22 17:43:11,989 | skopt_training | INFO | Params: OrderedDict([('classifier__colsample_bytree', 0.75), ('classifier__learning_rate', 0.2), ('classifier__max_depth', 8), ('classifier__n_estimators', 150), ('classifier__reg_alpha', 0.6), ('classifier__reg_lambda', 0.0), ('classifier__subsample', 1.0)]), Mean Test Score: 0.9556855942228578\n",
      "INFO:skopt_training:Params: OrderedDict([('classifier__colsample_bytree', 0.75), ('classifier__learning_rate', 0.2), ('classifier__max_depth', 8), ('classifier__n_estimators', 150), ('classifier__reg_alpha', 0.6), ('classifier__reg_lambda', 0.0), ('classifier__subsample', 1.0)]), Mean Test Score: 0.9556855942228578\n",
      "2024-10-22 17:43:11,990 | skopt_training | INFO | Params: OrderedDict([('classifier__colsample_bytree', 0.7), ('classifier__learning_rate', 0.15), ('classifier__max_depth', 5), ('classifier__n_estimators', 100), ('classifier__reg_alpha', 1.0), ('classifier__reg_lambda', 0.0), ('classifier__subsample', 1.0)]), Mean Test Score: 0.96205215671734\n",
      "INFO:skopt_training:Params: OrderedDict([('classifier__colsample_bytree', 0.7), ('classifier__learning_rate', 0.15), ('classifier__max_depth', 5), ('classifier__n_estimators', 100), ('classifier__reg_alpha', 1.0), ('classifier__reg_lambda', 0.0), ('classifier__subsample', 1.0)]), Mean Test Score: 0.96205215671734\n",
      "2024-10-22 17:43:11,991 | skopt_training | INFO | Params: OrderedDict([('classifier__colsample_bytree', 0.7), ('classifier__learning_rate', 0.15), ('classifier__max_depth', 3), ('classifier__n_estimators', 100), ('classifier__reg_alpha', 0.0), ('classifier__reg_lambda', 0.4), ('classifier__subsample', 0.85)]), Mean Test Score: 0.9614117626286702\n",
      "INFO:skopt_training:Params: OrderedDict([('classifier__colsample_bytree', 0.7), ('classifier__learning_rate', 0.15), ('classifier__max_depth', 3), ('classifier__n_estimators', 100), ('classifier__reg_alpha', 0.0), ('classifier__reg_lambda', 0.4), ('classifier__subsample', 0.85)]), Mean Test Score: 0.9614117626286702\n",
      "2024-10-22 17:43:11,991 | skopt_training | INFO | Params: OrderedDict([('classifier__colsample_bytree', 1.0), ('classifier__learning_rate', 0.2), ('classifier__max_depth', 3), ('classifier__n_estimators', 300), ('classifier__reg_alpha', 0.2), ('classifier__reg_lambda', 0.6), ('classifier__subsample', 0.95)]), Mean Test Score: 0.9565496701214166\n",
      "INFO:skopt_training:Params: OrderedDict([('classifier__colsample_bytree', 1.0), ('classifier__learning_rate', 0.2), ('classifier__max_depth', 3), ('classifier__n_estimators', 300), ('classifier__reg_alpha', 0.2), ('classifier__reg_lambda', 0.6), ('classifier__subsample', 0.95)]), Mean Test Score: 0.9565496701214166\n",
      "2024-10-22 17:43:11,992 | skopt_training | INFO | Params: OrderedDict([('classifier__colsample_bytree', 0.8), ('classifier__learning_rate', 0.15), ('classifier__max_depth', 3), ('classifier__n_estimators', 50), ('classifier__reg_alpha', 0.2), ('classifier__reg_lambda', 0.0), ('classifier__subsample', 1.0)]), Mean Test Score: 0.9495263167187529\n",
      "INFO:skopt_training:Params: OrderedDict([('classifier__colsample_bytree', 0.8), ('classifier__learning_rate', 0.15), ('classifier__max_depth', 3), ('classifier__n_estimators', 50), ('classifier__reg_alpha', 0.2), ('classifier__reg_lambda', 0.0), ('classifier__subsample', 1.0)]), Mean Test Score: 0.9495263167187529\n",
      "2024-10-22 17:43:11,998 | skopt_training | INFO | Params: OrderedDict([('classifier__colsample_bytree', 0.75), ('classifier__learning_rate', 0.15), ('classifier__max_depth', 5), ('classifier__n_estimators', 100), ('classifier__reg_alpha', 1.0), ('classifier__reg_lambda', 0.8), ('classifier__subsample', 1.0)]), Mean Test Score: 0.9529054681568587\n",
      "INFO:skopt_training:Params: OrderedDict([('classifier__colsample_bytree', 0.75), ('classifier__learning_rate', 0.15), ('classifier__max_depth', 5), ('classifier__n_estimators', 100), ('classifier__reg_alpha', 1.0), ('classifier__reg_lambda', 0.8), ('classifier__subsample', 1.0)]), Mean Test Score: 0.9529054681568587\n",
      "2024-10-22 17:43:12,035 | skopt_training | INFO | Params: OrderedDict([('classifier__colsample_bytree', 0.85), ('classifier__learning_rate', 0.15), ('classifier__max_depth', 10), ('classifier__n_estimators', 250), ('classifier__reg_alpha', 0.0), ('classifier__reg_lambda', 0.0), ('classifier__subsample', 1.0)]), Mean Test Score: 0.9550649045676854\n",
      "INFO:skopt_training:Params: OrderedDict([('classifier__colsample_bytree', 0.85), ('classifier__learning_rate', 0.15), ('classifier__max_depth', 10), ('classifier__n_estimators', 250), ('classifier__reg_alpha', 0.0), ('classifier__reg_lambda', 0.0), ('classifier__subsample', 1.0)]), Mean Test Score: 0.9550649045676854\n",
      "2024-10-22 17:43:12,036 | skopt_training | INFO | Params: OrderedDict([('classifier__colsample_bytree', 0.85), ('classifier__learning_rate', 0.15), ('classifier__max_depth', 7), ('classifier__n_estimators', 100), ('classifier__reg_alpha', 0.8), ('classifier__reg_lambda', 0.6), ('classifier__subsample', 0.7)]), Mean Test Score: 0.9599550941375192\n",
      "INFO:skopt_training:Params: OrderedDict([('classifier__colsample_bytree', 0.85), ('classifier__learning_rate', 0.15), ('classifier__max_depth', 7), ('classifier__n_estimators', 100), ('classifier__reg_alpha', 0.8), ('classifier__reg_lambda', 0.6), ('classifier__subsample', 0.7)]), Mean Test Score: 0.9599550941375192\n",
      "2024-10-22 17:43:12,037 | skopt_training | INFO | Params: OrderedDict([('classifier__colsample_bytree', 1.0), ('classifier__learning_rate', 0.1), ('classifier__max_depth', 3), ('classifier__n_estimators', 150), ('classifier__reg_alpha', 0.6), ('classifier__reg_lambda', 1.0), ('classifier__subsample', 0.75)]), Mean Test Score: 0.9550798888830034\n",
      "INFO:skopt_training:Params: OrderedDict([('classifier__colsample_bytree', 1.0), ('classifier__learning_rate', 0.1), ('classifier__max_depth', 3), ('classifier__n_estimators', 150), ('classifier__reg_alpha', 0.6), ('classifier__reg_lambda', 1.0), ('classifier__subsample', 0.75)]), Mean Test Score: 0.9550798888830034\n",
      "2024-10-22 17:43:12,038 | skopt_training | INFO | Params: OrderedDict([('classifier__colsample_bytree', 0.7), ('classifier__learning_rate', 0.15), ('classifier__max_depth', 10), ('classifier__n_estimators', 50), ('classifier__reg_alpha', 0.0), ('classifier__reg_lambda', 0.8), ('classifier__subsample', 0.7)]), Mean Test Score: 0.9621760156787964\n",
      "INFO:skopt_training:Params: OrderedDict([('classifier__colsample_bytree', 0.7), ('classifier__learning_rate', 0.15), ('classifier__max_depth', 10), ('classifier__n_estimators', 50), ('classifier__reg_alpha', 0.0), ('classifier__reg_lambda', 0.8), ('classifier__subsample', 0.7)]), Mean Test Score: 0.9621760156787964\n",
      "2024-10-22 17:43:12,038 | skopt_training | INFO | Params: OrderedDict([('classifier__colsample_bytree', 0.7), ('classifier__learning_rate', 0.15), ('classifier__max_depth', 7), ('classifier__n_estimators', 300), ('classifier__reg_alpha', 1.0), ('classifier__reg_lambda', 0.2), ('classifier__subsample', 0.7)]), Mean Test Score: 0.9663679749986758\n",
      "INFO:skopt_training:Params: OrderedDict([('classifier__colsample_bytree', 0.7), ('classifier__learning_rate', 0.15), ('classifier__max_depth', 7), ('classifier__n_estimators', 300), ('classifier__reg_alpha', 1.0), ('classifier__reg_lambda', 0.2), ('classifier__subsample', 0.7)]), Mean Test Score: 0.9663679749986758\n",
      "2024-10-22 17:43:12,039 | skopt_training | INFO | Params: OrderedDict([('classifier__colsample_bytree', 0.7), ('classifier__learning_rate', 0.15), ('classifier__max_depth', 3), ('classifier__n_estimators', 150), ('classifier__reg_alpha', 0.2), ('classifier__reg_lambda', 0.2), ('classifier__subsample', 0.7)]), Mean Test Score: 0.9614384001035836\n",
      "INFO:skopt_training:Params: OrderedDict([('classifier__colsample_bytree', 0.7), ('classifier__learning_rate', 0.15), ('classifier__max_depth', 3), ('classifier__n_estimators', 150), ('classifier__reg_alpha', 0.2), ('classifier__reg_lambda', 0.2), ('classifier__subsample', 0.7)]), Mean Test Score: 0.9614384001035836\n",
      "2024-10-22 17:43:12,051 | skopt_training | INFO | Params: OrderedDict([('classifier__colsample_bytree', 0.7), ('classifier__learning_rate', 0.1), ('classifier__max_depth', 7), ('classifier__n_estimators', 100), ('classifier__reg_alpha', 0.6), ('classifier__reg_lambda', 1.0), ('classifier__subsample', 0.7)]), Mean Test Score: 0.9621526858178692\n",
      "INFO:skopt_training:Params: OrderedDict([('classifier__colsample_bytree', 0.7), ('classifier__learning_rate', 0.1), ('classifier__max_depth', 7), ('classifier__n_estimators', 100), ('classifier__reg_alpha', 0.6), ('classifier__reg_lambda', 1.0), ('classifier__subsample', 0.7)]), Mean Test Score: 0.9621526858178692\n",
      "2024-10-22 17:43:12,052 | skopt_training | INFO | Params: OrderedDict([('classifier__colsample_bytree', 0.7), ('classifier__learning_rate', 0.15), ('classifier__max_depth', 3), ('classifier__n_estimators', 250), ('classifier__reg_alpha', 0.0), ('classifier__reg_lambda', 0.2), ('classifier__subsample', 0.75)]), Mean Test Score: 0.9613413375237624\n",
      "INFO:skopt_training:Params: OrderedDict([('classifier__colsample_bytree', 0.7), ('classifier__learning_rate', 0.15), ('classifier__max_depth', 3), ('classifier__n_estimators', 250), ('classifier__reg_alpha', 0.0), ('classifier__reg_lambda', 0.2), ('classifier__subsample', 0.75)]), Mean Test Score: 0.9613413375237624\n",
      "2024-10-22 17:43:12,053 | skopt_training | INFO | Params: OrderedDict([('classifier__colsample_bytree', 0.7), ('classifier__learning_rate', 0.15), ('classifier__max_depth', 6), ('classifier__n_estimators', 200), ('classifier__reg_alpha', 0.8), ('classifier__reg_lambda', 0.6), ('classifier__subsample', 0.95)]), Mean Test Score: 0.9607947219426641\n",
      "INFO:skopt_training:Params: OrderedDict([('classifier__colsample_bytree', 0.7), ('classifier__learning_rate', 0.15), ('classifier__max_depth', 6), ('classifier__n_estimators', 200), ('classifier__reg_alpha', 0.8), ('classifier__reg_lambda', 0.6), ('classifier__subsample', 0.95)]), Mean Test Score: 0.9607947219426641\n",
      "2024-10-22 17:43:12,054 | skopt_training | INFO | Params: OrderedDict([('classifier__colsample_bytree', 1.0), ('classifier__learning_rate', 0.1), ('classifier__max_depth', 5), ('classifier__n_estimators', 300), ('classifier__reg_alpha', 0.2), ('classifier__reg_lambda', 0.4), ('classifier__subsample', 0.9)]), Mean Test Score: 0.9577841399320819\n",
      "INFO:skopt_training:Params: OrderedDict([('classifier__colsample_bytree', 1.0), ('classifier__learning_rate', 0.1), ('classifier__max_depth', 5), ('classifier__n_estimators', 300), ('classifier__reg_alpha', 0.2), ('classifier__reg_lambda', 0.4), ('classifier__subsample', 0.9)]), Mean Test Score: 0.9577841399320819\n",
      "2024-10-22 17:43:12,054 | skopt_training | INFO | Params: OrderedDict([('classifier__colsample_bytree', 0.85), ('classifier__learning_rate', 0.2), ('classifier__max_depth', 8), ('classifier__n_estimators', 150), ('classifier__reg_alpha', 0.4), ('classifier__reg_lambda', 0.6), ('classifier__subsample', 0.7)]), Mean Test Score: 0.9600309926961763\n",
      "INFO:skopt_training:Params: OrderedDict([('classifier__colsample_bytree', 0.85), ('classifier__learning_rate', 0.2), ('classifier__max_depth', 8), ('classifier__n_estimators', 150), ('classifier__reg_alpha', 0.4), ('classifier__reg_lambda', 0.6), ('classifier__subsample', 0.7)]), Mean Test Score: 0.9600309926961763\n",
      "2024-10-22 17:43:12,055 | skopt_training | INFO | Params: OrderedDict([('classifier__colsample_bytree', 0.75), ('classifier__learning_rate', 0.15), ('classifier__max_depth', 9), ('classifier__n_estimators', 50), ('classifier__reg_alpha', 1.0), ('classifier__reg_lambda', 1.0), ('classifier__subsample', 0.7)]), Mean Test Score: 0.9556639063980554\n",
      "INFO:skopt_training:Params: OrderedDict([('classifier__colsample_bytree', 0.75), ('classifier__learning_rate', 0.15), ('classifier__max_depth', 9), ('classifier__n_estimators', 50), ('classifier__reg_alpha', 1.0), ('classifier__reg_lambda', 1.0), ('classifier__subsample', 0.7)]), Mean Test Score: 0.9556639063980554\n",
      "2024-10-22 17:43:12,056 | skopt_training | INFO | Params: OrderedDict([('classifier__colsample_bytree', 0.75), ('classifier__learning_rate', 0.01), ('classifier__max_depth', 6), ('classifier__n_estimators', 250), ('classifier__reg_alpha', 1.0), ('classifier__reg_lambda', 1.0), ('classifier__subsample', 1.0)]), Mean Test Score: 0.9469044852893573\n",
      "INFO:skopt_training:Params: OrderedDict([('classifier__colsample_bytree', 0.75), ('classifier__learning_rate', 0.01), ('classifier__max_depth', 6), ('classifier__n_estimators', 250), ('classifier__reg_alpha', 1.0), ('classifier__reg_lambda', 1.0), ('classifier__subsample', 1.0)]), Mean Test Score: 0.9469044852893573\n",
      "2024-10-22 17:43:12,057 | skopt_training | INFO | Params: OrderedDict([('classifier__colsample_bytree', 0.7), ('classifier__learning_rate', 0.15), ('classifier__max_depth', 4), ('classifier__n_estimators', 300), ('classifier__reg_alpha', 0.4), ('classifier__reg_lambda', 0.8), ('classifier__subsample', 1.0)]), Mean Test Score: 0.9591650923130345\n",
      "INFO:skopt_training:Params: OrderedDict([('classifier__colsample_bytree', 0.7), ('classifier__learning_rate', 0.15), ('classifier__max_depth', 4), ('classifier__n_estimators', 300), ('classifier__reg_alpha', 0.4), ('classifier__reg_lambda', 0.8), ('classifier__subsample', 1.0)]), Mean Test Score: 0.9591650923130345\n",
      "2024-10-22 17:43:12,058 | skopt_training | INFO | Params: OrderedDict([('classifier__colsample_bytree', 0.7), ('classifier__learning_rate', 0.15), ('classifier__max_depth', 9), ('classifier__n_estimators', 100), ('classifier__reg_alpha', 0.4), ('classifier__reg_lambda', 0.6), ('classifier__subsample', 0.7)]), Mean Test Score: 0.9649904891384313\n",
      "INFO:skopt_training:Params: OrderedDict([('classifier__colsample_bytree', 0.7), ('classifier__learning_rate', 0.15), ('classifier__max_depth', 9), ('classifier__n_estimators', 100), ('classifier__reg_alpha', 0.4), ('classifier__reg_lambda', 0.6), ('classifier__subsample', 0.7)]), Mean Test Score: 0.9649904891384313\n",
      "2024-10-22 17:43:12,059 | skopt_training | INFO | Params: OrderedDict([('classifier__colsample_bytree', 0.85), ('classifier__learning_rate', 0.1), ('classifier__max_depth', 4), ('classifier__n_estimators', 150), ('classifier__reg_alpha', 0.8), ('classifier__reg_lambda', 0.0), ('classifier__subsample', 0.7)]), Mean Test Score: 0.9586252273248936\n",
      "INFO:skopt_training:Params: OrderedDict([('classifier__colsample_bytree', 0.85), ('classifier__learning_rate', 0.1), ('classifier__max_depth', 4), ('classifier__n_estimators', 150), ('classifier__reg_alpha', 0.8), ('classifier__reg_lambda', 0.0), ('classifier__subsample', 0.7)]), Mean Test Score: 0.9586252273248936\n",
      "2024-10-22 17:43:12,060 | skopt_training | INFO | Params: OrderedDict([('classifier__colsample_bytree', 0.7), ('classifier__learning_rate', 0.15), ('classifier__max_depth', 9), ('classifier__n_estimators', 150), ('classifier__reg_alpha', 0.8), ('classifier__reg_lambda', 0.2), ('classifier__subsample', 1.0)]), Mean Test Score: 0.9592902519554356\n",
      "INFO:skopt_training:Params: OrderedDict([('classifier__colsample_bytree', 0.7), ('classifier__learning_rate', 0.15), ('classifier__max_depth', 9), ('classifier__n_estimators', 150), ('classifier__reg_alpha', 0.8), ('classifier__reg_lambda', 0.2), ('classifier__subsample', 1.0)]), Mean Test Score: 0.9592902519554356\n",
      "2024-10-22 17:43:12,061 | skopt_training | INFO | Params: OrderedDict([('classifier__colsample_bytree', 0.7), ('classifier__learning_rate', 0.05), ('classifier__max_depth', 3), ('classifier__n_estimators', 150), ('classifier__reg_alpha', 0.6), ('classifier__reg_lambda', 0.6), ('classifier__subsample', 0.7)]), Mean Test Score: 0.9543289310285973\n",
      "INFO:skopt_training:Params: OrderedDict([('classifier__colsample_bytree', 0.7), ('classifier__learning_rate', 0.05), ('classifier__max_depth', 3), ('classifier__n_estimators', 150), ('classifier__reg_alpha', 0.6), ('classifier__reg_lambda', 0.6), ('classifier__subsample', 0.7)]), Mean Test Score: 0.9543289310285973\n",
      "2024-10-22 17:43:12,062 | skopt_training | INFO | Params: OrderedDict([('classifier__colsample_bytree', 0.7), ('classifier__learning_rate', 0.15), ('classifier__max_depth', 3), ('classifier__n_estimators', 150), ('classifier__reg_alpha', 1.0), ('classifier__reg_lambda', 0.4), ('classifier__subsample', 0.95)]), Mean Test Score: 0.954335864070013\n",
      "INFO:skopt_training:Params: OrderedDict([('classifier__colsample_bytree', 0.7), ('classifier__learning_rate', 0.15), ('classifier__max_depth', 3), ('classifier__n_estimators', 150), ('classifier__reg_alpha', 1.0), ('classifier__reg_lambda', 0.4), ('classifier__subsample', 0.95)]), Mean Test Score: 0.954335864070013\n",
      "2024-10-22 17:43:12,063 | skopt_training | INFO | Number of tests that resulted in NaN for XGBoost: 0\n",
      "INFO:skopt_training:Number of tests that resulted in NaN for XGBoost: 0\n",
      "INFO:root:Bayesian optimization results: Best result: 0.9663679749986758, Average cross-validation result: 0.9663679749986758\n",
      "INFO:root:Bayesian Optimization Best Result for XGBoost with none: 0.9663679749986758\n"
     ]
    },
    {
     "name": "stdout",
     "output_type": "stream",
     "text": [
      "Bayesian Optimization Best Result for XGBoost with none: 0.9663679749986758\n",
      "Modelo: Random Forest_none\n",
      "Melhores Hiperparâmetros: {'memory': None, 'steps': [('classifier', RandomForestClassifier(n_estimators=200))], 'verbose': False, 'classifier': RandomForestClassifier(n_estimators=200), 'classifier__bootstrap': True, 'classifier__ccp_alpha': 0.0, 'classifier__class_weight': None, 'classifier__criterion': 'gini', 'classifier__max_depth': None, 'classifier__max_features': 'sqrt', 'classifier__max_leaf_nodes': None, 'classifier__max_samples': None, 'classifier__min_impurity_decrease': 0.0, 'classifier__min_samples_leaf': 1, 'classifier__min_samples_split': 2, 'classifier__min_weight_fraction_leaf': 0.0, 'classifier__n_estimators': 200, 'classifier__n_jobs': None, 'classifier__oob_score': False, 'classifier__random_state': None, 'classifier__verbose': 0, 'classifier__warm_start': False}\n",
      "Resultado CV: 0.9740151432220397\n",
      "\n",
      "Modelo: XGBoost_none\n",
      "Melhores Hiperparâmetros: {'memory': None, 'steps': [('classifier', XGBClassifier(base_score=None, booster=None, callbacks=None,\n",
      "              colsample_bylevel=None, colsample_bynode=None,\n",
      "              colsample_bytree=0.7, device=None, early_stopping_rounds=None,\n",
      "              enable_categorical=False, eval_metric='mlogloss',\n",
      "              feature_types=None, gamma=None, grow_policy=None,\n",
      "              importance_type=None, interaction_constraints=None,\n",
      "              learning_rate=0.15, max_bin=None, max_cat_threshold=None,\n",
      "              max_cat_to_onehot=None, max_delta_step=None, max_depth=7,\n",
      "              max_leaves=None, min_child_weight=None, missing=nan,\n",
      "              monotone_constraints=None, multi_strategy=None, n_estimators=300,\n",
      "              n_jobs=None, num_parallel_tree=None, objective='multi:softprob', ...))], 'verbose': False, 'classifier': XGBClassifier(base_score=None, booster=None, callbacks=None,\n",
      "              colsample_bylevel=None, colsample_bynode=None,\n",
      "              colsample_bytree=0.7, device=None, early_stopping_rounds=None,\n",
      "              enable_categorical=False, eval_metric='mlogloss',\n",
      "              feature_types=None, gamma=None, grow_policy=None,\n",
      "              importance_type=None, interaction_constraints=None,\n",
      "              learning_rate=0.15, max_bin=None, max_cat_threshold=None,\n",
      "              max_cat_to_onehot=None, max_delta_step=None, max_depth=7,\n",
      "              max_leaves=None, min_child_weight=None, missing=nan,\n",
      "              monotone_constraints=None, multi_strategy=None, n_estimators=300,\n",
      "              n_jobs=None, num_parallel_tree=None, objective='multi:softprob', ...), 'classifier__objective': 'multi:softprob', 'classifier__base_score': None, 'classifier__booster': None, 'classifier__callbacks': None, 'classifier__colsample_bylevel': None, 'classifier__colsample_bynode': None, 'classifier__colsample_bytree': 0.7, 'classifier__device': None, 'classifier__early_stopping_rounds': None, 'classifier__enable_categorical': False, 'classifier__eval_metric': 'mlogloss', 'classifier__feature_types': None, 'classifier__gamma': None, 'classifier__grow_policy': None, 'classifier__importance_type': None, 'classifier__interaction_constraints': None, 'classifier__learning_rate': 0.15, 'classifier__max_bin': None, 'classifier__max_cat_threshold': None, 'classifier__max_cat_to_onehot': None, 'classifier__max_delta_step': None, 'classifier__max_depth': 7, 'classifier__max_leaves': None, 'classifier__min_child_weight': None, 'classifier__missing': nan, 'classifier__monotone_constraints': None, 'classifier__multi_strategy': None, 'classifier__n_estimators': 300, 'classifier__n_jobs': None, 'classifier__num_parallel_tree': None, 'classifier__random_state': None, 'classifier__reg_alpha': 1.0, 'classifier__reg_lambda': 0.2, 'classifier__sampling_method': None, 'classifier__scale_pos_weight': None, 'classifier__subsample': 0.7, 'classifier__tree_method': None, 'classifier__validate_parameters': None, 'classifier__verbosity': None, 'classifier__use_label_encoder': False}\n",
      "Resultado CV: 0.9663679749986758\n",
      "\n"
     ]
    }
   ],
   "source": [
    "from core.training.skopt_bayesian_optimization_training import SkoptBayesianOptimizationTraining\n",
    "\n",
    "training = SkoptBayesianOptimizationTraining()\n",
    "\n",
    "#### Executar o treinamento\n",
    "trained_models = training.train_model(\n",
    "    X_train=X_train,\n",
    "    y_train=y_train,\n",
    "    selected_models=selected_models,\n",
    "    selected_selectors=selected_selectors,\n",
    "    n_iter=n_iter,\n",
    "    cv=cv,\n",
    "    scoring=scoring_metric,\n",
    "    n_jobs=n_jobs\n",
    ")\n",
    "\n",
    "#### Exemplo de acesso aos modelos treinados\n",
    "for model_key, model_info in trained_models.items():\n",
    "    print(f\"Modelo: {model_key}\")\n",
    "    print(f\"Melhores Hiperparâmetros: {model_info['hyperparameters']}\")\n",
    "    print(f\"Resultado CV: {model_info['cv_result']}\\n\") "
   ]
  },
  {
   "cell_type": "markdown",
   "id": "3abcc5a9",
   "metadata": {},
   "source": [
    "### Avaliação e logging"
   ]
  },
  {
   "cell_type": "code",
   "execution_count": 10,
   "id": "15e5ffd5",
   "metadata": {},
   "outputs": [
    {
     "data": {
      "text/plain": [
       "<module 'notebook_utils' from '/Users/patricia/Documents/code/python-code/behavior-detection/src/notebooks/notebook_utils.py'>"
      ]
     },
     "execution_count": 10,
     "metadata": {},
     "output_type": "execute_result"
    }
   ],
   "source": [
    "import importlib\n",
    "import notebook_utils\n",
    "\n",
    "# Recarregar o módulo notebook_utils\n",
    "importlib.reload(notebook_utils)"
   ]
  },
  {
   "cell_type": "code",
   "execution_count": 11,
   "id": "fdc979ac",
   "metadata": {},
   "outputs": [
    {
     "name": "stdout",
     "output_type": "stream",
     "text": [
      "Model 'Random Forest_none' saved at: ../models/_Skopt__Random Forest_none_20241022_1743.pkl\n",
      "Model 'XGBoost_none' saved at: ../models/_Skopt__XGBoost_none_20241022_1743.pkl\n",
      "Modelos salvos: ['../models/_Skopt__Random Forest_none_20241022_1743.pkl', '../models/_Skopt__XGBoost_none_20241022_1743.pkl']\n"
     ]
    },
    {
     "data": {
      "text/plain": [
       "['../models/_Skopt__Random Forest_none_20241022_1743.pkl',\n",
       " '../models/_Skopt__XGBoost_none_20241022_1743.pkl']"
      ]
     },
     "execution_count": 11,
     "metadata": {},
     "output_type": "execute_result"
    }
   ],
   "source": [
    "import notebook_utils as nb_utils\n",
    "\n",
    "# Avaliação dos Modelos\n",
    "class_metrics_results, avg_metrics_results = nb_utils.evaluate_models(trained_models, X_train, y_train, X_test, y_test)\n",
    "\n",
    "# Geração dos Relatórios\n",
    "nb_utils.generate_reports(class_metrics_results, avg_metrics_results, filename_prefix=\"_Skopt_\")\n",
    "\n",
    "# Salvando os modelos em arquivos para recuperação\n",
    "nb_utils.save_models(trained_models, filename_prefix=\"_Skopt_\")"
   ]
  },
  {
   "cell_type": "markdown",
   "id": "634b4507",
   "metadata": {},
   "source": [
    "## Usando Optuna (Otimização Bayesiana)"
   ]
  },
  {
   "cell_type": "code",
   "execution_count": 12,
   "id": "46f30d1f",
   "metadata": {},
   "outputs": [
    {
     "name": "stderr",
     "output_type": "stream",
     "text": [
      "2024-10-22 17:43:12,636 | optuna_training | INFO | Training and evaluating Random Forest with Optuna Bayesian Optimization and none\n",
      "INFO:optuna_training:Training and evaluating Random Forest with Optuna Bayesian Optimization and none\n",
      "[I 2024-10-22 17:43:12,637] A new study created in memory with name: no-name-3b27f138-f203-4d84-9f49-c3f89f7ef34f\n"
     ]
    },
    {
     "name": "stdout",
     "output_type": "stream",
     "text": [
      "Training and evaluating Random Forest with Optuna Bayesian Optimization and none\n"
     ]
    },
    {
     "name": "stderr",
     "output_type": "stream",
     "text": [
      "[I 2024-10-22 17:43:13,121] Trial 0 finished with value: 0.9530043552212628 and parameters: {'classifier__n_estimators': 100, 'classifier__max_depth': 30, 'classifier__min_samples_split': 4, 'classifier__min_samples_leaf': 6}. Best is trial 0 with value: 0.9530043552212628.\n",
      "[I 2024-10-22 17:43:13,467] Trial 1 finished with value: 0.9362958372324336 and parameters: {'classifier__n_estimators': 87, 'classifier__max_depth': 5, 'classifier__min_samples_split': 10, 'classifier__min_samples_leaf': 3}. Best is trial 0 with value: 0.9530043552212628.\n",
      "[I 2024-10-22 17:43:13,669] Trial 2 finished with value: 0.9265391057671369 and parameters: {'classifier__n_estimators': 50, 'classifier__max_depth': 5, 'classifier__min_samples_split': 3, 'classifier__min_samples_leaf': 4}. Best is trial 0 with value: 0.9530043552212628.\n",
      "[I 2024-10-22 17:43:14,055] Trial 3 finished with value: 0.9485438553124871 and parameters: {'classifier__n_estimators': 84, 'classifier__max_depth': 30, 'classifier__min_samples_split': 9, 'classifier__min_samples_leaf': 9}. Best is trial 0 with value: 0.9530043552212628.\n",
      "[I 2024-10-22 17:43:14,399] Trial 4 finished with value: 0.8852372771627499 and parameters: {'classifier__n_estimators': 113, 'classifier__max_depth': 3, 'classifier__min_samples_split': 2, 'classifier__min_samples_leaf': 1}. Best is trial 0 with value: 0.9530043552212628.\n",
      "[I 2024-10-22 17:43:14,778] Trial 5 finished with value: 0.9622218102418325 and parameters: {'classifier__n_estimators': 88, 'classifier__max_depth': 10, 'classifier__min_samples_split': 7, 'classifier__min_samples_leaf': 1}. Best is trial 5 with value: 0.9622218102418325.\n",
      "[I 2024-10-22 17:43:15,483] Trial 6 finished with value: 0.9494650140367604 and parameters: {'classifier__n_estimators': 174, 'classifier__max_depth': None, 'classifier__min_samples_split': 8, 'classifier__min_samples_leaf': 9}. Best is trial 5 with value: 0.9622218102418325.\n",
      "[I 2024-10-22 17:43:15,785] Trial 7 finished with value: 0.9560366015149107 and parameters: {'classifier__n_estimators': 70, 'classifier__max_depth': 20, 'classifier__min_samples_split': 5, 'classifier__min_samples_leaf': 5}. Best is trial 5 with value: 0.9622218102418325.\n",
      "[I 2024-10-22 17:43:16,605] Trial 8 finished with value: 0.9560491904585341 and parameters: {'classifier__n_estimators': 184, 'classifier__max_depth': 30, 'classifier__min_samples_split': 8, 'classifier__min_samples_leaf': 7}. Best is trial 5 with value: 0.9622218102418325.\n",
      "[I 2024-10-22 17:43:16,997] Trial 9 finished with value: 0.934826079535757 and parameters: {'classifier__n_estimators': 123, 'classifier__max_depth': 5, 'classifier__min_samples_split': 7, 'classifier__min_samples_leaf': 7}. Best is trial 5 with value: 0.9622218102418325.\n",
      "[I 2024-10-22 17:43:17,668] Trial 10 finished with value: 0.9684170771756978 and parameters: {'classifier__n_estimators': 158, 'classifier__max_depth': 10, 'classifier__min_samples_split': 6, 'classifier__min_samples_leaf': 1}. Best is trial 10 with value: 0.9684170771756978.\n",
      "[I 2024-10-22 17:43:18,307] Trial 11 finished with value: 0.9689850392264185 and parameters: {'classifier__n_estimators': 153, 'classifier__max_depth': 10, 'classifier__min_samples_split': 6, 'classifier__min_samples_leaf': 1}. Best is trial 11 with value: 0.9689850392264185.\n",
      "[I 2024-10-22 17:43:18,959] Trial 12 finished with value: 0.9690556467797846 and parameters: {'classifier__n_estimators': 152, 'classifier__max_depth': 10, 'classifier__min_samples_split': 5, 'classifier__min_samples_leaf': 2}. Best is trial 12 with value: 0.9690556467797846.\n",
      "[I 2024-10-22 17:43:19,583] Trial 13 finished with value: 0.9643223393423617 and parameters: {'classifier__n_estimators': 148, 'classifier__max_depth': 10, 'classifier__min_samples_split': 5, 'classifier__min_samples_leaf': 3}. Best is trial 12 with value: 0.9690556467797846.\n",
      "[I 2024-10-22 17:43:20,190] Trial 14 finished with value: 0.9669866812625433 and parameters: {'classifier__n_estimators': 145, 'classifier__max_depth': 10, 'classifier__min_samples_split': 5, 'classifier__min_samples_leaf': 3}. Best is trial 12 with value: 0.9690556467797846.\n",
      "[I 2024-10-22 17:43:20,981] Trial 15 finished with value: 0.968392446633826 and parameters: {'classifier__n_estimators': 196, 'classifier__max_depth': 10, 'classifier__min_samples_split': 4, 'classifier__min_samples_leaf': 2}. Best is trial 12 with value: 0.9690556467797846.\n",
      "[I 2024-10-22 17:43:21,353] Trial 16 finished with value: 0.8827451489309108 and parameters: {'classifier__n_estimators': 133, 'classifier__max_depth': 3, 'classifier__min_samples_split': 6, 'classifier__min_samples_leaf': 2}. Best is trial 12 with value: 0.9690556467797846.\n",
      "[I 2024-10-22 17:43:21,981] Trial 17 finished with value: 0.9592918939915602 and parameters: {'classifier__n_estimators': 161, 'classifier__max_depth': 20, 'classifier__min_samples_split': 2, 'classifier__min_samples_leaf': 4}. Best is trial 12 with value: 0.9690556467797846.\n",
      "[I 2024-10-22 17:43:22,634] Trial 18 finished with value: 0.9683415199722207 and parameters: {'classifier__n_estimators': 172, 'classifier__max_depth': None, 'classifier__min_samples_split': 4, 'classifier__min_samples_leaf': 2}. Best is trial 12 with value: 0.9690556467797846.\n",
      "[I 2024-10-22 17:43:23,103] Trial 19 finished with value: 0.957904349924372 and parameters: {'classifier__n_estimators': 135, 'classifier__max_depth': 10, 'classifier__min_samples_split': 6, 'classifier__min_samples_leaf': 5}. Best is trial 12 with value: 0.9690556467797846.\n",
      "[I 2024-10-22 17:43:23,483] Trial 20 finished with value: 0.9482801702067553 and parameters: {'classifier__n_estimators': 117, 'classifier__max_depth': 10, 'classifier__min_samples_split': 7, 'classifier__min_samples_leaf': 10}. Best is trial 12 with value: 0.9690556467797846.\n",
      "[I 2024-10-22 17:43:24,125] Trial 21 finished with value: 0.9711773399014778 and parameters: {'classifier__n_estimators': 156, 'classifier__max_depth': 10, 'classifier__min_samples_split': 6, 'classifier__min_samples_leaf': 1}. Best is trial 21 with value: 0.9711773399014778.\n",
      "[I 2024-10-22 17:43:24,727] Trial 22 finished with value: 0.9711773399014778 and parameters: {'classifier__n_estimators': 157, 'classifier__max_depth': 10, 'classifier__min_samples_split': 6, 'classifier__min_samples_leaf': 1}. Best is trial 21 with value: 0.9711773399014778.\n",
      "[I 2024-10-22 17:43:25,332] Trial 23 finished with value: 0.9698178928968695 and parameters: {'classifier__n_estimators': 170, 'classifier__max_depth': 10, 'classifier__min_samples_split': 5, 'classifier__min_samples_leaf': 2}. Best is trial 21 with value: 0.9711773399014778.\n",
      "[I 2024-10-22 17:43:26,032] Trial 24 finished with value: 0.9677011494252872 and parameters: {'classifier__n_estimators': 196, 'classifier__max_depth': 10, 'classifier__min_samples_split': 8, 'classifier__min_samples_leaf': 1}. Best is trial 21 with value: 0.9711773399014778.\n",
      "[I 2024-10-22 17:43:26,616] Trial 25 finished with value: 0.9642497483976905 and parameters: {'classifier__n_estimators': 171, 'classifier__max_depth': 10, 'classifier__min_samples_split': 3, 'classifier__min_samples_leaf': 3}. Best is trial 21 with value: 0.9711773399014778.\n",
      "[I 2024-10-22 17:43:26,990] Trial 26 finished with value: 0.8705457504222798 and parameters: {'classifier__n_estimators': 182, 'classifier__max_depth': 3, 'classifier__min_samples_split': 7, 'classifier__min_samples_leaf': 4}. Best is trial 21 with value: 0.9711773399014778.\n",
      "[I 2024-10-22 17:43:27,577] Trial 27 finished with value: 0.9691331873745668 and parameters: {'classifier__n_estimators': 163, 'classifier__max_depth': None, 'classifier__min_samples_split': 5, 'classifier__min_samples_leaf': 2}. Best is trial 21 with value: 0.9711773399014778.\n",
      "[I 2024-10-22 17:43:28,087] Trial 28 finished with value: 0.9760167852581644 and parameters: {'classifier__n_estimators': 138, 'classifier__max_depth': 20, 'classifier__min_samples_split': 4, 'classifier__min_samples_leaf': 1}. Best is trial 28 with value: 0.9760167852581644.\n",
      "[I 2024-10-22 17:43:28,535] Trial 29 finished with value: 0.9565020510737974 and parameters: {'classifier__n_estimators': 138, 'classifier__max_depth': 20, 'classifier__min_samples_split': 3, 'classifier__min_samples_leaf': 6}. Best is trial 28 with value: 0.9760167852581644.\n",
      "[I 2024-10-22 17:43:28,901] Trial 30 finished with value: 0.9725550082101805 and parameters: {'classifier__n_estimators': 99, 'classifier__max_depth': 20, 'classifier__min_samples_split': 4, 'classifier__min_samples_leaf': 1}. Best is trial 28 with value: 0.9760167852581644.\n",
      "[I 2024-10-22 17:43:29,324] Trial 31 finished with value: 0.9698689784651965 and parameters: {'classifier__n_estimators': 109, 'classifier__max_depth': 20, 'classifier__min_samples_split': 4, 'classifier__min_samples_leaf': 1}. Best is trial 28 with value: 0.9760167852581644.\n",
      "[I 2024-10-22 17:43:29,722] Trial 32 finished with value: 0.9773433679985404 and parameters: {'classifier__n_estimators': 102, 'classifier__max_depth': 20, 'classifier__min_samples_split': 3, 'classifier__min_samples_leaf': 1}. Best is trial 32 with value: 0.9773433679985404.\n",
      "[I 2024-10-22 17:43:30,077] Trial 33 finished with value: 0.9636783198262618 and parameters: {'classifier__n_estimators': 100, 'classifier__max_depth': 20, 'classifier__min_samples_split': 3, 'classifier__min_samples_leaf': 3}. Best is trial 32 with value: 0.9773433679985404.\n",
      "[I 2024-10-22 17:43:30,441] Trial 34 finished with value: 0.9697472853435032 and parameters: {'classifier__n_estimators': 100, 'classifier__max_depth': 20, 'classifier__min_samples_split': 2, 'classifier__min_samples_leaf': 2}. Best is trial 32 with value: 0.9773433679985404.\n",
      "[I 2024-10-22 17:43:30,725] Trial 35 finished with value: 0.960099934671681 and parameters: {'classifier__n_estimators': 77, 'classifier__max_depth': 20, 'classifier__min_samples_split': 3, 'classifier__min_samples_leaf': 4}. Best is trial 32 with value: 0.9773433679985404.\n",
      "[I 2024-10-22 17:43:30,958] Trial 36 finished with value: 0.9697963875205253 and parameters: {'classifier__n_estimators': 63, 'classifier__max_depth': 20, 'classifier__min_samples_split': 4, 'classifier__min_samples_leaf': 1}. Best is trial 32 with value: 0.9773433679985404.\n",
      "[I 2024-10-22 17:43:31,268] Trial 37 finished with value: 0.9605476867301116 and parameters: {'classifier__n_estimators': 88, 'classifier__max_depth': 30, 'classifier__min_samples_split': 10, 'classifier__min_samples_leaf': 3}. Best is trial 32 with value: 0.9773433679985404.\n",
      "[I 2024-10-22 17:43:31,576] Trial 38 finished with value: 0.9384787624109092 and parameters: {'classifier__n_estimators': 111, 'classifier__max_depth': 5, 'classifier__min_samples_split': 2, 'classifier__min_samples_leaf': 1}. Best is trial 32 with value: 0.9773433679985404.\n",
      "[I 2024-10-22 17:43:32,021] Trial 39 finished with value: 0.967775041050903 and parameters: {'classifier__n_estimators': 120, 'classifier__max_depth': 20, 'classifier__min_samples_split': 4, 'classifier__min_samples_leaf': 2}. Best is trial 32 with value: 0.9773433679985404.\n",
      "[I 2024-10-22 17:43:32,469] Trial 40 finished with value: 0.949371417977647 and parameters: {'classifier__n_estimators': 129, 'classifier__max_depth': 20, 'classifier__min_samples_split': 3, 'classifier__min_samples_leaf': 8}. Best is trial 32 with value: 0.9773433679985404.\n",
      "[I 2024-10-22 17:43:33,008] Trial 41 finished with value: 0.9705371282612661 and parameters: {'classifier__n_estimators': 141, 'classifier__max_depth': 20, 'classifier__min_samples_split': 4, 'classifier__min_samples_leaf': 1}. Best is trial 32 with value: 0.9773433679985404.\n",
      "[I 2024-10-22 17:43:33,348] Trial 42 finished with value: 0.9683415199722207 and parameters: {'classifier__n_estimators': 90, 'classifier__max_depth': 30, 'classifier__min_samples_split': 7, 'classifier__min_samples_leaf': 1}. Best is trial 32 with value: 0.9773433679985404.\n",
      "[I 2024-10-22 17:43:33,703] Trial 43 finished with value: 0.9306615993078731 and parameters: {'classifier__n_estimators': 126, 'classifier__max_depth': 5, 'classifier__min_samples_split': 6, 'classifier__min_samples_leaf': 1}. Best is trial 32 with value: 0.9773433679985404.\n",
      "[I 2024-10-22 17:43:34,094] Trial 44 finished with value: 0.966415594046295 and parameters: {'classifier__n_estimators': 104, 'classifier__max_depth': 20, 'classifier__min_samples_split': 5, 'classifier__min_samples_leaf': 2}. Best is trial 32 with value: 0.9773433679985404.\n",
      "[I 2024-10-22 17:43:34,432] Trial 45 finished with value: 0.8787558663064781 and parameters: {'classifier__n_estimators': 155, 'classifier__max_depth': 3, 'classifier__min_samples_split': 9, 'classifier__min_samples_leaf': 1}. Best is trial 32 with value: 0.9773433679985404.\n",
      "[I 2024-10-22 17:43:34,752] Trial 46 finished with value: 0.9710806186768368 and parameters: {'classifier__n_estimators': 80, 'classifier__max_depth': None, 'classifier__min_samples_split': 3, 'classifier__min_samples_leaf': 1}. Best is trial 32 with value: 0.9773433679985404.\n",
      "[I 2024-10-22 17:43:35,137] Trial 47 finished with value: 0.9698901424863603 and parameters: {'classifier__n_estimators': 94, 'classifier__max_depth': 20, 'classifier__min_samples_split': 2, 'classifier__min_samples_leaf': 2}. Best is trial 32 with value: 0.9773433679985404.\n",
      "[I 2024-10-22 17:43:35,576] Trial 48 finished with value: 0.9395992725603405 and parameters: {'classifier__n_estimators': 146, 'classifier__max_depth': 5, 'classifier__min_samples_split': 8, 'classifier__min_samples_leaf': 3}. Best is trial 32 with value: 0.9773433679985404.\n",
      "[I 2024-10-22 17:43:35,768] Trial 49 finished with value: 0.9608162273190081 and parameters: {'classifier__n_estimators': 51, 'classifier__max_depth': 30, 'classifier__min_samples_split': 6, 'classifier__min_samples_leaf': 2}. Best is trial 32 with value: 0.9773433679985404.\n",
      "[I 2024-10-22 17:43:36,414] Trial 50 finished with value: 0.9732037949279327 and parameters: {'classifier__n_estimators': 165, 'classifier__max_depth': 20, 'classifier__min_samples_split': 4, 'classifier__min_samples_leaf': 1}. Best is trial 32 with value: 0.9773433679985404.\n",
      "[I 2024-10-22 17:43:37,033] Trial 51 finished with value: 0.9724614121510673 and parameters: {'classifier__n_estimators': 164, 'classifier__max_depth': 20, 'classifier__min_samples_split': 4, 'classifier__min_samples_leaf': 1}. Best is trial 32 with value: 0.9773433679985404.\n",
      "[I 2024-10-22 17:43:37,710] Trial 52 finished with value: 0.9739410691479657 and parameters: {'classifier__n_estimators': 180, 'classifier__max_depth': 20, 'classifier__min_samples_split': 4, 'classifier__min_samples_leaf': 1}. Best is trial 32 with value: 0.9773433679985404.\n",
      "[I 2024-10-22 17:43:38,398] Trial 53 finished with value: 0.9697456433073786 and parameters: {'classifier__n_estimators': 183, 'classifier__max_depth': 20, 'classifier__min_samples_split': 4, 'classifier__min_samples_leaf': 2}. Best is trial 32 with value: 0.9773433679985404.\n",
      "[I 2024-10-22 17:43:39,055] Trial 54 finished with value: 0.9739146141215105 and parameters: {'classifier__n_estimators': 177, 'classifier__max_depth': 20, 'classifier__min_samples_split': 4, 'classifier__min_samples_leaf': 1}. Best is trial 32 with value: 0.9773433679985404.\n",
      "[I 2024-10-22 17:43:39,776] Trial 55 finished with value: 0.9711032658274037 and parameters: {'classifier__n_estimators': 193, 'classifier__max_depth': 20, 'classifier__min_samples_split': 3, 'classifier__min_samples_leaf': 2}. Best is trial 32 with value: 0.9773433679985404.\n",
      "[I 2024-10-22 17:43:40,503] Trial 56 finished with value: 0.9696961997751764 and parameters: {'classifier__n_estimators': 177, 'classifier__max_depth': 20, 'classifier__min_samples_split': 5, 'classifier__min_samples_leaf': 1}. Best is trial 32 with value: 0.9773433679985404.\n",
      "[I 2024-10-22 17:43:41,121] Trial 57 finished with value: 0.9586005967830216 and parameters: {'classifier__n_estimators': 186, 'classifier__max_depth': 20, 'classifier__min_samples_split': 4, 'classifier__min_samples_leaf': 5}. Best is trial 32 with value: 0.9773433679985404.\n",
      "[I 2024-10-22 17:43:41,713] Trial 58 finished with value: 0.9537432714774206 and parameters: {'classifier__n_estimators': 177, 'classifier__max_depth': 20, 'classifier__min_samples_split': 3, 'classifier__min_samples_leaf': 7}. Best is trial 32 with value: 0.9773433679985404.\n",
      "[I 2024-10-22 17:43:42,369] Trial 59 finished with value: 0.9691988452778219 and parameters: {'classifier__n_estimators': 192, 'classifier__max_depth': 20, 'classifier__min_samples_split': 5, 'classifier__min_samples_leaf': 3}. Best is trial 32 with value: 0.9773433679985404.\n",
      "[I 2024-10-22 17:43:42,980] Trial 60 finished with value: 0.9697702738492504 and parameters: {'classifier__n_estimators': 166, 'classifier__max_depth': 20, 'classifier__min_samples_split': 4, 'classifier__min_samples_leaf': 1}. Best is trial 32 with value: 0.9773433679985404.\n",
      "[I 2024-10-22 17:43:43,661] Trial 61 finished with value: 0.9731773399014779 and parameters: {'classifier__n_estimators': 188, 'classifier__max_depth': 20, 'classifier__min_samples_split': 4, 'classifier__min_samples_leaf': 1}. Best is trial 32 with value: 0.9773433679985404.\n",
      "[I 2024-10-22 17:43:44,331] Trial 62 finished with value: 0.9718458310527275 and parameters: {'classifier__n_estimators': 188, 'classifier__max_depth': 20, 'classifier__min_samples_split': 4, 'classifier__min_samples_leaf': 1}. Best is trial 32 with value: 0.9773433679985404.\n",
      "[I 2024-10-22 17:43:44,963] Trial 63 finished with value: 0.9689620507206713 and parameters: {'classifier__n_estimators': 179, 'classifier__max_depth': 20, 'classifier__min_samples_split': 4, 'classifier__min_samples_leaf': 2}. Best is trial 32 with value: 0.9773433679985404.\n",
      "[I 2024-10-22 17:43:45,669] Trial 64 finished with value: 0.9731756978653529 and parameters: {'classifier__n_estimators': 199, 'classifier__max_depth': 20, 'classifier__min_samples_split': 5, 'classifier__min_samples_leaf': 1}. Best is trial 32 with value: 0.9773433679985404.\n",
      "[I 2024-10-22 17:43:46,383] Trial 65 finished with value: 0.9690541636503817 and parameters: {'classifier__n_estimators': 198, 'classifier__max_depth': 20, 'classifier__min_samples_split': 5, 'classifier__min_samples_leaf': 1}. Best is trial 32 with value: 0.9773433679985404.\n",
      "[I 2024-10-22 17:43:46,759] Trial 66 finished with value: 0.8794602762622785 and parameters: {'classifier__n_estimators': 188, 'classifier__max_depth': 3, 'classifier__min_samples_split': 5, 'classifier__min_samples_leaf': 2}. Best is trial 32 with value: 0.9773433679985404.\n",
      "[I 2024-10-22 17:43:47,451] Trial 67 finished with value: 0.9704615710577891 and parameters: {'classifier__n_estimators': 191, 'classifier__max_depth': None, 'classifier__min_samples_split': 5, 'classifier__min_samples_leaf': 2}. Best is trial 32 with value: 0.9773433679985404.\n",
      "[I 2024-10-22 17:43:48,046] Trial 68 finished with value: 0.9445551200334293 and parameters: {'classifier__n_estimators': 200, 'classifier__max_depth': 20, 'classifier__min_samples_split': 3, 'classifier__min_samples_leaf': 10}. Best is trial 32 with value: 0.9773433679985404.\n",
      "[I 2024-10-22 17:43:48,657] Trial 69 finished with value: 0.9738423645320194 and parameters: {'classifier__n_estimators': 169, 'classifier__max_depth': 20, 'classifier__min_samples_split': 4, 'classifier__min_samples_leaf': 1}. Best is trial 32 with value: 0.9773433679985404.\n",
      "[I 2024-10-22 17:43:49,254] Trial 70 finished with value: 0.969006727051221 and parameters: {'classifier__n_estimators': 172, 'classifier__max_depth': 20, 'classifier__min_samples_split': 3, 'classifier__min_samples_leaf': 2}. Best is trial 32 with value: 0.9773433679985404.\n",
      "[I 2024-10-22 17:43:49,853] Trial 71 finished with value: 0.9710556467797847 and parameters: {'classifier__n_estimators': 166, 'classifier__max_depth': 20, 'classifier__min_samples_split': 4, 'classifier__min_samples_leaf': 1}. Best is trial 32 with value: 0.9773433679985404.\n",
      "[I 2024-10-22 17:43:50,524] Trial 72 finished with value: 0.9731067323481117 and parameters: {'classifier__n_estimators': 181, 'classifier__max_depth': 20, 'classifier__min_samples_split': 4, 'classifier__min_samples_leaf': 1}. Best is trial 32 with value: 0.9773433679985404.\n",
      "[I 2024-10-22 17:43:51,057] Trial 73 finished with value: 0.975290616852352 and parameters: {'classifier__n_estimators': 149, 'classifier__max_depth': 20, 'classifier__min_samples_split': 5, 'classifier__min_samples_leaf': 1}. Best is trial 32 with value: 0.9773433679985404.\n",
      "[I 2024-10-22 17:43:51,608] Trial 74 finished with value: 0.9697750410509031 and parameters: {'classifier__n_estimators': 151, 'classifier__max_depth': 20, 'classifier__min_samples_split': 4, 'classifier__min_samples_leaf': 1}. Best is trial 32 with value: 0.9773433679985404.\n",
      "[I 2024-10-22 17:43:52,201] Trial 75 finished with value: 0.9752463054187193 and parameters: {'classifier__n_estimators': 161, 'classifier__max_depth': 20, 'classifier__min_samples_split': 3, 'classifier__min_samples_leaf': 1}. Best is trial 32 with value: 0.9773433679985404.\n",
      "[I 2024-10-22 17:43:52,702] Trial 76 finished with value: 0.9683187139149319 and parameters: {'classifier__n_estimators': 144, 'classifier__max_depth': 20, 'classifier__min_samples_split': 3, 'classifier__min_samples_leaf': 2}. Best is trial 32 with value: 0.9773433679985404.\n",
      "[I 2024-10-22 17:43:53,298] Trial 77 finished with value: 0.9739675241744207 and parameters: {'classifier__n_estimators': 160, 'classifier__max_depth': 20, 'classifier__min_samples_split': 3, 'classifier__min_samples_leaf': 1}. Best is trial 32 with value: 0.9773433679985404.\n",
      "[I 2024-10-22 17:43:53,851] Trial 78 finished with value: 0.9710855683269475 and parameters: {'classifier__n_estimators': 160, 'classifier__max_depth': 30, 'classifier__min_samples_split': 2, 'classifier__min_samples_leaf': 2}. Best is trial 32 with value: 0.9773433679985404.\n",
      "[I 2024-10-22 17:43:54,153] Trial 79 finished with value: 0.881688813555332 and parameters: {'classifier__n_estimators': 152, 'classifier__max_depth': 3, 'classifier__min_samples_split': 3, 'classifier__min_samples_leaf': 1}. Best is trial 32 with value: 0.9773433679985404.\n",
      "[I 2024-10-22 17:43:54,524] Trial 80 finished with value: 0.945246599690426 and parameters: {'classifier__n_estimators': 140, 'classifier__max_depth': 5, 'classifier__min_samples_split': 2, 'classifier__min_samples_leaf': 1}. Best is trial 32 with value: 0.9773433679985404.\n",
      "[I 2024-10-22 17:43:55,150] Trial 81 finished with value: 0.9739921547162927 and parameters: {'classifier__n_estimators': 170, 'classifier__max_depth': 20, 'classifier__min_samples_split': 3, 'classifier__min_samples_leaf': 1}. Best is trial 32 with value: 0.9773433679985404.\n",
      "[I 2024-10-22 17:43:55,767] Trial 82 finished with value: 0.9731032658274037 and parameters: {'classifier__n_estimators': 168, 'classifier__max_depth': 20, 'classifier__min_samples_split': 3, 'classifier__min_samples_leaf': 1}. Best is trial 32 with value: 0.9773433679985404.\n",
      "[I 2024-10-22 17:43:56,352] Trial 83 finished with value: 0.9494177363443214 and parameters: {'classifier__n_estimators': 174, 'classifier__max_depth': 20, 'classifier__min_samples_split': 3, 'classifier__min_samples_leaf': 9}. Best is trial 32 with value: 0.9773433679985404.\n",
      "[I 2024-10-22 17:43:56,890] Trial 84 finished with value: 0.9766042692939244 and parameters: {'classifier__n_estimators': 149, 'classifier__max_depth': 20, 'classifier__min_samples_split': 2, 'classifier__min_samples_leaf': 1}. Best is trial 32 with value: 0.9773433679985404.\n",
      "[I 2024-10-22 17:43:57,417] Trial 85 finished with value: 0.967679802955665 and parameters: {'classifier__n_estimators': 149, 'classifier__max_depth': 20, 'classifier__min_samples_split': 2, 'classifier__min_samples_leaf': 2}. Best is trial 32 with value: 0.9773433679985404.\n",
      "[I 2024-10-22 17:43:57,905] Trial 86 finished with value: 0.9766537128261265 and parameters: {'classifier__n_estimators': 134, 'classifier__max_depth': None, 'classifier__min_samples_split': 2, 'classifier__min_samples_leaf': 1}. Best is trial 32 with value: 0.9773433679985404.\n",
      "[I 2024-10-22 17:43:58,390] Trial 87 finished with value: 0.9731067323481117 and parameters: {'classifier__n_estimators': 131, 'classifier__max_depth': None, 'classifier__min_samples_split': 2, 'classifier__min_samples_leaf': 1}. Best is trial 32 with value: 0.9773433679985404.\n",
      "[I 2024-10-22 17:43:58,872] Trial 88 finished with value: 0.9656255922218101 and parameters: {'classifier__n_estimators': 136, 'classifier__max_depth': 20, 'classifier__min_samples_split': 2, 'classifier__min_samples_leaf': 2}. Best is trial 32 with value: 0.9773433679985404.\n",
      "[I 2024-10-22 17:43:59,449] Trial 89 finished with value: 0.9746553548622513 and parameters: {'classifier__n_estimators': 156, 'classifier__max_depth': None, 'classifier__min_samples_split': 2, 'classifier__min_samples_leaf': 1}. Best is trial 32 with value: 0.9773433679985404.\n",
      "[I 2024-10-22 17:43:59,978] Trial 90 finished with value: 0.9621245887552895 and parameters: {'classifier__n_estimators': 159, 'classifier__max_depth': None, 'classifier__min_samples_split': 2, 'classifier__min_samples_leaf': 4}. Best is trial 32 with value: 0.9773433679985404.\n",
      "[I 2024-10-22 17:44:00,553] Trial 91 finished with value: 0.9766803267593034 and parameters: {'classifier__n_estimators': 144, 'classifier__max_depth': None, 'classifier__min_samples_split': 2, 'classifier__min_samples_leaf': 1}. Best is trial 32 with value: 0.9773433679985404.\n",
      "[I 2024-10-22 17:44:01,117] Trial 92 finished with value: 0.9752448222893161 and parameters: {'classifier__n_estimators': 156, 'classifier__max_depth': None, 'classifier__min_samples_split': 2, 'classifier__min_samples_leaf': 1}. Best is trial 32 with value: 0.9773433679985404.\n",
      "[I 2024-10-22 17:44:01,641] Trial 93 finished with value: 0.9738228425469805 and parameters: {'classifier__n_estimators': 144, 'classifier__max_depth': None, 'classifier__min_samples_split': 2, 'classifier__min_samples_leaf': 1}. Best is trial 32 with value: 0.9773433679985404.\n",
      "[I 2024-10-22 17:44:02,191] Trial 94 finished with value: 0.9710789766407117 and parameters: {'classifier__n_estimators': 155, 'classifier__max_depth': None, 'classifier__min_samples_split': 2, 'classifier__min_samples_leaf': 2}. Best is trial 32 with value: 0.9773433679985404.\n",
      "[I 2024-10-22 17:44:02,667] Trial 95 finished with value: 0.9753220215289179 and parameters: {'classifier__n_estimators': 128, 'classifier__max_depth': None, 'classifier__min_samples_split': 2, 'classifier__min_samples_leaf': 1}. Best is trial 32 with value: 0.9773433679985404.\n",
      "[I 2024-10-22 17:44:03,080] Trial 96 finished with value: 0.9711264132398727 and parameters: {'classifier__n_estimators': 116, 'classifier__max_depth': None, 'classifier__min_samples_split': 2, 'classifier__min_samples_leaf': 1}. Best is trial 32 with value: 0.9773433679985404.\n",
      "[I 2024-10-22 17:44:03,551] Trial 97 finished with value: 0.9739427111840904 and parameters: {'classifier__n_estimators': 126, 'classifier__max_depth': None, 'classifier__min_samples_split': 2, 'classifier__min_samples_leaf': 1}. Best is trial 32 with value: 0.9773433679985404.\n",
      "[I 2024-10-22 17:44:04,016] Trial 98 finished with value: 0.9725110145899911 and parameters: {'classifier__n_estimators': 122, 'classifier__max_depth': None, 'classifier__min_samples_split': 2, 'classifier__min_samples_leaf': 2}. Best is trial 32 with value: 0.9773433679985404.\n",
      "[I 2024-10-22 17:44:04,514] Trial 99 finished with value: 0.9739921547162925 and parameters: {'classifier__n_estimators': 132, 'classifier__max_depth': None, 'classifier__min_samples_split': 2, 'classifier__min_samples_leaf': 1}. Best is trial 32 with value: 0.9773433679985404.\n",
      "2024-10-22 17:44:04,697 | optuna_training | INFO | Best parameters: {'classifier__n_estimators': 102, 'classifier__max_depth': 20, 'classifier__min_samples_split': 3, 'classifier__min_samples_leaf': 1}\n",
      "INFO:optuna_training:Best parameters: {'classifier__n_estimators': 102, 'classifier__max_depth': 20, 'classifier__min_samples_split': 3, 'classifier__min_samples_leaf': 1}\n",
      "2024-10-22 17:44:04,698 | optuna_training | INFO | Best cross-validation score: 0.9773433679985404\n",
      "INFO:optuna_training:Best cross-validation score: 0.9773433679985404\n",
      "2024-10-22 17:44:04,699 | optuna_training | INFO | All hyperparameter combinations and their cross-validation results:\n",
      "INFO:optuna_training:All hyperparameter combinations and their cross-validation results:\n",
      "2024-10-22 17:44:04,703 | optuna_training | INFO | Params: {'classifier__n_estimators': 100, 'classifier__max_depth': 30, 'classifier__min_samples_split': 4, 'classifier__min_samples_leaf': 6}, Mean Test Score: 0.9530043552212628\n",
      "INFO:optuna_training:Params: {'classifier__n_estimators': 100, 'classifier__max_depth': 30, 'classifier__min_samples_split': 4, 'classifier__min_samples_leaf': 6}, Mean Test Score: 0.9530043552212628\n",
      "2024-10-22 17:44:04,703 | optuna_training | INFO | Params: {'classifier__n_estimators': 87, 'classifier__max_depth': 5, 'classifier__min_samples_split': 10, 'classifier__min_samples_leaf': 3}, Mean Test Score: 0.9362958372324336\n",
      "INFO:optuna_training:Params: {'classifier__n_estimators': 87, 'classifier__max_depth': 5, 'classifier__min_samples_split': 10, 'classifier__min_samples_leaf': 3}, Mean Test Score: 0.9362958372324336\n",
      "2024-10-22 17:44:04,704 | optuna_training | INFO | Params: {'classifier__n_estimators': 50, 'classifier__max_depth': 5, 'classifier__min_samples_split': 3, 'classifier__min_samples_leaf': 4}, Mean Test Score: 0.9265391057671369\n",
      "INFO:optuna_training:Params: {'classifier__n_estimators': 50, 'classifier__max_depth': 5, 'classifier__min_samples_split': 3, 'classifier__min_samples_leaf': 4}, Mean Test Score: 0.9265391057671369\n",
      "2024-10-22 17:44:04,704 | optuna_training | INFO | Params: {'classifier__n_estimators': 84, 'classifier__max_depth': 30, 'classifier__min_samples_split': 9, 'classifier__min_samples_leaf': 9}, Mean Test Score: 0.9485438553124871\n",
      "INFO:optuna_training:Params: {'classifier__n_estimators': 84, 'classifier__max_depth': 30, 'classifier__min_samples_split': 9, 'classifier__min_samples_leaf': 9}, Mean Test Score: 0.9485438553124871\n",
      "2024-10-22 17:44:04,705 | optuna_training | INFO | Params: {'classifier__n_estimators': 113, 'classifier__max_depth': 3, 'classifier__min_samples_split': 2, 'classifier__min_samples_leaf': 1}, Mean Test Score: 0.8852372771627499\n",
      "INFO:optuna_training:Params: {'classifier__n_estimators': 113, 'classifier__max_depth': 3, 'classifier__min_samples_split': 2, 'classifier__min_samples_leaf': 1}, Mean Test Score: 0.8852372771627499\n",
      "2024-10-22 17:44:04,705 | optuna_training | INFO | Params: {'classifier__n_estimators': 88, 'classifier__max_depth': 10, 'classifier__min_samples_split': 7, 'classifier__min_samples_leaf': 1}, Mean Test Score: 0.9622218102418325\n",
      "INFO:optuna_training:Params: {'classifier__n_estimators': 88, 'classifier__max_depth': 10, 'classifier__min_samples_split': 7, 'classifier__min_samples_leaf': 1}, Mean Test Score: 0.9622218102418325\n",
      "2024-10-22 17:44:04,706 | optuna_training | INFO | Params: {'classifier__n_estimators': 174, 'classifier__max_depth': None, 'classifier__min_samples_split': 8, 'classifier__min_samples_leaf': 9}, Mean Test Score: 0.9494650140367604\n",
      "INFO:optuna_training:Params: {'classifier__n_estimators': 174, 'classifier__max_depth': None, 'classifier__min_samples_split': 8, 'classifier__min_samples_leaf': 9}, Mean Test Score: 0.9494650140367604\n",
      "2024-10-22 17:44:04,707 | optuna_training | INFO | Params: {'classifier__n_estimators': 70, 'classifier__max_depth': 20, 'classifier__min_samples_split': 5, 'classifier__min_samples_leaf': 5}, Mean Test Score: 0.9560366015149107\n",
      "INFO:optuna_training:Params: {'classifier__n_estimators': 70, 'classifier__max_depth': 20, 'classifier__min_samples_split': 5, 'classifier__min_samples_leaf': 5}, Mean Test Score: 0.9560366015149107\n",
      "2024-10-22 17:44:04,707 | optuna_training | INFO | Params: {'classifier__n_estimators': 184, 'classifier__max_depth': 30, 'classifier__min_samples_split': 8, 'classifier__min_samples_leaf': 7}, Mean Test Score: 0.9560491904585341\n",
      "INFO:optuna_training:Params: {'classifier__n_estimators': 184, 'classifier__max_depth': 30, 'classifier__min_samples_split': 8, 'classifier__min_samples_leaf': 7}, Mean Test Score: 0.9560491904585341\n",
      "2024-10-22 17:44:04,708 | optuna_training | INFO | Params: {'classifier__n_estimators': 123, 'classifier__max_depth': 5, 'classifier__min_samples_split': 7, 'classifier__min_samples_leaf': 7}, Mean Test Score: 0.934826079535757\n",
      "INFO:optuna_training:Params: {'classifier__n_estimators': 123, 'classifier__max_depth': 5, 'classifier__min_samples_split': 7, 'classifier__min_samples_leaf': 7}, Mean Test Score: 0.934826079535757\n",
      "2024-10-22 17:44:04,708 | optuna_training | INFO | Params: {'classifier__n_estimators': 158, 'classifier__max_depth': 10, 'classifier__min_samples_split': 6, 'classifier__min_samples_leaf': 1}, Mean Test Score: 0.9684170771756978\n",
      "INFO:optuna_training:Params: {'classifier__n_estimators': 158, 'classifier__max_depth': 10, 'classifier__min_samples_split': 6, 'classifier__min_samples_leaf': 1}, Mean Test Score: 0.9684170771756978\n",
      "2024-10-22 17:44:04,709 | optuna_training | INFO | Params: {'classifier__n_estimators': 153, 'classifier__max_depth': 10, 'classifier__min_samples_split': 6, 'classifier__min_samples_leaf': 1}, Mean Test Score: 0.9689850392264185\n",
      "INFO:optuna_training:Params: {'classifier__n_estimators': 153, 'classifier__max_depth': 10, 'classifier__min_samples_split': 6, 'classifier__min_samples_leaf': 1}, Mean Test Score: 0.9689850392264185\n",
      "2024-10-22 17:44:04,709 | optuna_training | INFO | Params: {'classifier__n_estimators': 152, 'classifier__max_depth': 10, 'classifier__min_samples_split': 5, 'classifier__min_samples_leaf': 2}, Mean Test Score: 0.9690556467797846\n",
      "INFO:optuna_training:Params: {'classifier__n_estimators': 152, 'classifier__max_depth': 10, 'classifier__min_samples_split': 5, 'classifier__min_samples_leaf': 2}, Mean Test Score: 0.9690556467797846\n",
      "2024-10-22 17:44:04,709 | optuna_training | INFO | Params: {'classifier__n_estimators': 148, 'classifier__max_depth': 10, 'classifier__min_samples_split': 5, 'classifier__min_samples_leaf': 3}, Mean Test Score: 0.9643223393423617\n",
      "INFO:optuna_training:Params: {'classifier__n_estimators': 148, 'classifier__max_depth': 10, 'classifier__min_samples_split': 5, 'classifier__min_samples_leaf': 3}, Mean Test Score: 0.9643223393423617\n",
      "2024-10-22 17:44:04,710 | optuna_training | INFO | Params: {'classifier__n_estimators': 145, 'classifier__max_depth': 10, 'classifier__min_samples_split': 5, 'classifier__min_samples_leaf': 3}, Mean Test Score: 0.9669866812625433\n",
      "INFO:optuna_training:Params: {'classifier__n_estimators': 145, 'classifier__max_depth': 10, 'classifier__min_samples_split': 5, 'classifier__min_samples_leaf': 3}, Mean Test Score: 0.9669866812625433\n",
      "2024-10-22 17:44:04,718 | optuna_training | INFO | Params: {'classifier__n_estimators': 196, 'classifier__max_depth': 10, 'classifier__min_samples_split': 4, 'classifier__min_samples_leaf': 2}, Mean Test Score: 0.968392446633826\n",
      "INFO:optuna_training:Params: {'classifier__n_estimators': 196, 'classifier__max_depth': 10, 'classifier__min_samples_split': 4, 'classifier__min_samples_leaf': 2}, Mean Test Score: 0.968392446633826\n",
      "2024-10-22 17:44:04,737 | optuna_training | INFO | Params: {'classifier__n_estimators': 133, 'classifier__max_depth': 3, 'classifier__min_samples_split': 6, 'classifier__min_samples_leaf': 2}, Mean Test Score: 0.8827451489309108\n",
      "INFO:optuna_training:Params: {'classifier__n_estimators': 133, 'classifier__max_depth': 3, 'classifier__min_samples_split': 6, 'classifier__min_samples_leaf': 2}, Mean Test Score: 0.8827451489309108\n",
      "2024-10-22 17:44:04,738 | optuna_training | INFO | Params: {'classifier__n_estimators': 161, 'classifier__max_depth': 20, 'classifier__min_samples_split': 2, 'classifier__min_samples_leaf': 4}, Mean Test Score: 0.9592918939915602\n",
      "INFO:optuna_training:Params: {'classifier__n_estimators': 161, 'classifier__max_depth': 20, 'classifier__min_samples_split': 2, 'classifier__min_samples_leaf': 4}, Mean Test Score: 0.9592918939915602\n",
      "2024-10-22 17:44:04,739 | optuna_training | INFO | Params: {'classifier__n_estimators': 172, 'classifier__max_depth': None, 'classifier__min_samples_split': 4, 'classifier__min_samples_leaf': 2}, Mean Test Score: 0.9683415199722207\n",
      "INFO:optuna_training:Params: {'classifier__n_estimators': 172, 'classifier__max_depth': None, 'classifier__min_samples_split': 4, 'classifier__min_samples_leaf': 2}, Mean Test Score: 0.9683415199722207\n",
      "2024-10-22 17:44:04,739 | optuna_training | INFO | Params: {'classifier__n_estimators': 135, 'classifier__max_depth': 10, 'classifier__min_samples_split': 6, 'classifier__min_samples_leaf': 5}, Mean Test Score: 0.957904349924372\n",
      "INFO:optuna_training:Params: {'classifier__n_estimators': 135, 'classifier__max_depth': 10, 'classifier__min_samples_split': 6, 'classifier__min_samples_leaf': 5}, Mean Test Score: 0.957904349924372\n",
      "2024-10-22 17:44:04,740 | optuna_training | INFO | Params: {'classifier__n_estimators': 117, 'classifier__max_depth': 10, 'classifier__min_samples_split': 7, 'classifier__min_samples_leaf': 10}, Mean Test Score: 0.9482801702067553\n",
      "INFO:optuna_training:Params: {'classifier__n_estimators': 117, 'classifier__max_depth': 10, 'classifier__min_samples_split': 7, 'classifier__min_samples_leaf': 10}, Mean Test Score: 0.9482801702067553\n",
      "2024-10-22 17:44:04,740 | optuna_training | INFO | Params: {'classifier__n_estimators': 156, 'classifier__max_depth': 10, 'classifier__min_samples_split': 6, 'classifier__min_samples_leaf': 1}, Mean Test Score: 0.9711773399014778\n",
      "INFO:optuna_training:Params: {'classifier__n_estimators': 156, 'classifier__max_depth': 10, 'classifier__min_samples_split': 6, 'classifier__min_samples_leaf': 1}, Mean Test Score: 0.9711773399014778\n",
      "2024-10-22 17:44:04,741 | optuna_training | INFO | Params: {'classifier__n_estimators': 157, 'classifier__max_depth': 10, 'classifier__min_samples_split': 6, 'classifier__min_samples_leaf': 1}, Mean Test Score: 0.9711773399014778\n",
      "INFO:optuna_training:Params: {'classifier__n_estimators': 157, 'classifier__max_depth': 10, 'classifier__min_samples_split': 6, 'classifier__min_samples_leaf': 1}, Mean Test Score: 0.9711773399014778\n",
      "2024-10-22 17:44:04,743 | optuna_training | INFO | Params: {'classifier__n_estimators': 170, 'classifier__max_depth': 10, 'classifier__min_samples_split': 5, 'classifier__min_samples_leaf': 2}, Mean Test Score: 0.9698178928968695\n",
      "INFO:optuna_training:Params: {'classifier__n_estimators': 170, 'classifier__max_depth': 10, 'classifier__min_samples_split': 5, 'classifier__min_samples_leaf': 2}, Mean Test Score: 0.9698178928968695\n",
      "2024-10-22 17:44:04,745 | optuna_training | INFO | Params: {'classifier__n_estimators': 196, 'classifier__max_depth': 10, 'classifier__min_samples_split': 8, 'classifier__min_samples_leaf': 1}, Mean Test Score: 0.9677011494252872\n",
      "INFO:optuna_training:Params: {'classifier__n_estimators': 196, 'classifier__max_depth': 10, 'classifier__min_samples_split': 8, 'classifier__min_samples_leaf': 1}, Mean Test Score: 0.9677011494252872\n",
      "2024-10-22 17:44:04,747 | optuna_training | INFO | Params: {'classifier__n_estimators': 171, 'classifier__max_depth': 10, 'classifier__min_samples_split': 3, 'classifier__min_samples_leaf': 3}, Mean Test Score: 0.9642497483976905\n",
      "INFO:optuna_training:Params: {'classifier__n_estimators': 171, 'classifier__max_depth': 10, 'classifier__min_samples_split': 3, 'classifier__min_samples_leaf': 3}, Mean Test Score: 0.9642497483976905\n",
      "2024-10-22 17:44:04,748 | optuna_training | INFO | Params: {'classifier__n_estimators': 182, 'classifier__max_depth': 3, 'classifier__min_samples_split': 7, 'classifier__min_samples_leaf': 4}, Mean Test Score: 0.8705457504222798\n",
      "INFO:optuna_training:Params: {'classifier__n_estimators': 182, 'classifier__max_depth': 3, 'classifier__min_samples_split': 7, 'classifier__min_samples_leaf': 4}, Mean Test Score: 0.8705457504222798\n",
      "2024-10-22 17:44:04,749 | optuna_training | INFO | Params: {'classifier__n_estimators': 163, 'classifier__max_depth': None, 'classifier__min_samples_split': 5, 'classifier__min_samples_leaf': 2}, Mean Test Score: 0.9691331873745668\n",
      "INFO:optuna_training:Params: {'classifier__n_estimators': 163, 'classifier__max_depth': None, 'classifier__min_samples_split': 5, 'classifier__min_samples_leaf': 2}, Mean Test Score: 0.9691331873745668\n",
      "2024-10-22 17:44:04,749 | optuna_training | INFO | Params: {'classifier__n_estimators': 138, 'classifier__max_depth': 20, 'classifier__min_samples_split': 4, 'classifier__min_samples_leaf': 1}, Mean Test Score: 0.9760167852581644\n",
      "INFO:optuna_training:Params: {'classifier__n_estimators': 138, 'classifier__max_depth': 20, 'classifier__min_samples_split': 4, 'classifier__min_samples_leaf': 1}, Mean Test Score: 0.9760167852581644\n",
      "2024-10-22 17:44:04,750 | optuna_training | INFO | Params: {'classifier__n_estimators': 138, 'classifier__max_depth': 20, 'classifier__min_samples_split': 3, 'classifier__min_samples_leaf': 6}, Mean Test Score: 0.9565020510737974\n",
      "INFO:optuna_training:Params: {'classifier__n_estimators': 138, 'classifier__max_depth': 20, 'classifier__min_samples_split': 3, 'classifier__min_samples_leaf': 6}, Mean Test Score: 0.9565020510737974\n",
      "2024-10-22 17:44:04,750 | optuna_training | INFO | Params: {'classifier__n_estimators': 99, 'classifier__max_depth': 20, 'classifier__min_samples_split': 4, 'classifier__min_samples_leaf': 1}, Mean Test Score: 0.9725550082101805\n",
      "INFO:optuna_training:Params: {'classifier__n_estimators': 99, 'classifier__max_depth': 20, 'classifier__min_samples_split': 4, 'classifier__min_samples_leaf': 1}, Mean Test Score: 0.9725550082101805\n",
      "2024-10-22 17:44:04,751 | optuna_training | INFO | Params: {'classifier__n_estimators': 109, 'classifier__max_depth': 20, 'classifier__min_samples_split': 4, 'classifier__min_samples_leaf': 1}, Mean Test Score: 0.9698689784651965\n",
      "INFO:optuna_training:Params: {'classifier__n_estimators': 109, 'classifier__max_depth': 20, 'classifier__min_samples_split': 4, 'classifier__min_samples_leaf': 1}, Mean Test Score: 0.9698689784651965\n",
      "2024-10-22 17:44:04,752 | optuna_training | INFO | Params: {'classifier__n_estimators': 102, 'classifier__max_depth': 20, 'classifier__min_samples_split': 3, 'classifier__min_samples_leaf': 1}, Mean Test Score: 0.9773433679985404\n",
      "INFO:optuna_training:Params: {'classifier__n_estimators': 102, 'classifier__max_depth': 20, 'classifier__min_samples_split': 3, 'classifier__min_samples_leaf': 1}, Mean Test Score: 0.9773433679985404\n",
      "2024-10-22 17:44:04,752 | optuna_training | INFO | Params: {'classifier__n_estimators': 100, 'classifier__max_depth': 20, 'classifier__min_samples_split': 3, 'classifier__min_samples_leaf': 3}, Mean Test Score: 0.9636783198262618\n",
      "INFO:optuna_training:Params: {'classifier__n_estimators': 100, 'classifier__max_depth': 20, 'classifier__min_samples_split': 3, 'classifier__min_samples_leaf': 3}, Mean Test Score: 0.9636783198262618\n",
      "2024-10-22 17:44:04,753 | optuna_training | INFO | Params: {'classifier__n_estimators': 100, 'classifier__max_depth': 20, 'classifier__min_samples_split': 2, 'classifier__min_samples_leaf': 2}, Mean Test Score: 0.9697472853435032\n",
      "INFO:optuna_training:Params: {'classifier__n_estimators': 100, 'classifier__max_depth': 20, 'classifier__min_samples_split': 2, 'classifier__min_samples_leaf': 2}, Mean Test Score: 0.9697472853435032\n",
      "2024-10-22 17:44:04,753 | optuna_training | INFO | Params: {'classifier__n_estimators': 77, 'classifier__max_depth': 20, 'classifier__min_samples_split': 3, 'classifier__min_samples_leaf': 4}, Mean Test Score: 0.960099934671681\n",
      "INFO:optuna_training:Params: {'classifier__n_estimators': 77, 'classifier__max_depth': 20, 'classifier__min_samples_split': 3, 'classifier__min_samples_leaf': 4}, Mean Test Score: 0.960099934671681\n",
      "2024-10-22 17:44:04,754 | optuna_training | INFO | Params: {'classifier__n_estimators': 63, 'classifier__max_depth': 20, 'classifier__min_samples_split': 4, 'classifier__min_samples_leaf': 1}, Mean Test Score: 0.9697963875205253\n",
      "INFO:optuna_training:Params: {'classifier__n_estimators': 63, 'classifier__max_depth': 20, 'classifier__min_samples_split': 4, 'classifier__min_samples_leaf': 1}, Mean Test Score: 0.9697963875205253\n",
      "2024-10-22 17:44:04,754 | optuna_training | INFO | Params: {'classifier__n_estimators': 88, 'classifier__max_depth': 30, 'classifier__min_samples_split': 10, 'classifier__min_samples_leaf': 3}, Mean Test Score: 0.9605476867301116\n",
      "INFO:optuna_training:Params: {'classifier__n_estimators': 88, 'classifier__max_depth': 30, 'classifier__min_samples_split': 10, 'classifier__min_samples_leaf': 3}, Mean Test Score: 0.9605476867301116\n",
      "2024-10-22 17:44:04,755 | optuna_training | INFO | Params: {'classifier__n_estimators': 111, 'classifier__max_depth': 5, 'classifier__min_samples_split': 2, 'classifier__min_samples_leaf': 1}, Mean Test Score: 0.9384787624109092\n",
      "INFO:optuna_training:Params: {'classifier__n_estimators': 111, 'classifier__max_depth': 5, 'classifier__min_samples_split': 2, 'classifier__min_samples_leaf': 1}, Mean Test Score: 0.9384787624109092\n",
      "2024-10-22 17:44:04,755 | optuna_training | INFO | Params: {'classifier__n_estimators': 120, 'classifier__max_depth': 20, 'classifier__min_samples_split': 4, 'classifier__min_samples_leaf': 2}, Mean Test Score: 0.967775041050903\n",
      "INFO:optuna_training:Params: {'classifier__n_estimators': 120, 'classifier__max_depth': 20, 'classifier__min_samples_split': 4, 'classifier__min_samples_leaf': 2}, Mean Test Score: 0.967775041050903\n",
      "2024-10-22 17:44:04,756 | optuna_training | INFO | Params: {'classifier__n_estimators': 129, 'classifier__max_depth': 20, 'classifier__min_samples_split': 3, 'classifier__min_samples_leaf': 8}, Mean Test Score: 0.949371417977647\n",
      "INFO:optuna_training:Params: {'classifier__n_estimators': 129, 'classifier__max_depth': 20, 'classifier__min_samples_split': 3, 'classifier__min_samples_leaf': 8}, Mean Test Score: 0.949371417977647\n",
      "2024-10-22 17:44:04,757 | optuna_training | INFO | Params: {'classifier__n_estimators': 141, 'classifier__max_depth': 20, 'classifier__min_samples_split': 4, 'classifier__min_samples_leaf': 1}, Mean Test Score: 0.9705371282612661\n",
      "INFO:optuna_training:Params: {'classifier__n_estimators': 141, 'classifier__max_depth': 20, 'classifier__min_samples_split': 4, 'classifier__min_samples_leaf': 1}, Mean Test Score: 0.9705371282612661\n",
      "2024-10-22 17:44:04,758 | optuna_training | INFO | Params: {'classifier__n_estimators': 90, 'classifier__max_depth': 30, 'classifier__min_samples_split': 7, 'classifier__min_samples_leaf': 1}, Mean Test Score: 0.9683415199722207\n",
      "INFO:optuna_training:Params: {'classifier__n_estimators': 90, 'classifier__max_depth': 30, 'classifier__min_samples_split': 7, 'classifier__min_samples_leaf': 1}, Mean Test Score: 0.9683415199722207\n",
      "2024-10-22 17:44:04,758 | optuna_training | INFO | Params: {'classifier__n_estimators': 126, 'classifier__max_depth': 5, 'classifier__min_samples_split': 6, 'classifier__min_samples_leaf': 1}, Mean Test Score: 0.9306615993078731\n",
      "INFO:optuna_training:Params: {'classifier__n_estimators': 126, 'classifier__max_depth': 5, 'classifier__min_samples_split': 6, 'classifier__min_samples_leaf': 1}, Mean Test Score: 0.9306615993078731\n",
      "2024-10-22 17:44:04,758 | optuna_training | INFO | Params: {'classifier__n_estimators': 104, 'classifier__max_depth': 20, 'classifier__min_samples_split': 5, 'classifier__min_samples_leaf': 2}, Mean Test Score: 0.966415594046295\n",
      "INFO:optuna_training:Params: {'classifier__n_estimators': 104, 'classifier__max_depth': 20, 'classifier__min_samples_split': 5, 'classifier__min_samples_leaf': 2}, Mean Test Score: 0.966415594046295\n",
      "2024-10-22 17:44:04,759 | optuna_training | INFO | Params: {'classifier__n_estimators': 155, 'classifier__max_depth': 3, 'classifier__min_samples_split': 9, 'classifier__min_samples_leaf': 1}, Mean Test Score: 0.8787558663064781\n",
      "INFO:optuna_training:Params: {'classifier__n_estimators': 155, 'classifier__max_depth': 3, 'classifier__min_samples_split': 9, 'classifier__min_samples_leaf': 1}, Mean Test Score: 0.8787558663064781\n",
      "2024-10-22 17:44:04,759 | optuna_training | INFO | Params: {'classifier__n_estimators': 80, 'classifier__max_depth': None, 'classifier__min_samples_split': 3, 'classifier__min_samples_leaf': 1}, Mean Test Score: 0.9710806186768368\n",
      "INFO:optuna_training:Params: {'classifier__n_estimators': 80, 'classifier__max_depth': None, 'classifier__min_samples_split': 3, 'classifier__min_samples_leaf': 1}, Mean Test Score: 0.9710806186768368\n",
      "2024-10-22 17:44:04,759 | optuna_training | INFO | Params: {'classifier__n_estimators': 94, 'classifier__max_depth': 20, 'classifier__min_samples_split': 2, 'classifier__min_samples_leaf': 2}, Mean Test Score: 0.9698901424863603\n",
      "INFO:optuna_training:Params: {'classifier__n_estimators': 94, 'classifier__max_depth': 20, 'classifier__min_samples_split': 2, 'classifier__min_samples_leaf': 2}, Mean Test Score: 0.9698901424863603\n",
      "2024-10-22 17:44:04,760 | optuna_training | INFO | Params: {'classifier__n_estimators': 146, 'classifier__max_depth': 5, 'classifier__min_samples_split': 8, 'classifier__min_samples_leaf': 3}, Mean Test Score: 0.9395992725603405\n",
      "INFO:optuna_training:Params: {'classifier__n_estimators': 146, 'classifier__max_depth': 5, 'classifier__min_samples_split': 8, 'classifier__min_samples_leaf': 3}, Mean Test Score: 0.9395992725603405\n",
      "2024-10-22 17:44:04,760 | optuna_training | INFO | Params: {'classifier__n_estimators': 51, 'classifier__max_depth': 30, 'classifier__min_samples_split': 6, 'classifier__min_samples_leaf': 2}, Mean Test Score: 0.9608162273190081\n",
      "INFO:optuna_training:Params: {'classifier__n_estimators': 51, 'classifier__max_depth': 30, 'classifier__min_samples_split': 6, 'classifier__min_samples_leaf': 2}, Mean Test Score: 0.9608162273190081\n",
      "2024-10-22 17:44:04,760 | optuna_training | INFO | Params: {'classifier__n_estimators': 165, 'classifier__max_depth': 20, 'classifier__min_samples_split': 4, 'classifier__min_samples_leaf': 1}, Mean Test Score: 0.9732037949279327\n",
      "INFO:optuna_training:Params: {'classifier__n_estimators': 165, 'classifier__max_depth': 20, 'classifier__min_samples_split': 4, 'classifier__min_samples_leaf': 1}, Mean Test Score: 0.9732037949279327\n",
      "2024-10-22 17:44:04,761 | optuna_training | INFO | Params: {'classifier__n_estimators': 164, 'classifier__max_depth': 20, 'classifier__min_samples_split': 4, 'classifier__min_samples_leaf': 1}, Mean Test Score: 0.9724614121510673\n",
      "INFO:optuna_training:Params: {'classifier__n_estimators': 164, 'classifier__max_depth': 20, 'classifier__min_samples_split': 4, 'classifier__min_samples_leaf': 1}, Mean Test Score: 0.9724614121510673\n",
      "2024-10-22 17:44:04,762 | optuna_training | INFO | Params: {'classifier__n_estimators': 180, 'classifier__max_depth': 20, 'classifier__min_samples_split': 4, 'classifier__min_samples_leaf': 1}, Mean Test Score: 0.9739410691479657\n",
      "INFO:optuna_training:Params: {'classifier__n_estimators': 180, 'classifier__max_depth': 20, 'classifier__min_samples_split': 4, 'classifier__min_samples_leaf': 1}, Mean Test Score: 0.9739410691479657\n",
      "2024-10-22 17:44:04,762 | optuna_training | INFO | Params: {'classifier__n_estimators': 183, 'classifier__max_depth': 20, 'classifier__min_samples_split': 4, 'classifier__min_samples_leaf': 2}, Mean Test Score: 0.9697456433073786\n",
      "INFO:optuna_training:Params: {'classifier__n_estimators': 183, 'classifier__max_depth': 20, 'classifier__min_samples_split': 4, 'classifier__min_samples_leaf': 2}, Mean Test Score: 0.9697456433073786\n",
      "2024-10-22 17:44:04,763 | optuna_training | INFO | Params: {'classifier__n_estimators': 177, 'classifier__max_depth': 20, 'classifier__min_samples_split': 4, 'classifier__min_samples_leaf': 1}, Mean Test Score: 0.9739146141215105\n",
      "INFO:optuna_training:Params: {'classifier__n_estimators': 177, 'classifier__max_depth': 20, 'classifier__min_samples_split': 4, 'classifier__min_samples_leaf': 1}, Mean Test Score: 0.9739146141215105\n",
      "2024-10-22 17:44:04,764 | optuna_training | INFO | Params: {'classifier__n_estimators': 193, 'classifier__max_depth': 20, 'classifier__min_samples_split': 3, 'classifier__min_samples_leaf': 2}, Mean Test Score: 0.9711032658274037\n",
      "INFO:optuna_training:Params: {'classifier__n_estimators': 193, 'classifier__max_depth': 20, 'classifier__min_samples_split': 3, 'classifier__min_samples_leaf': 2}, Mean Test Score: 0.9711032658274037\n",
      "2024-10-22 17:44:04,764 | optuna_training | INFO | Params: {'classifier__n_estimators': 177, 'classifier__max_depth': 20, 'classifier__min_samples_split': 5, 'classifier__min_samples_leaf': 1}, Mean Test Score: 0.9696961997751764\n",
      "INFO:optuna_training:Params: {'classifier__n_estimators': 177, 'classifier__max_depth': 20, 'classifier__min_samples_split': 5, 'classifier__min_samples_leaf': 1}, Mean Test Score: 0.9696961997751764\n",
      "2024-10-22 17:44:04,764 | optuna_training | INFO | Params: {'classifier__n_estimators': 186, 'classifier__max_depth': 20, 'classifier__min_samples_split': 4, 'classifier__min_samples_leaf': 5}, Mean Test Score: 0.9586005967830216\n",
      "INFO:optuna_training:Params: {'classifier__n_estimators': 186, 'classifier__max_depth': 20, 'classifier__min_samples_split': 4, 'classifier__min_samples_leaf': 5}, Mean Test Score: 0.9586005967830216\n",
      "2024-10-22 17:44:04,765 | optuna_training | INFO | Params: {'classifier__n_estimators': 177, 'classifier__max_depth': 20, 'classifier__min_samples_split': 3, 'classifier__min_samples_leaf': 7}, Mean Test Score: 0.9537432714774206\n",
      "INFO:optuna_training:Params: {'classifier__n_estimators': 177, 'classifier__max_depth': 20, 'classifier__min_samples_split': 3, 'classifier__min_samples_leaf': 7}, Mean Test Score: 0.9537432714774206\n",
      "2024-10-22 17:44:04,766 | optuna_training | INFO | Params: {'classifier__n_estimators': 192, 'classifier__max_depth': 20, 'classifier__min_samples_split': 5, 'classifier__min_samples_leaf': 3}, Mean Test Score: 0.9691988452778219\n",
      "INFO:optuna_training:Params: {'classifier__n_estimators': 192, 'classifier__max_depth': 20, 'classifier__min_samples_split': 5, 'classifier__min_samples_leaf': 3}, Mean Test Score: 0.9691988452778219\n",
      "2024-10-22 17:44:04,766 | optuna_training | INFO | Params: {'classifier__n_estimators': 166, 'classifier__max_depth': 20, 'classifier__min_samples_split': 4, 'classifier__min_samples_leaf': 1}, Mean Test Score: 0.9697702738492504\n",
      "INFO:optuna_training:Params: {'classifier__n_estimators': 166, 'classifier__max_depth': 20, 'classifier__min_samples_split': 4, 'classifier__min_samples_leaf': 1}, Mean Test Score: 0.9697702738492504\n",
      "2024-10-22 17:44:04,767 | optuna_training | INFO | Params: {'classifier__n_estimators': 188, 'classifier__max_depth': 20, 'classifier__min_samples_split': 4, 'classifier__min_samples_leaf': 1}, Mean Test Score: 0.9731773399014779\n",
      "INFO:optuna_training:Params: {'classifier__n_estimators': 188, 'classifier__max_depth': 20, 'classifier__min_samples_split': 4, 'classifier__min_samples_leaf': 1}, Mean Test Score: 0.9731773399014779\n",
      "2024-10-22 17:44:04,767 | optuna_training | INFO | Params: {'classifier__n_estimators': 188, 'classifier__max_depth': 20, 'classifier__min_samples_split': 4, 'classifier__min_samples_leaf': 1}, Mean Test Score: 0.9718458310527275\n",
      "INFO:optuna_training:Params: {'classifier__n_estimators': 188, 'classifier__max_depth': 20, 'classifier__min_samples_split': 4, 'classifier__min_samples_leaf': 1}, Mean Test Score: 0.9718458310527275\n",
      "2024-10-22 17:44:04,768 | optuna_training | INFO | Params: {'classifier__n_estimators': 179, 'classifier__max_depth': 20, 'classifier__min_samples_split': 4, 'classifier__min_samples_leaf': 2}, Mean Test Score: 0.9689620507206713\n",
      "INFO:optuna_training:Params: {'classifier__n_estimators': 179, 'classifier__max_depth': 20, 'classifier__min_samples_split': 4, 'classifier__min_samples_leaf': 2}, Mean Test Score: 0.9689620507206713\n",
      "2024-10-22 17:44:04,768 | optuna_training | INFO | Params: {'classifier__n_estimators': 199, 'classifier__max_depth': 20, 'classifier__min_samples_split': 5, 'classifier__min_samples_leaf': 1}, Mean Test Score: 0.9731756978653529\n",
      "INFO:optuna_training:Params: {'classifier__n_estimators': 199, 'classifier__max_depth': 20, 'classifier__min_samples_split': 5, 'classifier__min_samples_leaf': 1}, Mean Test Score: 0.9731756978653529\n",
      "2024-10-22 17:44:04,769 | optuna_training | INFO | Params: {'classifier__n_estimators': 198, 'classifier__max_depth': 20, 'classifier__min_samples_split': 5, 'classifier__min_samples_leaf': 1}, Mean Test Score: 0.9690541636503817\n",
      "INFO:optuna_training:Params: {'classifier__n_estimators': 198, 'classifier__max_depth': 20, 'classifier__min_samples_split': 5, 'classifier__min_samples_leaf': 1}, Mean Test Score: 0.9690541636503817\n",
      "2024-10-22 17:44:04,769 | optuna_training | INFO | Params: {'classifier__n_estimators': 188, 'classifier__max_depth': 3, 'classifier__min_samples_split': 5, 'classifier__min_samples_leaf': 2}, Mean Test Score: 0.8794602762622785\n",
      "INFO:optuna_training:Params: {'classifier__n_estimators': 188, 'classifier__max_depth': 3, 'classifier__min_samples_split': 5, 'classifier__min_samples_leaf': 2}, Mean Test Score: 0.8794602762622785\n",
      "2024-10-22 17:44:04,769 | optuna_training | INFO | Params: {'classifier__n_estimators': 191, 'classifier__max_depth': None, 'classifier__min_samples_split': 5, 'classifier__min_samples_leaf': 2}, Mean Test Score: 0.9704615710577891\n",
      "INFO:optuna_training:Params: {'classifier__n_estimators': 191, 'classifier__max_depth': None, 'classifier__min_samples_split': 5, 'classifier__min_samples_leaf': 2}, Mean Test Score: 0.9704615710577891\n",
      "2024-10-22 17:44:04,770 | optuna_training | INFO | Params: {'classifier__n_estimators': 200, 'classifier__max_depth': 20, 'classifier__min_samples_split': 3, 'classifier__min_samples_leaf': 10}, Mean Test Score: 0.9445551200334293\n",
      "INFO:optuna_training:Params: {'classifier__n_estimators': 200, 'classifier__max_depth': 20, 'classifier__min_samples_split': 3, 'classifier__min_samples_leaf': 10}, Mean Test Score: 0.9445551200334293\n",
      "2024-10-22 17:44:04,770 | optuna_training | INFO | Params: {'classifier__n_estimators': 169, 'classifier__max_depth': 20, 'classifier__min_samples_split': 4, 'classifier__min_samples_leaf': 1}, Mean Test Score: 0.9738423645320194\n",
      "INFO:optuna_training:Params: {'classifier__n_estimators': 169, 'classifier__max_depth': 20, 'classifier__min_samples_split': 4, 'classifier__min_samples_leaf': 1}, Mean Test Score: 0.9738423645320194\n",
      "2024-10-22 17:44:04,770 | optuna_training | INFO | Params: {'classifier__n_estimators': 172, 'classifier__max_depth': 20, 'classifier__min_samples_split': 3, 'classifier__min_samples_leaf': 2}, Mean Test Score: 0.969006727051221\n",
      "INFO:optuna_training:Params: {'classifier__n_estimators': 172, 'classifier__max_depth': 20, 'classifier__min_samples_split': 3, 'classifier__min_samples_leaf': 2}, Mean Test Score: 0.969006727051221\n",
      "2024-10-22 17:44:04,771 | optuna_training | INFO | Params: {'classifier__n_estimators': 166, 'classifier__max_depth': 20, 'classifier__min_samples_split': 4, 'classifier__min_samples_leaf': 1}, Mean Test Score: 0.9710556467797847\n",
      "INFO:optuna_training:Params: {'classifier__n_estimators': 166, 'classifier__max_depth': 20, 'classifier__min_samples_split': 4, 'classifier__min_samples_leaf': 1}, Mean Test Score: 0.9710556467797847\n",
      "2024-10-22 17:44:04,771 | optuna_training | INFO | Params: {'classifier__n_estimators': 181, 'classifier__max_depth': 20, 'classifier__min_samples_split': 4, 'classifier__min_samples_leaf': 1}, Mean Test Score: 0.9731067323481117\n",
      "INFO:optuna_training:Params: {'classifier__n_estimators': 181, 'classifier__max_depth': 20, 'classifier__min_samples_split': 4, 'classifier__min_samples_leaf': 1}, Mean Test Score: 0.9731067323481117\n",
      "2024-10-22 17:44:04,771 | optuna_training | INFO | Params: {'classifier__n_estimators': 149, 'classifier__max_depth': 20, 'classifier__min_samples_split': 5, 'classifier__min_samples_leaf': 1}, Mean Test Score: 0.975290616852352\n",
      "INFO:optuna_training:Params: {'classifier__n_estimators': 149, 'classifier__max_depth': 20, 'classifier__min_samples_split': 5, 'classifier__min_samples_leaf': 1}, Mean Test Score: 0.975290616852352\n",
      "2024-10-22 17:44:04,772 | optuna_training | INFO | Params: {'classifier__n_estimators': 151, 'classifier__max_depth': 20, 'classifier__min_samples_split': 4, 'classifier__min_samples_leaf': 1}, Mean Test Score: 0.9697750410509031\n",
      "INFO:optuna_training:Params: {'classifier__n_estimators': 151, 'classifier__max_depth': 20, 'classifier__min_samples_split': 4, 'classifier__min_samples_leaf': 1}, Mean Test Score: 0.9697750410509031\n",
      "2024-10-22 17:44:04,773 | optuna_training | INFO | Params: {'classifier__n_estimators': 161, 'classifier__max_depth': 20, 'classifier__min_samples_split': 3, 'classifier__min_samples_leaf': 1}, Mean Test Score: 0.9752463054187193\n",
      "INFO:optuna_training:Params: {'classifier__n_estimators': 161, 'classifier__max_depth': 20, 'classifier__min_samples_split': 3, 'classifier__min_samples_leaf': 1}, Mean Test Score: 0.9752463054187193\n",
      "2024-10-22 17:44:04,774 | optuna_training | INFO | Params: {'classifier__n_estimators': 144, 'classifier__max_depth': 20, 'classifier__min_samples_split': 3, 'classifier__min_samples_leaf': 2}, Mean Test Score: 0.9683187139149319\n",
      "INFO:optuna_training:Params: {'classifier__n_estimators': 144, 'classifier__max_depth': 20, 'classifier__min_samples_split': 3, 'classifier__min_samples_leaf': 2}, Mean Test Score: 0.9683187139149319\n",
      "2024-10-22 17:44:04,774 | optuna_training | INFO | Params: {'classifier__n_estimators': 160, 'classifier__max_depth': 20, 'classifier__min_samples_split': 3, 'classifier__min_samples_leaf': 1}, Mean Test Score: 0.9739675241744207\n",
      "INFO:optuna_training:Params: {'classifier__n_estimators': 160, 'classifier__max_depth': 20, 'classifier__min_samples_split': 3, 'classifier__min_samples_leaf': 1}, Mean Test Score: 0.9739675241744207\n",
      "2024-10-22 17:44:04,775 | optuna_training | INFO | Params: {'classifier__n_estimators': 160, 'classifier__max_depth': 30, 'classifier__min_samples_split': 2, 'classifier__min_samples_leaf': 2}, Mean Test Score: 0.9710855683269475\n",
      "INFO:optuna_training:Params: {'classifier__n_estimators': 160, 'classifier__max_depth': 30, 'classifier__min_samples_split': 2, 'classifier__min_samples_leaf': 2}, Mean Test Score: 0.9710855683269475\n",
      "2024-10-22 17:44:04,775 | optuna_training | INFO | Params: {'classifier__n_estimators': 152, 'classifier__max_depth': 3, 'classifier__min_samples_split': 3, 'classifier__min_samples_leaf': 1}, Mean Test Score: 0.881688813555332\n",
      "INFO:optuna_training:Params: {'classifier__n_estimators': 152, 'classifier__max_depth': 3, 'classifier__min_samples_split': 3, 'classifier__min_samples_leaf': 1}, Mean Test Score: 0.881688813555332\n",
      "2024-10-22 17:44:04,776 | optuna_training | INFO | Params: {'classifier__n_estimators': 140, 'classifier__max_depth': 5, 'classifier__min_samples_split': 2, 'classifier__min_samples_leaf': 1}, Mean Test Score: 0.945246599690426\n",
      "INFO:optuna_training:Params: {'classifier__n_estimators': 140, 'classifier__max_depth': 5, 'classifier__min_samples_split': 2, 'classifier__min_samples_leaf': 1}, Mean Test Score: 0.945246599690426\n",
      "2024-10-22 17:44:04,776 | optuna_training | INFO | Params: {'classifier__n_estimators': 170, 'classifier__max_depth': 20, 'classifier__min_samples_split': 3, 'classifier__min_samples_leaf': 1}, Mean Test Score: 0.9739921547162927\n",
      "INFO:optuna_training:Params: {'classifier__n_estimators': 170, 'classifier__max_depth': 20, 'classifier__min_samples_split': 3, 'classifier__min_samples_leaf': 1}, Mean Test Score: 0.9739921547162927\n",
      "2024-10-22 17:44:04,777 | optuna_training | INFO | Params: {'classifier__n_estimators': 168, 'classifier__max_depth': 20, 'classifier__min_samples_split': 3, 'classifier__min_samples_leaf': 1}, Mean Test Score: 0.9731032658274037\n",
      "INFO:optuna_training:Params: {'classifier__n_estimators': 168, 'classifier__max_depth': 20, 'classifier__min_samples_split': 3, 'classifier__min_samples_leaf': 1}, Mean Test Score: 0.9731032658274037\n",
      "2024-10-22 17:44:04,778 | optuna_training | INFO | Params: {'classifier__n_estimators': 174, 'classifier__max_depth': 20, 'classifier__min_samples_split': 3, 'classifier__min_samples_leaf': 9}, Mean Test Score: 0.9494177363443214\n",
      "INFO:optuna_training:Params: {'classifier__n_estimators': 174, 'classifier__max_depth': 20, 'classifier__min_samples_split': 3, 'classifier__min_samples_leaf': 9}, Mean Test Score: 0.9494177363443214\n",
      "2024-10-22 17:44:04,778 | optuna_training | INFO | Params: {'classifier__n_estimators': 149, 'classifier__max_depth': 20, 'classifier__min_samples_split': 2, 'classifier__min_samples_leaf': 1}, Mean Test Score: 0.9766042692939244\n",
      "INFO:optuna_training:Params: {'classifier__n_estimators': 149, 'classifier__max_depth': 20, 'classifier__min_samples_split': 2, 'classifier__min_samples_leaf': 1}, Mean Test Score: 0.9766042692939244\n",
      "2024-10-22 17:44:04,779 | optuna_training | INFO | Params: {'classifier__n_estimators': 149, 'classifier__max_depth': 20, 'classifier__min_samples_split': 2, 'classifier__min_samples_leaf': 2}, Mean Test Score: 0.967679802955665\n",
      "INFO:optuna_training:Params: {'classifier__n_estimators': 149, 'classifier__max_depth': 20, 'classifier__min_samples_split': 2, 'classifier__min_samples_leaf': 2}, Mean Test Score: 0.967679802955665\n",
      "2024-10-22 17:44:04,780 | optuna_training | INFO | Params: {'classifier__n_estimators': 134, 'classifier__max_depth': None, 'classifier__min_samples_split': 2, 'classifier__min_samples_leaf': 1}, Mean Test Score: 0.9766537128261265\n",
      "INFO:optuna_training:Params: {'classifier__n_estimators': 134, 'classifier__max_depth': None, 'classifier__min_samples_split': 2, 'classifier__min_samples_leaf': 1}, Mean Test Score: 0.9766537128261265\n",
      "2024-10-22 17:44:04,780 | optuna_training | INFO | Params: {'classifier__n_estimators': 131, 'classifier__max_depth': None, 'classifier__min_samples_split': 2, 'classifier__min_samples_leaf': 1}, Mean Test Score: 0.9731067323481117\n",
      "INFO:optuna_training:Params: {'classifier__n_estimators': 131, 'classifier__max_depth': None, 'classifier__min_samples_split': 2, 'classifier__min_samples_leaf': 1}, Mean Test Score: 0.9731067323481117\n",
      "2024-10-22 17:44:04,780 | optuna_training | INFO | Params: {'classifier__n_estimators': 136, 'classifier__max_depth': 20, 'classifier__min_samples_split': 2, 'classifier__min_samples_leaf': 2}, Mean Test Score: 0.9656255922218101\n",
      "INFO:optuna_training:Params: {'classifier__n_estimators': 136, 'classifier__max_depth': 20, 'classifier__min_samples_split': 2, 'classifier__min_samples_leaf': 2}, Mean Test Score: 0.9656255922218101\n",
      "2024-10-22 17:44:04,782 | optuna_training | INFO | Params: {'classifier__n_estimators': 156, 'classifier__max_depth': None, 'classifier__min_samples_split': 2, 'classifier__min_samples_leaf': 1}, Mean Test Score: 0.9746553548622513\n",
      "INFO:optuna_training:Params: {'classifier__n_estimators': 156, 'classifier__max_depth': None, 'classifier__min_samples_split': 2, 'classifier__min_samples_leaf': 1}, Mean Test Score: 0.9746553548622513\n",
      "2024-10-22 17:44:04,810 | optuna_training | INFO | Params: {'classifier__n_estimators': 159, 'classifier__max_depth': None, 'classifier__min_samples_split': 2, 'classifier__min_samples_leaf': 4}, Mean Test Score: 0.9621245887552895\n",
      "INFO:optuna_training:Params: {'classifier__n_estimators': 159, 'classifier__max_depth': None, 'classifier__min_samples_split': 2, 'classifier__min_samples_leaf': 4}, Mean Test Score: 0.9621245887552895\n",
      "2024-10-22 17:44:04,810 | optuna_training | INFO | Params: {'classifier__n_estimators': 144, 'classifier__max_depth': None, 'classifier__min_samples_split': 2, 'classifier__min_samples_leaf': 1}, Mean Test Score: 0.9766803267593034\n",
      "INFO:optuna_training:Params: {'classifier__n_estimators': 144, 'classifier__max_depth': None, 'classifier__min_samples_split': 2, 'classifier__min_samples_leaf': 1}, Mean Test Score: 0.9766803267593034\n",
      "2024-10-22 17:44:04,811 | optuna_training | INFO | Params: {'classifier__n_estimators': 156, 'classifier__max_depth': None, 'classifier__min_samples_split': 2, 'classifier__min_samples_leaf': 1}, Mean Test Score: 0.9752448222893161\n",
      "INFO:optuna_training:Params: {'classifier__n_estimators': 156, 'classifier__max_depth': None, 'classifier__min_samples_split': 2, 'classifier__min_samples_leaf': 1}, Mean Test Score: 0.9752448222893161\n",
      "2024-10-22 17:44:04,811 | optuna_training | INFO | Params: {'classifier__n_estimators': 144, 'classifier__max_depth': None, 'classifier__min_samples_split': 2, 'classifier__min_samples_leaf': 1}, Mean Test Score: 0.9738228425469805\n",
      "INFO:optuna_training:Params: {'classifier__n_estimators': 144, 'classifier__max_depth': None, 'classifier__min_samples_split': 2, 'classifier__min_samples_leaf': 1}, Mean Test Score: 0.9738228425469805\n",
      "2024-10-22 17:44:04,812 | optuna_training | INFO | Params: {'classifier__n_estimators': 155, 'classifier__max_depth': None, 'classifier__min_samples_split': 2, 'classifier__min_samples_leaf': 2}, Mean Test Score: 0.9710789766407117\n",
      "INFO:optuna_training:Params: {'classifier__n_estimators': 155, 'classifier__max_depth': None, 'classifier__min_samples_split': 2, 'classifier__min_samples_leaf': 2}, Mean Test Score: 0.9710789766407117\n",
      "2024-10-22 17:44:04,812 | optuna_training | INFO | Params: {'classifier__n_estimators': 128, 'classifier__max_depth': None, 'classifier__min_samples_split': 2, 'classifier__min_samples_leaf': 1}, Mean Test Score: 0.9753220215289179\n",
      "INFO:optuna_training:Params: {'classifier__n_estimators': 128, 'classifier__max_depth': None, 'classifier__min_samples_split': 2, 'classifier__min_samples_leaf': 1}, Mean Test Score: 0.9753220215289179\n",
      "2024-10-22 17:44:04,813 | optuna_training | INFO | Params: {'classifier__n_estimators': 116, 'classifier__max_depth': None, 'classifier__min_samples_split': 2, 'classifier__min_samples_leaf': 1}, Mean Test Score: 0.9711264132398727\n",
      "INFO:optuna_training:Params: {'classifier__n_estimators': 116, 'classifier__max_depth': None, 'classifier__min_samples_split': 2, 'classifier__min_samples_leaf': 1}, Mean Test Score: 0.9711264132398727\n",
      "2024-10-22 17:44:04,813 | optuna_training | INFO | Params: {'classifier__n_estimators': 126, 'classifier__max_depth': None, 'classifier__min_samples_split': 2, 'classifier__min_samples_leaf': 1}, Mean Test Score: 0.9739427111840904\n",
      "INFO:optuna_training:Params: {'classifier__n_estimators': 126, 'classifier__max_depth': None, 'classifier__min_samples_split': 2, 'classifier__min_samples_leaf': 1}, Mean Test Score: 0.9739427111840904\n",
      "2024-10-22 17:44:04,818 | optuna_training | INFO | Params: {'classifier__n_estimators': 122, 'classifier__max_depth': None, 'classifier__min_samples_split': 2, 'classifier__min_samples_leaf': 2}, Mean Test Score: 0.9725110145899911\n",
      "INFO:optuna_training:Params: {'classifier__n_estimators': 122, 'classifier__max_depth': None, 'classifier__min_samples_split': 2, 'classifier__min_samples_leaf': 2}, Mean Test Score: 0.9725110145899911\n",
      "2024-10-22 17:44:04,820 | optuna_training | INFO | Params: {'classifier__n_estimators': 132, 'classifier__max_depth': None, 'classifier__min_samples_split': 2, 'classifier__min_samples_leaf': 1}, Mean Test Score: 0.9739921547162925\n",
      "INFO:optuna_training:Params: {'classifier__n_estimators': 132, 'classifier__max_depth': None, 'classifier__min_samples_split': 2, 'classifier__min_samples_leaf': 1}, Mean Test Score: 0.9739921547162925\n",
      "2024-10-22 17:44:04,822 | optuna_training | INFO | Number of tests that resulted in NaN for Random Forest: 0\n",
      "INFO:optuna_training:Number of tests that resulted in NaN for Random Forest: 0\n",
      "2024-10-22 17:44:04,823 | optuna_training | INFO | Optuna Optimization Best Result for Random Forest with none: 0.9773433679985404\n",
      "INFO:optuna_training:Optuna Optimization Best Result for Random Forest with none: 0.9773433679985404\n",
      "2024-10-22 17:44:04,823 | optuna_training | INFO | Training and evaluating XGBoost with Optuna Bayesian Optimization and none\n",
      "INFO:optuna_training:Training and evaluating XGBoost with Optuna Bayesian Optimization and none\n",
      "[I 2024-10-22 17:44:04,824] A new study created in memory with name: no-name-6a4d6f27-f40f-4963-b44c-b0d83af839d4\n"
     ]
    },
    {
     "name": "stdout",
     "output_type": "stream",
     "text": [
      "Training and evaluating XGBoost with Optuna Bayesian Optimization and none\n"
     ]
    },
    {
     "name": "stderr",
     "output_type": "stream",
     "text": [
      "[I 2024-10-22 17:44:06,202] Trial 0 finished with value: 0.9599799071278493 and parameters: {'classifier__n_estimators': 212, 'classifier__learning_rate': 0.12051034822326333, 'classifier__max_depth': 8, 'classifier__subsample': 0.8030584986445675, 'classifier__colsample_bytree': 0.7483189184967313, 'classifier__reg_alpha': 0.4360874723530227, 'classifier__reg_lambda': 0.9550830865767829}. Best is trial 0 with value: 0.9599799071278493.\n",
      "[I 2024-10-22 17:44:07,605] Trial 1 finished with value: 0.9571687177404643 and parameters: {'classifier__n_estimators': 158, 'classifier__learning_rate': 0.08562155617532057, 'classifier__max_depth': 10, 'classifier__subsample': 0.8297109600198731, 'classifier__colsample_bytree': 0.9656775204688605, 'classifier__reg_alpha': 0.9392673884207936, 'classifier__reg_lambda': 0.19823089701004248}. Best is trial 0 with value: 0.9599799071278493.\n",
      "[I 2024-10-22 17:44:09,242] Trial 2 finished with value: 0.9613378710030546 and parameters: {'classifier__n_estimators': 167, 'classifier__learning_rate': 0.09963700380456661, 'classifier__max_depth': 9, 'classifier__subsample': 0.7974286701271499, 'classifier__colsample_bytree': 0.870380218918402, 'classifier__reg_alpha': 0.0056372111253572, 'classifier__reg_lambda': 0.31015768510088926}. Best is trial 2 with value: 0.9613378710030546.\n",
      "[I 2024-10-22 17:44:10,847] Trial 3 finished with value: 0.9671052492187087 and parameters: {'classifier__n_estimators': 143, 'classifier__learning_rate': 0.13167328154841698, 'classifier__max_depth': 7, 'classifier__subsample': 0.712697288684037, 'classifier__colsample_bytree': 0.8764940015731489, 'classifier__reg_alpha': 0.299752999856709, 'classifier__reg_lambda': 0.8701557885089022}. Best is trial 3 with value: 0.9671052492187087.\n",
      "[I 2024-10-22 17:44:12,736] Trial 4 finished with value: 0.957881361418625 and parameters: {'classifier__n_estimators': 251, 'classifier__learning_rate': 0.08759467935770059, 'classifier__max_depth': 5, 'classifier__subsample': 0.7282792622749144, 'classifier__colsample_bytree': 0.7805919388420881, 'classifier__reg_alpha': 0.9806027036242059, 'classifier__reg_lambda': 0.021009262306807552}. Best is trial 3 with value: 0.9671052492187087.\n",
      "[I 2024-10-22 17:44:13,701] Trial 5 finished with value: 0.9571720253544502 and parameters: {'classifier__n_estimators': 72, 'classifier__learning_rate': 0.14657082895599624, 'classifier__max_depth': 9, 'classifier__subsample': 0.8943570542607113, 'classifier__colsample_bytree': 0.8775062769785626, 'classifier__reg_alpha': 0.3980718449694777, 'classifier__reg_lambda': 0.17229852245228428}. Best is trial 3 with value: 0.9671052492187087.\n",
      "[I 2024-10-22 17:44:16,210] Trial 6 finished with value: 0.9586221021593657 and parameters: {'classifier__n_estimators': 256, 'classifier__learning_rate': 0.04668513966995212, 'classifier__max_depth': 10, 'classifier__subsample': 0.7735198262422894, 'classifier__colsample_bytree': 0.8838798619984204, 'classifier__reg_alpha': 0.8942853058257747, 'classifier__reg_lambda': 0.9378077391969891}. Best is trial 3 with value: 0.9671052492187087.\n",
      "[I 2024-10-22 17:44:18,127] Trial 7 finished with value: 0.960694192842135 and parameters: {'classifier__n_estimators': 160, 'classifier__learning_rate': 0.0462454533328694, 'classifier__max_depth': 9, 'classifier__subsample': 0.9669660315374338, 'classifier__colsample_bytree': 0.7726407914343034, 'classifier__reg_alpha': 0.5989260941718769, 'classifier__reg_lambda': 0.42388509315987577}. Best is trial 3 with value: 0.9671052492187087.\n",
      "[I 2024-10-22 17:44:18,776] Trial 8 finished with value: 0.9508777124494587 and parameters: {'classifier__n_estimators': 52, 'classifier__learning_rate': 0.050637262221380624, 'classifier__max_depth': 8, 'classifier__subsample': 0.7769040629826637, 'classifier__colsample_bytree': 0.7451291935700769, 'classifier__reg_alpha': 0.823737419123485, 'classifier__reg_lambda': 0.8615340665892978}. Best is trial 3 with value: 0.9671052492187087.\n",
      "[I 2024-10-22 17:44:19,944] Trial 9 finished with value: 0.9607188233840069 and parameters: {'classifier__n_estimators': 119, 'classifier__learning_rate': 0.11789456225785615, 'classifier__max_depth': 10, 'classifier__subsample': 0.9453334578831427, 'classifier__colsample_bytree': 0.7266173114785123, 'classifier__reg_alpha': 0.4537231238243111, 'classifier__reg_lambda': 0.7648467755736652}. Best is trial 3 with value: 0.9671052492187087.\n",
      "[I 2024-10-22 17:44:21,248] Trial 10 finished with value: 0.9606005967830218 and parameters: {'classifier__n_estimators': 297, 'classifier__learning_rate': 0.1744973296674789, 'classifier__max_depth': 3, 'classifier__subsample': 0.7005025176781942, 'classifier__colsample_bytree': 0.9560069335554657, 'classifier__reg_alpha': 0.16828520504115985, 'classifier__reg_lambda': 0.6439567895635493}. Best is trial 3 with value: 0.9671052492187087.\n",
      "[I 2024-10-22 17:44:22,115] Trial 11 finished with value: 0.95796038514281 and parameters: {'classifier__n_estimators': 116, 'classifier__learning_rate': 0.19312724169838694, 'classifier__max_depth': 6, 'classifier__subsample': 0.8709216864019793, 'classifier__colsample_bytree': 0.8317368625664359, 'classifier__reg_alpha': 0.04161488369780891, 'classifier__reg_lambda': 0.48184900112795964}. Best is trial 3 with value: 0.9671052492187087.\n",
      "[I 2024-10-22 17:44:23,507] Trial 12 finished with value: 0.9607733754730419 and parameters: {'classifier__n_estimators': 204, 'classifier__learning_rate': 0.1433859295193033, 'classifier__max_depth': 7, 'classifier__subsample': 0.7488706685034899, 'classifier__colsample_bytree': 0.9195555625033559, 'classifier__reg_alpha': 0.23090282974191234, 'classifier__reg_lambda': 0.346402862718524}. Best is trial 3 with value: 0.9671052492187087.\n",
      "[I 2024-10-22 17:44:24,783] Trial 13 finished with value: 0.9509304400539106 and parameters: {'classifier__n_estimators': 137, 'classifier__learning_rate': 0.01326719738455566, 'classifier__max_depth': 5, 'classifier__subsample': 0.8242610900358939, 'classifier__colsample_bytree': 0.8200351429478216, 'classifier__reg_alpha': 0.015716382839630668, 'classifier__reg_lambda': 0.65511270273039}. Best is trial 3 with value: 0.9671052492187087.\n",
      "[I 2024-10-22 17:44:26,286] Trial 14 finished with value: 0.9635812572464408 and parameters: {'classifier__n_estimators': 192, 'classifier__learning_rate': 0.0909827787009797, 'classifier__max_depth': 7, 'classifier__subsample': 0.7041748452579686, 'classifier__colsample_bytree': 0.917112111310309, 'classifier__reg_alpha': 0.23938636012381487, 'classifier__reg_lambda': 0.29132294314359086}. Best is trial 3 with value: 0.9671052492187087.\n",
      "[I 2024-10-22 17:44:27,662] Trial 15 finished with value: 0.9621791408443243 and parameters: {'classifier__n_estimators': 204, 'classifier__learning_rate': 0.14679812288441005, 'classifier__max_depth': 6, 'classifier__subsample': 0.7047336386717626, 'classifier__colsample_bytree': 0.9193657242900299, 'classifier__reg_alpha': 0.2539650465462324, 'classifier__reg_lambda': 0.5796578101217378}. Best is trial 3 with value: 0.9671052492187087.\n",
      "[I 2024-10-22 17:44:30,215] Trial 16 finished with value: 0.9578580315576979 and parameters: {'classifier__n_estimators': 99, 'classifier__learning_rate': 0.06797778349861724, 'classifier__max_depth': 7, 'classifier__subsample': 0.7433303789367379, 'classifier__colsample_bytree': 0.9955732198636016, 'classifier__reg_alpha': 0.6038693721234429, 'classifier__reg_lambda': 0.771887641780894}. Best is trial 3 with value: 0.9671052492187087.\n",
      "[I 2024-10-22 17:44:32,141] Trial 17 finished with value: 0.9556905438729688 and parameters: {'classifier__n_estimators': 191, 'classifier__learning_rate': 0.12542069621263507, 'classifier__max_depth': 4, 'classifier__subsample': 0.9180661223816643, 'classifier__colsample_bytree': 0.9063732056433952, 'classifier__reg_alpha': 0.30474701819640077, 'classifier__reg_lambda': 0.2259648317876492}. Best is trial 3 with value: 0.9671052492187087.\n",
      "[I 2024-10-22 17:44:33,762] Trial 18 finished with value: 0.9614154115978366 and parameters: {'classifier__n_estimators': 231, 'classifier__learning_rate': 0.17111413823226515, 'classifier__max_depth': 8, 'classifier__subsample': 0.7331424215093149, 'classifier__colsample_bytree': 0.8252783750569781, 'classifier__reg_alpha': 0.1573675399979685, 'classifier__reg_lambda': 0.0014515140667915594}. Best is trial 3 with value: 0.9671052492187087.\n",
      "[I 2024-10-22 17:44:35,210] Trial 19 finished with value: 0.9528313940827845 and parameters: {'classifier__n_estimators': 146, 'classifier__learning_rate': 0.07453313688597644, 'classifier__max_depth': 5, 'classifier__subsample': 0.9978001975457277, 'classifier__colsample_bytree': 0.951998619857797, 'classifier__reg_alpha': 0.6263911745123916, 'classifier__reg_lambda': 0.40198599153701897}. Best is trial 3 with value: 0.9671052492187087.\n",
      "[I 2024-10-22 17:44:39,509] Trial 20 finished with value: 0.9494785387644118 and parameters: {'classifier__n_estimators': 298, 'classifier__learning_rate': 0.01084015800338714, 'classifier__max_depth': 7, 'classifier__subsample': 0.8591514857530126, 'classifier__colsample_bytree': 0.8428050354778192, 'classifier__reg_alpha': 0.32738373650895536, 'classifier__reg_lambda': 0.5466388571921827}. Best is trial 3 with value: 0.9671052492187087.\n",
      "[I 2024-10-22 17:44:41,065] Trial 21 finished with value: 0.9628653294960303 and parameters: {'classifier__n_estimators': 191, 'classifier__learning_rate': 0.14282807436254896, 'classifier__max_depth': 6, 'classifier__subsample': 0.7065709921407954, 'classifier__colsample_bytree': 0.9253415210974759, 'classifier__reg_alpha': 0.2567727006767266, 'classifier__reg_lambda': 0.584803333889191}. Best is trial 3 with value: 0.9671052492187087.\n",
      "[I 2024-10-22 17:44:42,437] Trial 22 finished with value: 0.9655830817310239 and parameters: {'classifier__n_estimators': 220, 'classifier__learning_rate': 0.16312084889551337, 'classifier__max_depth': 6, 'classifier__subsample': 0.7126625790135109, 'classifier__colsample_bytree': 0.9055978013985849, 'classifier__reg_alpha': 0.1250881193144221, 'classifier__reg_lambda': 0.7748236593917753}. Best is trial 3 with value: 0.9671052492187087.\n",
      "[I 2024-10-22 17:44:44,096] Trial 23 finished with value: 0.9615847237671487 and parameters: {'classifier__n_estimators': 230, 'classifier__learning_rate': 0.16482724300081508, 'classifier__max_depth': 7, 'classifier__subsample': 0.7641900380363496, 'classifier__colsample_bytree': 0.8936875696441895, 'classifier__reg_alpha': 0.17423659708557038, 'classifier__reg_lambda': 0.7860830401952434}. Best is trial 3 with value: 0.9671052492187087.\n",
      "[I 2024-10-22 17:44:45,490] Trial 24 finished with value: 0.9627188233840069 and parameters: {'classifier__n_estimators': 182, 'classifier__learning_rate': 0.1940650810482779, 'classifier__max_depth': 6, 'classifier__subsample': 0.7247122219068606, 'classifier__colsample_bytree': 0.857190360410135, 'classifier__reg_alpha': 0.10063310489763422, 'classifier__reg_lambda': 0.8609302766078786}. Best is trial 3 with value: 0.9671052492187087.\n",
      "[I 2024-10-22 17:44:48,044] Trial 25 finished with value: 0.9593643260295096 and parameters: {'classifier__n_estimators': 269, 'classifier__learning_rate': 0.10531471956382839, 'classifier__max_depth': 4, 'classifier__subsample': 0.7511609427106887, 'classifier__colsample_bytree': 0.9395652359819298, 'classifier__reg_alpha': 0.5139719926808243, 'classifier__reg_lambda': 0.7288458736768575}. Best is trial 3 with value: 0.9671052492187087.\n",
      "[I 2024-10-22 17:44:49,642] Trial 26 finished with value: 0.9600257016908852 and parameters: {'classifier__n_estimators': 230, 'classifier__learning_rate': 0.16031989396977198, 'classifier__max_depth': 8, 'classifier__subsample': 0.7948165804211164, 'classifier__colsample_bytree': 0.9821067520679265, 'classifier__reg_alpha': 0.3739450038135295, 'classifier__reg_lambda': 0.9975947850559043}. Best is trial 3 with value: 0.9671052492187087.\n",
      "[I 2024-10-22 17:44:51,132] Trial 27 finished with value: 0.9649111240590663 and parameters: {'classifier__n_estimators': 140, 'classifier__learning_rate': 0.13139607804829723, 'classifier__max_depth': 7, 'classifier__subsample': 0.7241795663061382, 'classifier__colsample_bytree': 0.8062931348452931, 'classifier__reg_alpha': 0.09359824347287773, 'classifier__reg_lambda': 0.8598831170875203}. Best is trial 3 with value: 0.9671052492187087.\n",
      "[I 2024-10-22 17:44:52,194] Trial 28 finished with value: 0.9670346416653425 and parameters: {'classifier__n_estimators': 133, 'classifier__learning_rate': 0.13267689628283713, 'classifier__max_depth': 5, 'classifier__subsample': 0.7314501390570918, 'classifier__colsample_bytree': 0.7999569001554531, 'classifier__reg_alpha': 0.08819714158505851, 'classifier__reg_lambda': 0.8635788582950591}. Best is trial 3 with value: 0.9671052492187087.\n",
      "[I 2024-10-22 17:44:52,965] Trial 29 finished with value: 0.9584524486348736 and parameters: {'classifier__n_estimators': 92, 'classifier__learning_rate': 0.1115453308711247, 'classifier__max_depth': 4, 'classifier__subsample': 0.8210173485376521, 'classifier__colsample_bytree': 0.7938276240463153, 'classifier__reg_alpha': 0.1073847917691954, 'classifier__reg_lambda': 0.9245207344980461}. Best is trial 3 with value: 0.9671052492187087.\n",
      "[I 2024-10-22 17:44:54,098] Trial 30 finished with value: 0.9641492192971614 and parameters: {'classifier__n_estimators': 130, 'classifier__learning_rate': 0.13055357786402494, 'classifier__max_depth': 5, 'classifier__subsample': 0.7720895590401282, 'classifier__colsample_bytree': 0.7085852067149042, 'classifier__reg_alpha': 0.3356203303445877, 'classifier__reg_lambda': 0.7022126522120439}. Best is trial 3 with value: 0.9671052492187087.\n",
      "[I 2024-10-22 17:44:55,243] Trial 31 finished with value: 0.9642167016849997 and parameters: {'classifier__n_estimators': 148, 'classifier__learning_rate': 0.13048872042323348, 'classifier__max_depth': 6, 'classifier__subsample': 0.7225094027296083, 'classifier__colsample_bytree': 0.8057755816394337, 'classifier__reg_alpha': 0.09077385128466217, 'classifier__reg_lambda': 0.8552551750630072}. Best is trial 3 with value: 0.9671052492187087.\n",
      "[I 2024-10-22 17:44:56,074] Trial 32 finished with value: 0.9592426329078163 and parameters: {'classifier__n_estimators': 106, 'classifier__learning_rate': 0.15270932729396275, 'classifier__max_depth': 5, 'classifier__subsample': 0.7525874402089282, 'classifier__colsample_bytree': 0.7640007774195252, 'classifier__reg_alpha': 0.06974887522509718, 'classifier__reg_lambda': 0.8393793598362915}. Best is trial 3 with value: 0.9671052492187087.\n",
      "[I 2024-10-22 17:44:57,301] Trial 33 finished with value: 0.9655073656208251 and parameters: {'classifier__n_estimators': 171, 'classifier__learning_rate': 0.1850810911607205, 'classifier__max_depth': 6, 'classifier__subsample': 0.7215916861705707, 'classifier__colsample_bytree': 0.800004624230775, 'classifier__reg_alpha': 0.19182372074376636, 'classifier__reg_lambda': 0.9155167562429966}. Best is trial 3 with value: 0.9671052492187087.\n",
      "[I 2024-10-22 17:44:58,462] Trial 34 finished with value: 0.9615847237671487 and parameters: {'classifier__n_estimators': 169, 'classifier__learning_rate': 0.18210662358000398, 'classifier__max_depth': 6, 'classifier__subsample': 0.793181522430755, 'classifier__colsample_bytree': 0.856632900237118, 'classifier__reg_alpha': 0.18321571442908197, 'classifier__reg_lambda': 0.9775724180888251}. Best is trial 3 with value: 0.9671052492187087.\n",
      "[I 2024-10-22 17:44:59,610] Trial 35 finished with value: 0.9641229467191647 and parameters: {'classifier__n_estimators': 173, 'classifier__learning_rate': 0.1794613580406393, 'classifier__max_depth': 5, 'classifier__subsample': 0.73559117495562, 'classifier__colsample_bytree': 0.7496199156386729, 'classifier__reg_alpha': 0.0056198989047565595, 'classifier__reg_lambda': 0.9095242044861807}. Best is trial 3 with value: 0.9671052492187087.\n",
      "[I 2024-10-22 17:45:00,922] Trial 36 finished with value: 0.9621048843217919 and parameters: {'classifier__n_estimators': 156, 'classifier__learning_rate': 0.16033254782123738, 'classifier__max_depth': 3, 'classifier__subsample': 0.7198408839104344, 'classifier__colsample_bytree': 0.8678997844293995, 'classifier__reg_alpha': 0.1290045444904315, 'classifier__reg_lambda': 0.9158820816193436}. Best is trial 3 with value: 0.9671052492187087.\n",
      "[I 2024-10-22 17:45:02,274] Trial 37 finished with value: 0.9606005967830218 and parameters: {'classifier__n_estimators': 220, 'classifier__learning_rate': 0.18241621846954248, 'classifier__max_depth': 4, 'classifier__subsample': 0.8099754458072845, 'classifier__colsample_bytree': 0.7889481139237234, 'classifier__reg_alpha': 0.20481579140158568, 'classifier__reg_lambda': 0.808776597409077}. Best is trial 3 with value: 0.9671052492187087.\n",
      "[I 2024-10-22 17:45:02,953] Trial 38 finished with value: 0.9593625015449264 and parameters: {'classifier__n_estimators': 86, 'classifier__learning_rate': 0.19689028593021243, 'classifier__max_depth': 6, 'classifier__subsample': 0.762513735777658, 'classifier__colsample_bytree': 0.8454409214412606, 'classifier__reg_alpha': 0.2850761926208751, 'classifier__reg_lambda': 0.7044313958342925}. Best is trial 3 with value: 0.9671052492187087.\n",
      "[I 2024-10-22 17:45:04,025] Trial 39 finished with value: 0.957270547521938 and parameters: {'classifier__n_estimators': 124, 'classifier__learning_rate': 0.137982042843794, 'classifier__max_depth': 8, 'classifier__subsample': 0.7869503128924646, 'classifier__colsample_bytree': 0.892771899463963, 'classifier__reg_alpha': 0.43371088315848466, 'classifier__reg_lambda': 0.08856828857350685}. Best is trial 3 with value: 0.9671052492187087.\n",
      "[I 2024-10-22 17:45:04,729] Trial 40 finished with value: 0.9544064716233793 and parameters: {'classifier__n_estimators': 72, 'classifier__learning_rate': 0.11858748101173414, 'classifier__max_depth': 8, 'classifier__subsample': 0.8462219121670376, 'classifier__colsample_bytree': 0.8771132460113333, 'classifier__reg_alpha': 0.3762613108744741, 'classifier__reg_lambda': 0.9158087140032747}. Best is trial 3 with value: 0.9671052492187087.\n",
      "[I 2024-10-22 17:45:05,908] Trial 41 finished with value: 0.9629360959561183 and parameters: {'classifier__n_estimators': 139, 'classifier__learning_rate': 0.13384083963227078, 'classifier__max_depth': 7, 'classifier__subsample': 0.7162279834478624, 'classifier__colsample_bytree': 0.8039488549937801, 'classifier__reg_alpha': 0.057983250072081716, 'classifier__reg_lambda': 0.8230608614190738}. Best is trial 3 with value: 0.9671052492187087.\n",
      "[I 2024-10-22 17:45:07,051] Trial 42 finished with value: 0.9643466285290533 and parameters: {'classifier__n_estimators': 158, 'classifier__learning_rate': 0.1523286668780546, 'classifier__max_depth': 9, 'classifier__subsample': 0.7370862239216556, 'classifier__colsample_bytree': 0.8142869169211073, 'classifier__reg_alpha': 0.13947072293735904, 'classifier__reg_lambda': 0.8869032681412273}. Best is trial 3 with value: 0.9671052492187087.\n",
      "[I 2024-10-22 17:45:08,207] Trial 43 finished with value: 0.9627418118897539 and parameters: {'classifier__n_estimators': 174, 'classifier__learning_rate': 0.17050584889451492, 'classifier__max_depth': 7, 'classifier__subsample': 0.717592194585333, 'classifier__colsample_bytree': 0.7731234475456267, 'classifier__reg_alpha': 0.19190183948967032, 'classifier__reg_lambda': 0.9625867849183064}. Best is trial 3 with value: 0.9671052492187087.\n",
      "[I 2024-10-22 17:45:09,386] Trial 44 finished with value: 0.9607735579215 and parameters: {'classifier__n_estimators': 149, 'classifier__learning_rate': 0.11026846960368676, 'classifier__max_depth': 5, 'classifier__subsample': 0.7594621343413843, 'classifier__colsample_bytree': 0.7520127114426786, 'classifier__reg_alpha': 0.0548574050280977, 'classifier__reg_lambda': 0.7432786934896908}. Best is trial 3 with value: 0.9671052492187087.\n",
      "[I 2024-10-22 17:45:10,694] Trial 45 finished with value: 0.9607452784104618 and parameters: {'classifier__n_estimators': 118, 'classifier__learning_rate': 0.1530133151122834, 'classifier__max_depth': 6, 'classifier__subsample': 0.741221000681942, 'classifier__colsample_bytree': 0.8294583115550473, 'classifier__reg_alpha': 0.7329235535842136, 'classifier__reg_lambda': 0.6786182539252718}. Best is trial 3 with value: 0.9671052492187087.\n",
      "[I 2024-10-22 17:45:13,134] Trial 46 finished with value: 0.960771733436917 and parameters: {'classifier__n_estimators': 250, 'classifier__learning_rate': 0.09598292554529314, 'classifier__max_depth': 7, 'classifier__subsample': 0.7800011370250499, 'classifier__colsample_bytree': 0.7871913853188062, 'classifier__reg_alpha': 0.12314340803000459, 'classifier__reg_lambda': 0.9570568280993722}. Best is trial 3 with value: 0.9671052492187087.\n",
      "[I 2024-10-22 17:45:14,265] Trial 47 finished with value: 0.9641951963086557 and parameters: {'classifier__n_estimators': 134, 'classifier__learning_rate': 0.12228715072077963, 'classifier__max_depth': 6, 'classifier__subsample': 0.7092949929107708, 'classifier__colsample_bytree': 0.8381083391289924, 'classifier__reg_alpha': 0.0007342240268468914, 'classifier__reg_lambda': 0.8074905909021971}. Best is trial 3 with value: 0.9671052492187087.\n",
      "[I 2024-10-22 17:45:16,112] Trial 48 finished with value: 0.9649855394883202 and parameters: {'classifier__n_estimators': 183, 'classifier__learning_rate': 0.13906315642739728, 'classifier__max_depth': 7, 'classifier__subsample': 0.7003009475202988, 'classifier__colsample_bytree': 0.8045524512461031, 'classifier__reg_alpha': 0.22874321541684153, 'classifier__reg_lambda': 0.8864972227072958}. Best is trial 3 with value: 0.9671052492187087.\n",
      "[I 2024-10-22 17:45:17,810] Trial 49 finished with value: 0.9627700914007923 and parameters: {'classifier__n_estimators': 187, 'classifier__learning_rate': 0.1883326241270034, 'classifier__max_depth': 8, 'classifier__subsample': 0.7025563339720438, 'classifier__colsample_bytree': 0.8670684059538266, 'classifier__reg_alpha': 0.28135620081465007, 'classifier__reg_lambda': 0.7598694822138001}. Best is trial 3 with value: 0.9671052492187087.\n",
      "[I 2024-10-22 17:45:19,731] Trial 50 finished with value: 0.9564821877335781 and parameters: {'classifier__n_estimators': 207, 'classifier__learning_rate': 0.16695910322704985, 'classifier__max_depth': 5, 'classifier__subsample': 0.8963126986216108, 'classifier__colsample_bytree': 0.8971213467649306, 'classifier__reg_alpha': 0.22013690680353537, 'classifier__reg_lambda': 0.6307261613866357}. Best is trial 3 with value: 0.9671052492187087.\n",
      "[I 2024-10-22 17:45:21,008] Trial 51 finished with value: 0.963627575613115 and parameters: {'classifier__n_estimators': 162, 'classifier__learning_rate': 0.13908445537435962, 'classifier__max_depth': 7, 'classifier__subsample': 0.7286927809462684, 'classifier__colsample_bytree': 0.8097003305198308, 'classifier__reg_alpha': 0.12719114741712, 'classifier__reg_lambda': 0.8682484136257947}. Best is trial 3 with value: 0.9671052492187087.\n",
      "[I 2024-10-22 17:45:22,889] Trial 52 finished with value: 0.962819352484536 and parameters: {'classifier__n_estimators': 199, 'classifier__learning_rate': 0.1478325646618497, 'classifier__max_depth': 7, 'classifier__subsample': 0.7007787414866791, 'classifier__colsample_bytree': 0.7983530021364166, 'classifier__reg_alpha': 0.21419238672315016, 'classifier__reg_lambda': 0.8839482639577956}. Best is trial 3 with value: 0.9671052492187087.\n",
      "[I 2024-10-22 17:45:24,704] Trial 53 finished with value: 0.9605971302623137 and parameters: {'classifier__n_estimators': 215, 'classifier__learning_rate': 0.1260848763479123, 'classifier__max_depth': 6, 'classifier__subsample': 0.7159222816952715, 'classifier__colsample_bytree': 0.7764960465951889, 'classifier__reg_alpha': 0.5075134721422504, 'classifier__reg_lambda': 0.9523190596377578}. Best is trial 3 with value: 0.9671052492187087.\n",
      "[I 2024-10-22 17:45:26,188] Trial 54 finished with value: 0.9628917845224854 and parameters: {'classifier__n_estimators': 111, 'classifier__learning_rate': 0.11387865537478517, 'classifier__max_depth': 6, 'classifier__subsample': 0.7308196867125466, 'classifier__colsample_bytree': 0.7637086252133418, 'classifier__reg_alpha': 0.16597658162986564, 'classifier__reg_lambda': 0.7962840578372649}. Best is trial 3 with value: 0.9671052492187087.\n",
      "[I 2024-10-22 17:45:27,251] Trial 55 finished with value: 0.9614894856719106 and parameters: {'classifier__n_estimators': 127, 'classifier__learning_rate': 0.15681762450601644, 'classifier__max_depth': 7, 'classifier__subsample': 0.7462559967713825, 'classifier__colsample_bytree': 0.8187737417582759, 'classifier__reg_alpha': 0.25842732939591473, 'classifier__reg_lambda': 0.8356534191997269}. Best is trial 3 with value: 0.9671052492187087.\n",
      "[I 2024-10-22 17:45:28,528] Trial 56 finished with value: 0.9614860191512026 and parameters: {'classifier__n_estimators': 181, 'classifier__learning_rate': 0.17516880163898008, 'classifier__max_depth': 7, 'classifier__subsample': 0.7166149638265137, 'classifier__colsample_bytree': 0.8314761977422989, 'classifier__reg_alpha': 0.07848663520115667, 'classifier__reg_lambda': 0.8909025276590425}. Best is trial 3 with value: 0.9671052492187087.\n",
      "[I 2024-10-22 17:45:29,761] Trial 57 finished with value: 0.9655763311380664 and parameters: {'classifier__n_estimators': 139, 'classifier__learning_rate': 0.10265378384954554, 'classifier__max_depth': 8, 'classifier__subsample': 0.7312952272700857, 'classifier__colsample_bytree': 0.732760114315981, 'classifier__reg_alpha': 0.03403015949236504, 'classifier__reg_lambda': 0.9951555204303614}. Best is trial 3 with value: 0.9671052492187087.\n",
      "[I 2024-10-22 17:45:31,712] Trial 58 finished with value: 0.9641740322874917 and parameters: {'classifier__n_estimators': 164, 'classifier__learning_rate': 0.1025578316299331, 'classifier__max_depth': 9, 'classifier__subsample': 0.7410556599641195, 'classifier__colsample_bytree': 0.7173286978575962, 'classifier__reg_alpha': 0.03794235294907217, 'classifier__reg_lambda': 0.9371236497941591}. Best is trial 3 with value: 0.9671052492187087.\n",
      "[I 2024-10-22 17:45:34,420] Trial 59 finished with value: 0.9622532149183984 and parameters: {'classifier__n_estimators': 276, 'classifier__learning_rate': 0.07574327955660445, 'classifier__max_depth': 8, 'classifier__subsample': 0.7583695990182058, 'classifier__colsample_bytree': 0.7310249080590836, 'classifier__reg_alpha': 0.037166192446193694, 'classifier__reg_lambda': 0.9935672386308884}. Best is trial 3 with value: 0.9671052492187087.\n",
      "[I 2024-10-22 17:45:36,185] Trial 60 finished with value: 0.9592391663871085 and parameters: {'classifier__n_estimators': 152, 'classifier__learning_rate': 0.08363319806232807, 'classifier__max_depth': 9, 'classifier__subsample': 0.7730763759396103, 'classifier__colsample_bytree': 0.7400012489586439, 'classifier__reg_alpha': 0.3451514272015326, 'classifier__reg_lambda': 0.5017584251554232}. Best is trial 3 with value: 0.9671052492187087.\n",
      "[I 2024-10-22 17:45:37,509] Trial 61 finished with value: 0.9643185314664736 and parameters: {'classifier__n_estimators': 139, 'classifier__learning_rate': 0.13761136404092006, 'classifier__max_depth': 8, 'classifier__subsample': 0.7115993842326237, 'classifier__colsample_bytree': 0.8825086486460754, 'classifier__reg_alpha': 0.15042280419859222, 'classifier__reg_lambda': 0.9392133302692861}. Best is trial 3 with value: 0.9671052492187087.\n",
      "[I 2024-10-22 17:45:39,271] Trial 62 finished with value: 0.9629180571004821 and parameters: {'classifier__n_estimators': 145, 'classifier__learning_rate': 0.12540163126935133, 'classifier__max_depth': 7, 'classifier__subsample': 0.7277442673841817, 'classifier__colsample_bytree': 0.8522289244801254, 'classifier__reg_alpha': 0.10535472364071252, 'classifier__reg_lambda': 0.85855090742806}. Best is trial 3 with value: 0.9671052492187087.\n",
      "[I 2024-10-22 17:45:41,020] Trial 63 finished with value: 0.9642973674453096 and parameters: {'classifier__n_estimators': 239, 'classifier__learning_rate': 0.14299186892491733, 'classifier__max_depth': 6, 'classifier__subsample': 0.72453172989688, 'classifier__colsample_bytree': 0.9083849301073406, 'classifier__reg_alpha': 0.23472685443938768, 'classifier__reg_lambda': 0.8949426900881515}. Best is trial 3 with value: 0.9671052492187087.\n",
      "[I 2024-10-22 17:45:42,558] Trial 64 finished with value: 0.9620804362283785 and parameters: {'classifier__n_estimators': 179, 'classifier__learning_rate': 0.10763166614348972, 'classifier__max_depth': 8, 'classifier__subsample': 0.7498353608367747, 'classifier__colsample_bytree': 0.7842129102512387, 'classifier__reg_alpha': 0.07745164540701008, 'classifier__reg_lambda': 0.9748371599774769}. Best is trial 3 with value: 0.9671052492187087.\n",
      "[I 2024-10-22 17:45:44,288] Trial 65 finished with value: 0.9571191153015401 and parameters: {'classifier__n_estimators': 121, 'classifier__learning_rate': 0.11496083345249368, 'classifier__max_depth': 10, 'classifier__subsample': 0.7000467172672276, 'classifier__colsample_bytree': 0.764960454337335, 'classifier__reg_alpha': 0.9940017043856184, 'classifier__reg_lambda': 0.7829988064566803}. Best is trial 3 with value: 0.9671052492187087.\n",
      "[I 2024-10-22 17:45:46,006] Trial 66 finished with value: 0.9579818905191543 and parameters: {'classifier__n_estimators': 197, 'classifier__learning_rate': 0.09876805291006774, 'classifier__max_depth': 7, 'classifier__subsample': 0.7336323349386819, 'classifier__colsample_bytree': 0.794682184356377, 'classifier__reg_alpha': 0.9201959771525607, 'classifier__reg_lambda': 0.9989290555979815}. Best is trial 3 with value: 0.9671052492187087.\n",
      "[I 2024-10-22 17:45:46,880] Trial 67 finished with value: 0.9635055411362419 and parameters: {'classifier__n_estimators': 107, 'classifier__learning_rate': 0.1873387178611133, 'classifier__max_depth': 5, 'classifier__subsample': 0.7099676104536395, 'classifier__colsample_bytree': 0.9268448458749785, 'classifier__reg_alpha': 0.16740592870439625, 'classifier__reg_lambda': 0.8254495216180524}. Best is trial 3 with value: 0.9671052492187087.\n",
      "[I 2024-10-22 17:45:48,550] Trial 68 finished with value: 0.9606764953416788 and parameters: {'classifier__n_estimators': 143, 'classifier__learning_rate': 0.13272390454191924, 'classifier__max_depth': 6, 'classifier__subsample': 0.9370935666399405, 'classifier__colsample_bytree': 0.8239130508416403, 'classifier__reg_alpha': 0.030839878940787935, 'classifier__reg_lambda': 0.7220419825789802}. Best is trial 3 with value: 0.9671052492187087.\n",
      "[I 2024-10-22 17:45:49,757] Trial 69 finished with value: 0.9622249354073602 and parameters: {'classifier__n_estimators': 131, 'classifier__learning_rate': 0.14752228149908408, 'classifier__max_depth': 5, 'classifier__subsample': 0.7268176707044293, 'classifier__colsample_bytree': 0.9397492150809839, 'classifier__reg_alpha': 0.3027433638527411, 'classifier__reg_lambda': 0.9277256105404096}. Best is trial 3 with value: 0.9671052492187087.\n",
      "[I 2024-10-22 17:45:52,144] Trial 70 finished with value: 0.95773469639988 and parameters: {'classifier__n_estimators': 168, 'classifier__learning_rate': 0.031697461022273665, 'classifier__max_depth': 7, 'classifier__subsample': 0.7421813934743537, 'classifier__colsample_bytree': 0.9080813165470686, 'classifier__reg_alpha': 0.10379492621409209, 'classifier__reg_lambda': 0.7588060321838377}. Best is trial 3 with value: 0.9671052492187087.\n",
      "[I 2024-10-22 17:45:53,556] Trial 71 finished with value: 0.9636292176492398 and parameters: {'classifier__n_estimators': 157, 'classifier__learning_rate': 0.15375975245993168, 'classifier__max_depth': 9, 'classifier__subsample': 0.7341087487577831, 'classifier__colsample_bytree': 0.8185463916065093, 'classifier__reg_alpha': 0.19801552800051503, 'classifier__reg_lambda': 0.8822897767731388}. Best is trial 3 with value: 0.9671052492187087.\n",
      "[I 2024-10-22 17:45:55,268] Trial 72 finished with value: 0.965531996162697 and parameters: {'classifier__n_estimators': 155, 'classifier__learning_rate': 0.16263850558620227, 'classifier__max_depth': 9, 'classifier__subsample': 0.7097995397354794, 'classifier__colsample_bytree': 0.8072544802848323, 'classifier__reg_alpha': 0.14567953423175858, 'classifier__reg_lambda': 0.8592614773910833}. Best is trial 3 with value: 0.9671052492187087.\n",
      "[I 2024-10-22 17:45:56,415] Trial 73 finished with value: 0.9642495659492323 and parameters: {'classifier__n_estimators': 152, 'classifier__learning_rate': 0.16279703223789407, 'classifier__max_depth': 9, 'classifier__subsample': 0.7097613054889262, 'classifier__colsample_bytree': 0.7032900966055635, 'classifier__reg_alpha': 0.14464144857343902, 'classifier__reg_lambda': 0.8568259527304766}. Best is trial 3 with value: 0.9671052492187087.\n",
      "[I 2024-10-22 17:45:57,440] Trial 74 finished with value: 0.9633573929880936 and parameters: {'classifier__n_estimators': 136, 'classifier__learning_rate': 0.17286743864602697, 'classifier__max_depth': 8, 'classifier__subsample': 0.7223848616115226, 'classifier__colsample_bytree': 0.8634578318596307, 'classifier__reg_alpha': 0.08807785710791859, 'classifier__reg_lambda': 0.8326977807583532}. Best is trial 3 with value: 0.9671052492187087.\n",
      "[I 2024-10-22 17:45:58,803] Trial 75 finished with value: 0.9649129485436493 and parameters: {'classifier__n_estimators': 174, 'classifier__learning_rate': 0.12163430457221479, 'classifier__max_depth': 10, 'classifier__subsample': 0.7119844547883818, 'classifier__colsample_bytree': 0.8022486248313992, 'classifier__reg_alpha': 0.057866133455965085, 'classifier__reg_lambda': 0.952217690223052}. Best is trial 3 with value: 0.9671052492187087.\n",
      "[I 2024-10-22 17:46:00,542] Trial 76 finished with value: 0.9640999582134177 and parameters: {'classifier__n_estimators': 187, 'classifier__learning_rate': 0.11886460298830773, 'classifier__max_depth': 10, 'classifier__subsample': 0.7101779426849272, 'classifier__colsample_bytree': 0.7988184586000731, 'classifier__reg_alpha': 0.2516937123748576, 'classifier__reg_lambda': 0.9097707548291076}. Best is trial 3 with value: 0.9671052492187087.\n",
      "[I 2024-10-22 17:46:02,357] Trial 77 finished with value: 0.9585794327618575 and parameters: {'classifier__n_estimators': 171, 'classifier__learning_rate': 0.13980742116966008, 'classifier__max_depth': 10, 'classifier__subsample': 0.9817483958582723, 'classifier__colsample_bytree': 0.8415432376439248, 'classifier__reg_alpha': 0.06287117825773889, 'classifier__reg_lambda': 0.9638912909958495}. Best is trial 3 with value: 0.9671052492187087.\n",
      "[I 2024-10-22 17:46:03,719] Trial 78 finished with value: 0.9677242968377563 and parameters: {'classifier__n_estimators': 166, 'classifier__learning_rate': 0.12616967871848617, 'classifier__max_depth': 9, 'classifier__subsample': 0.7003381340294468, 'classifier__colsample_bytree': 0.7557770346251104, 'classifier__reg_alpha': 0.1663533951672295, 'classifier__reg_lambda': 0.935716339942594}. Best is trial 78 with value: 0.9677242968377563.\n",
      "[I 2024-10-22 17:46:05,078] Trial 79 finished with value: 0.9627947219426641 and parameters: {'classifier__n_estimators': 164, 'classifier__learning_rate': 0.1993971801523344, 'classifier__max_depth': 9, 'classifier__subsample': 0.7009969919740711, 'classifier__colsample_bytree': 0.7568141724583797, 'classifier__reg_alpha': 0.18515581412667464, 'classifier__reg_lambda': 0.9082983768407193}. Best is trial 78 with value: 0.9677242968377563.\n",
      "[I 2024-10-22 17:46:06,945] Trial 80 finished with value: 0.9663449864929285 and parameters: {'classifier__n_estimators': 223, 'classifier__learning_rate': 0.16638158525042163, 'classifier__max_depth': 9, 'classifier__subsample': 0.7543518909870686, 'classifier__colsample_bytree': 0.7402020381125891, 'classifier__reg_alpha': 0.2764243079700297, 'classifier__reg_lambda': 0.7993825764356498}. Best is trial 78 with value: 0.9677242968377563.\n",
      "[I 2024-10-22 17:46:08,671] Trial 81 finished with value: 0.9669835560970155 and parameters: {'classifier__n_estimators': 238, 'classifier__learning_rate': 0.17633014195451524, 'classifier__max_depth': 9, 'classifier__subsample': 0.7201017734054896, 'classifier__colsample_bytree': 0.7325571532436151, 'classifier__reg_alpha': 0.28096470062753653, 'classifier__reg_lambda': 0.8035575507793797}. Best is trial 78 with value: 0.9677242968377563.\n",
      "[I 2024-10-22 17:46:10,934] Trial 82 finished with value: 0.963578132080913 and parameters: {'classifier__n_estimators': 241, 'classifier__learning_rate': 0.16647453934390502, 'classifier__max_depth': 9, 'classifier__subsample': 0.7185934779206148, 'classifier__colsample_bytree': 0.7393685159344797, 'classifier__reg_alpha': 0.3123892431804178, 'classifier__reg_lambda': 0.7813277272731145}. Best is trial 78 with value: 0.9677242968377563.\n",
      "[I 2024-10-22 17:46:12,690] Trial 83 finished with value: 0.963604587107368 and parameters: {'classifier__n_estimators': 261, 'classifier__learning_rate': 0.17838662020884322, 'classifier__max_depth': 9, 'classifier__subsample': 0.7525205878537958, 'classifier__colsample_bytree': 0.7247681903776223, 'classifier__reg_alpha': 0.3625361046758192, 'classifier__reg_lambda': 0.8083540932871955}. Best is trial 78 with value: 0.9677242968377563.\n",
      "[I 2024-10-22 17:46:14,910] Trial 84 finished with value: 0.9628392158247554 and parameters: {'classifier__n_estimators': 280, 'classifier__learning_rate': 0.18940415521968362, 'classifier__max_depth': 9, 'classifier__subsample': 0.7378388795657549, 'classifier__colsample_bytree': 0.7133966451876232, 'classifier__reg_alpha': 0.39573801042620443, 'classifier__reg_lambda': 0.7328065417061758}. Best is trial 78 with value: 0.9677242968377563.\n",
      "[I 2024-10-22 17:46:16,518] Trial 85 finished with value: 0.9636077122728958 and parameters: {'classifier__n_estimators': 228, 'classifier__learning_rate': 0.1698547003540672, 'classifier__max_depth': 9, 'classifier__subsample': 0.8073248851089376, 'classifier__colsample_bytree': 0.7343866420516233, 'classifier__reg_alpha': 0.47249956759072853, 'classifier__reg_lambda': 0.6819286309725479}. Best is trial 78 with value: 0.9677242968377563.\n",
      "[I 2024-10-22 17:46:18,468] Trial 86 finished with value: 0.9649375790855214 and parameters: {'classifier__n_estimators': 217, 'classifier__learning_rate': 0.18531896648879914, 'classifier__max_depth': 8, 'classifier__subsample': 0.7224855853933912, 'classifier__colsample_bytree': 0.7212988159075836, 'classifier__reg_alpha': 0.2700013123020385, 'classifier__reg_lambda': 0.8470451367492081}. Best is trial 78 with value: 0.9677242968377563.\n",
      "[I 2024-10-22 17:46:19,898] Trial 87 finished with value: 0.9643433444568039 and parameters: {'classifier__n_estimators': 239, 'classifier__learning_rate': 0.15875371722849158, 'classifier__max_depth': 10, 'classifier__subsample': 0.7672011075237126, 'classifier__colsample_bytree': 0.744564989403074, 'classifier__reg_alpha': 0.12502662099920173, 'classifier__reg_lambda': 0.360098550723322}. Best is trial 78 with value: 0.9677242968377563.\n",
      "[I 2024-10-22 17:46:21,802] Trial 88 finished with value: 0.9585741417565667 and parameters: {'classifier__n_estimators': 257, 'classifier__learning_rate': 0.1769836084701841, 'classifier__max_depth': 4, 'classifier__subsample': 0.8741133746543993, 'classifier__colsample_bytree': 0.7589486040278135, 'classifier__reg_alpha': 0.4291222706011004, 'classifier__reg_lambda': 0.6078450351463339}. Best is trial 78 with value: 0.9677242968377563.\n",
      "[I 2024-10-22 17:46:23,754] Trial 89 finished with value: 0.9614367580674589 and parameters: {'classifier__n_estimators': 224, 'classifier__learning_rate': 0.08818319125092206, 'classifier__max_depth': 9, 'classifier__subsample': 0.7470551583939116, 'classifier__colsample_bytree': 0.7280491983873358, 'classifier__reg_alpha': 0.29304045847004634, 'classifier__reg_lambda': 0.7554568070018896}. Best is trial 78 with value: 0.9677242968377563.\n",
      "[I 2024-10-22 17:46:25,672] Trial 90 finished with value: 0.9649605675912684 and parameters: {'classifier__n_estimators': 247, 'classifier__learning_rate': 0.1927400375033011, 'classifier__max_depth': 8, 'classifier__subsample': 0.757181856696444, 'classifier__colsample_bytree': 0.7485868956057901, 'classifier__reg_alpha': 0.20601482876355803, 'classifier__reg_lambda': 0.9311574558887098}. Best is trial 78 with value: 0.9677242968377563.\n",
      "[I 2024-10-22 17:46:27,259] Trial 91 finished with value: 0.9642003048654884 and parameters: {'classifier__n_estimators': 211, 'classifier__learning_rate': 0.12853602959120294, 'classifier__max_depth': 9, 'classifier__subsample': 0.706456010782446, 'classifier__colsample_bytree': 0.768438189257405, 'classifier__reg_alpha': 0.24083610418108584, 'classifier__reg_lambda': 0.8754225845818138}. Best is trial 78 with value: 0.9677242968377563.\n",
      "[I 2024-10-22 17:46:28,634] Trial 92 finished with value: 0.9633573929880936 and parameters: {'classifier__n_estimators': 152, 'classifier__learning_rate': 0.1642944608833442, 'classifier__max_depth': 8, 'classifier__subsample': 0.7140475001160891, 'classifier__colsample_bytree': 0.7779083438151754, 'classifier__reg_alpha': 0.22223598978488995, 'classifier__reg_lambda': 0.9091141811136443}. Best is trial 78 with value: 0.9677242968377563.\n",
      "[I 2024-10-22 17:46:30,139] Trial 93 finished with value: 0.9662167016849997 and parameters: {'classifier__n_estimators': 235, 'classifier__learning_rate': 0.1813873975011756, 'classifier__max_depth': 9, 'classifier__subsample': 0.7287309092978536, 'classifier__colsample_bytree': 0.8112556442069049, 'classifier__reg_alpha': 0.16998281396739348, 'classifier__reg_lambda': 0.8149561624615158}. Best is trial 78 with value: 0.9677242968377563.\n",
      "[I 2024-10-22 17:46:31,958] Trial 94 finished with value: 0.9628158859638282 and parameters: {'classifier__n_estimators': 235, 'classifier__learning_rate': 0.1697869919377432, 'classifier__max_depth': 9, 'classifier__subsample': 0.7349535351610282, 'classifier__colsample_bytree': 0.7907417336031705, 'classifier__reg_alpha': 0.17899741665621177, 'classifier__reg_lambda': 0.8162224847678502}. Best is trial 78 with value: 0.9677242968377563.\n",
      "[I 2024-10-22 17:46:33,235] Trial 95 finished with value: 0.9648160684122864 and parameters: {'classifier__n_estimators': 223, 'classifier__learning_rate': 0.18420926915593597, 'classifier__max_depth': 10, 'classifier__subsample': 0.7301993493772402, 'classifier__colsample_bytree': 0.8110387125065005, 'classifier__reg_alpha': 0.11556911882346538, 'classifier__reg_lambda': 0.24698976680030027}. Best is trial 78 with value: 0.9677242968377563.\n",
      "[I 2024-10-22 17:46:35,065] Trial 96 finished with value: 0.9635847237671488 and parameters: {'classifier__n_estimators': 265, 'classifier__learning_rate': 0.17799539817268079, 'classifier__max_depth': 9, 'classifier__subsample': 0.7169775705774232, 'classifier__colsample_bytree': 0.735257739748446, 'classifier__reg_alpha': 0.5580948798709129, 'classifier__reg_lambda': 0.8021734785315732}. Best is trial 78 with value: 0.9677242968377563.\n",
      "[I 2024-10-22 17:46:36,616] Trial 97 finished with value: 0.9641245887552895 and parameters: {'classifier__n_estimators': 199, 'classifier__learning_rate': 0.19227604712895902, 'classifier__max_depth': 9, 'classifier__subsample': 0.7425227751330357, 'classifier__colsample_bytree': 0.781828601984598, 'classifier__reg_alpha': 0.1526359708678185, 'classifier__reg_lambda': 0.8410178371448955}. Best is trial 78 with value: 0.9677242968377563.\n",
      "[I 2024-10-22 17:46:38,197] Trial 98 finished with value: 0.9614841946666196 and parameters: {'classifier__n_estimators': 114, 'classifier__learning_rate': 0.0939383126072154, 'classifier__max_depth': 6, 'classifier__subsample': 0.7281105639934969, 'classifier__colsample_bytree': 0.8754525922448392, 'classifier__reg_alpha': 0.32418000959546445, 'classifier__reg_lambda': 0.9828605600583198}. Best is trial 78 with value: 0.9677242968377563.\n",
      "[I 2024-10-22 17:46:39,873] Trial 99 finished with value: 0.9642973674453096 and parameters: {'classifier__n_estimators': 249, 'classifier__learning_rate': 0.15005301987848751, 'classifier__max_depth': 10, 'classifier__subsample': 0.7205898831791413, 'classifier__colsample_bytree': 0.8984138146078614, 'classifier__reg_alpha': 0.020885189871868493, 'classifier__reg_lambda': 0.8594339732387606}. Best is trial 78 with value: 0.9677242968377563.\n",
      "2024-10-22 17:46:41,161 | optuna_training | INFO | Best parameters: {'classifier__n_estimators': 166, 'classifier__learning_rate': 0.12616967871848617, 'classifier__max_depth': 9, 'classifier__subsample': 0.7003381340294468, 'classifier__colsample_bytree': 0.7557770346251104, 'classifier__reg_alpha': 0.1663533951672295, 'classifier__reg_lambda': 0.935716339942594}\n",
      "INFO:optuna_training:Best parameters: {'classifier__n_estimators': 166, 'classifier__learning_rate': 0.12616967871848617, 'classifier__max_depth': 9, 'classifier__subsample': 0.7003381340294468, 'classifier__colsample_bytree': 0.7557770346251104, 'classifier__reg_alpha': 0.1663533951672295, 'classifier__reg_lambda': 0.935716339942594}\n",
      "2024-10-22 17:46:41,163 | optuna_training | INFO | Best cross-validation score: 0.9677242968377563\n",
      "INFO:optuna_training:Best cross-validation score: 0.9677242968377563\n",
      "2024-10-22 17:46:41,165 | optuna_training | INFO | All hyperparameter combinations and their cross-validation results:\n",
      "INFO:optuna_training:All hyperparameter combinations and their cross-validation results:\n",
      "2024-10-22 17:46:41,174 | optuna_training | INFO | Params: {'classifier__n_estimators': 212, 'classifier__learning_rate': 0.12051034822326333, 'classifier__max_depth': 8, 'classifier__subsample': 0.8030584986445675, 'classifier__colsample_bytree': 0.7483189184967313, 'classifier__reg_alpha': 0.4360874723530227, 'classifier__reg_lambda': 0.9550830865767829}, Mean Test Score: 0.9599799071278493\n",
      "INFO:optuna_training:Params: {'classifier__n_estimators': 212, 'classifier__learning_rate': 0.12051034822326333, 'classifier__max_depth': 8, 'classifier__subsample': 0.8030584986445675, 'classifier__colsample_bytree': 0.7483189184967313, 'classifier__reg_alpha': 0.4360874723530227, 'classifier__reg_lambda': 0.9550830865767829}, Mean Test Score: 0.9599799071278493\n",
      "2024-10-22 17:46:41,176 | optuna_training | INFO | Params: {'classifier__n_estimators': 158, 'classifier__learning_rate': 0.08562155617532057, 'classifier__max_depth': 10, 'classifier__subsample': 0.8297109600198731, 'classifier__colsample_bytree': 0.9656775204688605, 'classifier__reg_alpha': 0.9392673884207936, 'classifier__reg_lambda': 0.19823089701004248}, Mean Test Score: 0.9571687177404643\n",
      "INFO:optuna_training:Params: {'classifier__n_estimators': 158, 'classifier__learning_rate': 0.08562155617532057, 'classifier__max_depth': 10, 'classifier__subsample': 0.8297109600198731, 'classifier__colsample_bytree': 0.9656775204688605, 'classifier__reg_alpha': 0.9392673884207936, 'classifier__reg_lambda': 0.19823089701004248}, Mean Test Score: 0.9571687177404643\n",
      "2024-10-22 17:46:41,177 | optuna_training | INFO | Params: {'classifier__n_estimators': 167, 'classifier__learning_rate': 0.09963700380456661, 'classifier__max_depth': 9, 'classifier__subsample': 0.7974286701271499, 'classifier__colsample_bytree': 0.870380218918402, 'classifier__reg_alpha': 0.0056372111253572, 'classifier__reg_lambda': 0.31015768510088926}, Mean Test Score: 0.9613378710030546\n",
      "INFO:optuna_training:Params: {'classifier__n_estimators': 167, 'classifier__learning_rate': 0.09963700380456661, 'classifier__max_depth': 9, 'classifier__subsample': 0.7974286701271499, 'classifier__colsample_bytree': 0.870380218918402, 'classifier__reg_alpha': 0.0056372111253572, 'classifier__reg_lambda': 0.31015768510088926}, Mean Test Score: 0.9613378710030546\n",
      "2024-10-22 17:46:41,178 | optuna_training | INFO | Params: {'classifier__n_estimators': 143, 'classifier__learning_rate': 0.13167328154841698, 'classifier__max_depth': 7, 'classifier__subsample': 0.712697288684037, 'classifier__colsample_bytree': 0.8764940015731489, 'classifier__reg_alpha': 0.299752999856709, 'classifier__reg_lambda': 0.8701557885089022}, Mean Test Score: 0.9671052492187087\n",
      "INFO:optuna_training:Params: {'classifier__n_estimators': 143, 'classifier__learning_rate': 0.13167328154841698, 'classifier__max_depth': 7, 'classifier__subsample': 0.712697288684037, 'classifier__colsample_bytree': 0.8764940015731489, 'classifier__reg_alpha': 0.299752999856709, 'classifier__reg_lambda': 0.8701557885089022}, Mean Test Score: 0.9671052492187087\n",
      "2024-10-22 17:46:41,180 | optuna_training | INFO | Params: {'classifier__n_estimators': 251, 'classifier__learning_rate': 0.08759467935770059, 'classifier__max_depth': 5, 'classifier__subsample': 0.7282792622749144, 'classifier__colsample_bytree': 0.7805919388420881, 'classifier__reg_alpha': 0.9806027036242059, 'classifier__reg_lambda': 0.021009262306807552}, Mean Test Score: 0.957881361418625\n",
      "INFO:optuna_training:Params: {'classifier__n_estimators': 251, 'classifier__learning_rate': 0.08759467935770059, 'classifier__max_depth': 5, 'classifier__subsample': 0.7282792622749144, 'classifier__colsample_bytree': 0.7805919388420881, 'classifier__reg_alpha': 0.9806027036242059, 'classifier__reg_lambda': 0.021009262306807552}, Mean Test Score: 0.957881361418625\n",
      "2024-10-22 17:46:41,181 | optuna_training | INFO | Params: {'classifier__n_estimators': 72, 'classifier__learning_rate': 0.14657082895599624, 'classifier__max_depth': 9, 'classifier__subsample': 0.8943570542607113, 'classifier__colsample_bytree': 0.8775062769785626, 'classifier__reg_alpha': 0.3980718449694777, 'classifier__reg_lambda': 0.17229852245228428}, Mean Test Score: 0.9571720253544502\n",
      "INFO:optuna_training:Params: {'classifier__n_estimators': 72, 'classifier__learning_rate': 0.14657082895599624, 'classifier__max_depth': 9, 'classifier__subsample': 0.8943570542607113, 'classifier__colsample_bytree': 0.8775062769785626, 'classifier__reg_alpha': 0.3980718449694777, 'classifier__reg_lambda': 0.17229852245228428}, Mean Test Score: 0.9571720253544502\n",
      "2024-10-22 17:46:41,182 | optuna_training | INFO | Params: {'classifier__n_estimators': 256, 'classifier__learning_rate': 0.04668513966995212, 'classifier__max_depth': 10, 'classifier__subsample': 0.7735198262422894, 'classifier__colsample_bytree': 0.8838798619984204, 'classifier__reg_alpha': 0.8942853058257747, 'classifier__reg_lambda': 0.9378077391969891}, Mean Test Score: 0.9586221021593657\n",
      "INFO:optuna_training:Params: {'classifier__n_estimators': 256, 'classifier__learning_rate': 0.04668513966995212, 'classifier__max_depth': 10, 'classifier__subsample': 0.7735198262422894, 'classifier__colsample_bytree': 0.8838798619984204, 'classifier__reg_alpha': 0.8942853058257747, 'classifier__reg_lambda': 0.9378077391969891}, Mean Test Score: 0.9586221021593657\n",
      "2024-10-22 17:46:41,183 | optuna_training | INFO | Params: {'classifier__n_estimators': 160, 'classifier__learning_rate': 0.0462454533328694, 'classifier__max_depth': 9, 'classifier__subsample': 0.9669660315374338, 'classifier__colsample_bytree': 0.7726407914343034, 'classifier__reg_alpha': 0.5989260941718769, 'classifier__reg_lambda': 0.42388509315987577}, Mean Test Score: 0.960694192842135\n",
      "INFO:optuna_training:Params: {'classifier__n_estimators': 160, 'classifier__learning_rate': 0.0462454533328694, 'classifier__max_depth': 9, 'classifier__subsample': 0.9669660315374338, 'classifier__colsample_bytree': 0.7726407914343034, 'classifier__reg_alpha': 0.5989260941718769, 'classifier__reg_lambda': 0.42388509315987577}, Mean Test Score: 0.960694192842135\n",
      "2024-10-22 17:46:41,184 | optuna_training | INFO | Params: {'classifier__n_estimators': 52, 'classifier__learning_rate': 0.050637262221380624, 'classifier__max_depth': 8, 'classifier__subsample': 0.7769040629826637, 'classifier__colsample_bytree': 0.7451291935700769, 'classifier__reg_alpha': 0.823737419123485, 'classifier__reg_lambda': 0.8615340665892978}, Mean Test Score: 0.9508777124494587\n",
      "INFO:optuna_training:Params: {'classifier__n_estimators': 52, 'classifier__learning_rate': 0.050637262221380624, 'classifier__max_depth': 8, 'classifier__subsample': 0.7769040629826637, 'classifier__colsample_bytree': 0.7451291935700769, 'classifier__reg_alpha': 0.823737419123485, 'classifier__reg_lambda': 0.8615340665892978}, Mean Test Score: 0.9508777124494587\n",
      "2024-10-22 17:46:41,186 | optuna_training | INFO | Params: {'classifier__n_estimators': 119, 'classifier__learning_rate': 0.11789456225785615, 'classifier__max_depth': 10, 'classifier__subsample': 0.9453334578831427, 'classifier__colsample_bytree': 0.7266173114785123, 'classifier__reg_alpha': 0.4537231238243111, 'classifier__reg_lambda': 0.7648467755736652}, Mean Test Score: 0.9607188233840069\n",
      "INFO:optuna_training:Params: {'classifier__n_estimators': 119, 'classifier__learning_rate': 0.11789456225785615, 'classifier__max_depth': 10, 'classifier__subsample': 0.9453334578831427, 'classifier__colsample_bytree': 0.7266173114785123, 'classifier__reg_alpha': 0.4537231238243111, 'classifier__reg_lambda': 0.7648467755736652}, Mean Test Score: 0.9607188233840069\n",
      "2024-10-22 17:46:41,187 | optuna_training | INFO | Params: {'classifier__n_estimators': 297, 'classifier__learning_rate': 0.1744973296674789, 'classifier__max_depth': 3, 'classifier__subsample': 0.7005025176781942, 'classifier__colsample_bytree': 0.9560069335554657, 'classifier__reg_alpha': 0.16828520504115985, 'classifier__reg_lambda': 0.6439567895635493}, Mean Test Score: 0.9606005967830218\n",
      "INFO:optuna_training:Params: {'classifier__n_estimators': 297, 'classifier__learning_rate': 0.1744973296674789, 'classifier__max_depth': 3, 'classifier__subsample': 0.7005025176781942, 'classifier__colsample_bytree': 0.9560069335554657, 'classifier__reg_alpha': 0.16828520504115985, 'classifier__reg_lambda': 0.6439567895635493}, Mean Test Score: 0.9606005967830218\n",
      "2024-10-22 17:46:41,188 | optuna_training | INFO | Params: {'classifier__n_estimators': 116, 'classifier__learning_rate': 0.19312724169838694, 'classifier__max_depth': 6, 'classifier__subsample': 0.8709216864019793, 'classifier__colsample_bytree': 0.8317368625664359, 'classifier__reg_alpha': 0.04161488369780891, 'classifier__reg_lambda': 0.48184900112795964}, Mean Test Score: 0.95796038514281\n",
      "INFO:optuna_training:Params: {'classifier__n_estimators': 116, 'classifier__learning_rate': 0.19312724169838694, 'classifier__max_depth': 6, 'classifier__subsample': 0.8709216864019793, 'classifier__colsample_bytree': 0.8317368625664359, 'classifier__reg_alpha': 0.04161488369780891, 'classifier__reg_lambda': 0.48184900112795964}, Mean Test Score: 0.95796038514281\n",
      "2024-10-22 17:46:41,189 | optuna_training | INFO | Params: {'classifier__n_estimators': 204, 'classifier__learning_rate': 0.1433859295193033, 'classifier__max_depth': 7, 'classifier__subsample': 0.7488706685034899, 'classifier__colsample_bytree': 0.9195555625033559, 'classifier__reg_alpha': 0.23090282974191234, 'classifier__reg_lambda': 0.346402862718524}, Mean Test Score: 0.9607733754730419\n",
      "INFO:optuna_training:Params: {'classifier__n_estimators': 204, 'classifier__learning_rate': 0.1433859295193033, 'classifier__max_depth': 7, 'classifier__subsample': 0.7488706685034899, 'classifier__colsample_bytree': 0.9195555625033559, 'classifier__reg_alpha': 0.23090282974191234, 'classifier__reg_lambda': 0.346402862718524}, Mean Test Score: 0.9607733754730419\n",
      "2024-10-22 17:46:41,190 | optuna_training | INFO | Params: {'classifier__n_estimators': 137, 'classifier__learning_rate': 0.01326719738455566, 'classifier__max_depth': 5, 'classifier__subsample': 0.8242610900358939, 'classifier__colsample_bytree': 0.8200351429478216, 'classifier__reg_alpha': 0.015716382839630668, 'classifier__reg_lambda': 0.65511270273039}, Mean Test Score: 0.9509304400539106\n",
      "INFO:optuna_training:Params: {'classifier__n_estimators': 137, 'classifier__learning_rate': 0.01326719738455566, 'classifier__max_depth': 5, 'classifier__subsample': 0.8242610900358939, 'classifier__colsample_bytree': 0.8200351429478216, 'classifier__reg_alpha': 0.015716382839630668, 'classifier__reg_lambda': 0.65511270273039}, Mean Test Score: 0.9509304400539106\n",
      "2024-10-22 17:46:41,191 | optuna_training | INFO | Params: {'classifier__n_estimators': 192, 'classifier__learning_rate': 0.0909827787009797, 'classifier__max_depth': 7, 'classifier__subsample': 0.7041748452579686, 'classifier__colsample_bytree': 0.917112111310309, 'classifier__reg_alpha': 0.23938636012381487, 'classifier__reg_lambda': 0.29132294314359086}, Mean Test Score: 0.9635812572464408\n",
      "INFO:optuna_training:Params: {'classifier__n_estimators': 192, 'classifier__learning_rate': 0.0909827787009797, 'classifier__max_depth': 7, 'classifier__subsample': 0.7041748452579686, 'classifier__colsample_bytree': 0.917112111310309, 'classifier__reg_alpha': 0.23938636012381487, 'classifier__reg_lambda': 0.29132294314359086}, Mean Test Score: 0.9635812572464408\n",
      "2024-10-22 17:46:41,192 | optuna_training | INFO | Params: {'classifier__n_estimators': 204, 'classifier__learning_rate': 0.14679812288441005, 'classifier__max_depth': 6, 'classifier__subsample': 0.7047336386717626, 'classifier__colsample_bytree': 0.9193657242900299, 'classifier__reg_alpha': 0.2539650465462324, 'classifier__reg_lambda': 0.5796578101217378}, Mean Test Score: 0.9621791408443243\n",
      "INFO:optuna_training:Params: {'classifier__n_estimators': 204, 'classifier__learning_rate': 0.14679812288441005, 'classifier__max_depth': 6, 'classifier__subsample': 0.7047336386717626, 'classifier__colsample_bytree': 0.9193657242900299, 'classifier__reg_alpha': 0.2539650465462324, 'classifier__reg_lambda': 0.5796578101217378}, Mean Test Score: 0.9621791408443243\n",
      "2024-10-22 17:46:41,193 | optuna_training | INFO | Params: {'classifier__n_estimators': 99, 'classifier__learning_rate': 0.06797778349861724, 'classifier__max_depth': 7, 'classifier__subsample': 0.7433303789367379, 'classifier__colsample_bytree': 0.9955732198636016, 'classifier__reg_alpha': 0.6038693721234429, 'classifier__reg_lambda': 0.771887641780894}, Mean Test Score: 0.9578580315576979\n",
      "INFO:optuna_training:Params: {'classifier__n_estimators': 99, 'classifier__learning_rate': 0.06797778349861724, 'classifier__max_depth': 7, 'classifier__subsample': 0.7433303789367379, 'classifier__colsample_bytree': 0.9955732198636016, 'classifier__reg_alpha': 0.6038693721234429, 'classifier__reg_lambda': 0.771887641780894}, Mean Test Score: 0.9578580315576979\n",
      "2024-10-22 17:46:41,194 | optuna_training | INFO | Params: {'classifier__n_estimators': 191, 'classifier__learning_rate': 0.12542069621263507, 'classifier__max_depth': 4, 'classifier__subsample': 0.9180661223816643, 'classifier__colsample_bytree': 0.9063732056433952, 'classifier__reg_alpha': 0.30474701819640077, 'classifier__reg_lambda': 0.2259648317876492}, Mean Test Score: 0.9556905438729688\n",
      "INFO:optuna_training:Params: {'classifier__n_estimators': 191, 'classifier__learning_rate': 0.12542069621263507, 'classifier__max_depth': 4, 'classifier__subsample': 0.9180661223816643, 'classifier__colsample_bytree': 0.9063732056433952, 'classifier__reg_alpha': 0.30474701819640077, 'classifier__reg_lambda': 0.2259648317876492}, Mean Test Score: 0.9556905438729688\n",
      "2024-10-22 17:46:41,194 | optuna_training | INFO | Params: {'classifier__n_estimators': 231, 'classifier__learning_rate': 0.17111413823226515, 'classifier__max_depth': 8, 'classifier__subsample': 0.7331424215093149, 'classifier__colsample_bytree': 0.8252783750569781, 'classifier__reg_alpha': 0.1573675399979685, 'classifier__reg_lambda': 0.0014515140667915594}, Mean Test Score: 0.9614154115978366\n",
      "INFO:optuna_training:Params: {'classifier__n_estimators': 231, 'classifier__learning_rate': 0.17111413823226515, 'classifier__max_depth': 8, 'classifier__subsample': 0.7331424215093149, 'classifier__colsample_bytree': 0.8252783750569781, 'classifier__reg_alpha': 0.1573675399979685, 'classifier__reg_lambda': 0.0014515140667915594}, Mean Test Score: 0.9614154115978366\n",
      "2024-10-22 17:46:41,195 | optuna_training | INFO | Params: {'classifier__n_estimators': 146, 'classifier__learning_rate': 0.07453313688597644, 'classifier__max_depth': 5, 'classifier__subsample': 0.9978001975457277, 'classifier__colsample_bytree': 0.951998619857797, 'classifier__reg_alpha': 0.6263911745123916, 'classifier__reg_lambda': 0.40198599153701897}, Mean Test Score: 0.9528313940827845\n",
      "INFO:optuna_training:Params: {'classifier__n_estimators': 146, 'classifier__learning_rate': 0.07453313688597644, 'classifier__max_depth': 5, 'classifier__subsample': 0.9978001975457277, 'classifier__colsample_bytree': 0.951998619857797, 'classifier__reg_alpha': 0.6263911745123916, 'classifier__reg_lambda': 0.40198599153701897}, Mean Test Score: 0.9528313940827845\n",
      "2024-10-22 17:46:41,197 | optuna_training | INFO | Params: {'classifier__n_estimators': 298, 'classifier__learning_rate': 0.01084015800338714, 'classifier__max_depth': 7, 'classifier__subsample': 0.8591514857530126, 'classifier__colsample_bytree': 0.8428050354778192, 'classifier__reg_alpha': 0.32738373650895536, 'classifier__reg_lambda': 0.5466388571921827}, Mean Test Score: 0.9494785387644118\n",
      "INFO:optuna_training:Params: {'classifier__n_estimators': 298, 'classifier__learning_rate': 0.01084015800338714, 'classifier__max_depth': 7, 'classifier__subsample': 0.8591514857530126, 'classifier__colsample_bytree': 0.8428050354778192, 'classifier__reg_alpha': 0.32738373650895536, 'classifier__reg_lambda': 0.5466388571921827}, Mean Test Score: 0.9494785387644118\n",
      "2024-10-22 17:46:41,197 | optuna_training | INFO | Params: {'classifier__n_estimators': 191, 'classifier__learning_rate': 0.14282807436254896, 'classifier__max_depth': 6, 'classifier__subsample': 0.7065709921407954, 'classifier__colsample_bytree': 0.9253415210974759, 'classifier__reg_alpha': 0.2567727006767266, 'classifier__reg_lambda': 0.584803333889191}, Mean Test Score: 0.9628653294960303\n",
      "INFO:optuna_training:Params: {'classifier__n_estimators': 191, 'classifier__learning_rate': 0.14282807436254896, 'classifier__max_depth': 6, 'classifier__subsample': 0.7065709921407954, 'classifier__colsample_bytree': 0.9253415210974759, 'classifier__reg_alpha': 0.2567727006767266, 'classifier__reg_lambda': 0.584803333889191}, Mean Test Score: 0.9628653294960303\n",
      "2024-10-22 17:46:41,198 | optuna_training | INFO | Params: {'classifier__n_estimators': 220, 'classifier__learning_rate': 0.16312084889551337, 'classifier__max_depth': 6, 'classifier__subsample': 0.7126625790135109, 'classifier__colsample_bytree': 0.9055978013985849, 'classifier__reg_alpha': 0.1250881193144221, 'classifier__reg_lambda': 0.7748236593917753}, Mean Test Score: 0.9655830817310239\n",
      "INFO:optuna_training:Params: {'classifier__n_estimators': 220, 'classifier__learning_rate': 0.16312084889551337, 'classifier__max_depth': 6, 'classifier__subsample': 0.7126625790135109, 'classifier__colsample_bytree': 0.9055978013985849, 'classifier__reg_alpha': 0.1250881193144221, 'classifier__reg_lambda': 0.7748236593917753}, Mean Test Score: 0.9655830817310239\n",
      "2024-10-22 17:46:41,199 | optuna_training | INFO | Params: {'classifier__n_estimators': 230, 'classifier__learning_rate': 0.16482724300081508, 'classifier__max_depth': 7, 'classifier__subsample': 0.7641900380363496, 'classifier__colsample_bytree': 0.8936875696441895, 'classifier__reg_alpha': 0.17423659708557038, 'classifier__reg_lambda': 0.7860830401952434}, Mean Test Score: 0.9615847237671487\n",
      "INFO:optuna_training:Params: {'classifier__n_estimators': 230, 'classifier__learning_rate': 0.16482724300081508, 'classifier__max_depth': 7, 'classifier__subsample': 0.7641900380363496, 'classifier__colsample_bytree': 0.8936875696441895, 'classifier__reg_alpha': 0.17423659708557038, 'classifier__reg_lambda': 0.7860830401952434}, Mean Test Score: 0.9615847237671487\n",
      "2024-10-22 17:46:41,200 | optuna_training | INFO | Params: {'classifier__n_estimators': 182, 'classifier__learning_rate': 0.1940650810482779, 'classifier__max_depth': 6, 'classifier__subsample': 0.7247122219068606, 'classifier__colsample_bytree': 0.857190360410135, 'classifier__reg_alpha': 0.10063310489763422, 'classifier__reg_lambda': 0.8609302766078786}, Mean Test Score: 0.9627188233840069\n",
      "INFO:optuna_training:Params: {'classifier__n_estimators': 182, 'classifier__learning_rate': 0.1940650810482779, 'classifier__max_depth': 6, 'classifier__subsample': 0.7247122219068606, 'classifier__colsample_bytree': 0.857190360410135, 'classifier__reg_alpha': 0.10063310489763422, 'classifier__reg_lambda': 0.8609302766078786}, Mean Test Score: 0.9627188233840069\n",
      "2024-10-22 17:46:41,201 | optuna_training | INFO | Params: {'classifier__n_estimators': 269, 'classifier__learning_rate': 0.10531471956382839, 'classifier__max_depth': 4, 'classifier__subsample': 0.7511609427106887, 'classifier__colsample_bytree': 0.9395652359819298, 'classifier__reg_alpha': 0.5139719926808243, 'classifier__reg_lambda': 0.7288458736768575}, Mean Test Score: 0.9593643260295096\n",
      "INFO:optuna_training:Params: {'classifier__n_estimators': 269, 'classifier__learning_rate': 0.10531471956382839, 'classifier__max_depth': 4, 'classifier__subsample': 0.7511609427106887, 'classifier__colsample_bytree': 0.9395652359819298, 'classifier__reg_alpha': 0.5139719926808243, 'classifier__reg_lambda': 0.7288458736768575}, Mean Test Score: 0.9593643260295096\n",
      "2024-10-22 17:46:41,203 | optuna_training | INFO | Params: {'classifier__n_estimators': 230, 'classifier__learning_rate': 0.16031989396977198, 'classifier__max_depth': 8, 'classifier__subsample': 0.7948165804211164, 'classifier__colsample_bytree': 0.9821067520679265, 'classifier__reg_alpha': 0.3739450038135295, 'classifier__reg_lambda': 0.9975947850559043}, Mean Test Score: 0.9600257016908852\n",
      "INFO:optuna_training:Params: {'classifier__n_estimators': 230, 'classifier__learning_rate': 0.16031989396977198, 'classifier__max_depth': 8, 'classifier__subsample': 0.7948165804211164, 'classifier__colsample_bytree': 0.9821067520679265, 'classifier__reg_alpha': 0.3739450038135295, 'classifier__reg_lambda': 0.9975947850559043}, Mean Test Score: 0.9600257016908852\n",
      "2024-10-22 17:46:41,204 | optuna_training | INFO | Params: {'classifier__n_estimators': 140, 'classifier__learning_rate': 0.13139607804829723, 'classifier__max_depth': 7, 'classifier__subsample': 0.7241795663061382, 'classifier__colsample_bytree': 0.8062931348452931, 'classifier__reg_alpha': 0.09359824347287773, 'classifier__reg_lambda': 0.8598831170875203}, Mean Test Score: 0.9649111240590663\n",
      "INFO:optuna_training:Params: {'classifier__n_estimators': 140, 'classifier__learning_rate': 0.13139607804829723, 'classifier__max_depth': 7, 'classifier__subsample': 0.7241795663061382, 'classifier__colsample_bytree': 0.8062931348452931, 'classifier__reg_alpha': 0.09359824347287773, 'classifier__reg_lambda': 0.8598831170875203}, Mean Test Score: 0.9649111240590663\n",
      "2024-10-22 17:46:41,205 | optuna_training | INFO | Params: {'classifier__n_estimators': 133, 'classifier__learning_rate': 0.13267689628283713, 'classifier__max_depth': 5, 'classifier__subsample': 0.7314501390570918, 'classifier__colsample_bytree': 0.7999569001554531, 'classifier__reg_alpha': 0.08819714158505851, 'classifier__reg_lambda': 0.8635788582950591}, Mean Test Score: 0.9670346416653425\n",
      "INFO:optuna_training:Params: {'classifier__n_estimators': 133, 'classifier__learning_rate': 0.13267689628283713, 'classifier__max_depth': 5, 'classifier__subsample': 0.7314501390570918, 'classifier__colsample_bytree': 0.7999569001554531, 'classifier__reg_alpha': 0.08819714158505851, 'classifier__reg_lambda': 0.8635788582950591}, Mean Test Score: 0.9670346416653425\n",
      "2024-10-22 17:46:41,206 | optuna_training | INFO | Params: {'classifier__n_estimators': 92, 'classifier__learning_rate': 0.1115453308711247, 'classifier__max_depth': 4, 'classifier__subsample': 0.8210173485376521, 'classifier__colsample_bytree': 0.7938276240463153, 'classifier__reg_alpha': 0.1073847917691954, 'classifier__reg_lambda': 0.9245207344980461}, Mean Test Score: 0.9584524486348736\n",
      "INFO:optuna_training:Params: {'classifier__n_estimators': 92, 'classifier__learning_rate': 0.1115453308711247, 'classifier__max_depth': 4, 'classifier__subsample': 0.8210173485376521, 'classifier__colsample_bytree': 0.7938276240463153, 'classifier__reg_alpha': 0.1073847917691954, 'classifier__reg_lambda': 0.9245207344980461}, Mean Test Score: 0.9584524486348736\n",
      "2024-10-22 17:46:41,207 | optuna_training | INFO | Params: {'classifier__n_estimators': 130, 'classifier__learning_rate': 0.13055357786402494, 'classifier__max_depth': 5, 'classifier__subsample': 0.7720895590401282, 'classifier__colsample_bytree': 0.7085852067149042, 'classifier__reg_alpha': 0.3356203303445877, 'classifier__reg_lambda': 0.7022126522120439}, Mean Test Score: 0.9641492192971614\n",
      "INFO:optuna_training:Params: {'classifier__n_estimators': 130, 'classifier__learning_rate': 0.13055357786402494, 'classifier__max_depth': 5, 'classifier__subsample': 0.7720895590401282, 'classifier__colsample_bytree': 0.7085852067149042, 'classifier__reg_alpha': 0.3356203303445877, 'classifier__reg_lambda': 0.7022126522120439}, Mean Test Score: 0.9641492192971614\n",
      "2024-10-22 17:46:41,208 | optuna_training | INFO | Params: {'classifier__n_estimators': 148, 'classifier__learning_rate': 0.13048872042323348, 'classifier__max_depth': 6, 'classifier__subsample': 0.7225094027296083, 'classifier__colsample_bytree': 0.8057755816394337, 'classifier__reg_alpha': 0.09077385128466217, 'classifier__reg_lambda': 0.8552551750630072}, Mean Test Score: 0.9642167016849997\n",
      "INFO:optuna_training:Params: {'classifier__n_estimators': 148, 'classifier__learning_rate': 0.13048872042323348, 'classifier__max_depth': 6, 'classifier__subsample': 0.7225094027296083, 'classifier__colsample_bytree': 0.8057755816394337, 'classifier__reg_alpha': 0.09077385128466217, 'classifier__reg_lambda': 0.8552551750630072}, Mean Test Score: 0.9642167016849997\n",
      "2024-10-22 17:46:41,209 | optuna_training | INFO | Params: {'classifier__n_estimators': 106, 'classifier__learning_rate': 0.15270932729396275, 'classifier__max_depth': 5, 'classifier__subsample': 0.7525874402089282, 'classifier__colsample_bytree': 0.7640007774195252, 'classifier__reg_alpha': 0.06974887522509718, 'classifier__reg_lambda': 0.8393793598362915}, Mean Test Score: 0.9592426329078163\n",
      "INFO:optuna_training:Params: {'classifier__n_estimators': 106, 'classifier__learning_rate': 0.15270932729396275, 'classifier__max_depth': 5, 'classifier__subsample': 0.7525874402089282, 'classifier__colsample_bytree': 0.7640007774195252, 'classifier__reg_alpha': 0.06974887522509718, 'classifier__reg_lambda': 0.8393793598362915}, Mean Test Score: 0.9592426329078163\n",
      "2024-10-22 17:46:41,210 | optuna_training | INFO | Params: {'classifier__n_estimators': 171, 'classifier__learning_rate': 0.1850810911607205, 'classifier__max_depth': 6, 'classifier__subsample': 0.7215916861705707, 'classifier__colsample_bytree': 0.800004624230775, 'classifier__reg_alpha': 0.19182372074376636, 'classifier__reg_lambda': 0.9155167562429966}, Mean Test Score: 0.9655073656208251\n",
      "INFO:optuna_training:Params: {'classifier__n_estimators': 171, 'classifier__learning_rate': 0.1850810911607205, 'classifier__max_depth': 6, 'classifier__subsample': 0.7215916861705707, 'classifier__colsample_bytree': 0.800004624230775, 'classifier__reg_alpha': 0.19182372074376636, 'classifier__reg_lambda': 0.9155167562429966}, Mean Test Score: 0.9655073656208251\n",
      "2024-10-22 17:46:41,212 | optuna_training | INFO | Params: {'classifier__n_estimators': 169, 'classifier__learning_rate': 0.18210662358000398, 'classifier__max_depth': 6, 'classifier__subsample': 0.793181522430755, 'classifier__colsample_bytree': 0.856632900237118, 'classifier__reg_alpha': 0.18321571442908197, 'classifier__reg_lambda': 0.9775724180888251}, Mean Test Score: 0.9615847237671487\n",
      "INFO:optuna_training:Params: {'classifier__n_estimators': 169, 'classifier__learning_rate': 0.18210662358000398, 'classifier__max_depth': 6, 'classifier__subsample': 0.793181522430755, 'classifier__colsample_bytree': 0.856632900237118, 'classifier__reg_alpha': 0.18321571442908197, 'classifier__reg_lambda': 0.9775724180888251}, Mean Test Score: 0.9615847237671487\n",
      "2024-10-22 17:46:41,250 | optuna_training | INFO | Params: {'classifier__n_estimators': 173, 'classifier__learning_rate': 0.1794613580406393, 'classifier__max_depth': 5, 'classifier__subsample': 0.73559117495562, 'classifier__colsample_bytree': 0.7496199156386729, 'classifier__reg_alpha': 0.0056198989047565595, 'classifier__reg_lambda': 0.9095242044861807}, Mean Test Score: 0.9641229467191647\n",
      "INFO:optuna_training:Params: {'classifier__n_estimators': 173, 'classifier__learning_rate': 0.1794613580406393, 'classifier__max_depth': 5, 'classifier__subsample': 0.73559117495562, 'classifier__colsample_bytree': 0.7496199156386729, 'classifier__reg_alpha': 0.0056198989047565595, 'classifier__reg_lambda': 0.9095242044861807}, Mean Test Score: 0.9641229467191647\n",
      "2024-10-22 17:46:41,254 | optuna_training | INFO | Params: {'classifier__n_estimators': 156, 'classifier__learning_rate': 0.16033254782123738, 'classifier__max_depth': 3, 'classifier__subsample': 0.7198408839104344, 'classifier__colsample_bytree': 0.8678997844293995, 'classifier__reg_alpha': 0.1290045444904315, 'classifier__reg_lambda': 0.9158820816193436}, Mean Test Score: 0.9621048843217919\n",
      "INFO:optuna_training:Params: {'classifier__n_estimators': 156, 'classifier__learning_rate': 0.16033254782123738, 'classifier__max_depth': 3, 'classifier__subsample': 0.7198408839104344, 'classifier__colsample_bytree': 0.8678997844293995, 'classifier__reg_alpha': 0.1290045444904315, 'classifier__reg_lambda': 0.9158820816193436}, Mean Test Score: 0.9621048843217919\n",
      "2024-10-22 17:46:41,255 | optuna_training | INFO | Params: {'classifier__n_estimators': 220, 'classifier__learning_rate': 0.18241621846954248, 'classifier__max_depth': 4, 'classifier__subsample': 0.8099754458072845, 'classifier__colsample_bytree': 0.7889481139237234, 'classifier__reg_alpha': 0.20481579140158568, 'classifier__reg_lambda': 0.808776597409077}, Mean Test Score: 0.9606005967830218\n",
      "INFO:optuna_training:Params: {'classifier__n_estimators': 220, 'classifier__learning_rate': 0.18241621846954248, 'classifier__max_depth': 4, 'classifier__subsample': 0.8099754458072845, 'classifier__colsample_bytree': 0.7889481139237234, 'classifier__reg_alpha': 0.20481579140158568, 'classifier__reg_lambda': 0.808776597409077}, Mean Test Score: 0.9606005967830218\n",
      "2024-10-22 17:46:41,269 | optuna_training | INFO | Params: {'classifier__n_estimators': 86, 'classifier__learning_rate': 0.19689028593021243, 'classifier__max_depth': 6, 'classifier__subsample': 0.762513735777658, 'classifier__colsample_bytree': 0.8454409214412606, 'classifier__reg_alpha': 0.2850761926208751, 'classifier__reg_lambda': 0.7044313958342925}, Mean Test Score: 0.9593625015449264\n",
      "INFO:optuna_training:Params: {'classifier__n_estimators': 86, 'classifier__learning_rate': 0.19689028593021243, 'classifier__max_depth': 6, 'classifier__subsample': 0.762513735777658, 'classifier__colsample_bytree': 0.8454409214412606, 'classifier__reg_alpha': 0.2850761926208751, 'classifier__reg_lambda': 0.7044313958342925}, Mean Test Score: 0.9593625015449264\n",
      "2024-10-22 17:46:41,271 | optuna_training | INFO | Params: {'classifier__n_estimators': 124, 'classifier__learning_rate': 0.137982042843794, 'classifier__max_depth': 8, 'classifier__subsample': 0.7869503128924646, 'classifier__colsample_bytree': 0.892771899463963, 'classifier__reg_alpha': 0.43371088315848466, 'classifier__reg_lambda': 0.08856828857350685}, Mean Test Score: 0.957270547521938\n",
      "INFO:optuna_training:Params: {'classifier__n_estimators': 124, 'classifier__learning_rate': 0.137982042843794, 'classifier__max_depth': 8, 'classifier__subsample': 0.7869503128924646, 'classifier__colsample_bytree': 0.892771899463963, 'classifier__reg_alpha': 0.43371088315848466, 'classifier__reg_lambda': 0.08856828857350685}, Mean Test Score: 0.957270547521938\n",
      "2024-10-22 17:46:41,273 | optuna_training | INFO | Params: {'classifier__n_estimators': 72, 'classifier__learning_rate': 0.11858748101173414, 'classifier__max_depth': 8, 'classifier__subsample': 0.8462219121670376, 'classifier__colsample_bytree': 0.8771132460113333, 'classifier__reg_alpha': 0.3762613108744741, 'classifier__reg_lambda': 0.9158087140032747}, Mean Test Score: 0.9544064716233793\n",
      "INFO:optuna_training:Params: {'classifier__n_estimators': 72, 'classifier__learning_rate': 0.11858748101173414, 'classifier__max_depth': 8, 'classifier__subsample': 0.8462219121670376, 'classifier__colsample_bytree': 0.8771132460113333, 'classifier__reg_alpha': 0.3762613108744741, 'classifier__reg_lambda': 0.9158087140032747}, Mean Test Score: 0.9544064716233793\n",
      "2024-10-22 17:46:41,273 | optuna_training | INFO | Params: {'classifier__n_estimators': 139, 'classifier__learning_rate': 0.13384083963227078, 'classifier__max_depth': 7, 'classifier__subsample': 0.7162279834478624, 'classifier__colsample_bytree': 0.8039488549937801, 'classifier__reg_alpha': 0.057983250072081716, 'classifier__reg_lambda': 0.8230608614190738}, Mean Test Score: 0.9629360959561183\n",
      "INFO:optuna_training:Params: {'classifier__n_estimators': 139, 'classifier__learning_rate': 0.13384083963227078, 'classifier__max_depth': 7, 'classifier__subsample': 0.7162279834478624, 'classifier__colsample_bytree': 0.8039488549937801, 'classifier__reg_alpha': 0.057983250072081716, 'classifier__reg_lambda': 0.8230608614190738}, Mean Test Score: 0.9629360959561183\n",
      "2024-10-22 17:46:41,274 | optuna_training | INFO | Params: {'classifier__n_estimators': 158, 'classifier__learning_rate': 0.1523286668780546, 'classifier__max_depth': 9, 'classifier__subsample': 0.7370862239216556, 'classifier__colsample_bytree': 0.8142869169211073, 'classifier__reg_alpha': 0.13947072293735904, 'classifier__reg_lambda': 0.8869032681412273}, Mean Test Score: 0.9643466285290533\n",
      "INFO:optuna_training:Params: {'classifier__n_estimators': 158, 'classifier__learning_rate': 0.1523286668780546, 'classifier__max_depth': 9, 'classifier__subsample': 0.7370862239216556, 'classifier__colsample_bytree': 0.8142869169211073, 'classifier__reg_alpha': 0.13947072293735904, 'classifier__reg_lambda': 0.8869032681412273}, Mean Test Score: 0.9643466285290533\n",
      "2024-10-22 17:46:41,276 | optuna_training | INFO | Params: {'classifier__n_estimators': 174, 'classifier__learning_rate': 0.17050584889451492, 'classifier__max_depth': 7, 'classifier__subsample': 0.717592194585333, 'classifier__colsample_bytree': 0.7731234475456267, 'classifier__reg_alpha': 0.19190183948967032, 'classifier__reg_lambda': 0.9625867849183064}, Mean Test Score: 0.9627418118897539\n",
      "INFO:optuna_training:Params: {'classifier__n_estimators': 174, 'classifier__learning_rate': 0.17050584889451492, 'classifier__max_depth': 7, 'classifier__subsample': 0.717592194585333, 'classifier__colsample_bytree': 0.7731234475456267, 'classifier__reg_alpha': 0.19190183948967032, 'classifier__reg_lambda': 0.9625867849183064}, Mean Test Score: 0.9627418118897539\n",
      "2024-10-22 17:46:41,277 | optuna_training | INFO | Params: {'classifier__n_estimators': 149, 'classifier__learning_rate': 0.11026846960368676, 'classifier__max_depth': 5, 'classifier__subsample': 0.7594621343413843, 'classifier__colsample_bytree': 0.7520127114426786, 'classifier__reg_alpha': 0.0548574050280977, 'classifier__reg_lambda': 0.7432786934896908}, Mean Test Score: 0.9607735579215\n",
      "INFO:optuna_training:Params: {'classifier__n_estimators': 149, 'classifier__learning_rate': 0.11026846960368676, 'classifier__max_depth': 5, 'classifier__subsample': 0.7594621343413843, 'classifier__colsample_bytree': 0.7520127114426786, 'classifier__reg_alpha': 0.0548574050280977, 'classifier__reg_lambda': 0.7432786934896908}, Mean Test Score: 0.9607735579215\n",
      "2024-10-22 17:46:41,278 | optuna_training | INFO | Params: {'classifier__n_estimators': 118, 'classifier__learning_rate': 0.1530133151122834, 'classifier__max_depth': 6, 'classifier__subsample': 0.741221000681942, 'classifier__colsample_bytree': 0.8294583115550473, 'classifier__reg_alpha': 0.7329235535842136, 'classifier__reg_lambda': 0.6786182539252718}, Mean Test Score: 0.9607452784104618\n",
      "INFO:optuna_training:Params: {'classifier__n_estimators': 118, 'classifier__learning_rate': 0.1530133151122834, 'classifier__max_depth': 6, 'classifier__subsample': 0.741221000681942, 'classifier__colsample_bytree': 0.8294583115550473, 'classifier__reg_alpha': 0.7329235535842136, 'classifier__reg_lambda': 0.6786182539252718}, Mean Test Score: 0.9607452784104618\n",
      "2024-10-22 17:46:41,280 | optuna_training | INFO | Params: {'classifier__n_estimators': 250, 'classifier__learning_rate': 0.09598292554529314, 'classifier__max_depth': 7, 'classifier__subsample': 0.7800011370250499, 'classifier__colsample_bytree': 0.7871913853188062, 'classifier__reg_alpha': 0.12314340803000459, 'classifier__reg_lambda': 0.9570568280993722}, Mean Test Score: 0.960771733436917\n",
      "INFO:optuna_training:Params: {'classifier__n_estimators': 250, 'classifier__learning_rate': 0.09598292554529314, 'classifier__max_depth': 7, 'classifier__subsample': 0.7800011370250499, 'classifier__colsample_bytree': 0.7871913853188062, 'classifier__reg_alpha': 0.12314340803000459, 'classifier__reg_lambda': 0.9570568280993722}, Mean Test Score: 0.960771733436917\n",
      "2024-10-22 17:46:41,280 | optuna_training | INFO | Params: {'classifier__n_estimators': 134, 'classifier__learning_rate': 0.12228715072077963, 'classifier__max_depth': 6, 'classifier__subsample': 0.7092949929107708, 'classifier__colsample_bytree': 0.8381083391289924, 'classifier__reg_alpha': 0.0007342240268468914, 'classifier__reg_lambda': 0.8074905909021971}, Mean Test Score: 0.9641951963086557\n",
      "INFO:optuna_training:Params: {'classifier__n_estimators': 134, 'classifier__learning_rate': 0.12228715072077963, 'classifier__max_depth': 6, 'classifier__subsample': 0.7092949929107708, 'classifier__colsample_bytree': 0.8381083391289924, 'classifier__reg_alpha': 0.0007342240268468914, 'classifier__reg_lambda': 0.8074905909021971}, Mean Test Score: 0.9641951963086557\n",
      "2024-10-22 17:46:41,281 | optuna_training | INFO | Params: {'classifier__n_estimators': 183, 'classifier__learning_rate': 0.13906315642739728, 'classifier__max_depth': 7, 'classifier__subsample': 0.7003009475202988, 'classifier__colsample_bytree': 0.8045524512461031, 'classifier__reg_alpha': 0.22874321541684153, 'classifier__reg_lambda': 0.8864972227072958}, Mean Test Score: 0.9649855394883202\n",
      "INFO:optuna_training:Params: {'classifier__n_estimators': 183, 'classifier__learning_rate': 0.13906315642739728, 'classifier__max_depth': 7, 'classifier__subsample': 0.7003009475202988, 'classifier__colsample_bytree': 0.8045524512461031, 'classifier__reg_alpha': 0.22874321541684153, 'classifier__reg_lambda': 0.8864972227072958}, Mean Test Score: 0.9649855394883202\n",
      "2024-10-22 17:46:41,282 | optuna_training | INFO | Params: {'classifier__n_estimators': 187, 'classifier__learning_rate': 0.1883326241270034, 'classifier__max_depth': 8, 'classifier__subsample': 0.7025563339720438, 'classifier__colsample_bytree': 0.8670684059538266, 'classifier__reg_alpha': 0.28135620081465007, 'classifier__reg_lambda': 0.7598694822138001}, Mean Test Score: 0.9627700914007923\n",
      "INFO:optuna_training:Params: {'classifier__n_estimators': 187, 'classifier__learning_rate': 0.1883326241270034, 'classifier__max_depth': 8, 'classifier__subsample': 0.7025563339720438, 'classifier__colsample_bytree': 0.8670684059538266, 'classifier__reg_alpha': 0.28135620081465007, 'classifier__reg_lambda': 0.7598694822138001}, Mean Test Score: 0.9627700914007923\n",
      "2024-10-22 17:46:41,283 | optuna_training | INFO | Params: {'classifier__n_estimators': 207, 'classifier__learning_rate': 0.16695910322704985, 'classifier__max_depth': 5, 'classifier__subsample': 0.8963126986216108, 'classifier__colsample_bytree': 0.8971213467649306, 'classifier__reg_alpha': 0.22013690680353537, 'classifier__reg_lambda': 0.6307261613866357}, Mean Test Score: 0.9564821877335781\n",
      "INFO:optuna_training:Params: {'classifier__n_estimators': 207, 'classifier__learning_rate': 0.16695910322704985, 'classifier__max_depth': 5, 'classifier__subsample': 0.8963126986216108, 'classifier__colsample_bytree': 0.8971213467649306, 'classifier__reg_alpha': 0.22013690680353537, 'classifier__reg_lambda': 0.6307261613866357}, Mean Test Score: 0.9564821877335781\n",
      "2024-10-22 17:46:41,285 | optuna_training | INFO | Params: {'classifier__n_estimators': 162, 'classifier__learning_rate': 0.13908445537435962, 'classifier__max_depth': 7, 'classifier__subsample': 0.7286927809462684, 'classifier__colsample_bytree': 0.8097003305198308, 'classifier__reg_alpha': 0.12719114741712, 'classifier__reg_lambda': 0.8682484136257947}, Mean Test Score: 0.963627575613115\n",
      "INFO:optuna_training:Params: {'classifier__n_estimators': 162, 'classifier__learning_rate': 0.13908445537435962, 'classifier__max_depth': 7, 'classifier__subsample': 0.7286927809462684, 'classifier__colsample_bytree': 0.8097003305198308, 'classifier__reg_alpha': 0.12719114741712, 'classifier__reg_lambda': 0.8682484136257947}, Mean Test Score: 0.963627575613115\n",
      "2024-10-22 17:46:41,286 | optuna_training | INFO | Params: {'classifier__n_estimators': 199, 'classifier__learning_rate': 0.1478325646618497, 'classifier__max_depth': 7, 'classifier__subsample': 0.7007787414866791, 'classifier__colsample_bytree': 0.7983530021364166, 'classifier__reg_alpha': 0.21419238672315016, 'classifier__reg_lambda': 0.8839482639577956}, Mean Test Score: 0.962819352484536\n",
      "INFO:optuna_training:Params: {'classifier__n_estimators': 199, 'classifier__learning_rate': 0.1478325646618497, 'classifier__max_depth': 7, 'classifier__subsample': 0.7007787414866791, 'classifier__colsample_bytree': 0.7983530021364166, 'classifier__reg_alpha': 0.21419238672315016, 'classifier__reg_lambda': 0.8839482639577956}, Mean Test Score: 0.962819352484536\n",
      "2024-10-22 17:46:41,287 | optuna_training | INFO | Params: {'classifier__n_estimators': 215, 'classifier__learning_rate': 0.1260848763479123, 'classifier__max_depth': 6, 'classifier__subsample': 0.7159222816952715, 'classifier__colsample_bytree': 0.7764960465951889, 'classifier__reg_alpha': 0.5075134721422504, 'classifier__reg_lambda': 0.9523190596377578}, Mean Test Score: 0.9605971302623137\n",
      "INFO:optuna_training:Params: {'classifier__n_estimators': 215, 'classifier__learning_rate': 0.1260848763479123, 'classifier__max_depth': 6, 'classifier__subsample': 0.7159222816952715, 'classifier__colsample_bytree': 0.7764960465951889, 'classifier__reg_alpha': 0.5075134721422504, 'classifier__reg_lambda': 0.9523190596377578}, Mean Test Score: 0.9605971302623137\n",
      "2024-10-22 17:46:41,291 | optuna_training | INFO | Params: {'classifier__n_estimators': 111, 'classifier__learning_rate': 0.11387865537478517, 'classifier__max_depth': 6, 'classifier__subsample': 0.7308196867125466, 'classifier__colsample_bytree': 0.7637086252133418, 'classifier__reg_alpha': 0.16597658162986564, 'classifier__reg_lambda': 0.7962840578372649}, Mean Test Score: 0.9628917845224854\n",
      "INFO:optuna_training:Params: {'classifier__n_estimators': 111, 'classifier__learning_rate': 0.11387865537478517, 'classifier__max_depth': 6, 'classifier__subsample': 0.7308196867125466, 'classifier__colsample_bytree': 0.7637086252133418, 'classifier__reg_alpha': 0.16597658162986564, 'classifier__reg_lambda': 0.7962840578372649}, Mean Test Score: 0.9628917845224854\n",
      "2024-10-22 17:46:41,292 | optuna_training | INFO | Params: {'classifier__n_estimators': 127, 'classifier__learning_rate': 0.15681762450601644, 'classifier__max_depth': 7, 'classifier__subsample': 0.7462559967713825, 'classifier__colsample_bytree': 0.8187737417582759, 'classifier__reg_alpha': 0.25842732939591473, 'classifier__reg_lambda': 0.8356534191997269}, Mean Test Score: 0.9614894856719106\n",
      "INFO:optuna_training:Params: {'classifier__n_estimators': 127, 'classifier__learning_rate': 0.15681762450601644, 'classifier__max_depth': 7, 'classifier__subsample': 0.7462559967713825, 'classifier__colsample_bytree': 0.8187737417582759, 'classifier__reg_alpha': 0.25842732939591473, 'classifier__reg_lambda': 0.8356534191997269}, Mean Test Score: 0.9614894856719106\n",
      "2024-10-22 17:46:41,292 | optuna_training | INFO | Params: {'classifier__n_estimators': 181, 'classifier__learning_rate': 0.17516880163898008, 'classifier__max_depth': 7, 'classifier__subsample': 0.7166149638265137, 'classifier__colsample_bytree': 0.8314761977422989, 'classifier__reg_alpha': 0.07848663520115667, 'classifier__reg_lambda': 0.8909025276590425}, Mean Test Score: 0.9614860191512026\n",
      "INFO:optuna_training:Params: {'classifier__n_estimators': 181, 'classifier__learning_rate': 0.17516880163898008, 'classifier__max_depth': 7, 'classifier__subsample': 0.7166149638265137, 'classifier__colsample_bytree': 0.8314761977422989, 'classifier__reg_alpha': 0.07848663520115667, 'classifier__reg_lambda': 0.8909025276590425}, Mean Test Score: 0.9614860191512026\n",
      "2024-10-22 17:46:41,293 | optuna_training | INFO | Params: {'classifier__n_estimators': 139, 'classifier__learning_rate': 0.10265378384954554, 'classifier__max_depth': 8, 'classifier__subsample': 0.7312952272700857, 'classifier__colsample_bytree': 0.732760114315981, 'classifier__reg_alpha': 0.03403015949236504, 'classifier__reg_lambda': 0.9951555204303614}, Mean Test Score: 0.9655763311380664\n",
      "INFO:optuna_training:Params: {'classifier__n_estimators': 139, 'classifier__learning_rate': 0.10265378384954554, 'classifier__max_depth': 8, 'classifier__subsample': 0.7312952272700857, 'classifier__colsample_bytree': 0.732760114315981, 'classifier__reg_alpha': 0.03403015949236504, 'classifier__reg_lambda': 0.9951555204303614}, Mean Test Score: 0.9655763311380664\n",
      "2024-10-22 17:46:41,294 | optuna_training | INFO | Params: {'classifier__n_estimators': 164, 'classifier__learning_rate': 0.1025578316299331, 'classifier__max_depth': 9, 'classifier__subsample': 0.7410556599641195, 'classifier__colsample_bytree': 0.7173286978575962, 'classifier__reg_alpha': 0.03794235294907217, 'classifier__reg_lambda': 0.9371236497941591}, Mean Test Score: 0.9641740322874917\n",
      "INFO:optuna_training:Params: {'classifier__n_estimators': 164, 'classifier__learning_rate': 0.1025578316299331, 'classifier__max_depth': 9, 'classifier__subsample': 0.7410556599641195, 'classifier__colsample_bytree': 0.7173286978575962, 'classifier__reg_alpha': 0.03794235294907217, 'classifier__reg_lambda': 0.9371236497941591}, Mean Test Score: 0.9641740322874917\n",
      "2024-10-22 17:46:41,295 | optuna_training | INFO | Params: {'classifier__n_estimators': 276, 'classifier__learning_rate': 0.07574327955660445, 'classifier__max_depth': 8, 'classifier__subsample': 0.7583695990182058, 'classifier__colsample_bytree': 0.7310249080590836, 'classifier__reg_alpha': 0.037166192446193694, 'classifier__reg_lambda': 0.9935672386308884}, Mean Test Score: 0.9622532149183984\n",
      "INFO:optuna_training:Params: {'classifier__n_estimators': 276, 'classifier__learning_rate': 0.07574327955660445, 'classifier__max_depth': 8, 'classifier__subsample': 0.7583695990182058, 'classifier__colsample_bytree': 0.7310249080590836, 'classifier__reg_alpha': 0.037166192446193694, 'classifier__reg_lambda': 0.9935672386308884}, Mean Test Score: 0.9622532149183984\n",
      "2024-10-22 17:46:41,295 | optuna_training | INFO | Params: {'classifier__n_estimators': 152, 'classifier__learning_rate': 0.08363319806232807, 'classifier__max_depth': 9, 'classifier__subsample': 0.7730763759396103, 'classifier__colsample_bytree': 0.7400012489586439, 'classifier__reg_alpha': 0.3451514272015326, 'classifier__reg_lambda': 0.5017584251554232}, Mean Test Score: 0.9592391663871085\n",
      "INFO:optuna_training:Params: {'classifier__n_estimators': 152, 'classifier__learning_rate': 0.08363319806232807, 'classifier__max_depth': 9, 'classifier__subsample': 0.7730763759396103, 'classifier__colsample_bytree': 0.7400012489586439, 'classifier__reg_alpha': 0.3451514272015326, 'classifier__reg_lambda': 0.5017584251554232}, Mean Test Score: 0.9592391663871085\n",
      "2024-10-22 17:46:41,297 | optuna_training | INFO | Params: {'classifier__n_estimators': 139, 'classifier__learning_rate': 0.13761136404092006, 'classifier__max_depth': 8, 'classifier__subsample': 0.7115993842326237, 'classifier__colsample_bytree': 0.8825086486460754, 'classifier__reg_alpha': 0.15042280419859222, 'classifier__reg_lambda': 0.9392133302692861}, Mean Test Score: 0.9643185314664736\n",
      "INFO:optuna_training:Params: {'classifier__n_estimators': 139, 'classifier__learning_rate': 0.13761136404092006, 'classifier__max_depth': 8, 'classifier__subsample': 0.7115993842326237, 'classifier__colsample_bytree': 0.8825086486460754, 'classifier__reg_alpha': 0.15042280419859222, 'classifier__reg_lambda': 0.9392133302692861}, Mean Test Score: 0.9643185314664736\n",
      "2024-10-22 17:46:41,298 | optuna_training | INFO | Params: {'classifier__n_estimators': 145, 'classifier__learning_rate': 0.12540163126935133, 'classifier__max_depth': 7, 'classifier__subsample': 0.7277442673841817, 'classifier__colsample_bytree': 0.8522289244801254, 'classifier__reg_alpha': 0.10535472364071252, 'classifier__reg_lambda': 0.85855090742806}, Mean Test Score: 0.9629180571004821\n",
      "INFO:optuna_training:Params: {'classifier__n_estimators': 145, 'classifier__learning_rate': 0.12540163126935133, 'classifier__max_depth': 7, 'classifier__subsample': 0.7277442673841817, 'classifier__colsample_bytree': 0.8522289244801254, 'classifier__reg_alpha': 0.10535472364071252, 'classifier__reg_lambda': 0.85855090742806}, Mean Test Score: 0.9629180571004821\n",
      "2024-10-22 17:46:41,300 | optuna_training | INFO | Params: {'classifier__n_estimators': 239, 'classifier__learning_rate': 0.14299186892491733, 'classifier__max_depth': 6, 'classifier__subsample': 0.72453172989688, 'classifier__colsample_bytree': 0.9083849301073406, 'classifier__reg_alpha': 0.23472685443938768, 'classifier__reg_lambda': 0.8949426900881515}, Mean Test Score: 0.9642973674453096\n",
      "INFO:optuna_training:Params: {'classifier__n_estimators': 239, 'classifier__learning_rate': 0.14299186892491733, 'classifier__max_depth': 6, 'classifier__subsample': 0.72453172989688, 'classifier__colsample_bytree': 0.9083849301073406, 'classifier__reg_alpha': 0.23472685443938768, 'classifier__reg_lambda': 0.8949426900881515}, Mean Test Score: 0.9642973674453096\n",
      "2024-10-22 17:46:41,301 | optuna_training | INFO | Params: {'classifier__n_estimators': 179, 'classifier__learning_rate': 0.10763166614348972, 'classifier__max_depth': 8, 'classifier__subsample': 0.7498353608367747, 'classifier__colsample_bytree': 0.7842129102512387, 'classifier__reg_alpha': 0.07745164540701008, 'classifier__reg_lambda': 0.9748371599774769}, Mean Test Score: 0.9620804362283785\n",
      "INFO:optuna_training:Params: {'classifier__n_estimators': 179, 'classifier__learning_rate': 0.10763166614348972, 'classifier__max_depth': 8, 'classifier__subsample': 0.7498353608367747, 'classifier__colsample_bytree': 0.7842129102512387, 'classifier__reg_alpha': 0.07745164540701008, 'classifier__reg_lambda': 0.9748371599774769}, Mean Test Score: 0.9620804362283785\n",
      "2024-10-22 17:46:41,302 | optuna_training | INFO | Params: {'classifier__n_estimators': 121, 'classifier__learning_rate': 0.11496083345249368, 'classifier__max_depth': 10, 'classifier__subsample': 0.7000467172672276, 'classifier__colsample_bytree': 0.764960454337335, 'classifier__reg_alpha': 0.9940017043856184, 'classifier__reg_lambda': 0.7829988064566803}, Mean Test Score: 0.9571191153015401\n",
      "INFO:optuna_training:Params: {'classifier__n_estimators': 121, 'classifier__learning_rate': 0.11496083345249368, 'classifier__max_depth': 10, 'classifier__subsample': 0.7000467172672276, 'classifier__colsample_bytree': 0.764960454337335, 'classifier__reg_alpha': 0.9940017043856184, 'classifier__reg_lambda': 0.7829988064566803}, Mean Test Score: 0.9571191153015401\n",
      "2024-10-22 17:46:41,304 | optuna_training | INFO | Params: {'classifier__n_estimators': 197, 'classifier__learning_rate': 0.09876805291006774, 'classifier__max_depth': 7, 'classifier__subsample': 0.7336323349386819, 'classifier__colsample_bytree': 0.794682184356377, 'classifier__reg_alpha': 0.9201959771525607, 'classifier__reg_lambda': 0.9989290555979815}, Mean Test Score: 0.9579818905191543\n",
      "INFO:optuna_training:Params: {'classifier__n_estimators': 197, 'classifier__learning_rate': 0.09876805291006774, 'classifier__max_depth': 7, 'classifier__subsample': 0.7336323349386819, 'classifier__colsample_bytree': 0.794682184356377, 'classifier__reg_alpha': 0.9201959771525607, 'classifier__reg_lambda': 0.9989290555979815}, Mean Test Score: 0.9579818905191543\n",
      "2024-10-22 17:46:41,304 | optuna_training | INFO | Params: {'classifier__n_estimators': 107, 'classifier__learning_rate': 0.1873387178611133, 'classifier__max_depth': 5, 'classifier__subsample': 0.7099676104536395, 'classifier__colsample_bytree': 0.9268448458749785, 'classifier__reg_alpha': 0.16740592870439625, 'classifier__reg_lambda': 0.8254495216180524}, Mean Test Score: 0.9635055411362419\n",
      "INFO:optuna_training:Params: {'classifier__n_estimators': 107, 'classifier__learning_rate': 0.1873387178611133, 'classifier__max_depth': 5, 'classifier__subsample': 0.7099676104536395, 'classifier__colsample_bytree': 0.9268448458749785, 'classifier__reg_alpha': 0.16740592870439625, 'classifier__reg_lambda': 0.8254495216180524}, Mean Test Score: 0.9635055411362419\n",
      "2024-10-22 17:46:41,306 | optuna_training | INFO | Params: {'classifier__n_estimators': 143, 'classifier__learning_rate': 0.13272390454191924, 'classifier__max_depth': 6, 'classifier__subsample': 0.9370935666399405, 'classifier__colsample_bytree': 0.8239130508416403, 'classifier__reg_alpha': 0.030839878940787935, 'classifier__reg_lambda': 0.7220419825789802}, Mean Test Score: 0.9606764953416788\n",
      "INFO:optuna_training:Params: {'classifier__n_estimators': 143, 'classifier__learning_rate': 0.13272390454191924, 'classifier__max_depth': 6, 'classifier__subsample': 0.9370935666399405, 'classifier__colsample_bytree': 0.8239130508416403, 'classifier__reg_alpha': 0.030839878940787935, 'classifier__reg_lambda': 0.7220419825789802}, Mean Test Score: 0.9606764953416788\n",
      "2024-10-22 17:46:41,307 | optuna_training | INFO | Params: {'classifier__n_estimators': 131, 'classifier__learning_rate': 0.14752228149908408, 'classifier__max_depth': 5, 'classifier__subsample': 0.7268176707044293, 'classifier__colsample_bytree': 0.9397492150809839, 'classifier__reg_alpha': 0.3027433638527411, 'classifier__reg_lambda': 0.9277256105404096}, Mean Test Score: 0.9622249354073602\n",
      "INFO:optuna_training:Params: {'classifier__n_estimators': 131, 'classifier__learning_rate': 0.14752228149908408, 'classifier__max_depth': 5, 'classifier__subsample': 0.7268176707044293, 'classifier__colsample_bytree': 0.9397492150809839, 'classifier__reg_alpha': 0.3027433638527411, 'classifier__reg_lambda': 0.9277256105404096}, Mean Test Score: 0.9622249354073602\n",
      "2024-10-22 17:46:41,309 | optuna_training | INFO | Params: {'classifier__n_estimators': 168, 'classifier__learning_rate': 0.031697461022273665, 'classifier__max_depth': 7, 'classifier__subsample': 0.7421813934743537, 'classifier__colsample_bytree': 0.9080813165470686, 'classifier__reg_alpha': 0.10379492621409209, 'classifier__reg_lambda': 0.7588060321838377}, Mean Test Score: 0.95773469639988\n",
      "INFO:optuna_training:Params: {'classifier__n_estimators': 168, 'classifier__learning_rate': 0.031697461022273665, 'classifier__max_depth': 7, 'classifier__subsample': 0.7421813934743537, 'classifier__colsample_bytree': 0.9080813165470686, 'classifier__reg_alpha': 0.10379492621409209, 'classifier__reg_lambda': 0.7588060321838377}, Mean Test Score: 0.95773469639988\n",
      "2024-10-22 17:46:41,311 | optuna_training | INFO | Params: {'classifier__n_estimators': 157, 'classifier__learning_rate': 0.15375975245993168, 'classifier__max_depth': 9, 'classifier__subsample': 0.7341087487577831, 'classifier__colsample_bytree': 0.8185463916065093, 'classifier__reg_alpha': 0.19801552800051503, 'classifier__reg_lambda': 0.8822897767731388}, Mean Test Score: 0.9636292176492398\n",
      "INFO:optuna_training:Params: {'classifier__n_estimators': 157, 'classifier__learning_rate': 0.15375975245993168, 'classifier__max_depth': 9, 'classifier__subsample': 0.7341087487577831, 'classifier__colsample_bytree': 0.8185463916065093, 'classifier__reg_alpha': 0.19801552800051503, 'classifier__reg_lambda': 0.8822897767731388}, Mean Test Score: 0.9636292176492398\n",
      "2024-10-22 17:46:41,312 | optuna_training | INFO | Params: {'classifier__n_estimators': 155, 'classifier__learning_rate': 0.16263850558620227, 'classifier__max_depth': 9, 'classifier__subsample': 0.7097995397354794, 'classifier__colsample_bytree': 0.8072544802848323, 'classifier__reg_alpha': 0.14567953423175858, 'classifier__reg_lambda': 0.8592614773910833}, Mean Test Score: 0.965531996162697\n",
      "INFO:optuna_training:Params: {'classifier__n_estimators': 155, 'classifier__learning_rate': 0.16263850558620227, 'classifier__max_depth': 9, 'classifier__subsample': 0.7097995397354794, 'classifier__colsample_bytree': 0.8072544802848323, 'classifier__reg_alpha': 0.14567953423175858, 'classifier__reg_lambda': 0.8592614773910833}, Mean Test Score: 0.965531996162697\n",
      "2024-10-22 17:46:41,313 | optuna_training | INFO | Params: {'classifier__n_estimators': 152, 'classifier__learning_rate': 0.16279703223789407, 'classifier__max_depth': 9, 'classifier__subsample': 0.7097613054889262, 'classifier__colsample_bytree': 0.7032900966055635, 'classifier__reg_alpha': 0.14464144857343902, 'classifier__reg_lambda': 0.8568259527304766}, Mean Test Score: 0.9642495659492323\n",
      "INFO:optuna_training:Params: {'classifier__n_estimators': 152, 'classifier__learning_rate': 0.16279703223789407, 'classifier__max_depth': 9, 'classifier__subsample': 0.7097613054889262, 'classifier__colsample_bytree': 0.7032900966055635, 'classifier__reg_alpha': 0.14464144857343902, 'classifier__reg_lambda': 0.8568259527304766}, Mean Test Score: 0.9642495659492323\n",
      "2024-10-22 17:46:41,313 | optuna_training | INFO | Params: {'classifier__n_estimators': 136, 'classifier__learning_rate': 0.17286743864602697, 'classifier__max_depth': 8, 'classifier__subsample': 0.7223848616115226, 'classifier__colsample_bytree': 0.8634578318596307, 'classifier__reg_alpha': 0.08807785710791859, 'classifier__reg_lambda': 0.8326977807583532}, Mean Test Score: 0.9633573929880936\n",
      "INFO:optuna_training:Params: {'classifier__n_estimators': 136, 'classifier__learning_rate': 0.17286743864602697, 'classifier__max_depth': 8, 'classifier__subsample': 0.7223848616115226, 'classifier__colsample_bytree': 0.8634578318596307, 'classifier__reg_alpha': 0.08807785710791859, 'classifier__reg_lambda': 0.8326977807583532}, Mean Test Score: 0.9633573929880936\n",
      "2024-10-22 17:46:41,315 | optuna_training | INFO | Params: {'classifier__n_estimators': 174, 'classifier__learning_rate': 0.12163430457221479, 'classifier__max_depth': 10, 'classifier__subsample': 0.7119844547883818, 'classifier__colsample_bytree': 0.8022486248313992, 'classifier__reg_alpha': 0.057866133455965085, 'classifier__reg_lambda': 0.952217690223052}, Mean Test Score: 0.9649129485436493\n",
      "INFO:optuna_training:Params: {'classifier__n_estimators': 174, 'classifier__learning_rate': 0.12163430457221479, 'classifier__max_depth': 10, 'classifier__subsample': 0.7119844547883818, 'classifier__colsample_bytree': 0.8022486248313992, 'classifier__reg_alpha': 0.057866133455965085, 'classifier__reg_lambda': 0.952217690223052}, Mean Test Score: 0.9649129485436493\n",
      "2024-10-22 17:46:41,316 | optuna_training | INFO | Params: {'classifier__n_estimators': 187, 'classifier__learning_rate': 0.11886460298830773, 'classifier__max_depth': 10, 'classifier__subsample': 0.7101779426849272, 'classifier__colsample_bytree': 0.7988184586000731, 'classifier__reg_alpha': 0.2516937123748576, 'classifier__reg_lambda': 0.9097707548291076}, Mean Test Score: 0.9640999582134177\n",
      "INFO:optuna_training:Params: {'classifier__n_estimators': 187, 'classifier__learning_rate': 0.11886460298830773, 'classifier__max_depth': 10, 'classifier__subsample': 0.7101779426849272, 'classifier__colsample_bytree': 0.7988184586000731, 'classifier__reg_alpha': 0.2516937123748576, 'classifier__reg_lambda': 0.9097707548291076}, Mean Test Score: 0.9640999582134177\n",
      "2024-10-22 17:46:41,320 | optuna_training | INFO | Params: {'classifier__n_estimators': 171, 'classifier__learning_rate': 0.13980742116966008, 'classifier__max_depth': 10, 'classifier__subsample': 0.9817483958582723, 'classifier__colsample_bytree': 0.8415432376439248, 'classifier__reg_alpha': 0.06287117825773889, 'classifier__reg_lambda': 0.9638912909958495}, Mean Test Score: 0.9585794327618575\n",
      "INFO:optuna_training:Params: {'classifier__n_estimators': 171, 'classifier__learning_rate': 0.13980742116966008, 'classifier__max_depth': 10, 'classifier__subsample': 0.9817483958582723, 'classifier__colsample_bytree': 0.8415432376439248, 'classifier__reg_alpha': 0.06287117825773889, 'classifier__reg_lambda': 0.9638912909958495}, Mean Test Score: 0.9585794327618575\n",
      "2024-10-22 17:46:41,321 | optuna_training | INFO | Params: {'classifier__n_estimators': 166, 'classifier__learning_rate': 0.12616967871848617, 'classifier__max_depth': 9, 'classifier__subsample': 0.7003381340294468, 'classifier__colsample_bytree': 0.7557770346251104, 'classifier__reg_alpha': 0.1663533951672295, 'classifier__reg_lambda': 0.935716339942594}, Mean Test Score: 0.9677242968377563\n",
      "INFO:optuna_training:Params: {'classifier__n_estimators': 166, 'classifier__learning_rate': 0.12616967871848617, 'classifier__max_depth': 9, 'classifier__subsample': 0.7003381340294468, 'classifier__colsample_bytree': 0.7557770346251104, 'classifier__reg_alpha': 0.1663533951672295, 'classifier__reg_lambda': 0.935716339942594}, Mean Test Score: 0.9677242968377563\n",
      "2024-10-22 17:46:41,322 | optuna_training | INFO | Params: {'classifier__n_estimators': 164, 'classifier__learning_rate': 0.1993971801523344, 'classifier__max_depth': 9, 'classifier__subsample': 0.7009969919740711, 'classifier__colsample_bytree': 0.7568141724583797, 'classifier__reg_alpha': 0.18515581412667464, 'classifier__reg_lambda': 0.9082983768407193}, Mean Test Score: 0.9627947219426641\n",
      "INFO:optuna_training:Params: {'classifier__n_estimators': 164, 'classifier__learning_rate': 0.1993971801523344, 'classifier__max_depth': 9, 'classifier__subsample': 0.7009969919740711, 'classifier__colsample_bytree': 0.7568141724583797, 'classifier__reg_alpha': 0.18515581412667464, 'classifier__reg_lambda': 0.9082983768407193}, Mean Test Score: 0.9627947219426641\n",
      "2024-10-22 17:46:41,328 | optuna_training | INFO | Params: {'classifier__n_estimators': 223, 'classifier__learning_rate': 0.16638158525042163, 'classifier__max_depth': 9, 'classifier__subsample': 0.7543518909870686, 'classifier__colsample_bytree': 0.7402020381125891, 'classifier__reg_alpha': 0.2764243079700297, 'classifier__reg_lambda': 0.7993825764356498}, Mean Test Score: 0.9663449864929285\n",
      "INFO:optuna_training:Params: {'classifier__n_estimators': 223, 'classifier__learning_rate': 0.16638158525042163, 'classifier__max_depth': 9, 'classifier__subsample': 0.7543518909870686, 'classifier__colsample_bytree': 0.7402020381125891, 'classifier__reg_alpha': 0.2764243079700297, 'classifier__reg_lambda': 0.7993825764356498}, Mean Test Score: 0.9663449864929285\n",
      "2024-10-22 17:46:41,331 | optuna_training | INFO | Params: {'classifier__n_estimators': 238, 'classifier__learning_rate': 0.17633014195451524, 'classifier__max_depth': 9, 'classifier__subsample': 0.7201017734054896, 'classifier__colsample_bytree': 0.7325571532436151, 'classifier__reg_alpha': 0.28096470062753653, 'classifier__reg_lambda': 0.8035575507793797}, Mean Test Score: 0.9669835560970155\n",
      "INFO:optuna_training:Params: {'classifier__n_estimators': 238, 'classifier__learning_rate': 0.17633014195451524, 'classifier__max_depth': 9, 'classifier__subsample': 0.7201017734054896, 'classifier__colsample_bytree': 0.7325571532436151, 'classifier__reg_alpha': 0.28096470062753653, 'classifier__reg_lambda': 0.8035575507793797}, Mean Test Score: 0.9669835560970155\n",
      "2024-10-22 17:46:41,334 | optuna_training | INFO | Params: {'classifier__n_estimators': 241, 'classifier__learning_rate': 0.16647453934390502, 'classifier__max_depth': 9, 'classifier__subsample': 0.7185934779206148, 'classifier__colsample_bytree': 0.7393685159344797, 'classifier__reg_alpha': 0.3123892431804178, 'classifier__reg_lambda': 0.7813277272731145}, Mean Test Score: 0.963578132080913\n",
      "INFO:optuna_training:Params: {'classifier__n_estimators': 241, 'classifier__learning_rate': 0.16647453934390502, 'classifier__max_depth': 9, 'classifier__subsample': 0.7185934779206148, 'classifier__colsample_bytree': 0.7393685159344797, 'classifier__reg_alpha': 0.3123892431804178, 'classifier__reg_lambda': 0.7813277272731145}, Mean Test Score: 0.963578132080913\n",
      "2024-10-22 17:46:41,338 | optuna_training | INFO | Params: {'classifier__n_estimators': 261, 'classifier__learning_rate': 0.17838662020884322, 'classifier__max_depth': 9, 'classifier__subsample': 0.7525205878537958, 'classifier__colsample_bytree': 0.7247681903776223, 'classifier__reg_alpha': 0.3625361046758192, 'classifier__reg_lambda': 0.8083540932871955}, Mean Test Score: 0.963604587107368\n",
      "INFO:optuna_training:Params: {'classifier__n_estimators': 261, 'classifier__learning_rate': 0.17838662020884322, 'classifier__max_depth': 9, 'classifier__subsample': 0.7525205878537958, 'classifier__colsample_bytree': 0.7247681903776223, 'classifier__reg_alpha': 0.3625361046758192, 'classifier__reg_lambda': 0.8083540932871955}, Mean Test Score: 0.963604587107368\n",
      "2024-10-22 17:46:41,384 | optuna_training | INFO | Params: {'classifier__n_estimators': 280, 'classifier__learning_rate': 0.18940415521968362, 'classifier__max_depth': 9, 'classifier__subsample': 0.7378388795657549, 'classifier__colsample_bytree': 0.7133966451876232, 'classifier__reg_alpha': 0.39573801042620443, 'classifier__reg_lambda': 0.7328065417061758}, Mean Test Score: 0.9628392158247554\n",
      "INFO:optuna_training:Params: {'classifier__n_estimators': 280, 'classifier__learning_rate': 0.18940415521968362, 'classifier__max_depth': 9, 'classifier__subsample': 0.7378388795657549, 'classifier__colsample_bytree': 0.7133966451876232, 'classifier__reg_alpha': 0.39573801042620443, 'classifier__reg_lambda': 0.7328065417061758}, Mean Test Score: 0.9628392158247554\n",
      "2024-10-22 17:46:41,387 | optuna_training | INFO | Params: {'classifier__n_estimators': 228, 'classifier__learning_rate': 0.1698547003540672, 'classifier__max_depth': 9, 'classifier__subsample': 0.8073248851089376, 'classifier__colsample_bytree': 0.7343866420516233, 'classifier__reg_alpha': 0.47249956759072853, 'classifier__reg_lambda': 0.6819286309725479}, Mean Test Score: 0.9636077122728958\n",
      "INFO:optuna_training:Params: {'classifier__n_estimators': 228, 'classifier__learning_rate': 0.1698547003540672, 'classifier__max_depth': 9, 'classifier__subsample': 0.8073248851089376, 'classifier__colsample_bytree': 0.7343866420516233, 'classifier__reg_alpha': 0.47249956759072853, 'classifier__reg_lambda': 0.6819286309725479}, Mean Test Score: 0.9636077122728958\n",
      "2024-10-22 17:46:41,389 | optuna_training | INFO | Params: {'classifier__n_estimators': 217, 'classifier__learning_rate': 0.18531896648879914, 'classifier__max_depth': 8, 'classifier__subsample': 0.7224855853933912, 'classifier__colsample_bytree': 0.7212988159075836, 'classifier__reg_alpha': 0.2700013123020385, 'classifier__reg_lambda': 0.8470451367492081}, Mean Test Score: 0.9649375790855214\n",
      "INFO:optuna_training:Params: {'classifier__n_estimators': 217, 'classifier__learning_rate': 0.18531896648879914, 'classifier__max_depth': 8, 'classifier__subsample': 0.7224855853933912, 'classifier__colsample_bytree': 0.7212988159075836, 'classifier__reg_alpha': 0.2700013123020385, 'classifier__reg_lambda': 0.8470451367492081}, Mean Test Score: 0.9649375790855214\n",
      "2024-10-22 17:46:41,390 | optuna_training | INFO | Params: {'classifier__n_estimators': 239, 'classifier__learning_rate': 0.15875371722849158, 'classifier__max_depth': 10, 'classifier__subsample': 0.7672011075237126, 'classifier__colsample_bytree': 0.744564989403074, 'classifier__reg_alpha': 0.12502662099920173, 'classifier__reg_lambda': 0.360098550723322}, Mean Test Score: 0.9643433444568039\n",
      "INFO:optuna_training:Params: {'classifier__n_estimators': 239, 'classifier__learning_rate': 0.15875371722849158, 'classifier__max_depth': 10, 'classifier__subsample': 0.7672011075237126, 'classifier__colsample_bytree': 0.744564989403074, 'classifier__reg_alpha': 0.12502662099920173, 'classifier__reg_lambda': 0.360098550723322}, Mean Test Score: 0.9643433444568039\n",
      "2024-10-22 17:46:41,391 | optuna_training | INFO | Params: {'classifier__n_estimators': 257, 'classifier__learning_rate': 0.1769836084701841, 'classifier__max_depth': 4, 'classifier__subsample': 0.8741133746543993, 'classifier__colsample_bytree': 0.7589486040278135, 'classifier__reg_alpha': 0.4291222706011004, 'classifier__reg_lambda': 0.6078450351463339}, Mean Test Score: 0.9585741417565667\n",
      "INFO:optuna_training:Params: {'classifier__n_estimators': 257, 'classifier__learning_rate': 0.1769836084701841, 'classifier__max_depth': 4, 'classifier__subsample': 0.8741133746543993, 'classifier__colsample_bytree': 0.7589486040278135, 'classifier__reg_alpha': 0.4291222706011004, 'classifier__reg_lambda': 0.6078450351463339}, Mean Test Score: 0.9585741417565667\n",
      "2024-10-22 17:46:41,392 | optuna_training | INFO | Params: {'classifier__n_estimators': 224, 'classifier__learning_rate': 0.08818319125092206, 'classifier__max_depth': 9, 'classifier__subsample': 0.7470551583939116, 'classifier__colsample_bytree': 0.7280491983873358, 'classifier__reg_alpha': 0.29304045847004634, 'classifier__reg_lambda': 0.7554568070018896}, Mean Test Score: 0.9614367580674589\n",
      "INFO:optuna_training:Params: {'classifier__n_estimators': 224, 'classifier__learning_rate': 0.08818319125092206, 'classifier__max_depth': 9, 'classifier__subsample': 0.7470551583939116, 'classifier__colsample_bytree': 0.7280491983873358, 'classifier__reg_alpha': 0.29304045847004634, 'classifier__reg_lambda': 0.7554568070018896}, Mean Test Score: 0.9614367580674589\n",
      "2024-10-22 17:46:41,393 | optuna_training | INFO | Params: {'classifier__n_estimators': 247, 'classifier__learning_rate': 0.1927400375033011, 'classifier__max_depth': 8, 'classifier__subsample': 0.757181856696444, 'classifier__colsample_bytree': 0.7485868956057901, 'classifier__reg_alpha': 0.20601482876355803, 'classifier__reg_lambda': 0.9311574558887098}, Mean Test Score: 0.9649605675912684\n",
      "INFO:optuna_training:Params: {'classifier__n_estimators': 247, 'classifier__learning_rate': 0.1927400375033011, 'classifier__max_depth': 8, 'classifier__subsample': 0.757181856696444, 'classifier__colsample_bytree': 0.7485868956057901, 'classifier__reg_alpha': 0.20601482876355803, 'classifier__reg_lambda': 0.9311574558887098}, Mean Test Score: 0.9649605675912684\n",
      "2024-10-22 17:46:41,406 | optuna_training | INFO | Params: {'classifier__n_estimators': 211, 'classifier__learning_rate': 0.12853602959120294, 'classifier__max_depth': 9, 'classifier__subsample': 0.706456010782446, 'classifier__colsample_bytree': 0.768438189257405, 'classifier__reg_alpha': 0.24083610418108584, 'classifier__reg_lambda': 0.8754225845818138}, Mean Test Score: 0.9642003048654884\n",
      "INFO:optuna_training:Params: {'classifier__n_estimators': 211, 'classifier__learning_rate': 0.12853602959120294, 'classifier__max_depth': 9, 'classifier__subsample': 0.706456010782446, 'classifier__colsample_bytree': 0.768438189257405, 'classifier__reg_alpha': 0.24083610418108584, 'classifier__reg_lambda': 0.8754225845818138}, Mean Test Score: 0.9642003048654884\n",
      "2024-10-22 17:46:41,408 | optuna_training | INFO | Params: {'classifier__n_estimators': 152, 'classifier__learning_rate': 0.1642944608833442, 'classifier__max_depth': 8, 'classifier__subsample': 0.7140475001160891, 'classifier__colsample_bytree': 0.7779083438151754, 'classifier__reg_alpha': 0.22223598978488995, 'classifier__reg_lambda': 0.9091141811136443}, Mean Test Score: 0.9633573929880936\n",
      "INFO:optuna_training:Params: {'classifier__n_estimators': 152, 'classifier__learning_rate': 0.1642944608833442, 'classifier__max_depth': 8, 'classifier__subsample': 0.7140475001160891, 'classifier__colsample_bytree': 0.7779083438151754, 'classifier__reg_alpha': 0.22223598978488995, 'classifier__reg_lambda': 0.9091141811136443}, Mean Test Score: 0.9633573929880936\n",
      "2024-10-22 17:46:41,410 | optuna_training | INFO | Params: {'classifier__n_estimators': 235, 'classifier__learning_rate': 0.1813873975011756, 'classifier__max_depth': 9, 'classifier__subsample': 0.7287309092978536, 'classifier__colsample_bytree': 0.8112556442069049, 'classifier__reg_alpha': 0.16998281396739348, 'classifier__reg_lambda': 0.8149561624615158}, Mean Test Score: 0.9662167016849997\n",
      "INFO:optuna_training:Params: {'classifier__n_estimators': 235, 'classifier__learning_rate': 0.1813873975011756, 'classifier__max_depth': 9, 'classifier__subsample': 0.7287309092978536, 'classifier__colsample_bytree': 0.8112556442069049, 'classifier__reg_alpha': 0.16998281396739348, 'classifier__reg_lambda': 0.8149561624615158}, Mean Test Score: 0.9662167016849997\n",
      "2024-10-22 17:46:41,411 | optuna_training | INFO | Params: {'classifier__n_estimators': 235, 'classifier__learning_rate': 0.1697869919377432, 'classifier__max_depth': 9, 'classifier__subsample': 0.7349535351610282, 'classifier__colsample_bytree': 0.7907417336031705, 'classifier__reg_alpha': 0.17899741665621177, 'classifier__reg_lambda': 0.8162224847678502}, Mean Test Score: 0.9628158859638282\n",
      "INFO:optuna_training:Params: {'classifier__n_estimators': 235, 'classifier__learning_rate': 0.1697869919377432, 'classifier__max_depth': 9, 'classifier__subsample': 0.7349535351610282, 'classifier__colsample_bytree': 0.7907417336031705, 'classifier__reg_alpha': 0.17899741665621177, 'classifier__reg_lambda': 0.8162224847678502}, Mean Test Score: 0.9628158859638282\n",
      "2024-10-22 17:46:41,413 | optuna_training | INFO | Params: {'classifier__n_estimators': 223, 'classifier__learning_rate': 0.18420926915593597, 'classifier__max_depth': 10, 'classifier__subsample': 0.7301993493772402, 'classifier__colsample_bytree': 0.8110387125065005, 'classifier__reg_alpha': 0.11556911882346538, 'classifier__reg_lambda': 0.24698976680030027}, Mean Test Score: 0.9648160684122864\n",
      "INFO:optuna_training:Params: {'classifier__n_estimators': 223, 'classifier__learning_rate': 0.18420926915593597, 'classifier__max_depth': 10, 'classifier__subsample': 0.7301993493772402, 'classifier__colsample_bytree': 0.8110387125065005, 'classifier__reg_alpha': 0.11556911882346538, 'classifier__reg_lambda': 0.24698976680030027}, Mean Test Score: 0.9648160684122864\n",
      "2024-10-22 17:46:41,414 | optuna_training | INFO | Params: {'classifier__n_estimators': 265, 'classifier__learning_rate': 0.17799539817268079, 'classifier__max_depth': 9, 'classifier__subsample': 0.7169775705774232, 'classifier__colsample_bytree': 0.735257739748446, 'classifier__reg_alpha': 0.5580948798709129, 'classifier__reg_lambda': 0.8021734785315732}, Mean Test Score: 0.9635847237671488\n",
      "INFO:optuna_training:Params: {'classifier__n_estimators': 265, 'classifier__learning_rate': 0.17799539817268079, 'classifier__max_depth': 9, 'classifier__subsample': 0.7169775705774232, 'classifier__colsample_bytree': 0.735257739748446, 'classifier__reg_alpha': 0.5580948798709129, 'classifier__reg_lambda': 0.8021734785315732}, Mean Test Score: 0.9635847237671488\n",
      "2024-10-22 17:46:41,415 | optuna_training | INFO | Params: {'classifier__n_estimators': 199, 'classifier__learning_rate': 0.19227604712895902, 'classifier__max_depth': 9, 'classifier__subsample': 0.7425227751330357, 'classifier__colsample_bytree': 0.781828601984598, 'classifier__reg_alpha': 0.1526359708678185, 'classifier__reg_lambda': 0.8410178371448955}, Mean Test Score: 0.9641245887552895\n",
      "INFO:optuna_training:Params: {'classifier__n_estimators': 199, 'classifier__learning_rate': 0.19227604712895902, 'classifier__max_depth': 9, 'classifier__subsample': 0.7425227751330357, 'classifier__colsample_bytree': 0.781828601984598, 'classifier__reg_alpha': 0.1526359708678185, 'classifier__reg_lambda': 0.8410178371448955}, Mean Test Score: 0.9641245887552895\n",
      "2024-10-22 17:46:41,416 | optuna_training | INFO | Params: {'classifier__n_estimators': 114, 'classifier__learning_rate': 0.0939383126072154, 'classifier__max_depth': 6, 'classifier__subsample': 0.7281105639934969, 'classifier__colsample_bytree': 0.8754525922448392, 'classifier__reg_alpha': 0.32418000959546445, 'classifier__reg_lambda': 0.9828605600583198}, Mean Test Score: 0.9614841946666196\n",
      "INFO:optuna_training:Params: {'classifier__n_estimators': 114, 'classifier__learning_rate': 0.0939383126072154, 'classifier__max_depth': 6, 'classifier__subsample': 0.7281105639934969, 'classifier__colsample_bytree': 0.8754525922448392, 'classifier__reg_alpha': 0.32418000959546445, 'classifier__reg_lambda': 0.9828605600583198}, Mean Test Score: 0.9614841946666196\n",
      "2024-10-22 17:46:41,418 | optuna_training | INFO | Params: {'classifier__n_estimators': 249, 'classifier__learning_rate': 0.15005301987848751, 'classifier__max_depth': 10, 'classifier__subsample': 0.7205898831791413, 'classifier__colsample_bytree': 0.8984138146078614, 'classifier__reg_alpha': 0.020885189871868493, 'classifier__reg_lambda': 0.8594339732387606}, Mean Test Score: 0.9642973674453096\n",
      "INFO:optuna_training:Params: {'classifier__n_estimators': 249, 'classifier__learning_rate': 0.15005301987848751, 'classifier__max_depth': 10, 'classifier__subsample': 0.7205898831791413, 'classifier__colsample_bytree': 0.8984138146078614, 'classifier__reg_alpha': 0.020885189871868493, 'classifier__reg_lambda': 0.8594339732387606}, Mean Test Score: 0.9642973674453096\n",
      "2024-10-22 17:46:41,420 | optuna_training | INFO | Number of tests that resulted in NaN for XGBoost: 0\n",
      "INFO:optuna_training:Number of tests that resulted in NaN for XGBoost: 0\n",
      "2024-10-22 17:46:41,424 | optuna_training | INFO | Optuna Optimization Best Result for XGBoost with none: 0.9677242968377563\n",
      "INFO:optuna_training:Optuna Optimization Best Result for XGBoost with none: 0.9677242968377563\n"
     ]
    },
    {
     "name": "stdout",
     "output_type": "stream",
     "text": [
      "Modelo: Random Forest_none\n",
      "Melhores Hiperparâmetros: {'classifier__n_estimators': 102, 'classifier__max_depth': 20, 'classifier__min_samples_split': 3, 'classifier__min_samples_leaf': 1}\n",
      "Resultado CV: 0.9773433679985404\n",
      "\n",
      "Modelo: XGBoost_none\n",
      "Melhores Hiperparâmetros: {'classifier__n_estimators': 166, 'classifier__learning_rate': 0.12616967871848617, 'classifier__max_depth': 9, 'classifier__subsample': 0.7003381340294468, 'classifier__colsample_bytree': 0.7557770346251104, 'classifier__reg_alpha': 0.1663533951672295, 'classifier__reg_lambda': 0.935716339942594}\n",
      "Resultado CV: 0.9677242968377563\n",
      "\n"
     ]
    }
   ],
   "source": [
    "# Importação da nova classe OptunaBayesianOptimizationTraining\n",
    "from core.training.optuna_bayesian_optimization_training import OptunaBayesianOptimizationTraining\n",
    "\n",
    "# Instanciação da classe de treinamento com Otimização Bayesiana via Optuna\n",
    "training = OptunaBayesianOptimizationTraining()\n",
    "\n",
    "# Executar o treinamento\n",
    "trained_models = training.train_model(\n",
    "    X_train=X_train,\n",
    "    y_train=y_train,\n",
    "    selected_models=selected_models,\n",
    "    selected_selectors=selected_selectors,\n",
    "    n_iter=n_iter,  # Será mapeado para n_trials na classe OptunaBayesianOptimizationTraining\n",
    "    cv=cv,\n",
    "    scoring=scoring_metric,\n",
    "    n_jobs=n_jobs\n",
    ")\n",
    "\n",
    "# Exemplo de acesso aos modelos treinados\n",
    "for model_key, model_info in trained_models.items():\n",
    "    print(f\"Modelo: {model_key}\")\n",
    "    print(f\"Melhores Hiperparâmetros: {model_info['hyperparameters']}\")\n",
    "    print(f\"Resultado CV: {model_info['cv_result']}\\n\")\n"
   ]
  },
  {
   "cell_type": "markdown",
   "id": "74d79fa3",
   "metadata": {},
   "source": [
    "### Avaliação e logging"
   ]
  },
  {
   "cell_type": "code",
   "execution_count": 13,
   "id": "67444317",
   "metadata": {},
   "outputs": [
    {
     "name": "stdout",
     "output_type": "stream",
     "text": [
      "Model 'Random Forest_none' saved at: ../models/_Optuna__Random Forest_none_20241022_1746.pkl\n",
      "Model 'XGBoost_none' saved at: ../models/_Optuna__XGBoost_none_20241022_1746.pkl\n",
      "Modelos salvos: ['../models/_Optuna__Random Forest_none_20241022_1746.pkl', '../models/_Optuna__XGBoost_none_20241022_1746.pkl']\n"
     ]
    },
    {
     "data": {
      "text/plain": [
       "['../models/_Optuna__Random Forest_none_20241022_1746.pkl',\n",
       " '../models/_Optuna__XGBoost_none_20241022_1746.pkl']"
      ]
     },
     "execution_count": 13,
     "metadata": {},
     "output_type": "execute_result"
    }
   ],
   "source": [
    "import notebook_utils as nb_utils\n",
    "\n",
    "# Avaliação dos Modelos\n",
    "class_metrics_results, avg_metrics_results = nb_utils.evaluate_models(trained_models, X_train, y_train, X_test, y_test)\n",
    "\n",
    "# Geração dos Relatórios\n",
    "nb_utils.generate_reports(class_metrics_results, avg_metrics_results, filename_prefix=\"_Optuna_\")\n",
    "\n",
    "# Salvando os modelos em arquivos para recuperação\n",
    "nb_utils.save_models(trained_models, filename_prefix=\"_Optuna_\")"
   ]
  },
  {
   "cell_type": "markdown",
   "id": "676ba502",
   "metadata": {},
   "source": [
    "## Using GridSearchCV"
   ]
  },
  {
   "cell_type": "code",
   "execution_count": 14,
   "id": "1db47093",
   "metadata": {},
   "outputs": [
    {
     "name": "stderr",
     "output_type": "stream",
     "text": [
      "2024-10-22 17:46:41,719 | grid_search_training | INFO | Training and evaluating Random Forest with GridSearchCV and none\n",
      "INFO:grid_search_training:Training and evaluating Random Forest with GridSearchCV and none\n",
      "DEBUG:grid_search_training:Parameter grid: [{'classifier__n_estimators': [50, 100, 200]}, {'classifier__max_depth': [None, 3, 5, 10, 20, 30]}, {'classifier__min_samples_split': [2, 5, 10]}, {'classifier__min_samples_leaf': [1, 2, 4, 6, 8, 10]}]\n",
      "2024-10-22 17:46:41,720 | grid_search_training | INFO | Starting GridSearchCV fitting process\n",
      "INFO:grid_search_training:Starting GridSearchCV fitting process\n"
     ]
    },
    {
     "name": "stdout",
     "output_type": "stream",
     "text": [
      "Fitting 5 folds for each of 18 candidates, totalling 90 fits\n"
     ]
    },
    {
     "name": "stderr",
     "output_type": "stream",
     "text": [
      "2024-10-22 17:46:48,245 | grid_search_training | INFO | GridSearchCV fitting process completed\n",
      "INFO:grid_search_training:GridSearchCV fitting process completed\n",
      "2024-10-22 17:46:48,247 | grid_search_training | INFO | Best parameters: {'classifier__max_depth': 30}\n",
      "INFO:grid_search_training:Best parameters: {'classifier__max_depth': 30}\n",
      "2024-10-22 17:46:48,247 | grid_search_training | INFO | Best cross-validation score: 0.9753185550082101\n",
      "INFO:grid_search_training:Best cross-validation score: 0.9753185550082101\n",
      "2024-10-22 17:46:48,249 | grid_search_training | INFO | All hyperparameter combinations and their cross-validation results:\n",
      "INFO:grid_search_training:All hyperparameter combinations and their cross-validation results:\n",
      "2024-10-22 17:46:48,250 | grid_search_training | INFO | Params: {'classifier__n_estimators': 50}, Mean Test Score: 0.9724384236453201\n",
      "INFO:grid_search_training:Params: {'classifier__n_estimators': 50}, Mean Test Score: 0.9724384236453201\n",
      "2024-10-22 17:46:48,251 | grid_search_training | INFO | Params: {'classifier__n_estimators': 100}, Mean Test Score: 0.9739675241744207\n",
      "INFO:grid_search_training:Params: {'classifier__n_estimators': 100}, Mean Test Score: 0.9739675241744207\n",
      "2024-10-22 17:46:48,252 | grid_search_training | INFO | Params: {'classifier__n_estimators': 200}, Mean Test Score: 0.9738934501003467\n",
      "INFO:grid_search_training:Params: {'classifier__n_estimators': 200}, Mean Test Score: 0.9738934501003467\n",
      "2024-10-22 17:46:48,252 | grid_search_training | INFO | Params: {'classifier__max_depth': None}, Mean Test Score: 0.9724860426929391\n",
      "INFO:grid_search_training:Params: {'classifier__max_depth': None}, Mean Test Score: 0.9724860426929391\n",
      "2024-10-22 17:46:48,253 | grid_search_training | INFO | Params: {'classifier__max_depth': 3}, Mean Test Score: 0.877539276444727\n",
      "INFO:grid_search_training:Params: {'classifier__max_depth': 3}, Mean Test Score: 0.877539276444727\n",
      "2024-10-22 17:46:48,254 | grid_search_training | INFO | Params: {'classifier__max_depth': 5}, Mean Test Score: 0.9370040550641219\n",
      "INFO:grid_search_training:Params: {'classifier__max_depth': 5}, Mean Test Score: 0.9370040550641219\n",
      "2024-10-22 17:46:48,255 | grid_search_training | INFO | Params: {'classifier__max_depth': 10}, Mean Test Score: 0.974110381317278\n",
      "INFO:grid_search_training:Params: {'classifier__max_depth': 10}, Mean Test Score: 0.974110381317278\n",
      "2024-10-22 17:46:48,256 | grid_search_training | INFO | Params: {'classifier__max_depth': 20}, Mean Test Score: 0.970339536580916\n",
      "INFO:grid_search_training:Params: {'classifier__max_depth': 20}, Mean Test Score: 0.970339536580916\n",
      "2024-10-22 17:46:48,256 | grid_search_training | INFO | Params: {'classifier__max_depth': 30}, Mean Test Score: 0.9753185550082101\n",
      "INFO:grid_search_training:Params: {'classifier__max_depth': 30}, Mean Test Score: 0.9753185550082101\n",
      "2024-10-22 17:46:48,257 | grid_search_training | INFO | Params: {'classifier__min_samples_split': 2}, Mean Test Score: 0.9704665207079\n",
      "INFO:grid_search_training:Params: {'classifier__min_samples_split': 2}, Mean Test Score: 0.9704665207079\n",
      "2024-10-22 17:46:48,258 | grid_search_training | INFO | Params: {'classifier__min_samples_split': 5}, Mean Test Score: 0.9724189016602811\n",
      "INFO:grid_search_training:Params: {'classifier__min_samples_split': 5}, Mean Test Score: 0.9724189016602811\n",
      "2024-10-22 17:46:48,258 | grid_search_training | INFO | Params: {'classifier__min_samples_split': 10}, Mean Test Score: 0.9635285296419889\n",
      "INFO:grid_search_training:Params: {'classifier__min_samples_split': 10}, Mean Test Score: 0.9635285296419889\n",
      "2024-10-22 17:46:48,259 | grid_search_training | INFO | Params: {'classifier__min_samples_leaf': 1}, Mean Test Score: 0.9726097192059372\n",
      "INFO:grid_search_training:Params: {'classifier__min_samples_leaf': 1}, Mean Test Score: 0.9726097192059372\n",
      "2024-10-22 17:46:48,260 | grid_search_training | INFO | Params: {'classifier__min_samples_leaf': 2}, Mean Test Score: 0.9639864988140848\n",
      "INFO:grid_search_training:Params: {'classifier__min_samples_leaf': 2}, Mean Test Score: 0.9639864988140848\n",
      "2024-10-22 17:46:48,265 | grid_search_training | INFO | Params: {'classifier__min_samples_leaf': 4}, Mean Test Score: 0.9586731877276927\n",
      "INFO:grid_search_training:Params: {'classifier__min_samples_leaf': 4}, Mean Test Score: 0.9586731877276927\n",
      "2024-10-22 17:46:48,269 | grid_search_training | INFO | Params: {'classifier__min_samples_leaf': 6}, Mean Test Score: 0.9546007556897435\n",
      "INFO:grid_search_training:Params: {'classifier__min_samples_leaf': 6}, Mean Test Score: 0.9546007556897435\n",
      "2024-10-22 17:46:48,276 | grid_search_training | INFO | Params: {'classifier__min_samples_leaf': 8}, Mean Test Score: 0.9495279822966142\n",
      "INFO:grid_search_training:Params: {'classifier__min_samples_leaf': 8}, Mean Test Score: 0.9495279822966142\n",
      "2024-10-22 17:46:48,294 | grid_search_training | INFO | Params: {'classifier__min_samples_leaf': 10}, Mean Test Score: 0.9416235617470322\n",
      "INFO:grid_search_training:Params: {'classifier__min_samples_leaf': 10}, Mean Test Score: 0.9416235617470322\n",
      "2024-10-22 17:46:48,295 | grid_search_training | INFO | Number of tests that resulted in NaN for Random Forest: 0\n",
      "INFO:grid_search_training:Number of tests that resulted in NaN for Random Forest: 0\n",
      "2024-10-22 17:46:48,295 | grid_search_training | INFO | Model Random Forest_none stored successfully\n",
      "INFO:grid_search_training:Model Random Forest_none stored successfully\n",
      "2024-10-22 17:46:48,296 | grid_search_training | INFO | Training and evaluating XGBoost with GridSearchCV and none\n",
      "INFO:grid_search_training:Training and evaluating XGBoost with GridSearchCV and none\n",
      "DEBUG:grid_search_training:Parameter grid: [{'classifier__n_estimators': [50, 100, 150, 200, 250, 300]}, {'classifier__learning_rate': [0.01, 0.05, 0.1, 0.15, 0.2]}, {'classifier__max_depth': [3, 4, 5, 6, 7, 8, 9, 10]}, {'classifier__subsample': [0.7, 0.75, 0.8, 0.85, 0.9, 0.95, 1.0]}, {'classifier__colsample_bytree': [0.7, 0.75, 0.8, 0.85, 0.9, 0.95, 1.0]}, {'classifier__reg_alpha': [0.0, 0.2, 0.4, 0.6, 0.8, 1.0]}, {'classifier__reg_lambda': [0.0, 0.2, 0.4, 0.6, 0.8, 1.0]}]\n",
      "2024-10-22 17:46:48,297 | grid_search_training | INFO | Starting GridSearchCV fitting process\n",
      "INFO:grid_search_training:Starting GridSearchCV fitting process\n"
     ]
    },
    {
     "name": "stdout",
     "output_type": "stream",
     "text": [
      "Fitting 5 folds for each of 45 candidates, totalling 225 fits\n"
     ]
    },
    {
     "name": "stderr",
     "output_type": "stream",
     "text": [
      "2024-10-22 17:47:18,022 | grid_search_training | INFO | GridSearchCV fitting process completed\n",
      "INFO:grid_search_training:GridSearchCV fitting process completed\n",
      "2024-10-22 17:47:18,023 | grid_search_training | INFO | Best parameters: {'classifier__subsample': 0.7}\n",
      "INFO:grid_search_training:Best parameters: {'classifier__subsample': 0.7}\n",
      "2024-10-22 17:47:18,024 | grid_search_training | INFO | Best cross-validation score: 0.9636272342579352\n",
      "INFO:grid_search_training:Best cross-validation score: 0.9636272342579352\n",
      "2024-10-22 17:47:18,026 | grid_search_training | INFO | All hyperparameter combinations and their cross-validation results:\n",
      "INFO:grid_search_training:All hyperparameter combinations and their cross-validation results:\n",
      "2024-10-22 17:47:18,027 | grid_search_training | INFO | Params: {'classifier__n_estimators': 50}, Mean Test Score: 0.9544825290887582\n",
      "INFO:grid_search_training:Params: {'classifier__n_estimators': 50}, Mean Test Score: 0.9544825290887582\n",
      "2024-10-22 17:47:18,028 | grid_search_training | INFO | Params: {'classifier__n_estimators': 100}, Mean Test Score: 0.9536691974033463\n",
      "INFO:grid_search_training:Params: {'classifier__n_estimators': 100}, Mean Test Score: 0.9536691974033463\n",
      "2024-10-22 17:47:18,029 | grid_search_training | INFO | Params: {'classifier__n_estimators': 150}, Mean Test Score: 0.9537894073956366\n",
      "INFO:grid_search_training:Params: {'classifier__n_estimators': 150}, Mean Test Score: 0.9537894073956366\n",
      "2024-10-22 17:47:18,031 | grid_search_training | INFO | Params: {'classifier__n_estimators': 200}, Mean Test Score: 0.9530486666548958\n",
      "INFO:grid_search_training:Params: {'classifier__n_estimators': 200}, Mean Test Score: 0.9530486666548958\n",
      "2024-10-22 17:47:18,031 | grid_search_training | INFO | Params: {'classifier__n_estimators': 250}, Mean Test Score: 0.9537383218273096\n",
      "INFO:grid_search_training:Params: {'classifier__n_estimators': 250}, Mean Test Score: 0.9537383218273096\n",
      "2024-10-22 17:47:18,033 | grid_search_training | INFO | Params: {'classifier__n_estimators': 300}, Mean Test Score: 0.9530486666548958\n",
      "INFO:grid_search_training:Params: {'classifier__n_estimators': 300}, Mean Test Score: 0.9530486666548958\n",
      "2024-10-22 17:47:18,034 | grid_search_training | INFO | Params: {'classifier__learning_rate': 0.01}, Mean Test Score: 0.9150380140191041\n",
      "INFO:grid_search_training:Params: {'classifier__learning_rate': 0.01}, Mean Test Score: 0.9150380140191041\n",
      "2024-10-22 17:47:18,035 | grid_search_training | INFO | Params: {'classifier__learning_rate': 0.05}, Mean Test Score: 0.9456991189505093\n",
      "INFO:grid_search_training:Params: {'classifier__learning_rate': 0.05}, Mean Test Score: 0.9456991189505093\n",
      "2024-10-22 17:47:18,036 | grid_search_training | INFO | Params: {'classifier__learning_rate': 0.1}, Mean Test Score: 0.9528313940827845\n",
      "INFO:grid_search_training:Params: {'classifier__learning_rate': 0.1}, Mean Test Score: 0.9528313940827845\n",
      "2024-10-22 17:47:18,037 | grid_search_training | INFO | Params: {'classifier__learning_rate': 0.15}, Mean Test Score: 0.9528808376149867\n",
      "INFO:grid_search_training:Params: {'classifier__learning_rate': 0.15}, Mean Test Score: 0.9528808376149867\n",
      "2024-10-22 17:47:18,039 | grid_search_training | INFO | Params: {'classifier__learning_rate': 0.2}, Mean Test Score: 0.9514998852340341\n",
      "INFO:grid_search_training:Params: {'classifier__learning_rate': 0.2}, Mean Test Score: 0.9514998852340341\n",
      "2024-10-22 17:47:18,041 | grid_search_training | INFO | Params: {'classifier__max_depth': 3}, Mean Test Score: 0.9593449629511921\n",
      "INFO:grid_search_training:Params: {'classifier__max_depth': 3}, Mean Test Score: 0.9593449629511921\n",
      "2024-10-22 17:47:18,042 | grid_search_training | INFO | Params: {'classifier__max_depth': 4}, Mean Test Score: 0.9544099381440871\n",
      "INFO:grid_search_training:Params: {'classifier__max_depth': 4}, Mean Test Score: 0.9544099381440871\n",
      "2024-10-22 17:47:18,043 | grid_search_training | INFO | Params: {'classifier__max_depth': 5}, Mean Test Score: 0.9543818410815073\n",
      "INFO:grid_search_training:Params: {'classifier__max_depth': 5}, Mean Test Score: 0.9543818410815073\n",
      "2024-10-22 17:47:18,044 | grid_search_training | INFO | Params: {'classifier__max_depth': 6}, Mean Test Score: 0.9536691974033463\n",
      "INFO:grid_search_training:Params: {'classifier__max_depth': 6}, Mean Test Score: 0.9536691974033463\n",
      "2024-10-22 17:47:18,045 | grid_search_training | INFO | Params: {'classifier__max_depth': 7}, Mean Test Score: 0.9529747750292799\n",
      "INFO:grid_search_training:Params: {'classifier__max_depth': 7}, Mean Test Score: 0.9529747750292799\n",
      "2024-10-22 17:47:18,046 | grid_search_training | INFO | Params: {'classifier__max_depth': 8}, Mean Test Score: 0.9552001224170301\n",
      "INFO:grid_search_training:Params: {'classifier__max_depth': 8}, Mean Test Score: 0.9552001224170301\n",
      "2024-10-22 17:47:18,047 | grid_search_training | INFO | Params: {'classifier__max_depth': 9}, Mean Test Score: 0.9536675553672216\n",
      "INFO:grid_search_training:Params: {'classifier__max_depth': 9}, Mean Test Score: 0.9536675553672216\n",
      "2024-10-22 17:47:18,048 | grid_search_training | INFO | Params: {'classifier__max_depth': 10}, Mean Test Score: 0.955126048342956\n",
      "INFO:grid_search_training:Params: {'classifier__max_depth': 10}, Mean Test Score: 0.955126048342956\n",
      "2024-10-22 17:47:18,049 | grid_search_training | INFO | Params: {'classifier__subsample': 0.7}, Mean Test Score: 0.9636272342579352\n",
      "INFO:grid_search_training:Params: {'classifier__subsample': 0.7}, Mean Test Score: 0.9636272342579352\n",
      "2024-10-22 17:47:18,050 | grid_search_training | INFO | Params: {'classifier__subsample': 0.75}, Mean Test Score: 0.9565546197715274\n",
      "INFO:grid_search_training:Params: {'classifier__subsample': 0.75}, Mean Test Score: 0.9565546197715274\n",
      "2024-10-22 17:47:18,051 | grid_search_training | INFO | Params: {'classifier__subsample': 0.8}, Mean Test Score: 0.9599813667155157\n",
      "INFO:grid_search_training:Params: {'classifier__subsample': 0.8}, Mean Test Score: 0.9599813667155157\n",
      "2024-10-22 17:47:18,052 | grid_search_training | INFO | Params: {'classifier__subsample': 0.85}, Mean Test Score: 0.9578646232439336\n",
      "INFO:grid_search_training:Params: {'classifier__subsample': 0.85}, Mean Test Score: 0.9578646232439336\n",
      "2024-10-22 17:47:18,052 | grid_search_training | INFO | Params: {'classifier__subsample': 0.9}, Mean Test Score: 0.9564593816762894\n",
      "INFO:grid_search_training:Params: {'classifier__subsample': 0.9}, Mean Test Score: 0.9564593816762894\n",
      "2024-10-22 17:47:18,053 | grid_search_training | INFO | Params: {'classifier__subsample': 0.95}, Mean Test Score: 0.9550681886399349\n",
      "INFO:grid_search_training:Params: {'classifier__subsample': 0.95}, Mean Test Score: 0.9550681886399349\n",
      "2024-10-22 17:47:18,054 | grid_search_training | INFO | Params: {'classifier__subsample': 1.0}, Mean Test Score: 0.9536691974033463\n",
      "INFO:grid_search_training:Params: {'classifier__subsample': 1.0}, Mean Test Score: 0.9536691974033463\n",
      "2024-10-22 17:47:18,055 | grid_search_training | INFO | Params: {'classifier__colsample_bytree': 0.7}, Mean Test Score: 0.9614560976040396\n",
      "INFO:grid_search_training:Params: {'classifier__colsample_bytree': 0.7}, Mean Test Score: 0.9614560976040396\n",
      "2024-10-22 17:47:18,056 | grid_search_training | INFO | Params: {'classifier__colsample_bytree': 0.75}, Mean Test Score: 0.9543588525757603\n",
      "INFO:grid_search_training:Params: {'classifier__colsample_bytree': 0.75}, Mean Test Score: 0.9543588525757603\n",
      "2024-10-22 17:47:18,057 | grid_search_training | INFO | Params: {'classifier__colsample_bytree': 0.8}, Mean Test Score: 0.9542092212982091\n",
      "INFO:grid_search_training:Params: {'classifier__colsample_bytree': 0.8}, Mean Test Score: 0.9542092212982091\n",
      "2024-10-22 17:47:18,095 | grid_search_training | INFO | Params: {'classifier__colsample_bytree': 0.85}, Mean Test Score: 0.9515213906103785\n",
      "INFO:grid_search_training:Params: {'classifier__colsample_bytree': 0.85}, Mean Test Score: 0.9515213906103785\n",
      "2024-10-22 17:47:18,096 | grid_search_training | INFO | Params: {'classifier__colsample_bytree': 0.9}, Mean Test Score: 0.9548479733507543\n",
      "INFO:grid_search_training:Params: {'classifier__colsample_bytree': 0.9}, Mean Test Score: 0.9548479733507543\n",
      "2024-10-22 17:47:18,097 | grid_search_training | INFO | Params: {'classifier__colsample_bytree': 0.95}, Mean Test Score: 0.9549959390504441\n",
      "INFO:grid_search_training:Params: {'classifier__colsample_bytree': 0.95}, Mean Test Score: 0.9549959390504441\n",
      "2024-10-22 17:47:18,097 | grid_search_training | INFO | Params: {'classifier__colsample_bytree': 1.0}, Mean Test Score: 0.9536691974033463\n",
      "INFO:grid_search_training:Params: {'classifier__colsample_bytree': 1.0}, Mean Test Score: 0.9536691974033463\n",
      "2024-10-22 17:47:18,098 | grid_search_training | INFO | Params: {'classifier__reg_alpha': 0.0}, Mean Test Score: 0.9536691974033463\n",
      "INFO:grid_search_training:Params: {'classifier__reg_alpha': 0.0}, Mean Test Score: 0.9536691974033463\n",
      "2024-10-22 17:47:18,099 | grid_search_training | INFO | Params: {'classifier__reg_alpha': 0.2}, Mean Test Score: 0.9534964187133262\n",
      "INFO:grid_search_training:Params: {'classifier__reg_alpha': 0.2}, Mean Test Score: 0.9534964187133262\n",
      "2024-10-22 17:47:18,100 | grid_search_training | INFO | Params: {'classifier__reg_alpha': 0.4}, Mean Test Score: 0.9550452001341878\n",
      "INFO:grid_search_training:Params: {'classifier__reg_alpha': 0.4}, Mean Test Score: 0.9550452001341878\n",
      "2024-10-22 17:47:18,101 | grid_search_training | INFO | Params: {'classifier__reg_alpha': 0.6}, Mean Test Score: 0.9529499620389498\n",
      "INFO:grid_search_training:Params: {'classifier__reg_alpha': 0.6}, Mean Test Score: 0.9529499620389498\n",
      "2024-10-22 17:47:18,102 | grid_search_training | INFO | Params: {'classifier__reg_alpha': 0.8}, Mean Test Score: 0.9521877159218649\n",
      "INFO:grid_search_training:Params: {'classifier__reg_alpha': 0.8}, Mean Test Score: 0.9521877159218649\n",
      "2024-10-22 17:47:18,104 | grid_search_training | INFO | Params: {'classifier__reg_alpha': 1.0}, Mean Test Score: 0.9521348058689549\n",
      "INFO:grid_search_training:Params: {'classifier__reg_alpha': 1.0}, Mean Test Score: 0.9521348058689549\n",
      "2024-10-22 17:47:18,106 | grid_search_training | INFO | Params: {'classifier__reg_lambda': 0.0}, Mean Test Score: 0.9522391428453719\n",
      "INFO:grid_search_training:Params: {'classifier__reg_lambda': 0.0}, Mean Test Score: 0.9522391428453719\n",
      "2024-10-22 17:47:18,111 | grid_search_training | INFO | Params: {'classifier__reg_lambda': 0.2}, Mean Test Score: 0.9501913413492946\n",
      "INFO:grid_search_training:Params: {'classifier__reg_lambda': 0.2}, Mean Test Score: 0.9501913413492946\n",
      "2024-10-22 17:47:18,112 | grid_search_training | INFO | Params: {'classifier__reg_lambda': 0.4}, Mean Test Score: 0.9521928244786977\n",
      "INFO:grid_search_training:Params: {'classifier__reg_lambda': 0.4}, Mean Test Score: 0.9521928244786977\n",
      "2024-10-22 17:47:18,112 | grid_search_training | INFO | Params: {'classifier__reg_lambda': 0.6}, Mean Test Score: 0.9570665466038101\n",
      "INFO:grid_search_training:Params: {'classifier__reg_lambda': 0.6}, Mean Test Score: 0.9570665466038101\n",
      "2024-10-22 17:47:18,113 | grid_search_training | INFO | Params: {'classifier__reg_lambda': 0.8}, Mean Test Score: 0.9529302811471887\n",
      "INFO:grid_search_training:Params: {'classifier__reg_lambda': 0.8}, Mean Test Score: 0.9529302811471887\n",
      "2024-10-22 17:47:18,114 | grid_search_training | INFO | Params: {'classifier__reg_lambda': 1.0}, Mean Test Score: 0.9536691974033463\n",
      "INFO:grid_search_training:Params: {'classifier__reg_lambda': 1.0}, Mean Test Score: 0.9536691974033463\n",
      "2024-10-22 17:47:18,115 | grid_search_training | INFO | Number of tests that resulted in NaN for XGBoost: 0\n",
      "INFO:grid_search_training:Number of tests that resulted in NaN for XGBoost: 0\n",
      "2024-10-22 17:47:18,116 | grid_search_training | INFO | Model XGBoost_none stored successfully\n",
      "INFO:grid_search_training:Model XGBoost_none stored successfully\n"
     ]
    },
    {
     "name": "stdout",
     "output_type": "stream",
     "text": [
      "Model: Random Forest_none\n",
      "Best Hyperparameters: {'classifier__max_depth': 30}\n",
      "CV Result: 0.9753185550082101\n",
      "\n",
      "Model: XGBoost_none\n",
      "Best Hyperparameters: {'classifier__subsample': 0.7}\n",
      "CV Result: 0.9636272342579352\n",
      "\n"
     ]
    }
   ],
   "source": [
    "from core.training.grid_search_training import GridSearchTraining\n",
    "\n",
    "# Instantiate the GridSearchCV training class\n",
    "training = GridSearchTraining()\n",
    "\n",
    "# Execute the training\n",
    "trained_models = training.train_model(\n",
    "    X_train=X_train,\n",
    "    y_train=y_train,\n",
    "    selected_models=selected_models,\n",
    "    selected_selectors=selected_selectors,\n",
    "    n_iter=n_iter,  # This parameter is not used in GridSearchCV but kept for consistency\n",
    "    cv=cv,\n",
    "    scoring=scoring_metric,\n",
    "    n_jobs=n_jobs\n",
    ")\n",
    "\n",
    "# Example of accessing the trained models\n",
    "for model_key, model_info in trained_models.items():\n",
    "    print(f\"Model: {model_key}\")\n",
    "    print(f\"Best Hyperparameters: {model_info['hyperparameters']}\")\n",
    "    print(f\"CV Result: {model_info['cv_result']}\\n\")"
   ]
  },
  {
   "cell_type": "markdown",
   "id": "1779d27a",
   "metadata": {},
   "source": [
    "### Avaliação e logging"
   ]
  },
  {
   "cell_type": "code",
   "execution_count": 15,
   "id": "df143362",
   "metadata": {},
   "outputs": [
    {
     "name": "stdout",
     "output_type": "stream",
     "text": [
      "Model 'Random Forest_none' saved at: ../models/_GridSearch__Random Forest_none_20241022_1747.pkl\n",
      "Model 'XGBoost_none' saved at: ../models/_GridSearch__XGBoost_none_20241022_1747.pkl\n",
      "Modelos salvos: ['../models/_GridSearch__Random Forest_none_20241022_1747.pkl', '../models/_GridSearch__XGBoost_none_20241022_1747.pkl']\n"
     ]
    },
    {
     "data": {
      "text/plain": [
       "['../models/_GridSearch__Random Forest_none_20241022_1747.pkl',\n",
       " '../models/_GridSearch__XGBoost_none_20241022_1747.pkl']"
      ]
     },
     "execution_count": 15,
     "metadata": {},
     "output_type": "execute_result"
    }
   ],
   "source": [
    "import notebook_utils as nb_utils\n",
    "\n",
    "# Avaliação dos Modelos\n",
    "class_metrics_results, avg_metrics_results = nb_utils.evaluate_models(trained_models, X_train, y_train, X_test, y_test)\n",
    "\n",
    "# Geração dos Relatórios\n",
    "nb_utils.generate_reports(class_metrics_results, avg_metrics_results, filename_prefix=\"_GridSearch_\")\n",
    "\n",
    "# Salvando os modelos em arquivos para recuperação\n",
    "nb_utils.save_models(trained_models, filename_prefix=\"_GridSearch_\")"
   ]
  },
  {
   "cell_type": "markdown",
   "id": "b24478b0",
   "metadata": {},
   "source": [
    "## Treinando com RandomSearchCV"
   ]
  },
  {
   "cell_type": "code",
   "execution_count": 16,
   "id": "5b29b0da",
   "metadata": {},
   "outputs": [
    {
     "name": "stderr",
     "output_type": "stream",
     "text": [
      "2024-10-22 17:47:18,359 | random_search_training | INFO | Training and evaluating Random Forest with RandomizedSearchCV and none\n",
      "INFO:random_search_training:Training and evaluating Random Forest with RandomizedSearchCV and none\n",
      "DEBUG:random_search_training:Parameter grid: [{'classifier__n_estimators': [50, 100, 200]}, {'classifier__max_depth': [None, 3, 5, 10, 20, 30]}, {'classifier__min_samples_split': [2, 5, 10]}, {'classifier__min_samples_leaf': [1, 2, 4, 6, 8, 10]}]\n",
      "2024-10-22 17:47:18,362 | random_search_training | INFO | Starting RandomizedSearchCV fitting process\n",
      "INFO:random_search_training:Starting RandomizedSearchCV fitting process\n"
     ]
    },
    {
     "name": "stdout",
     "output_type": "stream",
     "text": [
      "Fitting 5 folds for each of 18 candidates, totalling 90 fits\n"
     ]
    },
    {
     "name": "stderr",
     "output_type": "stream",
     "text": [
      "/opt/anaconda3/envs/projetos_ML/lib/python3.11/site-packages/sklearn/model_selection/_search.py:306: UserWarning: The total space of parameters 18 is smaller than n_iter=100. Running 18 iterations. For exhaustive searches, use GridSearchCV.\n",
      "  warnings.warn(\n",
      "2024-10-22 17:47:24,591 | random_search_training | INFO | RandomizedSearchCV fitting process completed\n",
      "INFO:random_search_training:RandomizedSearchCV fitting process completed\n",
      "2024-10-22 17:47:24,592 | random_search_training | INFO | Best parameters: {'classifier__n_estimators': 200}\n",
      "INFO:random_search_training:Best parameters: {'classifier__n_estimators': 200}\n",
      "2024-10-22 17:47:24,593 | random_search_training | INFO | Best cross-validation score: 0.9760116767013318\n",
      "INFO:random_search_training:Best cross-validation score: 0.9760116767013318\n",
      "2024-10-22 17:47:24,594 | random_search_training | INFO | All hyperparameter combinations and their cross-validation results:\n",
      "INFO:random_search_training:All hyperparameter combinations and their cross-validation results:\n",
      "2024-10-22 17:47:24,594 | random_search_training | INFO | Params: {'classifier__n_estimators': 50}, Mean Test Score: 0.97598704615946\n",
      "INFO:random_search_training:Params: {'classifier__n_estimators': 50}, Mean Test Score: 0.97598704615946\n",
      "2024-10-22 17:47:24,595 | random_search_training | INFO | Params: {'classifier__n_estimators': 100}, Mean Test Score: 0.9745553495653606\n",
      "INFO:random_search_training:Params: {'classifier__n_estimators': 100}, Mean Test Score: 0.9745553495653606\n",
      "2024-10-22 17:47:24,596 | random_search_training | INFO | Params: {'classifier__n_estimators': 200}, Mean Test Score: 0.9760116767013318\n",
      "INFO:random_search_training:Params: {'classifier__n_estimators': 200}, Mean Test Score: 0.9760116767013318\n",
      "2024-10-22 17:47:24,596 | random_search_training | INFO | Params: {'classifier__max_depth': None}, Mean Test Score: 0.9724895092136471\n",
      "INFO:random_search_training:Params: {'classifier__max_depth': None}, Mean Test Score: 0.9724895092136471\n",
      "2024-10-22 17:47:24,597 | random_search_training | INFO | Params: {'classifier__max_depth': 3}, Mean Test Score: 0.87108719270677\n",
      "INFO:random_search_training:Params: {'classifier__max_depth': 3}, Mean Test Score: 0.87108719270677\n",
      "2024-10-22 17:47:24,597 | random_search_training | INFO | Params: {'classifier__max_depth': 5}, Mean Test Score: 0.941961226759892\n",
      "INFO:random_search_training:Params: {'classifier__max_depth': 5}, Mean Test Score: 0.941961226759892\n",
      "2024-10-22 17:47:24,598 | random_search_training | INFO | Params: {'classifier__max_depth': 10}, Mean Test Score: 0.9697684493646672\n",
      "INFO:random_search_training:Params: {'classifier__max_depth': 10}, Mean Test Score: 0.9697684493646672\n",
      "2024-10-22 17:47:24,599 | random_search_training | INFO | Params: {'classifier__max_depth': 20}, Mean Test Score: 0.9725340030957383\n",
      "INFO:random_search_training:Params: {'classifier__max_depth': 20}, Mean Test Score: 0.9725340030957383\n",
      "2024-10-22 17:47:24,599 | random_search_training | INFO | Params: {'classifier__max_depth': 30}, Mean Test Score: 0.9752003284072248\n",
      "INFO:random_search_training:Params: {'classifier__max_depth': 30}, Mean Test Score: 0.9752003284072248\n",
      "2024-10-22 17:47:24,600 | random_search_training | INFO | Params: {'classifier__min_samples_split': 2}, Mean Test Score: 0.9732532384601349\n",
      "INFO:random_search_training:Params: {'classifier__min_samples_split': 2}, Mean Test Score: 0.9732532384601349\n",
      "2024-10-22 17:47:24,601 | random_search_training | INFO | Params: {'classifier__min_samples_split': 5}, Mean Test Score: 0.9723097974822112\n",
      "INFO:random_search_training:Params: {'classifier__min_samples_split': 5}, Mean Test Score: 0.9723097974822112\n",
      "2024-10-22 17:47:24,601 | random_search_training | INFO | Params: {'classifier__min_samples_split': 10}, Mean Test Score: 0.964279146141215\n",
      "INFO:random_search_training:Params: {'classifier__min_samples_split': 10}, Mean Test Score: 0.964279146141215\n",
      "2024-10-22 17:47:24,602 | random_search_training | INFO | Params: {'classifier__min_samples_leaf': 1}, Mean Test Score: 0.9677044334975369\n",
      "INFO:random_search_training:Params: {'classifier__min_samples_leaf': 1}, Mean Test Score: 0.9677044334975369\n",
      "2024-10-22 17:47:24,603 | random_search_training | INFO | Params: {'classifier__min_samples_leaf': 2}, Mean Test Score: 0.9727082649151614\n",
      "INFO:random_search_training:Params: {'classifier__min_samples_leaf': 2}, Mean Test Score: 0.9727082649151614\n",
      "2024-10-22 17:47:24,607 | random_search_training | INFO | Params: {'classifier__min_samples_leaf': 4}, Mean Test Score: 0.9578897775894438\n",
      "INFO:random_search_training:Params: {'classifier__min_samples_leaf': 4}, Mean Test Score: 0.9578897775894438\n",
      "2024-10-22 17:47:24,609 | random_search_training | INFO | Params: {'classifier__min_samples_leaf': 6}, Mean Test Score: 0.9544311021652512\n",
      "INFO:random_search_training:Params: {'classifier__min_samples_leaf': 6}, Mean Test Score: 0.9544311021652512\n",
      "2024-10-22 17:47:24,610 | random_search_training | INFO | Params: {'classifier__min_samples_leaf': 8}, Mean Test Score: 0.9495690096579974\n",
      "INFO:random_search_training:Params: {'classifier__min_samples_leaf': 8}, Mean Test Score: 0.9495690096579974\n",
      "2024-10-22 17:47:24,611 | random_search_training | INFO | Params: {'classifier__min_samples_leaf': 10}, Mean Test Score: 0.9439116007792314\n",
      "INFO:random_search_training:Params: {'classifier__min_samples_leaf': 10}, Mean Test Score: 0.9439116007792314\n",
      "2024-10-22 17:47:24,613 | random_search_training | INFO | Number of tests that resulted in NaN for Random Forest: 0\n",
      "INFO:random_search_training:Number of tests that resulted in NaN for Random Forest: 0\n",
      "2024-10-22 17:47:24,614 | random_search_training | INFO | Best parameters: {'classifier__n_estimators': 200}\n",
      "INFO:random_search_training:Best parameters: {'classifier__n_estimators': 200}\n",
      "2024-10-22 17:47:24,615 | random_search_training | INFO | Best cross-validation score: 0.9760116767013318\n",
      "INFO:random_search_training:Best cross-validation score: 0.9760116767013318\n",
      "2024-10-22 17:47:24,616 | random_search_training | INFO | Model Random Forest_none stored successfully\n",
      "INFO:random_search_training:Model Random Forest_none stored successfully\n",
      "2024-10-22 17:47:24,617 | random_search_training | INFO | Training and evaluating XGBoost with RandomizedSearchCV and none\n",
      "INFO:random_search_training:Training and evaluating XGBoost with RandomizedSearchCV and none\n",
      "DEBUG:random_search_training:Parameter grid: [{'classifier__n_estimators': [50, 100, 150, 200, 250, 300]}, {'classifier__learning_rate': [0.01, 0.05, 0.1, 0.15, 0.2]}, {'classifier__max_depth': [3, 4, 5, 6, 7, 8, 9, 10]}, {'classifier__subsample': [0.7, 0.75, 0.8, 0.85, 0.9, 0.95, 1.0]}, {'classifier__colsample_bytree': [0.7, 0.75, 0.8, 0.85, 0.9, 0.95, 1.0]}, {'classifier__reg_alpha': [0.0, 0.2, 0.4, 0.6, 0.8, 1.0]}, {'classifier__reg_lambda': [0.0, 0.2, 0.4, 0.6, 0.8, 1.0]}]\n",
      "2024-10-22 17:47:24,618 | random_search_training | INFO | Starting RandomizedSearchCV fitting process\n",
      "INFO:random_search_training:Starting RandomizedSearchCV fitting process\n",
      "/opt/anaconda3/envs/projetos_ML/lib/python3.11/site-packages/sklearn/model_selection/_search.py:306: UserWarning: The total space of parameters 45 is smaller than n_iter=100. Running 45 iterations. For exhaustive searches, use GridSearchCV.\n",
      "  warnings.warn(\n"
     ]
    },
    {
     "name": "stdout",
     "output_type": "stream",
     "text": [
      "Fitting 5 folds for each of 45 candidates, totalling 225 fits\n"
     ]
    },
    {
     "name": "stderr",
     "output_type": "stream",
     "text": [
      "2024-10-22 17:47:52,821 | random_search_training | INFO | RandomizedSearchCV fitting process completed\n",
      "INFO:random_search_training:RandomizedSearchCV fitting process completed\n",
      "2024-10-22 17:47:52,822 | random_search_training | INFO | Best parameters: {'classifier__subsample': 0.7}\n",
      "INFO:random_search_training:Best parameters: {'classifier__subsample': 0.7}\n",
      "2024-10-22 17:47:52,823 | random_search_training | INFO | Best cross-validation score: 0.9636272342579352\n",
      "INFO:random_search_training:Best cross-validation score: 0.9636272342579352\n",
      "2024-10-22 17:47:52,825 | random_search_training | INFO | All hyperparameter combinations and their cross-validation results:\n",
      "INFO:random_search_training:All hyperparameter combinations and their cross-validation results:\n",
      "2024-10-22 17:47:52,826 | random_search_training | INFO | Params: {'classifier__n_estimators': 50}, Mean Test Score: 0.9544825290887582\n",
      "INFO:random_search_training:Params: {'classifier__n_estimators': 50}, Mean Test Score: 0.9544825290887582\n",
      "2024-10-22 17:47:52,827 | random_search_training | INFO | Params: {'classifier__n_estimators': 100}, Mean Test Score: 0.9536691974033463\n",
      "INFO:random_search_training:Params: {'classifier__n_estimators': 100}, Mean Test Score: 0.9536691974033463\n",
      "2024-10-22 17:47:52,828 | random_search_training | INFO | Params: {'classifier__n_estimators': 150}, Mean Test Score: 0.9537894073956366\n",
      "INFO:random_search_training:Params: {'classifier__n_estimators': 150}, Mean Test Score: 0.9537894073956366\n",
      "2024-10-22 17:47:52,829 | random_search_training | INFO | Params: {'classifier__n_estimators': 200}, Mean Test Score: 0.9530486666548958\n",
      "INFO:random_search_training:Params: {'classifier__n_estimators': 200}, Mean Test Score: 0.9530486666548958\n",
      "2024-10-22 17:47:52,830 | random_search_training | INFO | Params: {'classifier__n_estimators': 250}, Mean Test Score: 0.9537383218273096\n",
      "INFO:random_search_training:Params: {'classifier__n_estimators': 250}, Mean Test Score: 0.9537383218273096\n",
      "2024-10-22 17:47:52,831 | random_search_training | INFO | Params: {'classifier__n_estimators': 300}, Mean Test Score: 0.9530486666548958\n",
      "INFO:random_search_training:Params: {'classifier__n_estimators': 300}, Mean Test Score: 0.9530486666548958\n",
      "2024-10-22 17:47:52,832 | random_search_training | INFO | Params: {'classifier__learning_rate': 0.01}, Mean Test Score: 0.9150380140191041\n",
      "INFO:random_search_training:Params: {'classifier__learning_rate': 0.01}, Mean Test Score: 0.9150380140191041\n",
      "2024-10-22 17:47:52,833 | random_search_training | INFO | Params: {'classifier__learning_rate': 0.05}, Mean Test Score: 0.9456991189505093\n",
      "INFO:random_search_training:Params: {'classifier__learning_rate': 0.05}, Mean Test Score: 0.9456991189505093\n",
      "2024-10-22 17:47:52,833 | random_search_training | INFO | Params: {'classifier__learning_rate': 0.1}, Mean Test Score: 0.9528313940827845\n",
      "INFO:random_search_training:Params: {'classifier__learning_rate': 0.1}, Mean Test Score: 0.9528313940827845\n",
      "2024-10-22 17:47:52,834 | random_search_training | INFO | Params: {'classifier__learning_rate': 0.15}, Mean Test Score: 0.9528808376149867\n",
      "INFO:random_search_training:Params: {'classifier__learning_rate': 0.15}, Mean Test Score: 0.9528808376149867\n",
      "2024-10-22 17:47:52,835 | random_search_training | INFO | Params: {'classifier__learning_rate': 0.2}, Mean Test Score: 0.9514998852340341\n",
      "INFO:random_search_training:Params: {'classifier__learning_rate': 0.2}, Mean Test Score: 0.9514998852340341\n",
      "2024-10-22 17:47:52,836 | random_search_training | INFO | Params: {'classifier__max_depth': 3}, Mean Test Score: 0.9593449629511921\n",
      "INFO:random_search_training:Params: {'classifier__max_depth': 3}, Mean Test Score: 0.9593449629511921\n",
      "2024-10-22 17:47:52,837 | random_search_training | INFO | Params: {'classifier__max_depth': 4}, Mean Test Score: 0.9544099381440871\n",
      "INFO:random_search_training:Params: {'classifier__max_depth': 4}, Mean Test Score: 0.9544099381440871\n",
      "2024-10-22 17:47:52,838 | random_search_training | INFO | Params: {'classifier__max_depth': 5}, Mean Test Score: 0.9543818410815073\n",
      "INFO:random_search_training:Params: {'classifier__max_depth': 5}, Mean Test Score: 0.9543818410815073\n",
      "2024-10-22 17:47:52,839 | random_search_training | INFO | Params: {'classifier__max_depth': 6}, Mean Test Score: 0.9536691974033463\n",
      "INFO:random_search_training:Params: {'classifier__max_depth': 6}, Mean Test Score: 0.9536691974033463\n",
      "2024-10-22 17:47:52,840 | random_search_training | INFO | Params: {'classifier__max_depth': 7}, Mean Test Score: 0.9529747750292799\n",
      "INFO:random_search_training:Params: {'classifier__max_depth': 7}, Mean Test Score: 0.9529747750292799\n",
      "2024-10-22 17:47:52,841 | random_search_training | INFO | Params: {'classifier__max_depth': 8}, Mean Test Score: 0.9552001224170301\n",
      "INFO:random_search_training:Params: {'classifier__max_depth': 8}, Mean Test Score: 0.9552001224170301\n",
      "2024-10-22 17:47:52,842 | random_search_training | INFO | Params: {'classifier__max_depth': 9}, Mean Test Score: 0.9536675553672216\n",
      "INFO:random_search_training:Params: {'classifier__max_depth': 9}, Mean Test Score: 0.9536675553672216\n",
      "2024-10-22 17:47:52,842 | random_search_training | INFO | Params: {'classifier__max_depth': 10}, Mean Test Score: 0.955126048342956\n",
      "INFO:random_search_training:Params: {'classifier__max_depth': 10}, Mean Test Score: 0.955126048342956\n",
      "2024-10-22 17:47:52,843 | random_search_training | INFO | Params: {'classifier__subsample': 0.7}, Mean Test Score: 0.9636272342579352\n",
      "INFO:random_search_training:Params: {'classifier__subsample': 0.7}, Mean Test Score: 0.9636272342579352\n",
      "2024-10-22 17:47:52,844 | random_search_training | INFO | Params: {'classifier__subsample': 0.75}, Mean Test Score: 0.9565546197715274\n",
      "INFO:random_search_training:Params: {'classifier__subsample': 0.75}, Mean Test Score: 0.9565546197715274\n",
      "2024-10-22 17:47:52,845 | random_search_training | INFO | Params: {'classifier__subsample': 0.8}, Mean Test Score: 0.9599813667155157\n",
      "INFO:random_search_training:Params: {'classifier__subsample': 0.8}, Mean Test Score: 0.9599813667155157\n",
      "2024-10-22 17:47:52,846 | random_search_training | INFO | Params: {'classifier__subsample': 0.85}, Mean Test Score: 0.9578646232439336\n",
      "INFO:random_search_training:Params: {'classifier__subsample': 0.85}, Mean Test Score: 0.9578646232439336\n",
      "2024-10-22 17:47:52,847 | random_search_training | INFO | Params: {'classifier__subsample': 0.9}, Mean Test Score: 0.9564593816762894\n",
      "INFO:random_search_training:Params: {'classifier__subsample': 0.9}, Mean Test Score: 0.9564593816762894\n",
      "2024-10-22 17:47:52,848 | random_search_training | INFO | Params: {'classifier__subsample': 0.95}, Mean Test Score: 0.9550681886399349\n",
      "INFO:random_search_training:Params: {'classifier__subsample': 0.95}, Mean Test Score: 0.9550681886399349\n",
      "2024-10-22 17:47:52,849 | random_search_training | INFO | Params: {'classifier__subsample': 1.0}, Mean Test Score: 0.9536691974033463\n",
      "INFO:random_search_training:Params: {'classifier__subsample': 1.0}, Mean Test Score: 0.9536691974033463\n",
      "2024-10-22 17:47:52,850 | random_search_training | INFO | Params: {'classifier__colsample_bytree': 0.7}, Mean Test Score: 0.9614560976040396\n",
      "INFO:random_search_training:Params: {'classifier__colsample_bytree': 0.7}, Mean Test Score: 0.9614560976040396\n",
      "2024-10-22 17:47:52,851 | random_search_training | INFO | Params: {'classifier__colsample_bytree': 0.75}, Mean Test Score: 0.9543588525757603\n",
      "INFO:random_search_training:Params: {'classifier__colsample_bytree': 0.75}, Mean Test Score: 0.9543588525757603\n",
      "2024-10-22 17:47:52,851 | random_search_training | INFO | Params: {'classifier__colsample_bytree': 0.8}, Mean Test Score: 0.9542092212982091\n",
      "INFO:random_search_training:Params: {'classifier__colsample_bytree': 0.8}, Mean Test Score: 0.9542092212982091\n",
      "2024-10-22 17:47:52,852 | random_search_training | INFO | Params: {'classifier__colsample_bytree': 0.85}, Mean Test Score: 0.9515213906103785\n",
      "INFO:random_search_training:Params: {'classifier__colsample_bytree': 0.85}, Mean Test Score: 0.9515213906103785\n",
      "2024-10-22 17:47:52,853 | random_search_training | INFO | Params: {'classifier__colsample_bytree': 0.9}, Mean Test Score: 0.9548479733507543\n",
      "INFO:random_search_training:Params: {'classifier__colsample_bytree': 0.9}, Mean Test Score: 0.9548479733507543\n",
      "2024-10-22 17:47:52,854 | random_search_training | INFO | Params: {'classifier__colsample_bytree': 0.95}, Mean Test Score: 0.9549959390504441\n",
      "INFO:random_search_training:Params: {'classifier__colsample_bytree': 0.95}, Mean Test Score: 0.9549959390504441\n",
      "2024-10-22 17:47:52,855 | random_search_training | INFO | Params: {'classifier__colsample_bytree': 1.0}, Mean Test Score: 0.9536691974033463\n",
      "INFO:random_search_training:Params: {'classifier__colsample_bytree': 1.0}, Mean Test Score: 0.9536691974033463\n",
      "2024-10-22 17:47:52,856 | random_search_training | INFO | Params: {'classifier__reg_alpha': 0.0}, Mean Test Score: 0.9536691974033463\n",
      "INFO:random_search_training:Params: {'classifier__reg_alpha': 0.0}, Mean Test Score: 0.9536691974033463\n",
      "2024-10-22 17:47:52,857 | random_search_training | INFO | Params: {'classifier__reg_alpha': 0.2}, Mean Test Score: 0.9534964187133262\n",
      "INFO:random_search_training:Params: {'classifier__reg_alpha': 0.2}, Mean Test Score: 0.9534964187133262\n",
      "2024-10-22 17:47:52,857 | random_search_training | INFO | Params: {'classifier__reg_alpha': 0.4}, Mean Test Score: 0.9550452001341878\n",
      "INFO:random_search_training:Params: {'classifier__reg_alpha': 0.4}, Mean Test Score: 0.9550452001341878\n",
      "2024-10-22 17:47:52,858 | random_search_training | INFO | Params: {'classifier__reg_alpha': 0.6}, Mean Test Score: 0.9529499620389498\n",
      "INFO:random_search_training:Params: {'classifier__reg_alpha': 0.6}, Mean Test Score: 0.9529499620389498\n",
      "2024-10-22 17:47:52,859 | random_search_training | INFO | Params: {'classifier__reg_alpha': 0.8}, Mean Test Score: 0.9521877159218649\n",
      "INFO:random_search_training:Params: {'classifier__reg_alpha': 0.8}, Mean Test Score: 0.9521877159218649\n",
      "2024-10-22 17:47:52,860 | random_search_training | INFO | Params: {'classifier__reg_alpha': 1.0}, Mean Test Score: 0.9521348058689549\n",
      "INFO:random_search_training:Params: {'classifier__reg_alpha': 1.0}, Mean Test Score: 0.9521348058689549\n",
      "2024-10-22 17:47:52,861 | random_search_training | INFO | Params: {'classifier__reg_lambda': 0.0}, Mean Test Score: 0.9522391428453719\n",
      "INFO:random_search_training:Params: {'classifier__reg_lambda': 0.0}, Mean Test Score: 0.9522391428453719\n",
      "2024-10-22 17:47:52,862 | random_search_training | INFO | Params: {'classifier__reg_lambda': 0.2}, Mean Test Score: 0.9501913413492946\n",
      "INFO:random_search_training:Params: {'classifier__reg_lambda': 0.2}, Mean Test Score: 0.9501913413492946\n",
      "2024-10-22 17:47:52,862 | random_search_training | INFO | Params: {'classifier__reg_lambda': 0.4}, Mean Test Score: 0.9521928244786977\n",
      "INFO:random_search_training:Params: {'classifier__reg_lambda': 0.4}, Mean Test Score: 0.9521928244786977\n",
      "2024-10-22 17:47:52,863 | random_search_training | INFO | Params: {'classifier__reg_lambda': 0.6}, Mean Test Score: 0.9570665466038101\n",
      "INFO:random_search_training:Params: {'classifier__reg_lambda': 0.6}, Mean Test Score: 0.9570665466038101\n",
      "2024-10-22 17:47:52,865 | random_search_training | INFO | Params: {'classifier__reg_lambda': 0.8}, Mean Test Score: 0.9529302811471887\n",
      "INFO:random_search_training:Params: {'classifier__reg_lambda': 0.8}, Mean Test Score: 0.9529302811471887\n",
      "2024-10-22 17:47:52,899 | random_search_training | INFO | Params: {'classifier__reg_lambda': 1.0}, Mean Test Score: 0.9536691974033463\n",
      "INFO:random_search_training:Params: {'classifier__reg_lambda': 1.0}, Mean Test Score: 0.9536691974033463\n",
      "2024-10-22 17:47:52,900 | random_search_training | INFO | Number of tests that resulted in NaN for XGBoost: 0\n",
      "INFO:random_search_training:Number of tests that resulted in NaN for XGBoost: 0\n",
      "2024-10-22 17:47:52,901 | random_search_training | INFO | Best parameters: {'classifier__subsample': 0.7}\n",
      "INFO:random_search_training:Best parameters: {'classifier__subsample': 0.7}\n",
      "2024-10-22 17:47:52,902 | random_search_training | INFO | Best cross-validation score: 0.9636272342579352\n",
      "INFO:random_search_training:Best cross-validation score: 0.9636272342579352\n",
      "2024-10-22 17:47:52,903 | random_search_training | INFO | Model XGBoost_none stored successfully\n",
      "INFO:random_search_training:Model XGBoost_none stored successfully\n"
     ]
    },
    {
     "name": "stdout",
     "output_type": "stream",
     "text": [
      "Model: Random Forest_none\n",
      "Best Hyperparameters: {'classifier__n_estimators': 200}\n",
      "CV Result: 0.9760116767013318\n",
      "\n",
      "Model: XGBoost_none\n",
      "Best Hyperparameters: {'classifier__subsample': 0.7}\n",
      "CV Result: 0.9636272342579352\n",
      "\n"
     ]
    }
   ],
   "source": [
    "# src/notebooks/model_training_behavior_multiclassification_by_student_level.ipynb\n",
    "\n",
    "from core.training.random_search_training import RandomSearchTraining\n",
    "\n",
    "# Instantiate the RandomizedSearchCV training class\n",
    "training = RandomSearchTraining()\n",
    "\n",
    "# Execute the training\n",
    "trained_models = training.train_model(\n",
    "    X_train=X_train,\n",
    "    y_train=y_train,\n",
    "    selected_models=selected_models,\n",
    "    selected_selectors=selected_selectors,\n",
    "    n_iter=n_iter,\n",
    "    cv=cv,\n",
    "    scoring=scoring_metric,\n",
    "    n_jobs=n_jobs\n",
    ")\n",
    "\n",
    "# Example of accessing the trained models\n",
    "for model_key, model_info in trained_models.items():\n",
    "    print(f\"Model: {model_key}\")\n",
    "    print(f\"Best Hyperparameters: {model_info['hyperparameters']}\")\n",
    "    print(f\"CV Result: {model_info['cv_result']}\\n\")"
   ]
  },
  {
   "cell_type": "markdown",
   "id": "c4045d16",
   "metadata": {},
   "source": [
    "### Avaliação e logging"
   ]
  },
  {
   "cell_type": "code",
   "execution_count": 17,
   "id": "f8a8e164",
   "metadata": {},
   "outputs": [
    {
     "name": "stdout",
     "output_type": "stream",
     "text": [
      "Model 'Random Forest_none' saved at: ../models/_RandomSearch__Random Forest_none_20241022_1747.pkl\n",
      "Model 'XGBoost_none' saved at: ../models/_RandomSearch__XGBoost_none_20241022_1747.pkl\n",
      "Modelos salvos: ['../models/_RandomSearch__Random Forest_none_20241022_1747.pkl', '../models/_RandomSearch__XGBoost_none_20241022_1747.pkl']\n"
     ]
    },
    {
     "data": {
      "text/plain": [
       "['../models/_RandomSearch__Random Forest_none_20241022_1747.pkl',\n",
       " '../models/_RandomSearch__XGBoost_none_20241022_1747.pkl']"
      ]
     },
     "execution_count": 17,
     "metadata": {},
     "output_type": "execute_result"
    }
   ],
   "source": [
    "import notebook_utils as nb_utils\n",
    "\n",
    "# Avaliação dos Modelos\n",
    "class_metrics_results, avg_metrics_results = nb_utils.evaluate_models(trained_models, X_train, y_train, X_test, y_test)\n",
    "\n",
    "# Geração dos Relatórios\n",
    "nb_utils.generate_reports(class_metrics_results, avg_metrics_results, filename_prefix=\"_RandomSearch_\")\n",
    "\n",
    "# Salvando os modelos em arquivos para recuperação\n",
    "nb_utils.save_models(trained_models, filename_prefix=\"_RandomSearch_\")"
   ]
  }
 ],
 "metadata": {
  "kernelspec": {
   "display_name": "projetos_ML",
   "language": "python",
   "name": "python3"
  },
  "language_info": {
   "codemirror_mode": {
    "name": "ipython",
    "version": 3
   },
   "file_extension": ".py",
   "mimetype": "text/x-python",
   "name": "python",
   "nbconvert_exporter": "python",
   "pygments_lexer": "ipython3",
   "version": "3.11.9"
  },
  "toc": {
   "base_numbering": 1,
   "nav_menu": {},
   "number_sections": true,
   "sideBar": true,
   "skip_h1_title": false,
   "title_cell": "Table of Contents",
   "title_sidebar": "Contents",
   "toc_cell": false,
   "toc_position": {},
   "toc_section_display": true,
   "toc_window_display": false
  }
 },
 "nbformat": 4,
 "nbformat_minor": 5
}
