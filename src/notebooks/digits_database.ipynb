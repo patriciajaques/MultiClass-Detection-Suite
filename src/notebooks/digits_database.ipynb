{
 "cells": [
  {
   "cell_type": "markdown",
   "id": "4f46e03b",
   "metadata": {},
   "source": [
    "## Imports"
   ]
  },
  {
   "cell_type": "code",
   "execution_count": 1,
   "id": "920d4b3f",
   "metadata": {},
   "outputs": [
    {
     "name": "stdout",
     "output_type": "stream",
     "text": [
      "/Users/patricia/Documents/code/python-code/behavior-detection/src\n"
     ]
    }
   ],
   "source": [
    "import os\n",
    "path = \"/Users/patricia/Documents/code/python-code/behavior-detection/src\"\n",
    "os.chdir(path)  # Muda o diretório para o nível anterior (a raiz do projeto)\n",
    "print(os.getcwd())  # Verifique se agora está na raiz"
   ]
  },
  {
   "cell_type": "code",
   "execution_count": 2,
   "id": "19eeac05",
   "metadata": {
    "scrolled": true
   },
   "outputs": [],
   "source": [
    "from sklearn import datasets\n",
    "from time import time\n",
    "import pandas as pd"
   ]
  },
  {
   "cell_type": "markdown",
   "id": "7a415bc4",
   "metadata": {},
   "source": [
    "## Data"
   ]
  },
  {
   "cell_type": "code",
   "execution_count": 3,
   "id": "a4d784b5",
   "metadata": {},
   "outputs": [],
   "source": [
    "digits = datasets.load_digits()\n",
    "\n",
    "n_samples = len(digits.images)\n",
    "X = digits.images\n",
    "y = digits.target\n",
    "\n",
    "# Flatten the images\n",
    "X = X.reshape((n_samples, -1))\n",
    "X = pd.DataFrame(X)"
   ]
  },
  {
   "cell_type": "code",
   "execution_count": 4,
   "id": "1ee2220c",
   "metadata": {},
   "outputs": [
    {
     "name": "stdout",
     "output_type": "stream",
     "text": [
      "1797\n",
      "<class 'pandas.core.frame.DataFrame'>\n",
      "    0    1    2     3     4     5    6    7    8    9   ...   54   55   56  \\\n",
      "0  0.0  0.0  5.0  13.0   9.0   1.0  0.0  0.0  0.0  0.0  ...  0.0  0.0  0.0   \n",
      "1  0.0  0.0  0.0  12.0  13.0   5.0  0.0  0.0  0.0  0.0  ...  0.0  0.0  0.0   \n",
      "2  0.0  0.0  0.0   4.0  15.0  12.0  0.0  0.0  0.0  0.0  ...  5.0  0.0  0.0   \n",
      "3  0.0  0.0  7.0  15.0  13.0   1.0  0.0  0.0  0.0  8.0  ...  9.0  0.0  0.0   \n",
      "4  0.0  0.0  0.0   1.0  11.0   0.0  0.0  0.0  0.0  0.0  ...  0.0  0.0  0.0   \n",
      "\n",
      "    57   58    59    60    61   62   63  \n",
      "0  0.0  6.0  13.0  10.0   0.0  0.0  0.0  \n",
      "1  0.0  0.0  11.0  16.0  10.0  0.0  0.0  \n",
      "2  0.0  0.0   3.0  11.0  16.0  9.0  0.0  \n",
      "3  0.0  7.0  13.0  13.0   9.0  0.0  0.0  \n",
      "4  0.0  0.0   2.0  16.0   4.0  0.0  0.0  \n",
      "\n",
      "[5 rows x 64 columns]\n",
      "[0 1 2 3 4]\n"
     ]
    }
   ],
   "source": [
    "print(n_samples)\n",
    "print(type(X))\n",
    "print(X.head(5))\n",
    "print(y[:5])"
   ]
  },
  {
   "cell_type": "code",
   "execution_count": 5,
   "id": "4d44db6a",
   "metadata": {},
   "outputs": [],
   "source": [
    "from sklearn.model_selection import train_test_split\n",
    "\n",
    "# Dividir X e y em conjuntos de treinamento e teste\n",
    "X_train, X_test, y_train, y_test = train_test_split(X, y, test_size=0.2, random_state=42)"
   ]
  },
  {
   "cell_type": "markdown",
   "id": "34b350ec",
   "metadata": {},
   "source": [
    "## Preprocessing"
   ]
  },
  {
   "cell_type": "code",
   "execution_count": 6,
   "id": "0240ae19",
   "metadata": {},
   "outputs": [],
   "source": [
    "import pandas as pd\n",
    "from core.preprocessors.data_encoder import DataEncoder\n",
    "\n",
    "# Codificar y_train\n",
    "y_train = DataEncoder.encode_y(y_train)\n",
    "# Codificar y_test\n",
    "y_test = DataEncoder.encode_y(y_test)\n",
    "\n",
    "# Pré-processar X_train\n",
    "X_encoder = DataEncoder(num_classes=0, select_numerical=True)\n",
    "X_encoder.fit(X_train)\n",
    "\n",
    "X_train = X_encoder.transform(X_train)\n",
    "\n",
    "# Pré-processar X_test usando o mesmo preprocessor\n",
    "X_test = X_encoder.transform(X_test)"
   ]
  },
  {
   "cell_type": "code",
   "execution_count": 7,
   "id": "f6c8f39f",
   "metadata": {},
   "outputs": [
    {
     "name": "stdout",
     "output_type": "stream",
     "text": [
      "      num_standard__x0  num_standard__x1  num_standard__x2  num_standard__x3  \\\n",
      "1734               0.0         -0.341698         -0.463360          0.508365   \n",
      "855                0.0         -0.341698          0.784716         -0.658600   \n",
      "1642               0.0         -0.341698         -1.087399         -0.425207   \n",
      "175                0.0          0.759243          0.992729          0.975151   \n",
      "925                0.0         -0.341698          0.160678          0.508365   \n",
      "548                0.0         -0.341698          1.616768          0.975151   \n",
      "1615               0.0         -0.341698         -1.087399         -0.658600   \n",
      "334                0.0         -0.341698         -0.463360         -0.191814   \n",
      "756                0.0         -0.341698         -1.087399         -0.658600   \n",
      "433                0.0         -0.341698         -1.087399         -1.592172   \n",
      "889                0.0          5.163004          2.240806          0.041579   \n",
      "1675               0.0          0.759243          1.200742         -0.425207   \n",
      "198                0.0         -0.341698         -1.087399         -2.292351   \n",
      "15                 0.0          5.163004          1.408755          0.274972   \n",
      "265                0.0         -0.341698          0.160678          0.041579   \n",
      "\n",
      "      num_standard__x4  num_standard__x5  num_standard__x6  num_standard__x7  \\\n",
      "1734         -2.545906         -1.037226         -0.406234         -0.131019   \n",
      "855          -1.844602         -1.037226         -0.406234         -0.131019   \n",
      "1642          0.259308         -0.504526         -0.406234         -0.131019   \n",
      "175           0.960612          0.916006         -0.406234         -0.131019   \n",
      "925           0.259308         -0.504526         -0.406234         -0.131019   \n",
      "548           0.960612          1.803839          3.426524         -0.131019   \n",
      "1615         -0.909531         -0.859659         -0.406234         -0.131019   \n",
      "334           0.960612          0.738440         -0.406234         -0.131019   \n",
      "756           0.259308         -1.037226         -0.406234         -0.131019   \n",
      "433           0.960612          0.383306         -0.406234         -0.131019   \n",
      "889          -2.545906         -1.037226         -0.406234         -0.131019   \n",
      "1675         -0.909531         -0.859659         -0.111407         -0.131019   \n",
      "198           0.726844         -0.326960         -0.406234         -0.131019   \n",
      "15            0.960612          1.803839          0.183421         -0.131019   \n",
      "265           0.259308         -0.149393         -0.406234         -0.131019   \n",
      "\n",
      "      num_standard__x8  num_standard__x9  ...  num_standard__x54  \\\n",
      "1734         -0.061035         -0.617254  ...           1.479901   \n",
      "855          -0.061035         -0.617254  ...          -0.763797   \n",
      "1642         -0.061035         -0.617254  ...          -0.559825   \n",
      "175          -0.061035          0.938876  ...           0.052093   \n",
      "925          -0.061035         -0.617254  ...          -0.355852   \n",
      "548          -0.061035          0.627650  ...          -0.763797   \n",
      "1615         -0.061035         -0.617254  ...          -0.763797   \n",
      "334          -0.061035         -0.617254  ...           0.052093   \n",
      "756          -0.061035         -0.617254  ...          -0.763797   \n",
      "433          -0.061035         -0.617254  ...          -0.559825   \n",
      "889          -0.061035          0.938876  ...          -0.151879   \n",
      "1675         -0.061035          0.316424  ...          -0.763797   \n",
      "198          -0.061035         -0.617254  ...          -0.763797   \n",
      "15           -0.061035          2.806232  ...          -0.763797   \n",
      "265          -0.061035          0.005198  ...          -0.763797   \n",
      "\n",
      "      num_standard__x55  num_standard__x56  num_standard__x57  \\\n",
      "1734          -0.216084          -0.026389          -0.306776   \n",
      "855           -0.216084          -0.026389          -0.306776   \n",
      "1642          -0.216084          -0.026389          -0.306776   \n",
      "175           -0.216084          -0.026389           0.781712   \n",
      "925           -0.216084          -0.026389          -0.306776   \n",
      "548           -0.216084          -0.026389           0.781712   \n",
      "1615          -0.216084          -0.026389          -0.306776   \n",
      "334           -0.216084          -0.026389          -0.306776   \n",
      "756           -0.216084          -0.026389           2.958688   \n",
      "433           -0.216084          -0.026389          -0.306776   \n",
      "889           -0.216084          -0.026389           8.401130   \n",
      "1675          -0.216084          -0.026389           0.781712   \n",
      "198           -0.216084          -0.026389          -0.306776   \n",
      "15            -0.216084          -0.026389           4.047177   \n",
      "265           -0.216084          -0.026389          -0.306776   \n",
      "\n",
      "      num_standard__x58  num_standard__x59  num_standard__x60  \\\n",
      "1734          -0.499622          -0.246272           0.848044   \n",
      "855            0.085033           0.891647           0.439036   \n",
      "1642          -0.694508          -0.246272           0.234532   \n",
      "175            1.839001           0.436480          -0.174476   \n",
      "925           -0.304737           0.664063           0.848044   \n",
      "548            1.839001           0.891647          -0.378980   \n",
      "1615          -1.084278          -1.156607           0.439036   \n",
      "334           -0.109852          -0.018688           0.439036   \n",
      "756           -0.499622           0.208896          -1.606004   \n",
      "433           -1.084278          -1.839359           0.643540   \n",
      "889            2.033886           0.891647           0.848044   \n",
      "1675           1.644116           0.436480          -0.787988   \n",
      "198           -1.084278          -2.066943           0.643540   \n",
      "15             1.839001           0.891647          -2.015011   \n",
      "265           -0.499622           0.891647           0.439036   \n",
      "\n",
      "      num_standard__x61  num_standard__x62  num_standard__x63  \n",
      "1734           1.052703           0.459523            -0.1971  \n",
      "855           -0.644519          -0.506231            -0.1971  \n",
      "1642          -0.135353          -0.506231            -0.1971  \n",
      "175           -0.474797          -0.506231            -0.1971  \n",
      "925            0.373814          -0.506231            -0.1971  \n",
      "548           -1.153686          -0.506231            -0.1971  \n",
      "1615           0.373814          -0.506231            -0.1971  \n",
      "334            0.373814          -0.506231            -0.1971  \n",
      "756           -1.153686          -0.506231            -0.1971  \n",
      "433            0.713259          -0.023354            -0.1971  \n",
      "889            1.561870           0.459523            -0.1971  \n",
      "1675          -0.983964          -0.506231            -0.1971  \n",
      "198           -1.153686          -0.506231            -0.1971  \n",
      "15            -1.153686          -0.506231            -0.1971  \n",
      "265           -1.153686          -0.506231            -0.1971  \n",
      "\n",
      "[15 rows x 64 columns]\n"
     ]
    }
   ],
   "source": [
    "print(X_train.head(15))"
   ]
  },
  {
   "cell_type": "markdown",
   "id": "ba9f97fd",
   "metadata": {},
   "source": [
    "## Classifier"
   ]
  },
  {
   "cell_type": "code",
   "execution_count": 8,
   "id": "bbf356a2",
   "metadata": {},
   "outputs": [],
   "source": [
    "# Definir quais modelos e seletores utilizar\n",
    "selected_models = [ # None to use all models\n",
    "    # 'Logistic Regression',\n",
    "    # 'Decision Tree',\n",
    "    'Random Forest',\n",
    "    # 'Gradient Boosting',\n",
    "    # 'SVM',\n",
    "    # 'KNN',\n",
    "    # 'XGBoost'\n",
    "]\n",
    "selected_selectors = ['pca']\n",
    "\n",
    "cv = 5  # Number of folds in the cross-validation\n",
    "n_iter = 100\n",
    "n_jobs = 4  # Number of processors to be used in the execution: -1 to use all processors\n",
    "\n",
    "# Choose a scoring metric\n",
    "scoring_metric = 'balanced_accuracy'  # Possible values: 'f1_macro', 'balanced_accuracy', 'roc_auc_ovr', etc."
   ]
  },
  {
   "cell_type": "markdown",
   "id": "bbfc0cb4",
   "metadata": {},
   "source": [
    "## Usando Otimização Bayesiana (BayesSearchCV)"
   ]
  },
  {
   "cell_type": "code",
   "execution_count": 9,
   "id": "217779b6",
   "metadata": {},
   "outputs": [
    {
     "name": "stderr",
     "output_type": "stream",
     "text": [
      "INFO:root:Training and evaluating Random Forest with Bayesian Optimization and pca\n",
      "INFO:root:Search space for Random Forest with selector pca: {'classifier__n_estimators': Integer(low=50, high=300, prior='uniform', transform='identity'), 'classifier__max_depth': Integer(low=3, high=30, prior='uniform', transform='identity'), 'classifier__min_samples_split': Integer(low=2, high=20, prior='uniform', transform='identity'), 'classifier__min_samples_leaf': Integer(low=1, high=10, prior='uniform', transform='identity'), 'classifier__max_features': Categorical(categories=('sqrt', 'log2', None), prior=None), 'feature_selection__n_components': [1, 2, 3, 4, 5]}\n"
     ]
    },
    {
     "name": "stdout",
     "output_type": "stream",
     "text": [
      "Training and evaluating Random Forest with Bayesian Optimization and pca\n",
      "Fitting 5 folds for each of 1 candidates, totalling 5 fits\n",
      "[CV 1/5] END classifier__max_depth=14, classifier__max_features=None, classifier__min_samples_leaf=9, classifier__min_samples_split=8, classifier__n_estimators=218, feature_selection__n_components=3;, score=0.708 total time=   0.4s\n",
      "[CV 2/5] END classifier__max_depth=14, classifier__max_features=None, classifier__min_samples_leaf=9, classifier__min_samples_split=8, classifier__n_estimators=218, feature_selection__n_components=3;, score=0.755 total time=   0.4s\n",
      "[CV 3/5] END classifier__max_depth=14, classifier__max_features=None, classifier__min_samples_leaf=9, classifier__min_samples_split=8, classifier__n_estimators=218, feature_selection__n_components=3;, score=0.756 total time=   0.4s\n",
      "[CV 4/5] END classifier__max_depth=14, classifier__max_features=None, classifier__min_samples_leaf=9, classifier__min_samples_split=8, classifier__n_estimators=218, feature_selection__n_components=3;, score=0.743 total time=   0.4s\n"
     ]
    },
    {
     "name": "stderr",
     "output_type": "stream",
     "text": [
      "INFO:root:Iteration 1: tested parameters: [14, None, 9, 8, 218, 3], score: 0.7316827044746956\n"
     ]
    },
    {
     "name": "stdout",
     "output_type": "stream",
     "text": [
      "[CV 5/5] END classifier__max_depth=14, classifier__max_features=None, classifier__min_samples_leaf=9, classifier__min_samples_split=8, classifier__n_estimators=218, feature_selection__n_components=3;, score=0.697 total time=   0.3s\n",
      "Fitting 5 folds for each of 1 candidates, totalling 5 fits\n",
      "[CV 1/5] END classifier__max_depth=26, classifier__max_features=None, classifier__min_samples_leaf=4, classifier__min_samples_split=19, classifier__n_estimators=266, feature_selection__n_components=1;, score=0.345 total time=   0.3s\n",
      "[CV 2/5] END classifier__max_depth=26, classifier__max_features=None, classifier__min_samples_leaf=4, classifier__min_samples_split=19, classifier__n_estimators=266, feature_selection__n_components=1;, score=0.338 total time=   0.3s\n",
      "[CV 3/5] END classifier__max_depth=26, classifier__max_features=None, classifier__min_samples_leaf=4, classifier__min_samples_split=19, classifier__n_estimators=266, feature_selection__n_components=1;, score=0.336 total time=   0.3s\n",
      "[CV 4/5] END classifier__max_depth=26, classifier__max_features=None, classifier__min_samples_leaf=4, classifier__min_samples_split=19, classifier__n_estimators=266, feature_selection__n_components=1;, score=0.333 total time=   0.4s\n"
     ]
    },
    {
     "name": "stderr",
     "output_type": "stream",
     "text": [
      "INFO:root:Iteration 2: tested parameters: [26, None, 4, 19, 266, 1], score: 0.3449824378645291\n"
     ]
    },
    {
     "name": "stdout",
     "output_type": "stream",
     "text": [
      "[CV 5/5] END classifier__max_depth=26, classifier__max_features=None, classifier__min_samples_leaf=4, classifier__min_samples_split=19, classifier__n_estimators=266, feature_selection__n_components=1;, score=0.372 total time=   0.3s\n",
      "Fitting 5 folds for each of 1 candidates, totalling 5 fits\n"
     ]
    },
    {
     "name": "stderr",
     "output_type": "stream",
     "text": [
      "INFO:root:Iteration 3: tested parameters: [15, None, 2, 10, 97, 3], score: 0.7403043534556326\n"
     ]
    },
    {
     "name": "stdout",
     "output_type": "stream",
     "text": [
      "[CV 1/5] END classifier__max_depth=15, classifier__max_features=None, classifier__min_samples_leaf=2, classifier__min_samples_split=10, classifier__n_estimators=97, feature_selection__n_components=3;, score=0.704 total time=   0.3s\n",
      "[CV 2/5] END classifier__max_depth=15, classifier__max_features=None, classifier__min_samples_leaf=2, classifier__min_samples_split=10, classifier__n_estimators=97, feature_selection__n_components=3;, score=0.784 total time=   0.3s\n",
      "[CV 3/5] END classifier__max_depth=15, classifier__max_features=None, classifier__min_samples_leaf=2, classifier__min_samples_split=10, classifier__n_estimators=97, feature_selection__n_components=3;, score=0.749 total time=   0.3s\n",
      "[CV 4/5] END classifier__max_depth=15, classifier__max_features=None, classifier__min_samples_leaf=2, classifier__min_samples_split=10, classifier__n_estimators=97, feature_selection__n_components=3;, score=0.767 total time=   0.3s\n",
      "[CV 5/5] END classifier__max_depth=15, classifier__max_features=None, classifier__min_samples_leaf=2, classifier__min_samples_split=10, classifier__n_estimators=97, feature_selection__n_components=3;, score=0.697 total time=   0.2s\n",
      "Fitting 5 folds for each of 1 candidates, totalling 5 fits\n",
      "[CV 1/5] END classifier__max_depth=25, classifier__max_features=sqrt, classifier__min_samples_leaf=6, classifier__min_samples_split=16, classifier__n_estimators=181, feature_selection__n_components=1;, score=0.349 total time=   0.2s\n",
      "[CV 2/5] END classifier__max_depth=25, classifier__max_features=sqrt, classifier__min_samples_leaf=6, classifier__min_samples_split=16, classifier__n_estimators=181, feature_selection__n_components=1;, score=0.349 total time=   0.2s\n",
      "[CV 3/5] END classifier__max_depth=25, classifier__max_features=sqrt, classifier__min_samples_leaf=6, classifier__min_samples_split=16, classifier__n_estimators=181, feature_selection__n_components=1;, score=0.332 total time=   0.3s\n",
      "[CV 4/5] END classifier__max_depth=25, classifier__max_features=sqrt, classifier__min_samples_leaf=6, classifier__min_samples_split=16, classifier__n_estimators=181, feature_selection__n_components=1;, score=0.319 total time=   0.3s\n"
     ]
    },
    {
     "name": "stderr",
     "output_type": "stream",
     "text": [
      "INFO:root:Iteration 4: tested parameters: [25, 'sqrt', 6, 16, 181, 1], score: 0.3437229255316018\n"
     ]
    },
    {
     "name": "stdout",
     "output_type": "stream",
     "text": [
      "[CV 5/5] END classifier__max_depth=25, classifier__max_features=sqrt, classifier__min_samples_leaf=6, classifier__min_samples_split=16, classifier__n_estimators=181, feature_selection__n_components=1;, score=0.369 total time=   0.2s\n",
      "Fitting 5 folds for each of 1 candidates, totalling 5 fits\n",
      "[CV 1/5] END classifier__max_depth=25, classifier__max_features=log2, classifier__min_samples_leaf=6, classifier__min_samples_split=15, classifier__n_estimators=276, feature_selection__n_components=4;, score=0.790 total time=   0.4s\n",
      "[CV 3/5] END classifier__max_depth=25, classifier__max_features=log2, classifier__min_samples_leaf=6, classifier__min_samples_split=15, classifier__n_estimators=276, feature_selection__n_components=4;, score=0.818 total time=   0.4s\n",
      "[CV 4/5] END classifier__max_depth=25, classifier__max_features=log2, classifier__min_samples_leaf=6, classifier__min_samples_split=15, classifier__n_estimators=276, feature_selection__n_components=4;, score=0.839 total time=   0.4s\n",
      "[CV 2/5] END classifier__max_depth=25, classifier__max_features=log2, classifier__min_samples_leaf=6, classifier__min_samples_split=15, classifier__n_estimators=276, feature_selection__n_components=4;, score=0.838 total time=   0.5s\n"
     ]
    },
    {
     "name": "stderr",
     "output_type": "stream",
     "text": [
      "INFO:root:Iteration 5: tested parameters: [25, 'log2', 6, 15, 276, 4], score: 0.8125484282948131\n"
     ]
    },
    {
     "name": "stdout",
     "output_type": "stream",
     "text": [
      "[CV 5/5] END classifier__max_depth=25, classifier__max_features=log2, classifier__min_samples_leaf=6, classifier__min_samples_split=15, classifier__n_estimators=276, feature_selection__n_components=4;, score=0.778 total time=   0.3s\n",
      "Fitting 5 folds for each of 1 candidates, totalling 5 fits\n",
      "[CV 2/5] END classifier__max_depth=23, classifier__max_features=None, classifier__min_samples_leaf=2, classifier__min_samples_split=5, classifier__n_estimators=250, feature_selection__n_components=2;, score=0.556 total time=   0.4s\n",
      "[CV 1/5] END classifier__max_depth=23, classifier__max_features=None, classifier__min_samples_leaf=2, classifier__min_samples_split=5, classifier__n_estimators=250, feature_selection__n_components=2;, score=0.545 total time=   0.4s\n",
      "[CV 3/5] END classifier__max_depth=23, classifier__max_features=None, classifier__min_samples_leaf=2, classifier__min_samples_split=5, classifier__n_estimators=250, feature_selection__n_components=2;, score=0.525 total time=   0.4s\n",
      "[CV 4/5] END classifier__max_depth=23, classifier__max_features=None, classifier__min_samples_leaf=2, classifier__min_samples_split=5, classifier__n_estimators=250, feature_selection__n_components=2;, score=0.519 total time=   0.4s\n"
     ]
    },
    {
     "name": "stderr",
     "output_type": "stream",
     "text": [
      "INFO:root:Iteration 6: tested parameters: [23, None, 2, 5, 250, 2], score: 0.5304670974804456\n"
     ]
    },
    {
     "name": "stdout",
     "output_type": "stream",
     "text": [
      "[CV 5/5] END classifier__max_depth=23, classifier__max_features=None, classifier__min_samples_leaf=2, classifier__min_samples_split=5, classifier__n_estimators=250, feature_selection__n_components=2;, score=0.508 total time=   0.3s\n",
      "Fitting 5 folds for each of 1 candidates, totalling 5 fits\n",
      "[CV 2/5] END classifier__max_depth=20, classifier__max_features=None, classifier__min_samples_leaf=4, classifier__min_samples_split=18, classifier__n_estimators=198, feature_selection__n_components=3;, score=0.773 total time=   0.4s\n",
      "[CV 3/5] END classifier__max_depth=20, classifier__max_features=None, classifier__min_samples_leaf=4, classifier__min_samples_split=18, classifier__n_estimators=198, feature_selection__n_components=3;, score=0.760 total time=   0.4s\n",
      "[CV 1/5] END classifier__max_depth=20, classifier__max_features=None, classifier__min_samples_leaf=4, classifier__min_samples_split=18, classifier__n_estimators=198, feature_selection__n_components=3;, score=0.704 total time=   0.4s\n",
      "[CV 4/5] END classifier__max_depth=20, classifier__max_features=None, classifier__min_samples_leaf=4, classifier__min_samples_split=18, classifier__n_estimators=198, feature_selection__n_components=3;, score=0.757 total time=   0.4s\n"
     ]
    },
    {
     "name": "stderr",
     "output_type": "stream",
     "text": [
      "INFO:root:Iteration 7: tested parameters: [20, None, 4, 18, 198, 3], score: 0.7372985621884398\n"
     ]
    },
    {
     "name": "stdout",
     "output_type": "stream",
     "text": [
      "[CV 5/5] END classifier__max_depth=20, classifier__max_features=None, classifier__min_samples_leaf=4, classifier__min_samples_split=18, classifier__n_estimators=198, feature_selection__n_components=3;, score=0.694 total time=   0.3s\n",
      "Fitting 5 folds for each of 1 candidates, totalling 5 fits\n",
      "[CV 3/5] END classifier__max_depth=18, classifier__max_features=None, classifier__min_samples_leaf=5, classifier__min_samples_split=17, classifier__n_estimators=131, feature_selection__n_components=1;, score=0.318 total time=   0.1s\n",
      "[CV 2/5] END classifier__max_depth=18, classifier__max_features=None, classifier__min_samples_leaf=5, classifier__min_samples_split=17, classifier__n_estimators=131, feature_selection__n_components=1;, score=0.353 total time=   0.1s\n",
      "[CV 1/5] END classifier__max_depth=18, classifier__max_features=None, classifier__min_samples_leaf=5, classifier__min_samples_split=17, classifier__n_estimators=131, feature_selection__n_components=1;, score=0.348 total time=   0.1s\n",
      "[CV 4/5] END classifier__max_depth=18, classifier__max_features=None, classifier__min_samples_leaf=5, classifier__min_samples_split=17, classifier__n_estimators=131, feature_selection__n_components=1;, score=0.326 total time=   0.1s\n"
     ]
    },
    {
     "name": "stderr",
     "output_type": "stream",
     "text": [
      "INFO:root:Iteration 8: tested parameters: [18, None, 5, 17, 131, 1], score: 0.34218080642218573\n"
     ]
    },
    {
     "name": "stdout",
     "output_type": "stream",
     "text": [
      "[CV 5/5] END classifier__max_depth=18, classifier__max_features=None, classifier__min_samples_leaf=5, classifier__min_samples_split=17, classifier__n_estimators=131, feature_selection__n_components=1;, score=0.366 total time=   0.1s\n",
      "Fitting 5 folds for each of 1 candidates, totalling 5 fits\n"
     ]
    },
    {
     "name": "stderr",
     "output_type": "stream",
     "text": [
      "INFO:root:Iteration 9: tested parameters: [29, None, 9, 9, 145, 2], score: 0.5528393217625699\n"
     ]
    },
    {
     "name": "stdout",
     "output_type": "stream",
     "text": [
      "[CV 1/5] END classifier__max_depth=29, classifier__max_features=None, classifier__min_samples_leaf=9, classifier__min_samples_split=9, classifier__n_estimators=145, feature_selection__n_components=2;, score=0.569 total time=   0.2s\n",
      "[CV 2/5] END classifier__max_depth=29, classifier__max_features=None, classifier__min_samples_leaf=9, classifier__min_samples_split=9, classifier__n_estimators=145, feature_selection__n_components=2;, score=0.560 total time=   0.2s\n",
      "[CV 3/5] END classifier__max_depth=29, classifier__max_features=None, classifier__min_samples_leaf=9, classifier__min_samples_split=9, classifier__n_estimators=145, feature_selection__n_components=2;, score=0.551 total time=   0.2s\n",
      "[CV 4/5] END classifier__max_depth=29, classifier__max_features=None, classifier__min_samples_leaf=9, classifier__min_samples_split=9, classifier__n_estimators=145, feature_selection__n_components=2;, score=0.581 total time=   0.3s\n",
      "[CV 5/5] END classifier__max_depth=29, classifier__max_features=None, classifier__min_samples_leaf=9, classifier__min_samples_split=9, classifier__n_estimators=145, feature_selection__n_components=2;, score=0.502 total time=   0.2s\n",
      "Fitting 5 folds for each of 1 candidates, totalling 5 fits\n",
      "[CV 1/5] END classifier__max_depth=3, classifier__max_features=None, classifier__min_samples_leaf=8, classifier__min_samples_split=7, classifier__n_estimators=195, feature_selection__n_components=2;, score=0.528 total time=   0.3s\n",
      "[CV 4/5] END classifier__max_depth=3, classifier__max_features=None, classifier__min_samples_leaf=8, classifier__min_samples_split=7, classifier__n_estimators=195, feature_selection__n_components=2;, score=0.519 total time=   0.3s\n",
      "[CV 3/5] END classifier__max_depth=3, classifier__max_features=None, classifier__min_samples_leaf=8, classifier__min_samples_split=7, classifier__n_estimators=195, feature_selection__n_components=2;, score=0.513 total time=   0.3s\n",
      "[CV 2/5] END classifier__max_depth=3, classifier__max_features=None, classifier__min_samples_leaf=8, classifier__min_samples_split=7, classifier__n_estimators=195, feature_selection__n_components=2;, score=0.530 total time=   0.3s\n",
      "[CV 5/5] END classifier__max_depth=3, classifier__max_features=None, classifier__min_samples_leaf=8, classifier__min_samples_split=7, classifier__n_estimators=195, feature_selection__n_components=2;, score=0.491 total time=   0.1s\n"
     ]
    },
    {
     "name": "stderr",
     "output_type": "stream",
     "text": [
      "INFO:root:Iteration 10: tested parameters: [3, None, 8, 7, 195, 2], score: 0.5160944023635903\n"
     ]
    },
    {
     "name": "stdout",
     "output_type": "stream",
     "text": [
      "Fitting 5 folds for each of 1 candidates, totalling 5 fits\n",
      "[CV 1/5] END classifier__max_depth=30, classifier__max_features=sqrt, classifier__min_samples_leaf=10, classifier__min_samples_split=10, classifier__n_estimators=182, feature_selection__n_components=4;, score=0.790 total time=   0.4s\n",
      "[CV 4/5] END classifier__max_depth=30, classifier__max_features=sqrt, classifier__min_samples_leaf=10, classifier__min_samples_split=10, classifier__n_estimators=182, feature_selection__n_components=4;, score=0.833 total time=   0.3s\n",
      "[CV 2/5] END classifier__max_depth=30, classifier__max_features=sqrt, classifier__min_samples_leaf=10, classifier__min_samples_split=10, classifier__n_estimators=182, feature_selection__n_components=4;, score=0.813 total time=   0.4s\n",
      "[CV 3/5] END classifier__max_depth=30, classifier__max_features=sqrt, classifier__min_samples_leaf=10, classifier__min_samples_split=10, classifier__n_estimators=182, feature_selection__n_components=4;, score=0.825 total time=   0.4s\n"
     ]
    },
    {
     "name": "stderr",
     "output_type": "stream",
     "text": [
      "INFO:root:Iteration 11: tested parameters: [30, 'sqrt', 10, 10, 182, 4], score: 0.8055792856260042\n"
     ]
    },
    {
     "name": "stdout",
     "output_type": "stream",
     "text": [
      "[CV 5/5] END classifier__max_depth=30, classifier__max_features=sqrt, classifier__min_samples_leaf=10, classifier__min_samples_split=10, classifier__n_estimators=182, feature_selection__n_components=4;, score=0.767 total time=   0.2s\n",
      "Fitting 5 folds for each of 1 candidates, totalling 5 fits\n",
      "[CV 1/5] END classifier__max_depth=30, classifier__max_features=log2, classifier__min_samples_leaf=10, classifier__min_samples_split=20, classifier__n_estimators=50, feature_selection__n_components=5;, score=0.818 total time=   0.1s\n",
      "[CV 2/5] END classifier__max_depth=30, classifier__max_features=log2, classifier__min_samples_leaf=10, classifier__min_samples_split=20, classifier__n_estimators=50, feature_selection__n_components=5;, score=0.823 total time=   0.1s\n",
      "[CV 5/5] END classifier__max_depth=30, classifier__max_features=log2, classifier__min_samples_leaf=10, classifier__min_samples_split=20, classifier__n_estimators=50, feature_selection__n_components=5;, score=0.788 total time=   0.1s\n",
      "[CV 4/5] END classifier__max_depth=30, classifier__max_features=log2, classifier__min_samples_leaf=10, classifier__min_samples_split=20, classifier__n_estimators=50, feature_selection__n_components=5;, score=0.857 total time=   0.1s\n",
      "[CV 3/5] END classifier__max_depth=30, classifier__max_features=log2, classifier__min_samples_leaf=10, classifier__min_samples_split=20, classifier__n_estimators=50, feature_selection__n_components=5;, score=0.850 total time=   0.1s\n"
     ]
    },
    {
     "name": "stderr",
     "output_type": "stream",
     "text": [
      "INFO:root:Iteration 12: tested parameters: [30, 'log2', 10, 20, 50, 5], score: 0.8271876629529578\n"
     ]
    },
    {
     "name": "stdout",
     "output_type": "stream",
     "text": [
      "Fitting 5 folds for each of 1 candidates, totalling 5 fits\n",
      "[CV 1/5] END classifier__max_depth=3, classifier__max_features=log2, classifier__min_samples_leaf=1, classifier__min_samples_split=20, classifier__n_estimators=50, feature_selection__n_components=5;, score=0.726 total time=   0.1s\n",
      "[CV 4/5] END classifier__max_depth=3, classifier__max_features=log2, classifier__min_samples_leaf=1, classifier__min_samples_split=20, classifier__n_estimators=50, feature_selection__n_components=5;, score=0.769 total time=   0.1s\n",
      "[CV 2/5] END classifier__max_depth=3, classifier__max_features=log2, classifier__min_samples_leaf=1, classifier__min_samples_split=20, classifier__n_estimators=50, feature_selection__n_components=5;, score=0.741 total time=   0.1s\n",
      "[CV 3/5] END classifier__max_depth=3, classifier__max_features=log2, classifier__min_samples_leaf=1, classifier__min_samples_split=20, classifier__n_estimators=50, feature_selection__n_components=5;, score=0.735 total time=   0.1s\n",
      "[CV 5/5] END classifier__max_depth=3, classifier__max_features=log2, classifier__min_samples_leaf=1, classifier__min_samples_split=20, classifier__n_estimators=50, feature_selection__n_components=5;, score=0.728 total time=   0.1s\n"
     ]
    },
    {
     "name": "stderr",
     "output_type": "stream",
     "text": [
      "INFO:root:Iteration 13: tested parameters: [3, 'log2', 1, 20, 50, 5], score: 0.7399107650475838\n"
     ]
    },
    {
     "name": "stdout",
     "output_type": "stream",
     "text": [
      "Fitting 5 folds for each of 1 candidates, totalling 5 fits\n",
      "[CV 1/5] END classifier__max_depth=30, classifier__max_features=log2, classifier__min_samples_leaf=1, classifier__min_samples_split=9, classifier__n_estimators=91, feature_selection__n_components=4;, score=0.818 total time=   0.2s\n",
      "[CV 2/5] END classifier__max_depth=30, classifier__max_features=log2, classifier__min_samples_leaf=1, classifier__min_samples_split=9, classifier__n_estimators=91, feature_selection__n_components=4;, score=0.841 total time=   0.2s\n",
      "[CV 3/5] END classifier__max_depth=30, classifier__max_features=log2, classifier__min_samples_leaf=1, classifier__min_samples_split=9, classifier__n_estimators=91, feature_selection__n_components=4;, score=0.824 total time=   0.2s\n",
      "[CV 4/5] END classifier__max_depth=30, classifier__max_features=log2, classifier__min_samples_leaf=1, classifier__min_samples_split=9, classifier__n_estimators=91, feature_selection__n_components=4;, score=0.864 total time=   0.2s\n",
      "[CV 5/5] END classifier__max_depth=30, classifier__max_features=log2, classifier__min_samples_leaf=1, classifier__min_samples_split=9, classifier__n_estimators=91, feature_selection__n_components=4;, score=0.795 total time=   0.1s\n"
     ]
    },
    {
     "name": "stderr",
     "output_type": "stream",
     "text": [
      "INFO:root:Iteration 14: tested parameters: [30, 'log2', 1, 9, 91, 4], score: 0.8284677213364645\n"
     ]
    },
    {
     "name": "stdout",
     "output_type": "stream",
     "text": [
      "Fitting 5 folds for each of 1 candidates, totalling 5 fits\n",
      "[CV 1/5] END classifier__max_depth=30, classifier__max_features=log2, classifier__min_samples_leaf=1, classifier__min_samples_split=2, classifier__n_estimators=50, feature_selection__n_components=5;, score=0.826 total time=   0.1s\n",
      "[CV 2/5] END classifier__max_depth=30, classifier__max_features=log2, classifier__min_samples_leaf=1, classifier__min_samples_split=2, classifier__n_estimators=50, feature_selection__n_components=5;, score=0.859 total time=   0.1s\n",
      "[CV 4/5] END classifier__max_depth=30, classifier__max_features=log2, classifier__min_samples_leaf=1, classifier__min_samples_split=2, classifier__n_estimators=50, feature_selection__n_components=5;, score=0.870 total time=   0.1s\n",
      "[CV 3/5] END classifier__max_depth=30, classifier__max_features=log2, classifier__min_samples_leaf=1, classifier__min_samples_split=2, classifier__n_estimators=50, feature_selection__n_components=5;, score=0.853 total time=   0.1s\n",
      "[CV 5/5] END classifier__max_depth=30, classifier__max_features=log2, classifier__min_samples_leaf=1, classifier__min_samples_split=2, classifier__n_estimators=50, feature_selection__n_components=5;, score=0.817 total time=   0.1s\n"
     ]
    },
    {
     "name": "stderr",
     "output_type": "stream",
     "text": [
      "INFO:root:Iteration 15: tested parameters: [30, 'log2', 1, 2, 50, 5], score: 0.8449328295401711\n"
     ]
    },
    {
     "name": "stdout",
     "output_type": "stream",
     "text": [
      "Fitting 5 folds for each of 1 candidates, totalling 5 fits\n",
      "[CV 2/5] END classifier__max_depth=30, classifier__max_features=log2, classifier__min_samples_leaf=1, classifier__min_samples_split=2, classifier__n_estimators=300, feature_selection__n_components=5;, score=0.869 total time=   0.5s\n",
      "[CV 1/5] END classifier__max_depth=30, classifier__max_features=log2, classifier__min_samples_leaf=1, classifier__min_samples_split=2, classifier__n_estimators=300, feature_selection__n_components=5;, score=0.822 total time=   0.5s\n",
      "[CV 4/5] END classifier__max_depth=30, classifier__max_features=log2, classifier__min_samples_leaf=1, classifier__min_samples_split=2, classifier__n_estimators=300, feature_selection__n_components=5;, score=0.884 total time=   0.5s\n",
      "[CV 3/5] END classifier__max_depth=30, classifier__max_features=log2, classifier__min_samples_leaf=1, classifier__min_samples_split=2, classifier__n_estimators=300, feature_selection__n_components=5;, score=0.839 total time=   0.5s\n"
     ]
    },
    {
     "name": "stderr",
     "output_type": "stream",
     "text": [
      "INFO:root:Iteration 16: tested parameters: [30, 'log2', 1, 2, 300, 5], score: 0.8476223258058632\n"
     ]
    },
    {
     "name": "stdout",
     "output_type": "stream",
     "text": [
      "[CV 5/5] END classifier__max_depth=30, classifier__max_features=log2, classifier__min_samples_leaf=1, classifier__min_samples_split=2, classifier__n_estimators=300, feature_selection__n_components=5;, score=0.823 total time=   0.4s\n",
      "Fitting 5 folds for each of 1 candidates, totalling 5 fits\n",
      "[CV 1/5] END classifier__max_depth=30, classifier__max_features=None, classifier__min_samples_leaf=1, classifier__min_samples_split=20, classifier__n_estimators=300, feature_selection__n_components=5;, score=0.788 total time=   0.9s\n",
      "[CV 2/5] END classifier__max_depth=30, classifier__max_features=None, classifier__min_samples_leaf=1, classifier__min_samples_split=20, classifier__n_estimators=300, feature_selection__n_components=5;, score=0.834 total time=   0.8s\n",
      "[CV 4/5] END classifier__max_depth=30, classifier__max_features=None, classifier__min_samples_leaf=1, classifier__min_samples_split=20, classifier__n_estimators=300, feature_selection__n_components=5;, score=0.853 total time=   0.8s\n",
      "[CV 3/5] END classifier__max_depth=30, classifier__max_features=None, classifier__min_samples_leaf=1, classifier__min_samples_split=20, classifier__n_estimators=300, feature_selection__n_components=5;, score=0.843 total time=   0.9s\n"
     ]
    },
    {
     "name": "stderr",
     "output_type": "stream",
     "text": [
      "INFO:root:Iteration 17: tested parameters: [30, None, 1, 20, 300, 5], score: 0.8192121522444102\n"
     ]
    },
    {
     "name": "stdout",
     "output_type": "stream",
     "text": [
      "[CV 5/5] END classifier__max_depth=30, classifier__max_features=None, classifier__min_samples_leaf=1, classifier__min_samples_split=20, classifier__n_estimators=300, feature_selection__n_components=5;, score=0.778 total time=   0.6s\n",
      "Fitting 5 folds for each of 1 candidates, totalling 5 fits\n",
      "[CV 3/5] END classifier__max_depth=30, classifier__max_features=sqrt, classifier__min_samples_leaf=1, classifier__min_samples_split=2, classifier__n_estimators=300, feature_selection__n_components=5;, score=0.856 total time=   0.5s\n",
      "[CV 1/5] END classifier__max_depth=30, classifier__max_features=sqrt, classifier__min_samples_leaf=1, classifier__min_samples_split=2, classifier__n_estimators=300, feature_selection__n_components=5;, score=0.833 total time=   0.5s\n",
      "[CV 4/5] END classifier__max_depth=30, classifier__max_features=sqrt, classifier__min_samples_leaf=1, classifier__min_samples_split=2, classifier__n_estimators=300, feature_selection__n_components=5;, score=0.888 total time=   0.5s\n",
      "[CV 2/5] END classifier__max_depth=30, classifier__max_features=sqrt, classifier__min_samples_leaf=1, classifier__min_samples_split=2, classifier__n_estimators=300, feature_selection__n_components=5;, score=0.876 total time=   0.5s\n",
      "[CV 5/5] END classifier__max_depth=30, classifier__max_features=sqrt, classifier__min_samples_leaf=1, classifier__min_samples_split=2, classifier__n_estimators=300, feature_selection__n_components=5;, score=0.823 total time=   0.4s\n"
     ]
    },
    {
     "name": "stderr",
     "output_type": "stream",
     "text": [
      "INFO:root:Iteration 18: tested parameters: [30, 'sqrt', 1, 2, 300, 5], score: 0.8553389598083703\n"
     ]
    },
    {
     "name": "stdout",
     "output_type": "stream",
     "text": [
      "Fitting 5 folds for each of 1 candidates, totalling 5 fits\n",
      "[CV 1/5] END classifier__max_depth=30, classifier__max_features=sqrt, classifier__min_samples_leaf=1, classifier__min_samples_split=2, classifier__n_estimators=300, feature_selection__n_components=4;, score=0.808 total time=   0.5s\n",
      "[CV 2/5] END classifier__max_depth=30, classifier__max_features=sqrt, classifier__min_samples_leaf=1, classifier__min_samples_split=2, classifier__n_estimators=300, feature_selection__n_components=4;, score=0.851 total time=   0.5s\n",
      "[CV 4/5] END classifier__max_depth=30, classifier__max_features=sqrt, classifier__min_samples_leaf=1, classifier__min_samples_split=2, classifier__n_estimators=300, feature_selection__n_components=4;, score=0.860 total time=   0.5s\n",
      "[CV 3/5] END classifier__max_depth=30, classifier__max_features=sqrt, classifier__min_samples_leaf=1, classifier__min_samples_split=2, classifier__n_estimators=300, feature_selection__n_components=4;, score=0.796 total time=   0.5s\n",
      "[CV 5/5] END classifier__max_depth=30, classifier__max_features=sqrt, classifier__min_samples_leaf=1, classifier__min_samples_split=2, classifier__n_estimators=300, feature_selection__n_components=4;, score=0.785 total time=   0.4s\n"
     ]
    },
    {
     "name": "stderr",
     "output_type": "stream",
     "text": [
      "INFO:root:Iteration 19: tested parameters: [30, 'sqrt', 1, 2, 300, 4], score: 0.8198656649657762\n"
     ]
    },
    {
     "name": "stdout",
     "output_type": "stream",
     "text": [
      "Fitting 5 folds for each of 1 candidates, totalling 5 fits\n",
      "[CV 1/5] END classifier__max_depth=30, classifier__max_features=sqrt, classifier__min_samples_leaf=10, classifier__min_samples_split=2, classifier__n_estimators=300, feature_selection__n_components=5;, score=0.801 total time=   0.5s\n",
      "[CV 2/5] END classifier__max_depth=30, classifier__max_features=sqrt, classifier__min_samples_leaf=10, classifier__min_samples_split=2, classifier__n_estimators=300, feature_selection__n_components=5;, score=0.834 total time=   0.5s\n",
      "[CV 3/5] END classifier__max_depth=30, classifier__max_features=sqrt, classifier__min_samples_leaf=10, classifier__min_samples_split=2, classifier__n_estimators=300, feature_selection__n_components=5;, score=0.842 total time=   0.5s\n",
      "[CV 4/5] END classifier__max_depth=30, classifier__max_features=sqrt, classifier__min_samples_leaf=10, classifier__min_samples_split=2, classifier__n_estimators=300, feature_selection__n_components=5;, score=0.853 total time=   0.5s\n",
      "[CV 5/5] END classifier__max_depth=30, classifier__max_features=sqrt, classifier__min_samples_leaf=10, classifier__min_samples_split=2, classifier__n_estimators=300, feature_selection__n_components=5;, score=0.788 total time=   0.4s\n"
     ]
    },
    {
     "name": "stderr",
     "output_type": "stream",
     "text": [
      "INFO:root:Iteration 20: tested parameters: [30, 'sqrt', 10, 2, 300, 5], score: 0.8237176992660864\n"
     ]
    },
    {
     "name": "stdout",
     "output_type": "stream",
     "text": [
      "Fitting 5 folds for each of 1 candidates, totalling 5 fits\n",
      "[CV 4/5] END classifier__max_depth=24, classifier__max_features=sqrt, classifier__min_samples_leaf=1, classifier__min_samples_split=20, classifier__n_estimators=50, feature_selection__n_components=5;, score=0.868 total time=   0.1s\n",
      "[CV 1/5] END classifier__max_depth=24, classifier__max_features=sqrt, classifier__min_samples_leaf=1, classifier__min_samples_split=20, classifier__n_estimators=50, feature_selection__n_components=5;, score=0.808 total time=   0.2s\n",
      "[CV 2/5] END classifier__max_depth=24, classifier__max_features=sqrt, classifier__min_samples_leaf=1, classifier__min_samples_split=20, classifier__n_estimators=50, feature_selection__n_components=5;, score=0.856 total time=   0.2s\n",
      "[CV 3/5] END classifier__max_depth=24, classifier__max_features=sqrt, classifier__min_samples_leaf=1, classifier__min_samples_split=20, classifier__n_estimators=50, feature_selection__n_components=5;, score=0.853 total time=   0.2s\n",
      "[CV 5/5] END classifier__max_depth=24, classifier__max_features=sqrt, classifier__min_samples_leaf=1, classifier__min_samples_split=20, classifier__n_estimators=50, feature_selection__n_components=5;, score=0.792 total time=   0.1s\n"
     ]
    },
    {
     "name": "stderr",
     "output_type": "stream",
     "text": [
      "INFO:root:Iteration 21: tested parameters: [24, 'sqrt', 1, 20, 50, 5], score: 0.8353057071054846\n"
     ]
    },
    {
     "name": "stdout",
     "output_type": "stream",
     "text": [
      "Fitting 5 folds for each of 1 candidates, totalling 5 fits\n",
      "[CV 1/5] END classifier__max_depth=30, classifier__max_features=log2, classifier__min_samples_leaf=1, classifier__min_samples_split=20, classifier__n_estimators=300, feature_selection__n_components=5;, score=0.825 total time=   0.5s\n",
      "[CV 2/5] END classifier__max_depth=30, classifier__max_features=log2, classifier__min_samples_leaf=1, classifier__min_samples_split=20, classifier__n_estimators=300, feature_selection__n_components=5;, score=0.848 total time=   0.5s\n",
      "[CV 4/5] END classifier__max_depth=30, classifier__max_features=log2, classifier__min_samples_leaf=1, classifier__min_samples_split=20, classifier__n_estimators=300, feature_selection__n_components=5;, score=0.888 total time=   0.5s\n",
      "[CV 3/5] END classifier__max_depth=30, classifier__max_features=log2, classifier__min_samples_leaf=1, classifier__min_samples_split=20, classifier__n_estimators=300, feature_selection__n_components=5;, score=0.846 total time=   0.5s\n"
     ]
    },
    {
     "name": "stderr",
     "output_type": "stream",
     "text": [
      "INFO:root:Iteration 22: tested parameters: [30, 'log2', 1, 20, 300, 5], score: 0.838536527946984\n"
     ]
    },
    {
     "name": "stdout",
     "output_type": "stream",
     "text": [
      "[CV 5/5] END classifier__max_depth=30, classifier__max_features=log2, classifier__min_samples_leaf=1, classifier__min_samples_split=20, classifier__n_estimators=300, feature_selection__n_components=5;, score=0.785 total time=   0.3s\n",
      "Fitting 5 folds for each of 1 candidates, totalling 5 fits\n",
      "[CV 4/5] END classifier__max_depth=30, classifier__max_features=log2, classifier__min_samples_leaf=1, classifier__min_samples_split=2, classifier__n_estimators=101, feature_selection__n_components=3;, score=0.757 total time=   0.2s\n",
      "[CV 1/5] END classifier__max_depth=30, classifier__max_features=log2, classifier__min_samples_leaf=1, classifier__min_samples_split=2, classifier__n_estimators=101, feature_selection__n_components=3;, score=0.718 total time=   0.2s\n",
      "[CV 3/5] END classifier__max_depth=30, classifier__max_features=log2, classifier__min_samples_leaf=1, classifier__min_samples_split=2, classifier__n_estimators=101, feature_selection__n_components=3;, score=0.757 total time=   0.2s\n",
      "[CV 2/5] END classifier__max_depth=30, classifier__max_features=log2, classifier__min_samples_leaf=1, classifier__min_samples_split=2, classifier__n_estimators=101, feature_selection__n_components=3;, score=0.776 total time=   0.2s\n",
      "[CV 5/5] END classifier__max_depth=30, classifier__max_features=log2, classifier__min_samples_leaf=1, classifier__min_samples_split=2, classifier__n_estimators=101, feature_selection__n_components=3;, score=0.697 total time=   0.1s\n"
     ]
    },
    {
     "name": "stderr",
     "output_type": "stream",
     "text": [
      "INFO:root:Iteration 23: tested parameters: [30, 'log2', 1, 2, 101, 3], score: 0.7410397384513068\n"
     ]
    },
    {
     "name": "stdout",
     "output_type": "stream",
     "text": [
      "Fitting 5 folds for each of 1 candidates, totalling 5 fits\n",
      "[CV 1/5] END classifier__max_depth=30, classifier__max_features=sqrt, classifier__min_samples_leaf=1, classifier__min_samples_split=2, classifier__n_estimators=50, feature_selection__n_components=5;, score=0.819 total time=   0.1s\n",
      "[CV 3/5] END classifier__max_depth=30, classifier__max_features=sqrt, classifier__min_samples_leaf=1, classifier__min_samples_split=2, classifier__n_estimators=50, feature_selection__n_components=5;, score=0.853 total time=   0.1s\n",
      "[CV 4/5] END classifier__max_depth=30, classifier__max_features=sqrt, classifier__min_samples_leaf=1, classifier__min_samples_split=2, classifier__n_estimators=50, feature_selection__n_components=5;, score=0.884 total time=   0.1s\n",
      "[CV 2/5] END classifier__max_depth=30, classifier__max_features=sqrt, classifier__min_samples_leaf=1, classifier__min_samples_split=2, classifier__n_estimators=50, feature_selection__n_components=5;, score=0.858 total time=   0.1s\n",
      "[CV 5/5] END classifier__max_depth=30, classifier__max_features=sqrt, classifier__min_samples_leaf=1, classifier__min_samples_split=2, classifier__n_estimators=50, feature_selection__n_components=5;, score=0.823 total time=   0.1s\n"
     ]
    },
    {
     "name": "stderr",
     "output_type": "stream",
     "text": [
      "INFO:root:Iteration 24: tested parameters: [30, 'sqrt', 1, 2, 50, 5], score: 0.8474349747809147\n"
     ]
    },
    {
     "name": "stdout",
     "output_type": "stream",
     "text": [
      "Fitting 5 folds for each of 1 candidates, totalling 5 fits\n",
      "[CV 1/5] END classifier__max_depth=3, classifier__max_features=sqrt, classifier__min_samples_leaf=2, classifier__min_samples_split=5, classifier__n_estimators=245, feature_selection__n_components=3;, score=0.683 total time=   0.3s\n",
      "[CV 4/5] END classifier__max_depth=3, classifier__max_features=sqrt, classifier__min_samples_leaf=2, classifier__min_samples_split=5, classifier__n_estimators=245, feature_selection__n_components=3;, score=0.697 total time=   0.3s\n",
      "[CV 3/5] END classifier__max_depth=3, classifier__max_features=sqrt, classifier__min_samples_leaf=2, classifier__min_samples_split=5, classifier__n_estimators=245, feature_selection__n_components=3;, score=0.700 total time=   0.3s\n",
      "[CV 2/5] END classifier__max_depth=3, classifier__max_features=sqrt, classifier__min_samples_leaf=2, classifier__min_samples_split=5, classifier__n_estimators=245, feature_selection__n_components=3;, score=0.674 total time=   0.3s\n",
      "[CV 5/5] END classifier__max_depth=3, classifier__max_features=sqrt, classifier__min_samples_leaf=2, classifier__min_samples_split=5, classifier__n_estimators=245, feature_selection__n_components=3;, score=0.652 total time=   0.2s\n"
     ]
    },
    {
     "name": "stderr",
     "output_type": "stream",
     "text": [
      "INFO:root:Iteration 25: tested parameters: [3, 'sqrt', 2, 5, 245, 3], score: 0.6812528205943111\n"
     ]
    },
    {
     "name": "stdout",
     "output_type": "stream",
     "text": [
      "Fitting 5 folds for each of 1 candidates, totalling 5 fits\n",
      "[CV 2/5] END classifier__max_depth=18, classifier__max_features=None, classifier__min_samples_leaf=1, classifier__min_samples_split=8, classifier__n_estimators=168, feature_selection__n_components=5;, score=0.848 total time=   0.5s\n",
      "[CV 1/5] END classifier__max_depth=18, classifier__max_features=None, classifier__min_samples_leaf=1, classifier__min_samples_split=8, classifier__n_estimators=168, feature_selection__n_components=5;, score=0.815 total time=   0.6s\n",
      "[CV 3/5] END classifier__max_depth=18, classifier__max_features=None, classifier__min_samples_leaf=1, classifier__min_samples_split=8, classifier__n_estimators=168, feature_selection__n_components=5;, score=0.836 total time=   0.5s\n",
      "[CV 4/5] END classifier__max_depth=18, classifier__max_features=None, classifier__min_samples_leaf=1, classifier__min_samples_split=8, classifier__n_estimators=168, feature_selection__n_components=5;, score=0.874 total time=   0.6s\n",
      "[CV 5/5] END classifier__max_depth=18, classifier__max_features=None, classifier__min_samples_leaf=1, classifier__min_samples_split=8, classifier__n_estimators=168, feature_selection__n_components=5;, score=0.799 total time=   0.4s\n"
     ]
    },
    {
     "name": "stderr",
     "output_type": "stream",
     "text": [
      "INFO:root:Iteration 26: tested parameters: [18, None, 1, 8, 168, 5], score: 0.8343447275338265\n"
     ]
    },
    {
     "name": "stdout",
     "output_type": "stream",
     "text": [
      "Fitting 5 folds for each of 1 candidates, totalling 5 fits\n",
      "[CV 2/5] END classifier__max_depth=25, classifier__max_features=log2, classifier__min_samples_leaf=1, classifier__min_samples_split=2, classifier__n_estimators=50, feature_selection__n_components=5;, score=0.862 total time=   0.1s\n",
      "[CV 3/5] END classifier__max_depth=25, classifier__max_features=log2, classifier__min_samples_leaf=1, classifier__min_samples_split=2, classifier__n_estimators=50, feature_selection__n_components=5;, score=0.835 total time=   0.1s\n",
      "[CV 1/5] END classifier__max_depth=25, classifier__max_features=log2, classifier__min_samples_leaf=1, classifier__min_samples_split=2, classifier__n_estimators=50, feature_selection__n_components=5;, score=0.822 total time=   0.1s\n",
      "[CV 4/5] END classifier__max_depth=25, classifier__max_features=log2, classifier__min_samples_leaf=1, classifier__min_samples_split=2, classifier__n_estimators=50, feature_selection__n_components=5;, score=0.888 total time=   0.1s\n",
      "[CV 5/5] END classifier__max_depth=25, classifier__max_features=log2, classifier__min_samples_leaf=1, classifier__min_samples_split=2, classifier__n_estimators=50, feature_selection__n_components=5;, score=0.806 total time=   0.1s\n"
     ]
    },
    {
     "name": "stderr",
     "output_type": "stream",
     "text": [
      "INFO:root:Iteration 27: tested parameters: [25, 'log2', 1, 2, 50, 5], score: 0.842662829363608\n"
     ]
    },
    {
     "name": "stdout",
     "output_type": "stream",
     "text": [
      "Fitting 5 folds for each of 1 candidates, totalling 5 fits\n",
      "[CV 1/5] END classifier__max_depth=3, classifier__max_features=None, classifier__min_samples_leaf=1, classifier__min_samples_split=6, classifier__n_estimators=274, feature_selection__n_components=4;, score=0.684 total time=   0.4s\n",
      "[CV 2/5] END classifier__max_depth=3, classifier__max_features=None, classifier__min_samples_leaf=1, classifier__min_samples_split=6, classifier__n_estimators=274, feature_selection__n_components=4;, score=0.680 total time=   0.4s\n",
      "[CV 4/5] END classifier__max_depth=3, classifier__max_features=None, classifier__min_samples_leaf=1, classifier__min_samples_split=6, classifier__n_estimators=274, feature_selection__n_components=4;, score=0.698 total time=   0.4s\n",
      "[CV 3/5] END classifier__max_depth=3, classifier__max_features=None, classifier__min_samples_leaf=1, classifier__min_samples_split=6, classifier__n_estimators=274, feature_selection__n_components=4;, score=0.707 total time=   0.4s\n",
      "[CV 5/5] END classifier__max_depth=3, classifier__max_features=None, classifier__min_samples_leaf=1, classifier__min_samples_split=6, classifier__n_estimators=274, feature_selection__n_components=4;, score=0.671 total time=   0.3s\n"
     ]
    },
    {
     "name": "stderr",
     "output_type": "stream",
     "text": [
      "INFO:root:Iteration 28: tested parameters: [3, None, 1, 6, 274, 4], score: 0.6882639970337412\n"
     ]
    },
    {
     "name": "stdout",
     "output_type": "stream",
     "text": [
      "Fitting 5 folds for each of 1 candidates, totalling 5 fits\n",
      "[CV 1/5] END classifier__max_depth=21, classifier__max_features=log2, classifier__min_samples_leaf=1, classifier__min_samples_split=2, classifier__n_estimators=300, feature_selection__n_components=5;, score=0.819 total time=   0.5s\n",
      "[CV 2/5] END classifier__max_depth=21, classifier__max_features=log2, classifier__min_samples_leaf=1, classifier__min_samples_split=2, classifier__n_estimators=300, feature_selection__n_components=5;, score=0.859 total time=   0.5s\n",
      "[CV 4/5] END classifier__max_depth=21, classifier__max_features=log2, classifier__min_samples_leaf=1, classifier__min_samples_split=2, classifier__n_estimators=300, feature_selection__n_components=5;, score=0.884 total time=   0.5s\n",
      "[CV 3/5] END classifier__max_depth=21, classifier__max_features=log2, classifier__min_samples_leaf=1, classifier__min_samples_split=2, classifier__n_estimators=300, feature_selection__n_components=5;, score=0.843 total time=   0.5s\n",
      "[CV 5/5] END classifier__max_depth=21, classifier__max_features=log2, classifier__min_samples_leaf=1, classifier__min_samples_split=2, classifier__n_estimators=300, feature_selection__n_components=5;, score=0.816 total time=   0.4s\n"
     ]
    },
    {
     "name": "stderr",
     "output_type": "stream",
     "text": [
      "INFO:root:Iteration 29: tested parameters: [21, 'log2', 1, 2, 300, 5], score: 0.8441772633908341\n"
     ]
    },
    {
     "name": "stdout",
     "output_type": "stream",
     "text": [
      "Fitting 5 folds for each of 1 candidates, totalling 5 fits\n",
      "[CV 4/5] END classifier__max_depth=18, classifier__max_features=sqrt, classifier__min_samples_leaf=1, classifier__min_samples_split=3, classifier__n_estimators=233, feature_selection__n_components=5;, score=0.881 total time=   0.4s\n",
      "[CV 3/5] END classifier__max_depth=18, classifier__max_features=sqrt, classifier__min_samples_leaf=1, classifier__min_samples_split=3, classifier__n_estimators=233, feature_selection__n_components=5;, score=0.839 total time=   0.4s\n",
      "[CV 2/5] END classifier__max_depth=18, classifier__max_features=sqrt, classifier__min_samples_leaf=1, classifier__min_samples_split=3, classifier__n_estimators=233, feature_selection__n_components=5;, score=0.866 total time=   0.5s\n",
      "[CV 1/5] END classifier__max_depth=18, classifier__max_features=sqrt, classifier__min_samples_leaf=1, classifier__min_samples_split=3, classifier__n_estimators=233, feature_selection__n_components=5;, score=0.826 total time=   0.5s\n",
      "[CV 5/5] END classifier__max_depth=18, classifier__max_features=sqrt, classifier__min_samples_leaf=1, classifier__min_samples_split=3, classifier__n_estimators=233, feature_selection__n_components=5;, score=0.812 total time=   0.3s\n"
     ]
    },
    {
     "name": "stderr",
     "output_type": "stream",
     "text": [
      "INFO:root:Iteration 30: tested parameters: [18, 'sqrt', 1, 3, 233, 5], score: 0.8448043858255204\n"
     ]
    },
    {
     "name": "stdout",
     "output_type": "stream",
     "text": [
      "Fitting 5 folds for each of 1 candidates, totalling 5 fits\n",
      "[CV 4/5] END classifier__max_depth=30, classifier__max_features=log2, classifier__min_samples_leaf=1, classifier__min_samples_split=20, classifier__n_estimators=50, feature_selection__n_components=4;, score=0.850 total time=   0.1s\n",
      "[CV 1/5] END classifier__max_depth=30, classifier__max_features=log2, classifier__min_samples_leaf=1, classifier__min_samples_split=20, classifier__n_estimators=50, feature_selection__n_components=4;, score=0.815 total time=   0.1s\n",
      "[CV 3/5] END classifier__max_depth=30, classifier__max_features=log2, classifier__min_samples_leaf=1, classifier__min_samples_split=20, classifier__n_estimators=50, feature_selection__n_components=4;, score=0.825 total time=   0.1s\n",
      "[CV 2/5] END classifier__max_depth=30, classifier__max_features=log2, classifier__min_samples_leaf=1, classifier__min_samples_split=20, classifier__n_estimators=50, feature_selection__n_components=4;, score=0.827 total time=   0.2s\n",
      "[CV 5/5] END classifier__max_depth=30, classifier__max_features=log2, classifier__min_samples_leaf=1, classifier__min_samples_split=20, classifier__n_estimators=50, feature_selection__n_components=4;, score=0.775 total time=   0.2s\n"
     ]
    },
    {
     "name": "stderr",
     "output_type": "stream",
     "text": [
      "INFO:root:Iteration 31: tested parameters: [30, 'log2', 1, 20, 50, 4], score: 0.8181484129926844\n"
     ]
    },
    {
     "name": "stdout",
     "output_type": "stream",
     "text": [
      "Fitting 5 folds for each of 1 candidates, totalling 5 fits\n",
      "[CV 1/5] END classifier__max_depth=23, classifier__max_features=log2, classifier__min_samples_leaf=1, classifier__min_samples_split=2, classifier__n_estimators=50, feature_selection__n_components=5;, score=0.818 total time=   0.1s\n",
      "[CV 2/5] END classifier__max_depth=23, classifier__max_features=log2, classifier__min_samples_leaf=1, classifier__min_samples_split=2, classifier__n_estimators=50, feature_selection__n_components=5;, score=0.855 total time=   0.1s\n",
      "[CV 5/5] END classifier__max_depth=23, classifier__max_features=log2, classifier__min_samples_leaf=1, classifier__min_samples_split=2, classifier__n_estimators=50, feature_selection__n_components=5;, score=0.816 total time=   0.1s\n",
      "[CV 4/5] END classifier__max_depth=23, classifier__max_features=log2, classifier__min_samples_leaf=1, classifier__min_samples_split=2, classifier__n_estimators=50, feature_selection__n_components=5;, score=0.891 total time=   0.2s\n",
      "[CV 3/5] END classifier__max_depth=23, classifier__max_features=log2, classifier__min_samples_leaf=1, classifier__min_samples_split=2, classifier__n_estimators=50, feature_selection__n_components=5;, score=0.846 total time=   0.2s\n"
     ]
    },
    {
     "name": "stderr",
     "output_type": "stream",
     "text": [
      "INFO:root:Iteration 32: tested parameters: [23, 'log2', 1, 2, 50, 5], score: 0.8453243874734419\n"
     ]
    },
    {
     "name": "stdout",
     "output_type": "stream",
     "text": [
      "Fitting 5 folds for each of 1 candidates, totalling 5 fits\n",
      "[CV 3/5] END classifier__max_depth=19, classifier__max_features=log2, classifier__min_samples_leaf=1, classifier__min_samples_split=2, classifier__n_estimators=300, feature_selection__n_components=5;, score=0.843 total time=   0.5s\n",
      "[CV 4/5] END classifier__max_depth=19, classifier__max_features=log2, classifier__min_samples_leaf=1, classifier__min_samples_split=2, classifier__n_estimators=300, feature_selection__n_components=5;, score=0.881 total time=   0.5s\n",
      "[CV 2/5] END classifier__max_depth=19, classifier__max_features=log2, classifier__min_samples_leaf=1, classifier__min_samples_split=2, classifier__n_estimators=300, feature_selection__n_components=5;, score=0.862 total time=   0.6s\n",
      "[CV 1/5] END classifier__max_depth=19, classifier__max_features=log2, classifier__min_samples_leaf=1, classifier__min_samples_split=2, classifier__n_estimators=300, feature_selection__n_components=5;, score=0.819 total time=   0.6s\n",
      "[CV 5/5] END classifier__max_depth=19, classifier__max_features=log2, classifier__min_samples_leaf=1, classifier__min_samples_split=2, classifier__n_estimators=300, feature_selection__n_components=5;, score=0.824 total time=   0.4s\n"
     ]
    },
    {
     "name": "stderr",
     "output_type": "stream",
     "text": [
      "INFO:root:Iteration 33: tested parameters: [19, 'log2', 1, 2, 300, 5], score: 0.8457313358169865\n"
     ]
    },
    {
     "name": "stdout",
     "output_type": "stream",
     "text": [
      "Fitting 5 folds for each of 1 candidates, totalling 5 fits\n",
      "[CV 3/5] END classifier__max_depth=30, classifier__max_features=sqrt, classifier__min_samples_leaf=1, classifier__min_samples_split=9, classifier__n_estimators=300, feature_selection__n_components=5;, score=0.853 total time=   0.6s\n",
      "[CV 1/5] END classifier__max_depth=30, classifier__max_features=sqrt, classifier__min_samples_leaf=1, classifier__min_samples_split=9, classifier__n_estimators=300, feature_selection__n_components=5;, score=0.826 total time=   0.6s\n",
      "[CV 2/5] END classifier__max_depth=30, classifier__max_features=sqrt, classifier__min_samples_leaf=1, classifier__min_samples_split=9, classifier__n_estimators=300, feature_selection__n_components=5;, score=0.855 total time=   0.6s\n",
      "[CV 4/5] END classifier__max_depth=30, classifier__max_features=sqrt, classifier__min_samples_leaf=1, classifier__min_samples_split=9, classifier__n_estimators=300, feature_selection__n_components=5;, score=0.888 total time=   0.6s\n",
      "[CV 5/5] END classifier__max_depth=30, classifier__max_features=sqrt, classifier__min_samples_leaf=1, classifier__min_samples_split=9, classifier__n_estimators=300, feature_selection__n_components=5;, score=0.809 total time=   0.4s\n"
     ]
    },
    {
     "name": "stderr",
     "output_type": "stream",
     "text": [
      "INFO:root:Iteration 34: tested parameters: [30, 'sqrt', 1, 9, 300, 5], score: 0.8462597536357268\n"
     ]
    },
    {
     "name": "stdout",
     "output_type": "stream",
     "text": [
      "Fitting 5 folds for each of 1 candidates, totalling 5 fits\n",
      "[CV 1/5] END classifier__max_depth=18, classifier__max_features=log2, classifier__min_samples_leaf=1, classifier__min_samples_split=2, classifier__n_estimators=50, feature_selection__n_components=5;, score=0.829 total time=   0.1s\n",
      "[CV 3/5] END classifier__max_depth=18, classifier__max_features=log2, classifier__min_samples_leaf=1, classifier__min_samples_split=2, classifier__n_estimators=50, feature_selection__n_components=5;, score=0.849 total time=   0.1s\n",
      "[CV 2/5] END classifier__max_depth=18, classifier__max_features=log2, classifier__min_samples_leaf=1, classifier__min_samples_split=2, classifier__n_estimators=50, feature_selection__n_components=5;, score=0.859 total time=   0.1s\n",
      "[CV 4/5] END classifier__max_depth=18, classifier__max_features=log2, classifier__min_samples_leaf=1, classifier__min_samples_split=2, classifier__n_estimators=50, feature_selection__n_components=5;, score=0.888 total time=   0.1s\n",
      "[CV 5/5] END classifier__max_depth=18, classifier__max_features=log2, classifier__min_samples_leaf=1, classifier__min_samples_split=2, classifier__n_estimators=50, feature_selection__n_components=5;, score=0.820 total time=   0.2s\n"
     ]
    },
    {
     "name": "stderr",
     "output_type": "stream",
     "text": [
      "INFO:root:Iteration 35: tested parameters: [18, 'log2', 1, 2, 50, 5], score: 0.8489409926373218\n"
     ]
    },
    {
     "name": "stdout",
     "output_type": "stream",
     "text": [
      "Fitting 5 folds for each of 1 candidates, totalling 5 fits\n",
      "[CV 3/5] END classifier__max_depth=15, classifier__max_features=log2, classifier__min_samples_leaf=10, classifier__min_samples_split=3, classifier__n_estimators=104, feature_selection__n_components=5;, score=0.839 total time=   0.3s\n",
      "[CV 2/5] END classifier__max_depth=15, classifier__max_features=log2, classifier__min_samples_leaf=10, classifier__min_samples_split=3, classifier__n_estimators=104, feature_selection__n_components=5;, score=0.823 total time=   0.3s\n",
      "[CV 4/5] END classifier__max_depth=15, classifier__max_features=log2, classifier__min_samples_leaf=10, classifier__min_samples_split=3, classifier__n_estimators=104, feature_selection__n_components=5;, score=0.860 total time=   0.3s\n",
      "[CV 1/5] END classifier__max_depth=15, classifier__max_features=log2, classifier__min_samples_leaf=10, classifier__min_samples_split=3, classifier__n_estimators=104, feature_selection__n_components=5;, score=0.798 total time=   0.3s\n",
      "[CV 5/5] END classifier__max_depth=15, classifier__max_features=log2, classifier__min_samples_leaf=10, classifier__min_samples_split=3, classifier__n_estimators=104, feature_selection__n_components=5;, score=0.799 total time=   0.1s\n"
     ]
    },
    {
     "name": "stderr",
     "output_type": "stream",
     "text": [
      "INFO:root:Iteration 36: tested parameters: [15, 'log2', 10, 3, 104, 5], score: 0.8237344374407778\n"
     ]
    },
    {
     "name": "stdout",
     "output_type": "stream",
     "text": [
      "Fitting 5 folds for each of 1 candidates, totalling 5 fits\n",
      "[CV 1/5] END classifier__max_depth=29, classifier__max_features=None, classifier__min_samples_leaf=1, classifier__min_samples_split=2, classifier__n_estimators=288, feature_selection__n_components=4;, score=0.780 total time=   0.7s\n",
      "[CV 2/5] END classifier__max_depth=29, classifier__max_features=None, classifier__min_samples_leaf=1, classifier__min_samples_split=2, classifier__n_estimators=288, feature_selection__n_components=4;, score=0.827 total time=   0.7s\n",
      "[CV 4/5] END classifier__max_depth=29, classifier__max_features=None, classifier__min_samples_leaf=1, classifier__min_samples_split=2, classifier__n_estimators=288, feature_selection__n_components=4;, score=0.860 total time=   0.7s\n",
      "[CV 3/5] END classifier__max_depth=29, classifier__max_features=None, classifier__min_samples_leaf=1, classifier__min_samples_split=2, classifier__n_estimators=288, feature_selection__n_components=4;, score=0.814 total time=   0.7s\n",
      "[CV 5/5] END classifier__max_depth=29, classifier__max_features=None, classifier__min_samples_leaf=1, classifier__min_samples_split=2, classifier__n_estimators=288, feature_selection__n_components=4;, score=0.789 total time=   0.6s\n"
     ]
    },
    {
     "name": "stderr",
     "output_type": "stream",
     "text": [
      "INFO:root:Iteration 37: tested parameters: [29, None, 1, 2, 288, 4], score: 0.8138052745260754\n"
     ]
    },
    {
     "name": "stdout",
     "output_type": "stream",
     "text": [
      "Fitting 5 folds for each of 1 candidates, totalling 5 fits\n",
      "[CV 4/5] END classifier__max_depth=20, classifier__max_features=sqrt, classifier__min_samples_leaf=1, classifier__min_samples_split=2, classifier__n_estimators=50, feature_selection__n_components=5;, score=0.888 total time=   0.1s\n",
      "[CV 1/5] END classifier__max_depth=20, classifier__max_features=sqrt, classifier__min_samples_leaf=1, classifier__min_samples_split=2, classifier__n_estimators=50, feature_selection__n_components=5;, score=0.815 total time=   0.2s\n",
      "[CV 2/5] END classifier__max_depth=20, classifier__max_features=sqrt, classifier__min_samples_leaf=1, classifier__min_samples_split=2, classifier__n_estimators=50, feature_selection__n_components=5;, score=0.869 total time=   0.1s\n",
      "[CV 3/5] END classifier__max_depth=20, classifier__max_features=sqrt, classifier__min_samples_leaf=1, classifier__min_samples_split=2, classifier__n_estimators=50, feature_selection__n_components=5;, score=0.835 total time=   0.1s\n",
      "[CV 5/5] END classifier__max_depth=20, classifier__max_features=sqrt, classifier__min_samples_leaf=1, classifier__min_samples_split=2, classifier__n_estimators=50, feature_selection__n_components=5;, score=0.816 total time=   0.1s\n"
     ]
    },
    {
     "name": "stderr",
     "output_type": "stream",
     "text": [
      "INFO:root:Iteration 38: tested parameters: [20, 'sqrt', 1, 2, 50, 5], score: 0.8447175639011011\n"
     ]
    },
    {
     "name": "stdout",
     "output_type": "stream",
     "text": [
      "Fitting 5 folds for each of 1 candidates, totalling 5 fits\n",
      "[CV 2/5] END classifier__max_depth=30, classifier__max_features=sqrt, classifier__min_samples_leaf=1, classifier__min_samples_split=2, classifier__n_estimators=50, feature_selection__n_components=4;, score=0.854 total time=   0.1s\n",
      "[CV 4/5] END classifier__max_depth=30, classifier__max_features=sqrt, classifier__min_samples_leaf=1, classifier__min_samples_split=2, classifier__n_estimators=50, feature_selection__n_components=4;, score=0.856 total time=   0.1s\n",
      "[CV 3/5] END classifier__max_depth=30, classifier__max_features=sqrt, classifier__min_samples_leaf=1, classifier__min_samples_split=2, classifier__n_estimators=50, feature_selection__n_components=4;, score=0.806 total time=   0.1s\n",
      "[CV 1/5] END classifier__max_depth=30, classifier__max_features=sqrt, classifier__min_samples_leaf=1, classifier__min_samples_split=2, classifier__n_estimators=50, feature_selection__n_components=4;, score=0.809 total time=   0.2s\n",
      "[CV 5/5] END classifier__max_depth=30, classifier__max_features=sqrt, classifier__min_samples_leaf=1, classifier__min_samples_split=2, classifier__n_estimators=50, feature_selection__n_components=4;, score=0.774 total time=   0.1s\n"
     ]
    },
    {
     "name": "stderr",
     "output_type": "stream",
     "text": [
      "INFO:root:Iteration 39: tested parameters: [30, 'sqrt', 1, 2, 50, 4], score: 0.8198762469763581\n"
     ]
    },
    {
     "name": "stdout",
     "output_type": "stream",
     "text": [
      "Fitting 5 folds for each of 1 candidates, totalling 5 fits\n",
      "[CV 1/5] END classifier__max_depth=17, classifier__max_features=log2, classifier__min_samples_leaf=1, classifier__min_samples_split=14, classifier__n_estimators=59, feature_selection__n_components=4;, score=0.801 total time=   0.1s\n",
      "[CV 2/5] END classifier__max_depth=17, classifier__max_features=log2, classifier__min_samples_leaf=1, classifier__min_samples_split=14, classifier__n_estimators=59, feature_selection__n_components=4;, score=0.841 total time=   0.1s\n",
      "[CV 4/5] END classifier__max_depth=17, classifier__max_features=log2, classifier__min_samples_leaf=1, classifier__min_samples_split=14, classifier__n_estimators=59, feature_selection__n_components=4;, score=0.849 total time=   0.1s\n",
      "[CV 3/5] END classifier__max_depth=17, classifier__max_features=log2, classifier__min_samples_leaf=1, classifier__min_samples_split=14, classifier__n_estimators=59, feature_selection__n_components=4;, score=0.820 total time=   0.1s\n",
      "[CV 5/5] END classifier__max_depth=17, classifier__max_features=log2, classifier__min_samples_leaf=1, classifier__min_samples_split=14, classifier__n_estimators=59, feature_selection__n_components=4;, score=0.785 total time=   0.1s\n"
     ]
    },
    {
     "name": "stderr",
     "output_type": "stream",
     "text": [
      "INFO:root:Iteration 40: tested parameters: [17, 'log2', 1, 14, 59, 4], score: 0.8191621437105308\n"
     ]
    },
    {
     "name": "stdout",
     "output_type": "stream",
     "text": [
      "Fitting 5 folds for each of 1 candidates, totalling 5 fits\n",
      "[CV 1/5] END classifier__max_depth=30, classifier__max_features=log2, classifier__min_samples_leaf=1, classifier__min_samples_split=2, classifier__n_estimators=300, feature_selection__n_components=4;, score=0.801 total time=   0.7s\n",
      "[CV 4/5] END classifier__max_depth=30, classifier__max_features=log2, classifier__min_samples_leaf=1, classifier__min_samples_split=2, classifier__n_estimators=300, feature_selection__n_components=4;, score=0.860 total time=   0.6s\n",
      "[CV 2/5] END classifier__max_depth=30, classifier__max_features=log2, classifier__min_samples_leaf=1, classifier__min_samples_split=2, classifier__n_estimators=300, feature_selection__n_components=4;, score=0.851 total time=   0.7s\n",
      "[CV 3/5] END classifier__max_depth=30, classifier__max_features=log2, classifier__min_samples_leaf=1, classifier__min_samples_split=2, classifier__n_estimators=300, feature_selection__n_components=4;, score=0.803 total time=   0.7s\n",
      "[CV 5/5] END classifier__max_depth=30, classifier__max_features=log2, classifier__min_samples_leaf=1, classifier__min_samples_split=2, classifier__n_estimators=300, feature_selection__n_components=4;, score=0.785 total time=   0.4s\n"
     ]
    },
    {
     "name": "stderr",
     "output_type": "stream",
     "text": [
      "INFO:root:Iteration 41: tested parameters: [30, 'log2', 1, 2, 300, 4], score: 0.8200106879483966\n"
     ]
    },
    {
     "name": "stdout",
     "output_type": "stream",
     "text": [
      "Fitting 5 folds for each of 1 candidates, totalling 5 fits\n",
      "[CV 1/5] END classifier__max_depth=30, classifier__max_features=log2, classifier__min_samples_leaf=1, classifier__min_samples_split=2, classifier__n_estimators=50, feature_selection__n_components=4;, score=0.808 total time=   0.2s\n",
      "[CV 4/5] END classifier__max_depth=30, classifier__max_features=log2, classifier__min_samples_leaf=1, classifier__min_samples_split=2, classifier__n_estimators=50, feature_selection__n_components=4;, score=0.856 total time=   0.1s\n",
      "[CV 2/5] END classifier__max_depth=30, classifier__max_features=log2, classifier__min_samples_leaf=1, classifier__min_samples_split=2, classifier__n_estimators=50, feature_selection__n_components=4;, score=0.835 total time=   0.2s\n",
      "[CV 3/5] END classifier__max_depth=30, classifier__max_features=log2, classifier__min_samples_leaf=1, classifier__min_samples_split=2, classifier__n_estimators=50, feature_selection__n_components=4;, score=0.803 total time=   0.2s\n",
      "[CV 5/5] END classifier__max_depth=30, classifier__max_features=log2, classifier__min_samples_leaf=1, classifier__min_samples_split=2, classifier__n_estimators=50, feature_selection__n_components=4;, score=0.788 total time=   0.1s\n"
     ]
    },
    {
     "name": "stderr",
     "output_type": "stream",
     "text": [
      "INFO:root:Iteration 42: tested parameters: [30, 'log2', 1, 2, 50, 4], score: 0.8179172507960051\n"
     ]
    },
    {
     "name": "stdout",
     "output_type": "stream",
     "text": [
      "Fitting 5 folds for each of 1 candidates, totalling 5 fits\n",
      "[CV 4/5] END classifier__max_depth=20, classifier__max_features=sqrt, classifier__min_samples_leaf=1, classifier__min_samples_split=2, classifier__n_estimators=50, feature_selection__n_components=4;, score=0.866 total time=   0.1s\n",
      "[CV 3/5] END classifier__max_depth=20, classifier__max_features=sqrt, classifier__min_samples_leaf=1, classifier__min_samples_split=2, classifier__n_estimators=50, feature_selection__n_components=4;, score=0.803 total time=   0.1s\n",
      "[CV 1/5] END classifier__max_depth=20, classifier__max_features=sqrt, classifier__min_samples_leaf=1, classifier__min_samples_split=2, classifier__n_estimators=50, feature_selection__n_components=4;, score=0.797 total time=   0.2s\n",
      "[CV 2/5] END classifier__max_depth=20, classifier__max_features=sqrt, classifier__min_samples_leaf=1, classifier__min_samples_split=2, classifier__n_estimators=50, feature_selection__n_components=4;, score=0.845 total time=   0.1s\n",
      "[CV 5/5] END classifier__max_depth=20, classifier__max_features=sqrt, classifier__min_samples_leaf=1, classifier__min_samples_split=2, classifier__n_estimators=50, feature_selection__n_components=4;, score=0.788 total time=   0.1s\n"
     ]
    },
    {
     "name": "stderr",
     "output_type": "stream",
     "text": [
      "INFO:root:Iteration 43: tested parameters: [20, 'sqrt', 1, 2, 50, 4], score: 0.8196963763382005\n"
     ]
    },
    {
     "name": "stdout",
     "output_type": "stream",
     "text": [
      "Fitting 5 folds for each of 1 candidates, totalling 5 fits\n",
      "[CV 1/5] END classifier__max_depth=12, classifier__max_features=sqrt, classifier__min_samples_leaf=1, classifier__min_samples_split=4, classifier__n_estimators=292, feature_selection__n_components=5;, score=0.823 total time=   0.5s\n",
      "[CV 4/5] END classifier__max_depth=12, classifier__max_features=sqrt, classifier__min_samples_leaf=1, classifier__min_samples_split=4, classifier__n_estimators=292, feature_selection__n_components=5;, score=0.885 total time=   0.5s\n",
      "[CV 2/5] END classifier__max_depth=12, classifier__max_features=sqrt, classifier__min_samples_leaf=1, classifier__min_samples_split=4, classifier__n_estimators=292, feature_selection__n_components=5;, score=0.866 total time=   0.5s\n",
      "[CV 3/5] END classifier__max_depth=12, classifier__max_features=sqrt, classifier__min_samples_leaf=1, classifier__min_samples_split=4, classifier__n_estimators=292, feature_selection__n_components=5;, score=0.839 total time=   0.5s\n",
      "[CV 5/5] END classifier__max_depth=12, classifier__max_features=sqrt, classifier__min_samples_leaf=1, classifier__min_samples_split=4, classifier__n_estimators=292, feature_selection__n_components=5;, score=0.813 total time=   0.4s\n"
     ]
    },
    {
     "name": "stderr",
     "output_type": "stream",
     "text": [
      "INFO:root:Iteration 44: tested parameters: [12, 'sqrt', 1, 4, 292, 5], score: 0.8450415217378511\n"
     ]
    },
    {
     "name": "stdout",
     "output_type": "stream",
     "text": [
      "Fitting 5 folds for each of 1 candidates, totalling 5 fits\n",
      "[CV 1/5] END classifier__max_depth=15, classifier__max_features=sqrt, classifier__min_samples_leaf=1, classifier__min_samples_split=20, classifier__n_estimators=300, feature_selection__n_components=5;, score=0.826 total time=   0.5s\n",
      "[CV 2/5] END classifier__max_depth=15, classifier__max_features=sqrt, classifier__min_samples_leaf=1, classifier__min_samples_split=20, classifier__n_estimators=300, feature_selection__n_components=5;, score=0.859 total time=   0.5s\n",
      "[CV 4/5] END classifier__max_depth=15, classifier__max_features=sqrt, classifier__min_samples_leaf=1, classifier__min_samples_split=20, classifier__n_estimators=300, feature_selection__n_components=5;, score=0.877 total time=   0.5s\n",
      "[CV 3/5] END classifier__max_depth=15, classifier__max_features=sqrt, classifier__min_samples_leaf=1, classifier__min_samples_split=20, classifier__n_estimators=300, feature_selection__n_components=5;, score=0.853 total time=   0.5s\n",
      "[CV 5/5] END classifier__max_depth=15, classifier__max_features=sqrt, classifier__min_samples_leaf=1, classifier__min_samples_split=20, classifier__n_estimators=300, feature_selection__n_components=5;, score=0.809 total time=   0.4s\n"
     ]
    },
    {
     "name": "stderr",
     "output_type": "stream",
     "text": [
      "INFO:root:Iteration 45: tested parameters: [15, 'sqrt', 1, 20, 300, 5], score: 0.8448439300575007\n"
     ]
    },
    {
     "name": "stdout",
     "output_type": "stream",
     "text": [
      "Fitting 5 folds for each of 1 candidates, totalling 5 fits\n",
      "[CV 4/5] END classifier__max_depth=15, classifier__max_features=log2, classifier__min_samples_leaf=1, classifier__min_samples_split=2, classifier__n_estimators=300, feature_selection__n_components=5;, score=0.881 total time=   0.5s\n",
      "[CV 1/5] END classifier__max_depth=15, classifier__max_features=log2, classifier__min_samples_leaf=1, classifier__min_samples_split=2, classifier__n_estimators=300, feature_selection__n_components=5;, score=0.819 total time=   0.5s\n",
      "[CV 2/5] END classifier__max_depth=15, classifier__max_features=log2, classifier__min_samples_leaf=1, classifier__min_samples_split=2, classifier__n_estimators=300, feature_selection__n_components=5;, score=0.866 total time=   0.5s\n",
      "[CV 3/5] END classifier__max_depth=15, classifier__max_features=log2, classifier__min_samples_leaf=1, classifier__min_samples_split=2, classifier__n_estimators=300, feature_selection__n_components=5;, score=0.850 total time=   0.5s\n",
      "[CV 5/5] END classifier__max_depth=15, classifier__max_features=log2, classifier__min_samples_leaf=1, classifier__min_samples_split=2, classifier__n_estimators=300, feature_selection__n_components=5;, score=0.827 total time=   0.4s\n"
     ]
    },
    {
     "name": "stderr",
     "output_type": "stream",
     "text": [
      "INFO:root:Iteration 46: tested parameters: [15, 'log2', 1, 2, 300, 5], score: 0.8485917862881156\n"
     ]
    },
    {
     "name": "stdout",
     "output_type": "stream",
     "text": [
      "Fitting 5 folds for each of 1 candidates, totalling 5 fits\n",
      "[CV 4/5] END classifier__max_depth=12, classifier__max_features=None, classifier__min_samples_leaf=1, classifier__min_samples_split=7, classifier__n_estimators=141, feature_selection__n_components=5;, score=0.871 total time=   0.5s\n",
      "[CV 1/5] END classifier__max_depth=12, classifier__max_features=None, classifier__min_samples_leaf=1, classifier__min_samples_split=7, classifier__n_estimators=141, feature_selection__n_components=5;, score=0.801 total time=   0.5s\n",
      "[CV 2/5] END classifier__max_depth=12, classifier__max_features=None, classifier__min_samples_leaf=1, classifier__min_samples_split=7, classifier__n_estimators=141, feature_selection__n_components=5;, score=0.845 total time=   0.5s\n",
      "[CV 3/5] END classifier__max_depth=12, classifier__max_features=None, classifier__min_samples_leaf=1, classifier__min_samples_split=7, classifier__n_estimators=141, feature_selection__n_components=5;, score=0.833 total time=   0.5s\n",
      "[CV 5/5] END classifier__max_depth=12, classifier__max_features=None, classifier__min_samples_leaf=1, classifier__min_samples_split=7, classifier__n_estimators=141, feature_selection__n_components=5;, score=0.799 total time=   0.3s\n"
     ]
    },
    {
     "name": "stderr",
     "output_type": "stream",
     "text": [
      "INFO:root:Iteration 47: tested parameters: [12, None, 1, 7, 141, 5], score: 0.8296435310250662\n"
     ]
    },
    {
     "name": "stdout",
     "output_type": "stream",
     "text": [
      "Fitting 5 folds for each of 1 candidates, totalling 5 fits\n",
      "[CV 1/5] END classifier__max_depth=15, classifier__max_features=log2, classifier__min_samples_leaf=1, classifier__min_samples_split=13, classifier__n_estimators=77, feature_selection__n_components=5;, score=0.825 total time=   0.2s\n",
      "[CV 2/5] END classifier__max_depth=15, classifier__max_features=log2, classifier__min_samples_leaf=1, classifier__min_samples_split=13, classifier__n_estimators=77, feature_selection__n_components=5;, score=0.859 total time=   0.2s\n",
      "[CV 3/5] END classifier__max_depth=15, classifier__max_features=log2, classifier__min_samples_leaf=1, classifier__min_samples_split=13, classifier__n_estimators=77, feature_selection__n_components=5;, score=0.856 total time=   0.2s\n",
      "[CV 4/5] END classifier__max_depth=15, classifier__max_features=log2, classifier__min_samples_leaf=1, classifier__min_samples_split=13, classifier__n_estimators=77, feature_selection__n_components=5;, score=0.874 total time=   0.2s\n",
      "[CV 5/5] END classifier__max_depth=15, classifier__max_features=log2, classifier__min_samples_leaf=1, classifier__min_samples_split=13, classifier__n_estimators=77, feature_selection__n_components=5;, score=0.817 total time=   0.1s\n"
     ]
    },
    {
     "name": "stderr",
     "output_type": "stream",
     "text": [
      "INFO:root:Iteration 48: tested parameters: [15, 'log2', 1, 13, 77, 5], score: 0.8461855206549312\n"
     ]
    },
    {
     "name": "stdout",
     "output_type": "stream",
     "text": [
      "Fitting 5 folds for each of 1 candidates, totalling 5 fits\n",
      "[CV 1/5] END classifier__max_depth=16, classifier__max_features=sqrt, classifier__min_samples_leaf=1, classifier__min_samples_split=2, classifier__n_estimators=300, feature_selection__n_components=5;, score=0.812 total time=   0.5s\n",
      "[CV 3/5] END classifier__max_depth=16, classifier__max_features=sqrt, classifier__min_samples_leaf=1, classifier__min_samples_split=2, classifier__n_estimators=300, feature_selection__n_components=5;, score=0.846 total time=   0.5s\n",
      "[CV 4/5] END classifier__max_depth=16, classifier__max_features=sqrt, classifier__min_samples_leaf=1, classifier__min_samples_split=2, classifier__n_estimators=300, feature_selection__n_components=5;, score=0.888 total time=   0.5s\n",
      "[CV 2/5] END classifier__max_depth=16, classifier__max_features=sqrt, classifier__min_samples_leaf=1, classifier__min_samples_split=2, classifier__n_estimators=300, feature_selection__n_components=5;, score=0.873 total time=   0.6s\n",
      "[CV 5/5] END classifier__max_depth=16, classifier__max_features=sqrt, classifier__min_samples_leaf=1, classifier__min_samples_split=2, classifier__n_estimators=300, feature_selection__n_components=5;, score=0.824 total time=   0.4s\n"
     ]
    },
    {
     "name": "stderr",
     "output_type": "stream",
     "text": [
      "INFO:root:Iteration 49: tested parameters: [16, 'sqrt', 1, 2, 300, 5], score: 0.8484454626245505\n"
     ]
    },
    {
     "name": "stdout",
     "output_type": "stream",
     "text": [
      "Fitting 5 folds for each of 1 candidates, totalling 5 fits\n",
      "[CV 1/5] END classifier__max_depth=3, classifier__max_features=log2, classifier__min_samples_leaf=1, classifier__min_samples_split=19, classifier__n_estimators=196, feature_selection__n_components=1;, score=0.379 total time=   0.2s\n",
      "[CV 2/5] END classifier__max_depth=3, classifier__max_features=log2, classifier__min_samples_leaf=1, classifier__min_samples_split=19, classifier__n_estimators=196, feature_selection__n_components=1;, score=0.371 total time=   0.2s\n",
      "[CV 3/5] END classifier__max_depth=3, classifier__max_features=log2, classifier__min_samples_leaf=1, classifier__min_samples_split=19, classifier__n_estimators=196, feature_selection__n_components=1;, score=0.409 total time=   0.2s\n",
      "[CV 4/5] END classifier__max_depth=3, classifier__max_features=log2, classifier__min_samples_leaf=1, classifier__min_samples_split=19, classifier__n_estimators=196, feature_selection__n_components=1;, score=0.360 total time=   0.2s\n",
      "[CV 5/5] END classifier__max_depth=3, classifier__max_features=log2, classifier__min_samples_leaf=1, classifier__min_samples_split=19, classifier__n_estimators=196, feature_selection__n_components=1;, score=0.376 total time=   0.2s\n"
     ]
    },
    {
     "name": "stderr",
     "output_type": "stream",
     "text": [
      "INFO:root:Iteration 50: tested parameters: [3, 'log2', 1, 19, 196, 1], score: 0.37907289110181214\n"
     ]
    },
    {
     "name": "stdout",
     "output_type": "stream",
     "text": [
      "Fitting 5 folds for each of 1 candidates, totalling 5 fits\n",
      "[CV 3/5] END classifier__max_depth=13, classifier__max_features=log2, classifier__min_samples_leaf=1, classifier__min_samples_split=3, classifier__n_estimators=59, feature_selection__n_components=5;, score=0.839 total time=   0.1s\n",
      "[CV 4/5] END classifier__max_depth=13, classifier__max_features=log2, classifier__min_samples_leaf=1, classifier__min_samples_split=3, classifier__n_estimators=59, feature_selection__n_components=5;, score=0.884 total time=   0.1s\n",
      "[CV 1/5] END classifier__max_depth=13, classifier__max_features=log2, classifier__min_samples_leaf=1, classifier__min_samples_split=3, classifier__n_estimators=59, feature_selection__n_components=5;, score=0.812 total time=   0.1s\n",
      "[CV 2/5] END classifier__max_depth=13, classifier__max_features=log2, classifier__min_samples_leaf=1, classifier__min_samples_split=3, classifier__n_estimators=59, feature_selection__n_components=5;, score=0.866 total time=   0.1s\n",
      "[CV 5/5] END classifier__max_depth=13, classifier__max_features=log2, classifier__min_samples_leaf=1, classifier__min_samples_split=3, classifier__n_estimators=59, feature_selection__n_components=5;, score=0.820 total time=   0.1s\n"
     ]
    },
    {
     "name": "stderr",
     "output_type": "stream",
     "text": [
      "INFO:root:Iteration 51: tested parameters: [13, 'log2', 1, 3, 59, 5], score: 0.8441380605140336\n"
     ]
    },
    {
     "name": "stdout",
     "output_type": "stream",
     "text": [
      "Fitting 5 folds for each of 1 candidates, totalling 5 fits\n",
      "[CV 2/5] END classifier__max_depth=16, classifier__max_features=sqrt, classifier__min_samples_leaf=1, classifier__min_samples_split=2, classifier__n_estimators=50, feature_selection__n_components=5;, score=0.859 total time=   0.1s\n",
      "[CV 1/5] END classifier__max_depth=16, classifier__max_features=sqrt, classifier__min_samples_leaf=1, classifier__min_samples_split=2, classifier__n_estimators=50, feature_selection__n_components=5;, score=0.822 total time=   0.1s\n",
      "[CV 3/5] END classifier__max_depth=16, classifier__max_features=sqrt, classifier__min_samples_leaf=1, classifier__min_samples_split=2, classifier__n_estimators=50, feature_selection__n_components=5;, score=0.839 total time=   0.1s\n",
      "[CV 4/5] END classifier__max_depth=16, classifier__max_features=sqrt, classifier__min_samples_leaf=1, classifier__min_samples_split=2, classifier__n_estimators=50, feature_selection__n_components=5;, score=0.888 total time=   0.1s\n",
      "[CV 5/5] END classifier__max_depth=16, classifier__max_features=sqrt, classifier__min_samples_leaf=1, classifier__min_samples_split=2, classifier__n_estimators=50, feature_selection__n_components=5;, score=0.816 total time=   0.1s\n"
     ]
    },
    {
     "name": "stderr",
     "output_type": "stream",
     "text": [
      "INFO:root:Iteration 52: tested parameters: [16, 'sqrt', 1, 2, 50, 5], score: 0.8448206001965737\n"
     ]
    },
    {
     "name": "stdout",
     "output_type": "stream",
     "text": [
      "Fitting 5 folds for each of 1 candidates, totalling 5 fits\n",
      "[CV 1/5] END classifier__max_depth=16, classifier__max_features=sqrt, classifier__min_samples_leaf=1, classifier__min_samples_split=9, classifier__n_estimators=300, feature_selection__n_components=5;, score=0.826 total time=   0.5s\n",
      "[CV 3/5] END classifier__max_depth=16, classifier__max_features=sqrt, classifier__min_samples_leaf=1, classifier__min_samples_split=9, classifier__n_estimators=300, feature_selection__n_components=5;, score=0.849 total time=   0.5s\n",
      "[CV 2/5] END classifier__max_depth=16, classifier__max_features=sqrt, classifier__min_samples_leaf=1, classifier__min_samples_split=9, classifier__n_estimators=300, feature_selection__n_components=5;, score=0.848 total time=   0.6s\n",
      "[CV 4/5] END classifier__max_depth=16, classifier__max_features=sqrt, classifier__min_samples_leaf=1, classifier__min_samples_split=9, classifier__n_estimators=300, feature_selection__n_components=5;, score=0.885 total time=   0.5s\n",
      "[CV 5/5] END classifier__max_depth=16, classifier__max_features=sqrt, classifier__min_samples_leaf=1, classifier__min_samples_split=9, classifier__n_estimators=300, feature_selection__n_components=5;, score=0.820 total time=   0.4s\n"
     ]
    },
    {
     "name": "stderr",
     "output_type": "stream",
     "text": [
      "INFO:root:Iteration 53: tested parameters: [16, 'sqrt', 1, 9, 300, 5], score: 0.8455504175715521\n"
     ]
    },
    {
     "name": "stdout",
     "output_type": "stream",
     "text": [
      "Fitting 5 folds for each of 1 candidates, totalling 5 fits\n",
      "[CV 3/5] END classifier__max_depth=12, classifier__max_features=sqrt, classifier__min_samples_leaf=8, classifier__min_samples_split=20, classifier__n_estimators=123, feature_selection__n_components=5;, score=0.835 total time=   0.2s\n",
      "[CV 1/5] END classifier__max_depth=12, classifier__max_features=sqrt, classifier__min_samples_leaf=8, classifier__min_samples_split=20, classifier__n_estimators=123, feature_selection__n_components=5;, score=0.804 total time=   0.2s\n",
      "[CV 2/5] END classifier__max_depth=12, classifier__max_features=sqrt, classifier__min_samples_leaf=8, classifier__min_samples_split=20, classifier__n_estimators=123, feature_selection__n_components=5;, score=0.827 total time=   0.2s\n",
      "[CV 4/5] END classifier__max_depth=12, classifier__max_features=sqrt, classifier__min_samples_leaf=8, classifier__min_samples_split=20, classifier__n_estimators=123, feature_selection__n_components=5;, score=0.867 total time=   0.2s\n",
      "[CV 5/5] END classifier__max_depth=12, classifier__max_features=sqrt, classifier__min_samples_leaf=8, classifier__min_samples_split=20, classifier__n_estimators=123, feature_selection__n_components=5;, score=0.792 total time=   0.2s\n"
     ]
    },
    {
     "name": "stderr",
     "output_type": "stream",
     "text": [
      "INFO:root:Iteration 54: tested parameters: [12, 'sqrt', 8, 20, 123, 5], score: 0.8250497319184749\n"
     ]
    },
    {
     "name": "stdout",
     "output_type": "stream",
     "text": [
      "Fitting 5 folds for each of 1 candidates, totalling 5 fits\n",
      "[CV 1/5] END classifier__max_depth=18, classifier__max_features=log2, classifier__min_samples_leaf=1, classifier__min_samples_split=20, classifier__n_estimators=220, feature_selection__n_components=5;, score=0.829 total time=   0.4s\n",
      "[CV 2/5] END classifier__max_depth=18, classifier__max_features=log2, classifier__min_samples_leaf=1, classifier__min_samples_split=20, classifier__n_estimators=220, feature_selection__n_components=5;, score=0.845 total time=   0.4s\n",
      "[CV 4/5] END classifier__max_depth=18, classifier__max_features=log2, classifier__min_samples_leaf=1, classifier__min_samples_split=20, classifier__n_estimators=220, feature_selection__n_components=5;, score=0.888 total time=   0.3s\n",
      "[CV 3/5] END classifier__max_depth=18, classifier__max_features=log2, classifier__min_samples_leaf=1, classifier__min_samples_split=20, classifier__n_estimators=220, feature_selection__n_components=5;, score=0.849 total time=   0.4s\n",
      "[CV 5/5] END classifier__max_depth=18, classifier__max_features=log2, classifier__min_samples_leaf=1, classifier__min_samples_split=20, classifier__n_estimators=220, feature_selection__n_components=5;, score=0.809 total time=   0.3s\n"
     ]
    },
    {
     "name": "stderr",
     "output_type": "stream",
     "text": [
      "INFO:root:Iteration 55: tested parameters: [18, 'log2', 1, 20, 220, 5], score: 0.8441116054875787\n"
     ]
    },
    {
     "name": "stdout",
     "output_type": "stream",
     "text": [
      "Fitting 5 folds for each of 1 candidates, totalling 5 fits\n",
      "[CV 3/5] END classifier__max_depth=19, classifier__max_features=sqrt, classifier__min_samples_leaf=9, classifier__min_samples_split=20, classifier__n_estimators=101, feature_selection__n_components=5;, score=0.842 total time=   0.2s\n",
      "[CV 1/5] END classifier__max_depth=19, classifier__max_features=sqrt, classifier__min_samples_leaf=9, classifier__min_samples_split=20, classifier__n_estimators=101, feature_selection__n_components=5;, score=0.801 total time=   0.2s\n",
      "[CV 4/5] END classifier__max_depth=19, classifier__max_features=sqrt, classifier__min_samples_leaf=9, classifier__min_samples_split=20, classifier__n_estimators=101, feature_selection__n_components=5;, score=0.860 total time=   0.2s\n",
      "[CV 2/5] END classifier__max_depth=19, classifier__max_features=sqrt, classifier__min_samples_leaf=9, classifier__min_samples_split=20, classifier__n_estimators=101, feature_selection__n_components=5;, score=0.841 total time=   0.2s\n",
      "[CV 5/5] END classifier__max_depth=19, classifier__max_features=sqrt, classifier__min_samples_leaf=9, classifier__min_samples_split=20, classifier__n_estimators=101, feature_selection__n_components=5;, score=0.771 total time=   0.1s\n"
     ]
    },
    {
     "name": "stderr",
     "output_type": "stream",
     "text": [
      "INFO:root:Iteration 56: tested parameters: [19, 'sqrt', 9, 20, 101, 5], score: 0.8230252602833248\n"
     ]
    },
    {
     "name": "stdout",
     "output_type": "stream",
     "text": [
      "Fitting 5 folds for each of 1 candidates, totalling 5 fits\n",
      "[CV 1/5] END classifier__max_depth=27, classifier__max_features=sqrt, classifier__min_samples_leaf=1, classifier__min_samples_split=10, classifier__n_estimators=294, feature_selection__n_components=5;, score=0.826 total time=   0.5s\n",
      "[CV 2/5] END classifier__max_depth=27, classifier__max_features=sqrt, classifier__min_samples_leaf=1, classifier__min_samples_split=10, classifier__n_estimators=294, feature_selection__n_components=5;, score=0.852 total time=   0.5s\n",
      "[CV 3/5] END classifier__max_depth=27, classifier__max_features=sqrt, classifier__min_samples_leaf=1, classifier__min_samples_split=10, classifier__n_estimators=294, feature_selection__n_components=5;, score=0.846 total time=   0.4s\n",
      "[CV 4/5] END classifier__max_depth=27, classifier__max_features=sqrt, classifier__min_samples_leaf=1, classifier__min_samples_split=10, classifier__n_estimators=294, feature_selection__n_components=5;, score=0.884 total time=   0.4s\n",
      "[CV 5/5] END classifier__max_depth=27, classifier__max_features=sqrt, classifier__min_samples_leaf=1, classifier__min_samples_split=10, classifier__n_estimators=294, feature_selection__n_components=5;, score=0.806 total time=   0.3s\n"
     ]
    },
    {
     "name": "stderr",
     "output_type": "stream",
     "text": [
      "INFO:root:Iteration 57: tested parameters: [27, 'sqrt', 1, 10, 294, 5], score: 0.8427094890854624\n"
     ]
    },
    {
     "name": "stdout",
     "output_type": "stream",
     "text": [
      "Fitting 5 folds for each of 1 candidates, totalling 5 fits\n",
      "[CV 1/5] END classifier__max_depth=16, classifier__max_features=log2, classifier__min_samples_leaf=1, classifier__min_samples_split=2, classifier__n_estimators=300, feature_selection__n_components=4;, score=0.815 total time=   0.5s\n",
      "[CV 3/5] END classifier__max_depth=16, classifier__max_features=log2, classifier__min_samples_leaf=1, classifier__min_samples_split=2, classifier__n_estimators=300, feature_selection__n_components=4;, score=0.803 total time=   0.5s\n",
      "[CV 4/5] END classifier__max_depth=16, classifier__max_features=log2, classifier__min_samples_leaf=1, classifier__min_samples_split=2, classifier__n_estimators=300, feature_selection__n_components=4;, score=0.852 total time=   0.5s\n",
      "[CV 2/5] END classifier__max_depth=16, classifier__max_features=log2, classifier__min_samples_leaf=1, classifier__min_samples_split=2, classifier__n_estimators=300, feature_selection__n_components=4;, score=0.848 total time=   0.5s\n",
      "[CV 5/5] END classifier__max_depth=16, classifier__max_features=log2, classifier__min_samples_leaf=1, classifier__min_samples_split=2, classifier__n_estimators=300, feature_selection__n_components=4;, score=0.788 total time=   0.4s\n"
     ]
    },
    {
     "name": "stderr",
     "output_type": "stream",
     "text": [
      "INFO:root:Iteration 58: tested parameters: [16, 'log2', 1, 2, 300, 4], score: 0.8211265898028968\n"
     ]
    },
    {
     "name": "stdout",
     "output_type": "stream",
     "text": [
      "Fitting 5 folds for each of 1 candidates, totalling 5 fits\n",
      "[CV 1/5] END classifier__max_depth=28, classifier__max_features=log2, classifier__min_samples_leaf=1, classifier__min_samples_split=2, classifier__n_estimators=106, feature_selection__n_components=5;, score=0.812 total time=   0.2s\n",
      "[CV 2/5] END classifier__max_depth=28, classifier__max_features=log2, classifier__min_samples_leaf=1, classifier__min_samples_split=2, classifier__n_estimators=106, feature_selection__n_components=5;, score=0.869 total time=   0.2s\n",
      "[CV 4/5] END classifier__max_depth=28, classifier__max_features=log2, classifier__min_samples_leaf=1, classifier__min_samples_split=2, classifier__n_estimators=106, feature_selection__n_components=5;, score=0.888 total time=   0.2s\n",
      "[CV 3/5] END classifier__max_depth=28, classifier__max_features=log2, classifier__min_samples_leaf=1, classifier__min_samples_split=2, classifier__n_estimators=106, feature_selection__n_components=5;, score=0.849 total time=   0.2s\n",
      "[CV 5/5] END classifier__max_depth=28, classifier__max_features=log2, classifier__min_samples_leaf=1, classifier__min_samples_split=2, classifier__n_estimators=106, feature_selection__n_components=5;, score=0.827 total time=   0.2s\n"
     ]
    },
    {
     "name": "stderr",
     "output_type": "stream",
     "text": [
      "INFO:root:Iteration 59: tested parameters: [28, 'log2', 1, 2, 106, 5], score: 0.848972055958708\n"
     ]
    },
    {
     "name": "stdout",
     "output_type": "stream",
     "text": [
      "Fitting 5 folds for each of 1 candidates, totalling 5 fits\n",
      "[CV 2/5] END classifier__max_depth=15, classifier__max_features=sqrt, classifier__min_samples_leaf=1, classifier__min_samples_split=2, classifier__n_estimators=300, feature_selection__n_components=5;, score=0.866 total time=   0.5s\n",
      "[CV 1/5] END classifier__max_depth=15, classifier__max_features=sqrt, classifier__min_samples_leaf=1, classifier__min_samples_split=2, classifier__n_estimators=300, feature_selection__n_components=5;, score=0.825 total time=   0.5s\n",
      "[CV 3/5] END classifier__max_depth=15, classifier__max_features=sqrt, classifier__min_samples_leaf=1, classifier__min_samples_split=2, classifier__n_estimators=300, feature_selection__n_components=5;, score=0.852 total time=   0.5s\n",
      "[CV 4/5] END classifier__max_depth=15, classifier__max_features=sqrt, classifier__min_samples_leaf=1, classifier__min_samples_split=2, classifier__n_estimators=300, feature_selection__n_components=5;, score=0.891 total time=   0.6s\n",
      "[CV 5/5] END classifier__max_depth=15, classifier__max_features=sqrt, classifier__min_samples_leaf=1, classifier__min_samples_split=2, classifier__n_estimators=300, feature_selection__n_components=5;, score=0.816 total time=   0.4s\n"
     ]
    },
    {
     "name": "stderr",
     "output_type": "stream",
     "text": [
      "INFO:root:Iteration 60: tested parameters: [15, 'sqrt', 1, 2, 300, 5], score: 0.8502787753588643\n"
     ]
    },
    {
     "name": "stdout",
     "output_type": "stream",
     "text": [
      "Fitting 5 folds for each of 1 candidates, totalling 5 fits\n",
      "[CV 3/5] END classifier__max_depth=10, classifier__max_features=log2, classifier__min_samples_leaf=1, classifier__min_samples_split=2, classifier__n_estimators=214, feature_selection__n_components=5;, score=0.850 total time=   0.4s\n",
      "[CV 4/5] END classifier__max_depth=10, classifier__max_features=log2, classifier__min_samples_leaf=1, classifier__min_samples_split=2, classifier__n_estimators=214, feature_selection__n_components=5;, score=0.895 total time=   0.4s\n",
      "[CV 2/5] END classifier__max_depth=10, classifier__max_features=log2, classifier__min_samples_leaf=1, classifier__min_samples_split=2, classifier__n_estimators=214, feature_selection__n_components=5;, score=0.870 total time=   0.4s\n",
      "[CV 1/5] END classifier__max_depth=10, classifier__max_features=log2, classifier__min_samples_leaf=1, classifier__min_samples_split=2, classifier__n_estimators=214, feature_selection__n_components=5;, score=0.823 total time=   0.4s\n",
      "[CV 5/5] END classifier__max_depth=10, classifier__max_features=log2, classifier__min_samples_leaf=1, classifier__min_samples_split=2, classifier__n_estimators=214, feature_selection__n_components=5;, score=0.813 total time=   0.3s\n"
     ]
    },
    {
     "name": "stderr",
     "output_type": "stream",
     "text": [
      "INFO:root:Iteration 61: tested parameters: [10, 'log2', 1, 2, 214, 5], score: 0.8500137660304514\n"
     ]
    },
    {
     "name": "stdout",
     "output_type": "stream",
     "text": [
      "Fitting 5 folds for each of 1 candidates, totalling 5 fits\n",
      "[CV 3/5] END classifier__max_depth=13, classifier__max_features=sqrt, classifier__min_samples_leaf=1, classifier__min_samples_split=2, classifier__n_estimators=300, feature_selection__n_components=5;, score=0.850 total time=   0.5s\n",
      "[CV 2/5] END classifier__max_depth=13, classifier__max_features=sqrt, classifier__min_samples_leaf=1, classifier__min_samples_split=2, classifier__n_estimators=300, feature_selection__n_components=5;, score=0.863 total time=   0.5s\n",
      "[CV 1/5] END classifier__max_depth=13, classifier__max_features=sqrt, classifier__min_samples_leaf=1, classifier__min_samples_split=2, classifier__n_estimators=300, feature_selection__n_components=5;, score=0.819 total time=   0.5s\n",
      "[CV 4/5] END classifier__max_depth=13, classifier__max_features=sqrt, classifier__min_samples_leaf=1, classifier__min_samples_split=2, classifier__n_estimators=300, feature_selection__n_components=5;, score=0.884 total time=   0.5s\n",
      "[CV 5/5] END classifier__max_depth=13, classifier__max_features=sqrt, classifier__min_samples_leaf=1, classifier__min_samples_split=2, classifier__n_estimators=300, feature_selection__n_components=5;, score=0.813 total time=   0.4s\n"
     ]
    },
    {
     "name": "stderr",
     "output_type": "stream",
     "text": [
      "INFO:root:Iteration 62: tested parameters: [13, 'sqrt', 1, 2, 300, 5], score: 0.8457375861480422\n"
     ]
    },
    {
     "name": "stdout",
     "output_type": "stream",
     "text": [
      "Fitting 5 folds for each of 1 candidates, totalling 5 fits\n",
      "[CV 2/5] END classifier__max_depth=30, classifier__max_features=None, classifier__min_samples_leaf=9, classifier__min_samples_split=19, classifier__n_estimators=270, feature_selection__n_components=3;, score=0.752 total time=   0.5s\n",
      "[CV 3/5] END classifier__max_depth=30, classifier__max_features=None, classifier__min_samples_leaf=9, classifier__min_samples_split=19, classifier__n_estimators=270, feature_selection__n_components=3;, score=0.756 total time=   0.5s\n",
      "[CV 4/5] END classifier__max_depth=30, classifier__max_features=None, classifier__min_samples_leaf=9, classifier__min_samples_split=19, classifier__n_estimators=270, feature_selection__n_components=3;, score=0.739 total time=   0.5s\n",
      "[CV 1/5] END classifier__max_depth=30, classifier__max_features=None, classifier__min_samples_leaf=9, classifier__min_samples_split=19, classifier__n_estimators=270, feature_selection__n_components=3;, score=0.701 total time=   0.6s\n",
      "[CV 5/5] END classifier__max_depth=30, classifier__max_features=None, classifier__min_samples_leaf=9, classifier__min_samples_split=19, classifier__n_estimators=270, feature_selection__n_components=3;, score=0.693 total time=   0.4s\n"
     ]
    },
    {
     "name": "stderr",
     "output_type": "stream",
     "text": [
      "INFO:root:Iteration 63: tested parameters: [30, None, 9, 19, 270, 3], score: 0.7282112812001578\n"
     ]
    },
    {
     "name": "stdout",
     "output_type": "stream",
     "text": [
      "Fitting 5 folds for each of 1 candidates, totalling 5 fits\n",
      "[CV 1/5] END classifier__max_depth=5, classifier__max_features=log2, classifier__min_samples_leaf=9, classifier__min_samples_split=2, classifier__n_estimators=289, feature_selection__n_components=5;, score=0.789 total time=   0.4s\n",
      "[CV 2/5] END classifier__max_depth=5, classifier__max_features=log2, classifier__min_samples_leaf=9, classifier__min_samples_split=2, classifier__n_estimators=289, feature_selection__n_components=5;, score=0.812 total time=   0.4s\n",
      "[CV 4/5] END classifier__max_depth=5, classifier__max_features=log2, classifier__min_samples_leaf=9, classifier__min_samples_split=2, classifier__n_estimators=289, feature_selection__n_components=5;, score=0.850 total time=   0.3s\n",
      "[CV 3/5] END classifier__max_depth=5, classifier__max_features=log2, classifier__min_samples_leaf=9, classifier__min_samples_split=2, classifier__n_estimators=289, feature_selection__n_components=5;, score=0.825 total time=   0.4s\n",
      "[CV 5/5] END classifier__max_depth=5, classifier__max_features=log2, classifier__min_samples_leaf=9, classifier__min_samples_split=2, classifier__n_estimators=289, feature_selection__n_components=5;, score=0.774 total time=   0.3s\n"
     ]
    },
    {
     "name": "stderr",
     "output_type": "stream",
     "text": [
      "INFO:root:Iteration 64: tested parameters: [5, 'log2', 9, 2, 289, 5], score: 0.810059083873322\n"
     ]
    },
    {
     "name": "stdout",
     "output_type": "stream",
     "text": [
      "Fitting 5 folds for each of 1 candidates, totalling 5 fits\n",
      "[CV 3/5] END classifier__max_depth=13, classifier__max_features=log2, classifier__min_samples_leaf=1, classifier__min_samples_split=2, classifier__n_estimators=300, feature_selection__n_components=4;, score=0.817 total time=   0.5s\n",
      "[CV 4/5] END classifier__max_depth=13, classifier__max_features=log2, classifier__min_samples_leaf=1, classifier__min_samples_split=2, classifier__n_estimators=300, feature_selection__n_components=4;, score=0.871 total time=   0.5s\n",
      "[CV 2/5] END classifier__max_depth=13, classifier__max_features=log2, classifier__min_samples_leaf=1, classifier__min_samples_split=2, classifier__n_estimators=300, feature_selection__n_components=4;, score=0.851 total time=   0.6s\n",
      "[CV 1/5] END classifier__max_depth=13, classifier__max_features=log2, classifier__min_samples_leaf=1, classifier__min_samples_split=2, classifier__n_estimators=300, feature_selection__n_components=4;, score=0.805 total time=   0.6s\n",
      "[CV 5/5] END classifier__max_depth=13, classifier__max_features=log2, classifier__min_samples_leaf=1, classifier__min_samples_split=2, classifier__n_estimators=300, feature_selection__n_components=4;, score=0.778 total time=   0.4s\n"
     ]
    },
    {
     "name": "stderr",
     "output_type": "stream",
     "text": [
      "INFO:root:Iteration 65: tested parameters: [13, 'log2', 1, 2, 300, 4], score: 0.824399097174403\n"
     ]
    },
    {
     "name": "stdout",
     "output_type": "stream",
     "text": [
      "Fitting 5 folds for each of 1 candidates, totalling 5 fits\n",
      "[CV 2/5] END classifier__max_depth=12, classifier__max_features=log2, classifier__min_samples_leaf=1, classifier__min_samples_split=2, classifier__n_estimators=300, feature_selection__n_components=4;, score=0.844 total time=   0.5s\n",
      "[CV 4/5] END classifier__max_depth=12, classifier__max_features=log2, classifier__min_samples_leaf=1, classifier__min_samples_split=2, classifier__n_estimators=300, feature_selection__n_components=4;, score=0.864 total time=   0.5s\n",
      "[CV 3/5] END classifier__max_depth=12, classifier__max_features=log2, classifier__min_samples_leaf=1, classifier__min_samples_split=2, classifier__n_estimators=300, feature_selection__n_components=4;, score=0.824 total time=   0.5s\n",
      "[CV 1/5] END classifier__max_depth=12, classifier__max_features=log2, classifier__min_samples_leaf=1, classifier__min_samples_split=2, classifier__n_estimators=300, feature_selection__n_components=4;, score=0.808 total time=   0.6s\n",
      "[CV 5/5] END classifier__max_depth=12, classifier__max_features=log2, classifier__min_samples_leaf=1, classifier__min_samples_split=2, classifier__n_estimators=300, feature_selection__n_components=4;, score=0.791 total time=   0.4s\n"
     ]
    },
    {
     "name": "stderr",
     "output_type": "stream",
     "text": [
      "INFO:root:Iteration 66: tested parameters: [12, 'log2', 1, 2, 300, 4], score: 0.8263281482658569\n"
     ]
    },
    {
     "name": "stdout",
     "output_type": "stream",
     "text": [
      "Fitting 5 folds for each of 1 candidates, totalling 5 fits\n",
      "[CV 2/5] END classifier__max_depth=27, classifier__max_features=None, classifier__min_samples_leaf=1, classifier__min_samples_split=3, classifier__n_estimators=202, feature_selection__n_components=5;, score=0.862 total time=   0.7s\n",
      "[CV 3/5] END classifier__max_depth=27, classifier__max_features=None, classifier__min_samples_leaf=1, classifier__min_samples_split=3, classifier__n_estimators=202, feature_selection__n_components=5;, score=0.836 total time=   0.7s\n",
      "[CV 1/5] END classifier__max_depth=27, classifier__max_features=None, classifier__min_samples_leaf=1, classifier__min_samples_split=3, classifier__n_estimators=202, feature_selection__n_components=5;, score=0.801 total time=   0.7s\n",
      "[CV 4/5] END classifier__max_depth=27, classifier__max_features=None, classifier__min_samples_leaf=1, classifier__min_samples_split=3, classifier__n_estimators=202, feature_selection__n_components=5;, score=0.867 total time=   0.7s\n",
      "[CV 5/5] END classifier__max_depth=27, classifier__max_features=None, classifier__min_samples_leaf=1, classifier__min_samples_split=3, classifier__n_estimators=202, feature_selection__n_components=5;, score=0.806 total time=   0.5s\n"
     ]
    },
    {
     "name": "stderr",
     "output_type": "stream",
     "text": [
      "INFO:root:Iteration 67: tested parameters: [27, None, 1, 3, 202, 5], score: 0.8345417954105384\n"
     ]
    },
    {
     "name": "stdout",
     "output_type": "stream",
     "text": [
      "Fitting 5 folds for each of 1 candidates, totalling 5 fits\n",
      "[CV 1/5] END classifier__max_depth=14, classifier__max_features=log2, classifier__min_samples_leaf=8, classifier__min_samples_split=20, classifier__n_estimators=298, feature_selection__n_components=2;, score=0.583 total time=   0.3s\n",
      "[CV 3/5] END classifier__max_depth=14, classifier__max_features=log2, classifier__min_samples_leaf=8, classifier__min_samples_split=20, classifier__n_estimators=298, feature_selection__n_components=2;, score=0.561 total time=   0.3s\n",
      "[CV 4/5] END classifier__max_depth=14, classifier__max_features=log2, classifier__min_samples_leaf=8, classifier__min_samples_split=20, classifier__n_estimators=298, feature_selection__n_components=2;, score=0.567 total time=   0.3s\n",
      "[CV 2/5] END classifier__max_depth=14, classifier__max_features=log2, classifier__min_samples_leaf=8, classifier__min_samples_split=20, classifier__n_estimators=298, feature_selection__n_components=2;, score=0.564 total time=   0.3s\n",
      "[CV 5/5] END classifier__max_depth=14, classifier__max_features=log2, classifier__min_samples_leaf=8, classifier__min_samples_split=20, classifier__n_estimators=298, feature_selection__n_components=2;, score=0.509 total time=   0.2s\n"
     ]
    },
    {
     "name": "stderr",
     "output_type": "stream",
     "text": [
      "INFO:root:Iteration 68: tested parameters: [14, 'log2', 8, 20, 298, 2], score: 0.5568968401104109\n"
     ]
    },
    {
     "name": "stdout",
     "output_type": "stream",
     "text": [
      "Fitting 5 folds for each of 1 candidates, totalling 5 fits\n",
      "[CV 1/5] END classifier__max_depth=9, classifier__max_features=sqrt, classifier__min_samples_leaf=10, classifier__min_samples_split=20, classifier__n_estimators=245, feature_selection__n_components=4;, score=0.783 total time=   0.4s\n",
      "[CV 2/5] END classifier__max_depth=9, classifier__max_features=sqrt, classifier__min_samples_leaf=10, classifier__min_samples_split=20, classifier__n_estimators=245, feature_selection__n_components=4;, score=0.813 total time=   0.4s\n",
      "[CV 4/5] END classifier__max_depth=9, classifier__max_features=sqrt, classifier__min_samples_leaf=10, classifier__min_samples_split=20, classifier__n_estimators=245, feature_selection__n_components=4;, score=0.840 total time=   0.4s\n",
      "[CV 3/5] END classifier__max_depth=9, classifier__max_features=sqrt, classifier__min_samples_leaf=10, classifier__min_samples_split=20, classifier__n_estimators=245, feature_selection__n_components=4;, score=0.828 total time=   0.4s\n",
      "[CV 5/5] END classifier__max_depth=9, classifier__max_features=sqrt, classifier__min_samples_leaf=10, classifier__min_samples_split=20, classifier__n_estimators=245, feature_selection__n_components=4;, score=0.774 total time=   0.3s\n"
     ]
    },
    {
     "name": "stderr",
     "output_type": "stream",
     "text": [
      "INFO:root:Iteration 69: tested parameters: [9, 'sqrt', 10, 20, 245, 4], score: 0.8075310721495372\n"
     ]
    },
    {
     "name": "stdout",
     "output_type": "stream",
     "text": [
      "Fitting 5 folds for each of 1 candidates, totalling 5 fits\n",
      "[CV 1/5] END classifier__max_depth=12, classifier__max_features=sqrt, classifier__min_samples_leaf=1, classifier__min_samples_split=2, classifier__n_estimators=300, feature_selection__n_components=5;, score=0.823 total time=   0.6s\n",
      "[CV 3/5] END classifier__max_depth=12, classifier__max_features=sqrt, classifier__min_samples_leaf=1, classifier__min_samples_split=2, classifier__n_estimators=300, feature_selection__n_components=5;, score=0.853 total time=   0.6s\n",
      "[CV 4/5] END classifier__max_depth=12, classifier__max_features=sqrt, classifier__min_samples_leaf=1, classifier__min_samples_split=2, classifier__n_estimators=300, feature_selection__n_components=5;, score=0.891 total time=   0.6s\n",
      "[CV 2/5] END classifier__max_depth=12, classifier__max_features=sqrt, classifier__min_samples_leaf=1, classifier__min_samples_split=2, classifier__n_estimators=300, feature_selection__n_components=5;, score=0.862 total time=   0.6s\n",
      "[CV 5/5] END classifier__max_depth=12, classifier__max_features=sqrt, classifier__min_samples_leaf=1, classifier__min_samples_split=2, classifier__n_estimators=300, feature_selection__n_components=5;, score=0.816 total time=   0.5s\n"
     ]
    },
    {
     "name": "stderr",
     "output_type": "stream",
     "text": [
      "INFO:root:Iteration 70: tested parameters: [12, 'sqrt', 1, 2, 300, 5], score: 0.849038055217143\n"
     ]
    },
    {
     "name": "stdout",
     "output_type": "stream",
     "text": [
      "Fitting 5 folds for each of 1 candidates, totalling 5 fits\n",
      "[CV 1/5] END classifier__max_depth=12, classifier__max_features=log2, classifier__min_samples_leaf=1, classifier__min_samples_split=2, classifier__n_estimators=300, feature_selection__n_components=5;, score=0.829 total time=   0.5s\n",
      "[CV 2/5] END classifier__max_depth=12, classifier__max_features=log2, classifier__min_samples_leaf=1, classifier__min_samples_split=2, classifier__n_estimators=300, feature_selection__n_components=5;, score=0.859 total time=   0.5s\n",
      "[CV 3/5] END classifier__max_depth=12, classifier__max_features=log2, classifier__min_samples_leaf=1, classifier__min_samples_split=2, classifier__n_estimators=300, feature_selection__n_components=5;, score=0.846 total time=   0.5s\n",
      "[CV 4/5] END classifier__max_depth=12, classifier__max_features=log2, classifier__min_samples_leaf=1, classifier__min_samples_split=2, classifier__n_estimators=300, feature_selection__n_components=5;, score=0.891 total time=   0.5s\n",
      "[CV 5/5] END classifier__max_depth=12, classifier__max_features=log2, classifier__min_samples_leaf=1, classifier__min_samples_split=2, classifier__n_estimators=300, feature_selection__n_components=5;, score=0.813 total time=   0.4s\n"
     ]
    },
    {
     "name": "stderr",
     "output_type": "stream",
     "text": [
      "INFO:root:Iteration 71: tested parameters: [12, 'log2', 1, 2, 300, 5], score: 0.8477094890854623\n"
     ]
    },
    {
     "name": "stdout",
     "output_type": "stream",
     "text": [
      "Fitting 5 folds for each of 1 candidates, totalling 5 fits\n",
      "[CV 1/5] END classifier__max_depth=11, classifier__max_features=log2, classifier__min_samples_leaf=1, classifier__min_samples_split=2, classifier__n_estimators=300, feature_selection__n_components=5;, score=0.833 total time=   0.5s\n",
      "[CV 4/5] END classifier__max_depth=11, classifier__max_features=log2, classifier__min_samples_leaf=1, classifier__min_samples_split=2, classifier__n_estimators=300, feature_selection__n_components=5;, score=0.888 total time=   0.5s\n",
      "[CV 3/5] END classifier__max_depth=11, classifier__max_features=log2, classifier__min_samples_leaf=1, classifier__min_samples_split=2, classifier__n_estimators=300, feature_selection__n_components=5;, score=0.850 total time=   0.5s\n",
      "[CV 2/5] END classifier__max_depth=11, classifier__max_features=log2, classifier__min_samples_leaf=1, classifier__min_samples_split=2, classifier__n_estimators=300, feature_selection__n_components=5;, score=0.870 total time=   0.6s\n",
      "[CV 5/5] END classifier__max_depth=11, classifier__max_features=log2, classifier__min_samples_leaf=1, classifier__min_samples_split=2, classifier__n_estimators=300, feature_selection__n_components=5;, score=0.820 total time=   0.4s\n"
     ]
    },
    {
     "name": "stderr",
     "output_type": "stream",
     "text": [
      "INFO:root:Iteration 72: tested parameters: [11, 'log2', 1, 2, 300, 5], score: 0.8519645049467073\n"
     ]
    },
    {
     "name": "stdout",
     "output_type": "stream",
     "text": [
      "Fitting 5 folds for each of 1 candidates, totalling 5 fits\n",
      "[CV 4/5] END classifier__max_depth=10, classifier__max_features=log2, classifier__min_samples_leaf=1, classifier__min_samples_split=19, classifier__n_estimators=250, feature_selection__n_components=5;, score=0.867 total time=   0.4s\n",
      "[CV 2/5] END classifier__max_depth=10, classifier__max_features=log2, classifier__min_samples_leaf=1, classifier__min_samples_split=19, classifier__n_estimators=250, feature_selection__n_components=5;, score=0.841 total time=   0.4s\n",
      "[CV 3/5] END classifier__max_depth=10, classifier__max_features=log2, classifier__min_samples_leaf=1, classifier__min_samples_split=19, classifier__n_estimators=250, feature_selection__n_components=5;, score=0.846 total time=   0.4s\n",
      "[CV 1/5] END classifier__max_depth=10, classifier__max_features=log2, classifier__min_samples_leaf=1, classifier__min_samples_split=19, classifier__n_estimators=250, feature_selection__n_components=5;, score=0.823 total time=   0.4s\n",
      "[CV 5/5] END classifier__max_depth=10, classifier__max_features=log2, classifier__min_samples_leaf=1, classifier__min_samples_split=19, classifier__n_estimators=250, feature_selection__n_components=5;, score=0.791 total time=   0.3s\n"
     ]
    },
    {
     "name": "stderr",
     "output_type": "stream",
     "text": [
      "INFO:root:Iteration 73: tested parameters: [10, 'log2', 1, 19, 250, 5], score: 0.8336335669850687\n"
     ]
    },
    {
     "name": "stdout",
     "output_type": "stream",
     "text": [
      "Fitting 5 folds for each of 1 candidates, totalling 5 fits\n",
      "[CV 1/5] END classifier__max_depth=23, classifier__max_features=None, classifier__min_samples_leaf=10, classifier__min_samples_split=3, classifier__n_estimators=241, feature_selection__n_components=5;, score=0.777 total time=   0.8s\n",
      "[CV 4/5] END classifier__max_depth=23, classifier__max_features=None, classifier__min_samples_leaf=10, classifier__min_samples_split=3, classifier__n_estimators=241, feature_selection__n_components=5;, score=0.836 total time=   0.8s\n",
      "[CV 2/5] END classifier__max_depth=23, classifier__max_features=None, classifier__min_samples_leaf=10, classifier__min_samples_split=3, classifier__n_estimators=241, feature_selection__n_components=5;, score=0.813 total time=   0.8s\n",
      "[CV 3/5] END classifier__max_depth=23, classifier__max_features=None, classifier__min_samples_leaf=10, classifier__min_samples_split=3, classifier__n_estimators=241, feature_selection__n_components=5;, score=0.846 total time=   0.9s\n",
      "[CV 5/5] END classifier__max_depth=23, classifier__max_features=None, classifier__min_samples_leaf=10, classifier__min_samples_split=3, classifier__n_estimators=241, feature_selection__n_components=5;, score=0.763 total time=   0.6s\n"
     ]
    },
    {
     "name": "stderr",
     "output_type": "stream",
     "text": [
      "INFO:root:Iteration 74: tested parameters: [23, None, 10, 3, 241, 5], score: 0.8071134240867277\n"
     ]
    },
    {
     "name": "stdout",
     "output_type": "stream",
     "text": [
      "Fitting 5 folds for each of 1 candidates, totalling 5 fits\n",
      "[CV 1/5] END classifier__max_depth=10, classifier__max_features=log2, classifier__min_samples_leaf=10, classifier__min_samples_split=3, classifier__n_estimators=129, feature_selection__n_components=5;, score=0.805 total time=   0.2s\n",
      "[CV 2/5] END classifier__max_depth=10, classifier__max_features=log2, classifier__min_samples_leaf=10, classifier__min_samples_split=3, classifier__n_estimators=129, feature_selection__n_components=5;, score=0.827 total time=   0.2s\n",
      "[CV 4/5] END classifier__max_depth=10, classifier__max_features=log2, classifier__min_samples_leaf=10, classifier__min_samples_split=3, classifier__n_estimators=129, feature_selection__n_components=5;, score=0.853 total time=   0.2s\n",
      "[CV 3/5] END classifier__max_depth=10, classifier__max_features=log2, classifier__min_samples_leaf=10, classifier__min_samples_split=3, classifier__n_estimators=129, feature_selection__n_components=5;, score=0.839 total time=   0.2s\n",
      "[CV 5/5] END classifier__max_depth=10, classifier__max_features=log2, classifier__min_samples_leaf=10, classifier__min_samples_split=3, classifier__n_estimators=129, feature_selection__n_components=5;, score=0.778 total time=   0.2s\n"
     ]
    },
    {
     "name": "stderr",
     "output_type": "stream",
     "text": [
      "INFO:root:Iteration 75: tested parameters: [10, 'log2', 10, 3, 129, 5], score: 0.8203731659515864\n"
     ]
    },
    {
     "name": "stdout",
     "output_type": "stream",
     "text": [
      "Fitting 5 folds for each of 1 candidates, totalling 5 fits\n",
      "[CV 1/5] END classifier__max_depth=26, classifier__max_features=sqrt, classifier__min_samples_leaf=1, classifier__min_samples_split=2, classifier__n_estimators=300, feature_selection__n_components=3;, score=0.704 total time=   0.5s\n",
      "[CV 2/5] END classifier__max_depth=26, classifier__max_features=sqrt, classifier__min_samples_leaf=1, classifier__min_samples_split=2, classifier__n_estimators=300, feature_selection__n_components=3;, score=0.790 total time=   0.5s\n",
      "[CV 3/5] END classifier__max_depth=26, classifier__max_features=sqrt, classifier__min_samples_leaf=1, classifier__min_samples_split=2, classifier__n_estimators=300, feature_selection__n_components=3;, score=0.754 total time=   0.5s\n",
      "[CV 4/5] END classifier__max_depth=26, classifier__max_features=sqrt, classifier__min_samples_leaf=1, classifier__min_samples_split=2, classifier__n_estimators=300, feature_selection__n_components=3;, score=0.785 total time=   0.5s\n",
      "[CV 5/5] END classifier__max_depth=26, classifier__max_features=sqrt, classifier__min_samples_leaf=1, classifier__min_samples_split=2, classifier__n_estimators=300, feature_selection__n_components=3;, score=0.701 total time=   0.3s\n"
     ]
    },
    {
     "name": "stderr",
     "output_type": "stream",
     "text": [
      "INFO:root:Iteration 76: tested parameters: [26, 'sqrt', 1, 2, 300, 3], score: 0.74668195702456\n"
     ]
    },
    {
     "name": "stdout",
     "output_type": "stream",
     "text": [
      "Fitting 5 folds for each of 1 candidates, totalling 5 fits\n",
      "[CV 1/5] END classifier__max_depth=13, classifier__max_features=None, classifier__min_samples_leaf=1, classifier__min_samples_split=19, classifier__n_estimators=135, feature_selection__n_components=4;, score=0.798 total time=   0.4s\n",
      "[CV 2/5] END classifier__max_depth=13, classifier__max_features=None, classifier__min_samples_leaf=1, classifier__min_samples_split=19, classifier__n_estimators=135, feature_selection__n_components=4;, score=0.813 total time=   0.4s\n",
      "[CV 3/5] END classifier__max_depth=13, classifier__max_features=None, classifier__min_samples_leaf=1, classifier__min_samples_split=19, classifier__n_estimators=135, feature_selection__n_components=4;, score=0.811 total time=   0.4s\n",
      "[CV 4/5] END classifier__max_depth=13, classifier__max_features=None, classifier__min_samples_leaf=1, classifier__min_samples_split=19, classifier__n_estimators=135, feature_selection__n_components=4;, score=0.836 total time=   0.4s\n",
      "[CV 5/5] END classifier__max_depth=13, classifier__max_features=None, classifier__min_samples_leaf=1, classifier__min_samples_split=19, classifier__n_estimators=135, feature_selection__n_components=4;, score=0.768 total time=   0.3s\n"
     ]
    },
    {
     "name": "stderr",
     "output_type": "stream",
     "text": [
      "INFO:root:Iteration 77: tested parameters: [13, None, 1, 19, 135, 4], score: 0.80515999552707\n"
     ]
    },
    {
     "name": "stdout",
     "output_type": "stream",
     "text": [
      "Fitting 5 folds for each of 1 candidates, totalling 5 fits\n",
      "[CV 3/5] END classifier__max_depth=28, classifier__max_features=log2, classifier__min_samples_leaf=5, classifier__min_samples_split=3, classifier__n_estimators=63, feature_selection__n_components=5;, score=0.836 total time=   0.2s\n",
      "[CV 1/5] END classifier__max_depth=28, classifier__max_features=log2, classifier__min_samples_leaf=5, classifier__min_samples_split=3, classifier__n_estimators=63, feature_selection__n_components=5;, score=0.818 total time=   0.2s\n",
      "[CV 4/5] END classifier__max_depth=28, classifier__max_features=log2, classifier__min_samples_leaf=5, classifier__min_samples_split=3, classifier__n_estimators=63, feature_selection__n_components=5;, score=0.877 total time=   0.2s\n",
      "[CV 2/5] END classifier__max_depth=28, classifier__max_features=log2, classifier__min_samples_leaf=5, classifier__min_samples_split=3, classifier__n_estimators=63, feature_selection__n_components=5;, score=0.852 total time=   0.2s\n",
      "[CV 5/5] END classifier__max_depth=28, classifier__max_features=log2, classifier__min_samples_leaf=5, classifier__min_samples_split=3, classifier__n_estimators=63, feature_selection__n_components=5;, score=0.792 total time=   0.1s\n"
     ]
    },
    {
     "name": "stderr",
     "output_type": "stream",
     "text": [
      "INFO:root:Iteration 78: tested parameters: [28, 'log2', 5, 3, 63, 5], score: 0.8348147853876441\n"
     ]
    },
    {
     "name": "stdout",
     "output_type": "stream",
     "text": [
      "Fitting 5 folds for each of 1 candidates, totalling 5 fits\n",
      "[CV 2/5] END classifier__max_depth=29, classifier__max_features=sqrt, classifier__min_samples_leaf=1, classifier__min_samples_split=2, classifier__n_estimators=300, feature_selection__n_components=3;, score=0.790 total time=   0.5s\n",
      "[CV 4/5] END classifier__max_depth=29, classifier__max_features=sqrt, classifier__min_samples_leaf=1, classifier__min_samples_split=2, classifier__n_estimators=300, feature_selection__n_components=3;, score=0.774 total time=   0.4s\n",
      "[CV 3/5] END classifier__max_depth=29, classifier__max_features=sqrt, classifier__min_samples_leaf=1, classifier__min_samples_split=2, classifier__n_estimators=300, feature_selection__n_components=3;, score=0.747 total time=   0.5s\n",
      "[CV 1/5] END classifier__max_depth=29, classifier__max_features=sqrt, classifier__min_samples_leaf=1, classifier__min_samples_split=2, classifier__n_estimators=300, feature_selection__n_components=3;, score=0.711 total time=   0.5s\n",
      "[CV 5/5] END classifier__max_depth=29, classifier__max_features=sqrt, classifier__min_samples_leaf=1, classifier__min_samples_split=2, classifier__n_estimators=300, feature_selection__n_components=3;, score=0.697 total time=   0.3s\n"
     ]
    },
    {
     "name": "stderr",
     "output_type": "stream",
     "text": [
      "INFO:root:Iteration 79: tested parameters: [29, 'sqrt', 1, 2, 300, 3], score: 0.7438165569033199\n"
     ]
    },
    {
     "name": "stdout",
     "output_type": "stream",
     "text": [
      "Fitting 5 folds for each of 1 candidates, totalling 5 fits\n",
      "[CV 4/5] END classifier__max_depth=7, classifier__max_features=sqrt, classifier__min_samples_leaf=1, classifier__min_samples_split=2, classifier__n_estimators=163, feature_selection__n_components=5;, score=0.864 total time=   0.3s\n",
      "[CV 1/5] END classifier__max_depth=7, classifier__max_features=sqrt, classifier__min_samples_leaf=1, classifier__min_samples_split=2, classifier__n_estimators=163, feature_selection__n_components=5;, score=0.812 total time=   0.3s\n",
      "[CV 3/5] END classifier__max_depth=7, classifier__max_features=sqrt, classifier__min_samples_leaf=1, classifier__min_samples_split=2, classifier__n_estimators=163, feature_selection__n_components=5;, score=0.847 total time=   0.3s\n",
      "[CV 2/5] END classifier__max_depth=7, classifier__max_features=sqrt, classifier__min_samples_leaf=1, classifier__min_samples_split=2, classifier__n_estimators=163, feature_selection__n_components=5;, score=0.859 total time=   0.4s\n",
      "[CV 5/5] END classifier__max_depth=7, classifier__max_features=sqrt, classifier__min_samples_leaf=1, classifier__min_samples_split=2, classifier__n_estimators=163, feature_selection__n_components=5;, score=0.792 total time=   0.3s\n"
     ]
    },
    {
     "name": "stderr",
     "output_type": "stream",
     "text": [
      "INFO:root:Iteration 80: tested parameters: [7, 'sqrt', 1, 2, 163, 5], score: 0.8347326129561946\n"
     ]
    },
    {
     "name": "stdout",
     "output_type": "stream",
     "text": [
      "Fitting 5 folds for each of 1 candidates, totalling 5 fits\n",
      "[CV 4/5] END classifier__max_depth=18, classifier__max_features=sqrt, classifier__min_samples_leaf=10, classifier__min_samples_split=20, classifier__n_estimators=260, feature_selection__n_components=4;, score=0.847 total time=   0.5s\n",
      "[CV 1/5] END classifier__max_depth=18, classifier__max_features=sqrt, classifier__min_samples_leaf=10, classifier__min_samples_split=20, classifier__n_estimators=260, feature_selection__n_components=4;, score=0.797 total time=   0.5s\n",
      "[CV 2/5] END classifier__max_depth=18, classifier__max_features=sqrt, classifier__min_samples_leaf=10, classifier__min_samples_split=20, classifier__n_estimators=260, feature_selection__n_components=4;, score=0.824 total time=   0.5s\n",
      "[CV 3/5] END classifier__max_depth=18, classifier__max_features=sqrt, classifier__min_samples_leaf=10, classifier__min_samples_split=20, classifier__n_estimators=260, feature_selection__n_components=4;, score=0.814 total time=   0.5s\n",
      "[CV 5/5] END classifier__max_depth=18, classifier__max_features=sqrt, classifier__min_samples_leaf=10, classifier__min_samples_split=20, classifier__n_estimators=260, feature_selection__n_components=4;, score=0.764 total time=   0.4s\n"
     ]
    },
    {
     "name": "stderr",
     "output_type": "stream",
     "text": [
      "INFO:root:Iteration 81: tested parameters: [18, 'sqrt', 10, 20, 260, 4], score: 0.8090226118379622\n"
     ]
    },
    {
     "name": "stdout",
     "output_type": "stream",
     "text": [
      "Fitting 5 folds for each of 1 candidates, totalling 5 fits\n",
      "[CV 1/5] END classifier__max_depth=16, classifier__max_features=None, classifier__min_samples_leaf=1, classifier__min_samples_split=19, classifier__n_estimators=71, feature_selection__n_components=5;, score=0.794 total time=   0.3s\n",
      "[CV 3/5] END classifier__max_depth=16, classifier__max_features=None, classifier__min_samples_leaf=1, classifier__min_samples_split=19, classifier__n_estimators=71, feature_selection__n_components=5;, score=0.840 total time=   0.3s\n",
      "[CV 2/5] END classifier__max_depth=16, classifier__max_features=None, classifier__min_samples_leaf=1, classifier__min_samples_split=19, classifier__n_estimators=71, feature_selection__n_components=5;, score=0.834 total time=   0.3s\n",
      "[CV 4/5] END classifier__max_depth=16, classifier__max_features=None, classifier__min_samples_leaf=1, classifier__min_samples_split=19, classifier__n_estimators=71, feature_selection__n_components=5;, score=0.850 total time=   0.3s\n",
      "[CV 5/5] END classifier__max_depth=16, classifier__max_features=None, classifier__min_samples_leaf=1, classifier__min_samples_split=19, classifier__n_estimators=71, feature_selection__n_components=5;, score=0.788 total time=   0.2s\n"
     ]
    },
    {
     "name": "stderr",
     "output_type": "stream",
     "text": [
      "INFO:root:Iteration 82: tested parameters: [16, None, 1, 19, 71, 5], score: 0.8211886634767612\n"
     ]
    },
    {
     "name": "stdout",
     "output_type": "stream",
     "text": [
      "Fitting 5 folds for each of 1 candidates, totalling 5 fits\n",
      "[CV 4/5] END classifier__max_depth=12, classifier__max_features=log2, classifier__min_samples_leaf=1, classifier__min_samples_split=19, classifier__n_estimators=210, feature_selection__n_components=4;, score=0.836 total time=   0.5s\n",
      "[CV 1/5] END classifier__max_depth=12, classifier__max_features=log2, classifier__min_samples_leaf=1, classifier__min_samples_split=19, classifier__n_estimators=210, feature_selection__n_components=4;, score=0.812 total time=   0.5s\n",
      "[CV 2/5] END classifier__max_depth=12, classifier__max_features=log2, classifier__min_samples_leaf=1, classifier__min_samples_split=19, classifier__n_estimators=210, feature_selection__n_components=4;, score=0.834 total time=   0.5s\n",
      "[CV 3/5] END classifier__max_depth=12, classifier__max_features=log2, classifier__min_samples_leaf=1, classifier__min_samples_split=19, classifier__n_estimators=210, feature_selection__n_components=4;, score=0.818 total time=   0.6s\n",
      "[CV 5/5] END classifier__max_depth=12, classifier__max_features=log2, classifier__min_samples_leaf=1, classifier__min_samples_split=19, classifier__n_estimators=210, feature_selection__n_components=4;, score=0.771 total time=   0.4s\n"
     ]
    },
    {
     "name": "stderr",
     "output_type": "stream",
     "text": [
      "INFO:root:Iteration 83: tested parameters: [12, 'log2', 1, 19, 210, 4], score: 0.8141087510520213\n"
     ]
    },
    {
     "name": "stdout",
     "output_type": "stream",
     "text": [
      "Fitting 5 folds for each of 1 candidates, totalling 5 fits\n",
      "[CV 1/5] END classifier__max_depth=30, classifier__max_features=sqrt, classifier__min_samples_leaf=1, classifier__min_samples_split=2, classifier__n_estimators=300, feature_selection__n_components=3;, score=0.718 total time=   0.5s\n",
      "[CV 4/5] END classifier__max_depth=30, classifier__max_features=sqrt, classifier__min_samples_leaf=1, classifier__min_samples_split=2, classifier__n_estimators=300, feature_selection__n_components=3;, score=0.774 total time=   0.5s\n",
      "[CV 2/5] END classifier__max_depth=30, classifier__max_features=sqrt, classifier__min_samples_leaf=1, classifier__min_samples_split=2, classifier__n_estimators=300, feature_selection__n_components=3;, score=0.787 total time=   0.6s\n",
      "[CV 3/5] END classifier__max_depth=30, classifier__max_features=sqrt, classifier__min_samples_leaf=1, classifier__min_samples_split=2, classifier__n_estimators=300, feature_selection__n_components=3;, score=0.753 total time=   0.6s\n",
      "[CV 5/5] END classifier__max_depth=30, classifier__max_features=sqrt, classifier__min_samples_leaf=1, classifier__min_samples_split=2, classifier__n_estimators=300, feature_selection__n_components=3;, score=0.694 total time=   0.4s\n"
     ]
    },
    {
     "name": "stderr",
     "output_type": "stream",
     "text": [
      "INFO:root:Iteration 84: tested parameters: [30, 'sqrt', 1, 2, 300, 3], score: 0.7450999464425493\n"
     ]
    },
    {
     "name": "stdout",
     "output_type": "stream",
     "text": [
      "Fitting 5 folds for each of 1 candidates, totalling 5 fits\n",
      "[CV 2/5] END classifier__max_depth=10, classifier__max_features=sqrt, classifier__min_samples_leaf=10, classifier__min_samples_split=3, classifier__n_estimators=185, feature_selection__n_components=4;, score=0.824 total time=   0.4s\n",
      "[CV 1/5] END classifier__max_depth=10, classifier__max_features=sqrt, classifier__min_samples_leaf=10, classifier__min_samples_split=3, classifier__n_estimators=185, feature_selection__n_components=4;, score=0.790 total time=   0.4s\n",
      "[CV 4/5] END classifier__max_depth=10, classifier__max_features=sqrt, classifier__min_samples_leaf=10, classifier__min_samples_split=3, classifier__n_estimators=185, feature_selection__n_components=4;, score=0.840 total time=   0.4s\n",
      "[CV 3/5] END classifier__max_depth=10, classifier__max_features=sqrt, classifier__min_samples_leaf=10, classifier__min_samples_split=3, classifier__n_estimators=185, feature_selection__n_components=4;, score=0.821 total time=   0.4s\n",
      "[CV 5/5] END classifier__max_depth=10, classifier__max_features=sqrt, classifier__min_samples_leaf=10, classifier__min_samples_split=3, classifier__n_estimators=185, feature_selection__n_components=4;, score=0.760 total time=   0.3s\n"
     ]
    },
    {
     "name": "stderr",
     "output_type": "stream",
     "text": [
      "INFO:root:Iteration 85: tested parameters: [10, 'sqrt', 10, 3, 185, 4], score: 0.8069485377638881\n"
     ]
    },
    {
     "name": "stdout",
     "output_type": "stream",
     "text": [
      "Fitting 5 folds for each of 1 candidates, totalling 5 fits\n",
      "[CV 1/5] END classifier__max_depth=11, classifier__max_features=sqrt, classifier__min_samples_leaf=1, classifier__min_samples_split=2, classifier__n_estimators=300, feature_selection__n_components=4;, score=0.808 total time=   0.6s\n",
      "[CV 2/5] END classifier__max_depth=11, classifier__max_features=sqrt, classifier__min_samples_leaf=1, classifier__min_samples_split=2, classifier__n_estimators=300, feature_selection__n_components=4;, score=0.841 total time=   0.6s\n",
      "[CV 3/5] END classifier__max_depth=11, classifier__max_features=sqrt, classifier__min_samples_leaf=1, classifier__min_samples_split=2, classifier__n_estimators=300, feature_selection__n_components=4;, score=0.825 total time=   0.7s\n",
      "[CV 4/5] END classifier__max_depth=11, classifier__max_features=sqrt, classifier__min_samples_leaf=1, classifier__min_samples_split=2, classifier__n_estimators=300, feature_selection__n_components=4;, score=0.857 total time=   0.7s\n",
      "[CV 5/5] END classifier__max_depth=11, classifier__max_features=sqrt, classifier__min_samples_leaf=1, classifier__min_samples_split=2, classifier__n_estimators=300, feature_selection__n_components=4;, score=0.795 total time=   0.5s\n"
     ]
    },
    {
     "name": "stderr",
     "output_type": "stream",
     "text": [
      "INFO:root:Iteration 86: tested parameters: [11, 'sqrt', 1, 2, 300, 4], score: 0.825108433238578\n"
     ]
    },
    {
     "name": "stdout",
     "output_type": "stream",
     "text": [
      "Fitting 5 folds for each of 1 candidates, totalling 5 fits\n",
      "[CV 1/5] END classifier__max_depth=30, classifier__max_features=log2, classifier__min_samples_leaf=1, classifier__min_samples_split=18, classifier__n_estimators=226, feature_selection__n_components=2;, score=0.567 total time=   0.4s\n",
      "[CV 3/5] END classifier__max_depth=30, classifier__max_features=log2, classifier__min_samples_leaf=1, classifier__min_samples_split=18, classifier__n_estimators=226, feature_selection__n_components=2;, score=0.558 total time=   0.3s\n",
      "[CV 2/5] END classifier__max_depth=30, classifier__max_features=log2, classifier__min_samples_leaf=1, classifier__min_samples_split=18, classifier__n_estimators=226, feature_selection__n_components=2;, score=0.572 total time=   0.3s\n",
      "[CV 4/5] END classifier__max_depth=30, classifier__max_features=log2, classifier__min_samples_leaf=1, classifier__min_samples_split=18, classifier__n_estimators=226, feature_selection__n_components=2;, score=0.568 total time=   0.3s\n",
      "[CV 5/5] END classifier__max_depth=30, classifier__max_features=log2, classifier__min_samples_leaf=1, classifier__min_samples_split=18, classifier__n_estimators=226, feature_selection__n_components=2;, score=0.509 total time=   0.3s\n"
     ]
    },
    {
     "name": "stderr",
     "output_type": "stream",
     "text": [
      "INFO:root:Iteration 87: tested parameters: [30, 'log2', 1, 18, 226, 2], score: 0.5545873368999064\n"
     ]
    },
    {
     "name": "stdout",
     "output_type": "stream",
     "text": [
      "Fitting 5 folds for each of 1 candidates, totalling 5 fits\n",
      "[CV 1/5] END classifier__max_depth=11, classifier__max_features=sqrt, classifier__min_samples_leaf=1, classifier__min_samples_split=2, classifier__n_estimators=300, feature_selection__n_components=5;, score=0.818 total time=   0.6s\n",
      "[CV 3/5] END classifier__max_depth=11, classifier__max_features=sqrt, classifier__min_samples_leaf=1, classifier__min_samples_split=2, classifier__n_estimators=300, feature_selection__n_components=5;, score=0.860 total time=   0.6s\n",
      "[CV 2/5] END classifier__max_depth=11, classifier__max_features=sqrt, classifier__min_samples_leaf=1, classifier__min_samples_split=2, classifier__n_estimators=300, feature_selection__n_components=5;, score=0.863 total time=   0.6s\n",
      "[CV 4/5] END classifier__max_depth=11, classifier__max_features=sqrt, classifier__min_samples_leaf=1, classifier__min_samples_split=2, classifier__n_estimators=300, feature_selection__n_components=5;, score=0.898 total time=   0.6s\n",
      "[CV 5/5] END classifier__max_depth=11, classifier__max_features=sqrt, classifier__min_samples_leaf=1, classifier__min_samples_split=2, classifier__n_estimators=300, feature_selection__n_components=5;, score=0.820 total time=   0.5s\n"
     ]
    },
    {
     "name": "stderr",
     "output_type": "stream",
     "text": [
      "INFO:root:Iteration 88: tested parameters: [11, 'sqrt', 1, 2, 300, 5], score: 0.8518260736503226\n"
     ]
    },
    {
     "name": "stdout",
     "output_type": "stream",
     "text": [
      "Fitting 5 folds for each of 1 candidates, totalling 5 fits\n",
      "[CV 1/5] END classifier__max_depth=30, classifier__max_features=None, classifier__min_samples_leaf=10, classifier__min_samples_split=4, classifier__n_estimators=258, feature_selection__n_components=5;, score=0.766 total time=   0.8s\n",
      "[CV 2/5] END classifier__max_depth=30, classifier__max_features=None, classifier__min_samples_leaf=10, classifier__min_samples_split=4, classifier__n_estimators=258, feature_selection__n_components=5;, score=0.809 total time=   0.9s\n",
      "[CV 4/5] END classifier__max_depth=30, classifier__max_features=None, classifier__min_samples_leaf=10, classifier__min_samples_split=4, classifier__n_estimators=258, feature_selection__n_components=5;, score=0.846 total time=   0.8s\n",
      "[CV 3/5] END classifier__max_depth=30, classifier__max_features=None, classifier__min_samples_leaf=10, classifier__min_samples_split=4, classifier__n_estimators=258, feature_selection__n_components=5;, score=0.843 total time=   0.9s\n",
      "[CV 5/5] END classifier__max_depth=30, classifier__max_features=None, classifier__min_samples_leaf=10, classifier__min_samples_split=4, classifier__n_estimators=258, feature_selection__n_components=5;, score=0.763 total time=   0.6s\n"
     ]
    },
    {
     "name": "stderr",
     "output_type": "stream",
     "text": [
      "INFO:root:Iteration 89: tested parameters: [30, None, 10, 4, 258, 5], score: 0.8056552724661735\n"
     ]
    },
    {
     "name": "stdout",
     "output_type": "stream",
     "text": [
      "Fitting 5 folds for each of 1 candidates, totalling 5 fits\n",
      "[CV 1/5] END classifier__max_depth=9, classifier__max_features=None, classifier__min_samples_leaf=10, classifier__min_samples_split=3, classifier__n_estimators=202, feature_selection__n_components=5;, score=0.770 total time=   0.7s\n",
      "[CV 2/5] END classifier__max_depth=9, classifier__max_features=None, classifier__min_samples_leaf=10, classifier__min_samples_split=3, classifier__n_estimators=202, feature_selection__n_components=5;, score=0.802 total time=   0.7s\n",
      "[CV 4/5] END classifier__max_depth=9, classifier__max_features=None, classifier__min_samples_leaf=10, classifier__min_samples_split=3, classifier__n_estimators=202, feature_selection__n_components=5;, score=0.836 total time=   0.7s\n",
      "[CV 3/5] END classifier__max_depth=9, classifier__max_features=None, classifier__min_samples_leaf=10, classifier__min_samples_split=3, classifier__n_estimators=202, feature_selection__n_components=5;, score=0.836 total time=   0.7s\n",
      "[CV 5/5] END classifier__max_depth=9, classifier__max_features=None, classifier__min_samples_leaf=10, classifier__min_samples_split=3, classifier__n_estimators=202, feature_selection__n_components=5;, score=0.757 total time=   0.5s\n"
     ]
    },
    {
     "name": "stderr",
     "output_type": "stream",
     "text": [
      "INFO:root:Iteration 90: tested parameters: [9, None, 10, 3, 202, 5], score: 0.800343262060726\n"
     ]
    },
    {
     "name": "stdout",
     "output_type": "stream",
     "text": [
      "Fitting 5 folds for each of 1 candidates, totalling 5 fits\n",
      "[CV 1/5] END classifier__max_depth=23, classifier__max_features=None, classifier__min_samples_leaf=1, classifier__min_samples_split=2, classifier__n_estimators=155, feature_selection__n_components=5;, score=0.780 total time=   0.6s\n",
      "[CV 2/5] END classifier__max_depth=23, classifier__max_features=None, classifier__min_samples_leaf=1, classifier__min_samples_split=2, classifier__n_estimators=155, feature_selection__n_components=5;, score=0.852 total time=   0.6s\n",
      "[CV 3/5] END classifier__max_depth=23, classifier__max_features=None, classifier__min_samples_leaf=1, classifier__min_samples_split=2, classifier__n_estimators=155, feature_selection__n_components=5;, score=0.829 total time=   0.6s\n",
      "[CV 4/5] END classifier__max_depth=23, classifier__max_features=None, classifier__min_samples_leaf=1, classifier__min_samples_split=2, classifier__n_estimators=155, feature_selection__n_components=5;, score=0.867 total time=   0.6s\n",
      "[CV 5/5] END classifier__max_depth=23, classifier__max_features=None, classifier__min_samples_leaf=1, classifier__min_samples_split=2, classifier__n_estimators=155, feature_selection__n_components=5;, score=0.802 total time=   0.4s\n"
     ]
    },
    {
     "name": "stderr",
     "output_type": "stream",
     "text": [
      "INFO:root:Iteration 91: tested parameters: [23, None, 1, 2, 155, 5], score: 0.8261573529671417\n"
     ]
    },
    {
     "name": "stdout",
     "output_type": "stream",
     "text": [
      "Fitting 5 folds for each of 1 candidates, totalling 5 fits\n",
      "[CV 1/5] END classifier__max_depth=29, classifier__max_features=sqrt, classifier__min_samples_leaf=1, classifier__min_samples_split=2, classifier__n_estimators=300, feature_selection__n_components=4;, score=0.811 total time=   0.6s\n",
      "[CV 2/5] END classifier__max_depth=29, classifier__max_features=sqrt, classifier__min_samples_leaf=1, classifier__min_samples_split=2, classifier__n_estimators=300, feature_selection__n_components=4;, score=0.852 total time=   0.6s\n",
      "[CV 3/5] END classifier__max_depth=29, classifier__max_features=sqrt, classifier__min_samples_leaf=1, classifier__min_samples_split=2, classifier__n_estimators=300, feature_selection__n_components=4;, score=0.810 total time=   0.6s\n",
      "[CV 4/5] END classifier__max_depth=29, classifier__max_features=sqrt, classifier__min_samples_leaf=1, classifier__min_samples_split=2, classifier__n_estimators=300, feature_selection__n_components=4;, score=0.864 total time=   0.6s\n",
      "[CV 5/5] END classifier__max_depth=29, classifier__max_features=sqrt, classifier__min_samples_leaf=1, classifier__min_samples_split=2, classifier__n_estimators=300, feature_selection__n_components=4;, score=0.788 total time=   0.5s\n"
     ]
    },
    {
     "name": "stderr",
     "output_type": "stream",
     "text": [
      "INFO:root:Iteration 92: tested parameters: [29, 'sqrt', 1, 2, 300, 4], score: 0.8249156323016168\n"
     ]
    },
    {
     "name": "stdout",
     "output_type": "stream",
     "text": [
      "Fitting 5 folds for each of 1 candidates, totalling 5 fits\n",
      "[CV 1/5] END classifier__max_depth=22, classifier__max_features=log2, classifier__min_samples_leaf=1, classifier__min_samples_split=19, classifier__n_estimators=266, feature_selection__n_components=5;, score=0.818 total time=   0.5s\n",
      "[CV 4/5] END classifier__max_depth=22, classifier__max_features=log2, classifier__min_samples_leaf=1, classifier__min_samples_split=19, classifier__n_estimators=266, feature_selection__n_components=5;, score=0.881 total time=   0.5s\n",
      "[CV 2/5] END classifier__max_depth=22, classifier__max_features=log2, classifier__min_samples_leaf=1, classifier__min_samples_split=19, classifier__n_estimators=266, feature_selection__n_components=5;, score=0.856 total time=   0.5s\n",
      "[CV 3/5] END classifier__max_depth=22, classifier__max_features=log2, classifier__min_samples_leaf=1, classifier__min_samples_split=19, classifier__n_estimators=266, feature_selection__n_components=5;, score=0.852 total time=   0.6s\n",
      "[CV 5/5] END classifier__max_depth=22, classifier__max_features=log2, classifier__min_samples_leaf=1, classifier__min_samples_split=19, classifier__n_estimators=266, feature_selection__n_components=5;, score=0.803 total time=   0.4s\n"
     ]
    },
    {
     "name": "stderr",
     "output_type": "stream",
     "text": [
      "INFO:root:Iteration 93: tested parameters: [22, 'log2', 1, 19, 266, 5], score: 0.8420391734496295\n"
     ]
    },
    {
     "name": "stdout",
     "output_type": "stream",
     "text": [
      "Fitting 5 folds for each of 1 candidates, totalling 5 fits\n",
      "[CV 2/5] END classifier__max_depth=11, classifier__max_features=log2, classifier__min_samples_leaf=1, classifier__min_samples_split=2, classifier__n_estimators=300, feature_selection__n_components=4;, score=0.841 total time=   0.7s\n",
      "[CV 1/5] END classifier__max_depth=11, classifier__max_features=log2, classifier__min_samples_leaf=1, classifier__min_samples_split=2, classifier__n_estimators=300, feature_selection__n_components=4;, score=0.818 total time=   0.7s\n",
      "[CV 4/5] END classifier__max_depth=11, classifier__max_features=log2, classifier__min_samples_leaf=1, classifier__min_samples_split=2, classifier__n_estimators=300, feature_selection__n_components=4;, score=0.846 total time=   0.7s\n",
      "[CV 3/5] END classifier__max_depth=11, classifier__max_features=log2, classifier__min_samples_leaf=1, classifier__min_samples_split=2, classifier__n_estimators=300, feature_selection__n_components=4;, score=0.825 total time=   0.7s\n",
      "[CV 5/5] END classifier__max_depth=11, classifier__max_features=log2, classifier__min_samples_leaf=1, classifier__min_samples_split=2, classifier__n_estimators=300, feature_selection__n_components=4;, score=0.795 total time=   0.5s\n"
     ]
    },
    {
     "name": "stderr",
     "output_type": "stream",
     "text": [
      "INFO:root:Iteration 94: tested parameters: [11, 'log2', 1, 2, 300, 4], score: 0.8250358422939069\n"
     ]
    },
    {
     "name": "stdout",
     "output_type": "stream",
     "text": [
      "Fitting 5 folds for each of 1 candidates, totalling 5 fits\n",
      "[CV 1/5] END classifier__max_depth=26, classifier__max_features=sqrt, classifier__min_samples_leaf=10, classifier__min_samples_split=19, classifier__n_estimators=72, feature_selection__n_components=5;, score=0.812 total time=   0.1s\n",
      "[CV 3/5] END classifier__max_depth=26, classifier__max_features=sqrt, classifier__min_samples_leaf=10, classifier__min_samples_split=19, classifier__n_estimators=72, feature_selection__n_components=5;, score=0.846 total time=   0.1s\n",
      "[CV 2/5] END classifier__max_depth=26, classifier__max_features=sqrt, classifier__min_samples_leaf=10, classifier__min_samples_split=19, classifier__n_estimators=72, feature_selection__n_components=5;, score=0.817 total time=   0.2s\n",
      "[CV 4/5] END classifier__max_depth=26, classifier__max_features=sqrt, classifier__min_samples_leaf=10, classifier__min_samples_split=19, classifier__n_estimators=72, feature_selection__n_components=5;, score=0.860 total time=   0.1s\n",
      "[CV 5/5] END classifier__max_depth=26, classifier__max_features=sqrt, classifier__min_samples_leaf=10, classifier__min_samples_split=19, classifier__n_estimators=72, feature_selection__n_components=5;, score=0.788 total time=   0.1s\n"
     ]
    },
    {
     "name": "stderr",
     "output_type": "stream",
     "text": [
      "INFO:root:Iteration 95: tested parameters: [26, 'sqrt', 10, 19, 72, 5], score: 0.8246428247729692\n"
     ]
    },
    {
     "name": "stdout",
     "output_type": "stream",
     "text": [
      "Fitting 5 folds for each of 1 candidates, totalling 5 fits\n",
      "[CV 2/5] END classifier__max_depth=3, classifier__max_features=None, classifier__min_samples_leaf=10, classifier__min_samples_split=2, classifier__n_estimators=216, feature_selection__n_components=1;, score=0.378 total time=   0.2s\n",
      "[CV 1/5] END classifier__max_depth=3, classifier__max_features=None, classifier__min_samples_leaf=10, classifier__min_samples_split=2, classifier__n_estimators=216, feature_selection__n_components=1;, score=0.379 total time=   0.2s\n",
      "[CV 3/5] END classifier__max_depth=3, classifier__max_features=None, classifier__min_samples_leaf=10, classifier__min_samples_split=2, classifier__n_estimators=216, feature_selection__n_components=1;, score=0.409 total time=   0.2s\n",
      "[CV 4/5] END classifier__max_depth=3, classifier__max_features=None, classifier__min_samples_leaf=10, classifier__min_samples_split=2, classifier__n_estimators=216, feature_selection__n_components=1;, score=0.364 total time=   0.2s\n",
      "[CV 5/5] END classifier__max_depth=3, classifier__max_features=None, classifier__min_samples_leaf=10, classifier__min_samples_split=2, classifier__n_estimators=216, feature_selection__n_components=1;, score=0.383 total time=   0.2s\n"
     ]
    },
    {
     "name": "stderr",
     "output_type": "stream",
     "text": [
      "INFO:root:Iteration 96: tested parameters: [3, None, 10, 2, 216, 1], score: 0.38248029850921955\n"
     ]
    },
    {
     "name": "stdout",
     "output_type": "stream",
     "text": [
      "Fitting 5 folds for each of 1 candidates, totalling 5 fits\n",
      "[CV 2/5] END classifier__max_depth=30, classifier__max_features=sqrt, classifier__min_samples_leaf=1, classifier__min_samples_split=19, classifier__n_estimators=51, feature_selection__n_components=5;, score=0.845 total time=   0.1s\n",
      "[CV 1/5] END classifier__max_depth=30, classifier__max_features=sqrt, classifier__min_samples_leaf=1, classifier__min_samples_split=19, classifier__n_estimators=51, feature_selection__n_components=5;, score=0.808 total time=   0.1s\n",
      "[CV 3/5] END classifier__max_depth=30, classifier__max_features=sqrt, classifier__min_samples_leaf=1, classifier__min_samples_split=19, classifier__n_estimators=51, feature_selection__n_components=5;, score=0.853 total time=   0.1s\n",
      "[CV 4/5] END classifier__max_depth=30, classifier__max_features=sqrt, classifier__min_samples_leaf=1, classifier__min_samples_split=19, classifier__n_estimators=51, feature_selection__n_components=5;, score=0.888 total time=   0.1s\n",
      "[CV 5/5] END classifier__max_depth=30, classifier__max_features=sqrt, classifier__min_samples_leaf=1, classifier__min_samples_split=19, classifier__n_estimators=51, feature_selection__n_components=5;, score=0.789 total time=   0.1s\n"
     ]
    },
    {
     "name": "stderr",
     "output_type": "stream",
     "text": [
      "INFO:root:Iteration 97: tested parameters: [30, 'sqrt', 1, 19, 51, 5], score: 0.8364908922906699\n"
     ]
    },
    {
     "name": "stdout",
     "output_type": "stream",
     "text": [
      "Fitting 5 folds for each of 1 candidates, totalling 5 fits\n",
      "[CV 3/5] END classifier__max_depth=9, classifier__max_features=log2, classifier__min_samples_leaf=1, classifier__min_samples_split=3, classifier__n_estimators=58, feature_selection__n_components=5;, score=0.850 total time=   0.1s\n",
      "[CV 1/5] END classifier__max_depth=9, classifier__max_features=log2, classifier__min_samples_leaf=1, classifier__min_samples_split=3, classifier__n_estimators=58, feature_selection__n_components=5;, score=0.811 total time=   0.1s\n",
      "[CV 2/5] END classifier__max_depth=9, classifier__max_features=log2, classifier__min_samples_leaf=1, classifier__min_samples_split=3, classifier__n_estimators=58, feature_selection__n_components=5;, score=0.859 total time=   0.1s\n",
      "[CV 4/5] END classifier__max_depth=9, classifier__max_features=log2, classifier__min_samples_leaf=1, classifier__min_samples_split=3, classifier__n_estimators=58, feature_selection__n_components=5;, score=0.868 total time=   0.1s\n",
      "[CV 5/5] END classifier__max_depth=9, classifier__max_features=log2, classifier__min_samples_leaf=1, classifier__min_samples_split=3, classifier__n_estimators=58, feature_selection__n_components=5;, score=0.799 total time=   0.1s\n"
     ]
    },
    {
     "name": "stderr",
     "output_type": "stream",
     "text": [
      "INFO:root:Iteration 98: tested parameters: [9, 'log2', 1, 3, 58, 5], score: 0.8374089023076786\n"
     ]
    },
    {
     "name": "stdout",
     "output_type": "stream",
     "text": [
      "Fitting 5 folds for each of 1 candidates, totalling 5 fits\n",
      "[CV 4/5] END classifier__max_depth=12, classifier__max_features=sqrt, classifier__min_samples_leaf=1, classifier__min_samples_split=2, classifier__n_estimators=300, feature_selection__n_components=4;, score=0.853 total time=   0.6s\n",
      "[CV 3/5] END classifier__max_depth=12, classifier__max_features=sqrt, classifier__min_samples_leaf=1, classifier__min_samples_split=2, classifier__n_estimators=300, feature_selection__n_components=4;, score=0.817 total time=   0.6s\n",
      "[CV 2/5] END classifier__max_depth=12, classifier__max_features=sqrt, classifier__min_samples_leaf=1, classifier__min_samples_split=2, classifier__n_estimators=300, feature_selection__n_components=4;, score=0.841 total time=   0.6s\n",
      "[CV 1/5] END classifier__max_depth=12, classifier__max_features=sqrt, classifier__min_samples_leaf=1, classifier__min_samples_split=2, classifier__n_estimators=300, feature_selection__n_components=4;, score=0.808 total time=   0.7s\n",
      "[CV 5/5] END classifier__max_depth=12, classifier__max_features=sqrt, classifier__min_samples_leaf=1, classifier__min_samples_split=2, classifier__n_estimators=300, feature_selection__n_components=4;, score=0.785 total time=   0.4s\n"
     ]
    },
    {
     "name": "stderr",
     "output_type": "stream",
     "text": [
      "INFO:root:Iteration 99: tested parameters: [12, 'sqrt', 1, 2, 300, 4], score: 0.8207464790390263\n"
     ]
    },
    {
     "name": "stdout",
     "output_type": "stream",
     "text": [
      "Fitting 5 folds for each of 1 candidates, totalling 5 fits\n",
      "[CV 1/5] END classifier__max_depth=22, classifier__max_features=None, classifier__min_samples_leaf=1, classifier__min_samples_split=19, classifier__n_estimators=286, feature_selection__n_components=4;, score=0.794 total time=   0.8s\n",
      "[CV 3/5] END classifier__max_depth=22, classifier__max_features=None, classifier__min_samples_leaf=1, classifier__min_samples_split=19, classifier__n_estimators=286, feature_selection__n_components=4;, score=0.821 total time=   0.8s\n",
      "[CV 2/5] END classifier__max_depth=22, classifier__max_features=None, classifier__min_samples_leaf=1, classifier__min_samples_split=19, classifier__n_estimators=286, feature_selection__n_components=4;, score=0.809 total time=   0.8s\n",
      "[CV 4/5] END classifier__max_depth=22, classifier__max_features=None, classifier__min_samples_leaf=1, classifier__min_samples_split=19, classifier__n_estimators=286, feature_selection__n_components=4;, score=0.829 total time=   0.8s\n",
      "[CV 5/5] END classifier__max_depth=22, classifier__max_features=None, classifier__min_samples_leaf=1, classifier__min_samples_split=19, classifier__n_estimators=286, feature_selection__n_components=4;, score=0.768 total time=   0.6s\n"
     ]
    },
    {
     "name": "stderr",
     "output_type": "stream",
     "text": [
      "INFO:root:Iteration 100: tested parameters: [22, None, 1, 19, 286, 4], score: 0.8042051073797459\n",
      "2024-10-20 17:53:56,745 | skopt_training | INFO | Best parameters: OrderedDict([('classifier__max_depth', 30), ('classifier__max_features', 'sqrt'), ('classifier__min_samples_leaf', 1), ('classifier__min_samples_split', 2), ('classifier__n_estimators', 300), ('feature_selection__n_components', 5)])\n",
      "INFO:skopt_training:Best parameters: OrderedDict([('classifier__max_depth', 30), ('classifier__max_features', 'sqrt'), ('classifier__min_samples_leaf', 1), ('classifier__min_samples_split', 2), ('classifier__n_estimators', 300), ('feature_selection__n_components', 5)])\n",
      "2024-10-20 17:53:56,746 | skopt_training | INFO | Best cross-validation score: 0.8553389598083703\n",
      "INFO:skopt_training:Best cross-validation score: 0.8553389598083703\n",
      "2024-10-20 17:53:56,746 | skopt_training | INFO | All hyperparameter combinations and their cross-validation results:\n",
      "INFO:skopt_training:All hyperparameter combinations and their cross-validation results:\n",
      "2024-10-20 17:53:56,747 | skopt_training | INFO | Params: OrderedDict([('classifier__max_depth', 14), ('classifier__max_features', None), ('classifier__min_samples_leaf', 9), ('classifier__min_samples_split', 8), ('classifier__n_estimators', 218), ('feature_selection__n_components', 3)]), Mean Test Score: 0.7316827044746956\n",
      "INFO:skopt_training:Params: OrderedDict([('classifier__max_depth', 14), ('classifier__max_features', None), ('classifier__min_samples_leaf', 9), ('classifier__min_samples_split', 8), ('classifier__n_estimators', 218), ('feature_selection__n_components', 3)]), Mean Test Score: 0.7316827044746956\n",
      "2024-10-20 17:53:56,748 | skopt_training | INFO | Params: OrderedDict([('classifier__max_depth', 26), ('classifier__max_features', None), ('classifier__min_samples_leaf', 4), ('classifier__min_samples_split', 19), ('classifier__n_estimators', 266), ('feature_selection__n_components', 1)]), Mean Test Score: 0.3449824378645291\n",
      "INFO:skopt_training:Params: OrderedDict([('classifier__max_depth', 26), ('classifier__max_features', None), ('classifier__min_samples_leaf', 4), ('classifier__min_samples_split', 19), ('classifier__n_estimators', 266), ('feature_selection__n_components', 1)]), Mean Test Score: 0.3449824378645291\n",
      "2024-10-20 17:53:56,748 | skopt_training | INFO | Params: OrderedDict([('classifier__max_depth', 15), ('classifier__max_features', None), ('classifier__min_samples_leaf', 2), ('classifier__min_samples_split', 10), ('classifier__n_estimators', 97), ('feature_selection__n_components', 3)]), Mean Test Score: 0.7403043534556326\n",
      "INFO:skopt_training:Params: OrderedDict([('classifier__max_depth', 15), ('classifier__max_features', None), ('classifier__min_samples_leaf', 2), ('classifier__min_samples_split', 10), ('classifier__n_estimators', 97), ('feature_selection__n_components', 3)]), Mean Test Score: 0.7403043534556326\n",
      "2024-10-20 17:53:56,749 | skopt_training | INFO | Params: OrderedDict([('classifier__max_depth', 25), ('classifier__max_features', 'sqrt'), ('classifier__min_samples_leaf', 6), ('classifier__min_samples_split', 16), ('classifier__n_estimators', 181), ('feature_selection__n_components', 1)]), Mean Test Score: 0.3437229255316018\n",
      "INFO:skopt_training:Params: OrderedDict([('classifier__max_depth', 25), ('classifier__max_features', 'sqrt'), ('classifier__min_samples_leaf', 6), ('classifier__min_samples_split', 16), ('classifier__n_estimators', 181), ('feature_selection__n_components', 1)]), Mean Test Score: 0.3437229255316018\n",
      "2024-10-20 17:53:56,749 | skopt_training | INFO | Params: OrderedDict([('classifier__max_depth', 25), ('classifier__max_features', 'log2'), ('classifier__min_samples_leaf', 6), ('classifier__min_samples_split', 15), ('classifier__n_estimators', 276), ('feature_selection__n_components', 4)]), Mean Test Score: 0.8125484282948131\n",
      "INFO:skopt_training:Params: OrderedDict([('classifier__max_depth', 25), ('classifier__max_features', 'log2'), ('classifier__min_samples_leaf', 6), ('classifier__min_samples_split', 15), ('classifier__n_estimators', 276), ('feature_selection__n_components', 4)]), Mean Test Score: 0.8125484282948131\n",
      "2024-10-20 17:53:56,750 | skopt_training | INFO | Params: OrderedDict([('classifier__max_depth', 23), ('classifier__max_features', None), ('classifier__min_samples_leaf', 2), ('classifier__min_samples_split', 5), ('classifier__n_estimators', 250), ('feature_selection__n_components', 2)]), Mean Test Score: 0.5304670974804456\n",
      "INFO:skopt_training:Params: OrderedDict([('classifier__max_depth', 23), ('classifier__max_features', None), ('classifier__min_samples_leaf', 2), ('classifier__min_samples_split', 5), ('classifier__n_estimators', 250), ('feature_selection__n_components', 2)]), Mean Test Score: 0.5304670974804456\n",
      "2024-10-20 17:53:56,750 | skopt_training | INFO | Params: OrderedDict([('classifier__max_depth', 20), ('classifier__max_features', None), ('classifier__min_samples_leaf', 4), ('classifier__min_samples_split', 18), ('classifier__n_estimators', 198), ('feature_selection__n_components', 3)]), Mean Test Score: 0.7372985621884398\n",
      "INFO:skopt_training:Params: OrderedDict([('classifier__max_depth', 20), ('classifier__max_features', None), ('classifier__min_samples_leaf', 4), ('classifier__min_samples_split', 18), ('classifier__n_estimators', 198), ('feature_selection__n_components', 3)]), Mean Test Score: 0.7372985621884398\n",
      "2024-10-20 17:53:56,751 | skopt_training | INFO | Params: OrderedDict([('classifier__max_depth', 18), ('classifier__max_features', None), ('classifier__min_samples_leaf', 5), ('classifier__min_samples_split', 17), ('classifier__n_estimators', 131), ('feature_selection__n_components', 1)]), Mean Test Score: 0.34218080642218573\n",
      "INFO:skopt_training:Params: OrderedDict([('classifier__max_depth', 18), ('classifier__max_features', None), ('classifier__min_samples_leaf', 5), ('classifier__min_samples_split', 17), ('classifier__n_estimators', 131), ('feature_selection__n_components', 1)]), Mean Test Score: 0.34218080642218573\n",
      "2024-10-20 17:53:56,751 | skopt_training | INFO | Params: OrderedDict([('classifier__max_depth', 29), ('classifier__max_features', None), ('classifier__min_samples_leaf', 9), ('classifier__min_samples_split', 9), ('classifier__n_estimators', 145), ('feature_selection__n_components', 2)]), Mean Test Score: 0.5528393217625699\n",
      "INFO:skopt_training:Params: OrderedDict([('classifier__max_depth', 29), ('classifier__max_features', None), ('classifier__min_samples_leaf', 9), ('classifier__min_samples_split', 9), ('classifier__n_estimators', 145), ('feature_selection__n_components', 2)]), Mean Test Score: 0.5528393217625699\n",
      "2024-10-20 17:53:56,752 | skopt_training | INFO | Params: OrderedDict([('classifier__max_depth', 3), ('classifier__max_features', None), ('classifier__min_samples_leaf', 8), ('classifier__min_samples_split', 7), ('classifier__n_estimators', 195), ('feature_selection__n_components', 2)]), Mean Test Score: 0.5160944023635903\n",
      "INFO:skopt_training:Params: OrderedDict([('classifier__max_depth', 3), ('classifier__max_features', None), ('classifier__min_samples_leaf', 8), ('classifier__min_samples_split', 7), ('classifier__n_estimators', 195), ('feature_selection__n_components', 2)]), Mean Test Score: 0.5160944023635903\n",
      "2024-10-20 17:53:56,752 | skopt_training | INFO | Params: OrderedDict([('classifier__max_depth', 30), ('classifier__max_features', 'sqrt'), ('classifier__min_samples_leaf', 10), ('classifier__min_samples_split', 10), ('classifier__n_estimators', 182), ('feature_selection__n_components', 4)]), Mean Test Score: 0.8055792856260042\n",
      "INFO:skopt_training:Params: OrderedDict([('classifier__max_depth', 30), ('classifier__max_features', 'sqrt'), ('classifier__min_samples_leaf', 10), ('classifier__min_samples_split', 10), ('classifier__n_estimators', 182), ('feature_selection__n_components', 4)]), Mean Test Score: 0.8055792856260042\n",
      "2024-10-20 17:53:56,753 | skopt_training | INFO | Params: OrderedDict([('classifier__max_depth', 30), ('classifier__max_features', 'log2'), ('classifier__min_samples_leaf', 10), ('classifier__min_samples_split', 20), ('classifier__n_estimators', 50), ('feature_selection__n_components', 5)]), Mean Test Score: 0.8271876629529578\n",
      "INFO:skopt_training:Params: OrderedDict([('classifier__max_depth', 30), ('classifier__max_features', 'log2'), ('classifier__min_samples_leaf', 10), ('classifier__min_samples_split', 20), ('classifier__n_estimators', 50), ('feature_selection__n_components', 5)]), Mean Test Score: 0.8271876629529578\n",
      "2024-10-20 17:53:56,753 | skopt_training | INFO | Params: OrderedDict([('classifier__max_depth', 3), ('classifier__max_features', 'log2'), ('classifier__min_samples_leaf', 1), ('classifier__min_samples_split', 20), ('classifier__n_estimators', 50), ('feature_selection__n_components', 5)]), Mean Test Score: 0.7399107650475838\n",
      "INFO:skopt_training:Params: OrderedDict([('classifier__max_depth', 3), ('classifier__max_features', 'log2'), ('classifier__min_samples_leaf', 1), ('classifier__min_samples_split', 20), ('classifier__n_estimators', 50), ('feature_selection__n_components', 5)]), Mean Test Score: 0.7399107650475838\n",
      "2024-10-20 17:53:56,754 | skopt_training | INFO | Params: OrderedDict([('classifier__max_depth', 30), ('classifier__max_features', 'log2'), ('classifier__min_samples_leaf', 1), ('classifier__min_samples_split', 9), ('classifier__n_estimators', 91), ('feature_selection__n_components', 4)]), Mean Test Score: 0.8284677213364645\n",
      "INFO:skopt_training:Params: OrderedDict([('classifier__max_depth', 30), ('classifier__max_features', 'log2'), ('classifier__min_samples_leaf', 1), ('classifier__min_samples_split', 9), ('classifier__n_estimators', 91), ('feature_selection__n_components', 4)]), Mean Test Score: 0.8284677213364645\n",
      "2024-10-20 17:53:56,754 | skopt_training | INFO | Params: OrderedDict([('classifier__max_depth', 30), ('classifier__max_features', 'log2'), ('classifier__min_samples_leaf', 1), ('classifier__min_samples_split', 2), ('classifier__n_estimators', 50), ('feature_selection__n_components', 5)]), Mean Test Score: 0.8449328295401711\n",
      "INFO:skopt_training:Params: OrderedDict([('classifier__max_depth', 30), ('classifier__max_features', 'log2'), ('classifier__min_samples_leaf', 1), ('classifier__min_samples_split', 2), ('classifier__n_estimators', 50), ('feature_selection__n_components', 5)]), Mean Test Score: 0.8449328295401711\n",
      "2024-10-20 17:53:56,754 | skopt_training | INFO | Params: OrderedDict([('classifier__max_depth', 30), ('classifier__max_features', 'log2'), ('classifier__min_samples_leaf', 1), ('classifier__min_samples_split', 2), ('classifier__n_estimators', 300), ('feature_selection__n_components', 5)]), Mean Test Score: 0.8476223258058632\n",
      "INFO:skopt_training:Params: OrderedDict([('classifier__max_depth', 30), ('classifier__max_features', 'log2'), ('classifier__min_samples_leaf', 1), ('classifier__min_samples_split', 2), ('classifier__n_estimators', 300), ('feature_selection__n_components', 5)]), Mean Test Score: 0.8476223258058632\n",
      "2024-10-20 17:53:56,758 | skopt_training | INFO | Params: OrderedDict([('classifier__max_depth', 30), ('classifier__max_features', None), ('classifier__min_samples_leaf', 1), ('classifier__min_samples_split', 20), ('classifier__n_estimators', 300), ('feature_selection__n_components', 5)]), Mean Test Score: 0.8192121522444102\n",
      "INFO:skopt_training:Params: OrderedDict([('classifier__max_depth', 30), ('classifier__max_features', None), ('classifier__min_samples_leaf', 1), ('classifier__min_samples_split', 20), ('classifier__n_estimators', 300), ('feature_selection__n_components', 5)]), Mean Test Score: 0.8192121522444102\n",
      "2024-10-20 17:53:56,766 | skopt_training | INFO | Params: OrderedDict([('classifier__max_depth', 30), ('classifier__max_features', 'sqrt'), ('classifier__min_samples_leaf', 1), ('classifier__min_samples_split', 2), ('classifier__n_estimators', 300), ('feature_selection__n_components', 5)]), Mean Test Score: 0.8553389598083703\n",
      "INFO:skopt_training:Params: OrderedDict([('classifier__max_depth', 30), ('classifier__max_features', 'sqrt'), ('classifier__min_samples_leaf', 1), ('classifier__min_samples_split', 2), ('classifier__n_estimators', 300), ('feature_selection__n_components', 5)]), Mean Test Score: 0.8553389598083703\n",
      "2024-10-20 17:53:56,774 | skopt_training | INFO | Params: OrderedDict([('classifier__max_depth', 30), ('classifier__max_features', 'sqrt'), ('classifier__min_samples_leaf', 1), ('classifier__min_samples_split', 2), ('classifier__n_estimators', 300), ('feature_selection__n_components', 4)]), Mean Test Score: 0.8198656649657762\n",
      "INFO:skopt_training:Params: OrderedDict([('classifier__max_depth', 30), ('classifier__max_features', 'sqrt'), ('classifier__min_samples_leaf', 1), ('classifier__min_samples_split', 2), ('classifier__n_estimators', 300), ('feature_selection__n_components', 4)]), Mean Test Score: 0.8198656649657762\n",
      "2024-10-20 17:53:56,778 | skopt_training | INFO | Params: OrderedDict([('classifier__max_depth', 30), ('classifier__max_features', 'sqrt'), ('classifier__min_samples_leaf', 10), ('classifier__min_samples_split', 2), ('classifier__n_estimators', 300), ('feature_selection__n_components', 5)]), Mean Test Score: 0.8237176992660864\n",
      "INFO:skopt_training:Params: OrderedDict([('classifier__max_depth', 30), ('classifier__max_features', 'sqrt'), ('classifier__min_samples_leaf', 10), ('classifier__min_samples_split', 2), ('classifier__n_estimators', 300), ('feature_selection__n_components', 5)]), Mean Test Score: 0.8237176992660864\n",
      "2024-10-20 17:53:56,783 | skopt_training | INFO | Params: OrderedDict([('classifier__max_depth', 24), ('classifier__max_features', 'sqrt'), ('classifier__min_samples_leaf', 1), ('classifier__min_samples_split', 20), ('classifier__n_estimators', 50), ('feature_selection__n_components', 5)]), Mean Test Score: 0.8353057071054846\n",
      "INFO:skopt_training:Params: OrderedDict([('classifier__max_depth', 24), ('classifier__max_features', 'sqrt'), ('classifier__min_samples_leaf', 1), ('classifier__min_samples_split', 20), ('classifier__n_estimators', 50), ('feature_selection__n_components', 5)]), Mean Test Score: 0.8353057071054846\n",
      "2024-10-20 17:53:56,790 | skopt_training | INFO | Params: OrderedDict([('classifier__max_depth', 30), ('classifier__max_features', 'log2'), ('classifier__min_samples_leaf', 1), ('classifier__min_samples_split', 20), ('classifier__n_estimators', 300), ('feature_selection__n_components', 5)]), Mean Test Score: 0.838536527946984\n",
      "INFO:skopt_training:Params: OrderedDict([('classifier__max_depth', 30), ('classifier__max_features', 'log2'), ('classifier__min_samples_leaf', 1), ('classifier__min_samples_split', 20), ('classifier__n_estimators', 300), ('feature_selection__n_components', 5)]), Mean Test Score: 0.838536527946984\n",
      "2024-10-20 17:53:56,791 | skopt_training | INFO | Params: OrderedDict([('classifier__max_depth', 30), ('classifier__max_features', 'log2'), ('classifier__min_samples_leaf', 1), ('classifier__min_samples_split', 2), ('classifier__n_estimators', 101), ('feature_selection__n_components', 3)]), Mean Test Score: 0.7410397384513068\n",
      "INFO:skopt_training:Params: OrderedDict([('classifier__max_depth', 30), ('classifier__max_features', 'log2'), ('classifier__min_samples_leaf', 1), ('classifier__min_samples_split', 2), ('classifier__n_estimators', 101), ('feature_selection__n_components', 3)]), Mean Test Score: 0.7410397384513068\n",
      "2024-10-20 17:53:56,791 | skopt_training | INFO | Params: OrderedDict([('classifier__max_depth', 30), ('classifier__max_features', 'sqrt'), ('classifier__min_samples_leaf', 1), ('classifier__min_samples_split', 2), ('classifier__n_estimators', 50), ('feature_selection__n_components', 5)]), Mean Test Score: 0.8474349747809147\n",
      "INFO:skopt_training:Params: OrderedDict([('classifier__max_depth', 30), ('classifier__max_features', 'sqrt'), ('classifier__min_samples_leaf', 1), ('classifier__min_samples_split', 2), ('classifier__n_estimators', 50), ('feature_selection__n_components', 5)]), Mean Test Score: 0.8474349747809147\n",
      "2024-10-20 17:53:56,792 | skopt_training | INFO | Params: OrderedDict([('classifier__max_depth', 3), ('classifier__max_features', 'sqrt'), ('classifier__min_samples_leaf', 2), ('classifier__min_samples_split', 5), ('classifier__n_estimators', 245), ('feature_selection__n_components', 3)]), Mean Test Score: 0.6812528205943111\n",
      "INFO:skopt_training:Params: OrderedDict([('classifier__max_depth', 3), ('classifier__max_features', 'sqrt'), ('classifier__min_samples_leaf', 2), ('classifier__min_samples_split', 5), ('classifier__n_estimators', 245), ('feature_selection__n_components', 3)]), Mean Test Score: 0.6812528205943111\n",
      "2024-10-20 17:53:56,792 | skopt_training | INFO | Params: OrderedDict([('classifier__max_depth', 18), ('classifier__max_features', None), ('classifier__min_samples_leaf', 1), ('classifier__min_samples_split', 8), ('classifier__n_estimators', 168), ('feature_selection__n_components', 5)]), Mean Test Score: 0.8343447275338265\n",
      "INFO:skopt_training:Params: OrderedDict([('classifier__max_depth', 18), ('classifier__max_features', None), ('classifier__min_samples_leaf', 1), ('classifier__min_samples_split', 8), ('classifier__n_estimators', 168), ('feature_selection__n_components', 5)]), Mean Test Score: 0.8343447275338265\n",
      "2024-10-20 17:53:56,792 | skopt_training | INFO | Params: OrderedDict([('classifier__max_depth', 25), ('classifier__max_features', 'log2'), ('classifier__min_samples_leaf', 1), ('classifier__min_samples_split', 2), ('classifier__n_estimators', 50), ('feature_selection__n_components', 5)]), Mean Test Score: 0.842662829363608\n",
      "INFO:skopt_training:Params: OrderedDict([('classifier__max_depth', 25), ('classifier__max_features', 'log2'), ('classifier__min_samples_leaf', 1), ('classifier__min_samples_split', 2), ('classifier__n_estimators', 50), ('feature_selection__n_components', 5)]), Mean Test Score: 0.842662829363608\n",
      "2024-10-20 17:53:56,793 | skopt_training | INFO | Params: OrderedDict([('classifier__max_depth', 3), ('classifier__max_features', None), ('classifier__min_samples_leaf', 1), ('classifier__min_samples_split', 6), ('classifier__n_estimators', 274), ('feature_selection__n_components', 4)]), Mean Test Score: 0.6882639970337412\n",
      "INFO:skopt_training:Params: OrderedDict([('classifier__max_depth', 3), ('classifier__max_features', None), ('classifier__min_samples_leaf', 1), ('classifier__min_samples_split', 6), ('classifier__n_estimators', 274), ('feature_selection__n_components', 4)]), Mean Test Score: 0.6882639970337412\n",
      "2024-10-20 17:53:56,793 | skopt_training | INFO | Params: OrderedDict([('classifier__max_depth', 21), ('classifier__max_features', 'log2'), ('classifier__min_samples_leaf', 1), ('classifier__min_samples_split', 2), ('classifier__n_estimators', 300), ('feature_selection__n_components', 5)]), Mean Test Score: 0.8441772633908341\n",
      "INFO:skopt_training:Params: OrderedDict([('classifier__max_depth', 21), ('classifier__max_features', 'log2'), ('classifier__min_samples_leaf', 1), ('classifier__min_samples_split', 2), ('classifier__n_estimators', 300), ('feature_selection__n_components', 5)]), Mean Test Score: 0.8441772633908341\n",
      "2024-10-20 17:53:56,793 | skopt_training | INFO | Params: OrderedDict([('classifier__max_depth', 18), ('classifier__max_features', 'sqrt'), ('classifier__min_samples_leaf', 1), ('classifier__min_samples_split', 3), ('classifier__n_estimators', 233), ('feature_selection__n_components', 5)]), Mean Test Score: 0.8448043858255204\n",
      "INFO:skopt_training:Params: OrderedDict([('classifier__max_depth', 18), ('classifier__max_features', 'sqrt'), ('classifier__min_samples_leaf', 1), ('classifier__min_samples_split', 3), ('classifier__n_estimators', 233), ('feature_selection__n_components', 5)]), Mean Test Score: 0.8448043858255204\n",
      "2024-10-20 17:53:56,794 | skopt_training | INFO | Params: OrderedDict([('classifier__max_depth', 30), ('classifier__max_features', 'log2'), ('classifier__min_samples_leaf', 1), ('classifier__min_samples_split', 20), ('classifier__n_estimators', 50), ('feature_selection__n_components', 4)]), Mean Test Score: 0.8181484129926844\n",
      "INFO:skopt_training:Params: OrderedDict([('classifier__max_depth', 30), ('classifier__max_features', 'log2'), ('classifier__min_samples_leaf', 1), ('classifier__min_samples_split', 20), ('classifier__n_estimators', 50), ('feature_selection__n_components', 4)]), Mean Test Score: 0.8181484129926844\n",
      "2024-10-20 17:53:56,795 | skopt_training | INFO | Params: OrderedDict([('classifier__max_depth', 23), ('classifier__max_features', 'log2'), ('classifier__min_samples_leaf', 1), ('classifier__min_samples_split', 2), ('classifier__n_estimators', 50), ('feature_selection__n_components', 5)]), Mean Test Score: 0.8453243874734419\n",
      "INFO:skopt_training:Params: OrderedDict([('classifier__max_depth', 23), ('classifier__max_features', 'log2'), ('classifier__min_samples_leaf', 1), ('classifier__min_samples_split', 2), ('classifier__n_estimators', 50), ('feature_selection__n_components', 5)]), Mean Test Score: 0.8453243874734419\n",
      "2024-10-20 17:53:56,796 | skopt_training | INFO | Params: OrderedDict([('classifier__max_depth', 19), ('classifier__max_features', 'log2'), ('classifier__min_samples_leaf', 1), ('classifier__min_samples_split', 2), ('classifier__n_estimators', 300), ('feature_selection__n_components', 5)]), Mean Test Score: 0.8457313358169865\n",
      "INFO:skopt_training:Params: OrderedDict([('classifier__max_depth', 19), ('classifier__max_features', 'log2'), ('classifier__min_samples_leaf', 1), ('classifier__min_samples_split', 2), ('classifier__n_estimators', 300), ('feature_selection__n_components', 5)]), Mean Test Score: 0.8457313358169865\n",
      "2024-10-20 17:53:56,796 | skopt_training | INFO | Params: OrderedDict([('classifier__max_depth', 30), ('classifier__max_features', 'sqrt'), ('classifier__min_samples_leaf', 1), ('classifier__min_samples_split', 9), ('classifier__n_estimators', 300), ('feature_selection__n_components', 5)]), Mean Test Score: 0.8462597536357268\n",
      "INFO:skopt_training:Params: OrderedDict([('classifier__max_depth', 30), ('classifier__max_features', 'sqrt'), ('classifier__min_samples_leaf', 1), ('classifier__min_samples_split', 9), ('classifier__n_estimators', 300), ('feature_selection__n_components', 5)]), Mean Test Score: 0.8462597536357268\n",
      "2024-10-20 17:53:56,797 | skopt_training | INFO | Params: OrderedDict([('classifier__max_depth', 18), ('classifier__max_features', 'log2'), ('classifier__min_samples_leaf', 1), ('classifier__min_samples_split', 2), ('classifier__n_estimators', 50), ('feature_selection__n_components', 5)]), Mean Test Score: 0.8489409926373218\n",
      "INFO:skopt_training:Params: OrderedDict([('classifier__max_depth', 18), ('classifier__max_features', 'log2'), ('classifier__min_samples_leaf', 1), ('classifier__min_samples_split', 2), ('classifier__n_estimators', 50), ('feature_selection__n_components', 5)]), Mean Test Score: 0.8489409926373218\n",
      "2024-10-20 17:53:56,797 | skopt_training | INFO | Params: OrderedDict([('classifier__max_depth', 15), ('classifier__max_features', 'log2'), ('classifier__min_samples_leaf', 10), ('classifier__min_samples_split', 3), ('classifier__n_estimators', 104), ('feature_selection__n_components', 5)]), Mean Test Score: 0.8237344374407778\n",
      "INFO:skopt_training:Params: OrderedDict([('classifier__max_depth', 15), ('classifier__max_features', 'log2'), ('classifier__min_samples_leaf', 10), ('classifier__min_samples_split', 3), ('classifier__n_estimators', 104), ('feature_selection__n_components', 5)]), Mean Test Score: 0.8237344374407778\n",
      "2024-10-20 17:53:56,797 | skopt_training | INFO | Params: OrderedDict([('classifier__max_depth', 29), ('classifier__max_features', None), ('classifier__min_samples_leaf', 1), ('classifier__min_samples_split', 2), ('classifier__n_estimators', 288), ('feature_selection__n_components', 4)]), Mean Test Score: 0.8138052745260754\n",
      "INFO:skopt_training:Params: OrderedDict([('classifier__max_depth', 29), ('classifier__max_features', None), ('classifier__min_samples_leaf', 1), ('classifier__min_samples_split', 2), ('classifier__n_estimators', 288), ('feature_selection__n_components', 4)]), Mean Test Score: 0.8138052745260754\n",
      "2024-10-20 17:53:56,800 | skopt_training | INFO | Params: OrderedDict([('classifier__max_depth', 20), ('classifier__max_features', 'sqrt'), ('classifier__min_samples_leaf', 1), ('classifier__min_samples_split', 2), ('classifier__n_estimators', 50), ('feature_selection__n_components', 5)]), Mean Test Score: 0.8447175639011011\n",
      "INFO:skopt_training:Params: OrderedDict([('classifier__max_depth', 20), ('classifier__max_features', 'sqrt'), ('classifier__min_samples_leaf', 1), ('classifier__min_samples_split', 2), ('classifier__n_estimators', 50), ('feature_selection__n_components', 5)]), Mean Test Score: 0.8447175639011011\n",
      "2024-10-20 17:53:56,801 | skopt_training | INFO | Params: OrderedDict([('classifier__max_depth', 30), ('classifier__max_features', 'sqrt'), ('classifier__min_samples_leaf', 1), ('classifier__min_samples_split', 2), ('classifier__n_estimators', 50), ('feature_selection__n_components', 4)]), Mean Test Score: 0.8198762469763581\n",
      "INFO:skopt_training:Params: OrderedDict([('classifier__max_depth', 30), ('classifier__max_features', 'sqrt'), ('classifier__min_samples_leaf', 1), ('classifier__min_samples_split', 2), ('classifier__n_estimators', 50), ('feature_selection__n_components', 4)]), Mean Test Score: 0.8198762469763581\n",
      "2024-10-20 17:53:56,802 | skopt_training | INFO | Params: OrderedDict([('classifier__max_depth', 17), ('classifier__max_features', 'log2'), ('classifier__min_samples_leaf', 1), ('classifier__min_samples_split', 14), ('classifier__n_estimators', 59), ('feature_selection__n_components', 4)]), Mean Test Score: 0.8191621437105308\n",
      "INFO:skopt_training:Params: OrderedDict([('classifier__max_depth', 17), ('classifier__max_features', 'log2'), ('classifier__min_samples_leaf', 1), ('classifier__min_samples_split', 14), ('classifier__n_estimators', 59), ('feature_selection__n_components', 4)]), Mean Test Score: 0.8191621437105308\n",
      "2024-10-20 17:53:56,803 | skopt_training | INFO | Params: OrderedDict([('classifier__max_depth', 30), ('classifier__max_features', 'log2'), ('classifier__min_samples_leaf', 1), ('classifier__min_samples_split', 2), ('classifier__n_estimators', 300), ('feature_selection__n_components', 4)]), Mean Test Score: 0.8200106879483966\n",
      "INFO:skopt_training:Params: OrderedDict([('classifier__max_depth', 30), ('classifier__max_features', 'log2'), ('classifier__min_samples_leaf', 1), ('classifier__min_samples_split', 2), ('classifier__n_estimators', 300), ('feature_selection__n_components', 4)]), Mean Test Score: 0.8200106879483966\n",
      "2024-10-20 17:53:56,803 | skopt_training | INFO | Params: OrderedDict([('classifier__max_depth', 30), ('classifier__max_features', 'log2'), ('classifier__min_samples_leaf', 1), ('classifier__min_samples_split', 2), ('classifier__n_estimators', 50), ('feature_selection__n_components', 4)]), Mean Test Score: 0.8179172507960051\n",
      "INFO:skopt_training:Params: OrderedDict([('classifier__max_depth', 30), ('classifier__max_features', 'log2'), ('classifier__min_samples_leaf', 1), ('classifier__min_samples_split', 2), ('classifier__n_estimators', 50), ('feature_selection__n_components', 4)]), Mean Test Score: 0.8179172507960051\n",
      "2024-10-20 17:53:56,805 | skopt_training | INFO | Params: OrderedDict([('classifier__max_depth', 20), ('classifier__max_features', 'sqrt'), ('classifier__min_samples_leaf', 1), ('classifier__min_samples_split', 2), ('classifier__n_estimators', 50), ('feature_selection__n_components', 4)]), Mean Test Score: 0.8196963763382005\n",
      "INFO:skopt_training:Params: OrderedDict([('classifier__max_depth', 20), ('classifier__max_features', 'sqrt'), ('classifier__min_samples_leaf', 1), ('classifier__min_samples_split', 2), ('classifier__n_estimators', 50), ('feature_selection__n_components', 4)]), Mean Test Score: 0.8196963763382005\n",
      "2024-10-20 17:53:56,805 | skopt_training | INFO | Params: OrderedDict([('classifier__max_depth', 12), ('classifier__max_features', 'sqrt'), ('classifier__min_samples_leaf', 1), ('classifier__min_samples_split', 4), ('classifier__n_estimators', 292), ('feature_selection__n_components', 5)]), Mean Test Score: 0.8450415217378511\n",
      "INFO:skopt_training:Params: OrderedDict([('classifier__max_depth', 12), ('classifier__max_features', 'sqrt'), ('classifier__min_samples_leaf', 1), ('classifier__min_samples_split', 4), ('classifier__n_estimators', 292), ('feature_selection__n_components', 5)]), Mean Test Score: 0.8450415217378511\n",
      "2024-10-20 17:53:56,806 | skopt_training | INFO | Params: OrderedDict([('classifier__max_depth', 15), ('classifier__max_features', 'sqrt'), ('classifier__min_samples_leaf', 1), ('classifier__min_samples_split', 20), ('classifier__n_estimators', 300), ('feature_selection__n_components', 5)]), Mean Test Score: 0.8448439300575007\n",
      "INFO:skopt_training:Params: OrderedDict([('classifier__max_depth', 15), ('classifier__max_features', 'sqrt'), ('classifier__min_samples_leaf', 1), ('classifier__min_samples_split', 20), ('classifier__n_estimators', 300), ('feature_selection__n_components', 5)]), Mean Test Score: 0.8448439300575007\n",
      "2024-10-20 17:53:56,806 | skopt_training | INFO | Params: OrderedDict([('classifier__max_depth', 15), ('classifier__max_features', 'log2'), ('classifier__min_samples_leaf', 1), ('classifier__min_samples_split', 2), ('classifier__n_estimators', 300), ('feature_selection__n_components', 5)]), Mean Test Score: 0.8485917862881156\n",
      "INFO:skopt_training:Params: OrderedDict([('classifier__max_depth', 15), ('classifier__max_features', 'log2'), ('classifier__min_samples_leaf', 1), ('classifier__min_samples_split', 2), ('classifier__n_estimators', 300), ('feature_selection__n_components', 5)]), Mean Test Score: 0.8485917862881156\n",
      "2024-10-20 17:53:56,807 | skopt_training | INFO | Params: OrderedDict([('classifier__max_depth', 12), ('classifier__max_features', None), ('classifier__min_samples_leaf', 1), ('classifier__min_samples_split', 7), ('classifier__n_estimators', 141), ('feature_selection__n_components', 5)]), Mean Test Score: 0.8296435310250662\n",
      "INFO:skopt_training:Params: OrderedDict([('classifier__max_depth', 12), ('classifier__max_features', None), ('classifier__min_samples_leaf', 1), ('classifier__min_samples_split', 7), ('classifier__n_estimators', 141), ('feature_selection__n_components', 5)]), Mean Test Score: 0.8296435310250662\n",
      "2024-10-20 17:53:56,808 | skopt_training | INFO | Params: OrderedDict([('classifier__max_depth', 15), ('classifier__max_features', 'log2'), ('classifier__min_samples_leaf', 1), ('classifier__min_samples_split', 13), ('classifier__n_estimators', 77), ('feature_selection__n_components', 5)]), Mean Test Score: 0.8461855206549312\n",
      "INFO:skopt_training:Params: OrderedDict([('classifier__max_depth', 15), ('classifier__max_features', 'log2'), ('classifier__min_samples_leaf', 1), ('classifier__min_samples_split', 13), ('classifier__n_estimators', 77), ('feature_selection__n_components', 5)]), Mean Test Score: 0.8461855206549312\n",
      "2024-10-20 17:53:56,809 | skopt_training | INFO | Params: OrderedDict([('classifier__max_depth', 16), ('classifier__max_features', 'sqrt'), ('classifier__min_samples_leaf', 1), ('classifier__min_samples_split', 2), ('classifier__n_estimators', 300), ('feature_selection__n_components', 5)]), Mean Test Score: 0.8484454626245505\n",
      "INFO:skopt_training:Params: OrderedDict([('classifier__max_depth', 16), ('classifier__max_features', 'sqrt'), ('classifier__min_samples_leaf', 1), ('classifier__min_samples_split', 2), ('classifier__n_estimators', 300), ('feature_selection__n_components', 5)]), Mean Test Score: 0.8484454626245505\n",
      "2024-10-20 17:53:56,809 | skopt_training | INFO | Params: OrderedDict([('classifier__max_depth', 3), ('classifier__max_features', 'log2'), ('classifier__min_samples_leaf', 1), ('classifier__min_samples_split', 19), ('classifier__n_estimators', 196), ('feature_selection__n_components', 1)]), Mean Test Score: 0.37907289110181214\n",
      "INFO:skopt_training:Params: OrderedDict([('classifier__max_depth', 3), ('classifier__max_features', 'log2'), ('classifier__min_samples_leaf', 1), ('classifier__min_samples_split', 19), ('classifier__n_estimators', 196), ('feature_selection__n_components', 1)]), Mean Test Score: 0.37907289110181214\n",
      "2024-10-20 17:53:56,810 | skopt_training | INFO | Params: OrderedDict([('classifier__max_depth', 13), ('classifier__max_features', 'log2'), ('classifier__min_samples_leaf', 1), ('classifier__min_samples_split', 3), ('classifier__n_estimators', 59), ('feature_selection__n_components', 5)]), Mean Test Score: 0.8441380605140336\n",
      "INFO:skopt_training:Params: OrderedDict([('classifier__max_depth', 13), ('classifier__max_features', 'log2'), ('classifier__min_samples_leaf', 1), ('classifier__min_samples_split', 3), ('classifier__n_estimators', 59), ('feature_selection__n_components', 5)]), Mean Test Score: 0.8441380605140336\n",
      "2024-10-20 17:53:56,811 | skopt_training | INFO | Params: OrderedDict([('classifier__max_depth', 16), ('classifier__max_features', 'sqrt'), ('classifier__min_samples_leaf', 1), ('classifier__min_samples_split', 2), ('classifier__n_estimators', 50), ('feature_selection__n_components', 5)]), Mean Test Score: 0.8448206001965737\n",
      "INFO:skopt_training:Params: OrderedDict([('classifier__max_depth', 16), ('classifier__max_features', 'sqrt'), ('classifier__min_samples_leaf', 1), ('classifier__min_samples_split', 2), ('classifier__n_estimators', 50), ('feature_selection__n_components', 5)]), Mean Test Score: 0.8448206001965737\n",
      "2024-10-20 17:53:56,812 | skopt_training | INFO | Params: OrderedDict([('classifier__max_depth', 16), ('classifier__max_features', 'sqrt'), ('classifier__min_samples_leaf', 1), ('classifier__min_samples_split', 9), ('classifier__n_estimators', 300), ('feature_selection__n_components', 5)]), Mean Test Score: 0.8455504175715521\n",
      "INFO:skopt_training:Params: OrderedDict([('classifier__max_depth', 16), ('classifier__max_features', 'sqrt'), ('classifier__min_samples_leaf', 1), ('classifier__min_samples_split', 9), ('classifier__n_estimators', 300), ('feature_selection__n_components', 5)]), Mean Test Score: 0.8455504175715521\n",
      "2024-10-20 17:53:56,812 | skopt_training | INFO | Params: OrderedDict([('classifier__max_depth', 12), ('classifier__max_features', 'sqrt'), ('classifier__min_samples_leaf', 8), ('classifier__min_samples_split', 20), ('classifier__n_estimators', 123), ('feature_selection__n_components', 5)]), Mean Test Score: 0.8250497319184749\n",
      "INFO:skopt_training:Params: OrderedDict([('classifier__max_depth', 12), ('classifier__max_features', 'sqrt'), ('classifier__min_samples_leaf', 8), ('classifier__min_samples_split', 20), ('classifier__n_estimators', 123), ('feature_selection__n_components', 5)]), Mean Test Score: 0.8250497319184749\n",
      "2024-10-20 17:53:56,812 | skopt_training | INFO | Params: OrderedDict([('classifier__max_depth', 18), ('classifier__max_features', 'log2'), ('classifier__min_samples_leaf', 1), ('classifier__min_samples_split', 20), ('classifier__n_estimators', 220), ('feature_selection__n_components', 5)]), Mean Test Score: 0.8441116054875787\n",
      "INFO:skopt_training:Params: OrderedDict([('classifier__max_depth', 18), ('classifier__max_features', 'log2'), ('classifier__min_samples_leaf', 1), ('classifier__min_samples_split', 20), ('classifier__n_estimators', 220), ('feature_selection__n_components', 5)]), Mean Test Score: 0.8441116054875787\n",
      "2024-10-20 17:53:56,813 | skopt_training | INFO | Params: OrderedDict([('classifier__max_depth', 19), ('classifier__max_features', 'sqrt'), ('classifier__min_samples_leaf', 9), ('classifier__min_samples_split', 20), ('classifier__n_estimators', 101), ('feature_selection__n_components', 5)]), Mean Test Score: 0.8230252602833248\n",
      "INFO:skopt_training:Params: OrderedDict([('classifier__max_depth', 19), ('classifier__max_features', 'sqrt'), ('classifier__min_samples_leaf', 9), ('classifier__min_samples_split', 20), ('classifier__n_estimators', 101), ('feature_selection__n_components', 5)]), Mean Test Score: 0.8230252602833248\n",
      "2024-10-20 17:53:56,813 | skopt_training | INFO | Params: OrderedDict([('classifier__max_depth', 27), ('classifier__max_features', 'sqrt'), ('classifier__min_samples_leaf', 1), ('classifier__min_samples_split', 10), ('classifier__n_estimators', 294), ('feature_selection__n_components', 5)]), Mean Test Score: 0.8427094890854624\n",
      "INFO:skopt_training:Params: OrderedDict([('classifier__max_depth', 27), ('classifier__max_features', 'sqrt'), ('classifier__min_samples_leaf', 1), ('classifier__min_samples_split', 10), ('classifier__n_estimators', 294), ('feature_selection__n_components', 5)]), Mean Test Score: 0.8427094890854624\n",
      "2024-10-20 17:53:56,814 | skopt_training | INFO | Params: OrderedDict([('classifier__max_depth', 16), ('classifier__max_features', 'log2'), ('classifier__min_samples_leaf', 1), ('classifier__min_samples_split', 2), ('classifier__n_estimators', 300), ('feature_selection__n_components', 4)]), Mean Test Score: 0.8211265898028968\n",
      "INFO:skopt_training:Params: OrderedDict([('classifier__max_depth', 16), ('classifier__max_features', 'log2'), ('classifier__min_samples_leaf', 1), ('classifier__min_samples_split', 2), ('classifier__n_estimators', 300), ('feature_selection__n_components', 4)]), Mean Test Score: 0.8211265898028968\n",
      "2024-10-20 17:53:56,814 | skopt_training | INFO | Params: OrderedDict([('classifier__max_depth', 28), ('classifier__max_features', 'log2'), ('classifier__min_samples_leaf', 1), ('classifier__min_samples_split', 2), ('classifier__n_estimators', 106), ('feature_selection__n_components', 5)]), Mean Test Score: 0.848972055958708\n",
      "INFO:skopt_training:Params: OrderedDict([('classifier__max_depth', 28), ('classifier__max_features', 'log2'), ('classifier__min_samples_leaf', 1), ('classifier__min_samples_split', 2), ('classifier__n_estimators', 106), ('feature_selection__n_components', 5)]), Mean Test Score: 0.848972055958708\n",
      "2024-10-20 17:53:56,815 | skopt_training | INFO | Params: OrderedDict([('classifier__max_depth', 15), ('classifier__max_features', 'sqrt'), ('classifier__min_samples_leaf', 1), ('classifier__min_samples_split', 2), ('classifier__n_estimators', 300), ('feature_selection__n_components', 5)]), Mean Test Score: 0.8502787753588643\n",
      "INFO:skopt_training:Params: OrderedDict([('classifier__max_depth', 15), ('classifier__max_features', 'sqrt'), ('classifier__min_samples_leaf', 1), ('classifier__min_samples_split', 2), ('classifier__n_estimators', 300), ('feature_selection__n_components', 5)]), Mean Test Score: 0.8502787753588643\n",
      "2024-10-20 17:53:56,815 | skopt_training | INFO | Params: OrderedDict([('classifier__max_depth', 10), ('classifier__max_features', 'log2'), ('classifier__min_samples_leaf', 1), ('classifier__min_samples_split', 2), ('classifier__n_estimators', 214), ('feature_selection__n_components', 5)]), Mean Test Score: 0.8500137660304514\n",
      "INFO:skopt_training:Params: OrderedDict([('classifier__max_depth', 10), ('classifier__max_features', 'log2'), ('classifier__min_samples_leaf', 1), ('classifier__min_samples_split', 2), ('classifier__n_estimators', 214), ('feature_selection__n_components', 5)]), Mean Test Score: 0.8500137660304514\n",
      "2024-10-20 17:53:56,815 | skopt_training | INFO | Params: OrderedDict([('classifier__max_depth', 13), ('classifier__max_features', 'sqrt'), ('classifier__min_samples_leaf', 1), ('classifier__min_samples_split', 2), ('classifier__n_estimators', 300), ('feature_selection__n_components', 5)]), Mean Test Score: 0.8457375861480422\n",
      "INFO:skopt_training:Params: OrderedDict([('classifier__max_depth', 13), ('classifier__max_features', 'sqrt'), ('classifier__min_samples_leaf', 1), ('classifier__min_samples_split', 2), ('classifier__n_estimators', 300), ('feature_selection__n_components', 5)]), Mean Test Score: 0.8457375861480422\n",
      "2024-10-20 17:53:56,816 | skopt_training | INFO | Params: OrderedDict([('classifier__max_depth', 30), ('classifier__max_features', None), ('classifier__min_samples_leaf', 9), ('classifier__min_samples_split', 19), ('classifier__n_estimators', 270), ('feature_selection__n_components', 3)]), Mean Test Score: 0.7282112812001578\n",
      "INFO:skopt_training:Params: OrderedDict([('classifier__max_depth', 30), ('classifier__max_features', None), ('classifier__min_samples_leaf', 9), ('classifier__min_samples_split', 19), ('classifier__n_estimators', 270), ('feature_selection__n_components', 3)]), Mean Test Score: 0.7282112812001578\n",
      "2024-10-20 17:53:56,816 | skopt_training | INFO | Params: OrderedDict([('classifier__max_depth', 5), ('classifier__max_features', 'log2'), ('classifier__min_samples_leaf', 9), ('classifier__min_samples_split', 2), ('classifier__n_estimators', 289), ('feature_selection__n_components', 5)]), Mean Test Score: 0.810059083873322\n",
      "INFO:skopt_training:Params: OrderedDict([('classifier__max_depth', 5), ('classifier__max_features', 'log2'), ('classifier__min_samples_leaf', 9), ('classifier__min_samples_split', 2), ('classifier__n_estimators', 289), ('feature_selection__n_components', 5)]), Mean Test Score: 0.810059083873322\n",
      "2024-10-20 17:53:56,816 | skopt_training | INFO | Params: OrderedDict([('classifier__max_depth', 13), ('classifier__max_features', 'log2'), ('classifier__min_samples_leaf', 1), ('classifier__min_samples_split', 2), ('classifier__n_estimators', 300), ('feature_selection__n_components', 4)]), Mean Test Score: 0.824399097174403\n",
      "INFO:skopt_training:Params: OrderedDict([('classifier__max_depth', 13), ('classifier__max_features', 'log2'), ('classifier__min_samples_leaf', 1), ('classifier__min_samples_split', 2), ('classifier__n_estimators', 300), ('feature_selection__n_components', 4)]), Mean Test Score: 0.824399097174403\n",
      "2024-10-20 17:53:56,817 | skopt_training | INFO | Params: OrderedDict([('classifier__max_depth', 12), ('classifier__max_features', 'log2'), ('classifier__min_samples_leaf', 1), ('classifier__min_samples_split', 2), ('classifier__n_estimators', 300), ('feature_selection__n_components', 4)]), Mean Test Score: 0.8263281482658569\n",
      "INFO:skopt_training:Params: OrderedDict([('classifier__max_depth', 12), ('classifier__max_features', 'log2'), ('classifier__min_samples_leaf', 1), ('classifier__min_samples_split', 2), ('classifier__n_estimators', 300), ('feature_selection__n_components', 4)]), Mean Test Score: 0.8263281482658569\n",
      "2024-10-20 17:53:56,818 | skopt_training | INFO | Params: OrderedDict([('classifier__max_depth', 27), ('classifier__max_features', None), ('classifier__min_samples_leaf', 1), ('classifier__min_samples_split', 3), ('classifier__n_estimators', 202), ('feature_selection__n_components', 5)]), Mean Test Score: 0.8345417954105384\n",
      "INFO:skopt_training:Params: OrderedDict([('classifier__max_depth', 27), ('classifier__max_features', None), ('classifier__min_samples_leaf', 1), ('classifier__min_samples_split', 3), ('classifier__n_estimators', 202), ('feature_selection__n_components', 5)]), Mean Test Score: 0.8345417954105384\n",
      "2024-10-20 17:53:56,819 | skopt_training | INFO | Params: OrderedDict([('classifier__max_depth', 14), ('classifier__max_features', 'log2'), ('classifier__min_samples_leaf', 8), ('classifier__min_samples_split', 20), ('classifier__n_estimators', 298), ('feature_selection__n_components', 2)]), Mean Test Score: 0.5568968401104109\n",
      "INFO:skopt_training:Params: OrderedDict([('classifier__max_depth', 14), ('classifier__max_features', 'log2'), ('classifier__min_samples_leaf', 8), ('classifier__min_samples_split', 20), ('classifier__n_estimators', 298), ('feature_selection__n_components', 2)]), Mean Test Score: 0.5568968401104109\n",
      "2024-10-20 17:53:56,819 | skopt_training | INFO | Params: OrderedDict([('classifier__max_depth', 9), ('classifier__max_features', 'sqrt'), ('classifier__min_samples_leaf', 10), ('classifier__min_samples_split', 20), ('classifier__n_estimators', 245), ('feature_selection__n_components', 4)]), Mean Test Score: 0.8075310721495372\n",
      "INFO:skopt_training:Params: OrderedDict([('classifier__max_depth', 9), ('classifier__max_features', 'sqrt'), ('classifier__min_samples_leaf', 10), ('classifier__min_samples_split', 20), ('classifier__n_estimators', 245), ('feature_selection__n_components', 4)]), Mean Test Score: 0.8075310721495372\n",
      "2024-10-20 17:53:56,820 | skopt_training | INFO | Params: OrderedDict([('classifier__max_depth', 12), ('classifier__max_features', 'sqrt'), ('classifier__min_samples_leaf', 1), ('classifier__min_samples_split', 2), ('classifier__n_estimators', 300), ('feature_selection__n_components', 5)]), Mean Test Score: 0.849038055217143\n",
      "INFO:skopt_training:Params: OrderedDict([('classifier__max_depth', 12), ('classifier__max_features', 'sqrt'), ('classifier__min_samples_leaf', 1), ('classifier__min_samples_split', 2), ('classifier__n_estimators', 300), ('feature_selection__n_components', 5)]), Mean Test Score: 0.849038055217143\n",
      "2024-10-20 17:53:56,820 | skopt_training | INFO | Params: OrderedDict([('classifier__max_depth', 12), ('classifier__max_features', 'log2'), ('classifier__min_samples_leaf', 1), ('classifier__min_samples_split', 2), ('classifier__n_estimators', 300), ('feature_selection__n_components', 5)]), Mean Test Score: 0.8477094890854623\n",
      "INFO:skopt_training:Params: OrderedDict([('classifier__max_depth', 12), ('classifier__max_features', 'log2'), ('classifier__min_samples_leaf', 1), ('classifier__min_samples_split', 2), ('classifier__n_estimators', 300), ('feature_selection__n_components', 5)]), Mean Test Score: 0.8477094890854623\n",
      "2024-10-20 17:53:56,821 | skopt_training | INFO | Params: OrderedDict([('classifier__max_depth', 11), ('classifier__max_features', 'log2'), ('classifier__min_samples_leaf', 1), ('classifier__min_samples_split', 2), ('classifier__n_estimators', 300), ('feature_selection__n_components', 5)]), Mean Test Score: 0.8519645049467073\n",
      "INFO:skopt_training:Params: OrderedDict([('classifier__max_depth', 11), ('classifier__max_features', 'log2'), ('classifier__min_samples_leaf', 1), ('classifier__min_samples_split', 2), ('classifier__n_estimators', 300), ('feature_selection__n_components', 5)]), Mean Test Score: 0.8519645049467073\n",
      "2024-10-20 17:53:56,821 | skopt_training | INFO | Params: OrderedDict([('classifier__max_depth', 10), ('classifier__max_features', 'log2'), ('classifier__min_samples_leaf', 1), ('classifier__min_samples_split', 19), ('classifier__n_estimators', 250), ('feature_selection__n_components', 5)]), Mean Test Score: 0.8336335669850687\n",
      "INFO:skopt_training:Params: OrderedDict([('classifier__max_depth', 10), ('classifier__max_features', 'log2'), ('classifier__min_samples_leaf', 1), ('classifier__min_samples_split', 19), ('classifier__n_estimators', 250), ('feature_selection__n_components', 5)]), Mean Test Score: 0.8336335669850687\n",
      "2024-10-20 17:53:56,822 | skopt_training | INFO | Params: OrderedDict([('classifier__max_depth', 23), ('classifier__max_features', None), ('classifier__min_samples_leaf', 10), ('classifier__min_samples_split', 3), ('classifier__n_estimators', 241), ('feature_selection__n_components', 5)]), Mean Test Score: 0.8071134240867277\n",
      "INFO:skopt_training:Params: OrderedDict([('classifier__max_depth', 23), ('classifier__max_features', None), ('classifier__min_samples_leaf', 10), ('classifier__min_samples_split', 3), ('classifier__n_estimators', 241), ('feature_selection__n_components', 5)]), Mean Test Score: 0.8071134240867277\n",
      "2024-10-20 17:53:56,822 | skopt_training | INFO | Params: OrderedDict([('classifier__max_depth', 10), ('classifier__max_features', 'log2'), ('classifier__min_samples_leaf', 10), ('classifier__min_samples_split', 3), ('classifier__n_estimators', 129), ('feature_selection__n_components', 5)]), Mean Test Score: 0.8203731659515864\n",
      "INFO:skopt_training:Params: OrderedDict([('classifier__max_depth', 10), ('classifier__max_features', 'log2'), ('classifier__min_samples_leaf', 10), ('classifier__min_samples_split', 3), ('classifier__n_estimators', 129), ('feature_selection__n_components', 5)]), Mean Test Score: 0.8203731659515864\n",
      "2024-10-20 17:53:56,822 | skopt_training | INFO | Params: OrderedDict([('classifier__max_depth', 26), ('classifier__max_features', 'sqrt'), ('classifier__min_samples_leaf', 1), ('classifier__min_samples_split', 2), ('classifier__n_estimators', 300), ('feature_selection__n_components', 3)]), Mean Test Score: 0.74668195702456\n",
      "INFO:skopt_training:Params: OrderedDict([('classifier__max_depth', 26), ('classifier__max_features', 'sqrt'), ('classifier__min_samples_leaf', 1), ('classifier__min_samples_split', 2), ('classifier__n_estimators', 300), ('feature_selection__n_components', 3)]), Mean Test Score: 0.74668195702456\n",
      "2024-10-20 17:53:56,822 | skopt_training | INFO | Params: OrderedDict([('classifier__max_depth', 13), ('classifier__max_features', None), ('classifier__min_samples_leaf', 1), ('classifier__min_samples_split', 19), ('classifier__n_estimators', 135), ('feature_selection__n_components', 4)]), Mean Test Score: 0.80515999552707\n",
      "INFO:skopt_training:Params: OrderedDict([('classifier__max_depth', 13), ('classifier__max_features', None), ('classifier__min_samples_leaf', 1), ('classifier__min_samples_split', 19), ('classifier__n_estimators', 135), ('feature_selection__n_components', 4)]), Mean Test Score: 0.80515999552707\n",
      "2024-10-20 17:53:56,823 | skopt_training | INFO | Params: OrderedDict([('classifier__max_depth', 28), ('classifier__max_features', 'log2'), ('classifier__min_samples_leaf', 5), ('classifier__min_samples_split', 3), ('classifier__n_estimators', 63), ('feature_selection__n_components', 5)]), Mean Test Score: 0.8348147853876441\n",
      "INFO:skopt_training:Params: OrderedDict([('classifier__max_depth', 28), ('classifier__max_features', 'log2'), ('classifier__min_samples_leaf', 5), ('classifier__min_samples_split', 3), ('classifier__n_estimators', 63), ('feature_selection__n_components', 5)]), Mean Test Score: 0.8348147853876441\n",
      "2024-10-20 17:53:56,823 | skopt_training | INFO | Params: OrderedDict([('classifier__max_depth', 29), ('classifier__max_features', 'sqrt'), ('classifier__min_samples_leaf', 1), ('classifier__min_samples_split', 2), ('classifier__n_estimators', 300), ('feature_selection__n_components', 3)]), Mean Test Score: 0.7438165569033199\n",
      "INFO:skopt_training:Params: OrderedDict([('classifier__max_depth', 29), ('classifier__max_features', 'sqrt'), ('classifier__min_samples_leaf', 1), ('classifier__min_samples_split', 2), ('classifier__n_estimators', 300), ('feature_selection__n_components', 3)]), Mean Test Score: 0.7438165569033199\n",
      "2024-10-20 17:53:56,824 | skopt_training | INFO | Params: OrderedDict([('classifier__max_depth', 7), ('classifier__max_features', 'sqrt'), ('classifier__min_samples_leaf', 1), ('classifier__min_samples_split', 2), ('classifier__n_estimators', 163), ('feature_selection__n_components', 5)]), Mean Test Score: 0.8347326129561946\n",
      "INFO:skopt_training:Params: OrderedDict([('classifier__max_depth', 7), ('classifier__max_features', 'sqrt'), ('classifier__min_samples_leaf', 1), ('classifier__min_samples_split', 2), ('classifier__n_estimators', 163), ('feature_selection__n_components', 5)]), Mean Test Score: 0.8347326129561946\n",
      "2024-10-20 17:53:56,825 | skopt_training | INFO | Params: OrderedDict([('classifier__max_depth', 18), ('classifier__max_features', 'sqrt'), ('classifier__min_samples_leaf', 10), ('classifier__min_samples_split', 20), ('classifier__n_estimators', 260), ('feature_selection__n_components', 4)]), Mean Test Score: 0.8090226118379622\n",
      "INFO:skopt_training:Params: OrderedDict([('classifier__max_depth', 18), ('classifier__max_features', 'sqrt'), ('classifier__min_samples_leaf', 10), ('classifier__min_samples_split', 20), ('classifier__n_estimators', 260), ('feature_selection__n_components', 4)]), Mean Test Score: 0.8090226118379622\n",
      "2024-10-20 17:53:56,832 | skopt_training | INFO | Params: OrderedDict([('classifier__max_depth', 16), ('classifier__max_features', None), ('classifier__min_samples_leaf', 1), ('classifier__min_samples_split', 19), ('classifier__n_estimators', 71), ('feature_selection__n_components', 5)]), Mean Test Score: 0.8211886634767612\n",
      "INFO:skopt_training:Params: OrderedDict([('classifier__max_depth', 16), ('classifier__max_features', None), ('classifier__min_samples_leaf', 1), ('classifier__min_samples_split', 19), ('classifier__n_estimators', 71), ('feature_selection__n_components', 5)]), Mean Test Score: 0.8211886634767612\n",
      "2024-10-20 17:53:56,833 | skopt_training | INFO | Params: OrderedDict([('classifier__max_depth', 12), ('classifier__max_features', 'log2'), ('classifier__min_samples_leaf', 1), ('classifier__min_samples_split', 19), ('classifier__n_estimators', 210), ('feature_selection__n_components', 4)]), Mean Test Score: 0.8141087510520213\n",
      "INFO:skopt_training:Params: OrderedDict([('classifier__max_depth', 12), ('classifier__max_features', 'log2'), ('classifier__min_samples_leaf', 1), ('classifier__min_samples_split', 19), ('classifier__n_estimators', 210), ('feature_selection__n_components', 4)]), Mean Test Score: 0.8141087510520213\n",
      "2024-10-20 17:53:56,834 | skopt_training | INFO | Params: OrderedDict([('classifier__max_depth', 30), ('classifier__max_features', 'sqrt'), ('classifier__min_samples_leaf', 1), ('classifier__min_samples_split', 2), ('classifier__n_estimators', 300), ('feature_selection__n_components', 3)]), Mean Test Score: 0.7450999464425493\n",
      "INFO:skopt_training:Params: OrderedDict([('classifier__max_depth', 30), ('classifier__max_features', 'sqrt'), ('classifier__min_samples_leaf', 1), ('classifier__min_samples_split', 2), ('classifier__n_estimators', 300), ('feature_selection__n_components', 3)]), Mean Test Score: 0.7450999464425493\n",
      "2024-10-20 17:53:56,835 | skopt_training | INFO | Params: OrderedDict([('classifier__max_depth', 10), ('classifier__max_features', 'sqrt'), ('classifier__min_samples_leaf', 10), ('classifier__min_samples_split', 3), ('classifier__n_estimators', 185), ('feature_selection__n_components', 4)]), Mean Test Score: 0.8069485377638881\n",
      "INFO:skopt_training:Params: OrderedDict([('classifier__max_depth', 10), ('classifier__max_features', 'sqrt'), ('classifier__min_samples_leaf', 10), ('classifier__min_samples_split', 3), ('classifier__n_estimators', 185), ('feature_selection__n_components', 4)]), Mean Test Score: 0.8069485377638881\n",
      "2024-10-20 17:53:56,835 | skopt_training | INFO | Params: OrderedDict([('classifier__max_depth', 11), ('classifier__max_features', 'sqrt'), ('classifier__min_samples_leaf', 1), ('classifier__min_samples_split', 2), ('classifier__n_estimators', 300), ('feature_selection__n_components', 4)]), Mean Test Score: 0.825108433238578\n",
      "INFO:skopt_training:Params: OrderedDict([('classifier__max_depth', 11), ('classifier__max_features', 'sqrt'), ('classifier__min_samples_leaf', 1), ('classifier__min_samples_split', 2), ('classifier__n_estimators', 300), ('feature_selection__n_components', 4)]), Mean Test Score: 0.825108433238578\n",
      "2024-10-20 17:53:56,836 | skopt_training | INFO | Params: OrderedDict([('classifier__max_depth', 30), ('classifier__max_features', 'log2'), ('classifier__min_samples_leaf', 1), ('classifier__min_samples_split', 18), ('classifier__n_estimators', 226), ('feature_selection__n_components', 2)]), Mean Test Score: 0.5545873368999064\n",
      "INFO:skopt_training:Params: OrderedDict([('classifier__max_depth', 30), ('classifier__max_features', 'log2'), ('classifier__min_samples_leaf', 1), ('classifier__min_samples_split', 18), ('classifier__n_estimators', 226), ('feature_selection__n_components', 2)]), Mean Test Score: 0.5545873368999064\n",
      "2024-10-20 17:53:56,836 | skopt_training | INFO | Params: OrderedDict([('classifier__max_depth', 11), ('classifier__max_features', 'sqrt'), ('classifier__min_samples_leaf', 1), ('classifier__min_samples_split', 2), ('classifier__n_estimators', 300), ('feature_selection__n_components', 5)]), Mean Test Score: 0.8518260736503226\n",
      "INFO:skopt_training:Params: OrderedDict([('classifier__max_depth', 11), ('classifier__max_features', 'sqrt'), ('classifier__min_samples_leaf', 1), ('classifier__min_samples_split', 2), ('classifier__n_estimators', 300), ('feature_selection__n_components', 5)]), Mean Test Score: 0.8518260736503226\n",
      "2024-10-20 17:53:56,837 | skopt_training | INFO | Params: OrderedDict([('classifier__max_depth', 30), ('classifier__max_features', None), ('classifier__min_samples_leaf', 10), ('classifier__min_samples_split', 4), ('classifier__n_estimators', 258), ('feature_selection__n_components', 5)]), Mean Test Score: 0.8056552724661735\n",
      "INFO:skopt_training:Params: OrderedDict([('classifier__max_depth', 30), ('classifier__max_features', None), ('classifier__min_samples_leaf', 10), ('classifier__min_samples_split', 4), ('classifier__n_estimators', 258), ('feature_selection__n_components', 5)]), Mean Test Score: 0.8056552724661735\n",
      "2024-10-20 17:53:56,837 | skopt_training | INFO | Params: OrderedDict([('classifier__max_depth', 9), ('classifier__max_features', None), ('classifier__min_samples_leaf', 10), ('classifier__min_samples_split', 3), ('classifier__n_estimators', 202), ('feature_selection__n_components', 5)]), Mean Test Score: 0.800343262060726\n",
      "INFO:skopt_training:Params: OrderedDict([('classifier__max_depth', 9), ('classifier__max_features', None), ('classifier__min_samples_leaf', 10), ('classifier__min_samples_split', 3), ('classifier__n_estimators', 202), ('feature_selection__n_components', 5)]), Mean Test Score: 0.800343262060726\n",
      "2024-10-20 17:53:56,838 | skopt_training | INFO | Params: OrderedDict([('classifier__max_depth', 23), ('classifier__max_features', None), ('classifier__min_samples_leaf', 1), ('classifier__min_samples_split', 2), ('classifier__n_estimators', 155), ('feature_selection__n_components', 5)]), Mean Test Score: 0.8261573529671417\n",
      "INFO:skopt_training:Params: OrderedDict([('classifier__max_depth', 23), ('classifier__max_features', None), ('classifier__min_samples_leaf', 1), ('classifier__min_samples_split', 2), ('classifier__n_estimators', 155), ('feature_selection__n_components', 5)]), Mean Test Score: 0.8261573529671417\n",
      "2024-10-20 17:53:56,838 | skopt_training | INFO | Params: OrderedDict([('classifier__max_depth', 29), ('classifier__max_features', 'sqrt'), ('classifier__min_samples_leaf', 1), ('classifier__min_samples_split', 2), ('classifier__n_estimators', 300), ('feature_selection__n_components', 4)]), Mean Test Score: 0.8249156323016168\n",
      "INFO:skopt_training:Params: OrderedDict([('classifier__max_depth', 29), ('classifier__max_features', 'sqrt'), ('classifier__min_samples_leaf', 1), ('classifier__min_samples_split', 2), ('classifier__n_estimators', 300), ('feature_selection__n_components', 4)]), Mean Test Score: 0.8249156323016168\n",
      "2024-10-20 17:53:56,838 | skopt_training | INFO | Params: OrderedDict([('classifier__max_depth', 22), ('classifier__max_features', 'log2'), ('classifier__min_samples_leaf', 1), ('classifier__min_samples_split', 19), ('classifier__n_estimators', 266), ('feature_selection__n_components', 5)]), Mean Test Score: 0.8420391734496295\n",
      "INFO:skopt_training:Params: OrderedDict([('classifier__max_depth', 22), ('classifier__max_features', 'log2'), ('classifier__min_samples_leaf', 1), ('classifier__min_samples_split', 19), ('classifier__n_estimators', 266), ('feature_selection__n_components', 5)]), Mean Test Score: 0.8420391734496295\n",
      "2024-10-20 17:53:56,839 | skopt_training | INFO | Params: OrderedDict([('classifier__max_depth', 11), ('classifier__max_features', 'log2'), ('classifier__min_samples_leaf', 1), ('classifier__min_samples_split', 2), ('classifier__n_estimators', 300), ('feature_selection__n_components', 4)]), Mean Test Score: 0.8250358422939069\n",
      "INFO:skopt_training:Params: OrderedDict([('classifier__max_depth', 11), ('classifier__max_features', 'log2'), ('classifier__min_samples_leaf', 1), ('classifier__min_samples_split', 2), ('classifier__n_estimators', 300), ('feature_selection__n_components', 4)]), Mean Test Score: 0.8250358422939069\n",
      "2024-10-20 17:53:56,839 | skopt_training | INFO | Params: OrderedDict([('classifier__max_depth', 26), ('classifier__max_features', 'sqrt'), ('classifier__min_samples_leaf', 10), ('classifier__min_samples_split', 19), ('classifier__n_estimators', 72), ('feature_selection__n_components', 5)]), Mean Test Score: 0.8246428247729692\n",
      "INFO:skopt_training:Params: OrderedDict([('classifier__max_depth', 26), ('classifier__max_features', 'sqrt'), ('classifier__min_samples_leaf', 10), ('classifier__min_samples_split', 19), ('classifier__n_estimators', 72), ('feature_selection__n_components', 5)]), Mean Test Score: 0.8246428247729692\n",
      "2024-10-20 17:53:56,840 | skopt_training | INFO | Params: OrderedDict([('classifier__max_depth', 3), ('classifier__max_features', None), ('classifier__min_samples_leaf', 10), ('classifier__min_samples_split', 2), ('classifier__n_estimators', 216), ('feature_selection__n_components', 1)]), Mean Test Score: 0.38248029850921955\n",
      "INFO:skopt_training:Params: OrderedDict([('classifier__max_depth', 3), ('classifier__max_features', None), ('classifier__min_samples_leaf', 10), ('classifier__min_samples_split', 2), ('classifier__n_estimators', 216), ('feature_selection__n_components', 1)]), Mean Test Score: 0.38248029850921955\n",
      "2024-10-20 17:53:56,840 | skopt_training | INFO | Params: OrderedDict([('classifier__max_depth', 30), ('classifier__max_features', 'sqrt'), ('classifier__min_samples_leaf', 1), ('classifier__min_samples_split', 19), ('classifier__n_estimators', 51), ('feature_selection__n_components', 5)]), Mean Test Score: 0.8364908922906699\n",
      "INFO:skopt_training:Params: OrderedDict([('classifier__max_depth', 30), ('classifier__max_features', 'sqrt'), ('classifier__min_samples_leaf', 1), ('classifier__min_samples_split', 19), ('classifier__n_estimators', 51), ('feature_selection__n_components', 5)]), Mean Test Score: 0.8364908922906699\n",
      "2024-10-20 17:53:56,841 | skopt_training | INFO | Params: OrderedDict([('classifier__max_depth', 9), ('classifier__max_features', 'log2'), ('classifier__min_samples_leaf', 1), ('classifier__min_samples_split', 3), ('classifier__n_estimators', 58), ('feature_selection__n_components', 5)]), Mean Test Score: 0.8374089023076786\n",
      "INFO:skopt_training:Params: OrderedDict([('classifier__max_depth', 9), ('classifier__max_features', 'log2'), ('classifier__min_samples_leaf', 1), ('classifier__min_samples_split', 3), ('classifier__n_estimators', 58), ('feature_selection__n_components', 5)]), Mean Test Score: 0.8374089023076786\n",
      "2024-10-20 17:53:56,841 | skopt_training | INFO | Params: OrderedDict([('classifier__max_depth', 12), ('classifier__max_features', 'sqrt'), ('classifier__min_samples_leaf', 1), ('classifier__min_samples_split', 2), ('classifier__n_estimators', 300), ('feature_selection__n_components', 4)]), Mean Test Score: 0.8207464790390263\n",
      "INFO:skopt_training:Params: OrderedDict([('classifier__max_depth', 12), ('classifier__max_features', 'sqrt'), ('classifier__min_samples_leaf', 1), ('classifier__min_samples_split', 2), ('classifier__n_estimators', 300), ('feature_selection__n_components', 4)]), Mean Test Score: 0.8207464790390263\n",
      "2024-10-20 17:53:56,846 | skopt_training | INFO | Params: OrderedDict([('classifier__max_depth', 22), ('classifier__max_features', None), ('classifier__min_samples_leaf', 1), ('classifier__min_samples_split', 19), ('classifier__n_estimators', 286), ('feature_selection__n_components', 4)]), Mean Test Score: 0.8042051073797459\n",
      "INFO:skopt_training:Params: OrderedDict([('classifier__max_depth', 22), ('classifier__max_features', None), ('classifier__min_samples_leaf', 1), ('classifier__min_samples_split', 19), ('classifier__n_estimators', 286), ('feature_selection__n_components', 4)]), Mean Test Score: 0.8042051073797459\n",
      "2024-10-20 17:53:56,847 | skopt_training | INFO | Number of tests that resulted in NaN for Random Forest: 0\n",
      "INFO:skopt_training:Number of tests that resulted in NaN for Random Forest: 0\n",
      "INFO:root:Bayesian optimization results: Best result: 0.8553389598083703, Average cross-validation result: 0.8553389598083703\n",
      "INFO:root:Bayesian Optimization Best Result for Random Forest with pca: 0.8553389598083703\n"
     ]
    },
    {
     "name": "stdout",
     "output_type": "stream",
     "text": [
      "Bayesian Optimization Best Result for Random Forest with pca: 0.8553389598083703\n",
      "Modelo: Random Forest_pca\n",
      "Melhores Hiperparâmetros: {'memory': None, 'steps': [('feature_selection', PCA(n_components=5)), ('classifier', RandomForestClassifier(max_depth=30, n_estimators=300))], 'verbose': False, 'feature_selection': PCA(n_components=5), 'classifier': RandomForestClassifier(max_depth=30, n_estimators=300), 'feature_selection__copy': True, 'feature_selection__iterated_power': 'auto', 'feature_selection__n_components': 5, 'feature_selection__n_oversamples': 10, 'feature_selection__power_iteration_normalizer': 'auto', 'feature_selection__random_state': None, 'feature_selection__svd_solver': 'auto', 'feature_selection__tol': 0.0, 'feature_selection__whiten': False, 'classifier__bootstrap': True, 'classifier__ccp_alpha': 0.0, 'classifier__class_weight': None, 'classifier__criterion': 'gini', 'classifier__max_depth': 30, 'classifier__max_features': 'sqrt', 'classifier__max_leaf_nodes': None, 'classifier__max_samples': None, 'classifier__min_impurity_decrease': 0.0, 'classifier__min_samples_leaf': 1, 'classifier__min_samples_split': 2, 'classifier__min_weight_fraction_leaf': 0.0, 'classifier__n_estimators': 300, 'classifier__n_jobs': None, 'classifier__oob_score': False, 'classifier__random_state': None, 'classifier__verbose': 0, 'classifier__warm_start': False}\n",
      "Resultado CV: 0.8553389598083703\n",
      "\n"
     ]
    }
   ],
   "source": [
    "from core.training.skopt_bayesian_optimization_training import SkoptBayesianOptimizationTraining\n",
    "\n",
    "training = SkoptBayesianOptimizationTraining()\n",
    "\n",
    "#### Executar o treinamento\n",
    "trained_models = training.train_model(\n",
    "    X_train=X_train,\n",
    "    y_train=y_train,\n",
    "    selected_models=selected_models,\n",
    "    selected_selectors=selected_selectors,\n",
    "    n_iter=n_iter,\n",
    "    cv=cv,\n",
    "    scoring=scoring_metric,\n",
    "    n_jobs=n_jobs\n",
    ")\n",
    "\n",
    "#### Exemplo de acesso aos modelos treinados\n",
    "for model_key, model_info in trained_models.items():\n",
    "    print(f\"Modelo: {model_key}\")\n",
    "    print(f\"Melhores Hiperparâmetros: {model_info['hyperparameters']}\")\n",
    "    print(f\"Resultado CV: {model_info['cv_result']}\\n\") "
   ]
  },
  {
   "cell_type": "markdown",
   "id": "634b4507",
   "metadata": {},
   "source": [
    "## Usando Otimização Bayesiana (Optuna)"
   ]
  },
  {
   "cell_type": "markdown",
   "id": "46f30d1f",
   "metadata": {},
   "source": [
    "# Importação da nova classe OptunaBayesianOptimizationTraining\n",
    "from core.training.optuna_bayesian_optimization_training import OptunaBayesianOptimizationTraining\n",
    "\n",
    "# Instanciação da classe de treinamento com Otimização Bayesiana via Optuna\n",
    "training = OptunaBayesianOptimizationTraining()\n",
    "\n",
    "# Executar o treinamento\n",
    "trained_models = training.train_model(\n",
    "    X_train=X_train,\n",
    "    y_train=y_train,\n",
    "    selected_models=selected_models,\n",
    "    selected_selectors=selected_selectors,\n",
    "    n_iter=n_iter,  # Será mapeado para n_trials na classe OptunaBayesianOptimizationTraining\n",
    "    cv=cv,\n",
    "    scoring=scoring_metric,\n",
    "    n_jobs=n_jobs\n",
    ")\n",
    "\n",
    "# Exemplo de acesso aos modelos treinados\n",
    "for model_key, model_info in trained_models.items():\n",
    "    print(f\"Modelo: {model_key}\")\n",
    "    print(f\"Melhores Hiperparâmetros: {model_info['hyperparameters']}\")\n",
    "    print(f\"Resultado CV: {model_info['cv_result']}\\n\")\n"
   ]
  },
  {
   "cell_type": "markdown",
   "id": "676ba502",
   "metadata": {},
   "source": [
    "## Using GridSearchCV"
   ]
  },
  {
   "cell_type": "code",
   "execution_count": 10,
   "id": "1db47093",
   "metadata": {},
   "outputs": [
    {
     "name": "stderr",
     "output_type": "stream",
     "text": [
      "2024-10-20 17:53:56,897 | grid_search_training | INFO | Training and evaluating Random Forest with GridSearchCV and pca\n",
      "INFO:grid_search_training:Training and evaluating Random Forest with GridSearchCV and pca\n",
      "DEBUG:grid_search_training:Parameter grid: {'classifier__n_estimators': [50, 100, 200], 'classifier__max_depth': [None, 10, 20, 30], 'classifier__min_samples_split': [2, 5, 10], 'classifier__min_samples_leaf': [1, 2, 4], 'feature_selection__n_components': [1, 2, 3, 4, 5]}\n",
      "2024-10-20 17:53:56,898 | grid_search_training | INFO | Starting GridSearchCV fitting process\n",
      "INFO:grid_search_training:Starting GridSearchCV fitting process\n"
     ]
    },
    {
     "name": "stdout",
     "output_type": "stream",
     "text": [
      "Fitting 5 folds for each of 540 candidates, totalling 2700 fits\n"
     ]
    },
    {
     "name": "stderr",
     "output_type": "stream",
     "text": [
      "2024-10-20 17:56:22,160 | grid_search_training | INFO | GridSearchCV fitting process completed\n",
      "INFO:grid_search_training:GridSearchCV fitting process completed\n",
      "2024-10-20 17:56:22,166 | grid_search_training | INFO | Best parameters: {'classifier__max_depth': 20, 'classifier__min_samples_leaf': 2, 'classifier__min_samples_split': 5, 'classifier__n_estimators': 100, 'feature_selection__n_components': 5}\n",
      "INFO:grid_search_training:Best parameters: {'classifier__max_depth': 20, 'classifier__min_samples_leaf': 2, 'classifier__min_samples_split': 5, 'classifier__n_estimators': 100, 'feature_selection__n_components': 5}\n",
      "2024-10-20 17:56:22,167 | grid_search_training | INFO | Best cross-validation score: 0.852708370852976\n",
      "INFO:grid_search_training:Best cross-validation score: 0.852708370852976\n",
      "2024-10-20 17:56:22,168 | grid_search_training | INFO | All hyperparameter combinations and their cross-validation results:\n",
      "INFO:grid_search_training:All hyperparameter combinations and their cross-validation results:\n",
      "2024-10-20 17:56:22,170 | grid_search_training | INFO | Params: {'classifier__max_depth': None, 'classifier__min_samples_leaf': 1, 'classifier__min_samples_split': 2, 'classifier__n_estimators': 50, 'feature_selection__n_components': 1}, Mean Test Score: 0.27855224205613527\n",
      "INFO:grid_search_training:Params: {'classifier__max_depth': None, 'classifier__min_samples_leaf': 1, 'classifier__min_samples_split': 2, 'classifier__n_estimators': 50, 'feature_selection__n_components': 1}, Mean Test Score: 0.27855224205613527\n",
      "2024-10-20 17:56:22,171 | grid_search_training | INFO | Params: {'classifier__max_depth': None, 'classifier__min_samples_leaf': 1, 'classifier__min_samples_split': 2, 'classifier__n_estimators': 50, 'feature_selection__n_components': 2}, Mean Test Score: 0.5249190399679831\n",
      "INFO:grid_search_training:Params: {'classifier__max_depth': None, 'classifier__min_samples_leaf': 1, 'classifier__min_samples_split': 2, 'classifier__n_estimators': 50, 'feature_selection__n_components': 2}, Mean Test Score: 0.5249190399679831\n",
      "2024-10-20 17:56:22,172 | grid_search_training | INFO | Params: {'classifier__max_depth': None, 'classifier__min_samples_leaf': 1, 'classifier__min_samples_split': 2, 'classifier__n_estimators': 50, 'feature_selection__n_components': 3}, Mean Test Score: 0.7377300763340808\n",
      "INFO:grid_search_training:Params: {'classifier__max_depth': None, 'classifier__min_samples_leaf': 1, 'classifier__min_samples_split': 2, 'classifier__n_estimators': 50, 'feature_selection__n_components': 3}, Mean Test Score: 0.7377300763340808\n",
      "2024-10-20 17:56:22,172 | grid_search_training | INFO | Params: {'classifier__max_depth': None, 'classifier__min_samples_leaf': 1, 'classifier__min_samples_split': 2, 'classifier__n_estimators': 50, 'feature_selection__n_components': 4}, Mean Test Score: 0.8269700254839298\n",
      "INFO:grid_search_training:Params: {'classifier__max_depth': None, 'classifier__min_samples_leaf': 1, 'classifier__min_samples_split': 2, 'classifier__n_estimators': 50, 'feature_selection__n_components': 4}, Mean Test Score: 0.8269700254839298\n",
      "2024-10-20 17:56:22,173 | grid_search_training | INFO | Params: {'classifier__max_depth': None, 'classifier__min_samples_leaf': 1, 'classifier__min_samples_split': 2, 'classifier__n_estimators': 50, 'feature_selection__n_components': 5}, Mean Test Score: 0.8468731688943034\n",
      "INFO:grid_search_training:Params: {'classifier__max_depth': None, 'classifier__min_samples_leaf': 1, 'classifier__min_samples_split': 2, 'classifier__n_estimators': 50, 'feature_selection__n_components': 5}, Mean Test Score: 0.8468731688943034\n",
      "2024-10-20 17:56:22,174 | grid_search_training | INFO | Params: {'classifier__max_depth': None, 'classifier__min_samples_leaf': 1, 'classifier__min_samples_split': 2, 'classifier__n_estimators': 100, 'feature_selection__n_components': 1}, Mean Test Score: 0.279266527770421\n",
      "INFO:grid_search_training:Params: {'classifier__max_depth': None, 'classifier__min_samples_leaf': 1, 'classifier__min_samples_split': 2, 'classifier__n_estimators': 100, 'feature_selection__n_components': 1}, Mean Test Score: 0.279266527770421\n",
      "2024-10-20 17:56:22,175 | grid_search_training | INFO | Params: {'classifier__max_depth': None, 'classifier__min_samples_leaf': 1, 'classifier__min_samples_split': 2, 'classifier__n_estimators': 100, 'feature_selection__n_components': 2}, Mean Test Score: 0.5197109839857337\n",
      "INFO:grid_search_training:Params: {'classifier__max_depth': None, 'classifier__min_samples_leaf': 1, 'classifier__min_samples_split': 2, 'classifier__n_estimators': 100, 'feature_selection__n_components': 2}, Mean Test Score: 0.5197109839857337\n",
      "2024-10-20 17:56:22,176 | grid_search_training | INFO | Params: {'classifier__max_depth': None, 'classifier__min_samples_leaf': 1, 'classifier__min_samples_split': 2, 'classifier__n_estimators': 100, 'feature_selection__n_components': 3}, Mean Test Score: 0.743872091859856\n",
      "INFO:grid_search_training:Params: {'classifier__max_depth': None, 'classifier__min_samples_leaf': 1, 'classifier__min_samples_split': 2, 'classifier__n_estimators': 100, 'feature_selection__n_components': 3}, Mean Test Score: 0.743872091859856\n",
      "2024-10-20 17:56:22,176 | grid_search_training | INFO | Params: {'classifier__max_depth': None, 'classifier__min_samples_leaf': 1, 'classifier__min_samples_split': 2, 'classifier__n_estimators': 100, 'feature_selection__n_components': 4}, Mean Test Score: 0.8198727804556503\n",
      "INFO:grid_search_training:Params: {'classifier__max_depth': None, 'classifier__min_samples_leaf': 1, 'classifier__min_samples_split': 2, 'classifier__n_estimators': 100, 'feature_selection__n_components': 4}, Mean Test Score: 0.8198727804556503\n",
      "2024-10-20 17:56:22,177 | grid_search_training | INFO | Params: {'classifier__max_depth': None, 'classifier__min_samples_leaf': 1, 'classifier__min_samples_split': 2, 'classifier__n_estimators': 100, 'feature_selection__n_components': 5}, Mean Test Score: 0.8462496954287833\n",
      "INFO:grid_search_training:Params: {'classifier__max_depth': None, 'classifier__min_samples_leaf': 1, 'classifier__min_samples_split': 2, 'classifier__n_estimators': 100, 'feature_selection__n_components': 5}, Mean Test Score: 0.8462496954287833\n",
      "2024-10-20 17:56:22,178 | grid_search_training | INFO | Params: {'classifier__max_depth': None, 'classifier__min_samples_leaf': 1, 'classifier__min_samples_split': 2, 'classifier__n_estimators': 200, 'feature_selection__n_components': 1}, Mean Test Score: 0.27778504628893946\n",
      "INFO:grid_search_training:Params: {'classifier__max_depth': None, 'classifier__min_samples_leaf': 1, 'classifier__min_samples_split': 2, 'classifier__n_estimators': 200, 'feature_selection__n_components': 1}, Mean Test Score: 0.27778504628893946\n",
      "2024-10-20 17:56:22,180 | grid_search_training | INFO | Params: {'classifier__max_depth': None, 'classifier__min_samples_leaf': 1, 'classifier__min_samples_split': 2, 'classifier__n_estimators': 200, 'feature_selection__n_components': 2}, Mean Test Score: 0.5264021634855895\n",
      "INFO:grid_search_training:Params: {'classifier__max_depth': None, 'classifier__min_samples_leaf': 1, 'classifier__min_samples_split': 2, 'classifier__n_estimators': 200, 'feature_selection__n_components': 2}, Mean Test Score: 0.5264021634855895\n",
      "2024-10-20 17:56:22,182 | grid_search_training | INFO | Params: {'classifier__max_depth': None, 'classifier__min_samples_leaf': 1, 'classifier__min_samples_split': 2, 'classifier__n_estimators': 200, 'feature_selection__n_components': 3}, Mean Test Score: 0.746036613285779\n",
      "INFO:grid_search_training:Params: {'classifier__max_depth': None, 'classifier__min_samples_leaf': 1, 'classifier__min_samples_split': 2, 'classifier__n_estimators': 200, 'feature_selection__n_components': 3}, Mean Test Score: 0.746036613285779\n",
      "2024-10-20 17:56:22,185 | grid_search_training | INFO | Params: {'classifier__max_depth': None, 'classifier__min_samples_leaf': 1, 'classifier__min_samples_split': 2, 'classifier__n_estimators': 200, 'feature_selection__n_components': 4}, Mean Test Score: 0.8257567196944283\n",
      "INFO:grid_search_training:Params: {'classifier__max_depth': None, 'classifier__min_samples_leaf': 1, 'classifier__min_samples_split': 2, 'classifier__n_estimators': 200, 'feature_selection__n_components': 4}, Mean Test Score: 0.8257567196944283\n",
      "2024-10-20 17:56:22,186 | grid_search_training | INFO | Params: {'classifier__max_depth': None, 'classifier__min_samples_leaf': 1, 'classifier__min_samples_split': 2, 'classifier__n_estimators': 200, 'feature_selection__n_components': 5}, Mean Test Score: 0.8484059183925702\n",
      "INFO:grid_search_training:Params: {'classifier__max_depth': None, 'classifier__min_samples_leaf': 1, 'classifier__min_samples_split': 2, 'classifier__n_estimators': 200, 'feature_selection__n_components': 5}, Mean Test Score: 0.8484059183925702\n",
      "2024-10-20 17:56:22,186 | grid_search_training | INFO | Params: {'classifier__max_depth': None, 'classifier__min_samples_leaf': 1, 'classifier__min_samples_split': 5, 'classifier__n_estimators': 50, 'feature_selection__n_components': 1}, Mean Test Score: 0.306138195879019\n",
      "INFO:grid_search_training:Params: {'classifier__max_depth': None, 'classifier__min_samples_leaf': 1, 'classifier__min_samples_split': 5, 'classifier__n_estimators': 50, 'feature_selection__n_components': 1}, Mean Test Score: 0.306138195879019\n",
      "2024-10-20 17:56:22,187 | grid_search_training | INFO | Params: {'classifier__max_depth': None, 'classifier__min_samples_leaf': 1, 'classifier__min_samples_split': 5, 'classifier__n_estimators': 50, 'feature_selection__n_components': 2}, Mean Test Score: 0.5340914361047842\n",
      "INFO:grid_search_training:Params: {'classifier__max_depth': None, 'classifier__min_samples_leaf': 1, 'classifier__min_samples_split': 5, 'classifier__n_estimators': 50, 'feature_selection__n_components': 2}, Mean Test Score: 0.5340914361047842\n",
      "2024-10-20 17:56:22,188 | grid_search_training | INFO | Params: {'classifier__max_depth': None, 'classifier__min_samples_leaf': 1, 'classifier__min_samples_split': 5, 'classifier__n_estimators': 50, 'feature_selection__n_components': 3}, Mean Test Score: 0.7334784328265973\n",
      "INFO:grid_search_training:Params: {'classifier__max_depth': None, 'classifier__min_samples_leaf': 1, 'classifier__min_samples_split': 5, 'classifier__n_estimators': 50, 'feature_selection__n_components': 3}, Mean Test Score: 0.7334784328265973\n",
      "2024-10-20 17:56:22,188 | grid_search_training | INFO | Params: {'classifier__max_depth': None, 'classifier__min_samples_leaf': 1, 'classifier__min_samples_split': 5, 'classifier__n_estimators': 50, 'feature_selection__n_components': 4}, Mean Test Score: 0.8203415140867868\n",
      "INFO:grid_search_training:Params: {'classifier__max_depth': None, 'classifier__min_samples_leaf': 1, 'classifier__min_samples_split': 5, 'classifier__n_estimators': 50, 'feature_selection__n_components': 4}, Mean Test Score: 0.8203415140867868\n",
      "2024-10-20 17:56:22,189 | grid_search_training | INFO | Params: {'classifier__max_depth': None, 'classifier__min_samples_leaf': 1, 'classifier__min_samples_split': 5, 'classifier__n_estimators': 50, 'feature_selection__n_components': 5}, Mean Test Score: 0.8462529795010327\n",
      "INFO:grid_search_training:Params: {'classifier__max_depth': None, 'classifier__min_samples_leaf': 1, 'classifier__min_samples_split': 5, 'classifier__n_estimators': 50, 'feature_selection__n_components': 5}, Mean Test Score: 0.8462529795010327\n",
      "2024-10-20 17:56:22,190 | grid_search_training | INFO | Params: {'classifier__max_depth': None, 'classifier__min_samples_leaf': 1, 'classifier__min_samples_split': 5, 'classifier__n_estimators': 100, 'feature_selection__n_components': 1}, Mean Test Score: 0.3034365932753029\n",
      "INFO:grid_search_training:Params: {'classifier__max_depth': None, 'classifier__min_samples_leaf': 1, 'classifier__min_samples_split': 5, 'classifier__n_estimators': 100, 'feature_selection__n_components': 1}, Mean Test Score: 0.3034365932753029\n",
      "2024-10-20 17:56:22,190 | grid_search_training | INFO | Params: {'classifier__max_depth': None, 'classifier__min_samples_leaf': 1, 'classifier__min_samples_split': 5, 'classifier__n_estimators': 100, 'feature_selection__n_components': 2}, Mean Test Score: 0.5337309650346358\n",
      "INFO:grid_search_training:Params: {'classifier__max_depth': None, 'classifier__min_samples_leaf': 1, 'classifier__min_samples_split': 5, 'classifier__n_estimators': 100, 'feature_selection__n_components': 2}, Mean Test Score: 0.5337309650346358\n",
      "2024-10-20 17:56:22,191 | grid_search_training | INFO | Params: {'classifier__max_depth': None, 'classifier__min_samples_leaf': 1, 'classifier__min_samples_split': 5, 'classifier__n_estimators': 100, 'feature_selection__n_components': 3}, Mean Test Score: 0.7414524604057418\n",
      "INFO:grid_search_training:Params: {'classifier__max_depth': None, 'classifier__min_samples_leaf': 1, 'classifier__min_samples_split': 5, 'classifier__n_estimators': 100, 'feature_selection__n_components': 3}, Mean Test Score: 0.7414524604057418\n",
      "2024-10-20 17:56:22,192 | grid_search_training | INFO | Params: {'classifier__max_depth': None, 'classifier__min_samples_leaf': 1, 'classifier__min_samples_split': 5, 'classifier__n_estimators': 100, 'feature_selection__n_components': 4}, Mean Test Score: 0.8248746049402333\n",
      "INFO:grid_search_training:Params: {'classifier__max_depth': None, 'classifier__min_samples_leaf': 1, 'classifier__min_samples_split': 5, 'classifier__n_estimators': 100, 'feature_selection__n_components': 4}, Mean Test Score: 0.8248746049402333\n",
      "2024-10-20 17:56:22,192 | grid_search_training | INFO | Params: {'classifier__max_depth': None, 'classifier__min_samples_leaf': 1, 'classifier__min_samples_split': 5, 'classifier__n_estimators': 100, 'feature_selection__n_components': 5}, Mean Test Score: 0.849423092089388\n",
      "INFO:grid_search_training:Params: {'classifier__max_depth': None, 'classifier__min_samples_leaf': 1, 'classifier__min_samples_split': 5, 'classifier__n_estimators': 100, 'feature_selection__n_components': 5}, Mean Test Score: 0.849423092089388\n",
      "2024-10-20 17:56:22,192 | grid_search_training | INFO | Params: {'classifier__max_depth': None, 'classifier__min_samples_leaf': 1, 'classifier__min_samples_split': 5, 'classifier__n_estimators': 200, 'feature_selection__n_components': 1}, Mean Test Score: 0.310978965458387\n",
      "INFO:grid_search_training:Params: {'classifier__max_depth': None, 'classifier__min_samples_leaf': 1, 'classifier__min_samples_split': 5, 'classifier__n_estimators': 200, 'feature_selection__n_components': 1}, Mean Test Score: 0.310978965458387\n",
      "2024-10-20 17:56:22,193 | grid_search_training | INFO | Params: {'classifier__max_depth': None, 'classifier__min_samples_leaf': 1, 'classifier__min_samples_split': 5, 'classifier__n_estimators': 200, 'feature_selection__n_components': 2}, Mean Test Score: 0.5374973839245252\n",
      "INFO:grid_search_training:Params: {'classifier__max_depth': None, 'classifier__min_samples_leaf': 1, 'classifier__min_samples_split': 5, 'classifier__n_estimators': 200, 'feature_selection__n_components': 2}, Mean Test Score: 0.5374973839245252\n",
      "2024-10-20 17:56:22,193 | grid_search_training | INFO | Params: {'classifier__max_depth': None, 'classifier__min_samples_leaf': 1, 'classifier__min_samples_split': 5, 'classifier__n_estimators': 200, 'feature_selection__n_components': 3}, Mean Test Score: 0.7422325864717412\n",
      "INFO:grid_search_training:Params: {'classifier__max_depth': None, 'classifier__min_samples_leaf': 1, 'classifier__min_samples_split': 5, 'classifier__n_estimators': 200, 'feature_selection__n_components': 3}, Mean Test Score: 0.7422325864717412\n",
      "2024-10-20 17:56:22,194 | grid_search_training | INFO | Params: {'classifier__max_depth': None, 'classifier__min_samples_leaf': 1, 'classifier__min_samples_split': 5, 'classifier__n_estimators': 200, 'feature_selection__n_components': 4}, Mean Test Score: 0.8249190988223246\n",
      "INFO:grid_search_training:Params: {'classifier__max_depth': None, 'classifier__min_samples_leaf': 1, 'classifier__min_samples_split': 5, 'classifier__n_estimators': 200, 'feature_selection__n_components': 4}, Mean Test Score: 0.8249190988223246\n",
      "2024-10-20 17:56:22,194 | grid_search_training | INFO | Params: {'classifier__max_depth': None, 'classifier__min_samples_leaf': 1, 'classifier__min_samples_split': 5, 'classifier__n_estimators': 200, 'feature_selection__n_components': 5}, Mean Test Score: 0.8455633478703557\n",
      "INFO:grid_search_training:Params: {'classifier__max_depth': None, 'classifier__min_samples_leaf': 1, 'classifier__min_samples_split': 5, 'classifier__n_estimators': 200, 'feature_selection__n_components': 5}, Mean Test Score: 0.8455633478703557\n",
      "2024-10-20 17:56:22,194 | grid_search_training | INFO | Params: {'classifier__max_depth': None, 'classifier__min_samples_leaf': 1, 'classifier__min_samples_split': 10, 'classifier__n_estimators': 50, 'feature_selection__n_components': 1}, Mean Test Score: 0.3292720012241703\n",
      "INFO:grid_search_training:Params: {'classifier__max_depth': None, 'classifier__min_samples_leaf': 1, 'classifier__min_samples_split': 10, 'classifier__n_estimators': 50, 'feature_selection__n_components': 1}, Mean Test Score: 0.3292720012241703\n",
      "2024-10-20 17:56:22,195 | grid_search_training | INFO | Params: {'classifier__max_depth': None, 'classifier__min_samples_leaf': 1, 'classifier__min_samples_split': 10, 'classifier__n_estimators': 50, 'feature_selection__n_components': 2}, Mean Test Score: 0.5415335793444804\n",
      "INFO:grid_search_training:Params: {'classifier__max_depth': None, 'classifier__min_samples_leaf': 1, 'classifier__min_samples_split': 10, 'classifier__n_estimators': 50, 'feature_selection__n_components': 2}, Mean Test Score: 0.5415335793444804\n",
      "2024-10-20 17:56:22,195 | grid_search_training | INFO | Params: {'classifier__max_depth': None, 'classifier__min_samples_leaf': 1, 'classifier__min_samples_split': 10, 'classifier__n_estimators': 50, 'feature_selection__n_components': 3}, Mean Test Score: 0.7400011712013936\n",
      "INFO:grid_search_training:Params: {'classifier__max_depth': None, 'classifier__min_samples_leaf': 1, 'classifier__min_samples_split': 10, 'classifier__n_estimators': 50, 'feature_selection__n_components': 3}, Mean Test Score: 0.7400011712013936\n",
      "2024-10-20 17:56:22,195 | grid_search_training | INFO | Params: {'classifier__max_depth': None, 'classifier__min_samples_leaf': 1, 'classifier__min_samples_split': 10, 'classifier__n_estimators': 50, 'feature_selection__n_components': 4}, Mean Test Score: 0.8241590185450031\n",
      "INFO:grid_search_training:Params: {'classifier__max_depth': None, 'classifier__min_samples_leaf': 1, 'classifier__min_samples_split': 10, 'classifier__n_estimators': 50, 'feature_selection__n_components': 4}, Mean Test Score: 0.8241590185450031\n",
      "2024-10-20 17:56:22,196 | grid_search_training | INFO | Params: {'classifier__max_depth': None, 'classifier__min_samples_leaf': 1, 'classifier__min_samples_split': 10, 'classifier__n_estimators': 50, 'feature_selection__n_components': 5}, Mean Test Score: 0.8425368928439007\n",
      "INFO:grid_search_training:Params: {'classifier__max_depth': None, 'classifier__min_samples_leaf': 1, 'classifier__min_samples_split': 10, 'classifier__n_estimators': 50, 'feature_selection__n_components': 5}, Mean Test Score: 0.8425368928439007\n",
      "2024-10-20 17:56:22,196 | grid_search_training | INFO | Params: {'classifier__max_depth': None, 'classifier__min_samples_leaf': 1, 'classifier__min_samples_split': 10, 'classifier__n_estimators': 100, 'feature_selection__n_components': 1}, Mean Test Score: 0.3261605487578791\n",
      "INFO:grid_search_training:Params: {'classifier__max_depth': None, 'classifier__min_samples_leaf': 1, 'classifier__min_samples_split': 10, 'classifier__n_estimators': 100, 'feature_selection__n_components': 1}, Mean Test Score: 0.3261605487578791\n",
      "2024-10-20 17:56:22,197 | grid_search_training | INFO | Params: {'classifier__max_depth': None, 'classifier__min_samples_leaf': 1, 'classifier__min_samples_split': 10, 'classifier__n_estimators': 100, 'feature_selection__n_components': 2}, Mean Test Score: 0.5486086362860556\n",
      "INFO:grid_search_training:Params: {'classifier__max_depth': None, 'classifier__min_samples_leaf': 1, 'classifier__min_samples_split': 10, 'classifier__n_estimators': 100, 'feature_selection__n_components': 2}, Mean Test Score: 0.5486086362860556\n",
      "2024-10-20 17:56:22,197 | grid_search_training | INFO | Params: {'classifier__max_depth': None, 'classifier__min_samples_leaf': 1, 'classifier__min_samples_split': 10, 'classifier__n_estimators': 100, 'feature_selection__n_components': 3}, Mean Test Score: 0.7438703556567849\n",
      "INFO:grid_search_training:Params: {'classifier__max_depth': None, 'classifier__min_samples_leaf': 1, 'classifier__min_samples_split': 10, 'classifier__n_estimators': 100, 'feature_selection__n_components': 3}, Mean Test Score: 0.7438703556567849\n",
      "2024-10-20 17:56:22,197 | grid_search_training | INFO | Params: {'classifier__max_depth': None, 'classifier__min_samples_leaf': 1, 'classifier__min_samples_split': 10, 'classifier__n_estimators': 100, 'feature_selection__n_components': 4}, Mean Test Score: 0.821471005408714\n",
      "INFO:grid_search_training:Params: {'classifier__max_depth': None, 'classifier__min_samples_leaf': 1, 'classifier__min_samples_split': 10, 'classifier__n_estimators': 100, 'feature_selection__n_components': 4}, Mean Test Score: 0.821471005408714\n",
      "2024-10-20 17:56:22,198 | grid_search_training | INFO | Params: {'classifier__max_depth': None, 'classifier__min_samples_leaf': 1, 'classifier__min_samples_split': 10, 'classifier__n_estimators': 100, 'feature_selection__n_components': 5}, Mean Test Score: 0.8426994308785186\n",
      "INFO:grid_search_training:Params: {'classifier__max_depth': None, 'classifier__min_samples_leaf': 1, 'classifier__min_samples_split': 10, 'classifier__n_estimators': 100, 'feature_selection__n_components': 5}, Mean Test Score: 0.8426994308785186\n",
      "2024-10-20 17:56:22,198 | grid_search_training | INFO | Params: {'classifier__max_depth': None, 'classifier__min_samples_leaf': 1, 'classifier__min_samples_split': 10, 'classifier__n_estimators': 200, 'feature_selection__n_components': 1}, Mean Test Score: 0.33600512621313505\n",
      "INFO:grid_search_training:Params: {'classifier__max_depth': None, 'classifier__min_samples_leaf': 1, 'classifier__min_samples_split': 10, 'classifier__n_estimators': 200, 'feature_selection__n_components': 1}, Mean Test Score: 0.33600512621313505\n",
      "2024-10-20 17:56:22,199 | grid_search_training | INFO | Params: {'classifier__max_depth': None, 'classifier__min_samples_leaf': 1, 'classifier__min_samples_split': 10, 'classifier__n_estimators': 200, 'feature_selection__n_components': 2}, Mean Test Score: 0.5550691361948314\n",
      "INFO:grid_search_training:Params: {'classifier__max_depth': None, 'classifier__min_samples_leaf': 1, 'classifier__min_samples_split': 10, 'classifier__n_estimators': 200, 'feature_selection__n_components': 2}, Mean Test Score: 0.5550691361948314\n",
      "2024-10-20 17:56:22,200 | grid_search_training | INFO | Params: {'classifier__max_depth': None, 'classifier__min_samples_leaf': 1, 'classifier__min_samples_split': 10, 'classifier__n_estimators': 200, 'feature_selection__n_components': 3}, Mean Test Score: 0.7445423133287428\n",
      "INFO:grid_search_training:Params: {'classifier__max_depth': None, 'classifier__min_samples_leaf': 1, 'classifier__min_samples_split': 10, 'classifier__n_estimators': 200, 'feature_selection__n_components': 3}, Mean Test Score: 0.7445423133287428\n",
      "2024-10-20 17:56:22,201 | grid_search_training | INFO | Params: {'classifier__max_depth': None, 'classifier__min_samples_leaf': 1, 'classifier__min_samples_split': 10, 'classifier__n_estimators': 200, 'feature_selection__n_components': 4}, Mean Test Score: 0.81799627452019\n",
      "INFO:grid_search_training:Params: {'classifier__max_depth': None, 'classifier__min_samples_leaf': 1, 'classifier__min_samples_split': 10, 'classifier__n_estimators': 200, 'feature_selection__n_components': 4}, Mean Test Score: 0.81799627452019\n",
      "2024-10-20 17:56:22,201 | grid_search_training | INFO | Params: {'classifier__max_depth': None, 'classifier__min_samples_leaf': 1, 'classifier__min_samples_split': 10, 'classifier__n_estimators': 200, 'feature_selection__n_components': 5}, Mean Test Score: 0.8391838550770698\n",
      "INFO:grid_search_training:Params: {'classifier__max_depth': None, 'classifier__min_samples_leaf': 1, 'classifier__min_samples_split': 10, 'classifier__n_estimators': 200, 'feature_selection__n_components': 5}, Mean Test Score: 0.8391838550770698\n",
      "2024-10-20 17:56:22,202 | grid_search_training | INFO | Params: {'classifier__max_depth': None, 'classifier__min_samples_leaf': 2, 'classifier__min_samples_split': 2, 'classifier__n_estimators': 50, 'feature_selection__n_components': 1}, Mean Test Score: 0.31135428547886834\n",
      "INFO:grid_search_training:Params: {'classifier__max_depth': None, 'classifier__min_samples_leaf': 2, 'classifier__min_samples_split': 2, 'classifier__n_estimators': 50, 'feature_selection__n_components': 1}, Mean Test Score: 0.31135428547886834\n",
      "2024-10-20 17:56:22,203 | grid_search_training | INFO | Params: {'classifier__max_depth': None, 'classifier__min_samples_leaf': 2, 'classifier__min_samples_split': 2, 'classifier__n_estimators': 50, 'feature_selection__n_components': 2}, Mean Test Score: 0.5380628623220393\n",
      "INFO:grid_search_training:Params: {'classifier__max_depth': None, 'classifier__min_samples_leaf': 2, 'classifier__min_samples_split': 2, 'classifier__n_estimators': 50, 'feature_selection__n_components': 2}, Mean Test Score: 0.5380628623220393\n",
      "2024-10-20 17:56:22,204 | grid_search_training | INFO | Params: {'classifier__max_depth': None, 'classifier__min_samples_leaf': 2, 'classifier__min_samples_split': 2, 'classifier__n_estimators': 50, 'feature_selection__n_components': 3}, Mean Test Score: 0.7342483182371947\n",
      "INFO:grid_search_training:Params: {'classifier__max_depth': None, 'classifier__min_samples_leaf': 2, 'classifier__min_samples_split': 2, 'classifier__n_estimators': 50, 'feature_selection__n_components': 3}, Mean Test Score: 0.7342483182371947\n",
      "2024-10-20 17:56:22,204 | grid_search_training | INFO | Params: {'classifier__max_depth': None, 'classifier__min_samples_leaf': 2, 'classifier__min_samples_split': 2, 'classifier__n_estimators': 50, 'feature_selection__n_components': 4}, Mean Test Score: 0.8165596282759797\n",
      "INFO:grid_search_training:Params: {'classifier__max_depth': None, 'classifier__min_samples_leaf': 2, 'classifier__min_samples_split': 2, 'classifier__n_estimators': 50, 'feature_selection__n_components': 4}, Mean Test Score: 0.8165596282759797\n",
      "2024-10-20 17:56:22,205 | grid_search_training | INFO | Params: {'classifier__max_depth': None, 'classifier__min_samples_leaf': 2, 'classifier__min_samples_split': 2, 'classifier__n_estimators': 50, 'feature_selection__n_components': 5}, Mean Test Score: 0.8460882756266518\n",
      "INFO:grid_search_training:Params: {'classifier__max_depth': None, 'classifier__min_samples_leaf': 2, 'classifier__min_samples_split': 2, 'classifier__n_estimators': 50, 'feature_selection__n_components': 5}, Mean Test Score: 0.8460882756266518\n",
      "2024-10-20 17:56:22,206 | grid_search_training | INFO | Params: {'classifier__max_depth': None, 'classifier__min_samples_leaf': 2, 'classifier__min_samples_split': 2, 'classifier__n_estimators': 100, 'feature_selection__n_components': 1}, Mean Test Score: 0.31435161937720335\n",
      "INFO:grid_search_training:Params: {'classifier__max_depth': None, 'classifier__min_samples_leaf': 2, 'classifier__min_samples_split': 2, 'classifier__n_estimators': 100, 'feature_selection__n_components': 1}, Mean Test Score: 0.31435161937720335\n",
      "2024-10-20 17:56:22,206 | grid_search_training | INFO | Params: {'classifier__max_depth': None, 'classifier__min_samples_leaf': 2, 'classifier__min_samples_split': 2, 'classifier__n_estimators': 100, 'feature_selection__n_components': 2}, Mean Test Score: 0.5351726492104689\n",
      "INFO:grid_search_training:Params: {'classifier__max_depth': None, 'classifier__min_samples_leaf': 2, 'classifier__min_samples_split': 2, 'classifier__n_estimators': 100, 'feature_selection__n_components': 2}, Mean Test Score: 0.5351726492104689\n",
      "2024-10-20 17:56:22,207 | grid_search_training | INFO | Params: {'classifier__max_depth': None, 'classifier__min_samples_leaf': 2, 'classifier__min_samples_split': 2, 'classifier__n_estimators': 100, 'feature_selection__n_components': 3}, Mean Test Score: 0.7394248636050638\n",
      "INFO:grid_search_training:Params: {'classifier__max_depth': None, 'classifier__min_samples_leaf': 2, 'classifier__min_samples_split': 2, 'classifier__n_estimators': 100, 'feature_selection__n_components': 3}, Mean Test Score: 0.7394248636050638\n",
      "2024-10-20 17:56:22,207 | grid_search_training | INFO | Params: {'classifier__max_depth': None, 'classifier__min_samples_leaf': 2, 'classifier__min_samples_split': 2, 'classifier__n_estimators': 100, 'feature_selection__n_components': 4}, Mean Test Score: 0.8207468203942063\n",
      "INFO:grid_search_training:Params: {'classifier__max_depth': None, 'classifier__min_samples_leaf': 2, 'classifier__min_samples_split': 2, 'classifier__n_estimators': 100, 'feature_selection__n_components': 4}, Mean Test Score: 0.8207468203942063\n",
      "2024-10-20 17:56:22,208 | grid_search_training | INFO | Params: {'classifier__max_depth': None, 'classifier__min_samples_leaf': 2, 'classifier__min_samples_split': 2, 'classifier__n_estimators': 100, 'feature_selection__n_components': 5}, Mean Test Score: 0.8469920782056487\n",
      "INFO:grid_search_training:Params: {'classifier__max_depth': None, 'classifier__min_samples_leaf': 2, 'classifier__min_samples_split': 2, 'classifier__n_estimators': 100, 'feature_selection__n_components': 5}, Mean Test Score: 0.8469920782056487\n",
      "2024-10-20 17:56:22,209 | grid_search_training | INFO | Params: {'classifier__max_depth': None, 'classifier__min_samples_leaf': 2, 'classifier__min_samples_split': 2, 'classifier__n_estimators': 200, 'feature_selection__n_components': 1}, Mean Test Score: 0.3106004555326024\n",
      "INFO:grid_search_training:Params: {'classifier__max_depth': None, 'classifier__min_samples_leaf': 2, 'classifier__min_samples_split': 2, 'classifier__n_estimators': 200, 'feature_selection__n_components': 1}, Mean Test Score: 0.3106004555326024\n",
      "2024-10-20 17:56:22,209 | grid_search_training | INFO | Params: {'classifier__max_depth': None, 'classifier__min_samples_leaf': 2, 'classifier__min_samples_split': 2, 'classifier__n_estimators': 200, 'feature_selection__n_components': 2}, Mean Test Score: 0.5361290204871961\n",
      "INFO:grid_search_training:Params: {'classifier__max_depth': None, 'classifier__min_samples_leaf': 2, 'classifier__min_samples_split': 2, 'classifier__n_estimators': 200, 'feature_selection__n_components': 2}, Mean Test Score: 0.5361290204871961\n",
      "2024-10-20 17:56:22,209 | grid_search_training | INFO | Params: {'classifier__max_depth': None, 'classifier__min_samples_leaf': 2, 'classifier__min_samples_split': 2, 'classifier__n_estimators': 200, 'feature_selection__n_components': 3}, Mean Test Score: 0.747215230326465\n",
      "INFO:grid_search_training:Params: {'classifier__max_depth': None, 'classifier__min_samples_leaf': 2, 'classifier__min_samples_split': 2, 'classifier__n_estimators': 200, 'feature_selection__n_components': 3}, Mean Test Score: 0.747215230326465\n",
      "2024-10-20 17:56:22,210 | grid_search_training | INFO | Params: {'classifier__max_depth': None, 'classifier__min_samples_leaf': 2, 'classifier__min_samples_split': 2, 'classifier__n_estimators': 200, 'feature_selection__n_components': 4}, Mean Test Score: 0.8193246817451489\n",
      "INFO:grid_search_training:Params: {'classifier__max_depth': None, 'classifier__min_samples_leaf': 2, 'classifier__min_samples_split': 2, 'classifier__n_estimators': 200, 'feature_selection__n_components': 4}, Mean Test Score: 0.8193246817451489\n",
      "2024-10-20 17:56:22,210 | grid_search_training | INFO | Params: {'classifier__max_depth': None, 'classifier__min_samples_leaf': 2, 'classifier__min_samples_split': 2, 'classifier__n_estimators': 200, 'feature_selection__n_components': 5}, Mean Test Score: 0.8525489579838856\n",
      "INFO:grid_search_training:Params: {'classifier__max_depth': None, 'classifier__min_samples_leaf': 2, 'classifier__min_samples_split': 2, 'classifier__n_estimators': 200, 'feature_selection__n_components': 5}, Mean Test Score: 0.8525489579838856\n",
      "2024-10-20 17:56:22,211 | grid_search_training | INFO | Params: {'classifier__max_depth': None, 'classifier__min_samples_leaf': 2, 'classifier__min_samples_split': 5, 'classifier__n_estimators': 50, 'feature_selection__n_components': 1}, Mean Test Score: 0.32281855206549315\n",
      "INFO:grid_search_training:Params: {'classifier__max_depth': None, 'classifier__min_samples_leaf': 2, 'classifier__min_samples_split': 5, 'classifier__n_estimators': 50, 'feature_selection__n_components': 1}, Mean Test Score: 0.32281855206549315\n",
      "2024-10-20 17:56:22,211 | grid_search_training | INFO | Params: {'classifier__max_depth': None, 'classifier__min_samples_leaf': 2, 'classifier__min_samples_split': 5, 'classifier__n_estimators': 50, 'feature_selection__n_components': 2}, Mean Test Score: 0.5473186315188541\n",
      "INFO:grid_search_training:Params: {'classifier__max_depth': None, 'classifier__min_samples_leaf': 2, 'classifier__min_samples_split': 5, 'classifier__n_estimators': 50, 'feature_selection__n_components': 2}, Mean Test Score: 0.5473186315188541\n",
      "2024-10-20 17:56:22,211 | grid_search_training | INFO | Params: {'classifier__max_depth': None, 'classifier__min_samples_leaf': 2, 'classifier__min_samples_split': 5, 'classifier__n_estimators': 50, 'feature_selection__n_components': 3}, Mean Test Score: 0.7389280093696112\n",
      "INFO:grid_search_training:Params: {'classifier__max_depth': None, 'classifier__min_samples_leaf': 2, 'classifier__min_samples_split': 5, 'classifier__n_estimators': 50, 'feature_selection__n_components': 3}, Mean Test Score: 0.7389280093696112\n",
      "2024-10-20 17:56:22,212 | grid_search_training | INFO | Params: {'classifier__max_depth': None, 'classifier__min_samples_leaf': 2, 'classifier__min_samples_split': 5, 'classifier__n_estimators': 50, 'feature_selection__n_components': 4}, Mean Test Score: 0.82342140296979\n",
      "INFO:grid_search_training:Params: {'classifier__max_depth': None, 'classifier__min_samples_leaf': 2, 'classifier__min_samples_split': 5, 'classifier__n_estimators': 50, 'feature_selection__n_components': 4}, Mean Test Score: 0.82342140296979\n",
      "2024-10-20 17:56:22,213 | grid_search_training | INFO | Params: {'classifier__max_depth': None, 'classifier__min_samples_leaf': 2, 'classifier__min_samples_split': 5, 'classifier__n_estimators': 50, 'feature_selection__n_components': 5}, Mean Test Score: 0.8425378286279287\n",
      "INFO:grid_search_training:Params: {'classifier__max_depth': None, 'classifier__min_samples_leaf': 2, 'classifier__min_samples_split': 5, 'classifier__n_estimators': 50, 'feature_selection__n_components': 5}, Mean Test Score: 0.8425378286279287\n",
      "2024-10-20 17:56:22,213 | grid_search_training | INFO | Params: {'classifier__max_depth': None, 'classifier__min_samples_leaf': 2, 'classifier__min_samples_split': 5, 'classifier__n_estimators': 100, 'feature_selection__n_components': 1}, Mean Test Score: 0.31485711342997214\n",
      "INFO:grid_search_training:Params: {'classifier__max_depth': None, 'classifier__min_samples_leaf': 2, 'classifier__min_samples_split': 5, 'classifier__n_estimators': 100, 'feature_selection__n_components': 1}, Mean Test Score: 0.31485711342997214\n",
      "2024-10-20 17:56:22,214 | grid_search_training | INFO | Params: {'classifier__max_depth': None, 'classifier__min_samples_leaf': 2, 'classifier__min_samples_split': 5, 'classifier__n_estimators': 100, 'feature_selection__n_components': 2}, Mean Test Score: 0.5407864293659621\n",
      "INFO:grid_search_training:Params: {'classifier__max_depth': None, 'classifier__min_samples_leaf': 2, 'classifier__min_samples_split': 5, 'classifier__n_estimators': 100, 'feature_selection__n_components': 2}, Mean Test Score: 0.5407864293659621\n",
      "2024-10-20 17:56:22,214 | grid_search_training | INFO | Params: {'classifier__max_depth': None, 'classifier__min_samples_leaf': 2, 'classifier__min_samples_split': 5, 'classifier__n_estimators': 100, 'feature_selection__n_components': 3}, Mean Test Score: 0.7483971314394007\n",
      "INFO:grid_search_training:Params: {'classifier__max_depth': None, 'classifier__min_samples_leaf': 2, 'classifier__min_samples_split': 5, 'classifier__n_estimators': 100, 'feature_selection__n_components': 3}, Mean Test Score: 0.7483971314394007\n",
      "2024-10-20 17:56:22,214 | grid_search_training | INFO | Params: {'classifier__max_depth': None, 'classifier__min_samples_leaf': 2, 'classifier__min_samples_split': 5, 'classifier__n_estimators': 100, 'feature_selection__n_components': 4}, Mean Test Score: 0.814488861815892\n",
      "INFO:grid_search_training:Params: {'classifier__max_depth': None, 'classifier__min_samples_leaf': 2, 'classifier__min_samples_split': 5, 'classifier__n_estimators': 100, 'feature_selection__n_components': 4}, Mean Test Score: 0.814488861815892\n",
      "2024-10-20 17:56:22,215 | grid_search_training | INFO | Params: {'classifier__max_depth': None, 'classifier__min_samples_leaf': 2, 'classifier__min_samples_split': 5, 'classifier__n_estimators': 100, 'feature_selection__n_components': 5}, Mean Test Score: 0.8504075604286951\n",
      "INFO:grid_search_training:Params: {'classifier__max_depth': None, 'classifier__min_samples_leaf': 2, 'classifier__min_samples_split': 5, 'classifier__n_estimators': 100, 'feature_selection__n_components': 5}, Mean Test Score: 0.8504075604286951\n",
      "2024-10-20 17:56:22,223 | grid_search_training | INFO | Params: {'classifier__max_depth': None, 'classifier__min_samples_leaf': 2, 'classifier__min_samples_split': 5, 'classifier__n_estimators': 200, 'feature_selection__n_components': 1}, Mean Test Score: 0.32434304429966276\n",
      "INFO:grid_search_training:Params: {'classifier__max_depth': None, 'classifier__min_samples_leaf': 2, 'classifier__min_samples_split': 5, 'classifier__n_estimators': 200, 'feature_selection__n_components': 1}, Mean Test Score: 0.32434304429966276\n",
      "2024-10-20 17:56:22,239 | grid_search_training | INFO | Params: {'classifier__max_depth': None, 'classifier__min_samples_leaf': 2, 'classifier__min_samples_split': 5, 'classifier__n_estimators': 200, 'feature_selection__n_components': 2}, Mean Test Score: 0.5461042545803391\n",
      "INFO:grid_search_training:Params: {'classifier__max_depth': None, 'classifier__min_samples_leaf': 2, 'classifier__min_samples_split': 5, 'classifier__n_estimators': 200, 'feature_selection__n_components': 2}, Mean Test Score: 0.5461042545803391\n",
      "2024-10-20 17:56:22,242 | grid_search_training | INFO | Params: {'classifier__max_depth': None, 'classifier__min_samples_leaf': 2, 'classifier__min_samples_split': 5, 'classifier__n_estimators': 200, 'feature_selection__n_components': 3}, Mean Test Score: 0.7482749380558056\n",
      "INFO:grid_search_training:Params: {'classifier__max_depth': None, 'classifier__min_samples_leaf': 2, 'classifier__min_samples_split': 5, 'classifier__n_estimators': 200, 'feature_selection__n_components': 3}, Mean Test Score: 0.7482749380558056\n",
      "2024-10-20 17:56:22,251 | grid_search_training | INFO | Params: {'classifier__max_depth': None, 'classifier__min_samples_leaf': 2, 'classifier__min_samples_split': 5, 'classifier__n_estimators': 200, 'feature_selection__n_components': 4}, Mean Test Score: 0.8257603686635944\n",
      "INFO:grid_search_training:Params: {'classifier__max_depth': None, 'classifier__min_samples_leaf': 2, 'classifier__min_samples_split': 5, 'classifier__n_estimators': 200, 'feature_selection__n_components': 4}, Mean Test Score: 0.8257603686635944\n",
      "2024-10-20 17:56:22,255 | grid_search_training | INFO | Params: {'classifier__max_depth': None, 'classifier__min_samples_leaf': 2, 'classifier__min_samples_split': 5, 'classifier__n_estimators': 200, 'feature_selection__n_components': 5}, Mean Test Score: 0.8483053892920411\n",
      "INFO:grid_search_training:Params: {'classifier__max_depth': None, 'classifier__min_samples_leaf': 2, 'classifier__min_samples_split': 5, 'classifier__n_estimators': 200, 'feature_selection__n_components': 5}, Mean Test Score: 0.8483053892920411\n",
      "2024-10-20 17:56:22,255 | grid_search_training | INFO | Params: {'classifier__max_depth': None, 'classifier__min_samples_leaf': 2, 'classifier__min_samples_split': 10, 'classifier__n_estimators': 50, 'feature_selection__n_components': 1}, Mean Test Score: 0.33538617276103366\n",
      "INFO:grid_search_training:Params: {'classifier__max_depth': None, 'classifier__min_samples_leaf': 2, 'classifier__min_samples_split': 10, 'classifier__n_estimators': 50, 'feature_selection__n_components': 1}, Mean Test Score: 0.33538617276103366\n",
      "2024-10-20 17:56:22,256 | grid_search_training | INFO | Params: {'classifier__max_depth': None, 'classifier__min_samples_leaf': 2, 'classifier__min_samples_split': 10, 'classifier__n_estimators': 50, 'feature_selection__n_components': 2}, Mean Test Score: 0.5547356439547764\n",
      "INFO:grid_search_training:Params: {'classifier__max_depth': None, 'classifier__min_samples_leaf': 2, 'classifier__min_samples_split': 10, 'classifier__n_estimators': 50, 'feature_selection__n_components': 2}, Mean Test Score: 0.5547356439547764\n",
      "2024-10-20 17:56:22,256 | grid_search_training | INFO | Params: {'classifier__max_depth': None, 'classifier__min_samples_leaf': 2, 'classifier__min_samples_split': 10, 'classifier__n_estimators': 50, 'feature_selection__n_components': 3}, Mean Test Score: 0.7402961432750088\n",
      "INFO:grid_search_training:Params: {'classifier__max_depth': None, 'classifier__min_samples_leaf': 2, 'classifier__min_samples_split': 10, 'classifier__n_estimators': 50, 'feature_selection__n_components': 3}, Mean Test Score: 0.7402961432750088\n",
      "2024-10-20 17:56:22,256 | grid_search_training | INFO | Params: {'classifier__max_depth': None, 'classifier__min_samples_leaf': 2, 'classifier__min_samples_split': 10, 'classifier__n_estimators': 50, 'feature_selection__n_components': 4}, Mean Test Score: 0.8199895239272325\n",
      "INFO:grid_search_training:Params: {'classifier__max_depth': None, 'classifier__min_samples_leaf': 2, 'classifier__min_samples_split': 10, 'classifier__n_estimators': 50, 'feature_selection__n_components': 4}, Mean Test Score: 0.8199895239272325\n",
      "2024-10-20 17:56:22,257 | grid_search_training | INFO | Params: {'classifier__max_depth': None, 'classifier__min_samples_leaf': 2, 'classifier__min_samples_split': 10, 'classifier__n_estimators': 50, 'feature_selection__n_components': 5}, Mean Test Score: 0.8420312810824491\n",
      "INFO:grid_search_training:Params: {'classifier__max_depth': None, 'classifier__min_samples_leaf': 2, 'classifier__min_samples_split': 10, 'classifier__n_estimators': 50, 'feature_selection__n_components': 5}, Mean Test Score: 0.8420312810824491\n",
      "2024-10-20 17:56:22,257 | grid_search_training | INFO | Params: {'classifier__max_depth': None, 'classifier__min_samples_leaf': 2, 'classifier__min_samples_split': 10, 'classifier__n_estimators': 100, 'feature_selection__n_components': 1}, Mean Test Score: 0.33610896292765036\n",
      "INFO:grid_search_training:Params: {'classifier__max_depth': None, 'classifier__min_samples_leaf': 2, 'classifier__min_samples_split': 10, 'classifier__n_estimators': 100, 'feature_selection__n_components': 1}, Mean Test Score: 0.33610896292765036\n",
      "2024-10-20 17:56:22,258 | grid_search_training | INFO | Params: {'classifier__max_depth': None, 'classifier__min_samples_leaf': 2, 'classifier__min_samples_split': 10, 'classifier__n_estimators': 100, 'feature_selection__n_components': 2}, Mean Test Score: 0.5494529371259071\n",
      "INFO:grid_search_training:Params: {'classifier__max_depth': None, 'classifier__min_samples_leaf': 2, 'classifier__min_samples_split': 10, 'classifier__n_estimators': 100, 'feature_selection__n_components': 2}, Mean Test Score: 0.5494529371259071\n",
      "2024-10-20 17:56:22,259 | grid_search_training | INFO | Params: {'classifier__max_depth': None, 'classifier__min_samples_leaf': 2, 'classifier__min_samples_split': 10, 'classifier__n_estimators': 100, 'feature_selection__n_components': 3}, Mean Test Score: 0.7436203777271629\n",
      "INFO:grid_search_training:Params: {'classifier__max_depth': None, 'classifier__min_samples_leaf': 2, 'classifier__min_samples_split': 10, 'classifier__n_estimators': 100, 'feature_selection__n_components': 3}, Mean Test Score: 0.7436203777271629\n",
      "2024-10-20 17:56:22,259 | grid_search_training | INFO | Params: {'classifier__max_depth': None, 'classifier__min_samples_leaf': 2, 'classifier__min_samples_split': 10, 'classifier__n_estimators': 100, 'feature_selection__n_components': 4}, Mean Test Score: 0.8179849156323016\n",
      "INFO:grid_search_training:Params: {'classifier__max_depth': None, 'classifier__min_samples_leaf': 2, 'classifier__min_samples_split': 10, 'classifier__n_estimators': 100, 'feature_selection__n_components': 4}, Mean Test Score: 0.8179849156323016\n",
      "2024-10-20 17:56:22,259 | grid_search_training | INFO | Params: {'classifier__max_depth': None, 'classifier__min_samples_leaf': 2, 'classifier__min_samples_split': 10, 'classifier__n_estimators': 100, 'feature_selection__n_components': 5}, Mean Test Score: 0.8447585912624845\n",
      "INFO:grid_search_training:Params: {'classifier__max_depth': None, 'classifier__min_samples_leaf': 2, 'classifier__min_samples_split': 10, 'classifier__n_estimators': 100, 'feature_selection__n_components': 5}, Mean Test Score: 0.8447585912624845\n",
      "2024-10-20 17:56:22,260 | grid_search_training | INFO | Params: {'classifier__max_depth': None, 'classifier__min_samples_leaf': 2, 'classifier__min_samples_split': 10, 'classifier__n_estimators': 200, 'feature_selection__n_components': 1}, Mean Test Score: 0.33111961556344205\n",
      "INFO:grid_search_training:Params: {'classifier__max_depth': None, 'classifier__min_samples_leaf': 2, 'classifier__min_samples_split': 10, 'classifier__n_estimators': 200, 'feature_selection__n_components': 1}, Mean Test Score: 0.33111961556344205\n",
      "2024-10-20 17:56:22,261 | grid_search_training | INFO | Params: {'classifier__max_depth': None, 'classifier__min_samples_leaf': 2, 'classifier__min_samples_split': 10, 'classifier__n_estimators': 200, 'feature_selection__n_components': 2}, Mean Test Score: 0.54665461329755\n",
      "INFO:grid_search_training:Params: {'classifier__max_depth': None, 'classifier__min_samples_leaf': 2, 'classifier__min_samples_split': 10, 'classifier__n_estimators': 200, 'feature_selection__n_components': 2}, Mean Test Score: 0.54665461329755\n",
      "2024-10-20 17:56:22,262 | grid_search_training | INFO | Params: {'classifier__max_depth': None, 'classifier__min_samples_leaf': 2, 'classifier__min_samples_split': 10, 'classifier__n_estimators': 200, 'feature_selection__n_components': 3}, Mean Test Score: 0.7429606441019121\n",
      "INFO:grid_search_training:Params: {'classifier__max_depth': None, 'classifier__min_samples_leaf': 2, 'classifier__min_samples_split': 10, 'classifier__n_estimators': 200, 'feature_selection__n_components': 3}, Mean Test Score: 0.7429606441019121\n",
      "2024-10-20 17:56:22,264 | grid_search_training | INFO | Params: {'classifier__max_depth': None, 'classifier__min_samples_leaf': 2, 'classifier__min_samples_split': 10, 'classifier__n_estimators': 200, 'feature_selection__n_components': 4}, Mean Test Score: 0.8201327224252697\n",
      "INFO:grid_search_training:Params: {'classifier__max_depth': None, 'classifier__min_samples_leaf': 2, 'classifier__min_samples_split': 10, 'classifier__n_estimators': 200, 'feature_selection__n_components': 4}, Mean Test Score: 0.8201327224252697\n",
      "2024-10-20 17:56:22,265 | grid_search_training | INFO | Params: {'classifier__max_depth': None, 'classifier__min_samples_leaf': 2, 'classifier__min_samples_split': 10, 'classifier__n_estimators': 200, 'feature_selection__n_components': 5}, Mean Test Score: 0.8433975022217514\n",
      "INFO:grid_search_training:Params: {'classifier__max_depth': None, 'classifier__min_samples_leaf': 2, 'classifier__min_samples_split': 10, 'classifier__n_estimators': 200, 'feature_selection__n_components': 5}, Mean Test Score: 0.8433975022217514\n",
      "2024-10-20 17:56:22,267 | grid_search_training | INFO | Params: {'classifier__max_depth': None, 'classifier__min_samples_leaf': 4, 'classifier__min_samples_split': 2, 'classifier__n_estimators': 50, 'feature_selection__n_components': 1}, Mean Test Score: 0.3390406801207691\n",
      "INFO:grid_search_training:Params: {'classifier__max_depth': None, 'classifier__min_samples_leaf': 4, 'classifier__min_samples_split': 2, 'classifier__n_estimators': 50, 'feature_selection__n_components': 1}, Mean Test Score: 0.3390406801207691\n",
      "2024-10-20 17:56:22,269 | grid_search_training | INFO | Params: {'classifier__max_depth': None, 'classifier__min_samples_leaf': 4, 'classifier__min_samples_split': 2, 'classifier__n_estimators': 50, 'feature_selection__n_components': 2}, Mean Test Score: 0.5479677419354839\n",
      "INFO:grid_search_training:Params: {'classifier__max_depth': None, 'classifier__min_samples_leaf': 4, 'classifier__min_samples_split': 2, 'classifier__n_estimators': 50, 'feature_selection__n_components': 2}, Mean Test Score: 0.5479677419354839\n",
      "2024-10-20 17:56:22,270 | grid_search_training | INFO | Params: {'classifier__max_depth': None, 'classifier__min_samples_leaf': 4, 'classifier__min_samples_split': 2, 'classifier__n_estimators': 50, 'feature_selection__n_components': 3}, Mean Test Score: 0.7329040379963628\n",
      "INFO:grid_search_training:Params: {'classifier__max_depth': None, 'classifier__min_samples_leaf': 4, 'classifier__min_samples_split': 2, 'classifier__n_estimators': 50, 'feature_selection__n_components': 3}, Mean Test Score: 0.7329040379963628\n",
      "2024-10-20 17:56:22,271 | grid_search_training | INFO | Params: {'classifier__max_depth': None, 'classifier__min_samples_leaf': 4, 'classifier__min_samples_split': 2, 'classifier__n_estimators': 50, 'feature_selection__n_components': 4}, Mean Test Score: 0.8206415240920245\n",
      "INFO:grid_search_training:Params: {'classifier__max_depth': None, 'classifier__min_samples_leaf': 4, 'classifier__min_samples_split': 2, 'classifier__n_estimators': 50, 'feature_selection__n_components': 4}, Mean Test Score: 0.8206415240920245\n",
      "2024-10-20 17:56:22,272 | grid_search_training | INFO | Params: {'classifier__max_depth': None, 'classifier__min_samples_leaf': 4, 'classifier__min_samples_split': 2, 'classifier__n_estimators': 50, 'feature_selection__n_components': 5}, Mean Test Score: 0.8336830105172707\n",
      "INFO:grid_search_training:Params: {'classifier__max_depth': None, 'classifier__min_samples_leaf': 4, 'classifier__min_samples_split': 2, 'classifier__n_estimators': 50, 'feature_selection__n_components': 5}, Mean Test Score: 0.8336830105172707\n",
      "2024-10-20 17:56:22,272 | grid_search_training | INFO | Params: {'classifier__max_depth': None, 'classifier__min_samples_leaf': 4, 'classifier__min_samples_split': 2, 'classifier__n_estimators': 100, 'feature_selection__n_components': 1}, Mean Test Score: 0.3319673829240014\n",
      "INFO:grid_search_training:Params: {'classifier__max_depth': None, 'classifier__min_samples_leaf': 4, 'classifier__min_samples_split': 2, 'classifier__n_estimators': 100, 'feature_selection__n_components': 1}, Mean Test Score: 0.3319673829240014\n",
      "2024-10-20 17:56:22,274 | grid_search_training | INFO | Params: {'classifier__max_depth': None, 'classifier__min_samples_leaf': 4, 'classifier__min_samples_split': 2, 'classifier__n_estimators': 100, 'feature_selection__n_components': 2}, Mean Test Score: 0.5503096974298309\n",
      "INFO:grid_search_training:Params: {'classifier__max_depth': None, 'classifier__min_samples_leaf': 4, 'classifier__min_samples_split': 2, 'classifier__n_estimators': 100, 'feature_selection__n_components': 2}, Mean Test Score: 0.5503096974298309\n",
      "2024-10-20 17:56:22,274 | grid_search_training | INFO | Params: {'classifier__max_depth': None, 'classifier__min_samples_leaf': 4, 'classifier__min_samples_split': 2, 'classifier__n_estimators': 100, 'feature_selection__n_components': 3}, Mean Test Score: 0.7357282753912343\n",
      "INFO:grid_search_training:Params: {'classifier__max_depth': None, 'classifier__min_samples_leaf': 4, 'classifier__min_samples_split': 2, 'classifier__n_estimators': 100, 'feature_selection__n_components': 3}, Mean Test Score: 0.7357282753912343\n",
      "2024-10-20 17:56:22,274 | grid_search_training | INFO | Params: {'classifier__max_depth': None, 'classifier__min_samples_leaf': 4, 'classifier__min_samples_split': 2, 'classifier__n_estimators': 100, 'feature_selection__n_components': 4}, Mean Test Score: 0.8144144463866377\n",
      "INFO:grid_search_training:Params: {'classifier__max_depth': None, 'classifier__min_samples_leaf': 4, 'classifier__min_samples_split': 2, 'classifier__n_estimators': 100, 'feature_selection__n_components': 4}, Mean Test Score: 0.8144144463866377\n",
      "2024-10-20 17:56:22,275 | grid_search_training | INFO | Params: {'classifier__max_depth': None, 'classifier__min_samples_leaf': 4, 'classifier__min_samples_split': 2, 'classifier__n_estimators': 100, 'feature_selection__n_components': 5}, Mean Test Score: 0.8392508136612697\n",
      "INFO:grid_search_training:Params: {'classifier__max_depth': None, 'classifier__min_samples_leaf': 4, 'classifier__min_samples_split': 2, 'classifier__n_estimators': 100, 'feature_selection__n_components': 5}, Mean Test Score: 0.8392508136612697\n",
      "2024-10-20 17:56:22,275 | grid_search_training | INFO | Params: {'classifier__max_depth': None, 'classifier__min_samples_leaf': 4, 'classifier__min_samples_split': 2, 'classifier__n_estimators': 200, 'feature_selection__n_components': 1}, Mean Test Score: 0.32720597842399846\n",
      "INFO:grid_search_training:Params: {'classifier__max_depth': None, 'classifier__min_samples_leaf': 4, 'classifier__min_samples_split': 2, 'classifier__n_estimators': 200, 'feature_selection__n_components': 1}, Mean Test Score: 0.32720597842399846\n",
      "2024-10-20 17:56:22,276 | grid_search_training | INFO | Params: {'classifier__max_depth': None, 'classifier__min_samples_leaf': 4, 'classifier__min_samples_split': 2, 'classifier__n_estimators': 200, 'feature_selection__n_components': 2}, Mean Test Score: 0.5515347446604398\n",
      "INFO:grid_search_training:Params: {'classifier__max_depth': None, 'classifier__min_samples_leaf': 4, 'classifier__min_samples_split': 2, 'classifier__n_estimators': 200, 'feature_selection__n_components': 2}, Mean Test Score: 0.5515347446604398\n",
      "2024-10-20 17:56:22,276 | grid_search_training | INFO | Params: {'classifier__max_depth': None, 'classifier__min_samples_leaf': 4, 'classifier__min_samples_split': 2, 'classifier__n_estimators': 200, 'feature_selection__n_components': 3}, Mean Test Score: 0.7388163038296518\n",
      "INFO:grid_search_training:Params: {'classifier__max_depth': None, 'classifier__min_samples_leaf': 4, 'classifier__min_samples_split': 2, 'classifier__n_estimators': 200, 'feature_selection__n_components': 3}, Mean Test Score: 0.7388163038296518\n",
      "2024-10-20 17:56:22,277 | grid_search_training | INFO | Params: {'classifier__max_depth': None, 'classifier__min_samples_leaf': 4, 'classifier__min_samples_split': 2, 'classifier__n_estimators': 200, 'feature_selection__n_components': 4}, Mean Test Score: 0.8173000276615404\n",
      "INFO:grid_search_training:Params: {'classifier__max_depth': None, 'classifier__min_samples_leaf': 4, 'classifier__min_samples_split': 2, 'classifier__n_estimators': 200, 'feature_selection__n_components': 4}, Mean Test Score: 0.8173000276615404\n",
      "2024-10-20 17:56:22,277 | grid_search_training | INFO | Params: {'classifier__max_depth': None, 'classifier__min_samples_leaf': 4, 'classifier__min_samples_split': 2, 'classifier__n_estimators': 200, 'feature_selection__n_components': 5}, Mean Test Score: 0.8393793456574323\n",
      "INFO:grid_search_training:Params: {'classifier__max_depth': None, 'classifier__min_samples_leaf': 4, 'classifier__min_samples_split': 2, 'classifier__n_estimators': 200, 'feature_selection__n_components': 5}, Mean Test Score: 0.8393793456574323\n",
      "2024-10-20 17:56:22,278 | grid_search_training | INFO | Params: {'classifier__max_depth': None, 'classifier__min_samples_leaf': 4, 'classifier__min_samples_split': 5, 'classifier__n_estimators': 50, 'feature_selection__n_components': 1}, Mean Test Score: 0.3354323086792497\n",
      "INFO:grid_search_training:Params: {'classifier__max_depth': None, 'classifier__min_samples_leaf': 4, 'classifier__min_samples_split': 5, 'classifier__n_estimators': 50, 'feature_selection__n_components': 1}, Mean Test Score: 0.3354323086792497\n",
      "2024-10-20 17:56:22,278 | grid_search_training | INFO | Params: {'classifier__max_depth': None, 'classifier__min_samples_leaf': 4, 'classifier__min_samples_split': 5, 'classifier__n_estimators': 50, 'feature_selection__n_components': 2}, Mean Test Score: 0.5543760380434463\n",
      "INFO:grid_search_training:Params: {'classifier__max_depth': None, 'classifier__min_samples_leaf': 4, 'classifier__min_samples_split': 5, 'classifier__n_estimators': 50, 'feature_selection__n_components': 2}, Mean Test Score: 0.5543760380434463\n",
      "2024-10-20 17:56:22,279 | grid_search_training | INFO | Params: {'classifier__max_depth': None, 'classifier__min_samples_leaf': 4, 'classifier__min_samples_split': 5, 'classifier__n_estimators': 50, 'feature_selection__n_components': 3}, Mean Test Score: 0.7350929192341873\n",
      "INFO:grid_search_training:Params: {'classifier__max_depth': None, 'classifier__min_samples_leaf': 4, 'classifier__min_samples_split': 5, 'classifier__n_estimators': 50, 'feature_selection__n_components': 3}, Mean Test Score: 0.7350929192341873\n",
      "2024-10-20 17:56:22,279 | grid_search_training | INFO | Params: {'classifier__max_depth': None, 'classifier__min_samples_leaf': 4, 'classifier__min_samples_split': 5, 'classifier__n_estimators': 50, 'feature_selection__n_components': 4}, Mean Test Score: 0.8202377656537834\n",
      "INFO:grid_search_training:Params: {'classifier__max_depth': None, 'classifier__min_samples_leaf': 4, 'classifier__min_samples_split': 5, 'classifier__n_estimators': 50, 'feature_selection__n_components': 4}, Mean Test Score: 0.8202377656537834\n",
      "2024-10-20 17:56:22,279 | grid_search_training | INFO | Params: {'classifier__max_depth': None, 'classifier__min_samples_leaf': 4, 'classifier__min_samples_split': 5, 'classifier__n_estimators': 50, 'feature_selection__n_components': 5}, Mean Test Score: 0.8323531437046453\n",
      "INFO:grid_search_training:Params: {'classifier__max_depth': None, 'classifier__min_samples_leaf': 4, 'classifier__min_samples_split': 5, 'classifier__n_estimators': 50, 'feature_selection__n_components': 5}, Mean Test Score: 0.8323531437046453\n",
      "2024-10-20 17:56:22,280 | grid_search_training | INFO | Params: {'classifier__max_depth': None, 'classifier__min_samples_leaf': 4, 'classifier__min_samples_split': 5, 'classifier__n_estimators': 100, 'feature_selection__n_components': 1}, Mean Test Score: 0.3306132269246841\n",
      "INFO:grid_search_training:Params: {'classifier__max_depth': None, 'classifier__min_samples_leaf': 4, 'classifier__min_samples_split': 5, 'classifier__n_estimators': 100, 'feature_selection__n_components': 1}, Mean Test Score: 0.3306132269246841\n",
      "2024-10-20 17:56:22,280 | grid_search_training | INFO | Params: {'classifier__max_depth': None, 'classifier__min_samples_leaf': 4, 'classifier__min_samples_split': 5, 'classifier__n_estimators': 100, 'feature_selection__n_components': 2}, Mean Test Score: 0.5469730976805505\n",
      "INFO:grid_search_training:Params: {'classifier__max_depth': None, 'classifier__min_samples_leaf': 4, 'classifier__min_samples_split': 5, 'classifier__n_estimators': 100, 'feature_selection__n_components': 2}, Mean Test Score: 0.5469730976805505\n",
      "2024-10-20 17:56:22,281 | grid_search_training | INFO | Params: {'classifier__max_depth': None, 'classifier__min_samples_leaf': 4, 'classifier__min_samples_split': 5, 'classifier__n_estimators': 100, 'feature_selection__n_components': 3}, Mean Test Score: 0.7353461812360589\n",
      "INFO:grid_search_training:Params: {'classifier__max_depth': None, 'classifier__min_samples_leaf': 4, 'classifier__min_samples_split': 5, 'classifier__n_estimators': 100, 'feature_selection__n_components': 3}, Mean Test Score: 0.7353461812360589\n",
      "2024-10-20 17:56:22,281 | grid_search_training | INFO | Params: {'classifier__max_depth': None, 'classifier__min_samples_leaf': 4, 'classifier__min_samples_split': 5, 'classifier__n_estimators': 100, 'feature_selection__n_components': 4}, Mean Test Score: 0.8198643642848313\n",
      "INFO:grid_search_training:Params: {'classifier__max_depth': None, 'classifier__min_samples_leaf': 4, 'classifier__min_samples_split': 5, 'classifier__n_estimators': 100, 'feature_selection__n_components': 4}, Mean Test Score: 0.8198643642848313\n",
      "2024-10-20 17:56:22,283 | grid_search_training | INFO | Params: {'classifier__max_depth': None, 'classifier__min_samples_leaf': 4, 'classifier__min_samples_split': 5, 'classifier__n_estimators': 100, 'feature_selection__n_components': 5}, Mean Test Score: 0.8427650887817739\n",
      "INFO:grid_search_training:Params: {'classifier__max_depth': None, 'classifier__min_samples_leaf': 4, 'classifier__min_samples_split': 5, 'classifier__n_estimators': 100, 'feature_selection__n_components': 5}, Mean Test Score: 0.8427650887817739\n",
      "2024-10-20 17:56:22,283 | grid_search_training | INFO | Params: {'classifier__max_depth': None, 'classifier__min_samples_leaf': 4, 'classifier__min_samples_split': 5, 'classifier__n_estimators': 200, 'feature_selection__n_components': 1}, Mean Test Score: 0.3281720018127137\n",
      "INFO:grid_search_training:Params: {'classifier__max_depth': None, 'classifier__min_samples_leaf': 4, 'classifier__min_samples_split': 5, 'classifier__n_estimators': 200, 'feature_selection__n_components': 1}, Mean Test Score: 0.3281720018127137\n",
      "2024-10-20 17:56:22,284 | grid_search_training | INFO | Params: {'classifier__max_depth': None, 'classifier__min_samples_leaf': 4, 'classifier__min_samples_split': 5, 'classifier__n_estimators': 200, 'feature_selection__n_components': 2}, Mean Test Score: 0.5549647992184144\n",
      "INFO:grid_search_training:Params: {'classifier__max_depth': None, 'classifier__min_samples_leaf': 4, 'classifier__min_samples_split': 5, 'classifier__n_estimators': 200, 'feature_selection__n_components': 2}, Mean Test Score: 0.5549647992184144\n",
      "2024-10-20 17:56:22,285 | grid_search_training | INFO | Params: {'classifier__max_depth': None, 'classifier__min_samples_leaf': 4, 'classifier__min_samples_split': 5, 'classifier__n_estimators': 200, 'feature_selection__n_components': 3}, Mean Test Score: 0.740740246364273\n",
      "INFO:grid_search_training:Params: {'classifier__max_depth': None, 'classifier__min_samples_leaf': 4, 'classifier__min_samples_split': 5, 'classifier__n_estimators': 200, 'feature_selection__n_components': 3}, Mean Test Score: 0.740740246364273\n",
      "2024-10-20 17:56:22,285 | grid_search_training | INFO | Params: {'classifier__max_depth': None, 'classifier__min_samples_leaf': 4, 'classifier__min_samples_split': 5, 'classifier__n_estimators': 200, 'feature_selection__n_components': 4}, Mean Test Score: 0.818611696711808\n",
      "INFO:grid_search_training:Params: {'classifier__max_depth': None, 'classifier__min_samples_leaf': 4, 'classifier__min_samples_split': 5, 'classifier__n_estimators': 200, 'feature_selection__n_components': 4}, Mean Test Score: 0.818611696711808\n",
      "2024-10-20 17:56:22,286 | grid_search_training | INFO | Params: {'classifier__max_depth': None, 'classifier__min_samples_leaf': 4, 'classifier__min_samples_split': 5, 'classifier__n_estimators': 200, 'feature_selection__n_components': 5}, Mean Test Score: 0.8428262325570447\n",
      "INFO:grid_search_training:Params: {'classifier__max_depth': None, 'classifier__min_samples_leaf': 4, 'classifier__min_samples_split': 5, 'classifier__n_estimators': 200, 'feature_selection__n_components': 5}, Mean Test Score: 0.8428262325570447\n",
      "2024-10-20 17:56:22,286 | grid_search_training | INFO | Params: {'classifier__max_depth': None, 'classifier__min_samples_leaf': 4, 'classifier__min_samples_split': 10, 'classifier__n_estimators': 50, 'feature_selection__n_components': 1}, Mean Test Score: 0.33657744937055284\n",
      "INFO:grid_search_training:Params: {'classifier__max_depth': None, 'classifier__min_samples_leaf': 4, 'classifier__min_samples_split': 10, 'classifier__n_estimators': 50, 'feature_selection__n_components': 1}, Mean Test Score: 0.33657744937055284\n",
      "2024-10-20 17:56:22,287 | grid_search_training | INFO | Params: {'classifier__max_depth': None, 'classifier__min_samples_leaf': 4, 'classifier__min_samples_split': 10, 'classifier__n_estimators': 50, 'feature_selection__n_components': 2}, Mean Test Score: 0.5492167840810778\n",
      "INFO:grid_search_training:Params: {'classifier__max_depth': None, 'classifier__min_samples_leaf': 4, 'classifier__min_samples_split': 10, 'classifier__n_estimators': 50, 'feature_selection__n_components': 2}, Mean Test Score: 0.5492167840810778\n",
      "2024-10-20 17:56:22,287 | grid_search_training | INFO | Params: {'classifier__max_depth': None, 'classifier__min_samples_leaf': 4, 'classifier__min_samples_split': 10, 'classifier__n_estimators': 50, 'feature_selection__n_components': 3}, Mean Test Score: 0.7386990365544314\n",
      "INFO:grid_search_training:Params: {'classifier__max_depth': None, 'classifier__min_samples_leaf': 4, 'classifier__min_samples_split': 10, 'classifier__n_estimators': 50, 'feature_selection__n_components': 3}, Mean Test Score: 0.7386990365544314\n",
      "2024-10-20 17:56:22,288 | grid_search_training | INFO | Params: {'classifier__max_depth': None, 'classifier__min_samples_leaf': 4, 'classifier__min_samples_split': 10, 'classifier__n_estimators': 50, 'feature_selection__n_components': 4}, Mean Test Score: 0.8145017685729586\n",
      "INFO:grid_search_training:Params: {'classifier__max_depth': None, 'classifier__min_samples_leaf': 4, 'classifier__min_samples_split': 10, 'classifier__n_estimators': 50, 'feature_selection__n_components': 4}, Mean Test Score: 0.8145017685729586\n",
      "2024-10-20 17:56:22,288 | grid_search_training | INFO | Params: {'classifier__max_depth': None, 'classifier__min_samples_leaf': 4, 'classifier__min_samples_split': 10, 'classifier__n_estimators': 50, 'feature_selection__n_components': 5}, Mean Test Score: 0.8412938479556946\n",
      "INFO:grid_search_training:Params: {'classifier__max_depth': None, 'classifier__min_samples_leaf': 4, 'classifier__min_samples_split': 10, 'classifier__n_estimators': 50, 'feature_selection__n_components': 5}, Mean Test Score: 0.8412938479556946\n",
      "2024-10-20 17:56:22,288 | grid_search_training | INFO | Params: {'classifier__max_depth': None, 'classifier__min_samples_leaf': 4, 'classifier__min_samples_split': 10, 'classifier__n_estimators': 100, 'feature_selection__n_components': 1}, Mean Test Score: 0.3430958737221251\n",
      "INFO:grid_search_training:Params: {'classifier__max_depth': None, 'classifier__min_samples_leaf': 4, 'classifier__min_samples_split': 10, 'classifier__n_estimators': 100, 'feature_selection__n_components': 1}, Mean Test Score: 0.3430958737221251\n",
      "2024-10-20 17:56:22,289 | grid_search_training | INFO | Params: {'classifier__max_depth': None, 'classifier__min_samples_leaf': 4, 'classifier__min_samples_split': 10, 'classifier__n_estimators': 100, 'feature_selection__n_components': 2}, Mean Test Score: 0.5507776306419243\n",
      "INFO:grid_search_training:Params: {'classifier__max_depth': None, 'classifier__min_samples_leaf': 4, 'classifier__min_samples_split': 10, 'classifier__n_estimators': 100, 'feature_selection__n_components': 2}, Mean Test Score: 0.5507776306419243\n",
      "2024-10-20 17:56:22,289 | grid_search_training | INFO | Params: {'classifier__max_depth': None, 'classifier__min_samples_leaf': 4, 'classifier__min_samples_split': 10, 'classifier__n_estimators': 100, 'feature_selection__n_components': 3}, Mean Test Score: 0.7361957730812014\n",
      "INFO:grid_search_training:Params: {'classifier__max_depth': None, 'classifier__min_samples_leaf': 4, 'classifier__min_samples_split': 10, 'classifier__n_estimators': 100, 'feature_selection__n_components': 3}, Mean Test Score: 0.7361957730812014\n",
      "2024-10-20 17:56:22,290 | grid_search_training | INFO | Params: {'classifier__max_depth': None, 'classifier__min_samples_leaf': 4, 'classifier__min_samples_split': 10, 'classifier__n_estimators': 100, 'feature_selection__n_components': 4}, Mean Test Score: 0.8205129920958619\n",
      "INFO:grid_search_training:Params: {'classifier__max_depth': None, 'classifier__min_samples_leaf': 4, 'classifier__min_samples_split': 10, 'classifier__n_estimators': 100, 'feature_selection__n_components': 4}, Mean Test Score: 0.8205129920958619\n",
      "2024-10-20 17:56:22,290 | grid_search_training | INFO | Params: {'classifier__max_depth': None, 'classifier__min_samples_leaf': 4, 'classifier__min_samples_split': 10, 'classifier__n_estimators': 100, 'feature_selection__n_components': 5}, Mean Test Score: 0.8393665978070872\n",
      "INFO:grid_search_training:Params: {'classifier__max_depth': None, 'classifier__min_samples_leaf': 4, 'classifier__min_samples_split': 10, 'classifier__n_estimators': 100, 'feature_selection__n_components': 5}, Mean Test Score: 0.8393665978070872\n",
      "2024-10-20 17:56:22,290 | grid_search_training | INFO | Params: {'classifier__max_depth': None, 'classifier__min_samples_leaf': 4, 'classifier__min_samples_split': 10, 'classifier__n_estimators': 200, 'feature_selection__n_components': 1}, Mean Test Score: 0.34294920870337997\n",
      "INFO:grid_search_training:Params: {'classifier__max_depth': None, 'classifier__min_samples_leaf': 4, 'classifier__min_samples_split': 10, 'classifier__n_estimators': 200, 'feature_selection__n_components': 1}, Mean Test Score: 0.34294920870337997\n",
      "2024-10-20 17:56:22,291 | grid_search_training | INFO | Params: {'classifier__max_depth': None, 'classifier__min_samples_leaf': 4, 'classifier__min_samples_split': 10, 'classifier__n_estimators': 200, 'feature_selection__n_components': 2}, Mean Test Score: 0.5490777348141085\n",
      "INFO:grid_search_training:Params: {'classifier__max_depth': None, 'classifier__min_samples_leaf': 4, 'classifier__min_samples_split': 10, 'classifier__n_estimators': 200, 'feature_selection__n_components': 2}, Mean Test Score: 0.5490777348141085\n",
      "2024-10-20 17:56:22,291 | grid_search_training | INFO | Params: {'classifier__max_depth': None, 'classifier__min_samples_leaf': 4, 'classifier__min_samples_split': 10, 'classifier__n_estimators': 200, 'feature_selection__n_components': 3}, Mean Test Score: 0.7359452948896775\n",
      "INFO:grid_search_training:Params: {'classifier__max_depth': None, 'classifier__min_samples_leaf': 4, 'classifier__min_samples_split': 10, 'classifier__n_estimators': 200, 'feature_selection__n_components': 3}, Mean Test Score: 0.7359452948896775\n",
      "2024-10-20 17:56:22,292 | grid_search_training | INFO | Params: {'classifier__max_depth': None, 'classifier__min_samples_leaf': 4, 'classifier__min_samples_split': 10, 'classifier__n_estimators': 200, 'feature_selection__n_components': 4}, Mean Test Score: 0.8180602903873204\n",
      "INFO:grid_search_training:Params: {'classifier__max_depth': None, 'classifier__min_samples_leaf': 4, 'classifier__min_samples_split': 10, 'classifier__n_estimators': 200, 'feature_selection__n_components': 4}, Mean Test Score: 0.8180602903873204\n",
      "2024-10-20 17:56:22,292 | grid_search_training | INFO | Params: {'classifier__max_depth': None, 'classifier__min_samples_leaf': 4, 'classifier__min_samples_split': 10, 'classifier__n_estimators': 200, 'feature_selection__n_components': 5}, Mean Test Score: 0.8421956436016502\n",
      "INFO:grid_search_training:Params: {'classifier__max_depth': None, 'classifier__min_samples_leaf': 4, 'classifier__min_samples_split': 10, 'classifier__n_estimators': 200, 'feature_selection__n_components': 5}, Mean Test Score: 0.8421956436016502\n",
      "2024-10-20 17:56:22,292 | grid_search_training | INFO | Params: {'classifier__max_depth': 10, 'classifier__min_samples_leaf': 1, 'classifier__min_samples_split': 2, 'classifier__n_estimators': 50, 'feature_selection__n_components': 1}, Mean Test Score: 0.3174493882091213\n",
      "INFO:grid_search_training:Params: {'classifier__max_depth': 10, 'classifier__min_samples_leaf': 1, 'classifier__min_samples_split': 2, 'classifier__n_estimators': 50, 'feature_selection__n_components': 1}, Mean Test Score: 0.3174493882091213\n",
      "2024-10-20 17:56:22,293 | grid_search_training | INFO | Params: {'classifier__max_depth': 10, 'classifier__min_samples_leaf': 1, 'classifier__min_samples_split': 2, 'classifier__n_estimators': 50, 'feature_selection__n_components': 2}, Mean Test Score: 0.5501532037360736\n",
      "INFO:grid_search_training:Params: {'classifier__max_depth': 10, 'classifier__min_samples_leaf': 1, 'classifier__min_samples_split': 2, 'classifier__n_estimators': 50, 'feature_selection__n_components': 2}, Mean Test Score: 0.5501532037360736\n",
      "2024-10-20 17:56:22,293 | grid_search_training | INFO | Params: {'classifier__max_depth': 10, 'classifier__min_samples_leaf': 1, 'classifier__min_samples_split': 2, 'classifier__n_estimators': 50, 'feature_selection__n_components': 3}, Mean Test Score: 0.7444596406353915\n",
      "INFO:grid_search_training:Params: {'classifier__max_depth': 10, 'classifier__min_samples_leaf': 1, 'classifier__min_samples_split': 2, 'classifier__n_estimators': 50, 'feature_selection__n_components': 3}, Mean Test Score: 0.7444596406353915\n",
      "2024-10-20 17:56:22,293 | grid_search_training | INFO | Params: {'classifier__max_depth': 10, 'classifier__min_samples_leaf': 1, 'classifier__min_samples_split': 2, 'classifier__n_estimators': 50, 'feature_selection__n_components': 4}, Mean Test Score: 0.820168800136542\n",
      "INFO:grid_search_training:Params: {'classifier__max_depth': 10, 'classifier__min_samples_leaf': 1, 'classifier__min_samples_split': 2, 'classifier__n_estimators': 50, 'feature_selection__n_components': 4}, Mean Test Score: 0.820168800136542\n",
      "2024-10-20 17:56:22,294 | grid_search_training | INFO | Params: {'classifier__max_depth': 10, 'classifier__min_samples_leaf': 1, 'classifier__min_samples_split': 2, 'classifier__n_estimators': 50, 'feature_selection__n_components': 5}, Mean Test Score: 0.8351626675141691\n",
      "INFO:grid_search_training:Params: {'classifier__max_depth': 10, 'classifier__min_samples_leaf': 1, 'classifier__min_samples_split': 2, 'classifier__n_estimators': 50, 'feature_selection__n_components': 5}, Mean Test Score: 0.8351626675141691\n",
      "2024-10-20 17:56:22,295 | grid_search_training | INFO | Params: {'classifier__max_depth': 10, 'classifier__min_samples_leaf': 1, 'classifier__min_samples_split': 2, 'classifier__n_estimators': 100, 'feature_selection__n_components': 1}, Mean Test Score: 0.3119861044899977\n",
      "INFO:grid_search_training:Params: {'classifier__max_depth': 10, 'classifier__min_samples_leaf': 1, 'classifier__min_samples_split': 2, 'classifier__n_estimators': 100, 'feature_selection__n_components': 1}, Mean Test Score: 0.3119861044899977\n",
      "2024-10-20 17:56:22,296 | grid_search_training | INFO | Params: {'classifier__max_depth': 10, 'classifier__min_samples_leaf': 1, 'classifier__min_samples_split': 2, 'classifier__n_estimators': 100, 'feature_selection__n_components': 2}, Mean Test Score: 0.5536015737650887\n",
      "INFO:grid_search_training:Params: {'classifier__max_depth': 10, 'classifier__min_samples_leaf': 1, 'classifier__min_samples_split': 2, 'classifier__n_estimators': 100, 'feature_selection__n_components': 2}, Mean Test Score: 0.5536015737650887\n",
      "2024-10-20 17:56:22,296 | grid_search_training | INFO | Params: {'classifier__max_depth': 10, 'classifier__min_samples_leaf': 1, 'classifier__min_samples_split': 2, 'classifier__n_estimators': 100, 'feature_selection__n_components': 3}, Mean Test Score: 0.7378523168011488\n",
      "INFO:grid_search_training:Params: {'classifier__max_depth': 10, 'classifier__min_samples_leaf': 1, 'classifier__min_samples_split': 2, 'classifier__n_estimators': 100, 'feature_selection__n_components': 3}, Mean Test Score: 0.7378523168011488\n",
      "2024-10-20 17:56:22,297 | grid_search_training | INFO | Params: {'classifier__max_depth': 10, 'classifier__min_samples_leaf': 1, 'classifier__min_samples_split': 2, 'classifier__n_estimators': 100, 'feature_selection__n_components': 4}, Mean Test Score: 0.8223200734502181\n",
      "INFO:grid_search_training:Params: {'classifier__max_depth': 10, 'classifier__min_samples_leaf': 1, 'classifier__min_samples_split': 2, 'classifier__n_estimators': 100, 'feature_selection__n_components': 4}, Mean Test Score: 0.8223200734502181\n",
      "2024-10-20 17:56:22,298 | grid_search_training | INFO | Params: {'classifier__max_depth': 10, 'classifier__min_samples_leaf': 1, 'classifier__min_samples_split': 2, 'classifier__n_estimators': 100, 'feature_selection__n_components': 5}, Mean Test Score: 0.849847920381847\n",
      "INFO:grid_search_training:Params: {'classifier__max_depth': 10, 'classifier__min_samples_leaf': 1, 'classifier__min_samples_split': 2, 'classifier__n_estimators': 100, 'feature_selection__n_components': 5}, Mean Test Score: 0.849847920381847\n",
      "2024-10-20 17:56:22,298 | grid_search_training | INFO | Params: {'classifier__max_depth': 10, 'classifier__min_samples_leaf': 1, 'classifier__min_samples_split': 2, 'classifier__n_estimators': 200, 'feature_selection__n_components': 1}, Mean Test Score: 0.327254168358729\n",
      "INFO:grid_search_training:Params: {'classifier__max_depth': 10, 'classifier__min_samples_leaf': 1, 'classifier__min_samples_split': 2, 'classifier__n_estimators': 200, 'feature_selection__n_components': 1}, Mean Test Score: 0.327254168358729\n",
      "2024-10-20 17:56:22,299 | grid_search_training | INFO | Params: {'classifier__max_depth': 10, 'classifier__min_samples_leaf': 1, 'classifier__min_samples_split': 2, 'classifier__n_estimators': 200, 'feature_selection__n_components': 2}, Mean Test Score: 0.5544196726521532\n",
      "INFO:grid_search_training:Params: {'classifier__max_depth': 10, 'classifier__min_samples_leaf': 1, 'classifier__min_samples_split': 2, 'classifier__n_estimators': 200, 'feature_selection__n_components': 2}, Mean Test Score: 0.5544196726521532\n",
      "2024-10-20 17:56:22,299 | grid_search_training | INFO | Params: {'classifier__max_depth': 10, 'classifier__min_samples_leaf': 1, 'classifier__min_samples_split': 2, 'classifier__n_estimators': 200, 'feature_selection__n_components': 3}, Mean Test Score: 0.7391676112788459\n",
      "INFO:grid_search_training:Params: {'classifier__max_depth': 10, 'classifier__min_samples_leaf': 1, 'classifier__min_samples_split': 2, 'classifier__n_estimators': 200, 'feature_selection__n_components': 3}, Mean Test Score: 0.7391676112788459\n",
      "2024-10-20 17:56:22,300 | grid_search_training | INFO | Params: {'classifier__max_depth': 10, 'classifier__min_samples_leaf': 1, 'classifier__min_samples_split': 2, 'classifier__n_estimators': 200, 'feature_selection__n_components': 4}, Mean Test Score: 0.8222904932582352\n",
      "INFO:grid_search_training:Params: {'classifier__max_depth': 10, 'classifier__min_samples_leaf': 1, 'classifier__min_samples_split': 2, 'classifier__n_estimators': 200, 'feature_selection__n_components': 4}, Mean Test Score: 0.8222904932582352\n",
      "2024-10-20 17:56:22,300 | grid_search_training | INFO | Params: {'classifier__max_depth': 10, 'classifier__min_samples_leaf': 1, 'classifier__min_samples_split': 2, 'classifier__n_estimators': 200, 'feature_selection__n_components': 5}, Mean Test Score: 0.847161390374961\n",
      "INFO:grid_search_training:Params: {'classifier__max_depth': 10, 'classifier__min_samples_leaf': 1, 'classifier__min_samples_split': 2, 'classifier__n_estimators': 200, 'feature_selection__n_components': 5}, Mean Test Score: 0.847161390374961\n",
      "2024-10-20 17:56:22,301 | grid_search_training | INFO | Params: {'classifier__max_depth': 10, 'classifier__min_samples_leaf': 1, 'classifier__min_samples_split': 5, 'classifier__n_estimators': 50, 'feature_selection__n_components': 1}, Mean Test Score: 0.32896109139490676\n",
      "INFO:grid_search_training:Params: {'classifier__max_depth': 10, 'classifier__min_samples_leaf': 1, 'classifier__min_samples_split': 5, 'classifier__n_estimators': 50, 'feature_selection__n_components': 1}, Mean Test Score: 0.32896109139490676\n",
      "2024-10-20 17:56:22,301 | grid_search_training | INFO | Params: {'classifier__max_depth': 10, 'classifier__min_samples_leaf': 1, 'classifier__min_samples_split': 5, 'classifier__n_estimators': 50, 'feature_selection__n_components': 2}, Mean Test Score: 0.5593459634749958\n",
      "INFO:grid_search_training:Params: {'classifier__max_depth': 10, 'classifier__min_samples_leaf': 1, 'classifier__min_samples_split': 5, 'classifier__n_estimators': 50, 'feature_selection__n_components': 2}, Mean Test Score: 0.5593459634749958\n",
      "2024-10-20 17:56:22,302 | grid_search_training | INFO | Params: {'classifier__max_depth': 10, 'classifier__min_samples_leaf': 1, 'classifier__min_samples_split': 5, 'classifier__n_estimators': 50, 'feature_selection__n_components': 3}, Mean Test Score: 0.7331449405865424\n",
      "INFO:grid_search_training:Params: {'classifier__max_depth': 10, 'classifier__min_samples_leaf': 1, 'classifier__min_samples_split': 5, 'classifier__n_estimators': 50, 'feature_selection__n_components': 3}, Mean Test Score: 0.7331449405865424\n",
      "2024-10-20 17:56:22,302 | grid_search_training | INFO | Params: {'classifier__max_depth': 10, 'classifier__min_samples_leaf': 1, 'classifier__min_samples_split': 5, 'classifier__n_estimators': 50, 'feature_selection__n_components': 4}, Mean Test Score: 0.8188587966641361\n",
      "INFO:grid_search_training:Params: {'classifier__max_depth': 10, 'classifier__min_samples_leaf': 1, 'classifier__min_samples_split': 5, 'classifier__n_estimators': 50, 'feature_selection__n_components': 4}, Mean Test Score: 0.8188587966641361\n",
      "2024-10-20 17:56:22,302 | grid_search_training | INFO | Params: {'classifier__max_depth': 10, 'classifier__min_samples_leaf': 1, 'classifier__min_samples_split': 5, 'classifier__n_estimators': 50, 'feature_selection__n_components': 5}, Mean Test Score: 0.8461274785034518\n",
      "INFO:grid_search_training:Params: {'classifier__max_depth': 10, 'classifier__min_samples_leaf': 1, 'classifier__min_samples_split': 5, 'classifier__n_estimators': 50, 'feature_selection__n_components': 5}, Mean Test Score: 0.8461274785034518\n",
      "2024-10-20 17:56:22,303 | grid_search_training | INFO | Params: {'classifier__max_depth': 10, 'classifier__min_samples_leaf': 1, 'classifier__min_samples_split': 5, 'classifier__n_estimators': 100, 'feature_selection__n_components': 1}, Mean Test Score: 0.32924634661675817\n",
      "INFO:grid_search_training:Params: {'classifier__max_depth': 10, 'classifier__min_samples_leaf': 1, 'classifier__min_samples_split': 5, 'classifier__n_estimators': 100, 'feature_selection__n_components': 1}, Mean Test Score: 0.32924634661675817\n",
      "2024-10-20 17:56:22,303 | grid_search_training | INFO | Params: {'classifier__max_depth': 10, 'classifier__min_samples_leaf': 1, 'classifier__min_samples_split': 5, 'classifier__n_estimators': 100, 'feature_selection__n_components': 2}, Mean Test Score: 0.5647573200087105\n",
      "INFO:grid_search_training:Params: {'classifier__max_depth': 10, 'classifier__min_samples_leaf': 1, 'classifier__min_samples_split': 5, 'classifier__n_estimators': 100, 'feature_selection__n_components': 2}, Mean Test Score: 0.5647573200087105\n",
      "2024-10-20 17:56:22,303 | grid_search_training | INFO | Params: {'classifier__max_depth': 10, 'classifier__min_samples_leaf': 1, 'classifier__min_samples_split': 5, 'classifier__n_estimators': 100, 'feature_selection__n_components': 3}, Mean Test Score: 0.7449138254733361\n",
      "INFO:grid_search_training:Params: {'classifier__max_depth': 10, 'classifier__min_samples_leaf': 1, 'classifier__min_samples_split': 5, 'classifier__n_estimators': 100, 'feature_selection__n_components': 3}, Mean Test Score: 0.7449138254733361\n",
      "2024-10-20 17:56:22,304 | grid_search_training | INFO | Params: {'classifier__max_depth': 10, 'classifier__min_samples_leaf': 1, 'classifier__min_samples_split': 5, 'classifier__n_estimators': 100, 'feature_selection__n_components': 4}, Mean Test Score: 0.8222197267981473\n",
      "INFO:grid_search_training:Params: {'classifier__max_depth': 10, 'classifier__min_samples_leaf': 1, 'classifier__min_samples_split': 5, 'classifier__n_estimators': 100, 'feature_selection__n_components': 4}, Mean Test Score: 0.8222197267981473\n",
      "2024-10-20 17:56:22,304 | grid_search_training | INFO | Params: {'classifier__max_depth': 10, 'classifier__min_samples_leaf': 1, 'classifier__min_samples_split': 5, 'classifier__n_estimators': 100, 'feature_selection__n_components': 5}, Mean Test Score: 0.8422250413451747\n",
      "INFO:grid_search_training:Params: {'classifier__max_depth': 10, 'classifier__min_samples_leaf': 1, 'classifier__min_samples_split': 5, 'classifier__n_estimators': 100, 'feature_selection__n_components': 5}, Mean Test Score: 0.8422250413451747\n",
      "2024-10-20 17:56:22,304 | grid_search_training | INFO | Params: {'classifier__max_depth': 10, 'classifier__min_samples_leaf': 1, 'classifier__min_samples_split': 5, 'classifier__n_estimators': 200, 'feature_selection__n_components': 1}, Mean Test Score: 0.3286276403528906\n",
      "INFO:grid_search_training:Params: {'classifier__max_depth': 10, 'classifier__min_samples_leaf': 1, 'classifier__min_samples_split': 5, 'classifier__n_estimators': 200, 'feature_selection__n_components': 1}, Mean Test Score: 0.3286276403528906\n",
      "2024-10-20 17:56:22,305 | grid_search_training | INFO | Params: {'classifier__max_depth': 10, 'classifier__min_samples_leaf': 1, 'classifier__min_samples_split': 5, 'classifier__n_estimators': 200, 'feature_selection__n_components': 2}, Mean Test Score: 0.5579764582634439\n",
      "INFO:grid_search_training:Params: {'classifier__max_depth': 10, 'classifier__min_samples_leaf': 1, 'classifier__min_samples_split': 5, 'classifier__n_estimators': 200, 'feature_selection__n_components': 2}, Mean Test Score: 0.5579764582634439\n",
      "2024-10-20 17:56:22,305 | grid_search_training | INFO | Params: {'classifier__max_depth': 10, 'classifier__min_samples_leaf': 1, 'classifier__min_samples_split': 5, 'classifier__n_estimators': 200, 'feature_selection__n_components': 3}, Mean Test Score: 0.7436149984403599\n",
      "INFO:grid_search_training:Params: {'classifier__max_depth': 10, 'classifier__min_samples_leaf': 1, 'classifier__min_samples_split': 5, 'classifier__n_estimators': 200, 'feature_selection__n_components': 3}, Mean Test Score: 0.7436149984403599\n",
      "2024-10-20 17:56:22,305 | grid_search_training | INFO | Params: {'classifier__max_depth': 10, 'classifier__min_samples_leaf': 1, 'classifier__min_samples_split': 5, 'classifier__n_estimators': 200, 'feature_selection__n_components': 4}, Mean Test Score: 0.8207875064004095\n",
      "INFO:grid_search_training:Params: {'classifier__max_depth': 10, 'classifier__min_samples_leaf': 1, 'classifier__min_samples_split': 5, 'classifier__n_estimators': 200, 'feature_selection__n_components': 4}, Mean Test Score: 0.8207875064004095\n",
      "2024-10-20 17:56:22,306 | grid_search_training | INFO | Params: {'classifier__max_depth': 10, 'classifier__min_samples_leaf': 1, 'classifier__min_samples_split': 5, 'classifier__n_estimators': 200, 'feature_selection__n_components': 5}, Mean Test Score: 0.8457278692962789\n",
      "INFO:grid_search_training:Params: {'classifier__max_depth': 10, 'classifier__min_samples_leaf': 1, 'classifier__min_samples_split': 5, 'classifier__n_estimators': 200, 'feature_selection__n_components': 5}, Mean Test Score: 0.8457278692962789\n",
      "2024-10-20 17:56:22,306 | grid_search_training | INFO | Params: {'classifier__max_depth': 10, 'classifier__min_samples_leaf': 1, 'classifier__min_samples_split': 10, 'classifier__n_estimators': 50, 'feature_selection__n_components': 1}, Mean Test Score: 0.3406135918216007\n",
      "INFO:grid_search_training:Params: {'classifier__max_depth': 10, 'classifier__min_samples_leaf': 1, 'classifier__min_samples_split': 10, 'classifier__n_estimators': 50, 'feature_selection__n_components': 1}, Mean Test Score: 0.3406135918216007\n",
      "2024-10-20 17:56:22,306 | grid_search_training | INFO | Params: {'classifier__max_depth': 10, 'classifier__min_samples_leaf': 1, 'classifier__min_samples_split': 10, 'classifier__n_estimators': 50, 'feature_selection__n_components': 2}, Mean Test Score: 0.5660102583117044\n",
      "INFO:grid_search_training:Params: {'classifier__max_depth': 10, 'classifier__min_samples_leaf': 1, 'classifier__min_samples_split': 10, 'classifier__n_estimators': 50, 'feature_selection__n_components': 2}, Mean Test Score: 0.5660102583117044\n",
      "2024-10-20 17:56:22,307 | grid_search_training | INFO | Params: {'classifier__max_depth': 10, 'classifier__min_samples_leaf': 1, 'classifier__min_samples_split': 10, 'classifier__n_estimators': 50, 'feature_selection__n_components': 3}, Mean Test Score: 0.7364665972185438\n",
      "INFO:grid_search_training:Params: {'classifier__max_depth': 10, 'classifier__min_samples_leaf': 1, 'classifier__min_samples_split': 10, 'classifier__n_estimators': 50, 'feature_selection__n_components': 3}, Mean Test Score: 0.7364665972185438\n",
      "2024-10-20 17:56:22,307 | grid_search_training | INFO | Params: {'classifier__max_depth': 10, 'classifier__min_samples_leaf': 1, 'classifier__min_samples_split': 10, 'classifier__n_estimators': 50, 'feature_selection__n_components': 4}, Mean Test Score: 0.8197736167758414\n",
      "INFO:grid_search_training:Params: {'classifier__max_depth': 10, 'classifier__min_samples_leaf': 1, 'classifier__min_samples_split': 10, 'classifier__n_estimators': 50, 'feature_selection__n_components': 4}, Mean Test Score: 0.8197736167758414\n",
      "2024-10-20 17:56:22,307 | grid_search_training | INFO | Params: {'classifier__max_depth': 10, 'classifier__min_samples_leaf': 1, 'classifier__min_samples_split': 10, 'classifier__n_estimators': 50, 'feature_selection__n_components': 5}, Mean Test Score: 0.8391770809423758\n",
      "INFO:grid_search_training:Params: {'classifier__max_depth': 10, 'classifier__min_samples_leaf': 1, 'classifier__min_samples_split': 10, 'classifier__n_estimators': 50, 'feature_selection__n_components': 5}, Mean Test Score: 0.8391770809423758\n",
      "2024-10-20 17:56:22,307 | grid_search_training | INFO | Params: {'classifier__max_depth': 10, 'classifier__min_samples_leaf': 1, 'classifier__min_samples_split': 10, 'classifier__n_estimators': 100, 'feature_selection__n_components': 1}, Mean Test Score: 0.3414337211834432\n",
      "INFO:grid_search_training:Params: {'classifier__max_depth': 10, 'classifier__min_samples_leaf': 1, 'classifier__min_samples_split': 10, 'classifier__n_estimators': 100, 'feature_selection__n_components': 1}, Mean Test Score: 0.3414337211834432\n",
      "2024-10-20 17:56:22,308 | grid_search_training | INFO | Params: {'classifier__max_depth': 10, 'classifier__min_samples_leaf': 1, 'classifier__min_samples_split': 10, 'classifier__n_estimators': 100, 'feature_selection__n_components': 2}, Mean Test Score: 0.5536905615292712\n",
      "INFO:grid_search_training:Params: {'classifier__max_depth': 10, 'classifier__min_samples_leaf': 1, 'classifier__min_samples_split': 10, 'classifier__n_estimators': 100, 'feature_selection__n_components': 2}, Mean Test Score: 0.5536905615292712\n",
      "2024-10-20 17:56:22,308 | grid_search_training | INFO | Params: {'classifier__max_depth': 10, 'classifier__min_samples_leaf': 1, 'classifier__min_samples_split': 10, 'classifier__n_estimators': 100, 'feature_selection__n_components': 3}, Mean Test Score: 0.7420712549511215\n",
      "INFO:grid_search_training:Params: {'classifier__max_depth': 10, 'classifier__min_samples_leaf': 1, 'classifier__min_samples_split': 10, 'classifier__n_estimators': 100, 'feature_selection__n_components': 3}, Mean Test Score: 0.7420712549511215\n",
      "2024-10-20 17:56:22,309 | grid_search_training | INFO | Params: {'classifier__max_depth': 10, 'classifier__min_samples_leaf': 1, 'classifier__min_samples_split': 10, 'classifier__n_estimators': 100, 'feature_selection__n_components': 4}, Mean Test Score: 0.8160032958431177\n",
      "INFO:grid_search_training:Params: {'classifier__max_depth': 10, 'classifier__min_samples_leaf': 1, 'classifier__min_samples_split': 10, 'classifier__n_estimators': 100, 'feature_selection__n_components': 4}, Mean Test Score: 0.8160032958431177\n",
      "2024-10-20 17:56:22,309 | grid_search_training | INFO | Params: {'classifier__max_depth': 10, 'classifier__min_samples_leaf': 1, 'classifier__min_samples_split': 10, 'classifier__n_estimators': 100, 'feature_selection__n_components': 5}, Mean Test Score: 0.8407093066370042\n",
      "INFO:grid_search_training:Params: {'classifier__max_depth': 10, 'classifier__min_samples_leaf': 1, 'classifier__min_samples_split': 10, 'classifier__n_estimators': 100, 'feature_selection__n_components': 5}, Mean Test Score: 0.8407093066370042\n",
      "2024-10-20 17:56:22,309 | grid_search_training | INFO | Params: {'classifier__max_depth': 10, 'classifier__min_samples_leaf': 1, 'classifier__min_samples_split': 10, 'classifier__n_estimators': 200, 'feature_selection__n_components': 1}, Mean Test Score: 0.3378829328295402\n",
      "INFO:grid_search_training:Params: {'classifier__max_depth': 10, 'classifier__min_samples_leaf': 1, 'classifier__min_samples_split': 10, 'classifier__n_estimators': 200, 'feature_selection__n_components': 1}, Mean Test Score: 0.3378829328295402\n",
      "2024-10-20 17:56:22,310 | grid_search_training | INFO | Params: {'classifier__max_depth': 10, 'classifier__min_samples_leaf': 1, 'classifier__min_samples_split': 10, 'classifier__n_estimators': 200, 'feature_selection__n_components': 2}, Mean Test Score: 0.5599939968571781\n",
      "INFO:grid_search_training:Params: {'classifier__max_depth': 10, 'classifier__min_samples_leaf': 1, 'classifier__min_samples_split': 10, 'classifier__n_estimators': 200, 'feature_selection__n_components': 2}, Mean Test Score: 0.5599939968571781\n",
      "2024-10-20 17:56:22,311 | grid_search_training | INFO | Params: {'classifier__max_depth': 10, 'classifier__min_samples_leaf': 1, 'classifier__min_samples_split': 10, 'classifier__n_estimators': 200, 'feature_selection__n_components': 3}, Mean Test Score: 0.7440676295236919\n",
      "INFO:grid_search_training:Params: {'classifier__max_depth': 10, 'classifier__min_samples_leaf': 1, 'classifier__min_samples_split': 10, 'classifier__n_estimators': 200, 'feature_selection__n_components': 3}, Mean Test Score: 0.7440676295236919\n",
      "2024-10-20 17:56:22,312 | grid_search_training | INFO | Params: {'classifier__max_depth': 10, 'classifier__min_samples_leaf': 1, 'classifier__min_samples_split': 10, 'classifier__n_estimators': 200, 'feature_selection__n_components': 4}, Mean Test Score: 0.8209852569874817\n",
      "INFO:grid_search_training:Params: {'classifier__max_depth': 10, 'classifier__min_samples_leaf': 1, 'classifier__min_samples_split': 10, 'classifier__n_estimators': 200, 'feature_selection__n_components': 4}, Mean Test Score: 0.8209852569874817\n",
      "2024-10-20 17:56:22,328 | grid_search_training | INFO | Params: {'classifier__max_depth': 10, 'classifier__min_samples_leaf': 1, 'classifier__min_samples_split': 10, 'classifier__n_estimators': 200, 'feature_selection__n_components': 5}, Mean Test Score: 0.8428525051350414\n",
      "INFO:grid_search_training:Params: {'classifier__max_depth': 10, 'classifier__min_samples_leaf': 1, 'classifier__min_samples_split': 10, 'classifier__n_estimators': 200, 'feature_selection__n_components': 5}, Mean Test Score: 0.8428525051350414\n",
      "2024-10-20 17:56:22,329 | grid_search_training | INFO | Params: {'classifier__max_depth': 10, 'classifier__min_samples_leaf': 2, 'classifier__min_samples_split': 2, 'classifier__n_estimators': 50, 'feature_selection__n_components': 1}, Mean Test Score: 0.33221970914184484\n",
      "INFO:grid_search_training:Params: {'classifier__max_depth': 10, 'classifier__min_samples_leaf': 2, 'classifier__min_samples_split': 2, 'classifier__n_estimators': 50, 'feature_selection__n_components': 1}, Mean Test Score: 0.33221970914184484\n",
      "2024-10-20 17:56:22,330 | grid_search_training | INFO | Params: {'classifier__max_depth': 10, 'classifier__min_samples_leaf': 2, 'classifier__min_samples_split': 2, 'classifier__n_estimators': 50, 'feature_selection__n_components': 2}, Mean Test Score: 0.5546496930746097\n",
      "INFO:grid_search_training:Params: {'classifier__max_depth': 10, 'classifier__min_samples_leaf': 2, 'classifier__min_samples_split': 2, 'classifier__n_estimators': 50, 'feature_selection__n_components': 2}, Mean Test Score: 0.5546496930746097\n",
      "2024-10-20 17:56:22,335 | grid_search_training | INFO | Params: {'classifier__max_depth': 10, 'classifier__min_samples_leaf': 2, 'classifier__min_samples_split': 2, 'classifier__n_estimators': 50, 'feature_selection__n_components': 3}, Mean Test Score: 0.7407724279181453\n",
      "INFO:grid_search_training:Params: {'classifier__max_depth': 10, 'classifier__min_samples_leaf': 2, 'classifier__min_samples_split': 2, 'classifier__n_estimators': 50, 'feature_selection__n_components': 3}, Mean Test Score: 0.7407724279181453\n",
      "2024-10-20 17:56:22,353 | grid_search_training | INFO | Params: {'classifier__max_depth': 10, 'classifier__min_samples_leaf': 2, 'classifier__min_samples_split': 2, 'classifier__n_estimators': 50, 'feature_selection__n_components': 4}, Mean Test Score: 0.8223119986345793\n",
      "INFO:grid_search_training:Params: {'classifier__max_depth': 10, 'classifier__min_samples_leaf': 2, 'classifier__min_samples_split': 2, 'classifier__n_estimators': 50, 'feature_selection__n_components': 4}, Mean Test Score: 0.8223119986345793\n",
      "2024-10-20 17:56:22,354 | grid_search_training | INFO | Params: {'classifier__max_depth': 10, 'classifier__min_samples_leaf': 2, 'classifier__min_samples_split': 2, 'classifier__n_estimators': 50, 'feature_selection__n_components': 5}, Mean Test Score: 0.8343607829981579\n",
      "INFO:grid_search_training:Params: {'classifier__max_depth': 10, 'classifier__min_samples_leaf': 2, 'classifier__min_samples_split': 2, 'classifier__n_estimators': 50, 'feature_selection__n_components': 5}, Mean Test Score: 0.8343607829981579\n",
      "2024-10-20 17:56:22,354 | grid_search_training | INFO | Params: {'classifier__max_depth': 10, 'classifier__min_samples_leaf': 2, 'classifier__min_samples_split': 2, 'classifier__n_estimators': 100, 'feature_selection__n_components': 1}, Mean Test Score: 0.3309649640105702\n",
      "INFO:grid_search_training:Params: {'classifier__max_depth': 10, 'classifier__min_samples_leaf': 2, 'classifier__min_samples_split': 2, 'classifier__n_estimators': 100, 'feature_selection__n_components': 1}, Mean Test Score: 0.3309649640105702\n",
      "2024-10-20 17:56:22,354 | grid_search_training | INFO | Params: {'classifier__max_depth': 10, 'classifier__min_samples_leaf': 2, 'classifier__min_samples_split': 2, 'classifier__n_estimators': 100, 'feature_selection__n_components': 2}, Mean Test Score: 0.5547556956288882\n",
      "INFO:grid_search_training:Params: {'classifier__max_depth': 10, 'classifier__min_samples_leaf': 2, 'classifier__min_samples_split': 2, 'classifier__n_estimators': 100, 'feature_selection__n_components': 2}, Mean Test Score: 0.5547556956288882\n",
      "2024-10-20 17:56:22,355 | grid_search_training | INFO | Params: {'classifier__max_depth': 10, 'classifier__min_samples_leaf': 2, 'classifier__min_samples_split': 2, 'classifier__n_estimators': 100, 'feature_selection__n_components': 3}, Mean Test Score: 0.7491451701184738\n",
      "INFO:grid_search_training:Params: {'classifier__max_depth': 10, 'classifier__min_samples_leaf': 2, 'classifier__min_samples_split': 2, 'classifier__n_estimators': 100, 'feature_selection__n_components': 3}, Mean Test Score: 0.7491451701184738\n",
      "2024-10-20 17:56:22,355 | grid_search_training | INFO | Params: {'classifier__max_depth': 10, 'classifier__min_samples_leaf': 2, 'classifier__min_samples_split': 2, 'classifier__n_estimators': 100, 'feature_selection__n_components': 4}, Mean Test Score: 0.8249885646014679\n",
      "INFO:grid_search_training:Params: {'classifier__max_depth': 10, 'classifier__min_samples_leaf': 2, 'classifier__min_samples_split': 2, 'classifier__n_estimators': 100, 'feature_selection__n_components': 4}, Mean Test Score: 0.8249885646014679\n",
      "2024-10-20 17:56:22,356 | grid_search_training | INFO | Params: {'classifier__max_depth': 10, 'classifier__min_samples_leaf': 2, 'classifier__min_samples_split': 2, 'classifier__n_estimators': 100, 'feature_selection__n_components': 5}, Mean Test Score: 0.847106997192648\n",
      "INFO:grid_search_training:Params: {'classifier__max_depth': 10, 'classifier__min_samples_leaf': 2, 'classifier__min_samples_split': 2, 'classifier__n_estimators': 100, 'feature_selection__n_components': 5}, Mean Test Score: 0.847106997192648\n",
      "2024-10-20 17:56:22,356 | grid_search_training | INFO | Params: {'classifier__max_depth': 10, 'classifier__min_samples_leaf': 2, 'classifier__min_samples_split': 2, 'classifier__n_estimators': 200, 'feature_selection__n_components': 1}, Mean Test Score: 0.3316711101694417\n",
      "INFO:grid_search_training:Params: {'classifier__max_depth': 10, 'classifier__min_samples_leaf': 2, 'classifier__min_samples_split': 2, 'classifier__n_estimators': 200, 'feature_selection__n_components': 1}, Mean Test Score: 0.3316711101694417\n",
      "2024-10-20 17:56:22,357 | grid_search_training | INFO | Params: {'classifier__max_depth': 10, 'classifier__min_samples_leaf': 2, 'classifier__min_samples_split': 2, 'classifier__n_estimators': 200, 'feature_selection__n_components': 2}, Mean Test Score: 0.5614641900759809\n",
      "INFO:grid_search_training:Params: {'classifier__max_depth': 10, 'classifier__min_samples_leaf': 2, 'classifier__min_samples_split': 2, 'classifier__n_estimators': 200, 'feature_selection__n_components': 2}, Mean Test Score: 0.5614641900759809\n",
      "2024-10-20 17:56:22,357 | grid_search_training | INFO | Params: {'classifier__max_depth': 10, 'classifier__min_samples_leaf': 2, 'classifier__min_samples_split': 2, 'classifier__n_estimators': 200, 'feature_selection__n_components': 3}, Mean Test Score: 0.7441449876700156\n",
      "INFO:grid_search_training:Params: {'classifier__max_depth': 10, 'classifier__min_samples_leaf': 2, 'classifier__min_samples_split': 2, 'classifier__n_estimators': 200, 'feature_selection__n_components': 3}, Mean Test Score: 0.7441449876700156\n",
      "2024-10-20 17:56:22,358 | grid_search_training | INFO | Params: {'classifier__max_depth': 10, 'classifier__min_samples_leaf': 2, 'classifier__min_samples_split': 2, 'classifier__n_estimators': 200, 'feature_selection__n_components': 4}, Mean Test Score: 0.8236763952892986\n",
      "INFO:grid_search_training:Params: {'classifier__max_depth': 10, 'classifier__min_samples_leaf': 2, 'classifier__min_samples_split': 2, 'classifier__n_estimators': 200, 'feature_selection__n_components': 4}, Mean Test Score: 0.8236763952892986\n",
      "2024-10-20 17:56:22,358 | grid_search_training | INFO | Params: {'classifier__max_depth': 10, 'classifier__min_samples_leaf': 2, 'classifier__min_samples_split': 2, 'classifier__n_estimators': 200, 'feature_selection__n_components': 5}, Mean Test Score: 0.8436293235870543\n",
      "INFO:grid_search_training:Params: {'classifier__max_depth': 10, 'classifier__min_samples_leaf': 2, 'classifier__min_samples_split': 2, 'classifier__n_estimators': 200, 'feature_selection__n_components': 5}, Mean Test Score: 0.8436293235870543\n",
      "2024-10-20 17:56:22,359 | grid_search_training | INFO | Params: {'classifier__max_depth': 10, 'classifier__min_samples_leaf': 2, 'classifier__min_samples_split': 5, 'classifier__n_estimators': 50, 'feature_selection__n_components': 1}, Mean Test Score: 0.3282375655490227\n",
      "INFO:grid_search_training:Params: {'classifier__max_depth': 10, 'classifier__min_samples_leaf': 2, 'classifier__min_samples_split': 5, 'classifier__n_estimators': 50, 'feature_selection__n_components': 1}, Mean Test Score: 0.3282375655490227\n",
      "2024-10-20 17:56:22,369 | grid_search_training | INFO | Params: {'classifier__max_depth': 10, 'classifier__min_samples_leaf': 2, 'classifier__min_samples_split': 5, 'classifier__n_estimators': 50, 'feature_selection__n_components': 2}, Mean Test Score: 0.5528335069536404\n",
      "INFO:grid_search_training:Params: {'classifier__max_depth': 10, 'classifier__min_samples_leaf': 2, 'classifier__min_samples_split': 5, 'classifier__n_estimators': 50, 'feature_selection__n_components': 2}, Mean Test Score: 0.5528335069536404\n",
      "2024-10-20 17:56:22,370 | grid_search_training | INFO | Params: {'classifier__max_depth': 10, 'classifier__min_samples_leaf': 2, 'classifier__min_samples_split': 5, 'classifier__n_estimators': 50, 'feature_selection__n_components': 3}, Mean Test Score: 0.7378719976929099\n",
      "INFO:grid_search_training:Params: {'classifier__max_depth': 10, 'classifier__min_samples_leaf': 2, 'classifier__min_samples_split': 5, 'classifier__n_estimators': 50, 'feature_selection__n_components': 3}, Mean Test Score: 0.7378719976929099\n",
      "2024-10-20 17:56:22,371 | grid_search_training | INFO | Params: {'classifier__max_depth': 10, 'classifier__min_samples_leaf': 2, 'classifier__min_samples_split': 5, 'classifier__n_estimators': 50, 'feature_selection__n_components': 4}, Mean Test Score: 0.8222689878818912\n",
      "INFO:grid_search_training:Params: {'classifier__max_depth': 10, 'classifier__min_samples_leaf': 2, 'classifier__min_samples_split': 5, 'classifier__n_estimators': 50, 'feature_selection__n_components': 4}, Mean Test Score: 0.8222689878818912\n",
      "2024-10-20 17:56:22,372 | grid_search_training | INFO | Params: {'classifier__max_depth': 10, 'classifier__min_samples_leaf': 2, 'classifier__min_samples_split': 5, 'classifier__n_estimators': 50, 'feature_selection__n_components': 5}, Mean Test Score: 0.8453197791785112\n",
      "INFO:grid_search_training:Params: {'classifier__max_depth': 10, 'classifier__min_samples_leaf': 2, 'classifier__min_samples_split': 5, 'classifier__n_estimators': 50, 'feature_selection__n_components': 5}, Mean Test Score: 0.8453197791785112\n",
      "2024-10-20 17:56:22,372 | grid_search_training | INFO | Params: {'classifier__max_depth': 10, 'classifier__min_samples_leaf': 2, 'classifier__min_samples_split': 5, 'classifier__n_estimators': 100, 'feature_selection__n_components': 1}, Mean Test Score: 0.3350208403222864\n",
      "INFO:grid_search_training:Params: {'classifier__max_depth': 10, 'classifier__min_samples_leaf': 2, 'classifier__min_samples_split': 5, 'classifier__n_estimators': 100, 'feature_selection__n_components': 1}, Mean Test Score: 0.3350208403222864\n",
      "2024-10-20 17:56:22,373 | grid_search_training | INFO | Params: {'classifier__max_depth': 10, 'classifier__min_samples_leaf': 2, 'classifier__min_samples_split': 5, 'classifier__n_estimators': 100, 'feature_selection__n_components': 2}, Mean Test Score: 0.5599630277027385\n",
      "INFO:grid_search_training:Params: {'classifier__max_depth': 10, 'classifier__min_samples_leaf': 2, 'classifier__min_samples_split': 5, 'classifier__n_estimators': 100, 'feature_selection__n_components': 2}, Mean Test Score: 0.5599630277027385\n",
      "2024-10-20 17:56:22,373 | grid_search_training | INFO | Params: {'classifier__max_depth': 10, 'classifier__min_samples_leaf': 2, 'classifier__min_samples_split': 5, 'classifier__n_estimators': 100, 'feature_selection__n_components': 3}, Mean Test Score: 0.7436430248777303\n",
      "INFO:grid_search_training:Params: {'classifier__max_depth': 10, 'classifier__min_samples_leaf': 2, 'classifier__min_samples_split': 5, 'classifier__n_estimators': 100, 'feature_selection__n_components': 3}, Mean Test Score: 0.7436430248777303\n",
      "2024-10-20 17:56:22,374 | grid_search_training | INFO | Params: {'classifier__max_depth': 10, 'classifier__min_samples_leaf': 2, 'classifier__min_samples_split': 5, 'classifier__n_estimators': 100, 'feature_selection__n_components': 4}, Mean Test Score: 0.8171370541047962\n",
      "INFO:grid_search_training:Params: {'classifier__max_depth': 10, 'classifier__min_samples_leaf': 2, 'classifier__min_samples_split': 5, 'classifier__n_estimators': 100, 'feature_selection__n_components': 4}, Mean Test Score: 0.8171370541047962\n",
      "2024-10-20 17:56:22,375 | grid_search_training | INFO | Params: {'classifier__max_depth': 10, 'classifier__min_samples_leaf': 2, 'classifier__min_samples_split': 5, 'classifier__n_estimators': 100, 'feature_selection__n_components': 5}, Mean Test Score: 0.8407027149507682\n",
      "INFO:grid_search_training:Params: {'classifier__max_depth': 10, 'classifier__min_samples_leaf': 2, 'classifier__min_samples_split': 5, 'classifier__n_estimators': 100, 'feature_selection__n_components': 5}, Mean Test Score: 0.8407027149507682\n",
      "2024-10-20 17:56:22,376 | grid_search_training | INFO | Params: {'classifier__max_depth': 10, 'classifier__min_samples_leaf': 2, 'classifier__min_samples_split': 5, 'classifier__n_estimators': 200, 'feature_selection__n_components': 1}, Mean Test Score: 0.3341383842129114\n",
      "INFO:grid_search_training:Params: {'classifier__max_depth': 10, 'classifier__min_samples_leaf': 2, 'classifier__min_samples_split': 5, 'classifier__n_estimators': 200, 'feature_selection__n_components': 1}, Mean Test Score: 0.3341383842129114\n",
      "2024-10-20 17:56:22,377 | grid_search_training | INFO | Params: {'classifier__max_depth': 10, 'classifier__min_samples_leaf': 2, 'classifier__min_samples_split': 5, 'classifier__n_estimators': 200, 'feature_selection__n_components': 2}, Mean Test Score: 0.5556210957501281\n",
      "INFO:grid_search_training:Params: {'classifier__max_depth': 10, 'classifier__min_samples_leaf': 2, 'classifier__min_samples_split': 5, 'classifier__n_estimators': 200, 'feature_selection__n_components': 2}, Mean Test Score: 0.5556210957501281\n",
      "2024-10-20 17:56:22,377 | grid_search_training | INFO | Params: {'classifier__max_depth': 10, 'classifier__min_samples_leaf': 2, 'classifier__min_samples_split': 5, 'classifier__n_estimators': 200, 'feature_selection__n_components': 3}, Mean Test Score: 0.7491836667431773\n",
      "INFO:grid_search_training:Params: {'classifier__max_depth': 10, 'classifier__min_samples_leaf': 2, 'classifier__min_samples_split': 5, 'classifier__n_estimators': 200, 'feature_selection__n_components': 3}, Mean Test Score: 0.7491836667431773\n",
      "2024-10-20 17:56:22,378 | grid_search_training | INFO | Params: {'classifier__max_depth': 10, 'classifier__min_samples_leaf': 2, 'classifier__min_samples_split': 5, 'classifier__n_estimators': 200, 'feature_selection__n_components': 4}, Mean Test Score: 0.8243381123058542\n",
      "INFO:grid_search_training:Params: {'classifier__max_depth': 10, 'classifier__min_samples_leaf': 2, 'classifier__min_samples_split': 5, 'classifier__n_estimators': 200, 'feature_selection__n_components': 4}, Mean Test Score: 0.8243381123058542\n",
      "2024-10-20 17:56:22,378 | grid_search_training | INFO | Params: {'classifier__max_depth': 10, 'classifier__min_samples_leaf': 2, 'classifier__min_samples_split': 5, 'classifier__n_estimators': 200, 'feature_selection__n_components': 5}, Mean Test Score: 0.8401547751469888\n",
      "INFO:grid_search_training:Params: {'classifier__max_depth': 10, 'classifier__min_samples_leaf': 2, 'classifier__min_samples_split': 5, 'classifier__n_estimators': 200, 'feature_selection__n_components': 5}, Mean Test Score: 0.8401547751469888\n",
      "2024-10-20 17:56:22,378 | grid_search_training | INFO | Params: {'classifier__max_depth': 10, 'classifier__min_samples_leaf': 2, 'classifier__min_samples_split': 10, 'classifier__n_estimators': 50, 'feature_selection__n_components': 1}, Mean Test Score: 0.342633072608601\n",
      "INFO:grid_search_training:Params: {'classifier__max_depth': 10, 'classifier__min_samples_leaf': 2, 'classifier__min_samples_split': 10, 'classifier__n_estimators': 50, 'feature_selection__n_components': 1}, Mean Test Score: 0.342633072608601\n",
      "2024-10-20 17:56:22,379 | grid_search_training | INFO | Params: {'classifier__max_depth': 10, 'classifier__min_samples_leaf': 2, 'classifier__min_samples_split': 10, 'classifier__n_estimators': 50, 'feature_selection__n_components': 2}, Mean Test Score: 0.5522517729870344\n",
      "INFO:grid_search_training:Params: {'classifier__max_depth': 10, 'classifier__min_samples_leaf': 2, 'classifier__min_samples_split': 10, 'classifier__n_estimators': 50, 'feature_selection__n_components': 2}, Mean Test Score: 0.5522517729870344\n",
      "2024-10-20 17:56:22,379 | grid_search_training | INFO | Params: {'classifier__max_depth': 10, 'classifier__min_samples_leaf': 2, 'classifier__min_samples_split': 10, 'classifier__n_estimators': 50, 'feature_selection__n_components': 3}, Mean Test Score: 0.738078346899259\n",
      "INFO:grid_search_training:Params: {'classifier__max_depth': 10, 'classifier__min_samples_leaf': 2, 'classifier__min_samples_split': 10, 'classifier__n_estimators': 50, 'feature_selection__n_components': 3}, Mean Test Score: 0.738078346899259\n",
      "2024-10-20 17:56:22,380 | grid_search_training | INFO | Params: {'classifier__max_depth': 10, 'classifier__min_samples_leaf': 2, 'classifier__min_samples_split': 10, 'classifier__n_estimators': 50, 'feature_selection__n_components': 4}, Mean Test Score: 0.820117714568215\n",
      "INFO:grid_search_training:Params: {'classifier__max_depth': 10, 'classifier__min_samples_leaf': 2, 'classifier__min_samples_split': 10, 'classifier__n_estimators': 50, 'feature_selection__n_components': 4}, Mean Test Score: 0.820117714568215\n",
      "2024-10-20 17:56:22,380 | grid_search_training | INFO | Params: {'classifier__max_depth': 10, 'classifier__min_samples_leaf': 2, 'classifier__min_samples_split': 10, 'classifier__n_estimators': 50, 'feature_selection__n_components': 5}, Mean Test Score: 0.8412903578932502\n",
      "INFO:grid_search_training:Params: {'classifier__max_depth': 10, 'classifier__min_samples_leaf': 2, 'classifier__min_samples_split': 10, 'classifier__n_estimators': 50, 'feature_selection__n_components': 5}, Mean Test Score: 0.8412903578932502\n",
      "2024-10-20 17:56:22,380 | grid_search_training | INFO | Params: {'classifier__max_depth': 10, 'classifier__min_samples_leaf': 2, 'classifier__min_samples_split': 10, 'classifier__n_estimators': 100, 'feature_selection__n_components': 1}, Mean Test Score: 0.34769309815138516\n",
      "INFO:grid_search_training:Params: {'classifier__max_depth': 10, 'classifier__min_samples_leaf': 2, 'classifier__min_samples_split': 10, 'classifier__n_estimators': 100, 'feature_selection__n_components': 1}, Mean Test Score: 0.34769309815138516\n",
      "2024-10-20 17:56:22,381 | grid_search_training | INFO | Params: {'classifier__max_depth': 10, 'classifier__min_samples_leaf': 2, 'classifier__min_samples_split': 10, 'classifier__n_estimators': 100, 'feature_selection__n_components': 2}, Mean Test Score: 0.566861380369723\n",
      "INFO:grid_search_training:Params: {'classifier__max_depth': 10, 'classifier__min_samples_leaf': 2, 'classifier__min_samples_split': 10, 'classifier__n_estimators': 100, 'feature_selection__n_components': 2}, Mean Test Score: 0.566861380369723\n",
      "2024-10-20 17:56:22,381 | grid_search_training | INFO | Params: {'classifier__max_depth': 10, 'classifier__min_samples_leaf': 2, 'classifier__min_samples_split': 10, 'classifier__n_estimators': 100, 'feature_selection__n_components': 3}, Mean Test Score: 0.7456678378680603\n",
      "INFO:grid_search_training:Params: {'classifier__max_depth': 10, 'classifier__min_samples_leaf': 2, 'classifier__min_samples_split': 10, 'classifier__n_estimators': 100, 'feature_selection__n_components': 3}, Mean Test Score: 0.7456678378680603\n",
      "2024-10-20 17:56:22,382 | grid_search_training | INFO | Params: {'classifier__max_depth': 10, 'classifier__min_samples_leaf': 2, 'classifier__min_samples_split': 10, 'classifier__n_estimators': 100, 'feature_selection__n_components': 4}, Mean Test Score: 0.8109925313840776\n",
      "INFO:grid_search_training:Params: {'classifier__max_depth': 10, 'classifier__min_samples_leaf': 2, 'classifier__min_samples_split': 10, 'classifier__n_estimators': 100, 'feature_selection__n_components': 4}, Mean Test Score: 0.8109925313840776\n",
      "2024-10-20 17:56:22,383 | grid_search_training | INFO | Params: {'classifier__max_depth': 10, 'classifier__min_samples_leaf': 2, 'classifier__min_samples_split': 10, 'classifier__n_estimators': 100, 'feature_selection__n_components': 5}, Mean Test Score: 0.841417000665054\n",
      "INFO:grid_search_training:Params: {'classifier__max_depth': 10, 'classifier__min_samples_leaf': 2, 'classifier__min_samples_split': 10, 'classifier__n_estimators': 100, 'feature_selection__n_components': 5}, Mean Test Score: 0.841417000665054\n",
      "2024-10-20 17:56:22,384 | grid_search_training | INFO | Params: {'classifier__max_depth': 10, 'classifier__min_samples_leaf': 2, 'classifier__min_samples_split': 10, 'classifier__n_estimators': 200, 'feature_selection__n_components': 1}, Mean Test Score: 0.34047363619777415\n",
      "INFO:grid_search_training:Params: {'classifier__max_depth': 10, 'classifier__min_samples_leaf': 2, 'classifier__min_samples_split': 10, 'classifier__n_estimators': 200, 'feature_selection__n_components': 1}, Mean Test Score: 0.34047363619777415\n",
      "2024-10-20 17:56:22,385 | grid_search_training | INFO | Params: {'classifier__max_depth': 10, 'classifier__min_samples_leaf': 2, 'classifier__min_samples_split': 10, 'classifier__n_estimators': 200, 'feature_selection__n_components': 2}, Mean Test Score: 0.5654592639676066\n",
      "INFO:grid_search_training:Params: {'classifier__max_depth': 10, 'classifier__min_samples_leaf': 2, 'classifier__min_samples_split': 10, 'classifier__n_estimators': 200, 'feature_selection__n_components': 2}, Mean Test Score: 0.5654592639676066\n",
      "2024-10-20 17:56:22,386 | grid_search_training | INFO | Params: {'classifier__max_depth': 10, 'classifier__min_samples_leaf': 2, 'classifier__min_samples_split': 10, 'classifier__n_estimators': 200, 'feature_selection__n_components': 3}, Mean Test Score: 0.7400303864964599\n",
      "INFO:grid_search_training:Params: {'classifier__max_depth': 10, 'classifier__min_samples_leaf': 2, 'classifier__min_samples_split': 10, 'classifier__n_estimators': 200, 'feature_selection__n_components': 3}, Mean Test Score: 0.7400303864964599\n",
      "2024-10-20 17:56:22,387 | grid_search_training | INFO | Params: {'classifier__max_depth': 10, 'classifier__min_samples_leaf': 2, 'classifier__min_samples_split': 10, 'classifier__n_estimators': 200, 'feature_selection__n_components': 4}, Mean Test Score: 0.8216765541960204\n",
      "INFO:grid_search_training:Params: {'classifier__max_depth': 10, 'classifier__min_samples_leaf': 2, 'classifier__min_samples_split': 10, 'classifier__n_estimators': 200, 'feature_selection__n_components': 4}, Mean Test Score: 0.8216765541960204\n",
      "2024-10-20 17:56:22,388 | grid_search_training | INFO | Params: {'classifier__max_depth': 10, 'classifier__min_samples_leaf': 2, 'classifier__min_samples_split': 10, 'classifier__n_estimators': 200, 'feature_selection__n_components': 5}, Mean Test Score: 0.8379375025748773\n",
      "INFO:grid_search_training:Params: {'classifier__max_depth': 10, 'classifier__min_samples_leaf': 2, 'classifier__min_samples_split': 10, 'classifier__n_estimators': 200, 'feature_selection__n_components': 5}, Mean Test Score: 0.8379375025748773\n",
      "2024-10-20 17:56:22,389 | grid_search_training | INFO | Params: {'classifier__max_depth': 10, 'classifier__min_samples_leaf': 4, 'classifier__min_samples_split': 2, 'classifier__n_estimators': 50, 'feature_selection__n_components': 1}, Mean Test Score: 0.3363444332621196\n",
      "INFO:grid_search_training:Params: {'classifier__max_depth': 10, 'classifier__min_samples_leaf': 4, 'classifier__min_samples_split': 2, 'classifier__n_estimators': 50, 'feature_selection__n_components': 1}, Mean Test Score: 0.3363444332621196\n",
      "2024-10-20 17:56:22,390 | grid_search_training | INFO | Params: {'classifier__max_depth': 10, 'classifier__min_samples_leaf': 4, 'classifier__min_samples_split': 2, 'classifier__n_estimators': 50, 'feature_selection__n_components': 2}, Mean Test Score: 0.5638853929410104\n",
      "INFO:grid_search_training:Params: {'classifier__max_depth': 10, 'classifier__min_samples_leaf': 4, 'classifier__min_samples_split': 2, 'classifier__n_estimators': 50, 'feature_selection__n_components': 2}, Mean Test Score: 0.5638853929410104\n",
      "2024-10-20 17:56:22,390 | grid_search_training | INFO | Params: {'classifier__max_depth': 10, 'classifier__min_samples_leaf': 4, 'classifier__min_samples_split': 2, 'classifier__n_estimators': 50, 'feature_selection__n_components': 3}, Mean Test Score: 0.7387385160466362\n",
      "INFO:grid_search_training:Params: {'classifier__max_depth': 10, 'classifier__min_samples_leaf': 4, 'classifier__min_samples_split': 2, 'classifier__n_estimators': 50, 'feature_selection__n_components': 3}, Mean Test Score: 0.7387385160466362\n",
      "2024-10-20 17:56:22,390 | grid_search_training | INFO | Params: {'classifier__max_depth': 10, 'classifier__min_samples_leaf': 4, 'classifier__min_samples_split': 2, 'classifier__n_estimators': 50, 'feature_selection__n_components': 4}, Mean Test Score: 0.8130632978441655\n",
      "INFO:grid_search_training:Params: {'classifier__max_depth': 10, 'classifier__min_samples_leaf': 4, 'classifier__min_samples_split': 2, 'classifier__n_estimators': 50, 'feature_selection__n_components': 4}, Mean Test Score: 0.8130632978441655\n",
      "2024-10-20 17:56:22,391 | grid_search_training | INFO | Params: {'classifier__max_depth': 10, 'classifier__min_samples_leaf': 4, 'classifier__min_samples_split': 2, 'classifier__n_estimators': 50, 'feature_selection__n_components': 5}, Mean Test Score: 0.8365319196520531\n",
      "INFO:grid_search_training:Params: {'classifier__max_depth': 10, 'classifier__min_samples_leaf': 4, 'classifier__min_samples_split': 2, 'classifier__n_estimators': 50, 'feature_selection__n_components': 5}, Mean Test Score: 0.8365319196520531\n",
      "2024-10-20 17:56:22,391 | grid_search_training | INFO | Params: {'classifier__max_depth': 10, 'classifier__min_samples_leaf': 4, 'classifier__min_samples_split': 2, 'classifier__n_estimators': 100, 'feature_selection__n_components': 1}, Mean Test Score: 0.3324921753153121\n",
      "INFO:grid_search_training:Params: {'classifier__max_depth': 10, 'classifier__min_samples_leaf': 4, 'classifier__min_samples_split': 2, 'classifier__n_estimators': 100, 'feature_selection__n_components': 1}, Mean Test Score: 0.3324921753153121\n",
      "2024-10-20 17:56:22,392 | grid_search_training | INFO | Params: {'classifier__max_depth': 10, 'classifier__min_samples_leaf': 4, 'classifier__min_samples_split': 2, 'classifier__n_estimators': 100, 'feature_selection__n_components': 2}, Mean Test Score: 0.5575897146152986\n",
      "INFO:grid_search_training:Params: {'classifier__max_depth': 10, 'classifier__min_samples_leaf': 4, 'classifier__min_samples_split': 2, 'classifier__n_estimators': 100, 'feature_selection__n_components': 2}, Mean Test Score: 0.5575897146152986\n",
      "2024-10-20 17:56:22,392 | grid_search_training | INFO | Params: {'classifier__max_depth': 10, 'classifier__min_samples_leaf': 4, 'classifier__min_samples_split': 2, 'classifier__n_estimators': 100, 'feature_selection__n_components': 3}, Mean Test Score: 0.7385439553648675\n",
      "INFO:grid_search_training:Params: {'classifier__max_depth': 10, 'classifier__min_samples_leaf': 4, 'classifier__min_samples_split': 2, 'classifier__n_estimators': 100, 'feature_selection__n_components': 3}, Mean Test Score: 0.7385439553648675\n",
      "2024-10-20 17:56:22,392 | grid_search_training | INFO | Params: {'classifier__max_depth': 10, 'classifier__min_samples_leaf': 4, 'classifier__min_samples_split': 2, 'classifier__n_estimators': 100, 'feature_selection__n_components': 4}, Mean Test Score: 0.813182048248789\n",
      "INFO:grid_search_training:Params: {'classifier__max_depth': 10, 'classifier__min_samples_leaf': 4, 'classifier__min_samples_split': 2, 'classifier__n_estimators': 100, 'feature_selection__n_components': 4}, Mean Test Score: 0.813182048248789\n",
      "2024-10-20 17:56:22,393 | grid_search_training | INFO | Params: {'classifier__max_depth': 10, 'classifier__min_samples_leaf': 4, 'classifier__min_samples_split': 2, 'classifier__n_estimators': 100, 'feature_selection__n_components': 5}, Mean Test Score: 0.8394122099216649\n",
      "INFO:grid_search_training:Params: {'classifier__max_depth': 10, 'classifier__min_samples_leaf': 4, 'classifier__min_samples_split': 2, 'classifier__n_estimators': 100, 'feature_selection__n_components': 5}, Mean Test Score: 0.8394122099216649\n",
      "2024-10-20 17:56:22,393 | grid_search_training | INFO | Params: {'classifier__max_depth': 10, 'classifier__min_samples_leaf': 4, 'classifier__min_samples_split': 2, 'classifier__n_estimators': 200, 'feature_selection__n_components': 1}, Mean Test Score: 0.3361135476808447\n",
      "INFO:grid_search_training:Params: {'classifier__max_depth': 10, 'classifier__min_samples_leaf': 4, 'classifier__min_samples_split': 2, 'classifier__n_estimators': 200, 'feature_selection__n_components': 1}, Mean Test Score: 0.3361135476808447\n",
      "2024-10-20 17:56:22,394 | grid_search_training | INFO | Params: {'classifier__max_depth': 10, 'classifier__min_samples_leaf': 4, 'classifier__min_samples_split': 2, 'classifier__n_estimators': 200, 'feature_selection__n_components': 2}, Mean Test Score: 0.5570217525645779\n",
      "INFO:grid_search_training:Params: {'classifier__max_depth': 10, 'classifier__min_samples_leaf': 4, 'classifier__min_samples_split': 2, 'classifier__n_estimators': 200, 'feature_selection__n_components': 2}, Mean Test Score: 0.5570217525645779\n",
      "2024-10-20 17:56:22,394 | grid_search_training | INFO | Params: {'classifier__max_depth': 10, 'classifier__min_samples_leaf': 4, 'classifier__min_samples_split': 2, 'classifier__n_estimators': 200, 'feature_selection__n_components': 3}, Mean Test Score: 0.7379068688901838\n",
      "INFO:grid_search_training:Params: {'classifier__max_depth': 10, 'classifier__min_samples_leaf': 4, 'classifier__min_samples_split': 2, 'classifier__n_estimators': 200, 'feature_selection__n_components': 3}, Mean Test Score: 0.7379068688901838\n",
      "2024-10-20 17:56:22,394 | grid_search_training | INFO | Params: {'classifier__max_depth': 10, 'classifier__min_samples_leaf': 4, 'classifier__min_samples_split': 2, 'classifier__n_estimators': 200, 'feature_selection__n_components': 4}, Mean Test Score: 0.8174136459675948\n",
      "INFO:grid_search_training:Params: {'classifier__max_depth': 10, 'classifier__min_samples_leaf': 4, 'classifier__min_samples_split': 2, 'classifier__n_estimators': 200, 'feature_selection__n_components': 4}, Mean Test Score: 0.8174136459675948\n",
      "2024-10-20 17:56:22,395 | grid_search_training | INFO | Params: {'classifier__max_depth': 10, 'classifier__min_samples_leaf': 4, 'classifier__min_samples_split': 2, 'classifier__n_estimators': 200, 'feature_selection__n_components': 5}, Mean Test Score: 0.8351788818852223\n",
      "INFO:grid_search_training:Params: {'classifier__max_depth': 10, 'classifier__min_samples_leaf': 4, 'classifier__min_samples_split': 2, 'classifier__n_estimators': 200, 'feature_selection__n_components': 5}, Mean Test Score: 0.8351788818852223\n",
      "2024-10-20 17:56:22,395 | grid_search_training | INFO | Params: {'classifier__max_depth': 10, 'classifier__min_samples_leaf': 4, 'classifier__min_samples_split': 5, 'classifier__n_estimators': 50, 'feature_selection__n_components': 1}, Mean Test Score: 0.34147135264932815\n",
      "INFO:grid_search_training:Params: {'classifier__max_depth': 10, 'classifier__min_samples_leaf': 4, 'classifier__min_samples_split': 5, 'classifier__n_estimators': 50, 'feature_selection__n_components': 1}, Mean Test Score: 0.34147135264932815\n",
      "2024-10-20 17:56:22,398 | grid_search_training | INFO | Params: {'classifier__max_depth': 10, 'classifier__min_samples_leaf': 4, 'classifier__min_samples_split': 5, 'classifier__n_estimators': 50, 'feature_selection__n_components': 2}, Mean Test Score: 0.5680653754024165\n",
      "INFO:grid_search_training:Params: {'classifier__max_depth': 10, 'classifier__min_samples_leaf': 4, 'classifier__min_samples_split': 5, 'classifier__n_estimators': 50, 'feature_selection__n_components': 2}, Mean Test Score: 0.5680653754024165\n",
      "2024-10-20 17:56:22,399 | grid_search_training | INFO | Params: {'classifier__max_depth': 10, 'classifier__min_samples_leaf': 4, 'classifier__min_samples_split': 5, 'classifier__n_estimators': 50, 'feature_selection__n_components': 3}, Mean Test Score: 0.7359434704050944\n",
      "INFO:grid_search_training:Params: {'classifier__max_depth': 10, 'classifier__min_samples_leaf': 4, 'classifier__min_samples_split': 5, 'classifier__n_estimators': 50, 'feature_selection__n_components': 3}, Mean Test Score: 0.7359434704050944\n",
      "2024-10-20 17:56:22,400 | grid_search_training | INFO | Params: {'classifier__max_depth': 10, 'classifier__min_samples_leaf': 4, 'classifier__min_samples_split': 5, 'classifier__n_estimators': 50, 'feature_selection__n_components': 4}, Mean Test Score: 0.8143749668944331\n",
      "INFO:grid_search_training:Params: {'classifier__max_depth': 10, 'classifier__min_samples_leaf': 4, 'classifier__min_samples_split': 5, 'classifier__n_estimators': 50, 'feature_selection__n_components': 4}, Mean Test Score: 0.8143749668944331\n",
      "2024-10-20 17:56:22,401 | grid_search_training | INFO | Params: {'classifier__max_depth': 10, 'classifier__min_samples_leaf': 4, 'classifier__min_samples_split': 5, 'classifier__n_estimators': 50, 'feature_selection__n_components': 5}, Mean Test Score: 0.8352449046853941\n",
      "INFO:grid_search_training:Params: {'classifier__max_depth': 10, 'classifier__min_samples_leaf': 4, 'classifier__min_samples_split': 5, 'classifier__n_estimators': 50, 'feature_selection__n_components': 5}, Mean Test Score: 0.8352449046853941\n",
      "2024-10-20 17:56:22,401 | grid_search_training | INFO | Params: {'classifier__max_depth': 10, 'classifier__min_samples_leaf': 4, 'classifier__min_samples_split': 5, 'classifier__n_estimators': 100, 'feature_selection__n_components': 1}, Mean Test Score: 0.33840797829451885\n",
      "INFO:grid_search_training:Params: {'classifier__max_depth': 10, 'classifier__min_samples_leaf': 4, 'classifier__min_samples_split': 5, 'classifier__n_estimators': 100, 'feature_selection__n_components': 1}, Mean Test Score: 0.33840797829451885\n",
      "2024-10-20 17:56:22,402 | grid_search_training | INFO | Params: {'classifier__max_depth': 10, 'classifier__min_samples_leaf': 4, 'classifier__min_samples_split': 5, 'classifier__n_estimators': 100, 'feature_selection__n_components': 2}, Mean Test Score: 0.5615321962674577\n",
      "INFO:grid_search_training:Params: {'classifier__max_depth': 10, 'classifier__min_samples_leaf': 4, 'classifier__min_samples_split': 5, 'classifier__n_estimators': 100, 'feature_selection__n_components': 2}, Mean Test Score: 0.5615321962674577\n",
      "2024-10-20 17:56:22,402 | grid_search_training | INFO | Params: {'classifier__max_depth': 10, 'classifier__min_samples_leaf': 4, 'classifier__min_samples_split': 5, 'classifier__n_estimators': 100, 'feature_selection__n_components': 3}, Mean Test Score: 0.7414209615622296\n",
      "INFO:grid_search_training:Params: {'classifier__max_depth': 10, 'classifier__min_samples_leaf': 4, 'classifier__min_samples_split': 5, 'classifier__n_estimators': 100, 'feature_selection__n_components': 3}, Mean Test Score: 0.7414209615622296\n",
      "2024-10-20 17:56:22,402 | grid_search_training | INFO | Params: {'classifier__max_depth': 10, 'classifier__min_samples_leaf': 4, 'classifier__min_samples_split': 5, 'classifier__n_estimators': 100, 'feature_selection__n_components': 4}, Mean Test Score: 0.8112509902242939\n",
      "INFO:grid_search_training:Params: {'classifier__max_depth': 10, 'classifier__min_samples_leaf': 4, 'classifier__min_samples_split': 5, 'classifier__n_estimators': 100, 'feature_selection__n_components': 4}, Mean Test Score: 0.8112509902242939\n",
      "2024-10-20 17:56:22,403 | grid_search_training | INFO | Params: {'classifier__max_depth': 10, 'classifier__min_samples_leaf': 4, 'classifier__min_samples_split': 5, 'classifier__n_estimators': 100, 'feature_selection__n_components': 5}, Mean Test Score: 0.8345552259712438\n",
      "INFO:grid_search_training:Params: {'classifier__max_depth': 10, 'classifier__min_samples_leaf': 4, 'classifier__min_samples_split': 5, 'classifier__n_estimators': 100, 'feature_selection__n_components': 5}, Mean Test Score: 0.8345552259712438\n",
      "2024-10-20 17:56:22,403 | grid_search_training | INFO | Params: {'classifier__max_depth': 10, 'classifier__min_samples_leaf': 4, 'classifier__min_samples_split': 5, 'classifier__n_estimators': 200, 'feature_selection__n_components': 1}, Mean Test Score: 0.3360002707299704\n",
      "INFO:grid_search_training:Params: {'classifier__max_depth': 10, 'classifier__min_samples_leaf': 4, 'classifier__min_samples_split': 5, 'classifier__n_estimators': 200, 'feature_selection__n_components': 1}, Mean Test Score: 0.3360002707299704\n",
      "2024-10-20 17:56:22,404 | grid_search_training | INFO | Params: {'classifier__max_depth': 10, 'classifier__min_samples_leaf': 4, 'classifier__min_samples_split': 5, 'classifier__n_estimators': 200, 'feature_selection__n_components': 2}, Mean Test Score: 0.5574022458816674\n",
      "INFO:grid_search_training:Params: {'classifier__max_depth': 10, 'classifier__min_samples_leaf': 4, 'classifier__min_samples_split': 5, 'classifier__n_estimators': 200, 'feature_selection__n_components': 2}, Mean Test Score: 0.5574022458816674\n",
      "2024-10-20 17:56:22,404 | grid_search_training | INFO | Params: {'classifier__max_depth': 10, 'classifier__min_samples_leaf': 4, 'classifier__min_samples_split': 5, 'classifier__n_estimators': 200, 'feature_selection__n_components': 3}, Mean Test Score: 0.7416273107685788\n",
      "INFO:grid_search_training:Params: {'classifier__max_depth': 10, 'classifier__min_samples_leaf': 4, 'classifier__min_samples_split': 5, 'classifier__n_estimators': 200, 'feature_selection__n_components': 3}, Mean Test Score: 0.7416273107685788\n",
      "2024-10-20 17:56:22,405 | grid_search_training | INFO | Params: {'classifier__max_depth': 10, 'classifier__min_samples_leaf': 4, 'classifier__min_samples_split': 5, 'classifier__n_estimators': 200, 'feature_selection__n_components': 4}, Mean Test Score: 0.814646450200399\n",
      "INFO:grid_search_training:Params: {'classifier__max_depth': 10, 'classifier__min_samples_leaf': 4, 'classifier__min_samples_split': 5, 'classifier__n_estimators': 200, 'feature_selection__n_components': 4}, Mean Test Score: 0.814646450200399\n",
      "2024-10-20 17:56:22,405 | grid_search_training | INFO | Params: {'classifier__max_depth': 10, 'classifier__min_samples_leaf': 4, 'classifier__min_samples_split': 5, 'classifier__n_estimators': 200, 'feature_selection__n_components': 5}, Mean Test Score: 0.8371932953134287\n",
      "INFO:grid_search_training:Params: {'classifier__max_depth': 10, 'classifier__min_samples_leaf': 4, 'classifier__min_samples_split': 5, 'classifier__n_estimators': 200, 'feature_selection__n_components': 5}, Mean Test Score: 0.8371932953134287\n",
      "2024-10-20 17:56:22,405 | grid_search_training | INFO | Params: {'classifier__max_depth': 10, 'classifier__min_samples_leaf': 4, 'classifier__min_samples_split': 10, 'classifier__n_estimators': 50, 'feature_selection__n_components': 1}, Mean Test Score: 0.3442779337417824\n",
      "INFO:grid_search_training:Params: {'classifier__max_depth': 10, 'classifier__min_samples_leaf': 4, 'classifier__min_samples_split': 10, 'classifier__n_estimators': 50, 'feature_selection__n_components': 1}, Mean Test Score: 0.3442779337417824\n",
      "2024-10-20 17:56:22,406 | grid_search_training | INFO | Params: {'classifier__max_depth': 10, 'classifier__min_samples_leaf': 4, 'classifier__min_samples_split': 10, 'classifier__n_estimators': 50, 'feature_selection__n_components': 2}, Mean Test Score: 0.5548221539511863\n",
      "INFO:grid_search_training:Params: {'classifier__max_depth': 10, 'classifier__min_samples_leaf': 4, 'classifier__min_samples_split': 10, 'classifier__n_estimators': 50, 'feature_selection__n_components': 2}, Mean Test Score: 0.5548221539511863\n",
      "2024-10-20 17:56:22,406 | grid_search_training | INFO | Params: {'classifier__max_depth': 10, 'classifier__min_samples_leaf': 4, 'classifier__min_samples_split': 10, 'classifier__n_estimators': 50, 'feature_selection__n_components': 3}, Mean Test Score: 0.741322439394742\n",
      "INFO:grid_search_training:Params: {'classifier__max_depth': 10, 'classifier__min_samples_leaf': 4, 'classifier__min_samples_split': 10, 'classifier__n_estimators': 50, 'feature_selection__n_components': 3}, Mean Test Score: 0.741322439394742\n",
      "2024-10-20 17:56:22,407 | grid_search_training | INFO | Params: {'classifier__max_depth': 10, 'classifier__min_samples_leaf': 4, 'classifier__min_samples_split': 10, 'classifier__n_estimators': 50, 'feature_selection__n_components': 4}, Mean Test Score: 0.8146183531378192\n",
      "INFO:grid_search_training:Params: {'classifier__max_depth': 10, 'classifier__min_samples_leaf': 4, 'classifier__min_samples_split': 10, 'classifier__n_estimators': 50, 'feature_selection__n_components': 4}, Mean Test Score: 0.8146183531378192\n",
      "2024-10-20 17:56:22,407 | grid_search_training | INFO | Params: {'classifier__max_depth': 10, 'classifier__min_samples_leaf': 4, 'classifier__min_samples_split': 10, 'classifier__n_estimators': 50, 'feature_selection__n_components': 5}, Mean Test Score: 0.833669644696341\n",
      "INFO:grid_search_training:Params: {'classifier__max_depth': 10, 'classifier__min_samples_leaf': 4, 'classifier__min_samples_split': 10, 'classifier__n_estimators': 50, 'feature_selection__n_components': 5}, Mean Test Score: 0.833669644696341\n",
      "2024-10-20 17:56:22,407 | grid_search_training | INFO | Params: {'classifier__max_depth': 10, 'classifier__min_samples_leaf': 4, 'classifier__min_samples_split': 10, 'classifier__n_estimators': 100, 'feature_selection__n_components': 1}, Mean Test Score: 0.3378979406865948\n",
      "INFO:grid_search_training:Params: {'classifier__max_depth': 10, 'classifier__min_samples_leaf': 4, 'classifier__min_samples_split': 10, 'classifier__n_estimators': 100, 'feature_selection__n_components': 1}, Mean Test Score: 0.3378979406865948\n",
      "2024-10-20 17:56:22,408 | grid_search_training | INFO | Params: {'classifier__max_depth': 10, 'classifier__min_samples_leaf': 4, 'classifier__min_samples_split': 10, 'classifier__n_estimators': 100, 'feature_selection__n_components': 2}, Mean Test Score: 0.557112382364885\n",
      "INFO:grid_search_training:Params: {'classifier__max_depth': 10, 'classifier__min_samples_leaf': 4, 'classifier__min_samples_split': 10, 'classifier__n_estimators': 100, 'feature_selection__n_components': 2}, Mean Test Score: 0.557112382364885\n",
      "2024-10-20 17:56:22,408 | grid_search_training | INFO | Params: {'classifier__max_depth': 10, 'classifier__min_samples_leaf': 4, 'classifier__min_samples_split': 10, 'classifier__n_estimators': 100, 'feature_selection__n_components': 3}, Mean Test Score: 0.7309300163026524\n",
      "INFO:grid_search_training:Params: {'classifier__max_depth': 10, 'classifier__min_samples_leaf': 4, 'classifier__min_samples_split': 10, 'classifier__n_estimators': 100, 'feature_selection__n_components': 3}, Mean Test Score: 0.7309300163026524\n",
      "2024-10-20 17:56:22,409 | grid_search_training | INFO | Params: {'classifier__max_depth': 10, 'classifier__min_samples_leaf': 4, 'classifier__min_samples_split': 10, 'classifier__n_estimators': 100, 'feature_selection__n_components': 4}, Mean Test Score: 0.8167142739434174\n",
      "INFO:grid_search_training:Params: {'classifier__max_depth': 10, 'classifier__min_samples_leaf': 4, 'classifier__min_samples_split': 10, 'classifier__n_estimators': 100, 'feature_selection__n_components': 4}, Mean Test Score: 0.8167142739434174\n",
      "2024-10-20 17:56:22,454 | grid_search_training | INFO | Params: {'classifier__max_depth': 10, 'classifier__min_samples_leaf': 4, 'classifier__min_samples_split': 10, 'classifier__n_estimators': 100, 'feature_selection__n_components': 5}, Mean Test Score: 0.839461653453867\n",
      "INFO:grid_search_training:Params: {'classifier__max_depth': 10, 'classifier__min_samples_leaf': 4, 'classifier__min_samples_split': 10, 'classifier__n_estimators': 100, 'feature_selection__n_components': 5}, Mean Test Score: 0.839461653453867\n",
      "2024-10-20 17:56:22,459 | grid_search_training | INFO | Params: {'classifier__max_depth': 10, 'classifier__min_samples_leaf': 4, 'classifier__min_samples_split': 10, 'classifier__n_estimators': 200, 'feature_selection__n_components': 1}, Mean Test Score: 0.3442679697017851\n",
      "INFO:grid_search_training:Params: {'classifier__max_depth': 10, 'classifier__min_samples_leaf': 4, 'classifier__min_samples_split': 10, 'classifier__n_estimators': 200, 'feature_selection__n_components': 1}, Mean Test Score: 0.3442679697017851\n",
      "2024-10-20 17:56:22,460 | grid_search_training | INFO | Params: {'classifier__max_depth': 10, 'classifier__min_samples_leaf': 4, 'classifier__min_samples_split': 10, 'classifier__n_estimators': 200, 'feature_selection__n_components': 2}, Mean Test Score: 0.5620945259577074\n",
      "INFO:grid_search_training:Params: {'classifier__max_depth': 10, 'classifier__min_samples_leaf': 4, 'classifier__min_samples_split': 10, 'classifier__n_estimators': 200, 'feature_selection__n_components': 2}, Mean Test Score: 0.5620945259577074\n",
      "2024-10-20 17:56:22,460 | grid_search_training | INFO | Params: {'classifier__max_depth': 10, 'classifier__min_samples_leaf': 4, 'classifier__min_samples_split': 10, 'classifier__n_estimators': 200, 'feature_selection__n_components': 3}, Mean Test Score: 0.7372076793144646\n",
      "INFO:grid_search_training:Params: {'classifier__max_depth': 10, 'classifier__min_samples_leaf': 4, 'classifier__min_samples_split': 10, 'classifier__n_estimators': 200, 'feature_selection__n_components': 3}, Mean Test Score: 0.7372076793144646\n",
      "2024-10-20 17:56:22,461 | grid_search_training | INFO | Params: {'classifier__max_depth': 10, 'classifier__min_samples_leaf': 4, 'classifier__min_samples_split': 10, 'classifier__n_estimators': 200, 'feature_selection__n_components': 4}, Mean Test Score: 0.816167475913861\n",
      "INFO:grid_search_training:Params: {'classifier__max_depth': 10, 'classifier__min_samples_leaf': 4, 'classifier__min_samples_split': 10, 'classifier__n_estimators': 200, 'feature_selection__n_components': 4}, Mean Test Score: 0.816167475913861\n",
      "2024-10-20 17:56:22,461 | grid_search_training | INFO | Params: {'classifier__max_depth': 10, 'classifier__min_samples_leaf': 4, 'classifier__min_samples_split': 10, 'classifier__n_estimators': 200, 'feature_selection__n_components': 5}, Mean Test Score: 0.8317488273272478\n",
      "INFO:grid_search_training:Params: {'classifier__max_depth': 10, 'classifier__min_samples_leaf': 4, 'classifier__min_samples_split': 10, 'classifier__n_estimators': 200, 'feature_selection__n_components': 5}, Mean Test Score: 0.8317488273272478\n",
      "2024-10-20 17:56:22,462 | grid_search_training | INFO | Params: {'classifier__max_depth': 20, 'classifier__min_samples_leaf': 1, 'classifier__min_samples_split': 2, 'classifier__n_estimators': 50, 'feature_selection__n_components': 1}, Mean Test Score: 0.27975877371094277\n",
      "INFO:grid_search_training:Params: {'classifier__max_depth': 20, 'classifier__min_samples_leaf': 1, 'classifier__min_samples_split': 2, 'classifier__n_estimators': 50, 'feature_selection__n_components': 1}, Mean Test Score: 0.27975877371094277\n",
      "2024-10-20 17:56:22,462 | grid_search_training | INFO | Params: {'classifier__max_depth': 20, 'classifier__min_samples_leaf': 1, 'classifier__min_samples_split': 2, 'classifier__n_estimators': 50, 'feature_selection__n_components': 2}, Mean Test Score: 0.5228400162437982\n",
      "INFO:grid_search_training:Params: {'classifier__max_depth': 20, 'classifier__min_samples_leaf': 1, 'classifier__min_samples_split': 2, 'classifier__n_estimators': 50, 'feature_selection__n_components': 2}, Mean Test Score: 0.5228400162437982\n",
      "2024-10-20 17:56:22,462 | grid_search_training | INFO | Params: {'classifier__max_depth': 20, 'classifier__min_samples_leaf': 1, 'classifier__min_samples_split': 2, 'classifier__n_estimators': 50, 'feature_selection__n_components': 3}, Mean Test Score: 0.7337168046800973\n",
      "INFO:grid_search_training:Params: {'classifier__max_depth': 20, 'classifier__min_samples_leaf': 1, 'classifier__min_samples_split': 2, 'classifier__n_estimators': 50, 'feature_selection__n_components': 3}, Mean Test Score: 0.7337168046800973\n",
      "2024-10-20 17:56:22,463 | grid_search_training | INFO | Params: {'classifier__max_depth': 20, 'classifier__min_samples_leaf': 1, 'classifier__min_samples_split': 2, 'classifier__n_estimators': 50, 'feature_selection__n_components': 4}, Mean Test Score: 0.8151750504675978\n",
      "INFO:grid_search_training:Params: {'classifier__max_depth': 20, 'classifier__min_samples_leaf': 1, 'classifier__min_samples_split': 2, 'classifier__n_estimators': 50, 'feature_selection__n_components': 4}, Mean Test Score: 0.8151750504675978\n",
      "2024-10-20 17:56:22,463 | grid_search_training | INFO | Params: {'classifier__max_depth': 20, 'classifier__min_samples_leaf': 1, 'classifier__min_samples_split': 2, 'classifier__n_estimators': 50, 'feature_selection__n_components': 5}, Mean Test Score: 0.8491944370876517\n",
      "INFO:grid_search_training:Params: {'classifier__max_depth': 20, 'classifier__min_samples_leaf': 1, 'classifier__min_samples_split': 2, 'classifier__n_estimators': 50, 'feature_selection__n_components': 5}, Mean Test Score: 0.8491944370876517\n",
      "2024-10-20 17:56:22,463 | grid_search_training | INFO | Params: {'classifier__max_depth': 20, 'classifier__min_samples_leaf': 1, 'classifier__min_samples_split': 2, 'classifier__n_estimators': 100, 'feature_selection__n_components': 1}, Mean Test Score: 0.2778625868837215\n",
      "INFO:grid_search_training:Params: {'classifier__max_depth': 20, 'classifier__min_samples_leaf': 1, 'classifier__min_samples_split': 2, 'classifier__n_estimators': 100, 'feature_selection__n_components': 1}, Mean Test Score: 0.2778625868837215\n",
      "2024-10-20 17:56:22,464 | grid_search_training | INFO | Params: {'classifier__max_depth': 20, 'classifier__min_samples_leaf': 1, 'classifier__min_samples_split': 2, 'classifier__n_estimators': 100, 'feature_selection__n_components': 2}, Mean Test Score: 0.5254768790719847\n",
      "INFO:grid_search_training:Params: {'classifier__max_depth': 20, 'classifier__min_samples_leaf': 1, 'classifier__min_samples_split': 2, 'classifier__n_estimators': 100, 'feature_selection__n_components': 2}, Mean Test Score: 0.5254768790719847\n",
      "2024-10-20 17:56:22,464 | grid_search_training | INFO | Params: {'classifier__max_depth': 20, 'classifier__min_samples_leaf': 1, 'classifier__min_samples_split': 2, 'classifier__n_estimators': 100, 'feature_selection__n_components': 3}, Mean Test Score: 0.7470552936537362\n",
      "INFO:grid_search_training:Params: {'classifier__max_depth': 20, 'classifier__min_samples_leaf': 1, 'classifier__min_samples_split': 2, 'classifier__n_estimators': 100, 'feature_selection__n_components': 3}, Mean Test Score: 0.7470552936537362\n",
      "2024-10-20 17:56:22,465 | grid_search_training | INFO | Params: {'classifier__max_depth': 20, 'classifier__min_samples_leaf': 1, 'classifier__min_samples_split': 2, 'classifier__n_estimators': 100, 'feature_selection__n_components': 4}, Mean Test Score: 0.8235412716068999\n",
      "INFO:grid_search_training:Params: {'classifier__max_depth': 20, 'classifier__min_samples_leaf': 1, 'classifier__min_samples_split': 2, 'classifier__n_estimators': 100, 'feature_selection__n_components': 4}, Mean Test Score: 0.8235412716068999\n",
      "2024-10-20 17:56:22,466 | grid_search_training | INFO | Params: {'classifier__max_depth': 20, 'classifier__min_samples_leaf': 1, 'classifier__min_samples_split': 2, 'classifier__n_estimators': 100, 'feature_selection__n_components': 5}, Mean Test Score: 0.8462148242315093\n",
      "INFO:grid_search_training:Params: {'classifier__max_depth': 20, 'classifier__min_samples_leaf': 1, 'classifier__min_samples_split': 2, 'classifier__n_estimators': 100, 'feature_selection__n_components': 5}, Mean Test Score: 0.8462148242315093\n",
      "2024-10-20 17:56:22,469 | grid_search_training | INFO | Params: {'classifier__max_depth': 20, 'classifier__min_samples_leaf': 1, 'classifier__min_samples_split': 2, 'classifier__n_estimators': 200, 'feature_selection__n_components': 1}, Mean Test Score: 0.2771218461429807\n",
      "INFO:grid_search_training:Params: {'classifier__max_depth': 20, 'classifier__min_samples_leaf': 1, 'classifier__min_samples_split': 2, 'classifier__n_estimators': 200, 'feature_selection__n_components': 1}, Mean Test Score: 0.2771218461429807\n",
      "2024-10-20 17:56:22,471 | grid_search_training | INFO | Params: {'classifier__max_depth': 20, 'classifier__min_samples_leaf': 1, 'classifier__min_samples_split': 2, 'classifier__n_estimators': 200, 'feature_selection__n_components': 2}, Mean Test Score: 0.531789048384154\n",
      "INFO:grid_search_training:Params: {'classifier__max_depth': 20, 'classifier__min_samples_leaf': 1, 'classifier__min_samples_split': 2, 'classifier__n_estimators': 200, 'feature_selection__n_components': 2}, Mean Test Score: 0.531789048384154\n",
      "2024-10-20 17:56:22,472 | grid_search_training | INFO | Params: {'classifier__max_depth': 20, 'classifier__min_samples_leaf': 1, 'classifier__min_samples_split': 2, 'classifier__n_estimators': 200, 'feature_selection__n_components': 3}, Mean Test Score: 0.7438198645173061\n",
      "INFO:grid_search_training:Params: {'classifier__max_depth': 20, 'classifier__min_samples_leaf': 1, 'classifier__min_samples_split': 2, 'classifier__n_estimators': 200, 'feature_selection__n_components': 3}, Mean Test Score: 0.7438198645173061\n",
      "2024-10-20 17:56:22,474 | grid_search_training | INFO | Params: {'classifier__max_depth': 20, 'classifier__min_samples_leaf': 1, 'classifier__min_samples_split': 2, 'classifier__n_estimators': 200, 'feature_selection__n_components': 4}, Mean Test Score: 0.822562094272884\n",
      "INFO:grid_search_training:Params: {'classifier__max_depth': 20, 'classifier__min_samples_leaf': 1, 'classifier__min_samples_split': 2, 'classifier__n_estimators': 200, 'feature_selection__n_components': 4}, Mean Test Score: 0.822562094272884\n",
      "2024-10-20 17:56:22,476 | grid_search_training | INFO | Params: {'classifier__max_depth': 20, 'classifier__min_samples_leaf': 1, 'classifier__min_samples_split': 2, 'classifier__n_estimators': 200, 'feature_selection__n_components': 5}, Mean Test Score: 0.8477094890854625\n",
      "INFO:grid_search_training:Params: {'classifier__max_depth': 20, 'classifier__min_samples_leaf': 1, 'classifier__min_samples_split': 2, 'classifier__n_estimators': 200, 'feature_selection__n_components': 5}, Mean Test Score: 0.8477094890854625\n",
      "2024-10-20 17:56:22,477 | grid_search_training | INFO | Params: {'classifier__max_depth': 20, 'classifier__min_samples_leaf': 1, 'classifier__min_samples_split': 5, 'classifier__n_estimators': 50, 'feature_selection__n_components': 1}, Mean Test Score: 0.3143660975451854\n",
      "INFO:grid_search_training:Params: {'classifier__max_depth': 20, 'classifier__min_samples_leaf': 1, 'classifier__min_samples_split': 5, 'classifier__n_estimators': 50, 'feature_selection__n_components': 1}, Mean Test Score: 0.3143660975451854\n",
      "2024-10-20 17:56:22,478 | grid_search_training | INFO | Params: {'classifier__max_depth': 20, 'classifier__min_samples_leaf': 1, 'classifier__min_samples_split': 5, 'classifier__n_estimators': 50, 'feature_selection__n_components': 2}, Mean Test Score: 0.5449679891237177\n",
      "INFO:grid_search_training:Params: {'classifier__max_depth': 20, 'classifier__min_samples_leaf': 1, 'classifier__min_samples_split': 5, 'classifier__n_estimators': 50, 'feature_selection__n_components': 2}, Mean Test Score: 0.5449679891237177\n",
      "2024-10-20 17:56:22,478 | grid_search_training | INFO | Params: {'classifier__max_depth': 20, 'classifier__min_samples_leaf': 1, 'classifier__min_samples_split': 5, 'classifier__n_estimators': 50, 'feature_selection__n_components': 3}, Mean Test Score: 0.7345410832730076\n",
      "INFO:grid_search_training:Params: {'classifier__max_depth': 20, 'classifier__min_samples_leaf': 1, 'classifier__min_samples_split': 5, 'classifier__n_estimators': 50, 'feature_selection__n_components': 3}, Mean Test Score: 0.7345410832730076\n",
      "2024-10-20 17:56:22,478 | grid_search_training | INFO | Params: {'classifier__max_depth': 20, 'classifier__min_samples_leaf': 1, 'classifier__min_samples_split': 5, 'classifier__n_estimators': 50, 'feature_selection__n_components': 4}, Mean Test Score: 0.8159208997651712\n",
      "INFO:grid_search_training:Params: {'classifier__max_depth': 20, 'classifier__min_samples_leaf': 1, 'classifier__min_samples_split': 5, 'classifier__n_estimators': 50, 'feature_selection__n_components': 4}, Mean Test Score: 0.8159208997651712\n",
      "2024-10-20 17:56:22,479 | grid_search_training | INFO | Params: {'classifier__max_depth': 20, 'classifier__min_samples_leaf': 1, 'classifier__min_samples_split': 5, 'classifier__n_estimators': 50, 'feature_selection__n_components': 5}, Mean Test Score: 0.8461162137825097\n",
      "INFO:grid_search_training:Params: {'classifier__max_depth': 20, 'classifier__min_samples_leaf': 1, 'classifier__min_samples_split': 5, 'classifier__n_estimators': 50, 'feature_selection__n_components': 5}, Mean Test Score: 0.8461162137825097\n",
      "2024-10-20 17:56:22,479 | grid_search_training | INFO | Params: {'classifier__max_depth': 20, 'classifier__min_samples_leaf': 1, 'classifier__min_samples_split': 5, 'classifier__n_estimators': 100, 'feature_selection__n_components': 1}, Mean Test Score: 0.31573594411191735\n",
      "INFO:grid_search_training:Params: {'classifier__max_depth': 20, 'classifier__min_samples_leaf': 1, 'classifier__min_samples_split': 5, 'classifier__n_estimators': 100, 'feature_selection__n_components': 1}, Mean Test Score: 0.31573594411191735\n",
      "2024-10-20 17:56:22,479 | grid_search_training | INFO | Params: {'classifier__max_depth': 20, 'classifier__min_samples_leaf': 1, 'classifier__min_samples_split': 5, 'classifier__n_estimators': 100, 'feature_selection__n_components': 2}, Mean Test Score: 0.5356437075880903\n",
      "INFO:grid_search_training:Params: {'classifier__max_depth': 20, 'classifier__min_samples_leaf': 1, 'classifier__min_samples_split': 5, 'classifier__n_estimators': 100, 'feature_selection__n_components': 2}, Mean Test Score: 0.5356437075880903\n",
      "2024-10-20 17:56:22,505 | grid_search_training | INFO | Params: {'classifier__max_depth': 20, 'classifier__min_samples_leaf': 1, 'classifier__min_samples_split': 5, 'classifier__n_estimators': 100, 'feature_selection__n_components': 3}, Mean Test Score: 0.7424071661046077\n",
      "INFO:grid_search_training:Params: {'classifier__max_depth': 20, 'classifier__min_samples_leaf': 1, 'classifier__min_samples_split': 5, 'classifier__n_estimators': 100, 'feature_selection__n_components': 3}, Mean Test Score: 0.7424071661046077\n",
      "2024-10-20 17:56:22,506 | grid_search_training | INFO | Params: {'classifier__max_depth': 20, 'classifier__min_samples_leaf': 1, 'classifier__min_samples_split': 5, 'classifier__n_estimators': 100, 'feature_selection__n_components': 4}, Mean Test Score: 0.8246752123170366\n",
      "INFO:grid_search_training:Params: {'classifier__max_depth': 20, 'classifier__min_samples_leaf': 1, 'classifier__min_samples_split': 5, 'classifier__n_estimators': 100, 'feature_selection__n_components': 4}, Mean Test Score: 0.8246752123170366\n",
      "2024-10-20 17:56:22,507 | grid_search_training | INFO | Params: {'classifier__max_depth': 20, 'classifier__min_samples_leaf': 1, 'classifier__min_samples_split': 5, 'classifier__n_estimators': 100, 'feature_selection__n_components': 5}, Mean Test Score: 0.8489705963710413\n",
      "INFO:grid_search_training:Params: {'classifier__max_depth': 20, 'classifier__min_samples_leaf': 1, 'classifier__min_samples_split': 5, 'classifier__n_estimators': 100, 'feature_selection__n_components': 5}, Mean Test Score: 0.8489705963710413\n",
      "2024-10-20 17:56:22,507 | grid_search_training | INFO | Params: {'classifier__max_depth': 20, 'classifier__min_samples_leaf': 1, 'classifier__min_samples_split': 5, 'classifier__n_estimators': 200, 'feature_selection__n_components': 1}, Mean Test Score: 0.3043914814226271\n",
      "INFO:grid_search_training:Params: {'classifier__max_depth': 20, 'classifier__min_samples_leaf': 1, 'classifier__min_samples_split': 5, 'classifier__n_estimators': 200, 'feature_selection__n_components': 1}, Mean Test Score: 0.3043914814226271\n",
      "2024-10-20 17:56:22,508 | grid_search_training | INFO | Params: {'classifier__max_depth': 20, 'classifier__min_samples_leaf': 1, 'classifier__min_samples_split': 5, 'classifier__n_estimators': 200, 'feature_selection__n_components': 2}, Mean Test Score: 0.5430013536498521\n",
      "INFO:grid_search_training:Params: {'classifier__max_depth': 20, 'classifier__min_samples_leaf': 1, 'classifier__min_samples_split': 5, 'classifier__n_estimators': 200, 'feature_selection__n_components': 2}, Mean Test Score: 0.5430013536498521\n",
      "2024-10-20 17:56:22,508 | grid_search_training | INFO | Params: {'classifier__max_depth': 20, 'classifier__min_samples_leaf': 1, 'classifier__min_samples_split': 5, 'classifier__n_estimators': 200, 'feature_selection__n_components': 3}, Mean Test Score: 0.7494305195072715\n",
      "INFO:grid_search_training:Params: {'classifier__max_depth': 20, 'classifier__min_samples_leaf': 1, 'classifier__min_samples_split': 5, 'classifier__n_estimators': 200, 'feature_selection__n_components': 3}, Mean Test Score: 0.7494305195072715\n",
      "2024-10-20 17:56:22,509 | grid_search_training | INFO | Params: {'classifier__max_depth': 20, 'classifier__min_samples_leaf': 1, 'classifier__min_samples_split': 5, 'classifier__n_estimators': 200, 'feature_selection__n_components': 4}, Mean Test Score: 0.8227696499932318\n",
      "INFO:grid_search_training:Params: {'classifier__max_depth': 20, 'classifier__min_samples_leaf': 1, 'classifier__min_samples_split': 5, 'classifier__n_estimators': 200, 'feature_selection__n_components': 4}, Mean Test Score: 0.8227696499932318\n",
      "2024-10-20 17:56:22,509 | grid_search_training | INFO | Params: {'classifier__max_depth': 20, 'classifier__min_samples_leaf': 1, 'classifier__min_samples_split': 5, 'classifier__n_estimators': 200, 'feature_selection__n_components': 5}, Mean Test Score: 0.8421350942552278\n",
      "INFO:grid_search_training:Params: {'classifier__max_depth': 20, 'classifier__min_samples_leaf': 1, 'classifier__min_samples_split': 5, 'classifier__n_estimators': 200, 'feature_selection__n_components': 5}, Mean Test Score: 0.8421350942552278\n",
      "2024-10-20 17:56:22,510 | grid_search_training | INFO | Params: {'classifier__max_depth': 20, 'classifier__min_samples_leaf': 1, 'classifier__min_samples_split': 10, 'classifier__n_estimators': 50, 'feature_selection__n_components': 1}, Mean Test Score: 0.3358979406865948\n",
      "INFO:grid_search_training:Params: {'classifier__max_depth': 20, 'classifier__min_samples_leaf': 1, 'classifier__min_samples_split': 10, 'classifier__n_estimators': 50, 'feature_selection__n_components': 1}, Mean Test Score: 0.3358979406865948\n",
      "2024-10-20 17:56:22,510 | grid_search_training | INFO | Params: {'classifier__max_depth': 20, 'classifier__min_samples_leaf': 1, 'classifier__min_samples_split': 10, 'classifier__n_estimators': 50, 'feature_selection__n_components': 2}, Mean Test Score: 0.5476982655625593\n",
      "INFO:grid_search_training:Params: {'classifier__max_depth': 20, 'classifier__min_samples_leaf': 1, 'classifier__min_samples_split': 10, 'classifier__n_estimators': 50, 'feature_selection__n_components': 2}, Mean Test Score: 0.5476982655625593\n",
      "2024-10-20 17:56:22,511 | grid_search_training | INFO | Params: {'classifier__max_depth': 20, 'classifier__min_samples_leaf': 1, 'classifier__min_samples_split': 10, 'classifier__n_estimators': 50, 'feature_selection__n_components': 3}, Mean Test Score: 0.7462208862286726\n",
      "INFO:grid_search_training:Params: {'classifier__max_depth': 20, 'classifier__min_samples_leaf': 1, 'classifier__min_samples_split': 10, 'classifier__n_estimators': 50, 'feature_selection__n_components': 3}, Mean Test Score: 0.7462208862286726\n",
      "2024-10-20 17:56:22,511 | grid_search_training | INFO | Params: {'classifier__max_depth': 20, 'classifier__min_samples_leaf': 1, 'classifier__min_samples_split': 10, 'classifier__n_estimators': 50, 'feature_selection__n_components': 4}, Mean Test Score: 0.8206412769037907\n",
      "INFO:grid_search_training:Params: {'classifier__max_depth': 20, 'classifier__min_samples_leaf': 1, 'classifier__min_samples_split': 10, 'classifier__n_estimators': 50, 'feature_selection__n_components': 4}, Mean Test Score: 0.8206412769037907\n",
      "2024-10-20 17:56:22,512 | grid_search_training | INFO | Params: {'classifier__max_depth': 20, 'classifier__min_samples_leaf': 1, 'classifier__min_samples_split': 10, 'classifier__n_estimators': 50, 'feature_selection__n_components': 5}, Mean Test Score: 0.8462491951668815\n",
      "INFO:grid_search_training:Params: {'classifier__max_depth': 20, 'classifier__min_samples_leaf': 1, 'classifier__min_samples_split': 10, 'classifier__n_estimators': 50, 'feature_selection__n_components': 5}, Mean Test Score: 0.8462491951668815\n",
      "2024-10-20 17:56:22,512 | grid_search_training | INFO | Params: {'classifier__max_depth': 20, 'classifier__min_samples_leaf': 1, 'classifier__min_samples_split': 10, 'classifier__n_estimators': 100, 'feature_selection__n_components': 1}, Mean Test Score: 0.32813236341378726\n",
      "INFO:grid_search_training:Params: {'classifier__max_depth': 20, 'classifier__min_samples_leaf': 1, 'classifier__min_samples_split': 10, 'classifier__n_estimators': 100, 'feature_selection__n_components': 1}, Mean Test Score: 0.32813236341378726\n",
      "2024-10-20 17:56:22,513 | grid_search_training | INFO | Params: {'classifier__max_depth': 20, 'classifier__min_samples_leaf': 1, 'classifier__min_samples_split': 10, 'classifier__n_estimators': 100, 'feature_selection__n_components': 2}, Mean Test Score: 0.5473856136447905\n",
      "INFO:grid_search_training:Params: {'classifier__max_depth': 20, 'classifier__min_samples_leaf': 1, 'classifier__min_samples_split': 10, 'classifier__n_estimators': 100, 'feature_selection__n_components': 2}, Mean Test Score: 0.5473856136447905\n",
      "2024-10-20 17:56:22,513 | grid_search_training | INFO | Params: {'classifier__max_depth': 20, 'classifier__min_samples_leaf': 1, 'classifier__min_samples_split': 10, 'classifier__n_estimators': 100, 'feature_selection__n_components': 3}, Mean Test Score: 0.7360360188569309\n",
      "INFO:grid_search_training:Params: {'classifier__max_depth': 20, 'classifier__min_samples_leaf': 1, 'classifier__min_samples_split': 10, 'classifier__n_estimators': 100, 'feature_selection__n_components': 3}, Mean Test Score: 0.7360360188569309\n",
      "2024-10-20 17:56:22,514 | grid_search_training | INFO | Params: {'classifier__max_depth': 20, 'classifier__min_samples_leaf': 1, 'classifier__min_samples_split': 10, 'classifier__n_estimators': 100, 'feature_selection__n_components': 4}, Mean Test Score: 0.8187600037666778\n",
      "INFO:grid_search_training:Params: {'classifier__max_depth': 20, 'classifier__min_samples_leaf': 1, 'classifier__min_samples_split': 10, 'classifier__n_estimators': 100, 'feature_selection__n_components': 4}, Mean Test Score: 0.8187600037666778\n",
      "2024-10-20 17:56:22,514 | grid_search_training | INFO | Params: {'classifier__max_depth': 20, 'classifier__min_samples_leaf': 1, 'classifier__min_samples_split': 10, 'classifier__n_estimators': 100, 'feature_selection__n_components': 5}, Mean Test Score: 0.8427605746537894\n",
      "INFO:grid_search_training:Params: {'classifier__max_depth': 20, 'classifier__min_samples_leaf': 1, 'classifier__min_samples_split': 10, 'classifier__n_estimators': 100, 'feature_selection__n_components': 5}, Mean Test Score: 0.8427605746537894\n",
      "2024-10-20 17:56:22,515 | grid_search_training | INFO | Params: {'classifier__max_depth': 20, 'classifier__min_samples_leaf': 1, 'classifier__min_samples_split': 10, 'classifier__n_estimators': 200, 'feature_selection__n_components': 1}, Mean Test Score: 0.32704727180700477\n",
      "INFO:grid_search_training:Params: {'classifier__max_depth': 20, 'classifier__min_samples_leaf': 1, 'classifier__min_samples_split': 10, 'classifier__n_estimators': 200, 'feature_selection__n_components': 1}, Mean Test Score: 0.32704727180700477\n",
      "2024-10-20 17:56:22,515 | grid_search_training | INFO | Params: {'classifier__max_depth': 20, 'classifier__min_samples_leaf': 1, 'classifier__min_samples_split': 10, 'classifier__n_estimators': 200, 'feature_selection__n_components': 2}, Mean Test Score: 0.5522282077087417\n",
      "INFO:grid_search_training:Params: {'classifier__max_depth': 20, 'classifier__min_samples_leaf': 1, 'classifier__min_samples_split': 10, 'classifier__n_estimators': 200, 'feature_selection__n_components': 2}, Mean Test Score: 0.5522282077087417\n",
      "2024-10-20 17:56:22,516 | grid_search_training | INFO | Params: {'classifier__max_depth': 20, 'classifier__min_samples_leaf': 1, 'classifier__min_samples_split': 10, 'classifier__n_estimators': 200, 'feature_selection__n_components': 3}, Mean Test Score: 0.7456251684705522\n",
      "INFO:grid_search_training:Params: {'classifier__max_depth': 20, 'classifier__min_samples_leaf': 1, 'classifier__min_samples_split': 10, 'classifier__n_estimators': 200, 'feature_selection__n_components': 3}, Mean Test Score: 0.7456251684705522\n",
      "2024-10-20 17:56:22,516 | grid_search_training | INFO | Params: {'classifier__max_depth': 20, 'classifier__min_samples_leaf': 1, 'classifier__min_samples_split': 10, 'classifier__n_estimators': 200, 'feature_selection__n_components': 4}, Mean Test Score: 0.8228550829551944\n",
      "INFO:grid_search_training:Params: {'classifier__max_depth': 20, 'classifier__min_samples_leaf': 1, 'classifier__min_samples_split': 10, 'classifier__n_estimators': 200, 'feature_selection__n_components': 4}, Mean Test Score: 0.8228550829551944\n",
      "2024-10-20 17:56:22,516 | grid_search_training | INFO | Params: {'classifier__max_depth': 20, 'classifier__min_samples_leaf': 1, 'classifier__min_samples_split': 10, 'classifier__n_estimators': 200, 'feature_selection__n_components': 5}, Mean Test Score: 0.8442829010481958\n",
      "INFO:grid_search_training:Params: {'classifier__max_depth': 20, 'classifier__min_samples_leaf': 1, 'classifier__min_samples_split': 10, 'classifier__n_estimators': 200, 'feature_selection__n_components': 5}, Mean Test Score: 0.8442829010481958\n",
      "2024-10-20 17:56:22,517 | grid_search_training | INFO | Params: {'classifier__max_depth': 20, 'classifier__min_samples_leaf': 2, 'classifier__min_samples_split': 2, 'classifier__n_estimators': 50, 'feature_selection__n_components': 1}, Mean Test Score: 0.30710150019716204\n",
      "INFO:grid_search_training:Params: {'classifier__max_depth': 20, 'classifier__min_samples_leaf': 2, 'classifier__min_samples_split': 2, 'classifier__n_estimators': 50, 'feature_selection__n_components': 1}, Mean Test Score: 0.30710150019716204\n",
      "2024-10-20 17:56:22,517 | grid_search_training | INFO | Params: {'classifier__max_depth': 20, 'classifier__min_samples_leaf': 2, 'classifier__min_samples_split': 2, 'classifier__n_estimators': 50, 'feature_selection__n_components': 2}, Mean Test Score: 0.5496964175362395\n",
      "INFO:grid_search_training:Params: {'classifier__max_depth': 20, 'classifier__min_samples_leaf': 2, 'classifier__min_samples_split': 2, 'classifier__n_estimators': 50, 'feature_selection__n_components': 2}, Mean Test Score: 0.5496964175362395\n",
      "2024-10-20 17:56:22,517 | grid_search_training | INFO | Params: {'classifier__max_depth': 20, 'classifier__min_samples_leaf': 2, 'classifier__min_samples_split': 2, 'classifier__n_estimators': 50, 'feature_selection__n_components': 3}, Mean Test Score: 0.7436596747709094\n",
      "INFO:grid_search_training:Params: {'classifier__max_depth': 20, 'classifier__min_samples_leaf': 2, 'classifier__min_samples_split': 2, 'classifier__n_estimators': 50, 'feature_selection__n_components': 3}, Mean Test Score: 0.7436596747709094\n",
      "2024-10-20 17:56:22,518 | grid_search_training | INFO | Params: {'classifier__max_depth': 20, 'classifier__min_samples_leaf': 2, 'classifier__min_samples_split': 2, 'classifier__n_estimators': 50, 'feature_selection__n_components': 4}, Mean Test Score: 0.8199223828945742\n",
      "INFO:grid_search_training:Params: {'classifier__max_depth': 20, 'classifier__min_samples_leaf': 2, 'classifier__min_samples_split': 2, 'classifier__n_estimators': 50, 'feature_selection__n_components': 4}, Mean Test Score: 0.8199223828945742\n",
      "2024-10-20 17:56:22,518 | grid_search_training | INFO | Params: {'classifier__max_depth': 20, 'classifier__min_samples_leaf': 2, 'classifier__min_samples_split': 2, 'classifier__n_estimators': 50, 'feature_selection__n_components': 5}, Mean Test Score: 0.8381102812648976\n",
      "INFO:grid_search_training:Params: {'classifier__max_depth': 20, 'classifier__min_samples_leaf': 2, 'classifier__min_samples_split': 2, 'classifier__n_estimators': 50, 'feature_selection__n_components': 5}, Mean Test Score: 0.8381102812648976\n",
      "2024-10-20 17:56:22,519 | grid_search_training | INFO | Params: {'classifier__max_depth': 20, 'classifier__min_samples_leaf': 2, 'classifier__min_samples_split': 2, 'classifier__n_estimators': 100, 'feature_selection__n_components': 1}, Mean Test Score: 0.31088521049255197\n",
      "INFO:grid_search_training:Params: {'classifier__max_depth': 20, 'classifier__min_samples_leaf': 2, 'classifier__min_samples_split': 2, 'classifier__n_estimators': 100, 'feature_selection__n_components': 1}, Mean Test Score: 0.31088521049255197\n",
      "2024-10-20 17:56:22,519 | grid_search_training | INFO | Params: {'classifier__max_depth': 20, 'classifier__min_samples_leaf': 2, 'classifier__min_samples_split': 2, 'classifier__n_estimators': 100, 'feature_selection__n_components': 2}, Mean Test Score: 0.5429305636480275\n",
      "INFO:grid_search_training:Params: {'classifier__max_depth': 20, 'classifier__min_samples_leaf': 2, 'classifier__min_samples_split': 2, 'classifier__n_estimators': 100, 'feature_selection__n_components': 2}, Mean Test Score: 0.5429305636480275\n",
      "2024-10-20 17:56:22,519 | grid_search_training | INFO | Params: {'classifier__max_depth': 20, 'classifier__min_samples_leaf': 2, 'classifier__min_samples_split': 2, 'classifier__n_estimators': 100, 'feature_selection__n_components': 3}, Mean Test Score: 0.740990136012383\n",
      "INFO:grid_search_training:Params: {'classifier__max_depth': 20, 'classifier__min_samples_leaf': 2, 'classifier__min_samples_split': 2, 'classifier__n_estimators': 100, 'feature_selection__n_components': 3}, Mean Test Score: 0.740990136012383\n",
      "2024-10-20 17:56:22,520 | grid_search_training | INFO | Params: {'classifier__max_depth': 20, 'classifier__min_samples_leaf': 2, 'classifier__min_samples_split': 2, 'classifier__n_estimators': 100, 'feature_selection__n_components': 4}, Mean Test Score: 0.8220779878877768\n",
      "INFO:grid_search_training:Params: {'classifier__max_depth': 20, 'classifier__min_samples_leaf': 2, 'classifier__min_samples_split': 2, 'classifier__n_estimators': 100, 'feature_selection__n_components': 4}, Mean Test Score: 0.8220779878877768\n",
      "2024-10-20 17:56:22,520 | grid_search_training | INFO | Params: {'classifier__max_depth': 20, 'classifier__min_samples_leaf': 2, 'classifier__min_samples_split': 2, 'classifier__n_estimators': 100, 'feature_selection__n_components': 5}, Mean Test Score: 0.8475826874069365\n",
      "INFO:grid_search_training:Params: {'classifier__max_depth': 20, 'classifier__min_samples_leaf': 2, 'classifier__min_samples_split': 2, 'classifier__n_estimators': 100, 'feature_selection__n_components': 5}, Mean Test Score: 0.8475826874069365\n",
      "2024-10-20 17:56:22,520 | grid_search_training | INFO | Params: {'classifier__max_depth': 20, 'classifier__min_samples_leaf': 2, 'classifier__min_samples_split': 2, 'classifier__n_estimators': 200, 'feature_selection__n_components': 1}, Mean Test Score: 0.31071868213358755\n",
      "INFO:grid_search_training:Params: {'classifier__max_depth': 20, 'classifier__min_samples_leaf': 2, 'classifier__min_samples_split': 2, 'classifier__n_estimators': 200, 'feature_selection__n_components': 1}, Mean Test Score: 0.31071868213358755\n",
      "2024-10-20 17:56:22,521 | grid_search_training | INFO | Params: {'classifier__max_depth': 20, 'classifier__min_samples_leaf': 2, 'classifier__min_samples_split': 2, 'classifier__n_estimators': 200, 'feature_selection__n_components': 2}, Mean Test Score: 0.5326807446251273\n",
      "INFO:grid_search_training:Params: {'classifier__max_depth': 20, 'classifier__min_samples_leaf': 2, 'classifier__min_samples_split': 2, 'classifier__n_estimators': 200, 'feature_selection__n_components': 2}, Mean Test Score: 0.5326807446251273\n",
      "2024-10-20 17:56:22,521 | grid_search_training | INFO | Params: {'classifier__max_depth': 20, 'classifier__min_samples_leaf': 2, 'classifier__min_samples_split': 2, 'classifier__n_estimators': 200, 'feature_selection__n_components': 3}, Mean Test Score: 0.7479099940557117\n",
      "INFO:grid_search_training:Params: {'classifier__max_depth': 20, 'classifier__min_samples_leaf': 2, 'classifier__min_samples_split': 2, 'classifier__n_estimators': 200, 'feature_selection__n_components': 3}, Mean Test Score: 0.7479099940557117\n",
      "2024-10-20 17:56:22,521 | grid_search_training | INFO | Params: {'classifier__max_depth': 20, 'classifier__min_samples_leaf': 2, 'classifier__min_samples_split': 2, 'classifier__n_estimators': 200, 'feature_selection__n_components': 4}, Mean Test Score: 0.8233192318331362\n",
      "INFO:grid_search_training:Params: {'classifier__max_depth': 20, 'classifier__min_samples_leaf': 2, 'classifier__min_samples_split': 2, 'classifier__n_estimators': 200, 'feature_selection__n_components': 4}, Mean Test Score: 0.8233192318331362\n",
      "2024-10-20 17:56:22,522 | grid_search_training | INFO | Params: {'classifier__max_depth': 20, 'classifier__min_samples_leaf': 2, 'classifier__min_samples_split': 2, 'classifier__n_estimators': 200, 'feature_selection__n_components': 5}, Mean Test Score: 0.8441725903561277\n",
      "INFO:grid_search_training:Params: {'classifier__max_depth': 20, 'classifier__min_samples_leaf': 2, 'classifier__min_samples_split': 2, 'classifier__n_estimators': 200, 'feature_selection__n_components': 5}, Mean Test Score: 0.8441725903561277\n",
      "2024-10-20 17:56:22,522 | grid_search_training | INFO | Params: {'classifier__max_depth': 20, 'classifier__min_samples_leaf': 2, 'classifier__min_samples_split': 5, 'classifier__n_estimators': 50, 'feature_selection__n_components': 1}, Mean Test Score: 0.31474036995838994\n",
      "INFO:grid_search_training:Params: {'classifier__max_depth': 20, 'classifier__min_samples_leaf': 2, 'classifier__min_samples_split': 5, 'classifier__n_estimators': 50, 'feature_selection__n_components': 1}, Mean Test Score: 0.31474036995838994\n",
      "2024-10-20 17:56:22,522 | grid_search_training | INFO | Params: {'classifier__max_depth': 20, 'classifier__min_samples_leaf': 2, 'classifier__min_samples_split': 5, 'classifier__n_estimators': 50, 'feature_selection__n_components': 2}, Mean Test Score: 0.5442536798676955\n",
      "INFO:grid_search_training:Params: {'classifier__max_depth': 20, 'classifier__min_samples_leaf': 2, 'classifier__min_samples_split': 5, 'classifier__n_estimators': 50, 'feature_selection__n_components': 2}, Mean Test Score: 0.5442536798676955\n",
      "2024-10-20 17:56:22,523 | grid_search_training | INFO | Params: {'classifier__max_depth': 20, 'classifier__min_samples_leaf': 2, 'classifier__min_samples_split': 5, 'classifier__n_estimators': 50, 'feature_selection__n_components': 3}, Mean Test Score: 0.7397406583446628\n",
      "INFO:grid_search_training:Params: {'classifier__max_depth': 20, 'classifier__min_samples_leaf': 2, 'classifier__min_samples_split': 5, 'classifier__n_estimators': 50, 'feature_selection__n_components': 3}, Mean Test Score: 0.7397406583446628\n",
      "2024-10-20 17:56:22,523 | grid_search_training | INFO | Params: {'classifier__max_depth': 20, 'classifier__min_samples_leaf': 2, 'classifier__min_samples_split': 5, 'classifier__n_estimators': 50, 'feature_selection__n_components': 4}, Mean Test Score: 0.8186168052686407\n",
      "INFO:grid_search_training:Params: {'classifier__max_depth': 20, 'classifier__min_samples_leaf': 2, 'classifier__min_samples_split': 5, 'classifier__n_estimators': 50, 'feature_selection__n_components': 4}, Mean Test Score: 0.8186168052686407\n",
      "2024-10-20 17:56:22,523 | grid_search_training | INFO | Params: {'classifier__max_depth': 20, 'classifier__min_samples_leaf': 2, 'classifier__min_samples_split': 5, 'classifier__n_estimators': 50, 'feature_selection__n_components': 5}, Mean Test Score: 0.8399950209227184\n",
      "INFO:grid_search_training:Params: {'classifier__max_depth': 20, 'classifier__min_samples_leaf': 2, 'classifier__min_samples_split': 5, 'classifier__n_estimators': 50, 'feature_selection__n_components': 5}, Mean Test Score: 0.8399950209227184\n",
      "2024-10-20 17:56:22,524 | grid_search_training | INFO | Params: {'classifier__max_depth': 20, 'classifier__min_samples_leaf': 2, 'classifier__min_samples_split': 5, 'classifier__n_estimators': 100, 'feature_selection__n_components': 1}, Mean Test Score: 0.31959621213458805\n",
      "INFO:grid_search_training:Params: {'classifier__max_depth': 20, 'classifier__min_samples_leaf': 2, 'classifier__min_samples_split': 5, 'classifier__n_estimators': 100, 'feature_selection__n_components': 1}, Mean Test Score: 0.31959621213458805\n",
      "2024-10-20 17:56:22,524 | grid_search_training | INFO | Params: {'classifier__max_depth': 20, 'classifier__min_samples_leaf': 2, 'classifier__min_samples_split': 5, 'classifier__n_estimators': 100, 'feature_selection__n_components': 2}, Mean Test Score: 0.5420911418330774\n",
      "INFO:grid_search_training:Params: {'classifier__max_depth': 20, 'classifier__min_samples_leaf': 2, 'classifier__min_samples_split': 5, 'classifier__n_estimators': 100, 'feature_selection__n_components': 2}, Mean Test Score: 0.5420911418330774\n",
      "2024-10-20 17:56:22,524 | grid_search_training | INFO | Params: {'classifier__max_depth': 20, 'classifier__min_samples_leaf': 2, 'classifier__min_samples_split': 5, 'classifier__n_estimators': 100, 'feature_selection__n_components': 3}, Mean Test Score: 0.7456618406106726\n",
      "INFO:grid_search_training:Params: {'classifier__max_depth': 20, 'classifier__min_samples_leaf': 2, 'classifier__min_samples_split': 5, 'classifier__n_estimators': 100, 'feature_selection__n_components': 3}, Mean Test Score: 0.7456618406106726\n",
      "2024-10-20 17:56:22,525 | grid_search_training | INFO | Params: {'classifier__max_depth': 20, 'classifier__min_samples_leaf': 2, 'classifier__min_samples_split': 5, 'classifier__n_estimators': 100, 'feature_selection__n_components': 4}, Mean Test Score: 0.8201247417765771\n",
      "INFO:grid_search_training:Params: {'classifier__max_depth': 20, 'classifier__min_samples_leaf': 2, 'classifier__min_samples_split': 5, 'classifier__n_estimators': 100, 'feature_selection__n_components': 4}, Mean Test Score: 0.8201247417765771\n",
      "2024-10-20 17:56:22,525 | grid_search_training | INFO | Params: {'classifier__max_depth': 20, 'classifier__min_samples_leaf': 2, 'classifier__min_samples_split': 5, 'classifier__n_estimators': 100, 'feature_selection__n_components': 5}, Mean Test Score: 0.852708370852976\n",
      "INFO:grid_search_training:Params: {'classifier__max_depth': 20, 'classifier__min_samples_leaf': 2, 'classifier__min_samples_split': 5, 'classifier__n_estimators': 100, 'feature_selection__n_components': 5}, Mean Test Score: 0.852708370852976\n",
      "2024-10-20 17:56:22,525 | grid_search_training | INFO | Params: {'classifier__max_depth': 20, 'classifier__min_samples_leaf': 2, 'classifier__min_samples_split': 5, 'classifier__n_estimators': 200, 'feature_selection__n_components': 1}, Mean Test Score: 0.31749082755089425\n",
      "INFO:grid_search_training:Params: {'classifier__max_depth': 20, 'classifier__min_samples_leaf': 2, 'classifier__min_samples_split': 5, 'classifier__n_estimators': 200, 'feature_selection__n_components': 1}, Mean Test Score: 0.31749082755089425\n",
      "2024-10-20 17:56:22,526 | grid_search_training | INFO | Params: {'classifier__max_depth': 20, 'classifier__min_samples_leaf': 2, 'classifier__min_samples_split': 5, 'classifier__n_estimators': 200, 'feature_selection__n_components': 2}, Mean Test Score: 0.5387006315070831\n",
      "INFO:grid_search_training:Params: {'classifier__max_depth': 20, 'classifier__min_samples_leaf': 2, 'classifier__min_samples_split': 5, 'classifier__n_estimators': 200, 'feature_selection__n_components': 2}, Mean Test Score: 0.5387006315070831\n",
      "2024-10-20 17:56:22,526 | grid_search_training | INFO | Params: {'classifier__max_depth': 20, 'classifier__min_samples_leaf': 2, 'classifier__min_samples_split': 5, 'classifier__n_estimators': 200, 'feature_selection__n_components': 3}, Mean Test Score: 0.7451414976075711\n",
      "INFO:grid_search_training:Params: {'classifier__max_depth': 20, 'classifier__min_samples_leaf': 2, 'classifier__min_samples_split': 5, 'classifier__n_estimators': 200, 'feature_selection__n_components': 3}, Mean Test Score: 0.7451414976075711\n",
      "2024-10-20 17:56:22,526 | grid_search_training | INFO | Params: {'classifier__max_depth': 20, 'classifier__min_samples_leaf': 2, 'classifier__min_samples_split': 5, 'classifier__n_estimators': 200, 'feature_selection__n_components': 4}, Mean Test Score: 0.8200371429748514\n",
      "INFO:grid_search_training:Params: {'classifier__max_depth': 20, 'classifier__min_samples_leaf': 2, 'classifier__min_samples_split': 5, 'classifier__n_estimators': 200, 'feature_selection__n_components': 4}, Mean Test Score: 0.8200371429748514\n",
      "2024-10-20 17:56:22,527 | grid_search_training | INFO | Params: {'classifier__max_depth': 20, 'classifier__min_samples_leaf': 2, 'classifier__min_samples_split': 5, 'classifier__n_estimators': 200, 'feature_selection__n_components': 5}, Mean Test Score: 0.8478495624179718\n",
      "INFO:grid_search_training:Params: {'classifier__max_depth': 20, 'classifier__min_samples_leaf': 2, 'classifier__min_samples_split': 5, 'classifier__n_estimators': 200, 'feature_selection__n_components': 5}, Mean Test Score: 0.8478495624179718\n",
      "2024-10-20 17:56:22,528 | grid_search_training | INFO | Params: {'classifier__max_depth': 20, 'classifier__min_samples_leaf': 2, 'classifier__min_samples_split': 10, 'classifier__n_estimators': 50, 'feature_selection__n_components': 1}, Mean Test Score: 0.3291036483806229\n",
      "INFO:grid_search_training:Params: {'classifier__max_depth': 20, 'classifier__min_samples_leaf': 2, 'classifier__min_samples_split': 10, 'classifier__n_estimators': 50, 'feature_selection__n_components': 1}, Mean Test Score: 0.3291036483806229\n",
      "2024-10-20 17:56:22,529 | grid_search_training | INFO | Params: {'classifier__max_depth': 20, 'classifier__min_samples_leaf': 2, 'classifier__min_samples_split': 10, 'classifier__n_estimators': 50, 'feature_selection__n_components': 2}, Mean Test Score: 0.5604888147324187\n",
      "INFO:grid_search_training:Params: {'classifier__max_depth': 20, 'classifier__min_samples_leaf': 2, 'classifier__min_samples_split': 10, 'classifier__n_estimators': 50, 'feature_selection__n_components': 2}, Mean Test Score: 0.5604888147324187\n",
      "2024-10-20 17:56:22,529 | grid_search_training | INFO | Params: {'classifier__max_depth': 20, 'classifier__min_samples_leaf': 2, 'classifier__min_samples_split': 10, 'classifier__n_estimators': 50, 'feature_selection__n_components': 3}, Mean Test Score: 0.7444404835472689\n",
      "INFO:grid_search_training:Params: {'classifier__max_depth': 20, 'classifier__min_samples_leaf': 2, 'classifier__min_samples_split': 10, 'classifier__n_estimators': 50, 'feature_selection__n_components': 3}, Mean Test Score: 0.7444404835472689\n",
      "2024-10-20 17:56:22,558 | grid_search_training | INFO | Params: {'classifier__max_depth': 20, 'classifier__min_samples_leaf': 2, 'classifier__min_samples_split': 10, 'classifier__n_estimators': 50, 'feature_selection__n_components': 4}, Mean Test Score: 0.8117435127802203\n",
      "INFO:grid_search_training:Params: {'classifier__max_depth': 20, 'classifier__min_samples_leaf': 2, 'classifier__min_samples_split': 10, 'classifier__n_estimators': 50, 'feature_selection__n_components': 4}, Mean Test Score: 0.8117435127802203\n",
      "2024-10-20 17:56:22,574 | grid_search_training | INFO | Params: {'classifier__max_depth': 20, 'classifier__min_samples_leaf': 2, 'classifier__min_samples_split': 10, 'classifier__n_estimators': 50, 'feature_selection__n_components': 5}, Mean Test Score: 0.8446564201258306\n",
      "INFO:grid_search_training:Params: {'classifier__max_depth': 20, 'classifier__min_samples_leaf': 2, 'classifier__min_samples_split': 10, 'classifier__n_estimators': 50, 'feature_selection__n_components': 5}, Mean Test Score: 0.8446564201258306\n",
      "2024-10-20 17:56:22,575 | grid_search_training | INFO | Params: {'classifier__max_depth': 20, 'classifier__min_samples_leaf': 2, 'classifier__min_samples_split': 10, 'classifier__n_estimators': 100, 'feature_selection__n_components': 1}, Mean Test Score: 0.3299907127849286\n",
      "INFO:grid_search_training:Params: {'classifier__max_depth': 20, 'classifier__min_samples_leaf': 2, 'classifier__min_samples_split': 10, 'classifier__n_estimators': 100, 'feature_selection__n_components': 1}, Mean Test Score: 0.3299907127849286\n",
      "2024-10-20 17:56:22,576 | grid_search_training | INFO | Params: {'classifier__max_depth': 20, 'classifier__min_samples_leaf': 2, 'classifier__min_samples_split': 10, 'classifier__n_estimators': 100, 'feature_selection__n_components': 2}, Mean Test Score: 0.5527723396366333\n",
      "INFO:grid_search_training:Params: {'classifier__max_depth': 20, 'classifier__min_samples_leaf': 2, 'classifier__min_samples_split': 10, 'classifier__n_estimators': 100, 'feature_selection__n_components': 2}, Mean Test Score: 0.5527723396366333\n",
      "2024-10-20 17:56:22,577 | grid_search_training | INFO | Params: {'classifier__max_depth': 20, 'classifier__min_samples_leaf': 2, 'classifier__min_samples_split': 10, 'classifier__n_estimators': 100, 'feature_selection__n_components': 3}, Mean Test Score: 0.7491573941651805\n",
      "INFO:grid_search_training:Params: {'classifier__max_depth': 20, 'classifier__min_samples_leaf': 2, 'classifier__min_samples_split': 10, 'classifier__n_estimators': 100, 'feature_selection__n_components': 3}, Mean Test Score: 0.7491573941651805\n",
      "2024-10-20 17:56:22,578 | grid_search_training | INFO | Params: {'classifier__max_depth': 20, 'classifier__min_samples_leaf': 2, 'classifier__min_samples_split': 10, 'classifier__n_estimators': 100, 'feature_selection__n_components': 4}, Mean Test Score: 0.8235120327700974\n",
      "INFO:grid_search_training:Params: {'classifier__max_depth': 20, 'classifier__min_samples_leaf': 2, 'classifier__min_samples_split': 10, 'classifier__n_estimators': 100, 'feature_selection__n_components': 4}, Mean Test Score: 0.8235120327700974\n",
      "2024-10-20 17:56:22,579 | grid_search_training | INFO | Params: {'classifier__max_depth': 20, 'classifier__min_samples_leaf': 2, 'classifier__min_samples_split': 10, 'classifier__n_estimators': 100, 'feature_selection__n_components': 5}, Mean Test Score: 0.8455668143910635\n",
      "INFO:grid_search_training:Params: {'classifier__max_depth': 20, 'classifier__min_samples_leaf': 2, 'classifier__min_samples_split': 10, 'classifier__n_estimators': 100, 'feature_selection__n_components': 5}, Mean Test Score: 0.8455668143910635\n",
      "2024-10-20 17:56:22,590 | grid_search_training | INFO | Params: {'classifier__max_depth': 20, 'classifier__min_samples_leaf': 2, 'classifier__min_samples_split': 10, 'classifier__n_estimators': 200, 'feature_selection__n_components': 1}, Mean Test Score: 0.33287096185650134\n",
      "INFO:grid_search_training:Params: {'classifier__max_depth': 20, 'classifier__min_samples_leaf': 2, 'classifier__min_samples_split': 10, 'classifier__n_estimators': 200, 'feature_selection__n_components': 1}, Mean Test Score: 0.33287096185650134\n",
      "2024-10-20 17:56:22,592 | grid_search_training | INFO | Params: {'classifier__max_depth': 20, 'classifier__min_samples_leaf': 2, 'classifier__min_samples_split': 10, 'classifier__n_estimators': 200, 'feature_selection__n_components': 2}, Mean Test Score: 0.5506646715044935\n",
      "INFO:grid_search_training:Params: {'classifier__max_depth': 20, 'classifier__min_samples_leaf': 2, 'classifier__min_samples_split': 10, 'classifier__n_estimators': 200, 'feature_selection__n_components': 2}, Mean Test Score: 0.5506646715044935\n",
      "2024-10-20 17:56:22,593 | grid_search_training | INFO | Params: {'classifier__max_depth': 20, 'classifier__min_samples_leaf': 2, 'classifier__min_samples_split': 10, 'classifier__n_estimators': 200, 'feature_selection__n_components': 3}, Mean Test Score: 0.739961444520955\n",
      "INFO:grid_search_training:Params: {'classifier__max_depth': 20, 'classifier__min_samples_leaf': 2, 'classifier__min_samples_split': 10, 'classifier__n_estimators': 200, 'feature_selection__n_components': 3}, Mean Test Score: 0.739961444520955\n",
      "2024-10-20 17:56:22,594 | grid_search_training | INFO | Params: {'classifier__max_depth': 20, 'classifier__min_samples_leaf': 2, 'classifier__min_samples_split': 10, 'classifier__n_estimators': 200, 'feature_selection__n_components': 4}, Mean Test Score: 0.8172459993761441\n",
      "INFO:grid_search_training:Params: {'classifier__max_depth': 20, 'classifier__min_samples_leaf': 2, 'classifier__min_samples_split': 10, 'classifier__n_estimators': 200, 'feature_selection__n_components': 4}, Mean Test Score: 0.8172459993761441\n",
      "2024-10-20 17:56:22,595 | grid_search_training | INFO | Params: {'classifier__max_depth': 20, 'classifier__min_samples_leaf': 2, 'classifier__min_samples_split': 10, 'classifier__n_estimators': 200, 'feature_selection__n_components': 5}, Mean Test Score: 0.8463026054816932\n",
      "INFO:grid_search_training:Params: {'classifier__max_depth': 20, 'classifier__min_samples_leaf': 2, 'classifier__min_samples_split': 10, 'classifier__n_estimators': 200, 'feature_selection__n_components': 5}, Mean Test Score: 0.8463026054816932\n",
      "2024-10-20 17:56:22,596 | grid_search_training | INFO | Params: {'classifier__max_depth': 20, 'classifier__min_samples_leaf': 4, 'classifier__min_samples_split': 2, 'classifier__n_estimators': 50, 'feature_selection__n_components': 1}, Mean Test Score: 0.33492683816821744\n",
      "INFO:grid_search_training:Params: {'classifier__max_depth': 20, 'classifier__min_samples_leaf': 4, 'classifier__min_samples_split': 2, 'classifier__n_estimators': 50, 'feature_selection__n_components': 1}, Mean Test Score: 0.33492683816821744\n",
      "2024-10-20 17:56:22,597 | grid_search_training | INFO | Params: {'classifier__max_depth': 20, 'classifier__min_samples_leaf': 4, 'classifier__min_samples_split': 2, 'classifier__n_estimators': 50, 'feature_selection__n_components': 2}, Mean Test Score: 0.55125183772681\n",
      "INFO:grid_search_training:Params: {'classifier__max_depth': 20, 'classifier__min_samples_leaf': 4, 'classifier__min_samples_split': 2, 'classifier__n_estimators': 50, 'feature_selection__n_components': 2}, Mean Test Score: 0.55125183772681\n",
      "2024-10-20 17:56:22,598 | grid_search_training | INFO | Params: {'classifier__max_depth': 20, 'classifier__min_samples_leaf': 4, 'classifier__min_samples_split': 2, 'classifier__n_estimators': 50, 'feature_selection__n_components': 3}, Mean Test Score: 0.7446458734278535\n",
      "INFO:grid_search_training:Params: {'classifier__max_depth': 20, 'classifier__min_samples_leaf': 4, 'classifier__min_samples_split': 2, 'classifier__n_estimators': 50, 'feature_selection__n_components': 3}, Mean Test Score: 0.7446458734278535\n",
      "2024-10-20 17:56:22,598 | grid_search_training | INFO | Params: {'classifier__max_depth': 20, 'classifier__min_samples_leaf': 4, 'classifier__min_samples_split': 2, 'classifier__n_estimators': 50, 'feature_selection__n_components': 4}, Mean Test Score: 0.8104333268593559\n",
      "INFO:grid_search_training:Params: {'classifier__max_depth': 20, 'classifier__min_samples_leaf': 4, 'classifier__min_samples_split': 2, 'classifier__n_estimators': 50, 'feature_selection__n_components': 4}, Mean Test Score: 0.8104333268593559\n",
      "2024-10-20 17:56:22,599 | grid_search_training | INFO | Params: {'classifier__max_depth': 20, 'classifier__min_samples_leaf': 4, 'classifier__min_samples_split': 2, 'classifier__n_estimators': 50, 'feature_selection__n_components': 5}, Mean Test Score: 0.8356347970408038\n",
      "INFO:grid_search_training:Params: {'classifier__max_depth': 20, 'classifier__min_samples_leaf': 4, 'classifier__min_samples_split': 2, 'classifier__n_estimators': 50, 'feature_selection__n_components': 5}, Mean Test Score: 0.8356347970408038\n",
      "2024-10-20 17:56:22,600 | grid_search_training | INFO | Params: {'classifier__max_depth': 20, 'classifier__min_samples_leaf': 4, 'classifier__min_samples_split': 2, 'classifier__n_estimators': 100, 'feature_selection__n_components': 1}, Mean Test Score: 0.33119567302882097\n",
      "INFO:grid_search_training:Params: {'classifier__max_depth': 20, 'classifier__min_samples_leaf': 4, 'classifier__min_samples_split': 2, 'classifier__n_estimators': 100, 'feature_selection__n_components': 1}, Mean Test Score: 0.33119567302882097\n",
      "2024-10-20 17:56:22,601 | grid_search_training | INFO | Params: {'classifier__max_depth': 20, 'classifier__min_samples_leaf': 4, 'classifier__min_samples_split': 2, 'classifier__n_estimators': 100, 'feature_selection__n_components': 2}, Mean Test Score: 0.5494130515387468\n",
      "INFO:grid_search_training:Params: {'classifier__max_depth': 20, 'classifier__min_samples_leaf': 4, 'classifier__min_samples_split': 2, 'classifier__n_estimators': 100, 'feature_selection__n_components': 2}, Mean Test Score: 0.5494130515387468\n",
      "2024-10-20 17:56:22,602 | grid_search_training | INFO | Params: {'classifier__max_depth': 20, 'classifier__min_samples_leaf': 4, 'classifier__min_samples_split': 2, 'classifier__n_estimators': 100, 'feature_selection__n_components': 3}, Mean Test Score: 0.731626263161302\n",
      "INFO:grid_search_training:Params: {'classifier__max_depth': 20, 'classifier__min_samples_leaf': 4, 'classifier__min_samples_split': 2, 'classifier__n_estimators': 100, 'feature_selection__n_components': 3}, Mean Test Score: 0.731626263161302\n",
      "2024-10-20 17:56:22,604 | grid_search_training | INFO | Params: {'classifier__max_depth': 20, 'classifier__min_samples_leaf': 4, 'classifier__min_samples_split': 2, 'classifier__n_estimators': 100, 'feature_selection__n_components': 4}, Mean Test Score: 0.8227977470558117\n",
      "INFO:grid_search_training:Params: {'classifier__max_depth': 20, 'classifier__min_samples_leaf': 4, 'classifier__min_samples_split': 2, 'classifier__n_estimators': 100, 'feature_selection__n_components': 4}, Mean Test Score: 0.8227977470558117\n",
      "2024-10-20 17:56:22,605 | grid_search_training | INFO | Params: {'classifier__max_depth': 20, 'classifier__min_samples_leaf': 4, 'classifier__min_samples_split': 2, 'classifier__n_estimators': 100, 'feature_selection__n_components': 5}, Mean Test Score: 0.8405793797929505\n",
      "INFO:grid_search_training:Params: {'classifier__max_depth': 20, 'classifier__min_samples_leaf': 4, 'classifier__min_samples_split': 2, 'classifier__n_estimators': 100, 'feature_selection__n_components': 5}, Mean Test Score: 0.8405793797929505\n",
      "2024-10-20 17:56:22,606 | grid_search_training | INFO | Params: {'classifier__max_depth': 20, 'classifier__min_samples_leaf': 4, 'classifier__min_samples_split': 2, 'classifier__n_estimators': 200, 'feature_selection__n_components': 1}, Mean Test Score: 0.336087616458028\n",
      "INFO:grid_search_training:Params: {'classifier__max_depth': 20, 'classifier__min_samples_leaf': 4, 'classifier__min_samples_split': 2, 'classifier__n_estimators': 200, 'feature_selection__n_components': 1}, Mean Test Score: 0.336087616458028\n",
      "2024-10-20 17:56:22,607 | grid_search_training | INFO | Params: {'classifier__max_depth': 20, 'classifier__min_samples_leaf': 4, 'classifier__min_samples_split': 2, 'classifier__n_estimators': 200, 'feature_selection__n_components': 2}, Mean Test Score: 0.5451785817280813\n",
      "INFO:grid_search_training:Params: {'classifier__max_depth': 20, 'classifier__min_samples_leaf': 4, 'classifier__min_samples_split': 2, 'classifier__n_estimators': 200, 'feature_selection__n_components': 2}, Mean Test Score: 0.5451785817280813\n",
      "2024-10-20 17:56:22,608 | grid_search_training | INFO | Params: {'classifier__max_depth': 20, 'classifier__min_samples_leaf': 4, 'classifier__min_samples_split': 2, 'classifier__n_estimators': 200, 'feature_selection__n_components': 3}, Mean Test Score: 0.7401491369010834\n",
      "INFO:grid_search_training:Params: {'classifier__max_depth': 20, 'classifier__min_samples_leaf': 4, 'classifier__min_samples_split': 2, 'classifier__n_estimators': 200, 'feature_selection__n_components': 3}, Mean Test Score: 0.7401491369010834\n",
      "2024-10-20 17:56:22,609 | grid_search_training | INFO | Params: {'classifier__max_depth': 20, 'classifier__min_samples_leaf': 4, 'classifier__min_samples_split': 2, 'classifier__n_estimators': 200, 'feature_selection__n_components': 4}, Mean Test Score: 0.81298256734408\n",
      "INFO:grid_search_training:Params: {'classifier__max_depth': 20, 'classifier__min_samples_leaf': 4, 'classifier__min_samples_split': 2, 'classifier__n_estimators': 200, 'feature_selection__n_components': 4}, Mean Test Score: 0.81298256734408\n",
      "2024-10-20 17:56:22,610 | grid_search_training | INFO | Params: {'classifier__max_depth': 20, 'classifier__min_samples_leaf': 4, 'classifier__min_samples_split': 2, 'classifier__n_estimators': 200, 'feature_selection__n_components': 5}, Mean Test Score: 0.8385091135947643\n",
      "INFO:grid_search_training:Params: {'classifier__max_depth': 20, 'classifier__min_samples_leaf': 4, 'classifier__min_samples_split': 2, 'classifier__n_estimators': 200, 'feature_selection__n_components': 5}, Mean Test Score: 0.8385091135947643\n",
      "2024-10-20 17:56:22,611 | grid_search_training | INFO | Params: {'classifier__max_depth': 20, 'classifier__min_samples_leaf': 4, 'classifier__min_samples_split': 5, 'classifier__n_estimators': 50, 'feature_selection__n_components': 1}, Mean Test Score: 0.33252423916050167\n",
      "INFO:grid_search_training:Params: {'classifier__max_depth': 20, 'classifier__min_samples_leaf': 4, 'classifier__min_samples_split': 5, 'classifier__n_estimators': 50, 'feature_selection__n_components': 1}, Mean Test Score: 0.33252423916050167\n",
      "2024-10-20 17:56:22,612 | grid_search_training | INFO | Params: {'classifier__max_depth': 20, 'classifier__min_samples_leaf': 4, 'classifier__min_samples_split': 5, 'classifier__n_estimators': 50, 'feature_selection__n_components': 2}, Mean Test Score: 0.5501766925037226\n",
      "INFO:grid_search_training:Params: {'classifier__max_depth': 20, 'classifier__min_samples_leaf': 4, 'classifier__min_samples_split': 5, 'classifier__n_estimators': 50, 'feature_selection__n_components': 2}, Mean Test Score: 0.5501766925037226\n",
      "2024-10-20 17:56:22,612 | grid_search_training | INFO | Params: {'classifier__max_depth': 20, 'classifier__min_samples_leaf': 4, 'classifier__min_samples_split': 5, 'classifier__n_estimators': 50, 'feature_selection__n_components': 3}, Mean Test Score: 0.7408909958743106\n",
      "INFO:grid_search_training:Params: {'classifier__max_depth': 20, 'classifier__min_samples_leaf': 4, 'classifier__min_samples_split': 5, 'classifier__n_estimators': 50, 'feature_selection__n_components': 3}, Mean Test Score: 0.7408909958743106\n",
      "2024-10-20 17:56:22,614 | grid_search_training | INFO | Params: {'classifier__max_depth': 20, 'classifier__min_samples_leaf': 4, 'classifier__min_samples_split': 5, 'classifier__n_estimators': 50, 'feature_selection__n_components': 4}, Mean Test Score: 0.8235960061443933\n",
      "INFO:grid_search_training:Params: {'classifier__max_depth': 20, 'classifier__min_samples_leaf': 4, 'classifier__min_samples_split': 5, 'classifier__n_estimators': 50, 'feature_selection__n_components': 4}, Mean Test Score: 0.8235960061443933\n",
      "2024-10-20 17:56:22,615 | grid_search_training | INFO | Params: {'classifier__max_depth': 20, 'classifier__min_samples_leaf': 4, 'classifier__min_samples_split': 5, 'classifier__n_estimators': 50, 'feature_selection__n_components': 5}, Mean Test Score: 0.8393646144157824\n",
      "INFO:grid_search_training:Params: {'classifier__max_depth': 20, 'classifier__min_samples_leaf': 4, 'classifier__min_samples_split': 5, 'classifier__n_estimators': 50, 'feature_selection__n_components': 5}, Mean Test Score: 0.8393646144157824\n",
      "2024-10-20 17:56:22,615 | grid_search_training | INFO | Params: {'classifier__max_depth': 20, 'classifier__min_samples_leaf': 4, 'classifier__min_samples_split': 5, 'classifier__n_estimators': 100, 'feature_selection__n_components': 1}, Mean Test Score: 0.3398368910782704\n",
      "INFO:grid_search_training:Params: {'classifier__max_depth': 20, 'classifier__min_samples_leaf': 4, 'classifier__min_samples_split': 5, 'classifier__n_estimators': 100, 'feature_selection__n_components': 1}, Mean Test Score: 0.3398368910782704\n",
      "2024-10-20 17:56:22,615 | grid_search_training | INFO | Params: {'classifier__max_depth': 20, 'classifier__min_samples_leaf': 4, 'classifier__min_samples_split': 5, 'classifier__n_estimators': 100, 'feature_selection__n_components': 2}, Mean Test Score: 0.5479076222257535\n",
      "INFO:grid_search_training:Params: {'classifier__max_depth': 20, 'classifier__min_samples_leaf': 4, 'classifier__min_samples_split': 5, 'classifier__n_estimators': 100, 'feature_selection__n_components': 2}, Mean Test Score: 0.5479076222257535\n",
      "2024-10-20 17:56:22,616 | grid_search_training | INFO | Params: {'classifier__max_depth': 20, 'classifier__min_samples_leaf': 4, 'classifier__min_samples_split': 5, 'classifier__n_estimators': 100, 'feature_selection__n_components': 3}, Mean Test Score: 0.7337661775870897\n",
      "INFO:grid_search_training:Params: {'classifier__max_depth': 20, 'classifier__min_samples_leaf': 4, 'classifier__min_samples_split': 5, 'classifier__n_estimators': 100, 'feature_selection__n_components': 3}, Mean Test Score: 0.7337661775870897\n",
      "2024-10-20 17:56:22,617 | grid_search_training | INFO | Params: {'classifier__max_depth': 20, 'classifier__min_samples_leaf': 4, 'classifier__min_samples_split': 5, 'classifier__n_estimators': 100, 'feature_selection__n_components': 4}, Mean Test Score: 0.8158099711025184\n",
      "INFO:grid_search_training:Params: {'classifier__max_depth': 20, 'classifier__min_samples_leaf': 4, 'classifier__min_samples_split': 5, 'classifier__n_estimators': 100, 'feature_selection__n_components': 4}, Mean Test Score: 0.8158099711025184\n",
      "2024-10-20 17:56:22,618 | grid_search_training | INFO | Params: {'classifier__max_depth': 20, 'classifier__min_samples_leaf': 4, 'classifier__min_samples_split': 5, 'classifier__n_estimators': 100, 'feature_selection__n_components': 5}, Mean Test Score: 0.8406091188916551\n",
      "INFO:grid_search_training:Params: {'classifier__max_depth': 20, 'classifier__min_samples_leaf': 4, 'classifier__min_samples_split': 5, 'classifier__n_estimators': 100, 'feature_selection__n_components': 5}, Mean Test Score: 0.8406091188916551\n",
      "2024-10-20 17:56:22,618 | grid_search_training | INFO | Params: {'classifier__max_depth': 20, 'classifier__min_samples_leaf': 4, 'classifier__min_samples_split': 5, 'classifier__n_estimators': 200, 'feature_selection__n_components': 1}, Mean Test Score: 0.33535164291893993\n",
      "INFO:grid_search_training:Params: {'classifier__max_depth': 20, 'classifier__min_samples_leaf': 4, 'classifier__min_samples_split': 5, 'classifier__n_estimators': 200, 'feature_selection__n_components': 1}, Mean Test Score: 0.33535164291893993\n",
      "2024-10-20 17:56:22,620 | grid_search_training | INFO | Params: {'classifier__max_depth': 20, 'classifier__min_samples_leaf': 4, 'classifier__min_samples_split': 5, 'classifier__n_estimators': 200, 'feature_selection__n_components': 2}, Mean Test Score: 0.5508634932405789\n",
      "INFO:grid_search_training:Params: {'classifier__max_depth': 20, 'classifier__min_samples_leaf': 4, 'classifier__min_samples_split': 5, 'classifier__n_estimators': 200, 'feature_selection__n_components': 2}, Mean Test Score: 0.5508634932405789\n",
      "2024-10-20 17:56:22,621 | grid_search_training | INFO | Params: {'classifier__max_depth': 20, 'classifier__min_samples_leaf': 4, 'classifier__min_samples_split': 5, 'classifier__n_estimators': 200, 'feature_selection__n_components': 3}, Mean Test Score: 0.7407618459075633\n",
      "INFO:grid_search_training:Params: {'classifier__max_depth': 20, 'classifier__min_samples_leaf': 4, 'classifier__min_samples_split': 5, 'classifier__n_estimators': 200, 'feature_selection__n_components': 3}, Mean Test Score: 0.7407618459075633\n",
      "2024-10-20 17:56:22,622 | grid_search_training | INFO | Params: {'classifier__max_depth': 20, 'classifier__min_samples_leaf': 4, 'classifier__min_samples_split': 5, 'classifier__n_estimators': 200, 'feature_selection__n_components': 4}, Mean Test Score: 0.8153413963781038\n",
      "INFO:grid_search_training:Params: {'classifier__max_depth': 20, 'classifier__min_samples_leaf': 4, 'classifier__min_samples_split': 5, 'classifier__n_estimators': 200, 'feature_selection__n_components': 4}, Mean Test Score: 0.8153413963781038\n",
      "2024-10-20 17:56:22,622 | grid_search_training | INFO | Params: {'classifier__max_depth': 20, 'classifier__min_samples_leaf': 4, 'classifier__min_samples_split': 5, 'classifier__n_estimators': 200, 'feature_selection__n_components': 5}, Mean Test Score: 0.8440504617123082\n",
      "INFO:grid_search_training:Params: {'classifier__max_depth': 20, 'classifier__min_samples_leaf': 4, 'classifier__min_samples_split': 5, 'classifier__n_estimators': 200, 'feature_selection__n_components': 5}, Mean Test Score: 0.8440504617123082\n",
      "2024-10-20 17:56:22,623 | grid_search_training | INFO | Params: {'classifier__max_depth': 20, 'classifier__min_samples_leaf': 4, 'classifier__min_samples_split': 10, 'classifier__n_estimators': 50, 'feature_selection__n_components': 1}, Mean Test Score: 0.33924089670474544\n",
      "INFO:grid_search_training:Params: {'classifier__max_depth': 20, 'classifier__min_samples_leaf': 4, 'classifier__min_samples_split': 10, 'classifier__n_estimators': 50, 'feature_selection__n_components': 1}, Mean Test Score: 0.33924089670474544\n",
      "2024-10-20 17:56:22,624 | grid_search_training | INFO | Params: {'classifier__max_depth': 20, 'classifier__min_samples_leaf': 4, 'classifier__min_samples_split': 10, 'classifier__n_estimators': 50, 'feature_selection__n_components': 2}, Mean Test Score: 0.5422895339324706\n",
      "INFO:grid_search_training:Params: {'classifier__max_depth': 20, 'classifier__min_samples_leaf': 4, 'classifier__min_samples_split': 10, 'classifier__n_estimators': 50, 'feature_selection__n_components': 2}, Mean Test Score: 0.5422895339324706\n",
      "2024-10-20 17:56:22,625 | grid_search_training | INFO | Params: {'classifier__max_depth': 20, 'classifier__min_samples_leaf': 4, 'classifier__min_samples_split': 10, 'classifier__n_estimators': 50, 'feature_selection__n_components': 3}, Mean Test Score: 0.7338909723325742\n",
      "INFO:grid_search_training:Params: {'classifier__max_depth': 20, 'classifier__min_samples_leaf': 4, 'classifier__min_samples_split': 10, 'classifier__n_estimators': 50, 'feature_selection__n_components': 3}, Mean Test Score: 0.7338909723325742\n",
      "2024-10-20 17:56:22,626 | grid_search_training | INFO | Params: {'classifier__max_depth': 20, 'classifier__min_samples_leaf': 4, 'classifier__min_samples_split': 10, 'classifier__n_estimators': 50, 'feature_selection__n_components': 4}, Mean Test Score: 0.8123754906980712\n",
      "INFO:grid_search_training:Params: {'classifier__max_depth': 20, 'classifier__min_samples_leaf': 4, 'classifier__min_samples_split': 10, 'classifier__n_estimators': 50, 'feature_selection__n_components': 4}, Mean Test Score: 0.8123754906980712\n",
      "2024-10-20 17:56:22,627 | grid_search_training | INFO | Params: {'classifier__max_depth': 20, 'classifier__min_samples_leaf': 4, 'classifier__min_samples_split': 10, 'classifier__n_estimators': 50, 'feature_selection__n_components': 5}, Mean Test Score: 0.8342934830587779\n",
      "INFO:grid_search_training:Params: {'classifier__max_depth': 20, 'classifier__min_samples_leaf': 4, 'classifier__min_samples_split': 10, 'classifier__n_estimators': 50, 'feature_selection__n_components': 5}, Mean Test Score: 0.8342934830587779\n",
      "2024-10-20 17:56:22,628 | grid_search_training | INFO | Params: {'classifier__max_depth': 20, 'classifier__min_samples_leaf': 4, 'classifier__min_samples_split': 10, 'classifier__n_estimators': 100, 'feature_selection__n_components': 1}, Mean Test Score: 0.3437806027861645\n",
      "INFO:grid_search_training:Params: {'classifier__max_depth': 20, 'classifier__min_samples_leaf': 4, 'classifier__min_samples_split': 10, 'classifier__n_estimators': 100, 'feature_selection__n_components': 1}, Mean Test Score: 0.3437806027861645\n",
      "2024-10-20 17:56:22,629 | grid_search_training | INFO | Params: {'classifier__max_depth': 20, 'classifier__min_samples_leaf': 4, 'classifier__min_samples_split': 10, 'classifier__n_estimators': 100, 'feature_selection__n_components': 2}, Mean Test Score: 0.5443366291764512\n",
      "INFO:grid_search_training:Params: {'classifier__max_depth': 20, 'classifier__min_samples_leaf': 4, 'classifier__min_samples_split': 10, 'classifier__n_estimators': 100, 'feature_selection__n_components': 2}, Mean Test Score: 0.5443366291764512\n",
      "2024-10-20 17:56:22,631 | grid_search_training | INFO | Params: {'classifier__max_depth': 20, 'classifier__min_samples_leaf': 4, 'classifier__min_samples_split': 10, 'classifier__n_estimators': 100, 'feature_selection__n_components': 3}, Mean Test Score: 0.7372971026007733\n",
      "INFO:grid_search_training:Params: {'classifier__max_depth': 20, 'classifier__min_samples_leaf': 4, 'classifier__min_samples_split': 10, 'classifier__n_estimators': 100, 'feature_selection__n_components': 3}, Mean Test Score: 0.7372971026007733\n",
      "2024-10-20 17:56:22,631 | grid_search_training | INFO | Params: {'classifier__max_depth': 20, 'classifier__min_samples_leaf': 4, 'classifier__min_samples_split': 10, 'classifier__n_estimators': 100, 'feature_selection__n_components': 4}, Mean Test Score: 0.8166515822989682\n",
      "INFO:grid_search_training:Params: {'classifier__max_depth': 20, 'classifier__min_samples_leaf': 4, 'classifier__min_samples_split': 10, 'classifier__n_estimators': 100, 'feature_selection__n_components': 4}, Mean Test Score: 0.8166515822989682\n",
      "2024-10-20 17:56:22,632 | grid_search_training | INFO | Params: {'classifier__max_depth': 20, 'classifier__min_samples_leaf': 4, 'classifier__min_samples_split': 10, 'classifier__n_estimators': 100, 'feature_selection__n_components': 5}, Mean Test Score: 0.8400590367898488\n",
      "INFO:grid_search_training:Params: {'classifier__max_depth': 20, 'classifier__min_samples_leaf': 4, 'classifier__min_samples_split': 10, 'classifier__n_estimators': 100, 'feature_selection__n_components': 5}, Mean Test Score: 0.8400590367898488\n",
      "2024-10-20 17:56:22,633 | grid_search_training | INFO | Params: {'classifier__max_depth': 20, 'classifier__min_samples_leaf': 4, 'classifier__min_samples_split': 10, 'classifier__n_estimators': 200, 'feature_selection__n_components': 1}, Mean Test Score: 0.3382784340036843\n",
      "INFO:grid_search_training:Params: {'classifier__max_depth': 20, 'classifier__min_samples_leaf': 4, 'classifier__min_samples_split': 10, 'classifier__n_estimators': 200, 'feature_selection__n_components': 1}, Mean Test Score: 0.3382784340036843\n",
      "2024-10-20 17:56:22,634 | grid_search_training | INFO | Params: {'classifier__max_depth': 20, 'classifier__min_samples_leaf': 4, 'classifier__min_samples_split': 10, 'classifier__n_estimators': 200, 'feature_selection__n_components': 2}, Mean Test Score: 0.5478888771180207\n",
      "INFO:grid_search_training:Params: {'classifier__max_depth': 20, 'classifier__min_samples_leaf': 4, 'classifier__min_samples_split': 10, 'classifier__n_estimators': 200, 'feature_selection__n_components': 2}, Mean Test Score: 0.5478888771180207\n",
      "2024-10-20 17:56:22,635 | grid_search_training | INFO | Params: {'classifier__max_depth': 20, 'classifier__min_samples_leaf': 4, 'classifier__min_samples_split': 10, 'classifier__n_estimators': 200, 'feature_selection__n_components': 3}, Mean Test Score: 0.7394383177075057\n",
      "INFO:grid_search_training:Params: {'classifier__max_depth': 20, 'classifier__min_samples_leaf': 4, 'classifier__min_samples_split': 10, 'classifier__n_estimators': 200, 'feature_selection__n_components': 3}, Mean Test Score: 0.7394383177075057\n",
      "2024-10-20 17:56:22,635 | grid_search_training | INFO | Params: {'classifier__max_depth': 20, 'classifier__min_samples_leaf': 4, 'classifier__min_samples_split': 10, 'classifier__n_estimators': 200, 'feature_selection__n_components': 4}, Mean Test Score: 0.8118239960920718\n",
      "INFO:grid_search_training:Params: {'classifier__max_depth': 20, 'classifier__min_samples_leaf': 4, 'classifier__min_samples_split': 10, 'classifier__n_estimators': 200, 'feature_selection__n_components': 4}, Mean Test Score: 0.8118239960920718\n",
      "2024-10-20 17:56:22,636 | grid_search_training | INFO | Params: {'classifier__max_depth': 20, 'classifier__min_samples_leaf': 4, 'classifier__min_samples_split': 10, 'classifier__n_estimators': 200, 'feature_selection__n_components': 5}, Mean Test Score: 0.8350553878206824\n",
      "INFO:grid_search_training:Params: {'classifier__max_depth': 20, 'classifier__min_samples_leaf': 4, 'classifier__min_samples_split': 10, 'classifier__n_estimators': 200, 'feature_selection__n_components': 5}, Mean Test Score: 0.8350553878206824\n",
      "2024-10-20 17:56:22,637 | grid_search_training | INFO | Params: {'classifier__max_depth': 30, 'classifier__min_samples_leaf': 1, 'classifier__min_samples_split': 2, 'classifier__n_estimators': 50, 'feature_selection__n_components': 1}, Mean Test Score: 0.27566681968795426\n",
      "INFO:grid_search_training:Params: {'classifier__max_depth': 30, 'classifier__min_samples_leaf': 1, 'classifier__min_samples_split': 2, 'classifier__n_estimators': 50, 'feature_selection__n_components': 1}, Mean Test Score: 0.27566681968795426\n",
      "2024-10-20 17:56:22,638 | grid_search_training | INFO | Params: {'classifier__max_depth': 30, 'classifier__min_samples_leaf': 1, 'classifier__min_samples_split': 2, 'classifier__n_estimators': 50, 'feature_selection__n_components': 2}, Mean Test Score: 0.523416488632284\n",
      "INFO:grid_search_training:Params: {'classifier__max_depth': 30, 'classifier__min_samples_leaf': 1, 'classifier__min_samples_split': 2, 'classifier__n_estimators': 50, 'feature_selection__n_components': 2}, Mean Test Score: 0.523416488632284\n",
      "2024-10-20 17:56:22,649 | grid_search_training | INFO | Params: {'classifier__max_depth': 30, 'classifier__min_samples_leaf': 1, 'classifier__min_samples_split': 2, 'classifier__n_estimators': 50, 'feature_selection__n_components': 3}, Mean Test Score: 0.741089523338689\n",
      "INFO:grid_search_training:Params: {'classifier__max_depth': 30, 'classifier__min_samples_leaf': 1, 'classifier__min_samples_split': 2, 'classifier__n_estimators': 50, 'feature_selection__n_components': 3}, Mean Test Score: 0.741089523338689\n",
      "2024-10-20 17:56:22,680 | grid_search_training | INFO | Params: {'classifier__max_depth': 30, 'classifier__min_samples_leaf': 1, 'classifier__min_samples_split': 2, 'classifier__n_estimators': 50, 'feature_selection__n_components': 4}, Mean Test Score: 0.8304250519389562\n",
      "INFO:grid_search_training:Params: {'classifier__max_depth': 30, 'classifier__min_samples_leaf': 1, 'classifier__min_samples_split': 2, 'classifier__n_estimators': 50, 'feature_selection__n_components': 4}, Mean Test Score: 0.8304250519389562\n",
      "2024-10-20 17:56:22,681 | grid_search_training | INFO | Params: {'classifier__max_depth': 30, 'classifier__min_samples_leaf': 1, 'classifier__min_samples_split': 2, 'classifier__n_estimators': 50, 'feature_selection__n_components': 5}, Mean Test Score: 0.838439806722343\n",
      "INFO:grid_search_training:Params: {'classifier__max_depth': 30, 'classifier__min_samples_leaf': 1, 'classifier__min_samples_split': 2, 'classifier__n_estimators': 50, 'feature_selection__n_components': 5}, Mean Test Score: 0.838439806722343\n",
      "2024-10-20 17:56:22,681 | grid_search_training | INFO | Params: {'classifier__max_depth': 30, 'classifier__min_samples_leaf': 1, 'classifier__min_samples_split': 2, 'classifier__n_estimators': 100, 'feature_selection__n_components': 1}, Mean Test Score: 0.27855224205613527\n",
      "INFO:grid_search_training:Params: {'classifier__max_depth': 30, 'classifier__min_samples_leaf': 1, 'classifier__min_samples_split': 2, 'classifier__n_estimators': 100, 'feature_selection__n_components': 1}, Mean Test Score: 0.27855224205613527\n",
      "2024-10-20 17:56:22,683 | grid_search_training | INFO | Params: {'classifier__max_depth': 30, 'classifier__min_samples_leaf': 1, 'classifier__min_samples_split': 2, 'classifier__n_estimators': 100, 'feature_selection__n_components': 2}, Mean Test Score: 0.5261333050832494\n",
      "INFO:grid_search_training:Params: {'classifier__max_depth': 30, 'classifier__min_samples_leaf': 1, 'classifier__min_samples_split': 2, 'classifier__n_estimators': 100, 'feature_selection__n_components': 2}, Mean Test Score: 0.5261333050832494\n",
      "2024-10-20 17:56:22,684 | grid_search_training | INFO | Params: {'classifier__max_depth': 30, 'classifier__min_samples_leaf': 1, 'classifier__min_samples_split': 2, 'classifier__n_estimators': 100, 'feature_selection__n_components': 3}, Mean Test Score: 0.7492050838380093\n",
      "INFO:grid_search_training:Params: {'classifier__max_depth': 30, 'classifier__min_samples_leaf': 1, 'classifier__min_samples_split': 2, 'classifier__n_estimators': 100, 'feature_selection__n_components': 3}, Mean Test Score: 0.7492050838380093\n",
      "2024-10-20 17:56:22,693 | grid_search_training | INFO | Params: {'classifier__max_depth': 30, 'classifier__min_samples_leaf': 1, 'classifier__min_samples_split': 2, 'classifier__n_estimators': 100, 'feature_selection__n_components': 4}, Mean Test Score: 0.8219857160513445\n",
      "INFO:grid_search_training:Params: {'classifier__max_depth': 30, 'classifier__min_samples_leaf': 1, 'classifier__min_samples_split': 2, 'classifier__n_estimators': 100, 'feature_selection__n_components': 4}, Mean Test Score: 0.8219857160513445\n",
      "2024-10-20 17:56:22,694 | grid_search_training | INFO | Params: {'classifier__max_depth': 30, 'classifier__min_samples_leaf': 1, 'classifier__min_samples_split': 2, 'classifier__n_estimators': 100, 'feature_selection__n_components': 5}, Mean Test Score: 0.847522479415694\n",
      "INFO:grid_search_training:Params: {'classifier__max_depth': 30, 'classifier__min_samples_leaf': 1, 'classifier__min_samples_split': 2, 'classifier__n_estimators': 100, 'feature_selection__n_components': 5}, Mean Test Score: 0.847522479415694\n",
      "2024-10-20 17:56:22,695 | grid_search_training | INFO | Params: {'classifier__max_depth': 30, 'classifier__min_samples_leaf': 1, 'classifier__min_samples_split': 2, 'classifier__n_estimators': 200, 'feature_selection__n_components': 1}, Mean Test Score: 0.27640573594411194\n",
      "INFO:grid_search_training:Params: {'classifier__max_depth': 30, 'classifier__min_samples_leaf': 1, 'classifier__min_samples_split': 2, 'classifier__n_estimators': 200, 'feature_selection__n_components': 1}, Mean Test Score: 0.27640573594411194\n",
      "2024-10-20 17:56:22,700 | grid_search_training | INFO | Params: {'classifier__max_depth': 30, 'classifier__min_samples_leaf': 1, 'classifier__min_samples_split': 2, 'classifier__n_estimators': 200, 'feature_selection__n_components': 2}, Mean Test Score: 0.5288755289533933\n",
      "INFO:grid_search_training:Params: {'classifier__max_depth': 30, 'classifier__min_samples_leaf': 1, 'classifier__min_samples_split': 2, 'classifier__n_estimators': 200, 'feature_selection__n_components': 2}, Mean Test Score: 0.5288755289533933\n",
      "2024-10-20 17:56:22,700 | grid_search_training | INFO | Params: {'classifier__max_depth': 30, 'classifier__min_samples_leaf': 1, 'classifier__min_samples_split': 2, 'classifier__n_estimators': 200, 'feature_selection__n_components': 3}, Mean Test Score: 0.7450607435657493\n",
      "INFO:grid_search_training:Params: {'classifier__max_depth': 30, 'classifier__min_samples_leaf': 1, 'classifier__min_samples_split': 2, 'classifier__n_estimators': 200, 'feature_selection__n_components': 3}, Mean Test Score: 0.7450607435657493\n",
      "2024-10-20 17:56:22,701 | grid_search_training | INFO | Params: {'classifier__max_depth': 30, 'classifier__min_samples_leaf': 1, 'classifier__min_samples_split': 2, 'classifier__n_estimators': 200, 'feature_selection__n_components': 4}, Mean Test Score: 0.8239673358405282\n",
      "INFO:grid_search_training:Params: {'classifier__max_depth': 30, 'classifier__min_samples_leaf': 1, 'classifier__min_samples_split': 2, 'classifier__n_estimators': 200, 'feature_selection__n_components': 4}, Mean Test Score: 0.8239673358405282\n",
      "2024-10-20 17:56:22,702 | grid_search_training | INFO | Params: {'classifier__max_depth': 30, 'classifier__min_samples_leaf': 1, 'classifier__min_samples_split': 2, 'classifier__n_estimators': 200, 'feature_selection__n_components': 5}, Mean Test Score: 0.8468128019963392\n",
      "INFO:grid_search_training:Params: {'classifier__max_depth': 30, 'classifier__min_samples_leaf': 1, 'classifier__min_samples_split': 2, 'classifier__n_estimators': 200, 'feature_selection__n_components': 5}, Mean Test Score: 0.8468128019963392\n",
      "2024-10-20 17:56:22,703 | grid_search_training | INFO | Params: {'classifier__max_depth': 30, 'classifier__min_samples_leaf': 1, 'classifier__min_samples_split': 5, 'classifier__n_estimators': 50, 'feature_selection__n_components': 1}, Mean Test Score: 0.30578397513992617\n",
      "INFO:grid_search_training:Params: {'classifier__max_depth': 30, 'classifier__min_samples_leaf': 1, 'classifier__min_samples_split': 5, 'classifier__n_estimators': 50, 'feature_selection__n_components': 1}, Mean Test Score: 0.30578397513992617\n",
      "2024-10-20 17:56:22,705 | grid_search_training | INFO | Params: {'classifier__max_depth': 30, 'classifier__min_samples_leaf': 1, 'classifier__min_samples_split': 5, 'classifier__n_estimators': 50, 'feature_selection__n_components': 2}, Mean Test Score: 0.5360912771980626\n",
      "INFO:grid_search_training:Params: {'classifier__max_depth': 30, 'classifier__min_samples_leaf': 1, 'classifier__min_samples_split': 5, 'classifier__n_estimators': 50, 'feature_selection__n_components': 2}, Mean Test Score: 0.5360912771980626\n",
      "2024-10-20 17:56:22,705 | grid_search_training | INFO | Params: {'classifier__max_depth': 30, 'classifier__min_samples_leaf': 1, 'classifier__min_samples_split': 5, 'classifier__n_estimators': 50, 'feature_selection__n_components': 3}, Mean Test Score: 0.7439645461447464\n",
      "INFO:grid_search_training:Params: {'classifier__max_depth': 30, 'classifier__min_samples_leaf': 1, 'classifier__min_samples_split': 5, 'classifier__n_estimators': 50, 'feature_selection__n_components': 3}, Mean Test Score: 0.7439645461447464\n",
      "2024-10-20 17:56:22,706 | grid_search_training | INFO | Params: {'classifier__max_depth': 30, 'classifier__min_samples_leaf': 1, 'classifier__min_samples_split': 5, 'classifier__n_estimators': 50, 'feature_selection__n_components': 4}, Mean Test Score: 0.819997757649593\n",
      "INFO:grid_search_training:Params: {'classifier__max_depth': 30, 'classifier__min_samples_leaf': 1, 'classifier__min_samples_split': 5, 'classifier__n_estimators': 50, 'feature_selection__n_components': 4}, Mean Test Score: 0.819997757649593\n",
      "2024-10-20 17:56:22,707 | grid_search_training | INFO | Params: {'classifier__max_depth': 30, 'classifier__min_samples_leaf': 1, 'classifier__min_samples_split': 5, 'classifier__n_estimators': 50, 'feature_selection__n_components': 5}, Mean Test Score: 0.8460704192194738\n",
      "INFO:grid_search_training:Params: {'classifier__max_depth': 30, 'classifier__min_samples_leaf': 1, 'classifier__min_samples_split': 5, 'classifier__n_estimators': 50, 'feature_selection__n_components': 5}, Mean Test Score: 0.8460704192194738\n",
      "2024-10-20 17:56:22,708 | grid_search_training | INFO | Params: {'classifier__max_depth': 30, 'classifier__min_samples_leaf': 1, 'classifier__min_samples_split': 5, 'classifier__n_estimators': 100, 'feature_selection__n_components': 1}, Mean Test Score: 0.3074248930322345\n",
      "INFO:grid_search_training:Params: {'classifier__max_depth': 30, 'classifier__min_samples_leaf': 1, 'classifier__min_samples_split': 5, 'classifier__n_estimators': 100, 'feature_selection__n_components': 1}, Mean Test Score: 0.3074248930322345\n",
      "2024-10-20 17:56:22,709 | grid_search_training | INFO | Params: {'classifier__max_depth': 30, 'classifier__min_samples_leaf': 1, 'classifier__min_samples_split': 5, 'classifier__n_estimators': 100, 'feature_selection__n_components': 2}, Mean Test Score: 0.5360120945671557\n",
      "INFO:grid_search_training:Params: {'classifier__max_depth': 30, 'classifier__min_samples_leaf': 1, 'classifier__min_samples_split': 5, 'classifier__n_estimators': 100, 'feature_selection__n_components': 2}, Mean Test Score: 0.5360120945671557\n",
      "2024-10-20 17:56:22,710 | grid_search_training | INFO | Params: {'classifier__max_depth': 30, 'classifier__min_samples_leaf': 1, 'classifier__min_samples_split': 5, 'classifier__n_estimators': 100, 'feature_selection__n_components': 3}, Mean Test Score: 0.7486075415953058\n",
      "INFO:grid_search_training:Params: {'classifier__max_depth': 30, 'classifier__min_samples_leaf': 1, 'classifier__min_samples_split': 5, 'classifier__n_estimators': 100, 'feature_selection__n_components': 3}, Mean Test Score: 0.7486075415953058\n",
      "2024-10-20 17:56:22,711 | grid_search_training | INFO | Params: {'classifier__max_depth': 30, 'classifier__min_samples_leaf': 1, 'classifier__min_samples_split': 5, 'classifier__n_estimators': 100, 'feature_selection__n_components': 4}, Mean Test Score: 0.8269928315412187\n",
      "INFO:grid_search_training:Params: {'classifier__max_depth': 30, 'classifier__min_samples_leaf': 1, 'classifier__min_samples_split': 5, 'classifier__n_estimators': 100, 'feature_selection__n_components': 4}, Mean Test Score: 0.8269928315412187\n",
      "2024-10-20 17:56:22,712 | grid_search_training | INFO | Params: {'classifier__max_depth': 30, 'classifier__min_samples_leaf': 1, 'classifier__min_samples_split': 5, 'classifier__n_estimators': 100, 'feature_selection__n_components': 5}, Mean Test Score: 0.8475976952639911\n",
      "INFO:grid_search_training:Params: {'classifier__max_depth': 30, 'classifier__min_samples_leaf': 1, 'classifier__min_samples_split': 5, 'classifier__n_estimators': 100, 'feature_selection__n_components': 5}, Mean Test Score: 0.8475976952639911\n",
      "2024-10-20 17:56:22,713 | grid_search_training | INFO | Params: {'classifier__max_depth': 30, 'classifier__min_samples_leaf': 1, 'classifier__min_samples_split': 5, 'classifier__n_estimators': 200, 'feature_selection__n_components': 1}, Mean Test Score: 0.30991565584335323\n",
      "INFO:grid_search_training:Params: {'classifier__max_depth': 30, 'classifier__min_samples_leaf': 1, 'classifier__min_samples_split': 5, 'classifier__n_estimators': 200, 'feature_selection__n_components': 1}, Mean Test Score: 0.30991565584335323\n",
      "2024-10-20 17:56:22,714 | grid_search_training | INFO | Params: {'classifier__max_depth': 30, 'classifier__min_samples_leaf': 1, 'classifier__min_samples_split': 5, 'classifier__n_estimators': 200, 'feature_selection__n_components': 2}, Mean Test Score: 0.5364652965375991\n",
      "INFO:grid_search_training:Params: {'classifier__max_depth': 30, 'classifier__min_samples_leaf': 1, 'classifier__min_samples_split': 5, 'classifier__n_estimators': 200, 'feature_selection__n_components': 2}, Mean Test Score: 0.5364652965375991\n",
      "2024-10-20 17:56:22,715 | grid_search_training | INFO | Params: {'classifier__max_depth': 30, 'classifier__min_samples_leaf': 1, 'classifier__min_samples_split': 5, 'classifier__n_estimators': 200, 'feature_selection__n_components': 3}, Mean Test Score: 0.7465469216236735\n",
      "INFO:grid_search_training:Params: {'classifier__max_depth': 30, 'classifier__min_samples_leaf': 1, 'classifier__min_samples_split': 5, 'classifier__n_estimators': 200, 'feature_selection__n_components': 3}, Mean Test Score: 0.7465469216236735\n",
      "2024-10-20 17:56:22,716 | grid_search_training | INFO | Params: {'classifier__max_depth': 30, 'classifier__min_samples_leaf': 1, 'classifier__min_samples_split': 5, 'classifier__n_estimators': 200, 'feature_selection__n_components': 4}, Mean Test Score: 0.8255907151391023\n",
      "INFO:grid_search_training:Params: {'classifier__max_depth': 30, 'classifier__min_samples_leaf': 1, 'classifier__min_samples_split': 5, 'classifier__n_estimators': 200, 'feature_selection__n_components': 4}, Mean Test Score: 0.8255907151391023\n",
      "2024-10-20 17:56:22,716 | grid_search_training | INFO | Params: {'classifier__max_depth': 30, 'classifier__min_samples_leaf': 1, 'classifier__min_samples_split': 5, 'classifier__n_estimators': 200, 'feature_selection__n_components': 5}, Mean Test Score: 0.8499762051897758\n",
      "INFO:grid_search_training:Params: {'classifier__max_depth': 30, 'classifier__min_samples_leaf': 1, 'classifier__min_samples_split': 5, 'classifier__n_estimators': 200, 'feature_selection__n_components': 5}, Mean Test Score: 0.8499762051897758\n",
      "2024-10-20 17:56:22,717 | grid_search_training | INFO | Params: {'classifier__max_depth': 30, 'classifier__min_samples_leaf': 1, 'classifier__min_samples_split': 10, 'classifier__n_estimators': 50, 'feature_selection__n_components': 1}, Mean Test Score: 0.3360768755407243\n",
      "INFO:grid_search_training:Params: {'classifier__max_depth': 30, 'classifier__min_samples_leaf': 1, 'classifier__min_samples_split': 10, 'classifier__n_estimators': 50, 'feature_selection__n_components': 1}, Mean Test Score: 0.3360768755407243\n",
      "2024-10-20 17:56:22,718 | grid_search_training | INFO | Params: {'classifier__max_depth': 30, 'classifier__min_samples_leaf': 1, 'classifier__min_samples_split': 10, 'classifier__n_estimators': 50, 'feature_selection__n_components': 2}, Mean Test Score: 0.5498183578461665\n",
      "INFO:grid_search_training:Params: {'classifier__max_depth': 30, 'classifier__min_samples_leaf': 1, 'classifier__min_samples_split': 10, 'classifier__n_estimators': 50, 'feature_selection__n_components': 2}, Mean Test Score: 0.5498183578461665\n",
      "2024-10-20 17:56:22,719 | grid_search_training | INFO | Params: {'classifier__max_depth': 30, 'classifier__min_samples_leaf': 1, 'classifier__min_samples_split': 10, 'classifier__n_estimators': 50, 'feature_selection__n_components': 3}, Mean Test Score: 0.7402201564348394\n",
      "INFO:grid_search_training:Params: {'classifier__max_depth': 30, 'classifier__min_samples_leaf': 1, 'classifier__min_samples_split': 10, 'classifier__n_estimators': 50, 'feature_selection__n_components': 3}, Mean Test Score: 0.7402201564348394\n",
      "2024-10-20 17:56:22,720 | grid_search_training | INFO | Params: {'classifier__max_depth': 30, 'classifier__min_samples_leaf': 1, 'classifier__min_samples_split': 10, 'classifier__n_estimators': 50, 'feature_selection__n_components': 4}, Mean Test Score: 0.819377591798059\n",
      "INFO:grid_search_training:Params: {'classifier__max_depth': 30, 'classifier__min_samples_leaf': 1, 'classifier__min_samples_split': 10, 'classifier__n_estimators': 50, 'feature_selection__n_components': 4}, Mean Test Score: 0.819377591798059\n",
      "2024-10-20 17:56:22,721 | grid_search_training | INFO | Params: {'classifier__max_depth': 30, 'classifier__min_samples_leaf': 1, 'classifier__min_samples_split': 10, 'classifier__n_estimators': 50, 'feature_selection__n_components': 5}, Mean Test Score: 0.8399092466055759\n",
      "INFO:grid_search_training:Params: {'classifier__max_depth': 30, 'classifier__min_samples_leaf': 1, 'classifier__min_samples_split': 10, 'classifier__n_estimators': 50, 'feature_selection__n_components': 5}, Mean Test Score: 0.8399092466055759\n",
      "2024-10-20 17:56:22,722 | grid_search_training | INFO | Params: {'classifier__max_depth': 30, 'classifier__min_samples_leaf': 1, 'classifier__min_samples_split': 10, 'classifier__n_estimators': 100, 'feature_selection__n_components': 1}, Mean Test Score: 0.33094008628046445\n",
      "INFO:grid_search_training:Params: {'classifier__max_depth': 30, 'classifier__min_samples_leaf': 1, 'classifier__min_samples_split': 10, 'classifier__n_estimators': 100, 'feature_selection__n_components': 1}, Mean Test Score: 0.33094008628046445\n",
      "2024-10-20 17:56:22,722 | grid_search_training | INFO | Params: {'classifier__max_depth': 30, 'classifier__min_samples_leaf': 1, 'classifier__min_samples_split': 10, 'classifier__n_estimators': 100, 'feature_selection__n_components': 2}, Mean Test Score: 0.5550099758108658\n",
      "INFO:grid_search_training:Params: {'classifier__max_depth': 30, 'classifier__min_samples_leaf': 1, 'classifier__min_samples_split': 10, 'classifier__n_estimators': 100, 'feature_selection__n_components': 2}, Mean Test Score: 0.5550099758108658\n",
      "2024-10-20 17:56:22,723 | grid_search_training | INFO | Params: {'classifier__max_depth': 30, 'classifier__min_samples_leaf': 1, 'classifier__min_samples_split': 10, 'classifier__n_estimators': 100, 'feature_selection__n_components': 3}, Mean Test Score: 0.7402529500738622\n",
      "INFO:grid_search_training:Params: {'classifier__max_depth': 30, 'classifier__min_samples_leaf': 1, 'classifier__min_samples_split': 10, 'classifier__n_estimators': 100, 'feature_selection__n_components': 3}, Mean Test Score: 0.7402529500738622\n",
      "2024-10-20 17:56:22,724 | grid_search_training | INFO | Params: {'classifier__max_depth': 30, 'classifier__min_samples_leaf': 1, 'classifier__min_samples_split': 10, 'classifier__n_estimators': 100, 'feature_selection__n_components': 4}, Mean Test Score: 0.8194086315777083\n",
      "INFO:grid_search_training:Params: {'classifier__max_depth': 30, 'classifier__min_samples_leaf': 1, 'classifier__min_samples_split': 10, 'classifier__n_estimators': 100, 'feature_selection__n_components': 4}, Mean Test Score: 0.8194086315777083\n",
      "2024-10-20 17:56:22,727 | grid_search_training | INFO | Params: {'classifier__max_depth': 30, 'classifier__min_samples_leaf': 1, 'classifier__min_samples_split': 10, 'classifier__n_estimators': 100, 'feature_selection__n_components': 5}, Mean Test Score: 0.8407076646008793\n",
      "INFO:grid_search_training:Params: {'classifier__max_depth': 30, 'classifier__min_samples_leaf': 1, 'classifier__min_samples_split': 10, 'classifier__n_estimators': 100, 'feature_selection__n_components': 5}, Mean Test Score: 0.8407076646008793\n",
      "2024-10-20 17:56:22,763 | grid_search_training | INFO | Params: {'classifier__max_depth': 30, 'classifier__min_samples_leaf': 1, 'classifier__min_samples_split': 10, 'classifier__n_estimators': 200, 'feature_selection__n_components': 1}, Mean Test Score: 0.32855060002001046\n",
      "INFO:grid_search_training:Params: {'classifier__max_depth': 30, 'classifier__min_samples_leaf': 1, 'classifier__min_samples_split': 10, 'classifier__n_estimators': 200, 'feature_selection__n_components': 1}, Mean Test Score: 0.32855060002001046\n",
      "2024-10-20 17:56:22,764 | grid_search_training | INFO | Params: {'classifier__max_depth': 30, 'classifier__min_samples_leaf': 1, 'classifier__min_samples_split': 10, 'classifier__n_estimators': 200, 'feature_selection__n_components': 2}, Mean Test Score: 0.557004867254033\n",
      "INFO:grid_search_training:Params: {'classifier__max_depth': 30, 'classifier__min_samples_leaf': 1, 'classifier__min_samples_split': 10, 'classifier__n_estimators': 200, 'feature_selection__n_components': 2}, Mean Test Score: 0.557004867254033\n",
      "2024-10-20 17:56:22,765 | grid_search_training | INFO | Params: {'classifier__max_depth': 30, 'classifier__min_samples_leaf': 1, 'classifier__min_samples_split': 10, 'classifier__n_estimators': 200, 'feature_selection__n_components': 3}, Mean Test Score: 0.7430066211134064\n",
      "INFO:grid_search_training:Params: {'classifier__max_depth': 30, 'classifier__min_samples_leaf': 1, 'classifier__min_samples_split': 10, 'classifier__n_estimators': 200, 'feature_selection__n_components': 3}, Mean Test Score: 0.7430066211134064\n",
      "2024-10-20 17:56:22,766 | grid_search_training | INFO | Params: {'classifier__max_depth': 30, 'classifier__min_samples_leaf': 1, 'classifier__min_samples_split': 10, 'classifier__n_estimators': 200, 'feature_selection__n_components': 4}, Mean Test Score: 0.8228517988829445\n",
      "INFO:grid_search_training:Params: {'classifier__max_depth': 30, 'classifier__min_samples_leaf': 1, 'classifier__min_samples_split': 10, 'classifier__n_estimators': 200, 'feature_selection__n_components': 4}, Mean Test Score: 0.8228517988829445\n",
      "2024-10-20 17:56:22,767 | grid_search_training | INFO | Params: {'classifier__max_depth': 30, 'classifier__min_samples_leaf': 1, 'classifier__min_samples_split': 10, 'classifier__n_estimators': 200, 'feature_selection__n_components': 5}, Mean Test Score: 0.8462860497554603\n",
      "INFO:grid_search_training:Params: {'classifier__max_depth': 30, 'classifier__min_samples_leaf': 1, 'classifier__min_samples_split': 10, 'classifier__n_estimators': 200, 'feature_selection__n_components': 5}, Mean Test Score: 0.8462860497554603\n",
      "2024-10-20 17:56:22,770 | grid_search_training | INFO | Params: {'classifier__max_depth': 30, 'classifier__min_samples_leaf': 2, 'classifier__min_samples_split': 2, 'classifier__n_estimators': 50, 'feature_selection__n_components': 1}, Mean Test Score: 0.30738272389662824\n",
      "INFO:grid_search_training:Params: {'classifier__max_depth': 30, 'classifier__min_samples_leaf': 2, 'classifier__min_samples_split': 2, 'classifier__n_estimators': 50, 'feature_selection__n_components': 1}, Mean Test Score: 0.30738272389662824\n",
      "2024-10-20 17:56:22,780 | grid_search_training | INFO | Params: {'classifier__max_depth': 30, 'classifier__min_samples_leaf': 2, 'classifier__min_samples_split': 2, 'classifier__n_estimators': 50, 'feature_selection__n_components': 2}, Mean Test Score: 0.5332336340790177\n",
      "INFO:grid_search_training:Params: {'classifier__max_depth': 30, 'classifier__min_samples_leaf': 2, 'classifier__min_samples_split': 2, 'classifier__n_estimators': 50, 'feature_selection__n_components': 2}, Mean Test Score: 0.5332336340790177\n",
      "2024-10-20 17:56:22,781 | grid_search_training | INFO | Params: {'classifier__max_depth': 30, 'classifier__min_samples_leaf': 2, 'classifier__min_samples_split': 2, 'classifier__n_estimators': 50, 'feature_selection__n_components': 3}, Mean Test Score: 0.7381889106649953\n",
      "INFO:grid_search_training:Params: {'classifier__max_depth': 30, 'classifier__min_samples_leaf': 2, 'classifier__min_samples_split': 2, 'classifier__n_estimators': 50, 'feature_selection__n_components': 3}, Mean Test Score: 0.7381889106649953\n",
      "2024-10-20 17:56:22,782 | grid_search_training | INFO | Params: {'classifier__max_depth': 30, 'classifier__min_samples_leaf': 2, 'classifier__min_samples_split': 2, 'classifier__n_estimators': 50, 'feature_selection__n_components': 4}, Mean Test Score: 0.8180609730976804\n",
      "INFO:grid_search_training:Params: {'classifier__max_depth': 30, 'classifier__min_samples_leaf': 2, 'classifier__min_samples_split': 2, 'classifier__n_estimators': 50, 'feature_selection__n_components': 4}, Mean Test Score: 0.8180609730976804\n",
      "2024-10-20 17:56:22,783 | grid_search_training | INFO | Params: {'classifier__max_depth': 30, 'classifier__min_samples_leaf': 2, 'classifier__min_samples_split': 2, 'classifier__n_estimators': 50, 'feature_selection__n_components': 5}, Mean Test Score: 0.8401265898028969\n",
      "INFO:grid_search_training:Params: {'classifier__max_depth': 30, 'classifier__min_samples_leaf': 2, 'classifier__min_samples_split': 2, 'classifier__n_estimators': 50, 'feature_selection__n_components': 5}, Mean Test Score: 0.8401265898028969\n",
      "2024-10-20 17:56:22,784 | grid_search_training | INFO | Params: {'classifier__max_depth': 30, 'classifier__min_samples_leaf': 2, 'classifier__min_samples_split': 2, 'classifier__n_estimators': 100, 'feature_selection__n_components': 1}, Mean Test Score: 0.3108473082966965\n",
      "INFO:grid_search_training:Params: {'classifier__max_depth': 30, 'classifier__min_samples_leaf': 2, 'classifier__min_samples_split': 2, 'classifier__n_estimators': 100, 'feature_selection__n_components': 1}, Mean Test Score: 0.3108473082966965\n",
      "2024-10-20 17:56:22,785 | grid_search_training | INFO | Params: {'classifier__max_depth': 30, 'classifier__min_samples_leaf': 2, 'classifier__min_samples_split': 2, 'classifier__n_estimators': 100, 'feature_selection__n_components': 2}, Mean Test Score: 0.5364199610384259\n",
      "INFO:grid_search_training:Params: {'classifier__max_depth': 30, 'classifier__min_samples_leaf': 2, 'classifier__min_samples_split': 2, 'classifier__n_estimators': 100, 'feature_selection__n_components': 2}, Mean Test Score: 0.5364199610384259\n",
      "2024-10-20 17:56:22,786 | grid_search_training | INFO | Params: {'classifier__max_depth': 30, 'classifier__min_samples_leaf': 2, 'classifier__min_samples_split': 2, 'classifier__n_estimators': 100, 'feature_selection__n_components': 3}, Mean Test Score: 0.7404419431349354\n",
      "INFO:grid_search_training:Params: {'classifier__max_depth': 30, 'classifier__min_samples_leaf': 2, 'classifier__min_samples_split': 2, 'classifier__n_estimators': 100, 'feature_selection__n_components': 3}, Mean Test Score: 0.7404419431349354\n",
      "2024-10-20 17:56:22,787 | grid_search_training | INFO | Params: {'classifier__max_depth': 30, 'classifier__min_samples_leaf': 2, 'classifier__min_samples_split': 2, 'classifier__n_estimators': 100, 'feature_selection__n_components': 4}, Mean Test Score: 0.8241535686329902\n",
      "INFO:grid_search_training:Params: {'classifier__max_depth': 30, 'classifier__min_samples_leaf': 2, 'classifier__min_samples_split': 2, 'classifier__n_estimators': 100, 'feature_selection__n_components': 4}, Mean Test Score: 0.8241535686329902\n",
      "2024-10-20 17:56:22,851 | grid_search_training | INFO | Params: {'classifier__max_depth': 30, 'classifier__min_samples_leaf': 2, 'classifier__min_samples_split': 2, 'classifier__n_estimators': 100, 'feature_selection__n_components': 5}, Mean Test Score: 0.8428753347340667\n",
      "INFO:grid_search_training:Params: {'classifier__max_depth': 30, 'classifier__min_samples_leaf': 2, 'classifier__min_samples_split': 2, 'classifier__n_estimators': 100, 'feature_selection__n_components': 5}, Mean Test Score: 0.8428753347340667\n",
      "2024-10-20 17:56:22,851 | grid_search_training | INFO | Params: {'classifier__max_depth': 30, 'classifier__min_samples_leaf': 2, 'classifier__min_samples_split': 2, 'classifier__n_estimators': 200, 'feature_selection__n_components': 1}, Mean Test Score: 0.3127993478938974\n",
      "INFO:grid_search_training:Params: {'classifier__max_depth': 30, 'classifier__min_samples_leaf': 2, 'classifier__min_samples_split': 2, 'classifier__n_estimators': 200, 'feature_selection__n_components': 1}, Mean Test Score: 0.3127993478938974\n",
      "2024-10-20 17:56:22,851 | grid_search_training | INFO | Params: {'classifier__max_depth': 30, 'classifier__min_samples_leaf': 2, 'classifier__min_samples_split': 2, 'classifier__n_estimators': 200, 'feature_selection__n_components': 2}, Mean Test Score: 0.5410982337812149\n",
      "INFO:grid_search_training:Params: {'classifier__max_depth': 30, 'classifier__min_samples_leaf': 2, 'classifier__min_samples_split': 2, 'classifier__n_estimators': 200, 'feature_selection__n_components': 2}, Mean Test Score: 0.5410982337812149\n",
      "2024-10-20 17:56:22,852 | grid_search_training | INFO | Params: {'classifier__max_depth': 30, 'classifier__min_samples_leaf': 2, 'classifier__min_samples_split': 2, 'classifier__n_estimators': 200, 'feature_selection__n_components': 3}, Mean Test Score: 0.7437142268599443\n",
      "INFO:grid_search_training:Params: {'classifier__max_depth': 30, 'classifier__min_samples_leaf': 2, 'classifier__min_samples_split': 2, 'classifier__n_estimators': 200, 'feature_selection__n_components': 3}, Mean Test Score: 0.7437142268599443\n",
      "2024-10-20 17:56:22,853 | grid_search_training | INFO | Params: {'classifier__max_depth': 30, 'classifier__min_samples_leaf': 2, 'classifier__min_samples_split': 2, 'classifier__n_estimators': 200, 'feature_selection__n_components': 4}, Mean Test Score: 0.820534497472206\n",
      "INFO:grid_search_training:Params: {'classifier__max_depth': 30, 'classifier__min_samples_leaf': 2, 'classifier__min_samples_split': 2, 'classifier__n_estimators': 200, 'feature_selection__n_components': 4}, Mean Test Score: 0.820534497472206\n",
      "2024-10-20 17:56:22,853 | grid_search_training | INFO | Params: {'classifier__max_depth': 30, 'classifier__min_samples_leaf': 2, 'classifier__min_samples_split': 2, 'classifier__n_estimators': 200, 'feature_selection__n_components': 5}, Mean Test Score: 0.8447038567249914\n",
      "INFO:grid_search_training:Params: {'classifier__max_depth': 30, 'classifier__min_samples_leaf': 2, 'classifier__min_samples_split': 2, 'classifier__n_estimators': 200, 'feature_selection__n_components': 5}, Mean Test Score: 0.8447038567249914\n",
      "2024-10-20 17:56:22,854 | grid_search_training | INFO | Params: {'classifier__max_depth': 30, 'classifier__min_samples_leaf': 2, 'classifier__min_samples_split': 5, 'classifier__n_estimators': 50, 'feature_selection__n_components': 1}, Mean Test Score: 0.31277159218649764\n",
      "INFO:grid_search_training:Params: {'classifier__max_depth': 30, 'classifier__min_samples_leaf': 2, 'classifier__min_samples_split': 5, 'classifier__n_estimators': 50, 'feature_selection__n_components': 1}, Mean Test Score: 0.31277159218649764\n",
      "2024-10-20 17:56:22,854 | grid_search_training | INFO | Params: {'classifier__max_depth': 30, 'classifier__min_samples_leaf': 2, 'classifier__min_samples_split': 5, 'classifier__n_estimators': 50, 'feature_selection__n_components': 2}, Mean Test Score: 0.5370178446363095\n",
      "INFO:grid_search_training:Params: {'classifier__max_depth': 30, 'classifier__min_samples_leaf': 2, 'classifier__min_samples_split': 5, 'classifier__n_estimators': 50, 'feature_selection__n_components': 2}, Mean Test Score: 0.5370178446363095\n",
      "2024-10-20 17:56:22,855 | grid_search_training | INFO | Params: {'classifier__max_depth': 30, 'classifier__min_samples_leaf': 2, 'classifier__min_samples_split': 5, 'classifier__n_estimators': 50, 'feature_selection__n_components': 3}, Mean Test Score: 0.7336129915073185\n",
      "INFO:grid_search_training:Params: {'classifier__max_depth': 30, 'classifier__min_samples_leaf': 2, 'classifier__min_samples_split': 5, 'classifier__n_estimators': 50, 'feature_selection__n_components': 3}, Mean Test Score: 0.7336129915073185\n",
      "2024-10-20 17:56:22,855 | grid_search_training | INFO | Params: {'classifier__max_depth': 30, 'classifier__min_samples_leaf': 2, 'classifier__min_samples_split': 5, 'classifier__n_estimators': 50, 'feature_selection__n_components': 4}, Mean Test Score: 0.8170543166716693\n",
      "INFO:grid_search_training:Params: {'classifier__max_depth': 30, 'classifier__min_samples_leaf': 2, 'classifier__min_samples_split': 5, 'classifier__n_estimators': 50, 'feature_selection__n_components': 4}, Mean Test Score: 0.8170543166716693\n",
      "2024-10-20 17:56:22,856 | grid_search_training | INFO | Params: {'classifier__max_depth': 30, 'classifier__min_samples_leaf': 2, 'classifier__min_samples_split': 5, 'classifier__n_estimators': 50, 'feature_selection__n_components': 5}, Mean Test Score: 0.8455886611225878\n",
      "INFO:grid_search_training:Params: {'classifier__max_depth': 30, 'classifier__min_samples_leaf': 2, 'classifier__min_samples_split': 5, 'classifier__n_estimators': 50, 'feature_selection__n_components': 5}, Mean Test Score: 0.8455886611225878\n",
      "2024-10-20 17:56:22,856 | grid_search_training | INFO | Params: {'classifier__max_depth': 30, 'classifier__min_samples_leaf': 2, 'classifier__min_samples_split': 5, 'classifier__n_estimators': 100, 'feature_selection__n_components': 1}, Mean Test Score: 0.32100822783692645\n",
      "INFO:grid_search_training:Params: {'classifier__max_depth': 30, 'classifier__min_samples_leaf': 2, 'classifier__min_samples_split': 5, 'classifier__n_estimators': 100, 'feature_selection__n_components': 1}, Mean Test Score: 0.32100822783692645\n",
      "2024-10-20 17:56:22,857 | grid_search_training | INFO | Params: {'classifier__max_depth': 30, 'classifier__min_samples_leaf': 2, 'classifier__min_samples_split': 5, 'classifier__n_estimators': 100, 'feature_selection__n_components': 2}, Mean Test Score: 0.5442961903584818\n",
      "INFO:grid_search_training:Params: {'classifier__max_depth': 30, 'classifier__min_samples_leaf': 2, 'classifier__min_samples_split': 5, 'classifier__n_estimators': 100, 'feature_selection__n_components': 2}, Mean Test Score: 0.5442961903584818\n",
      "2024-10-20 17:56:22,857 | grid_search_training | INFO | Params: {'classifier__max_depth': 30, 'classifier__min_samples_leaf': 2, 'classifier__min_samples_split': 5, 'classifier__n_estimators': 100, 'feature_selection__n_components': 3}, Mean Test Score: 0.74024278004367\n",
      "INFO:grid_search_training:Params: {'classifier__max_depth': 30, 'classifier__min_samples_leaf': 2, 'classifier__min_samples_split': 5, 'classifier__n_estimators': 100, 'feature_selection__n_components': 3}, Mean Test Score: 0.74024278004367\n",
      "2024-10-20 17:56:22,858 | grid_search_training | INFO | Params: {'classifier__max_depth': 30, 'classifier__min_samples_leaf': 2, 'classifier__min_samples_split': 5, 'classifier__n_estimators': 100, 'feature_selection__n_components': 4}, Mean Test Score: 0.8290555467274043\n",
      "INFO:grid_search_training:Params: {'classifier__max_depth': 30, 'classifier__min_samples_leaf': 2, 'classifier__min_samples_split': 5, 'classifier__n_estimators': 100, 'feature_selection__n_components': 4}, Mean Test Score: 0.8290555467274043\n",
      "2024-10-20 17:56:22,858 | grid_search_training | INFO | Params: {'classifier__max_depth': 30, 'classifier__min_samples_leaf': 2, 'classifier__min_samples_split': 5, 'classifier__n_estimators': 100, 'feature_selection__n_components': 5}, Mean Test Score: 0.8454890913478232\n",
      "INFO:grid_search_training:Params: {'classifier__max_depth': 30, 'classifier__min_samples_leaf': 2, 'classifier__min_samples_split': 5, 'classifier__n_estimators': 100, 'feature_selection__n_components': 5}, Mean Test Score: 0.8454890913478232\n",
      "2024-10-20 17:56:22,859 | grid_search_training | INFO | Params: {'classifier__max_depth': 30, 'classifier__min_samples_leaf': 2, 'classifier__min_samples_split': 5, 'classifier__n_estimators': 200, 'feature_selection__n_components': 1}, Mean Test Score: 0.32384587225076655\n",
      "INFO:grid_search_training:Params: {'classifier__max_depth': 30, 'classifier__min_samples_leaf': 2, 'classifier__min_samples_split': 5, 'classifier__n_estimators': 200, 'feature_selection__n_components': 1}, Mean Test Score: 0.32384587225076655\n",
      "2024-10-20 17:56:22,859 | grid_search_training | INFO | Params: {'classifier__max_depth': 30, 'classifier__min_samples_leaf': 2, 'classifier__min_samples_split': 5, 'classifier__n_estimators': 200, 'feature_selection__n_components': 2}, Mean Test Score: 0.542920346534362\n",
      "INFO:grid_search_training:Params: {'classifier__max_depth': 30, 'classifier__min_samples_leaf': 2, 'classifier__min_samples_split': 5, 'classifier__n_estimators': 200, 'feature_selection__n_components': 2}, Mean Test Score: 0.542920346534362\n",
      "2024-10-20 17:56:22,860 | grid_search_training | INFO | Params: {'classifier__max_depth': 30, 'classifier__min_samples_leaf': 2, 'classifier__min_samples_split': 5, 'classifier__n_estimators': 200, 'feature_selection__n_components': 3}, Mean Test Score: 0.7430198044858779\n",
      "INFO:grid_search_training:Params: {'classifier__max_depth': 30, 'classifier__min_samples_leaf': 2, 'classifier__min_samples_split': 5, 'classifier__n_estimators': 200, 'feature_selection__n_components': 3}, Mean Test Score: 0.7430198044858779\n",
      "2024-10-20 17:56:22,860 | grid_search_training | INFO | Params: {'classifier__max_depth': 30, 'classifier__min_samples_leaf': 2, 'classifier__min_samples_split': 5, 'classifier__n_estimators': 200, 'feature_selection__n_components': 4}, Mean Test Score: 0.8206264514951945\n",
      "INFO:grid_search_training:Params: {'classifier__max_depth': 30, 'classifier__min_samples_leaf': 2, 'classifier__min_samples_split': 5, 'classifier__n_estimators': 200, 'feature_selection__n_components': 4}, Mean Test Score: 0.8206264514951945\n",
      "2024-10-20 17:56:22,861 | grid_search_training | INFO | Params: {'classifier__max_depth': 30, 'classifier__min_samples_leaf': 2, 'classifier__min_samples_split': 5, 'classifier__n_estimators': 200, 'feature_selection__n_components': 5}, Mean Test Score: 0.8475420014007333\n",
      "INFO:grid_search_training:Params: {'classifier__max_depth': 30, 'classifier__min_samples_leaf': 2, 'classifier__min_samples_split': 5, 'classifier__n_estimators': 200, 'feature_selection__n_components': 5}, Mean Test Score: 0.8475420014007333\n",
      "2024-10-20 17:56:22,862 | grid_search_training | INFO | Params: {'classifier__max_depth': 30, 'classifier__min_samples_leaf': 2, 'classifier__min_samples_split': 10, 'classifier__n_estimators': 50, 'feature_selection__n_components': 1}, Mean Test Score: 0.3357152391546162\n",
      "INFO:grid_search_training:Params: {'classifier__max_depth': 30, 'classifier__min_samples_leaf': 2, 'classifier__min_samples_split': 10, 'classifier__n_estimators': 50, 'feature_selection__n_components': 1}, Mean Test Score: 0.3357152391546162\n",
      "2024-10-20 17:56:22,862 | grid_search_training | INFO | Params: {'classifier__max_depth': 30, 'classifier__min_samples_leaf': 2, 'classifier__min_samples_split': 10, 'classifier__n_estimators': 50, 'feature_selection__n_components': 2}, Mean Test Score: 0.5479651405735944\n",
      "INFO:grid_search_training:Params: {'classifier__max_depth': 30, 'classifier__min_samples_leaf': 2, 'classifier__min_samples_split': 10, 'classifier__n_estimators': 50, 'feature_selection__n_components': 2}, Mean Test Score: 0.5479651405735944\n",
      "2024-10-20 17:56:22,862 | grid_search_training | INFO | Params: {'classifier__max_depth': 30, 'classifier__min_samples_leaf': 2, 'classifier__min_samples_split': 10, 'classifier__n_estimators': 50, 'feature_selection__n_components': 3}, Mean Test Score: 0.7419075516005439\n",
      "INFO:grid_search_training:Params: {'classifier__max_depth': 30, 'classifier__min_samples_leaf': 2, 'classifier__min_samples_split': 10, 'classifier__n_estimators': 50, 'feature_selection__n_components': 3}, Mean Test Score: 0.7419075516005439\n",
      "2024-10-20 17:56:22,863 | grid_search_training | INFO | Params: {'classifier__max_depth': 30, 'classifier__min_samples_leaf': 2, 'classifier__min_samples_split': 10, 'classifier__n_estimators': 50, 'feature_selection__n_components': 4}, Mean Test Score: 0.8193016932394018\n",
      "INFO:grid_search_training:Params: {'classifier__max_depth': 30, 'classifier__min_samples_leaf': 2, 'classifier__min_samples_split': 10, 'classifier__n_estimators': 50, 'feature_selection__n_components': 4}, Mean Test Score: 0.8193016932394018\n",
      "2024-10-20 17:56:22,863 | grid_search_training | INFO | Params: {'classifier__max_depth': 30, 'classifier__min_samples_leaf': 2, 'classifier__min_samples_split': 10, 'classifier__n_estimators': 50, 'feature_selection__n_components': 5}, Mean Test Score: 0.8407295113324034\n",
      "INFO:grid_search_training:Params: {'classifier__max_depth': 30, 'classifier__min_samples_leaf': 2, 'classifier__min_samples_split': 10, 'classifier__n_estimators': 50, 'feature_selection__n_components': 5}, Mean Test Score: 0.8407295113324034\n",
      "2024-10-20 17:56:22,864 | grid_search_training | INFO | Params: {'classifier__max_depth': 30, 'classifier__min_samples_leaf': 2, 'classifier__min_samples_split': 10, 'classifier__n_estimators': 100, 'feature_selection__n_components': 1}, Mean Test Score: 0.3296335493287662\n",
      "INFO:grid_search_training:Params: {'classifier__max_depth': 30, 'classifier__min_samples_leaf': 2, 'classifier__min_samples_split': 10, 'classifier__n_estimators': 100, 'feature_selection__n_components': 1}, Mean Test Score: 0.3296335493287662\n",
      "2024-10-20 17:56:22,864 | grid_search_training | INFO | Params: {'classifier__max_depth': 30, 'classifier__min_samples_leaf': 2, 'classifier__min_samples_split': 10, 'classifier__n_estimators': 100, 'feature_selection__n_components': 2}, Mean Test Score: 0.55301312451813\n",
      "INFO:grid_search_training:Params: {'classifier__max_depth': 30, 'classifier__min_samples_leaf': 2, 'classifier__min_samples_split': 10, 'classifier__n_estimators': 100, 'feature_selection__n_components': 2}, Mean Test Score: 0.55301312451813\n",
      "2024-10-20 17:56:22,864 | grid_search_training | INFO | Params: {'classifier__max_depth': 30, 'classifier__min_samples_leaf': 2, 'classifier__min_samples_split': 10, 'classifier__n_estimators': 100, 'feature_selection__n_components': 3}, Mean Test Score: 0.7422115813572988\n",
      "INFO:grid_search_training:Params: {'classifier__max_depth': 30, 'classifier__min_samples_leaf': 2, 'classifier__min_samples_split': 10, 'classifier__n_estimators': 100, 'feature_selection__n_components': 3}, Mean Test Score: 0.7422115813572988\n",
      "2024-10-20 17:56:22,865 | grid_search_training | INFO | Params: {'classifier__max_depth': 30, 'classifier__min_samples_leaf': 2, 'classifier__min_samples_split': 10, 'classifier__n_estimators': 100, 'feature_selection__n_components': 4}, Mean Test Score: 0.8171617788136143\n",
      "INFO:grid_search_training:Params: {'classifier__max_depth': 30, 'classifier__min_samples_leaf': 2, 'classifier__min_samples_split': 10, 'classifier__n_estimators': 100, 'feature_selection__n_components': 4}, Mean Test Score: 0.8171617788136143\n",
      "2024-10-20 17:56:22,865 | grid_search_training | INFO | Params: {'classifier__max_depth': 30, 'classifier__min_samples_leaf': 2, 'classifier__min_samples_split': 10, 'classifier__n_estimators': 100, 'feature_selection__n_components': 5}, Mean Test Score: 0.8397764476696624\n",
      "INFO:grid_search_training:Params: {'classifier__max_depth': 30, 'classifier__min_samples_leaf': 2, 'classifier__min_samples_split': 10, 'classifier__n_estimators': 100, 'feature_selection__n_components': 5}, Mean Test Score: 0.8397764476696624\n",
      "2024-10-20 17:56:22,866 | grid_search_training | INFO | Params: {'classifier__max_depth': 30, 'classifier__min_samples_leaf': 2, 'classifier__min_samples_split': 10, 'classifier__n_estimators': 200, 'feature_selection__n_components': 1}, Mean Test Score: 0.3338274920399503\n",
      "INFO:grid_search_training:Params: {'classifier__max_depth': 30, 'classifier__min_samples_leaf': 2, 'classifier__min_samples_split': 10, 'classifier__n_estimators': 200, 'feature_selection__n_components': 1}, Mean Test Score: 0.3338274920399503\n",
      "2024-10-20 17:56:22,866 | grid_search_training | INFO | Params: {'classifier__max_depth': 30, 'classifier__min_samples_leaf': 2, 'classifier__min_samples_split': 10, 'classifier__n_estimators': 200, 'feature_selection__n_components': 2}, Mean Test Score: 0.5445540841970208\n",
      "INFO:grid_search_training:Params: {'classifier__max_depth': 30, 'classifier__min_samples_leaf': 2, 'classifier__min_samples_split': 10, 'classifier__n_estimators': 200, 'feature_selection__n_components': 2}, Mean Test Score: 0.5445540841970208\n",
      "2024-10-20 17:56:22,866 | grid_search_training | INFO | Params: {'classifier__max_depth': 30, 'classifier__min_samples_leaf': 2, 'classifier__min_samples_split': 10, 'classifier__n_estimators': 200, 'feature_selection__n_components': 3}, Mean Test Score: 0.7410380022482359\n",
      "INFO:grid_search_training:Params: {'classifier__max_depth': 30, 'classifier__min_samples_leaf': 2, 'classifier__min_samples_split': 10, 'classifier__n_estimators': 200, 'feature_selection__n_components': 3}, Mean Test Score: 0.7410380022482359\n",
      "2024-10-20 17:56:22,867 | grid_search_training | INFO | Params: {'classifier__max_depth': 30, 'classifier__min_samples_leaf': 2, 'classifier__min_samples_split': 10, 'classifier__n_estimators': 200, 'feature_selection__n_components': 4}, Mean Test Score: 0.820177216307361\n",
      "INFO:grid_search_training:Params: {'classifier__max_depth': 30, 'classifier__min_samples_leaf': 2, 'classifier__min_samples_split': 10, 'classifier__n_estimators': 200, 'feature_selection__n_components': 4}, Mean Test Score: 0.820177216307361\n",
      "2024-10-20 17:56:22,867 | grid_search_training | INFO | Params: {'classifier__max_depth': 30, 'classifier__min_samples_leaf': 2, 'classifier__min_samples_split': 10, 'classifier__n_estimators': 200, 'feature_selection__n_components': 5}, Mean Test Score: 0.8468802843841777\n",
      "INFO:grid_search_training:Params: {'classifier__max_depth': 30, 'classifier__min_samples_leaf': 2, 'classifier__min_samples_split': 10, 'classifier__n_estimators': 200, 'feature_selection__n_components': 5}, Mean Test Score: 0.8468802843841777\n",
      "2024-10-20 17:56:22,867 | grid_search_training | INFO | Params: {'classifier__max_depth': 30, 'classifier__min_samples_leaf': 4, 'classifier__min_samples_split': 2, 'classifier__n_estimators': 50, 'feature_selection__n_components': 1}, Mean Test Score: 0.33191178322768977\n",
      "INFO:grid_search_training:Params: {'classifier__max_depth': 30, 'classifier__min_samples_leaf': 4, 'classifier__min_samples_split': 2, 'classifier__n_estimators': 50, 'feature_selection__n_components': 1}, Mean Test Score: 0.33191178322768977\n",
      "2024-10-20 17:56:22,868 | grid_search_training | INFO | Params: {'classifier__max_depth': 30, 'classifier__min_samples_leaf': 4, 'classifier__min_samples_split': 2, 'classifier__n_estimators': 50, 'feature_selection__n_components': 2}, Mean Test Score: 0.5558937561429218\n",
      "INFO:grid_search_training:Params: {'classifier__max_depth': 30, 'classifier__min_samples_leaf': 4, 'classifier__min_samples_split': 2, 'classifier__n_estimators': 50, 'feature_selection__n_components': 2}, Mean Test Score: 0.5558937561429218\n",
      "2024-10-20 17:56:22,868 | grid_search_training | INFO | Params: {'classifier__max_depth': 30, 'classifier__min_samples_leaf': 4, 'classifier__min_samples_split': 2, 'classifier__n_estimators': 50, 'feature_selection__n_components': 3}, Mean Test Score: 0.7390138955100023\n",
      "INFO:grid_search_training:Params: {'classifier__max_depth': 30, 'classifier__min_samples_leaf': 4, 'classifier__min_samples_split': 2, 'classifier__n_estimators': 50, 'feature_selection__n_components': 3}, Mean Test Score: 0.7390138955100023\n",
      "2024-10-20 17:56:22,868 | grid_search_training | INFO | Params: {'classifier__max_depth': 30, 'classifier__min_samples_leaf': 4, 'classifier__min_samples_split': 2, 'classifier__n_estimators': 50, 'feature_selection__n_components': 4}, Mean Test Score: 0.8239379380970038\n",
      "INFO:grid_search_training:Params: {'classifier__max_depth': 30, 'classifier__min_samples_leaf': 4, 'classifier__min_samples_split': 2, 'classifier__n_estimators': 50, 'feature_selection__n_components': 4}, Mean Test Score: 0.8239379380970038\n",
      "2024-10-20 17:56:22,869 | grid_search_training | INFO | Params: {'classifier__max_depth': 30, 'classifier__min_samples_leaf': 4, 'classifier__min_samples_split': 2, 'classifier__n_estimators': 50, 'feature_selection__n_components': 5}, Mean Test Score: 0.8413759733036708\n",
      "INFO:grid_search_training:Params: {'classifier__max_depth': 30, 'classifier__min_samples_leaf': 4, 'classifier__min_samples_split': 2, 'classifier__n_estimators': 50, 'feature_selection__n_components': 5}, Mean Test Score: 0.8413759733036708\n",
      "2024-10-20 17:56:22,869 | grid_search_training | INFO | Params: {'classifier__max_depth': 30, 'classifier__min_samples_leaf': 4, 'classifier__min_samples_split': 2, 'classifier__n_estimators': 100, 'feature_selection__n_components': 1}, Mean Test Score: 0.336186321073974\n",
      "INFO:grid_search_training:Params: {'classifier__max_depth': 30, 'classifier__min_samples_leaf': 4, 'classifier__min_samples_split': 2, 'classifier__n_estimators': 100, 'feature_selection__n_components': 1}, Mean Test Score: 0.336186321073974\n",
      "2024-10-20 17:56:22,869 | grid_search_training | INFO | Params: {'classifier__max_depth': 30, 'classifier__min_samples_leaf': 4, 'classifier__min_samples_split': 2, 'classifier__n_estimators': 100, 'feature_selection__n_components': 2}, Mean Test Score: 0.5487901725020746\n",
      "INFO:grid_search_training:Params: {'classifier__max_depth': 30, 'classifier__min_samples_leaf': 4, 'classifier__min_samples_split': 2, 'classifier__n_estimators': 100, 'feature_selection__n_components': 2}, Mean Test Score: 0.5487901725020746\n",
      "2024-10-20 17:56:22,870 | grid_search_training | INFO | Params: {'classifier__max_depth': 30, 'classifier__min_samples_leaf': 4, 'classifier__min_samples_split': 2, 'classifier__n_estimators': 100, 'feature_selection__n_components': 3}, Mean Test Score: 0.7407782427270748\n",
      "INFO:grid_search_training:Params: {'classifier__max_depth': 30, 'classifier__min_samples_leaf': 4, 'classifier__min_samples_split': 2, 'classifier__n_estimators': 100, 'feature_selection__n_components': 3}, Mean Test Score: 0.7407782427270748\n",
      "2024-10-20 17:56:22,870 | grid_search_training | INFO | Params: {'classifier__max_depth': 30, 'classifier__min_samples_leaf': 4, 'classifier__min_samples_split': 2, 'classifier__n_estimators': 100, 'feature_selection__n_components': 4}, Mean Test Score: 0.8186692797994244\n",
      "INFO:grid_search_training:Params: {'classifier__max_depth': 30, 'classifier__min_samples_leaf': 4, 'classifier__min_samples_split': 2, 'classifier__n_estimators': 100, 'feature_selection__n_components': 4}, Mean Test Score: 0.8186692797994244\n",
      "2024-10-20 17:56:22,870 | grid_search_training | INFO | Params: {'classifier__max_depth': 30, 'classifier__min_samples_leaf': 4, 'classifier__min_samples_split': 2, 'classifier__n_estimators': 100, 'feature_selection__n_components': 5}, Mean Test Score: 0.8407524998381506\n",
      "INFO:grid_search_training:Params: {'classifier__max_depth': 30, 'classifier__min_samples_leaf': 4, 'classifier__min_samples_split': 2, 'classifier__n_estimators': 100, 'feature_selection__n_components': 5}, Mean Test Score: 0.8407524998381506\n",
      "2024-10-20 17:56:22,871 | grid_search_training | INFO | Params: {'classifier__max_depth': 30, 'classifier__min_samples_leaf': 4, 'classifier__min_samples_split': 2, 'classifier__n_estimators': 200, 'feature_selection__n_components': 1}, Mean Test Score: 0.33273457869119716\n",
      "INFO:grid_search_training:Params: {'classifier__max_depth': 30, 'classifier__min_samples_leaf': 4, 'classifier__min_samples_split': 2, 'classifier__n_estimators': 200, 'feature_selection__n_components': 1}, Mean Test Score: 0.33273457869119716\n",
      "2024-10-20 17:56:22,871 | grid_search_training | INFO | Params: {'classifier__max_depth': 30, 'classifier__min_samples_leaf': 4, 'classifier__min_samples_split': 2, 'classifier__n_estimators': 200, 'feature_selection__n_components': 2}, Mean Test Score: 0.5477971290852269\n",
      "INFO:grid_search_training:Params: {'classifier__max_depth': 30, 'classifier__min_samples_leaf': 4, 'classifier__min_samples_split': 2, 'classifier__n_estimators': 200, 'feature_selection__n_components': 2}, Mean Test Score: 0.5477971290852269\n",
      "2024-10-20 17:56:22,871 | grid_search_training | INFO | Params: {'classifier__max_depth': 30, 'classifier__min_samples_leaf': 4, 'classifier__min_samples_split': 2, 'classifier__n_estimators': 200, 'feature_selection__n_components': 3}, Mean Test Score: 0.738073397249148\n",
      "INFO:grid_search_training:Params: {'classifier__max_depth': 30, 'classifier__min_samples_leaf': 4, 'classifier__min_samples_split': 2, 'classifier__n_estimators': 200, 'feature_selection__n_components': 3}, Mean Test Score: 0.738073397249148\n",
      "2024-10-20 17:56:22,872 | grid_search_training | INFO | Params: {'classifier__max_depth': 30, 'classifier__min_samples_leaf': 4, 'classifier__min_samples_split': 2, 'classifier__n_estimators': 200, 'feature_selection__n_components': 4}, Mean Test Score: 0.817872598007192\n",
      "INFO:grid_search_training:Params: {'classifier__max_depth': 30, 'classifier__min_samples_leaf': 4, 'classifier__min_samples_split': 2, 'classifier__n_estimators': 200, 'feature_selection__n_components': 4}, Mean Test Score: 0.817872598007192\n",
      "2024-10-20 17:56:22,872 | grid_search_training | INFO | Params: {'classifier__max_depth': 30, 'classifier__min_samples_leaf': 4, 'classifier__min_samples_split': 2, 'classifier__n_estimators': 200, 'feature_selection__n_components': 5}, Mean Test Score: 0.8439636397878891\n",
      "INFO:grid_search_training:Params: {'classifier__max_depth': 30, 'classifier__min_samples_leaf': 4, 'classifier__min_samples_split': 2, 'classifier__n_estimators': 200, 'feature_selection__n_components': 5}, Mean Test Score: 0.8439636397878891\n",
      "2024-10-20 17:56:22,873 | grid_search_training | INFO | Params: {'classifier__max_depth': 30, 'classifier__min_samples_leaf': 4, 'classifier__min_samples_split': 5, 'classifier__n_estimators': 50, 'feature_selection__n_components': 1}, Mean Test Score: 0.3331178146205954\n",
      "INFO:grid_search_training:Params: {'classifier__max_depth': 30, 'classifier__min_samples_leaf': 4, 'classifier__min_samples_split': 5, 'classifier__n_estimators': 50, 'feature_selection__n_components': 1}, Mean Test Score: 0.3331178146205954\n",
      "2024-10-20 17:56:22,873 | grid_search_training | INFO | Params: {'classifier__max_depth': 30, 'classifier__min_samples_leaf': 4, 'classifier__min_samples_split': 5, 'classifier__n_estimators': 50, 'feature_selection__n_components': 2}, Mean Test Score: 0.5499137136500873\n",
      "INFO:grid_search_training:Params: {'classifier__max_depth': 30, 'classifier__min_samples_leaf': 4, 'classifier__min_samples_split': 5, 'classifier__n_estimators': 50, 'feature_selection__n_components': 2}, Mean Test Score: 0.5499137136500873\n",
      "2024-10-20 17:56:22,873 | grid_search_training | INFO | Params: {'classifier__max_depth': 30, 'classifier__min_samples_leaf': 4, 'classifier__min_samples_split': 5, 'classifier__n_estimators': 50, 'feature_selection__n_components': 3}, Mean Test Score: 0.7389049502386543\n",
      "INFO:grid_search_training:Params: {'classifier__max_depth': 30, 'classifier__min_samples_leaf': 4, 'classifier__min_samples_split': 5, 'classifier__n_estimators': 50, 'feature_selection__n_components': 3}, Mean Test Score: 0.7389049502386543\n",
      "2024-10-20 17:56:22,874 | grid_search_training | INFO | Params: {'classifier__max_depth': 30, 'classifier__min_samples_leaf': 4, 'classifier__min_samples_split': 5, 'classifier__n_estimators': 50, 'feature_selection__n_components': 4}, Mean Test Score: 0.8174864193607242\n",
      "INFO:grid_search_training:Params: {'classifier__max_depth': 30, 'classifier__min_samples_leaf': 4, 'classifier__min_samples_split': 5, 'classifier__n_estimators': 50, 'feature_selection__n_components': 4}, Mean Test Score: 0.8174864193607242\n",
      "2024-10-20 17:56:22,874 | grid_search_training | INFO | Params: {'classifier__max_depth': 30, 'classifier__min_samples_leaf': 4, 'classifier__min_samples_split': 5, 'classifier__n_estimators': 50, 'feature_selection__n_components': 5}, Mean Test Score: 0.8339379616387402\n",
      "INFO:grid_search_training:Params: {'classifier__max_depth': 30, 'classifier__min_samples_leaf': 4, 'classifier__min_samples_split': 5, 'classifier__n_estimators': 50, 'feature_selection__n_components': 5}, Mean Test Score: 0.8339379616387402\n",
      "2024-10-20 17:56:22,874 | grid_search_training | INFO | Params: {'classifier__max_depth': 30, 'classifier__min_samples_leaf': 4, 'classifier__min_samples_split': 5, 'classifier__n_estimators': 100, 'feature_selection__n_components': 1}, Mean Test Score: 0.33530089870579305\n",
      "INFO:grid_search_training:Params: {'classifier__max_depth': 30, 'classifier__min_samples_leaf': 4, 'classifier__min_samples_split': 5, 'classifier__n_estimators': 100, 'feature_selection__n_components': 1}, Mean Test Score: 0.33530089870579305\n",
      "2024-10-20 17:56:22,875 | grid_search_training | INFO | Params: {'classifier__max_depth': 30, 'classifier__min_samples_leaf': 4, 'classifier__min_samples_split': 5, 'classifier__n_estimators': 100, 'feature_selection__n_components': 2}, Mean Test Score: 0.5531183972785753\n",
      "INFO:grid_search_training:Params: {'classifier__max_depth': 30, 'classifier__min_samples_leaf': 4, 'classifier__min_samples_split': 5, 'classifier__n_estimators': 100, 'feature_selection__n_components': 2}, Mean Test Score: 0.5531183972785753\n",
      "2024-10-20 17:56:22,875 | grid_search_training | INFO | Params: {'classifier__max_depth': 30, 'classifier__min_samples_leaf': 4, 'classifier__min_samples_split': 5, 'classifier__n_estimators': 100, 'feature_selection__n_components': 3}, Mean Test Score: 0.7387418884003979\n",
      "INFO:grid_search_training:Params: {'classifier__max_depth': 30, 'classifier__min_samples_leaf': 4, 'classifier__min_samples_split': 5, 'classifier__n_estimators': 100, 'feature_selection__n_components': 3}, Mean Test Score: 0.7387418884003979\n",
      "2024-10-20 17:56:22,875 | grid_search_training | INFO | Params: {'classifier__max_depth': 30, 'classifier__min_samples_leaf': 4, 'classifier__min_samples_split': 5, 'classifier__n_estimators': 100, 'feature_selection__n_components': 4}, Mean Test Score: 0.8159569774764435\n",
      "INFO:grid_search_training:Params: {'classifier__max_depth': 30, 'classifier__min_samples_leaf': 4, 'classifier__min_samples_split': 5, 'classifier__n_estimators': 100, 'feature_selection__n_components': 4}, Mean Test Score: 0.8159569774764435\n",
      "2024-10-20 17:56:22,876 | grid_search_training | INFO | Params: {'classifier__max_depth': 30, 'classifier__min_samples_leaf': 4, 'classifier__min_samples_split': 5, 'classifier__n_estimators': 100, 'feature_selection__n_components': 5}, Mean Test Score: 0.8351641506435723\n",
      "INFO:grid_search_training:Params: {'classifier__max_depth': 30, 'classifier__min_samples_leaf': 4, 'classifier__min_samples_split': 5, 'classifier__n_estimators': 100, 'feature_selection__n_components': 5}, Mean Test Score: 0.8351641506435723\n",
      "2024-10-20 17:56:22,876 | grid_search_training | INFO | Params: {'classifier__max_depth': 30, 'classifier__min_samples_leaf': 4, 'classifier__min_samples_split': 5, 'classifier__n_estimators': 200, 'feature_selection__n_components': 1}, Mean Test Score: 0.3334472223693581\n",
      "INFO:grid_search_training:Params: {'classifier__max_depth': 30, 'classifier__min_samples_leaf': 4, 'classifier__min_samples_split': 5, 'classifier__n_estimators': 200, 'feature_selection__n_components': 1}, Mean Test Score: 0.3334472223693581\n",
      "2024-10-20 17:56:22,876 | grid_search_training | INFO | Params: {'classifier__max_depth': 30, 'classifier__min_samples_leaf': 4, 'classifier__min_samples_split': 5, 'classifier__n_estimators': 200, 'feature_selection__n_components': 2}, Mean Test Score: 0.5486908734572806\n",
      "INFO:grid_search_training:Params: {'classifier__max_depth': 30, 'classifier__min_samples_leaf': 4, 'classifier__min_samples_split': 5, 'classifier__n_estimators': 200, 'feature_selection__n_components': 2}, Mean Test Score: 0.5486908734572806\n",
      "2024-10-20 17:56:22,877 | grid_search_training | INFO | Params: {'classifier__max_depth': 30, 'classifier__min_samples_leaf': 4, 'classifier__min_samples_split': 5, 'classifier__n_estimators': 200, 'feature_selection__n_components': 3}, Mean Test Score: 0.7444882850433462\n",
      "INFO:grid_search_training:Params: {'classifier__max_depth': 30, 'classifier__min_samples_leaf': 4, 'classifier__min_samples_split': 5, 'classifier__n_estimators': 200, 'feature_selection__n_components': 3}, Mean Test Score: 0.7444882850433462\n",
      "2024-10-20 17:56:22,877 | grid_search_training | INFO | Params: {'classifier__max_depth': 30, 'classifier__min_samples_leaf': 4, 'classifier__min_samples_split': 5, 'classifier__n_estimators': 200, 'feature_selection__n_components': 4}, Mean Test Score: 0.8173131404088023\n",
      "INFO:grid_search_training:Params: {'classifier__max_depth': 30, 'classifier__min_samples_leaf': 4, 'classifier__min_samples_split': 5, 'classifier__n_estimators': 200, 'feature_selection__n_components': 4}, Mean Test Score: 0.8173131404088023\n",
      "2024-10-20 17:56:22,877 | grid_search_training | INFO | Params: {'classifier__max_depth': 30, 'classifier__min_samples_leaf': 4, 'classifier__min_samples_split': 5, 'classifier__n_estimators': 200, 'feature_selection__n_components': 5}, Mean Test Score: 0.8413677395813103\n",
      "INFO:grid_search_training:Params: {'classifier__max_depth': 30, 'classifier__min_samples_leaf': 4, 'classifier__min_samples_split': 5, 'classifier__n_estimators': 200, 'feature_selection__n_components': 5}, Mean Test Score: 0.8413677395813103\n",
      "2024-10-20 17:56:22,878 | grid_search_training | INFO | Params: {'classifier__max_depth': 30, 'classifier__min_samples_leaf': 4, 'classifier__min_samples_split': 10, 'classifier__n_estimators': 50, 'feature_selection__n_components': 1}, Mean Test Score: 0.3358465549611267\n",
      "INFO:grid_search_training:Params: {'classifier__max_depth': 30, 'classifier__min_samples_leaf': 4, 'classifier__min_samples_split': 10, 'classifier__n_estimators': 50, 'feature_selection__n_components': 1}, Mean Test Score: 0.3358465549611267\n",
      "2024-10-20 17:56:22,878 | grid_search_training | INFO | Params: {'classifier__max_depth': 30, 'classifier__min_samples_leaf': 4, 'classifier__min_samples_split': 10, 'classifier__n_estimators': 50, 'feature_selection__n_components': 2}, Mean Test Score: 0.5516663370823547\n",
      "INFO:grid_search_training:Params: {'classifier__max_depth': 30, 'classifier__min_samples_leaf': 4, 'classifier__min_samples_split': 10, 'classifier__n_estimators': 50, 'feature_selection__n_components': 2}, Mean Test Score: 0.5516663370823547\n",
      "2024-10-20 17:56:22,878 | grid_search_training | INFO | Params: {'classifier__max_depth': 30, 'classifier__min_samples_leaf': 4, 'classifier__min_samples_split': 10, 'classifier__n_estimators': 50, 'feature_selection__n_components': 3}, Mean Test Score: 0.7313187433421027\n",
      "INFO:grid_search_training:Params: {'classifier__max_depth': 30, 'classifier__min_samples_leaf': 4, 'classifier__min_samples_split': 10, 'classifier__n_estimators': 50, 'feature_selection__n_components': 3}, Mean Test Score: 0.7313187433421027\n",
      "2024-10-20 17:56:22,879 | grid_search_training | INFO | Params: {'classifier__max_depth': 30, 'classifier__min_samples_leaf': 4, 'classifier__min_samples_split': 10, 'classifier__n_estimators': 50, 'feature_selection__n_components': 4}, Mean Test Score: 0.8165262637498454\n",
      "INFO:grid_search_training:Params: {'classifier__max_depth': 30, 'classifier__min_samples_leaf': 4, 'classifier__min_samples_split': 10, 'classifier__n_estimators': 50, 'feature_selection__n_components': 4}, Mean Test Score: 0.8165262637498454\n",
      "2024-10-20 17:56:22,879 | grid_search_training | INFO | Params: {'classifier__max_depth': 30, 'classifier__min_samples_leaf': 4, 'classifier__min_samples_split': 10, 'classifier__n_estimators': 50, 'feature_selection__n_components': 5}, Mean Test Score: 0.8346865005797153\n",
      "INFO:grid_search_training:Params: {'classifier__max_depth': 30, 'classifier__min_samples_leaf': 4, 'classifier__min_samples_split': 10, 'classifier__n_estimators': 50, 'feature_selection__n_components': 5}, Mean Test Score: 0.8346865005797153\n",
      "2024-10-20 17:56:22,879 | grid_search_training | INFO | Params: {'classifier__max_depth': 30, 'classifier__min_samples_leaf': 4, 'classifier__min_samples_split': 10, 'classifier__n_estimators': 100, 'feature_selection__n_components': 1}, Mean Test Score: 0.3375753482705652\n",
      "INFO:grid_search_training:Params: {'classifier__max_depth': 30, 'classifier__min_samples_leaf': 4, 'classifier__min_samples_split': 10, 'classifier__n_estimators': 100, 'feature_selection__n_components': 1}, Mean Test Score: 0.3375753482705652\n",
      "2024-10-20 17:56:22,880 | grid_search_training | INFO | Params: {'classifier__max_depth': 30, 'classifier__min_samples_leaf': 4, 'classifier__min_samples_split': 10, 'classifier__n_estimators': 100, 'feature_selection__n_components': 2}, Mean Test Score: 0.5575968713032118\n",
      "INFO:grid_search_training:Params: {'classifier__max_depth': 30, 'classifier__min_samples_leaf': 4, 'classifier__min_samples_split': 10, 'classifier__n_estimators': 100, 'feature_selection__n_components': 2}, Mean Test Score: 0.5575968713032118\n",
      "2024-10-20 17:56:22,892 | grid_search_training | INFO | Params: {'classifier__max_depth': 30, 'classifier__min_samples_leaf': 4, 'classifier__min_samples_split': 10, 'classifier__n_estimators': 100, 'feature_selection__n_components': 3}, Mean Test Score: 0.746377427005903\n",
      "INFO:grid_search_training:Params: {'classifier__max_depth': 30, 'classifier__min_samples_leaf': 4, 'classifier__min_samples_split': 10, 'classifier__n_estimators': 100, 'feature_selection__n_components': 3}, Mean Test Score: 0.746377427005903\n",
      "2024-10-20 17:56:22,922 | grid_search_training | INFO | Params: {'classifier__max_depth': 30, 'classifier__min_samples_leaf': 4, 'classifier__min_samples_split': 10, 'classifier__n_estimators': 100, 'feature_selection__n_components': 4}, Mean Test Score: 0.8150975098728157\n",
      "INFO:grid_search_training:Params: {'classifier__max_depth': 30, 'classifier__min_samples_leaf': 4, 'classifier__min_samples_split': 10, 'classifier__n_estimators': 100, 'feature_selection__n_components': 4}, Mean Test Score: 0.8150975098728157\n",
      "2024-10-20 17:56:22,923 | grid_search_training | INFO | Params: {'classifier__max_depth': 30, 'classifier__min_samples_leaf': 4, 'classifier__min_samples_split': 10, 'classifier__n_estimators': 100, 'feature_selection__n_components': 5}, Mean Test Score: 0.8438693610184155\n",
      "INFO:grid_search_training:Params: {'classifier__max_depth': 30, 'classifier__min_samples_leaf': 4, 'classifier__min_samples_split': 10, 'classifier__n_estimators': 100, 'feature_selection__n_components': 5}, Mean Test Score: 0.8438693610184155\n",
      "2024-10-20 17:56:22,923 | grid_search_training | INFO | Params: {'classifier__max_depth': 30, 'classifier__min_samples_leaf': 4, 'classifier__min_samples_split': 10, 'classifier__n_estimators': 200, 'feature_selection__n_components': 1}, Mean Test Score: 0.34104841358122784\n",
      "INFO:grid_search_training:Params: {'classifier__max_depth': 30, 'classifier__min_samples_leaf': 4, 'classifier__min_samples_split': 10, 'classifier__n_estimators': 200, 'feature_selection__n_components': 1}, Mean Test Score: 0.34104841358122784\n",
      "2024-10-20 17:56:22,939 | grid_search_training | INFO | Params: {'classifier__max_depth': 30, 'classifier__min_samples_leaf': 4, 'classifier__min_samples_split': 10, 'classifier__n_estimators': 200, 'feature_selection__n_components': 2}, Mean Test Score: 0.5525304365226501\n",
      "INFO:grid_search_training:Params: {'classifier__max_depth': 30, 'classifier__min_samples_leaf': 4, 'classifier__min_samples_split': 10, 'classifier__n_estimators': 200, 'feature_selection__n_components': 2}, Mean Test Score: 0.5525304365226501\n",
      "2024-10-20 17:56:22,939 | grid_search_training | INFO | Params: {'classifier__max_depth': 30, 'classifier__min_samples_leaf': 4, 'classifier__min_samples_split': 10, 'classifier__n_estimators': 200, 'feature_selection__n_components': 3}, Mean Test Score: 0.7407172578585259\n",
      "INFO:grid_search_training:Params: {'classifier__max_depth': 30, 'classifier__min_samples_leaf': 4, 'classifier__min_samples_split': 10, 'classifier__n_estimators': 200, 'feature_selection__n_components': 3}, Mean Test Score: 0.7407172578585259\n",
      "2024-10-20 17:56:22,939 | grid_search_training | INFO | Params: {'classifier__max_depth': 30, 'classifier__min_samples_leaf': 4, 'classifier__min_samples_split': 10, 'classifier__n_estimators': 200, 'feature_selection__n_components': 4}, Mean Test Score: 0.8117812325276175\n",
      "INFO:grid_search_training:Params: {'classifier__max_depth': 30, 'classifier__min_samples_leaf': 4, 'classifier__min_samples_split': 10, 'classifier__n_estimators': 200, 'feature_selection__n_components': 4}, Mean Test Score: 0.8117812325276175\n",
      "2024-10-20 17:56:22,940 | grid_search_training | INFO | Params: {'classifier__max_depth': 30, 'classifier__min_samples_leaf': 4, 'classifier__min_samples_split': 10, 'classifier__n_estimators': 200, 'feature_selection__n_components': 5}, Mean Test Score: 0.8378318649175156\n",
      "INFO:grid_search_training:Params: {'classifier__max_depth': 30, 'classifier__min_samples_leaf': 4, 'classifier__min_samples_split': 10, 'classifier__n_estimators': 200, 'feature_selection__n_components': 5}, Mean Test Score: 0.8378318649175156\n",
      "2024-10-20 17:56:22,941 | grid_search_training | INFO | Number of tests that resulted in NaN for Random Forest: 0\n",
      "INFO:grid_search_training:Number of tests that resulted in NaN for Random Forest: 0\n",
      "2024-10-20 17:56:22,941 | grid_search_training | INFO | Model Random Forest_pca stored successfully\n",
      "INFO:grid_search_training:Model Random Forest_pca stored successfully\n"
     ]
    },
    {
     "name": "stdout",
     "output_type": "stream",
     "text": [
      "Model: Random Forest_pca\n",
      "Best Hyperparameters: {'classifier__max_depth': 20, 'classifier__min_samples_leaf': 2, 'classifier__min_samples_split': 5, 'classifier__n_estimators': 100, 'feature_selection__n_components': 5}\n",
      "CV Result: 0.852708370852976\n",
      "\n"
     ]
    }
   ],
   "source": [
    "from core.training.grid_search_training import GridSearchTraining\n",
    "\n",
    "# Instantiate the GridSearchCV training class\n",
    "training = GridSearchTraining()\n",
    "\n",
    "# Execute the training\n",
    "trained_models = training.train_model(\n",
    "    X_train=X_train,\n",
    "    y_train=y_train,\n",
    "    selected_models=selected_models,\n",
    "    selected_selectors=selected_selectors,\n",
    "    n_iter=n_iter,  # This parameter is not used in GridSearchCV but kept for consistency\n",
    "    cv=cv,\n",
    "    scoring=scoring_metric,\n",
    "    n_jobs=n_jobs\n",
    ")\n",
    "\n",
    "# Example of accessing the trained models\n",
    "for model_key, model_info in trained_models.items():\n",
    "    print(f\"Model: {model_key}\")\n",
    "    print(f\"Best Hyperparameters: {model_info['hyperparameters']}\")\n",
    "    print(f\"CV Result: {model_info['cv_result']}\\n\")"
   ]
  },
  {
   "cell_type": "markdown",
   "id": "b24478b0",
   "metadata": {},
   "source": [
    "### Treinando com RandomSearchCV"
   ]
  },
  {
   "cell_type": "code",
   "execution_count": 11,
   "id": "5b29b0da",
   "metadata": {},
   "outputs": [
    {
     "name": "stderr",
     "output_type": "stream",
     "text": [
      "2024-10-20 17:56:22,971 | random_search_training | INFO | Training and evaluating Random Forest with RandomizedSearchCV and pca\n",
      "INFO:random_search_training:Training and evaluating Random Forest with RandomizedSearchCV and pca\n",
      "DEBUG:random_search_training:Parameter grid: {'classifier__n_estimators': [50, 100, 200], 'classifier__max_depth': [None, 10, 20, 30], 'classifier__min_samples_split': [2, 5, 10], 'classifier__min_samples_leaf': [1, 2, 4], 'feature_selection__n_components': [1, 2, 3, 4, 5]}\n",
      "2024-10-20 17:56:22,972 | random_search_training | INFO | Starting RandomizedSearchCV fitting process\n",
      "INFO:random_search_training:Starting RandomizedSearchCV fitting process\n"
     ]
    },
    {
     "name": "stdout",
     "output_type": "stream",
     "text": [
      "Fitting 5 folds for each of 100 candidates, totalling 500 fits\n"
     ]
    },
    {
     "name": "stderr",
     "output_type": "stream",
     "text": [
      "2024-10-20 17:56:53,633 | random_search_training | INFO | RandomizedSearchCV fitting process completed\n",
      "INFO:random_search_training:RandomizedSearchCV fitting process completed\n",
      "2024-10-20 17:56:53,634 | random_search_training | INFO | Best parameters: {'feature_selection__n_components': 5, 'classifier__n_estimators': 100, 'classifier__min_samples_split': 10, 'classifier__min_samples_leaf': 2, 'classifier__max_depth': None}\n",
      "INFO:random_search_training:Best parameters: {'feature_selection__n_components': 5, 'classifier__n_estimators': 100, 'classifier__min_samples_split': 10, 'classifier__min_samples_leaf': 2, 'classifier__max_depth': None}\n",
      "2024-10-20 17:56:53,635 | random_search_training | INFO | Best cross-validation score: 0.8532495365220616\n",
      "INFO:random_search_training:Best cross-validation score: 0.8532495365220616\n",
      "2024-10-20 17:56:53,636 | random_search_training | INFO | All hyperparameter combinations and their cross-validation results:\n",
      "INFO:random_search_training:All hyperparameter combinations and their cross-validation results:\n",
      "2024-10-20 17:56:53,637 | random_search_training | INFO | Params: {'feature_selection__n_components': 5, 'classifier__n_estimators': 50, 'classifier__min_samples_split': 2, 'classifier__min_samples_leaf': 4, 'classifier__max_depth': 10}, Mean Test Score: 0.839142209745102\n",
      "INFO:random_search_training:Params: {'feature_selection__n_components': 5, 'classifier__n_estimators': 50, 'classifier__min_samples_split': 2, 'classifier__min_samples_leaf': 4, 'classifier__max_depth': 10}, Mean Test Score: 0.839142209745102\n",
      "2024-10-20 17:56:53,638 | random_search_training | INFO | Params: {'feature_selection__n_components': 4, 'classifier__n_estimators': 200, 'classifier__min_samples_split': 5, 'classifier__min_samples_leaf': 2, 'classifier__max_depth': None}, Mean Test Score: 0.8197921146953405\n",
      "INFO:random_search_training:Params: {'feature_selection__n_components': 4, 'classifier__n_estimators': 200, 'classifier__min_samples_split': 5, 'classifier__min_samples_leaf': 2, 'classifier__max_depth': None}, Mean Test Score: 0.8197921146953405\n",
      "2024-10-20 17:56:53,639 | random_search_training | INFO | Params: {'feature_selection__n_components': 2, 'classifier__n_estimators': 200, 'classifier__min_samples_split': 5, 'classifier__min_samples_leaf': 4, 'classifier__max_depth': 30}, Mean Test Score: 0.5422812766683733\n",
      "INFO:random_search_training:Params: {'feature_selection__n_components': 2, 'classifier__n_estimators': 200, 'classifier__min_samples_split': 5, 'classifier__min_samples_leaf': 4, 'classifier__max_depth': 30}, Mean Test Score: 0.5422812766683733\n",
      "2024-10-20 17:56:53,639 | random_search_training | INFO | Params: {'feature_selection__n_components': 2, 'classifier__n_estimators': 200, 'classifier__min_samples_split': 10, 'classifier__min_samples_leaf': 2, 'classifier__max_depth': None}, Mean Test Score: 0.5458565366574265\n",
      "INFO:random_search_training:Params: {'feature_selection__n_components': 2, 'classifier__n_estimators': 200, 'classifier__min_samples_split': 10, 'classifier__min_samples_leaf': 2, 'classifier__max_depth': None}, Mean Test Score: 0.5458565366574265\n",
      "2024-10-20 17:56:53,640 | random_search_training | INFO | Params: {'feature_selection__n_components': 5, 'classifier__n_estimators': 50, 'classifier__min_samples_split': 5, 'classifier__min_samples_leaf': 2, 'classifier__max_depth': 30}, Mean Test Score: 0.8481866624291541\n",
      "INFO:random_search_training:Params: {'feature_selection__n_components': 5, 'classifier__n_estimators': 50, 'classifier__min_samples_split': 5, 'classifier__min_samples_leaf': 2, 'classifier__max_depth': 30}, Mean Test Score: 0.8481866624291541\n",
      "2024-10-20 17:56:53,641 | random_search_training | INFO | Params: {'feature_selection__n_components': 3, 'classifier__n_estimators': 50, 'classifier__min_samples_split': 10, 'classifier__min_samples_leaf': 2, 'classifier__max_depth': None}, Mean Test Score: 0.743796534656379\n",
      "INFO:random_search_training:Params: {'feature_selection__n_components': 3, 'classifier__n_estimators': 50, 'classifier__min_samples_split': 10, 'classifier__min_samples_leaf': 2, 'classifier__max_depth': None}, Mean Test Score: 0.743796534656379\n",
      "2024-10-20 17:56:53,642 | random_search_training | INFO | Params: {'feature_selection__n_components': 3, 'classifier__n_estimators': 200, 'classifier__min_samples_split': 5, 'classifier__min_samples_leaf': 1, 'classifier__max_depth': 20}, Mean Test Score: 0.7466211546044694\n",
      "INFO:random_search_training:Params: {'feature_selection__n_components': 3, 'classifier__n_estimators': 200, 'classifier__min_samples_split': 5, 'classifier__min_samples_leaf': 1, 'classifier__max_depth': 20}, Mean Test Score: 0.7466211546044694\n",
      "2024-10-20 17:56:53,642 | random_search_training | INFO | Params: {'feature_selection__n_components': 4, 'classifier__n_estimators': 200, 'classifier__min_samples_split': 2, 'classifier__min_samples_leaf': 1, 'classifier__max_depth': 30}, Mean Test Score: 0.8212929357134028\n",
      "INFO:random_search_training:Params: {'feature_selection__n_components': 4, 'classifier__n_estimators': 200, 'classifier__min_samples_split': 2, 'classifier__min_samples_leaf': 1, 'classifier__max_depth': 30}, Mean Test Score: 0.8212929357134028\n",
      "2024-10-20 17:56:53,643 | random_search_training | INFO | Params: {'feature_selection__n_components': 3, 'classifier__n_estimators': 200, 'classifier__min_samples_split': 5, 'classifier__min_samples_leaf': 2, 'classifier__max_depth': 20}, Mean Test Score: 0.7435907092536682\n",
      "INFO:random_search_training:Params: {'feature_selection__n_components': 3, 'classifier__n_estimators': 200, 'classifier__min_samples_split': 5, 'classifier__min_samples_leaf': 2, 'classifier__max_depth': 20}, Mean Test Score: 0.7435907092536682\n",
      "2024-10-20 17:56:53,643 | random_search_training | INFO | Params: {'feature_selection__n_components': 4, 'classifier__n_estimators': 100, 'classifier__min_samples_split': 5, 'classifier__min_samples_leaf': 4, 'classifier__max_depth': 20}, Mean Test Score: 0.8172246529065216\n",
      "INFO:random_search_training:Params: {'feature_selection__n_components': 4, 'classifier__n_estimators': 100, 'classifier__min_samples_split': 5, 'classifier__min_samples_leaf': 4, 'classifier__max_depth': 20}, Mean Test Score: 0.8172246529065216\n",
      "2024-10-20 17:56:53,644 | random_search_training | INFO | Params: {'feature_selection__n_components': 2, 'classifier__n_estimators': 100, 'classifier__min_samples_split': 2, 'classifier__min_samples_leaf': 1, 'classifier__max_depth': None}, Mean Test Score: 0.5307059695958471\n",
      "INFO:random_search_training:Params: {'feature_selection__n_components': 2, 'classifier__n_estimators': 100, 'classifier__min_samples_split': 2, 'classifier__min_samples_leaf': 1, 'classifier__max_depth': None}, Mean Test Score: 0.5307059695958471\n",
      "2024-10-20 17:56:53,645 | random_search_training | INFO | Params: {'feature_selection__n_components': 3, 'classifier__n_estimators': 200, 'classifier__min_samples_split': 5, 'classifier__min_samples_leaf': 4, 'classifier__max_depth': None}, Mean Test Score: 0.7427136324310963\n",
      "INFO:random_search_training:Params: {'feature_selection__n_components': 3, 'classifier__n_estimators': 200, 'classifier__min_samples_split': 5, 'classifier__min_samples_leaf': 4, 'classifier__max_depth': None}, Mean Test Score: 0.7427136324310963\n",
      "2024-10-20 17:56:53,645 | random_search_training | INFO | Params: {'feature_selection__n_components': 1, 'classifier__n_estimators': 100, 'classifier__min_samples_split': 2, 'classifier__min_samples_leaf': 1, 'classifier__max_depth': 30}, Mean Test Score: 0.27638110540224\n",
      "INFO:random_search_training:Params: {'feature_selection__n_components': 1, 'classifier__n_estimators': 100, 'classifier__min_samples_split': 2, 'classifier__min_samples_leaf': 1, 'classifier__max_depth': 30}, Mean Test Score: 0.27638110540224\n",
      "2024-10-20 17:56:53,646 | random_search_training | INFO | Params: {'feature_selection__n_components': 1, 'classifier__n_estimators': 50, 'classifier__min_samples_split': 10, 'classifier__min_samples_leaf': 2, 'classifier__max_depth': None}, Mean Test Score: 0.3261192506665254\n",
      "INFO:random_search_training:Params: {'feature_selection__n_components': 1, 'classifier__n_estimators': 50, 'classifier__min_samples_split': 10, 'classifier__min_samples_leaf': 2, 'classifier__max_depth': None}, Mean Test Score: 0.3261192506665254\n",
      "2024-10-20 17:56:53,646 | random_search_training | INFO | Params: {'feature_selection__n_components': 3, 'classifier__n_estimators': 50, 'classifier__min_samples_split': 2, 'classifier__min_samples_leaf': 1, 'classifier__max_depth': 20}, Mean Test Score: 0.7329206878895422\n",
      "INFO:random_search_training:Params: {'feature_selection__n_components': 3, 'classifier__n_estimators': 50, 'classifier__min_samples_split': 2, 'classifier__min_samples_leaf': 1, 'classifier__max_depth': 20}, Mean Test Score: 0.7329206878895422\n",
      "2024-10-20 17:56:53,646 | random_search_training | INFO | Params: {'feature_selection__n_components': 1, 'classifier__n_estimators': 50, 'classifier__min_samples_split': 5, 'classifier__min_samples_leaf': 2, 'classifier__max_depth': 10}, Mean Test Score: 0.33197235611584885\n",
      "INFO:random_search_training:Params: {'feature_selection__n_components': 1, 'classifier__n_estimators': 50, 'classifier__min_samples_split': 5, 'classifier__min_samples_leaf': 2, 'classifier__max_depth': 10}, Mean Test Score: 0.33197235611584885\n",
      "2024-10-20 17:56:53,647 | random_search_training | INFO | Params: {'feature_selection__n_components': 5, 'classifier__n_estimators': 200, 'classifier__min_samples_split': 10, 'classifier__min_samples_leaf': 2, 'classifier__max_depth': 30}, Mean Test Score: 0.8484469457539536\n",
      "INFO:random_search_training:Params: {'feature_selection__n_components': 5, 'classifier__n_estimators': 200, 'classifier__min_samples_split': 10, 'classifier__min_samples_leaf': 2, 'classifier__max_depth': 30}, Mean Test Score: 0.8484469457539536\n",
      "2024-10-20 17:56:53,648 | random_search_training | INFO | Params: {'feature_selection__n_components': 2, 'classifier__n_estimators': 200, 'classifier__min_samples_split': 2, 'classifier__min_samples_leaf': 4, 'classifier__max_depth': None}, Mean Test Score: 0.544398202588414\n",
      "INFO:random_search_training:Params: {'feature_selection__n_components': 2, 'classifier__n_estimators': 200, 'classifier__min_samples_split': 2, 'classifier__min_samples_leaf': 4, 'classifier__max_depth': None}, Mean Test Score: 0.544398202588414\n",
      "2024-10-20 17:56:53,649 | random_search_training | INFO | Params: {'feature_selection__n_components': 2, 'classifier__n_estimators': 50, 'classifier__min_samples_split': 10, 'classifier__min_samples_leaf': 4, 'classifier__max_depth': 30}, Mean Test Score: 0.5491580592192383\n",
      "INFO:random_search_training:Params: {'feature_selection__n_components': 2, 'classifier__n_estimators': 50, 'classifier__min_samples_split': 10, 'classifier__min_samples_leaf': 4, 'classifier__max_depth': 30}, Mean Test Score: 0.5491580592192383\n",
      "2024-10-20 17:56:53,649 | random_search_training | INFO | Params: {'feature_selection__n_components': 1, 'classifier__n_estimators': 200, 'classifier__min_samples_split': 2, 'classifier__min_samples_leaf': 2, 'classifier__max_depth': None}, Mean Test Score: 0.3096970590485607\n",
      "INFO:random_search_training:Params: {'feature_selection__n_components': 1, 'classifier__n_estimators': 200, 'classifier__min_samples_split': 2, 'classifier__min_samples_leaf': 2, 'classifier__max_depth': None}, Mean Test Score: 0.3096970590485607\n",
      "2024-10-20 17:56:53,651 | random_search_training | INFO | Params: {'feature_selection__n_components': 4, 'classifier__n_estimators': 200, 'classifier__min_samples_split': 2, 'classifier__min_samples_leaf': 4, 'classifier__max_depth': 20}, Mean Test Score: 0.8131737262449166\n",
      "INFO:random_search_training:Params: {'feature_selection__n_components': 4, 'classifier__n_estimators': 200, 'classifier__min_samples_split': 2, 'classifier__min_samples_leaf': 4, 'classifier__max_depth': 20}, Mean Test Score: 0.8131737262449166\n",
      "2024-10-20 17:56:53,651 | random_search_training | INFO | Params: {'feature_selection__n_components': 1, 'classifier__n_estimators': 100, 'classifier__min_samples_split': 2, 'classifier__min_samples_leaf': 2, 'classifier__max_depth': 10}, Mean Test Score: 0.33436710395442315\n",
      "INFO:random_search_training:Params: {'feature_selection__n_components': 1, 'classifier__n_estimators': 100, 'classifier__min_samples_split': 2, 'classifier__min_samples_leaf': 2, 'classifier__max_depth': 10}, Mean Test Score: 0.33436710395442315\n",
      "2024-10-20 17:56:53,652 | random_search_training | INFO | Params: {'feature_selection__n_components': 4, 'classifier__n_estimators': 200, 'classifier__min_samples_split': 5, 'classifier__min_samples_leaf': 1, 'classifier__max_depth': 20}, Mean Test Score: 0.824159018545003\n",
      "INFO:random_search_training:Params: {'feature_selection__n_components': 4, 'classifier__n_estimators': 200, 'classifier__min_samples_split': 5, 'classifier__min_samples_leaf': 1, 'classifier__max_depth': 20}, Mean Test Score: 0.824159018545003\n",
      "2024-10-20 17:56:53,653 | random_search_training | INFO | Params: {'feature_selection__n_components': 3, 'classifier__n_estimators': 50, 'classifier__min_samples_split': 10, 'classifier__min_samples_leaf': 1, 'classifier__max_depth': 10}, Mean Test Score: 0.7392814120333586\n",
      "INFO:random_search_training:Params: {'feature_selection__n_components': 3, 'classifier__n_estimators': 50, 'classifier__min_samples_split': 10, 'classifier__min_samples_leaf': 1, 'classifier__max_depth': 10}, Mean Test Score: 0.7392814120333586\n",
      "2024-10-20 17:56:53,654 | random_search_training | INFO | Params: {'feature_selection__n_components': 5, 'classifier__n_estimators': 200, 'classifier__min_samples_split': 5, 'classifier__min_samples_leaf': 2, 'classifier__max_depth': 30}, Mean Test Score: 0.8450630271141952\n",
      "INFO:random_search_training:Params: {'feature_selection__n_components': 5, 'classifier__n_estimators': 200, 'classifier__min_samples_split': 5, 'classifier__min_samples_leaf': 2, 'classifier__max_depth': 30}, Mean Test Score: 0.8450630271141952\n",
      "2024-10-20 17:56:53,655 | random_search_training | INFO | Params: {'feature_selection__n_components': 3, 'classifier__n_estimators': 50, 'classifier__min_samples_split': 2, 'classifier__min_samples_leaf': 1, 'classifier__max_depth': None}, Mean Test Score: 0.7350522803114572\n",
      "INFO:random_search_training:Params: {'feature_selection__n_components': 3, 'classifier__n_estimators': 50, 'classifier__min_samples_split': 2, 'classifier__min_samples_leaf': 1, 'classifier__max_depth': None}, Mean Test Score: 0.7350522803114572\n",
      "2024-10-20 17:56:53,657 | random_search_training | INFO | Params: {'feature_selection__n_components': 1, 'classifier__n_estimators': 50, 'classifier__min_samples_split': 2, 'classifier__min_samples_leaf': 2, 'classifier__max_depth': 10}, Mean Test Score: 0.32235978247435426\n",
      "INFO:random_search_training:Params: {'feature_selection__n_components': 1, 'classifier__n_estimators': 50, 'classifier__min_samples_split': 2, 'classifier__min_samples_leaf': 2, 'classifier__max_depth': 10}, Mean Test Score: 0.32235978247435426\n",
      "2024-10-20 17:56:53,658 | random_search_training | INFO | Params: {'feature_selection__n_components': 3, 'classifier__n_estimators': 200, 'classifier__min_samples_split': 10, 'classifier__min_samples_leaf': 2, 'classifier__max_depth': 20}, Mean Test Score: 0.7423251996633532\n",
      "INFO:random_search_training:Params: {'feature_selection__n_components': 3, 'classifier__n_estimators': 200, 'classifier__min_samples_split': 10, 'classifier__min_samples_leaf': 2, 'classifier__max_depth': 20}, Mean Test Score: 0.7423251996633532\n",
      "2024-10-20 17:56:53,658 | random_search_training | INFO | Params: {'feature_selection__n_components': 1, 'classifier__n_estimators': 200, 'classifier__min_samples_split': 2, 'classifier__min_samples_leaf': 1, 'classifier__max_depth': None}, Mean Test Score: 0.27638110540224\n",
      "INFO:random_search_training:Params: {'feature_selection__n_components': 1, 'classifier__n_estimators': 200, 'classifier__min_samples_split': 2, 'classifier__min_samples_leaf': 1, 'classifier__max_depth': None}, Mean Test Score: 0.27638110540224\n",
      "2024-10-20 17:56:53,659 | random_search_training | INFO | Params: {'feature_selection__n_components': 2, 'classifier__n_estimators': 200, 'classifier__min_samples_split': 10, 'classifier__min_samples_leaf': 1, 'classifier__max_depth': 20}, Mean Test Score: 0.5521984686100371\n",
      "INFO:random_search_training:Params: {'feature_selection__n_components': 2, 'classifier__n_estimators': 200, 'classifier__min_samples_split': 10, 'classifier__min_samples_leaf': 1, 'classifier__max_depth': 20}, Mean Test Score: 0.5521984686100371\n",
      "2024-10-20 17:56:53,659 | random_search_training | INFO | Params: {'feature_selection__n_components': 2, 'classifier__n_estimators': 200, 'classifier__min_samples_split': 2, 'classifier__min_samples_leaf': 4, 'classifier__max_depth': 20}, Mean Test Score: 0.5437501927479681\n",
      "INFO:random_search_training:Params: {'feature_selection__n_components': 2, 'classifier__n_estimators': 200, 'classifier__min_samples_split': 2, 'classifier__min_samples_leaf': 4, 'classifier__max_depth': 20}, Mean Test Score: 0.5437501927479681\n",
      "2024-10-20 17:56:53,660 | random_search_training | INFO | Params: {'feature_selection__n_components': 2, 'classifier__n_estimators': 200, 'classifier__min_samples_split': 10, 'classifier__min_samples_leaf': 1, 'classifier__max_depth': 10}, Mean Test Score: 0.561340513562983\n",
      "INFO:random_search_training:Params: {'feature_selection__n_components': 2, 'classifier__n_estimators': 200, 'classifier__min_samples_split': 10, 'classifier__min_samples_leaf': 1, 'classifier__max_depth': 10}, Mean Test Score: 0.561340513562983\n",
      "2024-10-20 17:56:53,660 | random_search_training | INFO | Params: {'feature_selection__n_components': 1, 'classifier__n_estimators': 100, 'classifier__min_samples_split': 5, 'classifier__min_samples_leaf': 4, 'classifier__max_depth': 10}, Mean Test Score: 0.33517022441160377\n",
      "INFO:random_search_training:Params: {'feature_selection__n_components': 1, 'classifier__n_estimators': 100, 'classifier__min_samples_split': 5, 'classifier__min_samples_leaf': 4, 'classifier__max_depth': 10}, Mean Test Score: 0.33517022441160377\n",
      "2024-10-20 17:56:53,661 | random_search_training | INFO | Params: {'feature_selection__n_components': 5, 'classifier__n_estimators': 200, 'classifier__min_samples_split': 2, 'classifier__min_samples_leaf': 2, 'classifier__max_depth': 30}, Mean Test Score: 0.8428293577225723\n",
      "INFO:random_search_training:Params: {'feature_selection__n_components': 5, 'classifier__n_estimators': 200, 'classifier__min_samples_split': 2, 'classifier__min_samples_leaf': 2, 'classifier__max_depth': 30}, Mean Test Score: 0.8428293577225723\n",
      "2024-10-20 17:56:53,662 | random_search_training | INFO | Params: {'feature_selection__n_components': 5, 'classifier__n_estimators': 50, 'classifier__min_samples_split': 10, 'classifier__min_samples_leaf': 2, 'classifier__max_depth': 20}, Mean Test Score: 0.8413204618888713\n",
      "INFO:random_search_training:Params: {'feature_selection__n_components': 5, 'classifier__n_estimators': 50, 'classifier__min_samples_split': 10, 'classifier__min_samples_leaf': 2, 'classifier__max_depth': 20}, Mean Test Score: 0.8413204618888713\n",
      "2024-10-20 17:56:53,705 | random_search_training | INFO | Params: {'feature_selection__n_components': 5, 'classifier__n_estimators': 200, 'classifier__min_samples_split': 5, 'classifier__min_samples_leaf': 4, 'classifier__max_depth': 30}, Mean Test Score: 0.8397711566643714\n",
      "INFO:random_search_training:Params: {'feature_selection__n_components': 5, 'classifier__n_estimators': 200, 'classifier__min_samples_split': 5, 'classifier__min_samples_leaf': 4, 'classifier__max_depth': 30}, Mean Test Score: 0.8397711566643714\n",
      "2024-10-20 17:56:53,707 | random_search_training | INFO | Params: {'feature_selection__n_components': 5, 'classifier__n_estimators': 100, 'classifier__min_samples_split': 2, 'classifier__min_samples_leaf': 1, 'classifier__max_depth': 30}, Mean Test Score: 0.8470939079871227\n",
      "INFO:random_search_training:Params: {'feature_selection__n_components': 5, 'classifier__n_estimators': 100, 'classifier__min_samples_split': 2, 'classifier__min_samples_leaf': 1, 'classifier__max_depth': 30}, Mean Test Score: 0.8470939079871227\n",
      "2024-10-20 17:56:53,708 | random_search_training | INFO | Params: {'feature_selection__n_components': 3, 'classifier__n_estimators': 200, 'classifier__min_samples_split': 5, 'classifier__min_samples_leaf': 2, 'classifier__max_depth': None}, Mean Test Score: 0.745799589196697\n",
      "INFO:random_search_training:Params: {'feature_selection__n_components': 3, 'classifier__n_estimators': 200, 'classifier__min_samples_split': 5, 'classifier__min_samples_leaf': 2, 'classifier__max_depth': None}, Mean Test Score: 0.745799589196697\n",
      "2024-10-20 17:56:53,708 | random_search_training | INFO | Params: {'feature_selection__n_components': 2, 'classifier__n_estimators': 50, 'classifier__min_samples_split': 5, 'classifier__min_samples_leaf': 2, 'classifier__max_depth': 10}, Mean Test Score: 0.5504741305742418\n",
      "INFO:random_search_training:Params: {'feature_selection__n_components': 2, 'classifier__n_estimators': 50, 'classifier__min_samples_split': 5, 'classifier__min_samples_leaf': 2, 'classifier__max_depth': 10}, Mean Test Score: 0.5504741305742418\n",
      "2024-10-20 17:56:53,710 | random_search_training | INFO | Params: {'feature_selection__n_components': 4, 'classifier__n_estimators': 200, 'classifier__min_samples_split': 10, 'classifier__min_samples_leaf': 4, 'classifier__max_depth': 10}, Mean Test Score: 0.8139257317065993\n",
      "INFO:random_search_training:Params: {'feature_selection__n_components': 4, 'classifier__n_estimators': 200, 'classifier__min_samples_split': 10, 'classifier__min_samples_leaf': 4, 'classifier__max_depth': 10}, Mean Test Score: 0.8139257317065993\n",
      "2024-10-20 17:56:53,710 | random_search_training | INFO | Params: {'feature_selection__n_components': 2, 'classifier__n_estimators': 100, 'classifier__min_samples_split': 2, 'classifier__min_samples_leaf': 2, 'classifier__max_depth': 20}, Mean Test Score: 0.5366817274926285\n",
      "INFO:random_search_training:Params: {'feature_selection__n_components': 2, 'classifier__n_estimators': 100, 'classifier__min_samples_split': 2, 'classifier__min_samples_leaf': 2, 'classifier__max_depth': 20}, Mean Test Score: 0.5366817274926285\n",
      "2024-10-20 17:56:53,711 | random_search_training | INFO | Params: {'feature_selection__n_components': 4, 'classifier__n_estimators': 100, 'classifier__min_samples_split': 10, 'classifier__min_samples_leaf': 2, 'classifier__max_depth': 30}, Mean Test Score: 0.8208307937685022\n",
      "INFO:random_search_training:Params: {'feature_selection__n_components': 4, 'classifier__n_estimators': 100, 'classifier__min_samples_split': 10, 'classifier__min_samples_leaf': 2, 'classifier__max_depth': 30}, Mean Test Score: 0.8208307937685022\n",
      "2024-10-20 17:56:53,711 | random_search_training | INFO | Params: {'feature_selection__n_components': 1, 'classifier__n_estimators': 100, 'classifier__min_samples_split': 2, 'classifier__min_samples_leaf': 1, 'classifier__max_depth': 10}, Mean Test Score: 0.3226443785275821\n",
      "INFO:random_search_training:Params: {'feature_selection__n_components': 1, 'classifier__n_estimators': 100, 'classifier__min_samples_split': 2, 'classifier__min_samples_leaf': 1, 'classifier__max_depth': 10}, Mean Test Score: 0.3226443785275821\n",
      "2024-10-20 17:56:53,712 | random_search_training | INFO | Params: {'feature_selection__n_components': 3, 'classifier__n_estimators': 100, 'classifier__min_samples_split': 2, 'classifier__min_samples_leaf': 2, 'classifier__max_depth': 30}, Mean Test Score: 0.7488745990547993\n",
      "INFO:random_search_training:Params: {'feature_selection__n_components': 3, 'classifier__n_estimators': 100, 'classifier__min_samples_split': 2, 'classifier__min_samples_leaf': 2, 'classifier__max_depth': 30}, Mean Test Score: 0.7488745990547993\n",
      "2024-10-20 17:56:53,712 | random_search_training | INFO | Params: {'feature_selection__n_components': 4, 'classifier__n_estimators': 100, 'classifier__min_samples_split': 10, 'classifier__min_samples_leaf': 1, 'classifier__max_depth': 10}, Mean Test Score: 0.8202937773304848\n",
      "INFO:random_search_training:Params: {'feature_selection__n_components': 4, 'classifier__n_estimators': 100, 'classifier__min_samples_split': 10, 'classifier__min_samples_leaf': 1, 'classifier__max_depth': 10}, Mean Test Score: 0.8202937773304848\n",
      "2024-10-20 17:56:53,713 | random_search_training | INFO | Params: {'feature_selection__n_components': 5, 'classifier__n_estimators': 50, 'classifier__min_samples_split': 10, 'classifier__min_samples_leaf': 2, 'classifier__max_depth': None}, Mean Test Score: 0.836335811101106\n",
      "INFO:random_search_training:Params: {'feature_selection__n_components': 5, 'classifier__n_estimators': 50, 'classifier__min_samples_split': 10, 'classifier__min_samples_leaf': 2, 'classifier__max_depth': None}, Mean Test Score: 0.836335811101106\n",
      "2024-10-20 17:56:53,713 | random_search_training | INFO | Params: {'feature_selection__n_components': 3, 'classifier__n_estimators': 50, 'classifier__min_samples_split': 2, 'classifier__min_samples_leaf': 4, 'classifier__max_depth': 20}, Mean Test Score: 0.7303999564477872\n",
      "INFO:random_search_training:Params: {'feature_selection__n_components': 3, 'classifier__n_estimators': 50, 'classifier__min_samples_split': 2, 'classifier__min_samples_leaf': 4, 'classifier__max_depth': 20}, Mean Test Score: 0.7303999564477872\n",
      "2024-10-20 17:56:53,713 | random_search_training | INFO | Params: {'feature_selection__n_components': 2, 'classifier__n_estimators': 100, 'classifier__min_samples_split': 10, 'classifier__min_samples_leaf': 4, 'classifier__max_depth': 20}, Mean Test Score: 0.5485110734443326\n",
      "INFO:random_search_training:Params: {'feature_selection__n_components': 2, 'classifier__n_estimators': 100, 'classifier__min_samples_split': 10, 'classifier__min_samples_leaf': 4, 'classifier__max_depth': 20}, Mean Test Score: 0.5485110734443326\n",
      "2024-10-20 17:56:53,714 | random_search_training | INFO | Params: {'feature_selection__n_components': 4, 'classifier__n_estimators': 100, 'classifier__min_samples_split': 10, 'classifier__min_samples_leaf': 4, 'classifier__max_depth': 30}, Mean Test Score: 0.8150462418560306\n",
      "INFO:random_search_training:Params: {'feature_selection__n_components': 4, 'classifier__n_estimators': 100, 'classifier__min_samples_split': 10, 'classifier__min_samples_leaf': 4, 'classifier__max_depth': 30}, Mean Test Score: 0.8150462418560306\n",
      "2024-10-20 17:56:53,715 | random_search_training | INFO | Params: {'feature_selection__n_components': 1, 'classifier__n_estimators': 50, 'classifier__min_samples_split': 10, 'classifier__min_samples_leaf': 1, 'classifier__max_depth': None}, Mean Test Score: 0.33191004702461885\n",
      "INFO:random_search_training:Params: {'feature_selection__n_components': 1, 'classifier__n_estimators': 50, 'classifier__min_samples_split': 10, 'classifier__min_samples_leaf': 1, 'classifier__max_depth': None}, Mean Test Score: 0.33191004702461885\n",
      "2024-10-20 17:56:53,715 | random_search_training | INFO | Params: {'feature_selection__n_components': 1, 'classifier__n_estimators': 200, 'classifier__min_samples_split': 2, 'classifier__min_samples_leaf': 4, 'classifier__max_depth': 10}, Mean Test Score: 0.33939711966853237\n",
      "INFO:random_search_training:Params: {'feature_selection__n_components': 1, 'classifier__n_estimators': 200, 'classifier__min_samples_split': 2, 'classifier__min_samples_leaf': 4, 'classifier__max_depth': 10}, Mean Test Score: 0.33939711966853237\n",
      "2024-10-20 17:56:53,727 | random_search_training | INFO | Params: {'feature_selection__n_components': 2, 'classifier__n_estimators': 50, 'classifier__min_samples_split': 5, 'classifier__min_samples_leaf': 4, 'classifier__max_depth': 30}, Mean Test Score: 0.5551116466856177\n",
      "INFO:random_search_training:Params: {'feature_selection__n_components': 2, 'classifier__n_estimators': 50, 'classifier__min_samples_split': 5, 'classifier__min_samples_leaf': 4, 'classifier__max_depth': 30}, Mean Test Score: 0.5551116466856177\n",
      "2024-10-20 17:56:53,728 | random_search_training | INFO | Params: {'feature_selection__n_components': 3, 'classifier__n_estimators': 50, 'classifier__min_samples_split': 2, 'classifier__min_samples_leaf': 4, 'classifier__max_depth': 30}, Mean Test Score: 0.7459726857001607\n",
      "INFO:random_search_training:Params: {'feature_selection__n_components': 3, 'classifier__n_estimators': 50, 'classifier__min_samples_split': 2, 'classifier__min_samples_leaf': 4, 'classifier__max_depth': 30}, Mean Test Score: 0.7459726857001607\n",
      "2024-10-20 17:56:53,729 | random_search_training | INFO | Params: {'feature_selection__n_components': 5, 'classifier__n_estimators': 100, 'classifier__min_samples_split': 2, 'classifier__min_samples_leaf': 1, 'classifier__max_depth': None}, Mean Test Score: 0.8490492551983098\n",
      "INFO:random_search_training:Params: {'feature_selection__n_components': 5, 'classifier__n_estimators': 100, 'classifier__min_samples_split': 2, 'classifier__min_samples_leaf': 1, 'classifier__max_depth': None}, Mean Test Score: 0.8490492551983098\n",
      "2024-10-20 17:56:53,729 | random_search_training | INFO | Params: {'feature_selection__n_components': 4, 'classifier__n_estimators': 50, 'classifier__min_samples_split': 10, 'classifier__min_samples_leaf': 4, 'classifier__max_depth': 30}, Mean Test Score: 0.8129367727810444\n",
      "INFO:random_search_training:Params: {'feature_selection__n_components': 4, 'classifier__n_estimators': 50, 'classifier__min_samples_split': 10, 'classifier__min_samples_leaf': 4, 'classifier__max_depth': 30}, Mean Test Score: 0.8129367727810444\n",
      "2024-10-20 17:56:53,730 | random_search_training | INFO | Params: {'feature_selection__n_components': 1, 'classifier__n_estimators': 200, 'classifier__min_samples_split': 2, 'classifier__min_samples_leaf': 2, 'classifier__max_depth': 20}, Mean Test Score: 0.31558789013071553\n",
      "INFO:random_search_training:Params: {'feature_selection__n_components': 1, 'classifier__n_estimators': 200, 'classifier__min_samples_split': 2, 'classifier__min_samples_leaf': 2, 'classifier__max_depth': 20}, Mean Test Score: 0.31558789013071553\n",
      "2024-10-20 17:56:53,731 | random_search_training | INFO | Params: {'feature_selection__n_components': 5, 'classifier__n_estimators': 200, 'classifier__min_samples_split': 2, 'classifier__min_samples_leaf': 4, 'classifier__max_depth': None}, Mean Test Score: 0.8420395148048095\n",
      "INFO:random_search_training:Params: {'feature_selection__n_components': 5, 'classifier__n_estimators': 200, 'classifier__min_samples_split': 2, 'classifier__min_samples_leaf': 4, 'classifier__max_depth': None}, Mean Test Score: 0.8420395148048095\n",
      "2024-10-20 17:56:53,731 | random_search_training | INFO | Params: {'feature_selection__n_components': 2, 'classifier__n_estimators': 200, 'classifier__min_samples_split': 10, 'classifier__min_samples_leaf': 1, 'classifier__max_depth': 30}, Mean Test Score: 0.5529196873657385\n",
      "INFO:random_search_training:Params: {'feature_selection__n_components': 2, 'classifier__n_estimators': 200, 'classifier__min_samples_split': 10, 'classifier__min_samples_leaf': 1, 'classifier__max_depth': 30}, Mean Test Score: 0.5529196873657385\n",
      "2024-10-20 17:56:53,732 | random_search_training | INFO | Params: {'feature_selection__n_components': 1, 'classifier__n_estimators': 200, 'classifier__min_samples_split': 2, 'classifier__min_samples_leaf': 4, 'classifier__max_depth': 20}, Mean Test Score: 0.33249267557721396\n",
      "INFO:random_search_training:Params: {'feature_selection__n_components': 1, 'classifier__n_estimators': 200, 'classifier__min_samples_split': 2, 'classifier__min_samples_leaf': 4, 'classifier__max_depth': 20}, Mean Test Score: 0.33249267557721396\n",
      "2024-10-20 17:56:53,732 | random_search_training | INFO | Params: {'feature_selection__n_components': 4, 'classifier__n_estimators': 100, 'classifier__min_samples_split': 5, 'classifier__min_samples_leaf': 1, 'classifier__max_depth': 10}, Mean Test Score: 0.8251936131268722\n",
      "INFO:random_search_training:Params: {'feature_selection__n_components': 4, 'classifier__n_estimators': 100, 'classifier__min_samples_split': 5, 'classifier__min_samples_leaf': 1, 'classifier__max_depth': 10}, Mean Test Score: 0.8251936131268722\n",
      "2024-10-20 17:56:53,733 | random_search_training | INFO | Params: {'feature_selection__n_components': 5, 'classifier__n_estimators': 100, 'classifier__min_samples_split': 5, 'classifier__min_samples_leaf': 4, 'classifier__max_depth': 10}, Mean Test Score: 0.8365568915491052\n",
      "INFO:random_search_training:Params: {'feature_selection__n_components': 5, 'classifier__n_estimators': 100, 'classifier__min_samples_split': 5, 'classifier__min_samples_leaf': 4, 'classifier__max_depth': 10}, Mean Test Score: 0.8365568915491052\n",
      "2024-10-20 17:56:53,733 | random_search_training | INFO | Params: {'feature_selection__n_components': 2, 'classifier__n_estimators': 50, 'classifier__min_samples_split': 2, 'classifier__min_samples_leaf': 2, 'classifier__max_depth': 20}, Mean Test Score: 0.5423031233998976\n",
      "INFO:random_search_training:Params: {'feature_selection__n_components': 2, 'classifier__n_estimators': 50, 'classifier__min_samples_split': 2, 'classifier__min_samples_leaf': 2, 'classifier__max_depth': 20}, Mean Test Score: 0.5423031233998976\n",
      "2024-10-20 17:56:53,734 | random_search_training | INFO | Params: {'feature_selection__n_components': 2, 'classifier__n_estimators': 50, 'classifier__min_samples_split': 10, 'classifier__min_samples_leaf': 2, 'classifier__max_depth': None}, Mean Test Score: 0.546510455473748\n",
      "INFO:random_search_training:Params: {'feature_selection__n_components': 2, 'classifier__n_estimators': 50, 'classifier__min_samples_split': 10, 'classifier__min_samples_leaf': 2, 'classifier__max_depth': None}, Mean Test Score: 0.546510455473748\n",
      "2024-10-20 17:56:53,734 | random_search_training | INFO | Params: {'feature_selection__n_components': 1, 'classifier__n_estimators': 200, 'classifier__min_samples_split': 10, 'classifier__min_samples_leaf': 4, 'classifier__max_depth': 30}, Mean Test Score: 0.3367968877824273\n",
      "INFO:random_search_training:Params: {'feature_selection__n_components': 1, 'classifier__n_estimators': 200, 'classifier__min_samples_split': 10, 'classifier__min_samples_leaf': 4, 'classifier__max_depth': 30}, Mean Test Score: 0.3367968877824273\n",
      "2024-10-20 17:56:53,734 | random_search_training | INFO | Params: {'feature_selection__n_components': 1, 'classifier__n_estimators': 200, 'classifier__min_samples_split': 5, 'classifier__min_samples_leaf': 2, 'classifier__max_depth': None}, Mean Test Score: 0.3188835684564272\n",
      "INFO:random_search_training:Params: {'feature_selection__n_components': 1, 'classifier__n_estimators': 200, 'classifier__min_samples_split': 5, 'classifier__min_samples_leaf': 2, 'classifier__max_depth': None}, Mean Test Score: 0.3188835684564272\n",
      "2024-10-20 17:56:53,735 | random_search_training | INFO | Params: {'feature_selection__n_components': 2, 'classifier__n_estimators': 100, 'classifier__min_samples_split': 10, 'classifier__min_samples_leaf': 2, 'classifier__max_depth': 30}, Mean Test Score: 0.5486235735179006\n",
      "INFO:random_search_training:Params: {'feature_selection__n_components': 2, 'classifier__n_estimators': 100, 'classifier__min_samples_split': 10, 'classifier__min_samples_leaf': 2, 'classifier__max_depth': 30}, Mean Test Score: 0.5486235735179006\n",
      "2024-10-20 17:56:53,736 | random_search_training | INFO | Params: {'feature_selection__n_components': 1, 'classifier__n_estimators': 200, 'classifier__min_samples_split': 2, 'classifier__min_samples_leaf': 2, 'classifier__max_depth': 30}, Mean Test Score: 0.3074071955317784\n",
      "INFO:random_search_training:Params: {'feature_selection__n_components': 1, 'classifier__n_estimators': 200, 'classifier__min_samples_split': 2, 'classifier__min_samples_leaf': 2, 'classifier__max_depth': 30}, Mean Test Score: 0.3074071955317784\n",
      "2024-10-20 17:56:53,737 | random_search_training | INFO | Params: {'feature_selection__n_components': 4, 'classifier__n_estimators': 100, 'classifier__min_samples_split': 2, 'classifier__min_samples_leaf': 4, 'classifier__max_depth': 20}, Mean Test Score: 0.8130582834542791\n",
      "INFO:random_search_training:Params: {'feature_selection__n_components': 4, 'classifier__n_estimators': 100, 'classifier__min_samples_split': 2, 'classifier__min_samples_leaf': 4, 'classifier__max_depth': 20}, Mean Test Score: 0.8130582834542791\n",
      "2024-10-20 17:56:53,737 | random_search_training | INFO | Params: {'feature_selection__n_components': 2, 'classifier__n_estimators': 50, 'classifier__min_samples_split': 2, 'classifier__min_samples_leaf': 1, 'classifier__max_depth': 20}, Mean Test Score: 0.5228960514622362\n",
      "INFO:random_search_training:Params: {'feature_selection__n_components': 2, 'classifier__n_estimators': 50, 'classifier__min_samples_split': 2, 'classifier__min_samples_leaf': 1, 'classifier__max_depth': 20}, Mean Test Score: 0.5228960514622362\n",
      "2024-10-20 17:56:53,738 | random_search_training | INFO | Params: {'feature_selection__n_components': 3, 'classifier__n_estimators': 200, 'classifier__min_samples_split': 10, 'classifier__min_samples_leaf': 4, 'classifier__max_depth': None}, Mean Test Score: 0.7415808334951828\n",
      "INFO:random_search_training:Params: {'feature_selection__n_components': 3, 'classifier__n_estimators': 200, 'classifier__min_samples_split': 10, 'classifier__min_samples_leaf': 4, 'classifier__max_depth': None}, Mean Test Score: 0.7415808334951828\n",
      "2024-10-20 17:56:53,740 | random_search_training | INFO | Params: {'feature_selection__n_components': 4, 'classifier__n_estimators': 50, 'classifier__min_samples_split': 10, 'classifier__min_samples_leaf': 2, 'classifier__max_depth': None}, Mean Test Score: 0.8176358681898168\n",
      "INFO:random_search_training:Params: {'feature_selection__n_components': 4, 'classifier__n_estimators': 50, 'classifier__min_samples_split': 10, 'classifier__min_samples_leaf': 2, 'classifier__max_depth': None}, Mean Test Score: 0.8176358681898168\n",
      "2024-10-20 17:56:53,742 | random_search_training | INFO | Params: {'feature_selection__n_components': 5, 'classifier__n_estimators': 200, 'classifier__min_samples_split': 2, 'classifier__min_samples_leaf': 1, 'classifier__max_depth': 10}, Mean Test Score: 0.8429181630382965\n",
      "INFO:random_search_training:Params: {'feature_selection__n_components': 5, 'classifier__n_estimators': 200, 'classifier__min_samples_split': 2, 'classifier__min_samples_leaf': 1, 'classifier__max_depth': 10}, Mean Test Score: 0.8429181630382965\n",
      "2024-10-20 17:56:53,742 | random_search_training | INFO | Params: {'feature_selection__n_components': 1, 'classifier__n_estimators': 100, 'classifier__min_samples_split': 5, 'classifier__min_samples_leaf': 2, 'classifier__max_depth': 20}, Mean Test Score: 0.3146265692038773\n",
      "INFO:random_search_training:Params: {'feature_selection__n_components': 1, 'classifier__n_estimators': 100, 'classifier__min_samples_split': 5, 'classifier__min_samples_leaf': 2, 'classifier__max_depth': 20}, Mean Test Score: 0.3146265692038773\n",
      "2024-10-20 17:56:53,743 | random_search_training | INFO | Params: {'feature_selection__n_components': 4, 'classifier__n_estimators': 200, 'classifier__min_samples_split': 5, 'classifier__min_samples_leaf': 2, 'classifier__max_depth': 10}, Mean Test Score: 0.8209675594870255\n",
      "INFO:random_search_training:Params: {'feature_selection__n_components': 4, 'classifier__n_estimators': 200, 'classifier__min_samples_split': 5, 'classifier__min_samples_leaf': 2, 'classifier__max_depth': 10}, Mean Test Score: 0.8209675594870255\n",
      "2024-10-20 17:56:53,743 | random_search_training | INFO | Params: {'feature_selection__n_components': 4, 'classifier__n_estimators': 100, 'classifier__min_samples_split': 5, 'classifier__min_samples_leaf': 2, 'classifier__max_depth': None}, Mean Test Score: 0.8247547363031235\n",
      "INFO:random_search_training:Params: {'feature_selection__n_components': 4, 'classifier__n_estimators': 100, 'classifier__min_samples_split': 5, 'classifier__min_samples_leaf': 2, 'classifier__max_depth': None}, Mean Test Score: 0.8247547363031235\n",
      "2024-10-20 17:56:53,744 | random_search_training | INFO | Params: {'feature_selection__n_components': 1, 'classifier__n_estimators': 200, 'classifier__min_samples_split': 5, 'classifier__min_samples_leaf': 4, 'classifier__max_depth': 10}, Mean Test Score: 0.3372396901907469\n",
      "INFO:random_search_training:Params: {'feature_selection__n_components': 1, 'classifier__n_estimators': 200, 'classifier__min_samples_split': 5, 'classifier__min_samples_leaf': 4, 'classifier__max_depth': 10}, Mean Test Score: 0.3372396901907469\n",
      "2024-10-20 17:56:53,745 | random_search_training | INFO | Params: {'feature_selection__n_components': 4, 'classifier__n_estimators': 50, 'classifier__min_samples_split': 5, 'classifier__min_samples_leaf': 2, 'classifier__max_depth': None}, Mean Test Score: 0.8220816368569428\n",
      "INFO:random_search_training:Params: {'feature_selection__n_components': 4, 'classifier__n_estimators': 50, 'classifier__min_samples_split': 5, 'classifier__min_samples_leaf': 2, 'classifier__max_depth': None}, Mean Test Score: 0.8220816368569428\n",
      "2024-10-20 17:56:53,745 | random_search_training | INFO | Params: {'feature_selection__n_components': 5, 'classifier__n_estimators': 100, 'classifier__min_samples_split': 2, 'classifier__min_samples_leaf': 4, 'classifier__max_depth': 10}, Mean Test Score: 0.839288874763847\n",
      "INFO:random_search_training:Params: {'feature_selection__n_components': 5, 'classifier__n_estimators': 100, 'classifier__min_samples_split': 2, 'classifier__min_samples_leaf': 4, 'classifier__max_depth': 10}, Mean Test Score: 0.839288874763847\n",
      "2024-10-20 17:56:53,747 | random_search_training | INFO | Params: {'feature_selection__n_components': 5, 'classifier__n_estimators': 200, 'classifier__min_samples_split': 5, 'classifier__min_samples_leaf': 2, 'classifier__max_depth': 10}, Mean Test Score: 0.8408263914637664\n",
      "INFO:random_search_training:Params: {'feature_selection__n_components': 5, 'classifier__n_estimators': 200, 'classifier__min_samples_split': 5, 'classifier__min_samples_leaf': 2, 'classifier__max_depth': 10}, Mean Test Score: 0.8408263914637664\n",
      "2024-10-20 17:56:53,747 | random_search_training | INFO | Params: {'feature_selection__n_components': 3, 'classifier__n_estimators': 100, 'classifier__min_samples_split': 10, 'classifier__min_samples_leaf': 2, 'classifier__max_depth': None}, Mean Test Score: 0.7401952728192995\n",
      "INFO:random_search_training:Params: {'feature_selection__n_components': 3, 'classifier__n_estimators': 100, 'classifier__min_samples_split': 10, 'classifier__min_samples_leaf': 2, 'classifier__max_depth': None}, Mean Test Score: 0.7401952728192995\n",
      "2024-10-20 17:56:53,748 | random_search_training | INFO | Params: {'feature_selection__n_components': 3, 'classifier__n_estimators': 200, 'classifier__min_samples_split': 2, 'classifier__min_samples_leaf': 2, 'classifier__max_depth': 10}, Mean Test Score: 0.7441960732383424\n",
      "INFO:random_search_training:Params: {'feature_selection__n_components': 3, 'classifier__n_estimators': 200, 'classifier__min_samples_split': 2, 'classifier__min_samples_leaf': 2, 'classifier__max_depth': 10}, Mean Test Score: 0.7441960732383424\n",
      "2024-10-20 17:56:53,748 | random_search_training | INFO | Params: {'feature_selection__n_components': 4, 'classifier__n_estimators': 50, 'classifier__min_samples_split': 10, 'classifier__min_samples_leaf': 1, 'classifier__max_depth': None}, Mean Test Score: 0.8244731712484772\n",
      "INFO:random_search_training:Params: {'feature_selection__n_components': 4, 'classifier__n_estimators': 50, 'classifier__min_samples_split': 10, 'classifier__min_samples_leaf': 1, 'classifier__max_depth': None}, Mean Test Score: 0.8244731712484772\n",
      "2024-10-20 17:56:53,749 | random_search_training | INFO | Params: {'feature_selection__n_components': 5, 'classifier__n_estimators': 100, 'classifier__min_samples_split': 10, 'classifier__min_samples_leaf': 2, 'classifier__max_depth': None}, Mean Test Score: 0.8532495365220616\n",
      "INFO:random_search_training:Params: {'feature_selection__n_components': 5, 'classifier__n_estimators': 100, 'classifier__min_samples_split': 10, 'classifier__min_samples_leaf': 2, 'classifier__max_depth': None}, Mean Test Score: 0.8532495365220616\n",
      "2024-10-20 17:56:53,749 | random_search_training | INFO | Params: {'feature_selection__n_components': 3, 'classifier__n_estimators': 200, 'classifier__min_samples_split': 10, 'classifier__min_samples_leaf': 1, 'classifier__max_depth': 10}, Mean Test Score: 0.7386116202011641\n",
      "INFO:random_search_training:Params: {'feature_selection__n_components': 3, 'classifier__n_estimators': 200, 'classifier__min_samples_split': 10, 'classifier__min_samples_leaf': 1, 'classifier__max_depth': 10}, Mean Test Score: 0.7386116202011641\n",
      "2024-10-20 17:56:53,750 | random_search_training | INFO | Params: {'feature_selection__n_components': 1, 'classifier__n_estimators': 50, 'classifier__min_samples_split': 2, 'classifier__min_samples_leaf': 1, 'classifier__max_depth': None}, Mean Test Score: 0.2756914502298262\n",
      "INFO:random_search_training:Params: {'feature_selection__n_components': 1, 'classifier__n_estimators': 50, 'classifier__min_samples_split': 2, 'classifier__min_samples_leaf': 1, 'classifier__max_depth': None}, Mean Test Score: 0.2756914502298262\n",
      "2024-10-20 17:56:53,750 | random_search_training | INFO | Params: {'feature_selection__n_components': 2, 'classifier__n_estimators': 200, 'classifier__min_samples_split': 2, 'classifier__min_samples_leaf': 1, 'classifier__max_depth': None}, Mean Test Score: 0.5221220168205708\n",
      "INFO:random_search_training:Params: {'feature_selection__n_components': 2, 'classifier__n_estimators': 200, 'classifier__min_samples_split': 2, 'classifier__min_samples_leaf': 1, 'classifier__max_depth': None}, Mean Test Score: 0.5221220168205708\n",
      "2024-10-20 17:56:53,751 | random_search_training | INFO | Params: {'feature_selection__n_components': 3, 'classifier__n_estimators': 100, 'classifier__min_samples_split': 5, 'classifier__min_samples_leaf': 2, 'classifier__max_depth': 30}, Mean Test Score: 0.7449798247317714\n",
      "INFO:random_search_training:Params: {'feature_selection__n_components': 3, 'classifier__n_estimators': 100, 'classifier__min_samples_split': 5, 'classifier__min_samples_leaf': 2, 'classifier__max_depth': 30}, Mean Test Score: 0.7449798247317714\n",
      "2024-10-20 17:56:53,752 | random_search_training | INFO | Params: {'feature_selection__n_components': 3, 'classifier__n_estimators': 100, 'classifier__min_samples_split': 5, 'classifier__min_samples_leaf': 1, 'classifier__max_depth': None}, Mean Test Score: 0.7424042233875382\n",
      "INFO:random_search_training:Params: {'feature_selection__n_components': 3, 'classifier__n_estimators': 100, 'classifier__min_samples_split': 5, 'classifier__min_samples_leaf': 1, 'classifier__max_depth': None}, Mean Test Score: 0.7424042233875382\n",
      "2024-10-20 17:56:53,753 | random_search_training | INFO | Params: {'feature_selection__n_components': 2, 'classifier__n_estimators': 200, 'classifier__min_samples_split': 10, 'classifier__min_samples_leaf': 2, 'classifier__max_depth': 20}, Mean Test Score: 0.5437268628870408\n",
      "INFO:random_search_training:Params: {'feature_selection__n_components': 2, 'classifier__n_estimators': 200, 'classifier__min_samples_split': 10, 'classifier__min_samples_leaf': 2, 'classifier__max_depth': 20}, Mean Test Score: 0.5437268628870408\n",
      "2024-10-20 17:56:53,753 | random_search_training | INFO | Params: {'feature_selection__n_components': 1, 'classifier__n_estimators': 50, 'classifier__min_samples_split': 2, 'classifier__min_samples_leaf': 4, 'classifier__max_depth': None}, Mean Test Score: 0.3304792214747721\n",
      "INFO:random_search_training:Params: {'feature_selection__n_components': 1, 'classifier__n_estimators': 50, 'classifier__min_samples_split': 2, 'classifier__min_samples_leaf': 4, 'classifier__max_depth': None}, Mean Test Score: 0.3304792214747721\n",
      "2024-10-20 17:56:53,754 | random_search_training | INFO | Params: {'feature_selection__n_components': 5, 'classifier__n_estimators': 200, 'classifier__min_samples_split': 10, 'classifier__min_samples_leaf': 2, 'classifier__max_depth': None}, Mean Test Score: 0.8454662852905344\n",
      "INFO:random_search_training:Params: {'feature_selection__n_components': 5, 'classifier__n_estimators': 200, 'classifier__min_samples_split': 10, 'classifier__min_samples_leaf': 2, 'classifier__max_depth': None}, Mean Test Score: 0.8454662852905344\n",
      "2024-10-20 17:56:53,754 | random_search_training | INFO | Params: {'feature_selection__n_components': 4, 'classifier__n_estimators': 50, 'classifier__min_samples_split': 5, 'classifier__min_samples_leaf': 1, 'classifier__max_depth': 10}, Mean Test Score: 0.8237489862339695\n",
      "INFO:random_search_training:Params: {'feature_selection__n_components': 4, 'classifier__n_estimators': 50, 'classifier__min_samples_split': 5, 'classifier__min_samples_leaf': 1, 'classifier__max_depth': 10}, Mean Test Score: 0.8237489862339695\n",
      "2024-10-20 17:56:53,756 | random_search_training | INFO | Params: {'feature_selection__n_components': 3, 'classifier__n_estimators': 100, 'classifier__min_samples_split': 2, 'classifier__min_samples_leaf': 1, 'classifier__max_depth': 20}, Mean Test Score: 0.7451349765465449\n",
      "INFO:random_search_training:Params: {'feature_selection__n_components': 3, 'classifier__n_estimators': 100, 'classifier__min_samples_split': 2, 'classifier__min_samples_leaf': 1, 'classifier__max_depth': 20}, Mean Test Score: 0.7451349765465449\n",
      "2024-10-20 17:56:53,758 | random_search_training | INFO | Params: {'feature_selection__n_components': 3, 'classifier__n_estimators': 50, 'classifier__min_samples_split': 2, 'classifier__min_samples_leaf': 1, 'classifier__max_depth': 10}, Mean Test Score: 0.7436332197444544\n",
      "INFO:random_search_training:Params: {'feature_selection__n_components': 3, 'classifier__n_estimators': 50, 'classifier__min_samples_split': 2, 'classifier__min_samples_leaf': 1, 'classifier__max_depth': 10}, Mean Test Score: 0.7436332197444544\n",
      "2024-10-20 17:56:53,759 | random_search_training | INFO | Params: {'feature_selection__n_components': 2, 'classifier__n_estimators': 50, 'classifier__min_samples_split': 5, 'classifier__min_samples_leaf': 4, 'classifier__max_depth': 20}, Mean Test Score: 0.5561521502433627\n",
      "INFO:random_search_training:Params: {'feature_selection__n_components': 2, 'classifier__n_estimators': 50, 'classifier__min_samples_split': 5, 'classifier__min_samples_leaf': 4, 'classifier__max_depth': 20}, Mean Test Score: 0.5561521502433627\n",
      "2024-10-20 17:56:53,759 | random_search_training | INFO | Params: {'feature_selection__n_components': 2, 'classifier__n_estimators': 200, 'classifier__min_samples_split': 10, 'classifier__min_samples_leaf': 4, 'classifier__max_depth': None}, Mean Test Score: 0.5533487178581729\n",
      "INFO:random_search_training:Params: {'feature_selection__n_components': 2, 'classifier__n_estimators': 200, 'classifier__min_samples_split': 10, 'classifier__min_samples_leaf': 4, 'classifier__max_depth': None}, Mean Test Score: 0.5533487178581729\n",
      "2024-10-20 17:56:53,760 | random_search_training | INFO | Params: {'feature_selection__n_components': 5, 'classifier__n_estimators': 100, 'classifier__min_samples_split': 5, 'classifier__min_samples_leaf': 1, 'classifier__max_depth': 30}, Mean Test Score: 0.8414976664253638\n",
      "INFO:random_search_training:Params: {'feature_selection__n_components': 5, 'classifier__n_estimators': 100, 'classifier__min_samples_split': 5, 'classifier__min_samples_leaf': 1, 'classifier__max_depth': 30}, Mean Test Score: 0.8414976664253638\n",
      "2024-10-20 17:56:53,760 | random_search_training | INFO | Params: {'feature_selection__n_components': 4, 'classifier__n_estimators': 50, 'classifier__min_samples_split': 5, 'classifier__min_samples_leaf': 1, 'classifier__max_depth': None}, Mean Test Score: 0.8263048184049296\n",
      "INFO:random_search_training:Params: {'feature_selection__n_components': 4, 'classifier__n_estimators': 50, 'classifier__min_samples_split': 5, 'classifier__min_samples_leaf': 1, 'classifier__max_depth': None}, Mean Test Score: 0.8263048184049296\n",
      "2024-10-20 17:56:53,761 | random_search_training | INFO | Params: {'feature_selection__n_components': 1, 'classifier__n_estimators': 200, 'classifier__min_samples_split': 2, 'classifier__min_samples_leaf': 1, 'classifier__max_depth': 20}, Mean Test Score: 0.2770953911165257\n",
      "INFO:random_search_training:Params: {'feature_selection__n_components': 1, 'classifier__n_estimators': 200, 'classifier__min_samples_split': 2, 'classifier__min_samples_leaf': 1, 'classifier__max_depth': 20}, Mean Test Score: 0.2770953911165257\n",
      "2024-10-20 17:56:53,761 | random_search_training | INFO | Params: {'feature_selection__n_components': 4, 'classifier__n_estimators': 200, 'classifier__min_samples_split': 10, 'classifier__min_samples_leaf': 1, 'classifier__max_depth': 30}, Mean Test Score: 0.8193473288957162\n",
      "INFO:random_search_training:Params: {'feature_selection__n_components': 4, 'classifier__n_estimators': 200, 'classifier__min_samples_split': 10, 'classifier__min_samples_leaf': 1, 'classifier__max_depth': 30}, Mean Test Score: 0.8193473288957162\n",
      "2024-10-20 17:56:53,762 | random_search_training | INFO | Number of tests that resulted in NaN for Random Forest: 0\n",
      "INFO:random_search_training:Number of tests that resulted in NaN for Random Forest: 0\n",
      "2024-10-20 17:56:53,762 | random_search_training | INFO | Best parameters: {'feature_selection__n_components': 5, 'classifier__n_estimators': 100, 'classifier__min_samples_split': 10, 'classifier__min_samples_leaf': 2, 'classifier__max_depth': None}\n",
      "INFO:random_search_training:Best parameters: {'feature_selection__n_components': 5, 'classifier__n_estimators': 100, 'classifier__min_samples_split': 10, 'classifier__min_samples_leaf': 2, 'classifier__max_depth': None}\n",
      "2024-10-20 17:56:53,762 | random_search_training | INFO | Best cross-validation score: 0.8532495365220616\n",
      "INFO:random_search_training:Best cross-validation score: 0.8532495365220616\n",
      "2024-10-20 17:56:53,763 | random_search_training | INFO | Model Random Forest_pca stored successfully\n",
      "INFO:random_search_training:Model Random Forest_pca stored successfully\n"
     ]
    },
    {
     "name": "stdout",
     "output_type": "stream",
     "text": [
      "Model: Random Forest_pca\n",
      "Best Hyperparameters: {'feature_selection__n_components': 5, 'classifier__n_estimators': 100, 'classifier__min_samples_split': 10, 'classifier__min_samples_leaf': 2, 'classifier__max_depth': None}\n",
      "CV Result: 0.8532495365220616\n",
      "\n"
     ]
    }
   ],
   "source": [
    "# src/notebooks/model_training_behavior_multiclassification_by_student_level.ipynb\n",
    "\n",
    "from core.training.random_search_training import RandomSearchTraining\n",
    "\n",
    "# Instantiate the RandomizedSearchCV training class\n",
    "training = RandomSearchTraining()\n",
    "\n",
    "# Execute the training\n",
    "trained_models = training.train_model(\n",
    "    X_train=X_train,\n",
    "    y_train=y_train,\n",
    "    selected_models=selected_models,\n",
    "    selected_selectors=selected_selectors,\n",
    "    n_iter=n_iter,\n",
    "    cv=cv,\n",
    "    scoring=scoring_metric,\n",
    "    n_jobs=n_jobs\n",
    ")\n",
    "\n",
    "# Example of accessing the trained models\n",
    "for model_key, model_info in trained_models.items():\n",
    "    print(f\"Model: {model_key}\")\n",
    "    print(f\"Best Hyperparameters: {model_info['hyperparameters']}\")\n",
    "    print(f\"CV Result: {model_info['cv_result']}\\n\")"
   ]
  },
  {
   "cell_type": "markdown",
   "id": "d71fbbac",
   "metadata": {},
   "source": [
    "# Avaliação dos Modelos"
   ]
  },
  {
   "cell_type": "code",
   "execution_count": 12,
   "id": "59f286b7",
   "metadata": {},
   "outputs": [
    {
     "name": "stderr",
     "output_type": "stream",
     "text": [
      "/opt/anaconda3/envs/projetos_ML/lib/python3.11/site-packages/sklearn/base.py:450: UserWarning: X does not have valid feature names, but PCA was fitted with feature names\n",
      "  warnings.warn(\n",
      "/opt/anaconda3/envs/projetos_ML/lib/python3.11/site-packages/sklearn/base.py:450: UserWarning: X does not have valid feature names, but PCA was fitted with feature names\n",
      "  warnings.warn(\n"
     ]
    }
   ],
   "source": [
    "from core.evaluation.evaluation import Evaluation  \n",
    "\n",
    "feature_names = X_train.columns  # Assumindo que os nomes das características são as colunas\n",
    "class_metrics_results, avg_metrics_results = Evaluation.evaluate_all_models(trained_models, X_train, y_train, X_test, y_test, feature_names)"
   ]
  },
  {
   "cell_type": "markdown",
   "id": "8888a983",
   "metadata": {},
   "source": [
    "# Geração dos Relatórios"
   ]
  },
  {
   "cell_type": "code",
   "execution_count": 13,
   "id": "68e558c4",
   "metadata": {},
   "outputs": [
    {
     "data": {
      "text/plain": [
       "'../output/avg_metrics_report_20241020_1756.csv'"
      ]
     },
     "execution_count": 13,
     "metadata": {},
     "output_type": "execute_result"
    }
   ],
   "source": [
    "from core.logging.report_formatter import ReportFormatter\n",
    "from core.logging.file_utils import FileUtils\n",
    "\n",
    "directory = \"../output/\"\n",
    "\n",
    "# Gerar relatório textual a partir dos resultados de avaliação\n",
    "text_report = ReportFormatter.generate_text_report(class_metrics_results, avg_metrics_results)\n",
    "\n",
    "# Imprimir ou salvar o relatório\n",
    "FileUtils.save_file_with_timestamp(text_report, \"general_report.txt\", directory)\n",
    "\n",
    "# Gerar DataFrame detalhado dos relatórios por classe\n",
    "class_report_df = ReportFormatter.generate_class_report_dataframe(class_metrics_results)\n",
    "\n",
    "# Gerar DataFrame resumido dos relatórios de métricas médias\n",
    "avg_metrics_report_df = ReportFormatter.generate_avg_metrics_report_dataframe(avg_metrics_results)\n",
    "\n",
    "# Salvar os DataFrames como arquivos CSV, se necessário\n",
    "FileUtils.save_file_with_timestamp(class_report_df, \"class_report.csv\", directory, is_csv=True)\n",
    "FileUtils.save_file_with_timestamp(avg_metrics_report_df, \"avg_metrics_report.csv\", directory, is_csv=True)\n"
   ]
  },
  {
   "cell_type": "markdown",
   "id": "3df60df2",
   "metadata": {},
   "source": []
  },
  {
   "cell_type": "markdown",
   "id": "e413e1b1",
   "metadata": {},
   "source": [
    "# Salvando os modelos em arquivos para recuperação"
   ]
  },
  {
   "cell_type": "code",
   "execution_count": 14,
   "id": "0df1e74e",
   "metadata": {},
   "outputs": [
    {
     "name": "stdout",
     "output_type": "stream",
     "text": [
      "Model 'Random Forest_pca' saved at: ../models/model_Random Forest_pca_20241020_1756.pkl\n",
      "Modelos salvos: ['../models/model_Random Forest_pca_20241020_1756.pkl']\n"
     ]
    }
   ],
   "source": [
    "from core.logging.model_manager import ModelManager\n",
    "\n",
    "# Caminhos\n",
    "model_dir = \"../models/\"\n",
    "\n",
    "# Salvar todos os modelos\n",
    "saved_models = ModelManager.save_all_models(trained_models, model_dir)\n",
    "print(\"Modelos salvos:\", saved_models)"
   ]
  }
 ],
 "metadata": {
  "kernelspec": {
   "display_name": "projetos_ML",
   "language": "python",
   "name": "python3"
  },
  "language_info": {
   "codemirror_mode": {
    "name": "ipython",
    "version": 3
   },
   "file_extension": ".py",
   "mimetype": "text/x-python",
   "name": "python",
   "nbconvert_exporter": "python",
   "pygments_lexer": "ipython3",
   "version": "3.11.9"
  },
  "toc": {
   "base_numbering": 1,
   "nav_menu": {},
   "number_sections": true,
   "sideBar": true,
   "skip_h1_title": false,
   "title_cell": "Table of Contents",
   "title_sidebar": "Contents",
   "toc_cell": false,
   "toc_position": {},
   "toc_section_display": true,
   "toc_window_display": false
  }
 },
 "nbformat": 4,
 "nbformat_minor": 5
}
