{
 "cells": [
  {
   "cell_type": "markdown",
   "metadata": {},
   "source": [
    "# Detecção de Comportamentos de Aprendizagem\n",
    "\n",
    "Este notebook executa a detecção de comportamentos de aprendizagem usando logs de um Sistema Tutor Inteligente."
   ]
  },
  {
   "cell_type": "code",
   "execution_count": null,
   "metadata": {},
   "outputs": [],
   "source": [
    "# Célula 1 - Configuração do ambiente\n",
    "import os\n",
    "from pathlib import Path\n",
    "import sys\n",
    "\n",
    "def setup_environment():\n",
    "    \"\"\"Configura o ambiente de execução e adiciona src ao PYTHONPATH\"\"\"\n",
    "    try:\n",
    "        # Verifica se está no Colab\n",
    "        from google.colab import drive\n",
    "        drive.mount('/content/drive')\n",
    "        base_path = Path('/content/drive/MyDrive/Colab Notebooks/behavior-detection')\n",
    "        print(\"Executando no Google Colab\")\n",
    "    except ImportError:\n",
    "        # Execução local\n",
    "        # Encontra o diretório raiz do projeto\n",
    "        current_dir = Path.cwd()\n",
    "        print(f\"Current dir: {current_dir}\")\n",
    "        # Se estiver no diretório notebooks, sobe um nível\n",
    "        if current_dir.name == 'notebooks':\n",
    "            base_path = current_dir.parent.parent\n",
    "        else:\n",
    "            base_path = current_dir\n",
    "            \n",
    "        # Verifica se encontrou o diretório correto\n",
    "        if base_path.name != 'behavior-detection':\n",
    "            raise RuntimeError(\"Não foi possível encontrar o diretório raiz do projeto 'behavior-detection'\")\n",
    "        print(\"Executando localmente\")\n",
    "    \n",
    "    # Adiciona src ao Python path\n",
    "    src_path = str(base_path / 'src')\n",
    "    if src_path not in sys.path:\n",
    "        sys.path.insert(0, src_path)\n",
    "    \n",
    "    return base_path\n",
    "\n",
    "# Configura o ambiente\n",
    "base_path = setup_environment()\n",
    "print(f\"Diretório base: {base_path}\")\n",
    "print(f\"Python path: {sys.path}\")"
   ]
  },
  {
   "cell_type": "code",
   "execution_count": null,
   "metadata": {},
   "outputs": [],
   "source": [
    "from behavior.behavior_detection import (\n",
    "    setup_project_path,\n",
    "    load_and_preprocess_data,\n",
    "    prepare_data,\n",
    "    train_models\n",
    ")\n",
    "\n",
    "# Configurar caminhos\n",
    "base_path = Path('/content/drive/MyDrive/Colab Notebooks/behavior-detection')\n",
    "paths = setup_project_path(base_path)\n",
    "\n",
    "# Carregar e pré-processar dados\n",
    "data = load_and_preprocess_data(paths)\n",
    "print(f\"Shape dos dados: {data.shape}\")\n",
    "\n",
    "# Preparar dados para treinamento\n",
    "X_train, X_test, y_train, y_test = prepare_data(data)\n",
    "print(f\"\\nShapes após preparação:\")\n",
    "print(f\"X_train: {X_train.shape}\")\n",
    "print(f\"X_test: {X_test.shape}\")\n",
    "\n",
    "# Treinar modelos\n",
    "train_models(X_train, X_test, y_train, y_test, paths)"
   ]
  },
  {
   "cell_type": "markdown",
   "metadata": {},
   "source": []
  }
 ],
 "metadata": {
  "kernelspec": {
   "display_name": "behavior_detection",
   "language": "python",
   "name": "python3"
  },
  "language_info": {
   "codemirror_mode": {
    "name": "ipython",
    "version": 3
   },
   "file_extension": ".py",
   "mimetype": "text/x-python",
   "name": "python",
   "nbconvert_exporter": "python",
   "pygments_lexer": "ipython3",
   "version": "3.10.15"
  }
 },
 "nbformat": 4,
 "nbformat_minor": 2
}
