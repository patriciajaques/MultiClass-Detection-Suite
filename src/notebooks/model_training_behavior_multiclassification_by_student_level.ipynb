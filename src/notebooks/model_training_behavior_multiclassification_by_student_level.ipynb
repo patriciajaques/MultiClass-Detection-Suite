{
 "cells": [
  {
   "cell_type": "code",
   "execution_count": 1,
   "metadata": {},
   "outputs": [
    {
     "name": "stdout",
     "output_type": "stream",
     "text": [
      "/Users/patricia/Documents/code/python-code/behavior-detection/src\n"
     ]
    }
   ],
   "source": [
    "import os\n",
    "path = \"/Users/patricia/Documents/code/python-code/behavior-detection/src\"\n",
    "os.chdir(path)  # Muda o diretório para o nível anterior (a raiz do projeto)\n",
    "print(os.getcwd())  # Verifique se agora está na raiz"
   ]
  },
  {
   "cell_type": "markdown",
   "metadata": {},
   "source": [
    "# Load data"
   ]
  },
  {
   "cell_type": "code",
   "execution_count": 2,
   "metadata": {},
   "outputs": [
    {
     "data": {
      "text/html": [
       "<div>\n",
       "<style scoped>\n",
       "    .dataframe tbody tr th:only-of-type {\n",
       "        vertical-align: middle;\n",
       "    }\n",
       "\n",
       "    .dataframe tbody tr th {\n",
       "        vertical-align: top;\n",
       "    }\n",
       "\n",
       "    .dataframe thead th {\n",
       "        text-align: right;\n",
       "    }\n",
       "</style>\n",
       "<table border=\"1\" class=\"dataframe\">\n",
       "  <thead>\n",
       "    <tr style=\"text-align: right;\">\n",
       "      <th></th>\n",
       "      <th>id_log</th>\n",
       "      <th>aluno</th>\n",
       "      <th>grupo</th>\n",
       "      <th>num_dia</th>\n",
       "      <th>num_log</th>\n",
       "      <th>log_type</th>\n",
       "      <th>ultimo_passo_correto</th>\n",
       "      <th>verificado_com_mouse</th>\n",
       "      <th>verificado_com_teclado</th>\n",
       "      <th>idle_time_acumulado</th>\n",
       "      <th>...</th>\n",
       "      <th>comportamento_off_task</th>\n",
       "      <th>comportamento_on_system</th>\n",
       "      <th>comportamento_indefinido</th>\n",
       "      <th>ultimo_comportamento</th>\n",
       "      <th>ultimo_comportamento_on_task</th>\n",
       "      <th>ultimo_comportamento_on_task_conversation</th>\n",
       "      <th>ultimo_comportamento_on_task_out</th>\n",
       "      <th>ultimo_comportamento_off_task</th>\n",
       "      <th>ultimo_comportamento_on_system</th>\n",
       "      <th>ultimo_comportamento_indefinido</th>\n",
       "    </tr>\n",
       "  </thead>\n",
       "  <tbody>\n",
       "    <tr>\n",
       "      <th>0</th>\n",
       "      <td>8224</td>\n",
       "      <td>1</td>\n",
       "      <td>2</td>\n",
       "      <td>1</td>\n",
       "      <td>1</td>\n",
       "      <td>step_verification</td>\n",
       "      <td>0</td>\n",
       "      <td>0</td>\n",
       "      <td>1</td>\n",
       "      <td>0</td>\n",
       "      <td>...</td>\n",
       "      <td>0</td>\n",
       "      <td>0</td>\n",
       "      <td>0</td>\n",
       "      <td>?</td>\n",
       "      <td>0</td>\n",
       "      <td>0</td>\n",
       "      <td>0</td>\n",
       "      <td>0</td>\n",
       "      <td>0</td>\n",
       "      <td>1</td>\n",
       "    </tr>\n",
       "    <tr>\n",
       "      <th>1</th>\n",
       "      <td>527786</td>\n",
       "      <td>1</td>\n",
       "      <td>2</td>\n",
       "      <td>1</td>\n",
       "      <td>2</td>\n",
       "      <td>user_idle</td>\n",
       "      <td>1</td>\n",
       "      <td>0</td>\n",
       "      <td>0</td>\n",
       "      <td>2</td>\n",
       "      <td>...</td>\n",
       "      <td>0</td>\n",
       "      <td>0</td>\n",
       "      <td>0</td>\n",
       "      <td>ON TASK</td>\n",
       "      <td>1</td>\n",
       "      <td>0</td>\n",
       "      <td>0</td>\n",
       "      <td>0</td>\n",
       "      <td>0</td>\n",
       "      <td>0</td>\n",
       "    </tr>\n",
       "    <tr>\n",
       "      <th>2</th>\n",
       "      <td>527787</td>\n",
       "      <td>1</td>\n",
       "      <td>2</td>\n",
       "      <td>1</td>\n",
       "      <td>3</td>\n",
       "      <td>user_idle</td>\n",
       "      <td>0</td>\n",
       "      <td>0</td>\n",
       "      <td>0</td>\n",
       "      <td>4</td>\n",
       "      <td>...</td>\n",
       "      <td>0</td>\n",
       "      <td>0</td>\n",
       "      <td>0</td>\n",
       "      <td>ON TASK</td>\n",
       "      <td>1</td>\n",
       "      <td>0</td>\n",
       "      <td>0</td>\n",
       "      <td>0</td>\n",
       "      <td>0</td>\n",
       "      <td>0</td>\n",
       "    </tr>\n",
       "    <tr>\n",
       "      <th>3</th>\n",
       "      <td>527788</td>\n",
       "      <td>1</td>\n",
       "      <td>2</td>\n",
       "      <td>1</td>\n",
       "      <td>4</td>\n",
       "      <td>user_idle</td>\n",
       "      <td>0</td>\n",
       "      <td>0</td>\n",
       "      <td>0</td>\n",
       "      <td>6</td>\n",
       "      <td>...</td>\n",
       "      <td>0</td>\n",
       "      <td>0</td>\n",
       "      <td>0</td>\n",
       "      <td>ON TASK</td>\n",
       "      <td>1</td>\n",
       "      <td>0</td>\n",
       "      <td>0</td>\n",
       "      <td>0</td>\n",
       "      <td>0</td>\n",
       "      <td>0</td>\n",
       "    </tr>\n",
       "    <tr>\n",
       "      <th>4</th>\n",
       "      <td>527789</td>\n",
       "      <td>1</td>\n",
       "      <td>2</td>\n",
       "      <td>1</td>\n",
       "      <td>5</td>\n",
       "      <td>user_idle</td>\n",
       "      <td>0</td>\n",
       "      <td>0</td>\n",
       "      <td>0</td>\n",
       "      <td>8</td>\n",
       "      <td>...</td>\n",
       "      <td>0</td>\n",
       "      <td>0</td>\n",
       "      <td>0</td>\n",
       "      <td>ON TASK</td>\n",
       "      <td>1</td>\n",
       "      <td>0</td>\n",
       "      <td>0</td>\n",
       "      <td>0</td>\n",
       "      <td>0</td>\n",
       "      <td>0</td>\n",
       "    </tr>\n",
       "  </tbody>\n",
       "</table>\n",
       "<p>5 rows × 372 columns</p>\n",
       "</div>"
      ],
      "text/plain": [
       "   id_log  aluno  grupo  num_dia  num_log           log_type  \\\n",
       "0    8224      1      2        1        1  step_verification   \n",
       "1  527786      1      2        1        2          user_idle   \n",
       "2  527787      1      2        1        3          user_idle   \n",
       "3  527788      1      2        1        4          user_idle   \n",
       "4  527789      1      2        1        5          user_idle   \n",
       "\n",
       "   ultimo_passo_correto  verificado_com_mouse  verificado_com_teclado  \\\n",
       "0                     0                     0                       1   \n",
       "1                     1                     0                       0   \n",
       "2                     0                     0                       0   \n",
       "3                     0                     0                       0   \n",
       "4                     0                     0                       0   \n",
       "\n",
       "   idle_time_acumulado  ...  comportamento_off_task  comportamento_on_system  \\\n",
       "0                    0  ...                       0                        0   \n",
       "1                    2  ...                       0                        0   \n",
       "2                    4  ...                       0                        0   \n",
       "3                    6  ...                       0                        0   \n",
       "4                    8  ...                       0                        0   \n",
       "\n",
       "   comportamento_indefinido  ultimo_comportamento  \\\n",
       "0                         0                     ?   \n",
       "1                         0               ON TASK   \n",
       "2                         0               ON TASK   \n",
       "3                         0               ON TASK   \n",
       "4                         0               ON TASK   \n",
       "\n",
       "   ultimo_comportamento_on_task  ultimo_comportamento_on_task_conversation  \\\n",
       "0                             0                                          0   \n",
       "1                             1                                          0   \n",
       "2                             1                                          0   \n",
       "3                             1                                          0   \n",
       "4                             1                                          0   \n",
       "\n",
       "   ultimo_comportamento_on_task_out  ultimo_comportamento_off_task  \\\n",
       "0                                 0                              0   \n",
       "1                                 0                              0   \n",
       "2                                 0                              0   \n",
       "3                                 0                              0   \n",
       "4                                 0                              0   \n",
       "\n",
       "   ultimo_comportamento_on_system  ultimo_comportamento_indefinido  \n",
       "0                               0                                1  \n",
       "1                               0                                0  \n",
       "2                               0                                0  \n",
       "3                               0                                0  \n",
       "4                               0                                0  \n",
       "\n",
       "[5 rows x 372 columns]"
      ]
     },
     "execution_count": 2,
     "metadata": {},
     "output_type": "execute_result"
    }
   ],
   "source": [
    "from behavior.behavior_data_loader import BehaviorDataLoader\n",
    "\n",
    "data_path = '../data/new_logs_labels.csv'\n",
    "\n",
    "data = BehaviorDataLoader.load_data(data_path, delimiter=';')\n",
    "data.head(5)"
   ]
  },
  {
   "cell_type": "code",
   "execution_count": 3,
   "metadata": {},
   "outputs": [
    {
     "name": "stdout",
     "output_type": "stream",
     "text": [
      "Valores da coluna 'comportamento' antes da remoção: comportamento\n",
      "ON TASK                 3159\n",
      "ON SYSTEM                907\n",
      "OFF TASK                 629\n",
      "ON TASK CONVERSATION     414\n",
      "ON TASK OUT              380\n",
      "?                         36\n",
      "Name: count, dtype: int64\n",
      "\n",
      "Valores da coluna 'comportamento' depois da remoção: comportamento\n",
      "ON TASK                 3159\n",
      "ON SYSTEM                907\n",
      "OFF TASK                 629\n",
      "ON TASK CONVERSATION     414\n",
      "ON TASK OUT              380\n",
      "Name: count, dtype: int64\n"
     ]
    }
   ],
   "source": [
    "from core.preprocessors.data_cleaner import DataCleaner\n",
    "\n",
    "print(\"Valores da coluna 'comportamento' antes da remoção:\", data['comportamento'].value_counts())\n",
    "\n",
    "# Remove instances where 'comportamento' is '?'\n",
    "data = DataCleaner.remove_instances_with_value(data, 'comportamento', '?')\n",
    "\n",
    "print(\"\\nValores da coluna 'comportamento' depois da remoção:\", data['comportamento'].value_counts())"
   ]
  },
  {
   "cell_type": "code",
   "execution_count": 4,
   "metadata": {},
   "outputs": [
    {
     "data": {
      "text/html": [
       "<div>\n",
       "<style scoped>\n",
       "    .dataframe tbody tr th:only-of-type {\n",
       "        vertical-align: middle;\n",
       "    }\n",
       "\n",
       "    .dataframe tbody tr th {\n",
       "        vertical-align: top;\n",
       "    }\n",
       "\n",
       "    .dataframe thead th {\n",
       "        text-align: right;\n",
       "    }\n",
       "</style>\n",
       "<table border=\"1\" class=\"dataframe\">\n",
       "  <thead>\n",
       "    <tr style=\"text-align: right;\">\n",
       "      <th></th>\n",
       "      <th>id_log</th>\n",
       "      <th>aluno</th>\n",
       "      <th>grupo</th>\n",
       "      <th>num_dia</th>\n",
       "      <th>num_log</th>\n",
       "      <th>log_type</th>\n",
       "      <th>ultimo_passo_correto</th>\n",
       "      <th>verificado_com_mouse</th>\n",
       "      <th>verificado_com_teclado</th>\n",
       "      <th>idle_time_acumulado</th>\n",
       "      <th>...</th>\n",
       "      <th>comportamento_off_task</th>\n",
       "      <th>comportamento_on_system</th>\n",
       "      <th>comportamento_indefinido</th>\n",
       "      <th>ultimo_comportamento</th>\n",
       "      <th>ultimo_comportamento_on_task</th>\n",
       "      <th>ultimo_comportamento_on_task_conversation</th>\n",
       "      <th>ultimo_comportamento_on_task_out</th>\n",
       "      <th>ultimo_comportamento_off_task</th>\n",
       "      <th>ultimo_comportamento_on_system</th>\n",
       "      <th>ultimo_comportamento_indefinido</th>\n",
       "    </tr>\n",
       "  </thead>\n",
       "  <tbody>\n",
       "    <tr>\n",
       "      <th>0</th>\n",
       "      <td>8224</td>\n",
       "      <td>1</td>\n",
       "      <td>2</td>\n",
       "      <td>1</td>\n",
       "      <td>1</td>\n",
       "      <td>step_verification</td>\n",
       "      <td>0</td>\n",
       "      <td>0</td>\n",
       "      <td>1</td>\n",
       "      <td>0</td>\n",
       "      <td>...</td>\n",
       "      <td>0</td>\n",
       "      <td>0</td>\n",
       "      <td>0</td>\n",
       "      <td>?</td>\n",
       "      <td>0</td>\n",
       "      <td>0</td>\n",
       "      <td>0</td>\n",
       "      <td>0</td>\n",
       "      <td>0</td>\n",
       "      <td>1</td>\n",
       "    </tr>\n",
       "    <tr>\n",
       "      <th>1</th>\n",
       "      <td>527786</td>\n",
       "      <td>1</td>\n",
       "      <td>2</td>\n",
       "      <td>1</td>\n",
       "      <td>2</td>\n",
       "      <td>user_idle</td>\n",
       "      <td>1</td>\n",
       "      <td>0</td>\n",
       "      <td>0</td>\n",
       "      <td>2</td>\n",
       "      <td>...</td>\n",
       "      <td>0</td>\n",
       "      <td>0</td>\n",
       "      <td>0</td>\n",
       "      <td>ON TASK</td>\n",
       "      <td>1</td>\n",
       "      <td>0</td>\n",
       "      <td>0</td>\n",
       "      <td>0</td>\n",
       "      <td>0</td>\n",
       "      <td>0</td>\n",
       "    </tr>\n",
       "    <tr>\n",
       "      <th>2</th>\n",
       "      <td>527787</td>\n",
       "      <td>1</td>\n",
       "      <td>2</td>\n",
       "      <td>1</td>\n",
       "      <td>3</td>\n",
       "      <td>user_idle</td>\n",
       "      <td>0</td>\n",
       "      <td>0</td>\n",
       "      <td>0</td>\n",
       "      <td>4</td>\n",
       "      <td>...</td>\n",
       "      <td>0</td>\n",
       "      <td>0</td>\n",
       "      <td>0</td>\n",
       "      <td>ON TASK</td>\n",
       "      <td>1</td>\n",
       "      <td>0</td>\n",
       "      <td>0</td>\n",
       "      <td>0</td>\n",
       "      <td>0</td>\n",
       "      <td>0</td>\n",
       "    </tr>\n",
       "    <tr>\n",
       "      <th>3</th>\n",
       "      <td>527788</td>\n",
       "      <td>1</td>\n",
       "      <td>2</td>\n",
       "      <td>1</td>\n",
       "      <td>4</td>\n",
       "      <td>user_idle</td>\n",
       "      <td>0</td>\n",
       "      <td>0</td>\n",
       "      <td>0</td>\n",
       "      <td>6</td>\n",
       "      <td>...</td>\n",
       "      <td>0</td>\n",
       "      <td>0</td>\n",
       "      <td>0</td>\n",
       "      <td>ON TASK</td>\n",
       "      <td>1</td>\n",
       "      <td>0</td>\n",
       "      <td>0</td>\n",
       "      <td>0</td>\n",
       "      <td>0</td>\n",
       "      <td>0</td>\n",
       "    </tr>\n",
       "    <tr>\n",
       "      <th>4</th>\n",
       "      <td>527789</td>\n",
       "      <td>1</td>\n",
       "      <td>2</td>\n",
       "      <td>1</td>\n",
       "      <td>5</td>\n",
       "      <td>user_idle</td>\n",
       "      <td>0</td>\n",
       "      <td>0</td>\n",
       "      <td>0</td>\n",
       "      <td>8</td>\n",
       "      <td>...</td>\n",
       "      <td>0</td>\n",
       "      <td>0</td>\n",
       "      <td>0</td>\n",
       "      <td>ON TASK</td>\n",
       "      <td>1</td>\n",
       "      <td>0</td>\n",
       "      <td>0</td>\n",
       "      <td>0</td>\n",
       "      <td>0</td>\n",
       "      <td>0</td>\n",
       "    </tr>\n",
       "  </tbody>\n",
       "</table>\n",
       "<p>5 rows × 372 columns</p>\n",
       "</div>"
      ],
      "text/plain": [
       "   id_log  aluno  grupo  num_dia  num_log           log_type  \\\n",
       "0    8224      1      2        1        1  step_verification   \n",
       "1  527786      1      2        1        2          user_idle   \n",
       "2  527787      1      2        1        3          user_idle   \n",
       "3  527788      1      2        1        4          user_idle   \n",
       "4  527789      1      2        1        5          user_idle   \n",
       "\n",
       "   ultimo_passo_correto  verificado_com_mouse  verificado_com_teclado  \\\n",
       "0                     0                     0                       1   \n",
       "1                     1                     0                       0   \n",
       "2                     0                     0                       0   \n",
       "3                     0                     0                       0   \n",
       "4                     0                     0                       0   \n",
       "\n",
       "   idle_time_acumulado  ...  comportamento_off_task  comportamento_on_system  \\\n",
       "0                    0  ...                       0                        0   \n",
       "1                    2  ...                       0                        0   \n",
       "2                    4  ...                       0                        0   \n",
       "3                    6  ...                       0                        0   \n",
       "4                    8  ...                       0                        0   \n",
       "\n",
       "   comportamento_indefinido  ultimo_comportamento  \\\n",
       "0                         0                     ?   \n",
       "1                         0               ON TASK   \n",
       "2                         0               ON TASK   \n",
       "3                         0               ON TASK   \n",
       "4                         0               ON TASK   \n",
       "\n",
       "   ultimo_comportamento_on_task  ultimo_comportamento_on_task_conversation  \\\n",
       "0                             0                                          0   \n",
       "1                             1                                          0   \n",
       "2                             1                                          0   \n",
       "3                             1                                          0   \n",
       "4                             1                                          0   \n",
       "\n",
       "   ultimo_comportamento_on_task_out  ultimo_comportamento_off_task  \\\n",
       "0                                 0                              0   \n",
       "1                                 0                              0   \n",
       "2                                 0                              0   \n",
       "3                                 0                              0   \n",
       "4                                 0                              0   \n",
       "\n",
       "   ultimo_comportamento_on_system  ultimo_comportamento_indefinido  \n",
       "0                               0                                1  \n",
       "1                               0                                0  \n",
       "2                               0                                0  \n",
       "3                               0                                0  \n",
       "4                               0                                0  \n",
       "\n",
       "[5 rows x 372 columns]"
      ]
     },
     "execution_count": 4,
     "metadata": {},
     "output_type": "execute_result"
    }
   ],
   "source": [
    "data.head(5)"
   ]
  },
  {
   "cell_type": "code",
   "execution_count": 5,
   "metadata": {},
   "outputs": [],
   "source": [
    "## Select a subset of the data only for testing purposes\n",
    "\n",
    "# Selecionar um subconjunto dos dados\n",
    "# print(\"Tamanho do dataframe antes:\", data.shape)\n",
    "data = data.sample(n=500, random_state=42)\n",
    "data.reset_index(drop=True, inplace=True)\n",
    "# print(\"Tamanho do dataframe após:\", data.shape)"
   ]
  },
  {
   "cell_type": "markdown",
   "metadata": {},
   "source": [
    "# Pre-processing\n",
    "\n",
    "## Remove unnecessary columns"
   ]
  },
  {
   "cell_type": "code",
   "execution_count": 6,
   "metadata": {},
   "outputs": [],
   "source": [
    "# Removing columns related to IDs, emotions, personality and behaviors, because \n",
    "# we want to classify behaviors only by the students' interactions with the system\n",
    "columns_to_remove_ids = ['id_log', 'grupo', 'num_dia', 'num_log']\n",
    "columns_to_remove_emotions = [\n",
    "    'estado_afetivo', 'estado_engajamento_concentrado', \n",
    "    'estado_confusao', 'estado_frustracao', 'estado_tedio', 'estado_indefinido', \n",
    "    'ultimo_estado_afetivo', 'ultimo_engajamento_concentrado', 'ultimo_confusao', \n",
    "    'ultimo_frustracao', 'ultimo_tedio', 'ultimo_estado_indefinido'\n",
    "]\n",
    "columns_to_remove_personality = [\n",
    "    'traco_amabilidade_fator', 'traco_extrovercao_fator', 'traco_conscienciosidade_fator', \n",
    "    'traco_abertura_fator', 'traco_neuroticismo_fator', 'traco_amabilidade_cat', \n",
    "    'traco_extrovercao_cat', 'traco_conscienciosidade_cat', 'traco_abertura_cat', \n",
    "    'traco_neuroticismo_cat']\n",
    "\n",
    "columns_to_remove_behaviors = [\n",
    "    'comportamento_on_task', 'comportamento_on_task_conversation', 'comportamento_on_task_out',\n",
    "    'comportamento_off_task', 'comportamento_on_system', 'comportamento_indefinido',\n",
    "    'ultimo_comportamento', 'ultimo_comportamento_on_task', 'ultimo_comportamento_on_task_conversation',\n",
    "    'ultimo_comportamento_on_task_out', 'ultimo_comportamento_off_task', 'ultimo_comportamento_on_system',\n",
    "    'ultimo_comportamento_indefinido'\n",
    "]\n",
    "\n",
    "columns_to_remove = columns_to_remove_ids + \\\n",
    "        columns_to_remove_emotions + \\\n",
    "        columns_to_remove_personality + \\\n",
    "        columns_to_remove_behaviors\n",
    "\n",
    "cleaned_data = DataCleaner.remove_columns(data, columns_to_remove)\n"
   ]
  },
  {
   "cell_type": "code",
   "execution_count": 7,
   "metadata": {},
   "outputs": [
    {
     "data": {
      "text/html": [
       "<div>\n",
       "<style scoped>\n",
       "    .dataframe tbody tr th:only-of-type {\n",
       "        vertical-align: middle;\n",
       "    }\n",
       "\n",
       "    .dataframe tbody tr th {\n",
       "        vertical-align: top;\n",
       "    }\n",
       "\n",
       "    .dataframe thead th {\n",
       "        text-align: right;\n",
       "    }\n",
       "</style>\n",
       "<table border=\"1\" class=\"dataframe\">\n",
       "  <thead>\n",
       "    <tr style=\"text-align: right;\">\n",
       "      <th></th>\n",
       "      <th>aluno</th>\n",
       "      <th>log_type</th>\n",
       "      <th>ultimo_passo_correto</th>\n",
       "      <th>verificado_com_mouse</th>\n",
       "      <th>verificado_com_teclado</th>\n",
       "      <th>idle_time_acumulado</th>\n",
       "      <th>num_click_acumulado</th>\n",
       "      <th>num_click_passo</th>\n",
       "      <th>num_click_eq</th>\n",
       "      <th>type_step_verification</th>\n",
       "      <th>...</th>\n",
       "      <th>misc_OI_Dv_Plus_Sb_total</th>\n",
       "      <th>misc_EqSec_Distrib_MtTerm_total</th>\n",
       "      <th>misc_OI_Mt_Minus_Mt_Plus_total</th>\n",
       "      <th>misc_OI_Mt_Minus_Mt_Minus_total</th>\n",
       "      <th>misc_OI_Dv_Plus_Ad_total</th>\n",
       "      <th>misc_EqPrim_Mt_Inc_total</th>\n",
       "      <th>misc_EqPrim_Dv_Inc_total</th>\n",
       "      <th>misc_OI_Dv_Minus_Dv_Minus_total</th>\n",
       "      <th>misc_EqSec_OpFrac_MMC_MtNumerador_total</th>\n",
       "      <th>comportamento</th>\n",
       "    </tr>\n",
       "  </thead>\n",
       "  <tbody>\n",
       "    <tr>\n",
       "      <th>0</th>\n",
       "      <td>26</td>\n",
       "      <td>user_idle</td>\n",
       "      <td>0</td>\n",
       "      <td>0</td>\n",
       "      <td>0</td>\n",
       "      <td>16</td>\n",
       "      <td>0</td>\n",
       "      <td>0</td>\n",
       "      <td>4</td>\n",
       "      <td>0</td>\n",
       "      <td>...</td>\n",
       "      <td>0</td>\n",
       "      <td>9</td>\n",
       "      <td>0</td>\n",
       "      <td>0</td>\n",
       "      <td>0</td>\n",
       "      <td>1</td>\n",
       "      <td>0</td>\n",
       "      <td>0</td>\n",
       "      <td>0</td>\n",
       "      <td>OFF TASK</td>\n",
       "    </tr>\n",
       "    <tr>\n",
       "      <th>1</th>\n",
       "      <td>1</td>\n",
       "      <td>user_idle</td>\n",
       "      <td>0</td>\n",
       "      <td>0</td>\n",
       "      <td>0</td>\n",
       "      <td>2</td>\n",
       "      <td>0</td>\n",
       "      <td>3</td>\n",
       "      <td>3</td>\n",
       "      <td>0</td>\n",
       "      <td>...</td>\n",
       "      <td>0</td>\n",
       "      <td>0</td>\n",
       "      <td>0</td>\n",
       "      <td>0</td>\n",
       "      <td>0</td>\n",
       "      <td>0</td>\n",
       "      <td>0</td>\n",
       "      <td>0</td>\n",
       "      <td>0</td>\n",
       "      <td>ON TASK</td>\n",
       "    </tr>\n",
       "    <tr>\n",
       "      <th>2</th>\n",
       "      <td>1</td>\n",
       "      <td>click</td>\n",
       "      <td>0</td>\n",
       "      <td>0</td>\n",
       "      <td>0</td>\n",
       "      <td>0</td>\n",
       "      <td>2</td>\n",
       "      <td>2</td>\n",
       "      <td>2</td>\n",
       "      <td>0</td>\n",
       "      <td>...</td>\n",
       "      <td>0</td>\n",
       "      <td>0</td>\n",
       "      <td>0</td>\n",
       "      <td>0</td>\n",
       "      <td>0</td>\n",
       "      <td>0</td>\n",
       "      <td>0</td>\n",
       "      <td>0</td>\n",
       "      <td>0</td>\n",
       "      <td>ON TASK</td>\n",
       "    </tr>\n",
       "    <tr>\n",
       "      <th>3</th>\n",
       "      <td>21</td>\n",
       "      <td>user_idle</td>\n",
       "      <td>0</td>\n",
       "      <td>0</td>\n",
       "      <td>0</td>\n",
       "      <td>6</td>\n",
       "      <td>0</td>\n",
       "      <td>1</td>\n",
       "      <td>1</td>\n",
       "      <td>0</td>\n",
       "      <td>...</td>\n",
       "      <td>0</td>\n",
       "      <td>1</td>\n",
       "      <td>0</td>\n",
       "      <td>0</td>\n",
       "      <td>0</td>\n",
       "      <td>0</td>\n",
       "      <td>0</td>\n",
       "      <td>0</td>\n",
       "      <td>0</td>\n",
       "      <td>ON TASK</td>\n",
       "    </tr>\n",
       "    <tr>\n",
       "      <th>4</th>\n",
       "      <td>27</td>\n",
       "      <td>click</td>\n",
       "      <td>0</td>\n",
       "      <td>0</td>\n",
       "      <td>0</td>\n",
       "      <td>0</td>\n",
       "      <td>1</td>\n",
       "      <td>1</td>\n",
       "      <td>1</td>\n",
       "      <td>0</td>\n",
       "      <td>...</td>\n",
       "      <td>0</td>\n",
       "      <td>0</td>\n",
       "      <td>0</td>\n",
       "      <td>0</td>\n",
       "      <td>0</td>\n",
       "      <td>0</td>\n",
       "      <td>0</td>\n",
       "      <td>0</td>\n",
       "      <td>0</td>\n",
       "      <td>ON SYSTEM</td>\n",
       "    </tr>\n",
       "  </tbody>\n",
       "</table>\n",
       "<p>5 rows × 333 columns</p>\n",
       "</div>"
      ],
      "text/plain": [
       "   aluno   log_type  ultimo_passo_correto  verificado_com_mouse  \\\n",
       "0     26  user_idle                     0                     0   \n",
       "1      1  user_idle                     0                     0   \n",
       "2      1      click                     0                     0   \n",
       "3     21  user_idle                     0                     0   \n",
       "4     27      click                     0                     0   \n",
       "\n",
       "   verificado_com_teclado  idle_time_acumulado  num_click_acumulado  \\\n",
       "0                       0                   16                    0   \n",
       "1                       0                    2                    0   \n",
       "2                       0                    0                    2   \n",
       "3                       0                    6                    0   \n",
       "4                       0                    0                    1   \n",
       "\n",
       "   num_click_passo  num_click_eq  type_step_verification  ...  \\\n",
       "0                0             4                       0  ...   \n",
       "1                3             3                       0  ...   \n",
       "2                2             2                       0  ...   \n",
       "3                1             1                       0  ...   \n",
       "4                1             1                       0  ...   \n",
       "\n",
       "   misc_OI_Dv_Plus_Sb_total  misc_EqSec_Distrib_MtTerm_total  \\\n",
       "0                         0                                9   \n",
       "1                         0                                0   \n",
       "2                         0                                0   \n",
       "3                         0                                1   \n",
       "4                         0                                0   \n",
       "\n",
       "   misc_OI_Mt_Minus_Mt_Plus_total  misc_OI_Mt_Minus_Mt_Minus_total  \\\n",
       "0                               0                                0   \n",
       "1                               0                                0   \n",
       "2                               0                                0   \n",
       "3                               0                                0   \n",
       "4                               0                                0   \n",
       "\n",
       "   misc_OI_Dv_Plus_Ad_total  misc_EqPrim_Mt_Inc_total  \\\n",
       "0                         0                         1   \n",
       "1                         0                         0   \n",
       "2                         0                         0   \n",
       "3                         0                         0   \n",
       "4                         0                         0   \n",
       "\n",
       "   misc_EqPrim_Dv_Inc_total  misc_OI_Dv_Minus_Dv_Minus_total  \\\n",
       "0                         0                                0   \n",
       "1                         0                                0   \n",
       "2                         0                                0   \n",
       "3                         0                                0   \n",
       "4                         0                                0   \n",
       "\n",
       "   misc_EqSec_OpFrac_MMC_MtNumerador_total  comportamento  \n",
       "0                                        0       OFF TASK  \n",
       "1                                        0        ON TASK  \n",
       "2                                        0        ON TASK  \n",
       "3                                        0        ON TASK  \n",
       "4                                        0      ON SYSTEM  \n",
       "\n",
       "[5 rows x 333 columns]"
      ]
     },
     "execution_count": 7,
     "metadata": {},
     "output_type": "execute_result"
    }
   ],
   "source": [
    "cleaned_data.head(5)"
   ]
  },
  {
   "cell_type": "code",
   "execution_count": 8,
   "metadata": {},
   "outputs": [],
   "source": [
    "# Preenche valores ausentes no DataFrame X com a string 'missing'.\n",
    "\n",
    "cleaned_data = cleaned_data.fillna('missing')"
   ]
  },
  {
   "cell_type": "markdown",
   "metadata": {},
   "source": [
    "## Split data by student level into training and test datasets"
   ]
  },
  {
   "cell_type": "code",
   "execution_count": 9,
   "metadata": {},
   "outputs": [],
   "source": [
    "from core.preprocessors.data_splitter import DataSplitter\n",
    "\n",
    "train_data, test_data = DataSplitter.split_by_student_level(cleaned_data, test_size=0.2, column_name='aluno')"
   ]
  },
  {
   "cell_type": "code",
   "execution_count": 10,
   "metadata": {},
   "outputs": [],
   "source": [
    "# removing the 'aluno' column from the data after splitting into train and test sets\n",
    "\n",
    "# Remover 'aluno' do conjunto de treinamento\n",
    "cleaned_data = DataCleaner.remove_columns(train_data, ['aluno'])\n",
    "\n",
    "# Remover 'aluno' do conjunto de teste\n",
    "cleaned_data = DataCleaner.remove_columns(test_data, ['aluno'])"
   ]
  },
  {
   "cell_type": "markdown",
   "metadata": {},
   "source": [
    "## Split data into Features (X) and Target (y)"
   ]
  },
  {
   "cell_type": "code",
   "execution_count": 11,
   "metadata": {},
   "outputs": [],
   "source": [
    "from core.preprocessors.data_splitter import DataSplitter\n",
    "\n",
    "# Conjunto de treinamento\n",
    "X_train, y_train = DataSplitter.split_into_x_y(train_data, 'comportamento')\n",
    "\n",
    "# Conjunto de teste\n",
    "X_test, y_test = DataSplitter.split_into_x_y(test_data, 'comportamento')"
   ]
  },
  {
   "cell_type": "code",
   "execution_count": 12,
   "metadata": {},
   "outputs": [
    {
     "name": "stdout",
     "output_type": "stream",
     "text": [
      "Primeiras 5 instâncias de y_train:\n",
      "0     OFF TASK\n",
      "1      ON TASK\n",
      "2      ON TASK\n",
      "3      ON TASK\n",
      "4    ON SYSTEM\n",
      "Name: comportamento, dtype: object\n",
      "\n",
      "Primeiras 5 instâncias de y_test:\n",
      "11                 ON TASK\n",
      "12             ON TASK OUT\n",
      "19                 ON TASK\n",
      "22               ON SYSTEM\n",
      "39    ON TASK CONVERSATION\n",
      "Name: comportamento, dtype: object\n"
     ]
    }
   ],
   "source": [
    "print(\"Primeiras 5 instâncias de y_train:\")\n",
    "print(y_train[:5])\n",
    "\n",
    "print(\"\\nPrimeiras 5 instâncias de y_test:\")\n",
    "print(y_test[:5])"
   ]
  },
  {
   "cell_type": "markdown",
   "metadata": {},
   "source": [
    "## Encoding variables"
   ]
  },
  {
   "cell_type": "markdown",
   "metadata": {},
   "source": [
    "### Encoding true labels (y)"
   ]
  },
  {
   "cell_type": "code",
   "execution_count": 13,
   "metadata": {},
   "outputs": [
    {
     "data": {
      "text/plain": [
       "<module 'behavior.behavior_data_encoder' from '/Users/patricia/Documents/code/python-code/behavior-detection/src/behavior/behavior_data_encoder.py'>"
      ]
     },
     "execution_count": 13,
     "metadata": {},
     "output_type": "execute_result"
    }
   ],
   "source": [
    "import importlib\n",
    "from core.preprocessors import column_selector, data_encoder\n",
    "from behavior import behavior_data_encoder\n",
    "\n",
    "# Recarregar o módulo para garantir que as alterações sejam aplicadas\n",
    "importlib.reload(column_selector)\n",
    "importlib.reload(data_encoder)\n",
    "importlib.reload(behavior_data_encoder)"
   ]
  },
  {
   "cell_type": "code",
   "execution_count": 14,
   "metadata": {},
   "outputs": [],
   "source": [
    "# Encoding y_train and y_test\n",
    "from behavior.behavior_data_encoder import BehaviorDataEncoder\n",
    "\n",
    "# Codificar y_train\n",
    "y_train = BehaviorDataEncoder.encode_y(y_train)\n",
    "\n",
    "# Codificar y_test\n",
    "y_test = BehaviorDataEncoder.encode_y(y_test)"
   ]
  },
  {
   "cell_type": "markdown",
   "metadata": {},
   "source": [
    "### Encoding features (X)"
   ]
  },
  {
   "cell_type": "code",
   "execution_count": 15,
   "metadata": {},
   "outputs": [],
   "source": [
    "# Pré-processar X_train\n",
    "X_encoder = BehaviorDataEncoder(num_classes=5)\n",
    "X_encoder.fit(X_train)\n",
    "\n",
    "X_train = X_encoder.transform(X_train)\n",
    "\n",
    "# Pré-processar X_test usando o mesmo preprocessor\n",
    "X_test = X_encoder.transform(X_test)"
   ]
  },
  {
   "cell_type": "markdown",
   "metadata": {},
   "source": [
    "# Balanceamento dos dados"
   ]
  },
  {
   "cell_type": "code",
   "execution_count": 16,
   "metadata": {},
   "outputs": [],
   "source": [
    "from core.preprocessors.data_balancer import DataBalancer\n",
    "\n",
    "data_balancer = DataBalancer()\n",
    "X_train, y_train = data_balancer.apply_smote(X_train, y_train)"
   ]
  },
  {
   "cell_type": "code",
   "execution_count": 17,
   "metadata": {},
   "outputs": [
    {
     "name": "stdout",
     "output_type": "stream",
     "text": [
      "Resampled dataset shape: Counter({0: 244, 2: 244, 1: 244, 4: 244, 3: 244})\n"
     ]
    }
   ],
   "source": [
    "from collections import Counter\n",
    "\n",
    "print(f\"Resampled dataset shape: {Counter(y_train)}\")"
   ]
  },
  {
   "cell_type": "markdown",
   "metadata": {},
   "source": [
    "# Treinamento dos Modelos"
   ]
  },
  {
   "cell_type": "markdown",
   "metadata": {},
   "source": [
    "## Definindo parametros"
   ]
  },
  {
   "cell_type": "code",
   "execution_count": 18,
   "metadata": {},
   "outputs": [],
   "source": [
    "# Definir quais modelos e seletores utilizar\n",
    "selected_models = ['Decision Tree']\n",
    "selected_selectors = ['pca']\n",
    "\n",
    "cv = 2  # Number of folds in the cross-validation\n",
    "n_iter = 100\n",
    "n_jobs = 4  # Number of processors to be used in the execution: -1 to use all processors\n",
    "\n",
    "# Choose a scoring metric\n",
    "scoring_metric = 'roc_auc_ovr'  # Possible values: 'f1_macro', 'balanced_accuracy', 'roc_auc_ovr', etc."
   ]
  },
  {
   "cell_type": "markdown",
   "metadata": {},
   "source": [
    "## Usando Otimização Bayesiana (BayesSearchCV)"
   ]
  },
  {
   "cell_type": "code",
   "execution_count": 19,
   "metadata": {},
   "outputs": [
    {
     "name": "stderr",
     "output_type": "stream",
     "text": [
      "INFO:root:Training and evaluating Decision Tree with Bayesian Optimization and pca\n",
      "INFO:root:Search space for Decision Tree with selector pca: {'classifier__max_depth': Categorical(categories=(None, 3, 5, 10, 20, 30), prior=None), 'classifier__min_samples_split': Integer(low=2, high=20, prior='uniform', transform='identity'), 'classifier__min_samples_leaf': Integer(low=1, high=10, prior='uniform', transform='identity'), 'feature_selection__n_components': [1, 5, 10, 20, 30, 40, 50]}\n"
     ]
    },
    {
     "name": "stdout",
     "output_type": "stream",
     "text": [
      "Training and evaluating Decision Tree with Bayesian Optimization and pca\n",
      "Fitting 2 folds for each of 1 candidates, totalling 2 fits\n"
     ]
    },
    {
     "name": "stderr",
     "output_type": "stream",
     "text": [
      "INFO:root:Iteration 1: tested parameters: [5, 8, 19, 10], score: 0.8369599905939265\n"
     ]
    },
    {
     "name": "stdout",
     "output_type": "stream",
     "text": [
      "[CV 1/2] END classifier__max_depth=5, classifier__min_samples_leaf=8, classifier__min_samples_split=19, feature_selection__n_components=10;, score=0.837 total time=   0.0s\n",
      "[CV 2/2] END classifier__max_depth=5, classifier__min_samples_leaf=8, classifier__min_samples_split=19, feature_selection__n_components=10;, score=0.837 total time=   0.0s\n",
      "Fitting 2 folds for each of 1 candidates, totalling 2 fits\n",
      "[CV 2/2] END classifier__max_depth=30, classifier__min_samples_leaf=9, classifier__min_samples_split=7, feature_selection__n_components=50;, score=0.899 total time=   0.1s\n"
     ]
    },
    {
     "name": "stderr",
     "output_type": "stream",
     "text": [
      "INFO:root:Iteration 2: tested parameters: [30, 9, 7, 50], score: 0.883982800322494\n",
      "INFO:root:Iteration 3: tested parameters: [5, 9, 4, 20], score: 0.8504493079817254\n"
     ]
    },
    {
     "name": "stdout",
     "output_type": "stream",
     "text": [
      "[CV 1/2] END classifier__max_depth=30, classifier__min_samples_leaf=9, classifier__min_samples_split=7, feature_selection__n_components=50;, score=0.869 total time=   0.1s\n",
      "Fitting 2 folds for each of 1 candidates, totalling 2 fits\n",
      "[CV 1/2] END classifier__max_depth=5, classifier__min_samples_leaf=9, classifier__min_samples_split=4, feature_selection__n_components=20;, score=0.845 total time=   0.0s\n",
      "[CV 2/2] END classifier__max_depth=5, classifier__min_samples_leaf=9, classifier__min_samples_split=4, feature_selection__n_components=20;, score=0.856 total time=   0.0s\n",
      "Fitting 2 folds for each of 1 candidates, totalling 2 fits\n",
      "[CV 2/2] END classifier__max_depth=20, classifier__min_samples_leaf=3, classifier__min_samples_split=13, feature_selection__n_components=40;, score=0.901 total time=   0.1s\n"
     ]
    },
    {
     "name": "stderr",
     "output_type": "stream",
     "text": [
      "INFO:root:Iteration 4: tested parameters: [20, 3, 13, 40], score: 0.885468456060199\n",
      "INFO:root:Iteration 5: tested parameters: [20, 5, 11, 40], score: 0.883128695243214\n",
      "INFO:root:Iteration 6: tested parameters: [20, 9, 5, 5], score: 0.8783332773447998\n"
     ]
    },
    {
     "name": "stdout",
     "output_type": "stream",
     "text": [
      "[CV 1/2] END classifier__max_depth=20, classifier__min_samples_leaf=3, classifier__min_samples_split=13, feature_selection__n_components=40;, score=0.870 total time=   0.1s\n",
      "Fitting 2 folds for each of 1 candidates, totalling 2 fits\n",
      "[CV 1/2] END classifier__max_depth=20, classifier__min_samples_leaf=5, classifier__min_samples_split=11, feature_selection__n_components=40;, score=0.871 total time=   0.1s\n",
      "[CV 2/2] END classifier__max_depth=20, classifier__min_samples_leaf=5, classifier__min_samples_split=11, feature_selection__n_components=40;, score=0.895 total time=   0.1s\n",
      "Fitting 2 folds for each of 1 candidates, totalling 2 fits\n",
      "[CV 1/2] END classifier__max_depth=20, classifier__min_samples_leaf=9, classifier__min_samples_split=5, feature_selection__n_components=5;, score=0.875 total time=   0.0s\n",
      "[CV 2/2] END classifier__max_depth=20, classifier__min_samples_leaf=9, classifier__min_samples_split=5, feature_selection__n_components=5;, score=0.882 total time=   0.0s\n",
      "Fitting 2 folds for each of 1 candidates, totalling 2 fits\n"
     ]
    },
    {
     "name": "stderr",
     "output_type": "stream",
     "text": [
      "INFO:root:Iteration 7: tested parameters: [10, 8, 8, 50], score: 0.8860563356624562\n"
     ]
    },
    {
     "name": "stdout",
     "output_type": "stream",
     "text": [
      "[CV 1/2] END classifier__max_depth=10, classifier__min_samples_leaf=8, classifier__min_samples_split=8, feature_selection__n_components=50;, score=0.872 total time=   0.1s\n",
      "[CV 2/2] END classifier__max_depth=10, classifier__min_samples_leaf=8, classifier__min_samples_split=8, feature_selection__n_components=50;, score=0.901 total time=   0.1s\n",
      "Fitting 2 folds for each of 1 candidates, totalling 2 fits\n",
      "[CV 1/2] END classifier__max_depth=10, classifier__min_samples_leaf=9, classifier__min_samples_split=11, feature_selection__n_components=40;, score=0.873 total time=   0.1s\n",
      "[CV 2/2] END classifier__max_depth=10, classifier__min_samples_leaf=9, classifier__min_samples_split=11, feature_selection__n_components=40;, score=0.896 total time=   0.1s\n"
     ]
    },
    {
     "name": "stderr",
     "output_type": "stream",
     "text": [
      "INFO:root:Iteration 8: tested parameters: [10, 9, 11, 40], score: 0.8844287489922065\n",
      "INFO:root:Iteration 9: tested parameters: [30, 7, 18, 10], score: 0.8865165614082238\n"
     ]
    },
    {
     "name": "stdout",
     "output_type": "stream",
     "text": [
      "Fitting 2 folds for each of 1 candidates, totalling 2 fits\n",
      "[CV 1/2] END classifier__max_depth=30, classifier__min_samples_leaf=7, classifier__min_samples_split=18, feature_selection__n_components=10;, score=0.873 total time=   0.0s\n",
      "[CV 2/2] END classifier__max_depth=30, classifier__min_samples_leaf=7, classifier__min_samples_split=18, feature_selection__n_components=10;, score=0.900 total time=   0.1s\n",
      "Fitting 2 folds for each of 1 candidates, totalling 2 fits\n",
      "[CV 1/2] END classifier__max_depth=None, classifier__min_samples_leaf=8, classifier__min_samples_split=15, feature_selection__n_components=5;, score=0.878 total time=   0.0s\n",
      "[CV 2/2] END classifier__max_depth=None, classifier__min_samples_leaf=8, classifier__min_samples_split=15, feature_selection__n_components=5;, score=0.878 total time=   0.0s\n"
     ]
    },
    {
     "name": "stderr",
     "output_type": "stream",
     "text": [
      "INFO:root:Iteration 10: tested parameters: [None, 8, 15, 5], score: 0.8783643509809189\n"
     ]
    },
    {
     "name": "stdout",
     "output_type": "stream",
     "text": [
      "Fitting 2 folds for each of 1 candidates, totalling 2 fits\n",
      "[CV 1/2] END classifier__max_depth=10, classifier__min_samples_leaf=1, classifier__min_samples_split=2, feature_selection__n_components=10;, score=0.871 total time=   0.1s\n",
      "[CV 2/2] END classifier__max_depth=10, classifier__min_samples_leaf=1, classifier__min_samples_split=2, feature_selection__n_components=10;, score=0.884 total time=   0.0s\n"
     ]
    },
    {
     "name": "stderr",
     "output_type": "stream",
     "text": [
      "INFO:root:Iteration 11: tested parameters: [10, 1, 2, 10], score: 0.8777453977425422\n"
     ]
    },
    {
     "name": "stdout",
     "output_type": "stream",
     "text": [
      "Fitting 2 folds for each of 1 candidates, totalling 2 fits\n",
      "[CV 1/2] END classifier__max_depth=10, classifier__min_samples_leaf=1, classifier__min_samples_split=20, feature_selection__n_components=40;, score=0.869 total time=   0.1s\n",
      "[CV 2/2] END classifier__max_depth=10, classifier__min_samples_leaf=1, classifier__min_samples_split=20, feature_selection__n_components=40;, score=0.894 total time=   0.1s\n"
     ]
    },
    {
     "name": "stderr",
     "output_type": "stream",
     "text": [
      "INFO:root:Iteration 12: tested parameters: [10, 1, 20, 40], score: 0.881642199677506\n"
     ]
    },
    {
     "name": "stdout",
     "output_type": "stream",
     "text": [
      "Fitting 2 folds for each of 1 candidates, totalling 2 fits\n",
      "[CV 1/2] END classifier__max_depth=30, classifier__min_samples_leaf=1, classifier__min_samples_split=2, feature_selection__n_components=1;, score=0.694 total time=   0.1s\n",
      "[CV 2/2] END classifier__max_depth=30, classifier__min_samples_leaf=1, classifier__min_samples_split=2, feature_selection__n_components=1;, score=0.675 total time=   0.0s\n"
     ]
    },
    {
     "name": "stderr",
     "output_type": "stream",
     "text": [
      "INFO:root:Iteration 13: tested parameters: [30, 1, 2, 1], score: 0.6844262295081968\n"
     ]
    },
    {
     "name": "stdout",
     "output_type": "stream",
     "text": [
      "Fitting 2 folds for each of 1 candidates, totalling 2 fits\n",
      "[CV 1/2] END classifier__max_depth=20, classifier__min_samples_leaf=2, classifier__min_samples_split=16, feature_selection__n_components=1;, score=0.777 total time=   0.1s\n",
      "[CV 2/2] END classifier__max_depth=20, classifier__min_samples_leaf=2, classifier__min_samples_split=16, feature_selection__n_components=1;, score=0.785 total time=   0.1s\n"
     ]
    },
    {
     "name": "stderr",
     "output_type": "stream",
     "text": [
      "INFO:root:Iteration 14: tested parameters: [20, 2, 16, 1], score: 0.7813910911045417\n"
     ]
    },
    {
     "name": "stdout",
     "output_type": "stream",
     "text": [
      "Fitting 2 folds for each of 1 candidates, totalling 2 fits\n",
      "[CV 2/2] END classifier__max_depth=5, classifier__min_samples_leaf=9, classifier__min_samples_split=20, feature_selection__n_components=1;, score=0.740 total time=   0.0s\n",
      "[CV 1/2] END classifier__max_depth=5, classifier__min_samples_leaf=9, classifier__min_samples_split=20, feature_selection__n_components=1;, score=0.757 total time=   0.1s\n"
     ]
    },
    {
     "name": "stderr",
     "output_type": "stream",
     "text": [
      "INFO:root:Iteration 15: tested parameters: [5, 9, 20, 1], score: 0.7483195041655469\n"
     ]
    },
    {
     "name": "stdout",
     "output_type": "stream",
     "text": [
      "Fitting 2 folds for each of 1 candidates, totalling 2 fits\n",
      "[CV 1/2] END classifier__max_depth=10, classifier__min_samples_leaf=10, classifier__min_samples_split=20, feature_selection__n_components=20;, score=0.875 total time=   0.1s\n",
      "[CV 2/2] END classifier__max_depth=10, classifier__min_samples_leaf=10, classifier__min_samples_split=20, feature_selection__n_components=20;, score=0.908 total time=   0.1s\n"
     ]
    },
    {
     "name": "stderr",
     "output_type": "stream",
     "text": [
      "INFO:root:Iteration 16: tested parameters: [10, 10, 20, 20], score: 0.8913808452029025\n"
     ]
    },
    {
     "name": "stdout",
     "output_type": "stream",
     "text": [
      "Fitting 2 folds for each of 1 candidates, totalling 2 fits\n",
      "[CV 1/2] END classifier__max_depth=10, classifier__min_samples_leaf=1, classifier__min_samples_split=20, feature_selection__n_components=50;, score=0.872 total time=   0.1s\n",
      "[CV 2/2] END classifier__max_depth=10, classifier__min_samples_leaf=1, classifier__min_samples_split=20, feature_selection__n_components=50;, score=0.892 total time=   0.1s\n"
     ]
    },
    {
     "name": "stderr",
     "output_type": "stream",
     "text": [
      "INFO:root:Iteration 17: tested parameters: [10, 1, 20, 50], score: 0.8818353601182477\n"
     ]
    },
    {
     "name": "stdout",
     "output_type": "stream",
     "text": [
      "Fitting 2 folds for each of 1 candidates, totalling 2 fits\n",
      "[CV 1/2] END classifier__max_depth=10, classifier__min_samples_leaf=1, classifier__min_samples_split=2, feature_selection__n_components=20;, score=0.846 total time=   0.1s\n",
      "[CV 2/2] END classifier__max_depth=10, classifier__min_samples_leaf=1, classifier__min_samples_split=2, feature_selection__n_components=20;, score=0.910 total time=   0.1s\n"
     ]
    },
    {
     "name": "stderr",
     "output_type": "stream",
     "text": [
      "INFO:root:Iteration 18: tested parameters: [10, 1, 2, 20], score: 0.8782031040042999\n"
     ]
    },
    {
     "name": "stdout",
     "output_type": "stream",
     "text": [
      "Fitting 2 folds for each of 1 candidates, totalling 2 fits\n",
      "[CV 1/2] END classifier__max_depth=3, classifier__min_samples_leaf=10, classifier__min_samples_split=20, feature_selection__n_components=20;, score=0.764 total time=   0.1s\n",
      "[CV 2/2] END classifier__max_depth=3, classifier__min_samples_leaf=10, classifier__min_samples_split=20, feature_selection__n_components=20;, score=0.763 total time=   0.1s\n"
     ]
    },
    {
     "name": "stderr",
     "output_type": "stream",
     "text": [
      "INFO:root:Iteration 19: tested parameters: [3, 10, 20, 20], score: 0.7636858371405537\n"
     ]
    },
    {
     "name": "stdout",
     "output_type": "stream",
     "text": [
      "Fitting 2 folds for each of 1 candidates, totalling 2 fits\n",
      "[CV 1/2] END classifier__max_depth=30, classifier__min_samples_leaf=1, classifier__min_samples_split=20, feature_selection__n_components=10;, score=0.875 total time=   0.0s\n",
      "[CV 2/2] END classifier__max_depth=30, classifier__min_samples_leaf=1, classifier__min_samples_split=20, feature_selection__n_components=10;, score=0.887 total time=   0.0s\n"
     ]
    },
    {
     "name": "stderr",
     "output_type": "stream",
     "text": [
      "INFO:root:Iteration 20: tested parameters: [30, 1, 20, 10], score: 0.8811273851115292\n"
     ]
    },
    {
     "name": "stdout",
     "output_type": "stream",
     "text": [
      "Fitting 2 folds for each of 1 candidates, totalling 2 fits\n",
      "[CV 1/2] END classifier__max_depth=3, classifier__min_samples_leaf=10, classifier__min_samples_split=20, feature_selection__n_components=1;, score=0.674 total time=   0.0s\n",
      "[CV 2/2] END classifier__max_depth=3, classifier__min_samples_leaf=10, classifier__min_samples_split=20, feature_selection__n_components=1;, score=0.664 total time=   0.0s\n"
     ]
    },
    {
     "name": "stderr",
     "output_type": "stream",
     "text": [
      "INFO:root:Iteration 21: tested parameters: [3, 10, 20, 1], score: 0.6686962510077936\n"
     ]
    },
    {
     "name": "stdout",
     "output_type": "stream",
     "text": [
      "Fitting 2 folds for each of 1 candidates, totalling 2 fits\n",
      "[CV 1/2] END classifier__max_depth=10, classifier__min_samples_leaf=1, classifier__min_samples_split=20, feature_selection__n_components=20;, score=0.880 total time=   0.1s\n",
      "[CV 2/2] END classifier__max_depth=10, classifier__min_samples_leaf=1, classifier__min_samples_split=20, feature_selection__n_components=20;, score=0.919 total time=   0.1s\n"
     ]
    },
    {
     "name": "stderr",
     "output_type": "stream",
     "text": [
      "INFO:root:Iteration 22: tested parameters: [10, 1, 20, 20], score: 0.8999260951357162\n"
     ]
    },
    {
     "name": "stdout",
     "output_type": "stream",
     "text": [
      "Fitting 2 folds for each of 1 candidates, totalling 2 fits\n",
      "[CV 1/2] END classifier__max_depth=20, classifier__min_samples_leaf=1, classifier__min_samples_split=20, feature_selection__n_components=20;, score=0.875 total time=   0.1s\n",
      "[CV 2/2] END classifier__max_depth=20, classifier__min_samples_leaf=1, classifier__min_samples_split=20, feature_selection__n_components=20;, score=0.917 total time=   0.1s\n"
     ]
    },
    {
     "name": "stderr",
     "output_type": "stream",
     "text": [
      "INFO:root:Iteration 23: tested parameters: [20, 1, 20, 20], score: 0.8960519685568397\n"
     ]
    },
    {
     "name": "stdout",
     "output_type": "stream",
     "text": [
      "Fitting 2 folds for each of 1 candidates, totalling 2 fits\n",
      "[CV 1/2] END classifier__max_depth=10, classifier__min_samples_leaf=1, classifier__min_samples_split=16, feature_selection__n_components=10;, score=0.884 total time=   0.0s\n",
      "[CV 2/2] END classifier__max_depth=10, classifier__min_samples_leaf=1, classifier__min_samples_split=16, feature_selection__n_components=10;, score=0.894 total time=   0.1s\n"
     ]
    },
    {
     "name": "stderr",
     "output_type": "stream",
     "text": [
      "INFO:root:Iteration 24: tested parameters: [10, 1, 16, 10], score: 0.8889957336737437\n"
     ]
    },
    {
     "name": "stdout",
     "output_type": "stream",
     "text": [
      "Fitting 2 folds for each of 1 candidates, totalling 2 fits\n",
      "[CV 1/2] END classifier__max_depth=10, classifier__min_samples_leaf=1, classifier__min_samples_split=13, feature_selection__n_components=10;, score=0.882 total time=   0.1s\n",
      "[CV 2/2] END classifier__max_depth=10, classifier__min_samples_leaf=1, classifier__min_samples_split=13, feature_selection__n_components=10;, score=0.897 total time=   0.1s\n"
     ]
    },
    {
     "name": "stderr",
     "output_type": "stream",
     "text": [
      "INFO:root:Iteration 25: tested parameters: [10, 1, 13, 10], score: 0.8891250671862401\n"
     ]
    },
    {
     "name": "stdout",
     "output_type": "stream",
     "text": [
      "Fitting 2 folds for each of 1 candidates, totalling 2 fits\n",
      "[CV 1/2] END classifier__max_depth=10, classifier__min_samples_leaf=1, classifier__min_samples_split=11, feature_selection__n_components=20;, score=0.873 total time=   0.1s\n",
      "[CV 2/2] END classifier__max_depth=10, classifier__min_samples_leaf=1, classifier__min_samples_split=11, feature_selection__n_components=20;, score=0.915 total time=   0.1s\n"
     ]
    },
    {
     "name": "stderr",
     "output_type": "stream",
     "text": [
      "INFO:root:Iteration 26: tested parameters: [10, 1, 11, 20], score: 0.8938381819403385\n"
     ]
    },
    {
     "name": "stdout",
     "output_type": "stream",
     "text": [
      "Fitting 2 folds for each of 1 candidates, totalling 2 fits\n",
      "[CV 1/2] END classifier__max_depth=10, classifier__min_samples_leaf=1, classifier__min_samples_split=20, feature_selection__n_components=10;, score=0.877 total time=   0.1s\n",
      "[CV 2/2] END classifier__max_depth=10, classifier__min_samples_leaf=1, classifier__min_samples_split=20, feature_selection__n_components=10;, score=0.888 total time=   0.0s\n"
     ]
    },
    {
     "name": "stderr",
     "output_type": "stream",
     "text": [
      "INFO:root:Iteration 27: tested parameters: [10, 1, 20, 10], score: 0.882582807041118\n"
     ]
    },
    {
     "name": "stdout",
     "output_type": "stream",
     "text": [
      "Fitting 2 folds for each of 1 candidates, totalling 2 fits\n",
      "[CV 2/2] END classifier__max_depth=10, classifier__min_samples_leaf=3, classifier__min_samples_split=17, feature_selection__n_components=10;, score=0.895 total time=   0.1s\n",
      "[CV 1/2] END classifier__max_depth=10, classifier__min_samples_leaf=3, classifier__min_samples_split=17, feature_selection__n_components=10;, score=0.885 total time=   0.1s\n"
     ]
    },
    {
     "name": "stderr",
     "output_type": "stream",
     "text": [
      "INFO:root:Iteration 28: tested parameters: [10, 3, 17, 10], score: 0.8896936307444236\n"
     ]
    },
    {
     "name": "stdout",
     "output_type": "stream",
     "text": [
      "Fitting 2 folds for each of 1 candidates, totalling 2 fits\n",
      "[CV 1/2] END classifier__max_depth=10, classifier__min_samples_leaf=8, classifier__min_samples_split=2, feature_selection__n_components=10;, score=0.882 total time=   0.0s\n",
      "[CV 2/2] END classifier__max_depth=10, classifier__min_samples_leaf=8, classifier__min_samples_split=2, feature_selection__n_components=10;, score=0.896 total time=   0.0s\n"
     ]
    },
    {
     "name": "stderr",
     "output_type": "stream",
     "text": [
      "INFO:root:Iteration 29: tested parameters: [10, 8, 2, 10], score: 0.8893425826390755\n"
     ]
    },
    {
     "name": "stdout",
     "output_type": "stream",
     "text": [
      "Fitting 2 folds for each of 1 candidates, totalling 2 fits\n",
      "[CV 1/2] END classifier__max_depth=10, classifier__min_samples_leaf=10, classifier__min_samples_split=2, feature_selection__n_components=10;, score=0.872 total time=   0.0s\n",
      "[CV 2/2] END classifier__max_depth=10, classifier__min_samples_leaf=10, classifier__min_samples_split=2, feature_selection__n_components=10;, score=0.896 total time=   0.0s\n"
     ]
    },
    {
     "name": "stderr",
     "output_type": "stream",
     "text": [
      "INFO:root:Iteration 30: tested parameters: [10, 10, 2, 10], score: 0.883691380005375\n"
     ]
    },
    {
     "name": "stdout",
     "output_type": "stream",
     "text": [
      "Fitting 2 folds for each of 1 candidates, totalling 2 fits\n",
      "[CV 1/2] END classifier__max_depth=30, classifier__min_samples_leaf=10, classifier__min_samples_split=19, feature_selection__n_components=30;, score=0.878 total time=   0.0s\n",
      "[CV 2/2] END classifier__max_depth=30, classifier__min_samples_leaf=10, classifier__min_samples_split=19, feature_selection__n_components=30;, score=0.896 total time=   0.1s\n"
     ]
    },
    {
     "name": "stderr",
     "output_type": "stream",
     "text": [
      "INFO:root:Iteration 31: tested parameters: [30, 10, 19, 30], score: 0.8868188994893845\n"
     ]
    },
    {
     "name": "stdout",
     "output_type": "stream",
     "text": [
      "Fitting 2 folds for each of 1 candidates, totalling 2 fits\n",
      "[CV 1/2] END classifier__max_depth=20, classifier__min_samples_leaf=9, classifier__min_samples_split=20, feature_selection__n_components=20;, score=0.880 total time=   0.1s\n",
      "[CV 2/2] END classifier__max_depth=20, classifier__min_samples_leaf=9, classifier__min_samples_split=20, feature_selection__n_components=20;, score=0.906 total time=   0.1s\n"
     ]
    },
    {
     "name": "stderr",
     "output_type": "stream",
     "text": [
      "INFO:root:Iteration 32: tested parameters: [20, 9, 20, 20], score: 0.892860622144585\n"
     ]
    },
    {
     "name": "stdout",
     "output_type": "stream",
     "text": [
      "Fitting 2 folds for each of 1 candidates, totalling 2 fits\n",
      "[CV 1/2] END classifier__max_depth=20, classifier__min_samples_leaf=9, classifier__min_samples_split=2, feature_selection__n_components=20;, score=0.878 total time=   0.1s\n",
      "[CV 2/2] END classifier__max_depth=20, classifier__min_samples_leaf=9, classifier__min_samples_split=2, feature_selection__n_components=20;, score=0.904 total time=   0.1s\n"
     ]
    },
    {
     "name": "stderr",
     "output_type": "stream",
     "text": [
      "INFO:root:Iteration 33: tested parameters: [20, 9, 2, 20], score: 0.8906720303681805\n"
     ]
    },
    {
     "name": "stdout",
     "output_type": "stream",
     "text": [
      "Fitting 2 folds for each of 1 candidates, totalling 2 fits\n",
      "[CV 1/2] END classifier__max_depth=None, classifier__min_samples_leaf=10, classifier__min_samples_split=20, feature_selection__n_components=20;, score=0.877 total time=   0.1s\n",
      "[CV 2/2] END classifier__max_depth=None, classifier__min_samples_leaf=10, classifier__min_samples_split=20, feature_selection__n_components=20;, score=0.906 total time=   0.1s\n"
     ]
    },
    {
     "name": "stderr",
     "output_type": "stream",
     "text": [
      "INFO:root:Iteration 34: tested parameters: [None, 10, 20, 20], score: 0.891073468153722\n"
     ]
    },
    {
     "name": "stdout",
     "output_type": "stream",
     "text": [
      "Fitting 2 folds for each of 1 candidates, totalling 2 fits\n",
      "[CV 2/2] END classifier__max_depth=10, classifier__min_samples_leaf=10, classifier__min_samples_split=20, feature_selection__n_components=10;, score=0.896 total time=   0.0s\n",
      "[CV 1/2] END classifier__max_depth=10, classifier__min_samples_leaf=10, classifier__min_samples_split=20, feature_selection__n_components=10;, score=0.872 total time=   0.0s\n"
     ]
    },
    {
     "name": "stderr",
     "output_type": "stream",
     "text": [
      "INFO:root:Iteration 35: tested parameters: [10, 10, 20, 10], score: 0.8840659432948133\n"
     ]
    },
    {
     "name": "stdout",
     "output_type": "stream",
     "text": [
      "Fitting 2 folds for each of 1 candidates, totalling 2 fits\n",
      "[CV 1/2] END classifier__max_depth=3, classifier__min_samples_leaf=10, classifier__min_samples_split=2, feature_selection__n_components=10;, score=0.752 total time=   0.1s\n",
      "[CV 2/2] END classifier__max_depth=3, classifier__min_samples_leaf=10, classifier__min_samples_split=2, feature_selection__n_components=10;, score=0.752 total time=   0.0s\n"
     ]
    },
    {
     "name": "stderr",
     "output_type": "stream",
     "text": [
      "INFO:root:Iteration 36: tested parameters: [3, 10, 2, 10], score: 0.7517728769148078\n",
      "/opt/anaconda3/envs/projetos_ML/lib/python3.11/site-packages/skopt/optimizer/optimizer.py:517: UserWarning: The objective has been evaluated at point [20, 1, 20, 20] before, using random point [10, 6, 12, 50]\n",
      "  warnings.warn(\n"
     ]
    },
    {
     "name": "stdout",
     "output_type": "stream",
     "text": [
      "Fitting 2 folds for each of 1 candidates, totalling 2 fits\n",
      "[CV 1/2] END classifier__max_depth=10, classifier__min_samples_leaf=6, classifier__min_samples_split=12, feature_selection__n_components=50;, score=0.873 total time=   0.1s\n",
      "[CV 2/2] END classifier__max_depth=10, classifier__min_samples_leaf=6, classifier__min_samples_split=12, feature_selection__n_components=50;, score=0.896 total time=   0.1s\n"
     ]
    },
    {
     "name": "stderr",
     "output_type": "stream",
     "text": [
      "INFO:root:Iteration 37: tested parameters: [10, 6, 12, 50], score: 0.8847655200214994\n"
     ]
    },
    {
     "name": "stdout",
     "output_type": "stream",
     "text": [
      "Fitting 2 folds for each of 1 candidates, totalling 2 fits\n",
      "[CV 1/2] END classifier__max_depth=20, classifier__min_samples_leaf=2, classifier__min_samples_split=20, feature_selection__n_components=20;, score=0.877 total time=   0.0s\n",
      "[CV 2/2] END classifier__max_depth=20, classifier__min_samples_leaf=2, classifier__min_samples_split=20, feature_selection__n_components=20;, score=0.919 total time=   0.0s\n"
     ]
    },
    {
     "name": "stderr",
     "output_type": "stream",
     "text": [
      "INFO:root:Iteration 38: tested parameters: [20, 2, 20, 20], score: 0.8981674952969632\n"
     ]
    },
    {
     "name": "stdout",
     "output_type": "stream",
     "text": [
      "Fitting 2 folds for each of 1 candidates, totalling 2 fits\n",
      "[CV 1/2] END classifier__max_depth=20, classifier__min_samples_leaf=1, classifier__min_samples_split=2, feature_selection__n_components=20;, score=0.839 total time=   0.0s\n",
      "[CV 2/2] END classifier__max_depth=20, classifier__min_samples_leaf=1, classifier__min_samples_split=2, feature_selection__n_components=20;, score=0.890 total time=   0.1s\n"
     ]
    },
    {
     "name": "stderr",
     "output_type": "stream",
     "text": [
      "INFO:root:Iteration 39: tested parameters: [20, 1, 2, 20], score: 0.8647540983606558\n"
     ]
    },
    {
     "name": "stdout",
     "output_type": "stream",
     "text": [
      "Fitting 2 folds for each of 1 candidates, totalling 2 fits\n",
      "[CV 1/2] END classifier__max_depth=10, classifier__min_samples_leaf=3, classifier__min_samples_split=18, feature_selection__n_components=10;, score=0.877 total time=   0.0s\n",
      "[CV 2/2] END classifier__max_depth=10, classifier__min_samples_leaf=3, classifier__min_samples_split=18, feature_selection__n_components=10;, score=0.892 total time=   0.1s\n"
     ]
    },
    {
     "name": "stderr",
     "output_type": "stream",
     "text": [
      "INFO:root:Iteration 40: tested parameters: [10, 3, 18, 10], score: 0.8844573031443161\n"
     ]
    },
    {
     "name": "stdout",
     "output_type": "stream",
     "text": [
      "Fitting 2 folds for each of 1 candidates, totalling 2 fits\n",
      "[CV 1/2] END classifier__max_depth=10, classifier__min_samples_leaf=4, classifier__min_samples_split=17, feature_selection__n_components=10;, score=0.882 total time=   0.0s\n",
      "[CV 2/2] END classifier__max_depth=10, classifier__min_samples_leaf=4, classifier__min_samples_split=17, feature_selection__n_components=10;, score=0.896 total time=   0.1s\n"
     ]
    },
    {
     "name": "stderr",
     "output_type": "stream",
     "text": [
      "INFO:root:Iteration 41: tested parameters: [10, 4, 17, 10], score: 0.8889512227895725\n"
     ]
    },
    {
     "name": "stdout",
     "output_type": "stream",
     "text": [
      "Fitting 2 folds for each of 1 candidates, totalling 2 fits\n",
      "[CV 1/2] END classifier__max_depth=5, classifier__min_samples_leaf=1, classifier__min_samples_split=17, feature_selection__n_components=20;, score=0.847 total time=   0.1s\n",
      "[CV 2/2] END classifier__max_depth=5, classifier__min_samples_leaf=1, classifier__min_samples_split=17, feature_selection__n_components=20;, score=0.861 total time=   0.1s\n"
     ]
    },
    {
     "name": "stderr",
     "output_type": "stream",
     "text": [
      "INFO:root:Iteration 42: tested parameters: [5, 1, 17, 20], score: 0.8541235554958344\n"
     ]
    },
    {
     "name": "stdout",
     "output_type": "stream",
     "text": [
      "Fitting 2 folds for each of 1 candidates, totalling 2 fits\n",
      "[CV 1/2] END classifier__max_depth=3, classifier__min_samples_leaf=1, classifier__min_samples_split=20, feature_selection__n_components=40;, score=0.781 total time=   0.1s\n",
      "[CV 2/2] END classifier__max_depth=3, classifier__min_samples_leaf=1, classifier__min_samples_split=20, feature_selection__n_components=40;, score=0.771 total time=   0.1s\n"
     ]
    },
    {
     "name": "stderr",
     "output_type": "stream",
     "text": [
      "INFO:root:Iteration 43: tested parameters: [3, 1, 20, 40], score: 0.7763101316850309\n"
     ]
    },
    {
     "name": "stdout",
     "output_type": "stream",
     "text": [
      "Fitting 2 folds for each of 1 candidates, totalling 2 fits\n",
      "[CV 2/2] END classifier__max_depth=30, classifier__min_samples_leaf=4, classifier__min_samples_split=16, feature_selection__n_components=20;, score=0.913 total time=   0.0s\n",
      "[CV 1/2] END classifier__max_depth=30, classifier__min_samples_leaf=4, classifier__min_samples_split=16, feature_selection__n_components=20;, score=0.877 total time=   0.1s\n"
     ]
    },
    {
     "name": "stderr",
     "output_type": "stream",
     "text": [
      "INFO:root:Iteration 44: tested parameters: [30, 4, 16, 20], score: 0.8949358371405537\n"
     ]
    },
    {
     "name": "stdout",
     "output_type": "stream",
     "text": [
      "Fitting 2 folds for each of 1 candidates, totalling 2 fits\n",
      "[CV 1/2] END classifier__max_depth=10, classifier__min_samples_leaf=8, classifier__min_samples_split=5, feature_selection__n_components=10;, score=0.874 total time=   0.1s\n",
      "[CV 2/2] END classifier__max_depth=10, classifier__min_samples_leaf=8, classifier__min_samples_split=5, feature_selection__n_components=10;, score=0.899 total time=   0.1s\n"
     ]
    },
    {
     "name": "stderr",
     "output_type": "stream",
     "text": [
      "INFO:root:Iteration 45: tested parameters: [10, 8, 5, 10], score: 0.8866794880408493\n"
     ]
    },
    {
     "name": "stdout",
     "output_type": "stream",
     "text": [
      "Fitting 2 folds for each of 1 candidates, totalling 2 fits\n",
      "[CV 1/2] END classifier__max_depth=10, classifier__min_samples_leaf=10, classifier__min_samples_split=7, feature_selection__n_components=20;, score=0.878 total time=   0.1s\n",
      "[CV 2/2] END classifier__max_depth=10, classifier__min_samples_leaf=10, classifier__min_samples_split=7, feature_selection__n_components=20;, score=0.906 total time=   0.0s\n"
     ]
    },
    {
     "name": "stderr",
     "output_type": "stream",
     "text": [
      "INFO:root:Iteration 46: tested parameters: [10, 10, 7, 20], score: 0.8919670451491535\n"
     ]
    },
    {
     "name": "stdout",
     "output_type": "stream",
     "text": [
      "Fitting 2 folds for each of 1 candidates, totalling 2 fits\n",
      "[CV 1/2] END classifier__max_depth=10, classifier__min_samples_leaf=1, classifier__min_samples_split=17, feature_selection__n_components=10;, score=0.884 total time=   0.0s\n",
      "[CV 2/2] END classifier__max_depth=10, classifier__min_samples_leaf=1, classifier__min_samples_split=17, feature_selection__n_components=10;, score=0.895 total time=   0.0s\n"
     ]
    },
    {
     "name": "stderr",
     "output_type": "stream",
     "text": [
      "INFO:root:Iteration 47: tested parameters: [10, 1, 17, 10], score: 0.8891720975544208\n"
     ]
    },
    {
     "name": "stdout",
     "output_type": "stream",
     "text": [
      "Fitting 2 folds for each of 1 candidates, totalling 2 fits\n",
      "[CV 1/2] END classifier__max_depth=20, classifier__min_samples_leaf=10, classifier__min_samples_split=13, feature_selection__n_components=20;, score=0.877 total time=   0.1s\n",
      "[CV 2/2] END classifier__max_depth=20, classifier__min_samples_leaf=10, classifier__min_samples_split=13, feature_selection__n_components=20;, score=0.905 total time=   0.1s\n"
     ]
    },
    {
     "name": "stderr",
     "output_type": "stream",
     "text": [
      "INFO:root:Iteration 48: tested parameters: [20, 10, 13, 20], score: 0.891136455253964\n"
     ]
    },
    {
     "name": "stdout",
     "output_type": "stream",
     "text": [
      "Fitting 2 folds for each of 1 candidates, totalling 2 fits\n",
      "[CV 1/2] END classifier__max_depth=3, classifier__min_samples_leaf=1, classifier__min_samples_split=3, feature_selection__n_components=1;, score=0.680 total time=   0.1s\n",
      "[CV 2/2] END classifier__max_depth=3, classifier__min_samples_leaf=1, classifier__min_samples_split=3, feature_selection__n_components=1;, score=0.661 total time=   0.1s\n"
     ]
    },
    {
     "name": "stderr",
     "output_type": "stream",
     "text": [
      "INFO:root:Iteration 49: tested parameters: [3, 1, 3, 1], score: 0.6704363746304758\n"
     ]
    },
    {
     "name": "stdout",
     "output_type": "stream",
     "text": [
      "Fitting 2 folds for each of 1 candidates, totalling 2 fits\n",
      "[CV 1/2] END classifier__max_depth=5, classifier__min_samples_leaf=1, classifier__min_samples_split=2, feature_selection__n_components=30;, score=0.841 total time=   0.1s\n",
      "[CV 2/2] END classifier__max_depth=5, classifier__min_samples_leaf=1, classifier__min_samples_split=2, feature_selection__n_components=30;, score=0.838 total time=   0.1s\n"
     ]
    },
    {
     "name": "stderr",
     "output_type": "stream",
     "text": [
      "INFO:root:Iteration 50: tested parameters: [5, 1, 2, 30], score: 0.8397465399086267\n"
     ]
    },
    {
     "name": "stdout",
     "output_type": "stream",
     "text": [
      "Fitting 2 folds for each of 1 candidates, totalling 2 fits\n",
      "[CV 1/2] END classifier__max_depth=3, classifier__min_samples_leaf=1, classifier__min_samples_split=2, feature_selection__n_components=20;, score=0.766 total time=   0.1s\n",
      "[CV 2/2] END classifier__max_depth=3, classifier__min_samples_leaf=1, classifier__min_samples_split=2, feature_selection__n_components=20;, score=0.765 total time=   0.1s\n"
     ]
    },
    {
     "name": "stderr",
     "output_type": "stream",
     "text": [
      "INFO:root:Iteration 51: tested parameters: [3, 1, 2, 20], score: 0.7652756315506584\n"
     ]
    },
    {
     "name": "stdout",
     "output_type": "stream",
     "text": [
      "Fitting 2 folds for each of 1 candidates, totalling 2 fits\n",
      "[CV 2/2] END classifier__max_depth=None, classifier__min_samples_leaf=1, classifier__min_samples_split=16, feature_selection__n_components=20;, score=0.921 total time=   0.1s\n",
      "[CV 1/2] END classifier__max_depth=None, classifier__min_samples_leaf=1, classifier__min_samples_split=16, feature_selection__n_components=20;, score=0.875 total time=   0.1s\n"
     ]
    },
    {
     "name": "stderr",
     "output_type": "stream",
     "text": [
      "INFO:root:Iteration 52: tested parameters: [None, 1, 16, 20], score: 0.897845841171728\n"
     ]
    },
    {
     "name": "stdout",
     "output_type": "stream",
     "text": [
      "Fitting 2 folds for each of 1 candidates, totalling 2 fits\n",
      "[CV 1/2] END classifier__max_depth=10, classifier__min_samples_leaf=1, classifier__min_samples_split=19, feature_selection__n_components=10;, score=0.878 total time=   0.1s\n",
      "[CV 2/2] END classifier__max_depth=10, classifier__min_samples_leaf=1, classifier__min_samples_split=19, feature_selection__n_components=10;, score=0.891 total time=   0.1s\n"
     ]
    },
    {
     "name": "stderr",
     "output_type": "stream",
     "text": [
      "INFO:root:Iteration 53: tested parameters: [10, 1, 19, 10], score: 0.8842103937113679\n"
     ]
    },
    {
     "name": "stdout",
     "output_type": "stream",
     "text": [
      "Fitting 2 folds for each of 1 candidates, totalling 2 fits\n",
      "[CV 1/2] END classifier__max_depth=None, classifier__min_samples_leaf=7, classifier__min_samples_split=2, feature_selection__n_components=20;, score=0.878 total time=   0.1s\n",
      "[CV 2/2] END classifier__max_depth=None, classifier__min_samples_leaf=7, classifier__min_samples_split=2, feature_selection__n_components=20;, score=0.902 total time=   0.1s\n"
     ]
    },
    {
     "name": "stderr",
     "output_type": "stream",
     "text": [
      "INFO:root:Iteration 54: tested parameters: [None, 7, 2, 20], score: 0.8901370599301263\n"
     ]
    },
    {
     "name": "stdout",
     "output_type": "stream",
     "text": [
      "Fitting 2 folds for each of 1 candidates, totalling 2 fits\n",
      "[CV 1/2] END classifier__max_depth=20, classifier__min_samples_leaf=10, classifier__min_samples_split=2, feature_selection__n_components=30;, score=0.875 total time=   0.0s\n",
      "[CV 2/2] END classifier__max_depth=20, classifier__min_samples_leaf=10, classifier__min_samples_split=2, feature_selection__n_components=30;, score=0.896 total time=   0.1s\n"
     ]
    },
    {
     "name": "stderr",
     "output_type": "stream",
     "text": [
      "INFO:root:Iteration 55: tested parameters: [20, 10, 2, 30], score: 0.8856263437248052\n"
     ]
    },
    {
     "name": "stdout",
     "output_type": "stream",
     "text": [
      "Fitting 2 folds for each of 1 candidates, totalling 2 fits\n",
      "[CV 1/2] END classifier__max_depth=5, classifier__min_samples_leaf=1, classifier__min_samples_split=19, feature_selection__n_components=1;, score=0.763 total time=   0.0s\n",
      "[CV 2/2] END classifier__max_depth=5, classifier__min_samples_leaf=1, classifier__min_samples_split=19, feature_selection__n_components=1;, score=0.746 total time=   0.0s\n"
     ]
    },
    {
     "name": "stderr",
     "output_type": "stream",
     "text": [
      "INFO:root:Iteration 56: tested parameters: [5, 1, 19, 1], score: 0.754151269819941\n"
     ]
    },
    {
     "name": "stdout",
     "output_type": "stream",
     "text": [
      "Fitting 2 folds for each of 1 candidates, totalling 2 fits\n",
      "[CV 2/2] END classifier__max_depth=10, classifier__min_samples_leaf=1, classifier__min_samples_split=18, feature_selection__n_components=10;, score=0.892 total time=   0.1s\n",
      "[CV 1/2] END classifier__max_depth=10, classifier__min_samples_leaf=1, classifier__min_samples_split=18, feature_selection__n_components=10;, score=0.875 total time=   0.1s\n"
     ]
    },
    {
     "name": "stderr",
     "output_type": "stream",
     "text": [
      "INFO:root:Iteration 57: tested parameters: [10, 1, 18, 10], score: 0.8836384708411716\n"
     ]
    },
    {
     "name": "stdout",
     "output_type": "stream",
     "text": [
      "Fitting 2 folds for each of 1 candidates, totalling 2 fits\n",
      "[CV 1/2] END classifier__max_depth=None, classifier__min_samples_leaf=5, classifier__min_samples_split=20, feature_selection__n_components=20;, score=0.876 total time=   0.1s\n",
      "[CV 2/2] END classifier__max_depth=None, classifier__min_samples_leaf=5, classifier__min_samples_split=20, feature_selection__n_components=20;, score=0.914 total time=   0.1s\n"
     ]
    },
    {
     "name": "stderr",
     "output_type": "stream",
     "text": [
      "INFO:root:Iteration 58: tested parameters: [None, 5, 20, 20], score: 0.8948862872883634\n"
     ]
    },
    {
     "name": "stdout",
     "output_type": "stream",
     "text": [
      "Fitting 2 folds for each of 1 candidates, totalling 2 fits\n",
      "[CV 2/2] END classifier__max_depth=20, classifier__min_samples_leaf=7, classifier__min_samples_split=20, feature_selection__n_components=30;, score=0.892 total time=   0.1s\n",
      "[CV 1/2] END classifier__max_depth=20, classifier__min_samples_leaf=7, classifier__min_samples_split=20, feature_selection__n_components=30;, score=0.877 total time=   0.1s\n"
     ]
    },
    {
     "name": "stderr",
     "output_type": "stream",
     "text": [
      "INFO:root:Iteration 59: tested parameters: [20, 7, 20, 30], score: 0.8846647406611126\n"
     ]
    },
    {
     "name": "stdout",
     "output_type": "stream",
     "text": [
      "Fitting 2 folds for each of 1 candidates, totalling 2 fits\n",
      "[CV 1/2] END classifier__max_depth=20, classifier__min_samples_leaf=1, classifier__min_samples_split=16, feature_selection__n_components=20;, score=0.879 total time=   0.1s\n",
      "[CV 2/2] END classifier__max_depth=20, classifier__min_samples_leaf=1, classifier__min_samples_split=16, feature_selection__n_components=20;, score=0.920 total time=   0.0s\n"
     ]
    },
    {
     "name": "stderr",
     "output_type": "stream",
     "text": [
      "INFO:root:Iteration 60: tested parameters: [20, 1, 16, 20], score: 0.8992920249932814\n"
     ]
    },
    {
     "name": "stdout",
     "output_type": "stream",
     "text": [
      "Fitting 2 folds for each of 1 candidates, totalling 2 fits\n",
      "[CV 1/2] END classifier__max_depth=20, classifier__min_samples_leaf=5, classifier__min_samples_split=16, feature_selection__n_components=20;, score=0.879 total time=   0.0s\n",
      "[CV 2/2] END classifier__max_depth=20, classifier__min_samples_leaf=5, classifier__min_samples_split=16, feature_selection__n_components=20;, score=0.915 total time=   0.1s\n"
     ]
    },
    {
     "name": "stderr",
     "output_type": "stream",
     "text": [
      "INFO:root:Iteration 61: tested parameters: [20, 5, 16, 20], score: 0.8973007927976351\n"
     ]
    },
    {
     "name": "stdout",
     "output_type": "stream",
     "text": [
      "Fitting 2 folds for each of 1 candidates, totalling 2 fits\n",
      "[CV 1/2] END classifier__max_depth=10, classifier__min_samples_leaf=10, classifier__min_samples_split=2, feature_selection__n_components=20;, score=0.879 total time=   0.1s\n",
      "[CV 2/2] END classifier__max_depth=10, classifier__min_samples_leaf=10, classifier__min_samples_split=2, feature_selection__n_components=20;, score=0.909 total time=   0.1s\n"
     ]
    },
    {
     "name": "stderr",
     "output_type": "stream",
     "text": [
      "INFO:root:Iteration 62: tested parameters: [10, 10, 2, 20], score: 0.8940615761891965\n"
     ]
    },
    {
     "name": "stdout",
     "output_type": "stream",
     "text": [
      "Fitting 2 folds for each of 1 candidates, totalling 2 fits\n",
      "[CV 1/2] END classifier__max_depth=30, classifier__min_samples_leaf=1, classifier__min_samples_split=8, feature_selection__n_components=30;, score=0.874 total time=   0.1s\n",
      "[CV 2/2] END classifier__max_depth=30, classifier__min_samples_leaf=1, classifier__min_samples_split=8, feature_selection__n_components=30;, score=0.887 total time=   0.1s\n"
     ]
    },
    {
     "name": "stderr",
     "output_type": "stream",
     "text": [
      "INFO:root:Iteration 63: tested parameters: [30, 1, 8, 30], score: 0.880906510346681\n"
     ]
    },
    {
     "name": "stdout",
     "output_type": "stream",
     "text": [
      "Fitting 2 folds for each of 1 candidates, totalling 2 fits\n",
      "[CV 2/2] END classifier__max_depth=10, classifier__min_samples_leaf=1, classifier__min_samples_split=17, feature_selection__n_components=20;, score=0.920 total time=   0.0s\n",
      "[CV 1/2] END classifier__max_depth=10, classifier__min_samples_leaf=1, classifier__min_samples_split=17, feature_selection__n_components=20;, score=0.875 total time=   0.1s\n"
     ]
    },
    {
     "name": "stderr",
     "output_type": "stream",
     "text": [
      "INFO:root:Iteration 64: tested parameters: [10, 1, 17, 20], score: 0.8977459016393443\n"
     ]
    },
    {
     "name": "stdout",
     "output_type": "stream",
     "text": [
      "Fitting 2 folds for each of 1 candidates, totalling 2 fits\n",
      "[CV 2/2] END classifier__max_depth=10, classifier__min_samples_leaf=10, classifier__min_samples_split=15, feature_selection__n_components=20;, score=0.907 total time=   0.1s\n",
      "[CV 1/2] END classifier__max_depth=10, classifier__min_samples_leaf=10, classifier__min_samples_split=15, feature_selection__n_components=20;, score=0.875 total time=   0.0s\n"
     ]
    },
    {
     "name": "stderr",
     "output_type": "stream",
     "text": [
      "INFO:root:Iteration 65: tested parameters: [10, 10, 15, 20], score: 0.8912347151303412\n"
     ]
    },
    {
     "name": "stdout",
     "output_type": "stream",
     "text": [
      "Fitting 2 folds for each of 1 candidates, totalling 2 fits\n",
      "[CV 1/2] END classifier__max_depth=5, classifier__min_samples_leaf=10, classifier__min_samples_split=2, feature_selection__n_components=1;, score=0.751 total time=   0.1s\n",
      "[CV 2/2] END classifier__max_depth=5, classifier__min_samples_leaf=10, classifier__min_samples_split=2, feature_selection__n_components=1;, score=0.742 total time=   0.0s\n"
     ]
    },
    {
     "name": "stderr",
     "output_type": "stream",
     "text": [
      "INFO:root:Iteration 66: tested parameters: [5, 10, 2, 1], score: 0.7464139344262295\n"
     ]
    },
    {
     "name": "stdout",
     "output_type": "stream",
     "text": [
      "Fitting 2 folds for each of 1 candidates, totalling 2 fits\n",
      "[CV 1/2] END classifier__max_depth=20, classifier__min_samples_leaf=9, classifier__min_samples_split=20, feature_selection__n_components=5;, score=0.881 total time=   0.0s\n",
      "[CV 2/2] END classifier__max_depth=20, classifier__min_samples_leaf=9, classifier__min_samples_split=20, feature_selection__n_components=5;, score=0.884 total time=   0.0s\n"
     ]
    },
    {
     "name": "stderr",
     "output_type": "stream",
     "text": [
      "INFO:root:Iteration 67: tested parameters: [20, 9, 20, 5], score: 0.8826399153453373\n"
     ]
    },
    {
     "name": "stdout",
     "output_type": "stream",
     "text": [
      "Fitting 2 folds for each of 1 candidates, totalling 2 fits\n",
      "[CV 2/2] END classifier__max_depth=20, classifier__min_samples_leaf=9, classifier__min_samples_split=20, feature_selection__n_components=40;, score=0.898 total time=   0.1s\n",
      "[CV 1/2] END classifier__max_depth=20, classifier__min_samples_leaf=9, classifier__min_samples_split=20, feature_selection__n_components=40;, score=0.872 total time=   0.2s\n"
     ]
    },
    {
     "name": "stderr",
     "output_type": "stream",
     "text": [
      "INFO:root:Iteration 68: tested parameters: [20, 9, 20, 40], score: 0.8847831564095674\n"
     ]
    },
    {
     "name": "stdout",
     "output_type": "stream",
     "text": [
      "Fitting 2 folds for each of 1 candidates, totalling 2 fits\n",
      "[CV 1/2] END classifier__max_depth=None, classifier__min_samples_leaf=8, classifier__min_samples_split=20, feature_selection__n_components=40;, score=0.862 total time=   0.1s\n",
      "[CV 2/2] END classifier__max_depth=None, classifier__min_samples_leaf=8, classifier__min_samples_split=20, feature_selection__n_components=40;, score=0.901 total time=   0.1s\n"
     ]
    },
    {
     "name": "stderr",
     "output_type": "stream",
     "text": [
      "INFO:root:Iteration 69: tested parameters: [None, 8, 20, 40], score: 0.8817757323300188\n"
     ]
    },
    {
     "name": "stdout",
     "output_type": "stream",
     "text": [
      "Fitting 2 folds for each of 1 candidates, totalling 2 fits\n",
      "[CV 1/2] END classifier__max_depth=20, classifier__min_samples_leaf=2, classifier__min_samples_split=20, feature_selection__n_components=50;, score=0.877 total time=   0.1s\n",
      "[CV 2/2] END classifier__max_depth=20, classifier__min_samples_leaf=2, classifier__min_samples_split=20, feature_selection__n_components=50;, score=0.899 total time=   0.1s\n"
     ]
    },
    {
     "name": "stderr",
     "output_type": "stream",
     "text": [
      "INFO:root:Iteration 70: tested parameters: [20, 2, 20, 50], score: 0.8880106154259608\n",
      "/opt/anaconda3/envs/projetos_ML/lib/python3.11/site-packages/skopt/optimizer/optimizer.py:517: UserWarning: The objective has been evaluated at point [20, 9, 20, 20] before, using random point [10, 5, 16, 1]\n",
      "  warnings.warn(\n"
     ]
    },
    {
     "name": "stdout",
     "output_type": "stream",
     "text": [
      "Fitting 2 folds for each of 1 candidates, totalling 2 fits\n",
      "[CV 1/2] END classifier__max_depth=10, classifier__min_samples_leaf=5, classifier__min_samples_split=16, feature_selection__n_components=1;, score=0.770 total time=   0.0s\n",
      "[CV 2/2] END classifier__max_depth=10, classifier__min_samples_leaf=5, classifier__min_samples_split=16, feature_selection__n_components=1;, score=0.793 total time=   0.0s\n"
     ]
    },
    {
     "name": "stderr",
     "output_type": "stream",
     "text": [
      "INFO:root:Iteration 71: tested parameters: [10, 5, 16, 1], score: 0.7818143644181672\n"
     ]
    },
    {
     "name": "stdout",
     "output_type": "stream",
     "text": [
      "Fitting 2 folds for each of 1 candidates, totalling 2 fits\n",
      "[CV 1/2] END classifier__max_depth=30, classifier__min_samples_leaf=9, classifier__min_samples_split=2, feature_selection__n_components=20;, score=0.876 total time=   0.1s\n",
      "[CV 2/2] END classifier__max_depth=30, classifier__min_samples_leaf=9, classifier__min_samples_split=2, feature_selection__n_components=20;, score=0.904 total time=   0.0s\n"
     ]
    },
    {
     "name": "stderr",
     "output_type": "stream",
     "text": [
      "INFO:root:Iteration 72: tested parameters: [30, 9, 2, 20], score: 0.8901605751142168\n"
     ]
    },
    {
     "name": "stdout",
     "output_type": "stream",
     "text": [
      "Fitting 2 folds for each of 1 candidates, totalling 2 fits\n",
      "[CV 1/2] END classifier__max_depth=30, classifier__min_samples_leaf=9, classifier__min_samples_split=20, feature_selection__n_components=20;, score=0.880 total time=   0.1s\n",
      "[CV 2/2] END classifier__max_depth=30, classifier__min_samples_leaf=9, classifier__min_samples_split=20, feature_selection__n_components=20;, score=0.908 total time=   0.1s\n"
     ]
    },
    {
     "name": "stderr",
     "output_type": "stream",
     "text": [
      "INFO:root:Iteration 73: tested parameters: [30, 9, 20, 20], score: 0.8942102257457674\n"
     ]
    },
    {
     "name": "stdout",
     "output_type": "stream",
     "text": [
      "Fitting 2 folds for each of 1 candidates, totalling 2 fits\n",
      "[CV 1/2] END classifier__max_depth=30, classifier__min_samples_leaf=8, classifier__min_samples_split=20, feature_selection__n_components=40;, score=0.869 total time=   0.0s\n",
      "[CV 2/2] END classifier__max_depth=30, classifier__min_samples_leaf=8, classifier__min_samples_split=20, feature_selection__n_components=40;, score=0.901 total time=   0.0s\n"
     ]
    },
    {
     "name": "stderr",
     "output_type": "stream",
     "text": [
      "INFO:root:Iteration 74: tested parameters: [30, 8, 20, 40], score: 0.8853004904595538\n"
     ]
    },
    {
     "name": "stdout",
     "output_type": "stream",
     "text": [
      "Fitting 2 folds for each of 1 candidates, totalling 2 fits\n",
      "[CV 1/2] END classifier__max_depth=30, classifier__min_samples_leaf=5, classifier__min_samples_split=20, feature_selection__n_components=20;, score=0.878 total time=   0.0s\n",
      "[CV 2/2] END classifier__max_depth=30, classifier__min_samples_leaf=5, classifier__min_samples_split=20, feature_selection__n_components=20;, score=0.914 total time=   0.1s\n"
     ]
    },
    {
     "name": "stderr",
     "output_type": "stream",
     "text": [
      "INFO:root:Iteration 75: tested parameters: [30, 5, 20, 20], score: 0.8960813625369524\n"
     ]
    },
    {
     "name": "stdout",
     "output_type": "stream",
     "text": [
      "Fitting 2 folds for each of 1 candidates, totalling 2 fits\n",
      "[CV 1/2] END classifier__max_depth=30, classifier__min_samples_leaf=1, classifier__min_samples_split=20, feature_selection__n_components=20;, score=0.881 total time=   0.1s\n",
      "[CV 2/2] END classifier__max_depth=30, classifier__min_samples_leaf=1, classifier__min_samples_split=20, feature_selection__n_components=20;, score=0.918 total time=   0.1s\n"
     ]
    },
    {
     "name": "stderr",
     "output_type": "stream",
     "text": [
      "INFO:root:Iteration 76: tested parameters: [30, 1, 20, 20], score: 0.8993298172534266\n"
     ]
    },
    {
     "name": "stdout",
     "output_type": "stream",
     "text": [
      "Fitting 2 folds for each of 1 candidates, totalling 2 fits\n",
      "[CV 1/2] END classifier__max_depth=30, classifier__min_samples_leaf=10, classifier__min_samples_split=2, feature_selection__n_components=20;, score=0.879 total time=   0.1s\n",
      "[CV 2/2] END classifier__max_depth=30, classifier__min_samples_leaf=10, classifier__min_samples_split=2, feature_selection__n_components=20;, score=0.908 total time=   0.1s\n"
     ]
    },
    {
     "name": "stderr",
     "output_type": "stream",
     "text": [
      "INFO:root:Iteration 77: tested parameters: [30, 10, 2, 20], score: 0.8934778957269551\n",
      "/opt/anaconda3/envs/projetos_ML/lib/python3.11/site-packages/skopt/optimizer/optimizer.py:517: UserWarning: The objective has been evaluated at point [10, 1, 20, 10] before, using random point [None, 8, 18, 50]\n",
      "  warnings.warn(\n"
     ]
    },
    {
     "name": "stdout",
     "output_type": "stream",
     "text": [
      "Fitting 2 folds for each of 1 candidates, totalling 2 fits\n",
      "[CV 1/2] END classifier__max_depth=None, classifier__min_samples_leaf=8, classifier__min_samples_split=18, feature_selection__n_components=50;, score=0.871 total time=   0.1s\n",
      "[CV 2/2] END classifier__max_depth=None, classifier__min_samples_leaf=8, classifier__min_samples_split=18, feature_selection__n_components=50;, score=0.900 total time=   0.1s\n"
     ]
    },
    {
     "name": "stderr",
     "output_type": "stream",
     "text": [
      "INFO:root:Iteration 78: tested parameters: [None, 8, 18, 50], score: 0.8857422399892503\n"
     ]
    },
    {
     "name": "stdout",
     "output_type": "stream",
     "text": [
      "Fitting 2 folds for each of 1 candidates, totalling 2 fits\n",
      "[CV 1/2] END classifier__max_depth=30, classifier__min_samples_leaf=10, classifier__min_samples_split=20, feature_selection__n_components=20;, score=0.879 total time=   0.1s\n",
      "[CV 2/2] END classifier__max_depth=30, classifier__min_samples_leaf=10, classifier__min_samples_split=20, feature_selection__n_components=20;, score=0.904 total time=   0.0s\n"
     ]
    },
    {
     "name": "stderr",
     "output_type": "stream",
     "text": [
      "INFO:root:Iteration 79: tested parameters: [30, 10, 20, 20], score: 0.8914547500671861\n",
      "/opt/anaconda3/envs/projetos_ML/lib/python3.11/site-packages/skopt/optimizer/optimizer.py:517: UserWarning: The objective has been evaluated at point [10, 10, 20, 20] before, using random point [5, 6, 5, 10]\n",
      "  warnings.warn(\n"
     ]
    },
    {
     "name": "stdout",
     "output_type": "stream",
     "text": [
      "Fitting 2 folds for each of 1 candidates, totalling 2 fits\n",
      "[CV 1/2] END classifier__max_depth=5, classifier__min_samples_leaf=6, classifier__min_samples_split=5, feature_selection__n_components=10;, score=0.836 total time=   0.1s\n",
      "[CV 2/2] END classifier__max_depth=5, classifier__min_samples_leaf=6, classifier__min_samples_split=5, feature_selection__n_components=10;, score=0.840 total time=   0.0s\n"
     ]
    },
    {
     "name": "stderr",
     "output_type": "stream",
     "text": [
      "INFO:root:Iteration 80: tested parameters: [5, 6, 5, 10], score: 0.8381206328943832\n"
     ]
    },
    {
     "name": "stdout",
     "output_type": "stream",
     "text": [
      "Fitting 2 folds for each of 1 candidates, totalling 2 fits\n",
      "[CV 1/2] END classifier__max_depth=30, classifier__min_samples_leaf=10, classifier__min_samples_split=20, feature_selection__n_components=5;, score=0.879 total time=   0.1s\n",
      "[CV 2/2] END classifier__max_depth=30, classifier__min_samples_leaf=10, classifier__min_samples_split=20, feature_selection__n_components=5;, score=0.882 total time=   0.1s\n"
     ]
    },
    {
     "name": "stderr",
     "output_type": "stream",
     "text": [
      "INFO:root:Iteration 81: tested parameters: [30, 10, 20, 5], score: 0.8800549247514108\n"
     ]
    },
    {
     "name": "stdout",
     "output_type": "stream",
     "text": [
      "Fitting 2 folds for each of 1 candidates, totalling 2 fits\n",
      "[CV 2/2] END classifier__max_depth=10, classifier__min_samples_leaf=8, classifier__min_samples_split=20, feature_selection__n_components=5;, score=0.877 total time=   0.0s\n",
      "[CV 1/2] END classifier__max_depth=10, classifier__min_samples_leaf=8, classifier__min_samples_split=20, feature_selection__n_components=5;, score=0.882 total time=   0.0s\n"
     ]
    },
    {
     "name": "stderr",
     "output_type": "stream",
     "text": [
      "INFO:root:Iteration 82: tested parameters: [10, 8, 20, 5], score: 0.8794771230851921\n",
      "/opt/anaconda3/envs/projetos_ML/lib/python3.11/site-packages/skopt/optimizer/optimizer.py:517: UserWarning: The objective has been evaluated at point [10, 10, 20, 10] before, using random point [5, 10, 5, 20]\n",
      "  warnings.warn(\n"
     ]
    },
    {
     "name": "stdout",
     "output_type": "stream",
     "text": [
      "Fitting 2 folds for each of 1 candidates, totalling 2 fits\n",
      "[CV 1/2] END classifier__max_depth=5, classifier__min_samples_leaf=10, classifier__min_samples_split=5, feature_selection__n_components=20;, score=0.843 total time=   0.1s\n",
      "[CV 2/2] END classifier__max_depth=5, classifier__min_samples_leaf=10, classifier__min_samples_split=5, feature_selection__n_components=20;, score=0.855 total time=   0.1s\n"
     ]
    },
    {
     "name": "stderr",
     "output_type": "stream",
     "text": [
      "INFO:root:Iteration 83: tested parameters: [5, 10, 5, 20], score: 0.8486730717549047\n"
     ]
    },
    {
     "name": "stdout",
     "output_type": "stream",
     "text": [
      "Fitting 2 folds for each of 1 candidates, totalling 2 fits\n",
      "[CV 1/2] END classifier__max_depth=None, classifier__min_samples_leaf=1, classifier__min_samples_split=2, feature_selection__n_components=20;, score=0.848 total time=   0.1s\n",
      "[CV 2/2] END classifier__max_depth=None, classifier__min_samples_leaf=1, classifier__min_samples_split=2, feature_selection__n_components=20;, score=0.884 total time=   0.1s\n"
     ]
    },
    {
     "name": "stderr",
     "output_type": "stream",
     "text": [
      "INFO:root:Iteration 84: tested parameters: [None, 1, 2, 20], score: 0.8662909836065573\n"
     ]
    },
    {
     "name": "stdout",
     "output_type": "stream",
     "text": [
      "Fitting 2 folds for each of 1 candidates, totalling 2 fits\n",
      "[CV 1/2] END classifier__max_depth=30, classifier__min_samples_leaf=1, classifier__min_samples_split=2, feature_selection__n_components=20;, score=0.842 total time=   0.1s\n",
      "[CV 2/2] END classifier__max_depth=30, classifier__min_samples_leaf=1, classifier__min_samples_split=2, feature_selection__n_components=20;, score=0.891 total time=   0.0s\n"
     ]
    },
    {
     "name": "stderr",
     "output_type": "stream",
     "text": [
      "INFO:root:Iteration 85: tested parameters: [30, 1, 2, 20], score: 0.8668032786885247\n"
     ]
    },
    {
     "name": "stdout",
     "output_type": "stream",
     "text": [
      "Fitting 2 folds for each of 1 candidates, totalling 2 fits\n",
      "[CV 2/2] END classifier__max_depth=30, classifier__min_samples_leaf=10, classifier__min_samples_split=20, feature_selection__n_components=1;, score=0.790 total time=   0.0s\n",
      "[CV 1/2] END classifier__max_depth=30, classifier__min_samples_leaf=10, classifier__min_samples_split=20, feature_selection__n_components=1;, score=0.769 total time=   0.1s\n"
     ]
    },
    {
     "name": "stderr",
     "output_type": "stream",
     "text": [
      "INFO:root:Iteration 86: tested parameters: [30, 10, 20, 1], score: 0.7797055563020694\n"
     ]
    },
    {
     "name": "stdout",
     "output_type": "stream",
     "text": [
      "Fitting 2 folds for each of 1 candidates, totalling 2 fits\n",
      "[CV 1/2] END classifier__max_depth=10, classifier__min_samples_leaf=5, classifier__min_samples_split=7, feature_selection__n_components=20;, score=0.874 total time=   0.1s\n",
      "[CV 2/2] END classifier__max_depth=10, classifier__min_samples_leaf=5, classifier__min_samples_split=7, feature_selection__n_components=20;, score=0.915 total time=   0.1s\n"
     ]
    },
    {
     "name": "stderr",
     "output_type": "stream",
     "text": [
      "INFO:root:Iteration 87: tested parameters: [10, 5, 7, 20], score: 0.8948325382961569\n"
     ]
    },
    {
     "name": "stdout",
     "output_type": "stream",
     "text": [
      "Fitting 2 folds for each of 1 candidates, totalling 2 fits\n",
      "[CV 1/2] END classifier__max_depth=10, classifier__min_samples_leaf=4, classifier__min_samples_split=14, feature_selection__n_components=20;, score=0.877 total time=   0.1s\n",
      "[CV 2/2] END classifier__max_depth=10, classifier__min_samples_leaf=4, classifier__min_samples_split=14, feature_selection__n_components=20;, score=0.914 total time=   0.1s\n"
     ]
    },
    {
     "name": "stderr",
     "output_type": "stream",
     "text": [
      "INFO:root:Iteration 88: tested parameters: [10, 4, 14, 20], score: 0.8956152579951626\n"
     ]
    },
    {
     "name": "stdout",
     "output_type": "stream",
     "text": [
      "Fitting 2 folds for each of 1 candidates, totalling 2 fits\n",
      "[CV 1/2] END classifier__max_depth=3, classifier__min_samples_leaf=10, classifier__min_samples_split=2, feature_selection__n_components=1;, score=0.674 total time=   0.1s\n",
      "[CV 2/2] END classifier__max_depth=3, classifier__min_samples_leaf=10, classifier__min_samples_split=2, feature_selection__n_components=1;, score=0.664 total time=   0.0s\n"
     ]
    },
    {
     "name": "stderr",
     "output_type": "stream",
     "text": [
      "INFO:root:Iteration 89: tested parameters: [3, 10, 2, 1], score: 0.6686962510077936\n"
     ]
    },
    {
     "name": "stdout",
     "output_type": "stream",
     "text": [
      "Fitting 2 folds for each of 1 candidates, totalling 2 fits\n",
      "[CV 1/2] END classifier__max_depth=5, classifier__min_samples_leaf=1, classifier__min_samples_split=9, feature_selection__n_components=20;, score=0.848 total time=   0.1s\n",
      "[CV 2/2] END classifier__max_depth=5, classifier__min_samples_leaf=1, classifier__min_samples_split=9, feature_selection__n_components=20;, score=0.861 total time=   0.1s\n"
     ]
    },
    {
     "name": "stderr",
     "output_type": "stream",
     "text": [
      "INFO:root:Iteration 90: tested parameters: [5, 1, 9, 20], score: 0.8546895995700081\n"
     ]
    },
    {
     "name": "stdout",
     "output_type": "stream",
     "text": [
      "Fitting 2 folds for each of 1 candidates, totalling 2 fits\n",
      "[CV 1/2] END classifier__max_depth=5, classifier__min_samples_leaf=10, classifier__min_samples_split=18, feature_selection__n_components=20;, score=0.843 total time=   0.1s\n",
      "[CV 2/2] END classifier__max_depth=5, classifier__min_samples_leaf=10, classifier__min_samples_split=18, feature_selection__n_components=20;, score=0.855 total time=   0.0s\n"
     ]
    },
    {
     "name": "stderr",
     "output_type": "stream",
     "text": [
      "INFO:root:Iteration 91: tested parameters: [5, 10, 18, 20], score: 0.849081228164472\n"
     ]
    },
    {
     "name": "stdout",
     "output_type": "stream",
     "text": [
      "Fitting 2 folds for each of 1 candidates, totalling 2 fits\n",
      "[CV 1/2] END classifier__max_depth=10, classifier__min_samples_leaf=5, classifier__min_samples_split=2, feature_selection__n_components=5;, score=0.873 total time=   0.0s\n",
      "[CV 2/2] END classifier__max_depth=10, classifier__min_samples_leaf=5, classifier__min_samples_split=2, feature_selection__n_components=5;, score=0.879 total time=   0.0s\n"
     ]
    },
    {
     "name": "stderr",
     "output_type": "stream",
     "text": [
      "INFO:root:Iteration 92: tested parameters: [10, 5, 2, 5], score: 0.8762555428648213\n"
     ]
    },
    {
     "name": "stdout",
     "output_type": "stream",
     "text": [
      "Fitting 2 folds for each of 1 candidates, totalling 2 fits\n",
      "[CV 1/2] END classifier__max_depth=20, classifier__min_samples_leaf=1, classifier__min_samples_split=16, feature_selection__n_components=5;, score=0.883 total time=   0.1s\n",
      "[CV 2/2] END classifier__max_depth=20, classifier__min_samples_leaf=1, classifier__min_samples_split=16, feature_selection__n_components=5;, score=0.879 total time=   0.0s\n"
     ]
    },
    {
     "name": "stderr",
     "output_type": "stream",
     "text": [
      "INFO:root:Iteration 93: tested parameters: [20, 1, 16, 5], score: 0.8812709957000806\n"
     ]
    },
    {
     "name": "stdout",
     "output_type": "stream",
     "text": [
      "Fitting 2 folds for each of 1 candidates, totalling 2 fits\n",
      "[CV 2/2] END classifier__max_depth=10, classifier__min_samples_leaf=4, classifier__min_samples_split=20, feature_selection__n_components=20;, score=0.915 total time=   0.0s\n",
      "[CV 1/2] END classifier__max_depth=10, classifier__min_samples_leaf=4, classifier__min_samples_split=20, feature_selection__n_components=20;, score=0.872 total time=   0.1s\n"
     ]
    },
    {
     "name": "stderr",
     "output_type": "stream",
     "text": [
      "INFO:root:Iteration 94: tested parameters: [10, 4, 20, 20], score: 0.8932931335662456\n"
     ]
    },
    {
     "name": "stdout",
     "output_type": "stream",
     "text": [
      "Fitting 2 folds for each of 1 candidates, totalling 2 fits\n",
      "[CV 1/2] END classifier__max_depth=None, classifier__min_samples_leaf=10, classifier__min_samples_split=7, feature_selection__n_components=20;, score=0.874 total time=   0.1s\n",
      "[CV 2/2] END classifier__max_depth=None, classifier__min_samples_leaf=10, classifier__min_samples_split=7, feature_selection__n_components=20;, score=0.904 total time=   0.1s\n"
     ]
    },
    {
     "name": "stderr",
     "output_type": "stream",
     "text": [
      "INFO:root:Iteration 95: tested parameters: [None, 10, 7, 20], score: 0.8891082706261758\n"
     ]
    },
    {
     "name": "stdout",
     "output_type": "stream",
     "text": [
      "Fitting 2 folds for each of 1 candidates, totalling 2 fits\n",
      "[CV 2/2] END classifier__max_depth=10, classifier__min_samples_leaf=1, classifier__min_samples_split=15, feature_selection__n_components=20;, score=0.916 total time=   0.0s\n",
      "[CV 1/2] END classifier__max_depth=10, classifier__min_samples_leaf=1, classifier__min_samples_split=15, feature_selection__n_components=20;, score=0.871 total time=   0.1s\n"
     ]
    },
    {
     "name": "stderr",
     "output_type": "stream",
     "text": [
      "INFO:root:Iteration 96: tested parameters: [10, 1, 15, 20], score: 0.8933981120666489\n"
     ]
    },
    {
     "name": "stdout",
     "output_type": "stream",
     "text": [
      "Fitting 2 folds for each of 1 candidates, totalling 2 fits\n",
      "[CV 1/2] END classifier__max_depth=20, classifier__min_samples_leaf=1, classifier__min_samples_split=16, feature_selection__n_components=10;, score=0.879 total time=   0.1s\n",
      "[CV 2/2] END classifier__max_depth=20, classifier__min_samples_leaf=1, classifier__min_samples_split=16, feature_selection__n_components=10;, score=0.887 total time=   0.0s\n"
     ]
    },
    {
     "name": "stderr",
     "output_type": "stream",
     "text": [
      "INFO:root:Iteration 97: tested parameters: [20, 1, 16, 10], score: 0.882870868046224\n"
     ]
    },
    {
     "name": "stdout",
     "output_type": "stream",
     "text": [
      "Fitting 2 folds for each of 1 candidates, totalling 2 fits\n",
      "[CV 1/2] END classifier__max_depth=20, classifier__min_samples_leaf=1, classifier__min_samples_split=18, feature_selection__n_components=20;, score=0.883 total time=   0.1s\n",
      "[CV 2/2] END classifier__max_depth=20, classifier__min_samples_leaf=1, classifier__min_samples_split=18, feature_selection__n_components=20;, score=0.918 total time=   0.1s\n"
     ]
    },
    {
     "name": "stderr",
     "output_type": "stream",
     "text": [
      "INFO:root:Iteration 98: tested parameters: [20, 1, 18, 20], score: 0.9003292125772642\n"
     ]
    },
    {
     "name": "stdout",
     "output_type": "stream",
     "text": [
      "Fitting 2 folds for each of 1 candidates, totalling 2 fits\n",
      "[CV 1/2] END classifier__max_depth=30, classifier__min_samples_leaf=10, classifier__min_samples_split=11, feature_selection__n_components=10;, score=0.875 total time=   0.0s\n",
      "[CV 2/2] END classifier__max_depth=30, classifier__min_samples_leaf=10, classifier__min_samples_split=11, feature_selection__n_components=10;, score=0.898 total time=   0.0s\n"
     ]
    },
    {
     "name": "stderr",
     "output_type": "stream",
     "text": [
      "INFO:root:Iteration 99: tested parameters: [30, 10, 11, 10], score: 0.8863603533996238\n"
     ]
    },
    {
     "name": "stdout",
     "output_type": "stream",
     "text": [
      "Fitting 2 folds for each of 1 candidates, totalling 2 fits\n",
      "[CV 1/2] END classifier__max_depth=None, classifier__min_samples_leaf=10, classifier__min_samples_split=2, feature_selection__n_components=10;, score=0.872 total time=   0.1s\n",
      "[CV 2/2] END classifier__max_depth=None, classifier__min_samples_leaf=10, classifier__min_samples_split=2, feature_selection__n_components=10;, score=0.898 total time=   0.1s\n"
     ]
    },
    {
     "name": "stderr",
     "output_type": "stream",
     "text": [
      "INFO:root:Iteration 100: tested parameters: [None, 10, 2, 10], score: 0.8852593388873958\n",
      "INFO:root:Bayesian optimization results: Best result: 0.9003292125772642, Average cross-validation result: 0.9003292125772642\n",
      "INFO:root:Bayesian Optimization Best Result for Decision Tree with pca: 0.9003292125772642\n"
     ]
    },
    {
     "name": "stdout",
     "output_type": "stream",
     "text": [
      "Bayesian Optimization Best Result for Decision Tree with pca: 0.9003292125772642\n",
      "Modelo: Decision Tree_pca\n",
      "Melhores Hiperparâmetros: {'memory': None, 'steps': [('feature_selection', PCA(n_components=20)), ('classifier', DecisionTreeClassifier(max_depth=20, min_samples_split=18))], 'verbose': False, 'feature_selection': PCA(n_components=20), 'classifier': DecisionTreeClassifier(max_depth=20, min_samples_split=18), 'feature_selection__copy': True, 'feature_selection__iterated_power': 'auto', 'feature_selection__n_components': 20, 'feature_selection__n_oversamples': 10, 'feature_selection__power_iteration_normalizer': 'auto', 'feature_selection__random_state': None, 'feature_selection__svd_solver': 'auto', 'feature_selection__tol': 0.0, 'feature_selection__whiten': False, 'classifier__ccp_alpha': 0.0, 'classifier__class_weight': None, 'classifier__criterion': 'gini', 'classifier__max_depth': 20, 'classifier__max_features': None, 'classifier__max_leaf_nodes': None, 'classifier__min_impurity_decrease': 0.0, 'classifier__min_samples_leaf': 1, 'classifier__min_samples_split': 18, 'classifier__min_weight_fraction_leaf': 0.0, 'classifier__random_state': None, 'classifier__splitter': 'best'}\n",
      "Resultado CV: 0.9003292125772642\n",
      "\n"
     ]
    }
   ],
   "source": [
    "from core.training.skopt_bayesian_optimization_training import SkoptBayesianOptimizationTraining\n",
    "\n",
    "training = SkoptBayesianOptimizationTraining()\n",
    "\n",
    "#### Executar o treinamento\n",
    "trained_models = training.train_model(\n",
    "    X_train=X_train,\n",
    "    y_train=y_train,\n",
    "    selected_models=selected_models,\n",
    "    selected_selectors=selected_selectors,\n",
    "    n_iter=n_iter,\n",
    "    cv=cv,\n",
    "    scoring=scoring_metric,\n",
    "    n_jobs=n_jobs\n",
    ")\n",
    "\n",
    "#### Exemplo de acesso aos modelos treinados\n",
    "for model_key, model_info in trained_models.items():\n",
    "    print(f\"Modelo: {model_key}\")\n",
    "    print(f\"Melhores Hiperparâmetros: {model_info['hyperparameters']}\")\n",
    "    print(f\"Resultado CV: {model_info['cv_result']}\\n\") "
   ]
  },
  {
   "cell_type": "markdown",
   "metadata": {},
   "source": [
    "## Usando Otimização Bayesiana (Optuna)"
   ]
  },
  {
   "cell_type": "code",
   "execution_count": 20,
   "metadata": {},
   "outputs": [
    {
     "name": "stderr",
     "output_type": "stream",
     "text": [
      "2024-10-16 16:13:41,230 | optuna_bayesian_optimization | INFO | Training and evaluating Decision Tree with Optuna Bayesian Optimization and pca\n",
      "INFO:optuna_bayesian_optimization:Training and evaluating Decision Tree with Optuna Bayesian Optimization and pca\n",
      "[I 2024-10-16 16:13:41,232] A new study created in memory with name: no-name-dd04694e-e8b3-4ee6-b91b-9aef55987aea\n"
     ]
    },
    {
     "name": "stdout",
     "output_type": "stream",
     "text": [
      "Training and evaluating Decision Tree with Optuna Bayesian Optimization and pca\n"
     ]
    },
    {
     "name": "stderr",
     "output_type": "stream",
     "text": [
      "DEBUG:optuna_bayesian_optimization:Trial 0: Hyperparameters: {'classifier__max_depth': None, 'classifier__min_samples_split': 15, 'classifier__min_samples_leaf': 3}, Score: 0.8803555831765654\n",
      "[I 2024-10-16 16:13:41,393] Trial 0 finished with value: 0.8803555831765654 and parameters: {'classifier__max_depth': None, 'classifier__min_samples_split': 15, 'classifier__min_samples_leaf': 3}. Best is trial 0 with value: 0.8803555831765654.\n",
      "DEBUG:optuna_bayesian_optimization:Trial 1: Hyperparameters: {'classifier__max_depth': 10, 'classifier__min_samples_split': 2, 'classifier__min_samples_leaf': 4}, Score: 0.879461166353131\n",
      "[I 2024-10-16 16:13:41,486] Trial 1 finished with value: 0.879461166353131 and parameters: {'classifier__max_depth': 10, 'classifier__min_samples_split': 2, 'classifier__min_samples_leaf': 4}. Best is trial 0 with value: 0.8803555831765654.\n",
      "DEBUG:optuna_bayesian_optimization:Trial 2: Hyperparameters: {'classifier__max_depth': 30, 'classifier__min_samples_split': 8, 'classifier__min_samples_leaf': 9}, Score: 0.8798869591507659\n",
      "[I 2024-10-16 16:13:41,591] Trial 2 finished with value: 0.8798869591507659 and parameters: {'classifier__max_depth': 30, 'classifier__min_samples_split': 8, 'classifier__min_samples_leaf': 9}. Best is trial 0 with value: 0.8803555831765654.\n",
      "DEBUG:optuna_bayesian_optimization:Trial 3: Hyperparameters: {'classifier__max_depth': 20, 'classifier__min_samples_split': 19, 'classifier__min_samples_leaf': 3}, Score: 0.8801086737436172\n",
      "[I 2024-10-16 16:13:41,721] Trial 3 finished with value: 0.8801086737436172 and parameters: {'classifier__max_depth': 20, 'classifier__min_samples_split': 19, 'classifier__min_samples_leaf': 3}. Best is trial 0 with value: 0.8803555831765654.\n",
      "DEBUG:optuna_bayesian_optimization:Trial 4: Hyperparameters: {'classifier__max_depth': 20, 'classifier__min_samples_split': 4, 'classifier__min_samples_leaf': 7}, Score: 0.8777621943026068\n",
      "[I 2024-10-16 16:13:41,825] Trial 4 finished with value: 0.8777621943026068 and parameters: {'classifier__max_depth': 20, 'classifier__min_samples_split': 4, 'classifier__min_samples_leaf': 7}. Best is trial 0 with value: 0.8803555831765654.\n",
      "DEBUG:optuna_bayesian_optimization:Trial 5: Hyperparameters: {'classifier__max_depth': 10, 'classifier__min_samples_split': 3, 'classifier__min_samples_leaf': 8}, Score: 0.8791840231120667\n",
      "[I 2024-10-16 16:13:41,927] Trial 5 finished with value: 0.8791840231120667 and parameters: {'classifier__max_depth': 10, 'classifier__min_samples_split': 3, 'classifier__min_samples_leaf': 8}. Best is trial 0 with value: 0.8803555831765654.\n",
      "DEBUG:optuna_bayesian_optimization:Trial 6: Hyperparameters: {'classifier__max_depth': 20, 'classifier__min_samples_split': 8, 'classifier__min_samples_leaf': 1}, Score: 0.8622480515990325\n",
      "[I 2024-10-16 16:13:42,108] Trial 6 finished with value: 0.8622480515990325 and parameters: {'classifier__max_depth': 20, 'classifier__min_samples_split': 8, 'classifier__min_samples_leaf': 1}. Best is trial 0 with value: 0.8803555831765654.\n",
      "DEBUG:optuna_bayesian_optimization:Trial 7: Hyperparameters: {'classifier__max_depth': 20, 'classifier__min_samples_split': 12, 'classifier__min_samples_leaf': 4}, Score: 0.8790336938994894\n",
      "[I 2024-10-16 16:13:42,230] Trial 7 finished with value: 0.8790336938994894 and parameters: {'classifier__max_depth': 20, 'classifier__min_samples_split': 12, 'classifier__min_samples_leaf': 4}. Best is trial 0 with value: 0.8803555831765654.\n",
      "DEBUG:optuna_bayesian_optimization:Trial 8: Hyperparameters: {'classifier__max_depth': 20, 'classifier__min_samples_split': 6, 'classifier__min_samples_leaf': 4}, Score: 0.8811114283794679\n",
      "[I 2024-10-16 16:13:42,375] Trial 8 finished with value: 0.8811114283794679 and parameters: {'classifier__max_depth': 20, 'classifier__min_samples_split': 6, 'classifier__min_samples_leaf': 4}. Best is trial 8 with value: 0.8811114283794679.\n",
      "DEBUG:optuna_bayesian_optimization:Trial 9: Hyperparameters: {'classifier__max_depth': 30, 'classifier__min_samples_split': 16, 'classifier__min_samples_leaf': 1}, Score: 0.876351283257189\n",
      "[I 2024-10-16 16:13:42,495] Trial 9 finished with value: 0.876351283257189 and parameters: {'classifier__max_depth': 30, 'classifier__min_samples_split': 16, 'classifier__min_samples_leaf': 1}. Best is trial 8 with value: 0.8811114283794679.\n",
      "DEBUG:optuna_bayesian_optimization:Trial 10: Hyperparameters: {'classifier__max_depth': 5, 'classifier__min_samples_split': 7, 'classifier__min_samples_leaf': 6}, Score: 0.7997253762429455\n",
      "[I 2024-10-16 16:13:42,602] Trial 10 finished with value: 0.7997253762429455 and parameters: {'classifier__max_depth': 5, 'classifier__min_samples_split': 7, 'classifier__min_samples_leaf': 6}. Best is trial 8 with value: 0.8811114283794679.\n",
      "DEBUG:optuna_bayesian_optimization:Trial 11: Hyperparameters: {'classifier__max_depth': None, 'classifier__min_samples_split': 14, 'classifier__min_samples_leaf': 3}, Score: 0.8814372816447191\n",
      "[I 2024-10-16 16:13:42,729] Trial 11 finished with value: 0.8814372816447191 and parameters: {'classifier__max_depth': None, 'classifier__min_samples_split': 14, 'classifier__min_samples_leaf': 3}. Best is trial 11 with value: 0.8814372816447191.\n",
      "DEBUG:optuna_bayesian_optimization:Trial 12: Hyperparameters: {'classifier__max_depth': 3, 'classifier__min_samples_split': 12, 'classifier__min_samples_leaf': 5}, Score: 0.7188045888202097\n",
      "[I 2024-10-16 16:13:42,879] Trial 12 finished with value: 0.7188045888202097 and parameters: {'classifier__max_depth': 3, 'classifier__min_samples_split': 12, 'classifier__min_samples_leaf': 5}. Best is trial 11 with value: 0.8814372816447191.\n",
      "DEBUG:optuna_bayesian_optimization:Trial 13: Hyperparameters: {'classifier__max_depth': None, 'classifier__min_samples_split': 15, 'classifier__min_samples_leaf': 2}, Score: 0.8856431402848697\n",
      "[I 2024-10-16 16:13:43,093] Trial 13 finished with value: 0.8856431402848697 and parameters: {'classifier__max_depth': None, 'classifier__min_samples_split': 15, 'classifier__min_samples_leaf': 2}. Best is trial 13 with value: 0.8856431402848697.\n",
      "DEBUG:optuna_bayesian_optimization:Trial 14: Hyperparameters: {'classifier__max_depth': None, 'classifier__min_samples_split': 15, 'classifier__min_samples_leaf': 2}, Score: 0.8846126713249127\n",
      "[I 2024-10-16 16:13:43,231] Trial 14 finished with value: 0.8846126713249127 and parameters: {'classifier__max_depth': None, 'classifier__min_samples_split': 15, 'classifier__min_samples_leaf': 2}. Best is trial 13 with value: 0.8856431402848697.\n",
      "DEBUG:optuna_bayesian_optimization:Trial 15: Hyperparameters: {'classifier__max_depth': None, 'classifier__min_samples_split': 20, 'classifier__min_samples_leaf': 1}, Score: 0.8798256517065306\n",
      "[I 2024-10-16 16:13:43,412] Trial 15 finished with value: 0.8798256517065306 and parameters: {'classifier__max_depth': None, 'classifier__min_samples_split': 20, 'classifier__min_samples_leaf': 1}. Best is trial 13 with value: 0.8856431402848697.\n",
      "DEBUG:optuna_bayesian_optimization:Trial 16: Hyperparameters: {'classifier__max_depth': None, 'classifier__min_samples_split': 17, 'classifier__min_samples_leaf': 2}, Score: 0.883698938457404\n",
      "[I 2024-10-16 16:13:43,584] Trial 16 finished with value: 0.883698938457404 and parameters: {'classifier__max_depth': None, 'classifier__min_samples_split': 17, 'classifier__min_samples_leaf': 2}. Best is trial 13 with value: 0.8856431402848697.\n",
      "DEBUG:optuna_bayesian_optimization:Trial 17: Hyperparameters: {'classifier__max_depth': None, 'classifier__min_samples_split': 10, 'classifier__min_samples_leaf': 10}, Score: 0.8791823434560602\n",
      "[I 2024-10-16 16:13:43,820] Trial 17 finished with value: 0.8791823434560602 and parameters: {'classifier__max_depth': None, 'classifier__min_samples_split': 10, 'classifier__min_samples_leaf': 10}. Best is trial 13 with value: 0.8856431402848697.\n",
      "DEBUG:optuna_bayesian_optimization:Trial 18: Hyperparameters: {'classifier__max_depth': 5, 'classifier__min_samples_split': 18, 'classifier__min_samples_leaf': 2}, Score: 0.8043099973125503\n",
      "[I 2024-10-16 16:13:43,969] Trial 18 finished with value: 0.8043099973125503 and parameters: {'classifier__max_depth': 5, 'classifier__min_samples_split': 18, 'classifier__min_samples_leaf': 2}. Best is trial 13 with value: 0.8856431402848697.\n",
      "DEBUG:optuna_bayesian_optimization:Trial 19: Hyperparameters: {'classifier__max_depth': 3, 'classifier__min_samples_split': 14, 'classifier__min_samples_leaf': 6}, Score: 0.719205186777748\n",
      "[I 2024-10-16 16:13:44,120] Trial 19 finished with value: 0.719205186777748 and parameters: {'classifier__max_depth': 3, 'classifier__min_samples_split': 14, 'classifier__min_samples_leaf': 6}. Best is trial 13 with value: 0.8856431402848697.\n",
      "DEBUG:optuna_bayesian_optimization:Trial 20: Hyperparameters: {'classifier__max_depth': None, 'classifier__min_samples_split': 10, 'classifier__min_samples_leaf': 2}, Score: 0.8773599166890622\n",
      "[I 2024-10-16 16:13:44,279] Trial 20 finished with value: 0.8773599166890622 and parameters: {'classifier__max_depth': None, 'classifier__min_samples_split': 10, 'classifier__min_samples_leaf': 2}. Best is trial 13 with value: 0.8856431402848697.\n",
      "DEBUG:optuna_bayesian_optimization:Trial 21: Hyperparameters: {'classifier__max_depth': None, 'classifier__min_samples_split': 17, 'classifier__min_samples_leaf': 2}, Score: 0.8827297769416824\n",
      "[I 2024-10-16 16:13:44,403] Trial 21 finished with value: 0.8827297769416824 and parameters: {'classifier__max_depth': None, 'classifier__min_samples_split': 17, 'classifier__min_samples_leaf': 2}. Best is trial 13 with value: 0.8856431402848697.\n",
      "DEBUG:optuna_bayesian_optimization:Trial 22: Hyperparameters: {'classifier__max_depth': None, 'classifier__min_samples_split': 17, 'classifier__min_samples_leaf': 2}, Score: 0.880425288900833\n",
      "[I 2024-10-16 16:13:44,537] Trial 22 finished with value: 0.880425288900833 and parameters: {'classifier__max_depth': None, 'classifier__min_samples_split': 17, 'classifier__min_samples_leaf': 2}. Best is trial 13 with value: 0.8856431402848697.\n",
      "DEBUG:optuna_bayesian_optimization:Trial 23: Hyperparameters: {'classifier__max_depth': None, 'classifier__min_samples_split': 14, 'classifier__min_samples_leaf': 5}, Score: 0.8806562416017201\n",
      "[I 2024-10-16 16:13:44,732] Trial 23 finished with value: 0.8806562416017201 and parameters: {'classifier__max_depth': None, 'classifier__min_samples_split': 14, 'classifier__min_samples_leaf': 5}. Best is trial 13 with value: 0.8856431402848697.\n",
      "DEBUG:optuna_bayesian_optimization:Trial 24: Hyperparameters: {'classifier__max_depth': None, 'classifier__min_samples_split': 16, 'classifier__min_samples_leaf': 3}, Score: 0.8813600174684224\n",
      "[I 2024-10-16 16:13:44,859] Trial 24 finished with value: 0.8813600174684224 and parameters: {'classifier__max_depth': None, 'classifier__min_samples_split': 16, 'classifier__min_samples_leaf': 3}. Best is trial 13 with value: 0.8856431402848697.\n",
      "DEBUG:optuna_bayesian_optimization:Trial 25: Hyperparameters: {'classifier__max_depth': None, 'classifier__min_samples_split': 12, 'classifier__min_samples_leaf': 1}, Score: 0.8782870868046224\n",
      "[I 2024-10-16 16:13:44,997] Trial 25 finished with value: 0.8782870868046224 and parameters: {'classifier__max_depth': None, 'classifier__min_samples_split': 12, 'classifier__min_samples_leaf': 1}. Best is trial 13 with value: 0.8856431402848697.\n",
      "DEBUG:optuna_bayesian_optimization:Trial 26: Hyperparameters: {'classifier__max_depth': None, 'classifier__min_samples_split': 20, 'classifier__min_samples_leaf': 2}, Score: 0.8818370397742541\n",
      "[I 2024-10-16 16:13:45,124] Trial 26 finished with value: 0.8818370397742541 and parameters: {'classifier__max_depth': None, 'classifier__min_samples_split': 20, 'classifier__min_samples_leaf': 2}. Best is trial 13 with value: 0.8856431402848697.\n",
      "DEBUG:optuna_bayesian_optimization:Trial 27: Hyperparameters: {'classifier__max_depth': 3, 'classifier__min_samples_split': 18, 'classifier__min_samples_leaf': 4}, Score: 0.7150564364418168\n",
      "[I 2024-10-16 16:13:45,249] Trial 27 finished with value: 0.7150564364418168 and parameters: {'classifier__max_depth': 3, 'classifier__min_samples_split': 18, 'classifier__min_samples_leaf': 4}. Best is trial 13 with value: 0.8856431402848697.\n",
      "DEBUG:optuna_bayesian_optimization:Trial 28: Hyperparameters: {'classifier__max_depth': 30, 'classifier__min_samples_split': 15, 'classifier__min_samples_leaf': 3}, Score: 0.8824484345606018\n",
      "[I 2024-10-16 16:13:45,372] Trial 28 finished with value: 0.8824484345606018 and parameters: {'classifier__max_depth': 30, 'classifier__min_samples_split': 15, 'classifier__min_samples_leaf': 3}. Best is trial 13 with value: 0.8856431402848697.\n",
      "DEBUG:optuna_bayesian_optimization:Trial 29: Hyperparameters: {'classifier__max_depth': None, 'classifier__min_samples_split': 13, 'classifier__min_samples_leaf': 3}, Score: 0.881851316850309\n",
      "[I 2024-10-16 16:13:45,514] Trial 29 finished with value: 0.881851316850309 and parameters: {'classifier__max_depth': None, 'classifier__min_samples_split': 13, 'classifier__min_samples_leaf': 3}. Best is trial 13 with value: 0.8856431402848697.\n",
      "DEBUG:optuna_bayesian_optimization:Trial 30: Hyperparameters: {'classifier__max_depth': 5, 'classifier__min_samples_split': 16, 'classifier__min_samples_leaf': 1}, Score: 0.8068152042461705\n",
      "[I 2024-10-16 16:13:45,640] Trial 30 finished with value: 0.8068152042461705 and parameters: {'classifier__max_depth': 5, 'classifier__min_samples_split': 16, 'classifier__min_samples_leaf': 1}. Best is trial 13 with value: 0.8856431402848697.\n",
      "DEBUG:optuna_bayesian_optimization:Trial 31: Hyperparameters: {'classifier__max_depth': None, 'classifier__min_samples_split': 18, 'classifier__min_samples_leaf': 2}, Score: 0.8810912725073905\n",
      "[I 2024-10-16 16:13:45,779] Trial 31 finished with value: 0.8810912725073905 and parameters: {'classifier__max_depth': None, 'classifier__min_samples_split': 18, 'classifier__min_samples_leaf': 2}. Best is trial 13 with value: 0.8856431402848697.\n",
      "DEBUG:optuna_bayesian_optimization:Trial 32: Hyperparameters: {'classifier__max_depth': 10, 'classifier__min_samples_split': 17, 'classifier__min_samples_leaf': 2}, Score: 0.8803900161246977\n",
      "[I 2024-10-16 16:13:45,907] Trial 32 finished with value: 0.8803900161246977 and parameters: {'classifier__max_depth': 10, 'classifier__min_samples_split': 17, 'classifier__min_samples_leaf': 2}. Best is trial 13 with value: 0.8856431402848697.\n",
      "DEBUG:optuna_bayesian_optimization:Trial 33: Hyperparameters: {'classifier__max_depth': None, 'classifier__min_samples_split': 15, 'classifier__min_samples_leaf': 3}, Score: 0.8814574375167965\n",
      "[I 2024-10-16 16:13:46,030] Trial 33 finished with value: 0.8814574375167965 and parameters: {'classifier__max_depth': None, 'classifier__min_samples_split': 15, 'classifier__min_samples_leaf': 3}. Best is trial 13 with value: 0.8856431402848697.\n",
      "DEBUG:optuna_bayesian_optimization:Trial 34: Hyperparameters: {'classifier__max_depth': None, 'classifier__min_samples_split': 17, 'classifier__min_samples_leaf': 2}, Score: 0.8809224670787423\n",
      "[I 2024-10-16 16:13:46,158] Trial 34 finished with value: 0.8809224670787423 and parameters: {'classifier__max_depth': None, 'classifier__min_samples_split': 17, 'classifier__min_samples_leaf': 2}. Best is trial 13 with value: 0.8856431402848697.\n",
      "DEBUG:optuna_bayesian_optimization:Trial 35: Hyperparameters: {'classifier__max_depth': None, 'classifier__min_samples_split': 19, 'classifier__min_samples_leaf': 4}, Score: 0.8779637530233808\n",
      "[I 2024-10-16 16:13:46,297] Trial 35 finished with value: 0.8779637530233808 and parameters: {'classifier__max_depth': None, 'classifier__min_samples_split': 19, 'classifier__min_samples_leaf': 4}. Best is trial 13 with value: 0.8856431402848697.\n",
      "DEBUG:optuna_bayesian_optimization:Trial 36: Hyperparameters: {'classifier__max_depth': 10, 'classifier__min_samples_split': 15, 'classifier__min_samples_leaf': 1}, Score: 0.8821544947594733\n",
      "[I 2024-10-16 16:13:46,447] Trial 36 finished with value: 0.8821544947594733 and parameters: {'classifier__max_depth': 10, 'classifier__min_samples_split': 15, 'classifier__min_samples_leaf': 1}. Best is trial 13 with value: 0.8856431402848697.\n",
      "DEBUG:optuna_bayesian_optimization:Trial 37: Hyperparameters: {'classifier__max_depth': 30, 'classifier__min_samples_split': 19, 'classifier__min_samples_leaf': 5}, Score: 0.8783089223327063\n",
      "[I 2024-10-16 16:13:46,588] Trial 37 finished with value: 0.8783089223327063 and parameters: {'classifier__max_depth': 30, 'classifier__min_samples_split': 19, 'classifier__min_samples_leaf': 5}. Best is trial 13 with value: 0.8856431402848697.\n",
      "DEBUG:optuna_bayesian_optimization:Trial 38: Hyperparameters: {'classifier__max_depth': None, 'classifier__min_samples_split': 16, 'classifier__min_samples_leaf': 7}, Score: 0.8789077196990057\n",
      "[I 2024-10-16 16:13:46,720] Trial 38 finished with value: 0.8789077196990057 and parameters: {'classifier__max_depth': None, 'classifier__min_samples_split': 16, 'classifier__min_samples_leaf': 7}. Best is trial 13 with value: 0.8856431402848697.\n",
      "DEBUG:optuna_bayesian_optimization:Trial 39: Hyperparameters: {'classifier__max_depth': None, 'classifier__min_samples_split': 13, 'classifier__min_samples_leaf': 4}, Score: 0.8784474939532384\n",
      "[I 2024-10-16 16:13:46,893] Trial 39 finished with value: 0.8784474939532384 and parameters: {'classifier__max_depth': None, 'classifier__min_samples_split': 13, 'classifier__min_samples_leaf': 4}. Best is trial 13 with value: 0.8856431402848697.\n",
      "DEBUG:optuna_bayesian_optimization:Trial 40: Hyperparameters: {'classifier__max_depth': 10, 'classifier__min_samples_split': 11, 'classifier__min_samples_leaf': 3}, Score: 0.8835620464928782\n",
      "[I 2024-10-16 16:13:47,098] Trial 40 finished with value: 0.8835620464928782 and parameters: {'classifier__max_depth': 10, 'classifier__min_samples_split': 11, 'classifier__min_samples_leaf': 3}. Best is trial 13 with value: 0.8856431402848697.\n",
      "DEBUG:optuna_bayesian_optimization:Trial 41: Hyperparameters: {'classifier__max_depth': 10, 'classifier__min_samples_split': 10, 'classifier__min_samples_leaf': 2}, Score: 0.8832487906476754\n",
      "[I 2024-10-16 16:13:47,241] Trial 41 finished with value: 0.8832487906476754 and parameters: {'classifier__max_depth': 10, 'classifier__min_samples_split': 10, 'classifier__min_samples_leaf': 2}. Best is trial 13 with value: 0.8856431402848697.\n",
      "DEBUG:optuna_bayesian_optimization:Trial 42: Hyperparameters: {'classifier__max_depth': 10, 'classifier__min_samples_split': 8, 'classifier__min_samples_leaf': 3}, Score: 0.8785113208814834\n",
      "[I 2024-10-16 16:13:47,389] Trial 42 finished with value: 0.8785113208814834 and parameters: {'classifier__max_depth': 10, 'classifier__min_samples_split': 8, 'classifier__min_samples_leaf': 3}. Best is trial 13 with value: 0.8856431402848697.\n",
      "DEBUG:optuna_bayesian_optimization:Trial 43: Hyperparameters: {'classifier__max_depth': 10, 'classifier__min_samples_split': 10, 'classifier__min_samples_leaf': 1}, Score: 0.8821444168234345\n",
      "[I 2024-10-16 16:13:47,547] Trial 43 finished with value: 0.8821444168234345 and parameters: {'classifier__max_depth': 10, 'classifier__min_samples_split': 10, 'classifier__min_samples_leaf': 1}. Best is trial 13 with value: 0.8856431402848697.\n",
      "DEBUG:optuna_bayesian_optimization:Trial 44: Hyperparameters: {'classifier__max_depth': 10, 'classifier__min_samples_split': 9, 'classifier__min_samples_leaf': 2}, Score: 0.8817337409298576\n",
      "[I 2024-10-16 16:13:47,765] Trial 44 finished with value: 0.8817337409298576 and parameters: {'classifier__max_depth': 10, 'classifier__min_samples_split': 9, 'classifier__min_samples_leaf': 2}. Best is trial 13 with value: 0.8856431402848697.\n",
      "DEBUG:optuna_bayesian_optimization:Trial 45: Hyperparameters: {'classifier__max_depth': 10, 'classifier__min_samples_split': 11, 'classifier__min_samples_leaf': 3}, Score: 0.883288262563827\n",
      "[I 2024-10-16 16:13:47,893] Trial 45 finished with value: 0.883288262563827 and parameters: {'classifier__max_depth': 10, 'classifier__min_samples_split': 11, 'classifier__min_samples_leaf': 3}. Best is trial 13 with value: 0.8856431402848697.\n",
      "DEBUG:optuna_bayesian_optimization:Trial 46: Hyperparameters: {'classifier__max_depth': 10, 'classifier__min_samples_split': 13, 'classifier__min_samples_leaf': 4}, Score: 0.8808846748185972\n",
      "[I 2024-10-16 16:13:48,036] Trial 46 finished with value: 0.8808846748185972 and parameters: {'classifier__max_depth': 10, 'classifier__min_samples_split': 13, 'classifier__min_samples_leaf': 4}. Best is trial 13 with value: 0.8856431402848697.\n",
      "DEBUG:optuna_bayesian_optimization:Trial 47: Hyperparameters: {'classifier__max_depth': 20, 'classifier__min_samples_split': 11, 'classifier__min_samples_leaf': 3}, Score: 0.8786557712980381\n",
      "[I 2024-10-16 16:13:48,172] Trial 47 finished with value: 0.8786557712980381 and parameters: {'classifier__max_depth': 20, 'classifier__min_samples_split': 11, 'classifier__min_samples_leaf': 3}. Best is trial 13 with value: 0.8856431402848697.\n",
      "DEBUG:optuna_bayesian_optimization:Trial 48: Hyperparameters: {'classifier__max_depth': 10, 'classifier__min_samples_split': 11, 'classifier__min_samples_leaf': 3}, Score: 0.8840760212308518\n",
      "[I 2024-10-16 16:13:48,311] Trial 48 finished with value: 0.8840760212308518 and parameters: {'classifier__max_depth': 10, 'classifier__min_samples_split': 11, 'classifier__min_samples_leaf': 3}. Best is trial 13 with value: 0.8856431402848697.\n",
      "DEBUG:optuna_bayesian_optimization:Trial 49: Hyperparameters: {'classifier__max_depth': 5, 'classifier__min_samples_split': 5, 'classifier__min_samples_leaf': 1}, Score: 0.8082387127116366\n",
      "[I 2024-10-16 16:13:48,500] Trial 49 finished with value: 0.8082387127116366 and parameters: {'classifier__max_depth': 5, 'classifier__min_samples_split': 5, 'classifier__min_samples_leaf': 1}. Best is trial 13 with value: 0.8856431402848697.\n",
      "DEBUG:optuna_bayesian_optimization:Trial 50: Hyperparameters: {'classifier__max_depth': 10, 'classifier__min_samples_split': 12, 'classifier__min_samples_leaf': 5}, Score: 0.8758053950550927\n",
      "[I 2024-10-16 16:13:48,651] Trial 50 finished with value: 0.8758053950550927 and parameters: {'classifier__max_depth': 10, 'classifier__min_samples_split': 12, 'classifier__min_samples_leaf': 5}. Best is trial 13 with value: 0.8856431402848697.\n",
      "DEBUG:optuna_bayesian_optimization:Trial 51: Hyperparameters: {'classifier__max_depth': 10, 'classifier__min_samples_split': 11, 'classifier__min_samples_leaf': 3}, Score: 0.8839105751142164\n",
      "[I 2024-10-16 16:13:48,811] Trial 51 finished with value: 0.8839105751142164 and parameters: {'classifier__max_depth': 10, 'classifier__min_samples_split': 11, 'classifier__min_samples_leaf': 3}. Best is trial 13 with value: 0.8856431402848697.\n",
      "DEBUG:optuna_bayesian_optimization:Trial 52: Hyperparameters: {'classifier__max_depth': 10, 'classifier__min_samples_split': 11, 'classifier__min_samples_leaf': 3}, Score: 0.883228634775598\n",
      "[I 2024-10-16 16:13:48,957] Trial 52 finished with value: 0.883228634775598 and parameters: {'classifier__max_depth': 10, 'classifier__min_samples_split': 11, 'classifier__min_samples_leaf': 3}. Best is trial 13 with value: 0.8856431402848697.\n",
      "DEBUG:optuna_bayesian_optimization:Trial 53: Hyperparameters: {'classifier__max_depth': 10, 'classifier__min_samples_split': 9, 'classifier__min_samples_leaf': 4}, Score: 0.8832042797635045\n",
      "[I 2024-10-16 16:13:49,134] Trial 53 finished with value: 0.8832042797635045 and parameters: {'classifier__max_depth': 10, 'classifier__min_samples_split': 9, 'classifier__min_samples_leaf': 4}. Best is trial 13 with value: 0.8856431402848697.\n",
      "DEBUG:optuna_bayesian_optimization:Trial 54: Hyperparameters: {'classifier__max_depth': 3, 'classifier__min_samples_split': 14, 'classifier__min_samples_leaf': 8}, Score: 0.7185585192152648\n",
      "[I 2024-10-16 16:13:49,303] Trial 54 finished with value: 0.7185585192152648 and parameters: {'classifier__max_depth': 3, 'classifier__min_samples_split': 14, 'classifier__min_samples_leaf': 8}. Best is trial 13 with value: 0.8856431402848697.\n",
      "DEBUG:optuna_bayesian_optimization:Trial 55: Hyperparameters: {'classifier__max_depth': 20, 'classifier__min_samples_split': 9, 'classifier__min_samples_leaf': 2}, Score: 0.8717708613276002\n",
      "[I 2024-10-16 16:13:49,477] Trial 55 finished with value: 0.8717708613276002 and parameters: {'classifier__max_depth': 20, 'classifier__min_samples_split': 9, 'classifier__min_samples_leaf': 2}. Best is trial 13 with value: 0.8856431402848697.\n",
      "DEBUG:optuna_bayesian_optimization:Trial 56: Hyperparameters: {'classifier__max_depth': 30, 'classifier__min_samples_split': 13, 'classifier__min_samples_leaf': 3}, Score: 0.8815951693093256\n",
      "[I 2024-10-16 16:13:49,611] Trial 56 finished with value: 0.8815951693093256 and parameters: {'classifier__max_depth': 30, 'classifier__min_samples_split': 13, 'classifier__min_samples_leaf': 3}. Best is trial 13 with value: 0.8856431402848697.\n",
      "DEBUG:optuna_bayesian_optimization:Trial 57: Hyperparameters: {'classifier__max_depth': 10, 'classifier__min_samples_split': 2, 'classifier__min_samples_leaf': 4}, Score: 0.8791008801397475\n",
      "[I 2024-10-16 16:13:49,798] Trial 57 finished with value: 0.8791008801397475 and parameters: {'classifier__max_depth': 10, 'classifier__min_samples_split': 2, 'classifier__min_samples_leaf': 4}. Best is trial 13 with value: 0.8856431402848697.\n",
      "DEBUG:optuna_bayesian_optimization:Trial 58: Hyperparameters: {'classifier__max_depth': 10, 'classifier__min_samples_split': 12, 'classifier__min_samples_leaf': 1}, Score: 0.8808334453104005\n",
      "[I 2024-10-16 16:13:49,949] Trial 58 finished with value: 0.8808334453104005 and parameters: {'classifier__max_depth': 10, 'classifier__min_samples_split': 12, 'classifier__min_samples_leaf': 1}. Best is trial 13 with value: 0.8856431402848697.\n",
      "DEBUG:optuna_bayesian_optimization:Trial 59: Hyperparameters: {'classifier__max_depth': 3, 'classifier__min_samples_split': 7, 'classifier__min_samples_leaf': 2}, Score: 0.7209175960763236\n",
      "[I 2024-10-16 16:13:50,105] Trial 59 finished with value: 0.7209175960763236 and parameters: {'classifier__max_depth': 3, 'classifier__min_samples_split': 7, 'classifier__min_samples_leaf': 2}. Best is trial 13 with value: 0.8856431402848697.\n",
      "DEBUG:optuna_bayesian_optimization:Trial 60: Hyperparameters: {'classifier__max_depth': 5, 'classifier__min_samples_split': 14, 'classifier__min_samples_leaf': 6}, Score: 0.8003460091373287\n",
      "[I 2024-10-16 16:13:50,238] Trial 60 finished with value: 0.8003460091373287 and parameters: {'classifier__max_depth': 5, 'classifier__min_samples_split': 14, 'classifier__min_samples_leaf': 6}. Best is trial 13 with value: 0.8856431402848697.\n",
      "DEBUG:optuna_bayesian_optimization:Trial 61: Hyperparameters: {'classifier__max_depth': 10, 'classifier__min_samples_split': 11, 'classifier__min_samples_leaf': 3}, Score: 0.8827079414135985\n",
      "[I 2024-10-16 16:13:50,379] Trial 61 finished with value: 0.8827079414135985 and parameters: {'classifier__max_depth': 10, 'classifier__min_samples_split': 11, 'classifier__min_samples_leaf': 3}. Best is trial 13 with value: 0.8856431402848697.\n",
      "DEBUG:optuna_bayesian_optimization:Trial 62: Hyperparameters: {'classifier__max_depth': 10, 'classifier__min_samples_split': 11, 'classifier__min_samples_leaf': 3}, Score: 0.8834721848965332\n",
      "[I 2024-10-16 16:13:50,684] Trial 62 finished with value: 0.8834721848965332 and parameters: {'classifier__max_depth': 10, 'classifier__min_samples_split': 11, 'classifier__min_samples_leaf': 3}. Best is trial 13 with value: 0.8856431402848697.\n",
      "DEBUG:optuna_bayesian_optimization:Trial 63: Hyperparameters: {'classifier__max_depth': 10, 'classifier__min_samples_split': 11, 'classifier__min_samples_leaf': 2}, Score: 0.8856817723730182\n",
      "[I 2024-10-16 16:13:50,848] Trial 63 finished with value: 0.8856817723730182 and parameters: {'classifier__max_depth': 10, 'classifier__min_samples_split': 11, 'classifier__min_samples_leaf': 2}. Best is trial 63 with value: 0.8856817723730182.\n",
      "DEBUG:optuna_bayesian_optimization:Trial 64: Hyperparameters: {'classifier__max_depth': 10, 'classifier__min_samples_split': 10, 'classifier__min_samples_leaf': 2}, Score: 0.8829002620263371\n",
      "[I 2024-10-16 16:13:51,014] Trial 64 finished with value: 0.8829002620263371 and parameters: {'classifier__max_depth': 10, 'classifier__min_samples_split': 10, 'classifier__min_samples_leaf': 2}. Best is trial 63 with value: 0.8856817723730182.\n",
      "DEBUG:optuna_bayesian_optimization:Trial 65: Hyperparameters: {'classifier__max_depth': None, 'classifier__min_samples_split': 12, 'classifier__min_samples_leaf': 2}, Score: 0.8781829481322225\n",
      "[I 2024-10-16 16:13:51,161] Trial 65 finished with value: 0.8781829481322225 and parameters: {'classifier__max_depth': None, 'classifier__min_samples_split': 12, 'classifier__min_samples_leaf': 2}. Best is trial 63 with value: 0.8856817723730182.\n",
      "DEBUG:optuna_bayesian_optimization:Trial 66: Hyperparameters: {'classifier__max_depth': 20, 'classifier__min_samples_split': 8, 'classifier__min_samples_leaf': 1}, Score: 0.8639327465735018\n",
      "[I 2024-10-16 16:13:51,332] Trial 66 finished with value: 0.8639327465735018 and parameters: {'classifier__max_depth': 20, 'classifier__min_samples_split': 8, 'classifier__min_samples_leaf': 1}. Best is trial 63 with value: 0.8856817723730182.\n",
      "DEBUG:optuna_bayesian_optimization:Trial 67: Hyperparameters: {'classifier__max_depth': None, 'classifier__min_samples_split': 13, 'classifier__min_samples_leaf': 1}, Score: 0.8753275329212578\n",
      "[I 2024-10-16 16:13:51,452] Trial 67 finished with value: 0.8753275329212578 and parameters: {'classifier__max_depth': None, 'classifier__min_samples_split': 13, 'classifier__min_samples_leaf': 1}. Best is trial 63 with value: 0.8856817723730182.\n",
      "DEBUG:optuna_bayesian_optimization:Trial 68: Hyperparameters: {'classifier__max_depth': 10, 'classifier__min_samples_split': 14, 'classifier__min_samples_leaf': 2}, Score: 0.8821654125235152\n",
      "[I 2024-10-16 16:13:51,595] Trial 68 finished with value: 0.8821654125235152 and parameters: {'classifier__max_depth': 10, 'classifier__min_samples_split': 14, 'classifier__min_samples_leaf': 2}. Best is trial 63 with value: 0.8856817723730182.\n",
      "DEBUG:optuna_bayesian_optimization:Trial 69: Hyperparameters: {'classifier__max_depth': 30, 'classifier__min_samples_split': 10, 'classifier__min_samples_leaf': 3}, Score: 0.8795636253695244\n",
      "[I 2024-10-16 16:13:51,721] Trial 69 finished with value: 0.8795636253695244 and parameters: {'classifier__max_depth': 30, 'classifier__min_samples_split': 10, 'classifier__min_samples_leaf': 3}. Best is trial 63 with value: 0.8856817723730182.\n",
      "DEBUG:optuna_bayesian_optimization:Trial 70: Hyperparameters: {'classifier__max_depth': None, 'classifier__min_samples_split': 15, 'classifier__min_samples_leaf': 2}, Score: 0.8864376175759205\n",
      "[I 2024-10-16 16:13:51,858] Trial 70 finished with value: 0.8864376175759205 and parameters: {'classifier__max_depth': None, 'classifier__min_samples_split': 15, 'classifier__min_samples_leaf': 2}. Best is trial 70 with value: 0.8864376175759205.\n",
      "DEBUG:optuna_bayesian_optimization:Trial 71: Hyperparameters: {'classifier__max_depth': None, 'classifier__min_samples_split': 16, 'classifier__min_samples_leaf': 10}, Score: 0.8802472453641494\n",
      "[I 2024-10-16 16:13:51,990] Trial 71 finished with value: 0.8802472453641494 and parameters: {'classifier__max_depth': None, 'classifier__min_samples_split': 16, 'classifier__min_samples_leaf': 10}. Best is trial 70 with value: 0.8864376175759205.\n",
      "DEBUG:optuna_bayesian_optimization:Trial 72: Hyperparameters: {'classifier__max_depth': None, 'classifier__min_samples_split': 17, 'classifier__min_samples_leaf': 2}, Score: 0.8823484950282182\n",
      "[I 2024-10-16 16:13:52,131] Trial 72 finished with value: 0.8823484950282182 and parameters: {'classifier__max_depth': None, 'classifier__min_samples_split': 17, 'classifier__min_samples_leaf': 2}. Best is trial 70 with value: 0.8864376175759205.\n",
      "DEBUG:optuna_bayesian_optimization:Trial 73: Hyperparameters: {'classifier__max_depth': None, 'classifier__min_samples_split': 15, 'classifier__min_samples_leaf': 3}, Score: 0.8827255778016663\n",
      "[I 2024-10-16 16:13:52,279] Trial 73 finished with value: 0.8827255778016663 and parameters: {'classifier__max_depth': None, 'classifier__min_samples_split': 15, 'classifier__min_samples_leaf': 3}. Best is trial 70 with value: 0.8864376175759205.\n",
      "DEBUG:optuna_bayesian_optimization:Trial 74: Hyperparameters: {'classifier__max_depth': None, 'classifier__min_samples_split': 18, 'classifier__min_samples_leaf': 2}, Score: 0.8824324778285406\n",
      "[I 2024-10-16 16:13:52,418] Trial 74 finished with value: 0.8824324778285406 and parameters: {'classifier__max_depth': None, 'classifier__min_samples_split': 18, 'classifier__min_samples_leaf': 2}. Best is trial 70 with value: 0.8864376175759205.\n",
      "DEBUG:optuna_bayesian_optimization:Trial 75: Hyperparameters: {'classifier__max_depth': None, 'classifier__min_samples_split': 12, 'classifier__min_samples_leaf': 2}, Score: 0.8792083781241603\n",
      "[I 2024-10-16 16:13:52,564] Trial 75 finished with value: 0.8792083781241603 and parameters: {'classifier__max_depth': None, 'classifier__min_samples_split': 12, 'classifier__min_samples_leaf': 2}. Best is trial 70 with value: 0.8864376175759205.\n",
      "DEBUG:optuna_bayesian_optimization:Trial 76: Hyperparameters: {'classifier__max_depth': 10, 'classifier__min_samples_split': 15, 'classifier__min_samples_leaf': 1}, Score: 0.8817925288900834\n",
      "[I 2024-10-16 16:13:52,696] Trial 76 finished with value: 0.8817925288900834 and parameters: {'classifier__max_depth': 10, 'classifier__min_samples_split': 15, 'classifier__min_samples_leaf': 1}. Best is trial 70 with value: 0.8864376175759205.\n",
      "DEBUG:optuna_bayesian_optimization:Trial 77: Hyperparameters: {'classifier__max_depth': None, 'classifier__min_samples_split': 9, 'classifier__min_samples_leaf': 2}, Score: 0.8705304353668368\n",
      "[I 2024-10-16 16:13:52,844] Trial 77 finished with value: 0.8705304353668368 and parameters: {'classifier__max_depth': None, 'classifier__min_samples_split': 9, 'classifier__min_samples_leaf': 2}. Best is trial 70 with value: 0.8864376175759205.\n",
      "DEBUG:optuna_bayesian_optimization:Trial 78: Hyperparameters: {'classifier__max_depth': 10, 'classifier__min_samples_split': 11, 'classifier__min_samples_leaf': 3}, Score: 0.8835057780166622\n",
      "[I 2024-10-16 16:13:52,985] Trial 78 finished with value: 0.8835057780166622 and parameters: {'classifier__max_depth': 10, 'classifier__min_samples_split': 11, 'classifier__min_samples_leaf': 3}. Best is trial 70 with value: 0.8864376175759205.\n",
      "DEBUG:optuna_bayesian_optimization:Trial 79: Hyperparameters: {'classifier__max_depth': 5, 'classifier__min_samples_split': 12, 'classifier__min_samples_leaf': 4}, Score: 0.8060778352593388\n",
      "[I 2024-10-16 16:13:53,112] Trial 79 finished with value: 0.8060778352593388 and parameters: {'classifier__max_depth': 5, 'classifier__min_samples_split': 12, 'classifier__min_samples_leaf': 4}. Best is trial 70 with value: 0.8864376175759205.\n",
      "DEBUG:optuna_bayesian_optimization:Trial 80: Hyperparameters: {'classifier__max_depth': None, 'classifier__min_samples_split': 13, 'classifier__min_samples_leaf': 2}, Score: 0.8833134574039236\n",
      "[I 2024-10-16 16:13:53,247] Trial 80 finished with value: 0.8833134574039236 and parameters: {'classifier__max_depth': None, 'classifier__min_samples_split': 13, 'classifier__min_samples_leaf': 2}. Best is trial 70 with value: 0.8864376175759205.\n",
      "DEBUG:optuna_bayesian_optimization:Trial 81: Hyperparameters: {'classifier__max_depth': 10, 'classifier__min_samples_split': 11, 'classifier__min_samples_leaf': 3}, Score: 0.8817051867777479\n",
      "[I 2024-10-16 16:13:53,393] Trial 81 finished with value: 0.8817051867777479 and parameters: {'classifier__max_depth': 10, 'classifier__min_samples_split': 11, 'classifier__min_samples_leaf': 3}. Best is trial 70 with value: 0.8864376175759205.\n",
      "DEBUG:optuna_bayesian_optimization:Trial 82: Hyperparameters: {'classifier__max_depth': 10, 'classifier__min_samples_split': 16, 'classifier__min_samples_leaf': 3}, Score: 0.8819697325987637\n",
      "[I 2024-10-16 16:13:53,525] Trial 82 finished with value: 0.8819697325987637 and parameters: {'classifier__max_depth': 10, 'classifier__min_samples_split': 16, 'classifier__min_samples_leaf': 3}. Best is trial 70 with value: 0.8864376175759205.\n",
      "DEBUG:optuna_bayesian_optimization:Trial 83: Hyperparameters: {'classifier__max_depth': 10, 'classifier__min_samples_split': 12, 'classifier__min_samples_leaf': 3}, Score: 0.8818907887664607\n",
      "[I 2024-10-16 16:13:53,744] Trial 83 finished with value: 0.8818907887664607 and parameters: {'classifier__max_depth': 10, 'classifier__min_samples_split': 12, 'classifier__min_samples_leaf': 3}. Best is trial 70 with value: 0.8864376175759205.\n",
      "DEBUG:optuna_bayesian_optimization:Trial 84: Hyperparameters: {'classifier__max_depth': 10, 'classifier__min_samples_split': 10, 'classifier__min_samples_leaf': 2}, Score: 0.8818236025262027\n",
      "[I 2024-10-16 16:13:53,884] Trial 84 finished with value: 0.8818236025262027 and parameters: {'classifier__max_depth': 10, 'classifier__min_samples_split': 10, 'classifier__min_samples_leaf': 2}. Best is trial 70 with value: 0.8864376175759205.\n",
      "DEBUG:optuna_bayesian_optimization:Trial 85: Hyperparameters: {'classifier__max_depth': 3, 'classifier__min_samples_split': 11, 'classifier__min_samples_leaf': 4}, Score: 0.7209175960763236\n",
      "[I 2024-10-16 16:13:54,011] Trial 85 finished with value: 0.7209175960763236 and parameters: {'classifier__max_depth': 3, 'classifier__min_samples_split': 11, 'classifier__min_samples_leaf': 4}. Best is trial 70 with value: 0.8864376175759205.\n",
      "DEBUG:optuna_bayesian_optimization:Trial 86: Hyperparameters: {'classifier__max_depth': 10, 'classifier__min_samples_split': 13, 'classifier__min_samples_leaf': 3}, Score: 0.8825861663531309\n",
      "[I 2024-10-16 16:13:54,146] Trial 86 finished with value: 0.8825861663531309 and parameters: {'classifier__max_depth': 10, 'classifier__min_samples_split': 13, 'classifier__min_samples_leaf': 3}. Best is trial 70 with value: 0.8864376175759205.\n",
      "DEBUG:optuna_bayesian_optimization:Trial 87: Hyperparameters: {'classifier__max_depth': None, 'classifier__min_samples_split': 15, 'classifier__min_samples_leaf': 2}, Score: 0.8837678043536683\n",
      "[I 2024-10-16 16:13:54,353] Trial 87 finished with value: 0.8837678043536683 and parameters: {'classifier__max_depth': None, 'classifier__min_samples_split': 15, 'classifier__min_samples_leaf': 2}. Best is trial 70 with value: 0.8864376175759205.\n",
      "DEBUG:optuna_bayesian_optimization:Trial 88: Hyperparameters: {'classifier__max_depth': None, 'classifier__min_samples_split': 15, 'classifier__min_samples_leaf': 1}, Score: 0.8817270223058318\n",
      "[I 2024-10-16 16:13:54,488] Trial 88 finished with value: 0.8817270223058318 and parameters: {'classifier__max_depth': None, 'classifier__min_samples_split': 15, 'classifier__min_samples_leaf': 1}. Best is trial 70 with value: 0.8864376175759205.\n",
      "DEBUG:optuna_bayesian_optimization:Trial 89: Hyperparameters: {'classifier__max_depth': None, 'classifier__min_samples_split': 14, 'classifier__min_samples_leaf': 2}, Score: 0.884722688793335\n",
      "[I 2024-10-16 16:13:54,616] Trial 89 finished with value: 0.884722688793335 and parameters: {'classifier__max_depth': None, 'classifier__min_samples_split': 14, 'classifier__min_samples_leaf': 2}. Best is trial 70 with value: 0.8864376175759205.\n",
      "DEBUG:optuna_bayesian_optimization:Trial 90: Hyperparameters: {'classifier__max_depth': None, 'classifier__min_samples_split': 14, 'classifier__min_samples_leaf': 2}, Score: 0.886141158290782\n",
      "[I 2024-10-16 16:13:54,746] Trial 90 finished with value: 0.886141158290782 and parameters: {'classifier__max_depth': None, 'classifier__min_samples_split': 14, 'classifier__min_samples_leaf': 2}. Best is trial 70 with value: 0.8864376175759205.\n",
      "DEBUG:optuna_bayesian_optimization:Trial 91: Hyperparameters: {'classifier__max_depth': None, 'classifier__min_samples_split': 14, 'classifier__min_samples_leaf': 2}, Score: 0.884673978769148\n",
      "[I 2024-10-16 16:13:54,877] Trial 91 finished with value: 0.884673978769148 and parameters: {'classifier__max_depth': None, 'classifier__min_samples_split': 14, 'classifier__min_samples_leaf': 2}. Best is trial 70 with value: 0.8864376175759205.\n",
      "DEBUG:optuna_bayesian_optimization:Trial 92: Hyperparameters: {'classifier__max_depth': None, 'classifier__min_samples_split': 15, 'classifier__min_samples_leaf': 2}, Score: 0.883717414673475\n",
      "[I 2024-10-16 16:13:55,035] Trial 92 finished with value: 0.883717414673475 and parameters: {'classifier__max_depth': None, 'classifier__min_samples_split': 15, 'classifier__min_samples_leaf': 2}. Best is trial 70 with value: 0.8864376175759205.\n",
      "DEBUG:optuna_bayesian_optimization:Trial 93: Hyperparameters: {'classifier__max_depth': None, 'classifier__min_samples_split': 14, 'classifier__min_samples_leaf': 2}, Score: 0.8838795014780974\n",
      "[I 2024-10-16 16:13:55,165] Trial 93 finished with value: 0.8838795014780974 and parameters: {'classifier__max_depth': None, 'classifier__min_samples_split': 14, 'classifier__min_samples_leaf': 2}. Best is trial 70 with value: 0.8864376175759205.\n",
      "DEBUG:optuna_bayesian_optimization:Trial 94: Hyperparameters: {'classifier__max_depth': None, 'classifier__min_samples_split': 14, 'classifier__min_samples_leaf': 1}, Score: 0.8764906947057243\n",
      "[I 2024-10-16 16:13:55,297] Trial 94 finished with value: 0.8764906947057243 and parameters: {'classifier__max_depth': None, 'classifier__min_samples_split': 14, 'classifier__min_samples_leaf': 1}. Best is trial 70 with value: 0.8864376175759205.\n",
      "DEBUG:optuna_bayesian_optimization:Trial 95: Hyperparameters: {'classifier__max_depth': None, 'classifier__min_samples_split': 14, 'classifier__min_samples_leaf': 2}, Score: 0.8826550322493953\n",
      "[I 2024-10-16 16:13:55,440] Trial 95 finished with value: 0.8826550322493953 and parameters: {'classifier__max_depth': None, 'classifier__min_samples_split': 14, 'classifier__min_samples_leaf': 2}. Best is trial 70 with value: 0.8864376175759205.\n",
      "DEBUG:optuna_bayesian_optimization:Trial 96: Hyperparameters: {'classifier__max_depth': None, 'classifier__min_samples_split': 14, 'classifier__min_samples_leaf': 1}, Score: 0.8806554017737167\n",
      "[I 2024-10-16 16:13:55,579] Trial 96 finished with value: 0.8806554017737167 and parameters: {'classifier__max_depth': None, 'classifier__min_samples_split': 14, 'classifier__min_samples_leaf': 1}. Best is trial 70 with value: 0.8864376175759205.\n",
      "DEBUG:optuna_bayesian_optimization:Trial 97: Hyperparameters: {'classifier__max_depth': None, 'classifier__min_samples_split': 16, 'classifier__min_samples_leaf': 2}, Score: 0.8810064498790648\n",
      "[I 2024-10-16 16:13:55,714] Trial 97 finished with value: 0.8810064498790648 and parameters: {'classifier__max_depth': None, 'classifier__min_samples_split': 16, 'classifier__min_samples_leaf': 2}. Best is trial 70 with value: 0.8864376175759205.\n",
      "DEBUG:optuna_bayesian_optimization:Trial 98: Hyperparameters: {'classifier__max_depth': None, 'classifier__min_samples_split': 14, 'classifier__min_samples_leaf': 1}, Score: 0.877139041924214\n",
      "[I 2024-10-16 16:13:55,840] Trial 98 finished with value: 0.877139041924214 and parameters: {'classifier__max_depth': None, 'classifier__min_samples_split': 14, 'classifier__min_samples_leaf': 1}. Best is trial 70 with value: 0.8864376175759205.\n",
      "DEBUG:optuna_bayesian_optimization:Trial 99: Hyperparameters: {'classifier__max_depth': None, 'classifier__min_samples_split': 13, 'classifier__min_samples_leaf': 2}, Score: 0.8797651840902982\n",
      "[I 2024-10-16 16:13:55,958] Trial 99 finished with value: 0.8797651840902982 and parameters: {'classifier__max_depth': None, 'classifier__min_samples_split': 13, 'classifier__min_samples_leaf': 2}. Best is trial 70 with value: 0.8864376175759205.\n",
      "2024-10-16 16:13:55,958 | optuna_bayesian_optimization | INFO | Optuna Optimization completed in 14.73 seconds\n",
      "INFO:optuna_bayesian_optimization:Optuna Optimization completed in 14.73 seconds\n",
      "2024-10-16 16:13:55,959 | optuna_bayesian_optimization | INFO | Number of trials: 100\n",
      "INFO:optuna_bayesian_optimization:Number of trials: 100\n",
      "2024-10-16 16:13:55,961 | optuna_bayesian_optimization | INFO | Best trial index: 70\n",
      "INFO:optuna_bayesian_optimization:Best trial index: 70\n",
      "2024-10-16 16:13:55,962 | optuna_bayesian_optimization | INFO | Best score: 0.8864376175759205\n",
      "INFO:optuna_bayesian_optimization:Best score: 0.8864376175759205\n",
      "2024-10-16 16:13:55,964 | optuna_bayesian_optimization | INFO | Best hyperparameters: {'classifier__max_depth': None, 'classifier__min_samples_split': 15, 'classifier__min_samples_leaf': 2}\n",
      "INFO:optuna_bayesian_optimization:Best hyperparameters: {'classifier__max_depth': None, 'classifier__min_samples_split': 15, 'classifier__min_samples_leaf': 2}\n"
     ]
    },
    {
     "name": "stdout",
     "output_type": "stream",
     "text": [
      "---Optuna Bayesian Optimization---\n",
      "Total time: 14.73 seconds\n",
      "Number of trials: 100\n",
      "Best trial index: 70\n",
      "Best score: 0.8864376175759205\n",
      "Best hyperparameters: {'classifier__max_depth': None, 'classifier__min_samples_split': 15, 'classifier__min_samples_leaf': 2}\n"
     ]
    },
    {
     "name": "stderr",
     "output_type": "stream",
     "text": [
      "2024-10-16 16:13:56,417 | optuna_bayesian_optimization | INFO | Optuna Optimization Best Result for Decision Tree with pca: 0.8864376175759205\n",
      "INFO:optuna_bayesian_optimization:Optuna Optimization Best Result for Decision Tree with pca: 0.8864376175759205\n"
     ]
    },
    {
     "name": "stdout",
     "output_type": "stream",
     "text": [
      "Optuna Optimization Best Result for Decision Tree with pca: 0.8864376175759205\n",
      "Modelo: Decision Tree_pca\n",
      "Melhores Hiperparâmetros: {'classifier__max_depth': None, 'classifier__min_samples_split': 15, 'classifier__min_samples_leaf': 2}\n",
      "Resultado CV: 0.8864376175759205\n",
      "\n"
     ]
    }
   ],
   "source": [
    "# Importação da nova classe OptunaBayesianOptimizationTraining\n",
    "from core.training.optuna_bayesian_optimization_training import OptunaBayesianOptimizationTraining\n",
    "\n",
    "# Configurações de validação cruzada e otimização\n",
    "cv = 2  # Número de folds na validação cruzada\n",
    "n_iter = 100  # Número de iterações/trials para otimização\n",
    "n_jobs = 4  # Número de processadores a serem utilizados na execução: -1 para usar todos os processadores\n",
    "\n",
    "# Escolha da métrica de avaliação\n",
    "scoring_metric = 'roc_auc_ovr'  # Possíveis valores: 'f1_macro', 'balanced_accuracy', 'roc_auc_ovr', etc.\n",
    "\n",
    "# Instanciação da classe de treinamento com Otimização Bayesiana via Optuna\n",
    "training = OptunaBayesianOptimizationTraining()\n",
    "\n",
    "# Definir quais modelos e seletores utilizar\n",
    "selected_models = ['Decision Tree']  # Exemplos: ['Random Forest', 'SVM', 'XGBoost']\n",
    "selected_selectors = ['pca']  # Exemplos: ['pca', 'selectkbest']\n",
    "\n",
    "# Executar o treinamento\n",
    "trained_models = training.train_model(\n",
    "    X_train=X_train,\n",
    "    y_train=y_train,\n",
    "    selected_models=selected_models,\n",
    "    selected_selectors=selected_selectors,\n",
    "    n_iter=n_iter,  # Será mapeado para n_trials na classe OptunaBayesianOptimizationTraining\n",
    "    cv=cv,\n",
    "    scoring=scoring_metric,\n",
    "    n_jobs=n_jobs\n",
    ")\n",
    "\n",
    "# Exemplo de acesso aos modelos treinados\n",
    "for model_key, model_info in trained_models.items():\n",
    "    print(f\"Modelo: {model_key}\")\n",
    "    print(f\"Melhores Hiperparâmetros: {model_info['hyperparameters']}\")\n",
    "    print(f\"Resultado CV: {model_info['cv_result']}\\n\")\n"
   ]
  },
  {
   "cell_type": "markdown",
   "metadata": {},
   "source": [
    "# Avaliação dos Modelos"
   ]
  },
  {
   "cell_type": "code",
   "execution_count": 21,
   "metadata": {},
   "outputs": [
    {
     "name": "stderr",
     "output_type": "stream",
     "text": [
      "/opt/anaconda3/envs/projetos_ML/lib/python3.11/site-packages/sklearn/base.py:450: UserWarning: X does not have valid feature names, but PCA was fitted with feature names\n",
      "  warnings.warn(\n",
      "/opt/anaconda3/envs/projetos_ML/lib/python3.11/site-packages/sklearn/base.py:450: UserWarning: X does not have valid feature names, but PCA was fitted with feature names\n",
      "  warnings.warn(\n"
     ]
    }
   ],
   "source": [
    "from core.evaluation.evaluation import Evaluation  \n",
    "\n",
    "feature_names = X_train.columns  # Assumindo que os nomes das características são as colunas\n",
    "class_metrics_results, avg_metrics_results = Evaluation.evaluate_all_models(trained_models, X_train, y_train, X_test, y_test, feature_names)"
   ]
  },
  {
   "cell_type": "markdown",
   "metadata": {},
   "source": [
    "# Geração dos Relatórios"
   ]
  },
  {
   "cell_type": "code",
   "execution_count": 22,
   "metadata": {},
   "outputs": [
    {
     "data": {
      "text/plain": [
       "'../output/avg_metrics_report_20241016_1613.csv'"
      ]
     },
     "execution_count": 22,
     "metadata": {},
     "output_type": "execute_result"
    }
   ],
   "source": [
    "from core.logging.report_formatter import ReportFormatter\n",
    "from core.logging.file_manager import FileManager\n",
    "\n",
    "directory = \"../output/\"\n",
    "\n",
    "# Gerar relatório textual a partir dos resultados de avaliação\n",
    "text_report = ReportFormatter.generate_text_report(class_metrics_results, avg_metrics_results)\n",
    "\n",
    "# Imprimir ou salvar o relatório\n",
    "FileManager.save_file_with_timestamp(text_report, \"bayesian_optimization_report.txt\", directory)\n",
    "\n",
    "# Gerar DataFrame detalhado dos relatórios por classe\n",
    "class_report_df = ReportFormatter.generate_class_report_dataframe(class_metrics_results)\n",
    "\n",
    "# Gerar DataFrame resumido dos relatórios de métricas médias\n",
    "avg_metrics_report_df = ReportFormatter.generate_avg_metrics_report_dataframe(avg_metrics_results)\n",
    "\n",
    "# Salvar os DataFrames como arquivos CSV, se necessário\n",
    "FileManager.save_csv_file_with_timestamp(class_report_df, \"class_report.csv\", directory)\n",
    "FileManager.save_csv_file_with_timestamp(avg_metrics_report_df, \"avg_metrics_report.csv\", directory)\n"
   ]
  },
  {
   "cell_type": "markdown",
   "metadata": {},
   "source": []
  },
  {
   "cell_type": "markdown",
   "metadata": {},
   "source": [
    "# Salvando os modelos em arquivos para recuperação"
   ]
  },
  {
   "cell_type": "code",
   "execution_count": 23,
   "metadata": {},
   "outputs": [
    {
     "name": "stdout",
     "output_type": "stream",
     "text": [
      "Model 'Decision Tree_pca' saved at: ../models/model_Decision Tree_pca_20241016_1613.pkl\n",
      "Modelos salvos: ['../models/model_Decision Tree_pca_20241016_1613.pkl']\n"
     ]
    }
   ],
   "source": [
    "from core.logging.model_manager import ModelManager\n",
    "\n",
    "# Caminhos\n",
    "model_dir = \"../models/\"\n",
    "\n",
    "# Salvar todos os modelos\n",
    "saved_models = ModelManager.save_all_models(trained_models, model_dir)\n",
    "print(\"Modelos salvos:\", saved_models)"
   ]
  }
 ],
 "metadata": {
  "kernelspec": {
   "display_name": "projetos_ML",
   "language": "python",
   "name": "python3"
  },
  "language_info": {
   "codemirror_mode": {
    "name": "ipython",
    "version": 3
   },
   "file_extension": ".py",
   "mimetype": "text/x-python",
   "name": "python",
   "nbconvert_exporter": "python",
   "pygments_lexer": "ipython3",
   "version": "3.11.9"
  }
 },
 "nbformat": 4,
 "nbformat_minor": 2
}
